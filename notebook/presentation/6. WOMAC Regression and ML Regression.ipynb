{
 "cells": [
  {
   "metadata": {},
   "cell_type": "markdown",
   "source": "# Step 6: WOMAC Regression and ML Regression Models",
   "id": "90e864e5becfb4ca"
  },
  {
   "cell_type": "code",
   "id": "initial_id",
   "metadata": {
    "collapsed": true,
    "ExecuteTime": {
     "end_time": "2025-08-21T22:37:57.175599Z",
     "start_time": "2025-08-21T22:37:56.973743Z"
    }
   },
   "source": [
    "import pandas as pd\n",
    "from IPython.display import display, Markdown, JSON"
   ],
   "outputs": [],
   "execution_count": 1
  },
  {
   "metadata": {},
   "cell_type": "markdown",
   "source": [
    "### Objective\n",
    "- Evaluate the extent to which BML scores relate with WOMAC severity\n",
    "- Explore the predictive power that BML scores have on WOMAC scores down the line\n",
    "\n",
    "### Statistical Tests/Models\n",
    "- Linear regression (LR)\n",
    "- L1 Regularisation (Lasso)\n",
    "- XGBoost Regressor\n",
    "\n",
    "### Inputs and Outputs\n",
    "- 45 BML variables at baseline and 12-month follow-up from full dataset, ungrouped (Input)\n",
    "- WOMAC disability, pain, and stiffness scores at 12-month and 24-month follow-ups (Input)\n",
    "- R-squared and mean-squared error for each BML variable from LR and Lasso (Output)\n",
    "- R-squared and mean-squared error for XGBoost Classifier (Output)"
   ],
   "id": "b2775555c10f6b55"
  },
  {
   "metadata": {},
   "cell_type": "markdown",
   "source": [
    "## 6.1 WOMAC Linear Regression\n",
    "WOMAC multiple linear multioutput regression was conducted on left and right knees between all time periods. Only left and right knees between baseline BML variables and 12-month K-L variables are shown here as all show the same evaluators."
   ],
   "id": "254ef3cadf046fa1"
  },
  {
   "metadata": {
    "ExecuteTime": {
     "end_time": "2025-08-21T22:38:14.099073Z",
     "start_time": "2025-08-21T22:38:14.064036Z"
    }
   },
   "cell_type": "code",
   "source": [
    "from scripts.mbm.womac_oriented.womac_mbm_relationships import v00_v01_womac_left_p_matrix, v00_v01_womac_left_drop_results\n",
    "\n",
    "display(Markdown('### 6.1.1 Baseline BML variables\\' coefficients and p-values against left-knee WOMAC scores at 12-month follow-up'))\n",
    "display(v00_v01_womac_left_p_matrix.sort_values(by='Coefficient', ascending=False).head(10))\n",
    "display(Markdown('### 6.1.1 Baseline BML variables\\' evaluators against left-knee WOMAC scores at 12-month follow-up'))\n",
    "display(pd.DataFrame.from_dict(v00_v01_womac_left_drop_results, orient='index'))"
   ],
   "id": "bd18770d54223a6c",
   "outputs": [
    {
     "data": {
      "text/plain": [
       "<IPython.core.display.Markdown object>"
      ],
      "text/markdown": "### 6.1.1 Baseline BML variables' coefficients and p-values against left-knee WOMAC scores at 12-month follow-up"
     },
     "metadata": {},
     "output_type": "display_data"
    },
    {
     "data": {
      "text/plain": [
       "       Feature  Coefficient       p_value      Target\n",
       "41  V00MBMNTLC     8.376420  1.646413e-03  V01WOMADLL\n",
       "39  V00MBMNTLA     7.176150  5.602934e-01  V01WOMADLL\n",
       "0    Intercept     5.140020  1.506498e-28  V01WOMADLL\n",
       "35  V00MBMNFMP     3.907130  2.041177e-02  V01WOMADLL\n",
       "43  V00MBMNTLP     3.803725  1.966037e-01  V01WOMADLL\n",
       "10  V00MBMSTMC     2.689776  3.720856e-02  V01WOMADLL\n",
       "15   V00MBMSPL     2.297608  2.048129e-02  V01WOMADLL\n",
       "8   V00MBMSTMA     2.169071  2.953689e-01  V01WOMADLL\n",
       "32  V00MBMNFLA     2.029553  4.237201e-02  V01WOMADLL\n",
       "13  V00MBMSTLP     1.358327  9.492029e-01  V01WOMADLL"
      ],
      "text/html": [
       "<div>\n",
       "<style scoped>\n",
       "    .dataframe tbody tr th:only-of-type {\n",
       "        vertical-align: middle;\n",
       "    }\n",
       "\n",
       "    .dataframe tbody tr th {\n",
       "        vertical-align: top;\n",
       "    }\n",
       "\n",
       "    .dataframe thead th {\n",
       "        text-align: right;\n",
       "    }\n",
       "</style>\n",
       "<table border=\"1\" class=\"dataframe\">\n",
       "  <thead>\n",
       "    <tr style=\"text-align: right;\">\n",
       "      <th></th>\n",
       "      <th>Feature</th>\n",
       "      <th>Coefficient</th>\n",
       "      <th>p_value</th>\n",
       "      <th>Target</th>\n",
       "    </tr>\n",
       "  </thead>\n",
       "  <tbody>\n",
       "    <tr>\n",
       "      <th>41</th>\n",
       "      <td>V00MBMNTLC</td>\n",
       "      <td>8.376420</td>\n",
       "      <td>1.646413e-03</td>\n",
       "      <td>V01WOMADLL</td>\n",
       "    </tr>\n",
       "    <tr>\n",
       "      <th>39</th>\n",
       "      <td>V00MBMNTLA</td>\n",
       "      <td>7.176150</td>\n",
       "      <td>5.602934e-01</td>\n",
       "      <td>V01WOMADLL</td>\n",
       "    </tr>\n",
       "    <tr>\n",
       "      <th>0</th>\n",
       "      <td>Intercept</td>\n",
       "      <td>5.140020</td>\n",
       "      <td>1.506498e-28</td>\n",
       "      <td>V01WOMADLL</td>\n",
       "    </tr>\n",
       "    <tr>\n",
       "      <th>35</th>\n",
       "      <td>V00MBMNFMP</td>\n",
       "      <td>3.907130</td>\n",
       "      <td>2.041177e-02</td>\n",
       "      <td>V01WOMADLL</td>\n",
       "    </tr>\n",
       "    <tr>\n",
       "      <th>43</th>\n",
       "      <td>V00MBMNTLP</td>\n",
       "      <td>3.803725</td>\n",
       "      <td>1.966037e-01</td>\n",
       "      <td>V01WOMADLL</td>\n",
       "    </tr>\n",
       "    <tr>\n",
       "      <th>10</th>\n",
       "      <td>V00MBMSTMC</td>\n",
       "      <td>2.689776</td>\n",
       "      <td>3.720856e-02</td>\n",
       "      <td>V01WOMADLL</td>\n",
       "    </tr>\n",
       "    <tr>\n",
       "      <th>15</th>\n",
       "      <td>V00MBMSPL</td>\n",
       "      <td>2.297608</td>\n",
       "      <td>2.048129e-02</td>\n",
       "      <td>V01WOMADLL</td>\n",
       "    </tr>\n",
       "    <tr>\n",
       "      <th>8</th>\n",
       "      <td>V00MBMSTMA</td>\n",
       "      <td>2.169071</td>\n",
       "      <td>2.953689e-01</td>\n",
       "      <td>V01WOMADLL</td>\n",
       "    </tr>\n",
       "    <tr>\n",
       "      <th>32</th>\n",
       "      <td>V00MBMNFLA</td>\n",
       "      <td>2.029553</td>\n",
       "      <td>4.237201e-02</td>\n",
       "      <td>V01WOMADLL</td>\n",
       "    </tr>\n",
       "    <tr>\n",
       "      <th>13</th>\n",
       "      <td>V00MBMSTLP</td>\n",
       "      <td>1.358327</td>\n",
       "      <td>9.492029e-01</td>\n",
       "      <td>V01WOMADLL</td>\n",
       "    </tr>\n",
       "  </tbody>\n",
       "</table>\n",
       "</div>"
      ]
     },
     "metadata": {},
     "output_type": "display_data"
    },
    {
     "data": {
      "text/plain": [
       "<IPython.core.display.Markdown object>"
      ],
      "text/markdown": "### 6.1.1 Baseline BML variables' evaluators against left-knee WOMAC scores at 12-month follow-up"
     },
     "metadata": {},
     "output_type": "display_data"
    },
    {
     "data": {
      "text/plain": [
       "           V01WOMADLL  V01WOMSTFL\n",
       "R2           0.010274   -0.097519\n",
       "RMSE         9.267120    1.473497\n",
       "Intercept    5.140020    1.104567"
      ],
      "text/html": [
       "<div>\n",
       "<style scoped>\n",
       "    .dataframe tbody tr th:only-of-type {\n",
       "        vertical-align: middle;\n",
       "    }\n",
       "\n",
       "    .dataframe tbody tr th {\n",
       "        vertical-align: top;\n",
       "    }\n",
       "\n",
       "    .dataframe thead th {\n",
       "        text-align: right;\n",
       "    }\n",
       "</style>\n",
       "<table border=\"1\" class=\"dataframe\">\n",
       "  <thead>\n",
       "    <tr style=\"text-align: right;\">\n",
       "      <th></th>\n",
       "      <th>V01WOMADLL</th>\n",
       "      <th>V01WOMSTFL</th>\n",
       "    </tr>\n",
       "  </thead>\n",
       "  <tbody>\n",
       "    <tr>\n",
       "      <th>R2</th>\n",
       "      <td>0.010274</td>\n",
       "      <td>-0.097519</td>\n",
       "    </tr>\n",
       "    <tr>\n",
       "      <th>RMSE</th>\n",
       "      <td>9.267120</td>\n",
       "      <td>1.473497</td>\n",
       "    </tr>\n",
       "    <tr>\n",
       "      <th>Intercept</th>\n",
       "      <td>5.140020</td>\n",
       "      <td>1.104567</td>\n",
       "    </tr>\n",
       "  </tbody>\n",
       "</table>\n",
       "</div>"
      ]
     },
     "metadata": {},
     "output_type": "display_data"
    }
   ],
   "execution_count": 4
  },
  {
   "metadata": {
    "ExecuteTime": {
     "end_time": "2025-08-21T22:39:06.856479Z",
     "start_time": "2025-08-21T22:39:06.830745Z"
    }
   },
   "cell_type": "code",
   "source": [
    "from scripts.mbm.womac_oriented.womac_mbm_relationships import v00_v01_womac_right_p_matrix, v00_v01_womac_right_drop_results\n",
    "\n",
    "display(Markdown('### 6.1.3 Baseline BML variables\\' coefficients and p-values against right-knee WOMAC scores at 12-month follow-up'))\n",
    "display(v00_v01_womac_right_p_matrix.sort_values(by='Coefficient', ascending=False).head(10))\n",
    "display(Markdown('### 6.1.4 Baseline BML variables\\' evaluators against right-knee WOMAC scores at 12-month follow-up'))\n",
    "display(pd.DataFrame.from_dict(v00_v01_womac_right_drop_results, orient='index'))"
   ],
   "id": "f98a792ea924a61e",
   "outputs": [
    {
     "data": {
      "text/plain": [
       "<IPython.core.display.Markdown object>"
      ],
      "text/markdown": "### 6.1.3 Baseline BML variables' coefficients and p-values against right-knee WOMAC scores at 12-month follow-up"
     },
     "metadata": {},
     "output_type": "display_data"
    },
    {
     "data": {
      "text/plain": [
       "       Feature  Coefficient       p_value      Target\n",
       "39  V00MBMNTLA    24.741940  7.453921e-01  V01WOMADLR\n",
       "85  V00MBMNTLA     8.667266  2.863867e-01  V01WOMSTFR\n",
       "36  V00MBMNFLP     6.348355  9.842979e-01  V01WOMADLR\n",
       "43  V00MBMNTLP     5.410579  5.590512e-02  V01WOMADLR\n",
       "0    Intercept     4.698063  1.515918e-26  V01WOMADLR\n",
       "6   V00MBMSFLP     4.662465  5.967478e-01  V01WOMADLR\n",
       "23  V00MBMPTMA     3.629631  8.012196e-03  V01WOMADLR\n",
       "4   V00MBMSFLC     3.587747  7.557643e-01  V01WOMADLR\n",
       "7    V00MBMSSS     2.362747  3.846320e-02  V01WOMADLR\n",
       "35  V00MBMNFMP     2.285084  8.470000e-02  V01WOMADLR"
      ],
      "text/html": [
       "<div>\n",
       "<style scoped>\n",
       "    .dataframe tbody tr th:only-of-type {\n",
       "        vertical-align: middle;\n",
       "    }\n",
       "\n",
       "    .dataframe tbody tr th {\n",
       "        vertical-align: top;\n",
       "    }\n",
       "\n",
       "    .dataframe thead th {\n",
       "        text-align: right;\n",
       "    }\n",
       "</style>\n",
       "<table border=\"1\" class=\"dataframe\">\n",
       "  <thead>\n",
       "    <tr style=\"text-align: right;\">\n",
       "      <th></th>\n",
       "      <th>Feature</th>\n",
       "      <th>Coefficient</th>\n",
       "      <th>p_value</th>\n",
       "      <th>Target</th>\n",
       "    </tr>\n",
       "  </thead>\n",
       "  <tbody>\n",
       "    <tr>\n",
       "      <th>39</th>\n",
       "      <td>V00MBMNTLA</td>\n",
       "      <td>24.741940</td>\n",
       "      <td>7.453921e-01</td>\n",
       "      <td>V01WOMADLR</td>\n",
       "    </tr>\n",
       "    <tr>\n",
       "      <th>85</th>\n",
       "      <td>V00MBMNTLA</td>\n",
       "      <td>8.667266</td>\n",
       "      <td>2.863867e-01</td>\n",
       "      <td>V01WOMSTFR</td>\n",
       "    </tr>\n",
       "    <tr>\n",
       "      <th>36</th>\n",
       "      <td>V00MBMNFLP</td>\n",
       "      <td>6.348355</td>\n",
       "      <td>9.842979e-01</td>\n",
       "      <td>V01WOMADLR</td>\n",
       "    </tr>\n",
       "    <tr>\n",
       "      <th>43</th>\n",
       "      <td>V00MBMNTLP</td>\n",
       "      <td>5.410579</td>\n",
       "      <td>5.590512e-02</td>\n",
       "      <td>V01WOMADLR</td>\n",
       "    </tr>\n",
       "    <tr>\n",
       "      <th>0</th>\n",
       "      <td>Intercept</td>\n",
       "      <td>4.698063</td>\n",
       "      <td>1.515918e-26</td>\n",
       "      <td>V01WOMADLR</td>\n",
       "    </tr>\n",
       "    <tr>\n",
       "      <th>6</th>\n",
       "      <td>V00MBMSFLP</td>\n",
       "      <td>4.662465</td>\n",
       "      <td>5.967478e-01</td>\n",
       "      <td>V01WOMADLR</td>\n",
       "    </tr>\n",
       "    <tr>\n",
       "      <th>23</th>\n",
       "      <td>V00MBMPTMA</td>\n",
       "      <td>3.629631</td>\n",
       "      <td>8.012196e-03</td>\n",
       "      <td>V01WOMADLR</td>\n",
       "    </tr>\n",
       "    <tr>\n",
       "      <th>4</th>\n",
       "      <td>V00MBMSFLC</td>\n",
       "      <td>3.587747</td>\n",
       "      <td>7.557643e-01</td>\n",
       "      <td>V01WOMADLR</td>\n",
       "    </tr>\n",
       "    <tr>\n",
       "      <th>7</th>\n",
       "      <td>V00MBMSSS</td>\n",
       "      <td>2.362747</td>\n",
       "      <td>3.846320e-02</td>\n",
       "      <td>V01WOMADLR</td>\n",
       "    </tr>\n",
       "    <tr>\n",
       "      <th>35</th>\n",
       "      <td>V00MBMNFMP</td>\n",
       "      <td>2.285084</td>\n",
       "      <td>8.470000e-02</td>\n",
       "      <td>V01WOMADLR</td>\n",
       "    </tr>\n",
       "  </tbody>\n",
       "</table>\n",
       "</div>"
      ]
     },
     "metadata": {},
     "output_type": "display_data"
    },
    {
     "data": {
      "text/plain": [
       "<IPython.core.display.Markdown object>"
      ],
      "text/markdown": "### 6.1.4 Baseline BML variables' evaluators against right-knee WOMAC scores at 12-month follow-up"
     },
     "metadata": {},
     "output_type": "display_data"
    },
    {
     "data": {
      "text/plain": [
       "           V01WOMADLR  V01WOMSTFR\n",
       "R2          -0.005264   -0.062506\n",
       "RMSE        10.568931    1.668552\n",
       "Intercept    4.698063    1.166518"
      ],
      "text/html": [
       "<div>\n",
       "<style scoped>\n",
       "    .dataframe tbody tr th:only-of-type {\n",
       "        vertical-align: middle;\n",
       "    }\n",
       "\n",
       "    .dataframe tbody tr th {\n",
       "        vertical-align: top;\n",
       "    }\n",
       "\n",
       "    .dataframe thead th {\n",
       "        text-align: right;\n",
       "    }\n",
       "</style>\n",
       "<table border=\"1\" class=\"dataframe\">\n",
       "  <thead>\n",
       "    <tr style=\"text-align: right;\">\n",
       "      <th></th>\n",
       "      <th>V01WOMADLR</th>\n",
       "      <th>V01WOMSTFR</th>\n",
       "    </tr>\n",
       "  </thead>\n",
       "  <tbody>\n",
       "    <tr>\n",
       "      <th>R2</th>\n",
       "      <td>-0.005264</td>\n",
       "      <td>-0.062506</td>\n",
       "    </tr>\n",
       "    <tr>\n",
       "      <th>RMSE</th>\n",
       "      <td>10.568931</td>\n",
       "      <td>1.668552</td>\n",
       "    </tr>\n",
       "    <tr>\n",
       "      <th>Intercept</th>\n",
       "      <td>4.698063</td>\n",
       "      <td>1.166518</td>\n",
       "    </tr>\n",
       "  </tbody>\n",
       "</table>\n",
       "</div>"
      ]
     },
     "metadata": {},
     "output_type": "display_data"
    }
   ],
   "execution_count": 5
  },
  {
   "metadata": {},
   "cell_type": "markdown",
   "source": [
    "## 6.2 WOMAC L1 Regularisation\n",
    "WOMAC L1 regularisation was conducted on left and right knees between all time periods. Only left and right knees between baseline BML variables and 12-month K-L variables are shown here as all show the same evaluators."
   ],
   "id": "c2abc65841383802"
  },
  {
   "metadata": {
    "ExecuteTime": {
     "end_time": "2025-08-21T22:43:48.053729Z",
     "start_time": "2025-08-21T22:43:47.994323Z"
    }
   },
   "cell_type": "code",
   "source": [
    "from scripts.mbm.womac_oriented.womac_mbm_relationships import v00_v01_womac_left_lasso_coef_matrix, v00_v01_womac_left_drop_lasso_results\n",
    "\n",
    "display(Markdown('### 6.2.1 Baseline BML variables\\' coefficients and p-values against left-knee WOMAC scores at 12-month follow-up'))\n",
    "display(v00_v01_womac_left_lasso_coef_matrix.sort_values(by='Coefficient', ascending=False).head(10))\n",
    "display(Markdown('### 6.2.2 Baseline BML variables\\' evaluators against left-knee WOMAC scores at 12-month follow-up'))\n",
    "display(pd.DataFrame.from_dict(v00_v01_womac_left_drop_lasso_results, orient='index'))"
   ],
   "id": "6e679e951f80ad4",
   "outputs": [
    {
     "data": {
      "text/plain": [
       "<IPython.core.display.Markdown object>"
      ],
      "text/markdown": "### 6.2.1 Baseline BML variables' coefficients and p-values against left-knee WOMAC scores at 12-month follow-up"
     },
     "metadata": {},
     "output_type": "display_data"
    },
    {
     "data": {
      "text/plain": [
       "       Feature      Target  Coefficient\n",
       "0    Intercept  V01WOMADLL     6.828096\n",
       "1    Intercept  V01WOMSTFL     1.272727\n",
       "16   V00MBMSPL  V01WOMADLL     1.259452\n",
       "33  V00MBMNFLA  V01WOMADLL     0.980824\n",
       "9   V00MBMSTMA  V01WOMADLL     0.611233\n",
       "2   V00MBMSFMA  V01WOMADLL     0.468948\n",
       "42  V00MBMNTLC  V01WOMADLL     0.429271\n",
       "17  V00MBMPFMA  V01WOMADLL     0.310602\n",
       "14  V00MBMSTLP  V01WOMADLL     0.195591\n",
       "3   V00MBMSFLA  V01WOMADLL     0.159597"
      ],
      "text/html": [
       "<div>\n",
       "<style scoped>\n",
       "    .dataframe tbody tr th:only-of-type {\n",
       "        vertical-align: middle;\n",
       "    }\n",
       "\n",
       "    .dataframe tbody tr th {\n",
       "        vertical-align: top;\n",
       "    }\n",
       "\n",
       "    .dataframe thead th {\n",
       "        text-align: right;\n",
       "    }\n",
       "</style>\n",
       "<table border=\"1\" class=\"dataframe\">\n",
       "  <thead>\n",
       "    <tr style=\"text-align: right;\">\n",
       "      <th></th>\n",
       "      <th>Feature</th>\n",
       "      <th>Target</th>\n",
       "      <th>Coefficient</th>\n",
       "    </tr>\n",
       "  </thead>\n",
       "  <tbody>\n",
       "    <tr>\n",
       "      <th>0</th>\n",
       "      <td>Intercept</td>\n",
       "      <td>V01WOMADLL</td>\n",
       "      <td>6.828096</td>\n",
       "    </tr>\n",
       "    <tr>\n",
       "      <th>1</th>\n",
       "      <td>Intercept</td>\n",
       "      <td>V01WOMSTFL</td>\n",
       "      <td>1.272727</td>\n",
       "    </tr>\n",
       "    <tr>\n",
       "      <th>16</th>\n",
       "      <td>V00MBMSPL</td>\n",
       "      <td>V01WOMADLL</td>\n",
       "      <td>1.259452</td>\n",
       "    </tr>\n",
       "    <tr>\n",
       "      <th>33</th>\n",
       "      <td>V00MBMNFLA</td>\n",
       "      <td>V01WOMADLL</td>\n",
       "      <td>0.980824</td>\n",
       "    </tr>\n",
       "    <tr>\n",
       "      <th>9</th>\n",
       "      <td>V00MBMSTMA</td>\n",
       "      <td>V01WOMADLL</td>\n",
       "      <td>0.611233</td>\n",
       "    </tr>\n",
       "    <tr>\n",
       "      <th>2</th>\n",
       "      <td>V00MBMSFMA</td>\n",
       "      <td>V01WOMADLL</td>\n",
       "      <td>0.468948</td>\n",
       "    </tr>\n",
       "    <tr>\n",
       "      <th>42</th>\n",
       "      <td>V00MBMNTLC</td>\n",
       "      <td>V01WOMADLL</td>\n",
       "      <td>0.429271</td>\n",
       "    </tr>\n",
       "    <tr>\n",
       "      <th>17</th>\n",
       "      <td>V00MBMPFMA</td>\n",
       "      <td>V01WOMADLL</td>\n",
       "      <td>0.310602</td>\n",
       "    </tr>\n",
       "    <tr>\n",
       "      <th>14</th>\n",
       "      <td>V00MBMSTLP</td>\n",
       "      <td>V01WOMADLL</td>\n",
       "      <td>0.195591</td>\n",
       "    </tr>\n",
       "    <tr>\n",
       "      <th>3</th>\n",
       "      <td>V00MBMSFLA</td>\n",
       "      <td>V01WOMADLL</td>\n",
       "      <td>0.159597</td>\n",
       "    </tr>\n",
       "  </tbody>\n",
       "</table>\n",
       "</div>"
      ]
     },
     "metadata": {},
     "output_type": "display_data"
    },
    {
     "data": {
      "text/plain": [
       "<IPython.core.display.Markdown object>"
      ],
      "text/markdown": "### 6.2.2 Baseline BML variables' evaluators against left-knee WOMAC scores at 12-month follow-up"
     },
     "metadata": {},
     "output_type": "display_data"
    },
    {
     "data": {
      "text/plain": [
       "      V01WOMADLL  V01WOMSTFL\n",
       "R2      0.005425   -0.049173\n",
       "RMSE    9.289796    1.440678"
      ],
      "text/html": [
       "<div>\n",
       "<style scoped>\n",
       "    .dataframe tbody tr th:only-of-type {\n",
       "        vertical-align: middle;\n",
       "    }\n",
       "\n",
       "    .dataframe tbody tr th {\n",
       "        vertical-align: top;\n",
       "    }\n",
       "\n",
       "    .dataframe thead th {\n",
       "        text-align: right;\n",
       "    }\n",
       "</style>\n",
       "<table border=\"1\" class=\"dataframe\">\n",
       "  <thead>\n",
       "    <tr style=\"text-align: right;\">\n",
       "      <th></th>\n",
       "      <th>V01WOMADLL</th>\n",
       "      <th>V01WOMSTFL</th>\n",
       "    </tr>\n",
       "  </thead>\n",
       "  <tbody>\n",
       "    <tr>\n",
       "      <th>R2</th>\n",
       "      <td>0.005425</td>\n",
       "      <td>-0.049173</td>\n",
       "    </tr>\n",
       "    <tr>\n",
       "      <th>RMSE</th>\n",
       "      <td>9.289796</td>\n",
       "      <td>1.440678</td>\n",
       "    </tr>\n",
       "  </tbody>\n",
       "</table>\n",
       "</div>"
      ]
     },
     "metadata": {},
     "output_type": "display_data"
    }
   ],
   "execution_count": 9
  },
  {
   "metadata": {
    "ExecuteTime": {
     "end_time": "2025-08-21T23:06:40.836632Z",
     "start_time": "2025-08-21T23:06:40.824879Z"
    }
   },
   "cell_type": "code",
   "source": [
    "from scripts.mbm.womac_oriented.womac_mbm_relationships import v00_v01_womac_right_lasso_coef_matrix, v00_v01_womac_right_drop_lasso_results\n",
    "\n",
    "display(Markdown('### 6.2.3 Baseline BML variables\\' coefficients and p-values against right-knee WOMAC scores at 12-month follow-up'))\n",
    "display(v00_v01_womac_right_lasso_coef_matrix.sort_values(by='Coefficient', ascending=False).head(10))\n",
    "display(Markdown('### 6.2.4 Baseline BML variables\\' evaluators against right-knee WOMAC scores at 12-month follow-up'))\n",
    "display(pd.DataFrame.from_dict(v00_v01_womac_right_drop_lasso_results, orient='index'))"
   ],
   "id": "a693b9c943c522f9",
   "outputs": [
    {
     "data": {
      "text/plain": [
       "<IPython.core.display.Markdown object>"
      ],
      "text/markdown": "### 6.2.3 Baseline BML variables' coefficients and p-values against right-knee WOMAC scores at 12-month follow-up"
     },
     "metadata": {},
     "output_type": "display_data"
    },
    {
     "data": {
      "text/plain": [
       "       Feature      Target  Coefficient\n",
       "0    Intercept  V01WOMADLR     6.802332\n",
       "1    Intercept  V01WOMSTFR     1.488426\n",
       "3   V00MBMSFLA  V01WOMADLR     0.749821\n",
       "24  V00MBMPTMA  V01WOMADLR     0.639894\n",
       "16   V00MBMSPL  V01WOMADLR     0.350895\n",
       "36  V00MBMNFMP  V01WOMADLR     0.287337\n",
       "48  V00MBMSFLA  V01WOMSTFR     0.110864\n",
       "33  V00MBMNFLA  V01WOMADLR     0.086470\n",
       "69  V00MBMPTMA  V01WOMSTFR     0.080144\n",
       "81  V00MBMNFMP  V01WOMSTFR     0.037033"
      ],
      "text/html": [
       "<div>\n",
       "<style scoped>\n",
       "    .dataframe tbody tr th:only-of-type {\n",
       "        vertical-align: middle;\n",
       "    }\n",
       "\n",
       "    .dataframe tbody tr th {\n",
       "        vertical-align: top;\n",
       "    }\n",
       "\n",
       "    .dataframe thead th {\n",
       "        text-align: right;\n",
       "    }\n",
       "</style>\n",
       "<table border=\"1\" class=\"dataframe\">\n",
       "  <thead>\n",
       "    <tr style=\"text-align: right;\">\n",
       "      <th></th>\n",
       "      <th>Feature</th>\n",
       "      <th>Target</th>\n",
       "      <th>Coefficient</th>\n",
       "    </tr>\n",
       "  </thead>\n",
       "  <tbody>\n",
       "    <tr>\n",
       "      <th>0</th>\n",
       "      <td>Intercept</td>\n",
       "      <td>V01WOMADLR</td>\n",
       "      <td>6.802332</td>\n",
       "    </tr>\n",
       "    <tr>\n",
       "      <th>1</th>\n",
       "      <td>Intercept</td>\n",
       "      <td>V01WOMSTFR</td>\n",
       "      <td>1.488426</td>\n",
       "    </tr>\n",
       "    <tr>\n",
       "      <th>3</th>\n",
       "      <td>V00MBMSFLA</td>\n",
       "      <td>V01WOMADLR</td>\n",
       "      <td>0.749821</td>\n",
       "    </tr>\n",
       "    <tr>\n",
       "      <th>24</th>\n",
       "      <td>V00MBMPTMA</td>\n",
       "      <td>V01WOMADLR</td>\n",
       "      <td>0.639894</td>\n",
       "    </tr>\n",
       "    <tr>\n",
       "      <th>16</th>\n",
       "      <td>V00MBMSPL</td>\n",
       "      <td>V01WOMADLR</td>\n",
       "      <td>0.350895</td>\n",
       "    </tr>\n",
       "    <tr>\n",
       "      <th>36</th>\n",
       "      <td>V00MBMNFMP</td>\n",
       "      <td>V01WOMADLR</td>\n",
       "      <td>0.287337</td>\n",
       "    </tr>\n",
       "    <tr>\n",
       "      <th>48</th>\n",
       "      <td>V00MBMSFLA</td>\n",
       "      <td>V01WOMSTFR</td>\n",
       "      <td>0.110864</td>\n",
       "    </tr>\n",
       "    <tr>\n",
       "      <th>33</th>\n",
       "      <td>V00MBMNFLA</td>\n",
       "      <td>V01WOMADLR</td>\n",
       "      <td>0.086470</td>\n",
       "    </tr>\n",
       "    <tr>\n",
       "      <th>69</th>\n",
       "      <td>V00MBMPTMA</td>\n",
       "      <td>V01WOMSTFR</td>\n",
       "      <td>0.080144</td>\n",
       "    </tr>\n",
       "    <tr>\n",
       "      <th>81</th>\n",
       "      <td>V00MBMNFMP</td>\n",
       "      <td>V01WOMSTFR</td>\n",
       "      <td>0.037033</td>\n",
       "    </tr>\n",
       "  </tbody>\n",
       "</table>\n",
       "</div>"
      ]
     },
     "metadata": {},
     "output_type": "display_data"
    },
    {
     "data": {
      "text/plain": [
       "<IPython.core.display.Markdown object>"
      ],
      "text/markdown": "### 6.2.4 Baseline BML variables' evaluators against right-knee WOMAC scores at 12-month follow-up"
     },
     "metadata": {},
     "output_type": "display_data"
    },
    {
     "data": {
      "text/plain": [
       "      V01WOMADLR  V01WOMSTFR\n",
       "R2      0.035222    0.023763\n",
       "RMSE   10.353917    1.599381"
      ],
      "text/html": [
       "<div>\n",
       "<style scoped>\n",
       "    .dataframe tbody tr th:only-of-type {\n",
       "        vertical-align: middle;\n",
       "    }\n",
       "\n",
       "    .dataframe tbody tr th {\n",
       "        vertical-align: top;\n",
       "    }\n",
       "\n",
       "    .dataframe thead th {\n",
       "        text-align: right;\n",
       "    }\n",
       "</style>\n",
       "<table border=\"1\" class=\"dataframe\">\n",
       "  <thead>\n",
       "    <tr style=\"text-align: right;\">\n",
       "      <th></th>\n",
       "      <th>V01WOMADLR</th>\n",
       "      <th>V01WOMSTFR</th>\n",
       "    </tr>\n",
       "  </thead>\n",
       "  <tbody>\n",
       "    <tr>\n",
       "      <th>R2</th>\n",
       "      <td>0.035222</td>\n",
       "      <td>0.023763</td>\n",
       "    </tr>\n",
       "    <tr>\n",
       "      <th>RMSE</th>\n",
       "      <td>10.353917</td>\n",
       "      <td>1.599381</td>\n",
       "    </tr>\n",
       "  </tbody>\n",
       "</table>\n",
       "</div>"
      ]
     },
     "metadata": {},
     "output_type": "display_data"
    }
   ],
   "execution_count": 19
  },
  {
   "metadata": {},
   "cell_type": "markdown",
   "source": [
    "# 6.3 WOMAC XGBoost Regressor\n",
    "The XGBoost Regressor is based on gradient-boosting decision trees. The XGBoost regressor was tuned with moderate tree depth (6), a small learning rate (0.1), 200 estimators, and subsampling/feature sampling set to 85%."
   ],
   "id": "21f8e81601b18ec5"
  },
  {
   "metadata": {
    "ExecuteTime": {
     "end_time": "2025-08-21T23:06:52.341364Z",
     "start_time": "2025-08-21T23:06:52.315359Z"
    }
   },
   "cell_type": "code",
   "source": [
    "from scripts.mbm.womac_oriented.womac_mbm_xgBoost import v00_v01_womac_left_lasso_coef_matrix, v00_v01_moaks_womac_left_metrics\n",
    "\n",
    "display(Markdown('### 6.3.1 Baseline BML variables\\' coefficients against left-knee WOMAC scores at 12-month follow-up'))\n",
    "display(v00_v01_womac_left_lasso_coef_matrix.sort_values(by='Coefficient', ascending=False).head(10))\n",
    "display(Markdown('### 6.3.2 Baseline BML variables\\' evaluators against left-knee WOMAC scores at 12-month follow-up'))\n",
    "display(pd.DataFrame.from_dict(v00_v01_moaks_womac_left_metrics, orient='index'))"
   ],
   "id": "ff1a273c37acea98",
   "outputs": [
    {
     "data": {
      "text/plain": [
       "<IPython.core.display.Markdown object>"
      ],
      "text/markdown": "### 6.3.1 Baseline BML variables' coefficients against left-knee WOMAC scores at 12-month follow-up"
     },
     "metadata": {},
     "output_type": "display_data"
    },
    {
     "data": {
      "text/plain": [
       "       Feature      Target  Coefficient\n",
       "0    Intercept  V01WOMADLL     6.828096\n",
       "1    Intercept  V01WOMSTFL     1.272727\n",
       "16   V00MBMSPL  V01WOMADLL     1.259452\n",
       "33  V00MBMNFLA  V01WOMADLL     0.980824\n",
       "9   V00MBMSTMA  V01WOMADLL     0.611233\n",
       "2   V00MBMSFMA  V01WOMADLL     0.468948\n",
       "42  V00MBMNTLC  V01WOMADLL     0.429271\n",
       "17  V00MBMPFMA  V01WOMADLL     0.310602\n",
       "14  V00MBMSTLP  V01WOMADLL     0.195591\n",
       "3   V00MBMSFLA  V01WOMADLL     0.159597"
      ],
      "text/html": [
       "<div>\n",
       "<style scoped>\n",
       "    .dataframe tbody tr th:only-of-type {\n",
       "        vertical-align: middle;\n",
       "    }\n",
       "\n",
       "    .dataframe tbody tr th {\n",
       "        vertical-align: top;\n",
       "    }\n",
       "\n",
       "    .dataframe thead th {\n",
       "        text-align: right;\n",
       "    }\n",
       "</style>\n",
       "<table border=\"1\" class=\"dataframe\">\n",
       "  <thead>\n",
       "    <tr style=\"text-align: right;\">\n",
       "      <th></th>\n",
       "      <th>Feature</th>\n",
       "      <th>Target</th>\n",
       "      <th>Coefficient</th>\n",
       "    </tr>\n",
       "  </thead>\n",
       "  <tbody>\n",
       "    <tr>\n",
       "      <th>0</th>\n",
       "      <td>Intercept</td>\n",
       "      <td>V01WOMADLL</td>\n",
       "      <td>6.828096</td>\n",
       "    </tr>\n",
       "    <tr>\n",
       "      <th>1</th>\n",
       "      <td>Intercept</td>\n",
       "      <td>V01WOMSTFL</td>\n",
       "      <td>1.272727</td>\n",
       "    </tr>\n",
       "    <tr>\n",
       "      <th>16</th>\n",
       "      <td>V00MBMSPL</td>\n",
       "      <td>V01WOMADLL</td>\n",
       "      <td>1.259452</td>\n",
       "    </tr>\n",
       "    <tr>\n",
       "      <th>33</th>\n",
       "      <td>V00MBMNFLA</td>\n",
       "      <td>V01WOMADLL</td>\n",
       "      <td>0.980824</td>\n",
       "    </tr>\n",
       "    <tr>\n",
       "      <th>9</th>\n",
       "      <td>V00MBMSTMA</td>\n",
       "      <td>V01WOMADLL</td>\n",
       "      <td>0.611233</td>\n",
       "    </tr>\n",
       "    <tr>\n",
       "      <th>2</th>\n",
       "      <td>V00MBMSFMA</td>\n",
       "      <td>V01WOMADLL</td>\n",
       "      <td>0.468948</td>\n",
       "    </tr>\n",
       "    <tr>\n",
       "      <th>42</th>\n",
       "      <td>V00MBMNTLC</td>\n",
       "      <td>V01WOMADLL</td>\n",
       "      <td>0.429271</td>\n",
       "    </tr>\n",
       "    <tr>\n",
       "      <th>17</th>\n",
       "      <td>V00MBMPFMA</td>\n",
       "      <td>V01WOMADLL</td>\n",
       "      <td>0.310602</td>\n",
       "    </tr>\n",
       "    <tr>\n",
       "      <th>14</th>\n",
       "      <td>V00MBMSTLP</td>\n",
       "      <td>V01WOMADLL</td>\n",
       "      <td>0.195591</td>\n",
       "    </tr>\n",
       "    <tr>\n",
       "      <th>3</th>\n",
       "      <td>V00MBMSFLA</td>\n",
       "      <td>V01WOMADLL</td>\n",
       "      <td>0.159597</td>\n",
       "    </tr>\n",
       "  </tbody>\n",
       "</table>\n",
       "</div>"
      ]
     },
     "metadata": {},
     "output_type": "display_data"
    },
    {
     "data": {
      "text/plain": [
       "<IPython.core.display.Markdown object>"
      ],
      "text/markdown": "### 6.3.2 Baseline BML variables' evaluators against left-knee WOMAC scores at 12-month follow-up"
     },
     "metadata": {},
     "output_type": "display_data"
    },
    {
     "data": {
      "text/plain": [
       "                  r2         mse       mae\n",
       "V01WOMADLL -0.288167  111.775538  7.550649\n",
       "V01WOMSTFL -0.429905    2.828747  1.358085"
      ],
      "text/html": [
       "<div>\n",
       "<style scoped>\n",
       "    .dataframe tbody tr th:only-of-type {\n",
       "        vertical-align: middle;\n",
       "    }\n",
       "\n",
       "    .dataframe tbody tr th {\n",
       "        vertical-align: top;\n",
       "    }\n",
       "\n",
       "    .dataframe thead th {\n",
       "        text-align: right;\n",
       "    }\n",
       "</style>\n",
       "<table border=\"1\" class=\"dataframe\">\n",
       "  <thead>\n",
       "    <tr style=\"text-align: right;\">\n",
       "      <th></th>\n",
       "      <th>r2</th>\n",
       "      <th>mse</th>\n",
       "      <th>mae</th>\n",
       "    </tr>\n",
       "  </thead>\n",
       "  <tbody>\n",
       "    <tr>\n",
       "      <th>V01WOMADLL</th>\n",
       "      <td>-0.288167</td>\n",
       "      <td>111.775538</td>\n",
       "      <td>7.550649</td>\n",
       "    </tr>\n",
       "    <tr>\n",
       "      <th>V01WOMSTFL</th>\n",
       "      <td>-0.429905</td>\n",
       "      <td>2.828747</td>\n",
       "      <td>1.358085</td>\n",
       "    </tr>\n",
       "  </tbody>\n",
       "</table>\n",
       "</div>"
      ]
     },
     "metadata": {},
     "output_type": "display_data"
    }
   ],
   "execution_count": 20
  },
  {
   "metadata": {
    "ExecuteTime": {
     "end_time": "2025-08-21T23:06:34.748578Z",
     "start_time": "2025-08-21T23:06:34.673085Z"
    }
   },
   "cell_type": "code",
   "source": [
    "from scripts.mbm.womac_oriented.womac_mbm_xgBoost import v00_v01_womac_right_lasso_coef_matrix, v00_v01_moaks_womac_right_metrics\n",
    "\n",
    "display(Markdown('### 6.3.3 Baseline BML variables\\' coefficients against right-knee WOMAC scores at 12-month follow-up'))\n",
    "display(v00_v01_womac_right_lasso_coef_matrix.sort_values(by='Coefficient', ascending=False).head(10))\n",
    "display(Markdown('### 6.3.4 Baseline BML variables\\' evaluators against right-knee WOMAC scores at 12-month follow-up'))\n",
    "display(pd.DataFrame.from_dict(v00_v01_moaks_womac_right_metrics, orient='index'))"
   ],
   "id": "c314ca33b62685e",
   "outputs": [
    {
     "data": {
      "text/plain": [
       "<IPython.core.display.Markdown object>"
      ],
      "text/markdown": "### 6.3.3 Baseline BML variables' coefficients against right-knee WOMAC scores at 12-month follow-up"
     },
     "metadata": {},
     "output_type": "display_data"
    },
    {
     "data": {
      "text/plain": [
       "       Feature      Target  Coefficient\n",
       "0    Intercept  V01WOMADLR     6.802332\n",
       "1    Intercept  V01WOMSTFR     1.488426\n",
       "3   V00MBMSFLA  V01WOMADLR     0.749821\n",
       "24  V00MBMPTMA  V01WOMADLR     0.639894\n",
       "16   V00MBMSPL  V01WOMADLR     0.350895\n",
       "36  V00MBMNFMP  V01WOMADLR     0.287337\n",
       "48  V00MBMSFLA  V01WOMSTFR     0.110864\n",
       "33  V00MBMNFLA  V01WOMADLR     0.086470\n",
       "69  V00MBMPTMA  V01WOMSTFR     0.080144\n",
       "81  V00MBMNFMP  V01WOMSTFR     0.037033"
      ],
      "text/html": [
       "<div>\n",
       "<style scoped>\n",
       "    .dataframe tbody tr th:only-of-type {\n",
       "        vertical-align: middle;\n",
       "    }\n",
       "\n",
       "    .dataframe tbody tr th {\n",
       "        vertical-align: top;\n",
       "    }\n",
       "\n",
       "    .dataframe thead th {\n",
       "        text-align: right;\n",
       "    }\n",
       "</style>\n",
       "<table border=\"1\" class=\"dataframe\">\n",
       "  <thead>\n",
       "    <tr style=\"text-align: right;\">\n",
       "      <th></th>\n",
       "      <th>Feature</th>\n",
       "      <th>Target</th>\n",
       "      <th>Coefficient</th>\n",
       "    </tr>\n",
       "  </thead>\n",
       "  <tbody>\n",
       "    <tr>\n",
       "      <th>0</th>\n",
       "      <td>Intercept</td>\n",
       "      <td>V01WOMADLR</td>\n",
       "      <td>6.802332</td>\n",
       "    </tr>\n",
       "    <tr>\n",
       "      <th>1</th>\n",
       "      <td>Intercept</td>\n",
       "      <td>V01WOMSTFR</td>\n",
       "      <td>1.488426</td>\n",
       "    </tr>\n",
       "    <tr>\n",
       "      <th>3</th>\n",
       "      <td>V00MBMSFLA</td>\n",
       "      <td>V01WOMADLR</td>\n",
       "      <td>0.749821</td>\n",
       "    </tr>\n",
       "    <tr>\n",
       "      <th>24</th>\n",
       "      <td>V00MBMPTMA</td>\n",
       "      <td>V01WOMADLR</td>\n",
       "      <td>0.639894</td>\n",
       "    </tr>\n",
       "    <tr>\n",
       "      <th>16</th>\n",
       "      <td>V00MBMSPL</td>\n",
       "      <td>V01WOMADLR</td>\n",
       "      <td>0.350895</td>\n",
       "    </tr>\n",
       "    <tr>\n",
       "      <th>36</th>\n",
       "      <td>V00MBMNFMP</td>\n",
       "      <td>V01WOMADLR</td>\n",
       "      <td>0.287337</td>\n",
       "    </tr>\n",
       "    <tr>\n",
       "      <th>48</th>\n",
       "      <td>V00MBMSFLA</td>\n",
       "      <td>V01WOMSTFR</td>\n",
       "      <td>0.110864</td>\n",
       "    </tr>\n",
       "    <tr>\n",
       "      <th>33</th>\n",
       "      <td>V00MBMNFLA</td>\n",
       "      <td>V01WOMADLR</td>\n",
       "      <td>0.086470</td>\n",
       "    </tr>\n",
       "    <tr>\n",
       "      <th>69</th>\n",
       "      <td>V00MBMPTMA</td>\n",
       "      <td>V01WOMSTFR</td>\n",
       "      <td>0.080144</td>\n",
       "    </tr>\n",
       "    <tr>\n",
       "      <th>81</th>\n",
       "      <td>V00MBMNFMP</td>\n",
       "      <td>V01WOMSTFR</td>\n",
       "      <td>0.037033</td>\n",
       "    </tr>\n",
       "  </tbody>\n",
       "</table>\n",
       "</div>"
      ]
     },
     "metadata": {},
     "output_type": "display_data"
    },
    {
     "data": {
      "text/plain": [
       "<IPython.core.display.Markdown object>"
      ],
      "text/markdown": "### 6.3.4 Baseline BML variables' evaluators against right-knee WOMAC scores at 12-month follow-up"
     },
     "metadata": {},
     "output_type": "display_data"
    },
    {
     "data": {
      "text/plain": [
       "                  r2         mse       mae\n",
       "V01WOMADLR  0.002039  110.890744  7.102927\n",
       "V01WOMSTFR -0.095223    2.869797  1.338437"
      ],
      "text/html": [
       "<div>\n",
       "<style scoped>\n",
       "    .dataframe tbody tr th:only-of-type {\n",
       "        vertical-align: middle;\n",
       "    }\n",
       "\n",
       "    .dataframe tbody tr th {\n",
       "        vertical-align: top;\n",
       "    }\n",
       "\n",
       "    .dataframe thead th {\n",
       "        text-align: right;\n",
       "    }\n",
       "</style>\n",
       "<table border=\"1\" class=\"dataframe\">\n",
       "  <thead>\n",
       "    <tr style=\"text-align: right;\">\n",
       "      <th></th>\n",
       "      <th>r2</th>\n",
       "      <th>mse</th>\n",
       "      <th>mae</th>\n",
       "    </tr>\n",
       "  </thead>\n",
       "  <tbody>\n",
       "    <tr>\n",
       "      <th>V01WOMADLR</th>\n",
       "      <td>0.002039</td>\n",
       "      <td>110.890744</td>\n",
       "      <td>7.102927</td>\n",
       "    </tr>\n",
       "    <tr>\n",
       "      <th>V01WOMSTFR</th>\n",
       "      <td>-0.095223</td>\n",
       "      <td>2.869797</td>\n",
       "      <td>1.338437</td>\n",
       "    </tr>\n",
       "  </tbody>\n",
       "</table>\n",
       "</div>"
      ]
     },
     "metadata": {},
     "output_type": "display_data"
    }
   ],
   "execution_count": 18
  },
  {
   "metadata": {},
   "cell_type": "markdown",
   "source": [
    "## Results\n",
    "BML scores and WOMAC scores seem to have no predictive relationship."
   ],
   "id": "45d8baab9ed3ac70"
  }
 ],
 "metadata": {
  "kernelspec": {
   "display_name": "Python 3",
   "language": "python",
   "name": "python3"
  },
  "language_info": {
   "codemirror_mode": {
    "name": "ipython",
    "version": 2
   },
   "file_extension": ".py",
   "mimetype": "text/x-python",
   "name": "python",
   "nbconvert_exporter": "python",
   "pygments_lexer": "ipython2",
   "version": "2.7.6"
  }
 },
 "nbformat": 4,
 "nbformat_minor": 5
}
