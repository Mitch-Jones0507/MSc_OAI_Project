{
 "cells": [
  {
   "metadata": {},
   "cell_type": "markdown",
   "source": "# Step 5: K-L Regression and ML Classification Models",
   "id": "c520a2c5d18c0d26"
  },
  {
   "metadata": {
    "ExecuteTime": {
     "end_time": "2025-08-21T22:57:14.114238Z",
     "start_time": "2025-08-21T22:57:13.907157Z"
    }
   },
   "cell_type": "code",
   "source": [
    "import pandas as pd\n",
    "from IPython.display import display, Markdown, JSON\n",
    "from collections import Counter"
   ],
   "id": "14b0421031c4d670",
   "outputs": [],
   "execution_count": 1
  },
  {
   "metadata": {},
   "cell_type": "markdown",
   "source": [
    "### Objective\n",
    "- Evaluate the extent to which BML scores relate with K-L severity\n",
    "- Explore the predictive power that BML scores have on K-L scores down the line\n",
    "\n",
    "### Statistical Tests/Models\n",
    "- Linear regression (LR)\n",
    "- Partial Least Squares (PLS)\n",
    "- L1 Regularisation (Lasso)\n",
    "- Multinomial Logistic Regression (logR)\n",
    "- HistGradientBoost Classifier (HGBC)\n",
    "- XGBoost Classifier\n",
    "\n",
    "### Inputs and Outputs\n",
    "- 45 BML variables at baseline and 12-month follow-up from full dataset, ungrouped (Input)\n",
    "- K-L score at 12-month and 24-month follow-ups (Input)\n",
    "- Coefficients and p-values for each BML variable from LR, PLS, Lasso (Output)\n",
    "- Top-5 impactful BML variables per time point (Output)\n",
    "- Confusion matrices for model predictions (Output)\n",
    "- AUC-ROC curves for XGBoost Classifier (Output)"
   ],
   "id": "34b7df3de68f3799"
  },
  {
   "metadata": {},
   "cell_type": "markdown",
   "source": "## 5.1 K-L Linear Regression",
   "id": "bad63590b40fe770"
  },
  {
   "metadata": {
    "ExecuteTime": {
     "end_time": "2025-08-21T22:57:24.265350Z",
     "start_time": "2025-08-21T22:57:14.132396Z"
    }
   },
   "cell_type": "code",
   "source": [
    "from scripts.mbm.kl_oriented.kl_mbm_relationships import v00_v01_kl_drop_coef_df, v00_v01_kl_drop_results\n",
    "\n",
    "display(Markdown('### 5.1.1 Baseline BML variables\\' coefficients and p-values against K-L score at 12-month follow-up'))\n",
    "display(v00_v01_kl_drop_coef_df.sort_values(by='Coefficient', ascending=False).head(10))\n",
    "display(Markdown('### 5.1.2 Baseline BML variables\\' evaulators against K-L score at 12-month follow-up'))\n",
    "display(v00_v01_kl_drop_results)"
   ],
   "id": "ceb64c3e50e4b340",
   "outputs": [
    {
     "name": "stdout",
     "output_type": "stream",
     "text": [
      "Warning: column count mismatch (101 + 255 != 779)\n",
      "\n"
     ]
    },
    {
     "data": {
      "text/plain": [
       "<IPython.core.display.Markdown object>"
      ],
      "text/markdown": "### 5.1.1 Baseline BML variables' coefficients and p-values against K-L score at 12-month follow-up"
     },
     "metadata": {},
     "output_type": "display_data"
    },
    {
     "data": {
      "text/plain": [
       "       Feature  Coefficient        p_value\n",
       "0   V00MBMNFLC     0.693356   1.939781e-02\n",
       "1    Intercept     0.684502  5.198521e-157\n",
       "2   V00MBMSFLC     0.438083   1.075904e-03\n",
       "3   V00MBMSFMC     0.324357   5.336657e-06\n",
       "4   V00MBMPTLA     0.310372   4.513839e-01\n",
       "5   V00MBMPTMC     0.261374   7.443128e-08\n",
       "6   V00MBMNTLP     0.253990   2.774733e-01\n",
       "7   V00MBMNTMA     0.241656   9.654064e-02\n",
       "9   V00MBMNTMP     0.228223   2.766297e-01\n",
       "10   V00MBMNSS     0.216739   4.818014e-05"
      ],
      "text/html": [
       "<div>\n",
       "<style scoped>\n",
       "    .dataframe tbody tr th:only-of-type {\n",
       "        vertical-align: middle;\n",
       "    }\n",
       "\n",
       "    .dataframe tbody tr th {\n",
       "        vertical-align: top;\n",
       "    }\n",
       "\n",
       "    .dataframe thead th {\n",
       "        text-align: right;\n",
       "    }\n",
       "</style>\n",
       "<table border=\"1\" class=\"dataframe\">\n",
       "  <thead>\n",
       "    <tr style=\"text-align: right;\">\n",
       "      <th></th>\n",
       "      <th>Feature</th>\n",
       "      <th>Coefficient</th>\n",
       "      <th>p_value</th>\n",
       "    </tr>\n",
       "  </thead>\n",
       "  <tbody>\n",
       "    <tr>\n",
       "      <th>0</th>\n",
       "      <td>V00MBMNFLC</td>\n",
       "      <td>0.693356</td>\n",
       "      <td>1.939781e-02</td>\n",
       "    </tr>\n",
       "    <tr>\n",
       "      <th>1</th>\n",
       "      <td>Intercept</td>\n",
       "      <td>0.684502</td>\n",
       "      <td>5.198521e-157</td>\n",
       "    </tr>\n",
       "    <tr>\n",
       "      <th>2</th>\n",
       "      <td>V00MBMSFLC</td>\n",
       "      <td>0.438083</td>\n",
       "      <td>1.075904e-03</td>\n",
       "    </tr>\n",
       "    <tr>\n",
       "      <th>3</th>\n",
       "      <td>V00MBMSFMC</td>\n",
       "      <td>0.324357</td>\n",
       "      <td>5.336657e-06</td>\n",
       "    </tr>\n",
       "    <tr>\n",
       "      <th>4</th>\n",
       "      <td>V00MBMPTLA</td>\n",
       "      <td>0.310372</td>\n",
       "      <td>4.513839e-01</td>\n",
       "    </tr>\n",
       "    <tr>\n",
       "      <th>5</th>\n",
       "      <td>V00MBMPTMC</td>\n",
       "      <td>0.261374</td>\n",
       "      <td>7.443128e-08</td>\n",
       "    </tr>\n",
       "    <tr>\n",
       "      <th>6</th>\n",
       "      <td>V00MBMNTLP</td>\n",
       "      <td>0.253990</td>\n",
       "      <td>2.774733e-01</td>\n",
       "    </tr>\n",
       "    <tr>\n",
       "      <th>7</th>\n",
       "      <td>V00MBMNTMA</td>\n",
       "      <td>0.241656</td>\n",
       "      <td>9.654064e-02</td>\n",
       "    </tr>\n",
       "    <tr>\n",
       "      <th>9</th>\n",
       "      <td>V00MBMNTMP</td>\n",
       "      <td>0.228223</td>\n",
       "      <td>2.766297e-01</td>\n",
       "    </tr>\n",
       "    <tr>\n",
       "      <th>10</th>\n",
       "      <td>V00MBMNSS</td>\n",
       "      <td>0.216739</td>\n",
       "      <td>4.818014e-05</td>\n",
       "    </tr>\n",
       "  </tbody>\n",
       "</table>\n",
       "</div>"
      ]
     },
     "metadata": {},
     "output_type": "display_data"
    },
    {
     "data": {
      "text/plain": [
       "<IPython.core.display.Markdown object>"
      ],
      "text/markdown": "### 5.1.2 Baseline BML variables' evaulators against K-L score at 12-month follow-up"
     },
     "metadata": {},
     "output_type": "display_data"
    },
    {
     "data": {
      "text/plain": [
       "              Value\n",
       "R2         0.495054\n",
       "RMSE       0.846109\n",
       "Intercept  0.684502"
      ],
      "text/html": [
       "<div>\n",
       "<style scoped>\n",
       "    .dataframe tbody tr th:only-of-type {\n",
       "        vertical-align: middle;\n",
       "    }\n",
       "\n",
       "    .dataframe tbody tr th {\n",
       "        vertical-align: top;\n",
       "    }\n",
       "\n",
       "    .dataframe thead th {\n",
       "        text-align: right;\n",
       "    }\n",
       "</style>\n",
       "<table border=\"1\" class=\"dataframe\">\n",
       "  <thead>\n",
       "    <tr style=\"text-align: right;\">\n",
       "      <th></th>\n",
       "      <th>Value</th>\n",
       "    </tr>\n",
       "  </thead>\n",
       "  <tbody>\n",
       "    <tr>\n",
       "      <th>R2</th>\n",
       "      <td>0.495054</td>\n",
       "    </tr>\n",
       "    <tr>\n",
       "      <th>RMSE</th>\n",
       "      <td>0.846109</td>\n",
       "    </tr>\n",
       "    <tr>\n",
       "      <th>Intercept</th>\n",
       "      <td>0.684502</td>\n",
       "    </tr>\n",
       "  </tbody>\n",
       "</table>\n",
       "</div>"
      ]
     },
     "metadata": {},
     "output_type": "display_data"
    }
   ],
   "execution_count": 2
  },
  {
   "metadata": {
    "ExecuteTime": {
     "end_time": "2025-08-21T22:57:24.389882Z",
     "start_time": "2025-08-21T22:57:24.378345Z"
    }
   },
   "cell_type": "code",
   "source": [
    "from scripts.mbm.kl_oriented.kl_mbm_relationships import v00_v03_kl_drop_coef_df, v00_v03_kl_drop_results\n",
    "\n",
    "display(Markdown('### 5.1.3 Baseline BML variables\\' coefficients and p-values against K-L score at 24-month follow-up'))\n",
    "display(v00_v03_kl_drop_coef_df.sort_values(by='Coefficient', ascending=False).head(10))\n",
    "display(Markdown('### 5.1.4 Baseline BML variables\\' evaulators against K-L score at 24-month follow-up'))\n",
    "display(v00_v03_kl_drop_results)"
   ],
   "id": "9ba49cb31ea936e5",
   "outputs": [
    {
     "data": {
      "text/plain": [
       "<IPython.core.display.Markdown object>"
      ],
      "text/markdown": "### 5.1.3 Baseline BML variables' coefficients and p-values against K-L score at 24-month follow-up"
     },
     "metadata": {},
     "output_type": "display_data"
    },
    {
     "data": {
      "text/plain": [
       "       Feature  Coefficient        p_value\n",
       "0    Intercept     0.792967  1.067750e-180\n",
       "1   V00MBMNFLC     0.593929   7.505313e-02\n",
       "2   V00MBMNTMA     0.465350   2.144379e-02\n",
       "3   V00MBMSFLC     0.401643   4.166778e-03\n",
       "4   V00MBMSFMC     0.304253   2.267976e-04\n",
       "5   V00MBMPTMC     0.279530   7.251611e-08\n",
       "6   V00MBMNTLC     0.254015   2.330686e-01\n",
       "8   V00MBMNTMP     0.235422   3.147666e-01\n",
       "10  V00MBMPFLP     0.215931   5.598832e-02\n",
       "11  V00MBMNFLA     0.199898   3.313782e-04"
      ],
      "text/html": [
       "<div>\n",
       "<style scoped>\n",
       "    .dataframe tbody tr th:only-of-type {\n",
       "        vertical-align: middle;\n",
       "    }\n",
       "\n",
       "    .dataframe tbody tr th {\n",
       "        vertical-align: top;\n",
       "    }\n",
       "\n",
       "    .dataframe thead th {\n",
       "        text-align: right;\n",
       "    }\n",
       "</style>\n",
       "<table border=\"1\" class=\"dataframe\">\n",
       "  <thead>\n",
       "    <tr style=\"text-align: right;\">\n",
       "      <th></th>\n",
       "      <th>Feature</th>\n",
       "      <th>Coefficient</th>\n",
       "      <th>p_value</th>\n",
       "    </tr>\n",
       "  </thead>\n",
       "  <tbody>\n",
       "    <tr>\n",
       "      <th>0</th>\n",
       "      <td>Intercept</td>\n",
       "      <td>0.792967</td>\n",
       "      <td>1.067750e-180</td>\n",
       "    </tr>\n",
       "    <tr>\n",
       "      <th>1</th>\n",
       "      <td>V00MBMNFLC</td>\n",
       "      <td>0.593929</td>\n",
       "      <td>7.505313e-02</td>\n",
       "    </tr>\n",
       "    <tr>\n",
       "      <th>2</th>\n",
       "      <td>V00MBMNTMA</td>\n",
       "      <td>0.465350</td>\n",
       "      <td>2.144379e-02</td>\n",
       "    </tr>\n",
       "    <tr>\n",
       "      <th>3</th>\n",
       "      <td>V00MBMSFLC</td>\n",
       "      <td>0.401643</td>\n",
       "      <td>4.166778e-03</td>\n",
       "    </tr>\n",
       "    <tr>\n",
       "      <th>4</th>\n",
       "      <td>V00MBMSFMC</td>\n",
       "      <td>0.304253</td>\n",
       "      <td>2.267976e-04</td>\n",
       "    </tr>\n",
       "    <tr>\n",
       "      <th>5</th>\n",
       "      <td>V00MBMPTMC</td>\n",
       "      <td>0.279530</td>\n",
       "      <td>7.251611e-08</td>\n",
       "    </tr>\n",
       "    <tr>\n",
       "      <th>6</th>\n",
       "      <td>V00MBMNTLC</td>\n",
       "      <td>0.254015</td>\n",
       "      <td>2.330686e-01</td>\n",
       "    </tr>\n",
       "    <tr>\n",
       "      <th>8</th>\n",
       "      <td>V00MBMNTMP</td>\n",
       "      <td>0.235422</td>\n",
       "      <td>3.147666e-01</td>\n",
       "    </tr>\n",
       "    <tr>\n",
       "      <th>10</th>\n",
       "      <td>V00MBMPFLP</td>\n",
       "      <td>0.215931</td>\n",
       "      <td>5.598832e-02</td>\n",
       "    </tr>\n",
       "    <tr>\n",
       "      <th>11</th>\n",
       "      <td>V00MBMNFLA</td>\n",
       "      <td>0.199898</td>\n",
       "      <td>3.313782e-04</td>\n",
       "    </tr>\n",
       "  </tbody>\n",
       "</table>\n",
       "</div>"
      ]
     },
     "metadata": {},
     "output_type": "display_data"
    },
    {
     "data": {
      "text/plain": [
       "<IPython.core.display.Markdown object>"
      ],
      "text/markdown": "### 5.1.4 Baseline BML variables' evaulators against K-L score at 24-month follow-up"
     },
     "metadata": {},
     "output_type": "display_data"
    },
    {
     "data": {
      "text/plain": [
       "              Value\n",
       "R2         0.463850\n",
       "RMSE       0.903957\n",
       "Intercept  0.792967"
      ],
      "text/html": [
       "<div>\n",
       "<style scoped>\n",
       "    .dataframe tbody tr th:only-of-type {\n",
       "        vertical-align: middle;\n",
       "    }\n",
       "\n",
       "    .dataframe tbody tr th {\n",
       "        vertical-align: top;\n",
       "    }\n",
       "\n",
       "    .dataframe thead th {\n",
       "        text-align: right;\n",
       "    }\n",
       "</style>\n",
       "<table border=\"1\" class=\"dataframe\">\n",
       "  <thead>\n",
       "    <tr style=\"text-align: right;\">\n",
       "      <th></th>\n",
       "      <th>Value</th>\n",
       "    </tr>\n",
       "  </thead>\n",
       "  <tbody>\n",
       "    <tr>\n",
       "      <th>R2</th>\n",
       "      <td>0.463850</td>\n",
       "    </tr>\n",
       "    <tr>\n",
       "      <th>RMSE</th>\n",
       "      <td>0.903957</td>\n",
       "    </tr>\n",
       "    <tr>\n",
       "      <th>Intercept</th>\n",
       "      <td>0.792967</td>\n",
       "    </tr>\n",
       "  </tbody>\n",
       "</table>\n",
       "</div>"
      ]
     },
     "metadata": {},
     "output_type": "display_data"
    }
   ],
   "execution_count": 3
  },
  {
   "metadata": {
    "ExecuteTime": {
     "end_time": "2025-08-21T22:57:24.521670Z",
     "start_time": "2025-08-21T22:57:24.511191Z"
    }
   },
   "cell_type": "code",
   "source": [
    "from scripts.mbm.kl_oriented.kl_mbm_relationships import v01_v03_kl_drop_coef_df, v01_v03_kl_drop_results\n",
    "\n",
    "display(Markdown('### 5.1.5 12-month follow-up BML variables\\' coefficients and p-values against K-L score at 24-month follow-up'))\n",
    "display(v01_v03_kl_drop_coef_df.sort_values(by='Coefficient', ascending=False).head(10))\n",
    "display(Markdown('### 5.1.6 12-month follow-up BML variables\\' evaulators against K-L score at 24-month follow-up'))\n",
    "display(v01_v03_kl_drop_results)"
   ],
   "id": "43afb16fbd8e1cd7",
   "outputs": [
    {
     "data": {
      "text/plain": [
       "<IPython.core.display.Markdown object>"
      ],
      "text/markdown": "### 5.1.5 12-month follow-up BML variables' coefficients and p-values against K-L score at 24-month follow-up"
     },
     "metadata": {},
     "output_type": "display_data"
    },
    {
     "data": {
      "text/plain": [
       "       Feature  Coefficient        p_value\n",
       "0    Intercept     0.762738  3.296100e-171\n",
       "1   V01MBMNTMP     0.515667   5.204514e-02\n",
       "2   V01MBMSTLA     0.489306   3.087092e-02\n",
       "3   V01MBMNFLC     0.467998   2.425800e-02\n",
       "4   V01MBMNTMA     0.398415   7.029093e-02\n",
       "5   V01MBMSFLC     0.341872   7.249253e-02\n",
       "7   V01MBMNTMC     0.253943   1.511188e-02\n",
       "9   V01MBMNFLA     0.233169   6.929011e-07\n",
       "10  V01MBMNFMP     0.227333   2.407375e-01\n",
       "11  V01MBMNFMA     0.220474   2.298041e-01"
      ],
      "text/html": [
       "<div>\n",
       "<style scoped>\n",
       "    .dataframe tbody tr th:only-of-type {\n",
       "        vertical-align: middle;\n",
       "    }\n",
       "\n",
       "    .dataframe tbody tr th {\n",
       "        vertical-align: top;\n",
       "    }\n",
       "\n",
       "    .dataframe thead th {\n",
       "        text-align: right;\n",
       "    }\n",
       "</style>\n",
       "<table border=\"1\" class=\"dataframe\">\n",
       "  <thead>\n",
       "    <tr style=\"text-align: right;\">\n",
       "      <th></th>\n",
       "      <th>Feature</th>\n",
       "      <th>Coefficient</th>\n",
       "      <th>p_value</th>\n",
       "    </tr>\n",
       "  </thead>\n",
       "  <tbody>\n",
       "    <tr>\n",
       "      <th>0</th>\n",
       "      <td>Intercept</td>\n",
       "      <td>0.762738</td>\n",
       "      <td>3.296100e-171</td>\n",
       "    </tr>\n",
       "    <tr>\n",
       "      <th>1</th>\n",
       "      <td>V01MBMNTMP</td>\n",
       "      <td>0.515667</td>\n",
       "      <td>5.204514e-02</td>\n",
       "    </tr>\n",
       "    <tr>\n",
       "      <th>2</th>\n",
       "      <td>V01MBMSTLA</td>\n",
       "      <td>0.489306</td>\n",
       "      <td>3.087092e-02</td>\n",
       "    </tr>\n",
       "    <tr>\n",
       "      <th>3</th>\n",
       "      <td>V01MBMNFLC</td>\n",
       "      <td>0.467998</td>\n",
       "      <td>2.425800e-02</td>\n",
       "    </tr>\n",
       "    <tr>\n",
       "      <th>4</th>\n",
       "      <td>V01MBMNTMA</td>\n",
       "      <td>0.398415</td>\n",
       "      <td>7.029093e-02</td>\n",
       "    </tr>\n",
       "    <tr>\n",
       "      <th>5</th>\n",
       "      <td>V01MBMSFLC</td>\n",
       "      <td>0.341872</td>\n",
       "      <td>7.249253e-02</td>\n",
       "    </tr>\n",
       "    <tr>\n",
       "      <th>7</th>\n",
       "      <td>V01MBMNTMC</td>\n",
       "      <td>0.253943</td>\n",
       "      <td>1.511188e-02</td>\n",
       "    </tr>\n",
       "    <tr>\n",
       "      <th>9</th>\n",
       "      <td>V01MBMNFLA</td>\n",
       "      <td>0.233169</td>\n",
       "      <td>6.929011e-07</td>\n",
       "    </tr>\n",
       "    <tr>\n",
       "      <th>10</th>\n",
       "      <td>V01MBMNFMP</td>\n",
       "      <td>0.227333</td>\n",
       "      <td>2.407375e-01</td>\n",
       "    </tr>\n",
       "    <tr>\n",
       "      <th>11</th>\n",
       "      <td>V01MBMNFMA</td>\n",
       "      <td>0.220474</td>\n",
       "      <td>2.298041e-01</td>\n",
       "    </tr>\n",
       "  </tbody>\n",
       "</table>\n",
       "</div>"
      ]
     },
     "metadata": {},
     "output_type": "display_data"
    },
    {
     "data": {
      "text/plain": [
       "<IPython.core.display.Markdown object>"
      ],
      "text/markdown": "### 5.1.6 12-month follow-up BML variables' evaulators against K-L score at 24-month follow-up"
     },
     "metadata": {},
     "output_type": "display_data"
    },
    {
     "data": {
      "text/plain": [
       "              Value\n",
       "R2         0.475754\n",
       "RMSE       0.893866\n",
       "Intercept  0.762738"
      ],
      "text/html": [
       "<div>\n",
       "<style scoped>\n",
       "    .dataframe tbody tr th:only-of-type {\n",
       "        vertical-align: middle;\n",
       "    }\n",
       "\n",
       "    .dataframe tbody tr th {\n",
       "        vertical-align: top;\n",
       "    }\n",
       "\n",
       "    .dataframe thead th {\n",
       "        text-align: right;\n",
       "    }\n",
       "</style>\n",
       "<table border=\"1\" class=\"dataframe\">\n",
       "  <thead>\n",
       "    <tr style=\"text-align: right;\">\n",
       "      <th></th>\n",
       "      <th>Value</th>\n",
       "    </tr>\n",
       "  </thead>\n",
       "  <tbody>\n",
       "    <tr>\n",
       "      <th>R2</th>\n",
       "      <td>0.475754</td>\n",
       "    </tr>\n",
       "    <tr>\n",
       "      <th>RMSE</th>\n",
       "      <td>0.893866</td>\n",
       "    </tr>\n",
       "    <tr>\n",
       "      <th>Intercept</th>\n",
       "      <td>0.762738</td>\n",
       "    </tr>\n",
       "  </tbody>\n",
       "</table>\n",
       "</div>"
      ]
     },
     "metadata": {},
     "output_type": "display_data"
    }
   ],
   "execution_count": 4
  },
  {
   "metadata": {
    "ExecuteTime": {
     "end_time": "2025-08-21T22:57:24.633085Z",
     "start_time": "2025-08-21T22:57:24.623459Z"
    }
   },
   "cell_type": "code",
   "source": [
    "coef_dataframes = [v00_v01_kl_drop_coef_df, v00_v03_kl_drop_coef_df, v01_v03_kl_drop_coef_df]\n",
    "\n",
    "top_features = []\n",
    "for dataframe in coef_dataframes:\n",
    "    top_5_features = dataframe.nlargest(5, 'Coefficient')\n",
    "    top_features.extend(top_5_features['Feature'].tolist())\n",
    "\n",
    "feature_count = Counter(top_features)\n",
    "feature_count_dataframe = pd.DataFrame.from_dict(feature_count,orient='index',columns=['Count']).sort_values('Count', ascending=False)\n",
    "\n",
    "display(Markdown('### 5.1.7 Features with top five coefficients from LR analysis'))\n",
    "display(feature_count_dataframe)"
   ],
   "id": "33cad4d09cf46f1f",
   "outputs": [
    {
     "data": {
      "text/plain": [
       "<IPython.core.display.Markdown object>"
      ],
      "text/markdown": "### 5.1.7 Features with top five coefficients from LR analysis"
     },
     "metadata": {},
     "output_type": "display_data"
    },
    {
     "data": {
      "text/plain": [
       "            Count\n",
       "Intercept       3\n",
       "V00MBMNFLC      2\n",
       "V00MBMSFLC      2\n",
       "V00MBMSFMC      2\n",
       "V00MBMPTLA      1\n",
       "V00MBMNTMA      1\n",
       "V01MBMNTMP      1\n",
       "V01MBMSTLA      1\n",
       "V01MBMNFLC      1\n",
       "V01MBMNTMA      1"
      ],
      "text/html": [
       "<div>\n",
       "<style scoped>\n",
       "    .dataframe tbody tr th:only-of-type {\n",
       "        vertical-align: middle;\n",
       "    }\n",
       "\n",
       "    .dataframe tbody tr th {\n",
       "        vertical-align: top;\n",
       "    }\n",
       "\n",
       "    .dataframe thead th {\n",
       "        text-align: right;\n",
       "    }\n",
       "</style>\n",
       "<table border=\"1\" class=\"dataframe\">\n",
       "  <thead>\n",
       "    <tr style=\"text-align: right;\">\n",
       "      <th></th>\n",
       "      <th>Count</th>\n",
       "    </tr>\n",
       "  </thead>\n",
       "  <tbody>\n",
       "    <tr>\n",
       "      <th>Intercept</th>\n",
       "      <td>3</td>\n",
       "    </tr>\n",
       "    <tr>\n",
       "      <th>V00MBMNFLC</th>\n",
       "      <td>2</td>\n",
       "    </tr>\n",
       "    <tr>\n",
       "      <th>V00MBMSFLC</th>\n",
       "      <td>2</td>\n",
       "    </tr>\n",
       "    <tr>\n",
       "      <th>V00MBMSFMC</th>\n",
       "      <td>2</td>\n",
       "    </tr>\n",
       "    <tr>\n",
       "      <th>V00MBMPTLA</th>\n",
       "      <td>1</td>\n",
       "    </tr>\n",
       "    <tr>\n",
       "      <th>V00MBMNTMA</th>\n",
       "      <td>1</td>\n",
       "    </tr>\n",
       "    <tr>\n",
       "      <th>V01MBMNTMP</th>\n",
       "      <td>1</td>\n",
       "    </tr>\n",
       "    <tr>\n",
       "      <th>V01MBMSTLA</th>\n",
       "      <td>1</td>\n",
       "    </tr>\n",
       "    <tr>\n",
       "      <th>V01MBMNFLC</th>\n",
       "      <td>1</td>\n",
       "    </tr>\n",
       "    <tr>\n",
       "      <th>V01MBMNTMA</th>\n",
       "      <td>1</td>\n",
       "    </tr>\n",
       "  </tbody>\n",
       "</table>\n",
       "</div>"
      ]
     },
     "metadata": {},
     "output_type": "display_data"
    }
   ],
   "execution_count": 5
  },
  {
   "metadata": {},
   "cell_type": "markdown",
   "source": [
    "# 5.2 K-L Partial Least Squares\n",
    "PLS finds BLS variables that both capture variation in the predictors and maximize their ability to explain variation in the K-L score."
   ],
   "id": "97d6f04484f4eba"
  },
  {
   "metadata": {
    "ExecuteTime": {
     "end_time": "2025-08-21T22:57:24.760717Z",
     "start_time": "2025-08-21T22:57:24.749545Z"
    }
   },
   "cell_type": "code",
   "source": [
    "from scripts.mbm.kl_oriented.kl_mbm_relationships import v00_v01_kl_drop_pls_coef_df, v00_v01_kl_drop_pls_results\n",
    "\n",
    "display(Markdown('### 5.2.1 Baseline BML variables\\' coefficients against K-L score at 12-month follow-up'))\n",
    "display(v00_v01_kl_drop_pls_coef_df.sort_values(by='Coefficient', ascending=False).head(10))\n",
    "display(Markdown('### 5.2.2 Baseline BML variables\\' evaulators against K-L score at 12-month follow-up'))\n",
    "display(v00_v01_kl_drop_pls_results)"
   ],
   "id": "69718e5826f3c265",
   "outputs": [
    {
     "data": {
      "text/plain": [
       "<IPython.core.display.Markdown object>"
      ],
      "text/markdown": "### 5.2.1 Baseline BML variables' coefficients against K-L score at 12-month follow-up"
     },
     "metadata": {},
     "output_type": "display_data"
    },
    {
     "data": {
      "text/plain": [
       "       Feature  Coefficient   Target\n",
       "0    Intercept     0.720720  V01XRKL\n",
       "39  V00MBMNTLA     0.295288  V01XRKL\n",
       "40  V00MBMNTMC     0.221544  V01XRKL\n",
       "38  V00MBMNTMA     0.204023  V01XRKL\n",
       "34  V00MBMNFLC     0.200364  V01XRKL\n",
       "42  V00MBMNTMP     0.195576  V01XRKL\n",
       "35  V00MBMNFMP     0.145112  V01XRKL\n",
       "4   V00MBMSFLC     0.143615  V01XRKL\n",
       "9   V00MBMSTLA     0.141868  V01XRKL\n",
       "10  V00MBMSTMC     0.141558  V01XRKL"
      ],
      "text/html": [
       "<div>\n",
       "<style scoped>\n",
       "    .dataframe tbody tr th:only-of-type {\n",
       "        vertical-align: middle;\n",
       "    }\n",
       "\n",
       "    .dataframe tbody tr th {\n",
       "        vertical-align: top;\n",
       "    }\n",
       "\n",
       "    .dataframe thead th {\n",
       "        text-align: right;\n",
       "    }\n",
       "</style>\n",
       "<table border=\"1\" class=\"dataframe\">\n",
       "  <thead>\n",
       "    <tr style=\"text-align: right;\">\n",
       "      <th></th>\n",
       "      <th>Feature</th>\n",
       "      <th>Coefficient</th>\n",
       "      <th>Target</th>\n",
       "    </tr>\n",
       "  </thead>\n",
       "  <tbody>\n",
       "    <tr>\n",
       "      <th>0</th>\n",
       "      <td>Intercept</td>\n",
       "      <td>0.720720</td>\n",
       "      <td>V01XRKL</td>\n",
       "    </tr>\n",
       "    <tr>\n",
       "      <th>39</th>\n",
       "      <td>V00MBMNTLA</td>\n",
       "      <td>0.295288</td>\n",
       "      <td>V01XRKL</td>\n",
       "    </tr>\n",
       "    <tr>\n",
       "      <th>40</th>\n",
       "      <td>V00MBMNTMC</td>\n",
       "      <td>0.221544</td>\n",
       "      <td>V01XRKL</td>\n",
       "    </tr>\n",
       "    <tr>\n",
       "      <th>38</th>\n",
       "      <td>V00MBMNTMA</td>\n",
       "      <td>0.204023</td>\n",
       "      <td>V01XRKL</td>\n",
       "    </tr>\n",
       "    <tr>\n",
       "      <th>34</th>\n",
       "      <td>V00MBMNFLC</td>\n",
       "      <td>0.200364</td>\n",
       "      <td>V01XRKL</td>\n",
       "    </tr>\n",
       "    <tr>\n",
       "      <th>42</th>\n",
       "      <td>V00MBMNTMP</td>\n",
       "      <td>0.195576</td>\n",
       "      <td>V01XRKL</td>\n",
       "    </tr>\n",
       "    <tr>\n",
       "      <th>35</th>\n",
       "      <td>V00MBMNFMP</td>\n",
       "      <td>0.145112</td>\n",
       "      <td>V01XRKL</td>\n",
       "    </tr>\n",
       "    <tr>\n",
       "      <th>4</th>\n",
       "      <td>V00MBMSFLC</td>\n",
       "      <td>0.143615</td>\n",
       "      <td>V01XRKL</td>\n",
       "    </tr>\n",
       "    <tr>\n",
       "      <th>9</th>\n",
       "      <td>V00MBMSTLA</td>\n",
       "      <td>0.141868</td>\n",
       "      <td>V01XRKL</td>\n",
       "    </tr>\n",
       "    <tr>\n",
       "      <th>10</th>\n",
       "      <td>V00MBMSTMC</td>\n",
       "      <td>0.141558</td>\n",
       "      <td>V01XRKL</td>\n",
       "    </tr>\n",
       "  </tbody>\n",
       "</table>\n",
       "</div>"
      ]
     },
     "metadata": {},
     "output_type": "display_data"
    },
    {
     "data": {
      "text/plain": [
       "<IPython.core.display.Markdown object>"
      ],
      "text/markdown": "### 5.2.2 Baseline BML variables' evaulators against K-L score at 12-month follow-up"
     },
     "metadata": {},
     "output_type": "display_data"
    },
    {
     "data": {
      "text/plain": [
       "        Feature                             Value\n",
       "0            R2  {'V01XRKL': 0.48376695671765335}\n",
       "1          RMSE    {'V01XRKL': 0.855513144902164}\n",
       "2  n_components                                 1"
      ],
      "text/html": [
       "<div>\n",
       "<style scoped>\n",
       "    .dataframe tbody tr th:only-of-type {\n",
       "        vertical-align: middle;\n",
       "    }\n",
       "\n",
       "    .dataframe tbody tr th {\n",
       "        vertical-align: top;\n",
       "    }\n",
       "\n",
       "    .dataframe thead th {\n",
       "        text-align: right;\n",
       "    }\n",
       "</style>\n",
       "<table border=\"1\" class=\"dataframe\">\n",
       "  <thead>\n",
       "    <tr style=\"text-align: right;\">\n",
       "      <th></th>\n",
       "      <th>Feature</th>\n",
       "      <th>Value</th>\n",
       "    </tr>\n",
       "  </thead>\n",
       "  <tbody>\n",
       "    <tr>\n",
       "      <th>0</th>\n",
       "      <td>R2</td>\n",
       "      <td>{'V01XRKL': 0.48376695671765335}</td>\n",
       "    </tr>\n",
       "    <tr>\n",
       "      <th>1</th>\n",
       "      <td>RMSE</td>\n",
       "      <td>{'V01XRKL': 0.855513144902164}</td>\n",
       "    </tr>\n",
       "    <tr>\n",
       "      <th>2</th>\n",
       "      <td>n_components</td>\n",
       "      <td>1</td>\n",
       "    </tr>\n",
       "  </tbody>\n",
       "</table>\n",
       "</div>"
      ]
     },
     "metadata": {},
     "output_type": "display_data"
    }
   ],
   "execution_count": 6
  },
  {
   "metadata": {
    "ExecuteTime": {
     "end_time": "2025-08-21T22:57:24.855228Z",
     "start_time": "2025-08-21T22:57:24.848395Z"
    }
   },
   "cell_type": "code",
   "source": [
    "from scripts.mbm.kl_oriented.kl_mbm_relationships import v00_v03_kl_drop_pls_coef_df, v00_v03_kl_drop_pls_results\n",
    "\n",
    "display(Markdown('### 5.2.3 Baseline BML variables\\' coefficients against K-L score at 24-month follow-up'))\n",
    "display(v00_v03_kl_drop_pls_coef_df.sort_values(by='Coefficient', ascending=False).head(10))\n",
    "display(Markdown('### 5.2.4 Baseline BML variables\\' evaulators against K-L score at 24-month follow-up'))\n",
    "display(v00_v03_kl_drop_pls_results)"
   ],
   "id": "eb8474a968d521f1",
   "outputs": [
    {
     "data": {
      "text/plain": [
       "<IPython.core.display.Markdown object>"
      ],
      "text/markdown": "### 5.2.3 Baseline BML variables' coefficients against K-L score at 24-month follow-up"
     },
     "metadata": {},
     "output_type": "display_data"
    },
    {
     "data": {
      "text/plain": [
       "       Feature  Coefficient   Target\n",
       "0    Intercept     0.829059  V03XRKL\n",
       "39  V00MBMNTLA     0.251560  V03XRKL\n",
       "40  V00MBMNTMC     0.218649  V03XRKL\n",
       "38  V00MBMNTMA     0.203404  V03XRKL\n",
       "42  V00MBMNTMP     0.193683  V03XRKL\n",
       "34  V00MBMNFLC     0.191609  V03XRKL\n",
       "35  V00MBMNFMP     0.142667  V03XRKL\n",
       "3   V00MBMSFMC     0.138837  V03XRKL\n",
       "10  V00MBMSTMC     0.138831  V03XRKL\n",
       "4   V00MBMSFLC     0.134873  V03XRKL"
      ],
      "text/html": [
       "<div>\n",
       "<style scoped>\n",
       "    .dataframe tbody tr th:only-of-type {\n",
       "        vertical-align: middle;\n",
       "    }\n",
       "\n",
       "    .dataframe tbody tr th {\n",
       "        vertical-align: top;\n",
       "    }\n",
       "\n",
       "    .dataframe thead th {\n",
       "        text-align: right;\n",
       "    }\n",
       "</style>\n",
       "<table border=\"1\" class=\"dataframe\">\n",
       "  <thead>\n",
       "    <tr style=\"text-align: right;\">\n",
       "      <th></th>\n",
       "      <th>Feature</th>\n",
       "      <th>Coefficient</th>\n",
       "      <th>Target</th>\n",
       "    </tr>\n",
       "  </thead>\n",
       "  <tbody>\n",
       "    <tr>\n",
       "      <th>0</th>\n",
       "      <td>Intercept</td>\n",
       "      <td>0.829059</td>\n",
       "      <td>V03XRKL</td>\n",
       "    </tr>\n",
       "    <tr>\n",
       "      <th>39</th>\n",
       "      <td>V00MBMNTLA</td>\n",
       "      <td>0.251560</td>\n",
       "      <td>V03XRKL</td>\n",
       "    </tr>\n",
       "    <tr>\n",
       "      <th>40</th>\n",
       "      <td>V00MBMNTMC</td>\n",
       "      <td>0.218649</td>\n",
       "      <td>V03XRKL</td>\n",
       "    </tr>\n",
       "    <tr>\n",
       "      <th>38</th>\n",
       "      <td>V00MBMNTMA</td>\n",
       "      <td>0.203404</td>\n",
       "      <td>V03XRKL</td>\n",
       "    </tr>\n",
       "    <tr>\n",
       "      <th>42</th>\n",
       "      <td>V00MBMNTMP</td>\n",
       "      <td>0.193683</td>\n",
       "      <td>V03XRKL</td>\n",
       "    </tr>\n",
       "    <tr>\n",
       "      <th>34</th>\n",
       "      <td>V00MBMNFLC</td>\n",
       "      <td>0.191609</td>\n",
       "      <td>V03XRKL</td>\n",
       "    </tr>\n",
       "    <tr>\n",
       "      <th>35</th>\n",
       "      <td>V00MBMNFMP</td>\n",
       "      <td>0.142667</td>\n",
       "      <td>V03XRKL</td>\n",
       "    </tr>\n",
       "    <tr>\n",
       "      <th>3</th>\n",
       "      <td>V00MBMSFMC</td>\n",
       "      <td>0.138837</td>\n",
       "      <td>V03XRKL</td>\n",
       "    </tr>\n",
       "    <tr>\n",
       "      <th>10</th>\n",
       "      <td>V00MBMSTMC</td>\n",
       "      <td>0.138831</td>\n",
       "      <td>V03XRKL</td>\n",
       "    </tr>\n",
       "    <tr>\n",
       "      <th>4</th>\n",
       "      <td>V00MBMSFLC</td>\n",
       "      <td>0.134873</td>\n",
       "      <td>V03XRKL</td>\n",
       "    </tr>\n",
       "  </tbody>\n",
       "</table>\n",
       "</div>"
      ]
     },
     "metadata": {},
     "output_type": "display_data"
    },
    {
     "data": {
      "text/plain": [
       "<IPython.core.display.Markdown object>"
      ],
      "text/markdown": "### 5.2.4 Baseline BML variables' evaulators against K-L score at 24-month follow-up"
     },
     "metadata": {},
     "output_type": "display_data"
    },
    {
     "data": {
      "text/plain": [
       "        Feature                             Value\n",
       "0            R2  {'V03XRKL': 0.44797793236948213}\n",
       "1          RMSE   {'V03XRKL': 0.9172397964453746}\n",
       "2  n_components                                 1"
      ],
      "text/html": [
       "<div>\n",
       "<style scoped>\n",
       "    .dataframe tbody tr th:only-of-type {\n",
       "        vertical-align: middle;\n",
       "    }\n",
       "\n",
       "    .dataframe tbody tr th {\n",
       "        vertical-align: top;\n",
       "    }\n",
       "\n",
       "    .dataframe thead th {\n",
       "        text-align: right;\n",
       "    }\n",
       "</style>\n",
       "<table border=\"1\" class=\"dataframe\">\n",
       "  <thead>\n",
       "    <tr style=\"text-align: right;\">\n",
       "      <th></th>\n",
       "      <th>Feature</th>\n",
       "      <th>Value</th>\n",
       "    </tr>\n",
       "  </thead>\n",
       "  <tbody>\n",
       "    <tr>\n",
       "      <th>0</th>\n",
       "      <td>R2</td>\n",
       "      <td>{'V03XRKL': 0.44797793236948213}</td>\n",
       "    </tr>\n",
       "    <tr>\n",
       "      <th>1</th>\n",
       "      <td>RMSE</td>\n",
       "      <td>{'V03XRKL': 0.9172397964453746}</td>\n",
       "    </tr>\n",
       "    <tr>\n",
       "      <th>2</th>\n",
       "      <td>n_components</td>\n",
       "      <td>1</td>\n",
       "    </tr>\n",
       "  </tbody>\n",
       "</table>\n",
       "</div>"
      ]
     },
     "metadata": {},
     "output_type": "display_data"
    }
   ],
   "execution_count": 7
  },
  {
   "metadata": {
    "ExecuteTime": {
     "end_time": "2025-08-21T22:57:25.013874Z",
     "start_time": "2025-08-21T22:57:25.006574Z"
    }
   },
   "cell_type": "code",
   "source": [
    "from scripts.mbm.kl_oriented.kl_mbm_relationships import v01_v03_kl_drop_pls_coef_df, v01_v03_kl_drop_pls_results\n",
    "\n",
    "display(Markdown('### 5.2.5 12-month follow-up BML variables\\' coefficients against K-L score at 24-month follow-up'))\n",
    "display(v01_v03_kl_drop_pls_coef_df.sort_values(by='Coefficient', ascending=False).head(10))\n",
    "display(Markdown('### 5.2.5 12-month follow-up BML variables\\' evaulators against K-L score at 24-month follow-up'))\n",
    "display(v01_v03_kl_drop_pls_results)"
   ],
   "id": "7060ea175d8bb0b6",
   "outputs": [
    {
     "data": {
      "text/plain": [
       "<IPython.core.display.Markdown object>"
      ],
      "text/markdown": "### 5.2.5 12-month follow-up BML variables' coefficients against K-L score at 24-month follow-up"
     },
     "metadata": {},
     "output_type": "display_data"
    },
    {
     "data": {
      "text/plain": [
       "       Feature  Coefficient   Target\n",
       "0    Intercept     0.811077  V03XRKL\n",
       "39  V01MBMNTLA     0.284593  V03XRKL\n",
       "40  V01MBMNTMC     0.209449  V03XRKL\n",
       "38  V01MBMNTMA     0.201263  V03XRKL\n",
       "42  V01MBMNTMP     0.181725  V03XRKL\n",
       "34  V01MBMNFLC     0.172107  V03XRKL\n",
       "35  V01MBMNFMP     0.146610  V03XRKL\n",
       "4   V01MBMSFLC     0.138470  V03XRKL\n",
       "9   V01MBMSTLA     0.135575  V03XRKL\n",
       "10  V01MBMSTMC     0.127310  V03XRKL"
      ],
      "text/html": [
       "<div>\n",
       "<style scoped>\n",
       "    .dataframe tbody tr th:only-of-type {\n",
       "        vertical-align: middle;\n",
       "    }\n",
       "\n",
       "    .dataframe tbody tr th {\n",
       "        vertical-align: top;\n",
       "    }\n",
       "\n",
       "    .dataframe thead th {\n",
       "        text-align: right;\n",
       "    }\n",
       "</style>\n",
       "<table border=\"1\" class=\"dataframe\">\n",
       "  <thead>\n",
       "    <tr style=\"text-align: right;\">\n",
       "      <th></th>\n",
       "      <th>Feature</th>\n",
       "      <th>Coefficient</th>\n",
       "      <th>Target</th>\n",
       "    </tr>\n",
       "  </thead>\n",
       "  <tbody>\n",
       "    <tr>\n",
       "      <th>0</th>\n",
       "      <td>Intercept</td>\n",
       "      <td>0.811077</td>\n",
       "      <td>V03XRKL</td>\n",
       "    </tr>\n",
       "    <tr>\n",
       "      <th>39</th>\n",
       "      <td>V01MBMNTLA</td>\n",
       "      <td>0.284593</td>\n",
       "      <td>V03XRKL</td>\n",
       "    </tr>\n",
       "    <tr>\n",
       "      <th>40</th>\n",
       "      <td>V01MBMNTMC</td>\n",
       "      <td>0.209449</td>\n",
       "      <td>V03XRKL</td>\n",
       "    </tr>\n",
       "    <tr>\n",
       "      <th>38</th>\n",
       "      <td>V01MBMNTMA</td>\n",
       "      <td>0.201263</td>\n",
       "      <td>V03XRKL</td>\n",
       "    </tr>\n",
       "    <tr>\n",
       "      <th>42</th>\n",
       "      <td>V01MBMNTMP</td>\n",
       "      <td>0.181725</td>\n",
       "      <td>V03XRKL</td>\n",
       "    </tr>\n",
       "    <tr>\n",
       "      <th>34</th>\n",
       "      <td>V01MBMNFLC</td>\n",
       "      <td>0.172107</td>\n",
       "      <td>V03XRKL</td>\n",
       "    </tr>\n",
       "    <tr>\n",
       "      <th>35</th>\n",
       "      <td>V01MBMNFMP</td>\n",
       "      <td>0.146610</td>\n",
       "      <td>V03XRKL</td>\n",
       "    </tr>\n",
       "    <tr>\n",
       "      <th>4</th>\n",
       "      <td>V01MBMSFLC</td>\n",
       "      <td>0.138470</td>\n",
       "      <td>V03XRKL</td>\n",
       "    </tr>\n",
       "    <tr>\n",
       "      <th>9</th>\n",
       "      <td>V01MBMSTLA</td>\n",
       "      <td>0.135575</td>\n",
       "      <td>V03XRKL</td>\n",
       "    </tr>\n",
       "    <tr>\n",
       "      <th>10</th>\n",
       "      <td>V01MBMSTMC</td>\n",
       "      <td>0.127310</td>\n",
       "      <td>V03XRKL</td>\n",
       "    </tr>\n",
       "  </tbody>\n",
       "</table>\n",
       "</div>"
      ]
     },
     "metadata": {},
     "output_type": "display_data"
    },
    {
     "data": {
      "text/plain": [
       "<IPython.core.display.Markdown object>"
      ],
      "text/markdown": "### 5.2.5 12-month follow-up BML variables' evaulators against K-L score at 24-month follow-up"
     },
     "metadata": {},
     "output_type": "display_data"
    },
    {
     "data": {
      "text/plain": [
       "        Feature                            Value\n",
       "0            R2  {'V03XRKL': 0.4550467683642422}\n",
       "1          RMSE  {'V03XRKL': 0.9113480858303634}\n",
       "2  n_components                                1"
      ],
      "text/html": [
       "<div>\n",
       "<style scoped>\n",
       "    .dataframe tbody tr th:only-of-type {\n",
       "        vertical-align: middle;\n",
       "    }\n",
       "\n",
       "    .dataframe tbody tr th {\n",
       "        vertical-align: top;\n",
       "    }\n",
       "\n",
       "    .dataframe thead th {\n",
       "        text-align: right;\n",
       "    }\n",
       "</style>\n",
       "<table border=\"1\" class=\"dataframe\">\n",
       "  <thead>\n",
       "    <tr style=\"text-align: right;\">\n",
       "      <th></th>\n",
       "      <th>Feature</th>\n",
       "      <th>Value</th>\n",
       "    </tr>\n",
       "  </thead>\n",
       "  <tbody>\n",
       "    <tr>\n",
       "      <th>0</th>\n",
       "      <td>R2</td>\n",
       "      <td>{'V03XRKL': 0.4550467683642422}</td>\n",
       "    </tr>\n",
       "    <tr>\n",
       "      <th>1</th>\n",
       "      <td>RMSE</td>\n",
       "      <td>{'V03XRKL': 0.9113480858303634}</td>\n",
       "    </tr>\n",
       "    <tr>\n",
       "      <th>2</th>\n",
       "      <td>n_components</td>\n",
       "      <td>1</td>\n",
       "    </tr>\n",
       "  </tbody>\n",
       "</table>\n",
       "</div>"
      ]
     },
     "metadata": {},
     "output_type": "display_data"
    }
   ],
   "execution_count": 8
  },
  {
   "metadata": {
    "ExecuteTime": {
     "end_time": "2025-08-21T22:57:25.351089Z",
     "start_time": "2025-08-21T22:57:25.336737Z"
    }
   },
   "cell_type": "code",
   "source": [
    "coef_dataframes = [v00_v01_kl_drop_pls_coef_df, v00_v03_kl_drop_pls_coef_df, v01_v03_kl_drop_pls_coef_df]\n",
    "\n",
    "top_features = []\n",
    "for dataframe in coef_dataframes:\n",
    "    top_5_features = dataframe.nlargest(5, 'Coefficient')\n",
    "    top_features.extend(top_5_features['Feature'].tolist())\n",
    "\n",
    "feature_count = Counter(top_features)\n",
    "feature_count_dataframe = pd.DataFrame.from_dict(feature_count,orient='index',columns=['Count']).sort_values('Count', ascending=False)\n",
    "\n",
    "display(Markdown('### 5.2.7 Features with top five coefficients from PLS regression analysis'))\n",
    "display(feature_count_dataframe)"
   ],
   "id": "660b6ae9c13cca36",
   "outputs": [
    {
     "data": {
      "text/plain": [
       "<IPython.core.display.Markdown object>"
      ],
      "text/markdown": "### 5.2.7 Features with top five coefficients from PLS regression analysis"
     },
     "metadata": {},
     "output_type": "display_data"
    },
    {
     "data": {
      "text/plain": [
       "            Count\n",
       "Intercept       3\n",
       "V00MBMNTLA      2\n",
       "V00MBMNTMC      2\n",
       "V00MBMNTMA      2\n",
       "V00MBMNFLC      1\n",
       "V00MBMNTMP      1\n",
       "V01MBMNTLA      1\n",
       "V01MBMNTMC      1\n",
       "V01MBMNTMA      1\n",
       "V01MBMNTMP      1"
      ],
      "text/html": [
       "<div>\n",
       "<style scoped>\n",
       "    .dataframe tbody tr th:only-of-type {\n",
       "        vertical-align: middle;\n",
       "    }\n",
       "\n",
       "    .dataframe tbody tr th {\n",
       "        vertical-align: top;\n",
       "    }\n",
       "\n",
       "    .dataframe thead th {\n",
       "        text-align: right;\n",
       "    }\n",
       "</style>\n",
       "<table border=\"1\" class=\"dataframe\">\n",
       "  <thead>\n",
       "    <tr style=\"text-align: right;\">\n",
       "      <th></th>\n",
       "      <th>Count</th>\n",
       "    </tr>\n",
       "  </thead>\n",
       "  <tbody>\n",
       "    <tr>\n",
       "      <th>Intercept</th>\n",
       "      <td>3</td>\n",
       "    </tr>\n",
       "    <tr>\n",
       "      <th>V00MBMNTLA</th>\n",
       "      <td>2</td>\n",
       "    </tr>\n",
       "    <tr>\n",
       "      <th>V00MBMNTMC</th>\n",
       "      <td>2</td>\n",
       "    </tr>\n",
       "    <tr>\n",
       "      <th>V00MBMNTMA</th>\n",
       "      <td>2</td>\n",
       "    </tr>\n",
       "    <tr>\n",
       "      <th>V00MBMNFLC</th>\n",
       "      <td>1</td>\n",
       "    </tr>\n",
       "    <tr>\n",
       "      <th>V00MBMNTMP</th>\n",
       "      <td>1</td>\n",
       "    </tr>\n",
       "    <tr>\n",
       "      <th>V01MBMNTLA</th>\n",
       "      <td>1</td>\n",
       "    </tr>\n",
       "    <tr>\n",
       "      <th>V01MBMNTMC</th>\n",
       "      <td>1</td>\n",
       "    </tr>\n",
       "    <tr>\n",
       "      <th>V01MBMNTMA</th>\n",
       "      <td>1</td>\n",
       "    </tr>\n",
       "    <tr>\n",
       "      <th>V01MBMNTMP</th>\n",
       "      <td>1</td>\n",
       "    </tr>\n",
       "  </tbody>\n",
       "</table>\n",
       "</div>"
      ]
     },
     "metadata": {},
     "output_type": "display_data"
    }
   ],
   "execution_count": 9
  },
  {
   "metadata": {},
   "cell_type": "markdown",
   "source": [
    "## 5.3 K-L L1 Regularisation\n",
    "Lasso adds a penalty on the absolute size of coefficients, shrinking some to zero and thus performing feature selection."
   ],
   "id": "33a27f3cf9fd6d33"
  },
  {
   "metadata": {
    "ExecuteTime": {
     "end_time": "2025-08-21T22:57:25.510451Z",
     "start_time": "2025-08-21T22:57:25.500858Z"
    }
   },
   "cell_type": "code",
   "source": [
    "from scripts.mbm.kl_oriented.kl_mbm_relationships import v00_v01_kl_drop_lasso_coef_df, v00_v01_kl_drop_lasso_results\n",
    "\n",
    "n_nonzero_coefs = (v00_v01_kl_drop_lasso_coef_df['Coefficient'] > 1e-10).sum()\n",
    "display(Markdown('### 5.3.1 Baseline BML variables\\' coefficients against K-L score at 12-month follow-up'))\n",
    "display(v00_v01_kl_drop_lasso_coef_df.sort_values(by='Coefficient', ascending=False).head(n_nonzero_coefs))\n",
    "display(Markdown('### 5.2.5 Baseline BML variables\\' evaulators against K-L score at 12-month follow-up'))\n",
    "display(pd.DataFrame.from_dict(v00_v01_kl_drop_lasso_results, orient='index'))"
   ],
   "id": "7464ae02b4306f67",
   "outputs": [
    {
     "data": {
      "text/plain": [
       "<IPython.core.display.Markdown object>"
      ],
      "text/markdown": "### 5.3.1 Baseline BML variables' coefficients against K-L score at 12-month follow-up"
     },
     "metadata": {},
     "output_type": "display_data"
    },
    {
     "data": {
      "text/plain": [
       "       Feature   Target  Coefficient\n",
       "0    Intercept  V01XRKL     1.252714\n",
       "25  V00MBMPTMC  V01XRKL     0.229320\n",
       "3   V00MBMSFMC  V01XRKL     0.183604\n",
       "37   V00MBMNSS  V01XRKL     0.122315\n",
       "4   V00MBMSFLC  V01XRKL     0.106373\n",
       "27  V00MBMPTMP  V01XRKL     0.076437\n",
       "20  V00MBMPFMP  V01XRKL     0.073636\n",
       "32  V00MBMNFLA  V01XRKL     0.068672\n",
       "34  V00MBMNFLC  V01XRKL     0.066509\n",
       "8   V00MBMSTMA  V01XRKL     0.062404\n",
       "38  V00MBMNTMA  V01XRKL     0.062056\n",
       "15   V00MBMSPL  V01XRKL     0.060736\n",
       "17  V00MBMPFLA  V01XRKL     0.054078\n",
       "10  V00MBMSTMC  V01XRKL     0.052458\n",
       "40  V00MBMNTMC  V01XRKL     0.045578\n",
       "24  V00MBMPTLA  V01XRKL     0.042137\n",
       "43  V00MBMNTLP  V01XRKL     0.039226\n",
       "11  V00MBMSTLC  V01XRKL     0.033468\n",
       "45   V00MBMNPL  V01XRKL     0.031989\n",
       "21  V00MBMPFLP  V01XRKL     0.031420\n",
       "35  V00MBMNFMP  V01XRKL     0.028542\n",
       "42  V00MBMNTMP  V01XRKL     0.024313\n",
       "18  V00MBMPFMC  V01XRKL     0.022295\n",
       "1   V00MBMSFMA  V01XRKL     0.022214\n",
       "33  V00MBMNFMC  V01XRKL     0.020517\n",
       "7    V00MBMSSS  V01XRKL     0.019935\n",
       "22   V00MBMPSS  V01XRKL     0.013231\n",
       "31  V00MBMNFMA  V01XRKL     0.009092\n",
       "13  V00MBMSTLP  V01XRKL     0.003953\n",
       "36  V00MBMNFLP  V01XRKL     0.002481\n",
       "14   V00MBMSPM  V01XRKL     0.001969\n",
       "26  V00MBMPTLC  V01XRKL     0.000527"
      ],
      "text/html": [
       "<div>\n",
       "<style scoped>\n",
       "    .dataframe tbody tr th:only-of-type {\n",
       "        vertical-align: middle;\n",
       "    }\n",
       "\n",
       "    .dataframe tbody tr th {\n",
       "        vertical-align: top;\n",
       "    }\n",
       "\n",
       "    .dataframe thead th {\n",
       "        text-align: right;\n",
       "    }\n",
       "</style>\n",
       "<table border=\"1\" class=\"dataframe\">\n",
       "  <thead>\n",
       "    <tr style=\"text-align: right;\">\n",
       "      <th></th>\n",
       "      <th>Feature</th>\n",
       "      <th>Target</th>\n",
       "      <th>Coefficient</th>\n",
       "    </tr>\n",
       "  </thead>\n",
       "  <tbody>\n",
       "    <tr>\n",
       "      <th>0</th>\n",
       "      <td>Intercept</td>\n",
       "      <td>V01XRKL</td>\n",
       "      <td>1.252714</td>\n",
       "    </tr>\n",
       "    <tr>\n",
       "      <th>25</th>\n",
       "      <td>V00MBMPTMC</td>\n",
       "      <td>V01XRKL</td>\n",
       "      <td>0.229320</td>\n",
       "    </tr>\n",
       "    <tr>\n",
       "      <th>3</th>\n",
       "      <td>V00MBMSFMC</td>\n",
       "      <td>V01XRKL</td>\n",
       "      <td>0.183604</td>\n",
       "    </tr>\n",
       "    <tr>\n",
       "      <th>37</th>\n",
       "      <td>V00MBMNSS</td>\n",
       "      <td>V01XRKL</td>\n",
       "      <td>0.122315</td>\n",
       "    </tr>\n",
       "    <tr>\n",
       "      <th>4</th>\n",
       "      <td>V00MBMSFLC</td>\n",
       "      <td>V01XRKL</td>\n",
       "      <td>0.106373</td>\n",
       "    </tr>\n",
       "    <tr>\n",
       "      <th>27</th>\n",
       "      <td>V00MBMPTMP</td>\n",
       "      <td>V01XRKL</td>\n",
       "      <td>0.076437</td>\n",
       "    </tr>\n",
       "    <tr>\n",
       "      <th>20</th>\n",
       "      <td>V00MBMPFMP</td>\n",
       "      <td>V01XRKL</td>\n",
       "      <td>0.073636</td>\n",
       "    </tr>\n",
       "    <tr>\n",
       "      <th>32</th>\n",
       "      <td>V00MBMNFLA</td>\n",
       "      <td>V01XRKL</td>\n",
       "      <td>0.068672</td>\n",
       "    </tr>\n",
       "    <tr>\n",
       "      <th>34</th>\n",
       "      <td>V00MBMNFLC</td>\n",
       "      <td>V01XRKL</td>\n",
       "      <td>0.066509</td>\n",
       "    </tr>\n",
       "    <tr>\n",
       "      <th>8</th>\n",
       "      <td>V00MBMSTMA</td>\n",
       "      <td>V01XRKL</td>\n",
       "      <td>0.062404</td>\n",
       "    </tr>\n",
       "    <tr>\n",
       "      <th>38</th>\n",
       "      <td>V00MBMNTMA</td>\n",
       "      <td>V01XRKL</td>\n",
       "      <td>0.062056</td>\n",
       "    </tr>\n",
       "    <tr>\n",
       "      <th>15</th>\n",
       "      <td>V00MBMSPL</td>\n",
       "      <td>V01XRKL</td>\n",
       "      <td>0.060736</td>\n",
       "    </tr>\n",
       "    <tr>\n",
       "      <th>17</th>\n",
       "      <td>V00MBMPFLA</td>\n",
       "      <td>V01XRKL</td>\n",
       "      <td>0.054078</td>\n",
       "    </tr>\n",
       "    <tr>\n",
       "      <th>10</th>\n",
       "      <td>V00MBMSTMC</td>\n",
       "      <td>V01XRKL</td>\n",
       "      <td>0.052458</td>\n",
       "    </tr>\n",
       "    <tr>\n",
       "      <th>40</th>\n",
       "      <td>V00MBMNTMC</td>\n",
       "      <td>V01XRKL</td>\n",
       "      <td>0.045578</td>\n",
       "    </tr>\n",
       "    <tr>\n",
       "      <th>24</th>\n",
       "      <td>V00MBMPTLA</td>\n",
       "      <td>V01XRKL</td>\n",
       "      <td>0.042137</td>\n",
       "    </tr>\n",
       "    <tr>\n",
       "      <th>43</th>\n",
       "      <td>V00MBMNTLP</td>\n",
       "      <td>V01XRKL</td>\n",
       "      <td>0.039226</td>\n",
       "    </tr>\n",
       "    <tr>\n",
       "      <th>11</th>\n",
       "      <td>V00MBMSTLC</td>\n",
       "      <td>V01XRKL</td>\n",
       "      <td>0.033468</td>\n",
       "    </tr>\n",
       "    <tr>\n",
       "      <th>45</th>\n",
       "      <td>V00MBMNPL</td>\n",
       "      <td>V01XRKL</td>\n",
       "      <td>0.031989</td>\n",
       "    </tr>\n",
       "    <tr>\n",
       "      <th>21</th>\n",
       "      <td>V00MBMPFLP</td>\n",
       "      <td>V01XRKL</td>\n",
       "      <td>0.031420</td>\n",
       "    </tr>\n",
       "    <tr>\n",
       "      <th>35</th>\n",
       "      <td>V00MBMNFMP</td>\n",
       "      <td>V01XRKL</td>\n",
       "      <td>0.028542</td>\n",
       "    </tr>\n",
       "    <tr>\n",
       "      <th>42</th>\n",
       "      <td>V00MBMNTMP</td>\n",
       "      <td>V01XRKL</td>\n",
       "      <td>0.024313</td>\n",
       "    </tr>\n",
       "    <tr>\n",
       "      <th>18</th>\n",
       "      <td>V00MBMPFMC</td>\n",
       "      <td>V01XRKL</td>\n",
       "      <td>0.022295</td>\n",
       "    </tr>\n",
       "    <tr>\n",
       "      <th>1</th>\n",
       "      <td>V00MBMSFMA</td>\n",
       "      <td>V01XRKL</td>\n",
       "      <td>0.022214</td>\n",
       "    </tr>\n",
       "    <tr>\n",
       "      <th>33</th>\n",
       "      <td>V00MBMNFMC</td>\n",
       "      <td>V01XRKL</td>\n",
       "      <td>0.020517</td>\n",
       "    </tr>\n",
       "    <tr>\n",
       "      <th>7</th>\n",
       "      <td>V00MBMSSS</td>\n",
       "      <td>V01XRKL</td>\n",
       "      <td>0.019935</td>\n",
       "    </tr>\n",
       "    <tr>\n",
       "      <th>22</th>\n",
       "      <td>V00MBMPSS</td>\n",
       "      <td>V01XRKL</td>\n",
       "      <td>0.013231</td>\n",
       "    </tr>\n",
       "    <tr>\n",
       "      <th>31</th>\n",
       "      <td>V00MBMNFMA</td>\n",
       "      <td>V01XRKL</td>\n",
       "      <td>0.009092</td>\n",
       "    </tr>\n",
       "    <tr>\n",
       "      <th>13</th>\n",
       "      <td>V00MBMSTLP</td>\n",
       "      <td>V01XRKL</td>\n",
       "      <td>0.003953</td>\n",
       "    </tr>\n",
       "    <tr>\n",
       "      <th>36</th>\n",
       "      <td>V00MBMNFLP</td>\n",
       "      <td>V01XRKL</td>\n",
       "      <td>0.002481</td>\n",
       "    </tr>\n",
       "    <tr>\n",
       "      <th>14</th>\n",
       "      <td>V00MBMSPM</td>\n",
       "      <td>V01XRKL</td>\n",
       "      <td>0.001969</td>\n",
       "    </tr>\n",
       "    <tr>\n",
       "      <th>26</th>\n",
       "      <td>V00MBMPTLC</td>\n",
       "      <td>V01XRKL</td>\n",
       "      <td>0.000527</td>\n",
       "    </tr>\n",
       "  </tbody>\n",
       "</table>\n",
       "</div>"
      ]
     },
     "metadata": {},
     "output_type": "display_data"
    },
    {
     "data": {
      "text/plain": [
       "<IPython.core.display.Markdown object>"
      ],
      "text/markdown": "### 5.2.5 Baseline BML variables' evaulators against K-L score at 12-month follow-up"
     },
     "metadata": {},
     "output_type": "display_data"
    },
    {
     "data": {
      "text/plain": [
       "       V01XRKL\n",
       "R2    0.498163\n",
       "RMSE  0.843500"
      ],
      "text/html": [
       "<div>\n",
       "<style scoped>\n",
       "    .dataframe tbody tr th:only-of-type {\n",
       "        vertical-align: middle;\n",
       "    }\n",
       "\n",
       "    .dataframe tbody tr th {\n",
       "        vertical-align: top;\n",
       "    }\n",
       "\n",
       "    .dataframe thead th {\n",
       "        text-align: right;\n",
       "    }\n",
       "</style>\n",
       "<table border=\"1\" class=\"dataframe\">\n",
       "  <thead>\n",
       "    <tr style=\"text-align: right;\">\n",
       "      <th></th>\n",
       "      <th>V01XRKL</th>\n",
       "    </tr>\n",
       "  </thead>\n",
       "  <tbody>\n",
       "    <tr>\n",
       "      <th>R2</th>\n",
       "      <td>0.498163</td>\n",
       "    </tr>\n",
       "    <tr>\n",
       "      <th>RMSE</th>\n",
       "      <td>0.843500</td>\n",
       "    </tr>\n",
       "  </tbody>\n",
       "</table>\n",
       "</div>"
      ]
     },
     "metadata": {},
     "output_type": "display_data"
    }
   ],
   "execution_count": 10
  },
  {
   "metadata": {
    "ExecuteTime": {
     "end_time": "2025-08-21T22:57:25.928616Z",
     "start_time": "2025-08-21T22:57:25.909138Z"
    }
   },
   "cell_type": "code",
   "source": [
    "from scripts.mbm.kl_oriented.kl_mbm_relationships import v00_v03_kl_drop_lasso_coef_df, v00_v03_kl_drop_lasso_results\n",
    "\n",
    "n_nonzero_coefs = (v00_v03_kl_drop_lasso_coef_df['Coefficient'] > 1e-10).sum()\n",
    "display(Markdown('### 5.3.3 Baseline BML variables\\' coefficients against K-L score at 24-month follow-up'))\n",
    "display(v00_v03_kl_drop_lasso_coef_df.sort_values(by='Coefficient', ascending=False).head(n_nonzero_coefs))\n",
    "display(Markdown('### 5.3.4 Baseline BML variables\\' evaulators against K-L score at 24-month follow-up'))\n",
    "display(pd.DataFrame.from_dict(v00_v03_kl_drop_lasso_results, orient='index'))"
   ],
   "id": "239f039e934e782f",
   "outputs": [
    {
     "data": {
      "text/plain": [
       "<IPython.core.display.Markdown object>"
      ],
      "text/markdown": "### 5.3.3 Baseline BML variables' coefficients against K-L score at 24-month follow-up"
     },
     "metadata": {},
     "output_type": "display_data"
    },
    {
     "data": {
      "text/plain": [
       "       Feature   Target  Coefficient\n",
       "0    Intercept  V03XRKL     1.357794\n",
       "25  V00MBMPTMC  V03XRKL     0.237948\n",
       "3   V00MBMSFMC  V03XRKL     0.176375\n",
       "32  V00MBMNFLA  V03XRKL     0.109024\n",
       "38  V00MBMNTMA  V03XRKL     0.106684\n",
       "4   V00MBMSFLC  V03XRKL     0.096216\n",
       "20  V00MBMPFMP  V03XRKL     0.094943\n",
       "37   V00MBMNSS  V03XRKL     0.090143\n",
       "27  V00MBMPTMP  V03XRKL     0.062474\n",
       "41  V00MBMNTLC  V03XRKL     0.060353\n",
       "34  V00MBMNFLC  V03XRKL     0.058760\n",
       "7    V00MBMSSS  V03XRKL     0.054928\n",
       "15   V00MBMSPL  V03XRKL     0.054311\n",
       "40  V00MBMNTMC  V03XRKL     0.044720\n",
       "21  V00MBMPFLP  V03XRKL     0.041926\n",
       "1   V00MBMSFMA  V03XRKL     0.039981\n",
       "18  V00MBMPFMC  V03XRKL     0.036820\n",
       "10  V00MBMSTMC  V03XRKL     0.035122\n",
       "42  V00MBMNTMP  V03XRKL     0.033269\n",
       "45   V00MBMNPL  V03XRKL     0.033251\n",
       "33  V00MBMNFMC  V03XRKL     0.015498\n",
       "24  V00MBMPTLA  V03XRKL     0.014762\n",
       "43  V00MBMNTLP  V03XRKL     0.012248\n",
       "17  V00MBMPFLA  V03XRKL     0.010583\n",
       "8   V00MBMSTMA  V03XRKL     0.010437\n",
       "13  V00MBMSTLP  V03XRKL     0.010170\n",
       "22   V00MBMPSS  V03XRKL     0.009640\n",
       "35  V00MBMNFMP  V03XRKL     0.005936\n",
       "11  V00MBMSTLC  V03XRKL     0.002527\n",
       "44   V00MBMNPM  V03XRKL     0.001761"
      ],
      "text/html": [
       "<div>\n",
       "<style scoped>\n",
       "    .dataframe tbody tr th:only-of-type {\n",
       "        vertical-align: middle;\n",
       "    }\n",
       "\n",
       "    .dataframe tbody tr th {\n",
       "        vertical-align: top;\n",
       "    }\n",
       "\n",
       "    .dataframe thead th {\n",
       "        text-align: right;\n",
       "    }\n",
       "</style>\n",
       "<table border=\"1\" class=\"dataframe\">\n",
       "  <thead>\n",
       "    <tr style=\"text-align: right;\">\n",
       "      <th></th>\n",
       "      <th>Feature</th>\n",
       "      <th>Target</th>\n",
       "      <th>Coefficient</th>\n",
       "    </tr>\n",
       "  </thead>\n",
       "  <tbody>\n",
       "    <tr>\n",
       "      <th>0</th>\n",
       "      <td>Intercept</td>\n",
       "      <td>V03XRKL</td>\n",
       "      <td>1.357794</td>\n",
       "    </tr>\n",
       "    <tr>\n",
       "      <th>25</th>\n",
       "      <td>V00MBMPTMC</td>\n",
       "      <td>V03XRKL</td>\n",
       "      <td>0.237948</td>\n",
       "    </tr>\n",
       "    <tr>\n",
       "      <th>3</th>\n",
       "      <td>V00MBMSFMC</td>\n",
       "      <td>V03XRKL</td>\n",
       "      <td>0.176375</td>\n",
       "    </tr>\n",
       "    <tr>\n",
       "      <th>32</th>\n",
       "      <td>V00MBMNFLA</td>\n",
       "      <td>V03XRKL</td>\n",
       "      <td>0.109024</td>\n",
       "    </tr>\n",
       "    <tr>\n",
       "      <th>38</th>\n",
       "      <td>V00MBMNTMA</td>\n",
       "      <td>V03XRKL</td>\n",
       "      <td>0.106684</td>\n",
       "    </tr>\n",
       "    <tr>\n",
       "      <th>4</th>\n",
       "      <td>V00MBMSFLC</td>\n",
       "      <td>V03XRKL</td>\n",
       "      <td>0.096216</td>\n",
       "    </tr>\n",
       "    <tr>\n",
       "      <th>20</th>\n",
       "      <td>V00MBMPFMP</td>\n",
       "      <td>V03XRKL</td>\n",
       "      <td>0.094943</td>\n",
       "    </tr>\n",
       "    <tr>\n",
       "      <th>37</th>\n",
       "      <td>V00MBMNSS</td>\n",
       "      <td>V03XRKL</td>\n",
       "      <td>0.090143</td>\n",
       "    </tr>\n",
       "    <tr>\n",
       "      <th>27</th>\n",
       "      <td>V00MBMPTMP</td>\n",
       "      <td>V03XRKL</td>\n",
       "      <td>0.062474</td>\n",
       "    </tr>\n",
       "    <tr>\n",
       "      <th>41</th>\n",
       "      <td>V00MBMNTLC</td>\n",
       "      <td>V03XRKL</td>\n",
       "      <td>0.060353</td>\n",
       "    </tr>\n",
       "    <tr>\n",
       "      <th>34</th>\n",
       "      <td>V00MBMNFLC</td>\n",
       "      <td>V03XRKL</td>\n",
       "      <td>0.058760</td>\n",
       "    </tr>\n",
       "    <tr>\n",
       "      <th>7</th>\n",
       "      <td>V00MBMSSS</td>\n",
       "      <td>V03XRKL</td>\n",
       "      <td>0.054928</td>\n",
       "    </tr>\n",
       "    <tr>\n",
       "      <th>15</th>\n",
       "      <td>V00MBMSPL</td>\n",
       "      <td>V03XRKL</td>\n",
       "      <td>0.054311</td>\n",
       "    </tr>\n",
       "    <tr>\n",
       "      <th>40</th>\n",
       "      <td>V00MBMNTMC</td>\n",
       "      <td>V03XRKL</td>\n",
       "      <td>0.044720</td>\n",
       "    </tr>\n",
       "    <tr>\n",
       "      <th>21</th>\n",
       "      <td>V00MBMPFLP</td>\n",
       "      <td>V03XRKL</td>\n",
       "      <td>0.041926</td>\n",
       "    </tr>\n",
       "    <tr>\n",
       "      <th>1</th>\n",
       "      <td>V00MBMSFMA</td>\n",
       "      <td>V03XRKL</td>\n",
       "      <td>0.039981</td>\n",
       "    </tr>\n",
       "    <tr>\n",
       "      <th>18</th>\n",
       "      <td>V00MBMPFMC</td>\n",
       "      <td>V03XRKL</td>\n",
       "      <td>0.036820</td>\n",
       "    </tr>\n",
       "    <tr>\n",
       "      <th>10</th>\n",
       "      <td>V00MBMSTMC</td>\n",
       "      <td>V03XRKL</td>\n",
       "      <td>0.035122</td>\n",
       "    </tr>\n",
       "    <tr>\n",
       "      <th>42</th>\n",
       "      <td>V00MBMNTMP</td>\n",
       "      <td>V03XRKL</td>\n",
       "      <td>0.033269</td>\n",
       "    </tr>\n",
       "    <tr>\n",
       "      <th>45</th>\n",
       "      <td>V00MBMNPL</td>\n",
       "      <td>V03XRKL</td>\n",
       "      <td>0.033251</td>\n",
       "    </tr>\n",
       "    <tr>\n",
       "      <th>33</th>\n",
       "      <td>V00MBMNFMC</td>\n",
       "      <td>V03XRKL</td>\n",
       "      <td>0.015498</td>\n",
       "    </tr>\n",
       "    <tr>\n",
       "      <th>24</th>\n",
       "      <td>V00MBMPTLA</td>\n",
       "      <td>V03XRKL</td>\n",
       "      <td>0.014762</td>\n",
       "    </tr>\n",
       "    <tr>\n",
       "      <th>43</th>\n",
       "      <td>V00MBMNTLP</td>\n",
       "      <td>V03XRKL</td>\n",
       "      <td>0.012248</td>\n",
       "    </tr>\n",
       "    <tr>\n",
       "      <th>17</th>\n",
       "      <td>V00MBMPFLA</td>\n",
       "      <td>V03XRKL</td>\n",
       "      <td>0.010583</td>\n",
       "    </tr>\n",
       "    <tr>\n",
       "      <th>8</th>\n",
       "      <td>V00MBMSTMA</td>\n",
       "      <td>V03XRKL</td>\n",
       "      <td>0.010437</td>\n",
       "    </tr>\n",
       "    <tr>\n",
       "      <th>13</th>\n",
       "      <td>V00MBMSTLP</td>\n",
       "      <td>V03XRKL</td>\n",
       "      <td>0.010170</td>\n",
       "    </tr>\n",
       "    <tr>\n",
       "      <th>22</th>\n",
       "      <td>V00MBMPSS</td>\n",
       "      <td>V03XRKL</td>\n",
       "      <td>0.009640</td>\n",
       "    </tr>\n",
       "    <tr>\n",
       "      <th>35</th>\n",
       "      <td>V00MBMNFMP</td>\n",
       "      <td>V03XRKL</td>\n",
       "      <td>0.005936</td>\n",
       "    </tr>\n",
       "    <tr>\n",
       "      <th>11</th>\n",
       "      <td>V00MBMSTLC</td>\n",
       "      <td>V03XRKL</td>\n",
       "      <td>0.002527</td>\n",
       "    </tr>\n",
       "    <tr>\n",
       "      <th>44</th>\n",
       "      <td>V00MBMNPM</td>\n",
       "      <td>V03XRKL</td>\n",
       "      <td>0.001761</td>\n",
       "    </tr>\n",
       "  </tbody>\n",
       "</table>\n",
       "</div>"
      ]
     },
     "metadata": {},
     "output_type": "display_data"
    },
    {
     "data": {
      "text/plain": [
       "<IPython.core.display.Markdown object>"
      ],
      "text/markdown": "### 5.3.4 Baseline BML variables' evaulators against K-L score at 24-month follow-up"
     },
     "metadata": {},
     "output_type": "display_data"
    },
    {
     "data": {
      "text/plain": [
       "       V03XRKL\n",
       "R2    0.462279\n",
       "RMSE  0.905281"
      ],
      "text/html": [
       "<div>\n",
       "<style scoped>\n",
       "    .dataframe tbody tr th:only-of-type {\n",
       "        vertical-align: middle;\n",
       "    }\n",
       "\n",
       "    .dataframe tbody tr th {\n",
       "        vertical-align: top;\n",
       "    }\n",
       "\n",
       "    .dataframe thead th {\n",
       "        text-align: right;\n",
       "    }\n",
       "</style>\n",
       "<table border=\"1\" class=\"dataframe\">\n",
       "  <thead>\n",
       "    <tr style=\"text-align: right;\">\n",
       "      <th></th>\n",
       "      <th>V03XRKL</th>\n",
       "    </tr>\n",
       "  </thead>\n",
       "  <tbody>\n",
       "    <tr>\n",
       "      <th>R2</th>\n",
       "      <td>0.462279</td>\n",
       "    </tr>\n",
       "    <tr>\n",
       "      <th>RMSE</th>\n",
       "      <td>0.905281</td>\n",
       "    </tr>\n",
       "  </tbody>\n",
       "</table>\n",
       "</div>"
      ]
     },
     "metadata": {},
     "output_type": "display_data"
    }
   ],
   "execution_count": 11
  },
  {
   "metadata": {
    "ExecuteTime": {
     "end_time": "2025-08-21T22:57:26.124278Z",
     "start_time": "2025-08-21T22:57:26.109481Z"
    }
   },
   "cell_type": "code",
   "source": [
    "from scripts.mbm.kl_oriented.kl_mbm_relationships import v01_v03_kl_drop_lasso_coef_df, v01_v03_kl_drop_lasso_results\n",
    "\n",
    "n_nonzero_coefs = (v01_v03_kl_drop_lasso_coef_df['Coefficient'] > 1e-10).sum()\n",
    "display(Markdown('### 5.3.5 12-month follow-up BML variables\\' coefficients against K-L score at 24-month follow-up'))\n",
    "display(v01_v03_kl_drop_lasso_coef_df.sort_values(by='Coefficient', ascending=False).head(n_nonzero_coefs))\n",
    "display(Markdown('### 5.2.6 12-month follow-up BML variables\\' evaulators against K-L score at 24-month follow-up'))\n",
    "display(pd.DataFrame.from_dict(v01_v03_kl_drop_lasso_results, orient='index'))"
   ],
   "id": "67fce3a310cb128b",
   "outputs": [
    {
     "data": {
      "text/plain": [
       "<IPython.core.display.Markdown object>"
      ],
      "text/markdown": "### 5.3.5 12-month follow-up BML variables' coefficients against K-L score at 24-month follow-up"
     },
     "metadata": {},
     "output_type": "display_data"
    },
    {
     "data": {
      "text/plain": [
       "       Feature   Target  Coefficient\n",
       "0    Intercept  V03XRKL     1.357794\n",
       "25  V01MBMPTMC  V03XRKL     0.167778\n",
       "32  V01MBMNFLA  V03XRKL     0.126019\n",
       "37   V01MBMNSS  V03XRKL     0.119651\n",
       "3   V01MBMSFMC  V03XRKL     0.116806\n",
       "18  V01MBMPFMC  V03XRKL     0.113142\n",
       "40  V01MBMNTMC  V03XRKL     0.099819\n",
       "4   V01MBMSFLC  V03XRKL     0.076060\n",
       "10  V01MBMSTMC  V03XRKL     0.072614\n",
       "34  V01MBMNFLC  V03XRKL     0.064344\n",
       "42  V01MBMNTMP  V03XRKL     0.063558\n",
       "35  V01MBMNFMP  V03XRKL     0.061551\n",
       "31  V01MBMNFMA  V03XRKL     0.059807\n",
       "20  V01MBMPFMP  V03XRKL     0.059299\n",
       "38  V01MBMNTMA  V03XRKL     0.054673\n",
       "8   V01MBMSTMA  V03XRKL     0.051563\n",
       "21  V01MBMPFLP  V03XRKL     0.049511\n",
       "22   V01MBMPSS  V03XRKL     0.044235\n",
       "45   V01MBMNPL  V03XRKL     0.040841\n",
       "11  V01MBMSTLC  V03XRKL     0.036796\n",
       "41  V01MBMNTLC  V03XRKL     0.035113\n",
       "28  V01MBMPTLP  V03XRKL     0.026831\n",
       "9   V01MBMSTLA  V03XRKL     0.025977\n",
       "27  V01MBMPTMP  V03XRKL     0.023709\n",
       "15   V01MBMSPL  V03XRKL     0.020596\n",
       "26  V01MBMPTLC  V03XRKL     0.014138\n",
       "36  V01MBMNFLP  V03XRKL     0.008952\n",
       "44   V01MBMNPM  V03XRKL     0.008845\n",
       "7    V01MBMSSS  V03XRKL     0.003636"
      ],
      "text/html": [
       "<div>\n",
       "<style scoped>\n",
       "    .dataframe tbody tr th:only-of-type {\n",
       "        vertical-align: middle;\n",
       "    }\n",
       "\n",
       "    .dataframe tbody tr th {\n",
       "        vertical-align: top;\n",
       "    }\n",
       "\n",
       "    .dataframe thead th {\n",
       "        text-align: right;\n",
       "    }\n",
       "</style>\n",
       "<table border=\"1\" class=\"dataframe\">\n",
       "  <thead>\n",
       "    <tr style=\"text-align: right;\">\n",
       "      <th></th>\n",
       "      <th>Feature</th>\n",
       "      <th>Target</th>\n",
       "      <th>Coefficient</th>\n",
       "    </tr>\n",
       "  </thead>\n",
       "  <tbody>\n",
       "    <tr>\n",
       "      <th>0</th>\n",
       "      <td>Intercept</td>\n",
       "      <td>V03XRKL</td>\n",
       "      <td>1.357794</td>\n",
       "    </tr>\n",
       "    <tr>\n",
       "      <th>25</th>\n",
       "      <td>V01MBMPTMC</td>\n",
       "      <td>V03XRKL</td>\n",
       "      <td>0.167778</td>\n",
       "    </tr>\n",
       "    <tr>\n",
       "      <th>32</th>\n",
       "      <td>V01MBMNFLA</td>\n",
       "      <td>V03XRKL</td>\n",
       "      <td>0.126019</td>\n",
       "    </tr>\n",
       "    <tr>\n",
       "      <th>37</th>\n",
       "      <td>V01MBMNSS</td>\n",
       "      <td>V03XRKL</td>\n",
       "      <td>0.119651</td>\n",
       "    </tr>\n",
       "    <tr>\n",
       "      <th>3</th>\n",
       "      <td>V01MBMSFMC</td>\n",
       "      <td>V03XRKL</td>\n",
       "      <td>0.116806</td>\n",
       "    </tr>\n",
       "    <tr>\n",
       "      <th>18</th>\n",
       "      <td>V01MBMPFMC</td>\n",
       "      <td>V03XRKL</td>\n",
       "      <td>0.113142</td>\n",
       "    </tr>\n",
       "    <tr>\n",
       "      <th>40</th>\n",
       "      <td>V01MBMNTMC</td>\n",
       "      <td>V03XRKL</td>\n",
       "      <td>0.099819</td>\n",
       "    </tr>\n",
       "    <tr>\n",
       "      <th>4</th>\n",
       "      <td>V01MBMSFLC</td>\n",
       "      <td>V03XRKL</td>\n",
       "      <td>0.076060</td>\n",
       "    </tr>\n",
       "    <tr>\n",
       "      <th>10</th>\n",
       "      <td>V01MBMSTMC</td>\n",
       "      <td>V03XRKL</td>\n",
       "      <td>0.072614</td>\n",
       "    </tr>\n",
       "    <tr>\n",
       "      <th>34</th>\n",
       "      <td>V01MBMNFLC</td>\n",
       "      <td>V03XRKL</td>\n",
       "      <td>0.064344</td>\n",
       "    </tr>\n",
       "    <tr>\n",
       "      <th>42</th>\n",
       "      <td>V01MBMNTMP</td>\n",
       "      <td>V03XRKL</td>\n",
       "      <td>0.063558</td>\n",
       "    </tr>\n",
       "    <tr>\n",
       "      <th>35</th>\n",
       "      <td>V01MBMNFMP</td>\n",
       "      <td>V03XRKL</td>\n",
       "      <td>0.061551</td>\n",
       "    </tr>\n",
       "    <tr>\n",
       "      <th>31</th>\n",
       "      <td>V01MBMNFMA</td>\n",
       "      <td>V03XRKL</td>\n",
       "      <td>0.059807</td>\n",
       "    </tr>\n",
       "    <tr>\n",
       "      <th>20</th>\n",
       "      <td>V01MBMPFMP</td>\n",
       "      <td>V03XRKL</td>\n",
       "      <td>0.059299</td>\n",
       "    </tr>\n",
       "    <tr>\n",
       "      <th>38</th>\n",
       "      <td>V01MBMNTMA</td>\n",
       "      <td>V03XRKL</td>\n",
       "      <td>0.054673</td>\n",
       "    </tr>\n",
       "    <tr>\n",
       "      <th>8</th>\n",
       "      <td>V01MBMSTMA</td>\n",
       "      <td>V03XRKL</td>\n",
       "      <td>0.051563</td>\n",
       "    </tr>\n",
       "    <tr>\n",
       "      <th>21</th>\n",
       "      <td>V01MBMPFLP</td>\n",
       "      <td>V03XRKL</td>\n",
       "      <td>0.049511</td>\n",
       "    </tr>\n",
       "    <tr>\n",
       "      <th>22</th>\n",
       "      <td>V01MBMPSS</td>\n",
       "      <td>V03XRKL</td>\n",
       "      <td>0.044235</td>\n",
       "    </tr>\n",
       "    <tr>\n",
       "      <th>45</th>\n",
       "      <td>V01MBMNPL</td>\n",
       "      <td>V03XRKL</td>\n",
       "      <td>0.040841</td>\n",
       "    </tr>\n",
       "    <tr>\n",
       "      <th>11</th>\n",
       "      <td>V01MBMSTLC</td>\n",
       "      <td>V03XRKL</td>\n",
       "      <td>0.036796</td>\n",
       "    </tr>\n",
       "    <tr>\n",
       "      <th>41</th>\n",
       "      <td>V01MBMNTLC</td>\n",
       "      <td>V03XRKL</td>\n",
       "      <td>0.035113</td>\n",
       "    </tr>\n",
       "    <tr>\n",
       "      <th>28</th>\n",
       "      <td>V01MBMPTLP</td>\n",
       "      <td>V03XRKL</td>\n",
       "      <td>0.026831</td>\n",
       "    </tr>\n",
       "    <tr>\n",
       "      <th>9</th>\n",
       "      <td>V01MBMSTLA</td>\n",
       "      <td>V03XRKL</td>\n",
       "      <td>0.025977</td>\n",
       "    </tr>\n",
       "    <tr>\n",
       "      <th>27</th>\n",
       "      <td>V01MBMPTMP</td>\n",
       "      <td>V03XRKL</td>\n",
       "      <td>0.023709</td>\n",
       "    </tr>\n",
       "    <tr>\n",
       "      <th>15</th>\n",
       "      <td>V01MBMSPL</td>\n",
       "      <td>V03XRKL</td>\n",
       "      <td>0.020596</td>\n",
       "    </tr>\n",
       "    <tr>\n",
       "      <th>26</th>\n",
       "      <td>V01MBMPTLC</td>\n",
       "      <td>V03XRKL</td>\n",
       "      <td>0.014138</td>\n",
       "    </tr>\n",
       "    <tr>\n",
       "      <th>36</th>\n",
       "      <td>V01MBMNFLP</td>\n",
       "      <td>V03XRKL</td>\n",
       "      <td>0.008952</td>\n",
       "    </tr>\n",
       "    <tr>\n",
       "      <th>44</th>\n",
       "      <td>V01MBMNPM</td>\n",
       "      <td>V03XRKL</td>\n",
       "      <td>0.008845</td>\n",
       "    </tr>\n",
       "    <tr>\n",
       "      <th>7</th>\n",
       "      <td>V01MBMSSS</td>\n",
       "      <td>V03XRKL</td>\n",
       "      <td>0.003636</td>\n",
       "    </tr>\n",
       "  </tbody>\n",
       "</table>\n",
       "</div>"
      ]
     },
     "metadata": {},
     "output_type": "display_data"
    },
    {
     "data": {
      "text/plain": [
       "<IPython.core.display.Markdown object>"
      ],
      "text/markdown": "### 5.2.6 12-month follow-up BML variables' evaulators against K-L score at 24-month follow-up"
     },
     "metadata": {},
     "output_type": "display_data"
    },
    {
     "data": {
      "text/plain": [
       "       V03XRKL\n",
       "R2    0.474683\n",
       "RMSE  0.894778"
      ],
      "text/html": [
       "<div>\n",
       "<style scoped>\n",
       "    .dataframe tbody tr th:only-of-type {\n",
       "        vertical-align: middle;\n",
       "    }\n",
       "\n",
       "    .dataframe tbody tr th {\n",
       "        vertical-align: top;\n",
       "    }\n",
       "\n",
       "    .dataframe thead th {\n",
       "        text-align: right;\n",
       "    }\n",
       "</style>\n",
       "<table border=\"1\" class=\"dataframe\">\n",
       "  <thead>\n",
       "    <tr style=\"text-align: right;\">\n",
       "      <th></th>\n",
       "      <th>V03XRKL</th>\n",
       "    </tr>\n",
       "  </thead>\n",
       "  <tbody>\n",
       "    <tr>\n",
       "      <th>R2</th>\n",
       "      <td>0.474683</td>\n",
       "    </tr>\n",
       "    <tr>\n",
       "      <th>RMSE</th>\n",
       "      <td>0.894778</td>\n",
       "    </tr>\n",
       "  </tbody>\n",
       "</table>\n",
       "</div>"
      ]
     },
     "metadata": {},
     "output_type": "display_data"
    }
   ],
   "execution_count": 12
  },
  {
   "metadata": {
    "ExecuteTime": {
     "end_time": "2025-08-21T22:57:26.280475Z",
     "start_time": "2025-08-21T22:57:26.273641Z"
    }
   },
   "cell_type": "code",
   "source": [
    "coef_dataframes = [v00_v01_kl_drop_lasso_coef_df, v00_v03_kl_drop_lasso_coef_df, v01_v03_kl_drop_lasso_coef_df]\n",
    "\n",
    "top_features = []\n",
    "for dataframe in coef_dataframes:\n",
    "    top_5_features = dataframe.nlargest(5, 'Coefficient')\n",
    "    top_features.extend(top_5_features['Feature'].tolist())\n",
    "\n",
    "feature_count = Counter(top_features)\n",
    "feature_count_dataframe = pd.DataFrame.from_dict(feature_count,orient='index',columns=['Count']).sort_values('Count', ascending=False)\n",
    "\n",
    "display(Markdown('### 5.3.7 Features with top five coefficients from lasso regression analysis'))\n",
    "display(feature_count_dataframe)"
   ],
   "id": "daf5bf39237f830b",
   "outputs": [
    {
     "data": {
      "text/plain": [
       "<IPython.core.display.Markdown object>"
      ],
      "text/markdown": "### 5.3.7 Features with top five coefficients from lasso regression analysis"
     },
     "metadata": {},
     "output_type": "display_data"
    },
    {
     "data": {
      "text/plain": [
       "            Count\n",
       "Intercept       3\n",
       "V00MBMPTMC      2\n",
       "V00MBMSFMC      2\n",
       "V00MBMNSS       1\n",
       "V00MBMSFLC      1\n",
       "V00MBMNFLA      1\n",
       "V00MBMNTMA      1\n",
       "V01MBMPTMC      1\n",
       "V01MBMNFLA      1\n",
       "V01MBMNSS       1\n",
       "V01MBMSFMC      1"
      ],
      "text/html": [
       "<div>\n",
       "<style scoped>\n",
       "    .dataframe tbody tr th:only-of-type {\n",
       "        vertical-align: middle;\n",
       "    }\n",
       "\n",
       "    .dataframe tbody tr th {\n",
       "        vertical-align: top;\n",
       "    }\n",
       "\n",
       "    .dataframe thead th {\n",
       "        text-align: right;\n",
       "    }\n",
       "</style>\n",
       "<table border=\"1\" class=\"dataframe\">\n",
       "  <thead>\n",
       "    <tr style=\"text-align: right;\">\n",
       "      <th></th>\n",
       "      <th>Count</th>\n",
       "    </tr>\n",
       "  </thead>\n",
       "  <tbody>\n",
       "    <tr>\n",
       "      <th>Intercept</th>\n",
       "      <td>3</td>\n",
       "    </tr>\n",
       "    <tr>\n",
       "      <th>V00MBMPTMC</th>\n",
       "      <td>2</td>\n",
       "    </tr>\n",
       "    <tr>\n",
       "      <th>V00MBMSFMC</th>\n",
       "      <td>2</td>\n",
       "    </tr>\n",
       "    <tr>\n",
       "      <th>V00MBMNSS</th>\n",
       "      <td>1</td>\n",
       "    </tr>\n",
       "    <tr>\n",
       "      <th>V00MBMSFLC</th>\n",
       "      <td>1</td>\n",
       "    </tr>\n",
       "    <tr>\n",
       "      <th>V00MBMNFLA</th>\n",
       "      <td>1</td>\n",
       "    </tr>\n",
       "    <tr>\n",
       "      <th>V00MBMNTMA</th>\n",
       "      <td>1</td>\n",
       "    </tr>\n",
       "    <tr>\n",
       "      <th>V01MBMPTMC</th>\n",
       "      <td>1</td>\n",
       "    </tr>\n",
       "    <tr>\n",
       "      <th>V01MBMNFLA</th>\n",
       "      <td>1</td>\n",
       "    </tr>\n",
       "    <tr>\n",
       "      <th>V01MBMNSS</th>\n",
       "      <td>1</td>\n",
       "    </tr>\n",
       "    <tr>\n",
       "      <th>V01MBMSFMC</th>\n",
       "      <td>1</td>\n",
       "    </tr>\n",
       "  </tbody>\n",
       "</table>\n",
       "</div>"
      ]
     },
     "metadata": {},
     "output_type": "display_data"
    }
   ],
   "execution_count": 13
  },
  {
   "metadata": {},
   "cell_type": "markdown",
   "source": [
    "# 5.4 K-L L1 Penalised Multinomial Logistic Regression Model\n",
    "Multinomial logistic regression is a model that predicts probabilities of outcomes when the target variable has more than two categories (0,1,3,4) for K-L.\n",
    "- Note: K-L score 3-4 aggregated into one class for class balance"
   ],
   "id": "22c2d7f16e4050e5"
  },
  {
   "metadata": {
    "ExecuteTime": {
     "end_time": "2025-08-21T23:00:24.138316Z",
     "start_time": "2025-08-21T22:57:26.446842Z"
    }
   },
   "cell_type": "code",
   "source": [
    "from scripts.mbm.kl_oriented.kl_mbm_logR import v00_v01_moaks_kl_coefs_df, v00_v01_report, v00_v01_confusion_matrix\n",
    "\n",
    "display(Markdown('### 5.4.1 Baseline BML variables\\' coefficients against K-L score at 12-month follow-up'))\n",
    "display(v00_v01_moaks_kl_coefs_df.sort_values(by='Coefficient', ascending=False).head(10))\n",
    "display(Markdown('### 5.4.2 Baseline BML variables\\' classification report against K-L score at 12-month follow-up'))\n",
    "display(display(JSON(v00_v01_report, expanded=True)))\n",
    "display(Markdown('### 5.4.3 Baseline BML variables\\' confusion matrix against K-L score at 12-month follow-up'))\n",
    "display(v00_v01_confusion_matrix)"
   ],
   "id": "594284e275876217",
   "outputs": [
    {
     "data": {
      "text/plain": [
       "<IPython.core.display.Markdown object>"
      ],
      "text/markdown": "### 5.4.1 Baseline BML variables' coefficients against K-L score at 12-month follow-up"
     },
     "metadata": {},
     "output_type": "display_data"
    },
    {
     "data": {
      "text/plain": [
       "     Class     Feature  Coefficient\n",
       "170      2  V00MBMNTLP     0.846510\n",
       "11       3  V00MBMSFMC     0.790315\n",
       "135      3  V00MBMNFLC     0.790254\n",
       "72       0  V00MBMPFLC     0.660596\n",
       "15       3  V00MBMSFLC     0.608023\n",
       "14       2  V00MBMSFLC     0.599140\n",
       "160      0  V00MBMNTLC     0.521490\n",
       "109      1  V00MBMPTLP     0.473988\n",
       "150      2  V00MBMNTMA     0.454274\n",
       "31       3  V00MBMSTMA     0.438742"
      ],
      "text/html": [
       "<div>\n",
       "<style scoped>\n",
       "    .dataframe tbody tr th:only-of-type {\n",
       "        vertical-align: middle;\n",
       "    }\n",
       "\n",
       "    .dataframe tbody tr th {\n",
       "        vertical-align: top;\n",
       "    }\n",
       "\n",
       "    .dataframe thead th {\n",
       "        text-align: right;\n",
       "    }\n",
       "</style>\n",
       "<table border=\"1\" class=\"dataframe\">\n",
       "  <thead>\n",
       "    <tr style=\"text-align: right;\">\n",
       "      <th></th>\n",
       "      <th>Class</th>\n",
       "      <th>Feature</th>\n",
       "      <th>Coefficient</th>\n",
       "    </tr>\n",
       "  </thead>\n",
       "  <tbody>\n",
       "    <tr>\n",
       "      <th>170</th>\n",
       "      <td>2</td>\n",
       "      <td>V00MBMNTLP</td>\n",
       "      <td>0.846510</td>\n",
       "    </tr>\n",
       "    <tr>\n",
       "      <th>11</th>\n",
       "      <td>3</td>\n",
       "      <td>V00MBMSFMC</td>\n",
       "      <td>0.790315</td>\n",
       "    </tr>\n",
       "    <tr>\n",
       "      <th>135</th>\n",
       "      <td>3</td>\n",
       "      <td>V00MBMNFLC</td>\n",
       "      <td>0.790254</td>\n",
       "    </tr>\n",
       "    <tr>\n",
       "      <th>72</th>\n",
       "      <td>0</td>\n",
       "      <td>V00MBMPFLC</td>\n",
       "      <td>0.660596</td>\n",
       "    </tr>\n",
       "    <tr>\n",
       "      <th>15</th>\n",
       "      <td>3</td>\n",
       "      <td>V00MBMSFLC</td>\n",
       "      <td>0.608023</td>\n",
       "    </tr>\n",
       "    <tr>\n",
       "      <th>14</th>\n",
       "      <td>2</td>\n",
       "      <td>V00MBMSFLC</td>\n",
       "      <td>0.599140</td>\n",
       "    </tr>\n",
       "    <tr>\n",
       "      <th>160</th>\n",
       "      <td>0</td>\n",
       "      <td>V00MBMNTLC</td>\n",
       "      <td>0.521490</td>\n",
       "    </tr>\n",
       "    <tr>\n",
       "      <th>109</th>\n",
       "      <td>1</td>\n",
       "      <td>V00MBMPTLP</td>\n",
       "      <td>0.473988</td>\n",
       "    </tr>\n",
       "    <tr>\n",
       "      <th>150</th>\n",
       "      <td>2</td>\n",
       "      <td>V00MBMNTMA</td>\n",
       "      <td>0.454274</td>\n",
       "    </tr>\n",
       "    <tr>\n",
       "      <th>31</th>\n",
       "      <td>3</td>\n",
       "      <td>V00MBMSTMA</td>\n",
       "      <td>0.438742</td>\n",
       "    </tr>\n",
       "  </tbody>\n",
       "</table>\n",
       "</div>"
      ]
     },
     "metadata": {},
     "output_type": "display_data"
    },
    {
     "data": {
      "text/plain": [
       "<IPython.core.display.Markdown object>"
      ],
      "text/markdown": "### 5.4.2 Baseline BML variables' classification report against K-L score at 12-month follow-up"
     },
     "metadata": {},
     "output_type": "display_data"
    },
    {
     "data": {
      "text/plain": [
       "<IPython.core.display.JSON object>"
      ],
      "application/json": {
       "0": {
        "precision": 0.4562043795620438,
        "recall": 0.6830601092896175,
        "f1-score": 0.5470459518599562,
        "support": 183.0
       },
       "1": {
        "precision": 0.42857142857142855,
        "recall": 0.3707865168539326,
        "f1-score": 0.39759036144578314,
        "support": 178.0
       },
       "2": {
        "precision": 0.4117647058823529,
        "recall": 0.2413793103448276,
        "f1-score": 0.30434782608695654,
        "support": 116.0
       },
       "3": {
        "precision": 0.775,
        "recall": 0.6262626262626263,
        "f1-score": 0.6927374301675978,
        "support": 99.0
       },
       "accuracy": 0.4878472222222222,
       "macro avg": {
        "precision": 0.5178851285039563,
        "recall": 0.48037214068775097,
        "f1-score": 0.48543039239007346,
        "support": 576.0
       },
       "weighted avg": {
        "precision": 0.4935083708818077,
        "recall": 0.4878472222222222,
        "f1-score": 0.47702403982708425,
        "support": 576.0
       }
      }
     },
     "metadata": {
      "application/json": {
       "expanded": true,
       "root": "root"
      }
     },
     "output_type": "display_data"
    },
    {
     "data": {
      "text/plain": [
       "None"
      ]
     },
     "metadata": {},
     "output_type": "display_data"
    },
    {
     "data": {
      "text/plain": [
       "<IPython.core.display.Markdown object>"
      ],
      "text/markdown": "### 5.4.3 Baseline BML variables' confusion matrix against K-L score at 12-month follow-up"
     },
     "metadata": {},
     "output_type": "display_data"
    },
    {
     "data": {
      "text/plain": [
       "        Pred 0  Pred 1  Pred 2  Pred 3\n",
       "True 0     125      39      14       5\n",
       "True 1      93      66      14       5\n",
       "True 2      44      36      28       8\n",
       "True 3      12      13      12      62"
      ],
      "text/html": [
       "<div>\n",
       "<style scoped>\n",
       "    .dataframe tbody tr th:only-of-type {\n",
       "        vertical-align: middle;\n",
       "    }\n",
       "\n",
       "    .dataframe tbody tr th {\n",
       "        vertical-align: top;\n",
       "    }\n",
       "\n",
       "    .dataframe thead th {\n",
       "        text-align: right;\n",
       "    }\n",
       "</style>\n",
       "<table border=\"1\" class=\"dataframe\">\n",
       "  <thead>\n",
       "    <tr style=\"text-align: right;\">\n",
       "      <th></th>\n",
       "      <th>Pred 0</th>\n",
       "      <th>Pred 1</th>\n",
       "      <th>Pred 2</th>\n",
       "      <th>Pred 3</th>\n",
       "    </tr>\n",
       "  </thead>\n",
       "  <tbody>\n",
       "    <tr>\n",
       "      <th>True 0</th>\n",
       "      <td>125</td>\n",
       "      <td>39</td>\n",
       "      <td>14</td>\n",
       "      <td>5</td>\n",
       "    </tr>\n",
       "    <tr>\n",
       "      <th>True 1</th>\n",
       "      <td>93</td>\n",
       "      <td>66</td>\n",
       "      <td>14</td>\n",
       "      <td>5</td>\n",
       "    </tr>\n",
       "    <tr>\n",
       "      <th>True 2</th>\n",
       "      <td>44</td>\n",
       "      <td>36</td>\n",
       "      <td>28</td>\n",
       "      <td>8</td>\n",
       "    </tr>\n",
       "    <tr>\n",
       "      <th>True 3</th>\n",
       "      <td>12</td>\n",
       "      <td>13</td>\n",
       "      <td>12</td>\n",
       "      <td>62</td>\n",
       "    </tr>\n",
       "  </tbody>\n",
       "</table>\n",
       "</div>"
      ]
     },
     "metadata": {},
     "output_type": "display_data"
    }
   ],
   "execution_count": 14
  },
  {
   "metadata": {
    "ExecuteTime": {
     "end_time": "2025-08-21T23:00:24.302513Z",
     "start_time": "2025-08-21T23:00:24.292770Z"
    }
   },
   "cell_type": "code",
   "source": [
    "from scripts.mbm.kl_oriented.kl_mbm_logR import v00_v03_moaks_kl_coefs_df, v00_v03_report, v00_v03_confusion_matrix\n",
    "\n",
    "display(Markdown('### 5.4.4 Baseline BML variables\\' coefficients against K-L score at 24-month follow-up'))\n",
    "display(v00_v03_moaks_kl_coefs_df.sort_values(by='Coefficient', ascending=False).head(10))\n",
    "display(Markdown('### 5.4.5 Baseline BML variables\\' classification report against K-L score at 24-month follow-up'))\n",
    "display(display(JSON(v00_v03_report, expanded=True)))\n",
    "display(Markdown('### 5.4.6 Baseline BML variables\\' confusion matrix against K-L score at 24-month follow-up'))\n",
    "display(v00_v03_confusion_matrix)"
   ],
   "id": "6a8716da070e8c41",
   "outputs": [
    {
     "data": {
      "text/plain": [
       "<IPython.core.display.Markdown object>"
      ],
      "text/markdown": "### 5.4.4 Baseline BML variables' coefficients against K-L score at 24-month follow-up"
     },
     "metadata": {},
     "output_type": "display_data"
    },
    {
     "data": {
      "text/plain": [
       "     Class     Feature  Coefficient\n",
       "11       3  V00MBMSFMC     0.764489\n",
       "150      2  V00MBMNTMA     0.604317\n",
       "135      3  V00MBMNFLC     0.518164\n",
       "39       3  V00MBMSTMC     0.503613\n",
       "77       1  V00MBMPFMP     0.492347\n",
       "14       2  V00MBMSFLC     0.448797\n",
       "158      2  V00MBMNTMC     0.411023\n",
       "101      1  V00MBMPTLC     0.404364\n",
       "21       1  V00MBMSFLP     0.398541\n",
       "15       3  V00MBMSFLC     0.395757"
      ],
      "text/html": [
       "<div>\n",
       "<style scoped>\n",
       "    .dataframe tbody tr th:only-of-type {\n",
       "        vertical-align: middle;\n",
       "    }\n",
       "\n",
       "    .dataframe tbody tr th {\n",
       "        vertical-align: top;\n",
       "    }\n",
       "\n",
       "    .dataframe thead th {\n",
       "        text-align: right;\n",
       "    }\n",
       "</style>\n",
       "<table border=\"1\" class=\"dataframe\">\n",
       "  <thead>\n",
       "    <tr style=\"text-align: right;\">\n",
       "      <th></th>\n",
       "      <th>Class</th>\n",
       "      <th>Feature</th>\n",
       "      <th>Coefficient</th>\n",
       "    </tr>\n",
       "  </thead>\n",
       "  <tbody>\n",
       "    <tr>\n",
       "      <th>11</th>\n",
       "      <td>3</td>\n",
       "      <td>V00MBMSFMC</td>\n",
       "      <td>0.764489</td>\n",
       "    </tr>\n",
       "    <tr>\n",
       "      <th>150</th>\n",
       "      <td>2</td>\n",
       "      <td>V00MBMNTMA</td>\n",
       "      <td>0.604317</td>\n",
       "    </tr>\n",
       "    <tr>\n",
       "      <th>135</th>\n",
       "      <td>3</td>\n",
       "      <td>V00MBMNFLC</td>\n",
       "      <td>0.518164</td>\n",
       "    </tr>\n",
       "    <tr>\n",
       "      <th>39</th>\n",
       "      <td>3</td>\n",
       "      <td>V00MBMSTMC</td>\n",
       "      <td>0.503613</td>\n",
       "    </tr>\n",
       "    <tr>\n",
       "      <th>77</th>\n",
       "      <td>1</td>\n",
       "      <td>V00MBMPFMP</td>\n",
       "      <td>0.492347</td>\n",
       "    </tr>\n",
       "    <tr>\n",
       "      <th>14</th>\n",
       "      <td>2</td>\n",
       "      <td>V00MBMSFLC</td>\n",
       "      <td>0.448797</td>\n",
       "    </tr>\n",
       "    <tr>\n",
       "      <th>158</th>\n",
       "      <td>2</td>\n",
       "      <td>V00MBMNTMC</td>\n",
       "      <td>0.411023</td>\n",
       "    </tr>\n",
       "    <tr>\n",
       "      <th>101</th>\n",
       "      <td>1</td>\n",
       "      <td>V00MBMPTLC</td>\n",
       "      <td>0.404364</td>\n",
       "    </tr>\n",
       "    <tr>\n",
       "      <th>21</th>\n",
       "      <td>1</td>\n",
       "      <td>V00MBMSFLP</td>\n",
       "      <td>0.398541</td>\n",
       "    </tr>\n",
       "    <tr>\n",
       "      <th>15</th>\n",
       "      <td>3</td>\n",
       "      <td>V00MBMSFLC</td>\n",
       "      <td>0.395757</td>\n",
       "    </tr>\n",
       "  </tbody>\n",
       "</table>\n",
       "</div>"
      ]
     },
     "metadata": {},
     "output_type": "display_data"
    },
    {
     "data": {
      "text/plain": [
       "<IPython.core.display.Markdown object>"
      ],
      "text/markdown": "### 5.4.5 Baseline BML variables' classification report against K-L score at 24-month follow-up"
     },
     "metadata": {},
     "output_type": "display_data"
    },
    {
     "data": {
      "text/plain": [
       "<IPython.core.display.JSON object>"
      ],
      "application/json": {
       "0": {
        "precision": 0.4416058394160584,
        "recall": 0.7034883720930233,
        "f1-score": 0.5426008968609866,
        "support": 172.0
       },
       "1": {
        "precision": 0.3711340206185567,
        "recall": 0.22784810126582278,
        "f1-score": 0.2823529411764706,
        "support": 158.0
       },
       "2": {
        "precision": 0.45454545454545453,
        "recall": 0.3787878787878788,
        "f1-score": 0.4132231404958678,
        "support": 132.0
       },
       "3": {
        "precision": 0.7368421052631579,
        "recall": 0.6140350877192983,
        "f1-score": 0.6698564593301436,
        "support": 114.0
       },
       "accuracy": 0.4809027777777778,
       "macro avg": {
        "precision": 0.5010318549608069,
        "recall": 0.4810398599665058,
        "f1-score": 0.47700835946586717,
        "support": 576.0
       },
       "weighted avg": {
        "precision": 0.4836725340925243,
        "recall": 0.4809027777777778,
        "f1-score": 0.4667503643664288,
        "support": 576.0
       }
      }
     },
     "metadata": {
      "application/json": {
       "expanded": true,
       "root": "root"
      }
     },
     "output_type": "display_data"
    },
    {
     "data": {
      "text/plain": [
       "None"
      ]
     },
     "metadata": {},
     "output_type": "display_data"
    },
    {
     "data": {
      "text/plain": [
       "<IPython.core.display.Markdown object>"
      ],
      "text/markdown": "### 5.4.6 Baseline BML variables' confusion matrix against K-L score at 24-month follow-up"
     },
     "metadata": {},
     "output_type": "display_data"
    },
    {
     "data": {
      "text/plain": [
       "        Pred 0  Pred 1  Pred 2  Pred 3\n",
       "True 0     121      28      17       6\n",
       "True 1      91      36      25       6\n",
       "True 2      47      22      50      13\n",
       "True 3      15      11      18      70"
      ],
      "text/html": [
       "<div>\n",
       "<style scoped>\n",
       "    .dataframe tbody tr th:only-of-type {\n",
       "        vertical-align: middle;\n",
       "    }\n",
       "\n",
       "    .dataframe tbody tr th {\n",
       "        vertical-align: top;\n",
       "    }\n",
       "\n",
       "    .dataframe thead th {\n",
       "        text-align: right;\n",
       "    }\n",
       "</style>\n",
       "<table border=\"1\" class=\"dataframe\">\n",
       "  <thead>\n",
       "    <tr style=\"text-align: right;\">\n",
       "      <th></th>\n",
       "      <th>Pred 0</th>\n",
       "      <th>Pred 1</th>\n",
       "      <th>Pred 2</th>\n",
       "      <th>Pred 3</th>\n",
       "    </tr>\n",
       "  </thead>\n",
       "  <tbody>\n",
       "    <tr>\n",
       "      <th>True 0</th>\n",
       "      <td>121</td>\n",
       "      <td>28</td>\n",
       "      <td>17</td>\n",
       "      <td>6</td>\n",
       "    </tr>\n",
       "    <tr>\n",
       "      <th>True 1</th>\n",
       "      <td>91</td>\n",
       "      <td>36</td>\n",
       "      <td>25</td>\n",
       "      <td>6</td>\n",
       "    </tr>\n",
       "    <tr>\n",
       "      <th>True 2</th>\n",
       "      <td>47</td>\n",
       "      <td>22</td>\n",
       "      <td>50</td>\n",
       "      <td>13</td>\n",
       "    </tr>\n",
       "    <tr>\n",
       "      <th>True 3</th>\n",
       "      <td>15</td>\n",
       "      <td>11</td>\n",
       "      <td>18</td>\n",
       "      <td>70</td>\n",
       "    </tr>\n",
       "  </tbody>\n",
       "</table>\n",
       "</div>"
      ]
     },
     "metadata": {},
     "output_type": "display_data"
    }
   ],
   "execution_count": 15
  },
  {
   "metadata": {
    "ExecuteTime": {
     "end_time": "2025-08-21T23:00:24.501605Z",
     "start_time": "2025-08-21T23:00:24.493626Z"
    }
   },
   "cell_type": "code",
   "source": [
    "from scripts.mbm.kl_oriented.kl_mbm_logR import v01_v03_moaks_kl_coefs_df, v01_v03_report, v01_v03_confusion_matrix\n",
    "\n",
    "display(Markdown('### 5.4.7 12-month follow-up BML variables\\' coefficients against K-L score at 24-month follow-up'))\n",
    "display(v01_v03_moaks_kl_coefs_df.sort_values(by='Coefficient', ascending=False).head(10))\n",
    "display(Markdown('### 5.4.8 12-month follow-up BML variables\\' classification report against K-L score at 24-month follow-up'))\n",
    "display(display(JSON(v01_v03_report, expanded=True)))\n",
    "display(Markdown('### 5.4.9 12-month follow-up BML variables\\' confusion matrix against K-L score at 24-month follow-up'))\n",
    "display(v01_v03_confusion_matrix)"
   ],
   "id": "c5d441025f4285ca",
   "outputs": [
    {
     "data": {
      "text/plain": [
       "<IPython.core.display.Markdown object>"
      ],
      "text/markdown": "### 5.4.7 12-month follow-up BML variables' coefficients against K-L score at 24-month follow-up"
     },
     "metadata": {},
     "output_type": "display_data"
    },
    {
     "data": {
      "text/plain": [
       "     Class     Feature  Coefficient\n",
       "77       1  V01MBMPFMP     1.276188\n",
       "80       0  V01MBMPFLP     1.014974\n",
       "150      2  V01MBMNTMA     0.950897\n",
       "141      1  V01MBMNFLP     0.685036\n",
       "139      3  V01MBMNFMP     0.645758\n",
       "44       0  V01MBMSTMP     0.631005\n",
       "110      2  V01MBMPTLP     0.553841\n",
       "43       3  V01MBMSTLC     0.542805\n",
       "133      1  V01MBMNFLC     0.504953\n",
       "143      3  V01MBMNFLP     0.491301"
      ],
      "text/html": [
       "<div>\n",
       "<style scoped>\n",
       "    .dataframe tbody tr th:only-of-type {\n",
       "        vertical-align: middle;\n",
       "    }\n",
       "\n",
       "    .dataframe tbody tr th {\n",
       "        vertical-align: top;\n",
       "    }\n",
       "\n",
       "    .dataframe thead th {\n",
       "        text-align: right;\n",
       "    }\n",
       "</style>\n",
       "<table border=\"1\" class=\"dataframe\">\n",
       "  <thead>\n",
       "    <tr style=\"text-align: right;\">\n",
       "      <th></th>\n",
       "      <th>Class</th>\n",
       "      <th>Feature</th>\n",
       "      <th>Coefficient</th>\n",
       "    </tr>\n",
       "  </thead>\n",
       "  <tbody>\n",
       "    <tr>\n",
       "      <th>77</th>\n",
       "      <td>1</td>\n",
       "      <td>V01MBMPFMP</td>\n",
       "      <td>1.276188</td>\n",
       "    </tr>\n",
       "    <tr>\n",
       "      <th>80</th>\n",
       "      <td>0</td>\n",
       "      <td>V01MBMPFLP</td>\n",
       "      <td>1.014974</td>\n",
       "    </tr>\n",
       "    <tr>\n",
       "      <th>150</th>\n",
       "      <td>2</td>\n",
       "      <td>V01MBMNTMA</td>\n",
       "      <td>0.950897</td>\n",
       "    </tr>\n",
       "    <tr>\n",
       "      <th>141</th>\n",
       "      <td>1</td>\n",
       "      <td>V01MBMNFLP</td>\n",
       "      <td>0.685036</td>\n",
       "    </tr>\n",
       "    <tr>\n",
       "      <th>139</th>\n",
       "      <td>3</td>\n",
       "      <td>V01MBMNFMP</td>\n",
       "      <td>0.645758</td>\n",
       "    </tr>\n",
       "    <tr>\n",
       "      <th>44</th>\n",
       "      <td>0</td>\n",
       "      <td>V01MBMSTMP</td>\n",
       "      <td>0.631005</td>\n",
       "    </tr>\n",
       "    <tr>\n",
       "      <th>110</th>\n",
       "      <td>2</td>\n",
       "      <td>V01MBMPTLP</td>\n",
       "      <td>0.553841</td>\n",
       "    </tr>\n",
       "    <tr>\n",
       "      <th>43</th>\n",
       "      <td>3</td>\n",
       "      <td>V01MBMSTLC</td>\n",
       "      <td>0.542805</td>\n",
       "    </tr>\n",
       "    <tr>\n",
       "      <th>133</th>\n",
       "      <td>1</td>\n",
       "      <td>V01MBMNFLC</td>\n",
       "      <td>0.504953</td>\n",
       "    </tr>\n",
       "    <tr>\n",
       "      <th>143</th>\n",
       "      <td>3</td>\n",
       "      <td>V01MBMNFLP</td>\n",
       "      <td>0.491301</td>\n",
       "    </tr>\n",
       "  </tbody>\n",
       "</table>\n",
       "</div>"
      ]
     },
     "metadata": {},
     "output_type": "display_data"
    },
    {
     "data": {
      "text/plain": [
       "<IPython.core.display.Markdown object>"
      ],
      "text/markdown": "### 5.4.8 12-month follow-up BML variables' classification report against K-L score at 24-month follow-up"
     },
     "metadata": {},
     "output_type": "display_data"
    },
    {
     "data": {
      "text/plain": [
       "<IPython.core.display.JSON object>"
      ],
      "application/json": {
       "0": {
        "precision": 0.4431818181818182,
        "recall": 0.6802325581395349,
        "f1-score": 0.536697247706422,
        "support": 172.0
       },
       "1": {
        "precision": 0.32407407407407407,
        "recall": 0.22151898734177214,
        "f1-score": 0.2631578947368421,
        "support": 158.0
       },
       "2": {
        "precision": 0.4158415841584158,
        "recall": 0.3181818181818182,
        "f1-score": 0.3605150214592275,
        "support": 132.0
       },
       "3": {
        "precision": 0.7378640776699029,
        "recall": 0.6666666666666666,
        "f1-score": 0.7004608294930875,
        "support": 114.0
       },
       "accuracy": 0.46875,
       "macro avg": {
        "precision": 0.4802403885210528,
        "recall": 0.4716500075824479,
        "f1-score": 0.4652077483488948,
        "support": 576.0
       },
       "weighted avg": {
        "precision": 0.4625669624900282,
        "recall": 0.46875,
        "f1-score": 0.453700332237423,
        "support": 576.0
       }
      }
     },
     "metadata": {
      "application/json": {
       "expanded": true,
       "root": "root"
      }
     },
     "output_type": "display_data"
    },
    {
     "data": {
      "text/plain": [
       "None"
      ]
     },
     "metadata": {},
     "output_type": "display_data"
    },
    {
     "data": {
      "text/plain": [
       "<IPython.core.display.Markdown object>"
      ],
      "text/markdown": "### 5.4.9 12-month follow-up BML variables' confusion matrix against K-L score at 24-month follow-up"
     },
     "metadata": {},
     "output_type": "display_data"
    },
    {
     "data": {
      "text/plain": [
       "        Pred 0  Pred 1  Pred 2  Pred 3\n",
       "True 0     117      33      14       8\n",
       "True 1      89      35      31       3\n",
       "True 2      46      28      42      16\n",
       "True 3      12      12      14      76"
      ],
      "text/html": [
       "<div>\n",
       "<style scoped>\n",
       "    .dataframe tbody tr th:only-of-type {\n",
       "        vertical-align: middle;\n",
       "    }\n",
       "\n",
       "    .dataframe tbody tr th {\n",
       "        vertical-align: top;\n",
       "    }\n",
       "\n",
       "    .dataframe thead th {\n",
       "        text-align: right;\n",
       "    }\n",
       "</style>\n",
       "<table border=\"1\" class=\"dataframe\">\n",
       "  <thead>\n",
       "    <tr style=\"text-align: right;\">\n",
       "      <th></th>\n",
       "      <th>Pred 0</th>\n",
       "      <th>Pred 1</th>\n",
       "      <th>Pred 2</th>\n",
       "      <th>Pred 3</th>\n",
       "    </tr>\n",
       "  </thead>\n",
       "  <tbody>\n",
       "    <tr>\n",
       "      <th>True 0</th>\n",
       "      <td>117</td>\n",
       "      <td>33</td>\n",
       "      <td>14</td>\n",
       "      <td>8</td>\n",
       "    </tr>\n",
       "    <tr>\n",
       "      <th>True 1</th>\n",
       "      <td>89</td>\n",
       "      <td>35</td>\n",
       "      <td>31</td>\n",
       "      <td>3</td>\n",
       "    </tr>\n",
       "    <tr>\n",
       "      <th>True 2</th>\n",
       "      <td>46</td>\n",
       "      <td>28</td>\n",
       "      <td>42</td>\n",
       "      <td>16</td>\n",
       "    </tr>\n",
       "    <tr>\n",
       "      <th>True 3</th>\n",
       "      <td>12</td>\n",
       "      <td>12</td>\n",
       "      <td>14</td>\n",
       "      <td>76</td>\n",
       "    </tr>\n",
       "  </tbody>\n",
       "</table>\n",
       "</div>"
      ]
     },
     "metadata": {},
     "output_type": "display_data"
    }
   ],
   "execution_count": 16
  },
  {
   "metadata": {},
   "cell_type": "markdown",
   "source": [
    "# 5.5 K-L HistGradientBoostClassifier Model\n",
    "The HistGradientBoostingClassifier is a fast gradient boosting model that builds decision trees from binned feature values to efficiently handle large datasets."
   ],
   "id": "7b41901c92f12cac"
  },
  {
   "metadata": {
    "ExecuteTime": {
     "end_time": "2025-08-21T23:01:02.575789Z",
     "start_time": "2025-08-21T23:00:24.697414Z"
    }
   },
   "cell_type": "code",
   "source": [
    "from scripts.mbm.kl_oriented.kl_mbm_hist import v00_v01_moaks_kl_coefs_df, v00_v01_report, v00_v01_confusion_matrix\n",
    "\n",
    "display(Markdown('### 5.5.1 Baseline BML variables\\' coefficients against K-L score at 12-month follow-up'))\n",
    "display(v00_v01_moaks_kl_coefs_df.sort_values(by='Importance', ascending=False).head(10))\n",
    "display(Markdown('### 5.5.2 Baseline BML variables\\' classification report against K-L score at 12-month follow-up'))\n",
    "display(display(JSON(v00_v01_report, expanded=True)))\n",
    "display(Markdown('### 5.5.3 Baseline BML variables\\' confusion matrix against K-L score at 12-month follow-up'))\n",
    "display(v00_v01_confusion_matrix)"
   ],
   "id": "21f3a4a7e4cf2130",
   "outputs": [
    {
     "name": "stdout",
     "output_type": "stream",
     "text": [
      "       Feature  Importance  Importance_std\n",
      "17  V00MBMPFMC    0.032639        0.018582\n",
      "28   V00MBMPPM    0.030556        0.013586\n",
      "9   V00MBMSTMC    0.023611        0.011013\n",
      "24  V00MBMPTMC    0.022743        0.010313\n",
      "21   V00MBMPSS    0.022743        0.007261\n",
      "13   V00MBMSPM    0.020312        0.006636\n",
      "7   V00MBMSTMA    0.018056        0.006459\n",
      "15  V00MBMPFMA    0.017708        0.004710\n",
      "6    V00MBMSSS    0.016493        0.008689\n",
      "22  V00MBMPTMA    0.012847        0.009515\n",
      "1   V00MBMSFLA    0.011285        0.008620\n",
      "0   V00MBMSFMA    0.009375        0.004406\n",
      "30  V00MBMNFMA    0.007812        0.005612\n",
      "34  V00MBMNFMP    0.007118        0.006517\n",
      "19  V00MBMPFMP    0.006771        0.004557\n",
      "44   V00MBMNPL    0.006076        0.003494\n",
      "16  V00MBMPFLA    0.005729        0.006165\n",
      "2   V00MBMSFMC    0.005729        0.004789\n",
      "39  V00MBMNTMC    0.005208        0.007325\n",
      "14   V00MBMSPL    0.005035        0.010573\n",
      "26  V00MBMPTMP    0.004167        0.003740\n",
      "29   V00MBMPPL    0.003993        0.006262\n",
      "36   V00MBMNSS    0.003993        0.005211\n",
      "32  V00MBMNFMC    0.003646        0.002510\n",
      "3   V00MBMSFLC    0.002951        0.003389\n",
      "4   V00MBMSFMP    0.002257        0.004112\n",
      "27  V00MBMPTLP    0.001736        0.005490\n",
      "25  V00MBMPTLC    0.001389        0.004094\n",
      "11  V00MBMSTMP    0.001389        0.004580\n",
      "31  V00MBMNFLA    0.000347        0.003455\n",
      "12  V00MBMSTLP    0.000174        0.004688\n",
      "8   V00MBMSTLA    0.000000        0.000000\n",
      "33  V00MBMNFLC    0.000000        0.000000\n",
      "23  V00MBMPTLA    0.000000        0.000000\n",
      "35  V00MBMNFLP    0.000000        0.000000\n",
      "37  V00MBMNTMA    0.000000        0.000000\n",
      "38  V00MBMNTLA    0.000000        0.000000\n",
      "40  V00MBMNTLC    0.000000        0.000000\n",
      "41  V00MBMNTMP    0.000000        0.000000\n",
      "42  V00MBMNTLP    0.000000        0.000000\n",
      "5   V00MBMSFLP   -0.000174        0.004557\n",
      "18  V00MBMPFLC   -0.000347        0.001701\n",
      "10  V00MBMSTLC   -0.001563        0.002387\n",
      "43   V00MBMNPM   -0.001736        0.008031\n",
      "20  V00MBMPFLP   -0.003299        0.003917\n"
     ]
    },
    {
     "data": {
      "text/plain": [
       "<IPython.core.display.Markdown object>"
      ],
      "text/markdown": "### 5.5.1 Baseline BML variables' coefficients against K-L score at 12-month follow-up"
     },
     "metadata": {},
     "output_type": "display_data"
    },
    {
     "data": {
      "text/plain": [
       "       Feature  Importance  Importance_std\n",
       "17  V00MBMPFMC    0.032639        0.018582\n",
       "28   V00MBMPPM    0.030556        0.013586\n",
       "9   V00MBMSTMC    0.023611        0.011013\n",
       "24  V00MBMPTMC    0.022743        0.010313\n",
       "21   V00MBMPSS    0.022743        0.007261\n",
       "13   V00MBMSPM    0.020312        0.006636\n",
       "7   V00MBMSTMA    0.018056        0.006459\n",
       "15  V00MBMPFMA    0.017708        0.004710\n",
       "6    V00MBMSSS    0.016493        0.008689\n",
       "22  V00MBMPTMA    0.012847        0.009515"
      ],
      "text/html": [
       "<div>\n",
       "<style scoped>\n",
       "    .dataframe tbody tr th:only-of-type {\n",
       "        vertical-align: middle;\n",
       "    }\n",
       "\n",
       "    .dataframe tbody tr th {\n",
       "        vertical-align: top;\n",
       "    }\n",
       "\n",
       "    .dataframe thead th {\n",
       "        text-align: right;\n",
       "    }\n",
       "</style>\n",
       "<table border=\"1\" class=\"dataframe\">\n",
       "  <thead>\n",
       "    <tr style=\"text-align: right;\">\n",
       "      <th></th>\n",
       "      <th>Feature</th>\n",
       "      <th>Importance</th>\n",
       "      <th>Importance_std</th>\n",
       "    </tr>\n",
       "  </thead>\n",
       "  <tbody>\n",
       "    <tr>\n",
       "      <th>17</th>\n",
       "      <td>V00MBMPFMC</td>\n",
       "      <td>0.032639</td>\n",
       "      <td>0.018582</td>\n",
       "    </tr>\n",
       "    <tr>\n",
       "      <th>28</th>\n",
       "      <td>V00MBMPPM</td>\n",
       "      <td>0.030556</td>\n",
       "      <td>0.013586</td>\n",
       "    </tr>\n",
       "    <tr>\n",
       "      <th>9</th>\n",
       "      <td>V00MBMSTMC</td>\n",
       "      <td>0.023611</td>\n",
       "      <td>0.011013</td>\n",
       "    </tr>\n",
       "    <tr>\n",
       "      <th>24</th>\n",
       "      <td>V00MBMPTMC</td>\n",
       "      <td>0.022743</td>\n",
       "      <td>0.010313</td>\n",
       "    </tr>\n",
       "    <tr>\n",
       "      <th>21</th>\n",
       "      <td>V00MBMPSS</td>\n",
       "      <td>0.022743</td>\n",
       "      <td>0.007261</td>\n",
       "    </tr>\n",
       "    <tr>\n",
       "      <th>13</th>\n",
       "      <td>V00MBMSPM</td>\n",
       "      <td>0.020312</td>\n",
       "      <td>0.006636</td>\n",
       "    </tr>\n",
       "    <tr>\n",
       "      <th>7</th>\n",
       "      <td>V00MBMSTMA</td>\n",
       "      <td>0.018056</td>\n",
       "      <td>0.006459</td>\n",
       "    </tr>\n",
       "    <tr>\n",
       "      <th>15</th>\n",
       "      <td>V00MBMPFMA</td>\n",
       "      <td>0.017708</td>\n",
       "      <td>0.004710</td>\n",
       "    </tr>\n",
       "    <tr>\n",
       "      <th>6</th>\n",
       "      <td>V00MBMSSS</td>\n",
       "      <td>0.016493</td>\n",
       "      <td>0.008689</td>\n",
       "    </tr>\n",
       "    <tr>\n",
       "      <th>22</th>\n",
       "      <td>V00MBMPTMA</td>\n",
       "      <td>0.012847</td>\n",
       "      <td>0.009515</td>\n",
       "    </tr>\n",
       "  </tbody>\n",
       "</table>\n",
       "</div>"
      ]
     },
     "metadata": {},
     "output_type": "display_data"
    },
    {
     "data": {
      "text/plain": [
       "<IPython.core.display.Markdown object>"
      ],
      "text/markdown": "### 5.5.2 Baseline BML variables' classification report against K-L score at 12-month follow-up"
     },
     "metadata": {},
     "output_type": "display_data"
    },
    {
     "data": {
      "text/plain": [
       "<IPython.core.display.JSON object>"
      ],
      "application/json": {
       "0": {
        "precision": 0.5134099616858238,
        "recall": 0.73224043715847,
        "f1-score": 0.6036036036036037,
        "support": 183.0
       },
       "1": {
        "precision": 0.4880952380952381,
        "recall": 0.4606741573033708,
        "f1-score": 0.47398843930635837,
        "support": 178.0
       },
       "2": {
        "precision": 0.5714285714285714,
        "recall": 0.3448275862068966,
        "f1-score": 0.43010752688172044,
        "support": 116.0
       },
       "3": {
        "precision": 0.8701298701298701,
        "recall": 0.6767676767676768,
        "f1-score": 0.7613636363636364,
        "support": 99.0
       },
       "accuracy": 0.5607638888888888,
       "macro avg": {
        "precision": 0.6107659103348758,
        "recall": 0.5536274643591035,
        "f1-score": 0.5672658015388297,
        "support": 576.0
       },
       "weighted avg": {
        "precision": 0.5785825465243568,
        "recall": 0.5607638888888888,
        "f1-score": 0.5557237409275535,
        "support": 576.0
       }
      }
     },
     "metadata": {
      "application/json": {
       "expanded": true,
       "root": "root"
      }
     },
     "output_type": "display_data"
    },
    {
     "data": {
      "text/plain": [
       "None"
      ]
     },
     "metadata": {},
     "output_type": "display_data"
    },
    {
     "data": {
      "text/plain": [
       "<IPython.core.display.Markdown object>"
      ],
      "text/markdown": "### 5.5.3 Baseline BML variables' confusion matrix against K-L score at 12-month follow-up"
     },
     "metadata": {},
     "output_type": "display_data"
    },
    {
     "data": {
      "text/plain": [
       "        Pred 0  Pred 1  Pred 2  Pred 3\n",
       "True 0     134      41       8       0\n",
       "True 1      80      82      14       2\n",
       "True 2      40      28      40       8\n",
       "True 3       7      17       8      67"
      ],
      "text/html": [
       "<div>\n",
       "<style scoped>\n",
       "    .dataframe tbody tr th:only-of-type {\n",
       "        vertical-align: middle;\n",
       "    }\n",
       "\n",
       "    .dataframe tbody tr th {\n",
       "        vertical-align: top;\n",
       "    }\n",
       "\n",
       "    .dataframe thead th {\n",
       "        text-align: right;\n",
       "    }\n",
       "</style>\n",
       "<table border=\"1\" class=\"dataframe\">\n",
       "  <thead>\n",
       "    <tr style=\"text-align: right;\">\n",
       "      <th></th>\n",
       "      <th>Pred 0</th>\n",
       "      <th>Pred 1</th>\n",
       "      <th>Pred 2</th>\n",
       "      <th>Pred 3</th>\n",
       "    </tr>\n",
       "  </thead>\n",
       "  <tbody>\n",
       "    <tr>\n",
       "      <th>True 0</th>\n",
       "      <td>134</td>\n",
       "      <td>41</td>\n",
       "      <td>8</td>\n",
       "      <td>0</td>\n",
       "    </tr>\n",
       "    <tr>\n",
       "      <th>True 1</th>\n",
       "      <td>80</td>\n",
       "      <td>82</td>\n",
       "      <td>14</td>\n",
       "      <td>2</td>\n",
       "    </tr>\n",
       "    <tr>\n",
       "      <th>True 2</th>\n",
       "      <td>40</td>\n",
       "      <td>28</td>\n",
       "      <td>40</td>\n",
       "      <td>8</td>\n",
       "    </tr>\n",
       "    <tr>\n",
       "      <th>True 3</th>\n",
       "      <td>7</td>\n",
       "      <td>17</td>\n",
       "      <td>8</td>\n",
       "      <td>67</td>\n",
       "    </tr>\n",
       "  </tbody>\n",
       "</table>\n",
       "</div>"
      ]
     },
     "metadata": {},
     "output_type": "display_data"
    }
   ],
   "execution_count": 17
  },
  {
   "metadata": {
    "ExecuteTime": {
     "end_time": "2025-08-21T23:01:02.619792Z",
     "start_time": "2025-08-21T23:01:02.609387Z"
    }
   },
   "cell_type": "code",
   "source": [
    "from scripts.mbm.kl_oriented.kl_mbm_hist import v00_v03_moaks_kl_coefs_df, v00_v03_report, v00_v03_confusion_matrix\n",
    "\n",
    "display(Markdown('### 5.5.4 Baseline BML variables\\' coefficients against K-L score at 24-month follow-up'))\n",
    "display(v00_v03_moaks_kl_coefs_df.sort_values(by='Importance', ascending=False).head(10))\n",
    "display(Markdown('### 5.5.5 Baseline BML variables\\' classification report against K-L score at 24-month follow-up'))\n",
    "display(display(JSON(v00_v03_report, expanded=True)))\n",
    "display(Markdown('### 5.5.6 Baseline BML variables\\' confusion matrix against K-L score at 24-month follow-up'))\n",
    "display(v00_v03_confusion_matrix)"
   ],
   "id": "d75b431f3d92841e",
   "outputs": [
    {
     "data": {
      "text/plain": [
       "<IPython.core.display.Markdown object>"
      ],
      "text/markdown": "### 5.5.4 Baseline BML variables' coefficients against K-L score at 24-month follow-up"
     },
     "metadata": {},
     "output_type": "display_data"
    },
    {
     "data": {
      "text/plain": [
       "       Feature  Importance  Importance_std\n",
       "24  V00MBMPTMC    0.044965        0.006329\n",
       "28   V00MBMPPM    0.040104        0.009865\n",
       "2   V00MBMSFMC    0.030035        0.006771\n",
       "4   V00MBMSFMP    0.023611        0.006024\n",
       "14   V00MBMSPL    0.022743        0.010630\n",
       "7   V00MBMSTMA    0.022222        0.009180\n",
       "13   V00MBMSPM    0.019965        0.009325\n",
       "16  V00MBMPFLA    0.019792        0.004406\n",
       "9   V00MBMSTMC    0.017882        0.008578\n",
       "1   V00MBMSFLA    0.015278        0.005424"
      ],
      "text/html": [
       "<div>\n",
       "<style scoped>\n",
       "    .dataframe tbody tr th:only-of-type {\n",
       "        vertical-align: middle;\n",
       "    }\n",
       "\n",
       "    .dataframe tbody tr th {\n",
       "        vertical-align: top;\n",
       "    }\n",
       "\n",
       "    .dataframe thead th {\n",
       "        text-align: right;\n",
       "    }\n",
       "</style>\n",
       "<table border=\"1\" class=\"dataframe\">\n",
       "  <thead>\n",
       "    <tr style=\"text-align: right;\">\n",
       "      <th></th>\n",
       "      <th>Feature</th>\n",
       "      <th>Importance</th>\n",
       "      <th>Importance_std</th>\n",
       "    </tr>\n",
       "  </thead>\n",
       "  <tbody>\n",
       "    <tr>\n",
       "      <th>24</th>\n",
       "      <td>V00MBMPTMC</td>\n",
       "      <td>0.044965</td>\n",
       "      <td>0.006329</td>\n",
       "    </tr>\n",
       "    <tr>\n",
       "      <th>28</th>\n",
       "      <td>V00MBMPPM</td>\n",
       "      <td>0.040104</td>\n",
       "      <td>0.009865</td>\n",
       "    </tr>\n",
       "    <tr>\n",
       "      <th>2</th>\n",
       "      <td>V00MBMSFMC</td>\n",
       "      <td>0.030035</td>\n",
       "      <td>0.006771</td>\n",
       "    </tr>\n",
       "    <tr>\n",
       "      <th>4</th>\n",
       "      <td>V00MBMSFMP</td>\n",
       "      <td>0.023611</td>\n",
       "      <td>0.006024</td>\n",
       "    </tr>\n",
       "    <tr>\n",
       "      <th>14</th>\n",
       "      <td>V00MBMSPL</td>\n",
       "      <td>0.022743</td>\n",
       "      <td>0.010630</td>\n",
       "    </tr>\n",
       "    <tr>\n",
       "      <th>7</th>\n",
       "      <td>V00MBMSTMA</td>\n",
       "      <td>0.022222</td>\n",
       "      <td>0.009180</td>\n",
       "    </tr>\n",
       "    <tr>\n",
       "      <th>13</th>\n",
       "      <td>V00MBMSPM</td>\n",
       "      <td>0.019965</td>\n",
       "      <td>0.009325</td>\n",
       "    </tr>\n",
       "    <tr>\n",
       "      <th>16</th>\n",
       "      <td>V00MBMPFLA</td>\n",
       "      <td>0.019792</td>\n",
       "      <td>0.004406</td>\n",
       "    </tr>\n",
       "    <tr>\n",
       "      <th>9</th>\n",
       "      <td>V00MBMSTMC</td>\n",
       "      <td>0.017882</td>\n",
       "      <td>0.008578</td>\n",
       "    </tr>\n",
       "    <tr>\n",
       "      <th>1</th>\n",
       "      <td>V00MBMSFLA</td>\n",
       "      <td>0.015278</td>\n",
       "      <td>0.005424</td>\n",
       "    </tr>\n",
       "  </tbody>\n",
       "</table>\n",
       "</div>"
      ]
     },
     "metadata": {},
     "output_type": "display_data"
    },
    {
     "data": {
      "text/plain": [
       "<IPython.core.display.Markdown object>"
      ],
      "text/markdown": "### 5.5.5 Baseline BML variables' classification report against K-L score at 24-month follow-up"
     },
     "metadata": {},
     "output_type": "display_data"
    },
    {
     "data": {
      "text/plain": [
       "<IPython.core.display.JSON object>"
      ],
      "application/json": {
       "0": {
        "precision": 0.5059760956175299,
        "recall": 0.7383720930232558,
        "f1-score": 0.6004728132387707,
        "support": 172.0
       },
       "1": {
        "precision": 0.4307692307692308,
        "recall": 0.35443037974683544,
        "f1-score": 0.3888888888888889,
        "support": 158.0
       },
       "2": {
        "precision": 0.49514563106796117,
        "recall": 0.38636363636363635,
        "f1-score": 0.4340425531914894,
        "support": 132.0
       },
       "3": {
        "precision": 0.8043478260869565,
        "recall": 0.6491228070175439,
        "f1-score": 0.7184466019417476,
        "support": 114.0
       },
       "accuracy": 0.5347222222222222,
       "macro avg": {
        "precision": 0.5590596958854196,
        "recall": 0.5320722290378179,
        "f1-score": 0.5354627143152241,
        "support": 576.0
       },
       "weighted avg": {
        "precision": 0.5419171916365235,
        "recall": 0.5347222222222222,
        "f1-score": 0.5276428784099806,
        "support": 576.0
       }
      }
     },
     "metadata": {
      "application/json": {
       "expanded": true,
       "root": "root"
      }
     },
     "output_type": "display_data"
    },
    {
     "data": {
      "text/plain": [
       "None"
      ]
     },
     "metadata": {},
     "output_type": "display_data"
    },
    {
     "data": {
      "text/plain": [
       "<IPython.core.display.Markdown object>"
      ],
      "text/markdown": "### 5.5.6 Baseline BML variables' confusion matrix against K-L score at 24-month follow-up"
     },
     "metadata": {},
     "output_type": "display_data"
    },
    {
     "data": {
      "text/plain": [
       "        Pred 0  Pred 1  Pred 2  Pred 3\n",
       "True 0     127      32      12       1\n",
       "True 1      72      56      22       8\n",
       "True 2      41      31      51       9\n",
       "True 3      11      11      18      74"
      ],
      "text/html": [
       "<div>\n",
       "<style scoped>\n",
       "    .dataframe tbody tr th:only-of-type {\n",
       "        vertical-align: middle;\n",
       "    }\n",
       "\n",
       "    .dataframe tbody tr th {\n",
       "        vertical-align: top;\n",
       "    }\n",
       "\n",
       "    .dataframe thead th {\n",
       "        text-align: right;\n",
       "    }\n",
       "</style>\n",
       "<table border=\"1\" class=\"dataframe\">\n",
       "  <thead>\n",
       "    <tr style=\"text-align: right;\">\n",
       "      <th></th>\n",
       "      <th>Pred 0</th>\n",
       "      <th>Pred 1</th>\n",
       "      <th>Pred 2</th>\n",
       "      <th>Pred 3</th>\n",
       "    </tr>\n",
       "  </thead>\n",
       "  <tbody>\n",
       "    <tr>\n",
       "      <th>True 0</th>\n",
       "      <td>127</td>\n",
       "      <td>32</td>\n",
       "      <td>12</td>\n",
       "      <td>1</td>\n",
       "    </tr>\n",
       "    <tr>\n",
       "      <th>True 1</th>\n",
       "      <td>72</td>\n",
       "      <td>56</td>\n",
       "      <td>22</td>\n",
       "      <td>8</td>\n",
       "    </tr>\n",
       "    <tr>\n",
       "      <th>True 2</th>\n",
       "      <td>41</td>\n",
       "      <td>31</td>\n",
       "      <td>51</td>\n",
       "      <td>9</td>\n",
       "    </tr>\n",
       "    <tr>\n",
       "      <th>True 3</th>\n",
       "      <td>11</td>\n",
       "      <td>11</td>\n",
       "      <td>18</td>\n",
       "      <td>74</td>\n",
       "    </tr>\n",
       "  </tbody>\n",
       "</table>\n",
       "</div>"
      ]
     },
     "metadata": {},
     "output_type": "display_data"
    }
   ],
   "execution_count": 18
  },
  {
   "metadata": {
    "ExecuteTime": {
     "end_time": "2025-08-21T23:01:02.836991Z",
     "start_time": "2025-08-21T23:01:02.828166Z"
    }
   },
   "cell_type": "code",
   "source": [
    "from scripts.mbm.kl_oriented.kl_mbm_hist import v01_v03_moaks_kl_coefs_df, v01_v03_report, v01_v03_confusion_matrix\n",
    "\n",
    "display(Markdown('### 5.5.7 12-month follow-up BML variables\\' coefficients against K-L score at 24-month follow-up'))\n",
    "display(v01_v03_moaks_kl_coefs_df.sort_values(by='Importance', ascending=False).head(10))\n",
    "display(Markdown('### 5.5.8 12-month follow-up BML variables\\' classification report against K-L score at 24-month follow-up'))\n",
    "display(display(JSON(v01_v03_report, expanded=True)))\n",
    "display(Markdown('### 5.5.9 12-month follow-up BML variables\\' confusion matrix against K-L score at 24-month follow-up'))\n",
    "display(v01_v03_confusion_matrix)"
   ],
   "id": "37de99ce3a0ddb33",
   "outputs": [
    {
     "data": {
      "text/plain": [
       "<IPython.core.display.Markdown object>"
      ],
      "text/markdown": "### 5.5.7 12-month follow-up BML variables' coefficients against K-L score at 24-month follow-up"
     },
     "metadata": {},
     "output_type": "display_data"
    },
    {
     "data": {
      "text/plain": [
       "       Feature  Importance  Importance_std\n",
       "1   V01MBMSFLA    0.050694        0.007192\n",
       "13   V01MBMSPM    0.050347        0.010212\n",
       "14   V01MBMSPL    0.034375        0.014931\n",
       "24  V01MBMPTMC    0.034201        0.012079\n",
       "21   V01MBMPSS    0.032118        0.005337\n",
       "28   V01MBMPPM    0.028993        0.005153\n",
       "9   V01MBMSTMC    0.025347        0.011230\n",
       "2   V01MBMSFMC    0.024479        0.008123\n",
       "29   V01MBMPPL    0.017882        0.003963\n",
       "17  V01MBMPFMC    0.017014        0.006760"
      ],
      "text/html": [
       "<div>\n",
       "<style scoped>\n",
       "    .dataframe tbody tr th:only-of-type {\n",
       "        vertical-align: middle;\n",
       "    }\n",
       "\n",
       "    .dataframe tbody tr th {\n",
       "        vertical-align: top;\n",
       "    }\n",
       "\n",
       "    .dataframe thead th {\n",
       "        text-align: right;\n",
       "    }\n",
       "</style>\n",
       "<table border=\"1\" class=\"dataframe\">\n",
       "  <thead>\n",
       "    <tr style=\"text-align: right;\">\n",
       "      <th></th>\n",
       "      <th>Feature</th>\n",
       "      <th>Importance</th>\n",
       "      <th>Importance_std</th>\n",
       "    </tr>\n",
       "  </thead>\n",
       "  <tbody>\n",
       "    <tr>\n",
       "      <th>1</th>\n",
       "      <td>V01MBMSFLA</td>\n",
       "      <td>0.050694</td>\n",
       "      <td>0.007192</td>\n",
       "    </tr>\n",
       "    <tr>\n",
       "      <th>13</th>\n",
       "      <td>V01MBMSPM</td>\n",
       "      <td>0.050347</td>\n",
       "      <td>0.010212</td>\n",
       "    </tr>\n",
       "    <tr>\n",
       "      <th>14</th>\n",
       "      <td>V01MBMSPL</td>\n",
       "      <td>0.034375</td>\n",
       "      <td>0.014931</td>\n",
       "    </tr>\n",
       "    <tr>\n",
       "      <th>24</th>\n",
       "      <td>V01MBMPTMC</td>\n",
       "      <td>0.034201</td>\n",
       "      <td>0.012079</td>\n",
       "    </tr>\n",
       "    <tr>\n",
       "      <th>21</th>\n",
       "      <td>V01MBMPSS</td>\n",
       "      <td>0.032118</td>\n",
       "      <td>0.005337</td>\n",
       "    </tr>\n",
       "    <tr>\n",
       "      <th>28</th>\n",
       "      <td>V01MBMPPM</td>\n",
       "      <td>0.028993</td>\n",
       "      <td>0.005153</td>\n",
       "    </tr>\n",
       "    <tr>\n",
       "      <th>9</th>\n",
       "      <td>V01MBMSTMC</td>\n",
       "      <td>0.025347</td>\n",
       "      <td>0.011230</td>\n",
       "    </tr>\n",
       "    <tr>\n",
       "      <th>2</th>\n",
       "      <td>V01MBMSFMC</td>\n",
       "      <td>0.024479</td>\n",
       "      <td>0.008123</td>\n",
       "    </tr>\n",
       "    <tr>\n",
       "      <th>29</th>\n",
       "      <td>V01MBMPPL</td>\n",
       "      <td>0.017882</td>\n",
       "      <td>0.003963</td>\n",
       "    </tr>\n",
       "    <tr>\n",
       "      <th>17</th>\n",
       "      <td>V01MBMPFMC</td>\n",
       "      <td>0.017014</td>\n",
       "      <td>0.006760</td>\n",
       "    </tr>\n",
       "  </tbody>\n",
       "</table>\n",
       "</div>"
      ]
     },
     "metadata": {},
     "output_type": "display_data"
    },
    {
     "data": {
      "text/plain": [
       "<IPython.core.display.Markdown object>"
      ],
      "text/markdown": "### 5.5.8 12-month follow-up BML variables' classification report against K-L score at 24-month follow-up"
     },
     "metadata": {},
     "output_type": "display_data"
    },
    {
     "data": {
      "text/plain": [
       "<IPython.core.display.JSON object>"
      ],
      "application/json": {
       "0": {
        "precision": 0.5394190871369294,
        "recall": 0.7558139534883721,
        "f1-score": 0.6295399515738499,
        "support": 172.0
       },
       "1": {
        "precision": 0.5178571428571429,
        "recall": 0.3670886075949367,
        "f1-score": 0.42962962962962964,
        "support": 158.0
       },
       "2": {
        "precision": 0.5546218487394958,
        "recall": 0.5,
        "f1-score": 0.5258964143426295,
        "support": 132.0
       },
       "3": {
        "precision": 0.7788461538461539,
        "recall": 0.7105263157894737,
        "f1-score": 0.7431192660550459,
        "support": 114.0
       },
       "accuracy": 0.5815972222222222,
       "macro avg": {
        "precision": 0.5976860581449305,
        "recall": 0.5833572192181956,
        "f1-score": 0.5820463154002887,
        "support": 576.0
       },
       "weighted avg": {
        "precision": 0.5843750991858602,
        "recall": 0.5815972222222222,
        "f1-score": 0.5734310350272326,
        "support": 576.0
       }
      }
     },
     "metadata": {
      "application/json": {
       "expanded": true,
       "root": "root"
      }
     },
     "output_type": "display_data"
    },
    {
     "data": {
      "text/plain": [
       "None"
      ]
     },
     "metadata": {},
     "output_type": "display_data"
    },
    {
     "data": {
      "text/plain": [
       "<IPython.core.display.Markdown object>"
      ],
      "text/markdown": "### 5.5.9 12-month follow-up BML variables' confusion matrix against K-L score at 24-month follow-up"
     },
     "metadata": {},
     "output_type": "display_data"
    },
    {
     "data": {
      "text/plain": [
       "        Pred 0  Pred 1  Pred 2  Pred 3\n",
       "True 0     130      18      21       3\n",
       "True 1      72      58      22       6\n",
       "True 2      25      27      66      14\n",
       "True 3      14       9      10      81"
      ],
      "text/html": [
       "<div>\n",
       "<style scoped>\n",
       "    .dataframe tbody tr th:only-of-type {\n",
       "        vertical-align: middle;\n",
       "    }\n",
       "\n",
       "    .dataframe tbody tr th {\n",
       "        vertical-align: top;\n",
       "    }\n",
       "\n",
       "    .dataframe thead th {\n",
       "        text-align: right;\n",
       "    }\n",
       "</style>\n",
       "<table border=\"1\" class=\"dataframe\">\n",
       "  <thead>\n",
       "    <tr style=\"text-align: right;\">\n",
       "      <th></th>\n",
       "      <th>Pred 0</th>\n",
       "      <th>Pred 1</th>\n",
       "      <th>Pred 2</th>\n",
       "      <th>Pred 3</th>\n",
       "    </tr>\n",
       "  </thead>\n",
       "  <tbody>\n",
       "    <tr>\n",
       "      <th>True 0</th>\n",
       "      <td>130</td>\n",
       "      <td>18</td>\n",
       "      <td>21</td>\n",
       "      <td>3</td>\n",
       "    </tr>\n",
       "    <tr>\n",
       "      <th>True 1</th>\n",
       "      <td>72</td>\n",
       "      <td>58</td>\n",
       "      <td>22</td>\n",
       "      <td>6</td>\n",
       "    </tr>\n",
       "    <tr>\n",
       "      <th>True 2</th>\n",
       "      <td>25</td>\n",
       "      <td>27</td>\n",
       "      <td>66</td>\n",
       "      <td>14</td>\n",
       "    </tr>\n",
       "    <tr>\n",
       "      <th>True 3</th>\n",
       "      <td>14</td>\n",
       "      <td>9</td>\n",
       "      <td>10</td>\n",
       "      <td>81</td>\n",
       "    </tr>\n",
       "  </tbody>\n",
       "</table>\n",
       "</div>"
      ]
     },
     "metadata": {},
     "output_type": "display_data"
    }
   ],
   "execution_count": 19
  },
  {
   "metadata": {},
   "cell_type": "markdown",
   "source": [
    "# 5.6 K-L XGBoost Classifier Model with Lasso Feature Space\n",
    "The XGBoost classifier with softmax predicts multi-class outcomes by applying gradient-boosted decision trees and using the softmax function to output class probabilities. Here, the features selected for prediction are those selected by Lasso in the previous steps."
   ],
   "id": "bbf0f8db9f6fd2ec"
  },
  {
   "metadata": {
    "ExecuteTime": {
     "end_time": "2025-08-21T23:01:19.038824Z",
     "start_time": "2025-08-21T23:01:19.004893Z"
    }
   },
   "cell_type": "code",
   "source": [
    "from scripts.mbm.kl_oriented.kl_mbm_xgBoost import v00_v01_moaks_kl_lasso_coefs_df, v00_v01_moaks_kl_lasso_metrics, v00_v01_moaks_kl_roc\n",
    "\n",
    "display(Markdown('### 5.6.1 Baseline BML variables\\' importance against K-L score at 12-month follow-up'))\n",
    "display(v00_v01_moaks_kl_lasso_coefs_df.sort_values(by='Importance', ascending=False).head(10))\n",
    "display(Markdown('### 5.6.2 Baseline BML variables\\' classification report against K-L score at 12-month follow-up'))\n",
    "display(display(JSON(v00_v01_moaks_kl_lasso_metrics)))\n",
    "display(Markdown('### 5.6.3 Baseline BML variables\\' AUC-ROC curve against K-L score at 12-month follow-up'))\n",
    "v00_v01_moaks_kl_roc.show()"
   ],
   "id": "ae839fab97a4ec6b",
   "outputs": [
    {
     "data": {
      "text/plain": [
       "<IPython.core.display.Markdown object>"
      ],
      "text/markdown": "### 5.6.1 Baseline BML variables' importance against K-L score at 12-month follow-up"
     },
     "metadata": {},
     "output_type": "display_data"
    },
    {
     "data": {
      "text/plain": [
       "      Feature  Importance\n",
       "0  V00MBMPTMC    0.126541\n",
       "1  V00MBMSTMC    0.110308\n",
       "2  V00MBMNTMC    0.053654\n",
       "3  V00MBMSTLC    0.052296\n",
       "4  V00MBMSFLC    0.047329\n",
       "5  V00MBMSFMC    0.045549\n",
       "6  V00MBMPFMC    0.037608\n",
       "7   V00MBMPSS    0.036488\n",
       "8  V00MBMPFMP    0.033823\n",
       "9  V00MBMPTMP    0.033543"
      ],
      "text/html": [
       "<div>\n",
       "<style scoped>\n",
       "    .dataframe tbody tr th:only-of-type {\n",
       "        vertical-align: middle;\n",
       "    }\n",
       "\n",
       "    .dataframe tbody tr th {\n",
       "        vertical-align: top;\n",
       "    }\n",
       "\n",
       "    .dataframe thead th {\n",
       "        text-align: right;\n",
       "    }\n",
       "</style>\n",
       "<table border=\"1\" class=\"dataframe\">\n",
       "  <thead>\n",
       "    <tr style=\"text-align: right;\">\n",
       "      <th></th>\n",
       "      <th>Feature</th>\n",
       "      <th>Importance</th>\n",
       "    </tr>\n",
       "  </thead>\n",
       "  <tbody>\n",
       "    <tr>\n",
       "      <th>0</th>\n",
       "      <td>V00MBMPTMC</td>\n",
       "      <td>0.126541</td>\n",
       "    </tr>\n",
       "    <tr>\n",
       "      <th>1</th>\n",
       "      <td>V00MBMSTMC</td>\n",
       "      <td>0.110308</td>\n",
       "    </tr>\n",
       "    <tr>\n",
       "      <th>2</th>\n",
       "      <td>V00MBMNTMC</td>\n",
       "      <td>0.053654</td>\n",
       "    </tr>\n",
       "    <tr>\n",
       "      <th>3</th>\n",
       "      <td>V00MBMSTLC</td>\n",
       "      <td>0.052296</td>\n",
       "    </tr>\n",
       "    <tr>\n",
       "      <th>4</th>\n",
       "      <td>V00MBMSFLC</td>\n",
       "      <td>0.047329</td>\n",
       "    </tr>\n",
       "    <tr>\n",
       "      <th>5</th>\n",
       "      <td>V00MBMSFMC</td>\n",
       "      <td>0.045549</td>\n",
       "    </tr>\n",
       "    <tr>\n",
       "      <th>6</th>\n",
       "      <td>V00MBMPFMC</td>\n",
       "      <td>0.037608</td>\n",
       "    </tr>\n",
       "    <tr>\n",
       "      <th>7</th>\n",
       "      <td>V00MBMPSS</td>\n",
       "      <td>0.036488</td>\n",
       "    </tr>\n",
       "    <tr>\n",
       "      <th>8</th>\n",
       "      <td>V00MBMPFMP</td>\n",
       "      <td>0.033823</td>\n",
       "    </tr>\n",
       "    <tr>\n",
       "      <th>9</th>\n",
       "      <td>V00MBMPTMP</td>\n",
       "      <td>0.033543</td>\n",
       "    </tr>\n",
       "  </tbody>\n",
       "</table>\n",
       "</div>"
      ]
     },
     "metadata": {},
     "output_type": "display_data"
    },
    {
     "data": {
      "text/plain": [
       "<IPython.core.display.Markdown object>"
      ],
      "text/markdown": "### 5.6.2 Baseline BML variables' classification report against K-L score at 12-month follow-up"
     },
     "metadata": {},
     "output_type": "display_data"
    },
    {
     "data": {
      "text/plain": [
       "<IPython.core.display.JSON object>"
      ],
      "application/json": {
       "0": {
        "precision": 0.5137931034482759,
        "recall": 0.8142076502732241,
        "f1-score": 0.6300211416490487,
        "support": 183.0
       },
       "1": {
        "precision": 0.5211267605633803,
        "recall": 0.4157303370786517,
        "f1-score": 0.4625,
        "support": 178.0
       },
       "2": {
        "precision": 0.6,
        "recall": 0.3620689655172414,
        "f1-score": 0.45161290322580644,
        "support": 116.0
       },
       "3": {
        "precision": 0.9324324324324325,
        "recall": 0.696969696969697,
        "f1-score": 0.7976878612716763,
        "support": 99.0
       },
       "accuracy": 0.5798611111111112,
       "macro avg": {
        "precision": 0.6418380741110221,
        "recall": 0.5722441624597036,
        "f1-score": 0.5854554765366329,
        "support": 576.0
       },
       "weighted avg": {
        "precision": 0.6053741529898038,
        "recall": 0.5798611111111112,
        "f1-score": 0.5711407360449052,
        "support": 576.0
       }
      }
     },
     "metadata": {
      "application/json": {
       "expanded": false,
       "root": "root"
      }
     },
     "output_type": "display_data"
    },
    {
     "data": {
      "text/plain": [
       "None"
      ]
     },
     "metadata": {},
     "output_type": "display_data"
    },
    {
     "data": {
      "text/plain": [
       "<IPython.core.display.Markdown object>"
      ],
      "text/markdown": "### 5.6.3 Baseline BML variables' AUC-ROC curve against K-L score at 12-month follow-up"
     },
     "metadata": {},
     "output_type": "display_data"
    },
    {
     "data": {
      "application/vnd.plotly.v1+json": {
       "data": [
        {
         "mode": "lines",
         "name": "Class 0 (AUC=0.78)",
         "x": {
          "dtype": "f8",
          "bdata": "AAAAAAAAAAAAAAAAAAAAAAAAAAAAAAAAAAAAAAAAAABMLNy+Q9hkP0ws3L5D2GQ/cUJKnmVEfz9xQkqeZUR/P0ws3L5D2IQ/TCzcvkPYhD/CpgBHOz2SP8KmAEc7PZI/1bG3Nkxzlz9eN5OuVA6aP143k65UDpo/XjeTrlQOmj9eN5OuVA6aP8KmAEc7PaI/1bG3Nkxzxz/Vsbc2THPHPxCojr21Yco/EKiOvbVhyj/BGIrMFrXKPyP6gOrYW8s/QkqeZUQf0D9CSp5lRB/QP5sCHO30SNA/VpyQkmcZ0T9WnJCSZxnRPzja6ZEg3tM/ONrpkSDe0z/pSuWggTHUP/2c182kK9U/B8ZQZLao1T9pp0eCeE/WP8FfxQkpedY/c9DAGIrM1j+GIrNFrcbXP5BLLNy+Q9g/kEss3L5D2D+adKVy0MDYP5p0pXLQwNg//FWckJJn2T/8VZyQkmfZP63Gl5/zutk/XjeTrlQO2j9eN5OuVA7aP8tBA2MoMts/y0EDYygy2z8j+oDq2FvbPyP6gOrYW9s/fLL+cYmF2z+G23cImwLcP96T9Y9LLNw/QHXsrQ3T3D+ZLWo1vvzcP5ktajW+/Nw/Sp5lRB9Q3T9e8FdxQkreP2gZ0QdUx94/GYrMFrUa3z/K+sclFm7fP8r6xyUWbt8/Fm7fIWwK4D+bAhzt9EjgP/S6mXSlcuA/IJdYuH2H4D+lK5WDBsbgP/3jEgu37+A//eMSC7fv4D9WnJCSZxnhP4J4T9Y/LuE/2zDNXfBX4T9gxQkpeZbhPz0SxHuy/uE/PRLEe7L+4T+WykEDYyjiP5bKQQNjKOI/Rzs9EsR74j9HOz0SxHviP9b48nNeN+M/s0Wtxpef4z/fIWwKcLTjP2S2qNX48uM/kZJnGdEH5D+RkmcZ0QfkP71uJl2pHOQ/QgNjKDJb5D9u3yFsCnDkP8eXn/O6meQ/H1Ade2vD5D94CJsCHO3kP9DAGIrMFuU/KXmWEX1A5T8peZYRfUDlP1VVVVVVVeU/VVVVVVVV5T8HxlBktqjlP19+zutm0uU/i1qNLz/n5T/kEgu37xDmP5WDBsZQZOY/GhhDkdmi5j+frH9cYuHmP/hk/eMSC+c/JEG8J+sf5z98+Tmvm0nnP4Yis0Wtxuc/39owzV3w5z/pA6pjb23oP+kDqmNvbeg/pJ0eCeI96T/8VZyQkmfpP/xVnJCSZ+k/2qJW48vP6T/aolbjy8/pP4sTUvIsI+o/ixNS8iwj6j/t9EgQ78nqP0atxpef8+o/y0EDYygy6z8j+oDq2FvrP9RqfPk5r+s/1Gp8+Tmv6z8tI/qA6tjrP4bbdwibAuw/+w5hU4Cj7T9Ux97aMM3tP+OElDzLiO4/Oz0SxHuy7j8AAAAAAADwPw=="
         },
         "y": {
          "dtype": "f8",
          "bdata": "AAAAAAAAAAD5IlFq7GGGP/kiUWrsYZY/O9q8T3HJoD872rxPccmgP5r+Bt2ulaM/mv4G3a6Voz/5IlFq7GGmP/kiUWrsYaY/WEeb9ykuqT9YR5v3KS6pPxaQLxKlxq4/FpAvEqXGrj9q7GEWkC+yP5r+Bt2ulbM/KTX2MAvItz9YR5v3KS65P1hHm/cpLrk/FpAvEqXG3j+i1NjDLCDfP4F8kSg19uA/xx5mAfki4T/HHmYB+SLhP8gXiVJjD+M/VVVVVVVV5T8nPNPfoNvlPyc809+g2+U/P8UlQ7CO5j+FZ/obdLvmP0C+SJQae+g/hmAdbd6n6D+GYB1t3qfoP8wC8kWi1Og/nulv0O1a6T9w0O1aOeHpP3DQ7Vo54ek/cNDtWjnh6T9Ct2vlhGfqP0K3a+WEZ+o/iFlAvkiU6j+IWUC+SJTqP877FJcMweo/zvsUlwzB6j8Unulv0O3qPxSe6W/Q7eo/FJ7pb9Dt6j9aQL5IlBrrP7dr5YRn+us//Q26XSsn7D/9DbpdKyfsP4lSYw+zgOw/iVJjD7OA7D+JUmMPs4DsP4lSYw+zgOw/iVJjD7OA7D+JUmMPs4DsP8/0N+h2rew/z/Q36Hat7D/P9Dfodq3sP6HbtXLCM+0/odu1csIz7T/nfYpLhmDtPy0gXyRKje0/LSBfJEqN7T8tIF8kSo3tPy0gXyRKje0/LSBfJEqN7T8tIF8kSo3tPy0gXyRKje0/c8Iz/Q267T9zwjP9DbrtP7lkCNbR5u0/uWQI1tHm7T+5ZAjW0ebtP7lkCNbR5u0//wbdrpUT7j//Bt2ulRPuP0WpsYdZQO4/Ramxh1lA7j+KS4ZgHW3uP4pLhmAdbe4/ikuGYB1t7j+KS4ZgHW3uP4pLhmAdbe4/ikuGYB1t7j/Q7Vo54ZnuP9DtWjnhme4/0O1aOeGZ7j/Q7Vo54ZnuP9DtWjnhme4/0O1aOeGZ7j/Q7Vo54ZnuP9DtWjnhme4/0O1aOeGZ7j8WkC8SpcbuPxaQLxKlxu4/otTYwywg7z+i1NjDLCDvP6LU2MMsIO8/otTYwywg7z+i1NjDLCDvP6LU2MMsIO8/otTYwywg7z+i1NjDLCDvP6LU2MMsIO8/otTYwywg7z+i1NjDLCDvP6LU2MMsIO8/otTYwywg7z+i1NjDLCDvP+h2rZzwTO8/6HatnPBM7z/odq2c8EzvPy4ZgnW0ee8/LhmCdbR57z90u1ZOeKbvP3S7Vk54pu8/ul0rJzzT7z+6XSsnPNPvP7pdKyc80+8/ul0rJzzT7z+6XSsnPNPvP7pdKyc80+8/AAAAAAAA8D8AAAAAAADwPwAAAAAAAPA/AAAAAAAA8D8AAAAAAADwPwAAAAAAAPA/AAAAAAAA8D8AAAAAAADwPw=="
         },
         "type": "scatter"
        },
        {
         "mode": "lines",
         "name": "Class 1 (AUC=0.70)",
         "x": {
          "dtype": "f8",
          "bdata": "AAAAAAAAAAAAAAAAAAAAAGfQsuM5lWQ/Z9Cy4zmVZD9n0LLjOZV0P2fQsuM5lXQ/Z9Cy4zmVhD9n0LLjOZWEP2fQsuM5lYQ/Z9Cy4zmVhD9n0LLjOZWEP5o4jNXW344/WnY8p5ICkj9adjynkgKSP2fQsuM5lZQ/Z9Cy4zmVlD90Kikg4SeXP3QqKSDhJ5c/VEkBCT+5oD9USQEJP7mgP2Cjd0XmS6M/YKN3ReZLoz9go3dF5kujP2Cjd0XmS6M/Z9Cy4zmVpD9n0LLjOZWkP2fQsuM5laQ/bf3tgY3epT9t/e2Bjd6lP2397YGN3qU/gYSfXIi6qT+BhJ9ciLqpP4ex2vrbA6s/lAtRN4OWrT+UC1E3g5atP9Cy4zmVFLA/0LLjOZUUsD9USQEJP7mwP1RJAQk/ubA/WnY8p5ICsj/dDFp2PKeyP90MWnY8p7I/Z9Cy4zmVtD9n0LLjOZW0P+pm0LLjObU/6mbQsuM5tT9t/e2Bjd61P/GTC1E3g7Y/8ZMLUTeDtj90Kikg4Se3P3QqKSDhJ7c/98BG74rMtz96V2S+NHG4P/3tgY3eFbk/BBu9KzJfuj8EG70rMl+6P4ex2vrbA7s/jt4VmS9NvD8RdTNo2fG8P5QLUTeDlr0/F6JuBi07vj+aOIzV1t++P1RJAQk/ucA/WnY8p5ICwj+19bcHNnrHP/fARu+KzMc/1tbfHtjozT9Zbf3tgY3OP5o4jNXW384/mjiM1dbfzj9USQEJP7nQP1RJAQk/udA/NnpXZL400T+5EHUzaNnRPzynkgISftI/xmrrbw9s1D+pm0HLjufUP5UUkPCTC+E/NnpXZL404T+cQcuO51TiPzynkgISfuI/fnIh6mbQ4j9OJQUk/OTiPx/Y6F2R+eI/H9joXZH54j8f2OhdkfniP++KzJcmDuM/MVZbf3tg4z8BCT+5EHXjP3Ih6mbQsuM/5DmVFJDw4z9VUkDCTy7kPyUFJPzkQuQ/xmrrbw9s5D/GautvD2zkPzeDlh3PqeQ/GrTseE4l5T8atOx4TiXlP7sZtOx4TuU/LDJfmjiM5T/85ELUzaDlP/zkQtTNoOU/zZcmDmO15T/NlyYOY7XlP2397YGN3uU/bf3tgY3e5T/xkwtRN4PmP/GTC1E3g+Y/Yqy2/vbA5j/TxGGstv7mP9PEYay2/uY/dCopIOEn5z+19bcHNnrnP7X1twc2euc/Jw5jtfW35z8nDmO19bfnP8dzKikg4ec/aNnxnEoK6D8JP7kQdTPoP6qkgISfXOg/vCLzpYnD6D9diLoZtOzoP7DRuyLzpek/sNG7IvOl6T9RN4OWHc/pP/KcSgpI+Ok/kwISfnIh6j8oF6JuBi3rP8l8aeIwVus/aeIwVlt/6z8KSPjJhajrP9v62wMbves/e2Cjd0Xm6z9ME4ex2vrrP0wTh7Ha+us/oFyIuhm07D9Awk8uRN3sPzVxGKutv+0/NXEYq62/7T8AAAAAAADwPw=="
         },
         "y": {
          "dtype": "f8",
          "bdata": "AAAAAAAAAABwgQtc4AJ3P3CBC1zgAnc/cIELXOAChz9wgQtc4AKHPxShCEUoQpE/FKEIRShCkT/MYQ5zmMOcPxShCEUoQqE/cIELXOACpz+e8YxnPOOpP57xjGc846k/nvGMZzzjqT8UoQhFKEKxPxShCEUoQrE/QhGKUIQitD9CEYpQhCK0P1nJSlaykrU/WclKVrKStT9wgQtc4AK3P3CBC1zgArc/nvGMZzzjuT/MYQ5zmMO8PwlFKEIRisA/CUUoQhGKwD8rWclKVrLCP0IRilCEIsQ/QhGKUIQixD9lJStZyUrGP3CBC1zgAsc/cIELXOACxz983ete97rHP3zd6173usc/nvGMZzzjyT+1qU1talPLP8EFLnCBC8w/zGEOc5jDzD/MYQ5zmMPMP+MZz3jGM84/4xnPeMYzzj/vda973evOP/rRj370o88/+tGPfvSjzz8Oc5jDHObQPw5zmMMc5tA/FKEIRShC0T8UoQhFKELRPyD96Ec/+tE/K1nJSlay0j8rWclKVrLSPzGHOcxhDtM/MYc5zGEO0z9CEYpQhCLUP0IRilCEItQ/QhGKUIQi1D9ObWpTm9rUP1Ob2tSmNtU/U5va1KY21T9ZyUpWspLVP1nJSlayktU/ZSUrWclK1j9lJStZyUrWP4ELXOACF9g/gQtc4AIX2D+7173uda/bP7vXve51r9s/73Wve93r3j/vda973eveP/SjH/3oR98/AAAAAAAA4D8MXOACF7jgPw5zmMMc5uA/DnOYwxzm4D8Oc5jDHObgPxShCEUoQuE/F7jABS5w4T8XuMAFLnDhP5va1KY2tek/m9rUpja16T+kH/3oRz/qP6Qf/ehHP+o/rWQlK1nJ6j+tZCUrWcnqP6973ete9+o/spKVrGQl6z++7nWve93rP77uda973es/xBzmMIc57D/EHOYwhznsP8Qc5jCHOew/z3jGM57x7D/PeMYznvHsP9KPfvSjH+0/0o9+9KMf7T/Vpja1qU3tP9WmNrWpTe0/3ete97rX7T/gAhe4wAXuP+ACF7jABe4/4AIXuMAF7j/gAhe4wAXuP+MZz3jGM+4/4xnPeMYz7j/pRz/60Y/uP+lHP/rRj+4/7F73ute97j/sXve6173uP+91r3vd6+4/73Wve93r7j/vda973evuP/KMZzzjGe8/8oxnPOMZ7z/yjGc84xnvP/SjH/3oR+8/9KMf/ehH7z/3ute97nXvP/e6173ude8/97rXve517z/3ute97nXvP/e6173ude8/97rXve517z/3ute97nXvP/e6173ude8/+tGPfvSj7z/60Y9+9KPvP/rRj370o+8/+tGPfvSj7z/60Y9+9KPvP/rRj370o+8/+tGPfvSj7z/60Y9+9KPvP/rRj370o+8/+tGPfvSj7z/60Y9+9KPvP/3oRz/60e8//ehHP/rR7z/96Ec/+tHvP/3oRz/60e8/AAAAAAAA8D8AAAAAAADwPw=="
         },
         "type": "scatter"
        },
        {
         "mode": "lines",
         "name": "Class 2 (AUC=0.74)",
         "x": {
          "dtype": "f8",
          "bdata": "AAAAAAAAAAAAAAAAAAAAAB2Boq0Gz2E/HYGirQbPYT8dgaKtBs9hPx2Boq0Gz2E/HYGirQbPcT8dgaKtBs9xPx2Boq0Gz3E/HYGirQbPgT8dgaKtBs+BP2QhC1nIQoY/ZCELWchChj+rwXMEiraKP6vBcwSKtoo/q8FzBIq2ij+rwXMEiraKP/Nh3K9LKo8/82Hcr0sqjz9B0VaD5wiUP0HRVoPnCJQ/iHG/Lql8mD+Icb8uqXyYP/Nh3K9LKp8/82Hcr0sqnz8LWchCFrKgPwtZyEIWsqA/QdFWg+cIpD+Icb8uqXyoP5qZmZmZmak/mpmZmZmZqT/PESjaavCsP88RKNpq8Kw/4TkCRVsNrj/hOQJFWw2uPwJFWw2eI7A/AkVbDZ4jsD8LWchCFrKwPx2Boq0Gz7E/OL3pTW96sz84velNb3qzP0nlw7hfl7Q/SeXDuF+XtD+amZmZmZm5P5qZmZmZmbk/tNXgOQJFuz/qTW9605u+P/x1SeXDuL8//HVJ5cO4vz8CRVsNniPAPxDjfl1S+cA/FG01eI5AwT8qH8b9uqTCPyofxv26pMI/SeXDuF+XxD9gl1Q+jPvFP2mrwXMEisY/aavBcwSKxj9yvy6pfBjHP3ZJ5cO4X8c/etOb3vSmxz+D5wgUbTXIP5GFLGQhC8k/niNQtNXgyT+eI1C01eDJP6vBcwSKtso/sEsqH8b9yj+wSyofxv3KP7lfl1Q+jMs/velNb3rTyz+96U1vetPLP9gllQ/jfs0/6k1vetObzj/zYdyvSyrPP/frksqHcc8/9+uSyodxzz/8dUnlw7jPPwAAAAAAANA/AkVbDZ4j0D8HzxEo2mrQPw2eI1C01dA/EijaavAc0T8Y9+uSyofRPxj365LKh9E/HYGirQbP0T8hC1nIQhbSPyELWchCFtI/MzMzMzMz0z81eI5A0VbTP1C01eA5AtU/Ww2eI1C01T94jkDRVoPXP3rTm970ptc/q8FzBIq22j+wSyofxv3aP7BLKh/G/do/spCFLGQh2z+ykIUsZCHbP7TV4DkCRds/tNXgOQJF2z+3GjxHoGjbP7caPEegaNs/uV+XVD6M2z+5X5dUPozbP7uk8mHcr9s/3/SmN73p5T9gl1Q+jPvlP2CXVD6M++U/5cO4X5dU5j/+uqTyYdznP/66pPJh3Oc/AkVbDZ4j6D8HzxEo2mroP4z7dUnlw+g/EON+XVL56D+RhSxkIQvpPxRtNXiOQOk/lQ/jfl1S6T+VD+N+XVLpPxaykIUsZOk/GzxHoGir6T8dgaKtBs/pP6Boq8FzBOo/KNpq8ByB6j8qH8b9uqTqP64GzxEo2uo/sEsqH8b96j8zMzMzMzPrP7caPEegaOs/uV+XVD6M6z/CcwSKthrsP8JzBIq2Guw/RVsNniNQ7D9HoGirwXPsP0egaKvBc+w/Uvkw7tcl7T9S+TDu1yXtP2ZmZmZmZu4/ZmZmZmZm7j/u1yWVD+PuP/AcgaKtBu8/AAAAAAAA8D8="
         },
         "y": {
          "dtype": "f8",
          "bdata": "AAAAAAAAAACWexphuaeBP5Z7GmG5p4E/lnsaYbmnkT+WexphuaehP5Z7GmG5p7E/lnsaYbmnsT98GmG5pxG2P+5phOWeRrg/7mmE5Z5GuD9huacRlnu6P2G5pxGWe7o/R1juaYTlvj9HWO5phOW+PwnLPY2w3MM/fBphuacRxj/uaYTlnkbIP+5phOWeRsg/YbmnEZZ7yj9huacRlnvKP42w3NMIy80/jbDc0wjLzT/d0wjLPY3QP93TCMs9jdA/c08jLPc00j9zTyMs9zTSPyz3NMJyT9M/LPc0wnJP0z8s9zTCck/TPwnLPY2w3NM/5p5GWO5p1D/mnkZY7mnUP59GWO5phNU/n0ZY7mmE1T8SlnsaYbnXPxKWexphudc/7mmE5Z5G2D/uaYTlnkbYP8s9jbDc09g/yz2NsNzT2D+oEZZ7GmHZP6gRlnsaYdk/hOWeRlju2T8aYbmnEZbbP/c0wnJPI9w/9zTCck8j3D/3NMJyTyPcP/c0wnJPI9w/1AjLPY2w3D/UCMs9jbDcP7Hc0wjLPd0/sdzTCMs93T+NsNzTCMvdP2qE5Z5GWN4/Iyz3NMJy3z/uaYTlnkbgP+5phOWeRuA/3dMIyz2N4D/d0wjLPY3gP93TCMs9jeA/yz2NsNzT4D/LPY2w3NPgP8s9jbDc0+A/qBGWexph4T+WexphuafhP5Z7GmG5p+E/lnsaYbmn4T+E5Z5GWO7hP4TlnkZY7uE/hOWeRlju4T9zTyMs9zTiP2G5pxGWe+I/YbmnEZZ74j9huacRlnviP2G5pxGWe+I/Po2w3NMI4z8+jbDc0wjjPyz3NMJyT+M/LPc0wnJP4z8s9zTCck/jPyz3NMJyT+M/GmG5pxGW4z8aYbmnEZbjPwnLPY2w3OM/Ccs9jbDc4z8Jyz2NsNzjP/c0wnJPI+Q/5p5GWO5p5D/mnkZY7mnkP9QIyz2NsOQ/1AjLPY2w5D+NsNzTCMvlP42w3NMIy+U/NcJyTyMs5z81wnJPIyznPyMs9zTCcuc/Iyz3NMJy5z8SlnsaYbnnPxKWexphuec/AAAAAAAA6D8AAAAAAADoP+5phOWeRug/7mmE5Z5G6D/d0wjLPY3oP93TCMs9jeg/Ccs9jbDc6z8Jyz2NsNzrP+aeRljuaew/5p5GWO5p7D98GmG5pxHuP1juaYTlnu4/WO5phOWe7j9Y7mmE5Z7uP1juaYTlnu4/WO5phOWe7j9Y7mmE5Z7uP1juaYTlnu4/WO5phOWe7j9HWO5phOXuP0dY7mmE5e4/R1juaYTl7j9HWO5phOXuP0dY7mmE5e4/R1juaYTl7j9HWO5phOXuP0dY7mmE5e4/R1juaYTl7j9HWO5phOXuP0dY7mmE5e4/R1juaYTl7j9HWO5phOXuPzXCck8jLO8/NcJyTyMs7z81wnJPIyzvPyMs9zTCcu8/Iyz3NMJy7z8SlnsaYbnvPxKWexphue8/AAAAAAAA8D8AAAAAAADwPwAAAAAAAPA/AAAAAAAA8D8="
         },
         "type": "scatter"
        },
        {
         "mode": "lines",
         "name": "Class 3 (AUC=0.89)",
         "x": {
          "dtype": "f8",
          "bdata": "AAAAAAAAAAAAAAAAAAAAAAAAAAAAAAAAAAAAAAAAAAAAAAAAAAAAAKzA7YmLLGE/rMDtiYssYT+swO2JiyxxP6zA7YmLLHE/rMDtiYsscT+swO2JiyxxP6zA7YmLLIE/rMDtiYssgT/XMGlsrneFP9cwaWyud4U/LRFgMfQNjj+swO2JiyyRP6zA7YmLLJE/wXgr+xxSkz/BeCv7HFKTP+zopt0/nZc/7Oim3T+dlz+swO2JiyyhP8F4K/scUqM/1zBpbK53pT/s6KbdP52nPwx9gwea1ao/F1kiwGLoqz8XWSLAYuirP6HkTtHCGbA/oeRO0cIZsD+mUp4tJ6OwP6ZSni0no7A/tpyMQlQ/sj/BeCv7HFKzP8xUyrPlZLQ/1zBpbK53tT/XMGlsrne1P+EMCCV3irY//DKV8mw5uT/8MpXybDm5PwcPNKs1TLo/EuvSY/5euz8XWSLAYui7Py0RYDH0Db4/Mn+vjViXvj8yf6+NWJe+Pz1bTkYhqr8/qQnGW9nnwD+udxW4PXHBP653Fbg9ccE/sS495u+1wT+5U7RwBoTCP8fmeleB28M/zwvy4ZepxD/RwhkQSu7EP+kxf6+NWMc/6TF/r41Yxz8KxlvZ55DKPwx9gwea1co/FKL6kbCjyz8aEEruFC3MPx9+mUp5tsw/JOzopt0/zT837f7pvCDPPz1bTkYhqs8/oeRO0cIZ0D+h5E7RwhnQPyLAYugbPNA/rMDtiYss0T+05WQUovrRPzh4oFmtYdI/vArcnrjI0j895u+1EevSP3TT7p/OC+I/NcF4K/sc4j93ihbOgFDiP/hlKuXZcuI/uVO0cAaE4j86L8iHX6biP7wK3J64yOI/f6+NWJce4z+SsKObdv/kP1OeLSejEOU/1HlBPvwy5T+VZ8vJKETlPxZD3+CBZuU/mtUaJo3N5T+a1Romjc3lP+TDL1Mpz+Y/pbG53lXg5j+lsbneVeDmP2hWa5g0Nuc/OY7jOI7j6D9Bs1rDpLHpP8KObtr90+k/BFgMfYMH6j/Ks+VkFKLqP4uhb/BAs+o/DzSrNUwa6z/S2FzvKnDrP9LYXO8qcOs/VLRwBoSS6z9Wa5g0NtfrP5g0Nte7Cuw/YUc37f7p7D8iNcF4K/vsP6MQ1Y+EHe0/JOzopt0/7T8noxDVj4TtP6l+JOzopu0/Klo4A0LJ7T/rR8KObtrtP6s1TBqb6+0/bCPWpcf87T+u7HNITTDuP/NsORmFqO4/82w5GYWo7j90SE0w3sruP3xtxLr0mO8/fG3EuvSY7z8AAAAAAADwPw=="
         },
         "y": {
          "dtype": "f8",
          "bdata": "AAAAAAAAAABbv1Kg1q+EP2ApUOtXCtQ/VVVVVVVV1T822WSTTTbZPzbZZJNNNtk/HMdxHMdx3D8cx3Ecx3HcPxdddNFFF90/DYl5O0Ni3j9ToNavFKjlP1Og1q8UqOU/TjbZZJNN5j9ONtlkk03mP0uBWr9SoOY/SMzbGRLz5j9IzNsZEvPmP0YXXXTRRec/RhdddNFF5z8++OCDDz7oPz744IMPPug/O0Ni3s6Q6D85juM4juPoPzmO4ziO4+g/OY7jOI7j6D85juM4juPoPzmO4ziO4+g/OY7jOI7j6D80JObtDInpPzQk5u0Miek/MW9nSMzb6T8xb2dIzNvpPy+66KKLLuo/L7rooosu6j8vuuiiiy7qPy+66KKLLuo/L7rooosu6j8sBWr9SoHqPywFav1Kgeo/LAVq/UqB6j8pUOtXCtTqPylQ61cK1Oo/KVDrVwrU6j8pUOtXCtTqPylQ61cK1Oo/KVDrVwrU6j8nm2yyySbrPyebbLLJJus/J5tssskm6z8nm2yyySbrPyTm7QyJees/JObtDIl56z8k5u0MiXnrPyTm7QyJees/JObtDIl56z8k5u0MiXnrPyTm7QyJees/IjFvZ0jM6z8iMW9nSMzrPyIxb2dIzOs/IjFvZ0jM6z8iMW9nSMzrPyIxb2dIzOs/IjFvZ0jM6z8iMW9nSMzrPyIxb2dIzOs/IjFvZ0jM6z8ffPDBBx/sPx988MEHH+w/H3zwwQcf7D8ffPDBBx/sPx988MEHH+w/H3zwwQcf7D8ffPDBBx/sPx988MEHH+w/H3zwwQcf7D8ffPDBBx/sPx988MEHH+w/HMdxHMdx7D8cx3Ecx3HsPxzHcRzHcew/HMdxHMdx7D8cx3Ecx3HsPxzHcRzHcew/HMdxHMdx7D8cx3Ecx3HsPxoS83aGxOw/GhLzdobE7D8XXXTRRRftPxLzdobEvO0/EvN2hsS87T8QPvjggw/uPxA++OCDD+4/CtT6lQK17j8K1PqVArXuPwrU+pUCte4/CtT6lQK17j8K1PqVArXuPwrU+pUCte4/CtT6lQK17j8K1PqVArXuPwgffPDBB+8/CB988MEH7z8IH3zwwQfvPwgffPDBB+8/CB988MEH7z8IH3zwwQfvPwgffPDBB+8/CB988MEH7z8IH3zwwQfvPwgffPDBB+8/CB988MEH7z8IH3zwwQfvPwVq/UqBWu8/BWr9SoFa7z8Fav1KgVrvPwVq/UqBWu8/A7V+pUCt7z8DtX6lQK3vPwO1fqVAre8/AAAAAAAA8D8AAAAAAADwPw=="
         },
         "type": "scatter"
        },
        {
         "line": {
          "dash": "dot",
          "width": 3
         },
         "mode": "lines",
         "name": "Micro-average ROC (AUC=0.82)",
         "x": {
          "dtype": "f8",
          "bdata": "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"
         },
         "y": {
          "dtype": "f8",
          "bdata": "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"
         },
         "type": "scatter"
        },
        {
         "line": {
          "dash": "dash"
         },
         "mode": "lines",
         "name": "Chance",
         "x": [
          0,
          1
         ],
         "y": [
          0,
          1
         ],
         "type": "scatter"
        }
       ],
       "layout": {
        "template": {
         "data": {
          "histogram2dcontour": [
           {
            "type": "histogram2dcontour",
            "colorbar": {
             "outlinewidth": 0,
             "ticks": ""
            },
            "colorscale": [
             [
              0.0,
              "#0d0887"
             ],
             [
              0.1111111111111111,
              "#46039f"
             ],
             [
              0.2222222222222222,
              "#7201a8"
             ],
             [
              0.3333333333333333,
              "#9c179e"
             ],
             [
              0.4444444444444444,
              "#bd3786"
             ],
             [
              0.5555555555555556,
              "#d8576b"
             ],
             [
              0.6666666666666666,
              "#ed7953"
             ],
             [
              0.7777777777777778,
              "#fb9f3a"
             ],
             [
              0.8888888888888888,
              "#fdca26"
             ],
             [
              1.0,
              "#f0f921"
             ]
            ]
           }
          ],
          "choropleth": [
           {
            "type": "choropleth",
            "colorbar": {
             "outlinewidth": 0,
             "ticks": ""
            }
           }
          ],
          "histogram2d": [
           {
            "type": "histogram2d",
            "colorbar": {
             "outlinewidth": 0,
             "ticks": ""
            },
            "colorscale": [
             [
              0.0,
              "#0d0887"
             ],
             [
              0.1111111111111111,
              "#46039f"
             ],
             [
              0.2222222222222222,
              "#7201a8"
             ],
             [
              0.3333333333333333,
              "#9c179e"
             ],
             [
              0.4444444444444444,
              "#bd3786"
             ],
             [
              0.5555555555555556,
              "#d8576b"
             ],
             [
              0.6666666666666666,
              "#ed7953"
             ],
             [
              0.7777777777777778,
              "#fb9f3a"
             ],
             [
              0.8888888888888888,
              "#fdca26"
             ],
             [
              1.0,
              "#f0f921"
             ]
            ]
           }
          ],
          "heatmap": [
           {
            "type": "heatmap",
            "colorbar": {
             "outlinewidth": 0,
             "ticks": ""
            },
            "colorscale": [
             [
              0.0,
              "#0d0887"
             ],
             [
              0.1111111111111111,
              "#46039f"
             ],
             [
              0.2222222222222222,
              "#7201a8"
             ],
             [
              0.3333333333333333,
              "#9c179e"
             ],
             [
              0.4444444444444444,
              "#bd3786"
             ],
             [
              0.5555555555555556,
              "#d8576b"
             ],
             [
              0.6666666666666666,
              "#ed7953"
             ],
             [
              0.7777777777777778,
              "#fb9f3a"
             ],
             [
              0.8888888888888888,
              "#fdca26"
             ],
             [
              1.0,
              "#f0f921"
             ]
            ]
           }
          ],
          "contourcarpet": [
           {
            "type": "contourcarpet",
            "colorbar": {
             "outlinewidth": 0,
             "ticks": ""
            }
           }
          ],
          "contour": [
           {
            "type": "contour",
            "colorbar": {
             "outlinewidth": 0,
             "ticks": ""
            },
            "colorscale": [
             [
              0.0,
              "#0d0887"
             ],
             [
              0.1111111111111111,
              "#46039f"
             ],
             [
              0.2222222222222222,
              "#7201a8"
             ],
             [
              0.3333333333333333,
              "#9c179e"
             ],
             [
              0.4444444444444444,
              "#bd3786"
             ],
             [
              0.5555555555555556,
              "#d8576b"
             ],
             [
              0.6666666666666666,
              "#ed7953"
             ],
             [
              0.7777777777777778,
              "#fb9f3a"
             ],
             [
              0.8888888888888888,
              "#fdca26"
             ],
             [
              1.0,
              "#f0f921"
             ]
            ]
           }
          ],
          "surface": [
           {
            "type": "surface",
            "colorbar": {
             "outlinewidth": 0,
             "ticks": ""
            },
            "colorscale": [
             [
              0.0,
              "#0d0887"
             ],
             [
              0.1111111111111111,
              "#46039f"
             ],
             [
              0.2222222222222222,
              "#7201a8"
             ],
             [
              0.3333333333333333,
              "#9c179e"
             ],
             [
              0.4444444444444444,
              "#bd3786"
             ],
             [
              0.5555555555555556,
              "#d8576b"
             ],
             [
              0.6666666666666666,
              "#ed7953"
             ],
             [
              0.7777777777777778,
              "#fb9f3a"
             ],
             [
              0.8888888888888888,
              "#fdca26"
             ],
             [
              1.0,
              "#f0f921"
             ]
            ]
           }
          ],
          "mesh3d": [
           {
            "type": "mesh3d",
            "colorbar": {
             "outlinewidth": 0,
             "ticks": ""
            }
           }
          ],
          "scatter": [
           {
            "fillpattern": {
             "fillmode": "overlay",
             "size": 10,
             "solidity": 0.2
            },
            "type": "scatter"
           }
          ],
          "parcoords": [
           {
            "type": "parcoords",
            "line": {
             "colorbar": {
              "outlinewidth": 0,
              "ticks": ""
             }
            }
           }
          ],
          "scatterpolargl": [
           {
            "type": "scatterpolargl",
            "marker": {
             "colorbar": {
              "outlinewidth": 0,
              "ticks": ""
             }
            }
           }
          ],
          "bar": [
           {
            "error_x": {
             "color": "#2a3f5f"
            },
            "error_y": {
             "color": "#2a3f5f"
            },
            "marker": {
             "line": {
              "color": "#E5ECF6",
              "width": 0.5
             },
             "pattern": {
              "fillmode": "overlay",
              "size": 10,
              "solidity": 0.2
             }
            },
            "type": "bar"
           }
          ],
          "scattergeo": [
           {
            "type": "scattergeo",
            "marker": {
             "colorbar": {
              "outlinewidth": 0,
              "ticks": ""
             }
            }
           }
          ],
          "scatterpolar": [
           {
            "type": "scatterpolar",
            "marker": {
             "colorbar": {
              "outlinewidth": 0,
              "ticks": ""
             }
            }
           }
          ],
          "histogram": [
           {
            "marker": {
             "pattern": {
              "fillmode": "overlay",
              "size": 10,
              "solidity": 0.2
             }
            },
            "type": "histogram"
           }
          ],
          "scattergl": [
           {
            "type": "scattergl",
            "marker": {
             "colorbar": {
              "outlinewidth": 0,
              "ticks": ""
             }
            }
           }
          ],
          "scatter3d": [
           {
            "type": "scatter3d",
            "line": {
             "colorbar": {
              "outlinewidth": 0,
              "ticks": ""
             }
            },
            "marker": {
             "colorbar": {
              "outlinewidth": 0,
              "ticks": ""
             }
            }
           }
          ],
          "scattermap": [
           {
            "type": "scattermap",
            "marker": {
             "colorbar": {
              "outlinewidth": 0,
              "ticks": ""
             }
            }
           }
          ],
          "scattermapbox": [
           {
            "type": "scattermapbox",
            "marker": {
             "colorbar": {
              "outlinewidth": 0,
              "ticks": ""
             }
            }
           }
          ],
          "scatterternary": [
           {
            "type": "scatterternary",
            "marker": {
             "colorbar": {
              "outlinewidth": 0,
              "ticks": ""
             }
            }
           }
          ],
          "scattercarpet": [
           {
            "type": "scattercarpet",
            "marker": {
             "colorbar": {
              "outlinewidth": 0,
              "ticks": ""
             }
            }
           }
          ],
          "carpet": [
           {
            "aaxis": {
             "endlinecolor": "#2a3f5f",
             "gridcolor": "white",
             "linecolor": "white",
             "minorgridcolor": "white",
             "startlinecolor": "#2a3f5f"
            },
            "baxis": {
             "endlinecolor": "#2a3f5f",
             "gridcolor": "white",
             "linecolor": "white",
             "minorgridcolor": "white",
             "startlinecolor": "#2a3f5f"
            },
            "type": "carpet"
           }
          ],
          "table": [
           {
            "cells": {
             "fill": {
              "color": "#EBF0F8"
             },
             "line": {
              "color": "white"
             }
            },
            "header": {
             "fill": {
              "color": "#C8D4E3"
             },
             "line": {
              "color": "white"
             }
            },
            "type": "table"
           }
          ],
          "barpolar": [
           {
            "marker": {
             "line": {
              "color": "#E5ECF6",
              "width": 0.5
             },
             "pattern": {
              "fillmode": "overlay",
              "size": 10,
              "solidity": 0.2
             }
            },
            "type": "barpolar"
           }
          ],
          "pie": [
           {
            "automargin": true,
            "type": "pie"
           }
          ]
         },
         "layout": {
          "autotypenumbers": "strict",
          "colorway": [
           "#636efa",
           "#EF553B",
           "#00cc96",
           "#ab63fa",
           "#FFA15A",
           "#19d3f3",
           "#FF6692",
           "#B6E880",
           "#FF97FF",
           "#FECB52"
          ],
          "font": {
           "color": "#2a3f5f"
          },
          "hovermode": "closest",
          "hoverlabel": {
           "align": "left"
          },
          "paper_bgcolor": "white",
          "plot_bgcolor": "#E5ECF6",
          "polar": {
           "bgcolor": "#E5ECF6",
           "angularaxis": {
            "gridcolor": "white",
            "linecolor": "white",
            "ticks": ""
           },
           "radialaxis": {
            "gridcolor": "white",
            "linecolor": "white",
            "ticks": ""
           }
          },
          "ternary": {
           "bgcolor": "#E5ECF6",
           "aaxis": {
            "gridcolor": "white",
            "linecolor": "white",
            "ticks": ""
           },
           "baxis": {
            "gridcolor": "white",
            "linecolor": "white",
            "ticks": ""
           },
           "caxis": {
            "gridcolor": "white",
            "linecolor": "white",
            "ticks": ""
           }
          },
          "coloraxis": {
           "colorbar": {
            "outlinewidth": 0,
            "ticks": ""
           }
          },
          "colorscale": {
           "sequential": [
            [
             0.0,
             "#0d0887"
            ],
            [
             0.1111111111111111,
             "#46039f"
            ],
            [
             0.2222222222222222,
             "#7201a8"
            ],
            [
             0.3333333333333333,
             "#9c179e"
            ],
            [
             0.4444444444444444,
             "#bd3786"
            ],
            [
             0.5555555555555556,
             "#d8576b"
            ],
            [
             0.6666666666666666,
             "#ed7953"
            ],
            [
             0.7777777777777778,
             "#fb9f3a"
            ],
            [
             0.8888888888888888,
             "#fdca26"
            ],
            [
             1.0,
             "#f0f921"
            ]
           ],
           "sequentialminus": [
            [
             0.0,
             "#0d0887"
            ],
            [
             0.1111111111111111,
             "#46039f"
            ],
            [
             0.2222222222222222,
             "#7201a8"
            ],
            [
             0.3333333333333333,
             "#9c179e"
            ],
            [
             0.4444444444444444,
             "#bd3786"
            ],
            [
             0.5555555555555556,
             "#d8576b"
            ],
            [
             0.6666666666666666,
             "#ed7953"
            ],
            [
             0.7777777777777778,
             "#fb9f3a"
            ],
            [
             0.8888888888888888,
             "#fdca26"
            ],
            [
             1.0,
             "#f0f921"
            ]
           ],
           "diverging": [
            [
             0,
             "#8e0152"
            ],
            [
             0.1,
             "#c51b7d"
            ],
            [
             0.2,
             "#de77ae"
            ],
            [
             0.3,
             "#f1b6da"
            ],
            [
             0.4,
             "#fde0ef"
            ],
            [
             0.5,
             "#f7f7f7"
            ],
            [
             0.6,
             "#e6f5d0"
            ],
            [
             0.7,
             "#b8e186"
            ],
            [
             0.8,
             "#7fbc41"
            ],
            [
             0.9,
             "#4d9221"
            ],
            [
             1,
             "#276419"
            ]
           ]
          },
          "xaxis": {
           "gridcolor": "white",
           "linecolor": "white",
           "ticks": "",
           "title": {
            "standoff": 15
           },
           "zerolinecolor": "white",
           "automargin": true,
           "zerolinewidth": 2
          },
          "yaxis": {
           "gridcolor": "white",
           "linecolor": "white",
           "ticks": "",
           "title": {
            "standoff": 15
           },
           "zerolinecolor": "white",
           "automargin": true,
           "zerolinewidth": 2
          },
          "scene": {
           "xaxis": {
            "backgroundcolor": "#E5ECF6",
            "gridcolor": "white",
            "linecolor": "white",
            "showbackground": true,
            "ticks": "",
            "zerolinecolor": "white",
            "gridwidth": 2
           },
           "yaxis": {
            "backgroundcolor": "#E5ECF6",
            "gridcolor": "white",
            "linecolor": "white",
            "showbackground": true,
            "ticks": "",
            "zerolinecolor": "white",
            "gridwidth": 2
           },
           "zaxis": {
            "backgroundcolor": "#E5ECF6",
            "gridcolor": "white",
            "linecolor": "white",
            "showbackground": true,
            "ticks": "",
            "zerolinecolor": "white",
            "gridwidth": 2
           }
          },
          "shapedefaults": {
           "line": {
            "color": "#2a3f5f"
           }
          },
          "annotationdefaults": {
           "arrowcolor": "#2a3f5f",
           "arrowhead": 0,
           "arrowwidth": 1
          },
          "geo": {
           "bgcolor": "white",
           "landcolor": "#E5ECF6",
           "subunitcolor": "white",
           "showland": true,
           "showlakes": true,
           "lakecolor": "white"
          },
          "title": {
           "x": 0.05
          },
          "mapbox": {
           "style": "light"
          }
         }
        },
        "title": {
         "text": "(Macro AUC=0.78)"
        },
        "xaxis": {
         "title": {
          "text": "False Positive Rate"
         }
        },
        "yaxis": {
         "title": {
          "text": "True Positive Rate"
         }
        }
       },
       "config": {
        "plotlyServerURL": "https://plot.ly"
       }
      }
     },
     "metadata": {},
     "output_type": "display_data"
    }
   ],
   "execution_count": 23
  },
  {
   "metadata": {
    "ExecuteTime": {
     "end_time": "2025-08-21T23:01:13.908409Z",
     "start_time": "2025-08-21T23:01:13.894917Z"
    }
   },
   "cell_type": "code",
   "source": [
    "from scripts.mbm.kl_oriented.kl_mbm_xgBoost import v00_v03_moaks_kl_lasso_coefs_df, v00_v03_moaks_kl_lasso_metrics, v00_v03_moaks_kl_roc\n",
    "\n",
    "display(Markdown('### 5.6.4 Baseline BML variables\\' importance against K-L score at 24-month follow-up'))\n",
    "display(v00_v03_moaks_kl_lasso_coefs_df.sort_values(by='Importance', ascending=False).head(10))\n",
    "display(Markdown('### 5.6.5 Baseline BML variables\\' classification report against K-L score at 24-month follow-up'))\n",
    "display(display(JSON(v00_v03_moaks_kl_lasso_metrics, expanded=True)))\n",
    "display(Markdown('### 5.6.6 Baseline BML variables\\' AUC-ROC curve against K-L score at 24-month follow-up'))\n",
    "v00_v03_moaks_kl_roc.show()"
   ],
   "id": "207560bc9957c6ea",
   "outputs": [
    {
     "data": {
      "text/plain": [
       "<IPython.core.display.Markdown object>"
      ],
      "text/markdown": "### 5.6.4 Baseline BML variables' importance against K-L score at 24-month follow-up"
     },
     "metadata": {},
     "output_type": "display_data"
    },
    {
     "data": {
      "text/plain": [
       "      Feature  Importance\n",
       "0  V00MBMPTMC    0.264424\n",
       "1  V00MBMSFMC    0.051032\n",
       "2  V00MBMSTMC    0.049503\n",
       "3  V00MBMSFLC    0.043225\n",
       "4   V00MBMPSS    0.038755\n",
       "5  V00MBMPFMP    0.038720\n",
       "6   V00MBMSSS    0.035713\n",
       "7  V00MBMPTMP    0.035057\n",
       "8  V00MBMNFMP    0.034108\n",
       "9  V00MBMPFMC    0.033713"
      ],
      "text/html": [
       "<div>\n",
       "<style scoped>\n",
       "    .dataframe tbody tr th:only-of-type {\n",
       "        vertical-align: middle;\n",
       "    }\n",
       "\n",
       "    .dataframe tbody tr th {\n",
       "        vertical-align: top;\n",
       "    }\n",
       "\n",
       "    .dataframe thead th {\n",
       "        text-align: right;\n",
       "    }\n",
       "</style>\n",
       "<table border=\"1\" class=\"dataframe\">\n",
       "  <thead>\n",
       "    <tr style=\"text-align: right;\">\n",
       "      <th></th>\n",
       "      <th>Feature</th>\n",
       "      <th>Importance</th>\n",
       "    </tr>\n",
       "  </thead>\n",
       "  <tbody>\n",
       "    <tr>\n",
       "      <th>0</th>\n",
       "      <td>V00MBMPTMC</td>\n",
       "      <td>0.264424</td>\n",
       "    </tr>\n",
       "    <tr>\n",
       "      <th>1</th>\n",
       "      <td>V00MBMSFMC</td>\n",
       "      <td>0.051032</td>\n",
       "    </tr>\n",
       "    <tr>\n",
       "      <th>2</th>\n",
       "      <td>V00MBMSTMC</td>\n",
       "      <td>0.049503</td>\n",
       "    </tr>\n",
       "    <tr>\n",
       "      <th>3</th>\n",
       "      <td>V00MBMSFLC</td>\n",
       "      <td>0.043225</td>\n",
       "    </tr>\n",
       "    <tr>\n",
       "      <th>4</th>\n",
       "      <td>V00MBMPSS</td>\n",
       "      <td>0.038755</td>\n",
       "    </tr>\n",
       "    <tr>\n",
       "      <th>5</th>\n",
       "      <td>V00MBMPFMP</td>\n",
       "      <td>0.038720</td>\n",
       "    </tr>\n",
       "    <tr>\n",
       "      <th>6</th>\n",
       "      <td>V00MBMSSS</td>\n",
       "      <td>0.035713</td>\n",
       "    </tr>\n",
       "    <tr>\n",
       "      <th>7</th>\n",
       "      <td>V00MBMPTMP</td>\n",
       "      <td>0.035057</td>\n",
       "    </tr>\n",
       "    <tr>\n",
       "      <th>8</th>\n",
       "      <td>V00MBMNFMP</td>\n",
       "      <td>0.034108</td>\n",
       "    </tr>\n",
       "    <tr>\n",
       "      <th>9</th>\n",
       "      <td>V00MBMPFMC</td>\n",
       "      <td>0.033713</td>\n",
       "    </tr>\n",
       "  </tbody>\n",
       "</table>\n",
       "</div>"
      ]
     },
     "metadata": {},
     "output_type": "display_data"
    },
    {
     "data": {
      "text/plain": [
       "<IPython.core.display.Markdown object>"
      ],
      "text/markdown": "### 5.6.5 Baseline BML variables' classification report against K-L score at 24-month follow-up"
     },
     "metadata": {},
     "output_type": "display_data"
    },
    {
     "data": {
      "text/plain": [
       "<IPython.core.display.JSON object>"
      ],
      "application/json": {
       "0": {
        "precision": 0.46689895470383275,
        "recall": 0.7790697674418605,
        "f1-score": 0.5838779956427015,
        "support": 172.0
       },
       "1": {
        "precision": 0.43434343434343436,
        "recall": 0.2721518987341772,
        "f1-score": 0.3346303501945525,
        "support": 158.0
       },
       "2": {
        "precision": 0.5151515151515151,
        "recall": 0.38636363636363635,
        "f1-score": 0.44155844155844154,
        "support": 132.0
       },
       "3": {
        "precision": 0.8131868131868132,
        "recall": 0.6491228070175439,
        "f1-score": 0.7219512195121951,
        "support": 114.0
       },
       "accuracy": 0.5243055555555556,
       "macro avg": {
        "precision": 0.5573951793463989,
        "recall": 0.5216770273893045,
        "f1-score": 0.5205045017269727,
        "support": 576.0
       },
       "weighted avg": {
        "precision": 0.5375628116989906,
        "recall": 0.5243055555555556,
        "f1-score": 0.5102200762003272,
        "support": 576.0
       }
      }
     },
     "metadata": {
      "application/json": {
       "expanded": true,
       "root": "root"
      }
     },
     "output_type": "display_data"
    },
    {
     "data": {
      "text/plain": [
       "None"
      ]
     },
     "metadata": {},
     "output_type": "display_data"
    },
    {
     "data": {
      "text/plain": [
       "<IPython.core.display.Markdown object>"
      ],
      "text/markdown": "### 5.6.6 Baseline BML variables' AUC-ROC curve against K-L score at 24-month follow-up"
     },
     "metadata": {},
     "output_type": "display_data"
    },
    {
     "data": {
      "application/vnd.plotly.v1+json": {
       "data": [
        {
         "mode": "lines",
         "name": "Class 0 (AUC=0.76)",
         "x": {
          "dtype": "f8",
          "bdata": "AAAAAAAAAAAAAAAAAAAAAAAAAAAAAAAA+9liZfhGdD/72WJl+EZ0P/hGFJh0an4/+EYUmHRqfj/4RhSYdGp+P/vZYmX4RoQ/+9liZfhGhD/4RhSYdGqOP/hGFJh0ao4/+EYUmHRqjj/4RhSYdGqOP7x+tlgZvpE/vH62WBm+kT/72WJl+EaUPzo1D3LXz5Y/+EYUmHRqnj+8frZYGb6hP7x+tlgZvqE/Gb4RBSadyj+BSafmQe7KP1Fg0ql5kMs/UWDSqXmQyz8hd/1ssTLMP8GkU/Mgd80/VPMgd/1s0T9U8yB3/WzRP7x+tlgZvtE/cESBSafm0T9wRIFJp+bRP9fPFivDN9I/188WK8M30j+LleEbUWDSP/Mgd/1ssdI/p+ZB7vrZ0j8PctfPFivTP1aGb0SBSdc/vhEFJp2a1z9y188WK8PXPyadmge569c/jigw6dQ82D/GyvCNKDDZP8bK8I0oMNk/epC7frZY2T8uVoZvRIHZP5bhG1Fg0tk//WyxMnwj2j8ZvhEFJp3aP4FJp+ZB7to/PchdP1us3D+lU/Mgd/3cP1kZvhEFJt0/KTDp1DzI3T8pMOnUPMjdP/hGFJh0at4/+EYUmHRq3j+sDN+IApPeP6wM34gCk94/yF0/W6wM3z/krp8tVobfP7TFyvCNKOA/aIuV4RtR4D8cUWDSqXngPxxRYNKpeeA/0BYrwzei4D+E3PWzxcrgP4Tc9bPFyuA/EgUmnZoH4T9U8yB3/WzhP+IbUWDSqeE/luEbUWDS4T9wRIFJp+bhP/1ssTJ8I+I/sTJ8IwpM4j9l+EYUmHTiPxm+EQUmneI/W6wM34gC4z9brAzfiALjPw9y188WK+M/nZoHuetn4z9RYNKpeZDjP1Fg0ql5kOM/BSadmge54z/fiAKTTs3jP22xMnwjCuQ/1TzIXT9b5D+JApNOzYPkPz3IXT9brOQ/y/CNKDDp5D/L8I0oMOnkP8GkU/Mgd+U/dWoe5K6f5T/d9bPFyvDlP7ZYGb4RBeY/HuSuny1W5j8e5K6fLVbmP9KpeZC7fuY/0ql5kLt+5j8UmHRqHuTmPxSYdGoe5OY/5K6fLVaG5z+YdGoe5K7nPwAAAAAAAOg/tMXK8I0o6D+gLVaGb0TpPy5Whm9Egek/4htRYNKp6T/iG1Fg0qnpP9fPFivDN+o/188WK8M36j9l+EYUmHTqPxm+EQUmneo/8yB3/Wyx6j+n5kHu+tnqPzUPctfPFus/6dQ8yF0/6z8hd/1ssTLsP6+fLVaGb+w/y/CNKDDp7D9/tlgZvhHtPw3fiAKTTu0/3fWzxcrw7T+Qu362WBnuPwAAAAAAAPA/"
         },
         "y": {
          "dtype": "f8",
          "bdata": "AAAAAAAAAAD0BX1BX9B3P3fEHXFH3JE/d8QdcUfckT9xR9wRd8SdP3FH3BF3xJ0/d8QdcUfcoT/0BX1BX9CnP/QFfUFf0Kc/s6asKWvKqj+zpqwpa8qqP3FH3BF3xK0/d8QdcUfcsT/WlDVlTVmzP9aUNWVNWbM/NmVNWVPWtD/0BX1BX9C3P/QFfUFf0Lc/9AV9QV/Qtz/0BX1BX9C3P7OmrClryro/X9AX9AV94T9f0Bf0BX3hP1/QF/QFfeE/a8qasqas4T9rypqypqzhP4+4I+6IO+I/+oK+oC/o4z8GfUFf0BfkPwZ9QV/QF+Q/Bn1BX9AX5D8Sd8QdcUfkPx5xR9wRd+Q/QV/QF/QF5T9BX9AX9AXlP1lT1pQ1ZeU/WVPWlDVl5T9lTVlT1pTlPzDoC/qCvug/U9aUNWVN6T9T1pQ1ZU3pP1/QF/QFfek/X9AX9AV96T+DvqAv6AvqP5uypqwpa+o/m7KmrClr6j/KmrKmrCnrP+KOuCPuiOs/4o64I+6I6z/ijrgj7ojrP+KOuCPuiOs/+oK+oC/o6z/6gr6gL+jrP/qCvqAv6Os/+oK+oC/o6z8GfUFf0BfsPwZ9QV/QF+w/HnFH3BF37D8ecUfcEXfsPzZlTVlT1uw/NmVNWVPW7D82ZU1ZU9bsPzZlTVlT1uw/NmVNWVPW7D82ZU1ZU9bsP01ZU9aUNe0/TVlT1pQ17T9NWVPWlDXtP1lT1pQ1Ze0/WVPWlDVl7T9ZU9aUNWXtP1lT1pQ1Ze0/WVPWlDVl7T9lTVlT1pTtP2VNWVPWlO0/ZU1ZU9aU7T9lTVlT1pTtP2VNWVPWlO0/ZU1ZU9aU7T9xR9wRd8TtP3FH3BF3xO0/cUfcEXfE7T9xR9wRd8TtP31BX9AX9O0/fUFf0Bf07T+JO+KOuCPuP4k74o64I+4/iTvijrgj7j+JO+KOuCPuP4k74o64I+4/iTvijrgj7j+VNWVNWVPuP5U1ZU1ZU+4/xB1xR9wR7z/EHXFH3BHvP8QdcUfcEe8/xB1xR9wR7z/QF/QFfUHvP9AX9AV9Qe8/3BF3xB1x7z/cEXfEHXHvP+gL+oK+oO8/6Av6gr6g7z/oC/qCvqDvP+gL+oK+oO8/6Av6gr6g7z/oC/qCvqDvP+gL+oK+oO8/6Av6gr6g7z/0BX1BX9DvP/QFfUFf0O8/AAAAAAAA8D8AAAAAAADwPwAAAAAAAPA/AAAAAAAA8D8AAAAAAADwPwAAAAAAAPA/AAAAAAAA8D8AAAAAAADwPwAAAAAAAPA/AAAAAAAA8D8AAAAAAADwPwAAAAAAAPA/AAAAAAAA8D8AAAAAAADwPwAAAAAAAPA/"
         },
         "type": "scatter"
        },
        {
         "mode": "lines",
         "name": "Class 1 (AUC=0.64)",
         "x": {
          "dtype": "f8",
          "bdata": "AAAAAAAAAAAAAAAAAAAAAGN/GCwcmWM/Y38YLByZYz9jfxgsHJlzP2N/GCwcmXM/Y38YLByZcz9jfxgsHJlzP2N/GCwcmYM/Fb8kQqpljT93b5Wm+CWRP3dvlab4JZE/Y38YLByZkz9Qj5uxPwyWPyivobyG8po/Fb8kQqplnT93b5Wm+CWhP233VmmKX6I/PJ8eN2N/qD8fN2N/GCysPx83Y38YLKw/Ac+nx83Yrz8Bz6fHzdivP233VmmKX7I/bfdWaYpfsj9ou7dKU/yyP2i7t0pT/LI/Y38YLByZsz9eQ3kN5TW0P1XLOtB2b7U/UI+bsT8Mtj83Y38YLBy5PzdjfxgsHLk/Fb8kQqplvT8VvyRCqmW9PwYLR+YEPL8/d2+VpvglwT900UUXXXTBPyivobyG8so/JHMCnk+Pyz8h1bIOtN3LPx83Y38YLMw/GvvDYOHIzD8XXXTRRRfNPxIh1bIOtM0/CamWdaDtzj8EbfdWaYrPPwHPp8fN2M8/fKs0xS+J0D8Bz6fHzdjfPwAAAAAAAOA//zBYODIn4D963Iz9YbDgP/r0uBn7w+A/d2+Vpvgl4T92oO3eKk3hP/W4GfvDYOE/bfdWaYpf4j/rQNu9VZriP+tA271VmuI/a1kH2u6t4j9rWQfa7q3iP+pxM/aHweI/aLu3SlP84j9n7A+DhSPjP+U1lNdQXuM/5GbsD4OF4z9isHBkTsDjP2HhyJyA5+M/YeHInIDn4z9gEiHVsg7kP95bpSl+SeQ/XKUpfkmE5D9cpSl+SYTkP9u9VZril+Q/271VmuKX5D9b1oG2e6vkP9kfBgtH5uQ/2FBeQ3kN5T9XaYpfEiHlP9aBtnurNOU/Vpril0RI5T9VyzrQdm/lP1XLOtB2b+U/1ONm7A+D5T/TFL8kQqrlP9MUvyRCquU/Ui3rQNu95T9RXkN5DeXlP9B2b5Wm+OU/z6fHzdgf5j/O2B8GC0fmP87YHwYLR+Y/zQl4Pj1u5j/NCXg+PW7mP8s60HZvleY/ymsor6G85j9FSLWsA23nP0N5DeU1lOc/Qdu9VZri5z+/JEKqZR3oP75VmuKXROg/vlWa4pdE6D870HZvlaboPzvQdm+Vpug/OgHPp8fN6D86Ac+nx83oPzdjfxgsHOk/N2N/GCwc6T+3e6s0xS/pP7d7qzTFL+k/tN1bpSl+6T+03VulKX7pP7MOtN1bpek/sj8MFo7M6T+wcGROwPPpP6+hvIbyGuo/r6G8hvIa6j8sHJkT8HzqP6plHWi7t+o/Kn5JhFTL6j8qfkmEVMvqP6mWdaDt3uo/J+D59LgZ6z8mEVIt60DrPyRzAp5Pj+s/JHMCnk+P6z8daLu3SlPsPx1ou7dKU+w/HJkT8Hx67D8cmRPwfHrsPwAAAAAAAPA/"
         },
         "y": {
          "dtype": "f8",
          "bdata": "AAAAAAAAAADjJszvanGTP+MmzO9qcZM/aCAqHdkzoD9oICod2TOgP+MmzO9qcaM/aCAqHdkzsD+cML+rxU24P5wwv6vFTbg/nDC/q8VNuD+cML+rxU24Pxc3YX5Xi7s/VDqyZyAqvT9UOrJnICq9P2ggKh3ZM8A/BqLSkT0DwT8GotKRPQPBP0SlI3sGosI/4ybM72pxwz/jJszvanHDPyAqHdkzEMU/ICod2TMQxT9eLW7C/K7GP14tbsL8rsY/OrJnICodyT86smcgKh3JP9kzEJWO7Mk/2TMQlY7syT94tbgJ87vKP3i1uAnzu8o/tbgJ87tazD+1uAnzu1rMP1Q6smcgKs0/kj0DUenIzj8xv6vFTZjPP2ggKh3ZM9A/aCAqHdkz0D9oICod2TPQPyAqHdkzENU/ICod2TMQ1T/wanET5nfVP/BqcRPmd9U/j+wZiEpH1j+P7BmISkfWP14tbsL8rtY/Xi1uwvyu1j9eLW7C/K7WP14tbsL8rtY/zO9qcRPm1z+ISkf2DETlP4hKR/YMROU/iEpH9gxE5T/2DESlI3vmP8ZNmN/V4uY/xk2Y39Xi5j/GTZjf1eLmPy1uwvyuFuc/cRPmd7W46T9xE+Z3tbjpP0FUOrJnIOo/QVQ6smcg6j+pdGTPQFTqP6l0ZM9AVOo/eLW4CfO76j94tbgJ87vqP3i1uAnzu+o/eLW4CfO76j/g1eImzO/qP+DV4ibM7+o/rxY3YX5X6z+vFjdhflfrPxc3YX5Xi+s/FzdhfleL6z9+V4ubML/rP35Xi5swv+s/5ne1uAnz6z/md7W4CfPrP+Z3tbgJ8+s/5ne1uAnz6z9OmN/V4ibsP06Y39XiJuw/tbgJ87ta7D+1uAnzu1rsPx3ZMxCVjuw/HdkzEJWO7D+F+V0tbsLsP+0ZiEpH9uw/7RmISkf27D/tGYhKR/bsP+0ZiEpH9uw/7RmISkf27D/tGYhKR/bsP1Q6smcgKu0/VDqyZyAq7T+8WtyE+V3tP7xa3IT5Xe0/vFrchPld7T+8WtyE+V3tP7xa3IT5Xe0/vFrchPld7T+8WtyE+V3tP7xa3IT5Xe0/JHsGotKR7T8kewai0pHtP4ubML+rxe0/i5swv6vF7T/zu1rchPntP/O7WtyE+e0/W9yE+V0t7j9b3IT5XS3uP8L8rhY3Ye4/wvyuFjdh7j8qHdkzEJXuPyod2TMQle4/Kh3ZMxCV7j8qHdkzEJXuPyod2TMQle4/kj0DUenI7j+SPQNR6cjuP5I9A1HpyO4/kj0DUenI7j9hfleLmzDvP2F+V4ubMO8/YX5Xi5sw7z9hfleLmzDvP2F+V4ubMO8/yZ6BqHRk7z/JnoGodGTvPzG/q8VNmO8/Mb+rxU2Y7z8AAAAAAADwPwAAAAAAAPA/"
         },
         "type": "scatter"
        },
        {
         "mode": "lines",
         "name": "Class 2 (AUC=0.70)",
         "x": {
          "dtype": "f8",
          "bdata": "AAAAAAAAAAAAAAAAAAAAADUngbhQc2I/NSeBuFBzYj81J4G4UHNiPzUngbhQc3I/NSeBuFBzcj8CcaHmJBCHPwJxoeYkEIc/0LrBFPmsiz/QusEU+ayLP04CcaHmJJA/TgJxoeYkkD8CcaHmJBCXPwJxoeYkEJc/whT5rBtMoT81J4G4UHOiP6g5CcSFmqM/qDkJxIWaoz8cTJHPusGkP49eGdvv6KU/j14Z2+/opT8CcaHmJBCnPwJxoeYkEKc/6ZWx/Y5eqT/plbH9jl6pP0PNSSAu1Kw/Q81JIC7UrD/CFPmsG0yxP8IU+awbTLE/+x29MrbfsT/7Hb0ytt+xPzUngbhQc7I/NSeBuFBzsj/iQs1JIC60P+JCzUkgLrQ/HEyRz7rBtD8cTJHPusG0PxxMkc+6wbQ/VVVVVVVVtT9VVVVVVVW1PwJxoeYkELc/AnGh5iQQtz88emVsv6O3Pzx6ZWy/o7c/r4ztd/TKuD+vjO139Mq4P1yoOQnEhbo/XKg5CcSFuj+Wsf2OXhm7P7bf0Stj+70/Y/sdvTK2vz9OAnGh5iTAP8IU+awbTME/whT5rBtMwT/CFPmsG0zBP18Z2+/olcE/mCKfdYMpwj+YIp91gynCPzUngbhQc8I/bzBFPusGwz8MNSeBuFDDPyxj+x29MsY/AnGh5iQQxz8CcaHmJBDHPzx6ZWy/o8c/2X5Hr4ztxz92gynyWTfIP6+M7Xf0ysg/r4ztd/TKyD/plbH9jl7JPyOfdYMp8sk/XKg5CcSFyj+Wsf2OXhnLP5ax/Y5eGcs/M7bf0Stjyz9sv6NXxvbLPwnEhZqTQMw/fdYNpshnzT8Z2+/olbHNP5gin3WDKdI/gynyWTeY0j+9Mrbf0SvTPww1J4G4UNM/qDkJxIWa0z+oOQnEhZrTP/c7emVsv9M/9zt6ZWy/0z9/R6+M7XfUPxxMkc+6wdQ/HEyRz7rB1D9qTgJxoebUP2pOAnGh5tQ/uVBzEogL1T+PXhnb7+jVP3plbL+jV9Y/F2pOAnGh1j88emVsv6PXP7vBFPmsG9w/pshn3WCK3D9DzUkgLtTcP0PNSSAu1Nw/kc+6wRT53D8u1JwE4kLdP33WDabIZ90/y9h+R6+M3T/L2H5Hr4zdP2jdYIp81t0/aN1ginzW3T8ngbhQcxLoP3aDKfJZN+g/doMp8lk36D/EhZqTQFzoPxKICzUngeg/1g2myGfd6D8lEBdqTgLpP8IU+awbTOk/Xxnb7+iV6T8jn3WDKfLpPyOfdYMp8uk/v6NXxvY76j/nJBAXak7qPzUngbhQc+o/q6qqqqqq6j8gLtScBOLqP+SzbjBFPus/M7bf0Stj6z8ztt/RK2PrP6g5CcSFmus/9zt6ZWy/6z+UQFyoOQnsP5RAXKg5Cew/u8EU+awb7D+myGfdYIrsP/TK2H5Hr+w/Q81JIC7U7D/g0Stj+x3tP+DRK2P7He0/VVVVVVVV7T9VVVVVVVXtP6RXxvY7eu0/pFfG9jt67T96ZWy/o1fuP3plbL+jV+4/AAAAAAAA8D8="
         },
         "y": {
          "dtype": "f8",
          "bdata": "AAAAAAAAAAAIH3zwwQd/PwgffPDBB38/CB988MEHnz9VVVVVVVW1P1VVVVVVVbU/Ntlkk002uT822WSTTTa5PxdddNFFF70/CB988MEHvz988MEHH3zAP3zwwQcffMA/bbLJJptswj9tsskmm2zCP2WTTTbZZMM/ZZNNNtlkwz9ddNFFF13EP1100UUXXcQ/VVVVVVVVxT9ONtlkk03GP0422WSTTcY/Pvjggw8+yD8++OCDDz7IPzbZZJNNNsk/Ntlkk002yT8nm2yyySbLPyebbLLJJss/H3zwwQcfzD8ffPDBBx/MPxA++OCDD84/ED744IMPzj8IH3zwwQfPPwgffPDBB88/8MEHH3zw0T/wwQcffPDRP+miiy666NI/6aKLLrro0j9lk0022WTTP1100UUXXdQ/XXTRRRdd1D/ZZJNNNtnUP9lkk0022dQ/0UUXXXTR1T/RRRdddNHVP0422WSTTdY/yiabbLLJ1j9GF1100UXXP0YXXXTRRdc/wgcffPDB1z/CBx988MHXP8IHH3zwwdc/wgcffPDB1z/CBx988MHXP8IHH3zwwdc/uuiiiy662D822WSTTTbZP7LJJptsstk/sskmm2yy2T8vuuiiiy7aPy+66KKLLto/L7rooosu2j+rqqqqqqraPx988MEHH9w/H3zwwQcf3D+bbLLJJpvcP5tssskmm9w/m2yyySab3D8XXXTRRRfdPxdddNFFF90/k0022WST3T+TTTbZZJPdP5NNNtlkk90/k0022WST3T+TTTbZZJPdPwgffPDBB98/CB988MEH3z8AAAAAAADgPwAAAAAAAOA/Pvjggw8+4D988MEHH3zgPzbZZJNNNuE/dNFFF1104T900UUXXXThP3TRRRdddOE/sskmm2yy4T/wwQcffPDhP/DBBx988OE/q6qqqqqq4j/poosuuujiP+miiy666OI/J5tssskm4z8nm2yyySbjP2WTTTbZZOM/o4suuuii4z/hgw8++ODjP+GDDz744OM/4YMPPvjg4z9ddNFFF13kP0YXXXTRRec/RhdddNFF5z9GF1100UXnP4QPPvjgg+c/hA8++OCD5z+EDz744IPnP8IHH3zwwec/wgcffPDB5z8AAAAAAADoPwAAAAAAAOg/fPDBBx986D8XXXTRRRftPxdddNFFF+0/VVVVVVVV7T9VVVVVVVXtP5NNNtlkk+0/k0022WST7T+TTTbZZJPtP5NNNtlkk+0/k0022WST7T+TTTbZZJPtPxA++OCDD+4/ED744IMP7j8QPvjggw/uPxA++OCDD+4/TjbZZJNN7j9ONtlkk03uP0422WSTTe4/TjbZZJNN7j+MLrrooovuP4wuuuiii+4/jC666KKL7j+MLrrooovuPwgffPDBB+8/CB988MEH7z8IH3zwwQfvPwgffPDBB+8/CB988MEH7z8IH3zwwQfvP0YXXXTRRe8/RhdddNFF7z+EDz744IPvP4QPPvjgg+8/wgcffPDB7z/CBx988MHvPwAAAAAAAPA/AAAAAAAA8D8="
         },
         "type": "scatter"
        },
        {
         "mode": "lines",
         "name": "Class 3 (AUC=0.88)",
         "x": {
          "dtype": "f8",
          "bdata": "AAAAAAAAAAAAAAAAAAAAAAAAAAAAAAAAKe1GQEq7YT8p7UZASrthPyntRkBKu3E/Ke1GQEq7cT++Y2pg75h6P75jamDvmHo/Ke1GQEq7gT8p7UZASruBPyntRkBKu4E/c6hY0Bwqhj9zqFjQHCqGP3OoWNAcKoY/vmNqYO+Yij++Y2pg75iKP75jamDvmIo/CB988MEHjz8IH3zwwQePP87KT4iz8pM/zspPiLPykz9zqFjQHCqWP3OoWNAcKpY/GIZhGIZhmD8YhmEYhmGYP75jamDvmJo/vmNqYO+Ymj9WfkKclZ+gP87KT4iz8qM/zspPiLPyoz9zqFjQHCqmP0YXXXTRRac/Y0FzqFjQrD8IH3zwwQevP+1GQEq7EbA/Vn5CnJWfsD9WfkKclZ+wPyntRkBKu7E/Ke1GQEq7sT9lk0022WSzPzcCUtqNgLQ/NwJS2o2AtD8KcVZ+Qpy1PxiGYRiGYbg/kNJuBKS0uz+Q0m4EpLS7P/kJcVZ+Qrw/NbB3TA3svT+e53me53m+P57neZ7neb4/CB988MEHvz+iYkFzqFjAP6JiQXOoWMA/Vn5CnJWfwD8Zr05fxqvDPzcCUtqNgMQ/CnFWfkKcxT+/jFenL+PFP3OoWNAcKsY/3d9aIve3xj/6Ml6dvozHP/oyXp2+jMc/ZGpg75gayD9kamDvmBrIPxiGYRiGYcg/GIZhGIZhyD/NoWJBc6jIP+v0Zbw6fck/VCxoDhULyj9ULGgOFQvKP75jamDvmMo/J5tssskmyz+Q0m4EpLTLP57neZ7nec4/cVZ+QpyVzz9xVn5CnJXPPyZyf2uJ3M8/C5pDxYLm0D/AtUTuby3RPyntRkBKu9E/A3vH1MDe0T+4lsj9rSXSP7iWyP2tJdI/R0BKuxGQ0j8hzspPiLPSP3OoWNAcKtY/AlLajYCU1j/d31oi97fWP9XA3jE1sNc/CnFWfkKc5T/3t5bI/a3lP/MT4qz8hOg/bwSktBsB6T9JkiRJkiTpPyMgpd0ISOk/EWflJ8RZ6T+yySabbLLpP2flJ8RZ+ek/VCxoDhUL6j9ULGgOFQvqPxwBKe1GQOo/vmNqYO+Y6j+rqqqqqqrqP4U4Kz8hzuo/X8ar05fx6j86VCxoDhXrP8n9rSVyf+s/kNJuBKS06z99Ga9OX8brPzI1sHdMDew/riVyf2uJ7D+Is/IT4qzsP1CIs/IT4uw/KhY0h4oF7T8EpLQbASntP7m/tUTub+0/Ive3lsj97T8i97eWyP3tPxA++OCDD+4/6st4dfoy7j/XErm/tUTuP57neZ7nee4/jC666KKL7j9TA3vH1MDuPxvYO6YG9u4/G9g7pgb27j8IH3zwwQfvP8/zPM/zPO8/qoG9Y2pg7z9xVn5CnJXvP0vk/tYSue8/JnJ/a4nc7z8AAAAAAADwPw=="
         },
         "y": {
          "dtype": "f8",
          "bdata": "AAAAAAAAAABwH8F9BPeBP2cxncV0FsM/ZzGdxXQWwz91FtNZTGfRP3UW01lMZ9E/cB/BfQT30T9wH8F9BPfRP1pMZzGdxdQ/WkxnMZ3F1D9RXkN5DeXVPzqL6Syms9g/OovpLKaz2D8xncV0FtPZPy2ms5jOYto/LaazmM5i2j8fwX0E9xHcPxbTWUxnMd0/FtNZTGcx3T/3EdxHcB/hP/Maymsor+E/7iO4j+A+4j/uI7iP4D7iP+U1lNdQXuM/5TWU11Be4z/hPoL7CO7jP+E+gvsI7uM/3EdwH8F95D/cR3AfwX3kP9xHcB/BfeQ/VVVVVVVV5T9VVVVVVVXlP9NZTGcxneU/01lMZzGd5T/TWUxnMZ3lP1FeQ3kN5eU/UV5DeQ3l5T/PYjqL6SzmP89iOovpLOY/ymsor6G85j/KayivobzmP8Z0FtNZTOc/Q3kN5TWU5z9DeQ3lNZTnP0N5DeU1lOc/Q3kN5TWU5z8/gvsI7iPoPz+C+wjuI+g/P4L7CO4j6D8/gvsI7iPoP72G8hrKa+g/vYbyGspr6D+9hvIaymvoP7iP4D6C++g/uI/gPoL76D+0mM5iOovpP7SYzmI6i+k/tJjOYjqL6T8xncV0FtPpPzGdxXQW0+k/MZ3FdBbT6T8xncV0FtPpP6+hvIbyGuo/r6G8hvIa6j8tprOYzmLqPy2ms5jOYuo/q6qqqqqq6j+rqqqqqqrqP6uqqqqqquo/q6qqqqqq6j8or6G8hvLqPyivobyG8uo/KK+hvIby6j8or6G8hvLqPyivobyG8uo/KK+hvIby6j+ms5jOYjrrP6azmM5iOus/oryG8hrK6z+ivIbyGsrrP6K8hvIayus/oryG8hrK6z+ivIbyGsrrPx/BfQT3Eew/H8F9BPcR7D8fwX0E9xHsP53FdBbTWew/ncV0FtNZ7D8bymsor6HsPxvKayivoew/kOA+gvsI7j+Q4D6C+wjuP4vpLKazmO4/i+ksprOY7j+L6Syms5juP4vpLKazmO4/i+ksprOY7j+L6Syms5juP4vpLKazmO4/Ce4juI/g7j+H8hrKayjvP4fyGsprKO8/h/Iaymso7z+H8hrKayjvP4fyGsprKO8/h/Iaymso7z+H8hrKayjvP4fyGsprKO8/BPcR3Edw7z8E9xHcR3DvPwT3EdxHcO8/BPcR3Edw7z8E9xHcR3DvPwT3EdxHcO8/BPcR3Edw7z8E9xHcR3DvPwT3EdxHcO8/BPcR3Edw7z+C+wjuI7jvP4L7CO4juO8/gvsI7iO47z+C+wjuI7jvP4L7CO4juO8/gvsI7iO47z+C+wjuI7jvP4L7CO4juO8/AAAAAAAA8D8AAAAAAADwPwAAAAAAAPA/AAAAAAAA8D8AAAAAAADwPwAAAAAAAPA/AAAAAAAA8D8AAAAAAADwPw=="
         },
         "type": "scatter"
        },
        {
         "line": {
          "dash": "dot",
          "width": 3
         },
         "mode": "lines",
         "name": "Micro-average ROC (AUC=0.78)",
         "x": {
          "dtype": "f8",
          "bdata": "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"
         },
         "y": {
          "dtype": "f8",
          "bdata": "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"
         },
         "type": "scatter"
        },
        {
         "line": {
          "dash": "dash"
         },
         "mode": "lines",
         "name": "Chance",
         "x": [
          0,
          1
         ],
         "y": [
          0,
          1
         ],
         "type": "scatter"
        }
       ],
       "layout": {
        "template": {
         "data": {
          "histogram2dcontour": [
           {
            "type": "histogram2dcontour",
            "colorbar": {
             "outlinewidth": 0,
             "ticks": ""
            },
            "colorscale": [
             [
              0.0,
              "#0d0887"
             ],
             [
              0.1111111111111111,
              "#46039f"
             ],
             [
              0.2222222222222222,
              "#7201a8"
             ],
             [
              0.3333333333333333,
              "#9c179e"
             ],
             [
              0.4444444444444444,
              "#bd3786"
             ],
             [
              0.5555555555555556,
              "#d8576b"
             ],
             [
              0.6666666666666666,
              "#ed7953"
             ],
             [
              0.7777777777777778,
              "#fb9f3a"
             ],
             [
              0.8888888888888888,
              "#fdca26"
             ],
             [
              1.0,
              "#f0f921"
             ]
            ]
           }
          ],
          "choropleth": [
           {
            "type": "choropleth",
            "colorbar": {
             "outlinewidth": 0,
             "ticks": ""
            }
           }
          ],
          "histogram2d": [
           {
            "type": "histogram2d",
            "colorbar": {
             "outlinewidth": 0,
             "ticks": ""
            },
            "colorscale": [
             [
              0.0,
              "#0d0887"
             ],
             [
              0.1111111111111111,
              "#46039f"
             ],
             [
              0.2222222222222222,
              "#7201a8"
             ],
             [
              0.3333333333333333,
              "#9c179e"
             ],
             [
              0.4444444444444444,
              "#bd3786"
             ],
             [
              0.5555555555555556,
              "#d8576b"
             ],
             [
              0.6666666666666666,
              "#ed7953"
             ],
             [
              0.7777777777777778,
              "#fb9f3a"
             ],
             [
              0.8888888888888888,
              "#fdca26"
             ],
             [
              1.0,
              "#f0f921"
             ]
            ]
           }
          ],
          "heatmap": [
           {
            "type": "heatmap",
            "colorbar": {
             "outlinewidth": 0,
             "ticks": ""
            },
            "colorscale": [
             [
              0.0,
              "#0d0887"
             ],
             [
              0.1111111111111111,
              "#46039f"
             ],
             [
              0.2222222222222222,
              "#7201a8"
             ],
             [
              0.3333333333333333,
              "#9c179e"
             ],
             [
              0.4444444444444444,
              "#bd3786"
             ],
             [
              0.5555555555555556,
              "#d8576b"
             ],
             [
              0.6666666666666666,
              "#ed7953"
             ],
             [
              0.7777777777777778,
              "#fb9f3a"
             ],
             [
              0.8888888888888888,
              "#fdca26"
             ],
             [
              1.0,
              "#f0f921"
             ]
            ]
           }
          ],
          "contourcarpet": [
           {
            "type": "contourcarpet",
            "colorbar": {
             "outlinewidth": 0,
             "ticks": ""
            }
           }
          ],
          "contour": [
           {
            "type": "contour",
            "colorbar": {
             "outlinewidth": 0,
             "ticks": ""
            },
            "colorscale": [
             [
              0.0,
              "#0d0887"
             ],
             [
              0.1111111111111111,
              "#46039f"
             ],
             [
              0.2222222222222222,
              "#7201a8"
             ],
             [
              0.3333333333333333,
              "#9c179e"
             ],
             [
              0.4444444444444444,
              "#bd3786"
             ],
             [
              0.5555555555555556,
              "#d8576b"
             ],
             [
              0.6666666666666666,
              "#ed7953"
             ],
             [
              0.7777777777777778,
              "#fb9f3a"
             ],
             [
              0.8888888888888888,
              "#fdca26"
             ],
             [
              1.0,
              "#f0f921"
             ]
            ]
           }
          ],
          "surface": [
           {
            "type": "surface",
            "colorbar": {
             "outlinewidth": 0,
             "ticks": ""
            },
            "colorscale": [
             [
              0.0,
              "#0d0887"
             ],
             [
              0.1111111111111111,
              "#46039f"
             ],
             [
              0.2222222222222222,
              "#7201a8"
             ],
             [
              0.3333333333333333,
              "#9c179e"
             ],
             [
              0.4444444444444444,
              "#bd3786"
             ],
             [
              0.5555555555555556,
              "#d8576b"
             ],
             [
              0.6666666666666666,
              "#ed7953"
             ],
             [
              0.7777777777777778,
              "#fb9f3a"
             ],
             [
              0.8888888888888888,
              "#fdca26"
             ],
             [
              1.0,
              "#f0f921"
             ]
            ]
           }
          ],
          "mesh3d": [
           {
            "type": "mesh3d",
            "colorbar": {
             "outlinewidth": 0,
             "ticks": ""
            }
           }
          ],
          "scatter": [
           {
            "fillpattern": {
             "fillmode": "overlay",
             "size": 10,
             "solidity": 0.2
            },
            "type": "scatter"
           }
          ],
          "parcoords": [
           {
            "type": "parcoords",
            "line": {
             "colorbar": {
              "outlinewidth": 0,
              "ticks": ""
             }
            }
           }
          ],
          "scatterpolargl": [
           {
            "type": "scatterpolargl",
            "marker": {
             "colorbar": {
              "outlinewidth": 0,
              "ticks": ""
             }
            }
           }
          ],
          "bar": [
           {
            "error_x": {
             "color": "#2a3f5f"
            },
            "error_y": {
             "color": "#2a3f5f"
            },
            "marker": {
             "line": {
              "color": "#E5ECF6",
              "width": 0.5
             },
             "pattern": {
              "fillmode": "overlay",
              "size": 10,
              "solidity": 0.2
             }
            },
            "type": "bar"
           }
          ],
          "scattergeo": [
           {
            "type": "scattergeo",
            "marker": {
             "colorbar": {
              "outlinewidth": 0,
              "ticks": ""
             }
            }
           }
          ],
          "scatterpolar": [
           {
            "type": "scatterpolar",
            "marker": {
             "colorbar": {
              "outlinewidth": 0,
              "ticks": ""
             }
            }
           }
          ],
          "histogram": [
           {
            "marker": {
             "pattern": {
              "fillmode": "overlay",
              "size": 10,
              "solidity": 0.2
             }
            },
            "type": "histogram"
           }
          ],
          "scattergl": [
           {
            "type": "scattergl",
            "marker": {
             "colorbar": {
              "outlinewidth": 0,
              "ticks": ""
             }
            }
           }
          ],
          "scatter3d": [
           {
            "type": "scatter3d",
            "line": {
             "colorbar": {
              "outlinewidth": 0,
              "ticks": ""
             }
            },
            "marker": {
             "colorbar": {
              "outlinewidth": 0,
              "ticks": ""
             }
            }
           }
          ],
          "scattermap": [
           {
            "type": "scattermap",
            "marker": {
             "colorbar": {
              "outlinewidth": 0,
              "ticks": ""
             }
            }
           }
          ],
          "scattermapbox": [
           {
            "type": "scattermapbox",
            "marker": {
             "colorbar": {
              "outlinewidth": 0,
              "ticks": ""
             }
            }
           }
          ],
          "scatterternary": [
           {
            "type": "scatterternary",
            "marker": {
             "colorbar": {
              "outlinewidth": 0,
              "ticks": ""
             }
            }
           }
          ],
          "scattercarpet": [
           {
            "type": "scattercarpet",
            "marker": {
             "colorbar": {
              "outlinewidth": 0,
              "ticks": ""
             }
            }
           }
          ],
          "carpet": [
           {
            "aaxis": {
             "endlinecolor": "#2a3f5f",
             "gridcolor": "white",
             "linecolor": "white",
             "minorgridcolor": "white",
             "startlinecolor": "#2a3f5f"
            },
            "baxis": {
             "endlinecolor": "#2a3f5f",
             "gridcolor": "white",
             "linecolor": "white",
             "minorgridcolor": "white",
             "startlinecolor": "#2a3f5f"
            },
            "type": "carpet"
           }
          ],
          "table": [
           {
            "cells": {
             "fill": {
              "color": "#EBF0F8"
             },
             "line": {
              "color": "white"
             }
            },
            "header": {
             "fill": {
              "color": "#C8D4E3"
             },
             "line": {
              "color": "white"
             }
            },
            "type": "table"
           }
          ],
          "barpolar": [
           {
            "marker": {
             "line": {
              "color": "#E5ECF6",
              "width": 0.5
             },
             "pattern": {
              "fillmode": "overlay",
              "size": 10,
              "solidity": 0.2
             }
            },
            "type": "barpolar"
           }
          ],
          "pie": [
           {
            "automargin": true,
            "type": "pie"
           }
          ]
         },
         "layout": {
          "autotypenumbers": "strict",
          "colorway": [
           "#636efa",
           "#EF553B",
           "#00cc96",
           "#ab63fa",
           "#FFA15A",
           "#19d3f3",
           "#FF6692",
           "#B6E880",
           "#FF97FF",
           "#FECB52"
          ],
          "font": {
           "color": "#2a3f5f"
          },
          "hovermode": "closest",
          "hoverlabel": {
           "align": "left"
          },
          "paper_bgcolor": "white",
          "plot_bgcolor": "#E5ECF6",
          "polar": {
           "bgcolor": "#E5ECF6",
           "angularaxis": {
            "gridcolor": "white",
            "linecolor": "white",
            "ticks": ""
           },
           "radialaxis": {
            "gridcolor": "white",
            "linecolor": "white",
            "ticks": ""
           }
          },
          "ternary": {
           "bgcolor": "#E5ECF6",
           "aaxis": {
            "gridcolor": "white",
            "linecolor": "white",
            "ticks": ""
           },
           "baxis": {
            "gridcolor": "white",
            "linecolor": "white",
            "ticks": ""
           },
           "caxis": {
            "gridcolor": "white",
            "linecolor": "white",
            "ticks": ""
           }
          },
          "coloraxis": {
           "colorbar": {
            "outlinewidth": 0,
            "ticks": ""
           }
          },
          "colorscale": {
           "sequential": [
            [
             0.0,
             "#0d0887"
            ],
            [
             0.1111111111111111,
             "#46039f"
            ],
            [
             0.2222222222222222,
             "#7201a8"
            ],
            [
             0.3333333333333333,
             "#9c179e"
            ],
            [
             0.4444444444444444,
             "#bd3786"
            ],
            [
             0.5555555555555556,
             "#d8576b"
            ],
            [
             0.6666666666666666,
             "#ed7953"
            ],
            [
             0.7777777777777778,
             "#fb9f3a"
            ],
            [
             0.8888888888888888,
             "#fdca26"
            ],
            [
             1.0,
             "#f0f921"
            ]
           ],
           "sequentialminus": [
            [
             0.0,
             "#0d0887"
            ],
            [
             0.1111111111111111,
             "#46039f"
            ],
            [
             0.2222222222222222,
             "#7201a8"
            ],
            [
             0.3333333333333333,
             "#9c179e"
            ],
            [
             0.4444444444444444,
             "#bd3786"
            ],
            [
             0.5555555555555556,
             "#d8576b"
            ],
            [
             0.6666666666666666,
             "#ed7953"
            ],
            [
             0.7777777777777778,
             "#fb9f3a"
            ],
            [
             0.8888888888888888,
             "#fdca26"
            ],
            [
             1.0,
             "#f0f921"
            ]
           ],
           "diverging": [
            [
             0,
             "#8e0152"
            ],
            [
             0.1,
             "#c51b7d"
            ],
            [
             0.2,
             "#de77ae"
            ],
            [
             0.3,
             "#f1b6da"
            ],
            [
             0.4,
             "#fde0ef"
            ],
            [
             0.5,
             "#f7f7f7"
            ],
            [
             0.6,
             "#e6f5d0"
            ],
            [
             0.7,
             "#b8e186"
            ],
            [
             0.8,
             "#7fbc41"
            ],
            [
             0.9,
             "#4d9221"
            ],
            [
             1,
             "#276419"
            ]
           ]
          },
          "xaxis": {
           "gridcolor": "white",
           "linecolor": "white",
           "ticks": "",
           "title": {
            "standoff": 15
           },
           "zerolinecolor": "white",
           "automargin": true,
           "zerolinewidth": 2
          },
          "yaxis": {
           "gridcolor": "white",
           "linecolor": "white",
           "ticks": "",
           "title": {
            "standoff": 15
           },
           "zerolinecolor": "white",
           "automargin": true,
           "zerolinewidth": 2
          },
          "scene": {
           "xaxis": {
            "backgroundcolor": "#E5ECF6",
            "gridcolor": "white",
            "linecolor": "white",
            "showbackground": true,
            "ticks": "",
            "zerolinecolor": "white",
            "gridwidth": 2
           },
           "yaxis": {
            "backgroundcolor": "#E5ECF6",
            "gridcolor": "white",
            "linecolor": "white",
            "showbackground": true,
            "ticks": "",
            "zerolinecolor": "white",
            "gridwidth": 2
           },
           "zaxis": {
            "backgroundcolor": "#E5ECF6",
            "gridcolor": "white",
            "linecolor": "white",
            "showbackground": true,
            "ticks": "",
            "zerolinecolor": "white",
            "gridwidth": 2
           }
          },
          "shapedefaults": {
           "line": {
            "color": "#2a3f5f"
           }
          },
          "annotationdefaults": {
           "arrowcolor": "#2a3f5f",
           "arrowhead": 0,
           "arrowwidth": 1
          },
          "geo": {
           "bgcolor": "white",
           "landcolor": "#E5ECF6",
           "subunitcolor": "white",
           "showland": true,
           "showlakes": true,
           "lakecolor": "white"
          },
          "title": {
           "x": 0.05
          },
          "mapbox": {
           "style": "light"
          }
         }
        },
        "title": {
         "text": "(Macro AUC=0.75)"
        },
        "xaxis": {
         "title": {
          "text": "False Positive Rate"
         }
        },
        "yaxis": {
         "title": {
          "text": "True Positive Rate"
         }
        }
       },
       "config": {
        "plotlyServerURL": "https://plot.ly"
       }
      }
     },
     "metadata": {},
     "output_type": "display_data"
    }
   ],
   "execution_count": 21
  },
  {
   "metadata": {
    "ExecuteTime": {
     "end_time": "2025-08-21T23:01:14.018820Z",
     "start_time": "2025-08-21T23:01:14.008897Z"
    }
   },
   "cell_type": "code",
   "source": [
    "from scripts.mbm.kl_oriented.kl_mbm_xgBoost import v01_v03_moaks_kl_lasso_coefs_df, v00_v03_moaks_kl_lasso_metrics, v00_v03_moaks_kl_roc\n",
    "\n",
    "display(Markdown('### 5.6.7 12-month follow-up BML variables\\' importance against K-L score at 24-month follow-up'))\n",
    "display(v01_v03_moaks_kl_lasso_coefs_df.sort_values(by='Importance', ascending=False).head(10))\n",
    "display(Markdown('### 5.6.8 12-month follow-up BML variables\\' classification report against K-L score at 24-month follow-up'))\n",
    "display(display(JSON(v00_v03_moaks_kl_lasso_metrics, expanded=True)))\n",
    "display(Markdown('### 5.6.9 12-month follow-up BML variables\\' AUC-ROC curve against K-L score at 24-month follow-up'))\n",
    "v00_v03_moaks_kl_roc.show()"
   ],
   "id": "275c23a93fd188d5",
   "outputs": [
    {
     "data": {
      "text/plain": [
       "<IPython.core.display.Markdown object>"
      ],
      "text/markdown": "### 5.6.7 12-month follow-up BML variables' importance against K-L score at 24-month follow-up"
     },
     "metadata": {},
     "output_type": "display_data"
    },
    {
     "data": {
      "text/plain": [
       "      Feature  Importance\n",
       "0  V01MBMPTMC    0.289548\n",
       "1  V01MBMNTMA    0.064569\n",
       "2  V01MBMPFMC    0.052070\n",
       "3  V01MBMSFLC    0.042981\n",
       "4  V01MBMPFLP    0.039396\n",
       "5  V01MBMPFMP    0.037807\n",
       "6   V01MBMPSS    0.036423\n",
       "7  V01MBMSTMC    0.034302\n",
       "8  V01MBMSTLC    0.030597\n",
       "9  V01MBMSFMC    0.028865"
      ],
      "text/html": [
       "<div>\n",
       "<style scoped>\n",
       "    .dataframe tbody tr th:only-of-type {\n",
       "        vertical-align: middle;\n",
       "    }\n",
       "\n",
       "    .dataframe tbody tr th {\n",
       "        vertical-align: top;\n",
       "    }\n",
       "\n",
       "    .dataframe thead th {\n",
       "        text-align: right;\n",
       "    }\n",
       "</style>\n",
       "<table border=\"1\" class=\"dataframe\">\n",
       "  <thead>\n",
       "    <tr style=\"text-align: right;\">\n",
       "      <th></th>\n",
       "      <th>Feature</th>\n",
       "      <th>Importance</th>\n",
       "    </tr>\n",
       "  </thead>\n",
       "  <tbody>\n",
       "    <tr>\n",
       "      <th>0</th>\n",
       "      <td>V01MBMPTMC</td>\n",
       "      <td>0.289548</td>\n",
       "    </tr>\n",
       "    <tr>\n",
       "      <th>1</th>\n",
       "      <td>V01MBMNTMA</td>\n",
       "      <td>0.064569</td>\n",
       "    </tr>\n",
       "    <tr>\n",
       "      <th>2</th>\n",
       "      <td>V01MBMPFMC</td>\n",
       "      <td>0.052070</td>\n",
       "    </tr>\n",
       "    <tr>\n",
       "      <th>3</th>\n",
       "      <td>V01MBMSFLC</td>\n",
       "      <td>0.042981</td>\n",
       "    </tr>\n",
       "    <tr>\n",
       "      <th>4</th>\n",
       "      <td>V01MBMPFLP</td>\n",
       "      <td>0.039396</td>\n",
       "    </tr>\n",
       "    <tr>\n",
       "      <th>5</th>\n",
       "      <td>V01MBMPFMP</td>\n",
       "      <td>0.037807</td>\n",
       "    </tr>\n",
       "    <tr>\n",
       "      <th>6</th>\n",
       "      <td>V01MBMPSS</td>\n",
       "      <td>0.036423</td>\n",
       "    </tr>\n",
       "    <tr>\n",
       "      <th>7</th>\n",
       "      <td>V01MBMSTMC</td>\n",
       "      <td>0.034302</td>\n",
       "    </tr>\n",
       "    <tr>\n",
       "      <th>8</th>\n",
       "      <td>V01MBMSTLC</td>\n",
       "      <td>0.030597</td>\n",
       "    </tr>\n",
       "    <tr>\n",
       "      <th>9</th>\n",
       "      <td>V01MBMSFMC</td>\n",
       "      <td>0.028865</td>\n",
       "    </tr>\n",
       "  </tbody>\n",
       "</table>\n",
       "</div>"
      ]
     },
     "metadata": {},
     "output_type": "display_data"
    },
    {
     "data": {
      "text/plain": [
       "<IPython.core.display.Markdown object>"
      ],
      "text/markdown": "### 5.6.8 12-month follow-up BML variables' classification report against K-L score at 24-month follow-up"
     },
     "metadata": {},
     "output_type": "display_data"
    },
    {
     "data": {
      "text/plain": [
       "<IPython.core.display.JSON object>"
      ],
      "application/json": {
       "0": {
        "precision": 0.46689895470383275,
        "recall": 0.7790697674418605,
        "f1-score": 0.5838779956427015,
        "support": 172.0
       },
       "1": {
        "precision": 0.43434343434343436,
        "recall": 0.2721518987341772,
        "f1-score": 0.3346303501945525,
        "support": 158.0
       },
       "2": {
        "precision": 0.5151515151515151,
        "recall": 0.38636363636363635,
        "f1-score": 0.44155844155844154,
        "support": 132.0
       },
       "3": {
        "precision": 0.8131868131868132,
        "recall": 0.6491228070175439,
        "f1-score": 0.7219512195121951,
        "support": 114.0
       },
       "accuracy": 0.5243055555555556,
       "macro avg": {
        "precision": 0.5573951793463989,
        "recall": 0.5216770273893045,
        "f1-score": 0.5205045017269727,
        "support": 576.0
       },
       "weighted avg": {
        "precision": 0.5375628116989906,
        "recall": 0.5243055555555556,
        "f1-score": 0.5102200762003272,
        "support": 576.0
       }
      }
     },
     "metadata": {
      "application/json": {
       "expanded": true,
       "root": "root"
      }
     },
     "output_type": "display_data"
    },
    {
     "data": {
      "text/plain": [
       "None"
      ]
     },
     "metadata": {},
     "output_type": "display_data"
    },
    {
     "data": {
      "text/plain": [
       "<IPython.core.display.Markdown object>"
      ],
      "text/markdown": "### 5.6.9 12-month follow-up BML variables' AUC-ROC curve against K-L score at 24-month follow-up"
     },
     "metadata": {},
     "output_type": "display_data"
    },
    {
     "data": {
      "application/vnd.plotly.v1+json": {
       "data": [
        {
         "mode": "lines",
         "name": "Class 0 (AUC=0.76)",
         "x": {
          "dtype": "f8",
          "bdata": "AAAAAAAAAAAAAAAAAAAAAAAAAAAAAAAA+9liZfhGdD/72WJl+EZ0P/hGFJh0an4/+EYUmHRqfj/4RhSYdGp+P/vZYmX4RoQ/+9liZfhGhD/4RhSYdGqOP/hGFJh0ao4/+EYUmHRqjj/4RhSYdGqOP7x+tlgZvpE/vH62WBm+kT/72WJl+EaUPzo1D3LXz5Y/+EYUmHRqnj+8frZYGb6hP7x+tlgZvqE/Gb4RBSadyj+BSafmQe7KP1Fg0ql5kMs/UWDSqXmQyz8hd/1ssTLMP8GkU/Mgd80/VPMgd/1s0T9U8yB3/WzRP7x+tlgZvtE/cESBSafm0T9wRIFJp+bRP9fPFivDN9I/188WK8M30j+LleEbUWDSP/Mgd/1ssdI/p+ZB7vrZ0j8PctfPFivTP1aGb0SBSdc/vhEFJp2a1z9y188WK8PXPyadmge569c/jigw6dQ82D/GyvCNKDDZP8bK8I0oMNk/epC7frZY2T8uVoZvRIHZP5bhG1Fg0tk//WyxMnwj2j8ZvhEFJp3aP4FJp+ZB7to/PchdP1us3D+lU/Mgd/3cP1kZvhEFJt0/KTDp1DzI3T8pMOnUPMjdP/hGFJh0at4/+EYUmHRq3j+sDN+IApPeP6wM34gCk94/yF0/W6wM3z/krp8tVobfP7TFyvCNKOA/aIuV4RtR4D8cUWDSqXngPxxRYNKpeeA/0BYrwzei4D+E3PWzxcrgP4Tc9bPFyuA/EgUmnZoH4T9U8yB3/WzhP+IbUWDSqeE/luEbUWDS4T9wRIFJp+bhP/1ssTJ8I+I/sTJ8IwpM4j9l+EYUmHTiPxm+EQUmneI/W6wM34gC4z9brAzfiALjPw9y188WK+M/nZoHuetn4z9RYNKpeZDjP1Fg0ql5kOM/BSadmge54z/fiAKTTs3jP22xMnwjCuQ/1TzIXT9b5D+JApNOzYPkPz3IXT9brOQ/y/CNKDDp5D/L8I0oMOnkP8GkU/Mgd+U/dWoe5K6f5T/d9bPFyvDlP7ZYGb4RBeY/HuSuny1W5j8e5K6fLVbmP9KpeZC7fuY/0ql5kLt+5j8UmHRqHuTmPxSYdGoe5OY/5K6fLVaG5z+YdGoe5K7nPwAAAAAAAOg/tMXK8I0o6D+gLVaGb0TpPy5Whm9Egek/4htRYNKp6T/iG1Fg0qnpP9fPFivDN+o/188WK8M36j9l+EYUmHTqPxm+EQUmneo/8yB3/Wyx6j+n5kHu+tnqPzUPctfPFus/6dQ8yF0/6z8hd/1ssTLsP6+fLVaGb+w/y/CNKDDp7D9/tlgZvhHtPw3fiAKTTu0/3fWzxcrw7T+Qu362WBnuPwAAAAAAAPA/"
         },
         "y": {
          "dtype": "f8",
          "bdata": "AAAAAAAAAAD0BX1BX9B3P3fEHXFH3JE/d8QdcUfckT9xR9wRd8SdP3FH3BF3xJ0/d8QdcUfcoT/0BX1BX9CnP/QFfUFf0Kc/s6asKWvKqj+zpqwpa8qqP3FH3BF3xK0/d8QdcUfcsT/WlDVlTVmzP9aUNWVNWbM/NmVNWVPWtD/0BX1BX9C3P/QFfUFf0Lc/9AV9QV/Qtz/0BX1BX9C3P7OmrClryro/X9AX9AV94T9f0Bf0BX3hP1/QF/QFfeE/a8qasqas4T9rypqypqzhP4+4I+6IO+I/+oK+oC/o4z8GfUFf0BfkPwZ9QV/QF+Q/Bn1BX9AX5D8Sd8QdcUfkPx5xR9wRd+Q/QV/QF/QF5T9BX9AX9AXlP1lT1pQ1ZeU/WVPWlDVl5T9lTVlT1pTlPzDoC/qCvug/U9aUNWVN6T9T1pQ1ZU3pP1/QF/QFfek/X9AX9AV96T+DvqAv6AvqP5uypqwpa+o/m7KmrClr6j/KmrKmrCnrP+KOuCPuiOs/4o64I+6I6z/ijrgj7ojrP+KOuCPuiOs/+oK+oC/o6z/6gr6gL+jrP/qCvqAv6Os/+oK+oC/o6z8GfUFf0BfsPwZ9QV/QF+w/HnFH3BF37D8ecUfcEXfsPzZlTVlT1uw/NmVNWVPW7D82ZU1ZU9bsPzZlTVlT1uw/NmVNWVPW7D82ZU1ZU9bsP01ZU9aUNe0/TVlT1pQ17T9NWVPWlDXtP1lT1pQ1Ze0/WVPWlDVl7T9ZU9aUNWXtP1lT1pQ1Ze0/WVPWlDVl7T9lTVlT1pTtP2VNWVPWlO0/ZU1ZU9aU7T9lTVlT1pTtP2VNWVPWlO0/ZU1ZU9aU7T9xR9wRd8TtP3FH3BF3xO0/cUfcEXfE7T9xR9wRd8TtP31BX9AX9O0/fUFf0Bf07T+JO+KOuCPuP4k74o64I+4/iTvijrgj7j+JO+KOuCPuP4k74o64I+4/iTvijrgj7j+VNWVNWVPuP5U1ZU1ZU+4/xB1xR9wR7z/EHXFH3BHvP8QdcUfcEe8/xB1xR9wR7z/QF/QFfUHvP9AX9AV9Qe8/3BF3xB1x7z/cEXfEHXHvP+gL+oK+oO8/6Av6gr6g7z/oC/qCvqDvP+gL+oK+oO8/6Av6gr6g7z/oC/qCvqDvP+gL+oK+oO8/6Av6gr6g7z/0BX1BX9DvP/QFfUFf0O8/AAAAAAAA8D8AAAAAAADwPwAAAAAAAPA/AAAAAAAA8D8AAAAAAADwPwAAAAAAAPA/AAAAAAAA8D8AAAAAAADwPwAAAAAAAPA/AAAAAAAA8D8AAAAAAADwPwAAAAAAAPA/AAAAAAAA8D8AAAAAAADwPwAAAAAAAPA/"
         },
         "type": "scatter"
        },
        {
         "mode": "lines",
         "name": "Class 1 (AUC=0.64)",
         "x": {
          "dtype": "f8",
          "bdata": "AAAAAAAAAAAAAAAAAAAAAGN/GCwcmWM/Y38YLByZYz9jfxgsHJlzP2N/GCwcmXM/Y38YLByZcz9jfxgsHJlzP2N/GCwcmYM/Fb8kQqpljT93b5Wm+CWRP3dvlab4JZE/Y38YLByZkz9Qj5uxPwyWPyivobyG8po/Fb8kQqplnT93b5Wm+CWhP233VmmKX6I/PJ8eN2N/qD8fN2N/GCysPx83Y38YLKw/Ac+nx83Yrz8Bz6fHzdivP233VmmKX7I/bfdWaYpfsj9ou7dKU/yyP2i7t0pT/LI/Y38YLByZsz9eQ3kN5TW0P1XLOtB2b7U/UI+bsT8Mtj83Y38YLBy5PzdjfxgsHLk/Fb8kQqplvT8VvyRCqmW9PwYLR+YEPL8/d2+VpvglwT900UUXXXTBPyivobyG8so/JHMCnk+Pyz8h1bIOtN3LPx83Y38YLMw/GvvDYOHIzD8XXXTRRRfNPxIh1bIOtM0/CamWdaDtzj8EbfdWaYrPPwHPp8fN2M8/fKs0xS+J0D8Bz6fHzdjfPwAAAAAAAOA//zBYODIn4D963Iz9YbDgP/r0uBn7w+A/d2+Vpvgl4T92oO3eKk3hP/W4GfvDYOE/bfdWaYpf4j/rQNu9VZriP+tA271VmuI/a1kH2u6t4j9rWQfa7q3iP+pxM/aHweI/aLu3SlP84j9n7A+DhSPjP+U1lNdQXuM/5GbsD4OF4z9isHBkTsDjP2HhyJyA5+M/YeHInIDn4z9gEiHVsg7kP95bpSl+SeQ/XKUpfkmE5D9cpSl+SYTkP9u9VZril+Q/271VmuKX5D9b1oG2e6vkP9kfBgtH5uQ/2FBeQ3kN5T9XaYpfEiHlP9aBtnurNOU/Vpril0RI5T9VyzrQdm/lP1XLOtB2b+U/1ONm7A+D5T/TFL8kQqrlP9MUvyRCquU/Ui3rQNu95T9RXkN5DeXlP9B2b5Wm+OU/z6fHzdgf5j/O2B8GC0fmP87YHwYLR+Y/zQl4Pj1u5j/NCXg+PW7mP8s60HZvleY/ymsor6G85j9FSLWsA23nP0N5DeU1lOc/Qdu9VZri5z+/JEKqZR3oP75VmuKXROg/vlWa4pdE6D870HZvlaboPzvQdm+Vpug/OgHPp8fN6D86Ac+nx83oPzdjfxgsHOk/N2N/GCwc6T+3e6s0xS/pP7d7qzTFL+k/tN1bpSl+6T+03VulKX7pP7MOtN1bpek/sj8MFo7M6T+wcGROwPPpP6+hvIbyGuo/r6G8hvIa6j8sHJkT8HzqP6plHWi7t+o/Kn5JhFTL6j8qfkmEVMvqP6mWdaDt3uo/J+D59LgZ6z8mEVIt60DrPyRzAp5Pj+s/JHMCnk+P6z8daLu3SlPsPx1ou7dKU+w/HJkT8Hx67D8cmRPwfHrsPwAAAAAAAPA/"
         },
         "y": {
          "dtype": "f8",
          "bdata": "AAAAAAAAAADjJszvanGTP+MmzO9qcZM/aCAqHdkzoD9oICod2TOgP+MmzO9qcaM/aCAqHdkzsD+cML+rxU24P5wwv6vFTbg/nDC/q8VNuD+cML+rxU24Pxc3YX5Xi7s/VDqyZyAqvT9UOrJnICq9P2ggKh3ZM8A/BqLSkT0DwT8GotKRPQPBP0SlI3sGosI/4ybM72pxwz/jJszvanHDPyAqHdkzEMU/ICod2TMQxT9eLW7C/K7GP14tbsL8rsY/OrJnICodyT86smcgKh3JP9kzEJWO7Mk/2TMQlY7syT94tbgJ87vKP3i1uAnzu8o/tbgJ87tazD+1uAnzu1rMP1Q6smcgKs0/kj0DUenIzj8xv6vFTZjPP2ggKh3ZM9A/aCAqHdkz0D9oICod2TPQPyAqHdkzENU/ICod2TMQ1T/wanET5nfVP/BqcRPmd9U/j+wZiEpH1j+P7BmISkfWP14tbsL8rtY/Xi1uwvyu1j9eLW7C/K7WP14tbsL8rtY/zO9qcRPm1z+ISkf2DETlP4hKR/YMROU/iEpH9gxE5T/2DESlI3vmP8ZNmN/V4uY/xk2Y39Xi5j/GTZjf1eLmPy1uwvyuFuc/cRPmd7W46T9xE+Z3tbjpP0FUOrJnIOo/QVQ6smcg6j+pdGTPQFTqP6l0ZM9AVOo/eLW4CfO76j94tbgJ87vqP3i1uAnzu+o/eLW4CfO76j/g1eImzO/qP+DV4ibM7+o/rxY3YX5X6z+vFjdhflfrPxc3YX5Xi+s/FzdhfleL6z9+V4ubML/rP35Xi5swv+s/5ne1uAnz6z/md7W4CfPrP+Z3tbgJ8+s/5ne1uAnz6z9OmN/V4ibsP06Y39XiJuw/tbgJ87ta7D+1uAnzu1rsPx3ZMxCVjuw/HdkzEJWO7D+F+V0tbsLsP+0ZiEpH9uw/7RmISkf27D/tGYhKR/bsP+0ZiEpH9uw/7RmISkf27D/tGYhKR/bsP1Q6smcgKu0/VDqyZyAq7T+8WtyE+V3tP7xa3IT5Xe0/vFrchPld7T+8WtyE+V3tP7xa3IT5Xe0/vFrchPld7T+8WtyE+V3tP7xa3IT5Xe0/JHsGotKR7T8kewai0pHtP4ubML+rxe0/i5swv6vF7T/zu1rchPntP/O7WtyE+e0/W9yE+V0t7j9b3IT5XS3uP8L8rhY3Ye4/wvyuFjdh7j8qHdkzEJXuPyod2TMQle4/Kh3ZMxCV7j8qHdkzEJXuPyod2TMQle4/kj0DUenI7j+SPQNR6cjuP5I9A1HpyO4/kj0DUenI7j9hfleLmzDvP2F+V4ubMO8/YX5Xi5sw7z9hfleLmzDvP2F+V4ubMO8/yZ6BqHRk7z/JnoGodGTvPzG/q8VNmO8/Mb+rxU2Y7z8AAAAAAADwPwAAAAAAAPA/"
         },
         "type": "scatter"
        },
        {
         "mode": "lines",
         "name": "Class 2 (AUC=0.70)",
         "x": {
          "dtype": "f8",
          "bdata": "AAAAAAAAAAAAAAAAAAAAADUngbhQc2I/NSeBuFBzYj81J4G4UHNiPzUngbhQc3I/NSeBuFBzcj8CcaHmJBCHPwJxoeYkEIc/0LrBFPmsiz/QusEU+ayLP04CcaHmJJA/TgJxoeYkkD8CcaHmJBCXPwJxoeYkEJc/whT5rBtMoT81J4G4UHOiP6g5CcSFmqM/qDkJxIWaoz8cTJHPusGkP49eGdvv6KU/j14Z2+/opT8CcaHmJBCnPwJxoeYkEKc/6ZWx/Y5eqT/plbH9jl6pP0PNSSAu1Kw/Q81JIC7UrD/CFPmsG0yxP8IU+awbTLE/+x29MrbfsT/7Hb0ytt+xPzUngbhQc7I/NSeBuFBzsj/iQs1JIC60P+JCzUkgLrQ/HEyRz7rBtD8cTJHPusG0PxxMkc+6wbQ/VVVVVVVVtT9VVVVVVVW1PwJxoeYkELc/AnGh5iQQtz88emVsv6O3Pzx6ZWy/o7c/r4ztd/TKuD+vjO139Mq4P1yoOQnEhbo/XKg5CcSFuj+Wsf2OXhm7P7bf0Stj+70/Y/sdvTK2vz9OAnGh5iTAP8IU+awbTME/whT5rBtMwT/CFPmsG0zBP18Z2+/olcE/mCKfdYMpwj+YIp91gynCPzUngbhQc8I/bzBFPusGwz8MNSeBuFDDPyxj+x29MsY/AnGh5iQQxz8CcaHmJBDHPzx6ZWy/o8c/2X5Hr4ztxz92gynyWTfIP6+M7Xf0ysg/r4ztd/TKyD/plbH9jl7JPyOfdYMp8sk/XKg5CcSFyj+Wsf2OXhnLP5ax/Y5eGcs/M7bf0Stjyz9sv6NXxvbLPwnEhZqTQMw/fdYNpshnzT8Z2+/olbHNP5gin3WDKdI/gynyWTeY0j+9Mrbf0SvTPww1J4G4UNM/qDkJxIWa0z+oOQnEhZrTP/c7emVsv9M/9zt6ZWy/0z9/R6+M7XfUPxxMkc+6wdQ/HEyRz7rB1D9qTgJxoebUP2pOAnGh5tQ/uVBzEogL1T+PXhnb7+jVP3plbL+jV9Y/F2pOAnGh1j88emVsv6PXP7vBFPmsG9w/pshn3WCK3D9DzUkgLtTcP0PNSSAu1Nw/kc+6wRT53D8u1JwE4kLdP33WDabIZ90/y9h+R6+M3T/L2H5Hr4zdP2jdYIp81t0/aN1ginzW3T8ngbhQcxLoP3aDKfJZN+g/doMp8lk36D/EhZqTQFzoPxKICzUngeg/1g2myGfd6D8lEBdqTgLpP8IU+awbTOk/Xxnb7+iV6T8jn3WDKfLpPyOfdYMp8uk/v6NXxvY76j/nJBAXak7qPzUngbhQc+o/q6qqqqqq6j8gLtScBOLqP+SzbjBFPus/M7bf0Stj6z8ztt/RK2PrP6g5CcSFmus/9zt6ZWy/6z+UQFyoOQnsP5RAXKg5Cew/u8EU+awb7D+myGfdYIrsP/TK2H5Hr+w/Q81JIC7U7D/g0Stj+x3tP+DRK2P7He0/VVVVVVVV7T9VVVVVVVXtP6RXxvY7eu0/pFfG9jt67T96ZWy/o1fuP3plbL+jV+4/AAAAAAAA8D8="
         },
         "y": {
          "dtype": "f8",
          "bdata": "AAAAAAAAAAAIH3zwwQd/PwgffPDBB38/CB988MEHnz9VVVVVVVW1P1VVVVVVVbU/Ntlkk002uT822WSTTTa5PxdddNFFF70/CB988MEHvz988MEHH3zAP3zwwQcffMA/bbLJJptswj9tsskmm2zCP2WTTTbZZMM/ZZNNNtlkwz9ddNFFF13EP1100UUXXcQ/VVVVVVVVxT9ONtlkk03GP0422WSTTcY/Pvjggw8+yD8++OCDDz7IPzbZZJNNNsk/Ntlkk002yT8nm2yyySbLPyebbLLJJss/H3zwwQcfzD8ffPDBBx/MPxA++OCDD84/ED744IMPzj8IH3zwwQfPPwgffPDBB88/8MEHH3zw0T/wwQcffPDRP+miiy666NI/6aKLLrro0j9lk0022WTTP1100UUXXdQ/XXTRRRdd1D/ZZJNNNtnUP9lkk0022dQ/0UUXXXTR1T/RRRdddNHVP0422WSTTdY/yiabbLLJ1j9GF1100UXXP0YXXXTRRdc/wgcffPDB1z/CBx988MHXP8IHH3zwwdc/wgcffPDB1z/CBx988MHXP8IHH3zwwdc/uuiiiy662D822WSTTTbZP7LJJptsstk/sskmm2yy2T8vuuiiiy7aPy+66KKLLto/L7rooosu2j+rqqqqqqraPx988MEHH9w/H3zwwQcf3D+bbLLJJpvcP5tssskmm9w/m2yyySab3D8XXXTRRRfdPxdddNFFF90/k0022WST3T+TTTbZZJPdP5NNNtlkk90/k0022WST3T+TTTbZZJPdPwgffPDBB98/CB988MEH3z8AAAAAAADgPwAAAAAAAOA/Pvjggw8+4D988MEHH3zgPzbZZJNNNuE/dNFFF1104T900UUXXXThP3TRRRdddOE/sskmm2yy4T/wwQcffPDhP/DBBx988OE/q6qqqqqq4j/poosuuujiP+miiy666OI/J5tssskm4z8nm2yyySbjP2WTTTbZZOM/o4suuuii4z/hgw8++ODjP+GDDz744OM/4YMPPvjg4z9ddNFFF13kP0YXXXTRRec/RhdddNFF5z9GF1100UXnP4QPPvjgg+c/hA8++OCD5z+EDz744IPnP8IHH3zwwec/wgcffPDB5z8AAAAAAADoPwAAAAAAAOg/fPDBBx986D8XXXTRRRftPxdddNFFF+0/VVVVVVVV7T9VVVVVVVXtP5NNNtlkk+0/k0022WST7T+TTTbZZJPtP5NNNtlkk+0/k0022WST7T+TTTbZZJPtPxA++OCDD+4/ED744IMP7j8QPvjggw/uPxA++OCDD+4/TjbZZJNN7j9ONtlkk03uP0422WSTTe4/TjbZZJNN7j+MLrrooovuP4wuuuiii+4/jC666KKL7j+MLrrooovuPwgffPDBB+8/CB988MEH7z8IH3zwwQfvPwgffPDBB+8/CB988MEH7z8IH3zwwQfvP0YXXXTRRe8/RhdddNFF7z+EDz744IPvP4QPPvjgg+8/wgcffPDB7z/CBx988MHvPwAAAAAAAPA/AAAAAAAA8D8="
         },
         "type": "scatter"
        },
        {
         "mode": "lines",
         "name": "Class 3 (AUC=0.88)",
         "x": {
          "dtype": "f8",
          "bdata": "AAAAAAAAAAAAAAAAAAAAAAAAAAAAAAAAKe1GQEq7YT8p7UZASrthPyntRkBKu3E/Ke1GQEq7cT++Y2pg75h6P75jamDvmHo/Ke1GQEq7gT8p7UZASruBPyntRkBKu4E/c6hY0Bwqhj9zqFjQHCqGP3OoWNAcKoY/vmNqYO+Yij++Y2pg75iKP75jamDvmIo/CB988MEHjz8IH3zwwQePP87KT4iz8pM/zspPiLPykz9zqFjQHCqWP3OoWNAcKpY/GIZhGIZhmD8YhmEYhmGYP75jamDvmJo/vmNqYO+Ymj9WfkKclZ+gP87KT4iz8qM/zspPiLPyoz9zqFjQHCqmP0YXXXTRRac/Y0FzqFjQrD8IH3zwwQevP+1GQEq7EbA/Vn5CnJWfsD9WfkKclZ+wPyntRkBKu7E/Ke1GQEq7sT9lk0022WSzPzcCUtqNgLQ/NwJS2o2AtD8KcVZ+Qpy1PxiGYRiGYbg/kNJuBKS0uz+Q0m4EpLS7P/kJcVZ+Qrw/NbB3TA3svT+e53me53m+P57neZ7neb4/CB988MEHvz+iYkFzqFjAP6JiQXOoWMA/Vn5CnJWfwD8Zr05fxqvDPzcCUtqNgMQ/CnFWfkKcxT+/jFenL+PFP3OoWNAcKsY/3d9aIve3xj/6Ml6dvozHP/oyXp2+jMc/ZGpg75gayD9kamDvmBrIPxiGYRiGYcg/GIZhGIZhyD/NoWJBc6jIP+v0Zbw6fck/VCxoDhULyj9ULGgOFQvKP75jamDvmMo/J5tssskmyz+Q0m4EpLTLP57neZ7nec4/cVZ+QpyVzz9xVn5CnJXPPyZyf2uJ3M8/C5pDxYLm0D/AtUTuby3RPyntRkBKu9E/A3vH1MDe0T+4lsj9rSXSP7iWyP2tJdI/R0BKuxGQ0j8hzspPiLPSP3OoWNAcKtY/AlLajYCU1j/d31oi97fWP9XA3jE1sNc/CnFWfkKc5T/3t5bI/a3lP/MT4qz8hOg/bwSktBsB6T9JkiRJkiTpPyMgpd0ISOk/EWflJ8RZ6T+yySabbLLpP2flJ8RZ+ek/VCxoDhUL6j9ULGgOFQvqPxwBKe1GQOo/vmNqYO+Y6j+rqqqqqqrqP4U4Kz8hzuo/X8ar05fx6j86VCxoDhXrP8n9rSVyf+s/kNJuBKS06z99Ga9OX8brPzI1sHdMDew/riVyf2uJ7D+Is/IT4qzsP1CIs/IT4uw/KhY0h4oF7T8EpLQbASntP7m/tUTub+0/Ive3lsj97T8i97eWyP3tPxA++OCDD+4/6st4dfoy7j/XErm/tUTuP57neZ7nee4/jC666KKL7j9TA3vH1MDuPxvYO6YG9u4/G9g7pgb27j8IH3zwwQfvP8/zPM/zPO8/qoG9Y2pg7z9xVn5CnJXvP0vk/tYSue8/JnJ/a4nc7z8AAAAAAADwPw=="
         },
         "y": {
          "dtype": "f8",
          "bdata": "AAAAAAAAAABwH8F9BPeBP2cxncV0FsM/ZzGdxXQWwz91FtNZTGfRP3UW01lMZ9E/cB/BfQT30T9wH8F9BPfRP1pMZzGdxdQ/WkxnMZ3F1D9RXkN5DeXVPzqL6Syms9g/OovpLKaz2D8xncV0FtPZPy2ms5jOYto/LaazmM5i2j8fwX0E9xHcPxbTWUxnMd0/FtNZTGcx3T/3EdxHcB/hP/Maymsor+E/7iO4j+A+4j/uI7iP4D7iP+U1lNdQXuM/5TWU11Be4z/hPoL7CO7jP+E+gvsI7uM/3EdwH8F95D/cR3AfwX3kP9xHcB/BfeQ/VVVVVVVV5T9VVVVVVVXlP9NZTGcxneU/01lMZzGd5T/TWUxnMZ3lP1FeQ3kN5eU/UV5DeQ3l5T/PYjqL6SzmP89iOovpLOY/ymsor6G85j/KayivobzmP8Z0FtNZTOc/Q3kN5TWU5z9DeQ3lNZTnP0N5DeU1lOc/Q3kN5TWU5z8/gvsI7iPoPz+C+wjuI+g/P4L7CO4j6D8/gvsI7iPoP72G8hrKa+g/vYbyGspr6D+9hvIaymvoP7iP4D6C++g/uI/gPoL76D+0mM5iOovpP7SYzmI6i+k/tJjOYjqL6T8xncV0FtPpPzGdxXQW0+k/MZ3FdBbT6T8xncV0FtPpP6+hvIbyGuo/r6G8hvIa6j8tprOYzmLqPy2ms5jOYuo/q6qqqqqq6j+rqqqqqqrqP6uqqqqqquo/q6qqqqqq6j8or6G8hvLqPyivobyG8uo/KK+hvIby6j8or6G8hvLqPyivobyG8uo/KK+hvIby6j+ms5jOYjrrP6azmM5iOus/oryG8hrK6z+ivIbyGsrrP6K8hvIayus/oryG8hrK6z+ivIbyGsrrPx/BfQT3Eew/H8F9BPcR7D8fwX0E9xHsP53FdBbTWew/ncV0FtNZ7D8bymsor6HsPxvKayivoew/kOA+gvsI7j+Q4D6C+wjuP4vpLKazmO4/i+ksprOY7j+L6Syms5juP4vpLKazmO4/i+ksprOY7j+L6Syms5juP4vpLKazmO4/Ce4juI/g7j+H8hrKayjvP4fyGsprKO8/h/Iaymso7z+H8hrKayjvP4fyGsprKO8/h/Iaymso7z+H8hrKayjvP4fyGsprKO8/BPcR3Edw7z8E9xHcR3DvPwT3EdxHcO8/BPcR3Edw7z8E9xHcR3DvPwT3EdxHcO8/BPcR3Edw7z8E9xHcR3DvPwT3EdxHcO8/BPcR3Edw7z+C+wjuI7jvP4L7CO4juO8/gvsI7iO47z+C+wjuI7jvP4L7CO4juO8/gvsI7iO47z+C+wjuI7jvP4L7CO4juO8/AAAAAAAA8D8AAAAAAADwPwAAAAAAAPA/AAAAAAAA8D8AAAAAAADwPwAAAAAAAPA/AAAAAAAA8D8AAAAAAADwPw=="
         },
         "type": "scatter"
        },
        {
         "line": {
          "dash": "dot",
          "width": 3
         },
         "mode": "lines",
         "name": "Micro-average ROC (AUC=0.78)",
         "x": {
          "dtype": "f8",
          "bdata": "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"
         },
         "y": {
          "dtype": "f8",
          "bdata": "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"
         },
         "type": "scatter"
        },
        {
         "line": {
          "dash": "dash"
         },
         "mode": "lines",
         "name": "Chance",
         "x": [
          0,
          1
         ],
         "y": [
          0,
          1
         ],
         "type": "scatter"
        }
       ],
       "layout": {
        "template": {
         "data": {
          "histogram2dcontour": [
           {
            "type": "histogram2dcontour",
            "colorbar": {
             "outlinewidth": 0,
             "ticks": ""
            },
            "colorscale": [
             [
              0.0,
              "#0d0887"
             ],
             [
              0.1111111111111111,
              "#46039f"
             ],
             [
              0.2222222222222222,
              "#7201a8"
             ],
             [
              0.3333333333333333,
              "#9c179e"
             ],
             [
              0.4444444444444444,
              "#bd3786"
             ],
             [
              0.5555555555555556,
              "#d8576b"
             ],
             [
              0.6666666666666666,
              "#ed7953"
             ],
             [
              0.7777777777777778,
              "#fb9f3a"
             ],
             [
              0.8888888888888888,
              "#fdca26"
             ],
             [
              1.0,
              "#f0f921"
             ]
            ]
           }
          ],
          "choropleth": [
           {
            "type": "choropleth",
            "colorbar": {
             "outlinewidth": 0,
             "ticks": ""
            }
           }
          ],
          "histogram2d": [
           {
            "type": "histogram2d",
            "colorbar": {
             "outlinewidth": 0,
             "ticks": ""
            },
            "colorscale": [
             [
              0.0,
              "#0d0887"
             ],
             [
              0.1111111111111111,
              "#46039f"
             ],
             [
              0.2222222222222222,
              "#7201a8"
             ],
             [
              0.3333333333333333,
              "#9c179e"
             ],
             [
              0.4444444444444444,
              "#bd3786"
             ],
             [
              0.5555555555555556,
              "#d8576b"
             ],
             [
              0.6666666666666666,
              "#ed7953"
             ],
             [
              0.7777777777777778,
              "#fb9f3a"
             ],
             [
              0.8888888888888888,
              "#fdca26"
             ],
             [
              1.0,
              "#f0f921"
             ]
            ]
           }
          ],
          "heatmap": [
           {
            "type": "heatmap",
            "colorbar": {
             "outlinewidth": 0,
             "ticks": ""
            },
            "colorscale": [
             [
              0.0,
              "#0d0887"
             ],
             [
              0.1111111111111111,
              "#46039f"
             ],
             [
              0.2222222222222222,
              "#7201a8"
             ],
             [
              0.3333333333333333,
              "#9c179e"
             ],
             [
              0.4444444444444444,
              "#bd3786"
             ],
             [
              0.5555555555555556,
              "#d8576b"
             ],
             [
              0.6666666666666666,
              "#ed7953"
             ],
             [
              0.7777777777777778,
              "#fb9f3a"
             ],
             [
              0.8888888888888888,
              "#fdca26"
             ],
             [
              1.0,
              "#f0f921"
             ]
            ]
           }
          ],
          "contourcarpet": [
           {
            "type": "contourcarpet",
            "colorbar": {
             "outlinewidth": 0,
             "ticks": ""
            }
           }
          ],
          "contour": [
           {
            "type": "contour",
            "colorbar": {
             "outlinewidth": 0,
             "ticks": ""
            },
            "colorscale": [
             [
              0.0,
              "#0d0887"
             ],
             [
              0.1111111111111111,
              "#46039f"
             ],
             [
              0.2222222222222222,
              "#7201a8"
             ],
             [
              0.3333333333333333,
              "#9c179e"
             ],
             [
              0.4444444444444444,
              "#bd3786"
             ],
             [
              0.5555555555555556,
              "#d8576b"
             ],
             [
              0.6666666666666666,
              "#ed7953"
             ],
             [
              0.7777777777777778,
              "#fb9f3a"
             ],
             [
              0.8888888888888888,
              "#fdca26"
             ],
             [
              1.0,
              "#f0f921"
             ]
            ]
           }
          ],
          "surface": [
           {
            "type": "surface",
            "colorbar": {
             "outlinewidth": 0,
             "ticks": ""
            },
            "colorscale": [
             [
              0.0,
              "#0d0887"
             ],
             [
              0.1111111111111111,
              "#46039f"
             ],
             [
              0.2222222222222222,
              "#7201a8"
             ],
             [
              0.3333333333333333,
              "#9c179e"
             ],
             [
              0.4444444444444444,
              "#bd3786"
             ],
             [
              0.5555555555555556,
              "#d8576b"
             ],
             [
              0.6666666666666666,
              "#ed7953"
             ],
             [
              0.7777777777777778,
              "#fb9f3a"
             ],
             [
              0.8888888888888888,
              "#fdca26"
             ],
             [
              1.0,
              "#f0f921"
             ]
            ]
           }
          ],
          "mesh3d": [
           {
            "type": "mesh3d",
            "colorbar": {
             "outlinewidth": 0,
             "ticks": ""
            }
           }
          ],
          "scatter": [
           {
            "fillpattern": {
             "fillmode": "overlay",
             "size": 10,
             "solidity": 0.2
            },
            "type": "scatter"
           }
          ],
          "parcoords": [
           {
            "type": "parcoords",
            "line": {
             "colorbar": {
              "outlinewidth": 0,
              "ticks": ""
             }
            }
           }
          ],
          "scatterpolargl": [
           {
            "type": "scatterpolargl",
            "marker": {
             "colorbar": {
              "outlinewidth": 0,
              "ticks": ""
             }
            }
           }
          ],
          "bar": [
           {
            "error_x": {
             "color": "#2a3f5f"
            },
            "error_y": {
             "color": "#2a3f5f"
            },
            "marker": {
             "line": {
              "color": "#E5ECF6",
              "width": 0.5
             },
             "pattern": {
              "fillmode": "overlay",
              "size": 10,
              "solidity": 0.2
             }
            },
            "type": "bar"
           }
          ],
          "scattergeo": [
           {
            "type": "scattergeo",
            "marker": {
             "colorbar": {
              "outlinewidth": 0,
              "ticks": ""
             }
            }
           }
          ],
          "scatterpolar": [
           {
            "type": "scatterpolar",
            "marker": {
             "colorbar": {
              "outlinewidth": 0,
              "ticks": ""
             }
            }
           }
          ],
          "histogram": [
           {
            "marker": {
             "pattern": {
              "fillmode": "overlay",
              "size": 10,
              "solidity": 0.2
             }
            },
            "type": "histogram"
           }
          ],
          "scattergl": [
           {
            "type": "scattergl",
            "marker": {
             "colorbar": {
              "outlinewidth": 0,
              "ticks": ""
             }
            }
           }
          ],
          "scatter3d": [
           {
            "type": "scatter3d",
            "line": {
             "colorbar": {
              "outlinewidth": 0,
              "ticks": ""
             }
            },
            "marker": {
             "colorbar": {
              "outlinewidth": 0,
              "ticks": ""
             }
            }
           }
          ],
          "scattermap": [
           {
            "type": "scattermap",
            "marker": {
             "colorbar": {
              "outlinewidth": 0,
              "ticks": ""
             }
            }
           }
          ],
          "scattermapbox": [
           {
            "type": "scattermapbox",
            "marker": {
             "colorbar": {
              "outlinewidth": 0,
              "ticks": ""
             }
            }
           }
          ],
          "scatterternary": [
           {
            "type": "scatterternary",
            "marker": {
             "colorbar": {
              "outlinewidth": 0,
              "ticks": ""
             }
            }
           }
          ],
          "scattercarpet": [
           {
            "type": "scattercarpet",
            "marker": {
             "colorbar": {
              "outlinewidth": 0,
              "ticks": ""
             }
            }
           }
          ],
          "carpet": [
           {
            "aaxis": {
             "endlinecolor": "#2a3f5f",
             "gridcolor": "white",
             "linecolor": "white",
             "minorgridcolor": "white",
             "startlinecolor": "#2a3f5f"
            },
            "baxis": {
             "endlinecolor": "#2a3f5f",
             "gridcolor": "white",
             "linecolor": "white",
             "minorgridcolor": "white",
             "startlinecolor": "#2a3f5f"
            },
            "type": "carpet"
           }
          ],
          "table": [
           {
            "cells": {
             "fill": {
              "color": "#EBF0F8"
             },
             "line": {
              "color": "white"
             }
            },
            "header": {
             "fill": {
              "color": "#C8D4E3"
             },
             "line": {
              "color": "white"
             }
            },
            "type": "table"
           }
          ],
          "barpolar": [
           {
            "marker": {
             "line": {
              "color": "#E5ECF6",
              "width": 0.5
             },
             "pattern": {
              "fillmode": "overlay",
              "size": 10,
              "solidity": 0.2
             }
            },
            "type": "barpolar"
           }
          ],
          "pie": [
           {
            "automargin": true,
            "type": "pie"
           }
          ]
         },
         "layout": {
          "autotypenumbers": "strict",
          "colorway": [
           "#636efa",
           "#EF553B",
           "#00cc96",
           "#ab63fa",
           "#FFA15A",
           "#19d3f3",
           "#FF6692",
           "#B6E880",
           "#FF97FF",
           "#FECB52"
          ],
          "font": {
           "color": "#2a3f5f"
          },
          "hovermode": "closest",
          "hoverlabel": {
           "align": "left"
          },
          "paper_bgcolor": "white",
          "plot_bgcolor": "#E5ECF6",
          "polar": {
           "bgcolor": "#E5ECF6",
           "angularaxis": {
            "gridcolor": "white",
            "linecolor": "white",
            "ticks": ""
           },
           "radialaxis": {
            "gridcolor": "white",
            "linecolor": "white",
            "ticks": ""
           }
          },
          "ternary": {
           "bgcolor": "#E5ECF6",
           "aaxis": {
            "gridcolor": "white",
            "linecolor": "white",
            "ticks": ""
           },
           "baxis": {
            "gridcolor": "white",
            "linecolor": "white",
            "ticks": ""
           },
           "caxis": {
            "gridcolor": "white",
            "linecolor": "white",
            "ticks": ""
           }
          },
          "coloraxis": {
           "colorbar": {
            "outlinewidth": 0,
            "ticks": ""
           }
          },
          "colorscale": {
           "sequential": [
            [
             0.0,
             "#0d0887"
            ],
            [
             0.1111111111111111,
             "#46039f"
            ],
            [
             0.2222222222222222,
             "#7201a8"
            ],
            [
             0.3333333333333333,
             "#9c179e"
            ],
            [
             0.4444444444444444,
             "#bd3786"
            ],
            [
             0.5555555555555556,
             "#d8576b"
            ],
            [
             0.6666666666666666,
             "#ed7953"
            ],
            [
             0.7777777777777778,
             "#fb9f3a"
            ],
            [
             0.8888888888888888,
             "#fdca26"
            ],
            [
             1.0,
             "#f0f921"
            ]
           ],
           "sequentialminus": [
            [
             0.0,
             "#0d0887"
            ],
            [
             0.1111111111111111,
             "#46039f"
            ],
            [
             0.2222222222222222,
             "#7201a8"
            ],
            [
             0.3333333333333333,
             "#9c179e"
            ],
            [
             0.4444444444444444,
             "#bd3786"
            ],
            [
             0.5555555555555556,
             "#d8576b"
            ],
            [
             0.6666666666666666,
             "#ed7953"
            ],
            [
             0.7777777777777778,
             "#fb9f3a"
            ],
            [
             0.8888888888888888,
             "#fdca26"
            ],
            [
             1.0,
             "#f0f921"
            ]
           ],
           "diverging": [
            [
             0,
             "#8e0152"
            ],
            [
             0.1,
             "#c51b7d"
            ],
            [
             0.2,
             "#de77ae"
            ],
            [
             0.3,
             "#f1b6da"
            ],
            [
             0.4,
             "#fde0ef"
            ],
            [
             0.5,
             "#f7f7f7"
            ],
            [
             0.6,
             "#e6f5d0"
            ],
            [
             0.7,
             "#b8e186"
            ],
            [
             0.8,
             "#7fbc41"
            ],
            [
             0.9,
             "#4d9221"
            ],
            [
             1,
             "#276419"
            ]
           ]
          },
          "xaxis": {
           "gridcolor": "white",
           "linecolor": "white",
           "ticks": "",
           "title": {
            "standoff": 15
           },
           "zerolinecolor": "white",
           "automargin": true,
           "zerolinewidth": 2
          },
          "yaxis": {
           "gridcolor": "white",
           "linecolor": "white",
           "ticks": "",
           "title": {
            "standoff": 15
           },
           "zerolinecolor": "white",
           "automargin": true,
           "zerolinewidth": 2
          },
          "scene": {
           "xaxis": {
            "backgroundcolor": "#E5ECF6",
            "gridcolor": "white",
            "linecolor": "white",
            "showbackground": true,
            "ticks": "",
            "zerolinecolor": "white",
            "gridwidth": 2
           },
           "yaxis": {
            "backgroundcolor": "#E5ECF6",
            "gridcolor": "white",
            "linecolor": "white",
            "showbackground": true,
            "ticks": "",
            "zerolinecolor": "white",
            "gridwidth": 2
           },
           "zaxis": {
            "backgroundcolor": "#E5ECF6",
            "gridcolor": "white",
            "linecolor": "white",
            "showbackground": true,
            "ticks": "",
            "zerolinecolor": "white",
            "gridwidth": 2
           }
          },
          "shapedefaults": {
           "line": {
            "color": "#2a3f5f"
           }
          },
          "annotationdefaults": {
           "arrowcolor": "#2a3f5f",
           "arrowhead": 0,
           "arrowwidth": 1
          },
          "geo": {
           "bgcolor": "white",
           "landcolor": "#E5ECF6",
           "subunitcolor": "white",
           "showland": true,
           "showlakes": true,
           "lakecolor": "white"
          },
          "title": {
           "x": 0.05
          },
          "mapbox": {
           "style": "light"
          }
         }
        },
        "title": {
         "text": "(Macro AUC=0.75)"
        },
        "xaxis": {
         "title": {
          "text": "False Positive Rate"
         }
        },
        "yaxis": {
         "title": {
          "text": "True Positive Rate"
         }
        }
       },
       "config": {
        "plotlyServerURL": "https://plot.ly"
       }
      }
     },
     "metadata": {},
     "output_type": "display_data"
    }
   ],
   "execution_count": 22
  },
  {
   "metadata": {},
   "cell_type": "markdown",
   "source": [
    "## Results\n",
    "BML variables have a degree of predictive power over the K-L score. XGBoost Classifier with Lasso-selected variables performs the best and generates a moderate AUC."
   ],
   "id": "6b4937bfd357cf23"
  }
 ],
 "metadata": {
  "kernelspec": {
   "display_name": "Python 3",
   "language": "python",
   "name": "python3"
  },
  "language_info": {
   "codemirror_mode": {
    "name": "ipython",
    "version": 2
   },
   "file_extension": ".py",
   "mimetype": "text/x-python",
   "name": "python",
   "nbconvert_exporter": "python",
   "pygments_lexer": "ipython2",
   "version": "2.7.6"
  }
 },
 "nbformat": 4,
 "nbformat_minor": 5
}
