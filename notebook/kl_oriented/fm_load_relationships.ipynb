{
 "cells": [
  {
   "cell_type": "code",
   "id": "initial_id",
   "metadata": {
    "collapsed": true,
    "ExecuteTime": {
     "end_time": "2025-08-12T16:51:44.654086Z",
     "start_time": "2025-08-12T16:51:42.401866Z"
    }
   },
   "source": [
    "import pandas as pd\n",
    "from modules.plot_data import plot_moaks_data\n",
    "from scripts.fm.fm_load_relationships import v00_moaks_shared_kl_fm_load\n",
    "pd.options.mode.chained_assignment = None\n",
    "\n",
    "moaks_3d_fm_load_scatter = plot_moaks_data(v00_moaks_shared_kl_fm_load)\n",
    "moaks_3d_fm_load_scatter.show()"
   ],
   "outputs": [
    {
     "data": {
      "application/vnd.plotly.v1+json": {
       "data": [
        {
         "hovertemplate": "V00FMAMBMLOAD=%{x}<br>V00FMCMBMLOAD=%{y}<br>V00FMPMBMLOAD=%{z}<br>count=%{marker.size}<extra></extra>",
         "legendgroup": "",
         "marker": {
          "color": "#636efa",
          "opacity": 0.8,
          "size": {
           "dtype": "i2",
           "bdata": "qgklABEABAAQAC8ABwACADsADAADACoAAwAEAAoAAQAEAAEADAAEAHcAAQABABQABwAFAAEANAAGAA4ADwADABEABgADAAIAAQADAAIAAQABAAEAZwAKAAIADAAFAAEAAgABAGsAAgABAAIAAgAHAAEAAgABACMAAgABAAIAAwACAAEAAQABACsAAgABAAEAAQAGAAEAyQABAAEACQADAAEAAQAEAAEAFAABAAEABwACAAoAAQAGAAIABQABACwAAQABAAEABgABAAIAAwACAAoAAQABAAEAAQA="
          },
          "sizemode": "area",
          "sizeref": 1.54625,
          "symbol": "circle"
         },
         "mode": "markers",
         "name": "",
         "scene": "scene",
         "showlegend": false,
         "x": {
          "dtype": "f8",
          "bdata": "AAAAAAAAAAAAAAAAAAAAAAAAAAAAAAAAAAAAAAAAAAAAAAAAAAAAAAAAAAAAAAAAAAAAAAAAAAAAAAAAAAAAAAAAAAAAAAAAAAAAAAAAAAAAAAAAAAAAAAAAAAAAAAAAAAAAAAAAAAAAAAAAAAAAAAAAAAAAAAAAAAAAAAAAAAAAAAAAAAAAAAAAAAAAAAAAAAAAAAAAAAAAAAAAAAAAAAAAAAAAAAAAAAAAAAAAAAAAAAAAAAAAAAAAAAAAAAAAAAAAAAAAAAAAAAAAAAAAAAAAAAAAAAAAAAAAAAAAAAAAAAAAAAAAAAAAAAAAAAAAAAAAAAAAAAAAAAAAAAAAAAAAAAAAAAAAAAAAAAAAAAAAAAAAAAAAAAAAAAAAAAAAAAAAAAAAAAAAAAAAAAAAAAAAAAAAAAAAAAAAAAAAAAAAAAAAAAAAAAAAAAAAAAAAAAAAAAAA8D8AAAAAAADwPwAAAAAAAPA/AAAAAAAA8D8AAAAAAADwPwAAAAAAAPA/AAAAAAAA8D8AAAAAAADwPwAAAAAAAABAAAAAAAAAAEAAAAAAAAAAQAAAAAAAAABAAAAAAAAAAEAAAAAAAAAAQAAAAAAAAABAAAAAAAAAAEAAAAAAAAAAQAAAAAAAAAhAAAAAAAAACEAAAAAAAAAIQAAAAAAAAAhAAAAAAAAACEAAAAAAAAAIQAAAAAAAAAhAAAAAAAAACEAAAAAAAAAIQAAAAAAAABBAAAAAAAAAEEAAAAAAAAAQQAAAAAAAABBAAAAAAAAAEEAAAAAAAAAQQAAAAAAAABBAAAAAAAAAFEAAAAAAAAAUQAAAAAAAABRAAAAAAAAAFEAAAAAAAAAUQAAAAAAAABRAAAAAAAAAFEAAAAAAAAAUQAAAAAAAABRAAAAAAAAAFEAAAAAAAAAUQAAAAAAAABRAAAAAAAAAFEAAAAAAAAAUQAAAAAAAABRAAAAAAAAAFEAAAAAAAAAUQAAAAAAAABRAAAAAAAAAFEAAAAAAAAAUQAAAAAAAABhAAAAAAAAAGEAAAAAAAAAYQAAAAAAAABhAAAAAAAAAGEAAAAAAAAAYQAAAAAAAABhAAAAAAAAAGEAAAAAAAAAYQAAAAAAAABxAAAAAAAAAHEAAAAAAAAAcQAAAAAAAABxAAAAAAAAAIEA="
         },
         "y": {
          "dtype": "f8",
          "bdata": "AAAAAAAAAAAAAAAAAAAAAAAAAAAAAAAAAAAAAAAAAAAAAAAAAAAAAAAAAAAAAAAAAAAAAAAAAAAAAAAAAAAAAAAAAAAAAPA/AAAAAAAA8D8AAAAAAADwPwAAAAAAAABAAAAAAAAAAEAAAAAAAAAAQAAAAAAAAAhAAAAAAAAACEAAAAAAAAAIQAAAAAAAAAhAAAAAAAAAEEAAAAAAAAAQQAAAAAAAABRAAAAAAAAAFEAAAAAAAAAUQAAAAAAAABRAAAAAAAAAFEAAAAAAAAAUQAAAAAAAABRAAAAAAAAAGEAAAAAAAAAYQAAAAAAAABhAAAAAAAAAGEAAAAAAAAAYQAAAAAAAABxAAAAAAAAAHEAAAAAAAAAcQAAAAAAAABxAAAAAAAAAHEAAAAAAAAAgQAAAAAAAACBAAAAAAAAAIEAAAAAAAAAgQAAAAAAAACJAAAAAAAAAAAAAAAAAAAAAAAAAAAAAAAAAAAAAAAAA8D8AAAAAAADwPwAAAAAAAPA/AAAAAAAAAEAAAAAAAAAIQAAAAAAAAAAAAAAAAAAAAAAAAAAAAAAAAAAAAAAAAPA/AAAAAAAA8D8AAAAAAAAAQAAAAAAAAAhAAAAAAAAAFEAAAAAAAAAgQAAAAAAAAAAAAAAAAAAAAAAAAAAAAAAAAAAAAAAAAPA/AAAAAAAAAEAAAAAAAAAIQAAAAAAAABBAAAAAAAAAHEAAAAAAAAAcQAAAAAAAAAAAAAAAAAAAAAAAAAAAAAAAAAAAAAAAAABAAAAAAAAAEEAAAAAAAAAUQAAAAAAAABRAAAAAAAAAAAAAAAAAAAAAAAAAAAAAAAAAAAAAAAAAAAAAAAAAAAAAAAAAAAAAAABAAAAAAAAACEAAAAAAAAAQQAAAAAAAABBAAAAAAAAAFEAAAAAAAAAUQAAAAAAAABRAAAAAAAAAFEAAAAAAAAAUQAAAAAAAABhAAAAAAAAAGEAAAAAAAAAYQAAAAAAAABhAAAAAAAAAHEAAAAAAAAAcQAAAAAAAAAAAAAAAAAAAAAAAAAAAAAAAAAAAAAAAAPA/AAAAAAAAFEAAAAAAAAAUQAAAAAAAABRAAAAAAAAAHEAAAAAAAAAgQAAAAAAAAAAAAAAAAAAAAAAAAAAAAAAYQAAAAAAAABxAAAAAAAAAAAA="
         },
         "z": {
          "dtype": "f8",
          "bdata": "AAAAAAAAAAAAAAAAAADwPwAAAAAAAABAAAAAAAAACEAAAAAAAAAQQAAAAAAAABRAAAAAAAAAGEAAAAAAAAAcQAAAAAAAAAAAAAAAAAAA8D8AAAAAAAAAQAAAAAAAAAAAAAAAAAAA8D8AAAAAAAAAQAAAAAAAAAAAAAAAAAAA8D8AAAAAAAAAQAAAAAAAABBAAAAAAAAAAAAAAAAAAAAUQAAAAAAAAAAAAAAAAAAACEAAAAAAAAAQQAAAAAAAABRAAAAAAAAAGEAAAAAAAAAcQAAAAAAAACBAAAAAAAAAAAAAAAAAAAAQQAAAAAAAABRAAAAAAAAAGEAAAAAAAAAcQAAAAAAAAAAAAAAAAAAAFEAAAAAAAAAYQAAAAAAAABxAAAAAAAAAIkAAAAAAAAAAAAAAAAAAABRAAAAAAAAAGEAAAAAAAAAgQAAAAAAAAAAAAAAAAAAAAAAAAAAAAADwPwAAAAAAAABAAAAAAAAAAAAAAAAAAADwPwAAAAAAAAhAAAAAAAAAAAAAAAAAAAAIQAAAAAAAAAAAAAAAAAAAAEAAAAAAAAAQQAAAAAAAAAAAAAAAAAAA8D8AAAAAAAAAAAAAAAAAAABAAAAAAAAAAAAAAAAAAAAYQAAAAAAAAAAAAAAAAAAAAEAAAAAAAAAUQAAAAAAAAAAAAAAAAAAAAAAAAAAAAAAAAAAAAAAAABBAAAAAAAAAAAAAAAAAAAAgQAAAAAAAAAAAAAAAAAAAEEAAAAAAAAAcQAAAAAAAAAAAAAAAAAAAAAAAAAAAAAAAAAAAAAAAABRAAAAAAAAAAAAAAAAAAAAIQAAAAAAAABBAAAAAAAAAFEAAAAAAAAAYQAAAAAAAABRAAAAAAAAAAAAAAAAAAAAAAAAAAAAAABRAAAAAAAAAAAAAAAAAAAAIQAAAAAAAABBAAAAAAAAAFEAAAAAAAAAcQAAAAAAAAAAAAAAAAAAAEEAAAAAAAAAUQAAAAAAAABhAAAAAAAAAAAAAAAAAAAAYQAAAAAAAAAAAAAAAAAAAFEAAAAAAAAAYQAAAAAAAAAAAAAAAAAAAAAAAAAAAAAAQQAAAAAAAABRAAAAAAAAAAAAAAAAAAAAAAAAAAAAAAAAAAAAAAAAAGEAAAAAAAAAAAAAAAAAAAAAAAAAAAAAAAAA="
         },
         "type": "scatter3d"
        }
       ],
       "layout": {
        "template": {
         "data": {
          "histogram2dcontour": [
           {
            "type": "histogram2dcontour",
            "colorbar": {
             "outlinewidth": 0,
             "ticks": ""
            },
            "colorscale": [
             [
              0.0,
              "#0d0887"
             ],
             [
              0.1111111111111111,
              "#46039f"
             ],
             [
              0.2222222222222222,
              "#7201a8"
             ],
             [
              0.3333333333333333,
              "#9c179e"
             ],
             [
              0.4444444444444444,
              "#bd3786"
             ],
             [
              0.5555555555555556,
              "#d8576b"
             ],
             [
              0.6666666666666666,
              "#ed7953"
             ],
             [
              0.7777777777777778,
              "#fb9f3a"
             ],
             [
              0.8888888888888888,
              "#fdca26"
             ],
             [
              1.0,
              "#f0f921"
             ]
            ]
           }
          ],
          "choropleth": [
           {
            "type": "choropleth",
            "colorbar": {
             "outlinewidth": 0,
             "ticks": ""
            }
           }
          ],
          "histogram2d": [
           {
            "type": "histogram2d",
            "colorbar": {
             "outlinewidth": 0,
             "ticks": ""
            },
            "colorscale": [
             [
              0.0,
              "#0d0887"
             ],
             [
              0.1111111111111111,
              "#46039f"
             ],
             [
              0.2222222222222222,
              "#7201a8"
             ],
             [
              0.3333333333333333,
              "#9c179e"
             ],
             [
              0.4444444444444444,
              "#bd3786"
             ],
             [
              0.5555555555555556,
              "#d8576b"
             ],
             [
              0.6666666666666666,
              "#ed7953"
             ],
             [
              0.7777777777777778,
              "#fb9f3a"
             ],
             [
              0.8888888888888888,
              "#fdca26"
             ],
             [
              1.0,
              "#f0f921"
             ]
            ]
           }
          ],
          "heatmap": [
           {
            "type": "heatmap",
            "colorbar": {
             "outlinewidth": 0,
             "ticks": ""
            },
            "colorscale": [
             [
              0.0,
              "#0d0887"
             ],
             [
              0.1111111111111111,
              "#46039f"
             ],
             [
              0.2222222222222222,
              "#7201a8"
             ],
             [
              0.3333333333333333,
              "#9c179e"
             ],
             [
              0.4444444444444444,
              "#bd3786"
             ],
             [
              0.5555555555555556,
              "#d8576b"
             ],
             [
              0.6666666666666666,
              "#ed7953"
             ],
             [
              0.7777777777777778,
              "#fb9f3a"
             ],
             [
              0.8888888888888888,
              "#fdca26"
             ],
             [
              1.0,
              "#f0f921"
             ]
            ]
           }
          ],
          "contourcarpet": [
           {
            "type": "contourcarpet",
            "colorbar": {
             "outlinewidth": 0,
             "ticks": ""
            }
           }
          ],
          "contour": [
           {
            "type": "contour",
            "colorbar": {
             "outlinewidth": 0,
             "ticks": ""
            },
            "colorscale": [
             [
              0.0,
              "#0d0887"
             ],
             [
              0.1111111111111111,
              "#46039f"
             ],
             [
              0.2222222222222222,
              "#7201a8"
             ],
             [
              0.3333333333333333,
              "#9c179e"
             ],
             [
              0.4444444444444444,
              "#bd3786"
             ],
             [
              0.5555555555555556,
              "#d8576b"
             ],
             [
              0.6666666666666666,
              "#ed7953"
             ],
             [
              0.7777777777777778,
              "#fb9f3a"
             ],
             [
              0.8888888888888888,
              "#fdca26"
             ],
             [
              1.0,
              "#f0f921"
             ]
            ]
           }
          ],
          "surface": [
           {
            "type": "surface",
            "colorbar": {
             "outlinewidth": 0,
             "ticks": ""
            },
            "colorscale": [
             [
              0.0,
              "#0d0887"
             ],
             [
              0.1111111111111111,
              "#46039f"
             ],
             [
              0.2222222222222222,
              "#7201a8"
             ],
             [
              0.3333333333333333,
              "#9c179e"
             ],
             [
              0.4444444444444444,
              "#bd3786"
             ],
             [
              0.5555555555555556,
              "#d8576b"
             ],
             [
              0.6666666666666666,
              "#ed7953"
             ],
             [
              0.7777777777777778,
              "#fb9f3a"
             ],
             [
              0.8888888888888888,
              "#fdca26"
             ],
             [
              1.0,
              "#f0f921"
             ]
            ]
           }
          ],
          "mesh3d": [
           {
            "type": "mesh3d",
            "colorbar": {
             "outlinewidth": 0,
             "ticks": ""
            }
           }
          ],
          "scatter": [
           {
            "marker": {
             "line": {
              "color": "#283442"
             }
            },
            "type": "scatter"
           }
          ],
          "parcoords": [
           {
            "type": "parcoords",
            "line": {
             "colorbar": {
              "outlinewidth": 0,
              "ticks": ""
             }
            }
           }
          ],
          "scatterpolargl": [
           {
            "type": "scatterpolargl",
            "marker": {
             "colorbar": {
              "outlinewidth": 0,
              "ticks": ""
             }
            }
           }
          ],
          "bar": [
           {
            "error_x": {
             "color": "#f2f5fa"
            },
            "error_y": {
             "color": "#f2f5fa"
            },
            "marker": {
             "line": {
              "color": "rgb(17,17,17)",
              "width": 0.5
             },
             "pattern": {
              "fillmode": "overlay",
              "size": 10,
              "solidity": 0.2
             }
            },
            "type": "bar"
           }
          ],
          "scattergeo": [
           {
            "type": "scattergeo",
            "marker": {
             "colorbar": {
              "outlinewidth": 0,
              "ticks": ""
             }
            }
           }
          ],
          "scatterpolar": [
           {
            "type": "scatterpolar",
            "marker": {
             "colorbar": {
              "outlinewidth": 0,
              "ticks": ""
             }
            }
           }
          ],
          "histogram": [
           {
            "marker": {
             "pattern": {
              "fillmode": "overlay",
              "size": 10,
              "solidity": 0.2
             }
            },
            "type": "histogram"
           }
          ],
          "scattergl": [
           {
            "marker": {
             "line": {
              "color": "#283442"
             }
            },
            "type": "scattergl"
           }
          ],
          "scatter3d": [
           {
            "type": "scatter3d",
            "line": {
             "colorbar": {
              "outlinewidth": 0,
              "ticks": ""
             }
            },
            "marker": {
             "colorbar": {
              "outlinewidth": 0,
              "ticks": ""
             }
            }
           }
          ],
          "scattermap": [
           {
            "type": "scattermap",
            "marker": {
             "colorbar": {
              "outlinewidth": 0,
              "ticks": ""
             }
            }
           }
          ],
          "scattermapbox": [
           {
            "type": "scattermapbox",
            "marker": {
             "colorbar": {
              "outlinewidth": 0,
              "ticks": ""
             }
            }
           }
          ],
          "scatterternary": [
           {
            "type": "scatterternary",
            "marker": {
             "colorbar": {
              "outlinewidth": 0,
              "ticks": ""
             }
            }
           }
          ],
          "scattercarpet": [
           {
            "type": "scattercarpet",
            "marker": {
             "colorbar": {
              "outlinewidth": 0,
              "ticks": ""
             }
            }
           }
          ],
          "carpet": [
           {
            "aaxis": {
             "endlinecolor": "#A2B1C6",
             "gridcolor": "#506784",
             "linecolor": "#506784",
             "minorgridcolor": "#506784",
             "startlinecolor": "#A2B1C6"
            },
            "baxis": {
             "endlinecolor": "#A2B1C6",
             "gridcolor": "#506784",
             "linecolor": "#506784",
             "minorgridcolor": "#506784",
             "startlinecolor": "#A2B1C6"
            },
            "type": "carpet"
           }
          ],
          "table": [
           {
            "cells": {
             "fill": {
              "color": "#506784"
             },
             "line": {
              "color": "rgb(17,17,17)"
             }
            },
            "header": {
             "fill": {
              "color": "#2a3f5f"
             },
             "line": {
              "color": "rgb(17,17,17)"
             }
            },
            "type": "table"
           }
          ],
          "barpolar": [
           {
            "marker": {
             "line": {
              "color": "rgb(17,17,17)",
              "width": 0.5
             },
             "pattern": {
              "fillmode": "overlay",
              "size": 10,
              "solidity": 0.2
             }
            },
            "type": "barpolar"
           }
          ],
          "pie": [
           {
            "automargin": true,
            "type": "pie"
           }
          ]
         },
         "layout": {
          "autotypenumbers": "strict",
          "colorway": [
           "#636efa",
           "#EF553B",
           "#00cc96",
           "#ab63fa",
           "#FFA15A",
           "#19d3f3",
           "#FF6692",
           "#B6E880",
           "#FF97FF",
           "#FECB52"
          ],
          "font": {
           "color": "#f2f5fa"
          },
          "hovermode": "closest",
          "hoverlabel": {
           "align": "left"
          },
          "paper_bgcolor": "rgb(17,17,17)",
          "plot_bgcolor": "rgb(17,17,17)",
          "polar": {
           "bgcolor": "rgb(17,17,17)",
           "angularaxis": {
            "gridcolor": "#506784",
            "linecolor": "#506784",
            "ticks": ""
           },
           "radialaxis": {
            "gridcolor": "#506784",
            "linecolor": "#506784",
            "ticks": ""
           }
          },
          "ternary": {
           "bgcolor": "rgb(17,17,17)",
           "aaxis": {
            "gridcolor": "#506784",
            "linecolor": "#506784",
            "ticks": ""
           },
           "baxis": {
            "gridcolor": "#506784",
            "linecolor": "#506784",
            "ticks": ""
           },
           "caxis": {
            "gridcolor": "#506784",
            "linecolor": "#506784",
            "ticks": ""
           }
          },
          "coloraxis": {
           "colorbar": {
            "outlinewidth": 0,
            "ticks": ""
           }
          },
          "colorscale": {
           "sequential": [
            [
             0.0,
             "#0d0887"
            ],
            [
             0.1111111111111111,
             "#46039f"
            ],
            [
             0.2222222222222222,
             "#7201a8"
            ],
            [
             0.3333333333333333,
             "#9c179e"
            ],
            [
             0.4444444444444444,
             "#bd3786"
            ],
            [
             0.5555555555555556,
             "#d8576b"
            ],
            [
             0.6666666666666666,
             "#ed7953"
            ],
            [
             0.7777777777777778,
             "#fb9f3a"
            ],
            [
             0.8888888888888888,
             "#fdca26"
            ],
            [
             1.0,
             "#f0f921"
            ]
           ],
           "sequentialminus": [
            [
             0.0,
             "#0d0887"
            ],
            [
             0.1111111111111111,
             "#46039f"
            ],
            [
             0.2222222222222222,
             "#7201a8"
            ],
            [
             0.3333333333333333,
             "#9c179e"
            ],
            [
             0.4444444444444444,
             "#bd3786"
            ],
            [
             0.5555555555555556,
             "#d8576b"
            ],
            [
             0.6666666666666666,
             "#ed7953"
            ],
            [
             0.7777777777777778,
             "#fb9f3a"
            ],
            [
             0.8888888888888888,
             "#fdca26"
            ],
            [
             1.0,
             "#f0f921"
            ]
           ],
           "diverging": [
            [
             0,
             "#8e0152"
            ],
            [
             0.1,
             "#c51b7d"
            ],
            [
             0.2,
             "#de77ae"
            ],
            [
             0.3,
             "#f1b6da"
            ],
            [
             0.4,
             "#fde0ef"
            ],
            [
             0.5,
             "#f7f7f7"
            ],
            [
             0.6,
             "#e6f5d0"
            ],
            [
             0.7,
             "#b8e186"
            ],
            [
             0.8,
             "#7fbc41"
            ],
            [
             0.9,
             "#4d9221"
            ],
            [
             1,
             "#276419"
            ]
           ]
          },
          "xaxis": {
           "gridcolor": "#283442",
           "linecolor": "#506784",
           "ticks": "",
           "title": {
            "standoff": 15
           },
           "zerolinecolor": "#283442",
           "automargin": true,
           "zerolinewidth": 2
          },
          "yaxis": {
           "gridcolor": "#283442",
           "linecolor": "#506784",
           "ticks": "",
           "title": {
            "standoff": 15
           },
           "zerolinecolor": "#283442",
           "automargin": true,
           "zerolinewidth": 2
          },
          "scene": {
           "xaxis": {
            "backgroundcolor": "rgb(17,17,17)",
            "gridcolor": "#506784",
            "linecolor": "#506784",
            "showbackground": true,
            "ticks": "",
            "zerolinecolor": "#C8D4E3",
            "gridwidth": 2
           },
           "yaxis": {
            "backgroundcolor": "rgb(17,17,17)",
            "gridcolor": "#506784",
            "linecolor": "#506784",
            "showbackground": true,
            "ticks": "",
            "zerolinecolor": "#C8D4E3",
            "gridwidth": 2
           },
           "zaxis": {
            "backgroundcolor": "rgb(17,17,17)",
            "gridcolor": "#506784",
            "linecolor": "#506784",
            "showbackground": true,
            "ticks": "",
            "zerolinecolor": "#C8D4E3",
            "gridwidth": 2
           }
          },
          "shapedefaults": {
           "line": {
            "color": "#f2f5fa"
           }
          },
          "annotationdefaults": {
           "arrowcolor": "#f2f5fa",
           "arrowhead": 0,
           "arrowwidth": 1
          },
          "geo": {
           "bgcolor": "rgb(17,17,17)",
           "landcolor": "rgb(17,17,17)",
           "subunitcolor": "#506784",
           "showland": true,
           "showlakes": true,
           "lakecolor": "rgb(17,17,17)"
          },
          "title": {
           "x": 0.05
          },
          "updatemenudefaults": {
           "bgcolor": "#506784",
           "borderwidth": 0
          },
          "sliderdefaults": {
           "bgcolor": "#C8D4E3",
           "borderwidth": 1,
           "bordercolor": "rgb(17,17,17)",
           "tickwidth": 0
          },
          "mapbox": {
           "style": "dark"
          }
         }
        },
        "scene": {
         "domain": {
          "x": [
           0.0,
           1.0
          ],
          "y": [
           0.0,
           1.0
          ]
         },
         "xaxis": {
          "title": {
           "text": "V00FMAMBMLOAD"
          },
          "showgrid": false
         },
         "yaxis": {
          "title": {
           "text": "V00FMCMBMLOAD"
          },
          "showgrid": false
         },
         "zaxis": {
          "title": {
           "text": "V00FMPMBMLOAD"
          },
          "showgrid": false
         }
        },
        "legend": {
         "tracegroupgap": 0,
         "itemsizing": "constant"
        },
        "margin": {
         "t": 60
        }
       },
       "config": {
        "plotlyServerURL": "https://plot.ly"
       }
      }
     },
     "metadata": {},
     "output_type": "display_data"
    }
   ],
   "execution_count": 1
  },
  {
   "metadata": {
    "ExecuteTime": {
     "end_time": "2025-08-12T16:51:44.663933Z",
     "start_time": "2025-08-12T16:51:44.659411Z"
    }
   },
   "cell_type": "code",
   "source": [
    "from modules.variable_analysis import cronbach_alpha\n",
    "\n",
    "fm_alpha = cronbach_alpha(v00_moaks_shared_kl_fm_load)\n",
    "print(f'FM:{fm_alpha}')"
   ],
   "id": "92d631ca02e7133a",
   "outputs": [
    {
     "name": "stdout",
     "output_type": "stream",
     "text": [
      "FM:0.3718673388319659\n"
     ]
    }
   ],
   "execution_count": 2
  },
  {
   "metadata": {
    "ExecuteTime": {
     "end_time": "2025-08-12T16:51:44.804397Z",
     "start_time": "2025-08-12T16:51:44.779213Z"
    }
   },
   "cell_type": "code",
   "source": [
    "from IPython.display import display\n",
    "from scripts.fm.fm_load_relationships import fm_relationships_df\n",
    "pd.set_option('display.max_colwidth', None)\n",
    "\n",
    "display(fm_relationships_df)"
   ],
   "id": "6a7c80fe757b95df",
   "outputs": [
    {
     "data": {
      "text/plain": [
       "           type  \\\n",
       "0        linear   \n",
       "1        linear   \n",
       "2        linear   \n",
       "3        linear   \n",
       "4        linear   \n",
       "5        linear   \n",
       "6     quadratic   \n",
       "7     quadratic   \n",
       "8     quadratic   \n",
       "9     quadratic   \n",
       "10    quadratic   \n",
       "11    quadratic   \n",
       "12    quadratic   \n",
       "13    quadratic   \n",
       "14    quadratic   \n",
       "15    quadratic   \n",
       "16    quadratic   \n",
       "17    quadratic   \n",
       "18        cubic   \n",
       "19        cubic   \n",
       "20        cubic   \n",
       "21        cubic   \n",
       "22        cubic   \n",
       "23        cubic   \n",
       "24        cubic   \n",
       "25        cubic   \n",
       "26        cubic   \n",
       "27        cubic   \n",
       "28        cubic   \n",
       "29        cubic   \n",
       "30  interaction   \n",
       "31  interaction   \n",
       "32  interaction   \n",
       "33  interaction   \n",
       "34  interaction   \n",
       "35  interaction   \n",
       "36  interaction   \n",
       "37  interaction   \n",
       "38  interaction   \n",
       "39  interaction   \n",
       "40  interaction   \n",
       "41  interaction   \n",
       "\n",
       "                                                                                                                                  formula  \\\n",
       "0                                                                                                           V00FMAMBMLOAD ~ V00FMCMBMLOAD   \n",
       "1                                                                                           V00FMAMBMLOAD ~ V00FMCMBMLOAD + V00FMPMBMLOAD   \n",
       "2                                                                                                           V00FMCMBMLOAD ~ V00FMAMBMLOAD   \n",
       "3                                                                                           V00FMCMBMLOAD ~ V00FMAMBMLOAD + V00FMPMBMLOAD   \n",
       "4                                                                                                           V00FMPMBMLOAD ~ V00FMAMBMLOAD   \n",
       "5                                                                                           V00FMPMBMLOAD ~ V00FMAMBMLOAD + V00FMCMBMLOAD   \n",
       "6                                                                                                     V00FMAMBMLOAD ~ I(V00FMCMBMLOAD**2)   \n",
       "7                                                                                     V00FMAMBMLOAD ~ V00FMCMBMLOAD + I(V00FMCMBMLOAD**2)   \n",
       "8                                               V00FMAMBMLOAD ~ V00FMCMBMLOAD + V00FMPMBMLOAD + I(V00FMCMBMLOAD**2) + I(V00FMPMBMLOAD**2)   \n",
       "9                                                                                     V00FMAMBMLOAD ~ V00FMCMBMLOAD + I(V00FMPMBMLOAD**2)   \n",
       "10                                                                                                    V00FMCMBMLOAD ~ I(V00FMAMBMLOAD**2)   \n",
       "11                                                                                    V00FMCMBMLOAD ~ V00FMAMBMLOAD + I(V00FMAMBMLOAD**2)   \n",
       "12                                              V00FMCMBMLOAD ~ V00FMAMBMLOAD + V00FMPMBMLOAD + I(V00FMAMBMLOAD**2) + I(V00FMPMBMLOAD**2)   \n",
       "13                                                                                    V00FMCMBMLOAD ~ V00FMAMBMLOAD + I(V00FMPMBMLOAD**2)   \n",
       "14                                                                                                    V00FMPMBMLOAD ~ I(V00FMAMBMLOAD**2)   \n",
       "15                                                                                    V00FMPMBMLOAD ~ V00FMAMBMLOAD + I(V00FMAMBMLOAD**2)   \n",
       "16                                              V00FMPMBMLOAD ~ V00FMAMBMLOAD + V00FMCMBMLOAD + I(V00FMAMBMLOAD**2) + I(V00FMCMBMLOAD**2)   \n",
       "17                                                                                    V00FMPMBMLOAD ~ V00FMAMBMLOAD + I(V00FMCMBMLOAD**2)   \n",
       "18                                                                                                    V00FMAMBMLOAD ~ I(V00FMCMBMLOAD**3)   \n",
       "19                                                              V00FMAMBMLOAD ~ V00FMCMBMLOAD + I(V00FMCMBMLOAD**2) + I(V00FMCMBMLOAD**3)   \n",
       "20  V00FMAMBMLOAD ~ V00FMCMBMLOAD + V00FMPMBMLOAD + I(V00FMCMBMLOAD**2) + I(V00FMPMBMLOAD**2) + I(V00FMCMBMLOAD**3) + I(V00FMPMBMLOAD**3)   \n",
       "21                                                              V00FMAMBMLOAD ~ V00FMCMBMLOAD + I(V00FMPMBMLOAD**2) + I(V00FMPMBMLOAD**3)   \n",
       "22                                                                                                    V00FMCMBMLOAD ~ I(V00FMAMBMLOAD**3)   \n",
       "23                                                              V00FMCMBMLOAD ~ V00FMAMBMLOAD + I(V00FMAMBMLOAD**2) + I(V00FMAMBMLOAD**3)   \n",
       "24  V00FMCMBMLOAD ~ V00FMAMBMLOAD + V00FMPMBMLOAD + I(V00FMAMBMLOAD**2) + I(V00FMPMBMLOAD**2) + I(V00FMAMBMLOAD**3) + I(V00FMPMBMLOAD**3)   \n",
       "25                                                              V00FMCMBMLOAD ~ V00FMAMBMLOAD + I(V00FMPMBMLOAD**2) + I(V00FMPMBMLOAD**3)   \n",
       "26                                                                                                    V00FMPMBMLOAD ~ I(V00FMAMBMLOAD**3)   \n",
       "27                                                              V00FMPMBMLOAD ~ V00FMAMBMLOAD + I(V00FMAMBMLOAD**2) + I(V00FMAMBMLOAD**3)   \n",
       "28  V00FMPMBMLOAD ~ V00FMAMBMLOAD + V00FMCMBMLOAD + I(V00FMAMBMLOAD**2) + I(V00FMCMBMLOAD**2) + I(V00FMAMBMLOAD**3) + I(V00FMCMBMLOAD**3)   \n",
       "29                                                              V00FMPMBMLOAD ~ V00FMAMBMLOAD + I(V00FMCMBMLOAD**2) + I(V00FMCMBMLOAD**3)   \n",
       "30                                                                                            V00FMAMBMLOAD ~ V00FMCMBMLOAD:V00FMPMBMLOAD   \n",
       "31                                                                                            V00FMAMBMLOAD ~ V00FMCMBMLOAD*V00FMPMBMLOAD   \n",
       "32                                                                                      V00FMAMBMLOAD ~ V00FMCMBMLOAD*I(V00FMPMBMLOAD**2)   \n",
       "33                                                                                      V00FMAMBMLOAD ~ V00FMCMBMLOAD*I(V00FMPMBMLOAD**3)   \n",
       "34                                                                                            V00FMCMBMLOAD ~ V00FMAMBMLOAD:V00FMPMBMLOAD   \n",
       "35                                                                                            V00FMCMBMLOAD ~ V00FMAMBMLOAD*V00FMPMBMLOAD   \n",
       "36                                                                                      V00FMCMBMLOAD ~ V00FMAMBMLOAD*I(V00FMPMBMLOAD**2)   \n",
       "37                                                                                      V00FMCMBMLOAD ~ V00FMAMBMLOAD*I(V00FMPMBMLOAD**3)   \n",
       "38                                                                                            V00FMPMBMLOAD ~ V00FMAMBMLOAD:V00FMCMBMLOAD   \n",
       "39                                                                                            V00FMPMBMLOAD ~ V00FMAMBMLOAD*V00FMCMBMLOAD   \n",
       "40                                                                                      V00FMPMBMLOAD ~ V00FMAMBMLOAD*I(V00FMCMBMLOAD**2)   \n",
       "41                                                                                      V00FMPMBMLOAD ~ V00FMAMBMLOAD*I(V00FMCMBMLOAD**3)   \n",
       "\n",
       "                                                                                                                                                                                                                                                          params  \\\n",
       "0                                                                                                                                                                                             Intercept        0.042987\n",
       "V00FMCMBMLOAD    0.033395\n",
       "dtype: float64   \n",
       "1                                                                                                                                                                   Intercept        0.041804\n",
       "V00FMCMBMLOAD    0.027035\n",
       "V00FMPMBMLOAD    0.037126\n",
       "dtype: float64   \n",
       "2                                                                                                                                                                                             Intercept        0.027080\n",
       "V00FMAMBMLOAD    0.024065\n",
       "dtype: float64   \n",
       "3                                                                                                                                                                   Intercept        0.015594\n",
       "V00FMAMBMLOAD    0.011807\n",
       "V00FMPMBMLOAD    0.334048\n",
       "dtype: float64   \n",
       "4                                                                                                                                                                                             Intercept        0.007369\n",
       "V00FMAMBMLOAD    0.008152\n",
       "dtype: float64   \n",
       "5                                                                                                                                                                   Intercept        0.002218\n",
       "V00FMAMBMLOAD    0.003021\n",
       "V00FMCMBMLOAD    0.062248\n",
       "dtype: float64   \n",
       "6                                                                                                                                                                             Intercept                0.043046\n",
       "I(V00FMCMBMLOAD ** 2)    0.006110\n",
       "dtype: float64   \n",
       "7                                                                                                                                           Intercept                0.042984\n",
       "V00FMCMBMLOAD            0.036364\n",
       "I(V00FMCMBMLOAD ** 2)   -0.000556\n",
       "dtype: float64   \n",
       "8                                                                       Intercept                0.041824\n",
       "V00FMCMBMLOAD           -0.001713\n",
       "V00FMPMBMLOAD            0.049597\n",
       "I(V00FMCMBMLOAD ** 2)    0.005525\n",
       "I(V00FMPMBMLOAD ** 2)   -0.002628\n",
       "dtype: float64   \n",
       "9                                                                                                                                           Intercept                0.041818\n",
       "V00FMCMBMLOAD            0.026959\n",
       "I(V00FMPMBMLOAD ** 2)    0.007157\n",
       "dtype: float64   \n",
       "10                                                                                                                                                                            Intercept                0.027128\n",
       "I(V00FMAMBMLOAD ** 2)    0.005023\n",
       "dtype: float64   \n",
       "11                                                                                                                                          Intercept                0.027197\n",
       "V00FMAMBMLOAD           -0.018357\n",
       "I(V00FMAMBMLOAD ** 2)    0.008692\n",
       "dtype: float64   \n",
       "12                                                                      Intercept                0.015842\n",
       "V00FMAMBMLOAD           -0.006633\n",
       "V00FMPMBMLOAD           -0.474579\n",
       "I(V00FMAMBMLOAD ** 2)    0.003776\n",
       "I(V00FMPMBMLOAD ** 2)    0.161020\n",
       "dtype: float64   \n",
       "13                                                                                                                                          Intercept                0.015637\n",
       "V00FMAMBMLOAD            0.011747\n",
       "I(V00FMPMBMLOAD ** 2)    0.069069\n",
       "dtype: float64   \n",
       "14                                                                                                                                                                            Intercept                0.007392\n",
       "I(V00FMAMBMLOAD ** 2)    0.001658\n",
       "dtype: float64   \n",
       "15                                                                                                                                          Intercept                0.007389\n",
       "V00FMAMBMLOAD            0.000978\n",
       "I(V00FMAMBMLOAD ** 2)    0.001463\n",
       "dtype: float64   \n",
       "16                                                                      Intercept                0.002382\n",
       "V00FMAMBMLOAD            0.004123\n",
       "V00FMCMBMLOAD           -0.143647\n",
       "I(V00FMAMBMLOAD ** 2)   -0.000241\n",
       "I(V00FMCMBMLOAD ** 2)    0.039433\n",
       "dtype: float64   \n",
       "17                                                                                                                                          Intercept                0.002220\n",
       "V00FMAMBMLOAD            0.002959\n",
       "I(V00FMCMBMLOAD ** 2)    0.012507\n",
       "dtype: float64   \n",
       "18                                                                                                                                                                            Intercept                0.043109\n",
       "I(V00FMCMBMLOAD ** 3)    0.001062\n",
       "dtype: float64   \n",
       "19                                                                                                        Intercept                0.042998\n",
       "V00FMCMBMLOAD            0.005438\n",
       "I(V00FMCMBMLOAD ** 2)    0.012591\n",
       "I(V00FMCMBMLOAD ** 3)   -0.001349\n",
       "dtype: float64   \n",
       "20  Intercept                0.041814\n",
       "V00FMCMBMLOAD            0.039993\n",
       "V00FMPMBMLOAD            0.015026\n",
       "I(V00FMCMBMLOAD ** 2)   -0.013295\n",
       "I(V00FMPMBMLOAD ** 2)    0.015042\n",
       "I(V00FMCMBMLOAD ** 3)    0.002035\n",
       "I(V00FMPMBMLOAD ** 3)   -0.002107\n",
       "dtype: float64   \n",
       "21                                                                                                        Intercept                0.041806\n",
       "V00FMCMBMLOAD            0.027140\n",
       "I(V00FMPMBMLOAD ** 2)    0.019599\n",
       "I(V00FMPMBMLOAD ** 3)   -0.002373\n",
       "dtype: float64   \n",
       "22                                                                                                                                                                            Intercept                0.027166\n",
       "I(V00FMAMBMLOAD ** 3)    0.000991\n",
       "dtype: float64   \n",
       "23                                                                                                        Intercept                0.027206\n",
       "V00FMAMBMLOAD           -0.030709\n",
       "I(V00FMAMBMLOAD ** 2)    0.016345\n",
       "I(V00FMAMBMLOAD ** 3)   -0.001024\n",
       "dtype: float64   \n",
       "24  Intercept                0.015762\n",
       "V00FMAMBMLOAD           -0.005577\n",
       "V00FMPMBMLOAD            0.281829\n",
       "I(V00FMAMBMLOAD ** 2)    0.002422\n",
       "I(V00FMPMBMLOAD ** 2)   -0.227998\n",
       "I(V00FMAMBMLOAD ** 3)    0.000228\n",
       "I(V00FMPMBMLOAD ** 3)    0.046195\n",
       "dtype: float64   \n",
       "25                                                                                                        Intercept                0.015763\n",
       "V00FMAMBMLOAD            0.011794\n",
       "I(V00FMPMBMLOAD ** 2)   -0.115822\n",
       "I(V00FMPMBMLOAD ** 3)    0.035228\n",
       "dtype: float64   \n",
       "26                                                                                                                                                                            Intercept                0.007411\n",
       "I(V00FMAMBMLOAD ** 3)    0.000321\n",
       "dtype: float64   \n",
       "27                                                                                                        Intercept                0.007400\n",
       "V00FMAMBMLOAD           -0.014439\n",
       "I(V00FMAMBMLOAD ** 2)    0.010714\n",
       "I(V00FMAMBMLOAD ** 3)   -0.001217\n",
       "dtype: float64   \n",
       "28  Intercept                0.002313\n",
       "V00FMAMBMLOAD            0.000917\n",
       "V00FMCMBMLOAD            0.084103\n",
       "I(V00FMAMBMLOAD ** 2)    0.001429\n",
       "I(V00FMCMBMLOAD ** 2)   -0.063035\n",
       "I(V00FMAMBMLOAD ** 3)   -0.000204\n",
       "I(V00FMCMBMLOAD ** 3)    0.011033\n",
       "dtype: float64   \n",
       "29                                                                                                        Intercept                0.002358\n",
       "V00FMAMBMLOAD            0.002921\n",
       "I(V00FMCMBMLOAD ** 2)   -0.031093\n",
       "I(V00FMCMBMLOAD ** 3)    0.008047\n",
       "dtype: float64   \n",
       "30                                                                                                                                                                Intercept                      0.047594\n",
       "V00FMCMBMLOAD:V00FMPMBMLOAD    0.009941\n",
       "dtype: float64   \n",
       "31                                                                                Intercept                      0.041816\n",
       "V00FMCMBMLOAD                  0.026417\n",
       "V00FMPMBMLOAD                  0.032744\n",
       "V00FMCMBMLOAD:V00FMPMBMLOAD    0.002537\n",
       "dtype: float64   \n",
       "32                                                Intercept                              0.041821\n",
       "V00FMCMBMLOAD                          0.026809\n",
       "I(V00FMPMBMLOAD ** 2)                  0.006904\n",
       "V00FMCMBMLOAD:I(V00FMPMBMLOAD ** 2)    0.000124\n",
       "dtype: float64   \n",
       "33                                                Intercept                              0.041821\n",
       "V00FMCMBMLOAD                          0.027242\n",
       "I(V00FMPMBMLOAD ** 3)                  0.001416\n",
       "V00FMCMBMLOAD:I(V00FMPMBMLOAD ** 3)   -0.000046\n",
       "dtype: float64   \n",
       "34                                                                                                                                                                Intercept                      0.026888\n",
       "V00FMAMBMLOAD:V00FMPMBMLOAD    0.103963\n",
       "dtype: float64   \n",
       "35                                                                                Intercept                      0.015633\n",
       "V00FMAMBMLOAD                  0.010940\n",
       "V00FMPMBMLOAD                  0.322772\n",
       "V00FMAMBMLOAD:V00FMPMBMLOAD    0.040993\n",
       "dtype: float64   \n",
       "36                                                Intercept                              0.015669\n",
       "V00FMAMBMLOAD                          0.011034\n",
       "I(V00FMPMBMLOAD ** 2)                  0.067164\n",
       "V00FMAMBMLOAD:I(V00FMPMBMLOAD ** 2)    0.006633\n",
       "dtype: float64   \n",
       "37                                                Intercept                              0.015682\n",
       "V00FMAMBMLOAD                          0.011181\n",
       "I(V00FMPMBMLOAD ** 3)                  0.013211\n",
       "V00FMAMBMLOAD:I(V00FMPMBMLOAD ** 3)    0.000988\n",
       "dtype: float64   \n",
       "38                                                                                                                                                                Intercept                      0.006607\n",
       "V00FMAMBMLOAD:V00FMCMBMLOAD    0.026761\n",
       "dtype: float64   \n",
       "39                                                                                Intercept                      0.002273\n",
       "V00FMAMBMLOAD                  0.001774\n",
       "V00FMCMBMLOAD                  0.059204\n",
       "V00FMAMBMLOAD:V00FMCMBMLOAD    0.015465\n",
       "dtype: float64   \n",
       "40                                                Intercept                              0.002269\n",
       "V00FMAMBMLOAD                          0.001871\n",
       "I(V00FMCMBMLOAD ** 2)                  0.011968\n",
       "V00FMAMBMLOAD:I(V00FMCMBMLOAD ** 2)    0.002530\n",
       "dtype: float64   \n",
       "41                                                Intercept                              0.002264\n",
       "V00FMAMBMLOAD                          0.002063\n",
       "I(V00FMCMBMLOAD ** 3)                  0.002308\n",
       "V00FMAMBMLOAD:I(V00FMCMBMLOAD ** 3)    0.000365\n",
       "dtype: float64   \n",
       "\n",
       "                                                                                                                                                                                                                                                                                    p_values  \\\n",
       "0                                                                                                                                                                                                                 Intercept        4.141282e-09\n",
       "V00FMCMBMLOAD    8.232113e-02\n",
       "dtype: float64   \n",
       "1                                                                                                                                                                                   Intercept        5.708237e-09\n",
       "V00FMCMBMLOAD    2.736555e-01\n",
       "V00FMPMBMLOAD    5.164088e-01\n",
       "dtype: float64   \n",
       "2                                                                                                                                                                                                                         Intercept        0.000013\n",
       "V00FMAMBMLOAD    0.082321\n",
       "dtype: float64   \n",
       "3                                                                                                                                                                                   Intercept        1.027176e-03\n",
       "V00FMAMBMLOAD    2.736555e-01\n",
       "V00FMPMBMLOAD    6.623676e-19\n",
       "dtype: float64   \n",
       "4                                                                                                                                                                                                                         Intercept        0.020156\n",
       "V00FMAMBMLOAD    0.230378\n",
       "dtype: float64   \n",
       "5                                                                                                                                                                                   Intercept        2.796485e-01\n",
       "V00FMAMBMLOAD    5.164088e-01\n",
       "V00FMCMBMLOAD    6.623676e-19\n",
       "dtype: float64   \n",
       "6                                                                                                                                                                                                 Intercept                3.908393e-09\n",
       "I(V00FMCMBMLOAD ** 2)    8.611048e-02\n",
       "dtype: float64   \n",
       "7                                                                                                                                                           Intercept                4.205969e-09\n",
       "V00FMCMBMLOAD            7.865545e-01\n",
       "I(V00FMCMBMLOAD ** 2)    9.821763e-01\n",
       "dtype: float64   \n",
       "8                                                                               Intercept                5.719206e-09\n",
       "V00FMCMBMLOAD            9.918827e-01\n",
       "V00FMPMBMLOAD            8.860883e-01\n",
       "I(V00FMCMBMLOAD ** 2)    8.627826e-01\n",
       "I(V00FMPMBMLOAD ** 2)    9.692418e-01\n",
       "dtype: float64   \n",
       "9                                                                                                                                                           Intercept                5.632818e-09\n",
       "V00FMCMBMLOAD            2.755610e-01\n",
       "I(V00FMPMBMLOAD ** 2)    5.247349e-01\n",
       "dtype: float64   \n",
       "10                                                                                                                                                                                                        Intercept                0.000013\n",
       "I(V00FMAMBMLOAD ** 2)    0.073103\n",
       "dtype: float64   \n",
       "11                                                                                                                                                                      Intercept                0.000012\n",
       "V00FMAMBMLOAD            0.835313\n",
       "I(V00FMAMBMLOAD ** 2)    0.626655\n",
       "dtype: float64   \n",
       "12                                                                                                  Intercept                0.000846\n",
       "V00FMAMBMLOAD            0.921945\n",
       "V00FMPMBMLOAD            0.037123\n",
       "I(V00FMAMBMLOAD ** 2)    0.782909\n",
       "I(V00FMPMBMLOAD ** 2)    0.000320\n",
       "dtype: float64   \n",
       "13                                                                                                                                                          Intercept                9.806178e-04\n",
       "V00FMAMBMLOAD            2.755610e-01\n",
       "I(V00FMPMBMLOAD ** 2)    8.467923e-21\n",
       "dtype: float64   \n",
       "14                                                                                                                                                                                                        Intercept                0.019688\n",
       "I(V00FMAMBMLOAD ** 2)    0.226269\n",
       "dtype: float64   \n",
       "15                                                                                                                                                                      Intercept                0.019935\n",
       "V00FMAMBMLOAD            0.982633\n",
       "I(V00FMAMBMLOAD ** 2)    0.871651\n",
       "dtype: float64   \n",
       "16                                                                                                  Intercept                0.244949\n",
       "V00FMAMBMLOAD            0.887707\n",
       "V00FMCMBMLOAD            0.002616\n",
       "I(V00FMAMBMLOAD ** 2)    0.967540\n",
       "I(V00FMCMBMLOAD ** 2)    0.000013\n",
       "dtype: float64   \n",
       "17                                                                                                                                                          Intercept                2.784654e-01\n",
       "V00FMAMBMLOAD            5.245952e-01\n",
       "I(V00FMCMBMLOAD ** 2)    4.348686e-21\n",
       "dtype: float64   \n",
       "18                                                                                                                                                                                                Intercept                3.686784e-09\n",
       "I(V00FMCMBMLOAD ** 3)    9.563946e-02\n",
       "dtype: float64   \n",
       "19                                                                                                                    Intercept                4.194704e-09\n",
       "V00FMCMBMLOAD            9.846739e-01\n",
       "I(V00FMCMBMLOAD ** 2)    9.078876e-01\n",
       "I(V00FMCMBMLOAD ** 3)    9.012398e-01\n",
       "dtype: float64   \n",
       "20  Intercept                5.835950e-09\n",
       "V00FMCMBMLOAD            9.020173e-01\n",
       "V00FMPMBMLOAD            9.791295e-01\n",
       "I(V00FMCMBMLOAD ** 2)    9.179902e-01\n",
       "I(V00FMPMBMLOAD ** 2)    9.511502e-01\n",
       "I(V00FMCMBMLOAD ** 3)    8.801026e-01\n",
       "I(V00FMPMBMLOAD ** 3)    9.401185e-01\n",
       "dtype: float64   \n",
       "21                                                                                                                    Intercept                5.725759e-09\n",
       "V00FMCMBMLOAD            2.730648e-01\n",
       "I(V00FMPMBMLOAD ** 2)    8.257674e-01\n",
       "I(V00FMPMBMLOAD ** 3)    8.879627e-01\n",
       "dtype: float64   \n",
       "22                                                                                                                                                                                                        Intercept                0.000012\n",
       "I(V00FMAMBMLOAD ** 3)    0.072453\n",
       "dtype: float64   \n",
       "23                                                                                                                                    Intercept                0.000012\n",
       "V00FMAMBMLOAD            0.850611\n",
       "I(V00FMAMBMLOAD ** 2)    0.850607\n",
       "I(V00FMAMBMLOAD ** 3)    0.928194\n",
       "dtype: float64   \n",
       "24                              Intercept                0.000893\n",
       "V00FMAMBMLOAD            0.964977\n",
       "V00FMPMBMLOAD            0.455841\n",
       "I(V00FMAMBMLOAD ** 2)    0.971467\n",
       "I(V00FMPMBMLOAD ** 2)    0.158073\n",
       "I(V00FMAMBMLOAD ** 3)    0.979465\n",
       "I(V00FMPMBMLOAD ** 3)    0.012220\n",
       "dtype: float64   \n",
       "25                                                                                                                                    Intercept                0.000880\n",
       "V00FMAMBMLOAD            0.273065\n",
       "I(V00FMPMBMLOAD ** 2)    0.048396\n",
       "I(V00FMPMBMLOAD ** 3)    0.001501\n",
       "dtype: float64   \n",
       "26                                                                                                                                                                                                        Intercept                0.019341\n",
       "I(V00FMAMBMLOAD ** 3)    0.232904\n",
       "dtype: float64   \n",
       "27                                                                                                                                    Intercept                0.019782\n",
       "V00FMAMBMLOAD            0.862889\n",
       "I(V00FMAMBMLOAD ** 2)    0.804425\n",
       "I(V00FMAMBMLOAD ** 3)    0.826920\n",
       "dtype: float64   \n",
       "28                              Intercept                0.258611\n",
       "V00FMAMBMLOAD            0.986647\n",
       "V00FMCMBMLOAD            0.361541\n",
       "I(V00FMAMBMLOAD ** 2)    0.960975\n",
       "I(V00FMCMBMLOAD ** 2)    0.085295\n",
       "I(V00FMAMBMLOAD ** 3)    0.957402\n",
       "I(V00FMCMBMLOAD ** 3)    0.003910\n",
       "dtype: float64   \n",
       "29                                                                                                                                    Intercept                0.248758\n",
       "V00FMAMBMLOAD            0.529106\n",
       "I(V00FMCMBMLOAD ** 2)    0.003956\n",
       "I(V00FMCMBMLOAD ** 3)    0.000047\n",
       "dtype: float64   \n",
       "30                                                                                                                                                                                    Intercept                      4.604841e-10\n",
       "V00FMCMBMLOAD:V00FMPMBMLOAD    6.119406e-01\n",
       "dtype: float64   \n",
       "31                                                                                            Intercept                      5.698518e-09\n",
       "V00FMCMBMLOAD                  2.959180e-01\n",
       "V00FMPMBMLOAD                  6.335978e-01\n",
       "V00FMCMBMLOAD:V00FMPMBMLOAD    9.082091e-01\n",
       "dtype: float64   \n",
       "32                                                            Intercept                              5.664445e-09\n",
       "V00FMCMBMLOAD                          2.879728e-01\n",
       "I(V00FMPMBMLOAD ** 2)                  6.230523e-01\n",
       "V00FMCMBMLOAD:I(V00FMPMBMLOAD ** 2)    9.760195e-01\n",
       "dtype: float64   \n",
       "33                                                            Intercept                              5.661201e-09\n",
       "V00FMCMBMLOAD                          2.788690e-01\n",
       "I(V00FMPMBMLOAD ** 3)                  6.119792e-01\n",
       "V00FMCMBMLOAD:I(V00FMPMBMLOAD ** 3)    9.509801e-01\n",
       "dtype: float64   \n",
       "34                                                                                                                                                                                            Intercept                      0.000008\n",
       "V00FMAMBMLOAD:V00FMPMBMLOAD    0.039065\n",
       "dtype: float64   \n",
       "35                                                                                            Intercept                      9.969498e-04\n",
       "V00FMAMBMLOAD                  3.114041e-01\n",
       "V00FMPMBMLOAD                  7.050663e-17\n",
       "V00FMAMBMLOAD:V00FMPMBMLOAD    2.130861e-01\n",
       "dtype: float64   \n",
       "36                                                            Intercept                              9.578570e-04\n",
       "V00FMAMBMLOAD                          3.067187e-01\n",
       "I(V00FMPMBMLOAD ** 2)                  9.977914e-19\n",
       "V00FMAMBMLOAD:I(V00FMPMBMLOAD ** 2)    2.939836e-01\n",
       "dtype: float64   \n",
       "37                                                            Intercept                              9.391690e-04\n",
       "V00FMAMBMLOAD                          2.998523e-01\n",
       "I(V00FMPMBMLOAD ** 3)                  4.157548e-20\n",
       "V00FMAMBMLOAD:I(V00FMPMBMLOAD ** 3)    4.022253e-01\n",
       "dtype: float64   \n",
       "38                                                                                                                                                                                            Intercept                      0.023472\n",
       "V00FMAMBMLOAD:V00FMCMBMLOAD    0.021622\n",
       "dtype: float64   \n",
       "39                                                                                            Intercept                      2.676532e-01\n",
       "V00FMAMBMLOAD                  7.052263e-01\n",
       "V00FMCMBMLOAD                  1.135910e-16\n",
       "V00FMAMBMLOAD:V00FMCMBMLOAD    3.043253e-02\n",
       "dtype: float64   \n",
       "40                                                            Intercept                              2.678229e-01\n",
       "V00FMAMBMLOAD                          6.893542e-01\n",
       "I(V00FMCMBMLOAD ** 2)                  9.923079e-19\n",
       "V00FMAMBMLOAD:I(V00FMCMBMLOAD ** 2)    5.078251e-02\n",
       "dtype: float64   \n",
       "41                                                            Intercept                              2.685071e-01\n",
       "V00FMAMBMLOAD                          6.589540e-01\n",
       "I(V00FMCMBMLOAD ** 3)                  1.604385e-20\n",
       "V00FMAMBMLOAD:I(V00FMCMBMLOAD ** 3)    1.050070e-01\n",
       "dtype: float64   \n",
       "\n",
       "    r_squared  \n",
       "0    0.000804  \n",
       "1    0.000496  \n",
       "2    0.000804  \n",
       "3    0.021170  \n",
       "4    0.000383  \n",
       "5    0.020967  \n",
       "6    0.000784  \n",
       "7    0.000804  \n",
       "8    0.000504  \n",
       "9    0.000492  \n",
       "10   0.000855  \n",
       "11   0.000867  \n",
       "12   0.024568  \n",
       "13   0.023415  \n",
       "14   0.000390  \n",
       "15   0.000390  \n",
       "16   0.025910  \n",
       "17   0.023556  \n",
       "18   0.000739  \n",
       "19   0.000808  \n",
       "20   0.000512  \n",
       "21   0.000497  \n",
       "22   0.000859  \n",
       "23   0.000869  \n",
       "24   0.026201  \n",
       "25   0.026034  \n",
       "26   0.000379  \n",
       "27   0.000403  \n",
       "28   0.028071  \n",
       "29   0.027854  \n",
       "30   0.000069  \n",
       "31   0.000500  \n",
       "32   0.000492  \n",
       "33   0.000485  \n",
       "34   0.001133  \n",
       "35   0.021574  \n",
       "36   0.023701  \n",
       "37   0.025205  \n",
       "38   0.001404  \n",
       "39   0.022189  \n",
       "40   0.024548  \n",
       "41   0.026383  "
      ],
      "text/html": [
       "<div>\n",
       "<style scoped>\n",
       "    .dataframe tbody tr th:only-of-type {\n",
       "        vertical-align: middle;\n",
       "    }\n",
       "\n",
       "    .dataframe tbody tr th {\n",
       "        vertical-align: top;\n",
       "    }\n",
       "\n",
       "    .dataframe thead th {\n",
       "        text-align: right;\n",
       "    }\n",
       "</style>\n",
       "<table border=\"1\" class=\"dataframe\">\n",
       "  <thead>\n",
       "    <tr style=\"text-align: right;\">\n",
       "      <th></th>\n",
       "      <th>type</th>\n",
       "      <th>formula</th>\n",
       "      <th>params</th>\n",
       "      <th>p_values</th>\n",
       "      <th>r_squared</th>\n",
       "    </tr>\n",
       "  </thead>\n",
       "  <tbody>\n",
       "    <tr>\n",
       "      <th>0</th>\n",
       "      <td>linear</td>\n",
       "      <td>V00FMAMBMLOAD ~ V00FMCMBMLOAD</td>\n",
       "      <td>Intercept        0.042987\n",
       "V00FMCMBMLOAD    0.033395\n",
       "dtype: float64</td>\n",
       "      <td>Intercept        4.141282e-09\n",
       "V00FMCMBMLOAD    8.232113e-02\n",
       "dtype: float64</td>\n",
       "      <td>0.000804</td>\n",
       "    </tr>\n",
       "    <tr>\n",
       "      <th>1</th>\n",
       "      <td>linear</td>\n",
       "      <td>V00FMAMBMLOAD ~ V00FMCMBMLOAD + V00FMPMBMLOAD</td>\n",
       "      <td>Intercept        0.041804\n",
       "V00FMCMBMLOAD    0.027035\n",
       "V00FMPMBMLOAD    0.037126\n",
       "dtype: float64</td>\n",
       "      <td>Intercept        5.708237e-09\n",
       "V00FMCMBMLOAD    2.736555e-01\n",
       "V00FMPMBMLOAD    5.164088e-01\n",
       "dtype: float64</td>\n",
       "      <td>0.000496</td>\n",
       "    </tr>\n",
       "    <tr>\n",
       "      <th>2</th>\n",
       "      <td>linear</td>\n",
       "      <td>V00FMCMBMLOAD ~ V00FMAMBMLOAD</td>\n",
       "      <td>Intercept        0.027080\n",
       "V00FMAMBMLOAD    0.024065\n",
       "dtype: float64</td>\n",
       "      <td>Intercept        0.000013\n",
       "V00FMAMBMLOAD    0.082321\n",
       "dtype: float64</td>\n",
       "      <td>0.000804</td>\n",
       "    </tr>\n",
       "    <tr>\n",
       "      <th>3</th>\n",
       "      <td>linear</td>\n",
       "      <td>V00FMCMBMLOAD ~ V00FMAMBMLOAD + V00FMPMBMLOAD</td>\n",
       "      <td>Intercept        0.015594\n",
       "V00FMAMBMLOAD    0.011807\n",
       "V00FMPMBMLOAD    0.334048\n",
       "dtype: float64</td>\n",
       "      <td>Intercept        1.027176e-03\n",
       "V00FMAMBMLOAD    2.736555e-01\n",
       "V00FMPMBMLOAD    6.623676e-19\n",
       "dtype: float64</td>\n",
       "      <td>0.021170</td>\n",
       "    </tr>\n",
       "    <tr>\n",
       "      <th>4</th>\n",
       "      <td>linear</td>\n",
       "      <td>V00FMPMBMLOAD ~ V00FMAMBMLOAD</td>\n",
       "      <td>Intercept        0.007369\n",
       "V00FMAMBMLOAD    0.008152\n",
       "dtype: float64</td>\n",
       "      <td>Intercept        0.020156\n",
       "V00FMAMBMLOAD    0.230378\n",
       "dtype: float64</td>\n",
       "      <td>0.000383</td>\n",
       "    </tr>\n",
       "    <tr>\n",
       "      <th>5</th>\n",
       "      <td>linear</td>\n",
       "      <td>V00FMPMBMLOAD ~ V00FMAMBMLOAD + V00FMCMBMLOAD</td>\n",
       "      <td>Intercept        0.002218\n",
       "V00FMAMBMLOAD    0.003021\n",
       "V00FMCMBMLOAD    0.062248\n",
       "dtype: float64</td>\n",
       "      <td>Intercept        2.796485e-01\n",
       "V00FMAMBMLOAD    5.164088e-01\n",
       "V00FMCMBMLOAD    6.623676e-19\n",
       "dtype: float64</td>\n",
       "      <td>0.020967</td>\n",
       "    </tr>\n",
       "    <tr>\n",
       "      <th>6</th>\n",
       "      <td>quadratic</td>\n",
       "      <td>V00FMAMBMLOAD ~ I(V00FMCMBMLOAD**2)</td>\n",
       "      <td>Intercept                0.043046\n",
       "I(V00FMCMBMLOAD ** 2)    0.006110\n",
       "dtype: float64</td>\n",
       "      <td>Intercept                3.908393e-09\n",
       "I(V00FMCMBMLOAD ** 2)    8.611048e-02\n",
       "dtype: float64</td>\n",
       "      <td>0.000784</td>\n",
       "    </tr>\n",
       "    <tr>\n",
       "      <th>7</th>\n",
       "      <td>quadratic</td>\n",
       "      <td>V00FMAMBMLOAD ~ V00FMCMBMLOAD + I(V00FMCMBMLOAD**2)</td>\n",
       "      <td>Intercept                0.042984\n",
       "V00FMCMBMLOAD            0.036364\n",
       "I(V00FMCMBMLOAD ** 2)   -0.000556\n",
       "dtype: float64</td>\n",
       "      <td>Intercept                4.205969e-09\n",
       "V00FMCMBMLOAD            7.865545e-01\n",
       "I(V00FMCMBMLOAD ** 2)    9.821763e-01\n",
       "dtype: float64</td>\n",
       "      <td>0.000804</td>\n",
       "    </tr>\n",
       "    <tr>\n",
       "      <th>8</th>\n",
       "      <td>quadratic</td>\n",
       "      <td>V00FMAMBMLOAD ~ V00FMCMBMLOAD + V00FMPMBMLOAD + I(V00FMCMBMLOAD**2) + I(V00FMPMBMLOAD**2)</td>\n",
       "      <td>Intercept                0.041824\n",
       "V00FMCMBMLOAD           -0.001713\n",
       "V00FMPMBMLOAD            0.049597\n",
       "I(V00FMCMBMLOAD ** 2)    0.005525\n",
       "I(V00FMPMBMLOAD ** 2)   -0.002628\n",
       "dtype: float64</td>\n",
       "      <td>Intercept                5.719206e-09\n",
       "V00FMCMBMLOAD            9.918827e-01\n",
       "V00FMPMBMLOAD            8.860883e-01\n",
       "I(V00FMCMBMLOAD ** 2)    8.627826e-01\n",
       "I(V00FMPMBMLOAD ** 2)    9.692418e-01\n",
       "dtype: float64</td>\n",
       "      <td>0.000504</td>\n",
       "    </tr>\n",
       "    <tr>\n",
       "      <th>9</th>\n",
       "      <td>quadratic</td>\n",
       "      <td>V00FMAMBMLOAD ~ V00FMCMBMLOAD + I(V00FMPMBMLOAD**2)</td>\n",
       "      <td>Intercept                0.041818\n",
       "V00FMCMBMLOAD            0.026959\n",
       "I(V00FMPMBMLOAD ** 2)    0.007157\n",
       "dtype: float64</td>\n",
       "      <td>Intercept                5.632818e-09\n",
       "V00FMCMBMLOAD            2.755610e-01\n",
       "I(V00FMPMBMLOAD ** 2)    5.247349e-01\n",
       "dtype: float64</td>\n",
       "      <td>0.000492</td>\n",
       "    </tr>\n",
       "    <tr>\n",
       "      <th>10</th>\n",
       "      <td>quadratic</td>\n",
       "      <td>V00FMCMBMLOAD ~ I(V00FMAMBMLOAD**2)</td>\n",
       "      <td>Intercept                0.027128\n",
       "I(V00FMAMBMLOAD ** 2)    0.005023\n",
       "dtype: float64</td>\n",
       "      <td>Intercept                0.000013\n",
       "I(V00FMAMBMLOAD ** 2)    0.073103\n",
       "dtype: float64</td>\n",
       "      <td>0.000855</td>\n",
       "    </tr>\n",
       "    <tr>\n",
       "      <th>11</th>\n",
       "      <td>quadratic</td>\n",
       "      <td>V00FMCMBMLOAD ~ V00FMAMBMLOAD + I(V00FMAMBMLOAD**2)</td>\n",
       "      <td>Intercept                0.027197\n",
       "V00FMAMBMLOAD           -0.018357\n",
       "I(V00FMAMBMLOAD ** 2)    0.008692\n",
       "dtype: float64</td>\n",
       "      <td>Intercept                0.000012\n",
       "V00FMAMBMLOAD            0.835313\n",
       "I(V00FMAMBMLOAD ** 2)    0.626655\n",
       "dtype: float64</td>\n",
       "      <td>0.000867</td>\n",
       "    </tr>\n",
       "    <tr>\n",
       "      <th>12</th>\n",
       "      <td>quadratic</td>\n",
       "      <td>V00FMCMBMLOAD ~ V00FMAMBMLOAD + V00FMPMBMLOAD + I(V00FMAMBMLOAD**2) + I(V00FMPMBMLOAD**2)</td>\n",
       "      <td>Intercept                0.015842\n",
       "V00FMAMBMLOAD           -0.006633\n",
       "V00FMPMBMLOAD           -0.474579\n",
       "I(V00FMAMBMLOAD ** 2)    0.003776\n",
       "I(V00FMPMBMLOAD ** 2)    0.161020\n",
       "dtype: float64</td>\n",
       "      <td>Intercept                0.000846\n",
       "V00FMAMBMLOAD            0.921945\n",
       "V00FMPMBMLOAD            0.037123\n",
       "I(V00FMAMBMLOAD ** 2)    0.782909\n",
       "I(V00FMPMBMLOAD ** 2)    0.000320\n",
       "dtype: float64</td>\n",
       "      <td>0.024568</td>\n",
       "    </tr>\n",
       "    <tr>\n",
       "      <th>13</th>\n",
       "      <td>quadratic</td>\n",
       "      <td>V00FMCMBMLOAD ~ V00FMAMBMLOAD + I(V00FMPMBMLOAD**2)</td>\n",
       "      <td>Intercept                0.015637\n",
       "V00FMAMBMLOAD            0.011747\n",
       "I(V00FMPMBMLOAD ** 2)    0.069069\n",
       "dtype: float64</td>\n",
       "      <td>Intercept                9.806178e-04\n",
       "V00FMAMBMLOAD            2.755610e-01\n",
       "I(V00FMPMBMLOAD ** 2)    8.467923e-21\n",
       "dtype: float64</td>\n",
       "      <td>0.023415</td>\n",
       "    </tr>\n",
       "    <tr>\n",
       "      <th>14</th>\n",
       "      <td>quadratic</td>\n",
       "      <td>V00FMPMBMLOAD ~ I(V00FMAMBMLOAD**2)</td>\n",
       "      <td>Intercept                0.007392\n",
       "I(V00FMAMBMLOAD ** 2)    0.001658\n",
       "dtype: float64</td>\n",
       "      <td>Intercept                0.019688\n",
       "I(V00FMAMBMLOAD ** 2)    0.226269\n",
       "dtype: float64</td>\n",
       "      <td>0.000390</td>\n",
       "    </tr>\n",
       "    <tr>\n",
       "      <th>15</th>\n",
       "      <td>quadratic</td>\n",
       "      <td>V00FMPMBMLOAD ~ V00FMAMBMLOAD + I(V00FMAMBMLOAD**2)</td>\n",
       "      <td>Intercept                0.007389\n",
       "V00FMAMBMLOAD            0.000978\n",
       "I(V00FMAMBMLOAD ** 2)    0.001463\n",
       "dtype: float64</td>\n",
       "      <td>Intercept                0.019935\n",
       "V00FMAMBMLOAD            0.982633\n",
       "I(V00FMAMBMLOAD ** 2)    0.871651\n",
       "dtype: float64</td>\n",
       "      <td>0.000390</td>\n",
       "    </tr>\n",
       "    <tr>\n",
       "      <th>16</th>\n",
       "      <td>quadratic</td>\n",
       "      <td>V00FMPMBMLOAD ~ V00FMAMBMLOAD + V00FMCMBMLOAD + I(V00FMAMBMLOAD**2) + I(V00FMCMBMLOAD**2)</td>\n",
       "      <td>Intercept                0.002382\n",
       "V00FMAMBMLOAD            0.004123\n",
       "V00FMCMBMLOAD           -0.143647\n",
       "I(V00FMAMBMLOAD ** 2)   -0.000241\n",
       "I(V00FMCMBMLOAD ** 2)    0.039433\n",
       "dtype: float64</td>\n",
       "      <td>Intercept                0.244949\n",
       "V00FMAMBMLOAD            0.887707\n",
       "V00FMCMBMLOAD            0.002616\n",
       "I(V00FMAMBMLOAD ** 2)    0.967540\n",
       "I(V00FMCMBMLOAD ** 2)    0.000013\n",
       "dtype: float64</td>\n",
       "      <td>0.025910</td>\n",
       "    </tr>\n",
       "    <tr>\n",
       "      <th>17</th>\n",
       "      <td>quadratic</td>\n",
       "      <td>V00FMPMBMLOAD ~ V00FMAMBMLOAD + I(V00FMCMBMLOAD**2)</td>\n",
       "      <td>Intercept                0.002220\n",
       "V00FMAMBMLOAD            0.002959\n",
       "I(V00FMCMBMLOAD ** 2)    0.012507\n",
       "dtype: float64</td>\n",
       "      <td>Intercept                2.784654e-01\n",
       "V00FMAMBMLOAD            5.245952e-01\n",
       "I(V00FMCMBMLOAD ** 2)    4.348686e-21\n",
       "dtype: float64</td>\n",
       "      <td>0.023556</td>\n",
       "    </tr>\n",
       "    <tr>\n",
       "      <th>18</th>\n",
       "      <td>cubic</td>\n",
       "      <td>V00FMAMBMLOAD ~ I(V00FMCMBMLOAD**3)</td>\n",
       "      <td>Intercept                0.043109\n",
       "I(V00FMCMBMLOAD ** 3)    0.001062\n",
       "dtype: float64</td>\n",
       "      <td>Intercept                3.686784e-09\n",
       "I(V00FMCMBMLOAD ** 3)    9.563946e-02\n",
       "dtype: float64</td>\n",
       "      <td>0.000739</td>\n",
       "    </tr>\n",
       "    <tr>\n",
       "      <th>19</th>\n",
       "      <td>cubic</td>\n",
       "      <td>V00FMAMBMLOAD ~ V00FMCMBMLOAD + I(V00FMCMBMLOAD**2) + I(V00FMCMBMLOAD**3)</td>\n",
       "      <td>Intercept                0.042998\n",
       "V00FMCMBMLOAD            0.005438\n",
       "I(V00FMCMBMLOAD ** 2)    0.012591\n",
       "I(V00FMCMBMLOAD ** 3)   -0.001349\n",
       "dtype: float64</td>\n",
       "      <td>Intercept                4.194704e-09\n",
       "V00FMCMBMLOAD            9.846739e-01\n",
       "I(V00FMCMBMLOAD ** 2)    9.078876e-01\n",
       "I(V00FMCMBMLOAD ** 3)    9.012398e-01\n",
       "dtype: float64</td>\n",
       "      <td>0.000808</td>\n",
       "    </tr>\n",
       "    <tr>\n",
       "      <th>20</th>\n",
       "      <td>cubic</td>\n",
       "      <td>V00FMAMBMLOAD ~ V00FMCMBMLOAD + V00FMPMBMLOAD + I(V00FMCMBMLOAD**2) + I(V00FMPMBMLOAD**2) + I(V00FMCMBMLOAD**3) + I(V00FMPMBMLOAD**3)</td>\n",
       "      <td>Intercept                0.041814\n",
       "V00FMCMBMLOAD            0.039993\n",
       "V00FMPMBMLOAD            0.015026\n",
       "I(V00FMCMBMLOAD ** 2)   -0.013295\n",
       "I(V00FMPMBMLOAD ** 2)    0.015042\n",
       "I(V00FMCMBMLOAD ** 3)    0.002035\n",
       "I(V00FMPMBMLOAD ** 3)   -0.002107\n",
       "dtype: float64</td>\n",
       "      <td>Intercept                5.835950e-09\n",
       "V00FMCMBMLOAD            9.020173e-01\n",
       "V00FMPMBMLOAD            9.791295e-01\n",
       "I(V00FMCMBMLOAD ** 2)    9.179902e-01\n",
       "I(V00FMPMBMLOAD ** 2)    9.511502e-01\n",
       "I(V00FMCMBMLOAD ** 3)    8.801026e-01\n",
       "I(V00FMPMBMLOAD ** 3)    9.401185e-01\n",
       "dtype: float64</td>\n",
       "      <td>0.000512</td>\n",
       "    </tr>\n",
       "    <tr>\n",
       "      <th>21</th>\n",
       "      <td>cubic</td>\n",
       "      <td>V00FMAMBMLOAD ~ V00FMCMBMLOAD + I(V00FMPMBMLOAD**2) + I(V00FMPMBMLOAD**3)</td>\n",
       "      <td>Intercept                0.041806\n",
       "V00FMCMBMLOAD            0.027140\n",
       "I(V00FMPMBMLOAD ** 2)    0.019599\n",
       "I(V00FMPMBMLOAD ** 3)   -0.002373\n",
       "dtype: float64</td>\n",
       "      <td>Intercept                5.725759e-09\n",
       "V00FMCMBMLOAD            2.730648e-01\n",
       "I(V00FMPMBMLOAD ** 2)    8.257674e-01\n",
       "I(V00FMPMBMLOAD ** 3)    8.879627e-01\n",
       "dtype: float64</td>\n",
       "      <td>0.000497</td>\n",
       "    </tr>\n",
       "    <tr>\n",
       "      <th>22</th>\n",
       "      <td>cubic</td>\n",
       "      <td>V00FMCMBMLOAD ~ I(V00FMAMBMLOAD**3)</td>\n",
       "      <td>Intercept                0.027166\n",
       "I(V00FMAMBMLOAD ** 3)    0.000991\n",
       "dtype: float64</td>\n",
       "      <td>Intercept                0.000012\n",
       "I(V00FMAMBMLOAD ** 3)    0.072453\n",
       "dtype: float64</td>\n",
       "      <td>0.000859</td>\n",
       "    </tr>\n",
       "    <tr>\n",
       "      <th>23</th>\n",
       "      <td>cubic</td>\n",
       "      <td>V00FMCMBMLOAD ~ V00FMAMBMLOAD + I(V00FMAMBMLOAD**2) + I(V00FMAMBMLOAD**3)</td>\n",
       "      <td>Intercept                0.027206\n",
       "V00FMAMBMLOAD           -0.030709\n",
       "I(V00FMAMBMLOAD ** 2)    0.016345\n",
       "I(V00FMAMBMLOAD ** 3)   -0.001024\n",
       "dtype: float64</td>\n",
       "      <td>Intercept                0.000012\n",
       "V00FMAMBMLOAD            0.850611\n",
       "I(V00FMAMBMLOAD ** 2)    0.850607\n",
       "I(V00FMAMBMLOAD ** 3)    0.928194\n",
       "dtype: float64</td>\n",
       "      <td>0.000869</td>\n",
       "    </tr>\n",
       "    <tr>\n",
       "      <th>24</th>\n",
       "      <td>cubic</td>\n",
       "      <td>V00FMCMBMLOAD ~ V00FMAMBMLOAD + V00FMPMBMLOAD + I(V00FMAMBMLOAD**2) + I(V00FMPMBMLOAD**2) + I(V00FMAMBMLOAD**3) + I(V00FMPMBMLOAD**3)</td>\n",
       "      <td>Intercept                0.015762\n",
       "V00FMAMBMLOAD           -0.005577\n",
       "V00FMPMBMLOAD            0.281829\n",
       "I(V00FMAMBMLOAD ** 2)    0.002422\n",
       "I(V00FMPMBMLOAD ** 2)   -0.227998\n",
       "I(V00FMAMBMLOAD ** 3)    0.000228\n",
       "I(V00FMPMBMLOAD ** 3)    0.046195\n",
       "dtype: float64</td>\n",
       "      <td>Intercept                0.000893\n",
       "V00FMAMBMLOAD            0.964977\n",
       "V00FMPMBMLOAD            0.455841\n",
       "I(V00FMAMBMLOAD ** 2)    0.971467\n",
       "I(V00FMPMBMLOAD ** 2)    0.158073\n",
       "I(V00FMAMBMLOAD ** 3)    0.979465\n",
       "I(V00FMPMBMLOAD ** 3)    0.012220\n",
       "dtype: float64</td>\n",
       "      <td>0.026201</td>\n",
       "    </tr>\n",
       "    <tr>\n",
       "      <th>25</th>\n",
       "      <td>cubic</td>\n",
       "      <td>V00FMCMBMLOAD ~ V00FMAMBMLOAD + I(V00FMPMBMLOAD**2) + I(V00FMPMBMLOAD**3)</td>\n",
       "      <td>Intercept                0.015763\n",
       "V00FMAMBMLOAD            0.011794\n",
       "I(V00FMPMBMLOAD ** 2)   -0.115822\n",
       "I(V00FMPMBMLOAD ** 3)    0.035228\n",
       "dtype: float64</td>\n",
       "      <td>Intercept                0.000880\n",
       "V00FMAMBMLOAD            0.273065\n",
       "I(V00FMPMBMLOAD ** 2)    0.048396\n",
       "I(V00FMPMBMLOAD ** 3)    0.001501\n",
       "dtype: float64</td>\n",
       "      <td>0.026034</td>\n",
       "    </tr>\n",
       "    <tr>\n",
       "      <th>26</th>\n",
       "      <td>cubic</td>\n",
       "      <td>V00FMPMBMLOAD ~ I(V00FMAMBMLOAD**3)</td>\n",
       "      <td>Intercept                0.007411\n",
       "I(V00FMAMBMLOAD ** 3)    0.000321\n",
       "dtype: float64</td>\n",
       "      <td>Intercept                0.019341\n",
       "I(V00FMAMBMLOAD ** 3)    0.232904\n",
       "dtype: float64</td>\n",
       "      <td>0.000379</td>\n",
       "    </tr>\n",
       "    <tr>\n",
       "      <th>27</th>\n",
       "      <td>cubic</td>\n",
       "      <td>V00FMPMBMLOAD ~ V00FMAMBMLOAD + I(V00FMAMBMLOAD**2) + I(V00FMAMBMLOAD**3)</td>\n",
       "      <td>Intercept                0.007400\n",
       "V00FMAMBMLOAD           -0.014439\n",
       "I(V00FMAMBMLOAD ** 2)    0.010714\n",
       "I(V00FMAMBMLOAD ** 3)   -0.001217\n",
       "dtype: float64</td>\n",
       "      <td>Intercept                0.019782\n",
       "V00FMAMBMLOAD            0.862889\n",
       "I(V00FMAMBMLOAD ** 2)    0.804425\n",
       "I(V00FMAMBMLOAD ** 3)    0.826920\n",
       "dtype: float64</td>\n",
       "      <td>0.000403</td>\n",
       "    </tr>\n",
       "    <tr>\n",
       "      <th>28</th>\n",
       "      <td>cubic</td>\n",
       "      <td>V00FMPMBMLOAD ~ V00FMAMBMLOAD + V00FMCMBMLOAD + I(V00FMAMBMLOAD**2) + I(V00FMCMBMLOAD**2) + I(V00FMAMBMLOAD**3) + I(V00FMCMBMLOAD**3)</td>\n",
       "      <td>Intercept                0.002313\n",
       "V00FMAMBMLOAD            0.000917\n",
       "V00FMCMBMLOAD            0.084103\n",
       "I(V00FMAMBMLOAD ** 2)    0.001429\n",
       "I(V00FMCMBMLOAD ** 2)   -0.063035\n",
       "I(V00FMAMBMLOAD ** 3)   -0.000204\n",
       "I(V00FMCMBMLOAD ** 3)    0.011033\n",
       "dtype: float64</td>\n",
       "      <td>Intercept                0.258611\n",
       "V00FMAMBMLOAD            0.986647\n",
       "V00FMCMBMLOAD            0.361541\n",
       "I(V00FMAMBMLOAD ** 2)    0.960975\n",
       "I(V00FMCMBMLOAD ** 2)    0.085295\n",
       "I(V00FMAMBMLOAD ** 3)    0.957402\n",
       "I(V00FMCMBMLOAD ** 3)    0.003910\n",
       "dtype: float64</td>\n",
       "      <td>0.028071</td>\n",
       "    </tr>\n",
       "    <tr>\n",
       "      <th>29</th>\n",
       "      <td>cubic</td>\n",
       "      <td>V00FMPMBMLOAD ~ V00FMAMBMLOAD + I(V00FMCMBMLOAD**2) + I(V00FMCMBMLOAD**3)</td>\n",
       "      <td>Intercept                0.002358\n",
       "V00FMAMBMLOAD            0.002921\n",
       "I(V00FMCMBMLOAD ** 2)   -0.031093\n",
       "I(V00FMCMBMLOAD ** 3)    0.008047\n",
       "dtype: float64</td>\n",
       "      <td>Intercept                0.248758\n",
       "V00FMAMBMLOAD            0.529106\n",
       "I(V00FMCMBMLOAD ** 2)    0.003956\n",
       "I(V00FMCMBMLOAD ** 3)    0.000047\n",
       "dtype: float64</td>\n",
       "      <td>0.027854</td>\n",
       "    </tr>\n",
       "    <tr>\n",
       "      <th>30</th>\n",
       "      <td>interaction</td>\n",
       "      <td>V00FMAMBMLOAD ~ V00FMCMBMLOAD:V00FMPMBMLOAD</td>\n",
       "      <td>Intercept                      0.047594\n",
       "V00FMCMBMLOAD:V00FMPMBMLOAD    0.009941\n",
       "dtype: float64</td>\n",
       "      <td>Intercept                      4.604841e-10\n",
       "V00FMCMBMLOAD:V00FMPMBMLOAD    6.119406e-01\n",
       "dtype: float64</td>\n",
       "      <td>0.000069</td>\n",
       "    </tr>\n",
       "    <tr>\n",
       "      <th>31</th>\n",
       "      <td>interaction</td>\n",
       "      <td>V00FMAMBMLOAD ~ V00FMCMBMLOAD*V00FMPMBMLOAD</td>\n",
       "      <td>Intercept                      0.041816\n",
       "V00FMCMBMLOAD                  0.026417\n",
       "V00FMPMBMLOAD                  0.032744\n",
       "V00FMCMBMLOAD:V00FMPMBMLOAD    0.002537\n",
       "dtype: float64</td>\n",
       "      <td>Intercept                      5.698518e-09\n",
       "V00FMCMBMLOAD                  2.959180e-01\n",
       "V00FMPMBMLOAD                  6.335978e-01\n",
       "V00FMCMBMLOAD:V00FMPMBMLOAD    9.082091e-01\n",
       "dtype: float64</td>\n",
       "      <td>0.000500</td>\n",
       "    </tr>\n",
       "    <tr>\n",
       "      <th>32</th>\n",
       "      <td>interaction</td>\n",
       "      <td>V00FMAMBMLOAD ~ V00FMCMBMLOAD*I(V00FMPMBMLOAD**2)</td>\n",
       "      <td>Intercept                              0.041821\n",
       "V00FMCMBMLOAD                          0.026809\n",
       "I(V00FMPMBMLOAD ** 2)                  0.006904\n",
       "V00FMCMBMLOAD:I(V00FMPMBMLOAD ** 2)    0.000124\n",
       "dtype: float64</td>\n",
       "      <td>Intercept                              5.664445e-09\n",
       "V00FMCMBMLOAD                          2.879728e-01\n",
       "I(V00FMPMBMLOAD ** 2)                  6.230523e-01\n",
       "V00FMCMBMLOAD:I(V00FMPMBMLOAD ** 2)    9.760195e-01\n",
       "dtype: float64</td>\n",
       "      <td>0.000492</td>\n",
       "    </tr>\n",
       "    <tr>\n",
       "      <th>33</th>\n",
       "      <td>interaction</td>\n",
       "      <td>V00FMAMBMLOAD ~ V00FMCMBMLOAD*I(V00FMPMBMLOAD**3)</td>\n",
       "      <td>Intercept                              0.041821\n",
       "V00FMCMBMLOAD                          0.027242\n",
       "I(V00FMPMBMLOAD ** 3)                  0.001416\n",
       "V00FMCMBMLOAD:I(V00FMPMBMLOAD ** 3)   -0.000046\n",
       "dtype: float64</td>\n",
       "      <td>Intercept                              5.661201e-09\n",
       "V00FMCMBMLOAD                          2.788690e-01\n",
       "I(V00FMPMBMLOAD ** 3)                  6.119792e-01\n",
       "V00FMCMBMLOAD:I(V00FMPMBMLOAD ** 3)    9.509801e-01\n",
       "dtype: float64</td>\n",
       "      <td>0.000485</td>\n",
       "    </tr>\n",
       "    <tr>\n",
       "      <th>34</th>\n",
       "      <td>interaction</td>\n",
       "      <td>V00FMCMBMLOAD ~ V00FMAMBMLOAD:V00FMPMBMLOAD</td>\n",
       "      <td>Intercept                      0.026888\n",
       "V00FMAMBMLOAD:V00FMPMBMLOAD    0.103963\n",
       "dtype: float64</td>\n",
       "      <td>Intercept                      0.000008\n",
       "V00FMAMBMLOAD:V00FMPMBMLOAD    0.039065\n",
       "dtype: float64</td>\n",
       "      <td>0.001133</td>\n",
       "    </tr>\n",
       "    <tr>\n",
       "      <th>35</th>\n",
       "      <td>interaction</td>\n",
       "      <td>V00FMCMBMLOAD ~ V00FMAMBMLOAD*V00FMPMBMLOAD</td>\n",
       "      <td>Intercept                      0.015633\n",
       "V00FMAMBMLOAD                  0.010940\n",
       "V00FMPMBMLOAD                  0.322772\n",
       "V00FMAMBMLOAD:V00FMPMBMLOAD    0.040993\n",
       "dtype: float64</td>\n",
       "      <td>Intercept                      9.969498e-04\n",
       "V00FMAMBMLOAD                  3.114041e-01\n",
       "V00FMPMBMLOAD                  7.050663e-17\n",
       "V00FMAMBMLOAD:V00FMPMBMLOAD    2.130861e-01\n",
       "dtype: float64</td>\n",
       "      <td>0.021574</td>\n",
       "    </tr>\n",
       "    <tr>\n",
       "      <th>36</th>\n",
       "      <td>interaction</td>\n",
       "      <td>V00FMCMBMLOAD ~ V00FMAMBMLOAD*I(V00FMPMBMLOAD**2)</td>\n",
       "      <td>Intercept                              0.015669\n",
       "V00FMAMBMLOAD                          0.011034\n",
       "I(V00FMPMBMLOAD ** 2)                  0.067164\n",
       "V00FMAMBMLOAD:I(V00FMPMBMLOAD ** 2)    0.006633\n",
       "dtype: float64</td>\n",
       "      <td>Intercept                              9.578570e-04\n",
       "V00FMAMBMLOAD                          3.067187e-01\n",
       "I(V00FMPMBMLOAD ** 2)                  9.977914e-19\n",
       "V00FMAMBMLOAD:I(V00FMPMBMLOAD ** 2)    2.939836e-01\n",
       "dtype: float64</td>\n",
       "      <td>0.023701</td>\n",
       "    </tr>\n",
       "    <tr>\n",
       "      <th>37</th>\n",
       "      <td>interaction</td>\n",
       "      <td>V00FMCMBMLOAD ~ V00FMAMBMLOAD*I(V00FMPMBMLOAD**3)</td>\n",
       "      <td>Intercept                              0.015682\n",
       "V00FMAMBMLOAD                          0.011181\n",
       "I(V00FMPMBMLOAD ** 3)                  0.013211\n",
       "V00FMAMBMLOAD:I(V00FMPMBMLOAD ** 3)    0.000988\n",
       "dtype: float64</td>\n",
       "      <td>Intercept                              9.391690e-04\n",
       "V00FMAMBMLOAD                          2.998523e-01\n",
       "I(V00FMPMBMLOAD ** 3)                  4.157548e-20\n",
       "V00FMAMBMLOAD:I(V00FMPMBMLOAD ** 3)    4.022253e-01\n",
       "dtype: float64</td>\n",
       "      <td>0.025205</td>\n",
       "    </tr>\n",
       "    <tr>\n",
       "      <th>38</th>\n",
       "      <td>interaction</td>\n",
       "      <td>V00FMPMBMLOAD ~ V00FMAMBMLOAD:V00FMCMBMLOAD</td>\n",
       "      <td>Intercept                      0.006607\n",
       "V00FMAMBMLOAD:V00FMCMBMLOAD    0.026761\n",
       "dtype: float64</td>\n",
       "      <td>Intercept                      0.023472\n",
       "V00FMAMBMLOAD:V00FMCMBMLOAD    0.021622\n",
       "dtype: float64</td>\n",
       "      <td>0.001404</td>\n",
       "    </tr>\n",
       "    <tr>\n",
       "      <th>39</th>\n",
       "      <td>interaction</td>\n",
       "      <td>V00FMPMBMLOAD ~ V00FMAMBMLOAD*V00FMCMBMLOAD</td>\n",
       "      <td>Intercept                      0.002273\n",
       "V00FMAMBMLOAD                  0.001774\n",
       "V00FMCMBMLOAD                  0.059204\n",
       "V00FMAMBMLOAD:V00FMCMBMLOAD    0.015465\n",
       "dtype: float64</td>\n",
       "      <td>Intercept                      2.676532e-01\n",
       "V00FMAMBMLOAD                  7.052263e-01\n",
       "V00FMCMBMLOAD                  1.135910e-16\n",
       "V00FMAMBMLOAD:V00FMCMBMLOAD    3.043253e-02\n",
       "dtype: float64</td>\n",
       "      <td>0.022189</td>\n",
       "    </tr>\n",
       "    <tr>\n",
       "      <th>40</th>\n",
       "      <td>interaction</td>\n",
       "      <td>V00FMPMBMLOAD ~ V00FMAMBMLOAD*I(V00FMCMBMLOAD**2)</td>\n",
       "      <td>Intercept                              0.002269\n",
       "V00FMAMBMLOAD                          0.001871\n",
       "I(V00FMCMBMLOAD ** 2)                  0.011968\n",
       "V00FMAMBMLOAD:I(V00FMCMBMLOAD ** 2)    0.002530\n",
       "dtype: float64</td>\n",
       "      <td>Intercept                              2.678229e-01\n",
       "V00FMAMBMLOAD                          6.893542e-01\n",
       "I(V00FMCMBMLOAD ** 2)                  9.923079e-19\n",
       "V00FMAMBMLOAD:I(V00FMCMBMLOAD ** 2)    5.078251e-02\n",
       "dtype: float64</td>\n",
       "      <td>0.024548</td>\n",
       "    </tr>\n",
       "    <tr>\n",
       "      <th>41</th>\n",
       "      <td>interaction</td>\n",
       "      <td>V00FMPMBMLOAD ~ V00FMAMBMLOAD*I(V00FMCMBMLOAD**3)</td>\n",
       "      <td>Intercept                              0.002264\n",
       "V00FMAMBMLOAD                          0.002063\n",
       "I(V00FMCMBMLOAD ** 3)                  0.002308\n",
       "V00FMAMBMLOAD:I(V00FMCMBMLOAD ** 3)    0.000365\n",
       "dtype: float64</td>\n",
       "      <td>Intercept                              2.685071e-01\n",
       "V00FMAMBMLOAD                          6.589540e-01\n",
       "I(V00FMCMBMLOAD ** 3)                  1.604385e-20\n",
       "V00FMAMBMLOAD:I(V00FMCMBMLOAD ** 3)    1.050070e-01\n",
       "dtype: float64</td>\n",
       "      <td>0.026383</td>\n",
       "    </tr>\n",
       "  </tbody>\n",
       "</table>\n",
       "</div>"
      ]
     },
     "metadata": {},
     "output_type": "display_data"
    }
   ],
   "execution_count": 3
  },
  {
   "metadata": {
    "ExecuteTime": {
     "end_time": "2025-08-12T16:51:44.841189Z",
     "start_time": "2025-08-12T16:51:44.815713Z"
    }
   },
   "cell_type": "code",
   "source": [
    "from modules.plot_data import plot_moaks_data_regression_surface\n",
    "\n",
    "fm_surface = plot_moaks_data_regression_surface(moaks_3d_fm_load_scatter, v00_moaks_shared_kl_fm_load, fm_relationships_df, 28)\n",
    "fm_surface.show()"
   ],
   "id": "5184e8d688ee1b7e",
   "outputs": [
    {
     "data": {
      "application/vnd.plotly.v1+json": {
       "data": [
        {
         "hovertemplate": "V00FMAMBMLOAD=%{x}<br>V00FMCMBMLOAD=%{y}<br>V00FMPMBMLOAD=%{z}<br>count=%{marker.size}<extra></extra>",
         "legendgroup": "",
         "marker": {
          "color": "#636efa",
          "opacity": 0.8,
          "size": {
           "dtype": "i2",
           "bdata": "qgklABEABAAQAC8ABwACADsADAADACoAAwAEAAoAAQAEAAEADAAEAHcAAQABABQABwAFAAEANAAGAA4ADwADABEABgADAAIAAQADAAIAAQABAAEAZwAKAAIADAAFAAEAAgABAGsAAgABAAIAAgAHAAEAAgABACMAAgABAAIAAwACAAEAAQABACsAAgABAAEAAQAGAAEAyQABAAEACQADAAEAAQAEAAEAFAABAAEABwACAAoAAQAGAAIABQABACwAAQABAAEABgABAAIAAwACAAoAAQABAAEAAQA="
          },
          "sizemode": "area",
          "sizeref": 1.54625,
          "symbol": "circle"
         },
         "mode": "markers",
         "name": "",
         "scene": "scene",
         "showlegend": false,
         "x": {
          "dtype": "f8",
          "bdata": "AAAAAAAAAAAAAAAAAAAAAAAAAAAAAAAAAAAAAAAAAAAAAAAAAAAAAAAAAAAAAAAAAAAAAAAAAAAAAAAAAAAAAAAAAAAAAAAAAAAAAAAAAAAAAAAAAAAAAAAAAAAAAAAAAAAAAAAAAAAAAAAAAAAAAAAAAAAAAAAAAAAAAAAAAAAAAAAAAAAAAAAAAAAAAAAAAAAAAAAAAAAAAAAAAAAAAAAAAAAAAAAAAAAAAAAAAAAAAAAAAAAAAAAAAAAAAAAAAAAAAAAAAAAAAAAAAAAAAAAAAAAAAAAAAAAAAAAAAAAAAAAAAAAAAAAAAAAAAAAAAAAAAAAAAAAAAAAAAAAAAAAAAAAAAAAAAAAAAAAAAAAAAAAAAAAAAAAAAAAAAAAAAAAAAAAAAAAAAAAAAAAAAAAAAAAAAAAAAAAAAAAAAAAAAAAAAAAAAAAAAAAAAAAAAAAAAAAA8D8AAAAAAADwPwAAAAAAAPA/AAAAAAAA8D8AAAAAAADwPwAAAAAAAPA/AAAAAAAA8D8AAAAAAADwPwAAAAAAAABAAAAAAAAAAEAAAAAAAAAAQAAAAAAAAABAAAAAAAAAAEAAAAAAAAAAQAAAAAAAAABAAAAAAAAAAEAAAAAAAAAAQAAAAAAAAAhAAAAAAAAACEAAAAAAAAAIQAAAAAAAAAhAAAAAAAAACEAAAAAAAAAIQAAAAAAAAAhAAAAAAAAACEAAAAAAAAAIQAAAAAAAABBAAAAAAAAAEEAAAAAAAAAQQAAAAAAAABBAAAAAAAAAEEAAAAAAAAAQQAAAAAAAABBAAAAAAAAAFEAAAAAAAAAUQAAAAAAAABRAAAAAAAAAFEAAAAAAAAAUQAAAAAAAABRAAAAAAAAAFEAAAAAAAAAUQAAAAAAAABRAAAAAAAAAFEAAAAAAAAAUQAAAAAAAABRAAAAAAAAAFEAAAAAAAAAUQAAAAAAAABRAAAAAAAAAFEAAAAAAAAAUQAAAAAAAABRAAAAAAAAAFEAAAAAAAAAUQAAAAAAAABhAAAAAAAAAGEAAAAAAAAAYQAAAAAAAABhAAAAAAAAAGEAAAAAAAAAYQAAAAAAAABhAAAAAAAAAGEAAAAAAAAAYQAAAAAAAABxAAAAAAAAAHEAAAAAAAAAcQAAAAAAAABxAAAAAAAAAIEA="
         },
         "y": {
          "dtype": "f8",
          "bdata": "AAAAAAAAAAAAAAAAAAAAAAAAAAAAAAAAAAAAAAAAAAAAAAAAAAAAAAAAAAAAAAAAAAAAAAAAAAAAAAAAAAAAAAAAAAAAAPA/AAAAAAAA8D8AAAAAAADwPwAAAAAAAABAAAAAAAAAAEAAAAAAAAAAQAAAAAAAAAhAAAAAAAAACEAAAAAAAAAIQAAAAAAAAAhAAAAAAAAAEEAAAAAAAAAQQAAAAAAAABRAAAAAAAAAFEAAAAAAAAAUQAAAAAAAABRAAAAAAAAAFEAAAAAAAAAUQAAAAAAAABRAAAAAAAAAGEAAAAAAAAAYQAAAAAAAABhAAAAAAAAAGEAAAAAAAAAYQAAAAAAAABxAAAAAAAAAHEAAAAAAAAAcQAAAAAAAABxAAAAAAAAAHEAAAAAAAAAgQAAAAAAAACBAAAAAAAAAIEAAAAAAAAAgQAAAAAAAACJAAAAAAAAAAAAAAAAAAAAAAAAAAAAAAAAAAAAAAAAA8D8AAAAAAADwPwAAAAAAAPA/AAAAAAAAAEAAAAAAAAAIQAAAAAAAAAAAAAAAAAAAAAAAAAAAAAAAAAAAAAAAAPA/AAAAAAAA8D8AAAAAAAAAQAAAAAAAAAhAAAAAAAAAFEAAAAAAAAAgQAAAAAAAAAAAAAAAAAAAAAAAAAAAAAAAAAAAAAAAAPA/AAAAAAAAAEAAAAAAAAAIQAAAAAAAABBAAAAAAAAAHEAAAAAAAAAcQAAAAAAAAAAAAAAAAAAAAAAAAAAAAAAAAAAAAAAAAABAAAAAAAAAEEAAAAAAAAAUQAAAAAAAABRAAAAAAAAAAAAAAAAAAAAAAAAAAAAAAAAAAAAAAAAAAAAAAAAAAAAAAAAAAAAAAABAAAAAAAAACEAAAAAAAAAQQAAAAAAAABBAAAAAAAAAFEAAAAAAAAAUQAAAAAAAABRAAAAAAAAAFEAAAAAAAAAUQAAAAAAAABhAAAAAAAAAGEAAAAAAAAAYQAAAAAAAABhAAAAAAAAAHEAAAAAAAAAcQAAAAAAAAAAAAAAAAAAAAAAAAAAAAAAAAAAAAAAAAPA/AAAAAAAAFEAAAAAAAAAUQAAAAAAAABRAAAAAAAAAHEAAAAAAAAAgQAAAAAAAAAAAAAAAAAAAAAAAAAAAAAAYQAAAAAAAABxAAAAAAAAAAAA="
         },
         "z": {
          "dtype": "f8",
          "bdata": "AAAAAAAAAAAAAAAAAADwPwAAAAAAAABAAAAAAAAACEAAAAAAAAAQQAAAAAAAABRAAAAAAAAAGEAAAAAAAAAcQAAAAAAAAAAAAAAAAAAA8D8AAAAAAAAAQAAAAAAAAAAAAAAAAAAA8D8AAAAAAAAAQAAAAAAAAAAAAAAAAAAA8D8AAAAAAAAAQAAAAAAAABBAAAAAAAAAAAAAAAAAAAAUQAAAAAAAAAAAAAAAAAAACEAAAAAAAAAQQAAAAAAAABRAAAAAAAAAGEAAAAAAAAAcQAAAAAAAACBAAAAAAAAAAAAAAAAAAAAQQAAAAAAAABRAAAAAAAAAGEAAAAAAAAAcQAAAAAAAAAAAAAAAAAAAFEAAAAAAAAAYQAAAAAAAABxAAAAAAAAAIkAAAAAAAAAAAAAAAAAAABRAAAAAAAAAGEAAAAAAAAAgQAAAAAAAAAAAAAAAAAAAAAAAAAAAAADwPwAAAAAAAABAAAAAAAAAAAAAAAAAAADwPwAAAAAAAAhAAAAAAAAAAAAAAAAAAAAIQAAAAAAAAAAAAAAAAAAAAEAAAAAAAAAQQAAAAAAAAAAAAAAAAAAA8D8AAAAAAAAAAAAAAAAAAABAAAAAAAAAAAAAAAAAAAAYQAAAAAAAAAAAAAAAAAAAAEAAAAAAAAAUQAAAAAAAAAAAAAAAAAAAAAAAAAAAAAAAAAAAAAAAABBAAAAAAAAAAAAAAAAAAAAgQAAAAAAAAAAAAAAAAAAAEEAAAAAAAAAcQAAAAAAAAAAAAAAAAAAAAAAAAAAAAAAAAAAAAAAAABRAAAAAAAAAAAAAAAAAAAAIQAAAAAAAABBAAAAAAAAAFEAAAAAAAAAYQAAAAAAAABRAAAAAAAAAAAAAAAAAAAAAAAAAAAAAABRAAAAAAAAAAAAAAAAAAAAIQAAAAAAAABBAAAAAAAAAFEAAAAAAAAAcQAAAAAAAAAAAAAAAAAAAEEAAAAAAAAAUQAAAAAAAABhAAAAAAAAAAAAAAAAAAAAYQAAAAAAAAAAAAAAAAAAAFEAAAAAAAAAYQAAAAAAAAAAAAAAAAAAAAAAAAAAAAAAQQAAAAAAAABRAAAAAAAAAAAAAAAAAAAAAAAAAAAAAAAAAAAAAAAAAGEAAAAAAAAAAAAAAAAAAAAAAAAAAAAAAAAA="
         },
         "type": "scatter3d"
        },
        {
         "colorscale": [
          [
           0.0,
           "rgb(255,255,217)"
          ],
          [
           0.125,
           "rgb(237,248,177)"
          ],
          [
           0.25,
           "rgb(199,233,180)"
          ],
          [
           0.375,
           "rgb(127,205,187)"
          ],
          [
           0.5,
           "rgb(65,182,196)"
          ],
          [
           0.625,
           "rgb(29,145,192)"
          ],
          [
           0.75,
           "rgb(34,94,168)"
          ],
          [
           0.875,
           "rgb(37,52,148)"
          ],
          [
           1.0,
           "rgb(8,29,88)"
          ]
         ],
         "opacity": 0.3,
         "showscale": false,
         "x": {
          "dtype": "f8",
          "bdata": "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",
          "shape": "50, 50"
         },
         "y": {
          "dtype": "f8",
          "bdata": "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",
          "shape": "50, 50"
         },
         "z": {
          "dtype": "f8",
          "bdata": "AAAAAAAAAAAAAAAAAAAAAAAAAAAAAAAAAAAAAAAAAAAAAAAAAAAAAAAAAAAAAAAAAAAAAAAAAAAAAAAAAAAAAAAAAAAAAAAAAAAAAAAAAAAAAAAAAAAAAAAAAAAAAAAAAAAAAAAAAAAAAAAAAAAAAAAAAAAAAAAAAAAAAAAAAAAAAAAAAAAAAAAAAAAAAAAAAAAAAAAAAAAAAAAAAAAAAAAAAAAAAAAAAAAAAAAAAAAAAAAAAAAAAAAAAAAAAAAAAAAAAAAAAAAAAAAAAAAAAAAAAAAAAAAAAAAAAAAAAAAAAAAAAAAAAAAAAAAAAAAAAAAAAAAAAAAAAAAAAAAAAAAAAAAAAAAAAAAAAAAAAAAAAAAAAAAAAAAAAAAAAAAAAAAAAAAAAAAAAAAAAAAAAAAAAAAAAAAAAAAAAAAAAAAAAAAAAAAAAAAAAAAAAAAAAAAAAAAAAAAAAAAAAAAAAAAAAAAAAAAAAAAAAAAAAAAAAAAAAAAAAAAAAAAAAAAAAAAAAAAAAAAAAAAAAAAAAOHlFLycgsc/4eUUvJyCxz/h5RS8nILHP+HlFLycgsc/4eUUvJyCxz/h5RS8nILHP+HlFLycgsc/4eUUvJyCxz/h5RS8nILHP+HlFLycgsc/4eUUvJyCxz/h5RS8nILHP+HlFLycgsc/4eUUvJyCxz/h5RS8nILHP+HlFLycgsc/4eUUvJyCxz/h5RS8nILHP+HlFLycgsc/4eUUvJyCxz/h5RS8nILHP+HlFLycgsc/4eUUvJyCxz/h5RS8nILHP+HlFLycgsc/4eUUvJyCxz/h5RS8nILHP+HlFLycgsc/4eUUvJyCxz/h5RS8nILHP+HlFLycgsc/4eUUvJyCxz/h5RS8nILHP+HlFLycgsc/4eUUvJyCxz/h5RS8nILHP+HlFLycgsc/4eUUvJyCxz/h5RS8nILHP+HlFLycgsc/4eUUvJyCxz/h5RS8nILHP+HlFLycgsc/4eUUvJyCxz/h5RS8nILHP+HlFLycgsc/4eUUvJyCxz/h5RS8nILHP+HlFLycgsc/4eUUvJyCxz/h5RS8nILXP+HlFLycgtc/4eUUvJyC1z/h5RS8nILXP+HlFLycgtc/4eUUvJyC1z/h5RS8nILXP+HlFLycgtc/4eUUvJyC1z/h5RS8nILXP+HlFLycgtc/4eUUvJyC1z/h5RS8nILXP+HlFLycgtc/4eUUvJyC1z/h5RS8nILXP+HlFLycgtc/4eUUvJyC1z/h5RS8nILXP+HlFLycgtc/4eUUvJyC1z/h5RS8nILXP+HlFLycgtc/4eUUvJyC1z/h5RS8nILXP+HlFLycgtc/4eUUvJyC1z/h5RS8nILXP+HlFLycgtc/4eUUvJyC1z/h5RS8nILXP+HlFLycgtc/4eUUvJyC1z/h5RS8nILXP+HlFLycgtc/4eUUvJyC1z/h5RS8nILXP+HlFLycgtc/4eUUvJyC1z/h5RS8nILXP+HlFLycgtc/4eUUvJyC1z/h5RS8nILXP+HlFLycgtc/4eUUvJyC1z/h5RS8nILXP+HlFLycgtc/4eUUvJyC1z/h5RS8nILXP+HlFLycgtc/aawPjfWh4T9prA+N9aHhP2msD431oeE/aawPjfWh4T9prA+N9aHhP2msD431oeE/aawPjfWh4T9prA+N9aHhP2msD431oeE/aawPjfWh4T9prA+N9aHhP2msD431oeE/aawPjfWh4T9prA+N9aHhP2msD431oeE/aawPjfWh4T9prA+N9aHhP2msD431oeE/aawPjfWh4T9prA+N9aHhP2msD431oeE/aawPjfWh4T9prA+N9aHhP2msD431oeE/aawPjfWh4T9prA+N9aHhP2msD431oeE/aawPjfWh4T9prA+N9aHhP2msD431oeE/aawPjfWh4T9prA+N9aHhP2msD431oeE/aawPjfWh4T9prA+N9aHhP2msD431oeE/aawPjfWh4T9prA+N9aHhP2msD431oeE/aawPjfWh4T9prA+N9aHhP2msD431oeE/aawPjfWh4T9prA+N9aHhP2msD431oeE/aawPjfWh4T9prA+N9aHhP2msD431oeE/aawPjfWh4T9prA+N9aHhP+HlFLycguc/4eUUvJyC5z/h5RS8nILnP+HlFLycguc/4eUUvJyC5z/h5RS8nILnP+HlFLycguc/4eUUvJyC5z/h5RS8nILnP+HlFLycguc/4eUUvJyC5z/h5RS8nILnP+HlFLycguc/4eUUvJyC5z/h5RS8nILnP+HlFLycguc/4eUUvJyC5z/h5RS8nILnP+HlFLycguc/4eUUvJyC5z/h5RS8nILnP+HlFLycguc/4eUUvJyC5z/h5RS8nILnP+HlFLycguc/4eUUvJyC5z/h5RS8nILnP+HlFLycguc/4eUUvJyC5z/h5RS8nILnP+HlFLycguc/4eUUvJyC5z/h5RS8nILnP+HlFLycguc/4eUUvJyC5z/h5RS8nILnP+HlFLycguc/4eUUvJyC5z/h5RS8nILnP+HlFLycguc/4eUUvJyC5z/h5RS8nILnP+HlFLycguc/4eUUvJyC5z/h5RS8nILnP+HlFLycguc/4eUUvJyC5z/h5RS8nILnP+HlFLycguc/4eUUvJyC5z9ZHxrrQ2PtP1kfGutDY+0/WR8a60Nj7T9ZHxrrQ2PtP1kfGutDY+0/WR8a60Nj7T9ZHxrrQ2PtP1kfGutDY+0/WR8a60Nj7T9ZHxrrQ2PtP1kfGutDY+0/WR8a60Nj7T9ZHxrrQ2PtP1kfGutDY+0/WR8a60Nj7T9ZHxrrQ2PtP1kfGutDY+0/WR8a60Nj7T9ZHxrrQ2PtP1kfGutDY+0/WR8a60Nj7T9ZHxrrQ2PtP1kfGutDY+0/WR8a60Nj7T9ZHxrrQ2PtP1kfGutDY+0/WR8a60Nj7T9ZHxrrQ2PtP1kfGutDY+0/WR8a60Nj7T9ZHxrrQ2PtP1kfGutDY+0/WR8a60Nj7T9ZHxrrQ2PtP1kfGutDY+0/WR8a60Nj7T9ZHxrrQ2PtP1kfGutDY+0/WR8a60Nj7T9ZHxrrQ2PtP1kfGutDY+0/WR8a60Nj7T9ZHxrrQ2PtP1kfGutDY+0/WR8a60Nj7T9ZHxrrQ2PtP1kfGutDY+0/WR8a60Nj7T9ZHxrrQ2PtP1kfGutDY+0/aawPjfWh8T9prA+N9aHxP2msD431ofE/aawPjfWh8T9prA+N9aHxP2msD431ofE/aawPjfWh8T9prA+N9aHxP2msD431ofE/aawPjfWh8T9prA+N9aHxP2msD431ofE/aawPjfWh8T9prA+N9aHxP2msD431ofE/aawPjfWh8T9prA+N9aHxP2msD431ofE/aawPjfWh8T9prA+N9aHxP2msD431ofE/aawPjfWh8T9prA+N9aHxP2msD431ofE/aawPjfWh8T9prA+N9aHxP2msD431ofE/aawPjfWh8T9prA+N9aHxP2msD431ofE/aawPjfWh8T9prA+N9aHxP2msD431ofE/aawPjfWh8T9prA+N9aHxP2msD431ofE/aawPjfWh8T9prA+N9aHxP2msD431ofE/aawPjfWh8T9prA+N9aHxP2msD431ofE/aawPjfWh8T9prA+N9aHxP2msD431ofE/aawPjfWh8T9prA+N9aHxP2msD431ofE/aawPjfWh8T9prA+N9aHxPyVJkiRJkvQ/JUmSJEmS9D8lSZIkSZL0PyVJkiRJkvQ/JUmSJEmS9D8lSZIkSZL0PyVJkiRJkvQ/JUmSJEmS9D8lSZIkSZL0PyVJkiRJkvQ/JUmSJEmS9D8lSZIkSZL0PyVJkiRJkvQ/JUmSJEmS9D8lSZIkSZL0PyVJkiRJkvQ/JUmSJEmS9D8lSZIkSZL0PyVJkiRJkvQ/JUmSJEmS9D8lSZIkSZL0PyVJkiRJkvQ/JUmSJEmS9D8lSZIkSZL0PyVJkiRJkvQ/JUmSJEmS9D8lSZIkSZL0PyVJkiRJkvQ/JUmSJEmS9D8lSZIkSZL0PyVJkiRJkvQ/JUmSJEmS9D8lSZIkSZL0PyVJkiRJkvQ/JUmSJEmS9D8lSZIkSZL0PyVJkiRJkvQ/JUmSJEmS9D8lSZIkSZL0PyVJkiRJkvQ/JUmSJEmS9D8lSZIkSZL0PyVJkiRJkvQ/JUmSJEmS9D8lSZIkSZL0PyVJkiRJkvQ/JUmSJEmS9D8lSZIkSZL0PyVJkiRJkvQ/JUmSJEmS9D/h5RS8nIL3P+HlFLycgvc/4eUUvJyC9z/h5RS8nIL3P+HlFLycgvc/4eUUvJyC9z/h5RS8nIL3P+HlFLycgvc/4eUUvJyC9z/h5RS8nIL3P+HlFLycgvc/4eUUvJyC9z/h5RS8nIL3P+HlFLycgvc/4eUUvJyC9z/h5RS8nIL3P+HlFLycgvc/4eUUvJyC9z/h5RS8nIL3P+HlFLycgvc/4eUUvJyC9z/h5RS8nIL3P+HlFLycgvc/4eUUvJyC9z/h5RS8nIL3P+HlFLycgvc/4eUUvJyC9z/h5RS8nIL3P+HlFLycgvc/4eUUvJyC9z/h5RS8nIL3P+HlFLycgvc/4eUUvJyC9z/h5RS8nIL3P+HlFLycgvc/4eUUvJyC9z/h5RS8nIL3P+HlFLycgvc/4eUUvJyC9z/h5RS8nIL3P+HlFLycgvc/4eUUvJyC9z/h5RS8nIL3P+HlFLycgvc/4eUUvJyC9z/h5RS8nIL3P+HlFLycgvc/4eUUvJyC9z/h5RS8nIL3P+HlFLycgvc/nYKXU/By+j+dgpdT8HL6P52Cl1Pwcvo/nYKXU/By+j+dgpdT8HL6P52Cl1Pwcvo/nYKXU/By+j+dgpdT8HL6P52Cl1Pwcvo/nYKXU/By+j+dgpdT8HL6P52Cl1Pwcvo/nYKXU/By+j+dgpdT8HL6P52Cl1Pwcvo/nYKXU/By+j+dgpdT8HL6P52Cl1Pwcvo/nYKXU/By+j+dgpdT8HL6P52Cl1Pwcvo/nYKXU/By+j+dgpdT8HL6P52Cl1Pwcvo/nYKXU/By+j+dgpdT8HL6P52Cl1Pwcvo/nYKXU/By+j+dgpdT8HL6P52Cl1Pwcvo/nYKXU/By+j+dgpdT8HL6P52Cl1Pwcvo/nYKXU/By+j+dgpdT8HL6P52Cl1Pwcvo/nYKXU/By+j+dgpdT8HL6P52Cl1Pwcvo/nYKXU/By+j+dgpdT8HL6P52Cl1Pwcvo/nYKXU/By+j+dgpdT8HL6P52Cl1Pwcvo/nYKXU/By+j+dgpdT8HL6P52Cl1Pwcvo/nYKXU/By+j+dgpdT8HL6P1kfGutDY/0/WR8a60Nj/T9ZHxrrQ2P9P1kfGutDY/0/WR8a60Nj/T9ZHxrrQ2P9P1kfGutDY/0/WR8a60Nj/T9ZHxrrQ2P9P1kfGutDY/0/WR8a60Nj/T9ZHxrrQ2P9P1kfGutDY/0/WR8a60Nj/T9ZHxrrQ2P9P1kfGutDY/0/WR8a60Nj/T9ZHxrrQ2P9P1kfGutDY/0/WR8a60Nj/T9ZHxrrQ2P9P1kfGutDY/0/WR8a60Nj/T9ZHxrrQ2P9P1kfGutDY/0/WR8a60Nj/T9ZHxrrQ2P9P1kfGutDY/0/WR8a60Nj/T9ZHxrrQ2P9P1kfGutDY/0/WR8a60Nj/T9ZHxrrQ2P9P1kfGutDY/0/WR8a60Nj/T9ZHxrrQ2P9P1kfGutDY/0/WR8a60Nj/T9ZHxrrQ2P9P1kfGutDY/0/WR8a60Nj/T9ZHxrrQ2P9P1kfGutDY/0/WR8a60Nj/T9ZHxrrQ2P9P1kfGutDY/0/WR8a60Nj/T9ZHxrrQ2P9P1kfGutDY/0/WR8a60Nj/T8LXk7ByykAQAteTsHLKQBAC15OwcspAEALXk7ByykAQAteTsHLKQBAC15OwcspAEALXk7ByykAQAteTsHLKQBAC15OwcspAEALXk7ByykAQAteTsHLKQBAC15OwcspAEALXk7ByykAQAteTsHLKQBAC15OwcspAEALXk7ByykAQAteTsHLKQBAC15OwcspAEALXk7ByykAQAteTsHLKQBAC15OwcspAEALXk7ByykAQAteTsHLKQBAC15OwcspAEALXk7ByykAQAteTsHLKQBAC15OwcspAEALXk7ByykAQAteTsHLKQBAC15OwcspAEALXk7ByykAQAteTsHLKQBAC15OwcspAEALXk7ByykAQAteTsHLKQBAC15OwcspAEALXk7ByykAQAteTsHLKQBAC15OwcspAEALXk7ByykAQAteTsHLKQBAC15OwcspAEALXk7ByykAQAteTsHLKQBAC15OwcspAEALXk7ByykAQAteTsHLKQBAC15OwcspAEALXk7ByykAQAteTsHLKQBAaawPjfWhAUBprA+N9aEBQGmsD431oQFAaawPjfWhAUBprA+N9aEBQGmsD431oQFAaawPjfWhAUBprA+N9aEBQGmsD431oQFAaawPjfWhAUBprA+N9aEBQGmsD431oQFAaawPjfWhAUBprA+N9aEBQGmsD431oQFAaawPjfWhAUBprA+N9aEBQGmsD431oQFAaawPjfWhAUBprA+N9aEBQGmsD431oQFAaawPjfWhAUBprA+N9aEBQGmsD431oQFAaawPjfWhAUBprA+N9aEBQGmsD431oQFAaawPjfWhAUBprA+N9aEBQGmsD431oQFAaawPjfWhAUBprA+N9aEBQGmsD431oQFAaawPjfWhAUBprA+N9aEBQGmsD431oQFAaawPjfWhAUBprA+N9aEBQGmsD431oQFAaawPjfWhAUBprA+N9aEBQGmsD431oQFAaawPjfWhAUBprA+N9aEBQGmsD431oQFAaawPjfWhAUBprA+N9aEBQGmsD431oQFAaawPjfWhAUBprA+N9aEBQMf60FgfGgNAx/rQWB8aA0DH+tBYHxoDQMf60FgfGgNAx/rQWB8aA0DH+tBYHxoDQMf60FgfGgNAx/rQWB8aA0DH+tBYHxoDQMf60FgfGgNAx/rQWB8aA0DH+tBYHxoDQMf60FgfGgNAx/rQWB8aA0DH+tBYHxoDQMf60FgfGgNAx/rQWB8aA0DH+tBYHxoDQMf60FgfGgNAx/rQWB8aA0DH+tBYHxoDQMf60FgfGgNAx/rQWB8aA0DH+tBYHxoDQMf60FgfGgNAx/rQWB8aA0DH+tBYHxoDQMf60FgfGgNAx/rQWB8aA0DH+tBYHxoDQMf60FgfGgNAx/rQWB8aA0DH+tBYHxoDQMf60FgfGgNAx/rQWB8aA0DH+tBYHxoDQMf60FgfGgNAx/rQWB8aA0DH+tBYHxoDQMf60FgfGgNAx/rQWB8aA0DH+tBYHxoDQMf60FgfGgNAx/rQWB8aA0DH+tBYHxoDQMf60FgfGgNAx/rQWB8aA0DH+tBYHxoDQMf60FgfGgNAx/rQWB8aA0AlSZIkSZIEQCVJkiRJkgRAJUmSJEmSBEAlSZIkSZIEQCVJkiRJkgRAJUmSJEmSBEAlSZIkSZIEQCVJkiRJkgRAJUmSJEmSBEAlSZIkSZIEQCVJkiRJkgRAJUmSJEmSBEAlSZIkSZIEQCVJkiRJkgRAJUmSJEmSBEAlSZIkSZIEQCVJkiRJkgRAJUmSJEmSBEAlSZIkSZIEQCVJkiRJkgRAJUmSJEmSBEAlSZIkSZIEQCVJkiRJkgRAJUmSJEmSBEAlSZIkSZIEQCVJkiRJkgRAJUmSJEmSBEAlSZIkSZIEQCVJkiRJkgRAJUmSJEmSBEAlSZIkSZIEQCVJkiRJkgRAJUmSJEmSBEAlSZIkSZIEQCVJkiRJkgRAJUmSJEmSBEAlSZIkSZIEQCVJkiRJkgRAJUmSJEmSBEAlSZIkSZIEQCVJkiRJkgRAJUmSJEmSBEAlSZIkSZIEQCVJkiRJkgRAJUmSJEmSBEAlSZIkSZIEQCVJkiRJkgRAJUmSJEmSBEAlSZIkSZIEQCVJkiRJkgRAg5dT8HIKBkCDl1PwcgoGQIOXU/ByCgZAg5dT8HIKBkCDl1PwcgoGQIOXU/ByCgZAg5dT8HIKBkCDl1PwcgoGQIOXU/ByCgZAg5dT8HIKBkCDl1PwcgoGQIOXU/ByCgZAg5dT8HIKBkCDl1PwcgoGQIOXU/ByCgZAg5dT8HIKBkCDl1PwcgoGQIOXU/ByCgZAg5dT8HIKBkCDl1PwcgoGQIOXU/ByCgZAg5dT8HIKBkCDl1PwcgoGQIOXU/ByCgZAg5dT8HIKBkCDl1PwcgoGQIOXU/ByCgZAg5dT8HIKBkCDl1PwcgoGQIOXU/ByCgZAg5dT8HIKBkCDl1PwcgoGQIOXU/ByCgZAg5dT8HIKBkCDl1PwcgoGQIOXU/ByCgZAg5dT8HIKBkCDl1PwcgoGQIOXU/ByCgZAg5dT8HIKBkCDl1PwcgoGQIOXU/ByCgZAg5dT8HIKBkCDl1PwcgoGQIOXU/ByCgZAg5dT8HIKBkCDl1PwcgoGQIOXU/ByCgZAg5dT8HIKBkCDl1PwcgoGQOHlFLycggdA4eUUvJyCB0Dh5RS8nIIHQOHlFLycggdA4eUUvJyCB0Dh5RS8nIIHQOHlFLycggdA4eUUvJyCB0Dh5RS8nIIHQOHlFLycggdA4eUUvJyCB0Dh5RS8nIIHQOHlFLycggdA4eUUvJyCB0Dh5RS8nIIHQOHlFLycggdA4eUUvJyCB0Dh5RS8nIIHQOHlFLycggdA4eUUvJyCB0Dh5RS8nIIHQOHlFLycggdA4eUUvJyCB0Dh5RS8nIIHQOHlFLycggdA4eUUvJyCB0Dh5RS8nIIHQOHlFLycggdA4eUUvJyCB0Dh5RS8nIIHQOHlFLycggdA4eUUvJyCB0Dh5RS8nIIHQOHlFLycggdA4eUUvJyCB0Dh5RS8nIIHQOHlFLycggdA4eUUvJyCB0Dh5RS8nIIHQOHlFLycggdA4eUUvJyCB0Dh5RS8nIIHQOHlFLycggdA4eUUvJyCB0Dh5RS8nIIHQOHlFLycggdA4eUUvJyCB0Dh5RS8nIIHQOHlFLycggdA4eUUvJyCB0A/NNaHxvoIQD801ofG+ghAPzTWh8b6CEA/NNaHxvoIQD801ofG+ghAPzTWh8b6CEA/NNaHxvoIQD801ofG+ghAPzTWh8b6CEA/NNaHxvoIQD801ofG+ghAPzTWh8b6CEA/NNaHxvoIQD801ofG+ghAPzTWh8b6CEA/NNaHxvoIQD801ofG+ghAPzTWh8b6CEA/NNaHxvoIQD801ofG+ghAPzTWh8b6CEA/NNaHxvoIQD801ofG+ghAPzTWh8b6CEA/NNaHxvoIQD801ofG+ghAPzTWh8b6CEA/NNaHxvoIQD801ofG+ghAPzTWh8b6CEA/NNaHxvoIQD801ofG+ghAPzTWh8b6CEA/NNaHxvoIQD801ofG+ghAPzTWh8b6CEA/NNaHxvoIQD801ofG+ghAPzTWh8b6CEA/NNaHxvoIQD801ofG+ghAPzTWh8b6CEA/NNaHxvoIQD801ofG+ghAPzTWh8b6CEA/NNaHxvoIQD801ofG+ghAPzTWh8b6CEA/NNaHxvoIQD801ofG+ghAnYKXU/ByCkCdgpdT8HIKQJ2Cl1PwcgpAnYKXU/ByCkCdgpdT8HIKQJ2Cl1PwcgpAnYKXU/ByCkCdgpdT8HIKQJ2Cl1PwcgpAnYKXU/ByCkCdgpdT8HIKQJ2Cl1PwcgpAnYKXU/ByCkCdgpdT8HIKQJ2Cl1PwcgpAnYKXU/ByCkCdgpdT8HIKQJ2Cl1PwcgpAnYKXU/ByCkCdgpdT8HIKQJ2Cl1PwcgpAnYKXU/ByCkCdgpdT8HIKQJ2Cl1PwcgpAnYKXU/ByCkCdgpdT8HIKQJ2Cl1PwcgpAnYKXU/ByCkCdgpdT8HIKQJ2Cl1PwcgpAnYKXU/ByCkCdgpdT8HIKQJ2Cl1PwcgpAnYKXU/ByCkCdgpdT8HIKQJ2Cl1PwcgpAnYKXU/ByCkCdgpdT8HIKQJ2Cl1PwcgpAnYKXU/ByCkCdgpdT8HIKQJ2Cl1PwcgpAnYKXU/ByCkCdgpdT8HIKQJ2Cl1PwcgpAnYKXU/ByCkCdgpdT8HIKQJ2Cl1PwcgpAnYKXU/ByCkCdgpdT8HIKQPvQWB8a6wtA+9BYHxrrC0D70FgfGusLQPvQWB8a6wtA+9BYHxrrC0D70FgfGusLQPvQWB8a6wtA+9BYHxrrC0D70FgfGusLQPvQWB8a6wtA+9BYHxrrC0D70FgfGusLQPvQWB8a6wtA+9BYHxrrC0D70FgfGusLQPvQWB8a6wtA+9BYHxrrC0D70FgfGusLQPvQWB8a6wtA+9BYHxrrC0D70FgfGusLQPvQWB8a6wtA+9BYHxrrC0D70FgfGusLQPvQWB8a6wtA+9BYHxrrC0D70FgfGusLQPvQWB8a6wtA+9BYHxrrC0D70FgfGusLQPvQWB8a6wtA+9BYHxrrC0D70FgfGusLQPvQWB8a6wtA+9BYHxrrC0D70FgfGusLQPvQWB8a6wtA+9BYHxrrC0D70FgfGusLQPvQWB8a6wtA+9BYHxrrC0D70FgfGusLQPvQWB8a6wtA+9BYHxrrC0D70FgfGusLQPvQWB8a6wtA+9BYHxrrC0D70FgfGusLQPvQWB8a6wtA+9BYHxrrC0BZHxrrQ2MNQFkfGutDYw1AWR8a60NjDUBZHxrrQ2MNQFkfGutDYw1AWR8a60NjDUBZHxrrQ2MNQFkfGutDYw1AWR8a60NjDUBZHxrrQ2MNQFkfGutDYw1AWR8a60NjDUBZHxrrQ2MNQFkfGutDYw1AWR8a60NjDUBZHxrrQ2MNQFkfGutDYw1AWR8a60NjDUBZHxrrQ2MNQFkfGutDYw1AWR8a60NjDUBZHxrrQ2MNQFkfGutDYw1AWR8a60NjDUBZHxrrQ2MNQFkfGutDYw1AWR8a60NjDUBZHxrrQ2MNQFkfGutDYw1AWR8a60NjDUBZHxrrQ2MNQFkfGutDYw1AWR8a60NjDUBZHxrrQ2MNQFkfGutDYw1AWR8a60NjDUBZHxrrQ2MNQFkfGutDYw1AWR8a60NjDUBZHxrrQ2MNQFkfGutDYw1AWR8a60NjDUBZHxrrQ2MNQFkfGutDYw1AWR8a60NjDUBZHxrrQ2MNQFkfGutDYw1AWR8a60NjDUBZHxrrQ2MNQFkfGutDYw1At23btm3bDkC3bdu2bdsOQLdt27Zt2w5At23btm3bDkC3bdu2bdsOQLdt27Zt2w5At23btm3bDkC3bdu2bdsOQLdt27Zt2w5At23btm3bDkC3bdu2bdsOQLdt27Zt2w5At23btm3bDkC3bdu2bdsOQLdt27Zt2w5At23btm3bDkC3bdu2bdsOQLdt27Zt2w5At23btm3bDkC3bdu2bdsOQLdt27Zt2w5At23btm3bDkC3bdu2bdsOQLdt27Zt2w5At23btm3bDkC3bdu2bdsOQLdt27Zt2w5At23btm3bDkC3bdu2bdsOQLdt27Zt2w5At23btm3bDkC3bdu2bdsOQLdt27Zt2w5At23btm3bDkC3bdu2bdsOQLdt27Zt2w5At23btm3bDkC3bdu2bdsOQLdt27Zt2w5At23btm3bDkC3bdu2bdsOQLdt27Zt2w5At23btm3bDkC3bdu2bdsOQLdt27Zt2w5At23btm3bDkC3bdu2bdsOQLdt27Zt2w5At23btm3bDkC3bdu2bdsOQAteTsHLKRBAC15OwcspEEALXk7ByykQQAteTsHLKRBAC15OwcspEEALXk7ByykQQAteTsHLKRBAC15OwcspEEALXk7ByykQQAteTsHLKRBAC15OwcspEEALXk7ByykQQAteTsHLKRBAC15OwcspEEALXk7ByykQQAteTsHLKRBAC15OwcspEEALXk7ByykQQAteTsHLKRBAC15OwcspEEALXk7ByykQQAteTsHLKRBAC15OwcspEEALXk7ByykQQAteTsHLKRBAC15OwcspEEALXk7ByykQQAteTsHLKRBAC15OwcspEEALXk7ByykQQAteTsHLKRBAC15OwcspEEALXk7ByykQQAteTsHLKRBAC15OwcspEEALXk7ByykQQAteTsHLKRBAC15OwcspEEALXk7ByykQQAteTsHLKRBAC15OwcspEEALXk7ByykQQAteTsHLKRBAC15OwcspEEALXk7ByykQQAteTsHLKRBAC15OwcspEEALXk7ByykQQAteTsHLKRBAC15OwcspEEA6BS+n4OUQQDoFL6fg5RBAOgUvp+DlEEA6BS+n4OUQQDoFL6fg5RBAOgUvp+DlEEA6BS+n4OUQQDoFL6fg5RBAOgUvp+DlEEA6BS+n4OUQQDoFL6fg5RBAOgUvp+DlEEA6BS+n4OUQQDoFL6fg5RBAOgUvp+DlEEA6BS+n4OUQQDoFL6fg5RBAOgUvp+DlEEA6BS+n4OUQQDoFL6fg5RBAOgUvp+DlEEA6BS+n4OUQQDoFL6fg5RBAOgUvp+DlEEA6BS+n4OUQQDoFL6fg5RBAOgUvp+DlEEA6BS+n4OUQQDoFL6fg5RBAOgUvp+DlEEA6BS+n4OUQQDoFL6fg5RBAOgUvp+DlEEA6BS+n4OUQQDoFL6fg5RBAOgUvp+DlEEA6BS+n4OUQQDoFL6fg5RBAOgUvp+DlEEA6BS+n4OUQQDoFL6fg5RBAOgUvp+DlEEA6BS+n4OUQQDoFL6fg5RBAOgUvp+DlEEA6BS+n4OUQQDoFL6fg5RBAOgUvp+DlEEA6BS+n4OUQQDoFL6fg5RBAaawPjfWhEUBprA+N9aERQGmsD431oRFAaawPjfWhEUBprA+N9aERQGmsD431oRFAaawPjfWhEUBprA+N9aERQGmsD431oRFAaawPjfWhEUBprA+N9aERQGmsD431oRFAaawPjfWhEUBprA+N9aERQGmsD431oRFAaawPjfWhEUBprA+N9aERQGmsD431oRFAaawPjfWhEUBprA+N9aERQGmsD431oRFAaawPjfWhEUBprA+N9aERQGmsD431oRFAaawPjfWhEUBprA+N9aERQGmsD431oRFAaawPjfWhEUBprA+N9aERQGmsD431oRFAaawPjfWhEUBprA+N9aERQGmsD431oRFAaawPjfWhEUBprA+N9aERQGmsD431oRFAaawPjfWhEUBprA+N9aERQGmsD431oRFAaawPjfWhEUBprA+N9aERQGmsD431oRFAaawPjfWhEUBprA+N9aERQGmsD431oRFAaawPjfWhEUBprA+N9aERQGmsD431oRFAaawPjfWhEUBprA+N9aERQJhT8HIKXhJAmFPwcgpeEkCYU/ByCl4SQJhT8HIKXhJAmFPwcgpeEkCYU/ByCl4SQJhT8HIKXhJAmFPwcgpeEkCYU/ByCl4SQJhT8HIKXhJAmFPwcgpeEkCYU/ByCl4SQJhT8HIKXhJAmFPwcgpeEkCYU/ByCl4SQJhT8HIKXhJAmFPwcgpeEkCYU/ByCl4SQJhT8HIKXhJAmFPwcgpeEkCYU/ByCl4SQJhT8HIKXhJAmFPwcgpeEkCYU/ByCl4SQJhT8HIKXhJAmFPwcgpeEkCYU/ByCl4SQJhT8HIKXhJAmFPwcgpeEkCYU/ByCl4SQJhT8HIKXhJAmFPwcgpeEkCYU/ByCl4SQJhT8HIKXhJAmFPwcgpeEkCYU/ByCl4SQJhT8HIKXhJAmFPwcgpeEkCYU/ByCl4SQJhT8HIKXhJAmFPwcgpeEkCYU/ByCl4SQJhT8HIKXhJAmFPwcgpeEkCYU/ByCl4SQJhT8HIKXhJAmFPwcgpeEkCYU/ByCl4SQJhT8HIKXhJAmFPwcgpeEkDH+tBYHxoTQMf60FgfGhNAx/rQWB8aE0DH+tBYHxoTQMf60FgfGhNAx/rQWB8aE0DH+tBYHxoTQMf60FgfGhNAx/rQWB8aE0DH+tBYHxoTQMf60FgfGhNAx/rQWB8aE0DH+tBYHxoTQMf60FgfGhNAx/rQWB8aE0DH+tBYHxoTQMf60FgfGhNAx/rQWB8aE0DH+tBYHxoTQMf60FgfGhNAx/rQWB8aE0DH+tBYHxoTQMf60FgfGhNAx/rQWB8aE0DH+tBYHxoTQMf60FgfGhNAx/rQWB8aE0DH+tBYHxoTQMf60FgfGhNAx/rQWB8aE0DH+tBYHxoTQMf60FgfGhNAx/rQWB8aE0DH+tBYHxoTQMf60FgfGhNAx/rQWB8aE0DH+tBYHxoTQMf60FgfGhNAx/rQWB8aE0DH+tBYHxoTQMf60FgfGhNAx/rQWB8aE0DH+tBYHxoTQMf60FgfGhNAx/rQWB8aE0DH+tBYHxoTQMf60FgfGhNAx/rQWB8aE0DH+tBYHxoTQMf60FgfGhNA9qGxPjTWE0D2obE+NNYTQPahsT401hNA9qGxPjTWE0D2obE+NNYTQPahsT401hNA9qGxPjTWE0D2obE+NNYTQPahsT401hNA9qGxPjTWE0D2obE+NNYTQPahsT401hNA9qGxPjTWE0D2obE+NNYTQPahsT401hNA9qGxPjTWE0D2obE+NNYTQPahsT401hNA9qGxPjTWE0D2obE+NNYTQPahsT401hNA9qGxPjTWE0D2obE+NNYTQPahsT401hNA9qGxPjTWE0D2obE+NNYTQPahsT401hNA9qGxPjTWE0D2obE+NNYTQPahsT401hNA9qGxPjTWE0D2obE+NNYTQPahsT401hNA9qGxPjTWE0D2obE+NNYTQPahsT401hNA9qGxPjTWE0D2obE+NNYTQPahsT401hNA9qGxPjTWE0D2obE+NNYTQPahsT401hNA9qGxPjTWE0D2obE+NNYTQPahsT401hNA9qGxPjTWE0D2obE+NNYTQPahsT401hNA9qGxPjTWE0D2obE+NNYTQCVJkiRJkhRAJUmSJEmSFEAlSZIkSZIUQCVJkiRJkhRAJUmSJEmSFEAlSZIkSZIUQCVJkiRJkhRAJUmSJEmSFEAlSZIkSZIUQCVJkiRJkhRAJUmSJEmSFEAlSZIkSZIUQCVJkiRJkhRAJUmSJEmSFEAlSZIkSZIUQCVJkiRJkhRAJUmSJEmSFEAlSZIkSZIUQCVJkiRJkhRAJUmSJEmSFEAlSZIkSZIUQCVJkiRJkhRAJUmSJEmSFEAlSZIkSZIUQCVJkiRJkhRAJUmSJEmSFEAlSZIkSZIUQCVJkiRJkhRAJUmSJEmSFEAlSZIkSZIUQCVJkiRJkhRAJUmSJEmSFEAlSZIkSZIUQCVJkiRJkhRAJUmSJEmSFEAlSZIkSZIUQCVJkiRJkhRAJUmSJEmSFEAlSZIkSZIUQCVJkiRJkhRAJUmSJEmSFEAlSZIkSZIUQCVJkiRJkhRAJUmSJEmSFEAlSZIkSZIUQCVJkiRJkhRAJUmSJEmSFEAlSZIkSZIUQCVJkiRJkhRAJUmSJEmSFEBU8HIKXk4VQFTwcgpeThVAVPByCl5OFUBU8HIKXk4VQFTwcgpeThVAVPByCl5OFUBU8HIKXk4VQFTwcgpeThVAVPByCl5OFUBU8HIKXk4VQFTwcgpeThVAVPByCl5OFUBU8HIKXk4VQFTwcgpeThVAVPByCl5OFUBU8HIKXk4VQFTwcgpeThVAVPByCl5OFUBU8HIKXk4VQFTwcgpeThVAVPByCl5OFUBU8HIKXk4VQFTwcgpeThVAVPByCl5OFUBU8HIKXk4VQFTwcgpeThVAVPByCl5OFUBU8HIKXk4VQFTwcgpeThVAVPByCl5OFUBU8HIKXk4VQFTwcgpeThVAVPByCl5OFUBU8HIKXk4VQFTwcgpeThVAVPByCl5OFUBU8HIKXk4VQFTwcgpeThVAVPByCl5OFUBU8HIKXk4VQFTwcgpeThVAVPByCl5OFUBU8HIKXk4VQFTwcgpeThVAVPByCl5OFUBU8HIKXk4VQFTwcgpeThVAVPByCl5OFUBU8HIKXk4VQFTwcgpeThVAg5dT8HIKFkCDl1PwcgoWQIOXU/ByChZAg5dT8HIKFkCDl1PwcgoWQIOXU/ByChZAg5dT8HIKFkCDl1PwcgoWQIOXU/ByChZAg5dT8HIKFkCDl1PwcgoWQIOXU/ByChZAg5dT8HIKFkCDl1PwcgoWQIOXU/ByChZAg5dT8HIKFkCDl1PwcgoWQIOXU/ByChZAg5dT8HIKFkCDl1PwcgoWQIOXU/ByChZAg5dT8HIKFkCDl1PwcgoWQIOXU/ByChZAg5dT8HIKFkCDl1PwcgoWQIOXU/ByChZAg5dT8HIKFkCDl1PwcgoWQIOXU/ByChZAg5dT8HIKFkCDl1PwcgoWQIOXU/ByChZAg5dT8HIKFkCDl1PwcgoWQIOXU/ByChZAg5dT8HIKFkCDl1PwcgoWQIOXU/ByChZAg5dT8HIKFkCDl1PwcgoWQIOXU/ByChZAg5dT8HIKFkCDl1PwcgoWQIOXU/ByChZAg5dT8HIKFkCDl1PwcgoWQIOXU/ByChZAg5dT8HIKFkCDl1PwcgoWQLI+NNaHxhZAsj401ofGFkCyPjTWh8YWQLI+NNaHxhZAsj401ofGFkCyPjTWh8YWQLI+NNaHxhZAsj401ofGFkCyPjTWh8YWQLI+NNaHxhZAsj401ofGFkCyPjTWh8YWQLI+NNaHxhZAsj401ofGFkCyPjTWh8YWQLI+NNaHxhZAsj401ofGFkCyPjTWh8YWQLI+NNaHxhZAsj401ofGFkCyPjTWh8YWQLI+NNaHxhZAsj401ofGFkCyPjTWh8YWQLI+NNaHxhZAsj401ofGFkCyPjTWh8YWQLI+NNaHxhZAsj401ofGFkCyPjTWh8YWQLI+NNaHxhZAsj401ofGFkCyPjTWh8YWQLI+NNaHxhZAsj401ofGFkCyPjTWh8YWQLI+NNaHxhZAsj401ofGFkCyPjTWh8YWQLI+NNaHxhZAsj401ofGFkCyPjTWh8YWQLI+NNaHxhZAsj401ofGFkCyPjTWh8YWQLI+NNaHxhZAsj401ofGFkCyPjTWh8YWQLI+NNaHxhZAsj401ofGFkDh5RS8nIIXQOHlFLycghdA4eUUvJyCF0Dh5RS8nIIXQOHlFLycghdA4eUUvJyCF0Dh5RS8nIIXQOHlFLycghdA4eUUvJyCF0Dh5RS8nIIXQOHlFLycghdA4eUUvJyCF0Dh5RS8nIIXQOHlFLycghdA4eUUvJyCF0Dh5RS8nIIXQOHlFLycghdA4eUUvJyCF0Dh5RS8nIIXQOHlFLycghdA4eUUvJyCF0Dh5RS8nIIXQOHlFLycghdA4eUUvJyCF0Dh5RS8nIIXQOHlFLycghdA4eUUvJyCF0Dh5RS8nIIXQOHlFLycghdA4eUUvJyCF0Dh5RS8nIIXQOHlFLycghdA4eUUvJyCF0Dh5RS8nIIXQOHlFLycghdA4eUUvJyCF0Dh5RS8nIIXQOHlFLycghdA4eUUvJyCF0Dh5RS8nIIXQOHlFLycghdA4eUUvJyCF0Dh5RS8nIIXQOHlFLycghdA4eUUvJyCF0Dh5RS8nIIXQOHlFLycghdA4eUUvJyCF0Dh5RS8nIIXQOHlFLycghdAEI31obE+GEAQjfWhsT4YQBCN9aGxPhhAEI31obE+GEAQjfWhsT4YQBCN9aGxPhhAEI31obE+GEAQjfWhsT4YQBCN9aGxPhhAEI31obE+GEAQjfWhsT4YQBCN9aGxPhhAEI31obE+GEAQjfWhsT4YQBCN9aGxPhhAEI31obE+GEAQjfWhsT4YQBCN9aGxPhhAEI31obE+GEAQjfWhsT4YQBCN9aGxPhhAEI31obE+GEAQjfWhsT4YQBCN9aGxPhhAEI31obE+GEAQjfWhsT4YQBCN9aGxPhhAEI31obE+GEAQjfWhsT4YQBCN9aGxPhhAEI31obE+GEAQjfWhsT4YQBCN9aGxPhhAEI31obE+GEAQjfWhsT4YQBCN9aGxPhhAEI31obE+GEAQjfWhsT4YQBCN9aGxPhhAEI31obE+GEAQjfWhsT4YQBCN9aGxPhhAEI31obE+GEAQjfWhsT4YQBCN9aGxPhhAEI31obE+GEAQjfWhsT4YQBCN9aGxPhhAEI31obE+GEAQjfWhsT4YQD801ofG+hhAPzTWh8b6GEA/NNaHxvoYQD801ofG+hhAPzTWh8b6GEA/NNaHxvoYQD801ofG+hhAPzTWh8b6GEA/NNaHxvoYQD801ofG+hhAPzTWh8b6GEA/NNaHxvoYQD801ofG+hhAPzTWh8b6GEA/NNaHxvoYQD801ofG+hhAPzTWh8b6GEA/NNaHxvoYQD801ofG+hhAPzTWh8b6GEA/NNaHxvoYQD801ofG+hhAPzTWh8b6GEA/NNaHxvoYQD801ofG+hhAPzTWh8b6GEA/NNaHxvoYQD801ofG+hhAPzTWh8b6GEA/NNaHxvoYQD801ofG+hhAPzTWh8b6GEA/NNaHxvoYQD801ofG+hhAPzTWh8b6GEA/NNaHxvoYQD801ofG+hhAPzTWh8b6GEA/NNaHxvoYQD801ofG+hhAPzTWh8b6GEA/NNaHxvoYQD801ofG+hhAPzTWh8b6GEA/NNaHxvoYQD801ofG+hhAPzTWh8b6GEA/NNaHxvoYQD801ofG+hhAPzTWh8b6GEBu27Zt27YZQG7btm3bthlAbtu2bdu2GUBu27Zt27YZQG7btm3bthlAbtu2bdu2GUBu27Zt27YZQG7btm3bthlAbtu2bdu2GUBu27Zt27YZQG7btm3bthlAbtu2bdu2GUBu27Zt27YZQG7btm3bthlAbtu2bdu2GUBu27Zt27YZQG7btm3bthlAbtu2bdu2GUBu27Zt27YZQG7btm3bthlAbtu2bdu2GUBu27Zt27YZQG7btm3bthlAbtu2bdu2GUBu27Zt27YZQG7btm3bthlAbtu2bdu2GUBu27Zt27YZQG7btm3bthlAbtu2bdu2GUBu27Zt27YZQG7btm3bthlAbtu2bdu2GUBu27Zt27YZQG7btm3bthlAbtu2bdu2GUBu27Zt27YZQG7btm3bthlAbtu2bdu2GUBu27Zt27YZQG7btm3bthlAbtu2bdu2GUBu27Zt27YZQG7btm3bthlAbtu2bdu2GUBu27Zt27YZQG7btm3bthlAbtu2bdu2GUBu27Zt27YZQG7btm3bthlAnYKXU/ByGkCdgpdT8HIaQJ2Cl1PwchpAnYKXU/ByGkCdgpdT8HIaQJ2Cl1PwchpAnYKXU/ByGkCdgpdT8HIaQJ2Cl1PwchpAnYKXU/ByGkCdgpdT8HIaQJ2Cl1PwchpAnYKXU/ByGkCdgpdT8HIaQJ2Cl1PwchpAnYKXU/ByGkCdgpdT8HIaQJ2Cl1PwchpAnYKXU/ByGkCdgpdT8HIaQJ2Cl1PwchpAnYKXU/ByGkCdgpdT8HIaQJ2Cl1PwchpAnYKXU/ByGkCdgpdT8HIaQJ2Cl1PwchpAnYKXU/ByGkCdgpdT8HIaQJ2Cl1PwchpAnYKXU/ByGkCdgpdT8HIaQJ2Cl1PwchpAnYKXU/ByGkCdgpdT8HIaQJ2Cl1PwchpAnYKXU/ByGkCdgpdT8HIaQJ2Cl1PwchpAnYKXU/ByGkCdgpdT8HIaQJ2Cl1PwchpAnYKXU/ByGkCdgpdT8HIaQJ2Cl1PwchpAnYKXU/ByGkCdgpdT8HIaQJ2Cl1PwchpAnYKXU/ByGkCdgpdT8HIaQMwpeDkFLxtAzCl4OQUvG0DMKXg5BS8bQMwpeDkFLxtAzCl4OQUvG0DMKXg5BS8bQMwpeDkFLxtAzCl4OQUvG0DMKXg5BS8bQMwpeDkFLxtAzCl4OQUvG0DMKXg5BS8bQMwpeDkFLxtAzCl4OQUvG0DMKXg5BS8bQMwpeDkFLxtAzCl4OQUvG0DMKXg5BS8bQMwpeDkFLxtAzCl4OQUvG0DMKXg5BS8bQMwpeDkFLxtAzCl4OQUvG0DMKXg5BS8bQMwpeDkFLxtAzCl4OQUvG0DMKXg5BS8bQMwpeDkFLxtAzCl4OQUvG0DMKXg5BS8bQMwpeDkFLxtAzCl4OQUvG0DMKXg5BS8bQMwpeDkFLxtAzCl4OQUvG0DMKXg5BS8bQMwpeDkFLxtAzCl4OQUvG0DMKXg5BS8bQMwpeDkFLxtAzCl4OQUvG0DMKXg5BS8bQMwpeDkFLxtAzCl4OQUvG0DMKXg5BS8bQMwpeDkFLxtAzCl4OQUvG0DMKXg5BS8bQMwpeDkFLxtAzCl4OQUvG0D70FgfGusbQPvQWB8a6xtA+9BYHxrrG0D70FgfGusbQPvQWB8a6xtA+9BYHxrrG0D70FgfGusbQPvQWB8a6xtA+9BYHxrrG0D70FgfGusbQPvQWB8a6xtA+9BYHxrrG0D70FgfGusbQPvQWB8a6xtA+9BYHxrrG0D70FgfGusbQPvQWB8a6xtA+9BYHxrrG0D70FgfGusbQPvQWB8a6xtA+9BYHxrrG0D70FgfGusbQPvQWB8a6xtA+9BYHxrrG0D70FgfGusbQPvQWB8a6xtA+9BYHxrrG0D70FgfGusbQPvQWB8a6xtA+9BYHxrrG0D70FgfGusbQPvQWB8a6xtA+9BYHxrrG0D70FgfGusbQPvQWB8a6xtA+9BYHxrrG0D70FgfGusbQPvQWB8a6xtA+9BYHxrrG0D70FgfGusbQPvQWB8a6xtA+9BYHxrrG0D70FgfGusbQPvQWB8a6xtA+9BYHxrrG0D70FgfGusbQPvQWB8a6xtA+9BYHxrrG0D70FgfGusbQPvQWB8a6xtAKng5BS+nHEAqeDkFL6ccQCp4OQUvpxxAKng5BS+nHEAqeDkFL6ccQCp4OQUvpxxAKng5BS+nHEAqeDkFL6ccQCp4OQUvpxxAKng5BS+nHEAqeDkFL6ccQCp4OQUvpxxAKng5BS+nHEAqeDkFL6ccQCp4OQUvpxxAKng5BS+nHEAqeDkFL6ccQCp4OQUvpxxAKng5BS+nHEAqeDkFL6ccQCp4OQUvpxxAKng5BS+nHEAqeDkFL6ccQCp4OQUvpxxAKng5BS+nHEAqeDkFL6ccQCp4OQUvpxxAKng5BS+nHEAqeDkFL6ccQCp4OQUvpxxAKng5BS+nHEAqeDkFL6ccQCp4OQUvpxxAKng5BS+nHEAqeDkFL6ccQCp4OQUvpxxAKng5BS+nHEAqeDkFL6ccQCp4OQUvpxxAKng5BS+nHEAqeDkFL6ccQCp4OQUvpxxAKng5BS+nHEAqeDkFL6ccQCp4OQUvpxxAKng5BS+nHEAqeDkFL6ccQCp4OQUvpxxAKng5BS+nHEAqeDkFL6ccQFkfGutDYx1AWR8a60NjHUBZHxrrQ2MdQFkfGutDYx1AWR8a60NjHUBZHxrrQ2MdQFkfGutDYx1AWR8a60NjHUBZHxrrQ2MdQFkfGutDYx1AWR8a60NjHUBZHxrrQ2MdQFkfGutDYx1AWR8a60NjHUBZHxrrQ2MdQFkfGutDYx1AWR8a60NjHUBZHxrrQ2MdQFkfGutDYx1AWR8a60NjHUBZHxrrQ2MdQFkfGutDYx1AWR8a60NjHUBZHxrrQ2MdQFkfGutDYx1AWR8a60NjHUBZHxrrQ2MdQFkfGutDYx1AWR8a60NjHUBZHxrrQ2MdQFkfGutDYx1AWR8a60NjHUBZHxrrQ2MdQFkfGutDYx1AWR8a60NjHUBZHxrrQ2MdQFkfGutDYx1AWR8a60NjHUBZHxrrQ2MdQFkfGutDYx1AWR8a60NjHUBZHxrrQ2MdQFkfGutDYx1AWR8a60NjHUBZHxrrQ2MdQFkfGutDYx1AWR8a60NjHUBZHxrrQ2MdQFkfGutDYx1AWR8a60NjHUCIxvrQWB8eQIjG+tBYHx5AiMb60FgfHkCIxvrQWB8eQIjG+tBYHx5AiMb60FgfHkCIxvrQWB8eQIjG+tBYHx5AiMb60FgfHkCIxvrQWB8eQIjG+tBYHx5AiMb60FgfHkCIxvrQWB8eQIjG+tBYHx5AiMb60FgfHkCIxvrQWB8eQIjG+tBYHx5AiMb60FgfHkCIxvrQWB8eQIjG+tBYHx5AiMb60FgfHkCIxvrQWB8eQIjG+tBYHx5AiMb60FgfHkCIxvrQWB8eQIjG+tBYHx5AiMb60FgfHkCIxvrQWB8eQIjG+tBYHx5AiMb60FgfHkCIxvrQWB8eQIjG+tBYHx5AiMb60FgfHkCIxvrQWB8eQIjG+tBYHx5AiMb60FgfHkCIxvrQWB8eQIjG+tBYHx5AiMb60FgfHkCIxvrQWB8eQIjG+tBYHx5AiMb60FgfHkCIxvrQWB8eQIjG+tBYHx5AiMb60FgfHkCIxvrQWB8eQIjG+tBYHx5AiMb60FgfHkCIxvrQWB8eQIjG+tBYHx5At23btm3bHkC3bdu2bdseQLdt27Zt2x5At23btm3bHkC3bdu2bdseQLdt27Zt2x5At23btm3bHkC3bdu2bdseQLdt27Zt2x5At23btm3bHkC3bdu2bdseQLdt27Zt2x5At23btm3bHkC3bdu2bdseQLdt27Zt2x5At23btm3bHkC3bdu2bdseQLdt27Zt2x5At23btm3bHkC3bdu2bdseQLdt27Zt2x5At23btm3bHkC3bdu2bdseQLdt27Zt2x5At23btm3bHkC3bdu2bdseQLdt27Zt2x5At23btm3bHkC3bdu2bdseQLdt27Zt2x5At23btm3bHkC3bdu2bdseQLdt27Zt2x5At23btm3bHkC3bdu2bdseQLdt27Zt2x5At23btm3bHkC3bdu2bdseQLdt27Zt2x5At23btm3bHkC3bdu2bdseQLdt27Zt2x5At23btm3bHkC3bdu2bdseQLdt27Zt2x5At23btm3bHkC3bdu2bdseQLdt27Zt2x5At23btm3bHkC3bdu2bdseQOYUvJyClx9A5hS8nIKXH0DmFLycgpcfQOYUvJyClx9A5hS8nIKXH0DmFLycgpcfQOYUvJyClx9A5hS8nIKXH0DmFLycgpcfQOYUvJyClx9A5hS8nIKXH0DmFLycgpcfQOYUvJyClx9A5hS8nIKXH0DmFLycgpcfQOYUvJyClx9A5hS8nIKXH0DmFLycgpcfQOYUvJyClx9A5hS8nIKXH0DmFLycgpcfQOYUvJyClx9A5hS8nIKXH0DmFLycgpcfQOYUvJyClx9A5hS8nIKXH0DmFLycgpcfQOYUvJyClx9A5hS8nIKXH0DmFLycgpcfQOYUvJyClx9A5hS8nIKXH0DmFLycgpcfQOYUvJyClx9A5hS8nIKXH0DmFLycgpcfQOYUvJyClx9A5hS8nIKXH0DmFLycgpcfQOYUvJyClx9A5hS8nIKXH0DmFLycgpcfQOYUvJyClx9A5hS8nIKXH0DmFLycgpcfQOYUvJyClx9A5hS8nIKXH0DmFLycgpcfQOYUvJyClx9A5hS8nIKXH0ALXk7ByykgQAteTsHLKSBAC15OwcspIEALXk7ByykgQAteTsHLKSBAC15OwcspIEALXk7ByykgQAteTsHLKSBAC15OwcspIEALXk7ByykgQAteTsHLKSBAC15OwcspIEALXk7ByykgQAteTsHLKSBAC15OwcspIEALXk7ByykgQAteTsHLKSBAC15OwcspIEALXk7ByykgQAteTsHLKSBAC15OwcspIEALXk7ByykgQAteTsHLKSBAC15OwcspIEALXk7ByykgQAteTsHLKSBAC15OwcspIEALXk7ByykgQAteTsHLKSBAC15OwcspIEALXk7ByykgQAteTsHLKSBAC15OwcspIEALXk7ByykgQAteTsHLKSBAC15OwcspIEALXk7ByykgQAteTsHLKSBAC15OwcspIEALXk7ByykgQAteTsHLKSBAC15OwcspIEALXk7ByykgQAteTsHLKSBAC15OwcspIEALXk7ByykgQAteTsHLKSBAC15OwcspIEALXk7ByykgQAteTsHLKSBAorE+NNaHIECisT401ocgQKKxPjTWhyBAorE+NNaHIECisT401ocgQKKxPjTWhyBAorE+NNaHIECisT401ocgQKKxPjTWhyBAorE+NNaHIECisT401ocgQKKxPjTWhyBAorE+NNaHIECisT401ocgQKKxPjTWhyBAorE+NNaHIECisT401ocgQKKxPjTWhyBAorE+NNaHIECisT401ocgQKKxPjTWhyBAorE+NNaHIECisT401ocgQKKxPjTWhyBAorE+NNaHIECisT401ocgQKKxPjTWhyBAorE+NNaHIECisT401ocgQKKxPjTWhyBAorE+NNaHIECisT401ocgQKKxPjTWhyBAorE+NNaHIECisT401ocgQKKxPjTWhyBAorE+NNaHIECisT401ocgQKKxPjTWhyBAorE+NNaHIECisT401ocgQKKxPjTWhyBAorE+NNaHIECisT401ocgQKKxPjTWhyBAorE+NNaHIECisT401ocgQKKxPjTWhyBAorE+NNaHIECisT401ocgQDoFL6fg5SBAOgUvp+DlIEA6BS+n4OUgQDoFL6fg5SBAOgUvp+DlIEA6BS+n4OUgQDoFL6fg5SBAOgUvp+DlIEA6BS+n4OUgQDoFL6fg5SBAOgUvp+DlIEA6BS+n4OUgQDoFL6fg5SBAOgUvp+DlIEA6BS+n4OUgQDoFL6fg5SBAOgUvp+DlIEA6BS+n4OUgQDoFL6fg5SBAOgUvp+DlIEA6BS+n4OUgQDoFL6fg5SBAOgUvp+DlIEA6BS+n4OUgQDoFL6fg5SBAOgUvp+DlIEA6BS+n4OUgQDoFL6fg5SBAOgUvp+DlIEA6BS+n4OUgQDoFL6fg5SBAOgUvp+DlIEA6BS+n4OUgQDoFL6fg5SBAOgUvp+DlIEA6BS+n4OUgQDoFL6fg5SBAOgUvp+DlIEA6BS+n4OUgQDoFL6fg5SBAOgUvp+DlIEA6BS+n4OUgQDoFL6fg5SBAOgUvp+DlIEA6BS+n4OUgQDoFL6fg5SBAOgUvp+DlIEA6BS+n4OUgQDoFL6fg5SBAOgUvp+DlIEDRWB8a60MhQNFYHxrrQyFA0VgfGutDIUDRWB8a60MhQNFYHxrrQyFA0VgfGutDIUDRWB8a60MhQNFYHxrrQyFA0VgfGutDIUDRWB8a60MhQNFYHxrrQyFA0VgfGutDIUDRWB8a60MhQNFYHxrrQyFA0VgfGutDIUDRWB8a60MhQNFYHxrrQyFA0VgfGutDIUDRWB8a60MhQNFYHxrrQyFA0VgfGutDIUDRWB8a60MhQNFYHxrrQyFA0VgfGutDIUDRWB8a60MhQNFYHxrrQyFA0VgfGutDIUDRWB8a60MhQNFYHxrrQyFA0VgfGutDIUDRWB8a60MhQNFYHxrrQyFA0VgfGutDIUDRWB8a60MhQNFYHxrrQyFA0VgfGutDIUDRWB8a60MhQNFYHxrrQyFA0VgfGutDIUDRWB8a60MhQNFYHxrrQyFA0VgfGutDIUDRWB8a60MhQNFYHxrrQyFA0VgfGutDIUDRWB8a60MhQNFYHxrrQyFA0VgfGutDIUDRWB8a60MhQNFYHxrrQyFAaawPjfWhIUBprA+N9aEhQGmsD431oSFAaawPjfWhIUBprA+N9aEhQGmsD431oSFAaawPjfWhIUBprA+N9aEhQGmsD431oSFAaawPjfWhIUBprA+N9aEhQGmsD431oSFAaawPjfWhIUBprA+N9aEhQGmsD431oSFAaawPjfWhIUBprA+N9aEhQGmsD431oSFAaawPjfWhIUBprA+N9aEhQGmsD431oSFAaawPjfWhIUBprA+N9aEhQGmsD431oSFAaawPjfWhIUBprA+N9aEhQGmsD431oSFAaawPjfWhIUBprA+N9aEhQGmsD431oSFAaawPjfWhIUBprA+N9aEhQGmsD431oSFAaawPjfWhIUBprA+N9aEhQGmsD431oSFAaawPjfWhIUBprA+N9aEhQGmsD431oSFAaawPjfWhIUBprA+N9aEhQGmsD431oSFAaawPjfWhIUBprA+N9aEhQGmsD431oSFAaawPjfWhIUBprA+N9aEhQGmsD431oSFAaawPjfWhIUBprA+N9aEhQAAAAAAAACJAAAAAAAAAIkAAAAAAAAAiQAAAAAAAACJAAAAAAAAAIkAAAAAAAAAiQAAAAAAAACJAAAAAAAAAIkAAAAAAAAAiQAAAAAAAACJAAAAAAAAAIkAAAAAAAAAiQAAAAAAAACJAAAAAAAAAIkAAAAAAAAAiQAAAAAAAACJAAAAAAAAAIkAAAAAAAAAiQAAAAAAAACJAAAAAAAAAIkAAAAAAAAAiQAAAAAAAACJAAAAAAAAAIkAAAAAAAAAiQAAAAAAAACJAAAAAAAAAIkAAAAAAAAAiQAAAAAAAACJAAAAAAAAAIkAAAAAAAAAiQAAAAAAAACJAAAAAAAAAIkAAAAAAAAAiQAAAAAAAACJAAAAAAAAAIkAAAAAAAAAiQAAAAAAAACJAAAAAAAAAIkAAAAAAAAAiQAAAAAAAACJAAAAAAAAAIkAAAAAAAAAiQAAAAAAAACJAAAAAAAAAIkAAAAAAAAAiQAAAAAAAACJAAAAAAAAAIkAAAAAAAAAiQAAAAAAAACJAAAAAAAAAIkA=",
          "shape": "50, 50"
         },
         "type": "surface"
        }
       ],
       "layout": {
        "legend": {
         "itemsizing": "constant",
         "tracegroupgap": 0
        },
        "margin": {
         "t": 60
        },
        "scene": {
         "domain": {
          "x": [
           0.0,
           1.0
          ],
          "y": [
           0.0,
           1.0
          ]
         },
         "xaxis": {
          "showgrid": false,
          "title": {
           "text": "V00FMAMBMLOAD"
          }
         },
         "yaxis": {
          "showgrid": false,
          "title": {
           "text": "V00FMCMBMLOAD"
          }
         },
         "zaxis": {
          "showgrid": false,
          "title": {
           "text": "V00FMPMBMLOAD"
          }
         }
        },
        "template": {
         "data": {
          "barpolar": [
           {
            "marker": {
             "line": {
              "color": "rgb(17,17,17)",
              "width": 0.5
             },
             "pattern": {
              "fillmode": "overlay",
              "size": 10,
              "solidity": 0.2
             }
            },
            "type": "barpolar"
           }
          ],
          "bar": [
           {
            "error_x": {
             "color": "#f2f5fa"
            },
            "error_y": {
             "color": "#f2f5fa"
            },
            "marker": {
             "line": {
              "color": "rgb(17,17,17)",
              "width": 0.5
             },
             "pattern": {
              "fillmode": "overlay",
              "size": 10,
              "solidity": 0.2
             }
            },
            "type": "bar"
           }
          ],
          "carpet": [
           {
            "aaxis": {
             "endlinecolor": "#A2B1C6",
             "gridcolor": "#506784",
             "linecolor": "#506784",
             "minorgridcolor": "#506784",
             "startlinecolor": "#A2B1C6"
            },
            "baxis": {
             "endlinecolor": "#A2B1C6",
             "gridcolor": "#506784",
             "linecolor": "#506784",
             "minorgridcolor": "#506784",
             "startlinecolor": "#A2B1C6"
            },
            "type": "carpet"
           }
          ],
          "choropleth": [
           {
            "colorbar": {
             "outlinewidth": 0,
             "ticks": ""
            },
            "type": "choropleth"
           }
          ],
          "contourcarpet": [
           {
            "colorbar": {
             "outlinewidth": 0,
             "ticks": ""
            },
            "type": "contourcarpet"
           }
          ],
          "contour": [
           {
            "colorbar": {
             "outlinewidth": 0,
             "ticks": ""
            },
            "colorscale": [
             [
              0.0,
              "#0d0887"
             ],
             [
              0.1111111111111111,
              "#46039f"
             ],
             [
              0.2222222222222222,
              "#7201a8"
             ],
             [
              0.3333333333333333,
              "#9c179e"
             ],
             [
              0.4444444444444444,
              "#bd3786"
             ],
             [
              0.5555555555555556,
              "#d8576b"
             ],
             [
              0.6666666666666666,
              "#ed7953"
             ],
             [
              0.7777777777777778,
              "#fb9f3a"
             ],
             [
              0.8888888888888888,
              "#fdca26"
             ],
             [
              1.0,
              "#f0f921"
             ]
            ],
            "type": "contour"
           }
          ],
          "heatmap": [
           {
            "colorbar": {
             "outlinewidth": 0,
             "ticks": ""
            },
            "colorscale": [
             [
              0.0,
              "#0d0887"
             ],
             [
              0.1111111111111111,
              "#46039f"
             ],
             [
              0.2222222222222222,
              "#7201a8"
             ],
             [
              0.3333333333333333,
              "#9c179e"
             ],
             [
              0.4444444444444444,
              "#bd3786"
             ],
             [
              0.5555555555555556,
              "#d8576b"
             ],
             [
              0.6666666666666666,
              "#ed7953"
             ],
             [
              0.7777777777777778,
              "#fb9f3a"
             ],
             [
              0.8888888888888888,
              "#fdca26"
             ],
             [
              1.0,
              "#f0f921"
             ]
            ],
            "type": "heatmap"
           }
          ],
          "histogram2dcontour": [
           {
            "colorbar": {
             "outlinewidth": 0,
             "ticks": ""
            },
            "colorscale": [
             [
              0.0,
              "#0d0887"
             ],
             [
              0.1111111111111111,
              "#46039f"
             ],
             [
              0.2222222222222222,
              "#7201a8"
             ],
             [
              0.3333333333333333,
              "#9c179e"
             ],
             [
              0.4444444444444444,
              "#bd3786"
             ],
             [
              0.5555555555555556,
              "#d8576b"
             ],
             [
              0.6666666666666666,
              "#ed7953"
             ],
             [
              0.7777777777777778,
              "#fb9f3a"
             ],
             [
              0.8888888888888888,
              "#fdca26"
             ],
             [
              1.0,
              "#f0f921"
             ]
            ],
            "type": "histogram2dcontour"
           }
          ],
          "histogram2d": [
           {
            "colorbar": {
             "outlinewidth": 0,
             "ticks": ""
            },
            "colorscale": [
             [
              0.0,
              "#0d0887"
             ],
             [
              0.1111111111111111,
              "#46039f"
             ],
             [
              0.2222222222222222,
              "#7201a8"
             ],
             [
              0.3333333333333333,
              "#9c179e"
             ],
             [
              0.4444444444444444,
              "#bd3786"
             ],
             [
              0.5555555555555556,
              "#d8576b"
             ],
             [
              0.6666666666666666,
              "#ed7953"
             ],
             [
              0.7777777777777778,
              "#fb9f3a"
             ],
             [
              0.8888888888888888,
              "#fdca26"
             ],
             [
              1.0,
              "#f0f921"
             ]
            ],
            "type": "histogram2d"
           }
          ],
          "histogram": [
           {
            "marker": {
             "pattern": {
              "fillmode": "overlay",
              "size": 10,
              "solidity": 0.2
             }
            },
            "type": "histogram"
           }
          ],
          "mesh3d": [
           {
            "colorbar": {
             "outlinewidth": 0,
             "ticks": ""
            },
            "type": "mesh3d"
           }
          ],
          "parcoords": [
           {
            "line": {
             "colorbar": {
              "outlinewidth": 0,
              "ticks": ""
             }
            },
            "type": "parcoords"
           }
          ],
          "pie": [
           {
            "automargin": true,
            "type": "pie"
           }
          ],
          "scatter3d": [
           {
            "line": {
             "colorbar": {
              "outlinewidth": 0,
              "ticks": ""
             }
            },
            "marker": {
             "colorbar": {
              "outlinewidth": 0,
              "ticks": ""
             }
            },
            "type": "scatter3d"
           }
          ],
          "scattercarpet": [
           {
            "marker": {
             "colorbar": {
              "outlinewidth": 0,
              "ticks": ""
             }
            },
            "type": "scattercarpet"
           }
          ],
          "scattergeo": [
           {
            "marker": {
             "colorbar": {
              "outlinewidth": 0,
              "ticks": ""
             }
            },
            "type": "scattergeo"
           }
          ],
          "scattergl": [
           {
            "marker": {
             "line": {
              "color": "#283442"
             }
            },
            "type": "scattergl"
           }
          ],
          "scattermapbox": [
           {
            "marker": {
             "colorbar": {
              "outlinewidth": 0,
              "ticks": ""
             }
            },
            "type": "scattermapbox"
           }
          ],
          "scattermap": [
           {
            "marker": {
             "colorbar": {
              "outlinewidth": 0,
              "ticks": ""
             }
            },
            "type": "scattermap"
           }
          ],
          "scatterpolargl": [
           {
            "marker": {
             "colorbar": {
              "outlinewidth": 0,
              "ticks": ""
             }
            },
            "type": "scatterpolargl"
           }
          ],
          "scatterpolar": [
           {
            "marker": {
             "colorbar": {
              "outlinewidth": 0,
              "ticks": ""
             }
            },
            "type": "scatterpolar"
           }
          ],
          "scatter": [
           {
            "marker": {
             "line": {
              "color": "#283442"
             }
            },
            "type": "scatter"
           }
          ],
          "scatterternary": [
           {
            "marker": {
             "colorbar": {
              "outlinewidth": 0,
              "ticks": ""
             }
            },
            "type": "scatterternary"
           }
          ],
          "surface": [
           {
            "colorbar": {
             "outlinewidth": 0,
             "ticks": ""
            },
            "colorscale": [
             [
              0.0,
              "#0d0887"
             ],
             [
              0.1111111111111111,
              "#46039f"
             ],
             [
              0.2222222222222222,
              "#7201a8"
             ],
             [
              0.3333333333333333,
              "#9c179e"
             ],
             [
              0.4444444444444444,
              "#bd3786"
             ],
             [
              0.5555555555555556,
              "#d8576b"
             ],
             [
              0.6666666666666666,
              "#ed7953"
             ],
             [
              0.7777777777777778,
              "#fb9f3a"
             ],
             [
              0.8888888888888888,
              "#fdca26"
             ],
             [
              1.0,
              "#f0f921"
             ]
            ],
            "type": "surface"
           }
          ],
          "table": [
           {
            "cells": {
             "fill": {
              "color": "#506784"
             },
             "line": {
              "color": "rgb(17,17,17)"
             }
            },
            "header": {
             "fill": {
              "color": "#2a3f5f"
             },
             "line": {
              "color": "rgb(17,17,17)"
             }
            },
            "type": "table"
           }
          ]
         },
         "layout": {
          "annotationdefaults": {
           "arrowcolor": "#f2f5fa",
           "arrowhead": 0,
           "arrowwidth": 1
          },
          "autotypenumbers": "strict",
          "coloraxis": {
           "colorbar": {
            "outlinewidth": 0,
            "ticks": ""
           }
          },
          "colorscale": {
           "diverging": [
            [
             0,
             "#8e0152"
            ],
            [
             0.1,
             "#c51b7d"
            ],
            [
             0.2,
             "#de77ae"
            ],
            [
             0.3,
             "#f1b6da"
            ],
            [
             0.4,
             "#fde0ef"
            ],
            [
             0.5,
             "#f7f7f7"
            ],
            [
             0.6,
             "#e6f5d0"
            ],
            [
             0.7,
             "#b8e186"
            ],
            [
             0.8,
             "#7fbc41"
            ],
            [
             0.9,
             "#4d9221"
            ],
            [
             1,
             "#276419"
            ]
           ],
           "sequential": [
            [
             0.0,
             "#0d0887"
            ],
            [
             0.1111111111111111,
             "#46039f"
            ],
            [
             0.2222222222222222,
             "#7201a8"
            ],
            [
             0.3333333333333333,
             "#9c179e"
            ],
            [
             0.4444444444444444,
             "#bd3786"
            ],
            [
             0.5555555555555556,
             "#d8576b"
            ],
            [
             0.6666666666666666,
             "#ed7953"
            ],
            [
             0.7777777777777778,
             "#fb9f3a"
            ],
            [
             0.8888888888888888,
             "#fdca26"
            ],
            [
             1.0,
             "#f0f921"
            ]
           ],
           "sequentialminus": [
            [
             0.0,
             "#0d0887"
            ],
            [
             0.1111111111111111,
             "#46039f"
            ],
            [
             0.2222222222222222,
             "#7201a8"
            ],
            [
             0.3333333333333333,
             "#9c179e"
            ],
            [
             0.4444444444444444,
             "#bd3786"
            ],
            [
             0.5555555555555556,
             "#d8576b"
            ],
            [
             0.6666666666666666,
             "#ed7953"
            ],
            [
             0.7777777777777778,
             "#fb9f3a"
            ],
            [
             0.8888888888888888,
             "#fdca26"
            ],
            [
             1.0,
             "#f0f921"
            ]
           ]
          },
          "colorway": [
           "#636efa",
           "#EF553B",
           "#00cc96",
           "#ab63fa",
           "#FFA15A",
           "#19d3f3",
           "#FF6692",
           "#B6E880",
           "#FF97FF",
           "#FECB52"
          ],
          "font": {
           "color": "#f2f5fa"
          },
          "geo": {
           "bgcolor": "rgb(17,17,17)",
           "lakecolor": "rgb(17,17,17)",
           "landcolor": "rgb(17,17,17)",
           "showlakes": true,
           "showland": true,
           "subunitcolor": "#506784"
          },
          "hoverlabel": {
           "align": "left"
          },
          "hovermode": "closest",
          "mapbox": {
           "style": "dark"
          },
          "paper_bgcolor": "rgb(17,17,17)",
          "plot_bgcolor": "rgb(17,17,17)",
          "polar": {
           "angularaxis": {
            "gridcolor": "#506784",
            "linecolor": "#506784",
            "ticks": ""
           },
           "bgcolor": "rgb(17,17,17)",
           "radialaxis": {
            "gridcolor": "#506784",
            "linecolor": "#506784",
            "ticks": ""
           }
          },
          "scene": {
           "xaxis": {
            "backgroundcolor": "rgb(17,17,17)",
            "gridcolor": "#506784",
            "gridwidth": 2,
            "linecolor": "#506784",
            "showbackground": true,
            "ticks": "",
            "zerolinecolor": "#C8D4E3"
           },
           "yaxis": {
            "backgroundcolor": "rgb(17,17,17)",
            "gridcolor": "#506784",
            "gridwidth": 2,
            "linecolor": "#506784",
            "showbackground": true,
            "ticks": "",
            "zerolinecolor": "#C8D4E3"
           },
           "zaxis": {
            "backgroundcolor": "rgb(17,17,17)",
            "gridcolor": "#506784",
            "gridwidth": 2,
            "linecolor": "#506784",
            "showbackground": true,
            "ticks": "",
            "zerolinecolor": "#C8D4E3"
           }
          },
          "shapedefaults": {
           "line": {
            "color": "#f2f5fa"
           }
          },
          "sliderdefaults": {
           "bgcolor": "#C8D4E3",
           "bordercolor": "rgb(17,17,17)",
           "borderwidth": 1,
           "tickwidth": 0
          },
          "ternary": {
           "aaxis": {
            "gridcolor": "#506784",
            "linecolor": "#506784",
            "ticks": ""
           },
           "baxis": {
            "gridcolor": "#506784",
            "linecolor": "#506784",
            "ticks": ""
           },
           "bgcolor": "rgb(17,17,17)",
           "caxis": {
            "gridcolor": "#506784",
            "linecolor": "#506784",
            "ticks": ""
           }
          },
          "title": {
           "x": 0.05
          },
          "updatemenudefaults": {
           "bgcolor": "#506784",
           "borderwidth": 0
          },
          "xaxis": {
           "automargin": true,
           "gridcolor": "#283442",
           "linecolor": "#506784",
           "ticks": "",
           "title": {
            "standoff": 15
           },
           "zerolinecolor": "#283442",
           "zerolinewidth": 2
          },
          "yaxis": {
           "automargin": true,
           "gridcolor": "#283442",
           "linecolor": "#506784",
           "ticks": "",
           "title": {
            "standoff": 15
           },
           "zerolinecolor": "#283442",
           "zerolinewidth": 2
          }
         }
        },
        "title": {
         "text": "V00FMPMBMLOAD ~ V00FMAMBMLOAD + V00FMCMBMLOAD + I(V00FMAMBMLOAD**2) + I(V00FMCMBMLOAD**2) + I(V00FMAMBMLOAD**3) + I(V00FMCMBMLOAD**3)",
         "x": 0.5,
         "xanchor": "center"
        }
       },
       "config": {
        "plotlyServerURL": "https://plot.ly"
       }
      }
     },
     "metadata": {},
     "output_type": "display_data"
    }
   ],
   "execution_count": 4
  }
 ],
 "metadata": {
  "kernelspec": {
   "display_name": "Python 3",
   "language": "python",
   "name": "python3"
  },
  "language_info": {
   "codemirror_mode": {
    "name": "ipython",
    "version": 2
   },
   "file_extension": ".py",
   "mimetype": "text/x-python",
   "name": "python",
   "nbconvert_exporter": "python",
   "pygments_lexer": "ipython2",
   "version": "2.7.6"
  }
 },
 "nbformat": 4,
 "nbformat_minor": 5
}
