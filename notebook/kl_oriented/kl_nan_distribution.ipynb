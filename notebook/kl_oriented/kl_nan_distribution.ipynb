{
 "cells": [
  {
   "metadata": {},
   "cell_type": "markdown",
   "source": "# K-L NaN Distribution",
   "id": "bc9bb9b5e80d4b20"
  },
  {
   "metadata": {},
   "cell_type": "markdown",
   "source": "Here, the moaks_shared_kl_df (the intersection of ID,SIDE, or unique knee, between V00_moaks, V01_moaks, V01_kl and V03_kl) is analysed on the total number of rows with and without missing values in at least one MOAKS/K-L variable. This dataframe contains 5739 unique knees across four timepoints and two tests.",
   "id": "b102749c0c403d1b"
  },
  {
   "cell_type": "code",
   "id": "initial_id",
   "metadata": {
    "collapsed": true,
    "ExecuteTime": {
     "end_time": "2025-08-17T18:15:07.051953Z",
     "start_time": "2025-08-17T18:15:07.041182Z"
    }
   },
   "source": [
    "# -- import the shared moaks-kl dataframe -- #\n",
    "from config import moaks_shared_kl_df\n",
    "\n",
    "# -- calculate the total number of rows -- #\n",
    "num_rows = len(moaks_shared_kl_df)\n",
    "# -- calculate the sum of rows that include at least one NaN value -- #\n",
    "num_nan_rows = moaks_shared_kl_df.isna().any(axis=1).sum()\n",
    "# -- calculate the difference -- #\n",
    "num_non_nan_rows = num_rows - num_nan_rows\n",
    "\n",
    "print(f'Number of unique knees in the shared dataframe: {num_rows}')\n",
    "print(f'Number of unique knees with at least one missing value for a variable: {num_nan_rows} ({num_nan_rows / num_rows * 100:.2f}%)')\n",
    "print(f'Number of unique knees with no missing value for a variable: {num_non_nan_rows} ({num_non_nan_rows / num_rows * 100:.2f}%)')"
   ],
   "outputs": [
    {
     "name": "stdout",
     "output_type": "stream",
     "text": [
      "Number of unique knees in the shared dataframe: 5739\n",
      "Number of unique knees with at least one missing value for a variable: 2860 (49.83%)\n",
      "Number of unique knees with no missing value for a variable: 2879 (50.17%)\n"
     ]
    }
   ],
   "execution_count": 9
  },
  {
   "metadata": {},
   "cell_type": "markdown",
   "source": "Since the number of unique knees wih no missing values for at least one MOAKS/KL test is 2036, we can either drop the NaN rows as to not complicate analysis, or use a method of imputation.",
   "id": "1bfcc376ede89c19"
  },
  {
   "metadata": {
    "ExecuteTime": {
     "end_time": "2025-08-17T18:15:13.735930Z",
     "start_time": "2025-08-17T18:15:13.733409Z"
    }
   },
   "cell_type": "code",
   "source": [
    "from missing_imputation import moaks_shared_kl_drop_df, moaks_shared_kl_median_df\n",
    "\n",
    "print(f'Shape of dataframe with dropping NaN values: {moaks_shared_kl_drop_df.shape}')\n",
    "print(f'Shape of dataframe with median imputation of NaN values: {moaks_shared_kl_median_df.shape}')"
   ],
   "id": "c4ae849a47416f69",
   "outputs": [
    {
     "name": "stdout",
     "output_type": "stream",
     "text": [
      "Shape of dataframe with dropping NaN values: (2879, 94)\n",
      "Shape of dataframe with median imputation of NaN values: (5739, 94)\n"
     ]
    }
   ],
   "execution_count": 11
  },
  {
   "metadata": {
    "ExecuteTime": {
     "end_time": "2025-08-17T18:04:56.062086Z",
     "start_time": "2025-08-17T18:04:56.054468Z"
    }
   },
   "cell_type": "code",
   "source": [
    "from IPython.display import display\n",
    "from missing_imputation import moaks_shared_kl_median_table\n",
    "\n",
    "display(moaks_shared_kl_median_table)"
   ],
   "id": "bdac678d8cdc38a9",
   "outputs": [
    {
     "data": {
      "text/plain": [
       "               91       90          57         66          65          64  \\\n",
       "Variable  V03XRKL  V01XRKL  V01MBMSTLP  V01MBMPSS  V01MBMPFLP  V01MBMPFMP   \n",
       "Median        1.0      1.0         0.0        0.0         0.0         0.0   \n",
       "\n",
       "                  63          62          61          60  ...          33  \\\n",
       "Variable  V01MBMPFLC  V01MBMPFMC  V01MBMPFLA  V01MBMPFMA  ...  V00MBMNFLC   \n",
       "Median           0.0         0.0         0.0         0.0  ...         0.0   \n",
       "\n",
       "                  32          31          30         29         28  \\\n",
       "Variable  V00MBMNFMC  V00MBMNFLA  V00MBMNFMA  V00MBMPPL  V00MBMPPM   \n",
       "Median           0.0         0.0         0.0        0.0        0.0   \n",
       "\n",
       "                  27          26          25          46  \n",
       "Variable  V00MBMPTLP  V00MBMPTMP  V00MBMPTLC  V01MBMSFLA  \n",
       "Median           0.0         0.0         0.0         0.0  \n",
       "\n",
       "[2 rows x 92 columns]"
      ],
      "text/html": [
       "<div>\n",
       "<style scoped>\n",
       "    .dataframe tbody tr th:only-of-type {\n",
       "        vertical-align: middle;\n",
       "    }\n",
       "\n",
       "    .dataframe tbody tr th {\n",
       "        vertical-align: top;\n",
       "    }\n",
       "\n",
       "    .dataframe thead th {\n",
       "        text-align: right;\n",
       "    }\n",
       "</style>\n",
       "<table border=\"1\" class=\"dataframe\">\n",
       "  <thead>\n",
       "    <tr style=\"text-align: right;\">\n",
       "      <th></th>\n",
       "      <th>91</th>\n",
       "      <th>90</th>\n",
       "      <th>57</th>\n",
       "      <th>66</th>\n",
       "      <th>65</th>\n",
       "      <th>64</th>\n",
       "      <th>63</th>\n",
       "      <th>62</th>\n",
       "      <th>61</th>\n",
       "      <th>60</th>\n",
       "      <th>...</th>\n",
       "      <th>33</th>\n",
       "      <th>32</th>\n",
       "      <th>31</th>\n",
       "      <th>30</th>\n",
       "      <th>29</th>\n",
       "      <th>28</th>\n",
       "      <th>27</th>\n",
       "      <th>26</th>\n",
       "      <th>25</th>\n",
       "      <th>46</th>\n",
       "    </tr>\n",
       "  </thead>\n",
       "  <tbody>\n",
       "    <tr>\n",
       "      <th>Variable</th>\n",
       "      <td>V03XRKL</td>\n",
       "      <td>V01XRKL</td>\n",
       "      <td>V01MBMSTLP</td>\n",
       "      <td>V01MBMPSS</td>\n",
       "      <td>V01MBMPFLP</td>\n",
       "      <td>V01MBMPFMP</td>\n",
       "      <td>V01MBMPFLC</td>\n",
       "      <td>V01MBMPFMC</td>\n",
       "      <td>V01MBMPFLA</td>\n",
       "      <td>V01MBMPFMA</td>\n",
       "      <td>...</td>\n",
       "      <td>V00MBMNFLC</td>\n",
       "      <td>V00MBMNFMC</td>\n",
       "      <td>V00MBMNFLA</td>\n",
       "      <td>V00MBMNFMA</td>\n",
       "      <td>V00MBMPPL</td>\n",
       "      <td>V00MBMPPM</td>\n",
       "      <td>V00MBMPTLP</td>\n",
       "      <td>V00MBMPTMP</td>\n",
       "      <td>V00MBMPTLC</td>\n",
       "      <td>V01MBMSFLA</td>\n",
       "    </tr>\n",
       "    <tr>\n",
       "      <th>Median</th>\n",
       "      <td>1.0</td>\n",
       "      <td>1.0</td>\n",
       "      <td>0.0</td>\n",
       "      <td>0.0</td>\n",
       "      <td>0.0</td>\n",
       "      <td>0.0</td>\n",
       "      <td>0.0</td>\n",
       "      <td>0.0</td>\n",
       "      <td>0.0</td>\n",
       "      <td>0.0</td>\n",
       "      <td>...</td>\n",
       "      <td>0.0</td>\n",
       "      <td>0.0</td>\n",
       "      <td>0.0</td>\n",
       "      <td>0.0</td>\n",
       "      <td>0.0</td>\n",
       "      <td>0.0</td>\n",
       "      <td>0.0</td>\n",
       "      <td>0.0</td>\n",
       "      <td>0.0</td>\n",
       "      <td>0.0</td>\n",
       "    </tr>\n",
       "  </tbody>\n",
       "</table>\n",
       "<p>2 rows × 92 columns</p>\n",
       "</div>"
      ]
     },
     "metadata": {},
     "output_type": "display_data"
    }
   ],
   "execution_count": 8
  }
 ],
 "metadata": {
  "kernelspec": {
   "display_name": "Python 3",
   "language": "python",
   "name": "python3"
  },
  "language_info": {
   "codemirror_mode": {
    "name": "ipython",
    "version": 2
   },
   "file_extension": ".py",
   "mimetype": "text/x-python",
   "name": "python",
   "nbconvert_exporter": "python",
   "pygments_lexer": "ipython2",
   "version": "2.7.6"
  }
 },
 "nbformat": 4,
 "nbformat_minor": 5
}
