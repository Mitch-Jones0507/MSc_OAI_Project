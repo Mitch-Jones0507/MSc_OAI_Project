{
 "cells": [
  {
   "metadata": {},
   "cell_type": "markdown",
   "source": "# FM Relationships",
   "id": "33b3e8291a4d4483"
  },
  {
   "cell_type": "code",
   "id": "initial_id",
   "metadata": {
    "collapsed": true,
    "ExecuteTime": {
     "end_time": "2025-08-12T16:50:44.394657Z",
     "start_time": "2025-08-12T16:50:41.824037Z"
    }
   },
   "source": [
    "from modules.plot_moaks_data import plot_moaks_data\n",
    "from scripts.fm.fm_relationships import v00_moaks_shared_kl_fma, v00_moaks_shared_kl_fmc, v00_moaks_shared_kl_fmp\n",
    "\n",
    "moaks_3d_fma_scatter = plot_moaks_data(v00_moaks_shared_kl_fma)\n",
    "moaks_3d_fma_scatter.show()"
   ],
   "outputs": [
    {
     "data": {
      "application/vnd.plotly.v1+json": {
       "data": [
        {
         "hovertemplate": "V00MBMSFMA=%{x}<br>V00MBMNFMA=%{y}<br>V00MBMPFMA=%{z}<br>count=%{marker.size}<extra></extra>",
         "legendgroup": "",
         "marker": {
          "color": "#636efa",
          "opacity": 0.8,
          "size": {
           "dtype": "i2",
           "bdata": "GQkBAAEABgADAF8AFwArAAUBBwABAAYADgABAAIACgAGAAoAIQAEAAIAAgABAAkACQABAA=="
          },
          "sizemode": "area",
          "sizeref": 1.455625,
          "symbol": "circle"
         },
         "mode": "markers",
         "name": "",
         "scene": "scene",
         "showlegend": false,
         "x": {
          "dtype": "f8",
          "bdata": "AAAAAAAAAAAAAAAAAAAAAAAAAAAAAAAAAAAAAAAA8D8AAAAAAADwPwAAAAAAAPA/AAAAAAAA8D8AAAAAAADwPwAAAAAAAPA/AAAAAAAA8D8AAAAAAADwPwAAAAAAAPA/AAAAAAAA8D8AAAAAAADwPwAAAAAAAPA/AAAAAAAAAEAAAAAAAAAAQAAAAAAAAABAAAAAAAAAAEAAAAAAAAAAQAAAAAAAAABAAAAAAAAACEAAAAAAAAAIQAAAAAAAAAhAAAAAAAAACEAAAAAAAAAIQA=="
         },
         "y": {
          "dtype": "f8",
          "bdata": "AAAAAAAAAAAAAAAAAAAAAAAAAAAAAPA/AAAAAAAAAAAAAAAAAAAAAAAAAAAAAPA/AAAAAAAA8D8AAAAAAADwPwAAAAAAAPA/AAAAAAAAAEAAAAAAAAAAQAAAAAAAAABAAAAAAAAAAEAAAAAAAAAIQAAAAAAAAAhAAAAAAAAA8D8AAAAAAADwPwAAAAAAAPA/AAAAAAAA8D8AAAAAAAAAQAAAAAAAAABAAAAAAAAA8D8AAAAAAADwPwAAAAAAAPA/AAAAAAAA8D8AAAAAAAAAQA=="
         },
         "z": {
          "dtype": "f8",
          "bdata": "AAAAAAAAAAAAAAAAAAAAQAAAAAAAAAAAAAAAAAAAAAAAAAAAAAAIQAAAAAAAAAAAAAAAAAAA8D8AAAAAAAAAQAAAAAAAAAhAAAAAAAAAAAAAAAAAAADwPwAAAAAAAABAAAAAAAAACEAAAAAAAAAAQAAAAAAAAAhAAAAAAAAAAAAAAAAAAADwPwAAAAAAAABAAAAAAAAACEAAAAAAAAAAQAAAAAAAAAhAAAAAAAAAAAAAAAAAAADwPwAAAAAAAABAAAAAAAAACEAAAAAAAAAIQA=="
         },
         "type": "scatter3d"
        }
       ],
       "layout": {
        "template": {
         "data": {
          "histogram2dcontour": [
           {
            "type": "histogram2dcontour",
            "colorbar": {
             "outlinewidth": 0,
             "ticks": ""
            },
            "colorscale": [
             [
              0.0,
              "#0d0887"
             ],
             [
              0.1111111111111111,
              "#46039f"
             ],
             [
              0.2222222222222222,
              "#7201a8"
             ],
             [
              0.3333333333333333,
              "#9c179e"
             ],
             [
              0.4444444444444444,
              "#bd3786"
             ],
             [
              0.5555555555555556,
              "#d8576b"
             ],
             [
              0.6666666666666666,
              "#ed7953"
             ],
             [
              0.7777777777777778,
              "#fb9f3a"
             ],
             [
              0.8888888888888888,
              "#fdca26"
             ],
             [
              1.0,
              "#f0f921"
             ]
            ]
           }
          ],
          "choropleth": [
           {
            "type": "choropleth",
            "colorbar": {
             "outlinewidth": 0,
             "ticks": ""
            }
           }
          ],
          "histogram2d": [
           {
            "type": "histogram2d",
            "colorbar": {
             "outlinewidth": 0,
             "ticks": ""
            },
            "colorscale": [
             [
              0.0,
              "#0d0887"
             ],
             [
              0.1111111111111111,
              "#46039f"
             ],
             [
              0.2222222222222222,
              "#7201a8"
             ],
             [
              0.3333333333333333,
              "#9c179e"
             ],
             [
              0.4444444444444444,
              "#bd3786"
             ],
             [
              0.5555555555555556,
              "#d8576b"
             ],
             [
              0.6666666666666666,
              "#ed7953"
             ],
             [
              0.7777777777777778,
              "#fb9f3a"
             ],
             [
              0.8888888888888888,
              "#fdca26"
             ],
             [
              1.0,
              "#f0f921"
             ]
            ]
           }
          ],
          "heatmap": [
           {
            "type": "heatmap",
            "colorbar": {
             "outlinewidth": 0,
             "ticks": ""
            },
            "colorscale": [
             [
              0.0,
              "#0d0887"
             ],
             [
              0.1111111111111111,
              "#46039f"
             ],
             [
              0.2222222222222222,
              "#7201a8"
             ],
             [
              0.3333333333333333,
              "#9c179e"
             ],
             [
              0.4444444444444444,
              "#bd3786"
             ],
             [
              0.5555555555555556,
              "#d8576b"
             ],
             [
              0.6666666666666666,
              "#ed7953"
             ],
             [
              0.7777777777777778,
              "#fb9f3a"
             ],
             [
              0.8888888888888888,
              "#fdca26"
             ],
             [
              1.0,
              "#f0f921"
             ]
            ]
           }
          ],
          "contourcarpet": [
           {
            "type": "contourcarpet",
            "colorbar": {
             "outlinewidth": 0,
             "ticks": ""
            }
           }
          ],
          "contour": [
           {
            "type": "contour",
            "colorbar": {
             "outlinewidth": 0,
             "ticks": ""
            },
            "colorscale": [
             [
              0.0,
              "#0d0887"
             ],
             [
              0.1111111111111111,
              "#46039f"
             ],
             [
              0.2222222222222222,
              "#7201a8"
             ],
             [
              0.3333333333333333,
              "#9c179e"
             ],
             [
              0.4444444444444444,
              "#bd3786"
             ],
             [
              0.5555555555555556,
              "#d8576b"
             ],
             [
              0.6666666666666666,
              "#ed7953"
             ],
             [
              0.7777777777777778,
              "#fb9f3a"
             ],
             [
              0.8888888888888888,
              "#fdca26"
             ],
             [
              1.0,
              "#f0f921"
             ]
            ]
           }
          ],
          "surface": [
           {
            "type": "surface",
            "colorbar": {
             "outlinewidth": 0,
             "ticks": ""
            },
            "colorscale": [
             [
              0.0,
              "#0d0887"
             ],
             [
              0.1111111111111111,
              "#46039f"
             ],
             [
              0.2222222222222222,
              "#7201a8"
             ],
             [
              0.3333333333333333,
              "#9c179e"
             ],
             [
              0.4444444444444444,
              "#bd3786"
             ],
             [
              0.5555555555555556,
              "#d8576b"
             ],
             [
              0.6666666666666666,
              "#ed7953"
             ],
             [
              0.7777777777777778,
              "#fb9f3a"
             ],
             [
              0.8888888888888888,
              "#fdca26"
             ],
             [
              1.0,
              "#f0f921"
             ]
            ]
           }
          ],
          "mesh3d": [
           {
            "type": "mesh3d",
            "colorbar": {
             "outlinewidth": 0,
             "ticks": ""
            }
           }
          ],
          "scatter": [
           {
            "marker": {
             "line": {
              "color": "#283442"
             }
            },
            "type": "scatter"
           }
          ],
          "parcoords": [
           {
            "type": "parcoords",
            "line": {
             "colorbar": {
              "outlinewidth": 0,
              "ticks": ""
             }
            }
           }
          ],
          "scatterpolargl": [
           {
            "type": "scatterpolargl",
            "marker": {
             "colorbar": {
              "outlinewidth": 0,
              "ticks": ""
             }
            }
           }
          ],
          "bar": [
           {
            "error_x": {
             "color": "#f2f5fa"
            },
            "error_y": {
             "color": "#f2f5fa"
            },
            "marker": {
             "line": {
              "color": "rgb(17,17,17)",
              "width": 0.5
             },
             "pattern": {
              "fillmode": "overlay",
              "size": 10,
              "solidity": 0.2
             }
            },
            "type": "bar"
           }
          ],
          "scattergeo": [
           {
            "type": "scattergeo",
            "marker": {
             "colorbar": {
              "outlinewidth": 0,
              "ticks": ""
             }
            }
           }
          ],
          "scatterpolar": [
           {
            "type": "scatterpolar",
            "marker": {
             "colorbar": {
              "outlinewidth": 0,
              "ticks": ""
             }
            }
           }
          ],
          "histogram": [
           {
            "marker": {
             "pattern": {
              "fillmode": "overlay",
              "size": 10,
              "solidity": 0.2
             }
            },
            "type": "histogram"
           }
          ],
          "scattergl": [
           {
            "marker": {
             "line": {
              "color": "#283442"
             }
            },
            "type": "scattergl"
           }
          ],
          "scatter3d": [
           {
            "type": "scatter3d",
            "line": {
             "colorbar": {
              "outlinewidth": 0,
              "ticks": ""
             }
            },
            "marker": {
             "colorbar": {
              "outlinewidth": 0,
              "ticks": ""
             }
            }
           }
          ],
          "scattermap": [
           {
            "type": "scattermap",
            "marker": {
             "colorbar": {
              "outlinewidth": 0,
              "ticks": ""
             }
            }
           }
          ],
          "scattermapbox": [
           {
            "type": "scattermapbox",
            "marker": {
             "colorbar": {
              "outlinewidth": 0,
              "ticks": ""
             }
            }
           }
          ],
          "scatterternary": [
           {
            "type": "scatterternary",
            "marker": {
             "colorbar": {
              "outlinewidth": 0,
              "ticks": ""
             }
            }
           }
          ],
          "scattercarpet": [
           {
            "type": "scattercarpet",
            "marker": {
             "colorbar": {
              "outlinewidth": 0,
              "ticks": ""
             }
            }
           }
          ],
          "carpet": [
           {
            "aaxis": {
             "endlinecolor": "#A2B1C6",
             "gridcolor": "#506784",
             "linecolor": "#506784",
             "minorgridcolor": "#506784",
             "startlinecolor": "#A2B1C6"
            },
            "baxis": {
             "endlinecolor": "#A2B1C6",
             "gridcolor": "#506784",
             "linecolor": "#506784",
             "minorgridcolor": "#506784",
             "startlinecolor": "#A2B1C6"
            },
            "type": "carpet"
           }
          ],
          "table": [
           {
            "cells": {
             "fill": {
              "color": "#506784"
             },
             "line": {
              "color": "rgb(17,17,17)"
             }
            },
            "header": {
             "fill": {
              "color": "#2a3f5f"
             },
             "line": {
              "color": "rgb(17,17,17)"
             }
            },
            "type": "table"
           }
          ],
          "barpolar": [
           {
            "marker": {
             "line": {
              "color": "rgb(17,17,17)",
              "width": 0.5
             },
             "pattern": {
              "fillmode": "overlay",
              "size": 10,
              "solidity": 0.2
             }
            },
            "type": "barpolar"
           }
          ],
          "pie": [
           {
            "automargin": true,
            "type": "pie"
           }
          ]
         },
         "layout": {
          "autotypenumbers": "strict",
          "colorway": [
           "#636efa",
           "#EF553B",
           "#00cc96",
           "#ab63fa",
           "#FFA15A",
           "#19d3f3",
           "#FF6692",
           "#B6E880",
           "#FF97FF",
           "#FECB52"
          ],
          "font": {
           "color": "#f2f5fa"
          },
          "hovermode": "closest",
          "hoverlabel": {
           "align": "left"
          },
          "paper_bgcolor": "rgb(17,17,17)",
          "plot_bgcolor": "rgb(17,17,17)",
          "polar": {
           "bgcolor": "rgb(17,17,17)",
           "angularaxis": {
            "gridcolor": "#506784",
            "linecolor": "#506784",
            "ticks": ""
           },
           "radialaxis": {
            "gridcolor": "#506784",
            "linecolor": "#506784",
            "ticks": ""
           }
          },
          "ternary": {
           "bgcolor": "rgb(17,17,17)",
           "aaxis": {
            "gridcolor": "#506784",
            "linecolor": "#506784",
            "ticks": ""
           },
           "baxis": {
            "gridcolor": "#506784",
            "linecolor": "#506784",
            "ticks": ""
           },
           "caxis": {
            "gridcolor": "#506784",
            "linecolor": "#506784",
            "ticks": ""
           }
          },
          "coloraxis": {
           "colorbar": {
            "outlinewidth": 0,
            "ticks": ""
           }
          },
          "colorscale": {
           "sequential": [
            [
             0.0,
             "#0d0887"
            ],
            [
             0.1111111111111111,
             "#46039f"
            ],
            [
             0.2222222222222222,
             "#7201a8"
            ],
            [
             0.3333333333333333,
             "#9c179e"
            ],
            [
             0.4444444444444444,
             "#bd3786"
            ],
            [
             0.5555555555555556,
             "#d8576b"
            ],
            [
             0.6666666666666666,
             "#ed7953"
            ],
            [
             0.7777777777777778,
             "#fb9f3a"
            ],
            [
             0.8888888888888888,
             "#fdca26"
            ],
            [
             1.0,
             "#f0f921"
            ]
           ],
           "sequentialminus": [
            [
             0.0,
             "#0d0887"
            ],
            [
             0.1111111111111111,
             "#46039f"
            ],
            [
             0.2222222222222222,
             "#7201a8"
            ],
            [
             0.3333333333333333,
             "#9c179e"
            ],
            [
             0.4444444444444444,
             "#bd3786"
            ],
            [
             0.5555555555555556,
             "#d8576b"
            ],
            [
             0.6666666666666666,
             "#ed7953"
            ],
            [
             0.7777777777777778,
             "#fb9f3a"
            ],
            [
             0.8888888888888888,
             "#fdca26"
            ],
            [
             1.0,
             "#f0f921"
            ]
           ],
           "diverging": [
            [
             0,
             "#8e0152"
            ],
            [
             0.1,
             "#c51b7d"
            ],
            [
             0.2,
             "#de77ae"
            ],
            [
             0.3,
             "#f1b6da"
            ],
            [
             0.4,
             "#fde0ef"
            ],
            [
             0.5,
             "#f7f7f7"
            ],
            [
             0.6,
             "#e6f5d0"
            ],
            [
             0.7,
             "#b8e186"
            ],
            [
             0.8,
             "#7fbc41"
            ],
            [
             0.9,
             "#4d9221"
            ],
            [
             1,
             "#276419"
            ]
           ]
          },
          "xaxis": {
           "gridcolor": "#283442",
           "linecolor": "#506784",
           "ticks": "",
           "title": {
            "standoff": 15
           },
           "zerolinecolor": "#283442",
           "automargin": true,
           "zerolinewidth": 2
          },
          "yaxis": {
           "gridcolor": "#283442",
           "linecolor": "#506784",
           "ticks": "",
           "title": {
            "standoff": 15
           },
           "zerolinecolor": "#283442",
           "automargin": true,
           "zerolinewidth": 2
          },
          "scene": {
           "xaxis": {
            "backgroundcolor": "rgb(17,17,17)",
            "gridcolor": "#506784",
            "linecolor": "#506784",
            "showbackground": true,
            "ticks": "",
            "zerolinecolor": "#C8D4E3",
            "gridwidth": 2
           },
           "yaxis": {
            "backgroundcolor": "rgb(17,17,17)",
            "gridcolor": "#506784",
            "linecolor": "#506784",
            "showbackground": true,
            "ticks": "",
            "zerolinecolor": "#C8D4E3",
            "gridwidth": 2
           },
           "zaxis": {
            "backgroundcolor": "rgb(17,17,17)",
            "gridcolor": "#506784",
            "linecolor": "#506784",
            "showbackground": true,
            "ticks": "",
            "zerolinecolor": "#C8D4E3",
            "gridwidth": 2
           }
          },
          "shapedefaults": {
           "line": {
            "color": "#f2f5fa"
           }
          },
          "annotationdefaults": {
           "arrowcolor": "#f2f5fa",
           "arrowhead": 0,
           "arrowwidth": 1
          },
          "geo": {
           "bgcolor": "rgb(17,17,17)",
           "landcolor": "rgb(17,17,17)",
           "subunitcolor": "#506784",
           "showland": true,
           "showlakes": true,
           "lakecolor": "rgb(17,17,17)"
          },
          "title": {
           "x": 0.05
          },
          "updatemenudefaults": {
           "bgcolor": "#506784",
           "borderwidth": 0
          },
          "sliderdefaults": {
           "bgcolor": "#C8D4E3",
           "borderwidth": 1,
           "bordercolor": "rgb(17,17,17)",
           "tickwidth": 0
          },
          "mapbox": {
           "style": "dark"
          }
         }
        },
        "scene": {
         "domain": {
          "x": [
           0.0,
           1.0
          ],
          "y": [
           0.0,
           1.0
          ]
         },
         "xaxis": {
          "title": {
           "text": "V00MBMSFMA"
          },
          "showgrid": false
         },
         "yaxis": {
          "title": {
           "text": "V00MBMNFMA"
          },
          "showgrid": false
         },
         "zaxis": {
          "title": {
           "text": "V00MBMPFMA"
          },
          "showgrid": false
         }
        },
        "legend": {
         "tracegroupgap": 0,
         "itemsizing": "constant"
        },
        "margin": {
         "t": 60
        }
       },
       "config": {
        "plotlyServerURL": "https://plot.ly"
       }
      }
     },
     "metadata": {},
     "output_type": "display_data"
    }
   ],
   "execution_count": 1
  },
  {
   "metadata": {
    "ExecuteTime": {
     "end_time": "2025-08-12T16:50:44.438543Z",
     "start_time": "2025-08-12T16:50:44.402708Z"
    }
   },
   "cell_type": "code",
   "source": [
    "moaks_3d_fmc_scatter = plot_moaks_data(v00_moaks_shared_kl_fmc)\n",
    "moaks_3d_fmc_scatter.show()"
   ],
   "id": "8a28c304c0ea14e9",
   "outputs": [
    {
     "data": {
      "application/vnd.plotly.v1+json": {
       "data": [
        {
         "hovertemplate": "V00MBMSFMC=%{x}<br>V00MBMNFMC=%{y}<br>V00MBMPFMC=%{z}<br>count=%{marker.size}<extra></extra>",
         "legendgroup": "",
         "marker": {
          "color": "#636efa",
          "opacity": 0.8,
          "size": {
           "dtype": "i2",
           "bdata": "hwkBAAIAAQABACgACQASALQAAQACAAIABAAiAAEAAwABAAIAEwA2AAcADQACAAMAAgANABUAAgADAAIAAQA="
          },
          "sizemode": "area",
          "sizeref": 1.524375,
          "symbol": "circle"
         },
         "mode": "markers",
         "name": "",
         "scene": "scene",
         "showlegend": false,
         "x": {
          "dtype": "f8",
          "bdata": "AAAAAAAAAAAAAAAAAAAAAAAAAAAAAPA/AAAAAAAA8D8AAAAAAADwPwAAAAAAAPA/AAAAAAAA8D8AAAAAAADwPwAAAAAAAPA/AAAAAAAA8D8AAAAAAADwPwAAAAAAAPA/AAAAAAAA8D8AAAAAAADwPwAAAAAAAPA/AAAAAAAA8D8AAAAAAAAAQAAAAAAAAABAAAAAAAAAAEAAAAAAAAAAQAAAAAAAAABAAAAAAAAAAEAAAAAAAAAAQAAAAAAAAABAAAAAAAAAAEAAAAAAAAAIQAAAAAAAAAhAAAAAAAAACEAAAAAAAAAIQAAAAAAAAAhAAAAAAAAACEA="
         },
         "y": {
          "dtype": "f8",
          "bdata": "AAAAAAAAAAAAAAAAAADwPwAAAAAAAAAAAAAAAAAAAAAAAAAAAAAAAAAAAAAAAPA/AAAAAAAA8D8AAAAAAADwPwAAAAAAAPA/AAAAAAAA8D8AAAAAAAAAQAAAAAAAAABAAAAAAAAAAEAAAAAAAAAAQAAAAAAAAAhAAAAAAAAACEAAAAAAAAAAAAAAAAAAAPA/AAAAAAAA8D8AAAAAAADwPwAAAAAAAABAAAAAAAAAAEAAAAAAAAAIQAAAAAAAAAhAAAAAAAAAEEAAAAAAAADwPwAAAAAAAPA/AAAAAAAAAEAAAAAAAAAAQAAAAAAAAAhAAAAAAAAAEEA="
         },
         "z": {
          "dtype": "f8",
          "bdata": "AAAAAAAAAAAAAAAAAAAAAAAAAAAAAAAAAAAAAAAA8D8AAAAAAAAIQAAAAAAAAAAAAAAAAAAA8D8AAAAAAAAAQAAAAAAAAAhAAAAAAAAAEEAAAAAAAAAAAAAAAAAAAPA/AAAAAAAAAEAAAAAAAAAIQAAAAAAAAABAAAAAAAAACEAAAAAAAAAAAAAAAAAAAPA/AAAAAAAAAEAAAAAAAAAIQAAAAAAAAABAAAAAAAAACEAAAAAAAAAAQAAAAAAAAAhAAAAAAAAAAEAAAAAAAAAAQAAAAAAAAAhAAAAAAAAAAEAAAAAAAAAIQAAAAAAAAABAAAAAAAAAAEA="
         },
         "type": "scatter3d"
        }
       ],
       "layout": {
        "template": {
         "data": {
          "histogram2dcontour": [
           {
            "type": "histogram2dcontour",
            "colorbar": {
             "outlinewidth": 0,
             "ticks": ""
            },
            "colorscale": [
             [
              0.0,
              "#0d0887"
             ],
             [
              0.1111111111111111,
              "#46039f"
             ],
             [
              0.2222222222222222,
              "#7201a8"
             ],
             [
              0.3333333333333333,
              "#9c179e"
             ],
             [
              0.4444444444444444,
              "#bd3786"
             ],
             [
              0.5555555555555556,
              "#d8576b"
             ],
             [
              0.6666666666666666,
              "#ed7953"
             ],
             [
              0.7777777777777778,
              "#fb9f3a"
             ],
             [
              0.8888888888888888,
              "#fdca26"
             ],
             [
              1.0,
              "#f0f921"
             ]
            ]
           }
          ],
          "choropleth": [
           {
            "type": "choropleth",
            "colorbar": {
             "outlinewidth": 0,
             "ticks": ""
            }
           }
          ],
          "histogram2d": [
           {
            "type": "histogram2d",
            "colorbar": {
             "outlinewidth": 0,
             "ticks": ""
            },
            "colorscale": [
             [
              0.0,
              "#0d0887"
             ],
             [
              0.1111111111111111,
              "#46039f"
             ],
             [
              0.2222222222222222,
              "#7201a8"
             ],
             [
              0.3333333333333333,
              "#9c179e"
             ],
             [
              0.4444444444444444,
              "#bd3786"
             ],
             [
              0.5555555555555556,
              "#d8576b"
             ],
             [
              0.6666666666666666,
              "#ed7953"
             ],
             [
              0.7777777777777778,
              "#fb9f3a"
             ],
             [
              0.8888888888888888,
              "#fdca26"
             ],
             [
              1.0,
              "#f0f921"
             ]
            ]
           }
          ],
          "heatmap": [
           {
            "type": "heatmap",
            "colorbar": {
             "outlinewidth": 0,
             "ticks": ""
            },
            "colorscale": [
             [
              0.0,
              "#0d0887"
             ],
             [
              0.1111111111111111,
              "#46039f"
             ],
             [
              0.2222222222222222,
              "#7201a8"
             ],
             [
              0.3333333333333333,
              "#9c179e"
             ],
             [
              0.4444444444444444,
              "#bd3786"
             ],
             [
              0.5555555555555556,
              "#d8576b"
             ],
             [
              0.6666666666666666,
              "#ed7953"
             ],
             [
              0.7777777777777778,
              "#fb9f3a"
             ],
             [
              0.8888888888888888,
              "#fdca26"
             ],
             [
              1.0,
              "#f0f921"
             ]
            ]
           }
          ],
          "contourcarpet": [
           {
            "type": "contourcarpet",
            "colorbar": {
             "outlinewidth": 0,
             "ticks": ""
            }
           }
          ],
          "contour": [
           {
            "type": "contour",
            "colorbar": {
             "outlinewidth": 0,
             "ticks": ""
            },
            "colorscale": [
             [
              0.0,
              "#0d0887"
             ],
             [
              0.1111111111111111,
              "#46039f"
             ],
             [
              0.2222222222222222,
              "#7201a8"
             ],
             [
              0.3333333333333333,
              "#9c179e"
             ],
             [
              0.4444444444444444,
              "#bd3786"
             ],
             [
              0.5555555555555556,
              "#d8576b"
             ],
             [
              0.6666666666666666,
              "#ed7953"
             ],
             [
              0.7777777777777778,
              "#fb9f3a"
             ],
             [
              0.8888888888888888,
              "#fdca26"
             ],
             [
              1.0,
              "#f0f921"
             ]
            ]
           }
          ],
          "surface": [
           {
            "type": "surface",
            "colorbar": {
             "outlinewidth": 0,
             "ticks": ""
            },
            "colorscale": [
             [
              0.0,
              "#0d0887"
             ],
             [
              0.1111111111111111,
              "#46039f"
             ],
             [
              0.2222222222222222,
              "#7201a8"
             ],
             [
              0.3333333333333333,
              "#9c179e"
             ],
             [
              0.4444444444444444,
              "#bd3786"
             ],
             [
              0.5555555555555556,
              "#d8576b"
             ],
             [
              0.6666666666666666,
              "#ed7953"
             ],
             [
              0.7777777777777778,
              "#fb9f3a"
             ],
             [
              0.8888888888888888,
              "#fdca26"
             ],
             [
              1.0,
              "#f0f921"
             ]
            ]
           }
          ],
          "mesh3d": [
           {
            "type": "mesh3d",
            "colorbar": {
             "outlinewidth": 0,
             "ticks": ""
            }
           }
          ],
          "scatter": [
           {
            "marker": {
             "line": {
              "color": "#283442"
             }
            },
            "type": "scatter"
           }
          ],
          "parcoords": [
           {
            "type": "parcoords",
            "line": {
             "colorbar": {
              "outlinewidth": 0,
              "ticks": ""
             }
            }
           }
          ],
          "scatterpolargl": [
           {
            "type": "scatterpolargl",
            "marker": {
             "colorbar": {
              "outlinewidth": 0,
              "ticks": ""
             }
            }
           }
          ],
          "bar": [
           {
            "error_x": {
             "color": "#f2f5fa"
            },
            "error_y": {
             "color": "#f2f5fa"
            },
            "marker": {
             "line": {
              "color": "rgb(17,17,17)",
              "width": 0.5
             },
             "pattern": {
              "fillmode": "overlay",
              "size": 10,
              "solidity": 0.2
             }
            },
            "type": "bar"
           }
          ],
          "scattergeo": [
           {
            "type": "scattergeo",
            "marker": {
             "colorbar": {
              "outlinewidth": 0,
              "ticks": ""
             }
            }
           }
          ],
          "scatterpolar": [
           {
            "type": "scatterpolar",
            "marker": {
             "colorbar": {
              "outlinewidth": 0,
              "ticks": ""
             }
            }
           }
          ],
          "histogram": [
           {
            "marker": {
             "pattern": {
              "fillmode": "overlay",
              "size": 10,
              "solidity": 0.2
             }
            },
            "type": "histogram"
           }
          ],
          "scattergl": [
           {
            "marker": {
             "line": {
              "color": "#283442"
             }
            },
            "type": "scattergl"
           }
          ],
          "scatter3d": [
           {
            "type": "scatter3d",
            "line": {
             "colorbar": {
              "outlinewidth": 0,
              "ticks": ""
             }
            },
            "marker": {
             "colorbar": {
              "outlinewidth": 0,
              "ticks": ""
             }
            }
           }
          ],
          "scattermap": [
           {
            "type": "scattermap",
            "marker": {
             "colorbar": {
              "outlinewidth": 0,
              "ticks": ""
             }
            }
           }
          ],
          "scattermapbox": [
           {
            "type": "scattermapbox",
            "marker": {
             "colorbar": {
              "outlinewidth": 0,
              "ticks": ""
             }
            }
           }
          ],
          "scatterternary": [
           {
            "type": "scatterternary",
            "marker": {
             "colorbar": {
              "outlinewidth": 0,
              "ticks": ""
             }
            }
           }
          ],
          "scattercarpet": [
           {
            "type": "scattercarpet",
            "marker": {
             "colorbar": {
              "outlinewidth": 0,
              "ticks": ""
             }
            }
           }
          ],
          "carpet": [
           {
            "aaxis": {
             "endlinecolor": "#A2B1C6",
             "gridcolor": "#506784",
             "linecolor": "#506784",
             "minorgridcolor": "#506784",
             "startlinecolor": "#A2B1C6"
            },
            "baxis": {
             "endlinecolor": "#A2B1C6",
             "gridcolor": "#506784",
             "linecolor": "#506784",
             "minorgridcolor": "#506784",
             "startlinecolor": "#A2B1C6"
            },
            "type": "carpet"
           }
          ],
          "table": [
           {
            "cells": {
             "fill": {
              "color": "#506784"
             },
             "line": {
              "color": "rgb(17,17,17)"
             }
            },
            "header": {
             "fill": {
              "color": "#2a3f5f"
             },
             "line": {
              "color": "rgb(17,17,17)"
             }
            },
            "type": "table"
           }
          ],
          "barpolar": [
           {
            "marker": {
             "line": {
              "color": "rgb(17,17,17)",
              "width": 0.5
             },
             "pattern": {
              "fillmode": "overlay",
              "size": 10,
              "solidity": 0.2
             }
            },
            "type": "barpolar"
           }
          ],
          "pie": [
           {
            "automargin": true,
            "type": "pie"
           }
          ]
         },
         "layout": {
          "autotypenumbers": "strict",
          "colorway": [
           "#636efa",
           "#EF553B",
           "#00cc96",
           "#ab63fa",
           "#FFA15A",
           "#19d3f3",
           "#FF6692",
           "#B6E880",
           "#FF97FF",
           "#FECB52"
          ],
          "font": {
           "color": "#f2f5fa"
          },
          "hovermode": "closest",
          "hoverlabel": {
           "align": "left"
          },
          "paper_bgcolor": "rgb(17,17,17)",
          "plot_bgcolor": "rgb(17,17,17)",
          "polar": {
           "bgcolor": "rgb(17,17,17)",
           "angularaxis": {
            "gridcolor": "#506784",
            "linecolor": "#506784",
            "ticks": ""
           },
           "radialaxis": {
            "gridcolor": "#506784",
            "linecolor": "#506784",
            "ticks": ""
           }
          },
          "ternary": {
           "bgcolor": "rgb(17,17,17)",
           "aaxis": {
            "gridcolor": "#506784",
            "linecolor": "#506784",
            "ticks": ""
           },
           "baxis": {
            "gridcolor": "#506784",
            "linecolor": "#506784",
            "ticks": ""
           },
           "caxis": {
            "gridcolor": "#506784",
            "linecolor": "#506784",
            "ticks": ""
           }
          },
          "coloraxis": {
           "colorbar": {
            "outlinewidth": 0,
            "ticks": ""
           }
          },
          "colorscale": {
           "sequential": [
            [
             0.0,
             "#0d0887"
            ],
            [
             0.1111111111111111,
             "#46039f"
            ],
            [
             0.2222222222222222,
             "#7201a8"
            ],
            [
             0.3333333333333333,
             "#9c179e"
            ],
            [
             0.4444444444444444,
             "#bd3786"
            ],
            [
             0.5555555555555556,
             "#d8576b"
            ],
            [
             0.6666666666666666,
             "#ed7953"
            ],
            [
             0.7777777777777778,
             "#fb9f3a"
            ],
            [
             0.8888888888888888,
             "#fdca26"
            ],
            [
             1.0,
             "#f0f921"
            ]
           ],
           "sequentialminus": [
            [
             0.0,
             "#0d0887"
            ],
            [
             0.1111111111111111,
             "#46039f"
            ],
            [
             0.2222222222222222,
             "#7201a8"
            ],
            [
             0.3333333333333333,
             "#9c179e"
            ],
            [
             0.4444444444444444,
             "#bd3786"
            ],
            [
             0.5555555555555556,
             "#d8576b"
            ],
            [
             0.6666666666666666,
             "#ed7953"
            ],
            [
             0.7777777777777778,
             "#fb9f3a"
            ],
            [
             0.8888888888888888,
             "#fdca26"
            ],
            [
             1.0,
             "#f0f921"
            ]
           ],
           "diverging": [
            [
             0,
             "#8e0152"
            ],
            [
             0.1,
             "#c51b7d"
            ],
            [
             0.2,
             "#de77ae"
            ],
            [
             0.3,
             "#f1b6da"
            ],
            [
             0.4,
             "#fde0ef"
            ],
            [
             0.5,
             "#f7f7f7"
            ],
            [
             0.6,
             "#e6f5d0"
            ],
            [
             0.7,
             "#b8e186"
            ],
            [
             0.8,
             "#7fbc41"
            ],
            [
             0.9,
             "#4d9221"
            ],
            [
             1,
             "#276419"
            ]
           ]
          },
          "xaxis": {
           "gridcolor": "#283442",
           "linecolor": "#506784",
           "ticks": "",
           "title": {
            "standoff": 15
           },
           "zerolinecolor": "#283442",
           "automargin": true,
           "zerolinewidth": 2
          },
          "yaxis": {
           "gridcolor": "#283442",
           "linecolor": "#506784",
           "ticks": "",
           "title": {
            "standoff": 15
           },
           "zerolinecolor": "#283442",
           "automargin": true,
           "zerolinewidth": 2
          },
          "scene": {
           "xaxis": {
            "backgroundcolor": "rgb(17,17,17)",
            "gridcolor": "#506784",
            "linecolor": "#506784",
            "showbackground": true,
            "ticks": "",
            "zerolinecolor": "#C8D4E3",
            "gridwidth": 2
           },
           "yaxis": {
            "backgroundcolor": "rgb(17,17,17)",
            "gridcolor": "#506784",
            "linecolor": "#506784",
            "showbackground": true,
            "ticks": "",
            "zerolinecolor": "#C8D4E3",
            "gridwidth": 2
           },
           "zaxis": {
            "backgroundcolor": "rgb(17,17,17)",
            "gridcolor": "#506784",
            "linecolor": "#506784",
            "showbackground": true,
            "ticks": "",
            "zerolinecolor": "#C8D4E3",
            "gridwidth": 2
           }
          },
          "shapedefaults": {
           "line": {
            "color": "#f2f5fa"
           }
          },
          "annotationdefaults": {
           "arrowcolor": "#f2f5fa",
           "arrowhead": 0,
           "arrowwidth": 1
          },
          "geo": {
           "bgcolor": "rgb(17,17,17)",
           "landcolor": "rgb(17,17,17)",
           "subunitcolor": "#506784",
           "showland": true,
           "showlakes": true,
           "lakecolor": "rgb(17,17,17)"
          },
          "title": {
           "x": 0.05
          },
          "updatemenudefaults": {
           "bgcolor": "#506784",
           "borderwidth": 0
          },
          "sliderdefaults": {
           "bgcolor": "#C8D4E3",
           "borderwidth": 1,
           "bordercolor": "rgb(17,17,17)",
           "tickwidth": 0
          },
          "mapbox": {
           "style": "dark"
          }
         }
        },
        "scene": {
         "domain": {
          "x": [
           0.0,
           1.0
          ],
          "y": [
           0.0,
           1.0
          ]
         },
         "xaxis": {
          "title": {
           "text": "V00MBMSFMC"
          },
          "showgrid": false
         },
         "yaxis": {
          "title": {
           "text": "V00MBMNFMC"
          },
          "showgrid": false
         },
         "zaxis": {
          "title": {
           "text": "V00MBMPFMC"
          },
          "showgrid": false
         }
        },
        "legend": {
         "tracegroupgap": 0,
         "itemsizing": "constant"
        },
        "margin": {
         "t": 60
        }
       },
       "config": {
        "plotlyServerURL": "https://plot.ly"
       }
      }
     },
     "metadata": {},
     "output_type": "display_data"
    }
   ],
   "execution_count": 2
  },
  {
   "metadata": {
    "ExecuteTime": {
     "end_time": "2025-08-12T16:50:44.643218Z",
     "start_time": "2025-08-12T16:50:44.611617Z"
    }
   },
   "cell_type": "code",
   "source": [
    "moaks_3d_fmp_scatter = plot_moaks_data(v00_moaks_shared_kl_fmp)\n",
    "moaks_3d_fmp_scatter.show()"
   ],
   "id": "3978de0b21264ccf",
   "outputs": [
    {
     "data": {
      "application/vnd.plotly.v1+json": {
       "data": [
        {
         "hovertemplate": "V00MBMSFMP=%{x}<br>V00MBMNFMP=%{y}<br>V00MBMPFMP=%{z}<br>count=%{marker.size}<extra></extra>",
         "legendgroup": "",
         "marker": {
          "color": "#636efa",
          "opacity": 0.8,
          "size": {
           "dtype": "i2",
           "bdata": "VQoBAAEAAQAOAAcAHQBqAAIABAACAAUAAgAOABgAAQAFAAEAAQAKAAUAAQABAAEA"
          },
          "sizemode": "area",
          "sizeref": 1.653125,
          "symbol": "circle"
         },
         "mode": "markers",
         "name": "",
         "scene": "scene",
         "showlegend": false,
         "x": {
          "dtype": "f8",
          "bdata": "AAAAAAAAAAAAAAAAAAAAAAAAAAAAAPA/AAAAAAAA8D8AAAAAAADwPwAAAAAAAPA/AAAAAAAA8D8AAAAAAADwPwAAAAAAAPA/AAAAAAAA8D8AAAAAAADwPwAAAAAAAPA/AAAAAAAAAEAAAAAAAAAAQAAAAAAAAABAAAAAAAAAAEAAAAAAAAAAQAAAAAAAAABAAAAAAAAAAEAAAAAAAAAIQAAAAAAAAAhAAAAAAAAACEAAAAAAAAAIQAAAAAAAAAhA"
         },
         "y": {
          "dtype": "f8",
          "bdata": "AAAAAAAAAAAAAAAAAADwPwAAAAAAAAAAAAAAAAAAAAAAAAAAAADwPwAAAAAAAPA/AAAAAAAA8D8AAAAAAADwPwAAAAAAAABAAAAAAAAAAEAAAAAAAAAIQAAAAAAAAAhAAAAAAAAA8D8AAAAAAADwPwAAAAAAAPA/AAAAAAAAAEAAAAAAAAAAQAAAAAAAAAhAAAAAAAAACEAAAAAAAADwPwAAAAAAAPA/AAAAAAAAAEAAAAAAAAAIQAAAAAAAAAhA"
         },
         "z": {
          "dtype": "f8",
          "bdata": "AAAAAAAAAAAAAAAAAAAAAAAAAAAAAAAAAAAAAAAACEAAAAAAAAAAAAAAAAAAAPA/AAAAAAAAAEAAAAAAAAAIQAAAAAAAAABAAAAAAAAACEAAAAAAAAAAQAAAAAAAAAhAAAAAAAAA8D8AAAAAAAAAQAAAAAAAAAhAAAAAAAAAAEAAAAAAAAAIQAAAAAAAAPA/AAAAAAAACEAAAAAAAAAAQAAAAAAAAAhAAAAAAAAACEAAAAAAAAAAQAAAAAAAAAhA"
         },
         "type": "scatter3d"
        }
       ],
       "layout": {
        "template": {
         "data": {
          "histogram2dcontour": [
           {
            "type": "histogram2dcontour",
            "colorbar": {
             "outlinewidth": 0,
             "ticks": ""
            },
            "colorscale": [
             [
              0.0,
              "#0d0887"
             ],
             [
              0.1111111111111111,
              "#46039f"
             ],
             [
              0.2222222222222222,
              "#7201a8"
             ],
             [
              0.3333333333333333,
              "#9c179e"
             ],
             [
              0.4444444444444444,
              "#bd3786"
             ],
             [
              0.5555555555555556,
              "#d8576b"
             ],
             [
              0.6666666666666666,
              "#ed7953"
             ],
             [
              0.7777777777777778,
              "#fb9f3a"
             ],
             [
              0.8888888888888888,
              "#fdca26"
             ],
             [
              1.0,
              "#f0f921"
             ]
            ]
           }
          ],
          "choropleth": [
           {
            "type": "choropleth",
            "colorbar": {
             "outlinewidth": 0,
             "ticks": ""
            }
           }
          ],
          "histogram2d": [
           {
            "type": "histogram2d",
            "colorbar": {
             "outlinewidth": 0,
             "ticks": ""
            },
            "colorscale": [
             [
              0.0,
              "#0d0887"
             ],
             [
              0.1111111111111111,
              "#46039f"
             ],
             [
              0.2222222222222222,
              "#7201a8"
             ],
             [
              0.3333333333333333,
              "#9c179e"
             ],
             [
              0.4444444444444444,
              "#bd3786"
             ],
             [
              0.5555555555555556,
              "#d8576b"
             ],
             [
              0.6666666666666666,
              "#ed7953"
             ],
             [
              0.7777777777777778,
              "#fb9f3a"
             ],
             [
              0.8888888888888888,
              "#fdca26"
             ],
             [
              1.0,
              "#f0f921"
             ]
            ]
           }
          ],
          "heatmap": [
           {
            "type": "heatmap",
            "colorbar": {
             "outlinewidth": 0,
             "ticks": ""
            },
            "colorscale": [
             [
              0.0,
              "#0d0887"
             ],
             [
              0.1111111111111111,
              "#46039f"
             ],
             [
              0.2222222222222222,
              "#7201a8"
             ],
             [
              0.3333333333333333,
              "#9c179e"
             ],
             [
              0.4444444444444444,
              "#bd3786"
             ],
             [
              0.5555555555555556,
              "#d8576b"
             ],
             [
              0.6666666666666666,
              "#ed7953"
             ],
             [
              0.7777777777777778,
              "#fb9f3a"
             ],
             [
              0.8888888888888888,
              "#fdca26"
             ],
             [
              1.0,
              "#f0f921"
             ]
            ]
           }
          ],
          "contourcarpet": [
           {
            "type": "contourcarpet",
            "colorbar": {
             "outlinewidth": 0,
             "ticks": ""
            }
           }
          ],
          "contour": [
           {
            "type": "contour",
            "colorbar": {
             "outlinewidth": 0,
             "ticks": ""
            },
            "colorscale": [
             [
              0.0,
              "#0d0887"
             ],
             [
              0.1111111111111111,
              "#46039f"
             ],
             [
              0.2222222222222222,
              "#7201a8"
             ],
             [
              0.3333333333333333,
              "#9c179e"
             ],
             [
              0.4444444444444444,
              "#bd3786"
             ],
             [
              0.5555555555555556,
              "#d8576b"
             ],
             [
              0.6666666666666666,
              "#ed7953"
             ],
             [
              0.7777777777777778,
              "#fb9f3a"
             ],
             [
              0.8888888888888888,
              "#fdca26"
             ],
             [
              1.0,
              "#f0f921"
             ]
            ]
           }
          ],
          "surface": [
           {
            "type": "surface",
            "colorbar": {
             "outlinewidth": 0,
             "ticks": ""
            },
            "colorscale": [
             [
              0.0,
              "#0d0887"
             ],
             [
              0.1111111111111111,
              "#46039f"
             ],
             [
              0.2222222222222222,
              "#7201a8"
             ],
             [
              0.3333333333333333,
              "#9c179e"
             ],
             [
              0.4444444444444444,
              "#bd3786"
             ],
             [
              0.5555555555555556,
              "#d8576b"
             ],
             [
              0.6666666666666666,
              "#ed7953"
             ],
             [
              0.7777777777777778,
              "#fb9f3a"
             ],
             [
              0.8888888888888888,
              "#fdca26"
             ],
             [
              1.0,
              "#f0f921"
             ]
            ]
           }
          ],
          "mesh3d": [
           {
            "type": "mesh3d",
            "colorbar": {
             "outlinewidth": 0,
             "ticks": ""
            }
           }
          ],
          "scatter": [
           {
            "marker": {
             "line": {
              "color": "#283442"
             }
            },
            "type": "scatter"
           }
          ],
          "parcoords": [
           {
            "type": "parcoords",
            "line": {
             "colorbar": {
              "outlinewidth": 0,
              "ticks": ""
             }
            }
           }
          ],
          "scatterpolargl": [
           {
            "type": "scatterpolargl",
            "marker": {
             "colorbar": {
              "outlinewidth": 0,
              "ticks": ""
             }
            }
           }
          ],
          "bar": [
           {
            "error_x": {
             "color": "#f2f5fa"
            },
            "error_y": {
             "color": "#f2f5fa"
            },
            "marker": {
             "line": {
              "color": "rgb(17,17,17)",
              "width": 0.5
             },
             "pattern": {
              "fillmode": "overlay",
              "size": 10,
              "solidity": 0.2
             }
            },
            "type": "bar"
           }
          ],
          "scattergeo": [
           {
            "type": "scattergeo",
            "marker": {
             "colorbar": {
              "outlinewidth": 0,
              "ticks": ""
             }
            }
           }
          ],
          "scatterpolar": [
           {
            "type": "scatterpolar",
            "marker": {
             "colorbar": {
              "outlinewidth": 0,
              "ticks": ""
             }
            }
           }
          ],
          "histogram": [
           {
            "marker": {
             "pattern": {
              "fillmode": "overlay",
              "size": 10,
              "solidity": 0.2
             }
            },
            "type": "histogram"
           }
          ],
          "scattergl": [
           {
            "marker": {
             "line": {
              "color": "#283442"
             }
            },
            "type": "scattergl"
           }
          ],
          "scatter3d": [
           {
            "type": "scatter3d",
            "line": {
             "colorbar": {
              "outlinewidth": 0,
              "ticks": ""
             }
            },
            "marker": {
             "colorbar": {
              "outlinewidth": 0,
              "ticks": ""
             }
            }
           }
          ],
          "scattermap": [
           {
            "type": "scattermap",
            "marker": {
             "colorbar": {
              "outlinewidth": 0,
              "ticks": ""
             }
            }
           }
          ],
          "scattermapbox": [
           {
            "type": "scattermapbox",
            "marker": {
             "colorbar": {
              "outlinewidth": 0,
              "ticks": ""
             }
            }
           }
          ],
          "scatterternary": [
           {
            "type": "scatterternary",
            "marker": {
             "colorbar": {
              "outlinewidth": 0,
              "ticks": ""
             }
            }
           }
          ],
          "scattercarpet": [
           {
            "type": "scattercarpet",
            "marker": {
             "colorbar": {
              "outlinewidth": 0,
              "ticks": ""
             }
            }
           }
          ],
          "carpet": [
           {
            "aaxis": {
             "endlinecolor": "#A2B1C6",
             "gridcolor": "#506784",
             "linecolor": "#506784",
             "minorgridcolor": "#506784",
             "startlinecolor": "#A2B1C6"
            },
            "baxis": {
             "endlinecolor": "#A2B1C6",
             "gridcolor": "#506784",
             "linecolor": "#506784",
             "minorgridcolor": "#506784",
             "startlinecolor": "#A2B1C6"
            },
            "type": "carpet"
           }
          ],
          "table": [
           {
            "cells": {
             "fill": {
              "color": "#506784"
             },
             "line": {
              "color": "rgb(17,17,17)"
             }
            },
            "header": {
             "fill": {
              "color": "#2a3f5f"
             },
             "line": {
              "color": "rgb(17,17,17)"
             }
            },
            "type": "table"
           }
          ],
          "barpolar": [
           {
            "marker": {
             "line": {
              "color": "rgb(17,17,17)",
              "width": 0.5
             },
             "pattern": {
              "fillmode": "overlay",
              "size": 10,
              "solidity": 0.2
             }
            },
            "type": "barpolar"
           }
          ],
          "pie": [
           {
            "automargin": true,
            "type": "pie"
           }
          ]
         },
         "layout": {
          "autotypenumbers": "strict",
          "colorway": [
           "#636efa",
           "#EF553B",
           "#00cc96",
           "#ab63fa",
           "#FFA15A",
           "#19d3f3",
           "#FF6692",
           "#B6E880",
           "#FF97FF",
           "#FECB52"
          ],
          "font": {
           "color": "#f2f5fa"
          },
          "hovermode": "closest",
          "hoverlabel": {
           "align": "left"
          },
          "paper_bgcolor": "rgb(17,17,17)",
          "plot_bgcolor": "rgb(17,17,17)",
          "polar": {
           "bgcolor": "rgb(17,17,17)",
           "angularaxis": {
            "gridcolor": "#506784",
            "linecolor": "#506784",
            "ticks": ""
           },
           "radialaxis": {
            "gridcolor": "#506784",
            "linecolor": "#506784",
            "ticks": ""
           }
          },
          "ternary": {
           "bgcolor": "rgb(17,17,17)",
           "aaxis": {
            "gridcolor": "#506784",
            "linecolor": "#506784",
            "ticks": ""
           },
           "baxis": {
            "gridcolor": "#506784",
            "linecolor": "#506784",
            "ticks": ""
           },
           "caxis": {
            "gridcolor": "#506784",
            "linecolor": "#506784",
            "ticks": ""
           }
          },
          "coloraxis": {
           "colorbar": {
            "outlinewidth": 0,
            "ticks": ""
           }
          },
          "colorscale": {
           "sequential": [
            [
             0.0,
             "#0d0887"
            ],
            [
             0.1111111111111111,
             "#46039f"
            ],
            [
             0.2222222222222222,
             "#7201a8"
            ],
            [
             0.3333333333333333,
             "#9c179e"
            ],
            [
             0.4444444444444444,
             "#bd3786"
            ],
            [
             0.5555555555555556,
             "#d8576b"
            ],
            [
             0.6666666666666666,
             "#ed7953"
            ],
            [
             0.7777777777777778,
             "#fb9f3a"
            ],
            [
             0.8888888888888888,
             "#fdca26"
            ],
            [
             1.0,
             "#f0f921"
            ]
           ],
           "sequentialminus": [
            [
             0.0,
             "#0d0887"
            ],
            [
             0.1111111111111111,
             "#46039f"
            ],
            [
             0.2222222222222222,
             "#7201a8"
            ],
            [
             0.3333333333333333,
             "#9c179e"
            ],
            [
             0.4444444444444444,
             "#bd3786"
            ],
            [
             0.5555555555555556,
             "#d8576b"
            ],
            [
             0.6666666666666666,
             "#ed7953"
            ],
            [
             0.7777777777777778,
             "#fb9f3a"
            ],
            [
             0.8888888888888888,
             "#fdca26"
            ],
            [
             1.0,
             "#f0f921"
            ]
           ],
           "diverging": [
            [
             0,
             "#8e0152"
            ],
            [
             0.1,
             "#c51b7d"
            ],
            [
             0.2,
             "#de77ae"
            ],
            [
             0.3,
             "#f1b6da"
            ],
            [
             0.4,
             "#fde0ef"
            ],
            [
             0.5,
             "#f7f7f7"
            ],
            [
             0.6,
             "#e6f5d0"
            ],
            [
             0.7,
             "#b8e186"
            ],
            [
             0.8,
             "#7fbc41"
            ],
            [
             0.9,
             "#4d9221"
            ],
            [
             1,
             "#276419"
            ]
           ]
          },
          "xaxis": {
           "gridcolor": "#283442",
           "linecolor": "#506784",
           "ticks": "",
           "title": {
            "standoff": 15
           },
           "zerolinecolor": "#283442",
           "automargin": true,
           "zerolinewidth": 2
          },
          "yaxis": {
           "gridcolor": "#283442",
           "linecolor": "#506784",
           "ticks": "",
           "title": {
            "standoff": 15
           },
           "zerolinecolor": "#283442",
           "automargin": true,
           "zerolinewidth": 2
          },
          "scene": {
           "xaxis": {
            "backgroundcolor": "rgb(17,17,17)",
            "gridcolor": "#506784",
            "linecolor": "#506784",
            "showbackground": true,
            "ticks": "",
            "zerolinecolor": "#C8D4E3",
            "gridwidth": 2
           },
           "yaxis": {
            "backgroundcolor": "rgb(17,17,17)",
            "gridcolor": "#506784",
            "linecolor": "#506784",
            "showbackground": true,
            "ticks": "",
            "zerolinecolor": "#C8D4E3",
            "gridwidth": 2
           },
           "zaxis": {
            "backgroundcolor": "rgb(17,17,17)",
            "gridcolor": "#506784",
            "linecolor": "#506784",
            "showbackground": true,
            "ticks": "",
            "zerolinecolor": "#C8D4E3",
            "gridwidth": 2
           }
          },
          "shapedefaults": {
           "line": {
            "color": "#f2f5fa"
           }
          },
          "annotationdefaults": {
           "arrowcolor": "#f2f5fa",
           "arrowhead": 0,
           "arrowwidth": 1
          },
          "geo": {
           "bgcolor": "rgb(17,17,17)",
           "landcolor": "rgb(17,17,17)",
           "subunitcolor": "#506784",
           "showland": true,
           "showlakes": true,
           "lakecolor": "rgb(17,17,17)"
          },
          "title": {
           "x": 0.05
          },
          "updatemenudefaults": {
           "bgcolor": "#506784",
           "borderwidth": 0
          },
          "sliderdefaults": {
           "bgcolor": "#C8D4E3",
           "borderwidth": 1,
           "bordercolor": "rgb(17,17,17)",
           "tickwidth": 0
          },
          "mapbox": {
           "style": "dark"
          }
         }
        },
        "scene": {
         "domain": {
          "x": [
           0.0,
           1.0
          ],
          "y": [
           0.0,
           1.0
          ]
         },
         "xaxis": {
          "title": {
           "text": "V00MBMSFMP"
          },
          "showgrid": false
         },
         "yaxis": {
          "title": {
           "text": "V00MBMNFMP"
          },
          "showgrid": false
         },
         "zaxis": {
          "title": {
           "text": "V00MBMPFMP"
          },
          "showgrid": false
         }
        },
        "legend": {
         "tracegroupgap": 0,
         "itemsizing": "constant"
        },
        "margin": {
         "t": 60
        }
       },
       "config": {
        "plotlyServerURL": "https://plot.ly"
       }
      }
     },
     "metadata": {},
     "output_type": "display_data"
    }
   ],
   "execution_count": 3
  },
  {
   "metadata": {
    "ExecuteTime": {
     "end_time": "2025-08-12T16:50:44.687376Z",
     "start_time": "2025-08-12T16:50:44.664060Z"
    }
   },
   "cell_type": "code",
   "source": [
    "from modules.variable_analysis import cronbach_alpha\n",
    "\n",
    "fma_alpha = cronbach_alpha(v00_moaks_shared_kl_fma)\n",
    "fmc_alpha = cronbach_alpha(v00_moaks_shared_kl_fmc)\n",
    "fmp_alpha = cronbach_alpha(v00_moaks_shared_kl_fmc)\n",
    "\n",
    "print(f'FMA:{fma_alpha}, FMC:{fmc_alpha}, FMP:{fmp_alpha}')"
   ],
   "id": "5fb52faa83287d15",
   "outputs": [
    {
     "name": "stdout",
     "output_type": "stream",
     "text": [
      "FMA:0.689899153819898, FMC:0.744303670289711, FMP:0.744303670289711\n"
     ]
    }
   ],
   "execution_count": 4
  },
  {
   "metadata": {
    "ExecuteTime": {
     "end_time": "2025-08-12T16:50:44.758596Z",
     "start_time": "2025-08-12T16:50:44.713274Z"
    }
   },
   "cell_type": "code",
   "source": [
    "from IPython.display import display\n",
    "from scripts.fm.fm_relationships import fma_relationships_df\n",
    "\n",
    "display(fma_relationships_df)"
   ],
   "id": "3773b2607920cdf1",
   "outputs": [
    {
     "data": {
      "text/plain": [
       "           type                                            formula  \\\n",
       "0        linear                            V00MBMSFMA ~ V00MBMNFMA   \n",
       "1        linear               V00MBMSFMA ~ V00MBMNFMA + V00MBMPFMA   \n",
       "2        linear                            V00MBMNFMA ~ V00MBMPFMA   \n",
       "3        linear               V00MBMNFMA ~ V00MBMPFMA + V00MBMSFMA   \n",
       "4        linear                            V00MBMPFMA ~ V00MBMNFMA   \n",
       "5        linear               V00MBMPFMA ~ V00MBMNFMA + V00MBMSFMA   \n",
       "6     quadratic                      V00MBMSFMA ~ I(V00MBMNFMA**2)   \n",
       "7     quadratic         V00MBMSFMA ~ V00MBMNFMA + I(V00MBMNFMA**2)   \n",
       "8     quadratic  V00MBMSFMA ~ V00MBMNFMA + V00MBMPFMA + I(V00MB...   \n",
       "9     quadratic         V00MBMSFMA ~ V00MBMNFMA + I(V00MBMPFMA**2)   \n",
       "10    quadratic                      V00MBMNFMA ~ I(V00MBMPFMA**2)   \n",
       "11    quadratic         V00MBMNFMA ~ V00MBMPFMA + I(V00MBMPFMA**2)   \n",
       "12    quadratic  V00MBMNFMA ~ V00MBMPFMA + V00MBMSFMA + I(V00MB...   \n",
       "13    quadratic         V00MBMNFMA ~ V00MBMPFMA + I(V00MBMSFMA**2)   \n",
       "14    quadratic                      V00MBMPFMA ~ I(V00MBMNFMA**2)   \n",
       "15    quadratic         V00MBMPFMA ~ V00MBMNFMA + I(V00MBMNFMA**2)   \n",
       "16    quadratic  V00MBMPFMA ~ V00MBMNFMA + V00MBMSFMA + I(V00MB...   \n",
       "17    quadratic         V00MBMPFMA ~ V00MBMNFMA + I(V00MBMSFMA**2)   \n",
       "18        cubic                      V00MBMSFMA ~ I(V00MBMNFMA**3)   \n",
       "19        cubic  V00MBMSFMA ~ V00MBMNFMA + I(V00MBMNFMA**2) + I...   \n",
       "20        cubic  V00MBMSFMA ~ V00MBMNFMA + V00MBMPFMA + I(V00MB...   \n",
       "21        cubic  V00MBMSFMA ~ V00MBMNFMA + I(V00MBMPFMA**2) + I...   \n",
       "22        cubic                      V00MBMNFMA ~ I(V00MBMPFMA**3)   \n",
       "23        cubic  V00MBMNFMA ~ V00MBMPFMA + I(V00MBMPFMA**2) + I...   \n",
       "24        cubic  V00MBMNFMA ~ V00MBMPFMA + V00MBMSFMA + I(V00MB...   \n",
       "25        cubic  V00MBMNFMA ~ V00MBMPFMA + I(V00MBMSFMA**2) + I...   \n",
       "26        cubic                      V00MBMPFMA ~ I(V00MBMNFMA**3)   \n",
       "27        cubic  V00MBMPFMA ~ V00MBMNFMA + I(V00MBMNFMA**2) + I...   \n",
       "28        cubic  V00MBMPFMA ~ V00MBMNFMA + V00MBMSFMA + I(V00MB...   \n",
       "29        cubic  V00MBMPFMA ~ V00MBMNFMA + I(V00MBMSFMA**2) + I...   \n",
       "30  interaction                 V00MBMSFMA ~ V00MBMNFMA:V00MBMPFMA   \n",
       "31  interaction                 V00MBMSFMA ~ V00MBMNFMA*V00MBMPFMA   \n",
       "32  interaction           V00MBMSFMA ~ V00MBMNFMA*I(V00MBMPFMA**2)   \n",
       "33  interaction           V00MBMSFMA ~ V00MBMNFMA*I(V00MBMPFMA**3)   \n",
       "34  interaction                 V00MBMNFMA ~ V00MBMPFMA:V00MBMSFMA   \n",
       "35  interaction                 V00MBMNFMA ~ V00MBMPFMA*V00MBMSFMA   \n",
       "36  interaction           V00MBMNFMA ~ V00MBMPFMA*I(V00MBMSFMA**2)   \n",
       "37  interaction           V00MBMNFMA ~ V00MBMPFMA*I(V00MBMSFMA**3)   \n",
       "38  interaction                 V00MBMPFMA ~ V00MBMNFMA:V00MBMSFMA   \n",
       "39  interaction                 V00MBMPFMA ~ V00MBMNFMA*V00MBMSFMA   \n",
       "40  interaction           V00MBMPFMA ~ V00MBMNFMA*I(V00MBMSFMA**2)   \n",
       "41  interaction           V00MBMPFMA ~ V00MBMNFMA*I(V00MBMSFMA**3)   \n",
       "\n",
       "                                               params  \\\n",
       "0   Intercept     0.000170\n",
       "V00MBMNFMA    1.014623\n",
       "...   \n",
       "1   Intercept     0.000063\n",
       "V00MBMNFMA    0.983446\n",
       "...   \n",
       "2   Intercept     0.002309\n",
       "V00MBMPFMA    0.337637\n",
       "...   \n",
       "3   Intercept     0.000291\n",
       "V00MBMPFMA    0.055242\n",
       "...   \n",
       "4   Intercept     0.000237\n",
       "V00MBMNFMA    2.601093\n",
       "...   \n",
       "5   Intercept     0.000150\n",
       "V00MBMNFMA    2.215880\n",
       "...   \n",
       "6   Intercept             0.001399\n",
       "I(V00MBMNFMA **...   \n",
       "7   Intercept             0.000016\n",
       "V00MBMNFMA     ...   \n",
       "8   Intercept             0.000009\n",
       "V00MBMNFMA     ...   \n",
       "9   Intercept             0.000064\n",
       "V00MBMNFMA     ...   \n",
       "10  Intercept             0.002512\n",
       "I(V00MBMPFMA **...   \n",
       "11  Intercept             0.002166\n",
       "V00MBMPFMA     ...   \n",
       "12  Intercept             0.000014\n",
       "V00MBMPFMA     ...   \n",
       "13  Intercept             0.001194\n",
       "V00MBMPFMA     ...   \n",
       "14  Intercept             0.001970\n",
       "I(V00MBMNFMA **...   \n",
       "15  Intercept             0.000008\n",
       "V00MBMNFMA     ...   \n",
       "16  Intercept             0.000004\n",
       "V00MBMNFMA     ...   \n",
       "17  Intercept             0.000173\n",
       "V00MBMNFMA     ...   \n",
       "18  Intercept             0.006546\n",
       "I(V00MBMNFMA **...   \n",
       "19  Intercept             0.000015\n",
       "V00MBMNFMA     ...   \n",
       "20  Intercept             0.000008\n",
       "V00MBMNFMA     ...   \n",
       "21  Intercept             0.000064\n",
       "V00MBMNFMA     ...   \n",
       "22  Intercept             0.002673\n",
       "I(V00MBMPFMA **...   \n",
       "23  Intercept             0.002153\n",
       "V00MBMPFMA     ...   \n",
       "24  Intercept             1.798711e-07\n",
       "V00MBMPFMA ...   \n",
       "25  Intercept             0.000225\n",
       "V00MBMPFMA     ...   \n",
       "26  Intercept             0.009319\n",
       "I(V00MBMNFMA **...   \n",
       "27  Intercept             0.000005\n",
       "V00MBMNFMA     ...   \n",
       "28  Intercept             3.870203e-09\n",
       "V00MBMNFMA ...   \n",
       "29  Intercept             0.000138\n",
       "V00MBMNFMA     ...   \n",
       "30  Intercept                0.002455\n",
       "V00MBMNFMA:V...   \n",
       "31  Intercept                0.000016\n",
       "V00MBMNFMA  ...   \n",
       "32  Intercept                        0.000018\n",
       "V00M...   \n",
       "33  Intercept                        0.000019\n",
       "V00M...   \n",
       "34  Intercept                0.002603\n",
       "V00MBMPFMA:V...   \n",
       "35  Intercept                0.000030\n",
       "V00MBMPFMA  ...   \n",
       "36  Intercept                        0.000267\n",
       "V00M...   \n",
       "37  Intercept                        0.000949\n",
       "V00M...   \n",
       "38  Intercept                0.001653\n",
       "V00MBMNFMA:V...   \n",
       "39  Intercept                0.000008\n",
       "V00MBMNFMA  ...   \n",
       "40  Intercept                        0.000051\n",
       "V00M...   \n",
       "41  Intercept                        0.000115\n",
       "V00M...   \n",
       "\n",
       "                                             p_values  r_squared  \n",
       "0   Intercept     0.785289\n",
       "V00MBMNFMA    0.000000\n",
       "...   0.967984  \n",
       "1   Intercept     0.869499\n",
       "V00MBMNFMA    0.000000\n",
       "...   0.972886  \n",
       "2   Intercept     0.01157\n",
       "V00MBMPFMA    0.00000\n",
       "dt...   0.878227  \n",
       "3   Intercept     4.087654e-01\n",
       "V00MBMPFMA    1.129...   0.976102  \n",
       "4   Intercept     0.925495\n",
       "V00MBMNFMA    0.000000\n",
       "...   0.878227  \n",
       "5   Intercept     9.464897e-01\n",
       "V00MBMNFMA    1.129...   0.875903  \n",
       "6   Intercept             0.123466\n",
       "I(V00MBMNFMA **...   0.932320  \n",
       "7   Intercept             9.775788e-01\n",
       "V00MBMNFMA ...   0.972385  \n",
       "8   Intercept             9.800889e-01\n",
       "V00MBMNFMA ...   0.976562  \n",
       "9   Intercept             0.868811\n",
       "V00MBMNFMA     ...   0.972845  \n",
       "10  Intercept             0.008382\n",
       "I(V00MBMPFMA **...   0.867736  \n",
       "11  Intercept             1.446001e-02\n",
       "V00MBMPFMA ...   0.885784  \n",
       "12  Intercept             0.933553\n",
       "V00MBMPFMA     ...   0.994579  \n",
       "13  Intercept              7.137090e-02\n",
       "V00MBMPFMA...   0.915494  \n",
       "14  Intercept             0.487478\n",
       "I(V00MBMNFMA **...   0.847929  \n",
       "15  Intercept              9.974026e-01\n",
       "V00MBMNFMA...   0.882437  \n",
       "16  Intercept             0.998637\n",
       "V00MBMNFMA     ...   0.879562  \n",
       "17  Intercept             0.938450\n",
       "V00MBMNFMA     ...   0.875401  \n",
       "18  Intercept             0.000057\n",
       "I(V00MBMNFMA **...   0.782417  \n",
       "19  Intercept             9.795006e-01\n",
       "V00MBMNFMA ...   0.972422  \n",
       "20  Intercept             9.815991e-01\n",
       "V00MBMNFMA ...   0.976620  \n",
       "21  Intercept             8.682412e-01\n",
       "V00MBMNFMA ...   0.973182  \n",
       "22  Intercept             0.006506\n",
       "I(V00MBMPFMA **...   0.859473  \n",
       "23  Intercept             1.482898e-02\n",
       "V00MBMPFMA ...   0.886434  \n",
       "24  Intercept              9.990647e-01\n",
       "V00MBMPFMA...   0.995474  \n",
       "25  Intercept             4.798818e-01\n",
       "V00MBMPFMA ...   0.980529  \n",
       "26  Intercept             0.015263\n",
       "I(V00MBMNFMA **...   0.720742  \n",
       "27  Intercept             9.982995e-01\n",
       "V00MBMNFMA ...   0.882499  \n",
       "28  Intercept             0.999999\n",
       "V00MBMNFMA     ...   0.879642  \n",
       "29  Intercept             9.506118e-01\n",
       "V00MBMNFMA ...   0.876258  \n",
       "30  Intercept                0.013715\n",
       "V00MBMNFMA:V...   0.824914  \n",
       "31  Intercept                9.646524e-01\n",
       "V00MBMNF...   0.975803  \n",
       "32  Intercept                        9.613208e-01\n",
       "...   0.975740  \n",
       "33  Intercept                        9.578207e-01\n",
       "...   0.975665  \n",
       "34  Intercept                0.006904\n",
       "V00MBMPFMA:V...   0.828499  \n",
       "35  Intercept                0.870401\n",
       "V00MBMPFMA  ...   0.993497  \n",
       "36  Intercept                        0.433769\n",
       "V00M...   0.977678  \n",
       "37  Intercept                        0.110553\n",
       "V00M...   0.931860  \n",
       "38  Intercept                0.513798\n",
       "V00MBMNFMA:V...   0.841413  \n",
       "39  Intercept                 9.970928e-01\n",
       "V00MBMN...   0.879150  \n",
       "40  Intercept                        9.814394e-01\n",
       "...   0.878195  \n",
       "41  Intercept                        9.586934e-01\n",
       "...   0.876751  "
      ],
      "text/html": [
       "<div>\n",
       "<style scoped>\n",
       "    .dataframe tbody tr th:only-of-type {\n",
       "        vertical-align: middle;\n",
       "    }\n",
       "\n",
       "    .dataframe tbody tr th {\n",
       "        vertical-align: top;\n",
       "    }\n",
       "\n",
       "    .dataframe thead th {\n",
       "        text-align: right;\n",
       "    }\n",
       "</style>\n",
       "<table border=\"1\" class=\"dataframe\">\n",
       "  <thead>\n",
       "    <tr style=\"text-align: right;\">\n",
       "      <th></th>\n",
       "      <th>type</th>\n",
       "      <th>formula</th>\n",
       "      <th>params</th>\n",
       "      <th>p_values</th>\n",
       "      <th>r_squared</th>\n",
       "    </tr>\n",
       "  </thead>\n",
       "  <tbody>\n",
       "    <tr>\n",
       "      <th>0</th>\n",
       "      <td>linear</td>\n",
       "      <td>V00MBMSFMA ~ V00MBMNFMA</td>\n",
       "      <td>Intercept     0.000170\n",
       "V00MBMNFMA    1.014623\n",
       "...</td>\n",
       "      <td>Intercept     0.785289\n",
       "V00MBMNFMA    0.000000\n",
       "...</td>\n",
       "      <td>0.967984</td>\n",
       "    </tr>\n",
       "    <tr>\n",
       "      <th>1</th>\n",
       "      <td>linear</td>\n",
       "      <td>V00MBMSFMA ~ V00MBMNFMA + V00MBMPFMA</td>\n",
       "      <td>Intercept     0.000063\n",
       "V00MBMNFMA    0.983446\n",
       "...</td>\n",
       "      <td>Intercept     0.869499\n",
       "V00MBMNFMA    0.000000\n",
       "...</td>\n",
       "      <td>0.972886</td>\n",
       "    </tr>\n",
       "    <tr>\n",
       "      <th>2</th>\n",
       "      <td>linear</td>\n",
       "      <td>V00MBMNFMA ~ V00MBMPFMA</td>\n",
       "      <td>Intercept     0.002309\n",
       "V00MBMPFMA    0.337637\n",
       "...</td>\n",
       "      <td>Intercept     0.01157\n",
       "V00MBMPFMA    0.00000\n",
       "dt...</td>\n",
       "      <td>0.878227</td>\n",
       "    </tr>\n",
       "    <tr>\n",
       "      <th>3</th>\n",
       "      <td>linear</td>\n",
       "      <td>V00MBMNFMA ~ V00MBMPFMA + V00MBMSFMA</td>\n",
       "      <td>Intercept     0.000291\n",
       "V00MBMPFMA    0.055242\n",
       "...</td>\n",
       "      <td>Intercept     4.087654e-01\n",
       "V00MBMPFMA    1.129...</td>\n",
       "      <td>0.976102</td>\n",
       "    </tr>\n",
       "    <tr>\n",
       "      <th>4</th>\n",
       "      <td>linear</td>\n",
       "      <td>V00MBMPFMA ~ V00MBMNFMA</td>\n",
       "      <td>Intercept     0.000237\n",
       "V00MBMNFMA    2.601093\n",
       "...</td>\n",
       "      <td>Intercept     0.925495\n",
       "V00MBMNFMA    0.000000\n",
       "...</td>\n",
       "      <td>0.878227</td>\n",
       "    </tr>\n",
       "    <tr>\n",
       "      <th>5</th>\n",
       "      <td>linear</td>\n",
       "      <td>V00MBMPFMA ~ V00MBMNFMA + V00MBMSFMA</td>\n",
       "      <td>Intercept     0.000150\n",
       "V00MBMNFMA    2.215880\n",
       "...</td>\n",
       "      <td>Intercept     9.464897e-01\n",
       "V00MBMNFMA    1.129...</td>\n",
       "      <td>0.875903</td>\n",
       "    </tr>\n",
       "    <tr>\n",
       "      <th>6</th>\n",
       "      <td>quadratic</td>\n",
       "      <td>V00MBMSFMA ~ I(V00MBMNFMA**2)</td>\n",
       "      <td>Intercept             0.001399\n",
       "I(V00MBMNFMA **...</td>\n",
       "      <td>Intercept             0.123466\n",
       "I(V00MBMNFMA **...</td>\n",
       "      <td>0.932320</td>\n",
       "    </tr>\n",
       "    <tr>\n",
       "      <th>7</th>\n",
       "      <td>quadratic</td>\n",
       "      <td>V00MBMSFMA ~ V00MBMNFMA + I(V00MBMNFMA**2)</td>\n",
       "      <td>Intercept             0.000016\n",
       "V00MBMNFMA     ...</td>\n",
       "      <td>Intercept             9.775788e-01\n",
       "V00MBMNFMA ...</td>\n",
       "      <td>0.972385</td>\n",
       "    </tr>\n",
       "    <tr>\n",
       "      <th>8</th>\n",
       "      <td>quadratic</td>\n",
       "      <td>V00MBMSFMA ~ V00MBMNFMA + V00MBMPFMA + I(V00MB...</td>\n",
       "      <td>Intercept             0.000009\n",
       "V00MBMNFMA     ...</td>\n",
       "      <td>Intercept             9.800889e-01\n",
       "V00MBMNFMA ...</td>\n",
       "      <td>0.976562</td>\n",
       "    </tr>\n",
       "    <tr>\n",
       "      <th>9</th>\n",
       "      <td>quadratic</td>\n",
       "      <td>V00MBMSFMA ~ V00MBMNFMA + I(V00MBMPFMA**2)</td>\n",
       "      <td>Intercept             0.000064\n",
       "V00MBMNFMA     ...</td>\n",
       "      <td>Intercept             0.868811\n",
       "V00MBMNFMA     ...</td>\n",
       "      <td>0.972845</td>\n",
       "    </tr>\n",
       "    <tr>\n",
       "      <th>10</th>\n",
       "      <td>quadratic</td>\n",
       "      <td>V00MBMNFMA ~ I(V00MBMPFMA**2)</td>\n",
       "      <td>Intercept             0.002512\n",
       "I(V00MBMPFMA **...</td>\n",
       "      <td>Intercept             0.008382\n",
       "I(V00MBMPFMA **...</td>\n",
       "      <td>0.867736</td>\n",
       "    </tr>\n",
       "    <tr>\n",
       "      <th>11</th>\n",
       "      <td>quadratic</td>\n",
       "      <td>V00MBMNFMA ~ V00MBMPFMA + I(V00MBMPFMA**2)</td>\n",
       "      <td>Intercept             0.002166\n",
       "V00MBMPFMA     ...</td>\n",
       "      <td>Intercept             1.446001e-02\n",
       "V00MBMPFMA ...</td>\n",
       "      <td>0.885784</td>\n",
       "    </tr>\n",
       "    <tr>\n",
       "      <th>12</th>\n",
       "      <td>quadratic</td>\n",
       "      <td>V00MBMNFMA ~ V00MBMPFMA + V00MBMSFMA + I(V00MB...</td>\n",
       "      <td>Intercept             0.000014\n",
       "V00MBMPFMA     ...</td>\n",
       "      <td>Intercept             0.933553\n",
       "V00MBMPFMA     ...</td>\n",
       "      <td>0.994579</td>\n",
       "    </tr>\n",
       "    <tr>\n",
       "      <th>13</th>\n",
       "      <td>quadratic</td>\n",
       "      <td>V00MBMNFMA ~ V00MBMPFMA + I(V00MBMSFMA**2)</td>\n",
       "      <td>Intercept             0.001194\n",
       "V00MBMPFMA     ...</td>\n",
       "      <td>Intercept              7.137090e-02\n",
       "V00MBMPFMA...</td>\n",
       "      <td>0.915494</td>\n",
       "    </tr>\n",
       "    <tr>\n",
       "      <th>14</th>\n",
       "      <td>quadratic</td>\n",
       "      <td>V00MBMPFMA ~ I(V00MBMNFMA**2)</td>\n",
       "      <td>Intercept             0.001970\n",
       "I(V00MBMNFMA **...</td>\n",
       "      <td>Intercept             0.487478\n",
       "I(V00MBMNFMA **...</td>\n",
       "      <td>0.847929</td>\n",
       "    </tr>\n",
       "    <tr>\n",
       "      <th>15</th>\n",
       "      <td>quadratic</td>\n",
       "      <td>V00MBMPFMA ~ V00MBMNFMA + I(V00MBMNFMA**2)</td>\n",
       "      <td>Intercept             0.000008\n",
       "V00MBMNFMA     ...</td>\n",
       "      <td>Intercept              9.974026e-01\n",
       "V00MBMNFMA...</td>\n",
       "      <td>0.882437</td>\n",
       "    </tr>\n",
       "    <tr>\n",
       "      <th>16</th>\n",
       "      <td>quadratic</td>\n",
       "      <td>V00MBMPFMA ~ V00MBMNFMA + V00MBMSFMA + I(V00MB...</td>\n",
       "      <td>Intercept             0.000004\n",
       "V00MBMNFMA     ...</td>\n",
       "      <td>Intercept             0.998637\n",
       "V00MBMNFMA     ...</td>\n",
       "      <td>0.879562</td>\n",
       "    </tr>\n",
       "    <tr>\n",
       "      <th>17</th>\n",
       "      <td>quadratic</td>\n",
       "      <td>V00MBMPFMA ~ V00MBMNFMA + I(V00MBMSFMA**2)</td>\n",
       "      <td>Intercept             0.000173\n",
       "V00MBMNFMA     ...</td>\n",
       "      <td>Intercept             0.938450\n",
       "V00MBMNFMA     ...</td>\n",
       "      <td>0.875401</td>\n",
       "    </tr>\n",
       "    <tr>\n",
       "      <th>18</th>\n",
       "      <td>cubic</td>\n",
       "      <td>V00MBMSFMA ~ I(V00MBMNFMA**3)</td>\n",
       "      <td>Intercept             0.006546\n",
       "I(V00MBMNFMA **...</td>\n",
       "      <td>Intercept             0.000057\n",
       "I(V00MBMNFMA **...</td>\n",
       "      <td>0.782417</td>\n",
       "    </tr>\n",
       "    <tr>\n",
       "      <th>19</th>\n",
       "      <td>cubic</td>\n",
       "      <td>V00MBMSFMA ~ V00MBMNFMA + I(V00MBMNFMA**2) + I...</td>\n",
       "      <td>Intercept             0.000015\n",
       "V00MBMNFMA     ...</td>\n",
       "      <td>Intercept             9.795006e-01\n",
       "V00MBMNFMA ...</td>\n",
       "      <td>0.972422</td>\n",
       "    </tr>\n",
       "    <tr>\n",
       "      <th>20</th>\n",
       "      <td>cubic</td>\n",
       "      <td>V00MBMSFMA ~ V00MBMNFMA + V00MBMPFMA + I(V00MB...</td>\n",
       "      <td>Intercept             0.000008\n",
       "V00MBMNFMA     ...</td>\n",
       "      <td>Intercept             9.815991e-01\n",
       "V00MBMNFMA ...</td>\n",
       "      <td>0.976620</td>\n",
       "    </tr>\n",
       "    <tr>\n",
       "      <th>21</th>\n",
       "      <td>cubic</td>\n",
       "      <td>V00MBMSFMA ~ V00MBMNFMA + I(V00MBMPFMA**2) + I...</td>\n",
       "      <td>Intercept             0.000064\n",
       "V00MBMNFMA     ...</td>\n",
       "      <td>Intercept             8.682412e-01\n",
       "V00MBMNFMA ...</td>\n",
       "      <td>0.973182</td>\n",
       "    </tr>\n",
       "    <tr>\n",
       "      <th>22</th>\n",
       "      <td>cubic</td>\n",
       "      <td>V00MBMNFMA ~ I(V00MBMPFMA**3)</td>\n",
       "      <td>Intercept             0.002673\n",
       "I(V00MBMPFMA **...</td>\n",
       "      <td>Intercept             0.006506\n",
       "I(V00MBMPFMA **...</td>\n",
       "      <td>0.859473</td>\n",
       "    </tr>\n",
       "    <tr>\n",
       "      <th>23</th>\n",
       "      <td>cubic</td>\n",
       "      <td>V00MBMNFMA ~ V00MBMPFMA + I(V00MBMPFMA**2) + I...</td>\n",
       "      <td>Intercept             0.002153\n",
       "V00MBMPFMA     ...</td>\n",
       "      <td>Intercept             1.482898e-02\n",
       "V00MBMPFMA ...</td>\n",
       "      <td>0.886434</td>\n",
       "    </tr>\n",
       "    <tr>\n",
       "      <th>24</th>\n",
       "      <td>cubic</td>\n",
       "      <td>V00MBMNFMA ~ V00MBMPFMA + V00MBMSFMA + I(V00MB...</td>\n",
       "      <td>Intercept             1.798711e-07\n",
       "V00MBMPFMA ...</td>\n",
       "      <td>Intercept              9.990647e-01\n",
       "V00MBMPFMA...</td>\n",
       "      <td>0.995474</td>\n",
       "    </tr>\n",
       "    <tr>\n",
       "      <th>25</th>\n",
       "      <td>cubic</td>\n",
       "      <td>V00MBMNFMA ~ V00MBMPFMA + I(V00MBMSFMA**2) + I...</td>\n",
       "      <td>Intercept             0.000225\n",
       "V00MBMPFMA     ...</td>\n",
       "      <td>Intercept             4.798818e-01\n",
       "V00MBMPFMA ...</td>\n",
       "      <td>0.980529</td>\n",
       "    </tr>\n",
       "    <tr>\n",
       "      <th>26</th>\n",
       "      <td>cubic</td>\n",
       "      <td>V00MBMPFMA ~ I(V00MBMNFMA**3)</td>\n",
       "      <td>Intercept             0.009319\n",
       "I(V00MBMNFMA **...</td>\n",
       "      <td>Intercept             0.015263\n",
       "I(V00MBMNFMA **...</td>\n",
       "      <td>0.720742</td>\n",
       "    </tr>\n",
       "    <tr>\n",
       "      <th>27</th>\n",
       "      <td>cubic</td>\n",
       "      <td>V00MBMPFMA ~ V00MBMNFMA + I(V00MBMNFMA**2) + I...</td>\n",
       "      <td>Intercept             0.000005\n",
       "V00MBMNFMA     ...</td>\n",
       "      <td>Intercept             9.982995e-01\n",
       "V00MBMNFMA ...</td>\n",
       "      <td>0.882499</td>\n",
       "    </tr>\n",
       "    <tr>\n",
       "      <th>28</th>\n",
       "      <td>cubic</td>\n",
       "      <td>V00MBMPFMA ~ V00MBMNFMA + V00MBMSFMA + I(V00MB...</td>\n",
       "      <td>Intercept             3.870203e-09\n",
       "V00MBMNFMA ...</td>\n",
       "      <td>Intercept             0.999999\n",
       "V00MBMNFMA     ...</td>\n",
       "      <td>0.879642</td>\n",
       "    </tr>\n",
       "    <tr>\n",
       "      <th>29</th>\n",
       "      <td>cubic</td>\n",
       "      <td>V00MBMPFMA ~ V00MBMNFMA + I(V00MBMSFMA**2) + I...</td>\n",
       "      <td>Intercept             0.000138\n",
       "V00MBMNFMA     ...</td>\n",
       "      <td>Intercept             9.506118e-01\n",
       "V00MBMNFMA ...</td>\n",
       "      <td>0.876258</td>\n",
       "    </tr>\n",
       "    <tr>\n",
       "      <th>30</th>\n",
       "      <td>interaction</td>\n",
       "      <td>V00MBMSFMA ~ V00MBMNFMA:V00MBMPFMA</td>\n",
       "      <td>Intercept                0.002455\n",
       "V00MBMNFMA:V...</td>\n",
       "      <td>Intercept                0.013715\n",
       "V00MBMNFMA:V...</td>\n",
       "      <td>0.824914</td>\n",
       "    </tr>\n",
       "    <tr>\n",
       "      <th>31</th>\n",
       "      <td>interaction</td>\n",
       "      <td>V00MBMSFMA ~ V00MBMNFMA*V00MBMPFMA</td>\n",
       "      <td>Intercept                0.000016\n",
       "V00MBMNFMA  ...</td>\n",
       "      <td>Intercept                9.646524e-01\n",
       "V00MBMNF...</td>\n",
       "      <td>0.975803</td>\n",
       "    </tr>\n",
       "    <tr>\n",
       "      <th>32</th>\n",
       "      <td>interaction</td>\n",
       "      <td>V00MBMSFMA ~ V00MBMNFMA*I(V00MBMPFMA**2)</td>\n",
       "      <td>Intercept                        0.000018\n",
       "V00M...</td>\n",
       "      <td>Intercept                        9.613208e-01\n",
       "...</td>\n",
       "      <td>0.975740</td>\n",
       "    </tr>\n",
       "    <tr>\n",
       "      <th>33</th>\n",
       "      <td>interaction</td>\n",
       "      <td>V00MBMSFMA ~ V00MBMNFMA*I(V00MBMPFMA**3)</td>\n",
       "      <td>Intercept                        0.000019\n",
       "V00M...</td>\n",
       "      <td>Intercept                        9.578207e-01\n",
       "...</td>\n",
       "      <td>0.975665</td>\n",
       "    </tr>\n",
       "    <tr>\n",
       "      <th>34</th>\n",
       "      <td>interaction</td>\n",
       "      <td>V00MBMNFMA ~ V00MBMPFMA:V00MBMSFMA</td>\n",
       "      <td>Intercept                0.002603\n",
       "V00MBMPFMA:V...</td>\n",
       "      <td>Intercept                0.006904\n",
       "V00MBMPFMA:V...</td>\n",
       "      <td>0.828499</td>\n",
       "    </tr>\n",
       "    <tr>\n",
       "      <th>35</th>\n",
       "      <td>interaction</td>\n",
       "      <td>V00MBMNFMA ~ V00MBMPFMA*V00MBMSFMA</td>\n",
       "      <td>Intercept                0.000030\n",
       "V00MBMPFMA  ...</td>\n",
       "      <td>Intercept                0.870401\n",
       "V00MBMPFMA  ...</td>\n",
       "      <td>0.993497</td>\n",
       "    </tr>\n",
       "    <tr>\n",
       "      <th>36</th>\n",
       "      <td>interaction</td>\n",
       "      <td>V00MBMNFMA ~ V00MBMPFMA*I(V00MBMSFMA**2)</td>\n",
       "      <td>Intercept                        0.000267\n",
       "V00M...</td>\n",
       "      <td>Intercept                        0.433769\n",
       "V00M...</td>\n",
       "      <td>0.977678</td>\n",
       "    </tr>\n",
       "    <tr>\n",
       "      <th>37</th>\n",
       "      <td>interaction</td>\n",
       "      <td>V00MBMNFMA ~ V00MBMPFMA*I(V00MBMSFMA**3)</td>\n",
       "      <td>Intercept                        0.000949\n",
       "V00M...</td>\n",
       "      <td>Intercept                        0.110553\n",
       "V00M...</td>\n",
       "      <td>0.931860</td>\n",
       "    </tr>\n",
       "    <tr>\n",
       "      <th>38</th>\n",
       "      <td>interaction</td>\n",
       "      <td>V00MBMPFMA ~ V00MBMNFMA:V00MBMSFMA</td>\n",
       "      <td>Intercept                0.001653\n",
       "V00MBMNFMA:V...</td>\n",
       "      <td>Intercept                0.513798\n",
       "V00MBMNFMA:V...</td>\n",
       "      <td>0.841413</td>\n",
       "    </tr>\n",
       "    <tr>\n",
       "      <th>39</th>\n",
       "      <td>interaction</td>\n",
       "      <td>V00MBMPFMA ~ V00MBMNFMA*V00MBMSFMA</td>\n",
       "      <td>Intercept                0.000008\n",
       "V00MBMNFMA  ...</td>\n",
       "      <td>Intercept                 9.970928e-01\n",
       "V00MBMN...</td>\n",
       "      <td>0.879150</td>\n",
       "    </tr>\n",
       "    <tr>\n",
       "      <th>40</th>\n",
       "      <td>interaction</td>\n",
       "      <td>V00MBMPFMA ~ V00MBMNFMA*I(V00MBMSFMA**2)</td>\n",
       "      <td>Intercept                        0.000051\n",
       "V00M...</td>\n",
       "      <td>Intercept                        9.814394e-01\n",
       "...</td>\n",
       "      <td>0.878195</td>\n",
       "    </tr>\n",
       "    <tr>\n",
       "      <th>41</th>\n",
       "      <td>interaction</td>\n",
       "      <td>V00MBMPFMA ~ V00MBMNFMA*I(V00MBMSFMA**3)</td>\n",
       "      <td>Intercept                        0.000115\n",
       "V00M...</td>\n",
       "      <td>Intercept                        9.586934e-01\n",
       "...</td>\n",
       "      <td>0.876751</td>\n",
       "    </tr>\n",
       "  </tbody>\n",
       "</table>\n",
       "</div>"
      ]
     },
     "metadata": {},
     "output_type": "display_data"
    }
   ],
   "execution_count": 5
  },
  {
   "metadata": {
    "ExecuteTime": {
     "end_time": "2025-08-12T16:50:44.805732Z",
     "start_time": "2025-08-12T16:50:44.776765Z"
    }
   },
   "cell_type": "code",
   "source": [
    "from scripts.fm.fm_relationships import fmc_relationships_df\n",
    "\n",
    "display(fmc_relationships_df)"
   ],
   "id": "ee59dcb9656a96c1",
   "outputs": [
    {
     "data": {
      "text/plain": [
       "           type                                            formula  \\\n",
       "0        linear                            V00MBMSFMC ~ V00MBMNFMC   \n",
       "1        linear               V00MBMSFMC ~ V00MBMNFMC + V00MBMPFMC   \n",
       "2        linear                            V00MBMNFMC ~ V00MBMPFMC   \n",
       "3        linear               V00MBMNFMC ~ V00MBMPFMC + V00MBMSFMC   \n",
       "4        linear                            V00MBMPFMC ~ V00MBMNFMC   \n",
       "5        linear               V00MBMPFMC ~ V00MBMNFMC + V00MBMSFMC   \n",
       "6     quadratic                      V00MBMSFMC ~ I(V00MBMNFMC**2)   \n",
       "7     quadratic         V00MBMSFMC ~ V00MBMNFMC + I(V00MBMNFMC**2)   \n",
       "8     quadratic  V00MBMSFMC ~ V00MBMNFMC + V00MBMPFMC + I(V00MB...   \n",
       "9     quadratic         V00MBMSFMC ~ V00MBMNFMC + I(V00MBMPFMC**2)   \n",
       "10    quadratic                      V00MBMNFMC ~ I(V00MBMPFMC**2)   \n",
       "11    quadratic         V00MBMNFMC ~ V00MBMPFMC + I(V00MBMPFMC**2)   \n",
       "12    quadratic  V00MBMNFMC ~ V00MBMPFMC + V00MBMSFMC + I(V00MB...   \n",
       "13    quadratic         V00MBMNFMC ~ V00MBMPFMC + I(V00MBMSFMC**2)   \n",
       "14    quadratic                      V00MBMPFMC ~ I(V00MBMNFMC**2)   \n",
       "15    quadratic         V00MBMPFMC ~ V00MBMNFMC + I(V00MBMNFMC**2)   \n",
       "16    quadratic  V00MBMPFMC ~ V00MBMNFMC + V00MBMSFMC + I(V00MB...   \n",
       "17    quadratic         V00MBMPFMC ~ V00MBMNFMC + I(V00MBMSFMC**2)   \n",
       "18        cubic                      V00MBMSFMC ~ I(V00MBMNFMC**3)   \n",
       "19        cubic  V00MBMSFMC ~ V00MBMNFMC + I(V00MBMNFMC**2) + I...   \n",
       "20        cubic  V00MBMSFMC ~ V00MBMNFMC + V00MBMPFMC + I(V00MB...   \n",
       "21        cubic  V00MBMSFMC ~ V00MBMNFMC + I(V00MBMPFMC**2) + I...   \n",
       "22        cubic                      V00MBMNFMC ~ I(V00MBMPFMC**3)   \n",
       "23        cubic  V00MBMNFMC ~ V00MBMPFMC + I(V00MBMPFMC**2) + I...   \n",
       "24        cubic  V00MBMNFMC ~ V00MBMPFMC + V00MBMSFMC + I(V00MB...   \n",
       "25        cubic  V00MBMNFMC ~ V00MBMPFMC + I(V00MBMSFMC**2) + I...   \n",
       "26        cubic                      V00MBMPFMC ~ I(V00MBMNFMC**3)   \n",
       "27        cubic  V00MBMPFMC ~ V00MBMNFMC + I(V00MBMNFMC**2) + I...   \n",
       "28        cubic  V00MBMPFMC ~ V00MBMNFMC + V00MBMSFMC + I(V00MB...   \n",
       "29        cubic  V00MBMPFMC ~ V00MBMNFMC + I(V00MBMSFMC**2) + I...   \n",
       "30  interaction                 V00MBMSFMC ~ V00MBMNFMC:V00MBMPFMC   \n",
       "31  interaction                 V00MBMSFMC ~ V00MBMNFMC*V00MBMPFMC   \n",
       "32  interaction           V00MBMSFMC ~ V00MBMNFMC*I(V00MBMPFMC**2)   \n",
       "33  interaction           V00MBMSFMC ~ V00MBMNFMC*I(V00MBMPFMC**3)   \n",
       "34  interaction                 V00MBMNFMC ~ V00MBMPFMC:V00MBMSFMC   \n",
       "35  interaction                 V00MBMNFMC ~ V00MBMPFMC*V00MBMSFMC   \n",
       "36  interaction           V00MBMNFMC ~ V00MBMPFMC*I(V00MBMSFMC**2)   \n",
       "37  interaction           V00MBMNFMC ~ V00MBMPFMC*I(V00MBMSFMC**3)   \n",
       "38  interaction                 V00MBMPFMC ~ V00MBMNFMC:V00MBMSFMC   \n",
       "39  interaction                 V00MBMPFMC ~ V00MBMNFMC*V00MBMSFMC   \n",
       "40  interaction           V00MBMPFMC ~ V00MBMNFMC*I(V00MBMSFMC**2)   \n",
       "41  interaction           V00MBMPFMC ~ V00MBMNFMC*I(V00MBMSFMC**3)   \n",
       "\n",
       "                                               params  \\\n",
       "0   Intercept     0.000362\n",
       "V00MBMNFMC    1.054492\n",
       "...   \n",
       "1   Intercept     0.000141\n",
       "V00MBMNFMC    0.645029\n",
       "...   \n",
       "2   Intercept     0.000352\n",
       "V00MBMPFMC    0.349519\n",
       "...   \n",
       "3   Intercept     0.000206\n",
       "V00MBMPFMC    0.243712\n",
       "...   \n",
       "4   Intercept     0.001243\n",
       "V00MBMNFMC    2.679791\n",
       "...   \n",
       "5   Intercept     0.000503\n",
       "V00MBMNFMC    2.077212\n",
       "...   \n",
       "6   Intercept             0.002713\n",
       "I(V00MBMNFMC **...   \n",
       "7   Intercept             0.000020\n",
       "V00MBMNFMC     ...   \n",
       "8   Intercept             0.000012\n",
       "V00MBMNFMC     ...   \n",
       "9   Intercept             0.000157\n",
       "V00MBMNFMC     ...   \n",
       "10  Intercept             0.000457\n",
       "I(V00MBMPFMC **...   \n",
       "11  Intercept             0.000285\n",
       "V00MBMPFMC     ...   \n",
       "12  Intercept             0.000031\n",
       "V00MBMPFMC     ...   \n",
       "13  Intercept             0.000280\n",
       "V00MBMPFMC     ...   \n",
       "14  Intercept             0.008444\n",
       "I(V00MBMNFMC **...   \n",
       "15  Intercept             0.000045\n",
       "V00MBMNFMC     ...   \n",
       "16  Intercept             0.000016\n",
       "V00MBMNFMC     ...   \n",
       "17  Intercept             0.000619\n",
       "V00MBMNFMC     ...   \n",
       "18  Intercept             0.007603\n",
       "I(V00MBMNFMC **...   \n",
       "19  Intercept             0.000004\n",
       "V00MBMNFMC     ...   \n",
       "20  Intercept             0.000002\n",
       "V00MBMNFMC     ...   \n",
       "21  Intercept             0.000125\n",
       "V00MBMNFMC     ...   \n",
       "22  Intercept             0.000552\n",
       "I(V00MBMPFMC **...   \n",
       "23  Intercept             0.000283\n",
       "V00MBMPFMC     ...   \n",
       "24  Intercept             1.681033e-07\n",
       "V00MBMPFMC ...   \n",
       "25  Intercept             0.000195\n",
       "V00MBMPFMC     ...   \n",
       "26  Intercept             0.021759\n",
       "I(V00MBMNFMC **...   \n",
       "27  Intercept             0.000002\n",
       "V00MBMNFMC     ...   \n",
       "28  Intercept            -2.992493e-07\n",
       "V00MBMNFMC ...   \n",
       "29  Intercept             0.000466\n",
       "V00MBMNFMC     ...   \n",
       "30  Intercept                0.000652\n",
       "V00MBMNFMC:V...   \n",
       "31  Intercept                8.335545e-07\n",
       "V00MBMNF...   \n",
       "32  Intercept                        0.000004\n",
       "V00M...   \n",
       "33  Intercept                        0.000008\n",
       "V00M...   \n",
       "34  Intercept                0.000978\n",
       "V00MBMPFMC:V...   \n",
       "35  Intercept                0.000014\n",
       "V00MBMPFMC  ...   \n",
       "36  Intercept                        0.000110\n",
       "V00M...   \n",
       "37  Intercept                        0.000231\n",
       "V00M...   \n",
       "38  Intercept                0.003229\n",
       "V00MBMNFMC:V...   \n",
       "39  Intercept                0.000073\n",
       "V00MBMNFMC  ...   \n",
       "40  Intercept                        0.000283\n",
       "V00M...   \n",
       "41  Intercept                        0.000446\n",
       "V00M...   \n",
       "\n",
       "                                             p_values  r_squared  \n",
       "0   Intercept     0.664081\n",
       "V00MBMNFMC    0.000000\n",
       "...   0.877199  \n",
       "1   Intercept      8.165963e-01\n",
       "V00MBMNFMC    9.64...   0.884982  \n",
       "2   Intercept     0.516631\n",
       "V00MBMPFMC    0.000000\n",
       "...   0.936639  \n",
       "3   Intercept      6.051390e-01\n",
       "V00MBMPFMC     0.0...   0.938032  \n",
       "4   Intercept     0.40787\n",
       "V00MBMNFMC    0.00000\n",
       "dt...   0.936639  \n",
       "5   Intercept     6.656283e-01\n",
       "V00MBMNFMC    0.000...   0.930803  \n",
       "6   Intercept             0.031006\n",
       "I(V00MBMNFMC **...   0.720452  \n",
       "7   Intercept              9.795401e-01\n",
       "V00MBMNFMC...   0.898017  \n",
       "8   Intercept              9.828681e-01\n",
       "V00MBMNFMC...   0.907606  \n",
       "9   Intercept              7.988283e-01\n",
       "V00MBMNFMC...   0.882270  \n",
       "10  Intercept             0.428766\n",
       "I(V00MBMPFMC **...   0.928030  \n",
       "11  Intercept              5.811819e-01\n",
       "V00MBMPFMC...   0.942534  \n",
       "12  Intercept              9.213159e-01\n",
       "V00MBMPFMC...   0.962020  \n",
       "13  Intercept             5.158889e-01\n",
       "V00MBMPFMC ...   0.927415  \n",
       "14  Intercept             0.006054\n",
       "I(V00MBMNFMC **...   0.733851  \n",
       "15  Intercept             0.964737\n",
       "V00MBMNFMC     ...   0.970355  \n",
       "16  Intercept             9.861411e-01\n",
       "V00MBMNFMC ...   0.955185  \n",
       "17  Intercept             6.090145e-01\n",
       "V00MBMNFMC ...   0.925156  \n",
       "18  Intercept              4.355642e-05\n",
       "I(V00MBMNF...   0.387379  \n",
       "19  Intercept              9.961960e-01\n",
       "V00MBMNFMC...   0.899344  \n",
       "20  Intercept             9.974371e-01\n",
       "V00MBMNFMC ...   0.909390  \n",
       "21  Intercept             8.282861e-01\n",
       "V00MBMNFMC ...   0.896772  \n",
       "22  Intercept             0.363652\n",
       "I(V00MBMPFMC **...   0.920393  \n",
       "23  Intercept             5.832605e-01\n",
       "V00MBMPFMC ...   0.942648  \n",
       "24  Intercept              9.995482e-01\n",
       "V00MBMPFMC...   0.965728  \n",
       "25  Intercept              6.199411e-01\n",
       "V00MBMPFMC...   0.939757  \n",
       "26  Intercept              5.094473e-06\n",
       "I(V00MBMNF...   0.358457  \n",
       "27  Intercept             9.986700e-01\n",
       "V00MBMNFMC ...   0.971419  \n",
       "28  Intercept             0.999744\n",
       "V00MBMNFMC     ...   0.955815  \n",
       "29  Intercept             6.836915e-01\n",
       "V00MBMNFMC ...   0.933139  \n",
       "30  Intercept                0.385797\n",
       "V00MBMNFMC:V...   0.826899  \n",
       "31  Intercept                 9.988186e-01\n",
       "V00MBMN...   0.901310  \n",
       "32  Intercept                         9.939816e-01...   0.901480  \n",
       "33  Intercept                         9.882160e-01...   0.901480  \n",
       "34  Intercept                0.139581\n",
       "V00MBMPFMC:V...   0.835951  \n",
       "35  Intercept                0.963724\n",
       "V00MBMPFMC  ...   0.964105  \n",
       "36  Intercept                         7.554416e-01...   0.951256  \n",
       "37  Intercept                        5.727830e-01\n",
       "...   0.934422  \n",
       "38  Intercept                0.108677\n",
       "V00MBMNFMC:V...   0.811737  \n",
       "39  Intercept                 9.394826e-01\n",
       "V00MBMN...   0.952438  \n",
       "40  Intercept                         7.902886e-01...   0.942331  \n",
       "41  Intercept                        6.944988e-01\n",
       "...   0.934244  "
      ],
      "text/html": [
       "<div>\n",
       "<style scoped>\n",
       "    .dataframe tbody tr th:only-of-type {\n",
       "        vertical-align: middle;\n",
       "    }\n",
       "\n",
       "    .dataframe tbody tr th {\n",
       "        vertical-align: top;\n",
       "    }\n",
       "\n",
       "    .dataframe thead th {\n",
       "        text-align: right;\n",
       "    }\n",
       "</style>\n",
       "<table border=\"1\" class=\"dataframe\">\n",
       "  <thead>\n",
       "    <tr style=\"text-align: right;\">\n",
       "      <th></th>\n",
       "      <th>type</th>\n",
       "      <th>formula</th>\n",
       "      <th>params</th>\n",
       "      <th>p_values</th>\n",
       "      <th>r_squared</th>\n",
       "    </tr>\n",
       "  </thead>\n",
       "  <tbody>\n",
       "    <tr>\n",
       "      <th>0</th>\n",
       "      <td>linear</td>\n",
       "      <td>V00MBMSFMC ~ V00MBMNFMC</td>\n",
       "      <td>Intercept     0.000362\n",
       "V00MBMNFMC    1.054492\n",
       "...</td>\n",
       "      <td>Intercept     0.664081\n",
       "V00MBMNFMC    0.000000\n",
       "...</td>\n",
       "      <td>0.877199</td>\n",
       "    </tr>\n",
       "    <tr>\n",
       "      <th>1</th>\n",
       "      <td>linear</td>\n",
       "      <td>V00MBMSFMC ~ V00MBMNFMC + V00MBMPFMC</td>\n",
       "      <td>Intercept     0.000141\n",
       "V00MBMNFMC    0.645029\n",
       "...</td>\n",
       "      <td>Intercept      8.165963e-01\n",
       "V00MBMNFMC    9.64...</td>\n",
       "      <td>0.884982</td>\n",
       "    </tr>\n",
       "    <tr>\n",
       "      <th>2</th>\n",
       "      <td>linear</td>\n",
       "      <td>V00MBMNFMC ~ V00MBMPFMC</td>\n",
       "      <td>Intercept     0.000352\n",
       "V00MBMPFMC    0.349519\n",
       "...</td>\n",
       "      <td>Intercept     0.516631\n",
       "V00MBMPFMC    0.000000\n",
       "...</td>\n",
       "      <td>0.936639</td>\n",
       "    </tr>\n",
       "    <tr>\n",
       "      <th>3</th>\n",
       "      <td>linear</td>\n",
       "      <td>V00MBMNFMC ~ V00MBMPFMC + V00MBMSFMC</td>\n",
       "      <td>Intercept     0.000206\n",
       "V00MBMPFMC    0.243712\n",
       "...</td>\n",
       "      <td>Intercept      6.051390e-01\n",
       "V00MBMPFMC     0.0...</td>\n",
       "      <td>0.938032</td>\n",
       "    </tr>\n",
       "    <tr>\n",
       "      <th>4</th>\n",
       "      <td>linear</td>\n",
       "      <td>V00MBMPFMC ~ V00MBMNFMC</td>\n",
       "      <td>Intercept     0.001243\n",
       "V00MBMNFMC    2.679791\n",
       "...</td>\n",
       "      <td>Intercept     0.40787\n",
       "V00MBMNFMC    0.00000\n",
       "dt...</td>\n",
       "      <td>0.936639</td>\n",
       "    </tr>\n",
       "    <tr>\n",
       "      <th>5</th>\n",
       "      <td>linear</td>\n",
       "      <td>V00MBMPFMC ~ V00MBMNFMC + V00MBMSFMC</td>\n",
       "      <td>Intercept     0.000503\n",
       "V00MBMNFMC    2.077212\n",
       "...</td>\n",
       "      <td>Intercept     6.656283e-01\n",
       "V00MBMNFMC    0.000...</td>\n",
       "      <td>0.930803</td>\n",
       "    </tr>\n",
       "    <tr>\n",
       "      <th>6</th>\n",
       "      <td>quadratic</td>\n",
       "      <td>V00MBMSFMC ~ I(V00MBMNFMC**2)</td>\n",
       "      <td>Intercept             0.002713\n",
       "I(V00MBMNFMC **...</td>\n",
       "      <td>Intercept             0.031006\n",
       "I(V00MBMNFMC **...</td>\n",
       "      <td>0.720452</td>\n",
       "    </tr>\n",
       "    <tr>\n",
       "      <th>7</th>\n",
       "      <td>quadratic</td>\n",
       "      <td>V00MBMSFMC ~ V00MBMNFMC + I(V00MBMNFMC**2)</td>\n",
       "      <td>Intercept             0.000020\n",
       "V00MBMNFMC     ...</td>\n",
       "      <td>Intercept              9.795401e-01\n",
       "V00MBMNFMC...</td>\n",
       "      <td>0.898017</td>\n",
       "    </tr>\n",
       "    <tr>\n",
       "      <th>8</th>\n",
       "      <td>quadratic</td>\n",
       "      <td>V00MBMSFMC ~ V00MBMNFMC + V00MBMPFMC + I(V00MB...</td>\n",
       "      <td>Intercept             0.000012\n",
       "V00MBMNFMC     ...</td>\n",
       "      <td>Intercept              9.828681e-01\n",
       "V00MBMNFMC...</td>\n",
       "      <td>0.907606</td>\n",
       "    </tr>\n",
       "    <tr>\n",
       "      <th>9</th>\n",
       "      <td>quadratic</td>\n",
       "      <td>V00MBMSFMC ~ V00MBMNFMC + I(V00MBMPFMC**2)</td>\n",
       "      <td>Intercept             0.000157\n",
       "V00MBMNFMC     ...</td>\n",
       "      <td>Intercept              7.988283e-01\n",
       "V00MBMNFMC...</td>\n",
       "      <td>0.882270</td>\n",
       "    </tr>\n",
       "    <tr>\n",
       "      <th>10</th>\n",
       "      <td>quadratic</td>\n",
       "      <td>V00MBMNFMC ~ I(V00MBMPFMC**2)</td>\n",
       "      <td>Intercept             0.000457\n",
       "I(V00MBMPFMC **...</td>\n",
       "      <td>Intercept             0.428766\n",
       "I(V00MBMPFMC **...</td>\n",
       "      <td>0.928030</td>\n",
       "    </tr>\n",
       "    <tr>\n",
       "      <th>11</th>\n",
       "      <td>quadratic</td>\n",
       "      <td>V00MBMNFMC ~ V00MBMPFMC + I(V00MBMPFMC**2)</td>\n",
       "      <td>Intercept             0.000285\n",
       "V00MBMPFMC     ...</td>\n",
       "      <td>Intercept              5.811819e-01\n",
       "V00MBMPFMC...</td>\n",
       "      <td>0.942534</td>\n",
       "    </tr>\n",
       "    <tr>\n",
       "      <th>12</th>\n",
       "      <td>quadratic</td>\n",
       "      <td>V00MBMNFMC ~ V00MBMPFMC + V00MBMSFMC + I(V00MB...</td>\n",
       "      <td>Intercept             0.000031\n",
       "V00MBMPFMC     ...</td>\n",
       "      <td>Intercept              9.213159e-01\n",
       "V00MBMPFMC...</td>\n",
       "      <td>0.962020</td>\n",
       "    </tr>\n",
       "    <tr>\n",
       "      <th>13</th>\n",
       "      <td>quadratic</td>\n",
       "      <td>V00MBMNFMC ~ V00MBMPFMC + I(V00MBMSFMC**2)</td>\n",
       "      <td>Intercept             0.000280\n",
       "V00MBMPFMC     ...</td>\n",
       "      <td>Intercept             5.158889e-01\n",
       "V00MBMPFMC ...</td>\n",
       "      <td>0.927415</td>\n",
       "    </tr>\n",
       "    <tr>\n",
       "      <th>14</th>\n",
       "      <td>quadratic</td>\n",
       "      <td>V00MBMPFMC ~ I(V00MBMNFMC**2)</td>\n",
       "      <td>Intercept             0.008444\n",
       "I(V00MBMNFMC **...</td>\n",
       "      <td>Intercept             0.006054\n",
       "I(V00MBMNFMC **...</td>\n",
       "      <td>0.733851</td>\n",
       "    </tr>\n",
       "    <tr>\n",
       "      <th>15</th>\n",
       "      <td>quadratic</td>\n",
       "      <td>V00MBMPFMC ~ V00MBMNFMC + I(V00MBMNFMC**2)</td>\n",
       "      <td>Intercept             0.000045\n",
       "V00MBMNFMC     ...</td>\n",
       "      <td>Intercept             0.964737\n",
       "V00MBMNFMC     ...</td>\n",
       "      <td>0.970355</td>\n",
       "    </tr>\n",
       "    <tr>\n",
       "      <th>16</th>\n",
       "      <td>quadratic</td>\n",
       "      <td>V00MBMPFMC ~ V00MBMNFMC + V00MBMSFMC + I(V00MB...</td>\n",
       "      <td>Intercept             0.000016\n",
       "V00MBMNFMC     ...</td>\n",
       "      <td>Intercept             9.861411e-01\n",
       "V00MBMNFMC ...</td>\n",
       "      <td>0.955185</td>\n",
       "    </tr>\n",
       "    <tr>\n",
       "      <th>17</th>\n",
       "      <td>quadratic</td>\n",
       "      <td>V00MBMPFMC ~ V00MBMNFMC + I(V00MBMSFMC**2)</td>\n",
       "      <td>Intercept             0.000619\n",
       "V00MBMNFMC     ...</td>\n",
       "      <td>Intercept             6.090145e-01\n",
       "V00MBMNFMC ...</td>\n",
       "      <td>0.925156</td>\n",
       "    </tr>\n",
       "    <tr>\n",
       "      <th>18</th>\n",
       "      <td>cubic</td>\n",
       "      <td>V00MBMSFMC ~ I(V00MBMNFMC**3)</td>\n",
       "      <td>Intercept             0.007603\n",
       "I(V00MBMNFMC **...</td>\n",
       "      <td>Intercept              4.355642e-05\n",
       "I(V00MBMNF...</td>\n",
       "      <td>0.387379</td>\n",
       "    </tr>\n",
       "    <tr>\n",
       "      <th>19</th>\n",
       "      <td>cubic</td>\n",
       "      <td>V00MBMSFMC ~ V00MBMNFMC + I(V00MBMNFMC**2) + I...</td>\n",
       "      <td>Intercept             0.000004\n",
       "V00MBMNFMC     ...</td>\n",
       "      <td>Intercept              9.961960e-01\n",
       "V00MBMNFMC...</td>\n",
       "      <td>0.899344</td>\n",
       "    </tr>\n",
       "    <tr>\n",
       "      <th>20</th>\n",
       "      <td>cubic</td>\n",
       "      <td>V00MBMSFMC ~ V00MBMNFMC + V00MBMPFMC + I(V00MB...</td>\n",
       "      <td>Intercept             0.000002\n",
       "V00MBMNFMC     ...</td>\n",
       "      <td>Intercept             9.974371e-01\n",
       "V00MBMNFMC ...</td>\n",
       "      <td>0.909390</td>\n",
       "    </tr>\n",
       "    <tr>\n",
       "      <th>21</th>\n",
       "      <td>cubic</td>\n",
       "      <td>V00MBMSFMC ~ V00MBMNFMC + I(V00MBMPFMC**2) + I...</td>\n",
       "      <td>Intercept             0.000125\n",
       "V00MBMNFMC     ...</td>\n",
       "      <td>Intercept             8.282861e-01\n",
       "V00MBMNFMC ...</td>\n",
       "      <td>0.896772</td>\n",
       "    </tr>\n",
       "    <tr>\n",
       "      <th>22</th>\n",
       "      <td>cubic</td>\n",
       "      <td>V00MBMNFMC ~ I(V00MBMPFMC**3)</td>\n",
       "      <td>Intercept             0.000552\n",
       "I(V00MBMPFMC **...</td>\n",
       "      <td>Intercept             0.363652\n",
       "I(V00MBMPFMC **...</td>\n",
       "      <td>0.920393</td>\n",
       "    </tr>\n",
       "    <tr>\n",
       "      <th>23</th>\n",
       "      <td>cubic</td>\n",
       "      <td>V00MBMNFMC ~ V00MBMPFMC + I(V00MBMPFMC**2) + I...</td>\n",
       "      <td>Intercept             0.000283\n",
       "V00MBMPFMC     ...</td>\n",
       "      <td>Intercept             5.832605e-01\n",
       "V00MBMPFMC ...</td>\n",
       "      <td>0.942648</td>\n",
       "    </tr>\n",
       "    <tr>\n",
       "      <th>24</th>\n",
       "      <td>cubic</td>\n",
       "      <td>V00MBMNFMC ~ V00MBMPFMC + V00MBMSFMC + I(V00MB...</td>\n",
       "      <td>Intercept             1.681033e-07\n",
       "V00MBMPFMC ...</td>\n",
       "      <td>Intercept              9.995482e-01\n",
       "V00MBMPFMC...</td>\n",
       "      <td>0.965728</td>\n",
       "    </tr>\n",
       "    <tr>\n",
       "      <th>25</th>\n",
       "      <td>cubic</td>\n",
       "      <td>V00MBMNFMC ~ V00MBMPFMC + I(V00MBMSFMC**2) + I...</td>\n",
       "      <td>Intercept             0.000195\n",
       "V00MBMPFMC     ...</td>\n",
       "      <td>Intercept              6.199411e-01\n",
       "V00MBMPFMC...</td>\n",
       "      <td>0.939757</td>\n",
       "    </tr>\n",
       "    <tr>\n",
       "      <th>26</th>\n",
       "      <td>cubic</td>\n",
       "      <td>V00MBMPFMC ~ I(V00MBMNFMC**3)</td>\n",
       "      <td>Intercept             0.021759\n",
       "I(V00MBMNFMC **...</td>\n",
       "      <td>Intercept              5.094473e-06\n",
       "I(V00MBMNF...</td>\n",
       "      <td>0.358457</td>\n",
       "    </tr>\n",
       "    <tr>\n",
       "      <th>27</th>\n",
       "      <td>cubic</td>\n",
       "      <td>V00MBMPFMC ~ V00MBMNFMC + I(V00MBMNFMC**2) + I...</td>\n",
       "      <td>Intercept             0.000002\n",
       "V00MBMNFMC     ...</td>\n",
       "      <td>Intercept             9.986700e-01\n",
       "V00MBMNFMC ...</td>\n",
       "      <td>0.971419</td>\n",
       "    </tr>\n",
       "    <tr>\n",
       "      <th>28</th>\n",
       "      <td>cubic</td>\n",
       "      <td>V00MBMPFMC ~ V00MBMNFMC + V00MBMSFMC + I(V00MB...</td>\n",
       "      <td>Intercept            -2.992493e-07\n",
       "V00MBMNFMC ...</td>\n",
       "      <td>Intercept             0.999744\n",
       "V00MBMNFMC     ...</td>\n",
       "      <td>0.955815</td>\n",
       "    </tr>\n",
       "    <tr>\n",
       "      <th>29</th>\n",
       "      <td>cubic</td>\n",
       "      <td>V00MBMPFMC ~ V00MBMNFMC + I(V00MBMSFMC**2) + I...</td>\n",
       "      <td>Intercept             0.000466\n",
       "V00MBMNFMC     ...</td>\n",
       "      <td>Intercept             6.836915e-01\n",
       "V00MBMNFMC ...</td>\n",
       "      <td>0.933139</td>\n",
       "    </tr>\n",
       "    <tr>\n",
       "      <th>30</th>\n",
       "      <td>interaction</td>\n",
       "      <td>V00MBMSFMC ~ V00MBMNFMC:V00MBMPFMC</td>\n",
       "      <td>Intercept                0.000652\n",
       "V00MBMNFMC:V...</td>\n",
       "      <td>Intercept                0.385797\n",
       "V00MBMNFMC:V...</td>\n",
       "      <td>0.826899</td>\n",
       "    </tr>\n",
       "    <tr>\n",
       "      <th>31</th>\n",
       "      <td>interaction</td>\n",
       "      <td>V00MBMSFMC ~ V00MBMNFMC*V00MBMPFMC</td>\n",
       "      <td>Intercept                8.335545e-07\n",
       "V00MBMNF...</td>\n",
       "      <td>Intercept                 9.988186e-01\n",
       "V00MBMN...</td>\n",
       "      <td>0.901310</td>\n",
       "    </tr>\n",
       "    <tr>\n",
       "      <th>32</th>\n",
       "      <td>interaction</td>\n",
       "      <td>V00MBMSFMC ~ V00MBMNFMC*I(V00MBMPFMC**2)</td>\n",
       "      <td>Intercept                        0.000004\n",
       "V00M...</td>\n",
       "      <td>Intercept                         9.939816e-01...</td>\n",
       "      <td>0.901480</td>\n",
       "    </tr>\n",
       "    <tr>\n",
       "      <th>33</th>\n",
       "      <td>interaction</td>\n",
       "      <td>V00MBMSFMC ~ V00MBMNFMC*I(V00MBMPFMC**3)</td>\n",
       "      <td>Intercept                        0.000008\n",
       "V00M...</td>\n",
       "      <td>Intercept                         9.882160e-01...</td>\n",
       "      <td>0.901480</td>\n",
       "    </tr>\n",
       "    <tr>\n",
       "      <th>34</th>\n",
       "      <td>interaction</td>\n",
       "      <td>V00MBMNFMC ~ V00MBMPFMC:V00MBMSFMC</td>\n",
       "      <td>Intercept                0.000978\n",
       "V00MBMPFMC:V...</td>\n",
       "      <td>Intercept                0.139581\n",
       "V00MBMPFMC:V...</td>\n",
       "      <td>0.835951</td>\n",
       "    </tr>\n",
       "    <tr>\n",
       "      <th>35</th>\n",
       "      <td>interaction</td>\n",
       "      <td>V00MBMNFMC ~ V00MBMPFMC*V00MBMSFMC</td>\n",
       "      <td>Intercept                0.000014\n",
       "V00MBMPFMC  ...</td>\n",
       "      <td>Intercept                0.963724\n",
       "V00MBMPFMC  ...</td>\n",
       "      <td>0.964105</td>\n",
       "    </tr>\n",
       "    <tr>\n",
       "      <th>36</th>\n",
       "      <td>interaction</td>\n",
       "      <td>V00MBMNFMC ~ V00MBMPFMC*I(V00MBMSFMC**2)</td>\n",
       "      <td>Intercept                        0.000110\n",
       "V00M...</td>\n",
       "      <td>Intercept                         7.554416e-01...</td>\n",
       "      <td>0.951256</td>\n",
       "    </tr>\n",
       "    <tr>\n",
       "      <th>37</th>\n",
       "      <td>interaction</td>\n",
       "      <td>V00MBMNFMC ~ V00MBMPFMC*I(V00MBMSFMC**3)</td>\n",
       "      <td>Intercept                        0.000231\n",
       "V00M...</td>\n",
       "      <td>Intercept                        5.727830e-01\n",
       "...</td>\n",
       "      <td>0.934422</td>\n",
       "    </tr>\n",
       "    <tr>\n",
       "      <th>38</th>\n",
       "      <td>interaction</td>\n",
       "      <td>V00MBMPFMC ~ V00MBMNFMC:V00MBMSFMC</td>\n",
       "      <td>Intercept                0.003229\n",
       "V00MBMNFMC:V...</td>\n",
       "      <td>Intercept                0.108677\n",
       "V00MBMNFMC:V...</td>\n",
       "      <td>0.811737</td>\n",
       "    </tr>\n",
       "    <tr>\n",
       "      <th>39</th>\n",
       "      <td>interaction</td>\n",
       "      <td>V00MBMPFMC ~ V00MBMNFMC*V00MBMSFMC</td>\n",
       "      <td>Intercept                0.000073\n",
       "V00MBMNFMC  ...</td>\n",
       "      <td>Intercept                 9.394826e-01\n",
       "V00MBMN...</td>\n",
       "      <td>0.952438</td>\n",
       "    </tr>\n",
       "    <tr>\n",
       "      <th>40</th>\n",
       "      <td>interaction</td>\n",
       "      <td>V00MBMPFMC ~ V00MBMNFMC*I(V00MBMSFMC**2)</td>\n",
       "      <td>Intercept                        0.000283\n",
       "V00M...</td>\n",
       "      <td>Intercept                         7.902886e-01...</td>\n",
       "      <td>0.942331</td>\n",
       "    </tr>\n",
       "    <tr>\n",
       "      <th>41</th>\n",
       "      <td>interaction</td>\n",
       "      <td>V00MBMPFMC ~ V00MBMNFMC*I(V00MBMSFMC**3)</td>\n",
       "      <td>Intercept                        0.000446\n",
       "V00M...</td>\n",
       "      <td>Intercept                        6.944988e-01\n",
       "...</td>\n",
       "      <td>0.934244</td>\n",
       "    </tr>\n",
       "  </tbody>\n",
       "</table>\n",
       "</div>"
      ]
     },
     "metadata": {},
     "output_type": "display_data"
    }
   ],
   "execution_count": 6
  },
  {
   "metadata": {
    "ExecuteTime": {
     "end_time": "2025-08-12T16:50:44.884731Z",
     "start_time": "2025-08-12T16:50:44.844248Z"
    }
   },
   "cell_type": "code",
   "source": [
    "from scripts.fm.fm_relationships import fmp_relationships_df\n",
    "\n",
    "display(fmp_relationships_df)"
   ],
   "id": "317ac1d1617a1e1d",
   "outputs": [
    {
     "data": {
      "text/plain": [
       "           type                                            formula  \\\n",
       "0        linear                            V00MBMSFMP ~ V00MBMNFMP   \n",
       "1        linear               V00MBMSFMP ~ V00MBMNFMP + V00MBMPFMP   \n",
       "2        linear                            V00MBMNFMP ~ V00MBMPFMP   \n",
       "3        linear               V00MBMNFMP ~ V00MBMPFMP + V00MBMSFMP   \n",
       "4        linear                            V00MBMPFMP ~ V00MBMNFMP   \n",
       "5        linear               V00MBMPFMP ~ V00MBMNFMP + V00MBMSFMP   \n",
       "6     quadratic                      V00MBMSFMP ~ I(V00MBMNFMP**2)   \n",
       "7     quadratic         V00MBMSFMP ~ V00MBMNFMP + I(V00MBMNFMP**2)   \n",
       "8     quadratic  V00MBMSFMP ~ V00MBMNFMP + V00MBMPFMP + I(V00MB...   \n",
       "9     quadratic         V00MBMSFMP ~ V00MBMNFMP + I(V00MBMPFMP**2)   \n",
       "10    quadratic                      V00MBMNFMP ~ I(V00MBMPFMP**2)   \n",
       "11    quadratic         V00MBMNFMP ~ V00MBMPFMP + I(V00MBMPFMP**2)   \n",
       "12    quadratic  V00MBMNFMP ~ V00MBMPFMP + V00MBMSFMP + I(V00MB...   \n",
       "13    quadratic         V00MBMNFMP ~ V00MBMPFMP + I(V00MBMSFMP**2)   \n",
       "14    quadratic                      V00MBMPFMP ~ I(V00MBMNFMP**2)   \n",
       "15    quadratic         V00MBMPFMP ~ V00MBMNFMP + I(V00MBMNFMP**2)   \n",
       "16    quadratic  V00MBMPFMP ~ V00MBMNFMP + V00MBMSFMP + I(V00MB...   \n",
       "17    quadratic         V00MBMPFMP ~ V00MBMNFMP + I(V00MBMSFMP**2)   \n",
       "18        cubic                      V00MBMSFMP ~ I(V00MBMNFMP**3)   \n",
       "19        cubic  V00MBMSFMP ~ V00MBMNFMP + I(V00MBMNFMP**2) + I...   \n",
       "20        cubic  V00MBMSFMP ~ V00MBMNFMP + V00MBMPFMP + I(V00MB...   \n",
       "21        cubic  V00MBMSFMP ~ V00MBMNFMP + I(V00MBMPFMP**2) + I...   \n",
       "22        cubic                      V00MBMNFMP ~ I(V00MBMPFMP**3)   \n",
       "23        cubic  V00MBMNFMP ~ V00MBMPFMP + I(V00MBMPFMP**2) + I...   \n",
       "24        cubic  V00MBMNFMP ~ V00MBMPFMP + V00MBMSFMP + I(V00MB...   \n",
       "25        cubic  V00MBMNFMP ~ V00MBMPFMP + I(V00MBMSFMP**2) + I...   \n",
       "26        cubic                      V00MBMPFMP ~ I(V00MBMNFMP**3)   \n",
       "27        cubic  V00MBMPFMP ~ V00MBMNFMP + I(V00MBMNFMP**2) + I...   \n",
       "28        cubic  V00MBMPFMP ~ V00MBMNFMP + V00MBMSFMP + I(V00MB...   \n",
       "29        cubic  V00MBMPFMP ~ V00MBMNFMP + I(V00MBMSFMP**2) + I...   \n",
       "30  interaction                 V00MBMSFMP ~ V00MBMNFMP:V00MBMPFMP   \n",
       "31  interaction                 V00MBMSFMP ~ V00MBMNFMP*V00MBMPFMP   \n",
       "32  interaction           V00MBMSFMP ~ V00MBMNFMP*I(V00MBMPFMP**2)   \n",
       "33  interaction           V00MBMSFMP ~ V00MBMNFMP*I(V00MBMPFMP**3)   \n",
       "34  interaction                 V00MBMNFMP ~ V00MBMPFMP:V00MBMSFMP   \n",
       "35  interaction                 V00MBMNFMP ~ V00MBMPFMP*V00MBMSFMP   \n",
       "36  interaction           V00MBMNFMP ~ V00MBMPFMP*I(V00MBMSFMP**2)   \n",
       "37  interaction           V00MBMNFMP ~ V00MBMPFMP*I(V00MBMSFMP**3)   \n",
       "38  interaction                 V00MBMPFMP ~ V00MBMNFMP:V00MBMSFMP   \n",
       "39  interaction                 V00MBMPFMP ~ V00MBMNFMP*V00MBMSFMP   \n",
       "40  interaction           V00MBMPFMP ~ V00MBMNFMP*I(V00MBMSFMP**2)   \n",
       "41  interaction           V00MBMPFMP ~ V00MBMNFMP*I(V00MBMSFMP**3)   \n",
       "\n",
       "                                               params  \\\n",
       "0   Intercept     0.000039\n",
       "V00MBMNFMP    1.062000\n",
       "...   \n",
       "1   Intercept     0.000019\n",
       "V00MBMNFMP    0.932939\n",
       "...   \n",
       "2   Intercept     0.000080\n",
       "V00MBMPFMP    0.347937\n",
       "...   \n",
       "3   Intercept     0.000032\n",
       "V00MBMPFMP    0.244257\n",
       "...   \n",
       "4   Intercept     0.000133\n",
       "V00MBMNFMP    2.757211\n",
       "...   \n",
       "5   Intercept     0.000068\n",
       "V00MBMNFMP    2.649840\n",
       "...   \n",
       "6   Intercept             0.000526\n",
       "I(V00MBMNFMP **...   \n",
       "7   Intercept             4.541437e-07\n",
       "V00MBMNFMP ...   \n",
       "8   Intercept            -3.218748e-08\n",
       "V00MBMNFMP ...   \n",
       "9   Intercept             0.000023\n",
       "V00MBMNFMP     ...   \n",
       "10  Intercept             0.000164\n",
       "I(V00MBMPFMP **...   \n",
       "11  Intercept             0.000033\n",
       "V00MBMPFMP     ...   \n",
       "12  Intercept             0.000006\n",
       "V00MBMPFMP     ...   \n",
       "13  Intercept             0.000044\n",
       "V00MBMPFMP     ...   \n",
       "14  Intercept             0.001472\n",
       "I(V00MBMNFMP **...   \n",
       "15  Intercept             0.000004\n",
       "V00MBMNFMP     ...   \n",
       "16  Intercept             0.000002\n",
       "V00MBMNFMP     ...   \n",
       "17  Intercept             0.000072\n",
       "V00MBMNFMP     ...   \n",
       "18  Intercept             0.002324\n",
       "I(V00MBMNFMP **...   \n",
       "19  Intercept             5.717529e-07\n",
       "V00MBMNFMP ...   \n",
       "20  Intercept             2.768691e-07\n",
       "V00MBMNFMP ...   \n",
       "21  Intercept             0.000012\n",
       "V00MBMNFMP     ...   \n",
       "22  Intercept             0.000242\n",
       "I(V00MBMPFMP **...   \n",
       "23  Intercept             0.000032\n",
       "V00MBMPFMP     ...   \n",
       "24  Intercept             1.429383e-07\n",
       "V00MBMPFMP ...   \n",
       "25  Intercept             0.000033\n",
       "V00MBMPFMP     ...   \n",
       "26  Intercept             0.005469\n",
       "I(V00MBMNFMP **...   \n",
       "27  Intercept             4.284908e-07\n",
       "V00MBMNFMP ...   \n",
       "28  Intercept            -1.310995e-07\n",
       "V00MBMNFMP ...   \n",
       "29  Intercept             0.000060\n",
       "V00MBMNFMP     ...   \n",
       "30  Intercept                0.000097\n",
       "V00MBMNFMP:V...   \n",
       "31  Intercept                8.357671e-07\n",
       "V00MBMNF...   \n",
       "32  Intercept                        0.000002\n",
       "V00M...   \n",
       "33  Intercept                        0.000003\n",
       "V00M...   \n",
       "34  Intercept                0.000189\n",
       "V00MBMPFMP:V...   \n",
       "35  Intercept                0.000005\n",
       "V00MBMPFMP  ...   \n",
       "36  Intercept                        0.000025\n",
       "V00M...   \n",
       "37  Intercept                        0.000040\n",
       "V00M...   \n",
       "38  Intercept                0.000698\n",
       "V00MBMNFMP:V...   \n",
       "39  Intercept                0.000012\n",
       "V00MBMNFMP  ...   \n",
       "40  Intercept                        0.000037\n",
       "V00M...   \n",
       "41  Intercept                        0.000053\n",
       "V00M...   \n",
       "\n",
       "                                             p_values  r_squared  \n",
       "0   Intercept     0.914031\n",
       "V00MBMNFMP    0.000000\n",
       "...   0.919909  \n",
       "1   Intercept      9.405402e-01\n",
       "V00MBMNFMP    1.10...   0.918514  \n",
       "2   Intercept     0.706901\n",
       "V00MBMPFMP    0.000000\n",
       "...   0.959337  \n",
       "3   Intercept      8.207277e-01\n",
       "V00MBMPFMP     0.0...   0.971071  \n",
       "4   Intercept     0.823634\n",
       "V00MBMNFMP    0.000000\n",
       "...   0.959337  \n",
       "5   Intercept     0.882313\n",
       "V00MBMNFMP    0.000000\n",
       "...   0.961519  \n",
       "6   Intercept             0.343736\n",
       "I(V00MBMNFMP **...   0.811029  \n",
       "7   Intercept             9.989463e-01\n",
       "V00MBMNFMP ...   0.927678  \n",
       "8   Intercept             9.998918e-01\n",
       "V00MBMNFMP ...   0.932096  \n",
       "9   Intercept              9.303687e-01\n",
       "V00MBMNFMP...   0.917994  \n",
       "10  Intercept             0.54845\n",
       "I(V00MBMPFMP ** ...   0.932668  \n",
       "11  Intercept              8.433606e-01\n",
       "V00MBMPFMP...   0.973991  \n",
       "12  Intercept              9.566024e-01\n",
       "V00MBMPFMP...   0.984196  \n",
       "13  Intercept             7.777805e-01\n",
       "V00MBMPFMP ...   0.964700  \n",
       "14  Intercept             0.254528\n",
       "I(V00MBMNFMP **...   0.808956  \n",
       "15  Intercept              9.932208e-01\n",
       "V00MBMNFMP...   0.973738  \n",
       "16  Intercept             9.965114e-01\n",
       "V00MBMNFMP ...   0.974573  \n",
       "17  Intercept             0.875654\n",
       "V00MBMNFMP     ...   0.961496  \n",
       "18  Intercept              1.887882e-02\n",
       "I(V00MBMNF...   0.399706  \n",
       "19  Intercept             9.986736e-01\n",
       "V00MBMNFMP ...   0.927681  \n",
       "20  Intercept             9.990683e-01\n",
       "V00MBMNFMP ...   0.932322  \n",
       "21  Intercept             9.622277e-01\n",
       "V00MBMNFMP ...   0.927975  \n",
       "22  Intercept             0.447788\n",
       "I(V00MBMPFMP **...   0.907631  \n",
       "23  Intercept             8.482702e-01\n",
       "V00MBMPFMP ...   0.974434  \n",
       "24  Intercept              9.987948e-01\n",
       "V00MBMPFMP...   0.986834  \n",
       "25  Intercept              8.147854e-01\n",
       "V00MBMPFMP...   0.970166  \n",
       "26  Intercept              2.071723e-02\n",
       "I(V00MBMNF...   0.359581  \n",
       "27  Intercept              9.992815e-01\n",
       "V00MBMNFMP...   0.974107  \n",
       "28  Intercept             0.999720\n",
       "V00MBMNFMP     ...   0.974832  \n",
       "29  Intercept             8.928944e-01\n",
       "V00MBMNFMP ...   0.964064  \n",
       "30  Intercept                0.762593\n",
       "V00MBMNFMP:V...   0.878399  \n",
       "31  Intercept                 9.972804e-01\n",
       "V00MBMN...   0.927550  \n",
       "32  Intercept                        9.935747e-01\n",
       "...   0.928211  \n",
       "33  Intercept                        9.906372e-01\n",
       "...   0.928351  \n",
       "34  Intercept                0.490427\n",
       "V00MBMPFMP:V...   0.894397  \n",
       "35  Intercept                0.959152\n",
       "V00MBMPFMP  ...   0.984058  \n",
       "36  Intercept                         8.534283e-01...   0.974096  \n",
       "37  Intercept                        7.932785e-01\n",
       "...   0.966366  \n",
       "38  Intercept                0.455658\n",
       "V00MBMNFMP:V...   0.845104  \n",
       "39  Intercept                 9.760126e-01\n",
       "V00MBMN...   0.972271  \n",
       "40  Intercept                         9.297633e-01...   0.967770  \n",
       "41  Intercept                        9.034396e-01\n",
       "...   0.965014  "
      ],
      "text/html": [
       "<div>\n",
       "<style scoped>\n",
       "    .dataframe tbody tr th:only-of-type {\n",
       "        vertical-align: middle;\n",
       "    }\n",
       "\n",
       "    .dataframe tbody tr th {\n",
       "        vertical-align: top;\n",
       "    }\n",
       "\n",
       "    .dataframe thead th {\n",
       "        text-align: right;\n",
       "    }\n",
       "</style>\n",
       "<table border=\"1\" class=\"dataframe\">\n",
       "  <thead>\n",
       "    <tr style=\"text-align: right;\">\n",
       "      <th></th>\n",
       "      <th>type</th>\n",
       "      <th>formula</th>\n",
       "      <th>params</th>\n",
       "      <th>p_values</th>\n",
       "      <th>r_squared</th>\n",
       "    </tr>\n",
       "  </thead>\n",
       "  <tbody>\n",
       "    <tr>\n",
       "      <th>0</th>\n",
       "      <td>linear</td>\n",
       "      <td>V00MBMSFMP ~ V00MBMNFMP</td>\n",
       "      <td>Intercept     0.000039\n",
       "V00MBMNFMP    1.062000\n",
       "...</td>\n",
       "      <td>Intercept     0.914031\n",
       "V00MBMNFMP    0.000000\n",
       "...</td>\n",
       "      <td>0.919909</td>\n",
       "    </tr>\n",
       "    <tr>\n",
       "      <th>1</th>\n",
       "      <td>linear</td>\n",
       "      <td>V00MBMSFMP ~ V00MBMNFMP + V00MBMPFMP</td>\n",
       "      <td>Intercept     0.000019\n",
       "V00MBMNFMP    0.932939\n",
       "...</td>\n",
       "      <td>Intercept      9.405402e-01\n",
       "V00MBMNFMP    1.10...</td>\n",
       "      <td>0.918514</td>\n",
       "    </tr>\n",
       "    <tr>\n",
       "      <th>2</th>\n",
       "      <td>linear</td>\n",
       "      <td>V00MBMNFMP ~ V00MBMPFMP</td>\n",
       "      <td>Intercept     0.000080\n",
       "V00MBMPFMP    0.347937\n",
       "...</td>\n",
       "      <td>Intercept     0.706901\n",
       "V00MBMPFMP    0.000000\n",
       "...</td>\n",
       "      <td>0.959337</td>\n",
       "    </tr>\n",
       "    <tr>\n",
       "      <th>3</th>\n",
       "      <td>linear</td>\n",
       "      <td>V00MBMNFMP ~ V00MBMPFMP + V00MBMSFMP</td>\n",
       "      <td>Intercept     0.000032\n",
       "V00MBMPFMP    0.244257\n",
       "...</td>\n",
       "      <td>Intercept      8.207277e-01\n",
       "V00MBMPFMP     0.0...</td>\n",
       "      <td>0.971071</td>\n",
       "    </tr>\n",
       "    <tr>\n",
       "      <th>4</th>\n",
       "      <td>linear</td>\n",
       "      <td>V00MBMPFMP ~ V00MBMNFMP</td>\n",
       "      <td>Intercept     0.000133\n",
       "V00MBMNFMP    2.757211\n",
       "...</td>\n",
       "      <td>Intercept     0.823634\n",
       "V00MBMNFMP    0.000000\n",
       "...</td>\n",
       "      <td>0.959337</td>\n",
       "    </tr>\n",
       "    <tr>\n",
       "      <th>5</th>\n",
       "      <td>linear</td>\n",
       "      <td>V00MBMPFMP ~ V00MBMNFMP + V00MBMSFMP</td>\n",
       "      <td>Intercept     0.000068\n",
       "V00MBMNFMP    2.649840\n",
       "...</td>\n",
       "      <td>Intercept     0.882313\n",
       "V00MBMNFMP    0.000000\n",
       "...</td>\n",
       "      <td>0.961519</td>\n",
       "    </tr>\n",
       "    <tr>\n",
       "      <th>6</th>\n",
       "      <td>quadratic</td>\n",
       "      <td>V00MBMSFMP ~ I(V00MBMNFMP**2)</td>\n",
       "      <td>Intercept             0.000526\n",
       "I(V00MBMNFMP **...</td>\n",
       "      <td>Intercept             0.343736\n",
       "I(V00MBMNFMP **...</td>\n",
       "      <td>0.811029</td>\n",
       "    </tr>\n",
       "    <tr>\n",
       "      <th>7</th>\n",
       "      <td>quadratic</td>\n",
       "      <td>V00MBMSFMP ~ V00MBMNFMP + I(V00MBMNFMP**2)</td>\n",
       "      <td>Intercept             4.541437e-07\n",
       "V00MBMNFMP ...</td>\n",
       "      <td>Intercept             9.989463e-01\n",
       "V00MBMNFMP ...</td>\n",
       "      <td>0.927678</td>\n",
       "    </tr>\n",
       "    <tr>\n",
       "      <th>8</th>\n",
       "      <td>quadratic</td>\n",
       "      <td>V00MBMSFMP ~ V00MBMNFMP + V00MBMPFMP + I(V00MB...</td>\n",
       "      <td>Intercept            -3.218748e-08\n",
       "V00MBMNFMP ...</td>\n",
       "      <td>Intercept             9.998918e-01\n",
       "V00MBMNFMP ...</td>\n",
       "      <td>0.932096</td>\n",
       "    </tr>\n",
       "    <tr>\n",
       "      <th>9</th>\n",
       "      <td>quadratic</td>\n",
       "      <td>V00MBMSFMP ~ V00MBMNFMP + I(V00MBMPFMP**2)</td>\n",
       "      <td>Intercept             0.000023\n",
       "V00MBMNFMP     ...</td>\n",
       "      <td>Intercept              9.303687e-01\n",
       "V00MBMNFMP...</td>\n",
       "      <td>0.917994</td>\n",
       "    </tr>\n",
       "    <tr>\n",
       "      <th>10</th>\n",
       "      <td>quadratic</td>\n",
       "      <td>V00MBMNFMP ~ I(V00MBMPFMP**2)</td>\n",
       "      <td>Intercept             0.000164\n",
       "I(V00MBMPFMP **...</td>\n",
       "      <td>Intercept             0.54845\n",
       "I(V00MBMPFMP ** ...</td>\n",
       "      <td>0.932668</td>\n",
       "    </tr>\n",
       "    <tr>\n",
       "      <th>11</th>\n",
       "      <td>quadratic</td>\n",
       "      <td>V00MBMNFMP ~ V00MBMPFMP + I(V00MBMPFMP**2)</td>\n",
       "      <td>Intercept             0.000033\n",
       "V00MBMPFMP     ...</td>\n",
       "      <td>Intercept              8.433606e-01\n",
       "V00MBMPFMP...</td>\n",
       "      <td>0.973991</td>\n",
       "    </tr>\n",
       "    <tr>\n",
       "      <th>12</th>\n",
       "      <td>quadratic</td>\n",
       "      <td>V00MBMNFMP ~ V00MBMPFMP + V00MBMSFMP + I(V00MB...</td>\n",
       "      <td>Intercept             0.000006\n",
       "V00MBMPFMP     ...</td>\n",
       "      <td>Intercept              9.566024e-01\n",
       "V00MBMPFMP...</td>\n",
       "      <td>0.984196</td>\n",
       "    </tr>\n",
       "    <tr>\n",
       "      <th>13</th>\n",
       "      <td>quadratic</td>\n",
       "      <td>V00MBMNFMP ~ V00MBMPFMP + I(V00MBMSFMP**2)</td>\n",
       "      <td>Intercept             0.000044\n",
       "V00MBMPFMP     ...</td>\n",
       "      <td>Intercept             7.777805e-01\n",
       "V00MBMPFMP ...</td>\n",
       "      <td>0.964700</td>\n",
       "    </tr>\n",
       "    <tr>\n",
       "      <th>14</th>\n",
       "      <td>quadratic</td>\n",
       "      <td>V00MBMPFMP ~ I(V00MBMNFMP**2)</td>\n",
       "      <td>Intercept             0.001472\n",
       "I(V00MBMNFMP **...</td>\n",
       "      <td>Intercept             0.254528\n",
       "I(V00MBMNFMP **...</td>\n",
       "      <td>0.808956</td>\n",
       "    </tr>\n",
       "    <tr>\n",
       "      <th>15</th>\n",
       "      <td>quadratic</td>\n",
       "      <td>V00MBMPFMP ~ V00MBMNFMP + I(V00MBMNFMP**2)</td>\n",
       "      <td>Intercept             0.000004\n",
       "V00MBMNFMP     ...</td>\n",
       "      <td>Intercept              9.932208e-01\n",
       "V00MBMNFMP...</td>\n",
       "      <td>0.973738</td>\n",
       "    </tr>\n",
       "    <tr>\n",
       "      <th>16</th>\n",
       "      <td>quadratic</td>\n",
       "      <td>V00MBMPFMP ~ V00MBMNFMP + V00MBMSFMP + I(V00MB...</td>\n",
       "      <td>Intercept             0.000002\n",
       "V00MBMNFMP     ...</td>\n",
       "      <td>Intercept             9.965114e-01\n",
       "V00MBMNFMP ...</td>\n",
       "      <td>0.974573</td>\n",
       "    </tr>\n",
       "    <tr>\n",
       "      <th>17</th>\n",
       "      <td>quadratic</td>\n",
       "      <td>V00MBMPFMP ~ V00MBMNFMP + I(V00MBMSFMP**2)</td>\n",
       "      <td>Intercept             0.000072\n",
       "V00MBMNFMP     ...</td>\n",
       "      <td>Intercept             0.875654\n",
       "V00MBMNFMP     ...</td>\n",
       "      <td>0.961496</td>\n",
       "    </tr>\n",
       "    <tr>\n",
       "      <th>18</th>\n",
       "      <td>cubic</td>\n",
       "      <td>V00MBMSFMP ~ I(V00MBMNFMP**3)</td>\n",
       "      <td>Intercept             0.002324\n",
       "I(V00MBMNFMP **...</td>\n",
       "      <td>Intercept              1.887882e-02\n",
       "I(V00MBMNF...</td>\n",
       "      <td>0.399706</td>\n",
       "    </tr>\n",
       "    <tr>\n",
       "      <th>19</th>\n",
       "      <td>cubic</td>\n",
       "      <td>V00MBMSFMP ~ V00MBMNFMP + I(V00MBMNFMP**2) + I...</td>\n",
       "      <td>Intercept             5.717529e-07\n",
       "V00MBMNFMP ...</td>\n",
       "      <td>Intercept             9.986736e-01\n",
       "V00MBMNFMP ...</td>\n",
       "      <td>0.927681</td>\n",
       "    </tr>\n",
       "    <tr>\n",
       "      <th>20</th>\n",
       "      <td>cubic</td>\n",
       "      <td>V00MBMSFMP ~ V00MBMNFMP + V00MBMPFMP + I(V00MB...</td>\n",
       "      <td>Intercept             2.768691e-07\n",
       "V00MBMNFMP ...</td>\n",
       "      <td>Intercept             9.990683e-01\n",
       "V00MBMNFMP ...</td>\n",
       "      <td>0.932322</td>\n",
       "    </tr>\n",
       "    <tr>\n",
       "      <th>21</th>\n",
       "      <td>cubic</td>\n",
       "      <td>V00MBMSFMP ~ V00MBMNFMP + I(V00MBMPFMP**2) + I...</td>\n",
       "      <td>Intercept             0.000012\n",
       "V00MBMNFMP     ...</td>\n",
       "      <td>Intercept             9.622277e-01\n",
       "V00MBMNFMP ...</td>\n",
       "      <td>0.927975</td>\n",
       "    </tr>\n",
       "    <tr>\n",
       "      <th>22</th>\n",
       "      <td>cubic</td>\n",
       "      <td>V00MBMNFMP ~ I(V00MBMPFMP**3)</td>\n",
       "      <td>Intercept             0.000242\n",
       "I(V00MBMPFMP **...</td>\n",
       "      <td>Intercept             0.447788\n",
       "I(V00MBMPFMP **...</td>\n",
       "      <td>0.907631</td>\n",
       "    </tr>\n",
       "    <tr>\n",
       "      <th>23</th>\n",
       "      <td>cubic</td>\n",
       "      <td>V00MBMNFMP ~ V00MBMPFMP + I(V00MBMPFMP**2) + I...</td>\n",
       "      <td>Intercept             0.000032\n",
       "V00MBMPFMP     ...</td>\n",
       "      <td>Intercept             8.482702e-01\n",
       "V00MBMPFMP ...</td>\n",
       "      <td>0.974434</td>\n",
       "    </tr>\n",
       "    <tr>\n",
       "      <th>24</th>\n",
       "      <td>cubic</td>\n",
       "      <td>V00MBMNFMP ~ V00MBMPFMP + V00MBMSFMP + I(V00MB...</td>\n",
       "      <td>Intercept             1.429383e-07\n",
       "V00MBMPFMP ...</td>\n",
       "      <td>Intercept              9.987948e-01\n",
       "V00MBMPFMP...</td>\n",
       "      <td>0.986834</td>\n",
       "    </tr>\n",
       "    <tr>\n",
       "      <th>25</th>\n",
       "      <td>cubic</td>\n",
       "      <td>V00MBMNFMP ~ V00MBMPFMP + I(V00MBMSFMP**2) + I...</td>\n",
       "      <td>Intercept             0.000033\n",
       "V00MBMPFMP     ...</td>\n",
       "      <td>Intercept              8.147854e-01\n",
       "V00MBMPFMP...</td>\n",
       "      <td>0.970166</td>\n",
       "    </tr>\n",
       "    <tr>\n",
       "      <th>26</th>\n",
       "      <td>cubic</td>\n",
       "      <td>V00MBMPFMP ~ I(V00MBMNFMP**3)</td>\n",
       "      <td>Intercept             0.005469\n",
       "I(V00MBMNFMP **...</td>\n",
       "      <td>Intercept              2.071723e-02\n",
       "I(V00MBMNF...</td>\n",
       "      <td>0.359581</td>\n",
       "    </tr>\n",
       "    <tr>\n",
       "      <th>27</th>\n",
       "      <td>cubic</td>\n",
       "      <td>V00MBMPFMP ~ V00MBMNFMP + I(V00MBMNFMP**2) + I...</td>\n",
       "      <td>Intercept             4.284908e-07\n",
       "V00MBMNFMP ...</td>\n",
       "      <td>Intercept              9.992815e-01\n",
       "V00MBMNFMP...</td>\n",
       "      <td>0.974107</td>\n",
       "    </tr>\n",
       "    <tr>\n",
       "      <th>28</th>\n",
       "      <td>cubic</td>\n",
       "      <td>V00MBMPFMP ~ V00MBMNFMP + V00MBMSFMP + I(V00MB...</td>\n",
       "      <td>Intercept            -1.310995e-07\n",
       "V00MBMNFMP ...</td>\n",
       "      <td>Intercept             0.999720\n",
       "V00MBMNFMP     ...</td>\n",
       "      <td>0.974832</td>\n",
       "    </tr>\n",
       "    <tr>\n",
       "      <th>29</th>\n",
       "      <td>cubic</td>\n",
       "      <td>V00MBMPFMP ~ V00MBMNFMP + I(V00MBMSFMP**2) + I...</td>\n",
       "      <td>Intercept             0.000060\n",
       "V00MBMNFMP     ...</td>\n",
       "      <td>Intercept             8.928944e-01\n",
       "V00MBMNFMP ...</td>\n",
       "      <td>0.964064</td>\n",
       "    </tr>\n",
       "    <tr>\n",
       "      <th>30</th>\n",
       "      <td>interaction</td>\n",
       "      <td>V00MBMSFMP ~ V00MBMNFMP:V00MBMPFMP</td>\n",
       "      <td>Intercept                0.000097\n",
       "V00MBMNFMP:V...</td>\n",
       "      <td>Intercept                0.762593\n",
       "V00MBMNFMP:V...</td>\n",
       "      <td>0.878399</td>\n",
       "    </tr>\n",
       "    <tr>\n",
       "      <th>31</th>\n",
       "      <td>interaction</td>\n",
       "      <td>V00MBMSFMP ~ V00MBMNFMP*V00MBMPFMP</td>\n",
       "      <td>Intercept                8.357671e-07\n",
       "V00MBMNF...</td>\n",
       "      <td>Intercept                 9.972804e-01\n",
       "V00MBMN...</td>\n",
       "      <td>0.927550</td>\n",
       "    </tr>\n",
       "    <tr>\n",
       "      <th>32</th>\n",
       "      <td>interaction</td>\n",
       "      <td>V00MBMSFMP ~ V00MBMNFMP*I(V00MBMPFMP**2)</td>\n",
       "      <td>Intercept                        0.000002\n",
       "V00M...</td>\n",
       "      <td>Intercept                        9.935747e-01\n",
       "...</td>\n",
       "      <td>0.928211</td>\n",
       "    </tr>\n",
       "    <tr>\n",
       "      <th>33</th>\n",
       "      <td>interaction</td>\n",
       "      <td>V00MBMSFMP ~ V00MBMNFMP*I(V00MBMPFMP**3)</td>\n",
       "      <td>Intercept                        0.000003\n",
       "V00M...</td>\n",
       "      <td>Intercept                        9.906372e-01\n",
       "...</td>\n",
       "      <td>0.928351</td>\n",
       "    </tr>\n",
       "    <tr>\n",
       "      <th>34</th>\n",
       "      <td>interaction</td>\n",
       "      <td>V00MBMNFMP ~ V00MBMPFMP:V00MBMSFMP</td>\n",
       "      <td>Intercept                0.000189\n",
       "V00MBMPFMP:V...</td>\n",
       "      <td>Intercept                0.490427\n",
       "V00MBMPFMP:V...</td>\n",
       "      <td>0.894397</td>\n",
       "    </tr>\n",
       "    <tr>\n",
       "      <th>35</th>\n",
       "      <td>interaction</td>\n",
       "      <td>V00MBMNFMP ~ V00MBMPFMP*V00MBMSFMP</td>\n",
       "      <td>Intercept                0.000005\n",
       "V00MBMPFMP  ...</td>\n",
       "      <td>Intercept                0.959152\n",
       "V00MBMPFMP  ...</td>\n",
       "      <td>0.984058</td>\n",
       "    </tr>\n",
       "    <tr>\n",
       "      <th>36</th>\n",
       "      <td>interaction</td>\n",
       "      <td>V00MBMNFMP ~ V00MBMPFMP*I(V00MBMSFMP**2)</td>\n",
       "      <td>Intercept                        0.000025\n",
       "V00M...</td>\n",
       "      <td>Intercept                         8.534283e-01...</td>\n",
       "      <td>0.974096</td>\n",
       "    </tr>\n",
       "    <tr>\n",
       "      <th>37</th>\n",
       "      <td>interaction</td>\n",
       "      <td>V00MBMNFMP ~ V00MBMPFMP*I(V00MBMSFMP**3)</td>\n",
       "      <td>Intercept                        0.000040\n",
       "V00M...</td>\n",
       "      <td>Intercept                        7.932785e-01\n",
       "...</td>\n",
       "      <td>0.966366</td>\n",
       "    </tr>\n",
       "    <tr>\n",
       "      <th>38</th>\n",
       "      <td>interaction</td>\n",
       "      <td>V00MBMPFMP ~ V00MBMNFMP:V00MBMSFMP</td>\n",
       "      <td>Intercept                0.000698\n",
       "V00MBMNFMP:V...</td>\n",
       "      <td>Intercept                0.455658\n",
       "V00MBMNFMP:V...</td>\n",
       "      <td>0.845104</td>\n",
       "    </tr>\n",
       "    <tr>\n",
       "      <th>39</th>\n",
       "      <td>interaction</td>\n",
       "      <td>V00MBMPFMP ~ V00MBMNFMP*V00MBMSFMP</td>\n",
       "      <td>Intercept                0.000012\n",
       "V00MBMNFMP  ...</td>\n",
       "      <td>Intercept                 9.760126e-01\n",
       "V00MBMN...</td>\n",
       "      <td>0.972271</td>\n",
       "    </tr>\n",
       "    <tr>\n",
       "      <th>40</th>\n",
       "      <td>interaction</td>\n",
       "      <td>V00MBMPFMP ~ V00MBMNFMP*I(V00MBMSFMP**2)</td>\n",
       "      <td>Intercept                        0.000037\n",
       "V00M...</td>\n",
       "      <td>Intercept                         9.297633e-01...</td>\n",
       "      <td>0.967770</td>\n",
       "    </tr>\n",
       "    <tr>\n",
       "      <th>41</th>\n",
       "      <td>interaction</td>\n",
       "      <td>V00MBMPFMP ~ V00MBMNFMP*I(V00MBMSFMP**3)</td>\n",
       "      <td>Intercept                        0.000053\n",
       "V00M...</td>\n",
       "      <td>Intercept                        9.034396e-01\n",
       "...</td>\n",
       "      <td>0.965014</td>\n",
       "    </tr>\n",
       "  </tbody>\n",
       "</table>\n",
       "</div>"
      ]
     },
     "metadata": {},
     "output_type": "display_data"
    }
   ],
   "execution_count": 7
  },
  {
   "metadata": {
    "ExecuteTime": {
     "end_time": "2025-08-12T16:50:44.979107Z",
     "start_time": "2025-08-12T16:50:44.946386Z"
    }
   },
   "cell_type": "code",
   "source": [
    "from modules.plot_moaks_data import plot_moaks_data_regression_surface\n",
    "\n",
    "fma_surface = plot_moaks_data_regression_surface(moaks_3d_fma_scatter, v00_moaks_shared_kl_fma, fma_relationships_df, 28)\n",
    "fma_surface.show()"
   ],
   "id": "739e5d7f821486dd",
   "outputs": [
    {
     "data": {
      "application/vnd.plotly.v1+json": {
       "data": [
        {
         "hovertemplate": "V00MBMSFMA=%{x}<br>V00MBMNFMA=%{y}<br>V00MBMPFMA=%{z}<br>count=%{marker.size}<extra></extra>",
         "legendgroup": "",
         "marker": {
          "color": "#636efa",
          "opacity": 0.8,
          "size": {
           "dtype": "i2",
           "bdata": "GQkBAAEABgADAF8AFwArAAUBBwABAAYADgABAAIACgAGAAoAIQAEAAIAAgABAAkACQABAA=="
          },
          "sizemode": "area",
          "sizeref": 1.455625,
          "symbol": "circle"
         },
         "mode": "markers",
         "name": "",
         "scene": "scene",
         "showlegend": false,
         "x": {
          "dtype": "f8",
          "bdata": "AAAAAAAAAAAAAAAAAAAAAAAAAAAAAAAAAAAAAAAA8D8AAAAAAADwPwAAAAAAAPA/AAAAAAAA8D8AAAAAAADwPwAAAAAAAPA/AAAAAAAA8D8AAAAAAADwPwAAAAAAAPA/AAAAAAAA8D8AAAAAAADwPwAAAAAAAPA/AAAAAAAAAEAAAAAAAAAAQAAAAAAAAABAAAAAAAAAAEAAAAAAAAAAQAAAAAAAAABAAAAAAAAACEAAAAAAAAAIQAAAAAAAAAhAAAAAAAAACEAAAAAAAAAIQA=="
         },
         "y": {
          "dtype": "f8",
          "bdata": "AAAAAAAAAAAAAAAAAAAAAAAAAAAAAPA/AAAAAAAAAAAAAAAAAAAAAAAAAAAAAPA/AAAAAAAA8D8AAAAAAADwPwAAAAAAAPA/AAAAAAAAAEAAAAAAAAAAQAAAAAAAAABAAAAAAAAAAEAAAAAAAAAIQAAAAAAAAAhAAAAAAAAA8D8AAAAAAADwPwAAAAAAAPA/AAAAAAAA8D8AAAAAAAAAQAAAAAAAAABAAAAAAAAA8D8AAAAAAADwPwAAAAAAAPA/AAAAAAAA8D8AAAAAAAAAQA=="
         },
         "z": {
          "dtype": "f8",
          "bdata": "AAAAAAAAAAAAAAAAAAAAQAAAAAAAAAAAAAAAAAAAAAAAAAAAAAAIQAAAAAAAAAAAAAAAAAAA8D8AAAAAAAAAQAAAAAAAAAhAAAAAAAAAAAAAAAAAAADwPwAAAAAAAABAAAAAAAAACEAAAAAAAAAAQAAAAAAAAAhAAAAAAAAAAAAAAAAAAADwPwAAAAAAAABAAAAAAAAACEAAAAAAAAAAQAAAAAAAAAhAAAAAAAAAAAAAAAAAAADwPwAAAAAAAABAAAAAAAAACEAAAAAAAAAIQA=="
         },
         "type": "scatter3d"
        },
        {
         "colorscale": [
          [
           0.0,
           "rgb(255,255,217)"
          ],
          [
           0.125,
           "rgb(237,248,177)"
          ],
          [
           0.25,
           "rgb(199,233,180)"
          ],
          [
           0.375,
           "rgb(127,205,187)"
          ],
          [
           0.5,
           "rgb(65,182,196)"
          ],
          [
           0.625,
           "rgb(29,145,192)"
          ],
          [
           0.75,
           "rgb(34,94,168)"
          ],
          [
           0.875,
           "rgb(37,52,148)"
          ],
          [
           1.0,
           "rgb(8,29,88)"
          ]
         ],
         "opacity": 0.3,
         "showscale": false,
         "x": {
          "dtype": "f8",
          "bdata": "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",
          "shape": "50, 50"
         },
         "y": {
          "dtype": "f8",
          "bdata": "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",
          "shape": "50, 50"
         },
         "z": {
          "dtype": "f8",
          "bdata": "AAAAAAAAAAAAAAAAAAAAAAAAAAAAAAAAAAAAAAAAAAAAAAAAAAAAAAAAAAAAAAAAAAAAAAAAAAAAAAAAAAAAAAAAAAAAAAAAAAAAAAAAAAAAAAAAAAAAAAAAAAAAAAAAAAAAAAAAAAAAAAAAAAAAAAAAAAAAAAAAAAAAAAAAAAAAAAAAAAAAAAAAAAAAAAAAAAAAAAAAAAAAAAAAAAAAAAAAAAAAAAAAAAAAAAAAAAAAAAAAAAAAAAAAAAAAAAAAAAAAAAAAAAAAAAAAAAAAAAAAAAAAAAAAAAAAAAAAAAAAAAAAAAAAAAAAAAAAAAAAAAAAAAAAAAAAAAAAAAAAAAAAAAAAAAAAAAAAAAAAAAAAAAAAAAAAAAAAAAAAAAAAAAAAAAAAAAAAAAAAAAAAAAAAAAAAAAAAAAAAAAAAAAAAAAAAAAAAAAAAAAAAAAAAAAAAAAAAAAAAAAAAAAAAAAAAAAAAAAAAAAAAAAAAAAAAAAAAAAAAAAAAAAAAAAAAAAAAAAAAAAAAAAAAAAAAANaHxvrQWK8/1ofG+tBYrz/Wh8b60FivP9aHxvrQWK8/1ofG+tBYrz/Wh8b60FivP9aHxvrQWK8/1ofG+tBYrz/Wh8b60FivP9aHxvrQWK8/1ofG+tBYrz/Wh8b60FivP9aHxvrQWK8/1ofG+tBYrz/Wh8b60FivP9aHxvrQWK8/1ofG+tBYrz/Wh8b60FivP9aHxvrQWK8/1ofG+tBYrz/Wh8b60FivP9aHxvrQWK8/1ofG+tBYrz/Wh8b60FivP9aHxvrQWK8/1ofG+tBYrz/Wh8b60FivP9aHxvrQWK8/1ofG+tBYrz/Wh8b60FivP9aHxvrQWK8/1ofG+tBYrz/Wh8b60FivP9aHxvrQWK8/1ofG+tBYrz/Wh8b60FivP9aHxvrQWK8/1ofG+tBYrz/Wh8b60FivP9aHxvrQWK8/1ofG+tBYrz/Wh8b60FivP9aHxvrQWK8/1ofG+tBYrz/Wh8b60FivP9aHxvrQWK8/1ofG+tBYrz/Wh8b60FivP9aHxvrQWK8/1ofG+tBYrz/Wh8b60Fi/P9aHxvrQWL8/1ofG+tBYvz/Wh8b60Fi/P9aHxvrQWL8/1ofG+tBYvz/Wh8b60Fi/P9aHxvrQWL8/1ofG+tBYvz/Wh8b60Fi/P9aHxvrQWL8/1ofG+tBYvz/Wh8b60Fi/P9aHxvrQWL8/1ofG+tBYvz/Wh8b60Fi/P9aHxvrQWL8/1ofG+tBYvz/Wh8b60Fi/P9aHxvrQWL8/1ofG+tBYvz/Wh8b60Fi/P9aHxvrQWL8/1ofG+tBYvz/Wh8b60Fi/P9aHxvrQWL8/1ofG+tBYvz/Wh8b60Fi/P9aHxvrQWL8/1ofG+tBYvz/Wh8b60Fi/P9aHxvrQWL8/1ofG+tBYvz/Wh8b60Fi/P9aHxvrQWL8/1ofG+tBYvz/Wh8b60Fi/P9aHxvrQWL8/1ofG+tBYvz/Wh8b60Fi/P9aHxvrQWL8/1ofG+tBYvz/Wh8b60Fi/P9aHxvrQWL8/1ofG+tBYvz/Wh8b60Fi/P9aHxvrQWL8/1ofG+tBYvz/Wh8b60Fi/P9aHxvrQWL8/4OUUvJyCxz/g5RS8nILHP+DlFLycgsc/4OUUvJyCxz/g5RS8nILHP+DlFLycgsc/4OUUvJyCxz/g5RS8nILHP+DlFLycgsc/4OUUvJyCxz/g5RS8nILHP+DlFLycgsc/4OUUvJyCxz/g5RS8nILHP+DlFLycgsc/4OUUvJyCxz/g5RS8nILHP+DlFLycgsc/4OUUvJyCxz/g5RS8nILHP+DlFLycgsc/4OUUvJyCxz/g5RS8nILHP+DlFLycgsc/4OUUvJyCxz/g5RS8nILHP+DlFLycgsc/4OUUvJyCxz/g5RS8nILHP+DlFLycgsc/4OUUvJyCxz/g5RS8nILHP+DlFLycgsc/4OUUvJyCxz/g5RS8nILHP+DlFLycgsc/4OUUvJyCxz/g5RS8nILHP+DlFLycgsc/4OUUvJyCxz/g5RS8nILHP+DlFLycgsc/4OUUvJyCxz/g5RS8nILHP+DlFLycgsc/4OUUvJyCxz/g5RS8nILHP+DlFLycgsc/4OUUvJyCxz/g5RS8nILHP9aHxvrQWM8/1ofG+tBYzz/Wh8b60FjPP9aHxvrQWM8/1ofG+tBYzz/Wh8b60FjPP9aHxvrQWM8/1ofG+tBYzz/Wh8b60FjPP9aHxvrQWM8/1ofG+tBYzz/Wh8b60FjPP9aHxvrQWM8/1ofG+tBYzz/Wh8b60FjPP9aHxvrQWM8/1ofG+tBYzz/Wh8b60FjPP9aHxvrQWM8/1ofG+tBYzz/Wh8b60FjPP9aHxvrQWM8/1ofG+tBYzz/Wh8b60FjPP9aHxvrQWM8/1ofG+tBYzz/Wh8b60FjPP9aHxvrQWM8/1ofG+tBYzz/Wh8b60FjPP9aHxvrQWM8/1ofG+tBYzz/Wh8b60FjPP9aHxvrQWM8/1ofG+tBYzz/Wh8b60FjPP9aHxvrQWM8/1ofG+tBYzz/Wh8b60FjPP9aHxvrQWM8/1ofG+tBYzz/Wh8b60FjPP9aHxvrQWM8/1ofG+tBYzz/Wh8b60FjPP9aHxvrQWM8/1ofG+tBYzz/Wh8b60FjPP9aHxvrQWM8/1ofG+tBYzz/mFLycgpfTP+YUvJyCl9M/5hS8nIKX0z/mFLycgpfTP+YUvJyCl9M/5hS8nIKX0z/mFLycgpfTP+YUvJyCl9M/5hS8nIKX0z/mFLycgpfTP+YUvJyCl9M/5hS8nIKX0z/mFLycgpfTP+YUvJyCl9M/5hS8nIKX0z/mFLycgpfTP+YUvJyCl9M/5hS8nIKX0z/mFLycgpfTP+YUvJyCl9M/5hS8nIKX0z/mFLycgpfTP+YUvJyCl9M/5hS8nIKX0z/mFLycgpfTP+YUvJyCl9M/5hS8nIKX0z/mFLycgpfTP+YUvJyCl9M/5hS8nIKX0z/mFLycgpfTP+YUvJyCl9M/5hS8nIKX0z/mFLycgpfTP+YUvJyCl9M/5hS8nIKX0z/mFLycgpfTP+YUvJyCl9M/5hS8nIKX0z/mFLycgpfTP+YUvJyCl9M/5hS8nIKX0z/mFLycgpfTP+YUvJyCl9M/5hS8nIKX0z/mFLycgpfTP+YUvJyCl9M/5hS8nIKX0z/mFLycgpfTP+YUvJyCl9M/4OUUvJyC1z/g5RS8nILXP+DlFLycgtc/4OUUvJyC1z/g5RS8nILXP+DlFLycgtc/4OUUvJyC1z/g5RS8nILXP+DlFLycgtc/4OUUvJyC1z/g5RS8nILXP+DlFLycgtc/4OUUvJyC1z/g5RS8nILXP+DlFLycgtc/4OUUvJyC1z/g5RS8nILXP+DlFLycgtc/4OUUvJyC1z/g5RS8nILXP+DlFLycgtc/4OUUvJyC1z/g5RS8nILXP+DlFLycgtc/4OUUvJyC1z/g5RS8nILXP+DlFLycgtc/4OUUvJyC1z/g5RS8nILXP+DlFLycgtc/4OUUvJyC1z/g5RS8nILXP+DlFLycgtc/4OUUvJyC1z/g5RS8nILXP+DlFLycgtc/4OUUvJyC1z/g5RS8nILXP+DlFLycgtc/4OUUvJyC1z/g5RS8nILXP+DlFLycgtc/4OUUvJyC1z/g5RS8nILXP+DlFLycgtc/4OUUvJyC1z/g5RS8nILXP+DlFLycgtc/4OUUvJyC1z/g5RS8nILXP9u2bdu2bds/27Zt27Zt2z/btm3btm3bP9u2bdu2bds/27Zt27Zt2z/btm3btm3bP9u2bdu2bds/27Zt27Zt2z/btm3btm3bP9u2bdu2bds/27Zt27Zt2z/btm3btm3bP9u2bdu2bds/27Zt27Zt2z/btm3btm3bP9u2bdu2bds/27Zt27Zt2z/btm3btm3bP9u2bdu2bds/27Zt27Zt2z/btm3btm3bP9u2bdu2bds/27Zt27Zt2z/btm3btm3bP9u2bdu2bds/27Zt27Zt2z/btm3btm3bP9u2bdu2bds/27Zt27Zt2z/btm3btm3bP9u2bdu2bds/27Zt27Zt2z/btm3btm3bP9u2bdu2bds/27Zt27Zt2z/btm3btm3bP9u2bdu2bds/27Zt27Zt2z/btm3btm3bP9u2bdu2bds/27Zt27Zt2z/btm3btm3bP9u2bdu2bds/27Zt27Zt2z/btm3btm3bP9u2bdu2bds/27Zt27Zt2z/btm3btm3bP9u2bdu2bds/27Zt27Zt2z/Wh8b60FjfP9aHxvrQWN8/1ofG+tBY3z/Wh8b60FjfP9aHxvrQWN8/1ofG+tBY3z/Wh8b60FjfP9aHxvrQWN8/1ofG+tBY3z/Wh8b60FjfP9aHxvrQWN8/1ofG+tBY3z/Wh8b60FjfP9aHxvrQWN8/1ofG+tBY3z/Wh8b60FjfP9aHxvrQWN8/1ofG+tBY3z/Wh8b60FjfP9aHxvrQWN8/1ofG+tBY3z/Wh8b60FjfP9aHxvrQWN8/1ofG+tBY3z/Wh8b60FjfP9aHxvrQWN8/1ofG+tBY3z/Wh8b60FjfP9aHxvrQWN8/1ofG+tBY3z/Wh8b60FjfP9aHxvrQWN8/1ofG+tBY3z/Wh8b60FjfP9aHxvrQWN8/1ofG+tBY3z/Wh8b60FjfP9aHxvrQWN8/1ofG+tBY3z/Wh8b60FjfP9aHxvrQWN8/1ofG+tBY3z/Wh8b60FjfP9aHxvrQWN8/1ofG+tBY3z/Wh8b60FjfP9aHxvrQWN8/1ofG+tBY3z/Wh8b60FjfP9aHxvrQWN8/aKwPjfWh4T9orA+N9aHhP2isD431oeE/aKwPjfWh4T9orA+N9aHhP2isD431oeE/aKwPjfWh4T9orA+N9aHhP2isD431oeE/aKwPjfWh4T9orA+N9aHhP2isD431oeE/aKwPjfWh4T9orA+N9aHhP2isD431oeE/aKwPjfWh4T9orA+N9aHhP2isD431oeE/aKwPjfWh4T9orA+N9aHhP2isD431oeE/aKwPjfWh4T9orA+N9aHhP2isD431oeE/aKwPjfWh4T9orA+N9aHhP2isD431oeE/aKwPjfWh4T9orA+N9aHhP2isD431oeE/aKwPjfWh4T9orA+N9aHhP2isD431oeE/aKwPjfWh4T9orA+N9aHhP2isD431oeE/aKwPjfWh4T9orA+N9aHhP2isD431oeE/aKwPjfWh4T9orA+N9aHhP2isD431oeE/aKwPjfWh4T9orA+N9aHhP2isD431oeE/aKwPjfWh4T9orA+N9aHhP2isD431oeE/aKwPjfWh4T9orA+N9aHhP+YUvJyCl+M/5hS8nIKX4z/mFLycgpfjP+YUvJyCl+M/5hS8nIKX4z/mFLycgpfjP+YUvJyCl+M/5hS8nIKX4z/mFLycgpfjP+YUvJyCl+M/5hS8nIKX4z/mFLycgpfjP+YUvJyCl+M/5hS8nIKX4z/mFLycgpfjP+YUvJyCl+M/5hS8nIKX4z/mFLycgpfjP+YUvJyCl+M/5hS8nIKX4z/mFLycgpfjP+YUvJyCl+M/5hS8nIKX4z/mFLycgpfjP+YUvJyCl+M/5hS8nIKX4z/mFLycgpfjP+YUvJyCl+M/5hS8nIKX4z/mFLycgpfjP+YUvJyCl+M/5hS8nIKX4z/mFLycgpfjP+YUvJyCl+M/5hS8nIKX4z/mFLycgpfjP+YUvJyCl+M/5hS8nIKX4z/mFLycgpfjP+YUvJyCl+M/5hS8nIKX4z/mFLycgpfjP+YUvJyCl+M/5hS8nIKX4z/mFLycgpfjP+YUvJyCl+M/5hS8nIKX4z/mFLycgpfjP+YUvJyCl+M/5hS8nIKX4z9jfWisD43lP2N9aKwPjeU/Y31orA+N5T9jfWisD43lP2N9aKwPjeU/Y31orA+N5T9jfWisD43lP2N9aKwPjeU/Y31orA+N5T9jfWisD43lP2N9aKwPjeU/Y31orA+N5T9jfWisD43lP2N9aKwPjeU/Y31orA+N5T9jfWisD43lP2N9aKwPjeU/Y31orA+N5T9jfWisD43lP2N9aKwPjeU/Y31orA+N5T9jfWisD43lP2N9aKwPjeU/Y31orA+N5T9jfWisD43lP2N9aKwPjeU/Y31orA+N5T9jfWisD43lP2N9aKwPjeU/Y31orA+N5T9jfWisD43lP2N9aKwPjeU/Y31orA+N5T9jfWisD43lP2N9aKwPjeU/Y31orA+N5T9jfWisD43lP2N9aKwPjeU/Y31orA+N5T9jfWisD43lP2N9aKwPjeU/Y31orA+N5T9jfWisD43lP2N9aKwPjeU/Y31orA+N5T9jfWisD43lP2N9aKwPjeU/Y31orA+N5T9jfWisD43lP2N9aKwPjeU/4OUUvJyC5z/g5RS8nILnP+DlFLycguc/4OUUvJyC5z/g5RS8nILnP+DlFLycguc/4OUUvJyC5z/g5RS8nILnP+DlFLycguc/4OUUvJyC5z/g5RS8nILnP+DlFLycguc/4OUUvJyC5z/g5RS8nILnP+DlFLycguc/4OUUvJyC5z/g5RS8nILnP+DlFLycguc/4OUUvJyC5z/g5RS8nILnP+DlFLycguc/4OUUvJyC5z/g5RS8nILnP+DlFLycguc/4OUUvJyC5z/g5RS8nILnP+DlFLycguc/4OUUvJyC5z/g5RS8nILnP+DlFLycguc/4OUUvJyC5z/g5RS8nILnP+DlFLycguc/4OUUvJyC5z/g5RS8nILnP+DlFLycguc/4OUUvJyC5z/g5RS8nILnP+DlFLycguc/4OUUvJyC5z/g5RS8nILnP+DlFLycguc/4OUUvJyC5z/g5RS8nILnP+DlFLycguc/4OUUvJyC5z/g5RS8nILnP+DlFLycguc/4OUUvJyC5z/g5RS8nILnP15OwcspeOk/Xk7Byyl46T9eTsHLKXjpP15OwcspeOk/Xk7Byyl46T9eTsHLKXjpP15OwcspeOk/Xk7Byyl46T9eTsHLKXjpP15OwcspeOk/Xk7Byyl46T9eTsHLKXjpP15OwcspeOk/Xk7Byyl46T9eTsHLKXjpP15OwcspeOk/Xk7Byyl46T9eTsHLKXjpP15OwcspeOk/Xk7Byyl46T9eTsHLKXjpP15OwcspeOk/Xk7Byyl46T9eTsHLKXjpP15OwcspeOk/Xk7Byyl46T9eTsHLKXjpP15OwcspeOk/Xk7Byyl46T9eTsHLKXjpP15OwcspeOk/Xk7Byyl46T9eTsHLKXjpP15OwcspeOk/Xk7Byyl46T9eTsHLKXjpP15OwcspeOk/Xk7Byyl46T9eTsHLKXjpP15OwcspeOk/Xk7Byyl46T9eTsHLKXjpP15OwcspeOk/Xk7Byyl46T9eTsHLKXjpP15OwcspeOk/Xk7Byyl46T9eTsHLKXjpP15OwcspeOk/Xk7Byyl46T/btm3btm3rP9u2bdu2bes/27Zt27Zt6z/btm3btm3rP9u2bdu2bes/27Zt27Zt6z/btm3btm3rP9u2bdu2bes/27Zt27Zt6z/btm3btm3rP9u2bdu2bes/27Zt27Zt6z/btm3btm3rP9u2bdu2bes/27Zt27Zt6z/btm3btm3rP9u2bdu2bes/27Zt27Zt6z/btm3btm3rP9u2bdu2bes/27Zt27Zt6z/btm3btm3rP9u2bdu2bes/27Zt27Zt6z/btm3btm3rP9u2bdu2bes/27Zt27Zt6z/btm3btm3rP9u2bdu2bes/27Zt27Zt6z/btm3btm3rP9u2bdu2bes/27Zt27Zt6z/btm3btm3rP9u2bdu2bes/27Zt27Zt6z/btm3btm3rP9u2bdu2bes/27Zt27Zt6z/btm3btm3rP9u2bdu2bes/27Zt27Zt6z/btm3btm3rP9u2bdu2bes/27Zt27Zt6z/btm3btm3rP9u2bdu2bes/27Zt27Zt6z/btm3btm3rP9u2bdu2bes/WR8a60Nj7T9ZHxrrQ2PtP1kfGutDY+0/WR8a60Nj7T9ZHxrrQ2PtP1kfGutDY+0/WR8a60Nj7T9ZHxrrQ2PtP1kfGutDY+0/WR8a60Nj7T9ZHxrrQ2PtP1kfGutDY+0/WR8a60Nj7T9ZHxrrQ2PtP1kfGutDY+0/WR8a60Nj7T9ZHxrrQ2PtP1kfGutDY+0/WR8a60Nj7T9ZHxrrQ2PtP1kfGutDY+0/WR8a60Nj7T9ZHxrrQ2PtP1kfGutDY+0/WR8a60Nj7T9ZHxrrQ2PtP1kfGutDY+0/WR8a60Nj7T9ZHxrrQ2PtP1kfGutDY+0/WR8a60Nj7T9ZHxrrQ2PtP1kfGutDY+0/WR8a60Nj7T9ZHxrrQ2PtP1kfGutDY+0/WR8a60Nj7T9ZHxrrQ2PtP1kfGutDY+0/WR8a60Nj7T9ZHxrrQ2PtP1kfGutDY+0/WR8a60Nj7T9ZHxrrQ2PtP1kfGutDY+0/WR8a60Nj7T9ZHxrrQ2PtP1kfGutDY+0/WR8a60Nj7T9ZHxrrQ2PtP9aHxvrQWO8/1ofG+tBY7z/Wh8b60FjvP9aHxvrQWO8/1ofG+tBY7z/Wh8b60FjvP9aHxvrQWO8/1ofG+tBY7z/Wh8b60FjvP9aHxvrQWO8/1ofG+tBY7z/Wh8b60FjvP9aHxvrQWO8/1ofG+tBY7z/Wh8b60FjvP9aHxvrQWO8/1ofG+tBY7z/Wh8b60FjvP9aHxvrQWO8/1ofG+tBY7z/Wh8b60FjvP9aHxvrQWO8/1ofG+tBY7z/Wh8b60FjvP9aHxvrQWO8/1ofG+tBY7z/Wh8b60FjvP9aHxvrQWO8/1ofG+tBY7z/Wh8b60FjvP9aHxvrQWO8/1ofG+tBY7z/Wh8b60FjvP9aHxvrQWO8/1ofG+tBY7z/Wh8b60FjvP9aHxvrQWO8/1ofG+tBY7z/Wh8b60FjvP9aHxvrQWO8/1ofG+tBY7z/Wh8b60FjvP9aHxvrQWO8/1ofG+tBY7z/Wh8b60FjvP9aHxvrQWO8/1ofG+tBY7z/Wh8b60FjvP9aHxvrQWO8/1ofG+tBY7z8qeDkFL6fwPyp4OQUvp/A/Kng5BS+n8D8qeDkFL6fwPyp4OQUvp/A/Kng5BS+n8D8qeDkFL6fwPyp4OQUvp/A/Kng5BS+n8D8qeDkFL6fwPyp4OQUvp/A/Kng5BS+n8D8qeDkFL6fwPyp4OQUvp/A/Kng5BS+n8D8qeDkFL6fwPyp4OQUvp/A/Kng5BS+n8D8qeDkFL6fwPyp4OQUvp/A/Kng5BS+n8D8qeDkFL6fwPyp4OQUvp/A/Kng5BS+n8D8qeDkFL6fwPyp4OQUvp/A/Kng5BS+n8D8qeDkFL6fwPyp4OQUvp/A/Kng5BS+n8D8qeDkFL6fwPyp4OQUvp/A/Kng5BS+n8D8qeDkFL6fwPyp4OQUvp/A/Kng5BS+n8D8qeDkFL6fwPyp4OQUvp/A/Kng5BS+n8D8qeDkFL6fwPyp4OQUvp/A/Kng5BS+n8D8qeDkFL6fwPyp4OQUvp/A/Kng5BS+n8D8qeDkFL6fwPyp4OQUvp/A/Kng5BS+n8D8qeDkFL6fwPyp4OQUvp/A/aKwPjfWh8T9orA+N9aHxP2isD431ofE/aKwPjfWh8T9orA+N9aHxP2isD431ofE/aKwPjfWh8T9orA+N9aHxP2isD431ofE/aKwPjfWh8T9orA+N9aHxP2isD431ofE/aKwPjfWh8T9orA+N9aHxP2isD431ofE/aKwPjfWh8T9orA+N9aHxP2isD431ofE/aKwPjfWh8T9orA+N9aHxP2isD431ofE/aKwPjfWh8T9orA+N9aHxP2isD431ofE/aKwPjfWh8T9orA+N9aHxP2isD431ofE/aKwPjfWh8T9orA+N9aHxP2isD431ofE/aKwPjfWh8T9orA+N9aHxP2isD431ofE/aKwPjfWh8T9orA+N9aHxP2isD431ofE/aKwPjfWh8T9orA+N9aHxP2isD431ofE/aKwPjfWh8T9orA+N9aHxP2isD431ofE/aKwPjfWh8T9orA+N9aHxP2isD431ofE/aKwPjfWh8T9orA+N9aHxP2isD431ofE/aKwPjfWh8T9orA+N9aHxP6fg5RS8nPI/p+DlFLyc8j+n4OUUvJzyP6fg5RS8nPI/p+DlFLyc8j+n4OUUvJzyP6fg5RS8nPI/p+DlFLyc8j+n4OUUvJzyP6fg5RS8nPI/p+DlFLyc8j+n4OUUvJzyP6fg5RS8nPI/p+DlFLyc8j+n4OUUvJzyP6fg5RS8nPI/p+DlFLyc8j+n4OUUvJzyP6fg5RS8nPI/p+DlFLyc8j+n4OUUvJzyP6fg5RS8nPI/p+DlFLyc8j+n4OUUvJzyP6fg5RS8nPI/p+DlFLyc8j+n4OUUvJzyP6fg5RS8nPI/p+DlFLyc8j+n4OUUvJzyP6fg5RS8nPI/p+DlFLyc8j+n4OUUvJzyP6fg5RS8nPI/p+DlFLyc8j+n4OUUvJzyP6fg5RS8nPI/p+DlFLyc8j+n4OUUvJzyP6fg5RS8nPI/p+DlFLyc8j+n4OUUvJzyP6fg5RS8nPI/p+DlFLyc8j+n4OUUvJzyP6fg5RS8nPI/p+DlFLyc8j+n4OUUvJzyP6fg5RS8nPI/p+DlFLyc8j/mFLycgpfzP+YUvJyCl/M/5hS8nIKX8z/mFLycgpfzP+YUvJyCl/M/5hS8nIKX8z/mFLycgpfzP+YUvJyCl/M/5hS8nIKX8z/mFLycgpfzP+YUvJyCl/M/5hS8nIKX8z/mFLycgpfzP+YUvJyCl/M/5hS8nIKX8z/mFLycgpfzP+YUvJyCl/M/5hS8nIKX8z/mFLycgpfzP+YUvJyCl/M/5hS8nIKX8z/mFLycgpfzP+YUvJyCl/M/5hS8nIKX8z/mFLycgpfzP+YUvJyCl/M/5hS8nIKX8z/mFLycgpfzP+YUvJyCl/M/5hS8nIKX8z/mFLycgpfzP+YUvJyCl/M/5hS8nIKX8z/mFLycgpfzP+YUvJyCl/M/5hS8nIKX8z/mFLycgpfzP+YUvJyCl/M/5hS8nIKX8z/mFLycgpfzP+YUvJyCl/M/5hS8nIKX8z/mFLycgpfzP+YUvJyCl/M/5hS8nIKX8z/mFLycgpfzP+YUvJyCl/M/5hS8nIKX8z/mFLycgpfzP+YUvJyCl/M/JEmSJEmS9D8kSZIkSZL0PyRJkiRJkvQ/JEmSJEmS9D8kSZIkSZL0PyRJkiRJkvQ/JEmSJEmS9D8kSZIkSZL0PyRJkiRJkvQ/JEmSJEmS9D8kSZIkSZL0PyRJkiRJkvQ/JEmSJEmS9D8kSZIkSZL0PyRJkiRJkvQ/JEmSJEmS9D8kSZIkSZL0PyRJkiRJkvQ/JEmSJEmS9D8kSZIkSZL0PyRJkiRJkvQ/JEmSJEmS9D8kSZIkSZL0PyRJkiRJkvQ/JEmSJEmS9D8kSZIkSZL0PyRJkiRJkvQ/JEmSJEmS9D8kSZIkSZL0PyRJkiRJkvQ/JEmSJEmS9D8kSZIkSZL0PyRJkiRJkvQ/JEmSJEmS9D8kSZIkSZL0PyRJkiRJkvQ/JEmSJEmS9D8kSZIkSZL0PyRJkiRJkvQ/JEmSJEmS9D8kSZIkSZL0PyRJkiRJkvQ/JEmSJEmS9D8kSZIkSZL0PyRJkiRJkvQ/JEmSJEmS9D8kSZIkSZL0PyRJkiRJkvQ/JEmSJEmS9D8kSZIkSZL0P2N9aKwPjfU/Y31orA+N9T9jfWisD431P2N9aKwPjfU/Y31orA+N9T9jfWisD431P2N9aKwPjfU/Y31orA+N9T9jfWisD431P2N9aKwPjfU/Y31orA+N9T9jfWisD431P2N9aKwPjfU/Y31orA+N9T9jfWisD431P2N9aKwPjfU/Y31orA+N9T9jfWisD431P2N9aKwPjfU/Y31orA+N9T9jfWisD431P2N9aKwPjfU/Y31orA+N9T9jfWisD431P2N9aKwPjfU/Y31orA+N9T9jfWisD431P2N9aKwPjfU/Y31orA+N9T9jfWisD431P2N9aKwPjfU/Y31orA+N9T9jfWisD431P2N9aKwPjfU/Y31orA+N9T9jfWisD431P2N9aKwPjfU/Y31orA+N9T9jfWisD431P2N9aKwPjfU/Y31orA+N9T9jfWisD431P2N9aKwPjfU/Y31orA+N9T9jfWisD431P2N9aKwPjfU/Y31orA+N9T9jfWisD431P2N9aKwPjfU/Y31orA+N9T+isT401of2P6KxPjTWh/Y/orE+NNaH9j+isT401of2P6KxPjTWh/Y/orE+NNaH9j+isT401of2P6KxPjTWh/Y/orE+NNaH9j+isT401of2P6KxPjTWh/Y/orE+NNaH9j+isT401of2P6KxPjTWh/Y/orE+NNaH9j+isT401of2P6KxPjTWh/Y/orE+NNaH9j+isT401of2P6KxPjTWh/Y/orE+NNaH9j+isT401of2P6KxPjTWh/Y/orE+NNaH9j+isT401of2P6KxPjTWh/Y/orE+NNaH9j+isT401of2P6KxPjTWh/Y/orE+NNaH9j+isT401of2P6KxPjTWh/Y/orE+NNaH9j+isT401of2P6KxPjTWh/Y/orE+NNaH9j+isT401of2P6KxPjTWh/Y/orE+NNaH9j+isT401of2P6KxPjTWh/Y/orE+NNaH9j+isT401of2P6KxPjTWh/Y/orE+NNaH9j+isT401of2P6KxPjTWh/Y/orE+NNaH9j+isT401of2P6KxPjTWh/Y/4OUUvJyC9z/g5RS8nIL3P+DlFLycgvc/4OUUvJyC9z/g5RS8nIL3P+DlFLycgvc/4OUUvJyC9z/g5RS8nIL3P+DlFLycgvc/4OUUvJyC9z/g5RS8nIL3P+DlFLycgvc/4OUUvJyC9z/g5RS8nIL3P+DlFLycgvc/4OUUvJyC9z/g5RS8nIL3P+DlFLycgvc/4OUUvJyC9z/g5RS8nIL3P+DlFLycgvc/4OUUvJyC9z/g5RS8nIL3P+DlFLycgvc/4OUUvJyC9z/g5RS8nIL3P+DlFLycgvc/4OUUvJyC9z/g5RS8nIL3P+DlFLycgvc/4OUUvJyC9z/g5RS8nIL3P+DlFLycgvc/4OUUvJyC9z/g5RS8nIL3P+DlFLycgvc/4OUUvJyC9z/g5RS8nIL3P+DlFLycgvc/4OUUvJyC9z/g5RS8nIL3P+DlFLycgvc/4OUUvJyC9z/g5RS8nIL3P+DlFLycgvc/4OUUvJyC9z/g5RS8nIL3P+DlFLycgvc/4OUUvJyC9z/g5RS8nIL3Px8a60Njffg/HxrrQ2N9+D8fGutDY334Px8a60Njffg/HxrrQ2N9+D8fGutDY334Px8a60Njffg/HxrrQ2N9+D8fGutDY334Px8a60Njffg/HxrrQ2N9+D8fGutDY334Px8a60Njffg/HxrrQ2N9+D8fGutDY334Px8a60Njffg/HxrrQ2N9+D8fGutDY334Px8a60Njffg/HxrrQ2N9+D8fGutDY334Px8a60Njffg/HxrrQ2N9+D8fGutDY334Px8a60Njffg/HxrrQ2N9+D8fGutDY334Px8a60Njffg/HxrrQ2N9+D8fGutDY334Px8a60Njffg/HxrrQ2N9+D8fGutDY334Px8a60Njffg/HxrrQ2N9+D8fGutDY334Px8a60Njffg/HxrrQ2N9+D8fGutDY334Px8a60Njffg/HxrrQ2N9+D8fGutDY334Px8a60Njffg/HxrrQ2N9+D8fGutDY334Px8a60Njffg/HxrrQ2N9+D8fGutDY334Px8a60Njffg/HxrrQ2N9+D9eTsHLKXj5P15OwcspePk/Xk7Byyl4+T9eTsHLKXj5P15OwcspePk/Xk7Byyl4+T9eTsHLKXj5P15OwcspePk/Xk7Byyl4+T9eTsHLKXj5P15OwcspePk/Xk7Byyl4+T9eTsHLKXj5P15OwcspePk/Xk7Byyl4+T9eTsHLKXj5P15OwcspePk/Xk7Byyl4+T9eTsHLKXj5P15OwcspePk/Xk7Byyl4+T9eTsHLKXj5P15OwcspePk/Xk7Byyl4+T9eTsHLKXj5P15OwcspePk/Xk7Byyl4+T9eTsHLKXj5P15OwcspePk/Xk7Byyl4+T9eTsHLKXj5P15OwcspePk/Xk7Byyl4+T9eTsHLKXj5P15OwcspePk/Xk7Byyl4+T9eTsHLKXj5P15OwcspePk/Xk7Byyl4+T9eTsHLKXj5P15OwcspePk/Xk7Byyl4+T9eTsHLKXj5P15OwcspePk/Xk7Byyl4+T9eTsHLKXj5P15OwcspePk/Xk7Byyl4+T9eTsHLKXj5P15OwcspePk/nYKXU/By+j+dgpdT8HL6P52Cl1Pwcvo/nYKXU/By+j+dgpdT8HL6P52Cl1Pwcvo/nYKXU/By+j+dgpdT8HL6P52Cl1Pwcvo/nYKXU/By+j+dgpdT8HL6P52Cl1Pwcvo/nYKXU/By+j+dgpdT8HL6P52Cl1Pwcvo/nYKXU/By+j+dgpdT8HL6P52Cl1Pwcvo/nYKXU/By+j+dgpdT8HL6P52Cl1Pwcvo/nYKXU/By+j+dgpdT8HL6P52Cl1Pwcvo/nYKXU/By+j+dgpdT8HL6P52Cl1Pwcvo/nYKXU/By+j+dgpdT8HL6P52Cl1Pwcvo/nYKXU/By+j+dgpdT8HL6P52Cl1Pwcvo/nYKXU/By+j+dgpdT8HL6P52Cl1Pwcvo/nYKXU/By+j+dgpdT8HL6P52Cl1Pwcvo/nYKXU/By+j+dgpdT8HL6P52Cl1Pwcvo/nYKXU/By+j+dgpdT8HL6P52Cl1Pwcvo/nYKXU/By+j+dgpdT8HL6P52Cl1Pwcvo/nYKXU/By+j+dgpdT8HL6P9u2bdu2bfs/27Zt27Zt+z/btm3btm37P9u2bdu2bfs/27Zt27Zt+z/btm3btm37P9u2bdu2bfs/27Zt27Zt+z/btm3btm37P9u2bdu2bfs/27Zt27Zt+z/btm3btm37P9u2bdu2bfs/27Zt27Zt+z/btm3btm37P9u2bdu2bfs/27Zt27Zt+z/btm3btm37P9u2bdu2bfs/27Zt27Zt+z/btm3btm37P9u2bdu2bfs/27Zt27Zt+z/btm3btm37P9u2bdu2bfs/27Zt27Zt+z/btm3btm37P9u2bdu2bfs/27Zt27Zt+z/btm3btm37P9u2bdu2bfs/27Zt27Zt+z/btm3btm37P9u2bdu2bfs/27Zt27Zt+z/btm3btm37P9u2bdu2bfs/27Zt27Zt+z/btm3btm37P9u2bdu2bfs/27Zt27Zt+z/btm3btm37P9u2bdu2bfs/27Zt27Zt+z/btm3btm37P9u2bdu2bfs/27Zt27Zt+z/btm3btm37P9u2bdu2bfs/27Zt27Zt+z8a60NjfWj8PxrrQ2N9aPw/GutDY31o/D8a60NjfWj8PxrrQ2N9aPw/GutDY31o/D8a60NjfWj8PxrrQ2N9aPw/GutDY31o/D8a60NjfWj8PxrrQ2N9aPw/GutDY31o/D8a60NjfWj8PxrrQ2N9aPw/GutDY31o/D8a60NjfWj8PxrrQ2N9aPw/GutDY31o/D8a60NjfWj8PxrrQ2N9aPw/GutDY31o/D8a60NjfWj8PxrrQ2N9aPw/GutDY31o/D8a60NjfWj8PxrrQ2N9aPw/GutDY31o/D8a60NjfWj8PxrrQ2N9aPw/GutDY31o/D8a60NjfWj8PxrrQ2N9aPw/GutDY31o/D8a60NjfWj8PxrrQ2N9aPw/GutDY31o/D8a60NjfWj8PxrrQ2N9aPw/GutDY31o/D8a60NjfWj8PxrrQ2N9aPw/GutDY31o/D8a60NjfWj8PxrrQ2N9aPw/GutDY31o/D8a60NjfWj8PxrrQ2N9aPw/GutDY31o/D8a60NjfWj8PxrrQ2N9aPw/WR8a60Nj/T9ZHxrrQ2P9P1kfGutDY/0/WR8a60Nj/T9ZHxrrQ2P9P1kfGutDY/0/WR8a60Nj/T9ZHxrrQ2P9P1kfGutDY/0/WR8a60Nj/T9ZHxrrQ2P9P1kfGutDY/0/WR8a60Nj/T9ZHxrrQ2P9P1kfGutDY/0/WR8a60Nj/T9ZHxrrQ2P9P1kfGutDY/0/WR8a60Nj/T9ZHxrrQ2P9P1kfGutDY/0/WR8a60Nj/T9ZHxrrQ2P9P1kfGutDY/0/WR8a60Nj/T9ZHxrrQ2P9P1kfGutDY/0/WR8a60Nj/T9ZHxrrQ2P9P1kfGutDY/0/WR8a60Nj/T9ZHxrrQ2P9P1kfGutDY/0/WR8a60Nj/T9ZHxrrQ2P9P1kfGutDY/0/WR8a60Nj/T9ZHxrrQ2P9P1kfGutDY/0/WR8a60Nj/T9ZHxrrQ2P9P1kfGutDY/0/WR8a60Nj/T9ZHxrrQ2P9P1kfGutDY/0/WR8a60Nj/T9ZHxrrQ2P9P1kfGutDY/0/WR8a60Nj/T9ZHxrrQ2P9P5dT8HIKXv4/l1Pwcgpe/j+XU/ByCl7+P5dT8HIKXv4/l1Pwcgpe/j+XU/ByCl7+P5dT8HIKXv4/l1Pwcgpe/j+XU/ByCl7+P5dT8HIKXv4/l1Pwcgpe/j+XU/ByCl7+P5dT8HIKXv4/l1Pwcgpe/j+XU/ByCl7+P5dT8HIKXv4/l1Pwcgpe/j+XU/ByCl7+P5dT8HIKXv4/l1Pwcgpe/j+XU/ByCl7+P5dT8HIKXv4/l1Pwcgpe/j+XU/ByCl7+P5dT8HIKXv4/l1Pwcgpe/j+XU/ByCl7+P5dT8HIKXv4/l1Pwcgpe/j+XU/ByCl7+P5dT8HIKXv4/l1Pwcgpe/j+XU/ByCl7+P5dT8HIKXv4/l1Pwcgpe/j+XU/ByCl7+P5dT8HIKXv4/l1Pwcgpe/j+XU/ByCl7+P5dT8HIKXv4/l1Pwcgpe/j+XU/ByCl7+P5dT8HIKXv4/l1Pwcgpe/j+XU/ByCl7+P5dT8HIKXv4/l1Pwcgpe/j+XU/ByCl7+P5dT8HIKXv4/l1Pwcgpe/j/Wh8b60Fj/P9aHxvrQWP8/1ofG+tBY/z/Wh8b60Fj/P9aHxvrQWP8/1ofG+tBY/z/Wh8b60Fj/P9aHxvrQWP8/1ofG+tBY/z/Wh8b60Fj/P9aHxvrQWP8/1ofG+tBY/z/Wh8b60Fj/P9aHxvrQWP8/1ofG+tBY/z/Wh8b60Fj/P9aHxvrQWP8/1ofG+tBY/z/Wh8b60Fj/P9aHxvrQWP8/1ofG+tBY/z/Wh8b60Fj/P9aHxvrQWP8/1ofG+tBY/z/Wh8b60Fj/P9aHxvrQWP8/1ofG+tBY/z/Wh8b60Fj/P9aHxvrQWP8/1ofG+tBY/z/Wh8b60Fj/P9aHxvrQWP8/1ofG+tBY/z/Wh8b60Fj/P9aHxvrQWP8/1ofG+tBY/z/Wh8b60Fj/P9aHxvrQWP8/1ofG+tBY/z/Wh8b60Fj/P9aHxvrQWP8/1ofG+tBY/z/Wh8b60Fj/P9aHxvrQWP8/1ofG+tBY/z/Wh8b60Fj/P9aHxvrQWP8/1ofG+tBY/z/Wh8b60Fj/P9aHxvrQWP8/Cl5OwcspAEAKXk7ByykAQApeTsHLKQBACl5OwcspAEAKXk7ByykAQApeTsHLKQBACl5OwcspAEAKXk7ByykAQApeTsHLKQBACl5OwcspAEAKXk7ByykAQApeTsHLKQBACl5OwcspAEAKXk7ByykAQApeTsHLKQBACl5OwcspAEAKXk7ByykAQApeTsHLKQBACl5OwcspAEAKXk7ByykAQApeTsHLKQBACl5OwcspAEAKXk7ByykAQApeTsHLKQBACl5OwcspAEAKXk7ByykAQApeTsHLKQBACl5OwcspAEAKXk7ByykAQApeTsHLKQBACl5OwcspAEAKXk7ByykAQApeTsHLKQBACl5OwcspAEAKXk7ByykAQApeTsHLKQBACl5OwcspAEAKXk7ByykAQApeTsHLKQBACl5OwcspAEAKXk7ByykAQApeTsHLKQBACl5OwcspAEAKXk7ByykAQApeTsHLKQBACl5OwcspAEAKXk7ByykAQApeTsHLKQBACl5OwcspAEAKXk7ByykAQCp4OQUvpwBAKng5BS+nAEAqeDkFL6cAQCp4OQUvpwBAKng5BS+nAEAqeDkFL6cAQCp4OQUvpwBAKng5BS+nAEAqeDkFL6cAQCp4OQUvpwBAKng5BS+nAEAqeDkFL6cAQCp4OQUvpwBAKng5BS+nAEAqeDkFL6cAQCp4OQUvpwBAKng5BS+nAEAqeDkFL6cAQCp4OQUvpwBAKng5BS+nAEAqeDkFL6cAQCp4OQUvpwBAKng5BS+nAEAqeDkFL6cAQCp4OQUvpwBAKng5BS+nAEAqeDkFL6cAQCp4OQUvpwBAKng5BS+nAEAqeDkFL6cAQCp4OQUvpwBAKng5BS+nAEAqeDkFL6cAQCp4OQUvpwBAKng5BS+nAEAqeDkFL6cAQCp4OQUvpwBAKng5BS+nAEAqeDkFL6cAQCp4OQUvpwBAKng5BS+nAEAqeDkFL6cAQCp4OQUvpwBAKng5BS+nAEAqeDkFL6cAQCp4OQUvpwBAKng5BS+nAEAqeDkFL6cAQCp4OQUvpwBAKng5BS+nAEBJkiRJkiQBQEmSJEmSJAFASZIkSZIkAUBJkiRJkiQBQEmSJEmSJAFASZIkSZIkAUBJkiRJkiQBQEmSJEmSJAFASZIkSZIkAUBJkiRJkiQBQEmSJEmSJAFASZIkSZIkAUBJkiRJkiQBQEmSJEmSJAFASZIkSZIkAUBJkiRJkiQBQEmSJEmSJAFASZIkSZIkAUBJkiRJkiQBQEmSJEmSJAFASZIkSZIkAUBJkiRJkiQBQEmSJEmSJAFASZIkSZIkAUBJkiRJkiQBQEmSJEmSJAFASZIkSZIkAUBJkiRJkiQBQEmSJEmSJAFASZIkSZIkAUBJkiRJkiQBQEmSJEmSJAFASZIkSZIkAUBJkiRJkiQBQEmSJEmSJAFASZIkSZIkAUBJkiRJkiQBQEmSJEmSJAFASZIkSZIkAUBJkiRJkiQBQEmSJEmSJAFASZIkSZIkAUBJkiRJkiQBQEmSJEmSJAFASZIkSZIkAUBJkiRJkiQBQEmSJEmSJAFASZIkSZIkAUBJkiRJkiQBQEmSJEmSJAFAaKwPjfWhAUBorA+N9aEBQGisD431oQFAaKwPjfWhAUBorA+N9aEBQGisD431oQFAaKwPjfWhAUBorA+N9aEBQGisD431oQFAaKwPjfWhAUBorA+N9aEBQGisD431oQFAaKwPjfWhAUBorA+N9aEBQGisD431oQFAaKwPjfWhAUBorA+N9aEBQGisD431oQFAaKwPjfWhAUBorA+N9aEBQGisD431oQFAaKwPjfWhAUBorA+N9aEBQGisD431oQFAaKwPjfWhAUBorA+N9aEBQGisD431oQFAaKwPjfWhAUBorA+N9aEBQGisD431oQFAaKwPjfWhAUBorA+N9aEBQGisD431oQFAaKwPjfWhAUBorA+N9aEBQGisD431oQFAaKwPjfWhAUBorA+N9aEBQGisD431oQFAaKwPjfWhAUBorA+N9aEBQGisD431oQFAaKwPjfWhAUBorA+N9aEBQGisD431oQFAaKwPjfWhAUBorA+N9aEBQGisD431oQFAaKwPjfWhAUBorA+N9aEBQIjG+tBYHwJAiMb60FgfAkCIxvrQWB8CQIjG+tBYHwJAiMb60FgfAkCIxvrQWB8CQIjG+tBYHwJAiMb60FgfAkCIxvrQWB8CQIjG+tBYHwJAiMb60FgfAkCIxvrQWB8CQIjG+tBYHwJAiMb60FgfAkCIxvrQWB8CQIjG+tBYHwJAiMb60FgfAkCIxvrQWB8CQIjG+tBYHwJAiMb60FgfAkCIxvrQWB8CQIjG+tBYHwJAiMb60FgfAkCIxvrQWB8CQIjG+tBYHwJAiMb60FgfAkCIxvrQWB8CQIjG+tBYHwJAiMb60FgfAkCIxvrQWB8CQIjG+tBYHwJAiMb60FgfAkCIxvrQWB8CQIjG+tBYHwJAiMb60FgfAkCIxvrQWB8CQIjG+tBYHwJAiMb60FgfAkCIxvrQWB8CQIjG+tBYHwJAiMb60FgfAkCIxvrQWB8CQIjG+tBYHwJAiMb60FgfAkCIxvrQWB8CQIjG+tBYHwJAiMb60FgfAkCIxvrQWB8CQIjG+tBYHwJAiMb60FgfAkCn4OUUvJwCQKfg5RS8nAJAp+DlFLycAkCn4OUUvJwCQKfg5RS8nAJAp+DlFLycAkCn4OUUvJwCQKfg5RS8nAJAp+DlFLycAkCn4OUUvJwCQKfg5RS8nAJAp+DlFLycAkCn4OUUvJwCQKfg5RS8nAJAp+DlFLycAkCn4OUUvJwCQKfg5RS8nAJAp+DlFLycAkCn4OUUvJwCQKfg5RS8nAJAp+DlFLycAkCn4OUUvJwCQKfg5RS8nAJAp+DlFLycAkCn4OUUvJwCQKfg5RS8nAJAp+DlFLycAkCn4OUUvJwCQKfg5RS8nAJAp+DlFLycAkCn4OUUvJwCQKfg5RS8nAJAp+DlFLycAkCn4OUUvJwCQKfg5RS8nAJAp+DlFLycAkCn4OUUvJwCQKfg5RS8nAJAp+DlFLycAkCn4OUUvJwCQKfg5RS8nAJAp+DlFLycAkCn4OUUvJwCQKfg5RS8nAJAp+DlFLycAkCn4OUUvJwCQKfg5RS8nAJAp+DlFLycAkCn4OUUvJwCQKfg5RS8nAJAxvrQWB8aA0DG+tBYHxoDQMb60FgfGgNAxvrQWB8aA0DG+tBYHxoDQMb60FgfGgNAxvrQWB8aA0DG+tBYHxoDQMb60FgfGgNAxvrQWB8aA0DG+tBYHxoDQMb60FgfGgNAxvrQWB8aA0DG+tBYHxoDQMb60FgfGgNAxvrQWB8aA0DG+tBYHxoDQMb60FgfGgNAxvrQWB8aA0DG+tBYHxoDQMb60FgfGgNAxvrQWB8aA0DG+tBYHxoDQMb60FgfGgNAxvrQWB8aA0DG+tBYHxoDQMb60FgfGgNAxvrQWB8aA0DG+tBYHxoDQMb60FgfGgNAxvrQWB8aA0DG+tBYHxoDQMb60FgfGgNAxvrQWB8aA0DG+tBYHxoDQMb60FgfGgNAxvrQWB8aA0DG+tBYHxoDQMb60FgfGgNAxvrQWB8aA0DG+tBYHxoDQMb60FgfGgNAxvrQWB8aA0DG+tBYHxoDQMb60FgfGgNAxvrQWB8aA0DG+tBYHxoDQMb60FgfGgNAxvrQWB8aA0DG+tBYHxoDQOYUvJyClwNA5hS8nIKXA0DmFLycgpcDQOYUvJyClwNA5hS8nIKXA0DmFLycgpcDQOYUvJyClwNA5hS8nIKXA0DmFLycgpcDQOYUvJyClwNA5hS8nIKXA0DmFLycgpcDQOYUvJyClwNA5hS8nIKXA0DmFLycgpcDQOYUvJyClwNA5hS8nIKXA0DmFLycgpcDQOYUvJyClwNA5hS8nIKXA0DmFLycgpcDQOYUvJyClwNA5hS8nIKXA0DmFLycgpcDQOYUvJyClwNA5hS8nIKXA0DmFLycgpcDQOYUvJyClwNA5hS8nIKXA0DmFLycgpcDQOYUvJyClwNA5hS8nIKXA0DmFLycgpcDQOYUvJyClwNA5hS8nIKXA0DmFLycgpcDQOYUvJyClwNA5hS8nIKXA0DmFLycgpcDQOYUvJyClwNA5hS8nIKXA0DmFLycgpcDQOYUvJyClwNA5hS8nIKXA0DmFLycgpcDQOYUvJyClwNA5hS8nIKXA0DmFLycgpcDQOYUvJyClwNA5hS8nIKXA0AFL6fg5RQEQAUvp+DlFARABS+n4OUUBEAFL6fg5RQEQAUvp+DlFARABS+n4OUUBEAFL6fg5RQEQAUvp+DlFARABS+n4OUUBEAFL6fg5RQEQAUvp+DlFARABS+n4OUUBEAFL6fg5RQEQAUvp+DlFARABS+n4OUUBEAFL6fg5RQEQAUvp+DlFARABS+n4OUUBEAFL6fg5RQEQAUvp+DlFARABS+n4OUUBEAFL6fg5RQEQAUvp+DlFARABS+n4OUUBEAFL6fg5RQEQAUvp+DlFARABS+n4OUUBEAFL6fg5RQEQAUvp+DlFARABS+n4OUUBEAFL6fg5RQEQAUvp+DlFARABS+n4OUUBEAFL6fg5RQEQAUvp+DlFARABS+n4OUUBEAFL6fg5RQEQAUvp+DlFARABS+n4OUUBEAFL6fg5RQEQAUvp+DlFARABS+n4OUUBEAFL6fg5RQEQAUvp+DlFARABS+n4OUUBEAFL6fg5RQEQAUvp+DlFARABS+n4OUUBEAFL6fg5RQEQAUvp+DlFARAJEmSJEmSBEAkSZIkSZIEQCRJkiRJkgRAJEmSJEmSBEAkSZIkSZIEQCRJkiRJkgRAJEmSJEmSBEAkSZIkSZIEQCRJkiRJkgRAJEmSJEmSBEAkSZIkSZIEQCRJkiRJkgRAJEmSJEmSBEAkSZIkSZIEQCRJkiRJkgRAJEmSJEmSBEAkSZIkSZIEQCRJkiRJkgRAJEmSJEmSBEAkSZIkSZIEQCRJkiRJkgRAJEmSJEmSBEAkSZIkSZIEQCRJkiRJkgRAJEmSJEmSBEAkSZIkSZIEQCRJkiRJkgRAJEmSJEmSBEAkSZIkSZIEQCRJkiRJkgRAJEmSJEmSBEAkSZIkSZIEQCRJkiRJkgRAJEmSJEmSBEAkSZIkSZIEQCRJkiRJkgRAJEmSJEmSBEAkSZIkSZIEQCRJkiRJkgRAJEmSJEmSBEAkSZIkSZIEQCRJkiRJkgRAJEmSJEmSBEAkSZIkSZIEQCRJkiRJkgRAJEmSJEmSBEAkSZIkSZIEQCRJkiRJkgRAJEmSJEmSBEAkSZIkSZIEQERjfWisDwVARGN9aKwPBUBEY31orA8FQERjfWisDwVARGN9aKwPBUBEY31orA8FQERjfWisDwVARGN9aKwPBUBEY31orA8FQERjfWisDwVARGN9aKwPBUBEY31orA8FQERjfWisDwVARGN9aKwPBUBEY31orA8FQERjfWisDwVARGN9aKwPBUBEY31orA8FQERjfWisDwVARGN9aKwPBUBEY31orA8FQERjfWisDwVARGN9aKwPBUBEY31orA8FQERjfWisDwVARGN9aKwPBUBEY31orA8FQERjfWisDwVARGN9aKwPBUBEY31orA8FQERjfWisDwVARGN9aKwPBUBEY31orA8FQERjfWisDwVARGN9aKwPBUBEY31orA8FQERjfWisDwVARGN9aKwPBUBEY31orA8FQERjfWisDwVARGN9aKwPBUBEY31orA8FQERjfWisDwVARGN9aKwPBUBEY31orA8FQERjfWisDwVARGN9aKwPBUBEY31orA8FQERjfWisDwVARGN9aKwPBUBjfWisD40FQGN9aKwPjQVAY31orA+NBUBjfWisD40FQGN9aKwPjQVAY31orA+NBUBjfWisD40FQGN9aKwPjQVAY31orA+NBUBjfWisD40FQGN9aKwPjQVAY31orA+NBUBjfWisD40FQGN9aKwPjQVAY31orA+NBUBjfWisD40FQGN9aKwPjQVAY31orA+NBUBjfWisD40FQGN9aKwPjQVAY31orA+NBUBjfWisD40FQGN9aKwPjQVAY31orA+NBUBjfWisD40FQGN9aKwPjQVAY31orA+NBUBjfWisD40FQGN9aKwPjQVAY31orA+NBUBjfWisD40FQGN9aKwPjQVAY31orA+NBUBjfWisD40FQGN9aKwPjQVAY31orA+NBUBjfWisD40FQGN9aKwPjQVAY31orA+NBUBjfWisD40FQGN9aKwPjQVAY31orA+NBUBjfWisD40FQGN9aKwPjQVAY31orA+NBUBjfWisD40FQGN9aKwPjQVAY31orA+NBUBjfWisD40FQGN9aKwPjQVAgpdT8HIKBkCCl1PwcgoGQIKXU/ByCgZAgpdT8HIKBkCCl1PwcgoGQIKXU/ByCgZAgpdT8HIKBkCCl1PwcgoGQIKXU/ByCgZAgpdT8HIKBkCCl1PwcgoGQIKXU/ByCgZAgpdT8HIKBkCCl1PwcgoGQIKXU/ByCgZAgpdT8HIKBkCCl1PwcgoGQIKXU/ByCgZAgpdT8HIKBkCCl1PwcgoGQIKXU/ByCgZAgpdT8HIKBkCCl1PwcgoGQIKXU/ByCgZAgpdT8HIKBkCCl1PwcgoGQIKXU/ByCgZAgpdT8HIKBkCCl1PwcgoGQIKXU/ByCgZAgpdT8HIKBkCCl1PwcgoGQIKXU/ByCgZAgpdT8HIKBkCCl1PwcgoGQIKXU/ByCgZAgpdT8HIKBkCCl1PwcgoGQIKXU/ByCgZAgpdT8HIKBkCCl1PwcgoGQIKXU/ByCgZAgpdT8HIKBkCCl1PwcgoGQIKXU/ByCgZAgpdT8HIKBkCCl1PwcgoGQIKXU/ByCgZAgpdT8HIKBkCCl1PwcgoGQKKxPjTWhwZAorE+NNaHBkCisT401ocGQKKxPjTWhwZAorE+NNaHBkCisT401ocGQKKxPjTWhwZAorE+NNaHBkCisT401ocGQKKxPjTWhwZAorE+NNaHBkCisT401ocGQKKxPjTWhwZAorE+NNaHBkCisT401ocGQKKxPjTWhwZAorE+NNaHBkCisT401ocGQKKxPjTWhwZAorE+NNaHBkCisT401ocGQKKxPjTWhwZAorE+NNaHBkCisT401ocGQKKxPjTWhwZAorE+NNaHBkCisT401ocGQKKxPjTWhwZAorE+NNaHBkCisT401ocGQKKxPjTWhwZAorE+NNaHBkCisT401ocGQKKxPjTWhwZAorE+NNaHBkCisT401ocGQKKxPjTWhwZAorE+NNaHBkCisT401ocGQKKxPjTWhwZAorE+NNaHBkCisT401ocGQKKxPjTWhwZAorE+NNaHBkCisT401ocGQKKxPjTWhwZAorE+NNaHBkCisT401ocGQKKxPjTWhwZAorE+NNaHBkDByyl4OQUHQMHLKXg5BQdAwcspeDkFB0DByyl4OQUHQMHLKXg5BQdAwcspeDkFB0DByyl4OQUHQMHLKXg5BQdAwcspeDkFB0DByyl4OQUHQMHLKXg5BQdAwcspeDkFB0DByyl4OQUHQMHLKXg5BQdAwcspeDkFB0DByyl4OQUHQMHLKXg5BQdAwcspeDkFB0DByyl4OQUHQMHLKXg5BQdAwcspeDkFB0DByyl4OQUHQMHLKXg5BQdAwcspeDkFB0DByyl4OQUHQMHLKXg5BQdAwcspeDkFB0DByyl4OQUHQMHLKXg5BQdAwcspeDkFB0DByyl4OQUHQMHLKXg5BQdAwcspeDkFB0DByyl4OQUHQMHLKXg5BQdAwcspeDkFB0DByyl4OQUHQMHLKXg5BQdAwcspeDkFB0DByyl4OQUHQMHLKXg5BQdAwcspeDkFB0DByyl4OQUHQMHLKXg5BQdAwcspeDkFB0DByyl4OQUHQMHLKXg5BQdAwcspeDkFB0DByyl4OQUHQMHLKXg5BQdA4OUUvJyCB0Dg5RS8nIIHQODlFLycggdA4OUUvJyCB0Dg5RS8nIIHQODlFLycggdA4OUUvJyCB0Dg5RS8nIIHQODlFLycggdA4OUUvJyCB0Dg5RS8nIIHQODlFLycggdA4OUUvJyCB0Dg5RS8nIIHQODlFLycggdA4OUUvJyCB0Dg5RS8nIIHQODlFLycggdA4OUUvJyCB0Dg5RS8nIIHQODlFLycggdA4OUUvJyCB0Dg5RS8nIIHQODlFLycggdA4OUUvJyCB0Dg5RS8nIIHQODlFLycggdA4OUUvJyCB0Dg5RS8nIIHQODlFLycggdA4OUUvJyCB0Dg5RS8nIIHQODlFLycggdA4OUUvJyCB0Dg5RS8nIIHQODlFLycggdA4OUUvJyCB0Dg5RS8nIIHQODlFLycggdA4OUUvJyCB0Dg5RS8nIIHQODlFLycggdA4OUUvJyCB0Dg5RS8nIIHQODlFLycggdA4OUUvJyCB0Dg5RS8nIIHQODlFLycggdA4OUUvJyCB0Dg5RS8nIIHQAAAAAAAAAhAAAAAAAAACEAAAAAAAAAIQAAAAAAAAAhAAAAAAAAACEAAAAAAAAAIQAAAAAAAAAhAAAAAAAAACEAAAAAAAAAIQAAAAAAAAAhAAAAAAAAACEAAAAAAAAAIQAAAAAAAAAhAAAAAAAAACEAAAAAAAAAIQAAAAAAAAAhAAAAAAAAACEAAAAAAAAAIQAAAAAAAAAhAAAAAAAAACEAAAAAAAAAIQAAAAAAAAAhAAAAAAAAACEAAAAAAAAAIQAAAAAAAAAhAAAAAAAAACEAAAAAAAAAIQAAAAAAAAAhAAAAAAAAACEAAAAAAAAAIQAAAAAAAAAhAAAAAAAAACEAAAAAAAAAIQAAAAAAAAAhAAAAAAAAACEAAAAAAAAAIQAAAAAAAAAhAAAAAAAAACEAAAAAAAAAIQAAAAAAAAAhAAAAAAAAACEAAAAAAAAAIQAAAAAAAAAhAAAAAAAAACEAAAAAAAAAIQAAAAAAAAAhAAAAAAAAACEAAAAAAAAAIQAAAAAAAAAhAAAAAAAAACEA=",
          "shape": "50, 50"
         },
         "type": "surface"
        }
       ],
       "layout": {
        "legend": {
         "itemsizing": "constant",
         "tracegroupgap": 0
        },
        "margin": {
         "t": 60
        },
        "scene": {
         "domain": {
          "x": [
           0.0,
           1.0
          ],
          "y": [
           0.0,
           1.0
          ]
         },
         "xaxis": {
          "showgrid": false,
          "title": {
           "text": "V00MBMSFMA"
          }
         },
         "yaxis": {
          "showgrid": false,
          "title": {
           "text": "V00MBMNFMA"
          }
         },
         "zaxis": {
          "showgrid": false,
          "title": {
           "text": "V00MBMPFMA"
          }
         }
        },
        "template": {
         "data": {
          "barpolar": [
           {
            "marker": {
             "line": {
              "color": "rgb(17,17,17)",
              "width": 0.5
             },
             "pattern": {
              "fillmode": "overlay",
              "size": 10,
              "solidity": 0.2
             }
            },
            "type": "barpolar"
           }
          ],
          "bar": [
           {
            "error_x": {
             "color": "#f2f5fa"
            },
            "error_y": {
             "color": "#f2f5fa"
            },
            "marker": {
             "line": {
              "color": "rgb(17,17,17)",
              "width": 0.5
             },
             "pattern": {
              "fillmode": "overlay",
              "size": 10,
              "solidity": 0.2
             }
            },
            "type": "bar"
           }
          ],
          "carpet": [
           {
            "aaxis": {
             "endlinecolor": "#A2B1C6",
             "gridcolor": "#506784",
             "linecolor": "#506784",
             "minorgridcolor": "#506784",
             "startlinecolor": "#A2B1C6"
            },
            "baxis": {
             "endlinecolor": "#A2B1C6",
             "gridcolor": "#506784",
             "linecolor": "#506784",
             "minorgridcolor": "#506784",
             "startlinecolor": "#A2B1C6"
            },
            "type": "carpet"
           }
          ],
          "choropleth": [
           {
            "colorbar": {
             "outlinewidth": 0,
             "ticks": ""
            },
            "type": "choropleth"
           }
          ],
          "contourcarpet": [
           {
            "colorbar": {
             "outlinewidth": 0,
             "ticks": ""
            },
            "type": "contourcarpet"
           }
          ],
          "contour": [
           {
            "colorbar": {
             "outlinewidth": 0,
             "ticks": ""
            },
            "colorscale": [
             [
              0.0,
              "#0d0887"
             ],
             [
              0.1111111111111111,
              "#46039f"
             ],
             [
              0.2222222222222222,
              "#7201a8"
             ],
             [
              0.3333333333333333,
              "#9c179e"
             ],
             [
              0.4444444444444444,
              "#bd3786"
             ],
             [
              0.5555555555555556,
              "#d8576b"
             ],
             [
              0.6666666666666666,
              "#ed7953"
             ],
             [
              0.7777777777777778,
              "#fb9f3a"
             ],
             [
              0.8888888888888888,
              "#fdca26"
             ],
             [
              1.0,
              "#f0f921"
             ]
            ],
            "type": "contour"
           }
          ],
          "heatmap": [
           {
            "colorbar": {
             "outlinewidth": 0,
             "ticks": ""
            },
            "colorscale": [
             [
              0.0,
              "#0d0887"
             ],
             [
              0.1111111111111111,
              "#46039f"
             ],
             [
              0.2222222222222222,
              "#7201a8"
             ],
             [
              0.3333333333333333,
              "#9c179e"
             ],
             [
              0.4444444444444444,
              "#bd3786"
             ],
             [
              0.5555555555555556,
              "#d8576b"
             ],
             [
              0.6666666666666666,
              "#ed7953"
             ],
             [
              0.7777777777777778,
              "#fb9f3a"
             ],
             [
              0.8888888888888888,
              "#fdca26"
             ],
             [
              1.0,
              "#f0f921"
             ]
            ],
            "type": "heatmap"
           }
          ],
          "histogram2dcontour": [
           {
            "colorbar": {
             "outlinewidth": 0,
             "ticks": ""
            },
            "colorscale": [
             [
              0.0,
              "#0d0887"
             ],
             [
              0.1111111111111111,
              "#46039f"
             ],
             [
              0.2222222222222222,
              "#7201a8"
             ],
             [
              0.3333333333333333,
              "#9c179e"
             ],
             [
              0.4444444444444444,
              "#bd3786"
             ],
             [
              0.5555555555555556,
              "#d8576b"
             ],
             [
              0.6666666666666666,
              "#ed7953"
             ],
             [
              0.7777777777777778,
              "#fb9f3a"
             ],
             [
              0.8888888888888888,
              "#fdca26"
             ],
             [
              1.0,
              "#f0f921"
             ]
            ],
            "type": "histogram2dcontour"
           }
          ],
          "histogram2d": [
           {
            "colorbar": {
             "outlinewidth": 0,
             "ticks": ""
            },
            "colorscale": [
             [
              0.0,
              "#0d0887"
             ],
             [
              0.1111111111111111,
              "#46039f"
             ],
             [
              0.2222222222222222,
              "#7201a8"
             ],
             [
              0.3333333333333333,
              "#9c179e"
             ],
             [
              0.4444444444444444,
              "#bd3786"
             ],
             [
              0.5555555555555556,
              "#d8576b"
             ],
             [
              0.6666666666666666,
              "#ed7953"
             ],
             [
              0.7777777777777778,
              "#fb9f3a"
             ],
             [
              0.8888888888888888,
              "#fdca26"
             ],
             [
              1.0,
              "#f0f921"
             ]
            ],
            "type": "histogram2d"
           }
          ],
          "histogram": [
           {
            "marker": {
             "pattern": {
              "fillmode": "overlay",
              "size": 10,
              "solidity": 0.2
             }
            },
            "type": "histogram"
           }
          ],
          "mesh3d": [
           {
            "colorbar": {
             "outlinewidth": 0,
             "ticks": ""
            },
            "type": "mesh3d"
           }
          ],
          "parcoords": [
           {
            "line": {
             "colorbar": {
              "outlinewidth": 0,
              "ticks": ""
             }
            },
            "type": "parcoords"
           }
          ],
          "pie": [
           {
            "automargin": true,
            "type": "pie"
           }
          ],
          "scatter3d": [
           {
            "line": {
             "colorbar": {
              "outlinewidth": 0,
              "ticks": ""
             }
            },
            "marker": {
             "colorbar": {
              "outlinewidth": 0,
              "ticks": ""
             }
            },
            "type": "scatter3d"
           }
          ],
          "scattercarpet": [
           {
            "marker": {
             "colorbar": {
              "outlinewidth": 0,
              "ticks": ""
             }
            },
            "type": "scattercarpet"
           }
          ],
          "scattergeo": [
           {
            "marker": {
             "colorbar": {
              "outlinewidth": 0,
              "ticks": ""
             }
            },
            "type": "scattergeo"
           }
          ],
          "scattergl": [
           {
            "marker": {
             "line": {
              "color": "#283442"
             }
            },
            "type": "scattergl"
           }
          ],
          "scattermapbox": [
           {
            "marker": {
             "colorbar": {
              "outlinewidth": 0,
              "ticks": ""
             }
            },
            "type": "scattermapbox"
           }
          ],
          "scattermap": [
           {
            "marker": {
             "colorbar": {
              "outlinewidth": 0,
              "ticks": ""
             }
            },
            "type": "scattermap"
           }
          ],
          "scatterpolargl": [
           {
            "marker": {
             "colorbar": {
              "outlinewidth": 0,
              "ticks": ""
             }
            },
            "type": "scatterpolargl"
           }
          ],
          "scatterpolar": [
           {
            "marker": {
             "colorbar": {
              "outlinewidth": 0,
              "ticks": ""
             }
            },
            "type": "scatterpolar"
           }
          ],
          "scatter": [
           {
            "marker": {
             "line": {
              "color": "#283442"
             }
            },
            "type": "scatter"
           }
          ],
          "scatterternary": [
           {
            "marker": {
             "colorbar": {
              "outlinewidth": 0,
              "ticks": ""
             }
            },
            "type": "scatterternary"
           }
          ],
          "surface": [
           {
            "colorbar": {
             "outlinewidth": 0,
             "ticks": ""
            },
            "colorscale": [
             [
              0.0,
              "#0d0887"
             ],
             [
              0.1111111111111111,
              "#46039f"
             ],
             [
              0.2222222222222222,
              "#7201a8"
             ],
             [
              0.3333333333333333,
              "#9c179e"
             ],
             [
              0.4444444444444444,
              "#bd3786"
             ],
             [
              0.5555555555555556,
              "#d8576b"
             ],
             [
              0.6666666666666666,
              "#ed7953"
             ],
             [
              0.7777777777777778,
              "#fb9f3a"
             ],
             [
              0.8888888888888888,
              "#fdca26"
             ],
             [
              1.0,
              "#f0f921"
             ]
            ],
            "type": "surface"
           }
          ],
          "table": [
           {
            "cells": {
             "fill": {
              "color": "#506784"
             },
             "line": {
              "color": "rgb(17,17,17)"
             }
            },
            "header": {
             "fill": {
              "color": "#2a3f5f"
             },
             "line": {
              "color": "rgb(17,17,17)"
             }
            },
            "type": "table"
           }
          ]
         },
         "layout": {
          "annotationdefaults": {
           "arrowcolor": "#f2f5fa",
           "arrowhead": 0,
           "arrowwidth": 1
          },
          "autotypenumbers": "strict",
          "coloraxis": {
           "colorbar": {
            "outlinewidth": 0,
            "ticks": ""
           }
          },
          "colorscale": {
           "diverging": [
            [
             0,
             "#8e0152"
            ],
            [
             0.1,
             "#c51b7d"
            ],
            [
             0.2,
             "#de77ae"
            ],
            [
             0.3,
             "#f1b6da"
            ],
            [
             0.4,
             "#fde0ef"
            ],
            [
             0.5,
             "#f7f7f7"
            ],
            [
             0.6,
             "#e6f5d0"
            ],
            [
             0.7,
             "#b8e186"
            ],
            [
             0.8,
             "#7fbc41"
            ],
            [
             0.9,
             "#4d9221"
            ],
            [
             1,
             "#276419"
            ]
           ],
           "sequential": [
            [
             0.0,
             "#0d0887"
            ],
            [
             0.1111111111111111,
             "#46039f"
            ],
            [
             0.2222222222222222,
             "#7201a8"
            ],
            [
             0.3333333333333333,
             "#9c179e"
            ],
            [
             0.4444444444444444,
             "#bd3786"
            ],
            [
             0.5555555555555556,
             "#d8576b"
            ],
            [
             0.6666666666666666,
             "#ed7953"
            ],
            [
             0.7777777777777778,
             "#fb9f3a"
            ],
            [
             0.8888888888888888,
             "#fdca26"
            ],
            [
             1.0,
             "#f0f921"
            ]
           ],
           "sequentialminus": [
            [
             0.0,
             "#0d0887"
            ],
            [
             0.1111111111111111,
             "#46039f"
            ],
            [
             0.2222222222222222,
             "#7201a8"
            ],
            [
             0.3333333333333333,
             "#9c179e"
            ],
            [
             0.4444444444444444,
             "#bd3786"
            ],
            [
             0.5555555555555556,
             "#d8576b"
            ],
            [
             0.6666666666666666,
             "#ed7953"
            ],
            [
             0.7777777777777778,
             "#fb9f3a"
            ],
            [
             0.8888888888888888,
             "#fdca26"
            ],
            [
             1.0,
             "#f0f921"
            ]
           ]
          },
          "colorway": [
           "#636efa",
           "#EF553B",
           "#00cc96",
           "#ab63fa",
           "#FFA15A",
           "#19d3f3",
           "#FF6692",
           "#B6E880",
           "#FF97FF",
           "#FECB52"
          ],
          "font": {
           "color": "#f2f5fa"
          },
          "geo": {
           "bgcolor": "rgb(17,17,17)",
           "lakecolor": "rgb(17,17,17)",
           "landcolor": "rgb(17,17,17)",
           "showlakes": true,
           "showland": true,
           "subunitcolor": "#506784"
          },
          "hoverlabel": {
           "align": "left"
          },
          "hovermode": "closest",
          "mapbox": {
           "style": "dark"
          },
          "paper_bgcolor": "rgb(17,17,17)",
          "plot_bgcolor": "rgb(17,17,17)",
          "polar": {
           "angularaxis": {
            "gridcolor": "#506784",
            "linecolor": "#506784",
            "ticks": ""
           },
           "bgcolor": "rgb(17,17,17)",
           "radialaxis": {
            "gridcolor": "#506784",
            "linecolor": "#506784",
            "ticks": ""
           }
          },
          "scene": {
           "xaxis": {
            "backgroundcolor": "rgb(17,17,17)",
            "gridcolor": "#506784",
            "gridwidth": 2,
            "linecolor": "#506784",
            "showbackground": true,
            "ticks": "",
            "zerolinecolor": "#C8D4E3"
           },
           "yaxis": {
            "backgroundcolor": "rgb(17,17,17)",
            "gridcolor": "#506784",
            "gridwidth": 2,
            "linecolor": "#506784",
            "showbackground": true,
            "ticks": "",
            "zerolinecolor": "#C8D4E3"
           },
           "zaxis": {
            "backgroundcolor": "rgb(17,17,17)",
            "gridcolor": "#506784",
            "gridwidth": 2,
            "linecolor": "#506784",
            "showbackground": true,
            "ticks": "",
            "zerolinecolor": "#C8D4E3"
           }
          },
          "shapedefaults": {
           "line": {
            "color": "#f2f5fa"
           }
          },
          "sliderdefaults": {
           "bgcolor": "#C8D4E3",
           "bordercolor": "rgb(17,17,17)",
           "borderwidth": 1,
           "tickwidth": 0
          },
          "ternary": {
           "aaxis": {
            "gridcolor": "#506784",
            "linecolor": "#506784",
            "ticks": ""
           },
           "baxis": {
            "gridcolor": "#506784",
            "linecolor": "#506784",
            "ticks": ""
           },
           "bgcolor": "rgb(17,17,17)",
           "caxis": {
            "gridcolor": "#506784",
            "linecolor": "#506784",
            "ticks": ""
           }
          },
          "title": {
           "x": 0.05
          },
          "updatemenudefaults": {
           "bgcolor": "#506784",
           "borderwidth": 0
          },
          "xaxis": {
           "automargin": true,
           "gridcolor": "#283442",
           "linecolor": "#506784",
           "ticks": "",
           "title": {
            "standoff": 15
           },
           "zerolinecolor": "#283442",
           "zerolinewidth": 2
          },
          "yaxis": {
           "automargin": true,
           "gridcolor": "#283442",
           "linecolor": "#506784",
           "ticks": "",
           "title": {
            "standoff": 15
           },
           "zerolinecolor": "#283442",
           "zerolinewidth": 2
          }
         }
        },
        "title": {
         "text": "V00MBMPFMA ~ V00MBMNFMA + V00MBMSFMA + I(V00MBMNFMA**2) + I(V00MBMSFMA**2) + I(V00MBMNFMA**3) + I(V00MBMSFMA**3)",
         "x": 0.5,
         "xanchor": "center"
        }
       },
       "config": {
        "plotlyServerURL": "https://plot.ly"
       }
      }
     },
     "metadata": {},
     "output_type": "display_data"
    }
   ],
   "execution_count": 8
  },
  {
   "metadata": {
    "ExecuteTime": {
     "end_time": "2025-08-12T16:50:45.083481Z",
     "start_time": "2025-08-12T16:50:45.033710Z"
    }
   },
   "cell_type": "code",
   "source": [
    "fmc_surface = plot_moaks_data_regression_surface(moaks_3d_fmc_scatter, v00_moaks_shared_kl_fmc, fmc_relationships_df, 28)\n",
    "fmc_surface.show()"
   ],
   "id": "ba4649c024123fe8",
   "outputs": [
    {
     "data": {
      "application/vnd.plotly.v1+json": {
       "data": [
        {
         "hovertemplate": "V00MBMSFMC=%{x}<br>V00MBMNFMC=%{y}<br>V00MBMPFMC=%{z}<br>count=%{marker.size}<extra></extra>",
         "legendgroup": "",
         "marker": {
          "color": "#636efa",
          "opacity": 0.8,
          "size": {
           "dtype": "i2",
           "bdata": "hwkBAAIAAQABACgACQASALQAAQACAAIABAAiAAEAAwABAAIAEwA2AAcADQACAAMAAgANABUAAgADAAIAAQA="
          },
          "sizemode": "area",
          "sizeref": 1.524375,
          "symbol": "circle"
         },
         "mode": "markers",
         "name": "",
         "scene": "scene",
         "showlegend": false,
         "x": {
          "dtype": "f8",
          "bdata": "AAAAAAAAAAAAAAAAAAAAAAAAAAAAAPA/AAAAAAAA8D8AAAAAAADwPwAAAAAAAPA/AAAAAAAA8D8AAAAAAADwPwAAAAAAAPA/AAAAAAAA8D8AAAAAAADwPwAAAAAAAPA/AAAAAAAA8D8AAAAAAADwPwAAAAAAAPA/AAAAAAAA8D8AAAAAAAAAQAAAAAAAAABAAAAAAAAAAEAAAAAAAAAAQAAAAAAAAABAAAAAAAAAAEAAAAAAAAAAQAAAAAAAAABAAAAAAAAAAEAAAAAAAAAIQAAAAAAAAAhAAAAAAAAACEAAAAAAAAAIQAAAAAAAAAhAAAAAAAAACEA="
         },
         "y": {
          "dtype": "f8",
          "bdata": "AAAAAAAAAAAAAAAAAADwPwAAAAAAAAAAAAAAAAAAAAAAAAAAAAAAAAAAAAAAAPA/AAAAAAAA8D8AAAAAAADwPwAAAAAAAPA/AAAAAAAA8D8AAAAAAAAAQAAAAAAAAABAAAAAAAAAAEAAAAAAAAAAQAAAAAAAAAhAAAAAAAAACEAAAAAAAAAAAAAAAAAAAPA/AAAAAAAA8D8AAAAAAADwPwAAAAAAAABAAAAAAAAAAEAAAAAAAAAIQAAAAAAAAAhAAAAAAAAAEEAAAAAAAADwPwAAAAAAAPA/AAAAAAAAAEAAAAAAAAAAQAAAAAAAAAhAAAAAAAAAEEA="
         },
         "z": {
          "dtype": "f8",
          "bdata": "AAAAAAAAAAAAAAAAAAAAAAAAAAAAAAAAAAAAAAAA8D8AAAAAAAAIQAAAAAAAAAAAAAAAAAAA8D8AAAAAAAAAQAAAAAAAAAhAAAAAAAAAEEAAAAAAAAAAAAAAAAAAAPA/AAAAAAAAAEAAAAAAAAAIQAAAAAAAAABAAAAAAAAACEAAAAAAAAAAAAAAAAAAAPA/AAAAAAAAAEAAAAAAAAAIQAAAAAAAAABAAAAAAAAACEAAAAAAAAAAQAAAAAAAAAhAAAAAAAAAAEAAAAAAAAAAQAAAAAAAAAhAAAAAAAAAAEAAAAAAAAAIQAAAAAAAAABAAAAAAAAAAEA="
         },
         "type": "scatter3d"
        },
        {
         "colorscale": [
          [
           0.0,
           "rgb(255,255,217)"
          ],
          [
           0.125,
           "rgb(237,248,177)"
          ],
          [
           0.25,
           "rgb(199,233,180)"
          ],
          [
           0.375,
           "rgb(127,205,187)"
          ],
          [
           0.5,
           "rgb(65,182,196)"
          ],
          [
           0.625,
           "rgb(29,145,192)"
          ],
          [
           0.75,
           "rgb(34,94,168)"
          ],
          [
           0.875,
           "rgb(37,52,148)"
          ],
          [
           1.0,
           "rgb(8,29,88)"
          ]
         ],
         "opacity": 0.3,
         "showscale": false,
         "x": {
          "dtype": "f8",
          "bdata": "AAAAAAAAAAA5BS+n4OW0PzkFL6fg5cQ/1ofG+tBYzz85BS+n4OXUP4fG+tBYH9o/1ofG+tBY3z+SJEmSJEniPzkFL6fg5eQ/4OUUvJyC5z+HxvrQWB/qPy6n4OUUvOw/1ofG+tBY7z8+NNaHxvrwP5IkSZIkSfI/5RS8nIKX8z85BS+n4OX0P431obE+NPY/4OUUvJyC9z801ofG+tD4P4fG+tBYH/o/27Zt27Zt+z8up+DlFLz8P4KXU/ByCv4/1ofG+tBY/z8VvJyCl1MAQD401ofG+gBAaKwPjfWhAUCSJEmSJEkCQLycgpdT8AJA5RS8nIKXA0APjfWhsT4EQDkFL6fg5QRAY31orA+NBUCN9aGxPjQGQLZt27Zt2wZA4OUUvJyCB0AKXk7ByykIQDTWh8b60AhAXU7Byyl4CUCHxvrQWB8KQLE+NNaHxgpA27Zt27ZtC0AFL6fg5RQMQC6n4OUUvAxAWB8a60NjDUCCl1PwcgoOQKwPjfWhsQ5A1ofG+tBYD0AAAAAAAAAQQAAAAAAAAAAAOQUvp+DltD85BS+n4OXEP9aHxvrQWM8/OQUvp+Dl1D+HxvrQWB/aP9aHxvrQWN8/kiRJkiRJ4j85BS+n4OXkP+DlFLycguc/h8b60Fgf6j8up+DlFLzsP9aHxvrQWO8/PjTWh8b68D+SJEmSJEnyP+UUvJyCl/M/OQUvp+Dl9D+N9aGxPjT2P+DlFLycgvc/NNaHxvrQ+D+HxvrQWB/6P9u2bdu2bfs/Lqfg5RS8/D+Cl1Pwcgr+P9aHxvrQWP8/FbycgpdTAEA+NNaHxvoAQGisD431oQFAkiRJkiRJAkC8nIKXU/ACQOUUvJyClwNAD431obE+BEA5BS+n4OUEQGN9aKwPjQVAjfWhsT40BkC2bdu2bdsGQODlFLycggdACl5OwcspCEA01ofG+tAIQF1OwcspeAlAh8b60FgfCkCxPjTWh8YKQNu2bdu2bQtABS+n4OUUDEAup+DlFLwMQFgfGutDYw1AgpdT8HIKDkCsD431obEOQNaHxvrQWA9AAAAAAAAAEEAAAAAAAAAAADkFL6fg5bQ/OQUvp+DlxD/Wh8b60FjPPzkFL6fg5dQ/h8b60Fgf2j/Wh8b60FjfP5IkSZIkSeI/OQUvp+Dl5D/g5RS8nILnP4fG+tBYH+o/Lqfg5RS87D/Wh8b60FjvPz401ofG+vA/kiRJkiRJ8j/lFLycgpfzPzkFL6fg5fQ/jfWhsT409j/g5RS8nIL3PzTWh8b60Pg/h8b60Fgf+j/btm3btm37Py6n4OUUvPw/gpdT8HIK/j/Wh8b60Fj/PxW8nIKXUwBAPjTWh8b6AEBorA+N9aEBQJIkSZIkSQJAvJyCl1PwAkDlFLycgpcDQA+N9aGxPgRAOQUvp+DlBEBjfWisD40FQI31obE+NAZAtm3btm3bBkDg5RS8nIIHQApeTsHLKQhANNaHxvrQCEBdTsHLKXgJQIfG+tBYHwpAsT401ofGCkDbtm3btm0LQAUvp+DlFAxALqfg5RS8DEBYHxrrQ2MNQIKXU/ByCg5ArA+N9aGxDkDWh8b60FgPQAAAAAAAABBAAAAAAAAAAAA5BS+n4OW0PzkFL6fg5cQ/1ofG+tBYzz85BS+n4OXUP4fG+tBYH9o/1ofG+tBY3z+SJEmSJEniPzkFL6fg5eQ/4OUUvJyC5z+HxvrQWB/qPy6n4OUUvOw/1ofG+tBY7z8+NNaHxvrwP5IkSZIkSfI/5RS8nIKX8z85BS+n4OX0P431obE+NPY/4OUUvJyC9z801ofG+tD4P4fG+tBYH/o/27Zt27Zt+z8up+DlFLz8P4KXU/ByCv4/1ofG+tBY/z8VvJyCl1MAQD401ofG+gBAaKwPjfWhAUCSJEmSJEkCQLycgpdT8AJA5RS8nIKXA0APjfWhsT4EQDkFL6fg5QRAY31orA+NBUCN9aGxPjQGQLZt27Zt2wZA4OUUvJyCB0AKXk7ByykIQDTWh8b60AhAXU7Byyl4CUCHxvrQWB8KQLE+NNaHxgpA27Zt27ZtC0AFL6fg5RQMQC6n4OUUvAxAWB8a60NjDUCCl1PwcgoOQKwPjfWhsQ5A1ofG+tBYD0AAAAAAAAAQQAAAAAAAAAAAOQUvp+DltD85BS+n4OXEP9aHxvrQWM8/OQUvp+Dl1D+HxvrQWB/aP9aHxvrQWN8/kiRJkiRJ4j85BS+n4OXkP+DlFLycguc/h8b60Fgf6j8up+DlFLzsP9aHxvrQWO8/PjTWh8b68D+SJEmSJEnyP+UUvJyCl/M/OQUvp+Dl9D+N9aGxPjT2P+DlFLycgvc/NNaHxvrQ+D+HxvrQWB/6P9u2bdu2bfs/Lqfg5RS8/D+Cl1Pwcgr+P9aHxvrQWP8/FbycgpdTAEA+NNaHxvoAQGisD431oQFAkiRJkiRJAkC8nIKXU/ACQOUUvJyClwNAD431obE+BEA5BS+n4OUEQGN9aKwPjQVAjfWhsT40BkC2bdu2bdsGQODlFLycggdACl5OwcspCEA01ofG+tAIQF1OwcspeAlAh8b60FgfCkCxPjTWh8YKQNu2bdu2bQtABS+n4OUUDEAup+DlFLwMQFgfGutDYw1AgpdT8HIKDkCsD431obEOQNaHxvrQWA9AAAAAAAAAEEAAAAAAAAAAADkFL6fg5bQ/OQUvp+DlxD/Wh8b60FjPPzkFL6fg5dQ/h8b60Fgf2j/Wh8b60FjfP5IkSZIkSeI/OQUvp+Dl5D/g5RS8nILnP4fG+tBYH+o/Lqfg5RS87D/Wh8b60FjvPz401ofG+vA/kiRJkiRJ8j/lFLycgpfzPzkFL6fg5fQ/jfWhsT409j/g5RS8nIL3PzTWh8b60Pg/h8b60Fgf+j/btm3btm37Py6n4OUUvPw/gpdT8HIK/j/Wh8b60Fj/PxW8nIKXUwBAPjTWh8b6AEBorA+N9aEBQJIkSZIkSQJAvJyCl1PwAkDlFLycgpcDQA+N9aGxPgRAOQUvp+DlBEBjfWisD40FQI31obE+NAZAtm3btm3bBkDg5RS8nIIHQApeTsHLKQhANNaHxvrQCEBdTsHLKXgJQIfG+tBYHwpAsT401ofGCkDbtm3btm0LQAUvp+DlFAxALqfg5RS8DEBYHxrrQ2MNQIKXU/ByCg5ArA+N9aGxDkDWh8b60FgPQAAAAAAAABBAAAAAAAAAAAA5BS+n4OW0PzkFL6fg5cQ/1ofG+tBYzz85BS+n4OXUP4fG+tBYH9o/1ofG+tBY3z+SJEmSJEniPzkFL6fg5eQ/4OUUvJyC5z+HxvrQWB/qPy6n4OUUvOw/1ofG+tBY7z8+NNaHxvrwP5IkSZIkSfI/5RS8nIKX8z85BS+n4OX0P431obE+NPY/4OUUvJyC9z801ofG+tD4P4fG+tBYH/o/27Zt27Zt+z8up+DlFLz8P4KXU/ByCv4/1ofG+tBY/z8VvJyCl1MAQD401ofG+gBAaKwPjfWhAUCSJEmSJEkCQLycgpdT8AJA5RS8nIKXA0APjfWhsT4EQDkFL6fg5QRAY31orA+NBUCN9aGxPjQGQLZt27Zt2wZA4OUUvJyCB0AKXk7ByykIQDTWh8b60AhAXU7Byyl4CUCHxvrQWB8KQLE+NNaHxgpA27Zt27ZtC0AFL6fg5RQMQC6n4OUUvAxAWB8a60NjDUCCl1PwcgoOQKwPjfWhsQ5A1ofG+tBYD0AAAAAAAAAQQAAAAAAAAAAAOQUvp+DltD85BS+n4OXEP9aHxvrQWM8/OQUvp+Dl1D+HxvrQWB/aP9aHxvrQWN8/kiRJkiRJ4j85BS+n4OXkP+DlFLycguc/h8b60Fgf6j8up+DlFLzsP9aHxvrQWO8/PjTWh8b68D+SJEmSJEnyP+UUvJyCl/M/OQUvp+Dl9D+N9aGxPjT2P+DlFLycgvc/NNaHxvrQ+D+HxvrQWB/6P9u2bdu2bfs/Lqfg5RS8/D+Cl1Pwcgr+P9aHxvrQWP8/FbycgpdTAEA+NNaHxvoAQGisD431oQFAkiRJkiRJAkC8nIKXU/ACQOUUvJyClwNAD431obE+BEA5BS+n4OUEQGN9aKwPjQVAjfWhsT40BkC2bdu2bdsGQODlFLycggdACl5OwcspCEA01ofG+tAIQF1OwcspeAlAh8b60FgfCkCxPjTWh8YKQNu2bdu2bQtABS+n4OUUDEAup+DlFLwMQFgfGutDYw1AgpdT8HIKDkCsD431obEOQNaHxvrQWA9AAAAAAAAAEEAAAAAAAAAAADkFL6fg5bQ/OQUvp+DlxD/Wh8b60FjPPzkFL6fg5dQ/h8b60Fgf2j/Wh8b60FjfP5IkSZIkSeI/OQUvp+Dl5D/g5RS8nILnP4fG+tBYH+o/Lqfg5RS87D/Wh8b60FjvPz401ofG+vA/kiRJkiRJ8j/lFLycgpfzPzkFL6fg5fQ/jfWhsT409j/g5RS8nIL3PzTWh8b60Pg/h8b60Fgf+j/btm3btm37Py6n4OUUvPw/gpdT8HIK/j/Wh8b60Fj/PxW8nIKXUwBAPjTWh8b6AEBorA+N9aEBQJIkSZIkSQJAvJyCl1PwAkDlFLycgpcDQA+N9aGxPgRAOQUvp+DlBEBjfWisD40FQI31obE+NAZAtm3btm3bBkDg5RS8nIIHQApeTsHLKQhANNaHxvrQCEBdTsHLKXgJQIfG+tBYHwpAsT401ofGCkDbtm3btm0LQAUvp+DlFAxALqfg5RS8DEBYHxrrQ2MNQIKXU/ByCg5ArA+N9aGxDkDWh8b60FgPQAAAAAAAABBAAAAAAAAAAAA5BS+n4OW0PzkFL6fg5cQ/1ofG+tBYzz85BS+n4OXUP4fG+tBYH9o/1ofG+tBY3z+SJEmSJEniPzkFL6fg5eQ/4OUUvJyC5z+HxvrQWB/qPy6n4OUUvOw/1ofG+tBY7z8+NNaHxvrwP5IkSZIkSfI/5RS8nIKX8z85BS+n4OX0P431obE+NPY/4OUUvJyC9z801ofG+tD4P4fG+tBYH/o/27Zt27Zt+z8up+DlFLz8P4KXU/ByCv4/1ofG+tBY/z8VvJyCl1MAQD401ofG+gBAaKwPjfWhAUCSJEmSJEkCQLycgpdT8AJA5RS8nIKXA0APjfWhsT4EQDkFL6fg5QRAY31orA+NBUCN9aGxPjQGQLZt27Zt2wZA4OUUvJyCB0AKXk7ByykIQDTWh8b60AhAXU7Byyl4CUCHxvrQWB8KQLE+NNaHxgpA27Zt27ZtC0AFL6fg5RQMQC6n4OUUvAxAWB8a60NjDUCCl1PwcgoOQKwPjfWhsQ5A1ofG+tBYD0AAAAAAAAAQQAAAAAAAAAAAOQUvp+DltD85BS+n4OXEP9aHxvrQWM8/OQUvp+Dl1D+HxvrQWB/aP9aHxvrQWN8/kiRJkiRJ4j85BS+n4OXkP+DlFLycguc/h8b60Fgf6j8up+DlFLzsP9aHxvrQWO8/PjTWh8b68D+SJEmSJEnyP+UUvJyCl/M/OQUvp+Dl9D+N9aGxPjT2P+DlFLycgvc/NNaHxvrQ+D+HxvrQWB/6P9u2bdu2bfs/Lqfg5RS8/D+Cl1Pwcgr+P9aHxvrQWP8/FbycgpdTAEA+NNaHxvoAQGisD431oQFAkiRJkiRJAkC8nIKXU/ACQOUUvJyClwNAD431obE+BEA5BS+n4OUEQGN9aKwPjQVAjfWhsT40BkC2bdu2bdsGQODlFLycggdACl5OwcspCEA01ofG+tAIQF1OwcspeAlAh8b60FgfCkCxPjTWh8YKQNu2bdu2bQtABS+n4OUUDEAup+DlFLwMQFgfGutDYw1AgpdT8HIKDkCsD431obEOQNaHxvrQWA9AAAAAAAAAEEAAAAAAAAAAADkFL6fg5bQ/OQUvp+DlxD/Wh8b60FjPPzkFL6fg5dQ/h8b60Fgf2j/Wh8b60FjfP5IkSZIkSeI/OQUvp+Dl5D/g5RS8nILnP4fG+tBYH+o/Lqfg5RS87D/Wh8b60FjvPz401ofG+vA/kiRJkiRJ8j/lFLycgpfzPzkFL6fg5fQ/jfWhsT409j/g5RS8nIL3PzTWh8b60Pg/h8b60Fgf+j/btm3btm37Py6n4OUUvPw/gpdT8HIK/j/Wh8b60Fj/PxW8nIKXUwBAPjTWh8b6AEBorA+N9aEBQJIkSZIkSQJAvJyCl1PwAkDlFLycgpcDQA+N9aGxPgRAOQUvp+DlBEBjfWisD40FQI31obE+NAZAtm3btm3bBkDg5RS8nIIHQApeTsHLKQhANNaHxvrQCEBdTsHLKXgJQIfG+tBYHwpAsT401ofGCkDbtm3btm0LQAUvp+DlFAxALqfg5RS8DEBYHxrrQ2MNQIKXU/ByCg5ArA+N9aGxDkDWh8b60FgPQAAAAAAAABBAAAAAAAAAAAA5BS+n4OW0PzkFL6fg5cQ/1ofG+tBYzz85BS+n4OXUP4fG+tBYH9o/1ofG+tBY3z+SJEmSJEniPzkFL6fg5eQ/4OUUvJyC5z+HxvrQWB/qPy6n4OUUvOw/1ofG+tBY7z8+NNaHxvrwP5IkSZIkSfI/5RS8nIKX8z85BS+n4OX0P431obE+NPY/4OUUvJyC9z801ofG+tD4P4fG+tBYH/o/27Zt27Zt+z8up+DlFLz8P4KXU/ByCv4/1ofG+tBY/z8VvJyCl1MAQD401ofG+gBAaKwPjfWhAUCSJEmSJEkCQLycgpdT8AJA5RS8nIKXA0APjfWhsT4EQDkFL6fg5QRAY31orA+NBUCN9aGxPjQGQLZt27Zt2wZA4OUUvJyCB0AKXk7ByykIQDTWh8b60AhAXU7Byyl4CUCHxvrQWB8KQLE+NNaHxgpA27Zt27ZtC0AFL6fg5RQMQC6n4OUUvAxAWB8a60NjDUCCl1PwcgoOQKwPjfWhsQ5A1ofG+tBYD0AAAAAAAAAQQAAAAAAAAAAAOQUvp+DltD85BS+n4OXEP9aHxvrQWM8/OQUvp+Dl1D+HxvrQWB/aP9aHxvrQWN8/kiRJkiRJ4j85BS+n4OXkP+DlFLycguc/h8b60Fgf6j8up+DlFLzsP9aHxvrQWO8/PjTWh8b68D+SJEmSJEnyP+UUvJyCl/M/OQUvp+Dl9D+N9aGxPjT2P+DlFLycgvc/NNaHxvrQ+D+HxvrQWB/6P9u2bdu2bfs/Lqfg5RS8/D+Cl1Pwcgr+P9aHxvrQWP8/FbycgpdTAEA+NNaHxvoAQGisD431oQFAkiRJkiRJAkC8nIKXU/ACQOUUvJyClwNAD431obE+BEA5BS+n4OUEQGN9aKwPjQVAjfWhsT40BkC2bdu2bdsGQODlFLycggdACl5OwcspCEA01ofG+tAIQF1OwcspeAlAh8b60FgfCkCxPjTWh8YKQNu2bdu2bQtABS+n4OUUDEAup+DlFLwMQFgfGutDYw1AgpdT8HIKDkCsD431obEOQNaHxvrQWA9AAAAAAAAAEEAAAAAAAAAAADkFL6fg5bQ/OQUvp+DlxD/Wh8b60FjPPzkFL6fg5dQ/h8b60Fgf2j/Wh8b60FjfP5IkSZIkSeI/OQUvp+Dl5D/g5RS8nILnP4fG+tBYH+o/Lqfg5RS87D/Wh8b60FjvPz401ofG+vA/kiRJkiRJ8j/lFLycgpfzPzkFL6fg5fQ/jfWhsT409j/g5RS8nIL3PzTWh8b60Pg/h8b60Fgf+j/btm3btm37Py6n4OUUvPw/gpdT8HIK/j/Wh8b60Fj/PxW8nIKXUwBAPjTWh8b6AEBorA+N9aEBQJIkSZIkSQJAvJyCl1PwAkDlFLycgpcDQA+N9aGxPgRAOQUvp+DlBEBjfWisD40FQI31obE+NAZAtm3btm3bBkDg5RS8nIIHQApeTsHLKQhANNaHxvrQCEBdTsHLKXgJQIfG+tBYHwpAsT401ofGCkDbtm3btm0LQAUvp+DlFAxALqfg5RS8DEBYHxrrQ2MNQIKXU/ByCg5ArA+N9aGxDkDWh8b60FgPQAAAAAAAABBAAAAAAAAAAAA5BS+n4OW0PzkFL6fg5cQ/1ofG+tBYzz85BS+n4OXUP4fG+tBYH9o/1ofG+tBY3z+SJEmSJEniPzkFL6fg5eQ/4OUUvJyC5z+HxvrQWB/qPy6n4OUUvOw/1ofG+tBY7z8+NNaHxvrwP5IkSZIkSfI/5RS8nIKX8z85BS+n4OX0P431obE+NPY/4OUUvJyC9z801ofG+tD4P4fG+tBYH/o/27Zt27Zt+z8up+DlFLz8P4KXU/ByCv4/1ofG+tBY/z8VvJyCl1MAQD401ofG+gBAaKwPjfWhAUCSJEmSJEkCQLycgpdT8AJA5RS8nIKXA0APjfWhsT4EQDkFL6fg5QRAY31orA+NBUCN9aGxPjQGQLZt27Zt2wZA4OUUvJyCB0AKXk7ByykIQDTWh8b60AhAXU7Byyl4CUCHxvrQWB8KQLE+NNaHxgpA27Zt27ZtC0AFL6fg5RQMQC6n4OUUvAxAWB8a60NjDUCCl1PwcgoOQKwPjfWhsQ5A1ofG+tBYD0AAAAAAAAAQQAAAAAAAAAAAOQUvp+DltD85BS+n4OXEP9aHxvrQWM8/OQUvp+Dl1D+HxvrQWB/aP9aHxvrQWN8/kiRJkiRJ4j85BS+n4OXkP+DlFLycguc/h8b60Fgf6j8up+DlFLzsP9aHxvrQWO8/PjTWh8b68D+SJEmSJEnyP+UUvJyCl/M/OQUvp+Dl9D+N9aGxPjT2P+DlFLycgvc/NNaHxvrQ+D+HxvrQWB/6P9u2bdu2bfs/Lqfg5RS8/D+Cl1Pwcgr+P9aHxvrQWP8/FbycgpdTAEA+NNaHxvoAQGisD431oQFAkiRJkiRJAkC8nIKXU/ACQOUUvJyClwNAD431obE+BEA5BS+n4OUEQGN9aKwPjQVAjfWhsT40BkC2bdu2bdsGQODlFLycggdACl5OwcspCEA01ofG+tAIQF1OwcspeAlAh8b60FgfCkCxPjTWh8YKQNu2bdu2bQtABS+n4OUUDEAup+DlFLwMQFgfGutDYw1AgpdT8HIKDkCsD431obEOQNaHxvrQWA9AAAAAAAAAEEAAAAAAAAAAADkFL6fg5bQ/OQUvp+DlxD/Wh8b60FjPPzkFL6fg5dQ/h8b60Fgf2j/Wh8b60FjfP5IkSZIkSeI/OQUvp+Dl5D/g5RS8nILnP4fG+tBYH+o/Lqfg5RS87D/Wh8b60FjvPz401ofG+vA/kiRJkiRJ8j/lFLycgpfzPzkFL6fg5fQ/jfWhsT409j/g5RS8nIL3PzTWh8b60Pg/h8b60Fgf+j/btm3btm37Py6n4OUUvPw/gpdT8HIK/j/Wh8b60Fj/PxW8nIKXUwBAPjTWh8b6AEBorA+N9aEBQJIkSZIkSQJAvJyCl1PwAkDlFLycgpcDQA+N9aGxPgRAOQUvp+DlBEBjfWisD40FQI31obE+NAZAtm3btm3bBkDg5RS8nIIHQApeTsHLKQhANNaHxvrQCEBdTsHLKXgJQIfG+tBYHwpAsT401ofGCkDbtm3btm0LQAUvp+DlFAxALqfg5RS8DEBYHxrrQ2MNQIKXU/ByCg5ArA+N9aGxDkDWh8b60FgPQAAAAAAAABBAAAAAAAAAAAA5BS+n4OW0PzkFL6fg5cQ/1ofG+tBYzz85BS+n4OXUP4fG+tBYH9o/1ofG+tBY3z+SJEmSJEniPzkFL6fg5eQ/4OUUvJyC5z+HxvrQWB/qPy6n4OUUvOw/1ofG+tBY7z8+NNaHxvrwP5IkSZIkSfI/5RS8nIKX8z85BS+n4OX0P431obE+NPY/4OUUvJyC9z801ofG+tD4P4fG+tBYH/o/27Zt27Zt+z8up+DlFLz8P4KXU/ByCv4/1ofG+tBY/z8VvJyCl1MAQD401ofG+gBAaKwPjfWhAUCSJEmSJEkCQLycgpdT8AJA5RS8nIKXA0APjfWhsT4EQDkFL6fg5QRAY31orA+NBUCN9aGxPjQGQLZt27Zt2wZA4OUUvJyCB0AKXk7ByykIQDTWh8b60AhAXU7Byyl4CUCHxvrQWB8KQLE+NNaHxgpA27Zt27ZtC0AFL6fg5RQMQC6n4OUUvAxAWB8a60NjDUCCl1PwcgoOQKwPjfWhsQ5A1ofG+tBYD0AAAAAAAAAQQAAAAAAAAAAAOQUvp+DltD85BS+n4OXEP9aHxvrQWM8/OQUvp+Dl1D+HxvrQWB/aP9aHxvrQWN8/kiRJkiRJ4j85BS+n4OXkP+DlFLycguc/h8b60Fgf6j8up+DlFLzsP9aHxvrQWO8/PjTWh8b68D+SJEmSJEnyP+UUvJyCl/M/OQUvp+Dl9D+N9aGxPjT2P+DlFLycgvc/NNaHxvrQ+D+HxvrQWB/6P9u2bdu2bfs/Lqfg5RS8/D+Cl1Pwcgr+P9aHxvrQWP8/FbycgpdTAEA+NNaHxvoAQGisD431oQFAkiRJkiRJAkC8nIKXU/ACQOUUvJyClwNAD431obE+BEA5BS+n4OUEQGN9aKwPjQVAjfWhsT40BkC2bdu2bdsGQODlFLycggdACl5OwcspCEA01ofG+tAIQF1OwcspeAlAh8b60FgfCkCxPjTWh8YKQNu2bdu2bQtABS+n4OUUDEAup+DlFLwMQFgfGutDYw1AgpdT8HIKDkCsD431obEOQNaHxvrQWA9AAAAAAAAAEEAAAAAAAAAAADkFL6fg5bQ/OQUvp+DlxD/Wh8b60FjPPzkFL6fg5dQ/h8b60Fgf2j/Wh8b60FjfP5IkSZIkSeI/OQUvp+Dl5D/g5RS8nILnP4fG+tBYH+o/Lqfg5RS87D/Wh8b60FjvPz401ofG+vA/kiRJkiRJ8j/lFLycgpfzPzkFL6fg5fQ/jfWhsT409j/g5RS8nIL3PzTWh8b60Pg/h8b60Fgf+j/btm3btm37Py6n4OUUvPw/gpdT8HIK/j/Wh8b60Fj/PxW8nIKXUwBAPjTWh8b6AEBorA+N9aEBQJIkSZIkSQJAvJyCl1PwAkDlFLycgpcDQA+N9aGxPgRAOQUvp+DlBEBjfWisD40FQI31obE+NAZAtm3btm3bBkDg5RS8nIIHQApeTsHLKQhANNaHxvrQCEBdTsHLKXgJQIfG+tBYHwpAsT401ofGCkDbtm3btm0LQAUvp+DlFAxALqfg5RS8DEBYHxrrQ2MNQIKXU/ByCg5ArA+N9aGxDkDWh8b60FgPQAAAAAAAABBAAAAAAAAAAAA5BS+n4OW0PzkFL6fg5cQ/1ofG+tBYzz85BS+n4OXUP4fG+tBYH9o/1ofG+tBY3z+SJEmSJEniPzkFL6fg5eQ/4OUUvJyC5z+HxvrQWB/qPy6n4OUUvOw/1ofG+tBY7z8+NNaHxvrwP5IkSZIkSfI/5RS8nIKX8z85BS+n4OX0P431obE+NPY/4OUUvJyC9z801ofG+tD4P4fG+tBYH/o/27Zt27Zt+z8up+DlFLz8P4KXU/ByCv4/1ofG+tBY/z8VvJyCl1MAQD401ofG+gBAaKwPjfWhAUCSJEmSJEkCQLycgpdT8AJA5RS8nIKXA0APjfWhsT4EQDkFL6fg5QRAY31orA+NBUCN9aGxPjQGQLZt27Zt2wZA4OUUvJyCB0AKXk7ByykIQDTWh8b60AhAXU7Byyl4CUCHxvrQWB8KQLE+NNaHxgpA27Zt27ZtC0AFL6fg5RQMQC6n4OUUvAxAWB8a60NjDUCCl1PwcgoOQKwPjfWhsQ5A1ofG+tBYD0AAAAAAAAAQQAAAAAAAAAAAOQUvp+DltD85BS+n4OXEP9aHxvrQWM8/OQUvp+Dl1D+HxvrQWB/aP9aHxvrQWN8/kiRJkiRJ4j85BS+n4OXkP+DlFLycguc/h8b60Fgf6j8up+DlFLzsP9aHxvrQWO8/PjTWh8b68D+SJEmSJEnyP+UUvJyCl/M/OQUvp+Dl9D+N9aGxPjT2P+DlFLycgvc/NNaHxvrQ+D+HxvrQWB/6P9u2bdu2bfs/Lqfg5RS8/D+Cl1Pwcgr+P9aHxvrQWP8/FbycgpdTAEA+NNaHxvoAQGisD431oQFAkiRJkiRJAkC8nIKXU/ACQOUUvJyClwNAD431obE+BEA5BS+n4OUEQGN9aKwPjQVAjfWhsT40BkC2bdu2bdsGQODlFLycggdACl5OwcspCEA01ofG+tAIQF1OwcspeAlAh8b60FgfCkCxPjTWh8YKQNu2bdu2bQtABS+n4OUUDEAup+DlFLwMQFgfGutDYw1AgpdT8HIKDkCsD431obEOQNaHxvrQWA9AAAAAAAAAEEAAAAAAAAAAADkFL6fg5bQ/OQUvp+DlxD/Wh8b60FjPPzkFL6fg5dQ/h8b60Fgf2j/Wh8b60FjfP5IkSZIkSeI/OQUvp+Dl5D/g5RS8nILnP4fG+tBYH+o/Lqfg5RS87D/Wh8b60FjvPz401ofG+vA/kiRJkiRJ8j/lFLycgpfzPzkFL6fg5fQ/jfWhsT409j/g5RS8nIL3PzTWh8b60Pg/h8b60Fgf+j/btm3btm37Py6n4OUUvPw/gpdT8HIK/j/Wh8b60Fj/PxW8nIKXUwBAPjTWh8b6AEBorA+N9aEBQJIkSZIkSQJAvJyCl1PwAkDlFLycgpcDQA+N9aGxPgRAOQUvp+DlBEBjfWisD40FQI31obE+NAZAtm3btm3bBkDg5RS8nIIHQApeTsHLKQhANNaHxvrQCEBdTsHLKXgJQIfG+tBYHwpAsT401ofGCkDbtm3btm0LQAUvp+DlFAxALqfg5RS8DEBYHxrrQ2MNQIKXU/ByCg5ArA+N9aGxDkDWh8b60FgPQAAAAAAAABBAAAAAAAAAAAA5BS+n4OW0PzkFL6fg5cQ/1ofG+tBYzz85BS+n4OXUP4fG+tBYH9o/1ofG+tBY3z+SJEmSJEniPzkFL6fg5eQ/4OUUvJyC5z+HxvrQWB/qPy6n4OUUvOw/1ofG+tBY7z8+NNaHxvrwP5IkSZIkSfI/5RS8nIKX8z85BS+n4OX0P431obE+NPY/4OUUvJyC9z801ofG+tD4P4fG+tBYH/o/27Zt27Zt+z8up+DlFLz8P4KXU/ByCv4/1ofG+tBY/z8VvJyCl1MAQD401ofG+gBAaKwPjfWhAUCSJEmSJEkCQLycgpdT8AJA5RS8nIKXA0APjfWhsT4EQDkFL6fg5QRAY31orA+NBUCN9aGxPjQGQLZt27Zt2wZA4OUUvJyCB0AKXk7ByykIQDTWh8b60AhAXU7Byyl4CUCHxvrQWB8KQLE+NNaHxgpA27Zt27ZtC0AFL6fg5RQMQC6n4OUUvAxAWB8a60NjDUCCl1PwcgoOQKwPjfWhsQ5A1ofG+tBYD0AAAAAAAAAQQAAAAAAAAAAAOQUvp+DltD85BS+n4OXEP9aHxvrQWM8/OQUvp+Dl1D+HxvrQWB/aP9aHxvrQWN8/kiRJkiRJ4j85BS+n4OXkP+DlFLycguc/h8b60Fgf6j8up+DlFLzsP9aHxvrQWO8/PjTWh8b68D+SJEmSJEnyP+UUvJyCl/M/OQUvp+Dl9D+N9aGxPjT2P+DlFLycgvc/NNaHxvrQ+D+HxvrQWB/6P9u2bdu2bfs/Lqfg5RS8/D+Cl1Pwcgr+P9aHxvrQWP8/FbycgpdTAEA+NNaHxvoAQGisD431oQFAkiRJkiRJAkC8nIKXU/ACQOUUvJyClwNAD431obE+BEA5BS+n4OUEQGN9aKwPjQVAjfWhsT40BkC2bdu2bdsGQODlFLycggdACl5OwcspCEA01ofG+tAIQF1OwcspeAlAh8b60FgfCkCxPjTWh8YKQNu2bdu2bQtABS+n4OUUDEAup+DlFLwMQFgfGutDYw1AgpdT8HIKDkCsD431obEOQNaHxvrQWA9AAAAAAAAAEEAAAAAAAAAAADkFL6fg5bQ/OQUvp+DlxD/Wh8b60FjPPzkFL6fg5dQ/h8b60Fgf2j/Wh8b60FjfP5IkSZIkSeI/OQUvp+Dl5D/g5RS8nILnP4fG+tBYH+o/Lqfg5RS87D/Wh8b60FjvPz401ofG+vA/kiRJkiRJ8j/lFLycgpfzPzkFL6fg5fQ/jfWhsT409j/g5RS8nIL3PzTWh8b60Pg/h8b60Fgf+j/btm3btm37Py6n4OUUvPw/gpdT8HIK/j/Wh8b60Fj/PxW8nIKXUwBAPjTWh8b6AEBorA+N9aEBQJIkSZIkSQJAvJyCl1PwAkDlFLycgpcDQA+N9aGxPgRAOQUvp+DlBEBjfWisD40FQI31obE+NAZAtm3btm3bBkDg5RS8nIIHQApeTsHLKQhANNaHxvrQCEBdTsHLKXgJQIfG+tBYHwpAsT401ofGCkDbtm3btm0LQAUvp+DlFAxALqfg5RS8DEBYHxrrQ2MNQIKXU/ByCg5ArA+N9aGxDkDWh8b60FgPQAAAAAAAABBAAAAAAAAAAAA5BS+n4OW0PzkFL6fg5cQ/1ofG+tBYzz85BS+n4OXUP4fG+tBYH9o/1ofG+tBY3z+SJEmSJEniPzkFL6fg5eQ/4OUUvJyC5z+HxvrQWB/qPy6n4OUUvOw/1ofG+tBY7z8+NNaHxvrwP5IkSZIkSfI/5RS8nIKX8z85BS+n4OX0P431obE+NPY/4OUUvJyC9z801ofG+tD4P4fG+tBYH/o/27Zt27Zt+z8up+DlFLz8P4KXU/ByCv4/1ofG+tBY/z8VvJyCl1MAQD401ofG+gBAaKwPjfWhAUCSJEmSJEkCQLycgpdT8AJA5RS8nIKXA0APjfWhsT4EQDkFL6fg5QRAY31orA+NBUCN9aGxPjQGQLZt27Zt2wZA4OUUvJyCB0AKXk7ByykIQDTWh8b60AhAXU7Byyl4CUCHxvrQWB8KQLE+NNaHxgpA27Zt27ZtC0AFL6fg5RQMQC6n4OUUvAxAWB8a60NjDUCCl1PwcgoOQKwPjfWhsQ5A1ofG+tBYD0AAAAAAAAAQQAAAAAAAAAAAOQUvp+DltD85BS+n4OXEP9aHxvrQWM8/OQUvp+Dl1D+HxvrQWB/aP9aHxvrQWN8/kiRJkiRJ4j85BS+n4OXkP+DlFLycguc/h8b60Fgf6j8up+DlFLzsP9aHxvrQWO8/PjTWh8b68D+SJEmSJEnyP+UUvJyCl/M/OQUvp+Dl9D+N9aGxPjT2P+DlFLycgvc/NNaHxvrQ+D+HxvrQWB/6P9u2bdu2bfs/Lqfg5RS8/D+Cl1Pwcgr+P9aHxvrQWP8/FbycgpdTAEA+NNaHxvoAQGisD431oQFAkiRJkiRJAkC8nIKXU/ACQOUUvJyClwNAD431obE+BEA5BS+n4OUEQGN9aKwPjQVAjfWhsT40BkC2bdu2bdsGQODlFLycggdACl5OwcspCEA01ofG+tAIQF1OwcspeAlAh8b60FgfCkCxPjTWh8YKQNu2bdu2bQtABS+n4OUUDEAup+DlFLwMQFgfGutDYw1AgpdT8HIKDkCsD431obEOQNaHxvrQWA9AAAAAAAAAEEAAAAAAAAAAADkFL6fg5bQ/OQUvp+DlxD/Wh8b60FjPPzkFL6fg5dQ/h8b60Fgf2j/Wh8b60FjfP5IkSZIkSeI/OQUvp+Dl5D/g5RS8nILnP4fG+tBYH+o/Lqfg5RS87D/Wh8b60FjvPz401ofG+vA/kiRJkiRJ8j/lFLycgpfzPzkFL6fg5fQ/jfWhsT409j/g5RS8nIL3PzTWh8b60Pg/h8b60Fgf+j/btm3btm37Py6n4OUUvPw/gpdT8HIK/j/Wh8b60Fj/PxW8nIKXUwBAPjTWh8b6AEBorA+N9aEBQJIkSZIkSQJAvJyCl1PwAkDlFLycgpcDQA+N9aGxPgRAOQUvp+DlBEBjfWisD40FQI31obE+NAZAtm3btm3bBkDg5RS8nIIHQApeTsHLKQhANNaHxvrQCEBdTsHLKXgJQIfG+tBYHwpAsT401ofGCkDbtm3btm0LQAUvp+DlFAxALqfg5RS8DEBYHxrrQ2MNQIKXU/ByCg5ArA+N9aGxDkDWh8b60FgPQAAAAAAAABBAAAAAAAAAAAA5BS+n4OW0PzkFL6fg5cQ/1ofG+tBYzz85BS+n4OXUP4fG+tBYH9o/1ofG+tBY3z+SJEmSJEniPzkFL6fg5eQ/4OUUvJyC5z+HxvrQWB/qPy6n4OUUvOw/1ofG+tBY7z8+NNaHxvrwP5IkSZIkSfI/5RS8nIKX8z85BS+n4OX0P431obE+NPY/4OUUvJyC9z801ofG+tD4P4fG+tBYH/o/27Zt27Zt+z8up+DlFLz8P4KXU/ByCv4/1ofG+tBY/z8VvJyCl1MAQD401ofG+gBAaKwPjfWhAUCSJEmSJEkCQLycgpdT8AJA5RS8nIKXA0APjfWhsT4EQDkFL6fg5QRAY31orA+NBUCN9aGxPjQGQLZt27Zt2wZA4OUUvJyCB0AKXk7ByykIQDTWh8b60AhAXU7Byyl4CUCHxvrQWB8KQLE+NNaHxgpA27Zt27ZtC0AFL6fg5RQMQC6n4OUUvAxAWB8a60NjDUCCl1PwcgoOQKwPjfWhsQ5A1ofG+tBYD0AAAAAAAAAQQAAAAAAAAAAAOQUvp+DltD85BS+n4OXEP9aHxvrQWM8/OQUvp+Dl1D+HxvrQWB/aP9aHxvrQWN8/kiRJkiRJ4j85BS+n4OXkP+DlFLycguc/h8b60Fgf6j8up+DlFLzsP9aHxvrQWO8/PjTWh8b68D+SJEmSJEnyP+UUvJyCl/M/OQUvp+Dl9D+N9aGxPjT2P+DlFLycgvc/NNaHxvrQ+D+HxvrQWB/6P9u2bdu2bfs/Lqfg5RS8/D+Cl1Pwcgr+P9aHxvrQWP8/FbycgpdTAEA+NNaHxvoAQGisD431oQFAkiRJkiRJAkC8nIKXU/ACQOUUvJyClwNAD431obE+BEA5BS+n4OUEQGN9aKwPjQVAjfWhsT40BkC2bdu2bdsGQODlFLycggdACl5OwcspCEA01ofG+tAIQF1OwcspeAlAh8b60FgfCkCxPjTWh8YKQNu2bdu2bQtABS+n4OUUDEAup+DlFLwMQFgfGutDYw1AgpdT8HIKDkCsD431obEOQNaHxvrQWA9AAAAAAAAAEEAAAAAAAAAAADkFL6fg5bQ/OQUvp+DlxD/Wh8b60FjPPzkFL6fg5dQ/h8b60Fgf2j/Wh8b60FjfP5IkSZIkSeI/OQUvp+Dl5D/g5RS8nILnP4fG+tBYH+o/Lqfg5RS87D/Wh8b60FjvPz401ofG+vA/kiRJkiRJ8j/lFLycgpfzPzkFL6fg5fQ/jfWhsT409j/g5RS8nIL3PzTWh8b60Pg/h8b60Fgf+j/btm3btm37Py6n4OUUvPw/gpdT8HIK/j/Wh8b60Fj/PxW8nIKXUwBAPjTWh8b6AEBorA+N9aEBQJIkSZIkSQJAvJyCl1PwAkDlFLycgpcDQA+N9aGxPgRAOQUvp+DlBEBjfWisD40FQI31obE+NAZAtm3btm3bBkDg5RS8nIIHQApeTsHLKQhANNaHxvrQCEBdTsHLKXgJQIfG+tBYHwpAsT401ofGCkDbtm3btm0LQAUvp+DlFAxALqfg5RS8DEBYHxrrQ2MNQIKXU/ByCg5ArA+N9aGxDkDWh8b60FgPQAAAAAAAABBAAAAAAAAAAAA5BS+n4OW0PzkFL6fg5cQ/1ofG+tBYzz85BS+n4OXUP4fG+tBYH9o/1ofG+tBY3z+SJEmSJEniPzkFL6fg5eQ/4OUUvJyC5z+HxvrQWB/qPy6n4OUUvOw/1ofG+tBY7z8+NNaHxvrwP5IkSZIkSfI/5RS8nIKX8z85BS+n4OX0P431obE+NPY/4OUUvJyC9z801ofG+tD4P4fG+tBYH/o/27Zt27Zt+z8up+DlFLz8P4KXU/ByCv4/1ofG+tBY/z8VvJyCl1MAQD401ofG+gBAaKwPjfWhAUCSJEmSJEkCQLycgpdT8AJA5RS8nIKXA0APjfWhsT4EQDkFL6fg5QRAY31orA+NBUCN9aGxPjQGQLZt27Zt2wZA4OUUvJyCB0AKXk7ByykIQDTWh8b60AhAXU7Byyl4CUCHxvrQWB8KQLE+NNaHxgpA27Zt27ZtC0AFL6fg5RQMQC6n4OUUvAxAWB8a60NjDUCCl1PwcgoOQKwPjfWhsQ5A1ofG+tBYD0AAAAAAAAAQQAAAAAAAAAAAOQUvp+DltD85BS+n4OXEP9aHxvrQWM8/OQUvp+Dl1D+HxvrQWB/aP9aHxvrQWN8/kiRJkiRJ4j85BS+n4OXkP+DlFLycguc/h8b60Fgf6j8up+DlFLzsP9aHxvrQWO8/PjTWh8b68D+SJEmSJEnyP+UUvJyCl/M/OQUvp+Dl9D+N9aGxPjT2P+DlFLycgvc/NNaHxvrQ+D+HxvrQWB/6P9u2bdu2bfs/Lqfg5RS8/D+Cl1Pwcgr+P9aHxvrQWP8/FbycgpdTAEA+NNaHxvoAQGisD431oQFAkiRJkiRJAkC8nIKXU/ACQOUUvJyClwNAD431obE+BEA5BS+n4OUEQGN9aKwPjQVAjfWhsT40BkC2bdu2bdsGQODlFLycggdACl5OwcspCEA01ofG+tAIQF1OwcspeAlAh8b60FgfCkCxPjTWh8YKQNu2bdu2bQtABS+n4OUUDEAup+DlFLwMQFgfGutDYw1AgpdT8HIKDkCsD431obEOQNaHxvrQWA9AAAAAAAAAEEAAAAAAAAAAADkFL6fg5bQ/OQUvp+DlxD/Wh8b60FjPPzkFL6fg5dQ/h8b60Fgf2j/Wh8b60FjfP5IkSZIkSeI/OQUvp+Dl5D/g5RS8nILnP4fG+tBYH+o/Lqfg5RS87D/Wh8b60FjvPz401ofG+vA/kiRJkiRJ8j/lFLycgpfzPzkFL6fg5fQ/jfWhsT409j/g5RS8nIL3PzTWh8b60Pg/h8b60Fgf+j/btm3btm37Py6n4OUUvPw/gpdT8HIK/j/Wh8b60Fj/PxW8nIKXUwBAPjTWh8b6AEBorA+N9aEBQJIkSZIkSQJAvJyCl1PwAkDlFLycgpcDQA+N9aGxPgRAOQUvp+DlBEBjfWisD40FQI31obE+NAZAtm3btm3bBkDg5RS8nIIHQApeTsHLKQhANNaHxvrQCEBdTsHLKXgJQIfG+tBYHwpAsT401ofGCkDbtm3btm0LQAUvp+DlFAxALqfg5RS8DEBYHxrrQ2MNQIKXU/ByCg5ArA+N9aGxDkDWh8b60FgPQAAAAAAAABBAAAAAAAAAAAA5BS+n4OW0PzkFL6fg5cQ/1ofG+tBYzz85BS+n4OXUP4fG+tBYH9o/1ofG+tBY3z+SJEmSJEniPzkFL6fg5eQ/4OUUvJyC5z+HxvrQWB/qPy6n4OUUvOw/1ofG+tBY7z8+NNaHxvrwP5IkSZIkSfI/5RS8nIKX8z85BS+n4OX0P431obE+NPY/4OUUvJyC9z801ofG+tD4P4fG+tBYH/o/27Zt27Zt+z8up+DlFLz8P4KXU/ByCv4/1ofG+tBY/z8VvJyCl1MAQD401ofG+gBAaKwPjfWhAUCSJEmSJEkCQLycgpdT8AJA5RS8nIKXA0APjfWhsT4EQDkFL6fg5QRAY31orA+NBUCN9aGxPjQGQLZt27Zt2wZA4OUUvJyCB0AKXk7ByykIQDTWh8b60AhAXU7Byyl4CUCHxvrQWB8KQLE+NNaHxgpA27Zt27ZtC0AFL6fg5RQMQC6n4OUUvAxAWB8a60NjDUCCl1PwcgoOQKwPjfWhsQ5A1ofG+tBYD0AAAAAAAAAQQAAAAAAAAAAAOQUvp+DltD85BS+n4OXEP9aHxvrQWM8/OQUvp+Dl1D+HxvrQWB/aP9aHxvrQWN8/kiRJkiRJ4j85BS+n4OXkP+DlFLycguc/h8b60Fgf6j8up+DlFLzsP9aHxvrQWO8/PjTWh8b68D+SJEmSJEnyP+UUvJyCl/M/OQUvp+Dl9D+N9aGxPjT2P+DlFLycgvc/NNaHxvrQ+D+HxvrQWB/6P9u2bdu2bfs/Lqfg5RS8/D+Cl1Pwcgr+P9aHxvrQWP8/FbycgpdTAEA+NNaHxvoAQGisD431oQFAkiRJkiRJAkC8nIKXU/ACQOUUvJyClwNAD431obE+BEA5BS+n4OUEQGN9aKwPjQVAjfWhsT40BkC2bdu2bdsGQODlFLycggdACl5OwcspCEA01ofG+tAIQF1OwcspeAlAh8b60FgfCkCxPjTWh8YKQNu2bdu2bQtABS+n4OUUDEAup+DlFLwMQFgfGutDYw1AgpdT8HIKDkCsD431obEOQNaHxvrQWA9AAAAAAAAAEEAAAAAAAAAAADkFL6fg5bQ/OQUvp+DlxD/Wh8b60FjPPzkFL6fg5dQ/h8b60Fgf2j/Wh8b60FjfP5IkSZIkSeI/OQUvp+Dl5D/g5RS8nILnP4fG+tBYH+o/Lqfg5RS87D/Wh8b60FjvPz401ofG+vA/kiRJkiRJ8j/lFLycgpfzPzkFL6fg5fQ/jfWhsT409j/g5RS8nIL3PzTWh8b60Pg/h8b60Fgf+j/btm3btm37Py6n4OUUvPw/gpdT8HIK/j/Wh8b60Fj/PxW8nIKXUwBAPjTWh8b6AEBorA+N9aEBQJIkSZIkSQJAvJyCl1PwAkDlFLycgpcDQA+N9aGxPgRAOQUvp+DlBEBjfWisD40FQI31obE+NAZAtm3btm3bBkDg5RS8nIIHQApeTsHLKQhANNaHxvrQCEBdTsHLKXgJQIfG+tBYHwpAsT401ofGCkDbtm3btm0LQAUvp+DlFAxALqfg5RS8DEBYHxrrQ2MNQIKXU/ByCg5ArA+N9aGxDkDWh8b60FgPQAAAAAAAABBAAAAAAAAAAAA5BS+n4OW0PzkFL6fg5cQ/1ofG+tBYzz85BS+n4OXUP4fG+tBYH9o/1ofG+tBY3z+SJEmSJEniPzkFL6fg5eQ/4OUUvJyC5z+HxvrQWB/qPy6n4OUUvOw/1ofG+tBY7z8+NNaHxvrwP5IkSZIkSfI/5RS8nIKX8z85BS+n4OX0P431obE+NPY/4OUUvJyC9z801ofG+tD4P4fG+tBYH/o/27Zt27Zt+z8up+DlFLz8P4KXU/ByCv4/1ofG+tBY/z8VvJyCl1MAQD401ofG+gBAaKwPjfWhAUCSJEmSJEkCQLycgpdT8AJA5RS8nIKXA0APjfWhsT4EQDkFL6fg5QRAY31orA+NBUCN9aGxPjQGQLZt27Zt2wZA4OUUvJyCB0AKXk7ByykIQDTWh8b60AhAXU7Byyl4CUCHxvrQWB8KQLE+NNaHxgpA27Zt27ZtC0AFL6fg5RQMQC6n4OUUvAxAWB8a60NjDUCCl1PwcgoOQKwPjfWhsQ5A1ofG+tBYD0AAAAAAAAAQQAAAAAAAAAAAOQUvp+DltD85BS+n4OXEP9aHxvrQWM8/OQUvp+Dl1D+HxvrQWB/aP9aHxvrQWN8/kiRJkiRJ4j85BS+n4OXkP+DlFLycguc/h8b60Fgf6j8up+DlFLzsP9aHxvrQWO8/PjTWh8b68D+SJEmSJEnyP+UUvJyCl/M/OQUvp+Dl9D+N9aGxPjT2P+DlFLycgvc/NNaHxvrQ+D+HxvrQWB/6P9u2bdu2bfs/Lqfg5RS8/D+Cl1Pwcgr+P9aHxvrQWP8/FbycgpdTAEA+NNaHxvoAQGisD431oQFAkiRJkiRJAkC8nIKXU/ACQOUUvJyClwNAD431obE+BEA5BS+n4OUEQGN9aKwPjQVAjfWhsT40BkC2bdu2bdsGQODlFLycggdACl5OwcspCEA01ofG+tAIQF1OwcspeAlAh8b60FgfCkCxPjTWh8YKQNu2bdu2bQtABS+n4OUUDEAup+DlFLwMQFgfGutDYw1AgpdT8HIKDkCsD431obEOQNaHxvrQWA9AAAAAAAAAEEAAAAAAAAAAADkFL6fg5bQ/OQUvp+DlxD/Wh8b60FjPPzkFL6fg5dQ/h8b60Fgf2j/Wh8b60FjfP5IkSZIkSeI/OQUvp+Dl5D/g5RS8nILnP4fG+tBYH+o/Lqfg5RS87D/Wh8b60FjvPz401ofG+vA/kiRJkiRJ8j/lFLycgpfzPzkFL6fg5fQ/jfWhsT409j/g5RS8nIL3PzTWh8b60Pg/h8b60Fgf+j/btm3btm37Py6n4OUUvPw/gpdT8HIK/j/Wh8b60Fj/PxW8nIKXUwBAPjTWh8b6AEBorA+N9aEBQJIkSZIkSQJAvJyCl1PwAkDlFLycgpcDQA+N9aGxPgRAOQUvp+DlBEBjfWisD40FQI31obE+NAZAtm3btm3bBkDg5RS8nIIHQApeTsHLKQhANNaHxvrQCEBdTsHLKXgJQIfG+tBYHwpAsT401ofGCkDbtm3btm0LQAUvp+DlFAxALqfg5RS8DEBYHxrrQ2MNQIKXU/ByCg5ArA+N9aGxDkDWh8b60FgPQAAAAAAAABBAAAAAAAAAAAA5BS+n4OW0PzkFL6fg5cQ/1ofG+tBYzz85BS+n4OXUP4fG+tBYH9o/1ofG+tBY3z+SJEmSJEniPzkFL6fg5eQ/4OUUvJyC5z+HxvrQWB/qPy6n4OUUvOw/1ofG+tBY7z8+NNaHxvrwP5IkSZIkSfI/5RS8nIKX8z85BS+n4OX0P431obE+NPY/4OUUvJyC9z801ofG+tD4P4fG+tBYH/o/27Zt27Zt+z8up+DlFLz8P4KXU/ByCv4/1ofG+tBY/z8VvJyCl1MAQD401ofG+gBAaKwPjfWhAUCSJEmSJEkCQLycgpdT8AJA5RS8nIKXA0APjfWhsT4EQDkFL6fg5QRAY31orA+NBUCN9aGxPjQGQLZt27Zt2wZA4OUUvJyCB0AKXk7ByykIQDTWh8b60AhAXU7Byyl4CUCHxvrQWB8KQLE+NNaHxgpA27Zt27ZtC0AFL6fg5RQMQC6n4OUUvAxAWB8a60NjDUCCl1PwcgoOQKwPjfWhsQ5A1ofG+tBYD0AAAAAAAAAQQAAAAAAAAAAAOQUvp+DltD85BS+n4OXEP9aHxvrQWM8/OQUvp+Dl1D+HxvrQWB/aP9aHxvrQWN8/kiRJkiRJ4j85BS+n4OXkP+DlFLycguc/h8b60Fgf6j8up+DlFLzsP9aHxvrQWO8/PjTWh8b68D+SJEmSJEnyP+UUvJyCl/M/OQUvp+Dl9D+N9aGxPjT2P+DlFLycgvc/NNaHxvrQ+D+HxvrQWB/6P9u2bdu2bfs/Lqfg5RS8/D+Cl1Pwcgr+P9aHxvrQWP8/FbycgpdTAEA+NNaHxvoAQGisD431oQFAkiRJkiRJAkC8nIKXU/ACQOUUvJyClwNAD431obE+BEA5BS+n4OUEQGN9aKwPjQVAjfWhsT40BkC2bdu2bdsGQODlFLycggdACl5OwcspCEA01ofG+tAIQF1OwcspeAlAh8b60FgfCkCxPjTWh8YKQNu2bdu2bQtABS+n4OUUDEAup+DlFLwMQFgfGutDYw1AgpdT8HIKDkCsD431obEOQNaHxvrQWA9AAAAAAAAAEEAAAAAAAAAAADkFL6fg5bQ/OQUvp+DlxD/Wh8b60FjPPzkFL6fg5dQ/h8b60Fgf2j/Wh8b60FjfP5IkSZIkSeI/OQUvp+Dl5D/g5RS8nILnP4fG+tBYH+o/Lqfg5RS87D/Wh8b60FjvPz401ofG+vA/kiRJkiRJ8j/lFLycgpfzPzkFL6fg5fQ/jfWhsT409j/g5RS8nIL3PzTWh8b60Pg/h8b60Fgf+j/btm3btm37Py6n4OUUvPw/gpdT8HIK/j/Wh8b60Fj/PxW8nIKXUwBAPjTWh8b6AEBorA+N9aEBQJIkSZIkSQJAvJyCl1PwAkDlFLycgpcDQA+N9aGxPgRAOQUvp+DlBEBjfWisD40FQI31obE+NAZAtm3btm3bBkDg5RS8nIIHQApeTsHLKQhANNaHxvrQCEBdTsHLKXgJQIfG+tBYHwpAsT401ofGCkDbtm3btm0LQAUvp+DlFAxALqfg5RS8DEBYHxrrQ2MNQIKXU/ByCg5ArA+N9aGxDkDWh8b60FgPQAAAAAAAABBAAAAAAAAAAAA5BS+n4OW0PzkFL6fg5cQ/1ofG+tBYzz85BS+n4OXUP4fG+tBYH9o/1ofG+tBY3z+SJEmSJEniPzkFL6fg5eQ/4OUUvJyC5z+HxvrQWB/qPy6n4OUUvOw/1ofG+tBY7z8+NNaHxvrwP5IkSZIkSfI/5RS8nIKX8z85BS+n4OX0P431obE+NPY/4OUUvJyC9z801ofG+tD4P4fG+tBYH/o/27Zt27Zt+z8up+DlFLz8P4KXU/ByCv4/1ofG+tBY/z8VvJyCl1MAQD401ofG+gBAaKwPjfWhAUCSJEmSJEkCQLycgpdT8AJA5RS8nIKXA0APjfWhsT4EQDkFL6fg5QRAY31orA+NBUCN9aGxPjQGQLZt27Zt2wZA4OUUvJyCB0AKXk7ByykIQDTWh8b60AhAXU7Byyl4CUCHxvrQWB8KQLE+NNaHxgpA27Zt27ZtC0AFL6fg5RQMQC6n4OUUvAxAWB8a60NjDUCCl1PwcgoOQKwPjfWhsQ5A1ofG+tBYD0AAAAAAAAAQQAAAAAAAAAAAOQUvp+DltD85BS+n4OXEP9aHxvrQWM8/OQUvp+Dl1D+HxvrQWB/aP9aHxvrQWN8/kiRJkiRJ4j85BS+n4OXkP+DlFLycguc/h8b60Fgf6j8up+DlFLzsP9aHxvrQWO8/PjTWh8b68D+SJEmSJEnyP+UUvJyCl/M/OQUvp+Dl9D+N9aGxPjT2P+DlFLycgvc/NNaHxvrQ+D+HxvrQWB/6P9u2bdu2bfs/Lqfg5RS8/D+Cl1Pwcgr+P9aHxvrQWP8/FbycgpdTAEA+NNaHxvoAQGisD431oQFAkiRJkiRJAkC8nIKXU/ACQOUUvJyClwNAD431obE+BEA5BS+n4OUEQGN9aKwPjQVAjfWhsT40BkC2bdu2bdsGQODlFLycggdACl5OwcspCEA01ofG+tAIQF1OwcspeAlAh8b60FgfCkCxPjTWh8YKQNu2bdu2bQtABS+n4OUUDEAup+DlFLwMQFgfGutDYw1AgpdT8HIKDkCsD431obEOQNaHxvrQWA9AAAAAAAAAEEAAAAAAAAAAADkFL6fg5bQ/OQUvp+DlxD/Wh8b60FjPPzkFL6fg5dQ/h8b60Fgf2j/Wh8b60FjfP5IkSZIkSeI/OQUvp+Dl5D/g5RS8nILnP4fG+tBYH+o/Lqfg5RS87D/Wh8b60FjvPz401ofG+vA/kiRJkiRJ8j/lFLycgpfzPzkFL6fg5fQ/jfWhsT409j/g5RS8nIL3PzTWh8b60Pg/h8b60Fgf+j/btm3btm37Py6n4OUUvPw/gpdT8HIK/j/Wh8b60Fj/PxW8nIKXUwBAPjTWh8b6AEBorA+N9aEBQJIkSZIkSQJAvJyCl1PwAkDlFLycgpcDQA+N9aGxPgRAOQUvp+DlBEBjfWisD40FQI31obE+NAZAtm3btm3bBkDg5RS8nIIHQApeTsHLKQhANNaHxvrQCEBdTsHLKXgJQIfG+tBYHwpAsT401ofGCkDbtm3btm0LQAUvp+DlFAxALqfg5RS8DEBYHxrrQ2MNQIKXU/ByCg5ArA+N9aGxDkDWh8b60FgPQAAAAAAAABBAAAAAAAAAAAA5BS+n4OW0PzkFL6fg5cQ/1ofG+tBYzz85BS+n4OXUP4fG+tBYH9o/1ofG+tBY3z+SJEmSJEniPzkFL6fg5eQ/4OUUvJyC5z+HxvrQWB/qPy6n4OUUvOw/1ofG+tBY7z8+NNaHxvrwP5IkSZIkSfI/5RS8nIKX8z85BS+n4OX0P431obE+NPY/4OUUvJyC9z801ofG+tD4P4fG+tBYH/o/27Zt27Zt+z8up+DlFLz8P4KXU/ByCv4/1ofG+tBY/z8VvJyCl1MAQD401ofG+gBAaKwPjfWhAUCSJEmSJEkCQLycgpdT8AJA5RS8nIKXA0APjfWhsT4EQDkFL6fg5QRAY31orA+NBUCN9aGxPjQGQLZt27Zt2wZA4OUUvJyCB0AKXk7ByykIQDTWh8b60AhAXU7Byyl4CUCHxvrQWB8KQLE+NNaHxgpA27Zt27ZtC0AFL6fg5RQMQC6n4OUUvAxAWB8a60NjDUCCl1PwcgoOQKwPjfWhsQ5A1ofG+tBYD0AAAAAAAAAQQAAAAAAAAAAAOQUvp+DltD85BS+n4OXEP9aHxvrQWM8/OQUvp+Dl1D+HxvrQWB/aP9aHxvrQWN8/kiRJkiRJ4j85BS+n4OXkP+DlFLycguc/h8b60Fgf6j8up+DlFLzsP9aHxvrQWO8/PjTWh8b68D+SJEmSJEnyP+UUvJyCl/M/OQUvp+Dl9D+N9aGxPjT2P+DlFLycgvc/NNaHxvrQ+D+HxvrQWB/6P9u2bdu2bfs/Lqfg5RS8/D+Cl1Pwcgr+P9aHxvrQWP8/FbycgpdTAEA+NNaHxvoAQGisD431oQFAkiRJkiRJAkC8nIKXU/ACQOUUvJyClwNAD431obE+BEA5BS+n4OUEQGN9aKwPjQVAjfWhsT40BkC2bdu2bdsGQODlFLycggdACl5OwcspCEA01ofG+tAIQF1OwcspeAlAh8b60FgfCkCxPjTWh8YKQNu2bdu2bQtABS+n4OUUDEAup+DlFLwMQFgfGutDYw1AgpdT8HIKDkCsD431obEOQNaHxvrQWA9AAAAAAAAAEEA=",
          "shape": "50, 50"
         },
         "y": {
          "dtype": "f8",
          "bdata": "AAAAAAAAAAAPq3cDN/nNP1huSGvb1dw/nLe3YqPK5D+TwiXtMqLqP5Su+3lg9u8/EGkjF/hl8j/bQYoX05P0P+wMuVAjh/Y/gnU21UpC+D/fJom3q8f5P0PMNwqoGfs/8BDJ36E6/D8loMNK+yz9PyElrl0W8/0/JUsPK1WP/j90vW3FGQT/P0onUD/GU/8/7DM9q7yA/z+ZjrsbX43/P43iUaMPfP8/ENuGVDBP/z9aI+FBIwn/P7Vm531KrP4/V1AgGwg7/j+LixIsvrf9P43DRMPOJP0/l6M985uE/D/x1oPOh9n7P9cInmf0Jfs/kOQS0UNs+j9VFWkd2K75P3BGJ18T8Pg/EyPUqFcy+D+FVvYMB3j3PwqMFJ6Dw/Y/5m61bi8X9j9Uql+RbHX1P43pmRid4PQ/39fqFiNb9D9+INmeYOfzP7Ru68K3h/M/vG2olYo+8z/WyJYpOw7zP0ErPZEr+fI/TUAi370B8z8ns8wlVCrzPxMvw3dQdfM/W1+M5xTl8z85766HA3z0Py3vF+xFcrw/jtkSPi4Z1j8vuc8TN/nhP58548DsWOg/lkRRS3ww7j9MmBPsVMLxPxIqOcYcLfQ/3QKgxvda9j/uzc7/R074P4Q2TIRvCfo/4eeeZtCO+z9FjU25zOD8P/LR3o7GAf4/J2HZ+R/0/j8j5sMMO7r/PxSGEu08KwBAO79BOp9lAEAm9DJ3dY0AQHd6Ka3wowBAzqdo5UGqAEDI0TMpmqEAQAlOzoEqiwBALnJ7+CNoAEDck36WtzkAQK0IG2UWAQBAjUwo2+J+/z+PhFpy8+v+P5lkU6LAS/4/85eZfayg/T/ZybMWGe38P5KlKIBoM/w/V9Z+zPx1+z9yBz0OOLf6PxXk6Vd8+fk/hxcMvCs/+T8MTSpNqIr4P+gvyx1U3vc/Vmt1QJE89z+Pqq/Hwaf2P+GYAMZHIvY/gOHuTYWu9T+2LwFy3E71P74uvkSvBfU/2Ims2F/V9D9D7FJAUMD0P08BOI7iyPQ/KXTi1Hjx9D8V8NgmdTz1P10gopY5rPU/O7DENihD9j9geHNN5I/LP/OZxumOxNw/YpmpaedO5T/SGb0Wna7rP2WSlVAWw/A/ZYgAFy1t8z8rGibx9Nf1P/byjPHPBfg/B767KiD5+T+dJjmvR7T7P/rXi5GoOf0/Xn065KSL/j8Lwsu5nqz/P6AoYxJ8TwBAHmvYm4myAEAg/ogCqQABQEg3uE8LOwFAM2ypjOFiAUCE8p/CXHkBQNof3/qtfwFA1EmqPgZ3AUAWxkSXlmABQDvq8Q2QPQFA6Av1qyMPAUC5gJF6gtYAQFOeCoPdlABAVLqjzmVLAECyVEDNmPb/PwyIhqiES/8/8rmgQfGX/j+rlRWrQN79P3DGa/fUIP0/i/cpORBi/D8u1NaCVKT7P6AH+eYD6vo/JT0XeIA1+j8BILhILIn5P29bYmtp5/g/qJqc8plS+D/6iO3wH833P5nR23hdWfc/zx/unLT59j/XHqtvh7D2P/F5mQM4gPY/XNw/ayhr9j9o8SS5unP2P0Jkz/9QnPY/LuDFUU3n9j92EI/BEVf3P1SgsWEA7vc/6GHaa1gF1D/Wn3OX+oDhPz7sOYyabeg/rmxNOVDN7j/Tu93hb1LyP9OxSKiG/PQ/mUNugk5n9z9kHNWCKZX5P3XnA7x5iPs/C1CBQKFD/T9oAdQiAsn+P2ZTwTp/DQBAvPWJJfydAEBXPQfbKBcBQNV/fGQ2egFA1xIty1XIAUD+S1wYuAICQOmATVWOKgJAOgdEiwlBAkCRNIPDWkcCQIteTgezPgJAzNroX0MoAkDx/pXWPAUCQJ8gmXTQ1gFAcJU1Qy+eAUAKs65LilwBQAvPR5cSEwFAED9EL/nCAEC9WOccb20AQLBxdGmlEwBAGb9dPJpt/z/e77OILrD+P/kgcspp8f0/nP0eFK4z/T8OMUF4XXn8P5NmXwnaxPs/b0kA2oUY+z/dhKr8wnb6PxbE5IPz4fk/aLI1gnlc+T8H+yMKt+j4Pz1JNi4Oifg/RUjzAOE/+D9fo+GUkQ/4P8oFiPyB+vc/1hptShQD+D+wjReRqiv4P5wJDuOmdvg/5DnXUmvm+D/CyfnyWX35P+wVePT719k/13nCW0xq5D9AxohQ7FbrP1gjzv5Q2/A/0ygFxBjH8z/UHnCKL3H2P5qwlWT32/g/ZYn8ZNIJ+z92VCueIv38Pwy9qCJKuP4/Nbd9gtUeAEDnCdWr08cAQD2snZZQWAFA2PMaTH3RAUBWNpDVijQCQFjJQDyqggJAfwJwiQy9AkBqN2HG4uQCQLu9V/xd+wJAEuuWNK8BA0AMFWJ4B/kCQE2R/NCX4gJAcrWpR5G/AkAg16zlJJECQPFLSbSDWAJAi2nCvN4WAkCMhVsIZ80BQJH1V6BNfQFAPg/7jcMnAUAxKIja+c0AQA2WQo8hcQBAcK5ttWsSAED6jZmsEmb/P51qRvZWqP4/D55oWgbu/T+U04brgjn9P3C2J7wujfw/3vHR3mvr+z8XMQxmnFb7P2kfXWQi0fo/CGhL7F9d+j8+tl0Qt/35P0a1GuOJtPk/YBAJdzqE+T/Lcq/eKm/5P9eHlCy9d/k/sfo+c1Og+T+ddjXFT+v5P+Wm/jQUW/o/wzYh1QLy+j8xAaNqFEPfP3rv15bYH+c/4juei3gM7j8p3lgcFzbyP6Xjj+HeIfU/pdn6p/XL9z9rayCCvTb6PzZEh4KYZPw/Rw+2u+hX/j/uuxkgiAkAQJ0UQ5E4zABAT2eaujZ1AUClCWOlswUCQEBR4FrgfgJAvpNV5O3hAkDAJgZLDTADQOdfNZhvagNA0pQm1UWSA0AjGx0LwagDQHpIXEMSrwNAdHInh2qmA0C17sHf+o8DQNoSb1b0bANAiDRy9Ic+A0BZqQ7D5gUDQPPGh8tBxAJA9OIgF8p6AkD5Uh2vsCoCQKZswJwm1QFAmYVN6Vx7AUB18weehB4BQNgLM8TOvwBAZSQSZWxgAEC3kuiJjgEAQOBY83fMSP8/ZY4RCUmU/j9BcbLZ9Of9P6+sXPwxRv0/6OuWg2Kx/D862ueB6Cv8P9ki1gkmuPs/D3HoLX1Y+z8XcKUAUA/7PzHLk5QA3/o/nC06/PDJ+j+oQh9Kg9L6P4K1yZAZ+/o/bjHA4hVG+z+2YYlS2rX7P5Txq/LITPw/VaY1vOwk4j82FbwdO6PpP88wQYntR/A/CPHKX8h38z+D9gElkGP2P4PsbOumDfk/SX6SxW54+z8UV/nFSab9PyUiKP+Zmf8/XsXSwWCqAEAMHvwyEW0BQL5wU1wPFgJAFBMcR4ymAkCvWpn8uB8DQC2dDobGggNALzC/7OXQA0BWae45SAsEQEKe33YeMwRAkiTWrJlJBEDpURXl6k8EQON74ChDRwRAJPh6gdMwBEBKHCj4zA0EQPc9K5Zg3wNAyLLHZL+mA0Bi0EBtGmUDQGPs2biiGwNAaFzWUInLAkAVdnk+/3UCQAiPBos1HAJA5PzAP12/AUBHFexlp2ABQNQtywZFAQFAJpyhK2eiAEDftbLdPkUAQEOhg0z61f8/H4QkHaYp/z+Nv84/44f+P8b+CMcT8/0/GO1ZxZlt/T+3NUhN1/n8P+2DWnEumvw/9YIXRAFR/D8P3gXYsSD8P3pArD+iC/w/hlWRjTQU/D9gyDvUyjz8P0xEMibHh/w/lHT7lYv3/D9yBB42eo79P6uQ8GPBd+Q/jP92xQ/26z/6pR7dV3HxPzJmqLMyofQ/rmvfePqM9z+uYUo/ETf6P3TzbxnZofw/QMzWGbTP/j+oy4IpgmEAQPN/wesVPwFAotjqXMYBAkBUK0KGxKoCQKrNCnFBOwNARRWIJm60A0DDV/2vexcEQMXqrRabZQRA7CPdY/2fBEDXWM6g08cEQCjfxNZO3gRAfwwED6DkBEB5Ns9S+NsEQLqyaauIxQRA39YWIoKiBECN+BnAFXQEQF5tto50OwRA+Iovl8/5A0D5psjiV7ADQP4WxXo+YANAqzBoaLQKA0CeSfW06rACQHq3r2kSVAJA3c/aj1z1AUBq6Lkw+pUBQLxWkFUcNwFAdXChB/TZAEA3izBQsn8AQKX8gDiIKQBAuDSsk02x/z/yc+Yafhz/P0RiNxkEl/4/4qoloUEj/j8Y+TfFmMP9PyD49Jdrev0/OlPjKxxK/T+mtYmTDDX9P7LKbuGePf0/jD0ZKDVm/T94uQ96MbH9P8Dp2On1IP4/nnn7ieS3/j8SVIoBpJvmP/TCEGPyGe4/rofrK0mD8j/mR3UCJLP1P2JNrMfrnvg/YkMXjgJJ+z8o1TxoyrP9P/Oto2il4f8/gjzp0HrqAEDN8CeTDsgBQHxJUQS/igJALpyoLb0zA0CEPnEYOsQDQB6G7s1mPQRAnMhjV3SgBECeWxS+k+4EQMaUQwv2KAVAsck0SMxQBUACUCt+R2cFQFh9araYbQVAUqc1+vBkBUCUI9BSgU4FQLlHfcl6KwVAZmmAZw79BEA43hw2bcQEQNL7lT7IggRA0hcvilA5BEDYhysiN+kDQIShzg+tkwNAeLpbXOM5A0BUKBYRC90CQLZAQTdVfgJARFkg2PIeAkCWx/b8FMABQE7hB6/sYgFAEfyW96oIAUB/beffgLIAQDaLPHGfYQBA0qrZtDcXAED3QwRo9aj/P5aM8u8yNf8/zNoEFIrV/j/U2cHmXIz+P+40sHoNXP4/WZdW4v1G/j9lrDswkE/+Pz8f5nYmeP4/K5vcyCLD/j9zy6U45zL/P1FbyNjVyf8/BwULajCS6D/0uchlPwjwPyjgK2CPfvM/YKC1Nmqu9j/cpez7MZr5P9ybV8JIRPw/oi19nBCv/j83A3LOdW4AQL9oCesdaAFACh1IrbFFAkC5dXEeYggDQGvIyEdgsQNAwWqRMt1BBEBcsg7oCbsEQNr0g3EXHgVA3Ic02DZsBUADwWMlmaYFQO71VGJvzgVAP3xLmOrkBUCWqYrQO+sFQJDTVRSU4gVA0U/wbCTMBUD2c53jHakFQKSVoIGxegVAdQo9UBBCBUAPKLZYawAFQBBET6TztgRAFbRLPNpmBEDCze4pUBEEQLXme3aGtwNAkVQ2K65aA0D0bGFR+PsCQIGFQPKVnAJA0/MWF7g9AkCMDSjJj+ABQE4otxFOhgFAvJkH+iMwAUBzt1yLQt8AQBDX+c7alABAOU4izh1SAECIchmSPBgAQEYzRUjQ0P8/TjICG6OH/z9ojfCuU1f/P9TvlhZEQv8/4AR8ZNZK/z+6dyarbHP/P6bzHP1ovv8/9xFzthYXAEDmWYQGjmIAQAS4enICXeo/c5MAaqjt8D+nuWNk+GP0P9957TrTk/c/Wn8kAJt/+j9cdY/GsSn9PyIHtaB5lP8/9u+NUCrhAEB/VSVt0toBQMoJZC9muAJAeGKNoBZ7A0AqteTJFCQEQIFXrbSRtARAG58qar4tBUCZ4Z/zy5AFQJt0UFrr3gVAw61/p00ZBkCu4nDkI0EGQP5oZxqfVwZAVZamUvBdBkBPwHGWSFUGQJE8DO/YPgZAtmC5ZdIbBkBjgrwDZu0FQDT3WNLEtAVAzhTS2h9zBUDPMGsmqCkFQNSgZ76O2QRAgboKrASEBEB005f4OioEQFFBUq1izQNAs1l906xuA0BBclx0Sg8DQJLgMplssAJAS/pDS0RTAkAOFdOTAvkBQHyGI3zYogFAM6R4DfdRAUDPwxVRjwcBQPg6PlDSxABASF81FPGKAEBjhj6mHFsAQOcFnQ+GNgBAdDOUWV4eAECpZGeN1hMAQC/vWbQfGABAnCiv12osAECSZqoA6VEAQLb+jjjLiQBApUagiELVAECFgeHvtf3rPzP4sygCvvE/aB4XI1I09T+g3qD5LGT4Pxvk1770T/s/G9pChQv6/T/wNbSvaTIAQFai5y9XSQFA3gd/TP9CAkAqvL0OkyADQNgU539D4wNAimc+qUGMBEDgCQeUvhwFQHtRhEnrlQVA+ZP50vj4BUD7Jqo5GEcGQCJg2YZ6gQZADpXKw1CpBkBfG8H5y78GQLVIADIdxgZAr3LLdXW9BkDx7mXOBacGQBYTE0X/gwZAwzQW45JVBkCUqbKx8RwGQC7HK7pM2wVAL+PEBdWRBUA0U8Gdu0EFQOFsZIsx7ARA1IXx12eSBECw86uMjzUEQBMM17LZ1gNAoCS2U3d3A0Dykox4mRgDQKusnSpxuwJAbscscy9hAkDcOH1bBQsCQJJW0uwjugFAL3ZvMLxvAUBY7Zcv/ywBQKgRj/Md8wBAwjiYhUnDAEBGuPbusp4AQNTl7TiLhgBACRfBbAN8AECPobOTTIAAQPzaCLeXlABA8hgE4BW6AEAWsegX+PEAQAX5+WdvPQFABnZHt+Z17T908maMGnryP6gYyoZq8PU/4NhTXUUg+T9c3ooiDQz8P1zU9egjtv4/EbON4XWQAEB2H8FhY6cBQP+EWH4LoQJASjmXQJ9+A0D4kcCxT0EEQKrkF9tN6gRAAYfgxcp6BUCczl179/MFQBoR0wQFVwZAHKSDaySlBkBD3bK4ht8GQC4SpPVcBwdAf5iaK9gdB0DVxdljKSQHQM/vpKeBGwdAEWw/ABIFB0A2kOx2C+IGQOSx7xSfswZAtCaM4/16BkBORAXsWDkGQFBgnjfh7wVAVNCaz8efBUAC6j29PUoFQPQCywl08ARA0XCFvpuTBEA0ibDk5TQEQMGhj4WD1QNAEhBmqqV2A0DMKXdcfRkDQI5EBqU7vwJA/LVWjRFpAkCz06seMBgCQFDzSGLIzQFAeGpxYQuLAUDIjmglKlEBQOO1cbdVIQFAZzXQIL/8AED0Ysdql+QAQCqUmp4P2gBAsB6NxVjeAEAcWOLoo/IAQBKW3REiGAFANi7CSQRQAUAmdtOZe5sBQAKqtJ0wx+4/coydf78i8z+msgB6D5n2P95yilDqyPk/WnjBFbK0/D9abizcyF7/PxAAKVvI5ABAdmxc27X7AUD+0fP3XfUCQEmGMrrx0gNA+N5bK6KVBECqMbNUoD4FQADUez8dzwVAmhv59ElIBkAYXm5+V6sGQBrxHuV2+QZAQipOMtkzB0AtXz9vr1sHQH7lNaUqcgdA1RJ13Xt4B0DPPEAh1G8HQBC52nlkWQdANd2H8F02B0Di/oqO8QcHQLRzJ11QzwZATpGgZauNBkBOrTmxM0QGQFQdNkka9AVAADfZNpCeBUD0T2aDxkQFQNC9IDju5wRAMtZLXjiJBEDA7ir/1SkEQBJdAST4ygNAynYS1s9tA0CNkaEejhMDQPsC8gZkvQJAsiBHmIJsAkBOQOTbGiICQHi3DNtd3wFAx9sDn3ylAUDiAg0xqHUBQGaCa5oRUQFA869i5Ok4AUAo4TUYYi4BQK5rKD+rMgFAHKV9YvZGAUAS43iLdGwBQDZ7XcNWpAFAJMNuE87vAUDyMTF4L/PvP2rQ2+y+uPM/nvY+5w4v9z/Wtsi96V76P1K8/4KxSv0/UrJqScj0/z8MIsgRyC8BQHKO+5G1RgJA+vOSrl1AA0BFqNFw8R0EQPQA++Gh4ARAplNSC6CJBUD89Rr2HBoGQJY9mKtJkwZAFIANNVf2BkAWE76bdkQHQD5M7ejYfgdAKoHeJa+mB0B6B9VbKr0HQNA0FJR7wwdAyl7f19O6B0AM23kwZKQHQDL/JqddgQdA3iAqRfFSB0CwlcYTUBoHQEqzPxyr2AZASs/YZzOPBkBQP9X/GT8GQPxYeO2P6QVA8HEFOsaPBUDM37/u7TIFQC746hQ41ARAvBDKtdV0BEAOf6Da9xUEQMaYsYzPuANAibNA1Y1eA0D3JJG9YwgDQK5C5k6CtwJASmKDkhptAkB02auRXSoCQMP9olV88AFA3iSs56fAAUBipApREZwBQO/RAZvpgwFAJAPVzmF5AUCqjcf1qn0BQBjHHBn2kQFADgUYQnS3AUAynfx5Vu8BQCDlDcrNOgJAK5Hijb998D+cyKW+5jz0P9DuCLk2s/c/CK+SjxHj+j+DtMlU2c79P0JVmg14PABAJR6t+ttxAUCKiuB6yYgCQBPwd5dxggNAXqS2WQVgBEAM/d/KtSIFQL5PN/SzywVAFfL/3jBcBkCvOX2UXdUGQC188h1rOAdALw+jhIqGB0BXSNLR7MAHQEJ9ww7D6AdAkwO6RD7/B0DpMPl8jwUIQONaxMDn/AdAJddeGXjmB0BK+wuQccMHQPccDy4FlQdAyJGr/GNcB0BiryQFvxoHQGPLvVBH0QZAaDu66C2BBkAVVV3WoysGQAhu6iLa0QVA5duk1wF1BUBH9M/9SxYFQNUMr57ptgRAJnuFwwtYBEDflJZ14/oDQKKvJb6hoANAECF2pndKA0DHPss3lvkCQGNeaHsurwJAjNWQenFsAkDc+Yc+kDICQPcgkdC7AgJAe6DvOSXeAUAIzuaD/cUBQD3/ubd1uwFAw4ms3r6/AUAwwwECCtQBQCYB/SqI+QFASpnhYmoxAkA54fKy4XwCQNJHvK7d8PA/Qn9/3wSw9D92peLZVCb4P65lbLAvVvs/KmujdfdB/j+VMAceB3YAQHj5GQtrqwFA3mVNi1jCAkBmy+SnALwDQLF/I2qUmQRAYNhM20RcBUASK6QEQwUGQGjNbO+/lQZAAxXqpOwOB0CBV18u+nEHQIPqD5UZwAdAqyM/4nv6B0CWWDAfUiIIQOfeJlXNOAhAPQxmjR4/CEA3NjHRdjYIQHmyyykHIAhAntZ4oAD9B0BL+Hs+lM4HQBxtGA3zlQdAtoqRFU5UB0C3piph1goHQLwWJ/m8ugZAaTDK5jJlBkBcSVczaQsGQDi3EeiQrgVAm888DttPBUAo6BuvePAEQHpW8tOakQRAM3ADhnI0BED1ipLOMNoDQGP84rYGhANAGho4SCUzA0C3OdWLvegCQOCw/YoApgJAL9X0Th9sAkBK/P3gSjwCQM57XEq0FwJAW6lTlIz/AUCR2ibIBPUBQBdlGe9N+QFAhJ5uEpkNAkB63Gk7FzMCQJ50TnP5agJAjbxfw3C2AkAsxykJwFPxP53+7DnnEvU/0SRQNDeJ+D8J5dkKErn7P4TqENDZpP4/Q/A9S3inAEAmuVA43NwBQIslhLjJ8wJAFIsb1XHtA0BfP1qXBcsEQA2Ygwi2jQVAv+raMbQ2BkAWjaMcMccGQLDUINJdQAdALheWW2ujB0AwqkbCivEHQFjjdQ/tKwhAQxhnTMNTCECUnl2CPmoIQOrLnLqPcAhA5PVn/udnCEAmcgJXeFEIQEuWr81xLghA+LeyawUACEDJLE86ZMcHQGNKyEK/hQdAZGZhjkc8B0Bp1l0mLuwGQBbwABSklgZACQmOYNo8BkDmdkgVAuAFQEiPcztMgQVA1qdS3OkhBUAnFikBDMMEQOAvOrPjZQRAo0rJ+6ELBEARvBnkd7UDQMjZbnWWZANAZPkLuS4aA0CNcDS4cdcCQN2UK3yQnQJA+Ls0DrxtAkB8O5N3JUkCQAlpisH9MAJAPppd9XUmAkDEJFAcvyoCQDFepT8KPwJAJ5ygaIhkAkBLNIWgapwCQDp8lvDh5wJAeBmvhzSn8T/pUHK4W2b1Px531bKr3Pg/VjdfiYYM/D/QPJZOTvj+P2mZgIoy0QBATGKTd5YGAkCxzsb3gx0DQDo0XhQsFwRAheic1r/0BEAzQcZHcLcFQOWTHXFuYAZAPDbmW+vwBkDWfWMRGGoHQFTA2JolzQdAVlOJAUUbCEB+jLhOp1UIQGjBqYt9fQhAukegwfiTCEAQdd/5SZoIQAqfqj2ikQhATBtFljJ7CEBwP/IMLFgIQB5h9aq/KQhA79WReR7xB0CJ8wqCea8HQIoPpM0BZgdAj3+gZegVB0A8mUNTXsAGQC+y0J+UZgZADCCLVLwJBkBuOLZ6BqsFQPxQlRukSwVATb9rQMbsBEAG2XzynY8EQMnzCztcNQRAN2VcIzLfA0DugrG0UI4DQIqiTvjoQwNAsxl39ysBA0ADPm67SscCQB5ld012lwJAouTVtt9yAkAvEs0AuFoCQGRDoDQwUAJA6s2SW3lUAkBXB+h+xGgCQE1F46dCjgJAcd3H3yTGAkBgJdkvnBEDQPRI0BQJ7PE/ZICTRTCr9T+YpvY/gCH5P9BmgBZbUfw/TGy32yI9/z8mMRHRnPMAQAn6I74AKQJAb2ZXPu4/A0D3y+5aljkEQEKALR0qFwVA8dhWjtrZBUCjK6632IIGQPnNdqJVEwdAkxX0V4KMB0ARWGnhj+8HQBPrGUivPQhAOyRJlRF4CEAmWTrS558IQHffMAhjtghAzQxwQLS8CEDHNjuEDLQIQAmz1dycnQhALteCU5Z6CEDb+IXxKUwIQK1tIsCIEwhAR4ubyOPRB0BHpzQUbIgHQE0XMaxSOAdA+jDUmcjiBkDtSWHm/ogGQMm3G5smLAZALNBGwXDNBUC56CViDm4FQAtX/IYwDwVAxHANOQiyBECGi5yBxlcEQPT87GmcAQRAqxpC+7qwA0BIOt8+U2YDQHGxBz6WIwNAwNX+AbXpAkDb/AeU4LkCQF98Zv1JlQJA7KldRyJ9AkAi2zB7mnICQKhlI6LjdgJAFZ94xS6LAkAL3XPurLACQC91WCaP6AJAHr1pdgY0A0DcXxGbCyPyP0yX1Msy4vU/gb03xoJY+T+5fcGcXYj8PzSD+GEldP8/mrwxFB4PAUB+hUQBgkQCQOPxd4FvWwNAbFcPnhdVBEC2C05gqzIFQGVkd9Fb9QVAF7fO+lmeBkBuWZfl1i4HQAihFJsDqAdAhuOJJBELCECIdjqLMFkIQLCvadiSkwhAmuRaFWm7CEDsalFL5NEIQEKYkIM12AhAPMJbx43PCEB+PvYfHrkIQKJio5YXlghAUISmNKtnCEAg+UIDCi8IQLoWvAtl7QdAvDJVV+2jB0DAolHv01MHQG689NxJ/gZAYdWBKYCkBkA+Qzzep0cGQKBbZwTy6AVALnRGpY+JBUB/4hzKsSoFQDj8LXyJzQRA+ha9xEdzBEBoiA2tHR0EQCCmYj48zANAvMX/gdSBA0DlPCiBFz8DQDRhH0U2BQNAUIgo12HVAkDUB4dAy7ACQGA1foqjmAJAlmZRvhuOAkAc8UPlZJICQIkqmQiwpgJAf2iUMS7MAkCjAHlpEAQDQJJIirmHTwNAbmj2BApN8j/en7k1MQz2PxPGHDCBgvk/S4amBlyy/D/Gi93LI57/P+RAJEkdJAFAxwk3NoFZAkAsdmq2bnADQLXbAdMWagRAAJBAlapHBUCu6GkGWwoGQGA7wS9ZswZAt92JGtZDB0BRJQfQAr0HQM9nfFkQIAhA0foswC9uCED5M1wNkqgIQORoTUpo0AhANe9DgOPmCECLHIO4NO0IQIVGTvyM5AhAx8LoVB3OCEDs5pXLFqsIQJkImWmqfAhAan01OAlECEAEm65AZAIIQAW3R4zsuAdACidEJNNoB0C3QOcRSRMHQKpZdF5/uQZAh8cuE6dcBkDp31k58f0FQHf4ONqOngVAyGYP/7A/BUCBgCCxiOIEQESbr/lGiARAsgwA4hwyBEBpKlVzO+EDQAVK8rbTlgNALsEathZUA0B+5RF6NRoDQJkMGwxh6gJAHYx5dcrFAkCquXC/oq0CQN/qQ/MaowJAZXU2GmSnAkDSros9r7sCQMjshmYt4QJA7IRrng8ZA0DbzHzuhmQDQOdsAz3SavI/WKTGbfkp9j+MyiloSaD5P8SKsz4k0Pw/QJDqA+y7/z8gwyplATMBQAOMPVJlaAJAaPhw0lJ/A0DxXQjv+ngEQDwSR7GOVgVA6mpwIj8ZBkCcvcdLPcIGQPNfkDa6UgdAjqcN7ObLB0AM6oJ19C4IQA59M9wTfQhANbZiKXa3CEAg61NmTN8IQHFxSpzH9QhAyJ6J1Bj8CEDCyFQYcfMIQANF73AB3QhAKGmc5/q5CEDWip+FjosIQKb/O1TtUghAQB21XEgRCEBCOU6o0McHQEapSkC3dwdA9MLtLS0iB0Dm23p6Y8gGQMNJNS+LawZAJmJgVdUMBkCzej/2cq0FQATpFRuVTgVAvgInzWzxBECAHbYVK5cEQO6OBv4AQQRApaxbjx/wA0BCzPjSt6UDQGpDIdL6YgNAumcYlhkpA0DVjiEoRfkCQFkOgJGu1AJA5jt324a8AkAcbUoP/7ECQKL3PDZItgJADjGSWZPKAkAEb42CEfACQCgHcrrzJwNAGE+DCmtzA0CHd7wtMn3yP/iuf15ZPPY/LNXiWKmy+T9klWwvhOL8P+Cao/RLzv8/cEiHXTE8AUBTEZpKlXECQLh9zcqCiANAQeNk5yqCBECMl6Opvl8FQDvwzBpvIgZA7UIkRG3LBkBD5ewu6lsHQN0sauQW1QdAW2/fbSQ4CEBdApDUQ4YIQIU7vyGmwAhAcHCwXnzoCEDB9qaU9/4IQBck5sxIBQlAEU6xEKH8CEBTyktpMeYIQHju+N8qwwhAJRD8fb6UCED3hJhMHVwIQJGiEVV4GghAkb6qoADRB0CXLqc454AHQENISiZdKwdAN2HXcpPRBkATz5Enu3QGQHXnvE0FFgZAAwCc7qK2BUBUbnITxVcFQA6Ig8Wc+gRA0KISDlugBEA+FGP2MEoEQPUxuIdP+QNAklFVy+euA0C6yH3KKmwDQArtdI5JMgNAJRR+IHUCA0Cpk9yJ3t0CQDbB09O2xQJAbPKmBy+7AkDyfJkueL8CQF627lHD0wJAVPTpekH5AkB4jM6yIzEDQGjU3wKbfANAipKlwfeE8j/6yWjyHkT2Py7wy+xuuvk/ZrBVw0nq/D/itYyIEdb/P/HVeycUQAFA1J6OFHh1AkA6C8KUZYwDQMJwWbENhgRADSWYc6FjBUC8fcHkUSYGQG7QGA5QzwZAxHLh+MxfB0Bful6u+dgHQN380zcHPAhA34+EniaKCEAGybPriMQIQPH9pChf7AhAQoSbXtoCCUCZsdqWKwkJQJPbpdqDAAlA1FdAMxTqCED5e+2pDccIQKed8EehmAhAeBKNFgBgCEASMAYfWx4IQBNMn2rj1AdAGLybAsqEB0DF1T7wPy8HQLjuyzx21QZAlFyG8Z14BkD3dLEX6BkGQISNkLiFugVA1vtm3adbBUCPFXiPf/4EQFEwB9g9pARAv6FXwBNOBEB2v6xRMv0DQBPfSZXKsgNAPFZylA1wA0CLemlYLDYDQKahcupXBgNAKiHRU8HhAkC3TsidmckCQO1/m9ERvwJAcwqO+FrDAkDgQ+MbptcCQNaB3kQk/QJA+hnDfAY1A0DpYdTMfYADQC7IQuPwgvI/nv8FFBhC9j/SJWkOaLj5Pwrm8uRC6Pw/huspqgrU/z/DcEq4ED8BQKY5XaV0dAJADKaQJWKLA0CUCyhCCoUEQOC/ZgSeYgVAjhiQdU4lBkBAa+eeTM4GQJYNsInJXgdAMVUtP/bXB0Cvl6LIAzsIQLEqUy8jiQhA2GOCfIXDCEDEmHO5W+sIQBQfau/WAQlAa0ypJygICUBldnRrgP8IQKbyDsQQ6QhAzBa8OgrGCEB5OL/YnZcIQEqtW6f8XghA5MrUr1cdCEDl5m3739MHQOpWapPGgwdAl3ANgTwuB0CKiZrNctQGQGb3VIKadwZAyQ+AqOQYBkBWKF9JgrkFQKiWNW6kWgVAYbBGIHz9BEAjy9VoOqMEQJE8JlEQTQRASFp74i78A0DleRgmx7EDQA7xQCUKbwNAXRU46Sg1A0B4PEF7VAUDQPy7n+S94AJAiemWLpbIAkC/GmpiDr4CQEWlXIlXwgJAst6xrKLWAkCoHK3VIPwCQMy0kQ0DNANAu/yiXXp/A0CtIhh963fyPx5a260SN/Y/UoA+qGKt+T+KQMh+Pd38PwZG/0MFyf8/Ax41BY45AUDm5kfy8W4CQExTe3LfhQNA1LgSj4d/BEAfbVFRG10FQM7FesLLHwZAgBjS68nIBkDWuprWRlkHQHACGIxz0gdA7kSNFYE1CEDw1z18oIMIQBgRbckCvghAA0ZeBtnlCEBUzFQ8VPwIQKr5k3SlAglApCNfuP35CEDmn/kQjuMIQAvEpoeHwAhAuOWpJRuSCECKWkb0eVkIQCR4v/zUFwhAJJRYSF3OB0AqBFXgQ34HQNYd+M25KAdAyjaFGvDOBkCmpD/PF3IGQAi9avVhEwZAltVJlv+zBUDoQyC7IVUFQKBdMW359wRAY3jAtbedBEDR6RCejUcEQIgHZi+s9gNAJCcDc0SsA0BOnityh2kDQJ3CIjamLwNAuOkryNH/AkA8aYoxO9sCQMmWgXsTwwJA/sdUr4u4AkCEUkfW1LwCQPKLnPkf0QJA6MmXIp72AkAMYnxagC4DQPqpjar3eQNASqypebVk8j+642yq3CP2P+4J0KQsmvk/JspZewfK/D+iz5BAz7X/P9HifQPzLwFAtKuQ8FZlAkAaGMRwRHwDQKJ9W43sdQRA7jGaT4BTBUCcisPAMBYGQE7dGuouvwZApH/j1KtPB0A/x2CK2MgHQL0J1hPmKwhAv5yGegV6CEDm1bXHZ7QIQNIKpwQ+3AhAIpGdOrnyCEB5vtxyCvkIQHPop7Zi8AhAtGRCD/PZCEDaiO+F7LYIQIeq8iOAiAhAWB+P8t5PCEDyPAj7OQ4IQPNYoUbCxAdA+Mid3qh0B0Cl4kDMHh8HQJj7zRhVxQZAdGmIzXxoBkDXgbPzxgkGQGSakpRkqgVAtghpuYZLBUBvInprXu4EQDI9CbQclARAoK5ZnPI9BEBWzK4tEe0DQPPrS3GpogNAHGN0cOxfA0Brh2s0CyYDQIaudMY29gJACi7TL6DRAkCXW8p5eLkCQM2Mna3wrgJAUxeQ1DmzAkDAUOX3hMcCQLaO4CAD7QJA2ibFWOUkA0DJbtaoXHADQEFve8McSvI/sqY+9EMJ9j/mzKHuk3/5Px6NK8Vur/w/mZJiijab/z9NxGaopiIBQDCNeZUKWAJAlvmsFfhuA0AeX0QyoGgEQGoTg/QzRgVAGGysZeQIBkDKvgOP4rEGQCBhzHlfQgdAuqhJL4y7B0A46764mR4IQDp+bx+5bAhAYreebBunCEBO7I+p8c4IQJ5yht9s5QhA9J/FF77rCEDuyZBbFuMIQDBGK7SmzAhAVmrYKqCpCEACjNvIM3sIQNQAeJeSQghAbh7xn+0ACEBuOorrdbcHQHSqhoNcZwdAIMQpcdIRB0AU3ba9CLgGQPBKcXIwWwZAUmOcmHr8BUDge3s5GJ0FQDLqUV46PgVA6gNjEBLhBECuHvJY0IYEQByQQkGmMARA0q2X0sTfA0BuzTQWXZUDQJhEXRWgUgNA52hU2b4YA0ACkF1r6ugCQIYPvNRTxAJAEz2zHiysAkBIboZSpKECQM74eHntpQJAPDLOnDi6AkAycMnFtt8CQFYIrv2YFwNARFC/TRBjA0DQdRFF7yjyP0Ct1HUW6PU/dNM3cGZe+T+sk8FGQY78PyiZ+AsJev8/lMcx6Q8SAUB3kETWc0cCQN38d1ZhXgNAZmIPcwlYBECwFk41nTUFQF9vd6ZN+AVAEcLOz0uhBkBoZJe6yDEHQAKsFHD1qgdAgO6J+QIOCECCgTpgIlwIQKq6aa2ElghAlO9a6lq+CEDmdVEg1tQIQDyjkFgn2whANs1bnH/SCEB4Sfb0D7wIQJxto2sJmQhASo+mCZ1qCEAbBEPY+zEIQLUhvOBW8AdAtj1VLN+mB0C7rVHExVYHQGjH9LE7AQdAW+CB/nGnBkA4TjyzmUoGQJpmZ9nj6wVAKH9GeoGMBUB57Ryfoy0FQDIHLlF70ARA9CG9mTl2BEBikw2CDyAEQBqxYhMuzwNAttD/VsaEA0DfRyhWCUIDQC5sHxooCANASpMorFPYAkDOEocVvbMCQFpAfl+VmwJAkHFRkw2RAkAW/EO6VpUCQIM1md2hqQJAeXOUBiDPAkCdC3k+AgcDQIxTio55UgNAMsrv6PoB8j+iAbMZIsH1P9YnFhRyN/k/Duif6kxn/D+K7davFFP/P8XxILuV/gBAqLozqPkzAkAOJ2co50oDQJaM/kSPRARA4UA9ByMiBUCQmWZ40+QFQELsvaHRjQZAmI6GjE4eB0Az1gNCe5cHQLEYecuI+gdAs6spMqhICEDa5Fh/CoMIQMUZSrzgqghAFqBA8lvBCEBtzX8qrccIQGf3Sm4FvwhAqHPlxpWoCEDNl5I9j4UIQHu5ldsiVwhATC4yqoEeCEDmS6uy3NwHQOdnRP5kkwdA7NdAlktDB0CZ8eODwe0GQIwKcdD3kwZAaHgrhR83BkDLkFaradgFQFipNUwHeQVAqhcMcSkaBUBjMR0jAb0EQCVMrGu/YgRAk738U5UMBEBK21Hls7sDQOf67ihMcQNAEHIXKI8uA0Bflg7srfQCQHq9F37ZxAJA/jx250KgAkCLam0xG4gCQMGbQGWTfQJARyYzjNyBAkC0X4ivJ5YCQKqdg9iluwJAzjVoEIjzAkC9fXlg/z4DQKl2mpkN1vE/Ga5dyjSV9T9O1MDEhAv5P4aUSptfO/w/AZqBYCcn/z8BSHYTn+gAQOQQiQADHgJASX28gPA0A0DS4lOdmC4EQB2Xkl8sDAVAy++70NzOBUB9QhP62ncGQNTk2+RXCAdAbixZmoSBB0Dsbs4jkuQHQO4Bf4qxMghAFjuu1xNtCEABcJ8U6pQIQFL2lUplqwhAqCPVgraxCECiTaDGDqkIQOTJOh+fkghACe7nlZhvCEC2D+szLEEIQIeEhwKLCAhAIaIAC+bGB0AivplWbn0HQCculu5ULQdA1Ec53MrXBkDHYMYoAX4GQKTOgN0oIQZABuerA3PCBUCU/4qkEGMFQOVtYckyBAVAnodyewqnBEBhogHEyEwEQM8TUqye9gNAhjGnPb2lA0AiUUSBVVsDQEvIbICYGANAm+xjRLfeAkC2E23W4q4CQDqTyz9MigJAx8DCiSRyAkD88ZW9nGcCQIJ8iOTlawJA77XdBzGAAkDl89gwr6UCQAmMvWiR3QJA+NPOuAgpA0BshZVB9aXxP968WHIcZfU/EuO7bGzb+D9Ko0VDRwv8P8SofAgP9/4/Y89z55LQAEBFmIbU9gUCQKsEulTkHANAM2pRcYwWBEB/HpAzIPQEQC13uaTQtgVA38kQzs5fBkA1bNm4S/AGQNCzVm54aQdATvbL94XMB0BQiXxepRoIQHfCq6sHVQhAY/ec6N18CECzfZMeWZMIQAqr0laqmQhABNWdmgKRCEBFUTjzknoIQGt15WmMVwhAGJfoByApCEDpC4XWfvAHQIMp/t7ZrgdAhEWXKmJlB0CJtZPCSBUHQDbPNrC+vwZAKejD/PRlBkAFVn6xHAkGQGhuqddmqgVA9YaIeARLBUBH9V6dJuwEQAAPcE/+jgRAwyn/l7w0BEAxm0+Akt4DQOe4pBGxjQNAhNhBVUlDA0CtT2pUjAADQP1zYRirxgJAF5tqqtaWAkCbGskTQHICQClIwF0YWgJAXnmTkZBPAkDkA4a42VMCQFE929skaAJAR3vWBKONAkBrE7s8hcUCQFpbzIz8EANAwABly39y8T8xOCj8pjH1P2Vei/b2p/g/nR4VzdHX+z8ZJEySmcP+Pw2NWyzYtgBA8FVuGTzsAUBWwqGZKQMDQN4nObbR/ANAKdx3eGXaBEDYNKHpFZ0FQIqH+BIURgZA4CnB/ZDWBkB6cT6zvU8HQPizszzLsgdA+kZko+oACEAigJPwTDsIQA21hC0jYwhAXjt7Y555CEC0aLqb738IQK6Shd9HdwhA8A4gONhgCEAVM82u0T0IQMJU0ExlDwhAlMlsG8TWB0Au5+UjH5UHQC4Df2+nSwdANHN7B477BkDgjB71A6YGQNSlq0E6TAZAsBNm9mHvBUASLJEcrJAFQKBEcL1JMQVA8rJG4mvSBECqzFeUQ3UEQG3n5twBGwRA21g3xdfEA0CSdoxW9nMDQC6WKZqOKQNAWA1SmdHmAkCnMUld8KwCQMJYUu8bfQJARtiwWIVYAkDTBaiiXUACQAg3e9bVNQJAjsFt/R46AkD8+sIgak4CQPI4vknocwJAFtGigcqrAkAEGbTRQfcCQN7yjCF7PPE/TypQUqL79D+DULNM8nH4P7sQPSPNofs/NxZ06JSN/j8chm/X1ZsAQP9OgsQ50QFAZbu1RCfoAkDtIE1hz+EDQDjViyNjvwRA5y21lBOCBUCZgAy+ESsGQO8i1aiOuwZAiWpSXrs0B0AHrcfnyJcHQAlAeE7o5QdAMXmnm0ogCEAcrpjYIEgIQG00jw6cXghAw2HORu1kCEC9i5mKRVwIQP8HNOPVRQhAJCzhWc8iCEDRTeT3YvQHQKPCgMbBuwdAPeD5zhx6B0A9/JIapTAHQENsj7KL4AZA74UyoAGLBkDjnr/sNzEGQL8MeqFf1AVAISWlx6l1BUCvPYRoRxYFQAGsWo1ptwRAucVrP0FaBEB84PqH//8DQOpRS3DVqQNAoW+gAfRYA0A9jz1FjA4DQGcGZkTPywJAtipdCO6RAkDRUWaaGWICQFXRxAODPQJA4v67TVslAkAXMI+B0xoCQJ26gagcHwJAC/TWy2czAkABMtL05VgCQCXKtizIkAJAExLIfD/cAkAHZpEutQTxP3idVF/cw/Q/rMO3WSw6+D/jg0EwB2r7P1+JePXOVf4/sL/x3fJ/AECUiATLVrUBQPn0N0tEzAJAglrPZ+zFA0DMDg4qgKMEQHtnN5swZgVALbqOxC4PBkCEXFevq58GQB6k1GTYGAdAnOZJ7uV7B0CeefpUBcoHQMayKaJnBAhAsOca3z0sCEACbhEVuUIIQFibUE0KSQhAUsUbkWJACECUQbbp8ikIQLhlY2DsBghAZodm/n/YB0A3/ALN3p8HQNEZfNU5XgdA0jUVIcIUB0DXpRG5qMQGQIS/tKYebwZAd9hB81QVBkBURvynfLgFQLZeJ87GWQVARHcGb2T6BECV5dyThpsEQE7/7UVePgRAEBp9jhzkA0B+i8128o0DQDapIggRPQNA0si/S6nyAkD7P+hK7K8CQEpk3w4LdgJAZovooDZGAkDqCkcKoCECQHY4PlR4CQJArGkRiPD+AUAy9AOvOQMCQJ8tWdKEFwJAlWtU+wI9AkC5Azkz5XQCQKhLSoNcwAJAdmT23PvL8D/nm7kNI4v0PxvCHAhzAfg/UoKm3k0x+z/Oh92jFR3+P+c+JDWWYwBAywc3IvqYAUAwdGqi568CQLnZAb+PqQNAA45AgSOHBECy5mny00kFQGQ5wRvS8gVAu9uJBk+DBkBVIwe8e/wGQNNlfEWJXwdA1fgsrKitB0D9MVz5CugHQOdmTTbhDwhAOe1DbFwmCECPGoOkrSwIQIlETugFJAhAy8DoQJYNCEDv5JW3j+oHQJ0GmVUjvAdAbns1JIKDB0AIma4s3UEHQAm1R3hl+AZADiVEEEyoBkC7Puf9wVIGQK5XdEr4+AVAi8Uu/x+cBUDt3Vklaj0FQHv2OMYH3gRAzGQP6yl/BECFfiCdASIEQEeZr+W/xwNAtQoAzpVxA0BtKFVftCADQAlI8qJM1gJAMr8aoo+TAkCB4xFmrlkCQJ0KG/jZKQJAIYp5YUMFAkCtt3CrG+0BQOPoQ9+T4gFAaXM2Bt3mAUDWrIspKPsBQMzqhlKmIAJA8IJriohYAkDfynza/6MCQGj4Pxcdk/A/2S8DSERS9D8OVmZClMj3P0YW8Bhv+Po/wBsn3jbk/T/hCEnSJkcAQMPRW7+KfAFAKT6PP3iTAkCxoyZcII0DQP1XZR60agRAq7COj2QtBUBdA+a4YtYFQLOlrqPfZgZATu0rWQzgBkDML6HiGUMHQM7CUUk5kQdA9fuAlpvLB0DhMHLTcfMHQDG3aAntCQhAiOSnQT4QCECCDnOFlgcIQMOKDd4m8QdA6a66VCDOB0CW0L3ys58HQGdFWsESZwdAAWPTyW0lB0ACf2wV9tsGQAfvaK3ciwZAtAgMm1I2BkCnIZnniNwFQIOPU5ywfwVA5qd+wvogBUBzwF1jmMEEQMUuNIi6YgRAfkhFOpIFBEBBY9SCUKsDQK/UJGsmVQNAZfJ5/EQEA0ACEhdA3bkCQCuJPz8gdwJAe602Az89AkCV1D+Vag0CQBlUnv7T6AFAp4GVSKzQAUDcsmh8JMYBQGI9W6NtygFAz3awxrjeAUDFtKvvNgQCQOlMkCcZPAJA2JShd5CHAkAaLPLH5lrwP4pjtfgNGvQ/vokY812Q9z/2SaLJOMD6P3JP2Y4ArP0/uSKiqgsrAECd67SXb2ABQAJY6BdddwJAi71/NAVxA0DVcb72mE4EQITK52dJEQVANh0/kUe6BUCNvwd8xEoGQCcHhTHxwwZApUn6uv4mB0Cn3KohHnUHQM8V2m6ArwdAuUrLq1bXB0AL0cHh0e0HQGH+ABoj9AdAWyjMXXvrB0CdpGa2C9UHQMHIEy0FsgdAb+oWy5iDB0BAX7OZ90oHQNp8LKJSCQdA25jF7dq/BkDgCMKFwW8GQI0iZXM3GgZAgDvyv23ABUBdqax0lWMFQL/B15rfBAVATdq2O32lBECeSI1gn0YEQFdinhJ36QNAGX0tWzWPA0CH7n1DCzkDQD8M09Qp6AJA2ytwGMKdAkAEo5gXBVsCQFPHj9sjIQJAb+6YbU/xAUDzbffWuMwBQH+b7iCRtAFAtczBVAmqAUA7V7R7Uq4BQKiQCZ+dwgFAns4EyBvoAUDCZun//R8CQLGu+k91awJAzgmR2SYk8D8+QVQKTuPzP3JntwSeWfc/qidB23iJ+j8mLXigQHX9P5ORcbOrDwBAdlqEoA9FAUDbxrcg/VsCQGQsTz2lVQNAr+CN/zgzBEBdObdw6fUEQA+MDprnngVAZi7XhGQvBkABdlQ6kagGQH+4ycOeCwdAgUt6Kr5ZB0CohKl3IJQHQJO5mrT2uwdA5D+R6nHSB0A7bdAiw9gHQDWXm2Yb0AdAdhM2v6u5B0CbN+M1pZYHQElZ5tM4aAdAGc6CopcvB0Cz6/uq8u0GQLUHlfZ6pAZAuXeRjmFUBkBnkTR81/4FQFmqwcgNpQVANhh8fTVIBUCZMKejf+kEQCZJhkQdigRAd7dcaT8rBEAx0W0bF84DQPPr/GPVcwNAYV1NTKsdA0AYe6LdycwCQLWaPyFiggJA3RFoIKU/AkAtNl/kwwUCQEhdaHbv1QFAzNzG31ixAUBZCr4pMZkBQI87kV2pjgFAFcaDhPKSAUCB/9inPacBQHc91NC7zAFAm9W4CJ4EAkCLHcpYFVACQHw3QW1W3+8/LtNjZ9Ku8z9k+cZhIiX3P5y5UDj9VPo/Fr+H/cRA/T8YtfLD2+r/P24jDM/RKgFA1I8/T79BAkBc9dZrZzsDQKipFS77GARAVgI/n6vbBEAIVZbIqYQFQF73XrMmFQZA+T7caFOOBkB3gVHyYPEGQHgUAlmAPwdAoE0xpuJ5B0CMgiLjuKEHQNwIGRk0uAdANDZYUYW+B0AsYCOV3bUHQG7cve1tnwdAlABrZGd8B0BAIm4C+00HQBKXCtFZFQdArLSD2bTTBkCt0BwlPYoGQLJAGb0jOgZAX1q8qpnkBUBSc0n3z4oFQC7hA6z3LQVAkfku0kHPBEAeEg5z328EQHCA5JcBEQRAKZr1SdmzA0DstISSl1kDQFom1XptAwNAEEQqDIyyAkCtY8dPJGgCQNba705nJQJAJv/mEobrAUBAJvCksbsBQMSlTg4blwFAUtNFWPN+AUCHBBmMa3QBQA2PC7O0eAFAeshg1v+MAUBwBlz/fbIBQJSeQDdg6gFAg+ZRh9c1AkBQ2EmTg3zvP5gjaPpoffM/zknL9Ljz9j8GClXLkyP6P4APjJBbD/0/ggX3VnK5/z+jS44YHRIBQAm4wZgKKQJAkR1ZtbIiA0Dd0Zd3RgAEQIsqwej2wgRAPX0YEvVrBUCTH+H8cfwFQC1nXrKedQZAranTO6zYBkCtPISiyyYHQNV1s+8tYQdAwaqkLASJB0ARMZtif58HQGle2prQpQdAYYil3iidB0CjBEA3uYYHQMko7a2yYwdAdUrwS0Y1B0BHv4wapfwGQOHcBSMAuwZA4fiebohxBkDnaJsGbyEGQJSCPvTkywVAh5vLQBtyBUBjCYb1QhUFQMYhsRuNtgRAUzqQvCpXBEClqGbhTPgDQF7Cd5MkmwNAId0G3OJAA0CPTlfEuOoCQEVsrFXXmQJA4otJmW9PAkALA3KYsgwCQFsnaVzR0gFAdU5y7vyiAUD5zdBXZn4BQIf7x6E+ZgFAvCyb1bZbAUBCt438/18BQK/w4h9LdAFApS7eSMmZAUDJxsKAq9EBQLgO1NAiHQJAmgpE+nAh7z+9POWt30/zP/FiSKgvxvY/KSPSfgr2+T+lKAlE0uH8P6UedArpi/8/NthMclj7AECcRIDyRRICQCSqFw/uCwNAbl5W0YHpA0Act39CMqwEQNAJ12swVQVAJqyfVq3lBUDA8xwM2l4GQD42kpXnwQZAQMlC/AYQB0BoAnJJaUoHQFI3Y4Y/cgdApL1ZvLqIB0D66pj0C48HQPQUZDhkhgdANpH+kPRvB0BatasH7kwHQAjXrqWBHgdA2EtLdODlBkB0acR8O6QGQHSFXcjDWgZAePVZYKoKBkAmD/1NILUFQBgoippWWwVA9pVET37+BEBYrm91yJ8EQObGThZmQARAODUlO4jhA0DwTjbtX4QDQLJpxTUeKgNAINsVHvTTAkDY+GqvEoMCQHQYCPOqOAJAno8w8u31AUDssye2DLwBQAjbMEg4jAFAjFqPsaFnAUAYiIb7eU8BQE65WS/yRAFA1ENMVjtJAUBCfaF5hl0BQDi7nKIEgwFAXFOB2ua6AUBKm5IqXgYCQMriN3e6z+4/1ShfbAQn8z8JT8JmVJ32P0EPTD0vzfk/vRSDAve4/D+9Cu7IDWP/P0LOidHq5gBAqDq9Udj9AUAwoFRugPcCQHpUkzAU1QNAKK28ocSXBEDc/xPLwkAFQDKi3LU/0QVAzOlZa2xKBkBKLM/0ea0GQEy/f1uZ+wZAdPiuqPs1B0BeLaDl0V0HQLCzlhtNdAdABuHVU556B0AAC6GX9nEHQEKHO/CGWwdAZqvoZoA4B0AUzesEFAoHQORBiNNy0QZAgF8B3M2PBkCAe5onVkYGQITrlr889gVAMgU6rbKgBUAkHsf56EYFQAKMga4Q6gRAZKSs1FqLBEDyvIt1+CsEQEQrYpoazQNA/ERzTPJvA0C+XwKVsBUDQCzRUn2GvwJA5O6nDqVuAkCADkVSPSQCQKqFbVGA4QFA+KlkFZ+nAUAU0W2nyncBQJhQzBA0UwFAJH7DWgw7AUBar5aOhDABQOA5ibXNNAFATnPe2BhJAUBEsdkBl24BQGhJvjl5pgFAVpHPifDxAUBidS3f+4juPyHyWSClA/M/VRi9GvV59j+N2Ebxz6n5PwnefbaXlfw/CdTofK4//z/oMocrO9UAQEyfuqso7AFA1gRSyNDlAkAguZCKZMMDQNARuvsUhgRAgGQRJRMvBUDYBtoPkL8FQHJOV8W8OAZA8JDMTsqbBkDyI3216ekGQBpdrAJMJAdABJKdPyJMB0BWGJR1nWIHQKxF063uaAdApm+e8UZgB0Do6zhK10kHQAwQ5sDQJgdAujHpXmT4BkCMpoUtw78GQCTE/jUefgZAJuCXgaY0BkAsUJQZjeQFQNhpNwcDjwVAzILEUzk1BUCo8H4IYdgEQAoJqi6reQRAmCGJz0gaBEDoj1/0arsDQKKpcKZCXgNAZMT/7gAEA0DSNVDX1q0CQIpTpWj1XAJAJnNCrI0SAkBQ6mqr0M8BQJ4OYm/vlQFAujVrARtmAUA+tclqhEEBQMriwLRcKQFAABSU6NQeAUCGnoYPHiMBQPTX2zJpNwFA6BXXW+dcAUAMrruTyZQBQPz1zONA4AFA2NYsB9FO7j/colm0j+byPxLJvK7fXPY/SolGhbqM+T/Ejn1Kgnj8P8aE6BCZIv8/RQuHdbDGAECrd7r1nd0BQDPdURJG1wJAf5GQ1Nm0A0At6rlFincEQN88EW+IIAVANd/ZWQWxBUDRJlcPMioGQE1pzJg/jQZAUfx8/17bBkB3NaxMwRUHQGNqnYmXPQdAs/CTvxJUB0AJHtP3Y1oHQAVInju8UQdARcQ4lEw7B0Br6OUKRhgHQBkK6ajZ6QZA6X6FdzixBkCDnP5/k28GQIW4l8sbJgZAiSiUYwLWBUA1QjdReIAFQClbxJ2uJgVABcl+UtbJBEBp4al4IGsEQPX5iBm+CwRAR2hfPuCsA0ABgnDwt08DQMOc/zh29QJAMQ5QIUyfAkDnK6Wyak4CQIVLQvYCBAJArcJq9UXBAUD95mG5ZIcBQBcOa0uQVwFAm43JtPkyAUApu8D+0RoBQF3skzJKEAFA5XaGWZMUAUBRsNt83igBQEfu1qVcTgFAa4a73T6GAUBZzswtttEBQLAbPsTVIu4/SEXiEpLQ8j98a0UN4kb2P7Qrz+O8dvk/MDEGqYRi/D8wJ3Fvmwz/P3xcy6SxuwBA4Mj+JJ/SAUBqLpZBR8wCQLTi1APbqQNAZDv+dItsBEAUjlWeiRUFQGwwHokGpgVABnibPjMfBkCEuhDIQIIGQIZNwS5g0AZArobwe8IKB0CYu+G4mDIHQOpB2O4TSQdAQG8XJ2VPB0A6meJqvUYHQHwVfcNNMAdAoDkqOkcNB0BOWy3Y2t4GQCDQyaY5pgZAuO1Cr5RkBkC6Cdz6HBsGQMB52JIDywVAbJN7gHl1BUBgrAjNrxsFQDwaw4HXvgRAnjLupyFgBEAsS81IvwAEQHy5o23hoQNANtO0H7lEA0D47UNod+oCQGZflFBNlAJAHn3p4WtDAkC6nIYlBPkBQOQTryRHtgFAMjim6GV8AUBOX696kUwBQNLeDeT6JwFAXgwFLtMPAUCUPdhhSwUBQBrIyoiUCQFAiAEgrN8dAUB8PxvVXUMBQKDX/wxAewFAkB8RXbfGAUBkWGnrpQbuP6LjdyZ6wvI/2AnbIMo49j8QymT3pGj5P4zPm7xsVPw/jMUGg4P+/j+oK5aupbQAQA6YyS6TywFAlv1gSzvFAkDisZ8Nz6IDQJAKyX5/ZQRAQl0gqH0OBUCY/+iS+p4FQDRHZkgnGAZAsInb0TR7BkC0HIw4VMkGQNpVu4W2AwdAxoqswowrB0AWEaP4B0IHQGw+4jBZSAdAaGitdLE/B0Co5EfNQSkHQM4I9UM7BgdAfCr44c7XBkBMn5SwLZ8GQOa8DbmIXQZA6NimBBEUBkDsSKOc98MFQJhiRoptbgVAjHvT1qMUBUBo6Y2Ly7cEQMwBubEVWQRAWBqYUrP5A0CqiG531ZoDQGSifymtPQNAJr0OcmvjAkCULl9aQY0CQEpMtOtfPAJA6GtRL/jxAUAQ43kuO68BQGAHcfJZdQFAei56hIVFAUD+rdjt7iABQIzbzzfHCAFAwAyjaz/+AEBIl5WSiAIBQLTQ6rXTFgFAqg7m3lE8AUDOpsoWNHQBQLzu22arvwFAaKG2Ud377T8kiJ7ZFb3yP1iuAdRlM/Y/kG6LqkBj+T8MdMJvCE/8PwxqLTYf+f4/6n0piPOxAEBQ6lwI4cgBQNhP9CSJwgJAIgQz5xygA0DQXFxYzWIEQISvs4HLCwVA2lF8bEicBUB0mfkhdRUGQPLbbquCeAZA9G4fEqLGBkAcqE5fBAEHQAbdP5zaKAdAWGM20lU/B0CukHUKp0UHQKi6QE7/PAdA6jbbpo8mB0AOW4gdiQMHQLx8i7sc1QZAjPEninucBkAoD6GS1loGQCgrOt5eEQZALJs2dkXBBUDatNlju2sFQMzNZrDxEQVAqjshZRm1BEAMVEyLY1YEQJpsKywB9wNA7NoBUSOYA0Ck9BID+zoDQGYPoku54AJA1IDyM4+KAkCMnkfFrTkCQCi+5AhG7wFAUDUNCImsAUCgWQTMp3IBQLyADV7TQgFAQABsxzweAUDMLWMRFQYBQAJfNkWN+wBAiOkobNb/AED0In6PIRQBQOxgebifOQFAEPld8IFxAUD+QG9A+bwBQEALLswXBO4/ED3aFjPB8j9EYz0Rgzf2P3wjx+ddZ/k/+Cj+rCVT/D/4HmlzPP3+P2BYxyYCtABAxsT6pu/KAUBOKpLDl8QCQJje0IUrogNARjf69ttkBED6iVEg2g0FQFAsGgtXngVA6nOXwIMXBkBotgxKkXoGQGpJvbCwyAZAkoLs/RIDB0B8t9066SoHQM491HBkQQdAJGsTqbVHB0Aeld7sDT8HQGAReUWeKAdAhDUmvJcFB0AyVylaK9cGQALMxSiKngZAnuk+MeVcBkCeBdh8bRMGQKJ11BRUwwVAUI93AsptBUBCqARPABQFQCAWvwMotwRAgi7qKXJYBEAQR8nKD/kDQGK1n+8xmgNAGs+woQk9A0Dc6T/qx+ICQEpbkNKdjAJAAnnlY7w7AkCemIKnVPEBQMYPq6aXrgFAFjSiarZ0AUAyW6v84UQBQLbaCWZLIAFAQggBsCMIAUB4OdTjm/0AQP7DxgrlAQFAav0bLjAWAUBiOxdXrjsBQIbT+46QcwFAdBsN3we/AUA=",
          "shape": "50, 50"
         },
         "z": {
          "dtype": "f8",
          "bdata": "AAAAAAAAAAAAAAAAAAAAAAAAAAAAAAAAAAAAAAAAAAAAAAAAAAAAAAAAAAAAAAAAAAAAAAAAAAAAAAAAAAAAAAAAAAAAAAAAAAAAAAAAAAAAAAAAAAAAAAAAAAAAAAAAAAAAAAAAAAAAAAAAAAAAAAAAAAAAAAAAAAAAAAAAAAAAAAAAAAAAAAAAAAAAAAAAAAAAAAAAAAAAAAAAAAAAAAAAAAAAAAAAAAAAAAAAAAAAAAAAAAAAAAAAAAAAAAAAAAAAAAAAAAAAAAAAAAAAAAAAAAAAAAAAAAAAAAAAAAAAAAAAAAAAAAAAAAAAAAAAAAAAAAAAAAAAAAAAAAAAAAAAAAAAAAAAAAAAAAAAAAAAAAAAAAAAAAAAAAAAAAAAAAAAAAAAAAAAAAAAAAAAAAAAAAAAAAAAAAAAAAAAAAAAAAAAAAAAAAAAAAAAAAAAAAAAAAAAAAAAAAAAAAAAAAAAAAAAAAAAAAAAAAAAAAAAAAAAAAAAAAAAAAAAAAAAAAAAAAAAAAAAAAAAAAAAANaHxvrQWK8/1ofG+tBYrz/Wh8b60FivP9aHxvrQWK8/1ofG+tBYrz/Wh8b60FivP9aHxvrQWK8/1ofG+tBYrz/Wh8b60FivP9aHxvrQWK8/1ofG+tBYrz/Wh8b60FivP9aHxvrQWK8/1ofG+tBYrz/Wh8b60FivP9aHxvrQWK8/1ofG+tBYrz/Wh8b60FivP9aHxvrQWK8/1ofG+tBYrz/Wh8b60FivP9aHxvrQWK8/1ofG+tBYrz/Wh8b60FivP9aHxvrQWK8/1ofG+tBYrz/Wh8b60FivP9aHxvrQWK8/1ofG+tBYrz/Wh8b60FivP9aHxvrQWK8/1ofG+tBYrz/Wh8b60FivP9aHxvrQWK8/1ofG+tBYrz/Wh8b60FivP9aHxvrQWK8/1ofG+tBYrz/Wh8b60FivP9aHxvrQWK8/1ofG+tBYrz/Wh8b60FivP9aHxvrQWK8/1ofG+tBYrz/Wh8b60FivP9aHxvrQWK8/1ofG+tBYrz/Wh8b60FivP9aHxvrQWK8/1ofG+tBYrz/Wh8b60Fi/P9aHxvrQWL8/1ofG+tBYvz/Wh8b60Fi/P9aHxvrQWL8/1ofG+tBYvz/Wh8b60Fi/P9aHxvrQWL8/1ofG+tBYvz/Wh8b60Fi/P9aHxvrQWL8/1ofG+tBYvz/Wh8b60Fi/P9aHxvrQWL8/1ofG+tBYvz/Wh8b60Fi/P9aHxvrQWL8/1ofG+tBYvz/Wh8b60Fi/P9aHxvrQWL8/1ofG+tBYvz/Wh8b60Fi/P9aHxvrQWL8/1ofG+tBYvz/Wh8b60Fi/P9aHxvrQWL8/1ofG+tBYvz/Wh8b60Fi/P9aHxvrQWL8/1ofG+tBYvz/Wh8b60Fi/P9aHxvrQWL8/1ofG+tBYvz/Wh8b60Fi/P9aHxvrQWL8/1ofG+tBYvz/Wh8b60Fi/P9aHxvrQWL8/1ofG+tBYvz/Wh8b60Fi/P9aHxvrQWL8/1ofG+tBYvz/Wh8b60Fi/P9aHxvrQWL8/1ofG+tBYvz/Wh8b60Fi/P9aHxvrQWL8/1ofG+tBYvz/Wh8b60Fi/P9aHxvrQWL8/4OUUvJyCxz/g5RS8nILHP+DlFLycgsc/4OUUvJyCxz/g5RS8nILHP+DlFLycgsc/4OUUvJyCxz/g5RS8nILHP+DlFLycgsc/4OUUvJyCxz/g5RS8nILHP+DlFLycgsc/4OUUvJyCxz/g5RS8nILHP+DlFLycgsc/4OUUvJyCxz/g5RS8nILHP+DlFLycgsc/4OUUvJyCxz/g5RS8nILHP+DlFLycgsc/4OUUvJyCxz/g5RS8nILHP+DlFLycgsc/4OUUvJyCxz/g5RS8nILHP+DlFLycgsc/4OUUvJyCxz/g5RS8nILHP+DlFLycgsc/4OUUvJyCxz/g5RS8nILHP+DlFLycgsc/4OUUvJyCxz/g5RS8nILHP+DlFLycgsc/4OUUvJyCxz/g5RS8nILHP+DlFLycgsc/4OUUvJyCxz/g5RS8nILHP+DlFLycgsc/4OUUvJyCxz/g5RS8nILHP+DlFLycgsc/4OUUvJyCxz/g5RS8nILHP+DlFLycgsc/4OUUvJyCxz/g5RS8nILHP9aHxvrQWM8/1ofG+tBYzz/Wh8b60FjPP9aHxvrQWM8/1ofG+tBYzz/Wh8b60FjPP9aHxvrQWM8/1ofG+tBYzz/Wh8b60FjPP9aHxvrQWM8/1ofG+tBYzz/Wh8b60FjPP9aHxvrQWM8/1ofG+tBYzz/Wh8b60FjPP9aHxvrQWM8/1ofG+tBYzz/Wh8b60FjPP9aHxvrQWM8/1ofG+tBYzz/Wh8b60FjPP9aHxvrQWM8/1ofG+tBYzz/Wh8b60FjPP9aHxvrQWM8/1ofG+tBYzz/Wh8b60FjPP9aHxvrQWM8/1ofG+tBYzz/Wh8b60FjPP9aHxvrQWM8/1ofG+tBYzz/Wh8b60FjPP9aHxvrQWM8/1ofG+tBYzz/Wh8b60FjPP9aHxvrQWM8/1ofG+tBYzz/Wh8b60FjPP9aHxvrQWM8/1ofG+tBYzz/Wh8b60FjPP9aHxvrQWM8/1ofG+tBYzz/Wh8b60FjPP9aHxvrQWM8/1ofG+tBYzz/Wh8b60FjPP9aHxvrQWM8/1ofG+tBYzz/mFLycgpfTP+YUvJyCl9M/5hS8nIKX0z/mFLycgpfTP+YUvJyCl9M/5hS8nIKX0z/mFLycgpfTP+YUvJyCl9M/5hS8nIKX0z/mFLycgpfTP+YUvJyCl9M/5hS8nIKX0z/mFLycgpfTP+YUvJyCl9M/5hS8nIKX0z/mFLycgpfTP+YUvJyCl9M/5hS8nIKX0z/mFLycgpfTP+YUvJyCl9M/5hS8nIKX0z/mFLycgpfTP+YUvJyCl9M/5hS8nIKX0z/mFLycgpfTP+YUvJyCl9M/5hS8nIKX0z/mFLycgpfTP+YUvJyCl9M/5hS8nIKX0z/mFLycgpfTP+YUvJyCl9M/5hS8nIKX0z/mFLycgpfTP+YUvJyCl9M/5hS8nIKX0z/mFLycgpfTP+YUvJyCl9M/5hS8nIKX0z/mFLycgpfTP+YUvJyCl9M/5hS8nIKX0z/mFLycgpfTP+YUvJyCl9M/5hS8nIKX0z/mFLycgpfTP+YUvJyCl9M/5hS8nIKX0z/mFLycgpfTP+YUvJyCl9M/4OUUvJyC1z/g5RS8nILXP+DlFLycgtc/4OUUvJyC1z/g5RS8nILXP+DlFLycgtc/4OUUvJyC1z/g5RS8nILXP+DlFLycgtc/4OUUvJyC1z/g5RS8nILXP+DlFLycgtc/4OUUvJyC1z/g5RS8nILXP+DlFLycgtc/4OUUvJyC1z/g5RS8nILXP+DlFLycgtc/4OUUvJyC1z/g5RS8nILXP+DlFLycgtc/4OUUvJyC1z/g5RS8nILXP+DlFLycgtc/4OUUvJyC1z/g5RS8nILXP+DlFLycgtc/4OUUvJyC1z/g5RS8nILXP+DlFLycgtc/4OUUvJyC1z/g5RS8nILXP+DlFLycgtc/4OUUvJyC1z/g5RS8nILXP+DlFLycgtc/4OUUvJyC1z/g5RS8nILXP+DlFLycgtc/4OUUvJyC1z/g5RS8nILXP+DlFLycgtc/4OUUvJyC1z/g5RS8nILXP+DlFLycgtc/4OUUvJyC1z/g5RS8nILXP+DlFLycgtc/4OUUvJyC1z/g5RS8nILXP9u2bdu2bds/27Zt27Zt2z/btm3btm3bP9u2bdu2bds/27Zt27Zt2z/btm3btm3bP9u2bdu2bds/27Zt27Zt2z/btm3btm3bP9u2bdu2bds/27Zt27Zt2z/btm3btm3bP9u2bdu2bds/27Zt27Zt2z/btm3btm3bP9u2bdu2bds/27Zt27Zt2z/btm3btm3bP9u2bdu2bds/27Zt27Zt2z/btm3btm3bP9u2bdu2bds/27Zt27Zt2z/btm3btm3bP9u2bdu2bds/27Zt27Zt2z/btm3btm3bP9u2bdu2bds/27Zt27Zt2z/btm3btm3bP9u2bdu2bds/27Zt27Zt2z/btm3btm3bP9u2bdu2bds/27Zt27Zt2z/btm3btm3bP9u2bdu2bds/27Zt27Zt2z/btm3btm3bP9u2bdu2bds/27Zt27Zt2z/btm3btm3bP9u2bdu2bds/27Zt27Zt2z/btm3btm3bP9u2bdu2bds/27Zt27Zt2z/btm3btm3bP9u2bdu2bds/27Zt27Zt2z/Wh8b60FjfP9aHxvrQWN8/1ofG+tBY3z/Wh8b60FjfP9aHxvrQWN8/1ofG+tBY3z/Wh8b60FjfP9aHxvrQWN8/1ofG+tBY3z/Wh8b60FjfP9aHxvrQWN8/1ofG+tBY3z/Wh8b60FjfP9aHxvrQWN8/1ofG+tBY3z/Wh8b60FjfP9aHxvrQWN8/1ofG+tBY3z/Wh8b60FjfP9aHxvrQWN8/1ofG+tBY3z/Wh8b60FjfP9aHxvrQWN8/1ofG+tBY3z/Wh8b60FjfP9aHxvrQWN8/1ofG+tBY3z/Wh8b60FjfP9aHxvrQWN8/1ofG+tBY3z/Wh8b60FjfP9aHxvrQWN8/1ofG+tBY3z/Wh8b60FjfP9aHxvrQWN8/1ofG+tBY3z/Wh8b60FjfP9aHxvrQWN8/1ofG+tBY3z/Wh8b60FjfP9aHxvrQWN8/1ofG+tBY3z/Wh8b60FjfP9aHxvrQWN8/1ofG+tBY3z/Wh8b60FjfP9aHxvrQWN8/1ofG+tBY3z/Wh8b60FjfP9aHxvrQWN8/aKwPjfWh4T9orA+N9aHhP2isD431oeE/aKwPjfWh4T9orA+N9aHhP2isD431oeE/aKwPjfWh4T9orA+N9aHhP2isD431oeE/aKwPjfWh4T9orA+N9aHhP2isD431oeE/aKwPjfWh4T9orA+N9aHhP2isD431oeE/aKwPjfWh4T9orA+N9aHhP2isD431oeE/aKwPjfWh4T9orA+N9aHhP2isD431oeE/aKwPjfWh4T9orA+N9aHhP2isD431oeE/aKwPjfWh4T9orA+N9aHhP2isD431oeE/aKwPjfWh4T9orA+N9aHhP2isD431oeE/aKwPjfWh4T9orA+N9aHhP2isD431oeE/aKwPjfWh4T9orA+N9aHhP2isD431oeE/aKwPjfWh4T9orA+N9aHhP2isD431oeE/aKwPjfWh4T9orA+N9aHhP2isD431oeE/aKwPjfWh4T9orA+N9aHhP2isD431oeE/aKwPjfWh4T9orA+N9aHhP2isD431oeE/aKwPjfWh4T9orA+N9aHhP+YUvJyCl+M/5hS8nIKX4z/mFLycgpfjP+YUvJyCl+M/5hS8nIKX4z/mFLycgpfjP+YUvJyCl+M/5hS8nIKX4z/mFLycgpfjP+YUvJyCl+M/5hS8nIKX4z/mFLycgpfjP+YUvJyCl+M/5hS8nIKX4z/mFLycgpfjP+YUvJyCl+M/5hS8nIKX4z/mFLycgpfjP+YUvJyCl+M/5hS8nIKX4z/mFLycgpfjP+YUvJyCl+M/5hS8nIKX4z/mFLycgpfjP+YUvJyCl+M/5hS8nIKX4z/mFLycgpfjP+YUvJyCl+M/5hS8nIKX4z/mFLycgpfjP+YUvJyCl+M/5hS8nIKX4z/mFLycgpfjP+YUvJyCl+M/5hS8nIKX4z/mFLycgpfjP+YUvJyCl+M/5hS8nIKX4z/mFLycgpfjP+YUvJyCl+M/5hS8nIKX4z/mFLycgpfjP+YUvJyCl+M/5hS8nIKX4z/mFLycgpfjP+YUvJyCl+M/5hS8nIKX4z/mFLycgpfjP+YUvJyCl+M/5hS8nIKX4z9jfWisD43lP2N9aKwPjeU/Y31orA+N5T9jfWisD43lP2N9aKwPjeU/Y31orA+N5T9jfWisD43lP2N9aKwPjeU/Y31orA+N5T9jfWisD43lP2N9aKwPjeU/Y31orA+N5T9jfWisD43lP2N9aKwPjeU/Y31orA+N5T9jfWisD43lP2N9aKwPjeU/Y31orA+N5T9jfWisD43lP2N9aKwPjeU/Y31orA+N5T9jfWisD43lP2N9aKwPjeU/Y31orA+N5T9jfWisD43lP2N9aKwPjeU/Y31orA+N5T9jfWisD43lP2N9aKwPjeU/Y31orA+N5T9jfWisD43lP2N9aKwPjeU/Y31orA+N5T9jfWisD43lP2N9aKwPjeU/Y31orA+N5T9jfWisD43lP2N9aKwPjeU/Y31orA+N5T9jfWisD43lP2N9aKwPjeU/Y31orA+N5T9jfWisD43lP2N9aKwPjeU/Y31orA+N5T9jfWisD43lP2N9aKwPjeU/Y31orA+N5T9jfWisD43lP2N9aKwPjeU/4OUUvJyC5z/g5RS8nILnP+DlFLycguc/4OUUvJyC5z/g5RS8nILnP+DlFLycguc/4OUUvJyC5z/g5RS8nILnP+DlFLycguc/4OUUvJyC5z/g5RS8nILnP+DlFLycguc/4OUUvJyC5z/g5RS8nILnP+DlFLycguc/4OUUvJyC5z/g5RS8nILnP+DlFLycguc/4OUUvJyC5z/g5RS8nILnP+DlFLycguc/4OUUvJyC5z/g5RS8nILnP+DlFLycguc/4OUUvJyC5z/g5RS8nILnP+DlFLycguc/4OUUvJyC5z/g5RS8nILnP+DlFLycguc/4OUUvJyC5z/g5RS8nILnP+DlFLycguc/4OUUvJyC5z/g5RS8nILnP+DlFLycguc/4OUUvJyC5z/g5RS8nILnP+DlFLycguc/4OUUvJyC5z/g5RS8nILnP+DlFLycguc/4OUUvJyC5z/g5RS8nILnP+DlFLycguc/4OUUvJyC5z/g5RS8nILnP+DlFLycguc/4OUUvJyC5z/g5RS8nILnP15OwcspeOk/Xk7Byyl46T9eTsHLKXjpP15OwcspeOk/Xk7Byyl46T9eTsHLKXjpP15OwcspeOk/Xk7Byyl46T9eTsHLKXjpP15OwcspeOk/Xk7Byyl46T9eTsHLKXjpP15OwcspeOk/Xk7Byyl46T9eTsHLKXjpP15OwcspeOk/Xk7Byyl46T9eTsHLKXjpP15OwcspeOk/Xk7Byyl46T9eTsHLKXjpP15OwcspeOk/Xk7Byyl46T9eTsHLKXjpP15OwcspeOk/Xk7Byyl46T9eTsHLKXjpP15OwcspeOk/Xk7Byyl46T9eTsHLKXjpP15OwcspeOk/Xk7Byyl46T9eTsHLKXjpP15OwcspeOk/Xk7Byyl46T9eTsHLKXjpP15OwcspeOk/Xk7Byyl46T9eTsHLKXjpP15OwcspeOk/Xk7Byyl46T9eTsHLKXjpP15OwcspeOk/Xk7Byyl46T9eTsHLKXjpP15OwcspeOk/Xk7Byyl46T9eTsHLKXjpP15OwcspeOk/Xk7Byyl46T/btm3btm3rP9u2bdu2bes/27Zt27Zt6z/btm3btm3rP9u2bdu2bes/27Zt27Zt6z/btm3btm3rP9u2bdu2bes/27Zt27Zt6z/btm3btm3rP9u2bdu2bes/27Zt27Zt6z/btm3btm3rP9u2bdu2bes/27Zt27Zt6z/btm3btm3rP9u2bdu2bes/27Zt27Zt6z/btm3btm3rP9u2bdu2bes/27Zt27Zt6z/btm3btm3rP9u2bdu2bes/27Zt27Zt6z/btm3btm3rP9u2bdu2bes/27Zt27Zt6z/btm3btm3rP9u2bdu2bes/27Zt27Zt6z/btm3btm3rP9u2bdu2bes/27Zt27Zt6z/btm3btm3rP9u2bdu2bes/27Zt27Zt6z/btm3btm3rP9u2bdu2bes/27Zt27Zt6z/btm3btm3rP9u2bdu2bes/27Zt27Zt6z/btm3btm3rP9u2bdu2bes/27Zt27Zt6z/btm3btm3rP9u2bdu2bes/27Zt27Zt6z/btm3btm3rP9u2bdu2bes/WR8a60Nj7T9ZHxrrQ2PtP1kfGutDY+0/WR8a60Nj7T9ZHxrrQ2PtP1kfGutDY+0/WR8a60Nj7T9ZHxrrQ2PtP1kfGutDY+0/WR8a60Nj7T9ZHxrrQ2PtP1kfGutDY+0/WR8a60Nj7T9ZHxrrQ2PtP1kfGutDY+0/WR8a60Nj7T9ZHxrrQ2PtP1kfGutDY+0/WR8a60Nj7T9ZHxrrQ2PtP1kfGutDY+0/WR8a60Nj7T9ZHxrrQ2PtP1kfGutDY+0/WR8a60Nj7T9ZHxrrQ2PtP1kfGutDY+0/WR8a60Nj7T9ZHxrrQ2PtP1kfGutDY+0/WR8a60Nj7T9ZHxrrQ2PtP1kfGutDY+0/WR8a60Nj7T9ZHxrrQ2PtP1kfGutDY+0/WR8a60Nj7T9ZHxrrQ2PtP1kfGutDY+0/WR8a60Nj7T9ZHxrrQ2PtP1kfGutDY+0/WR8a60Nj7T9ZHxrrQ2PtP1kfGutDY+0/WR8a60Nj7T9ZHxrrQ2PtP1kfGutDY+0/WR8a60Nj7T9ZHxrrQ2PtP9aHxvrQWO8/1ofG+tBY7z/Wh8b60FjvP9aHxvrQWO8/1ofG+tBY7z/Wh8b60FjvP9aHxvrQWO8/1ofG+tBY7z/Wh8b60FjvP9aHxvrQWO8/1ofG+tBY7z/Wh8b60FjvP9aHxvrQWO8/1ofG+tBY7z/Wh8b60FjvP9aHxvrQWO8/1ofG+tBY7z/Wh8b60FjvP9aHxvrQWO8/1ofG+tBY7z/Wh8b60FjvP9aHxvrQWO8/1ofG+tBY7z/Wh8b60FjvP9aHxvrQWO8/1ofG+tBY7z/Wh8b60FjvP9aHxvrQWO8/1ofG+tBY7z/Wh8b60FjvP9aHxvrQWO8/1ofG+tBY7z/Wh8b60FjvP9aHxvrQWO8/1ofG+tBY7z/Wh8b60FjvP9aHxvrQWO8/1ofG+tBY7z/Wh8b60FjvP9aHxvrQWO8/1ofG+tBY7z/Wh8b60FjvP9aHxvrQWO8/1ofG+tBY7z/Wh8b60FjvP9aHxvrQWO8/1ofG+tBY7z/Wh8b60FjvP9aHxvrQWO8/1ofG+tBY7z8qeDkFL6fwPyp4OQUvp/A/Kng5BS+n8D8qeDkFL6fwPyp4OQUvp/A/Kng5BS+n8D8qeDkFL6fwPyp4OQUvp/A/Kng5BS+n8D8qeDkFL6fwPyp4OQUvp/A/Kng5BS+n8D8qeDkFL6fwPyp4OQUvp/A/Kng5BS+n8D8qeDkFL6fwPyp4OQUvp/A/Kng5BS+n8D8qeDkFL6fwPyp4OQUvp/A/Kng5BS+n8D8qeDkFL6fwPyp4OQUvp/A/Kng5BS+n8D8qeDkFL6fwPyp4OQUvp/A/Kng5BS+n8D8qeDkFL6fwPyp4OQUvp/A/Kng5BS+n8D8qeDkFL6fwPyp4OQUvp/A/Kng5BS+n8D8qeDkFL6fwPyp4OQUvp/A/Kng5BS+n8D8qeDkFL6fwPyp4OQUvp/A/Kng5BS+n8D8qeDkFL6fwPyp4OQUvp/A/Kng5BS+n8D8qeDkFL6fwPyp4OQUvp/A/Kng5BS+n8D8qeDkFL6fwPyp4OQUvp/A/Kng5BS+n8D8qeDkFL6fwPyp4OQUvp/A/aKwPjfWh8T9orA+N9aHxP2isD431ofE/aKwPjfWh8T9orA+N9aHxP2isD431ofE/aKwPjfWh8T9orA+N9aHxP2isD431ofE/aKwPjfWh8T9orA+N9aHxP2isD431ofE/aKwPjfWh8T9orA+N9aHxP2isD431ofE/aKwPjfWh8T9orA+N9aHxP2isD431ofE/aKwPjfWh8T9orA+N9aHxP2isD431ofE/aKwPjfWh8T9orA+N9aHxP2isD431ofE/aKwPjfWh8T9orA+N9aHxP2isD431ofE/aKwPjfWh8T9orA+N9aHxP2isD431ofE/aKwPjfWh8T9orA+N9aHxP2isD431ofE/aKwPjfWh8T9orA+N9aHxP2isD431ofE/aKwPjfWh8T9orA+N9aHxP2isD431ofE/aKwPjfWh8T9orA+N9aHxP2isD431ofE/aKwPjfWh8T9orA+N9aHxP2isD431ofE/aKwPjfWh8T9orA+N9aHxP2isD431ofE/aKwPjfWh8T9orA+N9aHxP6fg5RS8nPI/p+DlFLyc8j+n4OUUvJzyP6fg5RS8nPI/p+DlFLyc8j+n4OUUvJzyP6fg5RS8nPI/p+DlFLyc8j+n4OUUvJzyP6fg5RS8nPI/p+DlFLyc8j+n4OUUvJzyP6fg5RS8nPI/p+DlFLyc8j+n4OUUvJzyP6fg5RS8nPI/p+DlFLyc8j+n4OUUvJzyP6fg5RS8nPI/p+DlFLyc8j+n4OUUvJzyP6fg5RS8nPI/p+DlFLyc8j+n4OUUvJzyP6fg5RS8nPI/p+DlFLyc8j+n4OUUvJzyP6fg5RS8nPI/p+DlFLyc8j+n4OUUvJzyP6fg5RS8nPI/p+DlFLyc8j+n4OUUvJzyP6fg5RS8nPI/p+DlFLyc8j+n4OUUvJzyP6fg5RS8nPI/p+DlFLyc8j+n4OUUvJzyP6fg5RS8nPI/p+DlFLyc8j+n4OUUvJzyP6fg5RS8nPI/p+DlFLyc8j+n4OUUvJzyP6fg5RS8nPI/p+DlFLyc8j+n4OUUvJzyP6fg5RS8nPI/p+DlFLyc8j/mFLycgpfzP+YUvJyCl/M/5hS8nIKX8z/mFLycgpfzP+YUvJyCl/M/5hS8nIKX8z/mFLycgpfzP+YUvJyCl/M/5hS8nIKX8z/mFLycgpfzP+YUvJyCl/M/5hS8nIKX8z/mFLycgpfzP+YUvJyCl/M/5hS8nIKX8z/mFLycgpfzP+YUvJyCl/M/5hS8nIKX8z/mFLycgpfzP+YUvJyCl/M/5hS8nIKX8z/mFLycgpfzP+YUvJyCl/M/5hS8nIKX8z/mFLycgpfzP+YUvJyCl/M/5hS8nIKX8z/mFLycgpfzP+YUvJyCl/M/5hS8nIKX8z/mFLycgpfzP+YUvJyCl/M/5hS8nIKX8z/mFLycgpfzP+YUvJyCl/M/5hS8nIKX8z/mFLycgpfzP+YUvJyCl/M/5hS8nIKX8z/mFLycgpfzP+YUvJyCl/M/5hS8nIKX8z/mFLycgpfzP+YUvJyCl/M/5hS8nIKX8z/mFLycgpfzP+YUvJyCl/M/5hS8nIKX8z/mFLycgpfzP+YUvJyCl/M/JEmSJEmS9D8kSZIkSZL0PyRJkiRJkvQ/JEmSJEmS9D8kSZIkSZL0PyRJkiRJkvQ/JEmSJEmS9D8kSZIkSZL0PyRJkiRJkvQ/JEmSJEmS9D8kSZIkSZL0PyRJkiRJkvQ/JEmSJEmS9D8kSZIkSZL0PyRJkiRJkvQ/JEmSJEmS9D8kSZIkSZL0PyRJkiRJkvQ/JEmSJEmS9D8kSZIkSZL0PyRJkiRJkvQ/JEmSJEmS9D8kSZIkSZL0PyRJkiRJkvQ/JEmSJEmS9D8kSZIkSZL0PyRJkiRJkvQ/JEmSJEmS9D8kSZIkSZL0PyRJkiRJkvQ/JEmSJEmS9D8kSZIkSZL0PyRJkiRJkvQ/JEmSJEmS9D8kSZIkSZL0PyRJkiRJkvQ/JEmSJEmS9D8kSZIkSZL0PyRJkiRJkvQ/JEmSJEmS9D8kSZIkSZL0PyRJkiRJkvQ/JEmSJEmS9D8kSZIkSZL0PyRJkiRJkvQ/JEmSJEmS9D8kSZIkSZL0PyRJkiRJkvQ/JEmSJEmS9D8kSZIkSZL0P2N9aKwPjfU/Y31orA+N9T9jfWisD431P2N9aKwPjfU/Y31orA+N9T9jfWisD431P2N9aKwPjfU/Y31orA+N9T9jfWisD431P2N9aKwPjfU/Y31orA+N9T9jfWisD431P2N9aKwPjfU/Y31orA+N9T9jfWisD431P2N9aKwPjfU/Y31orA+N9T9jfWisD431P2N9aKwPjfU/Y31orA+N9T9jfWisD431P2N9aKwPjfU/Y31orA+N9T9jfWisD431P2N9aKwPjfU/Y31orA+N9T9jfWisD431P2N9aKwPjfU/Y31orA+N9T9jfWisD431P2N9aKwPjfU/Y31orA+N9T9jfWisD431P2N9aKwPjfU/Y31orA+N9T9jfWisD431P2N9aKwPjfU/Y31orA+N9T9jfWisD431P2N9aKwPjfU/Y31orA+N9T9jfWisD431P2N9aKwPjfU/Y31orA+N9T9jfWisD431P2N9aKwPjfU/Y31orA+N9T9jfWisD431P2N9aKwPjfU/Y31orA+N9T+isT401of2P6KxPjTWh/Y/orE+NNaH9j+isT401of2P6KxPjTWh/Y/orE+NNaH9j+isT401of2P6KxPjTWh/Y/orE+NNaH9j+isT401of2P6KxPjTWh/Y/orE+NNaH9j+isT401of2P6KxPjTWh/Y/orE+NNaH9j+isT401of2P6KxPjTWh/Y/orE+NNaH9j+isT401of2P6KxPjTWh/Y/orE+NNaH9j+isT401of2P6KxPjTWh/Y/orE+NNaH9j+isT401of2P6KxPjTWh/Y/orE+NNaH9j+isT401of2P6KxPjTWh/Y/orE+NNaH9j+isT401of2P6KxPjTWh/Y/orE+NNaH9j+isT401of2P6KxPjTWh/Y/orE+NNaH9j+isT401of2P6KxPjTWh/Y/orE+NNaH9j+isT401of2P6KxPjTWh/Y/orE+NNaH9j+isT401of2P6KxPjTWh/Y/orE+NNaH9j+isT401of2P6KxPjTWh/Y/orE+NNaH9j+isT401of2P6KxPjTWh/Y/4OUUvJyC9z/g5RS8nIL3P+DlFLycgvc/4OUUvJyC9z/g5RS8nIL3P+DlFLycgvc/4OUUvJyC9z/g5RS8nIL3P+DlFLycgvc/4OUUvJyC9z/g5RS8nIL3P+DlFLycgvc/4OUUvJyC9z/g5RS8nIL3P+DlFLycgvc/4OUUvJyC9z/g5RS8nIL3P+DlFLycgvc/4OUUvJyC9z/g5RS8nIL3P+DlFLycgvc/4OUUvJyC9z/g5RS8nIL3P+DlFLycgvc/4OUUvJyC9z/g5RS8nIL3P+DlFLycgvc/4OUUvJyC9z/g5RS8nIL3P+DlFLycgvc/4OUUvJyC9z/g5RS8nIL3P+DlFLycgvc/4OUUvJyC9z/g5RS8nIL3P+DlFLycgvc/4OUUvJyC9z/g5RS8nIL3P+DlFLycgvc/4OUUvJyC9z/g5RS8nIL3P+DlFLycgvc/4OUUvJyC9z/g5RS8nIL3P+DlFLycgvc/4OUUvJyC9z/g5RS8nIL3P+DlFLycgvc/4OUUvJyC9z/g5RS8nIL3Px8a60Njffg/HxrrQ2N9+D8fGutDY334Px8a60Njffg/HxrrQ2N9+D8fGutDY334Px8a60Njffg/HxrrQ2N9+D8fGutDY334Px8a60Njffg/HxrrQ2N9+D8fGutDY334Px8a60Njffg/HxrrQ2N9+D8fGutDY334Px8a60Njffg/HxrrQ2N9+D8fGutDY334Px8a60Njffg/HxrrQ2N9+D8fGutDY334Px8a60Njffg/HxrrQ2N9+D8fGutDY334Px8a60Njffg/HxrrQ2N9+D8fGutDY334Px8a60Njffg/HxrrQ2N9+D8fGutDY334Px8a60Njffg/HxrrQ2N9+D8fGutDY334Px8a60Njffg/HxrrQ2N9+D8fGutDY334Px8a60Njffg/HxrrQ2N9+D8fGutDY334Px8a60Njffg/HxrrQ2N9+D8fGutDY334Px8a60Njffg/HxrrQ2N9+D8fGutDY334Px8a60Njffg/HxrrQ2N9+D8fGutDY334Px8a60Njffg/HxrrQ2N9+D9eTsHLKXj5P15OwcspePk/Xk7Byyl4+T9eTsHLKXj5P15OwcspePk/Xk7Byyl4+T9eTsHLKXj5P15OwcspePk/Xk7Byyl4+T9eTsHLKXj5P15OwcspePk/Xk7Byyl4+T9eTsHLKXj5P15OwcspePk/Xk7Byyl4+T9eTsHLKXj5P15OwcspePk/Xk7Byyl4+T9eTsHLKXj5P15OwcspePk/Xk7Byyl4+T9eTsHLKXj5P15OwcspePk/Xk7Byyl4+T9eTsHLKXj5P15OwcspePk/Xk7Byyl4+T9eTsHLKXj5P15OwcspePk/Xk7Byyl4+T9eTsHLKXj5P15OwcspePk/Xk7Byyl4+T9eTsHLKXj5P15OwcspePk/Xk7Byyl4+T9eTsHLKXj5P15OwcspePk/Xk7Byyl4+T9eTsHLKXj5P15OwcspePk/Xk7Byyl4+T9eTsHLKXj5P15OwcspePk/Xk7Byyl4+T9eTsHLKXj5P15OwcspePk/Xk7Byyl4+T9eTsHLKXj5P15OwcspePk/nYKXU/By+j+dgpdT8HL6P52Cl1Pwcvo/nYKXU/By+j+dgpdT8HL6P52Cl1Pwcvo/nYKXU/By+j+dgpdT8HL6P52Cl1Pwcvo/nYKXU/By+j+dgpdT8HL6P52Cl1Pwcvo/nYKXU/By+j+dgpdT8HL6P52Cl1Pwcvo/nYKXU/By+j+dgpdT8HL6P52Cl1Pwcvo/nYKXU/By+j+dgpdT8HL6P52Cl1Pwcvo/nYKXU/By+j+dgpdT8HL6P52Cl1Pwcvo/nYKXU/By+j+dgpdT8HL6P52Cl1Pwcvo/nYKXU/By+j+dgpdT8HL6P52Cl1Pwcvo/nYKXU/By+j+dgpdT8HL6P52Cl1Pwcvo/nYKXU/By+j+dgpdT8HL6P52Cl1Pwcvo/nYKXU/By+j+dgpdT8HL6P52Cl1Pwcvo/nYKXU/By+j+dgpdT8HL6P52Cl1Pwcvo/nYKXU/By+j+dgpdT8HL6P52Cl1Pwcvo/nYKXU/By+j+dgpdT8HL6P52Cl1Pwcvo/nYKXU/By+j+dgpdT8HL6P9u2bdu2bfs/27Zt27Zt+z/btm3btm37P9u2bdu2bfs/27Zt27Zt+z/btm3btm37P9u2bdu2bfs/27Zt27Zt+z/btm3btm37P9u2bdu2bfs/27Zt27Zt+z/btm3btm37P9u2bdu2bfs/27Zt27Zt+z/btm3btm37P9u2bdu2bfs/27Zt27Zt+z/btm3btm37P9u2bdu2bfs/27Zt27Zt+z/btm3btm37P9u2bdu2bfs/27Zt27Zt+z/btm3btm37P9u2bdu2bfs/27Zt27Zt+z/btm3btm37P9u2bdu2bfs/27Zt27Zt+z/btm3btm37P9u2bdu2bfs/27Zt27Zt+z/btm3btm37P9u2bdu2bfs/27Zt27Zt+z/btm3btm37P9u2bdu2bfs/27Zt27Zt+z/btm3btm37P9u2bdu2bfs/27Zt27Zt+z/btm3btm37P9u2bdu2bfs/27Zt27Zt+z/btm3btm37P9u2bdu2bfs/27Zt27Zt+z/btm3btm37P9u2bdu2bfs/27Zt27Zt+z8a60NjfWj8PxrrQ2N9aPw/GutDY31o/D8a60NjfWj8PxrrQ2N9aPw/GutDY31o/D8a60NjfWj8PxrrQ2N9aPw/GutDY31o/D8a60NjfWj8PxrrQ2N9aPw/GutDY31o/D8a60NjfWj8PxrrQ2N9aPw/GutDY31o/D8a60NjfWj8PxrrQ2N9aPw/GutDY31o/D8a60NjfWj8PxrrQ2N9aPw/GutDY31o/D8a60NjfWj8PxrrQ2N9aPw/GutDY31o/D8a60NjfWj8PxrrQ2N9aPw/GutDY31o/D8a60NjfWj8PxrrQ2N9aPw/GutDY31o/D8a60NjfWj8PxrrQ2N9aPw/GutDY31o/D8a60NjfWj8PxrrQ2N9aPw/GutDY31o/D8a60NjfWj8PxrrQ2N9aPw/GutDY31o/D8a60NjfWj8PxrrQ2N9aPw/GutDY31o/D8a60NjfWj8PxrrQ2N9aPw/GutDY31o/D8a60NjfWj8PxrrQ2N9aPw/GutDY31o/D8a60NjfWj8PxrrQ2N9aPw/WR8a60Nj/T9ZHxrrQ2P9P1kfGutDY/0/WR8a60Nj/T9ZHxrrQ2P9P1kfGutDY/0/WR8a60Nj/T9ZHxrrQ2P9P1kfGutDY/0/WR8a60Nj/T9ZHxrrQ2P9P1kfGutDY/0/WR8a60Nj/T9ZHxrrQ2P9P1kfGutDY/0/WR8a60Nj/T9ZHxrrQ2P9P1kfGutDY/0/WR8a60Nj/T9ZHxrrQ2P9P1kfGutDY/0/WR8a60Nj/T9ZHxrrQ2P9P1kfGutDY/0/WR8a60Nj/T9ZHxrrQ2P9P1kfGutDY/0/WR8a60Nj/T9ZHxrrQ2P9P1kfGutDY/0/WR8a60Nj/T9ZHxrrQ2P9P1kfGutDY/0/WR8a60Nj/T9ZHxrrQ2P9P1kfGutDY/0/WR8a60Nj/T9ZHxrrQ2P9P1kfGutDY/0/WR8a60Nj/T9ZHxrrQ2P9P1kfGutDY/0/WR8a60Nj/T9ZHxrrQ2P9P1kfGutDY/0/WR8a60Nj/T9ZHxrrQ2P9P1kfGutDY/0/WR8a60Nj/T9ZHxrrQ2P9P5dT8HIKXv4/l1Pwcgpe/j+XU/ByCl7+P5dT8HIKXv4/l1Pwcgpe/j+XU/ByCl7+P5dT8HIKXv4/l1Pwcgpe/j+XU/ByCl7+P5dT8HIKXv4/l1Pwcgpe/j+XU/ByCl7+P5dT8HIKXv4/l1Pwcgpe/j+XU/ByCl7+P5dT8HIKXv4/l1Pwcgpe/j+XU/ByCl7+P5dT8HIKXv4/l1Pwcgpe/j+XU/ByCl7+P5dT8HIKXv4/l1Pwcgpe/j+XU/ByCl7+P5dT8HIKXv4/l1Pwcgpe/j+XU/ByCl7+P5dT8HIKXv4/l1Pwcgpe/j+XU/ByCl7+P5dT8HIKXv4/l1Pwcgpe/j+XU/ByCl7+P5dT8HIKXv4/l1Pwcgpe/j+XU/ByCl7+P5dT8HIKXv4/l1Pwcgpe/j+XU/ByCl7+P5dT8HIKXv4/l1Pwcgpe/j+XU/ByCl7+P5dT8HIKXv4/l1Pwcgpe/j+XU/ByCl7+P5dT8HIKXv4/l1Pwcgpe/j+XU/ByCl7+P5dT8HIKXv4/l1Pwcgpe/j/Wh8b60Fj/P9aHxvrQWP8/1ofG+tBY/z/Wh8b60Fj/P9aHxvrQWP8/1ofG+tBY/z/Wh8b60Fj/P9aHxvrQWP8/1ofG+tBY/z/Wh8b60Fj/P9aHxvrQWP8/1ofG+tBY/z/Wh8b60Fj/P9aHxvrQWP8/1ofG+tBY/z/Wh8b60Fj/P9aHxvrQWP8/1ofG+tBY/z/Wh8b60Fj/P9aHxvrQWP8/1ofG+tBY/z/Wh8b60Fj/P9aHxvrQWP8/1ofG+tBY/z/Wh8b60Fj/P9aHxvrQWP8/1ofG+tBY/z/Wh8b60Fj/P9aHxvrQWP8/1ofG+tBY/z/Wh8b60Fj/P9aHxvrQWP8/1ofG+tBY/z/Wh8b60Fj/P9aHxvrQWP8/1ofG+tBY/z/Wh8b60Fj/P9aHxvrQWP8/1ofG+tBY/z/Wh8b60Fj/P9aHxvrQWP8/1ofG+tBY/z/Wh8b60Fj/P9aHxvrQWP8/1ofG+tBY/z/Wh8b60Fj/P9aHxvrQWP8/1ofG+tBY/z/Wh8b60Fj/P9aHxvrQWP8/Cl5OwcspAEAKXk7ByykAQApeTsHLKQBACl5OwcspAEAKXk7ByykAQApeTsHLKQBACl5OwcspAEAKXk7ByykAQApeTsHLKQBACl5OwcspAEAKXk7ByykAQApeTsHLKQBACl5OwcspAEAKXk7ByykAQApeTsHLKQBACl5OwcspAEAKXk7ByykAQApeTsHLKQBACl5OwcspAEAKXk7ByykAQApeTsHLKQBACl5OwcspAEAKXk7ByykAQApeTsHLKQBACl5OwcspAEAKXk7ByykAQApeTsHLKQBACl5OwcspAEAKXk7ByykAQApeTsHLKQBACl5OwcspAEAKXk7ByykAQApeTsHLKQBACl5OwcspAEAKXk7ByykAQApeTsHLKQBACl5OwcspAEAKXk7ByykAQApeTsHLKQBACl5OwcspAEAKXk7ByykAQApeTsHLKQBACl5OwcspAEAKXk7ByykAQApeTsHLKQBACl5OwcspAEAKXk7ByykAQApeTsHLKQBACl5OwcspAEAKXk7ByykAQCp4OQUvpwBAKng5BS+nAEAqeDkFL6cAQCp4OQUvpwBAKng5BS+nAEAqeDkFL6cAQCp4OQUvpwBAKng5BS+nAEAqeDkFL6cAQCp4OQUvpwBAKng5BS+nAEAqeDkFL6cAQCp4OQUvpwBAKng5BS+nAEAqeDkFL6cAQCp4OQUvpwBAKng5BS+nAEAqeDkFL6cAQCp4OQUvpwBAKng5BS+nAEAqeDkFL6cAQCp4OQUvpwBAKng5BS+nAEAqeDkFL6cAQCp4OQUvpwBAKng5BS+nAEAqeDkFL6cAQCp4OQUvpwBAKng5BS+nAEAqeDkFL6cAQCp4OQUvpwBAKng5BS+nAEAqeDkFL6cAQCp4OQUvpwBAKng5BS+nAEAqeDkFL6cAQCp4OQUvpwBAKng5BS+nAEAqeDkFL6cAQCp4OQUvpwBAKng5BS+nAEAqeDkFL6cAQCp4OQUvpwBAKng5BS+nAEAqeDkFL6cAQCp4OQUvpwBAKng5BS+nAEAqeDkFL6cAQCp4OQUvpwBAKng5BS+nAEBJkiRJkiQBQEmSJEmSJAFASZIkSZIkAUBJkiRJkiQBQEmSJEmSJAFASZIkSZIkAUBJkiRJkiQBQEmSJEmSJAFASZIkSZIkAUBJkiRJkiQBQEmSJEmSJAFASZIkSZIkAUBJkiRJkiQBQEmSJEmSJAFASZIkSZIkAUBJkiRJkiQBQEmSJEmSJAFASZIkSZIkAUBJkiRJkiQBQEmSJEmSJAFASZIkSZIkAUBJkiRJkiQBQEmSJEmSJAFASZIkSZIkAUBJkiRJkiQBQEmSJEmSJAFASZIkSZIkAUBJkiRJkiQBQEmSJEmSJAFASZIkSZIkAUBJkiRJkiQBQEmSJEmSJAFASZIkSZIkAUBJkiRJkiQBQEmSJEmSJAFASZIkSZIkAUBJkiRJkiQBQEmSJEmSJAFASZIkSZIkAUBJkiRJkiQBQEmSJEmSJAFASZIkSZIkAUBJkiRJkiQBQEmSJEmSJAFASZIkSZIkAUBJkiRJkiQBQEmSJEmSJAFASZIkSZIkAUBJkiRJkiQBQEmSJEmSJAFAaKwPjfWhAUBorA+N9aEBQGisD431oQFAaKwPjfWhAUBorA+N9aEBQGisD431oQFAaKwPjfWhAUBorA+N9aEBQGisD431oQFAaKwPjfWhAUBorA+N9aEBQGisD431oQFAaKwPjfWhAUBorA+N9aEBQGisD431oQFAaKwPjfWhAUBorA+N9aEBQGisD431oQFAaKwPjfWhAUBorA+N9aEBQGisD431oQFAaKwPjfWhAUBorA+N9aEBQGisD431oQFAaKwPjfWhAUBorA+N9aEBQGisD431oQFAaKwPjfWhAUBorA+N9aEBQGisD431oQFAaKwPjfWhAUBorA+N9aEBQGisD431oQFAaKwPjfWhAUBorA+N9aEBQGisD431oQFAaKwPjfWhAUBorA+N9aEBQGisD431oQFAaKwPjfWhAUBorA+N9aEBQGisD431oQFAaKwPjfWhAUBorA+N9aEBQGisD431oQFAaKwPjfWhAUBorA+N9aEBQGisD431oQFAaKwPjfWhAUBorA+N9aEBQIjG+tBYHwJAiMb60FgfAkCIxvrQWB8CQIjG+tBYHwJAiMb60FgfAkCIxvrQWB8CQIjG+tBYHwJAiMb60FgfAkCIxvrQWB8CQIjG+tBYHwJAiMb60FgfAkCIxvrQWB8CQIjG+tBYHwJAiMb60FgfAkCIxvrQWB8CQIjG+tBYHwJAiMb60FgfAkCIxvrQWB8CQIjG+tBYHwJAiMb60FgfAkCIxvrQWB8CQIjG+tBYHwJAiMb60FgfAkCIxvrQWB8CQIjG+tBYHwJAiMb60FgfAkCIxvrQWB8CQIjG+tBYHwJAiMb60FgfAkCIxvrQWB8CQIjG+tBYHwJAiMb60FgfAkCIxvrQWB8CQIjG+tBYHwJAiMb60FgfAkCIxvrQWB8CQIjG+tBYHwJAiMb60FgfAkCIxvrQWB8CQIjG+tBYHwJAiMb60FgfAkCIxvrQWB8CQIjG+tBYHwJAiMb60FgfAkCIxvrQWB8CQIjG+tBYHwJAiMb60FgfAkCIxvrQWB8CQIjG+tBYHwJAiMb60FgfAkCn4OUUvJwCQKfg5RS8nAJAp+DlFLycAkCn4OUUvJwCQKfg5RS8nAJAp+DlFLycAkCn4OUUvJwCQKfg5RS8nAJAp+DlFLycAkCn4OUUvJwCQKfg5RS8nAJAp+DlFLycAkCn4OUUvJwCQKfg5RS8nAJAp+DlFLycAkCn4OUUvJwCQKfg5RS8nAJAp+DlFLycAkCn4OUUvJwCQKfg5RS8nAJAp+DlFLycAkCn4OUUvJwCQKfg5RS8nAJAp+DlFLycAkCn4OUUvJwCQKfg5RS8nAJAp+DlFLycAkCn4OUUvJwCQKfg5RS8nAJAp+DlFLycAkCn4OUUvJwCQKfg5RS8nAJAp+DlFLycAkCn4OUUvJwCQKfg5RS8nAJAp+DlFLycAkCn4OUUvJwCQKfg5RS8nAJAp+DlFLycAkCn4OUUvJwCQKfg5RS8nAJAp+DlFLycAkCn4OUUvJwCQKfg5RS8nAJAp+DlFLycAkCn4OUUvJwCQKfg5RS8nAJAp+DlFLycAkCn4OUUvJwCQKfg5RS8nAJAxvrQWB8aA0DG+tBYHxoDQMb60FgfGgNAxvrQWB8aA0DG+tBYHxoDQMb60FgfGgNAxvrQWB8aA0DG+tBYHxoDQMb60FgfGgNAxvrQWB8aA0DG+tBYHxoDQMb60FgfGgNAxvrQWB8aA0DG+tBYHxoDQMb60FgfGgNAxvrQWB8aA0DG+tBYHxoDQMb60FgfGgNAxvrQWB8aA0DG+tBYHxoDQMb60FgfGgNAxvrQWB8aA0DG+tBYHxoDQMb60FgfGgNAxvrQWB8aA0DG+tBYHxoDQMb60FgfGgNAxvrQWB8aA0DG+tBYHxoDQMb60FgfGgNAxvrQWB8aA0DG+tBYHxoDQMb60FgfGgNAxvrQWB8aA0DG+tBYHxoDQMb60FgfGgNAxvrQWB8aA0DG+tBYHxoDQMb60FgfGgNAxvrQWB8aA0DG+tBYHxoDQMb60FgfGgNAxvrQWB8aA0DG+tBYHxoDQMb60FgfGgNAxvrQWB8aA0DG+tBYHxoDQMb60FgfGgNAxvrQWB8aA0DG+tBYHxoDQOYUvJyClwNA5hS8nIKXA0DmFLycgpcDQOYUvJyClwNA5hS8nIKXA0DmFLycgpcDQOYUvJyClwNA5hS8nIKXA0DmFLycgpcDQOYUvJyClwNA5hS8nIKXA0DmFLycgpcDQOYUvJyClwNA5hS8nIKXA0DmFLycgpcDQOYUvJyClwNA5hS8nIKXA0DmFLycgpcDQOYUvJyClwNA5hS8nIKXA0DmFLycgpcDQOYUvJyClwNA5hS8nIKXA0DmFLycgpcDQOYUvJyClwNA5hS8nIKXA0DmFLycgpcDQOYUvJyClwNA5hS8nIKXA0DmFLycgpcDQOYUvJyClwNA5hS8nIKXA0DmFLycgpcDQOYUvJyClwNA5hS8nIKXA0DmFLycgpcDQOYUvJyClwNA5hS8nIKXA0DmFLycgpcDQOYUvJyClwNA5hS8nIKXA0DmFLycgpcDQOYUvJyClwNA5hS8nIKXA0DmFLycgpcDQOYUvJyClwNA5hS8nIKXA0DmFLycgpcDQOYUvJyClwNA5hS8nIKXA0AFL6fg5RQEQAUvp+DlFARABS+n4OUUBEAFL6fg5RQEQAUvp+DlFARABS+n4OUUBEAFL6fg5RQEQAUvp+DlFARABS+n4OUUBEAFL6fg5RQEQAUvp+DlFARABS+n4OUUBEAFL6fg5RQEQAUvp+DlFARABS+n4OUUBEAFL6fg5RQEQAUvp+DlFARABS+n4OUUBEAFL6fg5RQEQAUvp+DlFARABS+n4OUUBEAFL6fg5RQEQAUvp+DlFARABS+n4OUUBEAFL6fg5RQEQAUvp+DlFARABS+n4OUUBEAFL6fg5RQEQAUvp+DlFARABS+n4OUUBEAFL6fg5RQEQAUvp+DlFARABS+n4OUUBEAFL6fg5RQEQAUvp+DlFARABS+n4OUUBEAFL6fg5RQEQAUvp+DlFARABS+n4OUUBEAFL6fg5RQEQAUvp+DlFARABS+n4OUUBEAFL6fg5RQEQAUvp+DlFARABS+n4OUUBEAFL6fg5RQEQAUvp+DlFARABS+n4OUUBEAFL6fg5RQEQAUvp+DlFARAJEmSJEmSBEAkSZIkSZIEQCRJkiRJkgRAJEmSJEmSBEAkSZIkSZIEQCRJkiRJkgRAJEmSJEmSBEAkSZIkSZIEQCRJkiRJkgRAJEmSJEmSBEAkSZIkSZIEQCRJkiRJkgRAJEmSJEmSBEAkSZIkSZIEQCRJkiRJkgRAJEmSJEmSBEAkSZIkSZIEQCRJkiRJkgRAJEmSJEmSBEAkSZIkSZIEQCRJkiRJkgRAJEmSJEmSBEAkSZIkSZIEQCRJkiRJkgRAJEmSJEmSBEAkSZIkSZIEQCRJkiRJkgRAJEmSJEmSBEAkSZIkSZIEQCRJkiRJkgRAJEmSJEmSBEAkSZIkSZIEQCRJkiRJkgRAJEmSJEmSBEAkSZIkSZIEQCRJkiRJkgRAJEmSJEmSBEAkSZIkSZIEQCRJkiRJkgRAJEmSJEmSBEAkSZIkSZIEQCRJkiRJkgRAJEmSJEmSBEAkSZIkSZIEQCRJkiRJkgRAJEmSJEmSBEAkSZIkSZIEQCRJkiRJkgRAJEmSJEmSBEAkSZIkSZIEQERjfWisDwVARGN9aKwPBUBEY31orA8FQERjfWisDwVARGN9aKwPBUBEY31orA8FQERjfWisDwVARGN9aKwPBUBEY31orA8FQERjfWisDwVARGN9aKwPBUBEY31orA8FQERjfWisDwVARGN9aKwPBUBEY31orA8FQERjfWisDwVARGN9aKwPBUBEY31orA8FQERjfWisDwVARGN9aKwPBUBEY31orA8FQERjfWisDwVARGN9aKwPBUBEY31orA8FQERjfWisDwVARGN9aKwPBUBEY31orA8FQERjfWisDwVARGN9aKwPBUBEY31orA8FQERjfWisDwVARGN9aKwPBUBEY31orA8FQERjfWisDwVARGN9aKwPBUBEY31orA8FQERjfWisDwVARGN9aKwPBUBEY31orA8FQERjfWisDwVARGN9aKwPBUBEY31orA8FQERjfWisDwVARGN9aKwPBUBEY31orA8FQERjfWisDwVARGN9aKwPBUBEY31orA8FQERjfWisDwVARGN9aKwPBUBjfWisD40FQGN9aKwPjQVAY31orA+NBUBjfWisD40FQGN9aKwPjQVAY31orA+NBUBjfWisD40FQGN9aKwPjQVAY31orA+NBUBjfWisD40FQGN9aKwPjQVAY31orA+NBUBjfWisD40FQGN9aKwPjQVAY31orA+NBUBjfWisD40FQGN9aKwPjQVAY31orA+NBUBjfWisD40FQGN9aKwPjQVAY31orA+NBUBjfWisD40FQGN9aKwPjQVAY31orA+NBUBjfWisD40FQGN9aKwPjQVAY31orA+NBUBjfWisD40FQGN9aKwPjQVAY31orA+NBUBjfWisD40FQGN9aKwPjQVAY31orA+NBUBjfWisD40FQGN9aKwPjQVAY31orA+NBUBjfWisD40FQGN9aKwPjQVAY31orA+NBUBjfWisD40FQGN9aKwPjQVAY31orA+NBUBjfWisD40FQGN9aKwPjQVAY31orA+NBUBjfWisD40FQGN9aKwPjQVAY31orA+NBUBjfWisD40FQGN9aKwPjQVAgpdT8HIKBkCCl1PwcgoGQIKXU/ByCgZAgpdT8HIKBkCCl1PwcgoGQIKXU/ByCgZAgpdT8HIKBkCCl1PwcgoGQIKXU/ByCgZAgpdT8HIKBkCCl1PwcgoGQIKXU/ByCgZAgpdT8HIKBkCCl1PwcgoGQIKXU/ByCgZAgpdT8HIKBkCCl1PwcgoGQIKXU/ByCgZAgpdT8HIKBkCCl1PwcgoGQIKXU/ByCgZAgpdT8HIKBkCCl1PwcgoGQIKXU/ByCgZAgpdT8HIKBkCCl1PwcgoGQIKXU/ByCgZAgpdT8HIKBkCCl1PwcgoGQIKXU/ByCgZAgpdT8HIKBkCCl1PwcgoGQIKXU/ByCgZAgpdT8HIKBkCCl1PwcgoGQIKXU/ByCgZAgpdT8HIKBkCCl1PwcgoGQIKXU/ByCgZAgpdT8HIKBkCCl1PwcgoGQIKXU/ByCgZAgpdT8HIKBkCCl1PwcgoGQIKXU/ByCgZAgpdT8HIKBkCCl1PwcgoGQIKXU/ByCgZAgpdT8HIKBkCCl1PwcgoGQKKxPjTWhwZAorE+NNaHBkCisT401ocGQKKxPjTWhwZAorE+NNaHBkCisT401ocGQKKxPjTWhwZAorE+NNaHBkCisT401ocGQKKxPjTWhwZAorE+NNaHBkCisT401ocGQKKxPjTWhwZAorE+NNaHBkCisT401ocGQKKxPjTWhwZAorE+NNaHBkCisT401ocGQKKxPjTWhwZAorE+NNaHBkCisT401ocGQKKxPjTWhwZAorE+NNaHBkCisT401ocGQKKxPjTWhwZAorE+NNaHBkCisT401ocGQKKxPjTWhwZAorE+NNaHBkCisT401ocGQKKxPjTWhwZAorE+NNaHBkCisT401ocGQKKxPjTWhwZAorE+NNaHBkCisT401ocGQKKxPjTWhwZAorE+NNaHBkCisT401ocGQKKxPjTWhwZAorE+NNaHBkCisT401ocGQKKxPjTWhwZAorE+NNaHBkCisT401ocGQKKxPjTWhwZAorE+NNaHBkCisT401ocGQKKxPjTWhwZAorE+NNaHBkDByyl4OQUHQMHLKXg5BQdAwcspeDkFB0DByyl4OQUHQMHLKXg5BQdAwcspeDkFB0DByyl4OQUHQMHLKXg5BQdAwcspeDkFB0DByyl4OQUHQMHLKXg5BQdAwcspeDkFB0DByyl4OQUHQMHLKXg5BQdAwcspeDkFB0DByyl4OQUHQMHLKXg5BQdAwcspeDkFB0DByyl4OQUHQMHLKXg5BQdAwcspeDkFB0DByyl4OQUHQMHLKXg5BQdAwcspeDkFB0DByyl4OQUHQMHLKXg5BQdAwcspeDkFB0DByyl4OQUHQMHLKXg5BQdAwcspeDkFB0DByyl4OQUHQMHLKXg5BQdAwcspeDkFB0DByyl4OQUHQMHLKXg5BQdAwcspeDkFB0DByyl4OQUHQMHLKXg5BQdAwcspeDkFB0DByyl4OQUHQMHLKXg5BQdAwcspeDkFB0DByyl4OQUHQMHLKXg5BQdAwcspeDkFB0DByyl4OQUHQMHLKXg5BQdAwcspeDkFB0DByyl4OQUHQMHLKXg5BQdA4OUUvJyCB0Dg5RS8nIIHQODlFLycggdA4OUUvJyCB0Dg5RS8nIIHQODlFLycggdA4OUUvJyCB0Dg5RS8nIIHQODlFLycggdA4OUUvJyCB0Dg5RS8nIIHQODlFLycggdA4OUUvJyCB0Dg5RS8nIIHQODlFLycggdA4OUUvJyCB0Dg5RS8nIIHQODlFLycggdA4OUUvJyCB0Dg5RS8nIIHQODlFLycggdA4OUUvJyCB0Dg5RS8nIIHQODlFLycggdA4OUUvJyCB0Dg5RS8nIIHQODlFLycggdA4OUUvJyCB0Dg5RS8nIIHQODlFLycggdA4OUUvJyCB0Dg5RS8nIIHQODlFLycggdA4OUUvJyCB0Dg5RS8nIIHQODlFLycggdA4OUUvJyCB0Dg5RS8nIIHQODlFLycggdA4OUUvJyCB0Dg5RS8nIIHQODlFLycggdA4OUUvJyCB0Dg5RS8nIIHQODlFLycggdA4OUUvJyCB0Dg5RS8nIIHQODlFLycggdA4OUUvJyCB0Dg5RS8nIIHQAAAAAAAAAhAAAAAAAAACEAAAAAAAAAIQAAAAAAAAAhAAAAAAAAACEAAAAAAAAAIQAAAAAAAAAhAAAAAAAAACEAAAAAAAAAIQAAAAAAAAAhAAAAAAAAACEAAAAAAAAAIQAAAAAAAAAhAAAAAAAAACEAAAAAAAAAIQAAAAAAAAAhAAAAAAAAACEAAAAAAAAAIQAAAAAAAAAhAAAAAAAAACEAAAAAAAAAIQAAAAAAAAAhAAAAAAAAACEAAAAAAAAAIQAAAAAAAAAhAAAAAAAAACEAAAAAAAAAIQAAAAAAAAAhAAAAAAAAACEAAAAAAAAAIQAAAAAAAAAhAAAAAAAAACEAAAAAAAAAIQAAAAAAAAAhAAAAAAAAACEAAAAAAAAAIQAAAAAAAAAhAAAAAAAAACEAAAAAAAAAIQAAAAAAAAAhAAAAAAAAACEAAAAAAAAAIQAAAAAAAAAhAAAAAAAAACEAAAAAAAAAIQAAAAAAAAAhAAAAAAAAACEAAAAAAAAAIQAAAAAAAAAhAAAAAAAAACEA=",
          "shape": "50, 50"
         },
         "type": "surface"
        }
       ],
       "layout": {
        "legend": {
         "itemsizing": "constant",
         "tracegroupgap": 0
        },
        "margin": {
         "t": 60
        },
        "scene": {
         "domain": {
          "x": [
           0.0,
           1.0
          ],
          "y": [
           0.0,
           1.0
          ]
         },
         "xaxis": {
          "showgrid": false,
          "title": {
           "text": "V00MBMSFMC"
          }
         },
         "yaxis": {
          "showgrid": false,
          "title": {
           "text": "V00MBMNFMC"
          }
         },
         "zaxis": {
          "showgrid": false,
          "title": {
           "text": "V00MBMPFMC"
          }
         }
        },
        "template": {
         "data": {
          "barpolar": [
           {
            "marker": {
             "line": {
              "color": "rgb(17,17,17)",
              "width": 0.5
             },
             "pattern": {
              "fillmode": "overlay",
              "size": 10,
              "solidity": 0.2
             }
            },
            "type": "barpolar"
           }
          ],
          "bar": [
           {
            "error_x": {
             "color": "#f2f5fa"
            },
            "error_y": {
             "color": "#f2f5fa"
            },
            "marker": {
             "line": {
              "color": "rgb(17,17,17)",
              "width": 0.5
             },
             "pattern": {
              "fillmode": "overlay",
              "size": 10,
              "solidity": 0.2
             }
            },
            "type": "bar"
           }
          ],
          "carpet": [
           {
            "aaxis": {
             "endlinecolor": "#A2B1C6",
             "gridcolor": "#506784",
             "linecolor": "#506784",
             "minorgridcolor": "#506784",
             "startlinecolor": "#A2B1C6"
            },
            "baxis": {
             "endlinecolor": "#A2B1C6",
             "gridcolor": "#506784",
             "linecolor": "#506784",
             "minorgridcolor": "#506784",
             "startlinecolor": "#A2B1C6"
            },
            "type": "carpet"
           }
          ],
          "choropleth": [
           {
            "colorbar": {
             "outlinewidth": 0,
             "ticks": ""
            },
            "type": "choropleth"
           }
          ],
          "contourcarpet": [
           {
            "colorbar": {
             "outlinewidth": 0,
             "ticks": ""
            },
            "type": "contourcarpet"
           }
          ],
          "contour": [
           {
            "colorbar": {
             "outlinewidth": 0,
             "ticks": ""
            },
            "colorscale": [
             [
              0.0,
              "#0d0887"
             ],
             [
              0.1111111111111111,
              "#46039f"
             ],
             [
              0.2222222222222222,
              "#7201a8"
             ],
             [
              0.3333333333333333,
              "#9c179e"
             ],
             [
              0.4444444444444444,
              "#bd3786"
             ],
             [
              0.5555555555555556,
              "#d8576b"
             ],
             [
              0.6666666666666666,
              "#ed7953"
             ],
             [
              0.7777777777777778,
              "#fb9f3a"
             ],
             [
              0.8888888888888888,
              "#fdca26"
             ],
             [
              1.0,
              "#f0f921"
             ]
            ],
            "type": "contour"
           }
          ],
          "heatmap": [
           {
            "colorbar": {
             "outlinewidth": 0,
             "ticks": ""
            },
            "colorscale": [
             [
              0.0,
              "#0d0887"
             ],
             [
              0.1111111111111111,
              "#46039f"
             ],
             [
              0.2222222222222222,
              "#7201a8"
             ],
             [
              0.3333333333333333,
              "#9c179e"
             ],
             [
              0.4444444444444444,
              "#bd3786"
             ],
             [
              0.5555555555555556,
              "#d8576b"
             ],
             [
              0.6666666666666666,
              "#ed7953"
             ],
             [
              0.7777777777777778,
              "#fb9f3a"
             ],
             [
              0.8888888888888888,
              "#fdca26"
             ],
             [
              1.0,
              "#f0f921"
             ]
            ],
            "type": "heatmap"
           }
          ],
          "histogram2dcontour": [
           {
            "colorbar": {
             "outlinewidth": 0,
             "ticks": ""
            },
            "colorscale": [
             [
              0.0,
              "#0d0887"
             ],
             [
              0.1111111111111111,
              "#46039f"
             ],
             [
              0.2222222222222222,
              "#7201a8"
             ],
             [
              0.3333333333333333,
              "#9c179e"
             ],
             [
              0.4444444444444444,
              "#bd3786"
             ],
             [
              0.5555555555555556,
              "#d8576b"
             ],
             [
              0.6666666666666666,
              "#ed7953"
             ],
             [
              0.7777777777777778,
              "#fb9f3a"
             ],
             [
              0.8888888888888888,
              "#fdca26"
             ],
             [
              1.0,
              "#f0f921"
             ]
            ],
            "type": "histogram2dcontour"
           }
          ],
          "histogram2d": [
           {
            "colorbar": {
             "outlinewidth": 0,
             "ticks": ""
            },
            "colorscale": [
             [
              0.0,
              "#0d0887"
             ],
             [
              0.1111111111111111,
              "#46039f"
             ],
             [
              0.2222222222222222,
              "#7201a8"
             ],
             [
              0.3333333333333333,
              "#9c179e"
             ],
             [
              0.4444444444444444,
              "#bd3786"
             ],
             [
              0.5555555555555556,
              "#d8576b"
             ],
             [
              0.6666666666666666,
              "#ed7953"
             ],
             [
              0.7777777777777778,
              "#fb9f3a"
             ],
             [
              0.8888888888888888,
              "#fdca26"
             ],
             [
              1.0,
              "#f0f921"
             ]
            ],
            "type": "histogram2d"
           }
          ],
          "histogram": [
           {
            "marker": {
             "pattern": {
              "fillmode": "overlay",
              "size": 10,
              "solidity": 0.2
             }
            },
            "type": "histogram"
           }
          ],
          "mesh3d": [
           {
            "colorbar": {
             "outlinewidth": 0,
             "ticks": ""
            },
            "type": "mesh3d"
           }
          ],
          "parcoords": [
           {
            "line": {
             "colorbar": {
              "outlinewidth": 0,
              "ticks": ""
             }
            },
            "type": "parcoords"
           }
          ],
          "pie": [
           {
            "automargin": true,
            "type": "pie"
           }
          ],
          "scatter3d": [
           {
            "line": {
             "colorbar": {
              "outlinewidth": 0,
              "ticks": ""
             }
            },
            "marker": {
             "colorbar": {
              "outlinewidth": 0,
              "ticks": ""
             }
            },
            "type": "scatter3d"
           }
          ],
          "scattercarpet": [
           {
            "marker": {
             "colorbar": {
              "outlinewidth": 0,
              "ticks": ""
             }
            },
            "type": "scattercarpet"
           }
          ],
          "scattergeo": [
           {
            "marker": {
             "colorbar": {
              "outlinewidth": 0,
              "ticks": ""
             }
            },
            "type": "scattergeo"
           }
          ],
          "scattergl": [
           {
            "marker": {
             "line": {
              "color": "#283442"
             }
            },
            "type": "scattergl"
           }
          ],
          "scattermapbox": [
           {
            "marker": {
             "colorbar": {
              "outlinewidth": 0,
              "ticks": ""
             }
            },
            "type": "scattermapbox"
           }
          ],
          "scattermap": [
           {
            "marker": {
             "colorbar": {
              "outlinewidth": 0,
              "ticks": ""
             }
            },
            "type": "scattermap"
           }
          ],
          "scatterpolargl": [
           {
            "marker": {
             "colorbar": {
              "outlinewidth": 0,
              "ticks": ""
             }
            },
            "type": "scatterpolargl"
           }
          ],
          "scatterpolar": [
           {
            "marker": {
             "colorbar": {
              "outlinewidth": 0,
              "ticks": ""
             }
            },
            "type": "scatterpolar"
           }
          ],
          "scatter": [
           {
            "marker": {
             "line": {
              "color": "#283442"
             }
            },
            "type": "scatter"
           }
          ],
          "scatterternary": [
           {
            "marker": {
             "colorbar": {
              "outlinewidth": 0,
              "ticks": ""
             }
            },
            "type": "scatterternary"
           }
          ],
          "surface": [
           {
            "colorbar": {
             "outlinewidth": 0,
             "ticks": ""
            },
            "colorscale": [
             [
              0.0,
              "#0d0887"
             ],
             [
              0.1111111111111111,
              "#46039f"
             ],
             [
              0.2222222222222222,
              "#7201a8"
             ],
             [
              0.3333333333333333,
              "#9c179e"
             ],
             [
              0.4444444444444444,
              "#bd3786"
             ],
             [
              0.5555555555555556,
              "#d8576b"
             ],
             [
              0.6666666666666666,
              "#ed7953"
             ],
             [
              0.7777777777777778,
              "#fb9f3a"
             ],
             [
              0.8888888888888888,
              "#fdca26"
             ],
             [
              1.0,
              "#f0f921"
             ]
            ],
            "type": "surface"
           }
          ],
          "table": [
           {
            "cells": {
             "fill": {
              "color": "#506784"
             },
             "line": {
              "color": "rgb(17,17,17)"
             }
            },
            "header": {
             "fill": {
              "color": "#2a3f5f"
             },
             "line": {
              "color": "rgb(17,17,17)"
             }
            },
            "type": "table"
           }
          ]
         },
         "layout": {
          "annotationdefaults": {
           "arrowcolor": "#f2f5fa",
           "arrowhead": 0,
           "arrowwidth": 1
          },
          "autotypenumbers": "strict",
          "coloraxis": {
           "colorbar": {
            "outlinewidth": 0,
            "ticks": ""
           }
          },
          "colorscale": {
           "diverging": [
            [
             0,
             "#8e0152"
            ],
            [
             0.1,
             "#c51b7d"
            ],
            [
             0.2,
             "#de77ae"
            ],
            [
             0.3,
             "#f1b6da"
            ],
            [
             0.4,
             "#fde0ef"
            ],
            [
             0.5,
             "#f7f7f7"
            ],
            [
             0.6,
             "#e6f5d0"
            ],
            [
             0.7,
             "#b8e186"
            ],
            [
             0.8,
             "#7fbc41"
            ],
            [
             0.9,
             "#4d9221"
            ],
            [
             1,
             "#276419"
            ]
           ],
           "sequential": [
            [
             0.0,
             "#0d0887"
            ],
            [
             0.1111111111111111,
             "#46039f"
            ],
            [
             0.2222222222222222,
             "#7201a8"
            ],
            [
             0.3333333333333333,
             "#9c179e"
            ],
            [
             0.4444444444444444,
             "#bd3786"
            ],
            [
             0.5555555555555556,
             "#d8576b"
            ],
            [
             0.6666666666666666,
             "#ed7953"
            ],
            [
             0.7777777777777778,
             "#fb9f3a"
            ],
            [
             0.8888888888888888,
             "#fdca26"
            ],
            [
             1.0,
             "#f0f921"
            ]
           ],
           "sequentialminus": [
            [
             0.0,
             "#0d0887"
            ],
            [
             0.1111111111111111,
             "#46039f"
            ],
            [
             0.2222222222222222,
             "#7201a8"
            ],
            [
             0.3333333333333333,
             "#9c179e"
            ],
            [
             0.4444444444444444,
             "#bd3786"
            ],
            [
             0.5555555555555556,
             "#d8576b"
            ],
            [
             0.6666666666666666,
             "#ed7953"
            ],
            [
             0.7777777777777778,
             "#fb9f3a"
            ],
            [
             0.8888888888888888,
             "#fdca26"
            ],
            [
             1.0,
             "#f0f921"
            ]
           ]
          },
          "colorway": [
           "#636efa",
           "#EF553B",
           "#00cc96",
           "#ab63fa",
           "#FFA15A",
           "#19d3f3",
           "#FF6692",
           "#B6E880",
           "#FF97FF",
           "#FECB52"
          ],
          "font": {
           "color": "#f2f5fa"
          },
          "geo": {
           "bgcolor": "rgb(17,17,17)",
           "lakecolor": "rgb(17,17,17)",
           "landcolor": "rgb(17,17,17)",
           "showlakes": true,
           "showland": true,
           "subunitcolor": "#506784"
          },
          "hoverlabel": {
           "align": "left"
          },
          "hovermode": "closest",
          "mapbox": {
           "style": "dark"
          },
          "paper_bgcolor": "rgb(17,17,17)",
          "plot_bgcolor": "rgb(17,17,17)",
          "polar": {
           "angularaxis": {
            "gridcolor": "#506784",
            "linecolor": "#506784",
            "ticks": ""
           },
           "bgcolor": "rgb(17,17,17)",
           "radialaxis": {
            "gridcolor": "#506784",
            "linecolor": "#506784",
            "ticks": ""
           }
          },
          "scene": {
           "xaxis": {
            "backgroundcolor": "rgb(17,17,17)",
            "gridcolor": "#506784",
            "gridwidth": 2,
            "linecolor": "#506784",
            "showbackground": true,
            "ticks": "",
            "zerolinecolor": "#C8D4E3"
           },
           "yaxis": {
            "backgroundcolor": "rgb(17,17,17)",
            "gridcolor": "#506784",
            "gridwidth": 2,
            "linecolor": "#506784",
            "showbackground": true,
            "ticks": "",
            "zerolinecolor": "#C8D4E3"
           },
           "zaxis": {
            "backgroundcolor": "rgb(17,17,17)",
            "gridcolor": "#506784",
            "gridwidth": 2,
            "linecolor": "#506784",
            "showbackground": true,
            "ticks": "",
            "zerolinecolor": "#C8D4E3"
           }
          },
          "shapedefaults": {
           "line": {
            "color": "#f2f5fa"
           }
          },
          "sliderdefaults": {
           "bgcolor": "#C8D4E3",
           "bordercolor": "rgb(17,17,17)",
           "borderwidth": 1,
           "tickwidth": 0
          },
          "ternary": {
           "aaxis": {
            "gridcolor": "#506784",
            "linecolor": "#506784",
            "ticks": ""
           },
           "baxis": {
            "gridcolor": "#506784",
            "linecolor": "#506784",
            "ticks": ""
           },
           "bgcolor": "rgb(17,17,17)",
           "caxis": {
            "gridcolor": "#506784",
            "linecolor": "#506784",
            "ticks": ""
           }
          },
          "title": {
           "x": 0.05
          },
          "updatemenudefaults": {
           "bgcolor": "#506784",
           "borderwidth": 0
          },
          "xaxis": {
           "automargin": true,
           "gridcolor": "#283442",
           "linecolor": "#506784",
           "ticks": "",
           "title": {
            "standoff": 15
           },
           "zerolinecolor": "#283442",
           "zerolinewidth": 2
          },
          "yaxis": {
           "automargin": true,
           "gridcolor": "#283442",
           "linecolor": "#506784",
           "ticks": "",
           "title": {
            "standoff": 15
           },
           "zerolinecolor": "#283442",
           "zerolinewidth": 2
          }
         }
        },
        "title": {
         "text": "V00MBMPFMC ~ V00MBMNFMC + V00MBMSFMC + I(V00MBMNFMC**2) + I(V00MBMSFMC**2) + I(V00MBMNFMC**3) + I(V00MBMSFMC**3)",
         "x": 0.5,
         "xanchor": "center"
        }
       },
       "config": {
        "plotlyServerURL": "https://plot.ly"
       }
      }
     },
     "metadata": {},
     "output_type": "display_data"
    }
   ],
   "execution_count": 9
  },
  {
   "metadata": {
    "ExecuteTime": {
     "end_time": "2025-08-12T16:50:45.155717Z",
     "start_time": "2025-08-12T16:50:45.130927Z"
    }
   },
   "cell_type": "code",
   "source": [
    "fmp_surface = plot_moaks_data_regression_surface(moaks_3d_fmp_scatter, v00_moaks_shared_kl_fmp, fmp_relationships_df, 28)\n",
    "fmp_surface.show()"
   ],
   "id": "118003c32d5b09a8",
   "outputs": [
    {
     "data": {
      "application/vnd.plotly.v1+json": {
       "data": [
        {
         "hovertemplate": "V00MBMSFMP=%{x}<br>V00MBMNFMP=%{y}<br>V00MBMPFMP=%{z}<br>count=%{marker.size}<extra></extra>",
         "legendgroup": "",
         "marker": {
          "color": "#636efa",
          "opacity": 0.8,
          "size": {
           "dtype": "i2",
           "bdata": "VQoBAAEAAQAOAAcAHQBqAAIABAACAAUAAgAOABgAAQAFAAEAAQAKAAUAAQABAAEA"
          },
          "sizemode": "area",
          "sizeref": 1.653125,
          "symbol": "circle"
         },
         "mode": "markers",
         "name": "",
         "scene": "scene",
         "showlegend": false,
         "x": {
          "dtype": "f8",
          "bdata": "AAAAAAAAAAAAAAAAAAAAAAAAAAAAAPA/AAAAAAAA8D8AAAAAAADwPwAAAAAAAPA/AAAAAAAA8D8AAAAAAADwPwAAAAAAAPA/AAAAAAAA8D8AAAAAAADwPwAAAAAAAPA/AAAAAAAAAEAAAAAAAAAAQAAAAAAAAABAAAAAAAAAAEAAAAAAAAAAQAAAAAAAAABAAAAAAAAAAEAAAAAAAAAIQAAAAAAAAAhAAAAAAAAACEAAAAAAAAAIQAAAAAAAAAhA"
         },
         "y": {
          "dtype": "f8",
          "bdata": "AAAAAAAAAAAAAAAAAADwPwAAAAAAAAAAAAAAAAAAAAAAAAAAAADwPwAAAAAAAPA/AAAAAAAA8D8AAAAAAADwPwAAAAAAAABAAAAAAAAAAEAAAAAAAAAIQAAAAAAAAAhAAAAAAAAA8D8AAAAAAADwPwAAAAAAAPA/AAAAAAAAAEAAAAAAAAAAQAAAAAAAAAhAAAAAAAAACEAAAAAAAADwPwAAAAAAAPA/AAAAAAAAAEAAAAAAAAAIQAAAAAAAAAhA"
         },
         "z": {
          "dtype": "f8",
          "bdata": "AAAAAAAAAAAAAAAAAAAAAAAAAAAAAAAAAAAAAAAACEAAAAAAAAAAAAAAAAAAAPA/AAAAAAAAAEAAAAAAAAAIQAAAAAAAAABAAAAAAAAACEAAAAAAAAAAQAAAAAAAAAhAAAAAAAAA8D8AAAAAAAAAQAAAAAAAAAhAAAAAAAAAAEAAAAAAAAAIQAAAAAAAAPA/AAAAAAAACEAAAAAAAAAAQAAAAAAAAAhAAAAAAAAACEAAAAAAAAAAQAAAAAAAAAhA"
         },
         "type": "scatter3d"
        },
        {
         "colorscale": [
          [
           0.0,
           "rgb(255,255,217)"
          ],
          [
           0.125,
           "rgb(237,248,177)"
          ],
          [
           0.25,
           "rgb(199,233,180)"
          ],
          [
           0.375,
           "rgb(127,205,187)"
          ],
          [
           0.5,
           "rgb(65,182,196)"
          ],
          [
           0.625,
           "rgb(29,145,192)"
          ],
          [
           0.75,
           "rgb(34,94,168)"
          ],
          [
           0.875,
           "rgb(37,52,148)"
          ],
          [
           1.0,
           "rgb(8,29,88)"
          ]
         ],
         "opacity": 0.3,
         "showscale": false,
         "x": {
          "dtype": "f8",
          "bdata": "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",
          "shape": "50, 50"
         },
         "y": {
          "dtype": "f8",
          "bdata": "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",
          "shape": "50, 50"
         },
         "z": {
          "dtype": "f8",
          "bdata": "AAAAAAAAAAAAAAAAAAAAAAAAAAAAAAAAAAAAAAAAAAAAAAAAAAAAAAAAAAAAAAAAAAAAAAAAAAAAAAAAAAAAAAAAAAAAAAAAAAAAAAAAAAAAAAAAAAAAAAAAAAAAAAAAAAAAAAAAAAAAAAAAAAAAAAAAAAAAAAAAAAAAAAAAAAAAAAAAAAAAAAAAAAAAAAAAAAAAAAAAAAAAAAAAAAAAAAAAAAAAAAAAAAAAAAAAAAAAAAAAAAAAAAAAAAAAAAAAAAAAAAAAAAAAAAAAAAAAAAAAAAAAAAAAAAAAAAAAAAAAAAAAAAAAAAAAAAAAAAAAAAAAAAAAAAAAAAAAAAAAAAAAAAAAAAAAAAAAAAAAAAAAAAAAAAAAAAAAAAAAAAAAAAAAAAAAAAAAAAAAAAAAAAAAAAAAAAAAAAAAAAAAAAAAAAAAAAAAAAAAAAAAAAAAAAAAAAAAAAAAAAAAAAAAAAAAAAAAAAAAAAAAAAAAAAAAAAAAAAAAAAAAAAAAAAAAAAAAAAAAAAAAAAAAAAAAANaHxvrQWK8/1ofG+tBYrz/Wh8b60FivP9aHxvrQWK8/1ofG+tBYrz/Wh8b60FivP9aHxvrQWK8/1ofG+tBYrz/Wh8b60FivP9aHxvrQWK8/1ofG+tBYrz/Wh8b60FivP9aHxvrQWK8/1ofG+tBYrz/Wh8b60FivP9aHxvrQWK8/1ofG+tBYrz/Wh8b60FivP9aHxvrQWK8/1ofG+tBYrz/Wh8b60FivP9aHxvrQWK8/1ofG+tBYrz/Wh8b60FivP9aHxvrQWK8/1ofG+tBYrz/Wh8b60FivP9aHxvrQWK8/1ofG+tBYrz/Wh8b60FivP9aHxvrQWK8/1ofG+tBYrz/Wh8b60FivP9aHxvrQWK8/1ofG+tBYrz/Wh8b60FivP9aHxvrQWK8/1ofG+tBYrz/Wh8b60FivP9aHxvrQWK8/1ofG+tBYrz/Wh8b60FivP9aHxvrQWK8/1ofG+tBYrz/Wh8b60FivP9aHxvrQWK8/1ofG+tBYrz/Wh8b60FivP9aHxvrQWK8/1ofG+tBYrz/Wh8b60Fi/P9aHxvrQWL8/1ofG+tBYvz/Wh8b60Fi/P9aHxvrQWL8/1ofG+tBYvz/Wh8b60Fi/P9aHxvrQWL8/1ofG+tBYvz/Wh8b60Fi/P9aHxvrQWL8/1ofG+tBYvz/Wh8b60Fi/P9aHxvrQWL8/1ofG+tBYvz/Wh8b60Fi/P9aHxvrQWL8/1ofG+tBYvz/Wh8b60Fi/P9aHxvrQWL8/1ofG+tBYvz/Wh8b60Fi/P9aHxvrQWL8/1ofG+tBYvz/Wh8b60Fi/P9aHxvrQWL8/1ofG+tBYvz/Wh8b60Fi/P9aHxvrQWL8/1ofG+tBYvz/Wh8b60Fi/P9aHxvrQWL8/1ofG+tBYvz/Wh8b60Fi/P9aHxvrQWL8/1ofG+tBYvz/Wh8b60Fi/P9aHxvrQWL8/1ofG+tBYvz/Wh8b60Fi/P9aHxvrQWL8/1ofG+tBYvz/Wh8b60Fi/P9aHxvrQWL8/1ofG+tBYvz/Wh8b60Fi/P9aHxvrQWL8/1ofG+tBYvz/Wh8b60Fi/P9aHxvrQWL8/4OUUvJyCxz/g5RS8nILHP+DlFLycgsc/4OUUvJyCxz/g5RS8nILHP+DlFLycgsc/4OUUvJyCxz/g5RS8nILHP+DlFLycgsc/4OUUvJyCxz/g5RS8nILHP+DlFLycgsc/4OUUvJyCxz/g5RS8nILHP+DlFLycgsc/4OUUvJyCxz/g5RS8nILHP+DlFLycgsc/4OUUvJyCxz/g5RS8nILHP+DlFLycgsc/4OUUvJyCxz/g5RS8nILHP+DlFLycgsc/4OUUvJyCxz/g5RS8nILHP+DlFLycgsc/4OUUvJyCxz/g5RS8nILHP+DlFLycgsc/4OUUvJyCxz/g5RS8nILHP+DlFLycgsc/4OUUvJyCxz/g5RS8nILHP+DlFLycgsc/4OUUvJyCxz/g5RS8nILHP+DlFLycgsc/4OUUvJyCxz/g5RS8nILHP+DlFLycgsc/4OUUvJyCxz/g5RS8nILHP+DlFLycgsc/4OUUvJyCxz/g5RS8nILHP+DlFLycgsc/4OUUvJyCxz/g5RS8nILHP9aHxvrQWM8/1ofG+tBYzz/Wh8b60FjPP9aHxvrQWM8/1ofG+tBYzz/Wh8b60FjPP9aHxvrQWM8/1ofG+tBYzz/Wh8b60FjPP9aHxvrQWM8/1ofG+tBYzz/Wh8b60FjPP9aHxvrQWM8/1ofG+tBYzz/Wh8b60FjPP9aHxvrQWM8/1ofG+tBYzz/Wh8b60FjPP9aHxvrQWM8/1ofG+tBYzz/Wh8b60FjPP9aHxvrQWM8/1ofG+tBYzz/Wh8b60FjPP9aHxvrQWM8/1ofG+tBYzz/Wh8b60FjPP9aHxvrQWM8/1ofG+tBYzz/Wh8b60FjPP9aHxvrQWM8/1ofG+tBYzz/Wh8b60FjPP9aHxvrQWM8/1ofG+tBYzz/Wh8b60FjPP9aHxvrQWM8/1ofG+tBYzz/Wh8b60FjPP9aHxvrQWM8/1ofG+tBYzz/Wh8b60FjPP9aHxvrQWM8/1ofG+tBYzz/Wh8b60FjPP9aHxvrQWM8/1ofG+tBYzz/Wh8b60FjPP9aHxvrQWM8/1ofG+tBYzz/mFLycgpfTP+YUvJyCl9M/5hS8nIKX0z/mFLycgpfTP+YUvJyCl9M/5hS8nIKX0z/mFLycgpfTP+YUvJyCl9M/5hS8nIKX0z/mFLycgpfTP+YUvJyCl9M/5hS8nIKX0z/mFLycgpfTP+YUvJyCl9M/5hS8nIKX0z/mFLycgpfTP+YUvJyCl9M/5hS8nIKX0z/mFLycgpfTP+YUvJyCl9M/5hS8nIKX0z/mFLycgpfTP+YUvJyCl9M/5hS8nIKX0z/mFLycgpfTP+YUvJyCl9M/5hS8nIKX0z/mFLycgpfTP+YUvJyCl9M/5hS8nIKX0z/mFLycgpfTP+YUvJyCl9M/5hS8nIKX0z/mFLycgpfTP+YUvJyCl9M/5hS8nIKX0z/mFLycgpfTP+YUvJyCl9M/5hS8nIKX0z/mFLycgpfTP+YUvJyCl9M/5hS8nIKX0z/mFLycgpfTP+YUvJyCl9M/5hS8nIKX0z/mFLycgpfTP+YUvJyCl9M/5hS8nIKX0z/mFLycgpfTP+YUvJyCl9M/4OUUvJyC1z/g5RS8nILXP+DlFLycgtc/4OUUvJyC1z/g5RS8nILXP+DlFLycgtc/4OUUvJyC1z/g5RS8nILXP+DlFLycgtc/4OUUvJyC1z/g5RS8nILXP+DlFLycgtc/4OUUvJyC1z/g5RS8nILXP+DlFLycgtc/4OUUvJyC1z/g5RS8nILXP+DlFLycgtc/4OUUvJyC1z/g5RS8nILXP+DlFLycgtc/4OUUvJyC1z/g5RS8nILXP+DlFLycgtc/4OUUvJyC1z/g5RS8nILXP+DlFLycgtc/4OUUvJyC1z/g5RS8nILXP+DlFLycgtc/4OUUvJyC1z/g5RS8nILXP+DlFLycgtc/4OUUvJyC1z/g5RS8nILXP+DlFLycgtc/4OUUvJyC1z/g5RS8nILXP+DlFLycgtc/4OUUvJyC1z/g5RS8nILXP+DlFLycgtc/4OUUvJyC1z/g5RS8nILXP+DlFLycgtc/4OUUvJyC1z/g5RS8nILXP+DlFLycgtc/4OUUvJyC1z/g5RS8nILXP9u2bdu2bds/27Zt27Zt2z/btm3btm3bP9u2bdu2bds/27Zt27Zt2z/btm3btm3bP9u2bdu2bds/27Zt27Zt2z/btm3btm3bP9u2bdu2bds/27Zt27Zt2z/btm3btm3bP9u2bdu2bds/27Zt27Zt2z/btm3btm3bP9u2bdu2bds/27Zt27Zt2z/btm3btm3bP9u2bdu2bds/27Zt27Zt2z/btm3btm3bP9u2bdu2bds/27Zt27Zt2z/btm3btm3bP9u2bdu2bds/27Zt27Zt2z/btm3btm3bP9u2bdu2bds/27Zt27Zt2z/btm3btm3bP9u2bdu2bds/27Zt27Zt2z/btm3btm3bP9u2bdu2bds/27Zt27Zt2z/btm3btm3bP9u2bdu2bds/27Zt27Zt2z/btm3btm3bP9u2bdu2bds/27Zt27Zt2z/btm3btm3bP9u2bdu2bds/27Zt27Zt2z/btm3btm3bP9u2bdu2bds/27Zt27Zt2z/btm3btm3bP9u2bdu2bds/27Zt27Zt2z/Wh8b60FjfP9aHxvrQWN8/1ofG+tBY3z/Wh8b60FjfP9aHxvrQWN8/1ofG+tBY3z/Wh8b60FjfP9aHxvrQWN8/1ofG+tBY3z/Wh8b60FjfP9aHxvrQWN8/1ofG+tBY3z/Wh8b60FjfP9aHxvrQWN8/1ofG+tBY3z/Wh8b60FjfP9aHxvrQWN8/1ofG+tBY3z/Wh8b60FjfP9aHxvrQWN8/1ofG+tBY3z/Wh8b60FjfP9aHxvrQWN8/1ofG+tBY3z/Wh8b60FjfP9aHxvrQWN8/1ofG+tBY3z/Wh8b60FjfP9aHxvrQWN8/1ofG+tBY3z/Wh8b60FjfP9aHxvrQWN8/1ofG+tBY3z/Wh8b60FjfP9aHxvrQWN8/1ofG+tBY3z/Wh8b60FjfP9aHxvrQWN8/1ofG+tBY3z/Wh8b60FjfP9aHxvrQWN8/1ofG+tBY3z/Wh8b60FjfP9aHxvrQWN8/1ofG+tBY3z/Wh8b60FjfP9aHxvrQWN8/1ofG+tBY3z/Wh8b60FjfP9aHxvrQWN8/aKwPjfWh4T9orA+N9aHhP2isD431oeE/aKwPjfWh4T9orA+N9aHhP2isD431oeE/aKwPjfWh4T9orA+N9aHhP2isD431oeE/aKwPjfWh4T9orA+N9aHhP2isD431oeE/aKwPjfWh4T9orA+N9aHhP2isD431oeE/aKwPjfWh4T9orA+N9aHhP2isD431oeE/aKwPjfWh4T9orA+N9aHhP2isD431oeE/aKwPjfWh4T9orA+N9aHhP2isD431oeE/aKwPjfWh4T9orA+N9aHhP2isD431oeE/aKwPjfWh4T9orA+N9aHhP2isD431oeE/aKwPjfWh4T9orA+N9aHhP2isD431oeE/aKwPjfWh4T9orA+N9aHhP2isD431oeE/aKwPjfWh4T9orA+N9aHhP2isD431oeE/aKwPjfWh4T9orA+N9aHhP2isD431oeE/aKwPjfWh4T9orA+N9aHhP2isD431oeE/aKwPjfWh4T9orA+N9aHhP2isD431oeE/aKwPjfWh4T9orA+N9aHhP+YUvJyCl+M/5hS8nIKX4z/mFLycgpfjP+YUvJyCl+M/5hS8nIKX4z/mFLycgpfjP+YUvJyCl+M/5hS8nIKX4z/mFLycgpfjP+YUvJyCl+M/5hS8nIKX4z/mFLycgpfjP+YUvJyCl+M/5hS8nIKX4z/mFLycgpfjP+YUvJyCl+M/5hS8nIKX4z/mFLycgpfjP+YUvJyCl+M/5hS8nIKX4z/mFLycgpfjP+YUvJyCl+M/5hS8nIKX4z/mFLycgpfjP+YUvJyCl+M/5hS8nIKX4z/mFLycgpfjP+YUvJyCl+M/5hS8nIKX4z/mFLycgpfjP+YUvJyCl+M/5hS8nIKX4z/mFLycgpfjP+YUvJyCl+M/5hS8nIKX4z/mFLycgpfjP+YUvJyCl+M/5hS8nIKX4z/mFLycgpfjP+YUvJyCl+M/5hS8nIKX4z/mFLycgpfjP+YUvJyCl+M/5hS8nIKX4z/mFLycgpfjP+YUvJyCl+M/5hS8nIKX4z/mFLycgpfjP+YUvJyCl+M/5hS8nIKX4z9jfWisD43lP2N9aKwPjeU/Y31orA+N5T9jfWisD43lP2N9aKwPjeU/Y31orA+N5T9jfWisD43lP2N9aKwPjeU/Y31orA+N5T9jfWisD43lP2N9aKwPjeU/Y31orA+N5T9jfWisD43lP2N9aKwPjeU/Y31orA+N5T9jfWisD43lP2N9aKwPjeU/Y31orA+N5T9jfWisD43lP2N9aKwPjeU/Y31orA+N5T9jfWisD43lP2N9aKwPjeU/Y31orA+N5T9jfWisD43lP2N9aKwPjeU/Y31orA+N5T9jfWisD43lP2N9aKwPjeU/Y31orA+N5T9jfWisD43lP2N9aKwPjeU/Y31orA+N5T9jfWisD43lP2N9aKwPjeU/Y31orA+N5T9jfWisD43lP2N9aKwPjeU/Y31orA+N5T9jfWisD43lP2N9aKwPjeU/Y31orA+N5T9jfWisD43lP2N9aKwPjeU/Y31orA+N5T9jfWisD43lP2N9aKwPjeU/Y31orA+N5T9jfWisD43lP2N9aKwPjeU/4OUUvJyC5z/g5RS8nILnP+DlFLycguc/4OUUvJyC5z/g5RS8nILnP+DlFLycguc/4OUUvJyC5z/g5RS8nILnP+DlFLycguc/4OUUvJyC5z/g5RS8nILnP+DlFLycguc/4OUUvJyC5z/g5RS8nILnP+DlFLycguc/4OUUvJyC5z/g5RS8nILnP+DlFLycguc/4OUUvJyC5z/g5RS8nILnP+DlFLycguc/4OUUvJyC5z/g5RS8nILnP+DlFLycguc/4OUUvJyC5z/g5RS8nILnP+DlFLycguc/4OUUvJyC5z/g5RS8nILnP+DlFLycguc/4OUUvJyC5z/g5RS8nILnP+DlFLycguc/4OUUvJyC5z/g5RS8nILnP+DlFLycguc/4OUUvJyC5z/g5RS8nILnP+DlFLycguc/4OUUvJyC5z/g5RS8nILnP+DlFLycguc/4OUUvJyC5z/g5RS8nILnP+DlFLycguc/4OUUvJyC5z/g5RS8nILnP+DlFLycguc/4OUUvJyC5z/g5RS8nILnP15OwcspeOk/Xk7Byyl46T9eTsHLKXjpP15OwcspeOk/Xk7Byyl46T9eTsHLKXjpP15OwcspeOk/Xk7Byyl46T9eTsHLKXjpP15OwcspeOk/Xk7Byyl46T9eTsHLKXjpP15OwcspeOk/Xk7Byyl46T9eTsHLKXjpP15OwcspeOk/Xk7Byyl46T9eTsHLKXjpP15OwcspeOk/Xk7Byyl46T9eTsHLKXjpP15OwcspeOk/Xk7Byyl46T9eTsHLKXjpP15OwcspeOk/Xk7Byyl46T9eTsHLKXjpP15OwcspeOk/Xk7Byyl46T9eTsHLKXjpP15OwcspeOk/Xk7Byyl46T9eTsHLKXjpP15OwcspeOk/Xk7Byyl46T9eTsHLKXjpP15OwcspeOk/Xk7Byyl46T9eTsHLKXjpP15OwcspeOk/Xk7Byyl46T9eTsHLKXjpP15OwcspeOk/Xk7Byyl46T9eTsHLKXjpP15OwcspeOk/Xk7Byyl46T9eTsHLKXjpP15OwcspeOk/Xk7Byyl46T/btm3btm3rP9u2bdu2bes/27Zt27Zt6z/btm3btm3rP9u2bdu2bes/27Zt27Zt6z/btm3btm3rP9u2bdu2bes/27Zt27Zt6z/btm3btm3rP9u2bdu2bes/27Zt27Zt6z/btm3btm3rP9u2bdu2bes/27Zt27Zt6z/btm3btm3rP9u2bdu2bes/27Zt27Zt6z/btm3btm3rP9u2bdu2bes/27Zt27Zt6z/btm3btm3rP9u2bdu2bes/27Zt27Zt6z/btm3btm3rP9u2bdu2bes/27Zt27Zt6z/btm3btm3rP9u2bdu2bes/27Zt27Zt6z/btm3btm3rP9u2bdu2bes/27Zt27Zt6z/btm3btm3rP9u2bdu2bes/27Zt27Zt6z/btm3btm3rP9u2bdu2bes/27Zt27Zt6z/btm3btm3rP9u2bdu2bes/27Zt27Zt6z/btm3btm3rP9u2bdu2bes/27Zt27Zt6z/btm3btm3rP9u2bdu2bes/27Zt27Zt6z/btm3btm3rP9u2bdu2bes/WR8a60Nj7T9ZHxrrQ2PtP1kfGutDY+0/WR8a60Nj7T9ZHxrrQ2PtP1kfGutDY+0/WR8a60Nj7T9ZHxrrQ2PtP1kfGutDY+0/WR8a60Nj7T9ZHxrrQ2PtP1kfGutDY+0/WR8a60Nj7T9ZHxrrQ2PtP1kfGutDY+0/WR8a60Nj7T9ZHxrrQ2PtP1kfGutDY+0/WR8a60Nj7T9ZHxrrQ2PtP1kfGutDY+0/WR8a60Nj7T9ZHxrrQ2PtP1kfGutDY+0/WR8a60Nj7T9ZHxrrQ2PtP1kfGutDY+0/WR8a60Nj7T9ZHxrrQ2PtP1kfGutDY+0/WR8a60Nj7T9ZHxrrQ2PtP1kfGutDY+0/WR8a60Nj7T9ZHxrrQ2PtP1kfGutDY+0/WR8a60Nj7T9ZHxrrQ2PtP1kfGutDY+0/WR8a60Nj7T9ZHxrrQ2PtP1kfGutDY+0/WR8a60Nj7T9ZHxrrQ2PtP1kfGutDY+0/WR8a60Nj7T9ZHxrrQ2PtP1kfGutDY+0/WR8a60Nj7T9ZHxrrQ2PtP9aHxvrQWO8/1ofG+tBY7z/Wh8b60FjvP9aHxvrQWO8/1ofG+tBY7z/Wh8b60FjvP9aHxvrQWO8/1ofG+tBY7z/Wh8b60FjvP9aHxvrQWO8/1ofG+tBY7z/Wh8b60FjvP9aHxvrQWO8/1ofG+tBY7z/Wh8b60FjvP9aHxvrQWO8/1ofG+tBY7z/Wh8b60FjvP9aHxvrQWO8/1ofG+tBY7z/Wh8b60FjvP9aHxvrQWO8/1ofG+tBY7z/Wh8b60FjvP9aHxvrQWO8/1ofG+tBY7z/Wh8b60FjvP9aHxvrQWO8/1ofG+tBY7z/Wh8b60FjvP9aHxvrQWO8/1ofG+tBY7z/Wh8b60FjvP9aHxvrQWO8/1ofG+tBY7z/Wh8b60FjvP9aHxvrQWO8/1ofG+tBY7z/Wh8b60FjvP9aHxvrQWO8/1ofG+tBY7z/Wh8b60FjvP9aHxvrQWO8/1ofG+tBY7z/Wh8b60FjvP9aHxvrQWO8/1ofG+tBY7z/Wh8b60FjvP9aHxvrQWO8/1ofG+tBY7z8qeDkFL6fwPyp4OQUvp/A/Kng5BS+n8D8qeDkFL6fwPyp4OQUvp/A/Kng5BS+n8D8qeDkFL6fwPyp4OQUvp/A/Kng5BS+n8D8qeDkFL6fwPyp4OQUvp/A/Kng5BS+n8D8qeDkFL6fwPyp4OQUvp/A/Kng5BS+n8D8qeDkFL6fwPyp4OQUvp/A/Kng5BS+n8D8qeDkFL6fwPyp4OQUvp/A/Kng5BS+n8D8qeDkFL6fwPyp4OQUvp/A/Kng5BS+n8D8qeDkFL6fwPyp4OQUvp/A/Kng5BS+n8D8qeDkFL6fwPyp4OQUvp/A/Kng5BS+n8D8qeDkFL6fwPyp4OQUvp/A/Kng5BS+n8D8qeDkFL6fwPyp4OQUvp/A/Kng5BS+n8D8qeDkFL6fwPyp4OQUvp/A/Kng5BS+n8D8qeDkFL6fwPyp4OQUvp/A/Kng5BS+n8D8qeDkFL6fwPyp4OQUvp/A/Kng5BS+n8D8qeDkFL6fwPyp4OQUvp/A/Kng5BS+n8D8qeDkFL6fwPyp4OQUvp/A/aKwPjfWh8T9orA+N9aHxP2isD431ofE/aKwPjfWh8T9orA+N9aHxP2isD431ofE/aKwPjfWh8T9orA+N9aHxP2isD431ofE/aKwPjfWh8T9orA+N9aHxP2isD431ofE/aKwPjfWh8T9orA+N9aHxP2isD431ofE/aKwPjfWh8T9orA+N9aHxP2isD431ofE/aKwPjfWh8T9orA+N9aHxP2isD431ofE/aKwPjfWh8T9orA+N9aHxP2isD431ofE/aKwPjfWh8T9orA+N9aHxP2isD431ofE/aKwPjfWh8T9orA+N9aHxP2isD431ofE/aKwPjfWh8T9orA+N9aHxP2isD431ofE/aKwPjfWh8T9orA+N9aHxP2isD431ofE/aKwPjfWh8T9orA+N9aHxP2isD431ofE/aKwPjfWh8T9orA+N9aHxP2isD431ofE/aKwPjfWh8T9orA+N9aHxP2isD431ofE/aKwPjfWh8T9orA+N9aHxP2isD431ofE/aKwPjfWh8T9orA+N9aHxP6fg5RS8nPI/p+DlFLyc8j+n4OUUvJzyP6fg5RS8nPI/p+DlFLyc8j+n4OUUvJzyP6fg5RS8nPI/p+DlFLyc8j+n4OUUvJzyP6fg5RS8nPI/p+DlFLyc8j+n4OUUvJzyP6fg5RS8nPI/p+DlFLyc8j+n4OUUvJzyP6fg5RS8nPI/p+DlFLyc8j+n4OUUvJzyP6fg5RS8nPI/p+DlFLyc8j+n4OUUvJzyP6fg5RS8nPI/p+DlFLyc8j+n4OUUvJzyP6fg5RS8nPI/p+DlFLyc8j+n4OUUvJzyP6fg5RS8nPI/p+DlFLyc8j+n4OUUvJzyP6fg5RS8nPI/p+DlFLyc8j+n4OUUvJzyP6fg5RS8nPI/p+DlFLyc8j+n4OUUvJzyP6fg5RS8nPI/p+DlFLyc8j+n4OUUvJzyP6fg5RS8nPI/p+DlFLyc8j+n4OUUvJzyP6fg5RS8nPI/p+DlFLyc8j+n4OUUvJzyP6fg5RS8nPI/p+DlFLyc8j+n4OUUvJzyP6fg5RS8nPI/p+DlFLyc8j/mFLycgpfzP+YUvJyCl/M/5hS8nIKX8z/mFLycgpfzP+YUvJyCl/M/5hS8nIKX8z/mFLycgpfzP+YUvJyCl/M/5hS8nIKX8z/mFLycgpfzP+YUvJyCl/M/5hS8nIKX8z/mFLycgpfzP+YUvJyCl/M/5hS8nIKX8z/mFLycgpfzP+YUvJyCl/M/5hS8nIKX8z/mFLycgpfzP+YUvJyCl/M/5hS8nIKX8z/mFLycgpfzP+YUvJyCl/M/5hS8nIKX8z/mFLycgpfzP+YUvJyCl/M/5hS8nIKX8z/mFLycgpfzP+YUvJyCl/M/5hS8nIKX8z/mFLycgpfzP+YUvJyCl/M/5hS8nIKX8z/mFLycgpfzP+YUvJyCl/M/5hS8nIKX8z/mFLycgpfzP+YUvJyCl/M/5hS8nIKX8z/mFLycgpfzP+YUvJyCl/M/5hS8nIKX8z/mFLycgpfzP+YUvJyCl/M/5hS8nIKX8z/mFLycgpfzP+YUvJyCl/M/5hS8nIKX8z/mFLycgpfzP+YUvJyCl/M/JEmSJEmS9D8kSZIkSZL0PyRJkiRJkvQ/JEmSJEmS9D8kSZIkSZL0PyRJkiRJkvQ/JEmSJEmS9D8kSZIkSZL0PyRJkiRJkvQ/JEmSJEmS9D8kSZIkSZL0PyRJkiRJkvQ/JEmSJEmS9D8kSZIkSZL0PyRJkiRJkvQ/JEmSJEmS9D8kSZIkSZL0PyRJkiRJkvQ/JEmSJEmS9D8kSZIkSZL0PyRJkiRJkvQ/JEmSJEmS9D8kSZIkSZL0PyRJkiRJkvQ/JEmSJEmS9D8kSZIkSZL0PyRJkiRJkvQ/JEmSJEmS9D8kSZIkSZL0PyRJkiRJkvQ/JEmSJEmS9D8kSZIkSZL0PyRJkiRJkvQ/JEmSJEmS9D8kSZIkSZL0PyRJkiRJkvQ/JEmSJEmS9D8kSZIkSZL0PyRJkiRJkvQ/JEmSJEmS9D8kSZIkSZL0PyRJkiRJkvQ/JEmSJEmS9D8kSZIkSZL0PyRJkiRJkvQ/JEmSJEmS9D8kSZIkSZL0PyRJkiRJkvQ/JEmSJEmS9D8kSZIkSZL0P2N9aKwPjfU/Y31orA+N9T9jfWisD431P2N9aKwPjfU/Y31orA+N9T9jfWisD431P2N9aKwPjfU/Y31orA+N9T9jfWisD431P2N9aKwPjfU/Y31orA+N9T9jfWisD431P2N9aKwPjfU/Y31orA+N9T9jfWisD431P2N9aKwPjfU/Y31orA+N9T9jfWisD431P2N9aKwPjfU/Y31orA+N9T9jfWisD431P2N9aKwPjfU/Y31orA+N9T9jfWisD431P2N9aKwPjfU/Y31orA+N9T9jfWisD431P2N9aKwPjfU/Y31orA+N9T9jfWisD431P2N9aKwPjfU/Y31orA+N9T9jfWisD431P2N9aKwPjfU/Y31orA+N9T9jfWisD431P2N9aKwPjfU/Y31orA+N9T9jfWisD431P2N9aKwPjfU/Y31orA+N9T9jfWisD431P2N9aKwPjfU/Y31orA+N9T9jfWisD431P2N9aKwPjfU/Y31orA+N9T9jfWisD431P2N9aKwPjfU/Y31orA+N9T+isT401of2P6KxPjTWh/Y/orE+NNaH9j+isT401of2P6KxPjTWh/Y/orE+NNaH9j+isT401of2P6KxPjTWh/Y/orE+NNaH9j+isT401of2P6KxPjTWh/Y/orE+NNaH9j+isT401of2P6KxPjTWh/Y/orE+NNaH9j+isT401of2P6KxPjTWh/Y/orE+NNaH9j+isT401of2P6KxPjTWh/Y/orE+NNaH9j+isT401of2P6KxPjTWh/Y/orE+NNaH9j+isT401of2P6KxPjTWh/Y/orE+NNaH9j+isT401of2P6KxPjTWh/Y/orE+NNaH9j+isT401of2P6KxPjTWh/Y/orE+NNaH9j+isT401of2P6KxPjTWh/Y/orE+NNaH9j+isT401of2P6KxPjTWh/Y/orE+NNaH9j+isT401of2P6KxPjTWh/Y/orE+NNaH9j+isT401of2P6KxPjTWh/Y/orE+NNaH9j+isT401of2P6KxPjTWh/Y/orE+NNaH9j+isT401of2P6KxPjTWh/Y/4OUUvJyC9z/g5RS8nIL3P+DlFLycgvc/4OUUvJyC9z/g5RS8nIL3P+DlFLycgvc/4OUUvJyC9z/g5RS8nIL3P+DlFLycgvc/4OUUvJyC9z/g5RS8nIL3P+DlFLycgvc/4OUUvJyC9z/g5RS8nIL3P+DlFLycgvc/4OUUvJyC9z/g5RS8nIL3P+DlFLycgvc/4OUUvJyC9z/g5RS8nIL3P+DlFLycgvc/4OUUvJyC9z/g5RS8nIL3P+DlFLycgvc/4OUUvJyC9z/g5RS8nIL3P+DlFLycgvc/4OUUvJyC9z/g5RS8nIL3P+DlFLycgvc/4OUUvJyC9z/g5RS8nIL3P+DlFLycgvc/4OUUvJyC9z/g5RS8nIL3P+DlFLycgvc/4OUUvJyC9z/g5RS8nIL3P+DlFLycgvc/4OUUvJyC9z/g5RS8nIL3P+DlFLycgvc/4OUUvJyC9z/g5RS8nIL3P+DlFLycgvc/4OUUvJyC9z/g5RS8nIL3P+DlFLycgvc/4OUUvJyC9z/g5RS8nIL3Px8a60Njffg/HxrrQ2N9+D8fGutDY334Px8a60Njffg/HxrrQ2N9+D8fGutDY334Px8a60Njffg/HxrrQ2N9+D8fGutDY334Px8a60Njffg/HxrrQ2N9+D8fGutDY334Px8a60Njffg/HxrrQ2N9+D8fGutDY334Px8a60Njffg/HxrrQ2N9+D8fGutDY334Px8a60Njffg/HxrrQ2N9+D8fGutDY334Px8a60Njffg/HxrrQ2N9+D8fGutDY334Px8a60Njffg/HxrrQ2N9+D8fGutDY334Px8a60Njffg/HxrrQ2N9+D8fGutDY334Px8a60Njffg/HxrrQ2N9+D8fGutDY334Px8a60Njffg/HxrrQ2N9+D8fGutDY334Px8a60Njffg/HxrrQ2N9+D8fGutDY334Px8a60Njffg/HxrrQ2N9+D8fGutDY334Px8a60Njffg/HxrrQ2N9+D8fGutDY334Px8a60Njffg/HxrrQ2N9+D8fGutDY334Px8a60Njffg/HxrrQ2N9+D9eTsHLKXj5P15OwcspePk/Xk7Byyl4+T9eTsHLKXj5P15OwcspePk/Xk7Byyl4+T9eTsHLKXj5P15OwcspePk/Xk7Byyl4+T9eTsHLKXj5P15OwcspePk/Xk7Byyl4+T9eTsHLKXj5P15OwcspePk/Xk7Byyl4+T9eTsHLKXj5P15OwcspePk/Xk7Byyl4+T9eTsHLKXj5P15OwcspePk/Xk7Byyl4+T9eTsHLKXj5P15OwcspePk/Xk7Byyl4+T9eTsHLKXj5P15OwcspePk/Xk7Byyl4+T9eTsHLKXj5P15OwcspePk/Xk7Byyl4+T9eTsHLKXj5P15OwcspePk/Xk7Byyl4+T9eTsHLKXj5P15OwcspePk/Xk7Byyl4+T9eTsHLKXj5P15OwcspePk/Xk7Byyl4+T9eTsHLKXj5P15OwcspePk/Xk7Byyl4+T9eTsHLKXj5P15OwcspePk/Xk7Byyl4+T9eTsHLKXj5P15OwcspePk/Xk7Byyl4+T9eTsHLKXj5P15OwcspePk/nYKXU/By+j+dgpdT8HL6P52Cl1Pwcvo/nYKXU/By+j+dgpdT8HL6P52Cl1Pwcvo/nYKXU/By+j+dgpdT8HL6P52Cl1Pwcvo/nYKXU/By+j+dgpdT8HL6P52Cl1Pwcvo/nYKXU/By+j+dgpdT8HL6P52Cl1Pwcvo/nYKXU/By+j+dgpdT8HL6P52Cl1Pwcvo/nYKXU/By+j+dgpdT8HL6P52Cl1Pwcvo/nYKXU/By+j+dgpdT8HL6P52Cl1Pwcvo/nYKXU/By+j+dgpdT8HL6P52Cl1Pwcvo/nYKXU/By+j+dgpdT8HL6P52Cl1Pwcvo/nYKXU/By+j+dgpdT8HL6P52Cl1Pwcvo/nYKXU/By+j+dgpdT8HL6P52Cl1Pwcvo/nYKXU/By+j+dgpdT8HL6P52Cl1Pwcvo/nYKXU/By+j+dgpdT8HL6P52Cl1Pwcvo/nYKXU/By+j+dgpdT8HL6P52Cl1Pwcvo/nYKXU/By+j+dgpdT8HL6P52Cl1Pwcvo/nYKXU/By+j+dgpdT8HL6P9u2bdu2bfs/27Zt27Zt+z/btm3btm37P9u2bdu2bfs/27Zt27Zt+z/btm3btm37P9u2bdu2bfs/27Zt27Zt+z/btm3btm37P9u2bdu2bfs/27Zt27Zt+z/btm3btm37P9u2bdu2bfs/27Zt27Zt+z/btm3btm37P9u2bdu2bfs/27Zt27Zt+z/btm3btm37P9u2bdu2bfs/27Zt27Zt+z/btm3btm37P9u2bdu2bfs/27Zt27Zt+z/btm3btm37P9u2bdu2bfs/27Zt27Zt+z/btm3btm37P9u2bdu2bfs/27Zt27Zt+z/btm3btm37P9u2bdu2bfs/27Zt27Zt+z/btm3btm37P9u2bdu2bfs/27Zt27Zt+z/btm3btm37P9u2bdu2bfs/27Zt27Zt+z/btm3btm37P9u2bdu2bfs/27Zt27Zt+z/btm3btm37P9u2bdu2bfs/27Zt27Zt+z/btm3btm37P9u2bdu2bfs/27Zt27Zt+z/btm3btm37P9u2bdu2bfs/27Zt27Zt+z8a60NjfWj8PxrrQ2N9aPw/GutDY31o/D8a60NjfWj8PxrrQ2N9aPw/GutDY31o/D8a60NjfWj8PxrrQ2N9aPw/GutDY31o/D8a60NjfWj8PxrrQ2N9aPw/GutDY31o/D8a60NjfWj8PxrrQ2N9aPw/GutDY31o/D8a60NjfWj8PxrrQ2N9aPw/GutDY31o/D8a60NjfWj8PxrrQ2N9aPw/GutDY31o/D8a60NjfWj8PxrrQ2N9aPw/GutDY31o/D8a60NjfWj8PxrrQ2N9aPw/GutDY31o/D8a60NjfWj8PxrrQ2N9aPw/GutDY31o/D8a60NjfWj8PxrrQ2N9aPw/GutDY31o/D8a60NjfWj8PxrrQ2N9aPw/GutDY31o/D8a60NjfWj8PxrrQ2N9aPw/GutDY31o/D8a60NjfWj8PxrrQ2N9aPw/GutDY31o/D8a60NjfWj8PxrrQ2N9aPw/GutDY31o/D8a60NjfWj8PxrrQ2N9aPw/GutDY31o/D8a60NjfWj8PxrrQ2N9aPw/WR8a60Nj/T9ZHxrrQ2P9P1kfGutDY/0/WR8a60Nj/T9ZHxrrQ2P9P1kfGutDY/0/WR8a60Nj/T9ZHxrrQ2P9P1kfGutDY/0/WR8a60Nj/T9ZHxrrQ2P9P1kfGutDY/0/WR8a60Nj/T9ZHxrrQ2P9P1kfGutDY/0/WR8a60Nj/T9ZHxrrQ2P9P1kfGutDY/0/WR8a60Nj/T9ZHxrrQ2P9P1kfGutDY/0/WR8a60Nj/T9ZHxrrQ2P9P1kfGutDY/0/WR8a60Nj/T9ZHxrrQ2P9P1kfGutDY/0/WR8a60Nj/T9ZHxrrQ2P9P1kfGutDY/0/WR8a60Nj/T9ZHxrrQ2P9P1kfGutDY/0/WR8a60Nj/T9ZHxrrQ2P9P1kfGutDY/0/WR8a60Nj/T9ZHxrrQ2P9P1kfGutDY/0/WR8a60Nj/T9ZHxrrQ2P9P1kfGutDY/0/WR8a60Nj/T9ZHxrrQ2P9P1kfGutDY/0/WR8a60Nj/T9ZHxrrQ2P9P1kfGutDY/0/WR8a60Nj/T9ZHxrrQ2P9P5dT8HIKXv4/l1Pwcgpe/j+XU/ByCl7+P5dT8HIKXv4/l1Pwcgpe/j+XU/ByCl7+P5dT8HIKXv4/l1Pwcgpe/j+XU/ByCl7+P5dT8HIKXv4/l1Pwcgpe/j+XU/ByCl7+P5dT8HIKXv4/l1Pwcgpe/j+XU/ByCl7+P5dT8HIKXv4/l1Pwcgpe/j+XU/ByCl7+P5dT8HIKXv4/l1Pwcgpe/j+XU/ByCl7+P5dT8HIKXv4/l1Pwcgpe/j+XU/ByCl7+P5dT8HIKXv4/l1Pwcgpe/j+XU/ByCl7+P5dT8HIKXv4/l1Pwcgpe/j+XU/ByCl7+P5dT8HIKXv4/l1Pwcgpe/j+XU/ByCl7+P5dT8HIKXv4/l1Pwcgpe/j+XU/ByCl7+P5dT8HIKXv4/l1Pwcgpe/j+XU/ByCl7+P5dT8HIKXv4/l1Pwcgpe/j+XU/ByCl7+P5dT8HIKXv4/l1Pwcgpe/j+XU/ByCl7+P5dT8HIKXv4/l1Pwcgpe/j+XU/ByCl7+P5dT8HIKXv4/l1Pwcgpe/j/Wh8b60Fj/P9aHxvrQWP8/1ofG+tBY/z/Wh8b60Fj/P9aHxvrQWP8/1ofG+tBY/z/Wh8b60Fj/P9aHxvrQWP8/1ofG+tBY/z/Wh8b60Fj/P9aHxvrQWP8/1ofG+tBY/z/Wh8b60Fj/P9aHxvrQWP8/1ofG+tBY/z/Wh8b60Fj/P9aHxvrQWP8/1ofG+tBY/z/Wh8b60Fj/P9aHxvrQWP8/1ofG+tBY/z/Wh8b60Fj/P9aHxvrQWP8/1ofG+tBY/z/Wh8b60Fj/P9aHxvrQWP8/1ofG+tBY/z/Wh8b60Fj/P9aHxvrQWP8/1ofG+tBY/z/Wh8b60Fj/P9aHxvrQWP8/1ofG+tBY/z/Wh8b60Fj/P9aHxvrQWP8/1ofG+tBY/z/Wh8b60Fj/P9aHxvrQWP8/1ofG+tBY/z/Wh8b60Fj/P9aHxvrQWP8/1ofG+tBY/z/Wh8b60Fj/P9aHxvrQWP8/1ofG+tBY/z/Wh8b60Fj/P9aHxvrQWP8/1ofG+tBY/z/Wh8b60Fj/P9aHxvrQWP8/Cl5OwcspAEAKXk7ByykAQApeTsHLKQBACl5OwcspAEAKXk7ByykAQApeTsHLKQBACl5OwcspAEAKXk7ByykAQApeTsHLKQBACl5OwcspAEAKXk7ByykAQApeTsHLKQBACl5OwcspAEAKXk7ByykAQApeTsHLKQBACl5OwcspAEAKXk7ByykAQApeTsHLKQBACl5OwcspAEAKXk7ByykAQApeTsHLKQBACl5OwcspAEAKXk7ByykAQApeTsHLKQBACl5OwcspAEAKXk7ByykAQApeTsHLKQBACl5OwcspAEAKXk7ByykAQApeTsHLKQBACl5OwcspAEAKXk7ByykAQApeTsHLKQBACl5OwcspAEAKXk7ByykAQApeTsHLKQBACl5OwcspAEAKXk7ByykAQApeTsHLKQBACl5OwcspAEAKXk7ByykAQApeTsHLKQBACl5OwcspAEAKXk7ByykAQApeTsHLKQBACl5OwcspAEAKXk7ByykAQApeTsHLKQBACl5OwcspAEAKXk7ByykAQCp4OQUvpwBAKng5BS+nAEAqeDkFL6cAQCp4OQUvpwBAKng5BS+nAEAqeDkFL6cAQCp4OQUvpwBAKng5BS+nAEAqeDkFL6cAQCp4OQUvpwBAKng5BS+nAEAqeDkFL6cAQCp4OQUvpwBAKng5BS+nAEAqeDkFL6cAQCp4OQUvpwBAKng5BS+nAEAqeDkFL6cAQCp4OQUvpwBAKng5BS+nAEAqeDkFL6cAQCp4OQUvpwBAKng5BS+nAEAqeDkFL6cAQCp4OQUvpwBAKng5BS+nAEAqeDkFL6cAQCp4OQUvpwBAKng5BS+nAEAqeDkFL6cAQCp4OQUvpwBAKng5BS+nAEAqeDkFL6cAQCp4OQUvpwBAKng5BS+nAEAqeDkFL6cAQCp4OQUvpwBAKng5BS+nAEAqeDkFL6cAQCp4OQUvpwBAKng5BS+nAEAqeDkFL6cAQCp4OQUvpwBAKng5BS+nAEAqeDkFL6cAQCp4OQUvpwBAKng5BS+nAEAqeDkFL6cAQCp4OQUvpwBAKng5BS+nAEBJkiRJkiQBQEmSJEmSJAFASZIkSZIkAUBJkiRJkiQBQEmSJEmSJAFASZIkSZIkAUBJkiRJkiQBQEmSJEmSJAFASZIkSZIkAUBJkiRJkiQBQEmSJEmSJAFASZIkSZIkAUBJkiRJkiQBQEmSJEmSJAFASZIkSZIkAUBJkiRJkiQBQEmSJEmSJAFASZIkSZIkAUBJkiRJkiQBQEmSJEmSJAFASZIkSZIkAUBJkiRJkiQBQEmSJEmSJAFASZIkSZIkAUBJkiRJkiQBQEmSJEmSJAFASZIkSZIkAUBJkiRJkiQBQEmSJEmSJAFASZIkSZIkAUBJkiRJkiQBQEmSJEmSJAFASZIkSZIkAUBJkiRJkiQBQEmSJEmSJAFASZIkSZIkAUBJkiRJkiQBQEmSJEmSJAFASZIkSZIkAUBJkiRJkiQBQEmSJEmSJAFASZIkSZIkAUBJkiRJkiQBQEmSJEmSJAFASZIkSZIkAUBJkiRJkiQBQEmSJEmSJAFASZIkSZIkAUBJkiRJkiQBQEmSJEmSJAFAaKwPjfWhAUBorA+N9aEBQGisD431oQFAaKwPjfWhAUBorA+N9aEBQGisD431oQFAaKwPjfWhAUBorA+N9aEBQGisD431oQFAaKwPjfWhAUBorA+N9aEBQGisD431oQFAaKwPjfWhAUBorA+N9aEBQGisD431oQFAaKwPjfWhAUBorA+N9aEBQGisD431oQFAaKwPjfWhAUBorA+N9aEBQGisD431oQFAaKwPjfWhAUBorA+N9aEBQGisD431oQFAaKwPjfWhAUBorA+N9aEBQGisD431oQFAaKwPjfWhAUBorA+N9aEBQGisD431oQFAaKwPjfWhAUBorA+N9aEBQGisD431oQFAaKwPjfWhAUBorA+N9aEBQGisD431oQFAaKwPjfWhAUBorA+N9aEBQGisD431oQFAaKwPjfWhAUBorA+N9aEBQGisD431oQFAaKwPjfWhAUBorA+N9aEBQGisD431oQFAaKwPjfWhAUBorA+N9aEBQGisD431oQFAaKwPjfWhAUBorA+N9aEBQIjG+tBYHwJAiMb60FgfAkCIxvrQWB8CQIjG+tBYHwJAiMb60FgfAkCIxvrQWB8CQIjG+tBYHwJAiMb60FgfAkCIxvrQWB8CQIjG+tBYHwJAiMb60FgfAkCIxvrQWB8CQIjG+tBYHwJAiMb60FgfAkCIxvrQWB8CQIjG+tBYHwJAiMb60FgfAkCIxvrQWB8CQIjG+tBYHwJAiMb60FgfAkCIxvrQWB8CQIjG+tBYHwJAiMb60FgfAkCIxvrQWB8CQIjG+tBYHwJAiMb60FgfAkCIxvrQWB8CQIjG+tBYHwJAiMb60FgfAkCIxvrQWB8CQIjG+tBYHwJAiMb60FgfAkCIxvrQWB8CQIjG+tBYHwJAiMb60FgfAkCIxvrQWB8CQIjG+tBYHwJAiMb60FgfAkCIxvrQWB8CQIjG+tBYHwJAiMb60FgfAkCIxvrQWB8CQIjG+tBYHwJAiMb60FgfAkCIxvrQWB8CQIjG+tBYHwJAiMb60FgfAkCIxvrQWB8CQIjG+tBYHwJAiMb60FgfAkCn4OUUvJwCQKfg5RS8nAJAp+DlFLycAkCn4OUUvJwCQKfg5RS8nAJAp+DlFLycAkCn4OUUvJwCQKfg5RS8nAJAp+DlFLycAkCn4OUUvJwCQKfg5RS8nAJAp+DlFLycAkCn4OUUvJwCQKfg5RS8nAJAp+DlFLycAkCn4OUUvJwCQKfg5RS8nAJAp+DlFLycAkCn4OUUvJwCQKfg5RS8nAJAp+DlFLycAkCn4OUUvJwCQKfg5RS8nAJAp+DlFLycAkCn4OUUvJwCQKfg5RS8nAJAp+DlFLycAkCn4OUUvJwCQKfg5RS8nAJAp+DlFLycAkCn4OUUvJwCQKfg5RS8nAJAp+DlFLycAkCn4OUUvJwCQKfg5RS8nAJAp+DlFLycAkCn4OUUvJwCQKfg5RS8nAJAp+DlFLycAkCn4OUUvJwCQKfg5RS8nAJAp+DlFLycAkCn4OUUvJwCQKfg5RS8nAJAp+DlFLycAkCn4OUUvJwCQKfg5RS8nAJAp+DlFLycAkCn4OUUvJwCQKfg5RS8nAJAxvrQWB8aA0DG+tBYHxoDQMb60FgfGgNAxvrQWB8aA0DG+tBYHxoDQMb60FgfGgNAxvrQWB8aA0DG+tBYHxoDQMb60FgfGgNAxvrQWB8aA0DG+tBYHxoDQMb60FgfGgNAxvrQWB8aA0DG+tBYHxoDQMb60FgfGgNAxvrQWB8aA0DG+tBYHxoDQMb60FgfGgNAxvrQWB8aA0DG+tBYHxoDQMb60FgfGgNAxvrQWB8aA0DG+tBYHxoDQMb60FgfGgNAxvrQWB8aA0DG+tBYHxoDQMb60FgfGgNAxvrQWB8aA0DG+tBYHxoDQMb60FgfGgNAxvrQWB8aA0DG+tBYHxoDQMb60FgfGgNAxvrQWB8aA0DG+tBYHxoDQMb60FgfGgNAxvrQWB8aA0DG+tBYHxoDQMb60FgfGgNAxvrQWB8aA0DG+tBYHxoDQMb60FgfGgNAxvrQWB8aA0DG+tBYHxoDQMb60FgfGgNAxvrQWB8aA0DG+tBYHxoDQMb60FgfGgNAxvrQWB8aA0DG+tBYHxoDQOYUvJyClwNA5hS8nIKXA0DmFLycgpcDQOYUvJyClwNA5hS8nIKXA0DmFLycgpcDQOYUvJyClwNA5hS8nIKXA0DmFLycgpcDQOYUvJyClwNA5hS8nIKXA0DmFLycgpcDQOYUvJyClwNA5hS8nIKXA0DmFLycgpcDQOYUvJyClwNA5hS8nIKXA0DmFLycgpcDQOYUvJyClwNA5hS8nIKXA0DmFLycgpcDQOYUvJyClwNA5hS8nIKXA0DmFLycgpcDQOYUvJyClwNA5hS8nIKXA0DmFLycgpcDQOYUvJyClwNA5hS8nIKXA0DmFLycgpcDQOYUvJyClwNA5hS8nIKXA0DmFLycgpcDQOYUvJyClwNA5hS8nIKXA0DmFLycgpcDQOYUvJyClwNA5hS8nIKXA0DmFLycgpcDQOYUvJyClwNA5hS8nIKXA0DmFLycgpcDQOYUvJyClwNA5hS8nIKXA0DmFLycgpcDQOYUvJyClwNA5hS8nIKXA0DmFLycgpcDQOYUvJyClwNA5hS8nIKXA0AFL6fg5RQEQAUvp+DlFARABS+n4OUUBEAFL6fg5RQEQAUvp+DlFARABS+n4OUUBEAFL6fg5RQEQAUvp+DlFARABS+n4OUUBEAFL6fg5RQEQAUvp+DlFARABS+n4OUUBEAFL6fg5RQEQAUvp+DlFARABS+n4OUUBEAFL6fg5RQEQAUvp+DlFARABS+n4OUUBEAFL6fg5RQEQAUvp+DlFARABS+n4OUUBEAFL6fg5RQEQAUvp+DlFARABS+n4OUUBEAFL6fg5RQEQAUvp+DlFARABS+n4OUUBEAFL6fg5RQEQAUvp+DlFARABS+n4OUUBEAFL6fg5RQEQAUvp+DlFARABS+n4OUUBEAFL6fg5RQEQAUvp+DlFARABS+n4OUUBEAFL6fg5RQEQAUvp+DlFARABS+n4OUUBEAFL6fg5RQEQAUvp+DlFARABS+n4OUUBEAFL6fg5RQEQAUvp+DlFARABS+n4OUUBEAFL6fg5RQEQAUvp+DlFARABS+n4OUUBEAFL6fg5RQEQAUvp+DlFARAJEmSJEmSBEAkSZIkSZIEQCRJkiRJkgRAJEmSJEmSBEAkSZIkSZIEQCRJkiRJkgRAJEmSJEmSBEAkSZIkSZIEQCRJkiRJkgRAJEmSJEmSBEAkSZIkSZIEQCRJkiRJkgRAJEmSJEmSBEAkSZIkSZIEQCRJkiRJkgRAJEmSJEmSBEAkSZIkSZIEQCRJkiRJkgRAJEmSJEmSBEAkSZIkSZIEQCRJkiRJkgRAJEmSJEmSBEAkSZIkSZIEQCRJkiRJkgRAJEmSJEmSBEAkSZIkSZIEQCRJkiRJkgRAJEmSJEmSBEAkSZIkSZIEQCRJkiRJkgRAJEmSJEmSBEAkSZIkSZIEQCRJkiRJkgRAJEmSJEmSBEAkSZIkSZIEQCRJkiRJkgRAJEmSJEmSBEAkSZIkSZIEQCRJkiRJkgRAJEmSJEmSBEAkSZIkSZIEQCRJkiRJkgRAJEmSJEmSBEAkSZIkSZIEQCRJkiRJkgRAJEmSJEmSBEAkSZIkSZIEQCRJkiRJkgRAJEmSJEmSBEAkSZIkSZIEQERjfWisDwVARGN9aKwPBUBEY31orA8FQERjfWisDwVARGN9aKwPBUBEY31orA8FQERjfWisDwVARGN9aKwPBUBEY31orA8FQERjfWisDwVARGN9aKwPBUBEY31orA8FQERjfWisDwVARGN9aKwPBUBEY31orA8FQERjfWisDwVARGN9aKwPBUBEY31orA8FQERjfWisDwVARGN9aKwPBUBEY31orA8FQERjfWisDwVARGN9aKwPBUBEY31orA8FQERjfWisDwVARGN9aKwPBUBEY31orA8FQERjfWisDwVARGN9aKwPBUBEY31orA8FQERjfWisDwVARGN9aKwPBUBEY31orA8FQERjfWisDwVARGN9aKwPBUBEY31orA8FQERjfWisDwVARGN9aKwPBUBEY31orA8FQERjfWisDwVARGN9aKwPBUBEY31orA8FQERjfWisDwVARGN9aKwPBUBEY31orA8FQERjfWisDwVARGN9aKwPBUBEY31orA8FQERjfWisDwVARGN9aKwPBUBjfWisD40FQGN9aKwPjQVAY31orA+NBUBjfWisD40FQGN9aKwPjQVAY31orA+NBUBjfWisD40FQGN9aKwPjQVAY31orA+NBUBjfWisD40FQGN9aKwPjQVAY31orA+NBUBjfWisD40FQGN9aKwPjQVAY31orA+NBUBjfWisD40FQGN9aKwPjQVAY31orA+NBUBjfWisD40FQGN9aKwPjQVAY31orA+NBUBjfWisD40FQGN9aKwPjQVAY31orA+NBUBjfWisD40FQGN9aKwPjQVAY31orA+NBUBjfWisD40FQGN9aKwPjQVAY31orA+NBUBjfWisD40FQGN9aKwPjQVAY31orA+NBUBjfWisD40FQGN9aKwPjQVAY31orA+NBUBjfWisD40FQGN9aKwPjQVAY31orA+NBUBjfWisD40FQGN9aKwPjQVAY31orA+NBUBjfWisD40FQGN9aKwPjQVAY31orA+NBUBjfWisD40FQGN9aKwPjQVAY31orA+NBUBjfWisD40FQGN9aKwPjQVAgpdT8HIKBkCCl1PwcgoGQIKXU/ByCgZAgpdT8HIKBkCCl1PwcgoGQIKXU/ByCgZAgpdT8HIKBkCCl1PwcgoGQIKXU/ByCgZAgpdT8HIKBkCCl1PwcgoGQIKXU/ByCgZAgpdT8HIKBkCCl1PwcgoGQIKXU/ByCgZAgpdT8HIKBkCCl1PwcgoGQIKXU/ByCgZAgpdT8HIKBkCCl1PwcgoGQIKXU/ByCgZAgpdT8HIKBkCCl1PwcgoGQIKXU/ByCgZAgpdT8HIKBkCCl1PwcgoGQIKXU/ByCgZAgpdT8HIKBkCCl1PwcgoGQIKXU/ByCgZAgpdT8HIKBkCCl1PwcgoGQIKXU/ByCgZAgpdT8HIKBkCCl1PwcgoGQIKXU/ByCgZAgpdT8HIKBkCCl1PwcgoGQIKXU/ByCgZAgpdT8HIKBkCCl1PwcgoGQIKXU/ByCgZAgpdT8HIKBkCCl1PwcgoGQIKXU/ByCgZAgpdT8HIKBkCCl1PwcgoGQIKXU/ByCgZAgpdT8HIKBkCCl1PwcgoGQKKxPjTWhwZAorE+NNaHBkCisT401ocGQKKxPjTWhwZAorE+NNaHBkCisT401ocGQKKxPjTWhwZAorE+NNaHBkCisT401ocGQKKxPjTWhwZAorE+NNaHBkCisT401ocGQKKxPjTWhwZAorE+NNaHBkCisT401ocGQKKxPjTWhwZAorE+NNaHBkCisT401ocGQKKxPjTWhwZAorE+NNaHBkCisT401ocGQKKxPjTWhwZAorE+NNaHBkCisT401ocGQKKxPjTWhwZAorE+NNaHBkCisT401ocGQKKxPjTWhwZAorE+NNaHBkCisT401ocGQKKxPjTWhwZAorE+NNaHBkCisT401ocGQKKxPjTWhwZAorE+NNaHBkCisT401ocGQKKxPjTWhwZAorE+NNaHBkCisT401ocGQKKxPjTWhwZAorE+NNaHBkCisT401ocGQKKxPjTWhwZAorE+NNaHBkCisT401ocGQKKxPjTWhwZAorE+NNaHBkCisT401ocGQKKxPjTWhwZAorE+NNaHBkDByyl4OQUHQMHLKXg5BQdAwcspeDkFB0DByyl4OQUHQMHLKXg5BQdAwcspeDkFB0DByyl4OQUHQMHLKXg5BQdAwcspeDkFB0DByyl4OQUHQMHLKXg5BQdAwcspeDkFB0DByyl4OQUHQMHLKXg5BQdAwcspeDkFB0DByyl4OQUHQMHLKXg5BQdAwcspeDkFB0DByyl4OQUHQMHLKXg5BQdAwcspeDkFB0DByyl4OQUHQMHLKXg5BQdAwcspeDkFB0DByyl4OQUHQMHLKXg5BQdAwcspeDkFB0DByyl4OQUHQMHLKXg5BQdAwcspeDkFB0DByyl4OQUHQMHLKXg5BQdAwcspeDkFB0DByyl4OQUHQMHLKXg5BQdAwcspeDkFB0DByyl4OQUHQMHLKXg5BQdAwcspeDkFB0DByyl4OQUHQMHLKXg5BQdAwcspeDkFB0DByyl4OQUHQMHLKXg5BQdAwcspeDkFB0DByyl4OQUHQMHLKXg5BQdAwcspeDkFB0DByyl4OQUHQMHLKXg5BQdA4OUUvJyCB0Dg5RS8nIIHQODlFLycggdA4OUUvJyCB0Dg5RS8nIIHQODlFLycggdA4OUUvJyCB0Dg5RS8nIIHQODlFLycggdA4OUUvJyCB0Dg5RS8nIIHQODlFLycggdA4OUUvJyCB0Dg5RS8nIIHQODlFLycggdA4OUUvJyCB0Dg5RS8nIIHQODlFLycggdA4OUUvJyCB0Dg5RS8nIIHQODlFLycggdA4OUUvJyCB0Dg5RS8nIIHQODlFLycggdA4OUUvJyCB0Dg5RS8nIIHQODlFLycggdA4OUUvJyCB0Dg5RS8nIIHQODlFLycggdA4OUUvJyCB0Dg5RS8nIIHQODlFLycggdA4OUUvJyCB0Dg5RS8nIIHQODlFLycggdA4OUUvJyCB0Dg5RS8nIIHQODlFLycggdA4OUUvJyCB0Dg5RS8nIIHQODlFLycggdA4OUUvJyCB0Dg5RS8nIIHQODlFLycggdA4OUUvJyCB0Dg5RS8nIIHQODlFLycggdA4OUUvJyCB0Dg5RS8nIIHQAAAAAAAAAhAAAAAAAAACEAAAAAAAAAIQAAAAAAAAAhAAAAAAAAACEAAAAAAAAAIQAAAAAAAAAhAAAAAAAAACEAAAAAAAAAIQAAAAAAAAAhAAAAAAAAACEAAAAAAAAAIQAAAAAAAAAhAAAAAAAAACEAAAAAAAAAIQAAAAAAAAAhAAAAAAAAACEAAAAAAAAAIQAAAAAAAAAhAAAAAAAAACEAAAAAAAAAIQAAAAAAAAAhAAAAAAAAACEAAAAAAAAAIQAAAAAAAAAhAAAAAAAAACEAAAAAAAAAIQAAAAAAAAAhAAAAAAAAACEAAAAAAAAAIQAAAAAAAAAhAAAAAAAAACEAAAAAAAAAIQAAAAAAAAAhAAAAAAAAACEAAAAAAAAAIQAAAAAAAAAhAAAAAAAAACEAAAAAAAAAIQAAAAAAAAAhAAAAAAAAACEAAAAAAAAAIQAAAAAAAAAhAAAAAAAAACEAAAAAAAAAIQAAAAAAAAAhAAAAAAAAACEAAAAAAAAAIQAAAAAAAAAhAAAAAAAAACEA=",
          "shape": "50, 50"
         },
         "type": "surface"
        }
       ],
       "layout": {
        "legend": {
         "itemsizing": "constant",
         "tracegroupgap": 0
        },
        "margin": {
         "t": 60
        },
        "scene": {
         "domain": {
          "x": [
           0.0,
           1.0
          ],
          "y": [
           0.0,
           1.0
          ]
         },
         "xaxis": {
          "showgrid": false,
          "title": {
           "text": "V00MBMSFMP"
          }
         },
         "yaxis": {
          "showgrid": false,
          "title": {
           "text": "V00MBMNFMP"
          }
         },
         "zaxis": {
          "showgrid": false,
          "title": {
           "text": "V00MBMPFMP"
          }
         }
        },
        "template": {
         "data": {
          "barpolar": [
           {
            "marker": {
             "line": {
              "color": "rgb(17,17,17)",
              "width": 0.5
             },
             "pattern": {
              "fillmode": "overlay",
              "size": 10,
              "solidity": 0.2
             }
            },
            "type": "barpolar"
           }
          ],
          "bar": [
           {
            "error_x": {
             "color": "#f2f5fa"
            },
            "error_y": {
             "color": "#f2f5fa"
            },
            "marker": {
             "line": {
              "color": "rgb(17,17,17)",
              "width": 0.5
             },
             "pattern": {
              "fillmode": "overlay",
              "size": 10,
              "solidity": 0.2
             }
            },
            "type": "bar"
           }
          ],
          "carpet": [
           {
            "aaxis": {
             "endlinecolor": "#A2B1C6",
             "gridcolor": "#506784",
             "linecolor": "#506784",
             "minorgridcolor": "#506784",
             "startlinecolor": "#A2B1C6"
            },
            "baxis": {
             "endlinecolor": "#A2B1C6",
             "gridcolor": "#506784",
             "linecolor": "#506784",
             "minorgridcolor": "#506784",
             "startlinecolor": "#A2B1C6"
            },
            "type": "carpet"
           }
          ],
          "choropleth": [
           {
            "colorbar": {
             "outlinewidth": 0,
             "ticks": ""
            },
            "type": "choropleth"
           }
          ],
          "contourcarpet": [
           {
            "colorbar": {
             "outlinewidth": 0,
             "ticks": ""
            },
            "type": "contourcarpet"
           }
          ],
          "contour": [
           {
            "colorbar": {
             "outlinewidth": 0,
             "ticks": ""
            },
            "colorscale": [
             [
              0.0,
              "#0d0887"
             ],
             [
              0.1111111111111111,
              "#46039f"
             ],
             [
              0.2222222222222222,
              "#7201a8"
             ],
             [
              0.3333333333333333,
              "#9c179e"
             ],
             [
              0.4444444444444444,
              "#bd3786"
             ],
             [
              0.5555555555555556,
              "#d8576b"
             ],
             [
              0.6666666666666666,
              "#ed7953"
             ],
             [
              0.7777777777777778,
              "#fb9f3a"
             ],
             [
              0.8888888888888888,
              "#fdca26"
             ],
             [
              1.0,
              "#f0f921"
             ]
            ],
            "type": "contour"
           }
          ],
          "heatmap": [
           {
            "colorbar": {
             "outlinewidth": 0,
             "ticks": ""
            },
            "colorscale": [
             [
              0.0,
              "#0d0887"
             ],
             [
              0.1111111111111111,
              "#46039f"
             ],
             [
              0.2222222222222222,
              "#7201a8"
             ],
             [
              0.3333333333333333,
              "#9c179e"
             ],
             [
              0.4444444444444444,
              "#bd3786"
             ],
             [
              0.5555555555555556,
              "#d8576b"
             ],
             [
              0.6666666666666666,
              "#ed7953"
             ],
             [
              0.7777777777777778,
              "#fb9f3a"
             ],
             [
              0.8888888888888888,
              "#fdca26"
             ],
             [
              1.0,
              "#f0f921"
             ]
            ],
            "type": "heatmap"
           }
          ],
          "histogram2dcontour": [
           {
            "colorbar": {
             "outlinewidth": 0,
             "ticks": ""
            },
            "colorscale": [
             [
              0.0,
              "#0d0887"
             ],
             [
              0.1111111111111111,
              "#46039f"
             ],
             [
              0.2222222222222222,
              "#7201a8"
             ],
             [
              0.3333333333333333,
              "#9c179e"
             ],
             [
              0.4444444444444444,
              "#bd3786"
             ],
             [
              0.5555555555555556,
              "#d8576b"
             ],
             [
              0.6666666666666666,
              "#ed7953"
             ],
             [
              0.7777777777777778,
              "#fb9f3a"
             ],
             [
              0.8888888888888888,
              "#fdca26"
             ],
             [
              1.0,
              "#f0f921"
             ]
            ],
            "type": "histogram2dcontour"
           }
          ],
          "histogram2d": [
           {
            "colorbar": {
             "outlinewidth": 0,
             "ticks": ""
            },
            "colorscale": [
             [
              0.0,
              "#0d0887"
             ],
             [
              0.1111111111111111,
              "#46039f"
             ],
             [
              0.2222222222222222,
              "#7201a8"
             ],
             [
              0.3333333333333333,
              "#9c179e"
             ],
             [
              0.4444444444444444,
              "#bd3786"
             ],
             [
              0.5555555555555556,
              "#d8576b"
             ],
             [
              0.6666666666666666,
              "#ed7953"
             ],
             [
              0.7777777777777778,
              "#fb9f3a"
             ],
             [
              0.8888888888888888,
              "#fdca26"
             ],
             [
              1.0,
              "#f0f921"
             ]
            ],
            "type": "histogram2d"
           }
          ],
          "histogram": [
           {
            "marker": {
             "pattern": {
              "fillmode": "overlay",
              "size": 10,
              "solidity": 0.2
             }
            },
            "type": "histogram"
           }
          ],
          "mesh3d": [
           {
            "colorbar": {
             "outlinewidth": 0,
             "ticks": ""
            },
            "type": "mesh3d"
           }
          ],
          "parcoords": [
           {
            "line": {
             "colorbar": {
              "outlinewidth": 0,
              "ticks": ""
             }
            },
            "type": "parcoords"
           }
          ],
          "pie": [
           {
            "automargin": true,
            "type": "pie"
           }
          ],
          "scatter3d": [
           {
            "line": {
             "colorbar": {
              "outlinewidth": 0,
              "ticks": ""
             }
            },
            "marker": {
             "colorbar": {
              "outlinewidth": 0,
              "ticks": ""
             }
            },
            "type": "scatter3d"
           }
          ],
          "scattercarpet": [
           {
            "marker": {
             "colorbar": {
              "outlinewidth": 0,
              "ticks": ""
             }
            },
            "type": "scattercarpet"
           }
          ],
          "scattergeo": [
           {
            "marker": {
             "colorbar": {
              "outlinewidth": 0,
              "ticks": ""
             }
            },
            "type": "scattergeo"
           }
          ],
          "scattergl": [
           {
            "marker": {
             "line": {
              "color": "#283442"
             }
            },
            "type": "scattergl"
           }
          ],
          "scattermapbox": [
           {
            "marker": {
             "colorbar": {
              "outlinewidth": 0,
              "ticks": ""
             }
            },
            "type": "scattermapbox"
           }
          ],
          "scattermap": [
           {
            "marker": {
             "colorbar": {
              "outlinewidth": 0,
              "ticks": ""
             }
            },
            "type": "scattermap"
           }
          ],
          "scatterpolargl": [
           {
            "marker": {
             "colorbar": {
              "outlinewidth": 0,
              "ticks": ""
             }
            },
            "type": "scatterpolargl"
           }
          ],
          "scatterpolar": [
           {
            "marker": {
             "colorbar": {
              "outlinewidth": 0,
              "ticks": ""
             }
            },
            "type": "scatterpolar"
           }
          ],
          "scatter": [
           {
            "marker": {
             "line": {
              "color": "#283442"
             }
            },
            "type": "scatter"
           }
          ],
          "scatterternary": [
           {
            "marker": {
             "colorbar": {
              "outlinewidth": 0,
              "ticks": ""
             }
            },
            "type": "scatterternary"
           }
          ],
          "surface": [
           {
            "colorbar": {
             "outlinewidth": 0,
             "ticks": ""
            },
            "colorscale": [
             [
              0.0,
              "#0d0887"
             ],
             [
              0.1111111111111111,
              "#46039f"
             ],
             [
              0.2222222222222222,
              "#7201a8"
             ],
             [
              0.3333333333333333,
              "#9c179e"
             ],
             [
              0.4444444444444444,
              "#bd3786"
             ],
             [
              0.5555555555555556,
              "#d8576b"
             ],
             [
              0.6666666666666666,
              "#ed7953"
             ],
             [
              0.7777777777777778,
              "#fb9f3a"
             ],
             [
              0.8888888888888888,
              "#fdca26"
             ],
             [
              1.0,
              "#f0f921"
             ]
            ],
            "type": "surface"
           }
          ],
          "table": [
           {
            "cells": {
             "fill": {
              "color": "#506784"
             },
             "line": {
              "color": "rgb(17,17,17)"
             }
            },
            "header": {
             "fill": {
              "color": "#2a3f5f"
             },
             "line": {
              "color": "rgb(17,17,17)"
             }
            },
            "type": "table"
           }
          ]
         },
         "layout": {
          "annotationdefaults": {
           "arrowcolor": "#f2f5fa",
           "arrowhead": 0,
           "arrowwidth": 1
          },
          "autotypenumbers": "strict",
          "coloraxis": {
           "colorbar": {
            "outlinewidth": 0,
            "ticks": ""
           }
          },
          "colorscale": {
           "diverging": [
            [
             0,
             "#8e0152"
            ],
            [
             0.1,
             "#c51b7d"
            ],
            [
             0.2,
             "#de77ae"
            ],
            [
             0.3,
             "#f1b6da"
            ],
            [
             0.4,
             "#fde0ef"
            ],
            [
             0.5,
             "#f7f7f7"
            ],
            [
             0.6,
             "#e6f5d0"
            ],
            [
             0.7,
             "#b8e186"
            ],
            [
             0.8,
             "#7fbc41"
            ],
            [
             0.9,
             "#4d9221"
            ],
            [
             1,
             "#276419"
            ]
           ],
           "sequential": [
            [
             0.0,
             "#0d0887"
            ],
            [
             0.1111111111111111,
             "#46039f"
            ],
            [
             0.2222222222222222,
             "#7201a8"
            ],
            [
             0.3333333333333333,
             "#9c179e"
            ],
            [
             0.4444444444444444,
             "#bd3786"
            ],
            [
             0.5555555555555556,
             "#d8576b"
            ],
            [
             0.6666666666666666,
             "#ed7953"
            ],
            [
             0.7777777777777778,
             "#fb9f3a"
            ],
            [
             0.8888888888888888,
             "#fdca26"
            ],
            [
             1.0,
             "#f0f921"
            ]
           ],
           "sequentialminus": [
            [
             0.0,
             "#0d0887"
            ],
            [
             0.1111111111111111,
             "#46039f"
            ],
            [
             0.2222222222222222,
             "#7201a8"
            ],
            [
             0.3333333333333333,
             "#9c179e"
            ],
            [
             0.4444444444444444,
             "#bd3786"
            ],
            [
             0.5555555555555556,
             "#d8576b"
            ],
            [
             0.6666666666666666,
             "#ed7953"
            ],
            [
             0.7777777777777778,
             "#fb9f3a"
            ],
            [
             0.8888888888888888,
             "#fdca26"
            ],
            [
             1.0,
             "#f0f921"
            ]
           ]
          },
          "colorway": [
           "#636efa",
           "#EF553B",
           "#00cc96",
           "#ab63fa",
           "#FFA15A",
           "#19d3f3",
           "#FF6692",
           "#B6E880",
           "#FF97FF",
           "#FECB52"
          ],
          "font": {
           "color": "#f2f5fa"
          },
          "geo": {
           "bgcolor": "rgb(17,17,17)",
           "lakecolor": "rgb(17,17,17)",
           "landcolor": "rgb(17,17,17)",
           "showlakes": true,
           "showland": true,
           "subunitcolor": "#506784"
          },
          "hoverlabel": {
           "align": "left"
          },
          "hovermode": "closest",
          "mapbox": {
           "style": "dark"
          },
          "paper_bgcolor": "rgb(17,17,17)",
          "plot_bgcolor": "rgb(17,17,17)",
          "polar": {
           "angularaxis": {
            "gridcolor": "#506784",
            "linecolor": "#506784",
            "ticks": ""
           },
           "bgcolor": "rgb(17,17,17)",
           "radialaxis": {
            "gridcolor": "#506784",
            "linecolor": "#506784",
            "ticks": ""
           }
          },
          "scene": {
           "xaxis": {
            "backgroundcolor": "rgb(17,17,17)",
            "gridcolor": "#506784",
            "gridwidth": 2,
            "linecolor": "#506784",
            "showbackground": true,
            "ticks": "",
            "zerolinecolor": "#C8D4E3"
           },
           "yaxis": {
            "backgroundcolor": "rgb(17,17,17)",
            "gridcolor": "#506784",
            "gridwidth": 2,
            "linecolor": "#506784",
            "showbackground": true,
            "ticks": "",
            "zerolinecolor": "#C8D4E3"
           },
           "zaxis": {
            "backgroundcolor": "rgb(17,17,17)",
            "gridcolor": "#506784",
            "gridwidth": 2,
            "linecolor": "#506784",
            "showbackground": true,
            "ticks": "",
            "zerolinecolor": "#C8D4E3"
           }
          },
          "shapedefaults": {
           "line": {
            "color": "#f2f5fa"
           }
          },
          "sliderdefaults": {
           "bgcolor": "#C8D4E3",
           "bordercolor": "rgb(17,17,17)",
           "borderwidth": 1,
           "tickwidth": 0
          },
          "ternary": {
           "aaxis": {
            "gridcolor": "#506784",
            "linecolor": "#506784",
            "ticks": ""
           },
           "baxis": {
            "gridcolor": "#506784",
            "linecolor": "#506784",
            "ticks": ""
           },
           "bgcolor": "rgb(17,17,17)",
           "caxis": {
            "gridcolor": "#506784",
            "linecolor": "#506784",
            "ticks": ""
           }
          },
          "title": {
           "x": 0.05
          },
          "updatemenudefaults": {
           "bgcolor": "#506784",
           "borderwidth": 0
          },
          "xaxis": {
           "automargin": true,
           "gridcolor": "#283442",
           "linecolor": "#506784",
           "ticks": "",
           "title": {
            "standoff": 15
           },
           "zerolinecolor": "#283442",
           "zerolinewidth": 2
          },
          "yaxis": {
           "automargin": true,
           "gridcolor": "#283442",
           "linecolor": "#506784",
           "ticks": "",
           "title": {
            "standoff": 15
           },
           "zerolinecolor": "#283442",
           "zerolinewidth": 2
          }
         }
        },
        "title": {
         "text": "V00MBMPFMP ~ V00MBMNFMP + V00MBMSFMP + I(V00MBMNFMP**2) + I(V00MBMSFMP**2) + I(V00MBMNFMP**3) + I(V00MBMSFMP**3)",
         "x": 0.5,
         "xanchor": "center"
        }
       },
       "config": {
        "plotlyServerURL": "https://plot.ly"
       }
      }
     },
     "metadata": {},
     "output_type": "display_data"
    }
   ],
   "execution_count": 10
  },
  {
   "metadata": {
    "ExecuteTime": {
     "end_time": "2025-08-12T16:50:45.193109Z",
     "start_time": "2025-08-12T16:50:45.186660Z"
    }
   },
   "cell_type": "code",
   "source": [
    "from scripts.fm.fm_relationships import fma_p_matrix, fmp_p_matrix, fmc_p_matrix\n",
    "\n",
    "display(fma_p_matrix)"
   ],
   "id": "8b72296fe80ffb4b",
   "outputs": [
    {
     "data": {
      "text/plain": [
       "                                 V00MBMSFMA    V00MBMNFMA    V00MBMPFMA\n",
       "V00MBMSFMA                              NaN  0.000000e+00  1.757196e-01\n",
       "V00MBMNFMA                     0.000000e+00           NaN  1.332711e-99\n",
       "V00MBMPFMA                     3.719624e-04  2.819606e-93           NaN\n",
       "I(V00MBMSFMA ** 2)                      NaN  0.000000e+00  3.458982e-01\n",
       "I(V00MBMSFMA ** 3)                      NaN  0.000000e+00  1.598598e-05\n",
       "V00MBMNFMA:I(V00MBMSFMA ** 2)           NaN           NaN  1.500400e-15\n",
       "V00MBMNFMA:I(V00MBMSFMA ** 3)           NaN           NaN  3.027213e-08\n",
       "V00MBMNFMA:V00MBMSFMA                   NaN           NaN  2.934102e-18\n",
       "V00MBMPFMA:I(V00MBMSFMA ** 2)           NaN  0.000000e+00           NaN\n",
       "V00MBMPFMA:I(V00MBMSFMA ** 3)           NaN  0.000000e+00           NaN\n",
       "V00MBMPFMA:V00MBMSFMA                   NaN  0.000000e+00           NaN\n",
       "I(V00MBMNFMA ** 2)             1.087036e-85           NaN  1.623433e-05\n",
       "I(V00MBMNFMA ** 3)             4.697260e-02           NaN  3.017401e-01\n",
       "V00MBMNFMA:I(V00MBMPFMA ** 2)  4.820909e-72           NaN           NaN\n",
       "V00MBMNFMA:I(V00MBMPFMA ** 3)  1.394849e-70           NaN           NaN\n",
       "V00MBMNFMA:V00MBMPFMA          5.293627e-73           NaN           NaN\n",
       "I(V00MBMPFMA ** 2)             1.430044e-09  5.057949e-07           NaN\n",
       "I(V00MBMPFMA ** 3)             4.253029e-09  9.447717e-05           NaN"
      ],
      "text/html": [
       "<div>\n",
       "<style scoped>\n",
       "    .dataframe tbody tr th:only-of-type {\n",
       "        vertical-align: middle;\n",
       "    }\n",
       "\n",
       "    .dataframe tbody tr th {\n",
       "        vertical-align: top;\n",
       "    }\n",
       "\n",
       "    .dataframe thead th {\n",
       "        text-align: right;\n",
       "    }\n",
       "</style>\n",
       "<table border=\"1\" class=\"dataframe\">\n",
       "  <thead>\n",
       "    <tr style=\"text-align: right;\">\n",
       "      <th></th>\n",
       "      <th>V00MBMSFMA</th>\n",
       "      <th>V00MBMNFMA</th>\n",
       "      <th>V00MBMPFMA</th>\n",
       "    </tr>\n",
       "  </thead>\n",
       "  <tbody>\n",
       "    <tr>\n",
       "      <th>V00MBMSFMA</th>\n",
       "      <td>NaN</td>\n",
       "      <td>0.000000e+00</td>\n",
       "      <td>1.757196e-01</td>\n",
       "    </tr>\n",
       "    <tr>\n",
       "      <th>V00MBMNFMA</th>\n",
       "      <td>0.000000e+00</td>\n",
       "      <td>NaN</td>\n",
       "      <td>1.332711e-99</td>\n",
       "    </tr>\n",
       "    <tr>\n",
       "      <th>V00MBMPFMA</th>\n",
       "      <td>3.719624e-04</td>\n",
       "      <td>2.819606e-93</td>\n",
       "      <td>NaN</td>\n",
       "    </tr>\n",
       "    <tr>\n",
       "      <th>I(V00MBMSFMA ** 2)</th>\n",
       "      <td>NaN</td>\n",
       "      <td>0.000000e+00</td>\n",
       "      <td>3.458982e-01</td>\n",
       "    </tr>\n",
       "    <tr>\n",
       "      <th>I(V00MBMSFMA ** 3)</th>\n",
       "      <td>NaN</td>\n",
       "      <td>0.000000e+00</td>\n",
       "      <td>1.598598e-05</td>\n",
       "    </tr>\n",
       "    <tr>\n",
       "      <th>V00MBMNFMA:I(V00MBMSFMA ** 2)</th>\n",
       "      <td>NaN</td>\n",
       "      <td>NaN</td>\n",
       "      <td>1.500400e-15</td>\n",
       "    </tr>\n",
       "    <tr>\n",
       "      <th>V00MBMNFMA:I(V00MBMSFMA ** 3)</th>\n",
       "      <td>NaN</td>\n",
       "      <td>NaN</td>\n",
       "      <td>3.027213e-08</td>\n",
       "    </tr>\n",
       "    <tr>\n",
       "      <th>V00MBMNFMA:V00MBMSFMA</th>\n",
       "      <td>NaN</td>\n",
       "      <td>NaN</td>\n",
       "      <td>2.934102e-18</td>\n",
       "    </tr>\n",
       "    <tr>\n",
       "      <th>V00MBMPFMA:I(V00MBMSFMA ** 2)</th>\n",
       "      <td>NaN</td>\n",
       "      <td>0.000000e+00</td>\n",
       "      <td>NaN</td>\n",
       "    </tr>\n",
       "    <tr>\n",
       "      <th>V00MBMPFMA:I(V00MBMSFMA ** 3)</th>\n",
       "      <td>NaN</td>\n",
       "      <td>0.000000e+00</td>\n",
       "      <td>NaN</td>\n",
       "    </tr>\n",
       "    <tr>\n",
       "      <th>V00MBMPFMA:V00MBMSFMA</th>\n",
       "      <td>NaN</td>\n",
       "      <td>0.000000e+00</td>\n",
       "      <td>NaN</td>\n",
       "    </tr>\n",
       "    <tr>\n",
       "      <th>I(V00MBMNFMA ** 2)</th>\n",
       "      <td>1.087036e-85</td>\n",
       "      <td>NaN</td>\n",
       "      <td>1.623433e-05</td>\n",
       "    </tr>\n",
       "    <tr>\n",
       "      <th>I(V00MBMNFMA ** 3)</th>\n",
       "      <td>4.697260e-02</td>\n",
       "      <td>NaN</td>\n",
       "      <td>3.017401e-01</td>\n",
       "    </tr>\n",
       "    <tr>\n",
       "      <th>V00MBMNFMA:I(V00MBMPFMA ** 2)</th>\n",
       "      <td>4.820909e-72</td>\n",
       "      <td>NaN</td>\n",
       "      <td>NaN</td>\n",
       "    </tr>\n",
       "    <tr>\n",
       "      <th>V00MBMNFMA:I(V00MBMPFMA ** 3)</th>\n",
       "      <td>1.394849e-70</td>\n",
       "      <td>NaN</td>\n",
       "      <td>NaN</td>\n",
       "    </tr>\n",
       "    <tr>\n",
       "      <th>V00MBMNFMA:V00MBMPFMA</th>\n",
       "      <td>5.293627e-73</td>\n",
       "      <td>NaN</td>\n",
       "      <td>NaN</td>\n",
       "    </tr>\n",
       "    <tr>\n",
       "      <th>I(V00MBMPFMA ** 2)</th>\n",
       "      <td>1.430044e-09</td>\n",
       "      <td>5.057949e-07</td>\n",
       "      <td>NaN</td>\n",
       "    </tr>\n",
       "    <tr>\n",
       "      <th>I(V00MBMPFMA ** 3)</th>\n",
       "      <td>4.253029e-09</td>\n",
       "      <td>9.447717e-05</td>\n",
       "      <td>NaN</td>\n",
       "    </tr>\n",
       "  </tbody>\n",
       "</table>\n",
       "</div>"
      ]
     },
     "metadata": {},
     "output_type": "display_data"
    }
   ],
   "execution_count": 11
  },
  {
   "metadata": {
    "ExecuteTime": {
     "end_time": "2025-08-12T16:50:45.257356Z",
     "start_time": "2025-08-12T16:50:45.244585Z"
    }
   },
   "cell_type": "code",
   "source": "display(fmc_p_matrix)",
   "id": "8ac0c20bf1996853",
   "outputs": [
    {
     "data": {
      "text/plain": [
       "                                  V00MBMSFMC     V00MBMNFMC     V00MBMPFMC\n",
       "V00MBMSFMC                               NaN   0.000000e+00   1.224024e-06\n",
       "V00MBMNFMC                     1.811082e-157            NaN   0.000000e+00\n",
       "V00MBMPFMC                      1.424159e-56   0.000000e+00            NaN\n",
       "I(V00MBMSFMC ** 2)                       NaN  6.029008e-145   8.377452e-07\n",
       "I(V00MBMSFMC ** 3)                       NaN   5.359807e-88   2.892868e-72\n",
       "V00MBMNFMC:I(V00MBMSFMC ** 2)            NaN            NaN  1.153827e-164\n",
       "V00MBMNFMC:I(V00MBMSFMC ** 3)            NaN            NaN   1.565009e-87\n",
       "V00MBMNFMC:V00MBMSFMC                    NaN            NaN  2.061841e-236\n",
       "V00MBMPFMC:I(V00MBMSFMC ** 2)            NaN  1.177844e-250            NaN\n",
       "V00MBMPFMC:I(V00MBMSFMC ** 3)            NaN   2.236039e-81            NaN\n",
       "V00MBMPFMC:V00MBMSFMC                    NaN   0.000000e+00            NaN\n",
       "I(V00MBMNFMC ** 2)              9.552774e-73            NaN   2.434769e-96\n",
       "I(V00MBMNFMC ** 3)              7.766913e-10            NaN   1.938595e-24\n",
       "V00MBMNFMC:I(V00MBMPFMC ** 2)  4.063028e-113            NaN            NaN\n",
       "V00MBMNFMC:I(V00MBMPFMC ** 3)  1.915141e-121            NaN            NaN\n",
       "V00MBMNFMC:V00MBMPFMC           9.619771e-98            NaN            NaN\n",
       "I(V00MBMPFMC ** 2)              3.494682e-58   2.777427e-04            NaN\n",
       "I(V00MBMPFMC ** 3)              6.219909e-84   2.508162e-02            NaN"
      ],
      "text/html": [
       "<div>\n",
       "<style scoped>\n",
       "    .dataframe tbody tr th:only-of-type {\n",
       "        vertical-align: middle;\n",
       "    }\n",
       "\n",
       "    .dataframe tbody tr th {\n",
       "        vertical-align: top;\n",
       "    }\n",
       "\n",
       "    .dataframe thead th {\n",
       "        text-align: right;\n",
       "    }\n",
       "</style>\n",
       "<table border=\"1\" class=\"dataframe\">\n",
       "  <thead>\n",
       "    <tr style=\"text-align: right;\">\n",
       "      <th></th>\n",
       "      <th>V00MBMSFMC</th>\n",
       "      <th>V00MBMNFMC</th>\n",
       "      <th>V00MBMPFMC</th>\n",
       "    </tr>\n",
       "  </thead>\n",
       "  <tbody>\n",
       "    <tr>\n",
       "      <th>V00MBMSFMC</th>\n",
       "      <td>NaN</td>\n",
       "      <td>0.000000e+00</td>\n",
       "      <td>1.224024e-06</td>\n",
       "    </tr>\n",
       "    <tr>\n",
       "      <th>V00MBMNFMC</th>\n",
       "      <td>1.811082e-157</td>\n",
       "      <td>NaN</td>\n",
       "      <td>0.000000e+00</td>\n",
       "    </tr>\n",
       "    <tr>\n",
       "      <th>V00MBMPFMC</th>\n",
       "      <td>1.424159e-56</td>\n",
       "      <td>0.000000e+00</td>\n",
       "      <td>NaN</td>\n",
       "    </tr>\n",
       "    <tr>\n",
       "      <th>I(V00MBMSFMC ** 2)</th>\n",
       "      <td>NaN</td>\n",
       "      <td>6.029008e-145</td>\n",
       "      <td>8.377452e-07</td>\n",
       "    </tr>\n",
       "    <tr>\n",
       "      <th>I(V00MBMSFMC ** 3)</th>\n",
       "      <td>NaN</td>\n",
       "      <td>5.359807e-88</td>\n",
       "      <td>2.892868e-72</td>\n",
       "    </tr>\n",
       "    <tr>\n",
       "      <th>V00MBMNFMC:I(V00MBMSFMC ** 2)</th>\n",
       "      <td>NaN</td>\n",
       "      <td>NaN</td>\n",
       "      <td>1.153827e-164</td>\n",
       "    </tr>\n",
       "    <tr>\n",
       "      <th>V00MBMNFMC:I(V00MBMSFMC ** 3)</th>\n",
       "      <td>NaN</td>\n",
       "      <td>NaN</td>\n",
       "      <td>1.565009e-87</td>\n",
       "    </tr>\n",
       "    <tr>\n",
       "      <th>V00MBMNFMC:V00MBMSFMC</th>\n",
       "      <td>NaN</td>\n",
       "      <td>NaN</td>\n",
       "      <td>2.061841e-236</td>\n",
       "    </tr>\n",
       "    <tr>\n",
       "      <th>V00MBMPFMC:I(V00MBMSFMC ** 2)</th>\n",
       "      <td>NaN</td>\n",
       "      <td>1.177844e-250</td>\n",
       "      <td>NaN</td>\n",
       "    </tr>\n",
       "    <tr>\n",
       "      <th>V00MBMPFMC:I(V00MBMSFMC ** 3)</th>\n",
       "      <td>NaN</td>\n",
       "      <td>2.236039e-81</td>\n",
       "      <td>NaN</td>\n",
       "    </tr>\n",
       "    <tr>\n",
       "      <th>V00MBMPFMC:V00MBMSFMC</th>\n",
       "      <td>NaN</td>\n",
       "      <td>0.000000e+00</td>\n",
       "      <td>NaN</td>\n",
       "    </tr>\n",
       "    <tr>\n",
       "      <th>I(V00MBMNFMC ** 2)</th>\n",
       "      <td>9.552774e-73</td>\n",
       "      <td>NaN</td>\n",
       "      <td>2.434769e-96</td>\n",
       "    </tr>\n",
       "    <tr>\n",
       "      <th>I(V00MBMNFMC ** 3)</th>\n",
       "      <td>7.766913e-10</td>\n",
       "      <td>NaN</td>\n",
       "      <td>1.938595e-24</td>\n",
       "    </tr>\n",
       "    <tr>\n",
       "      <th>V00MBMNFMC:I(V00MBMPFMC ** 2)</th>\n",
       "      <td>4.063028e-113</td>\n",
       "      <td>NaN</td>\n",
       "      <td>NaN</td>\n",
       "    </tr>\n",
       "    <tr>\n",
       "      <th>V00MBMNFMC:I(V00MBMPFMC ** 3)</th>\n",
       "      <td>1.915141e-121</td>\n",
       "      <td>NaN</td>\n",
       "      <td>NaN</td>\n",
       "    </tr>\n",
       "    <tr>\n",
       "      <th>V00MBMNFMC:V00MBMPFMC</th>\n",
       "      <td>9.619771e-98</td>\n",
       "      <td>NaN</td>\n",
       "      <td>NaN</td>\n",
       "    </tr>\n",
       "    <tr>\n",
       "      <th>I(V00MBMPFMC ** 2)</th>\n",
       "      <td>3.494682e-58</td>\n",
       "      <td>2.777427e-04</td>\n",
       "      <td>NaN</td>\n",
       "    </tr>\n",
       "    <tr>\n",
       "      <th>I(V00MBMPFMC ** 3)</th>\n",
       "      <td>6.219909e-84</td>\n",
       "      <td>2.508162e-02</td>\n",
       "      <td>NaN</td>\n",
       "    </tr>\n",
       "  </tbody>\n",
       "</table>\n",
       "</div>"
      ]
     },
     "metadata": {},
     "output_type": "display_data"
    }
   ],
   "execution_count": 12
  },
  {
   "metadata": {
    "ExecuteTime": {
     "end_time": "2025-08-12T16:50:45.413617Z",
     "start_time": "2025-08-12T16:50:45.400158Z"
    }
   },
   "cell_type": "code",
   "source": "display(fmp_p_matrix)",
   "id": "9a74160ec26c9f25",
   "outputs": [
    {
     "data": {
      "text/plain": [
       "                                  V00MBMSFMP     V00MBMNFMP     V00MBMPFMP\n",
       "V00MBMSFMP                               NaN   0.000000e+00   5.224143e-05\n",
       "V00MBMNFMP                     1.583034e-255            NaN   0.000000e+00\n",
       "V00MBMPFMP                      1.514548e-05   0.000000e+00            NaN\n",
       "I(V00MBMSFMP ** 2)                       NaN  1.546367e-216   2.064530e-07\n",
       "I(V00MBMSFMP ** 3)                       NaN  7.393745e-107   1.733841e-42\n",
       "V00MBMNFMP:I(V00MBMSFMP ** 2)            NaN            NaN  6.914700e-113\n",
       "V00MBMNFMP:I(V00MBMSFMP ** 3)            NaN            NaN   4.286734e-56\n",
       "V00MBMNFMP:V00MBMSFMP                    NaN            NaN  7.040759e-207\n",
       "V00MBMPFMP:I(V00MBMSFMP ** 2)            NaN  3.295736e-195            NaN\n",
       "V00MBMPFMP:I(V00MBMSFMP ** 3)            NaN   1.247840e-57            NaN\n",
       "V00MBMPFMP:V00MBMSFMP                    NaN   0.000000e+00            NaN\n",
       "I(V00MBMNFMP ** 2)              3.117994e-38            NaN   2.683116e-53\n",
       "I(V00MBMNFMP ** 3)              1.884184e-01            NaN   3.125196e-10\n",
       "V00MBMNFMP:I(V00MBMPFMP ** 2)   7.613896e-85            NaN            NaN\n",
       "V00MBMNFMP:I(V00MBMPFMP ** 3)   1.080094e-84            NaN            NaN\n",
       "V00MBMNFMP:V00MBMPFMP           1.904806e-75            NaN            NaN\n",
       "I(V00MBMPFMP ** 2)              4.594006e-36   8.133581e-17            NaN\n",
       "I(V00MBMPFMP ** 3)              8.502382e-64   3.672540e-12            NaN"
      ],
      "text/html": [
       "<div>\n",
       "<style scoped>\n",
       "    .dataframe tbody tr th:only-of-type {\n",
       "        vertical-align: middle;\n",
       "    }\n",
       "\n",
       "    .dataframe tbody tr th {\n",
       "        vertical-align: top;\n",
       "    }\n",
       "\n",
       "    .dataframe thead th {\n",
       "        text-align: right;\n",
       "    }\n",
       "</style>\n",
       "<table border=\"1\" class=\"dataframe\">\n",
       "  <thead>\n",
       "    <tr style=\"text-align: right;\">\n",
       "      <th></th>\n",
       "      <th>V00MBMSFMP</th>\n",
       "      <th>V00MBMNFMP</th>\n",
       "      <th>V00MBMPFMP</th>\n",
       "    </tr>\n",
       "  </thead>\n",
       "  <tbody>\n",
       "    <tr>\n",
       "      <th>V00MBMSFMP</th>\n",
       "      <td>NaN</td>\n",
       "      <td>0.000000e+00</td>\n",
       "      <td>5.224143e-05</td>\n",
       "    </tr>\n",
       "    <tr>\n",
       "      <th>V00MBMNFMP</th>\n",
       "      <td>1.583034e-255</td>\n",
       "      <td>NaN</td>\n",
       "      <td>0.000000e+00</td>\n",
       "    </tr>\n",
       "    <tr>\n",
       "      <th>V00MBMPFMP</th>\n",
       "      <td>1.514548e-05</td>\n",
       "      <td>0.000000e+00</td>\n",
       "      <td>NaN</td>\n",
       "    </tr>\n",
       "    <tr>\n",
       "      <th>I(V00MBMSFMP ** 2)</th>\n",
       "      <td>NaN</td>\n",
       "      <td>1.546367e-216</td>\n",
       "      <td>2.064530e-07</td>\n",
       "    </tr>\n",
       "    <tr>\n",
       "      <th>I(V00MBMSFMP ** 3)</th>\n",
       "      <td>NaN</td>\n",
       "      <td>7.393745e-107</td>\n",
       "      <td>1.733841e-42</td>\n",
       "    </tr>\n",
       "    <tr>\n",
       "      <th>V00MBMNFMP:I(V00MBMSFMP ** 2)</th>\n",
       "      <td>NaN</td>\n",
       "      <td>NaN</td>\n",
       "      <td>6.914700e-113</td>\n",
       "    </tr>\n",
       "    <tr>\n",
       "      <th>V00MBMNFMP:I(V00MBMSFMP ** 3)</th>\n",
       "      <td>NaN</td>\n",
       "      <td>NaN</td>\n",
       "      <td>4.286734e-56</td>\n",
       "    </tr>\n",
       "    <tr>\n",
       "      <th>V00MBMNFMP:V00MBMSFMP</th>\n",
       "      <td>NaN</td>\n",
       "      <td>NaN</td>\n",
       "      <td>7.040759e-207</td>\n",
       "    </tr>\n",
       "    <tr>\n",
       "      <th>V00MBMPFMP:I(V00MBMSFMP ** 2)</th>\n",
       "      <td>NaN</td>\n",
       "      <td>3.295736e-195</td>\n",
       "      <td>NaN</td>\n",
       "    </tr>\n",
       "    <tr>\n",
       "      <th>V00MBMPFMP:I(V00MBMSFMP ** 3)</th>\n",
       "      <td>NaN</td>\n",
       "      <td>1.247840e-57</td>\n",
       "      <td>NaN</td>\n",
       "    </tr>\n",
       "    <tr>\n",
       "      <th>V00MBMPFMP:V00MBMSFMP</th>\n",
       "      <td>NaN</td>\n",
       "      <td>0.000000e+00</td>\n",
       "      <td>NaN</td>\n",
       "    </tr>\n",
       "    <tr>\n",
       "      <th>I(V00MBMNFMP ** 2)</th>\n",
       "      <td>3.117994e-38</td>\n",
       "      <td>NaN</td>\n",
       "      <td>2.683116e-53</td>\n",
       "    </tr>\n",
       "    <tr>\n",
       "      <th>I(V00MBMNFMP ** 3)</th>\n",
       "      <td>1.884184e-01</td>\n",
       "      <td>NaN</td>\n",
       "      <td>3.125196e-10</td>\n",
       "    </tr>\n",
       "    <tr>\n",
       "      <th>V00MBMNFMP:I(V00MBMPFMP ** 2)</th>\n",
       "      <td>7.613896e-85</td>\n",
       "      <td>NaN</td>\n",
       "      <td>NaN</td>\n",
       "    </tr>\n",
       "    <tr>\n",
       "      <th>V00MBMNFMP:I(V00MBMPFMP ** 3)</th>\n",
       "      <td>1.080094e-84</td>\n",
       "      <td>NaN</td>\n",
       "      <td>NaN</td>\n",
       "    </tr>\n",
       "    <tr>\n",
       "      <th>V00MBMNFMP:V00MBMPFMP</th>\n",
       "      <td>1.904806e-75</td>\n",
       "      <td>NaN</td>\n",
       "      <td>NaN</td>\n",
       "    </tr>\n",
       "    <tr>\n",
       "      <th>I(V00MBMPFMP ** 2)</th>\n",
       "      <td>4.594006e-36</td>\n",
       "      <td>8.133581e-17</td>\n",
       "      <td>NaN</td>\n",
       "    </tr>\n",
       "    <tr>\n",
       "      <th>I(V00MBMPFMP ** 3)</th>\n",
       "      <td>8.502382e-64</td>\n",
       "      <td>3.672540e-12</td>\n",
       "      <td>NaN</td>\n",
       "    </tr>\n",
       "  </tbody>\n",
       "</table>\n",
       "</div>"
      ]
     },
     "metadata": {},
     "output_type": "display_data"
    }
   ],
   "execution_count": 13
  }
 ],
 "metadata": {
  "kernelspec": {
   "display_name": "Python 3",
   "language": "python",
   "name": "python3"
  },
  "language_info": {
   "codemirror_mode": {
    "name": "ipython",
    "version": 2
   },
   "file_extension": ".py",
   "mimetype": "text/x-python",
   "name": "python",
   "nbconvert_exporter": "python",
   "pygments_lexer": "ipython2",
   "version": "2.7.6"
  }
 },
 "nbformat": 4,
 "nbformat_minor": 5
}
