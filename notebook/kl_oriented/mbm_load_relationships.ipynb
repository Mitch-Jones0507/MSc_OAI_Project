{
 "cells": [
  {
   "metadata": {},
   "cell_type": "markdown",
   "source": [
    " # MBM Load Relationships\n",
    "### V00MBMSFMLOAD vs V00MBMNFMLOAD vs V00MBMPFMLOAD\n",
    "This 3D-plot displays the scatter between each BML-load 'component', where frequency of observation is represented as the size of the data point."
   ],
   "id": "d07855957a9ebdf3"
  },
  {
   "cell_type": "code",
   "id": "f4b82681-c250-4483-85e9-0acac693236d",
   "metadata": {
    "ExecuteTime": {
     "end_time": "2025-08-12T16:48:54.378967Z",
     "start_time": "2025-08-12T16:48:52.162157Z"
    }
   },
   "source": [
    "import pandas as pd\n",
    "from modules.plot_moaks_data import plot_moaks_data\n",
    "from scripts.mbm.mbm_load_relationships import v00_moaks_shared_kl_mbm_load\n",
    "pd.options.mode.chained_assignment = None\n",
    "\n",
    "moaks_3d_mbm_load_scatter = plot_moaks_data(v00_moaks_shared_kl_mbm_load)\n",
    "moaks_3d_mbm_load_scatter.show()\n"
   ],
   "outputs": [
    {
     "data": {
      "application/vnd.plotly.v1+json": {
       "data": [
        {
         "hovertemplate": "V00MBMSFMLOAD=%{x}<br>V00MBMNFMLOAD=%{y}<br>V00MBMPFMLOAD=%{z}<br>count=%{marker.size}<extra></extra>",
         "legendgroup": "",
         "marker": {
          "color": "#636efa",
          "opacity": 0.8,
          "size": {
           "dtype": "i2",
           "bdata": "qgkCAMUAAQADAH8AGAA3AFQBAQAIAAMABwAgAAIASAAJAAkAEwAzAAIABwADAAgADQAHAAoAJwABAAIAAQABAAQABgABAAEAAwABABkAAQABAA0ADwABAAEAAgADAAkAGAADAAgAAQABAAUAAQABAAIAAgABAAMAAQABAAIAAQALAAEAAwAGAAsAAgACAAIAAgABAAEAAQABAAEABgABAAIABwAEAAEAAQACAAEAAQABAAEAAQABAAEAAgABAAEAAQACAA=="
          },
          "sizemode": "area",
          "sizeref": 1.54625,
          "symbol": "circle"
         },
         "mode": "markers",
         "name": "",
         "scene": "scene",
         "showlegend": false,
         "x": {
          "dtype": "f8",
          "bdata": "AAAAAAAAAAAAAAAAAAAAAAAAAAAAAPA/AAAAAAAA8D8AAAAAAADwPwAAAAAAAPA/AAAAAAAA8D8AAAAAAADwPwAAAAAAAPA/AAAAAAAA8D8AAAAAAADwPwAAAAAAAPA/AAAAAAAA8D8AAAAAAADwPwAAAAAAAPA/AAAAAAAAAEAAAAAAAAAAQAAAAAAAAABAAAAAAAAAAEAAAAAAAAAAQAAAAAAAAABAAAAAAAAAAEAAAAAAAAAAQAAAAAAAAABAAAAAAAAAAEAAAAAAAAAAQAAAAAAAAABAAAAAAAAAAEAAAAAAAAAAQAAAAAAAAABAAAAAAAAAAEAAAAAAAAAAQAAAAAAAAABAAAAAAAAAAEAAAAAAAAAAQAAAAAAAAABAAAAAAAAAAEAAAAAAAAAAQAAAAAAAAAhAAAAAAAAACEAAAAAAAAAIQAAAAAAAAAhAAAAAAAAACEAAAAAAAAAIQAAAAAAAAAhAAAAAAAAACEAAAAAAAAAIQAAAAAAAAAhAAAAAAAAACEAAAAAAAAAIQAAAAAAAAAhAAAAAAAAACEAAAAAAAAAIQAAAAAAAAAhAAAAAAAAACEAAAAAAAAAIQAAAAAAAAAhAAAAAAAAACEAAAAAAAAAIQAAAAAAAAAhAAAAAAAAACEAAAAAAAAAIQAAAAAAAAAhAAAAAAAAACEAAAAAAAAAQQAAAAAAAABBAAAAAAAAAEEAAAAAAAAAQQAAAAAAAABBAAAAAAAAAEEAAAAAAAAAQQAAAAAAAABBAAAAAAAAAEEAAAAAAAAAQQAAAAAAAABBAAAAAAAAAEEAAAAAAAAAQQAAAAAAAABBAAAAAAAAAFEAAAAAAAAAUQAAAAAAAABRAAAAAAAAAFEAAAAAAAAAUQAAAAAAAABRAAAAAAAAAFEAAAAAAAAAUQAAAAAAAABRAAAAAAAAAFEAAAAAAAAAUQAAAAAAAABRAAAAAAAAAFEAAAAAAAAAUQAAAAAAAABhAAAAAAAAAGEAAAAAAAAAYQAAAAAAAABhAAAAAAAAAGEAAAAAAAAAcQA=="
         },
         "y": {
          "dtype": "f8",
          "bdata": "AAAAAAAAAAAAAAAAAADwPwAAAAAAAAAAAAAAAAAAAAAAAAAAAAAAAAAAAAAAAPA/AAAAAAAA8D8AAAAAAADwPwAAAAAAAPA/AAAAAAAA8D8AAAAAAAAAQAAAAAAAAABAAAAAAAAAAEAAAAAAAAAAQAAAAAAAAAhAAAAAAAAAAAAAAAAAAADwPwAAAAAAAPA/AAAAAAAA8D8AAAAAAADwPwAAAAAAAPA/AAAAAAAAAEAAAAAAAAAAQAAAAAAAAABAAAAAAAAAAEAAAAAAAAAAQAAAAAAAAABAAAAAAAAAAEAAAAAAAAAIQAAAAAAAAAhAAAAAAAAACEAAAAAAAAAIQAAAAAAAAAhAAAAAAAAACEAAAAAAAAAQQAAAAAAAABBAAAAAAAAAEEAAAAAAAAAUQAAAAAAAAAAAAAAAAAAA8D8AAAAAAADwPwAAAAAAAPA/AAAAAAAA8D8AAAAAAAAAQAAAAAAAAABAAAAAAAAAAEAAAAAAAAAAQAAAAAAAAABAAAAAAAAAAEAAAAAAAAAIQAAAAAAAAAhAAAAAAAAACEAAAAAAAAAIQAAAAAAAAAhAAAAAAAAAEEAAAAAAAAAQQAAAAAAAABBAAAAAAAAAEEAAAAAAAAAQQAAAAAAAABBAAAAAAAAAFEAAAAAAAAAUQAAAAAAAABRAAAAAAAAAGEAAAAAAAAAAAAAAAAAAAABAAAAAAAAAAEAAAAAAAAAAQAAAAAAAAABAAAAAAAAACEAAAAAAAAAIQAAAAAAAAAhAAAAAAAAACEAAAAAAAAAQQAAAAAAAABBAAAAAAAAAFEAAAAAAAAAUQAAAAAAAABRAAAAAAAAAAAAAAAAAAAAAQAAAAAAAAABAAAAAAAAAAEAAAAAAAAAAQAAAAAAAAAhAAAAAAAAACEAAAAAAAAAIQAAAAAAAABBAAAAAAAAAEEAAAAAAAAAQQAAAAAAAABBAAAAAAAAAFEAAAAAAAAAYQAAAAAAAAABAAAAAAAAAAEAAAAAAAAAAQAAAAAAAAAhAAAAAAAAAEEAAAAAAAAAAAA=="
         },
         "z": {
          "dtype": "f8",
          "bdata": "AAAAAAAAAAAAAAAAAAAAAAAAAAAAAAAAAAAAAAAA8D8AAAAAAAAIQAAAAAAAAAAAAAAAAAAA8D8AAAAAAAAAQAAAAAAAAAhAAAAAAAAAEEAAAAAAAAAAAAAAAAAAAPA/AAAAAAAAAEAAAAAAAAAIQAAAAAAAAAhAAAAAAAAAAAAAAAAAAAAAAAAAAAAAAPA/AAAAAAAAAEAAAAAAAAAIQAAAAAAAABhAAAAAAAAAAAAAAAAAAADwPwAAAAAAAABAAAAAAAAACEAAAAAAAAAQQAAAAAAAABRAAAAAAAAAGEAAAAAAAAAAAAAAAAAAAABAAAAAAAAACEAAAAAAAAAQQAAAAAAAABRAAAAAAAAAGEAAAAAAAAAAQAAAAAAAABRAAAAAAAAAGEAAAAAAAAAYQAAAAAAAAAAAAAAAAAAAAAAAAAAAAADwPwAAAAAAAABAAAAAAAAACEAAAAAAAADwPwAAAAAAAABAAAAAAAAACEAAAAAAAAAQQAAAAAAAABRAAAAAAAAAGEAAAAAAAAAUQAAAAAAAABhAAAAAAAAAHEAAAAAAAAAgQAAAAAAAACJAAAAAAAAAAEAAAAAAAAAQQAAAAAAAABRAAAAAAAAAGEAAAAAAAAAgQAAAAAAAACJAAAAAAAAAFEAAAAAAAAAgQAAAAAAAACJAAAAAAAAAFEAAAAAAAAAAAAAAAAAAAAAAAAAAAAAAEEAAAAAAAAAUQAAAAAAAABhAAAAAAAAAGEAAAAAAAAAcQAAAAAAAACBAAAAAAAAAIkAAAAAAAAAUQAAAAAAAABhAAAAAAAAACEAAAAAAAAAUQAAAAAAAABxAAAAAAAAAAAAAAAAAAAAIQAAAAAAAABBAAAAAAAAAFEAAAAAAAAAYQAAAAAAAABhAAAAAAAAAIEAAAAAAAAAiQAAAAAAAABBAAAAAAAAAFEAAAAAAAAAYQAAAAAAAABxAAAAAAAAAGEAAAAAAAAAcQAAAAAAAABBAAAAAAAAAFEAAAAAAAAAYQAAAAAAAACJAAAAAAAAAGEAAAAAAAAAAAA=="
         },
         "type": "scatter3d"
        }
       ],
       "layout": {
        "template": {
         "data": {
          "histogram2dcontour": [
           {
            "type": "histogram2dcontour",
            "colorbar": {
             "outlinewidth": 0,
             "ticks": ""
            },
            "colorscale": [
             [
              0.0,
              "#0d0887"
             ],
             [
              0.1111111111111111,
              "#46039f"
             ],
             [
              0.2222222222222222,
              "#7201a8"
             ],
             [
              0.3333333333333333,
              "#9c179e"
             ],
             [
              0.4444444444444444,
              "#bd3786"
             ],
             [
              0.5555555555555556,
              "#d8576b"
             ],
             [
              0.6666666666666666,
              "#ed7953"
             ],
             [
              0.7777777777777778,
              "#fb9f3a"
             ],
             [
              0.8888888888888888,
              "#fdca26"
             ],
             [
              1.0,
              "#f0f921"
             ]
            ]
           }
          ],
          "choropleth": [
           {
            "type": "choropleth",
            "colorbar": {
             "outlinewidth": 0,
             "ticks": ""
            }
           }
          ],
          "histogram2d": [
           {
            "type": "histogram2d",
            "colorbar": {
             "outlinewidth": 0,
             "ticks": ""
            },
            "colorscale": [
             [
              0.0,
              "#0d0887"
             ],
             [
              0.1111111111111111,
              "#46039f"
             ],
             [
              0.2222222222222222,
              "#7201a8"
             ],
             [
              0.3333333333333333,
              "#9c179e"
             ],
             [
              0.4444444444444444,
              "#bd3786"
             ],
             [
              0.5555555555555556,
              "#d8576b"
             ],
             [
              0.6666666666666666,
              "#ed7953"
             ],
             [
              0.7777777777777778,
              "#fb9f3a"
             ],
             [
              0.8888888888888888,
              "#fdca26"
             ],
             [
              1.0,
              "#f0f921"
             ]
            ]
           }
          ],
          "heatmap": [
           {
            "type": "heatmap",
            "colorbar": {
             "outlinewidth": 0,
             "ticks": ""
            },
            "colorscale": [
             [
              0.0,
              "#0d0887"
             ],
             [
              0.1111111111111111,
              "#46039f"
             ],
             [
              0.2222222222222222,
              "#7201a8"
             ],
             [
              0.3333333333333333,
              "#9c179e"
             ],
             [
              0.4444444444444444,
              "#bd3786"
             ],
             [
              0.5555555555555556,
              "#d8576b"
             ],
             [
              0.6666666666666666,
              "#ed7953"
             ],
             [
              0.7777777777777778,
              "#fb9f3a"
             ],
             [
              0.8888888888888888,
              "#fdca26"
             ],
             [
              1.0,
              "#f0f921"
             ]
            ]
           }
          ],
          "contourcarpet": [
           {
            "type": "contourcarpet",
            "colorbar": {
             "outlinewidth": 0,
             "ticks": ""
            }
           }
          ],
          "contour": [
           {
            "type": "contour",
            "colorbar": {
             "outlinewidth": 0,
             "ticks": ""
            },
            "colorscale": [
             [
              0.0,
              "#0d0887"
             ],
             [
              0.1111111111111111,
              "#46039f"
             ],
             [
              0.2222222222222222,
              "#7201a8"
             ],
             [
              0.3333333333333333,
              "#9c179e"
             ],
             [
              0.4444444444444444,
              "#bd3786"
             ],
             [
              0.5555555555555556,
              "#d8576b"
             ],
             [
              0.6666666666666666,
              "#ed7953"
             ],
             [
              0.7777777777777778,
              "#fb9f3a"
             ],
             [
              0.8888888888888888,
              "#fdca26"
             ],
             [
              1.0,
              "#f0f921"
             ]
            ]
           }
          ],
          "surface": [
           {
            "type": "surface",
            "colorbar": {
             "outlinewidth": 0,
             "ticks": ""
            },
            "colorscale": [
             [
              0.0,
              "#0d0887"
             ],
             [
              0.1111111111111111,
              "#46039f"
             ],
             [
              0.2222222222222222,
              "#7201a8"
             ],
             [
              0.3333333333333333,
              "#9c179e"
             ],
             [
              0.4444444444444444,
              "#bd3786"
             ],
             [
              0.5555555555555556,
              "#d8576b"
             ],
             [
              0.6666666666666666,
              "#ed7953"
             ],
             [
              0.7777777777777778,
              "#fb9f3a"
             ],
             [
              0.8888888888888888,
              "#fdca26"
             ],
             [
              1.0,
              "#f0f921"
             ]
            ]
           }
          ],
          "mesh3d": [
           {
            "type": "mesh3d",
            "colorbar": {
             "outlinewidth": 0,
             "ticks": ""
            }
           }
          ],
          "scatter": [
           {
            "marker": {
             "line": {
              "color": "#283442"
             }
            },
            "type": "scatter"
           }
          ],
          "parcoords": [
           {
            "type": "parcoords",
            "line": {
             "colorbar": {
              "outlinewidth": 0,
              "ticks": ""
             }
            }
           }
          ],
          "scatterpolargl": [
           {
            "type": "scatterpolargl",
            "marker": {
             "colorbar": {
              "outlinewidth": 0,
              "ticks": ""
             }
            }
           }
          ],
          "bar": [
           {
            "error_x": {
             "color": "#f2f5fa"
            },
            "error_y": {
             "color": "#f2f5fa"
            },
            "marker": {
             "line": {
              "color": "rgb(17,17,17)",
              "width": 0.5
             },
             "pattern": {
              "fillmode": "overlay",
              "size": 10,
              "solidity": 0.2
             }
            },
            "type": "bar"
           }
          ],
          "scattergeo": [
           {
            "type": "scattergeo",
            "marker": {
             "colorbar": {
              "outlinewidth": 0,
              "ticks": ""
             }
            }
           }
          ],
          "scatterpolar": [
           {
            "type": "scatterpolar",
            "marker": {
             "colorbar": {
              "outlinewidth": 0,
              "ticks": ""
             }
            }
           }
          ],
          "histogram": [
           {
            "marker": {
             "pattern": {
              "fillmode": "overlay",
              "size": 10,
              "solidity": 0.2
             }
            },
            "type": "histogram"
           }
          ],
          "scattergl": [
           {
            "marker": {
             "line": {
              "color": "#283442"
             }
            },
            "type": "scattergl"
           }
          ],
          "scatter3d": [
           {
            "type": "scatter3d",
            "line": {
             "colorbar": {
              "outlinewidth": 0,
              "ticks": ""
             }
            },
            "marker": {
             "colorbar": {
              "outlinewidth": 0,
              "ticks": ""
             }
            }
           }
          ],
          "scattermap": [
           {
            "type": "scattermap",
            "marker": {
             "colorbar": {
              "outlinewidth": 0,
              "ticks": ""
             }
            }
           }
          ],
          "scattermapbox": [
           {
            "type": "scattermapbox",
            "marker": {
             "colorbar": {
              "outlinewidth": 0,
              "ticks": ""
             }
            }
           }
          ],
          "scatterternary": [
           {
            "type": "scatterternary",
            "marker": {
             "colorbar": {
              "outlinewidth": 0,
              "ticks": ""
             }
            }
           }
          ],
          "scattercarpet": [
           {
            "type": "scattercarpet",
            "marker": {
             "colorbar": {
              "outlinewidth": 0,
              "ticks": ""
             }
            }
           }
          ],
          "carpet": [
           {
            "aaxis": {
             "endlinecolor": "#A2B1C6",
             "gridcolor": "#506784",
             "linecolor": "#506784",
             "minorgridcolor": "#506784",
             "startlinecolor": "#A2B1C6"
            },
            "baxis": {
             "endlinecolor": "#A2B1C6",
             "gridcolor": "#506784",
             "linecolor": "#506784",
             "minorgridcolor": "#506784",
             "startlinecolor": "#A2B1C6"
            },
            "type": "carpet"
           }
          ],
          "table": [
           {
            "cells": {
             "fill": {
              "color": "#506784"
             },
             "line": {
              "color": "rgb(17,17,17)"
             }
            },
            "header": {
             "fill": {
              "color": "#2a3f5f"
             },
             "line": {
              "color": "rgb(17,17,17)"
             }
            },
            "type": "table"
           }
          ],
          "barpolar": [
           {
            "marker": {
             "line": {
              "color": "rgb(17,17,17)",
              "width": 0.5
             },
             "pattern": {
              "fillmode": "overlay",
              "size": 10,
              "solidity": 0.2
             }
            },
            "type": "barpolar"
           }
          ],
          "pie": [
           {
            "automargin": true,
            "type": "pie"
           }
          ]
         },
         "layout": {
          "autotypenumbers": "strict",
          "colorway": [
           "#636efa",
           "#EF553B",
           "#00cc96",
           "#ab63fa",
           "#FFA15A",
           "#19d3f3",
           "#FF6692",
           "#B6E880",
           "#FF97FF",
           "#FECB52"
          ],
          "font": {
           "color": "#f2f5fa"
          },
          "hovermode": "closest",
          "hoverlabel": {
           "align": "left"
          },
          "paper_bgcolor": "rgb(17,17,17)",
          "plot_bgcolor": "rgb(17,17,17)",
          "polar": {
           "bgcolor": "rgb(17,17,17)",
           "angularaxis": {
            "gridcolor": "#506784",
            "linecolor": "#506784",
            "ticks": ""
           },
           "radialaxis": {
            "gridcolor": "#506784",
            "linecolor": "#506784",
            "ticks": ""
           }
          },
          "ternary": {
           "bgcolor": "rgb(17,17,17)",
           "aaxis": {
            "gridcolor": "#506784",
            "linecolor": "#506784",
            "ticks": ""
           },
           "baxis": {
            "gridcolor": "#506784",
            "linecolor": "#506784",
            "ticks": ""
           },
           "caxis": {
            "gridcolor": "#506784",
            "linecolor": "#506784",
            "ticks": ""
           }
          },
          "coloraxis": {
           "colorbar": {
            "outlinewidth": 0,
            "ticks": ""
           }
          },
          "colorscale": {
           "sequential": [
            [
             0.0,
             "#0d0887"
            ],
            [
             0.1111111111111111,
             "#46039f"
            ],
            [
             0.2222222222222222,
             "#7201a8"
            ],
            [
             0.3333333333333333,
             "#9c179e"
            ],
            [
             0.4444444444444444,
             "#bd3786"
            ],
            [
             0.5555555555555556,
             "#d8576b"
            ],
            [
             0.6666666666666666,
             "#ed7953"
            ],
            [
             0.7777777777777778,
             "#fb9f3a"
            ],
            [
             0.8888888888888888,
             "#fdca26"
            ],
            [
             1.0,
             "#f0f921"
            ]
           ],
           "sequentialminus": [
            [
             0.0,
             "#0d0887"
            ],
            [
             0.1111111111111111,
             "#46039f"
            ],
            [
             0.2222222222222222,
             "#7201a8"
            ],
            [
             0.3333333333333333,
             "#9c179e"
            ],
            [
             0.4444444444444444,
             "#bd3786"
            ],
            [
             0.5555555555555556,
             "#d8576b"
            ],
            [
             0.6666666666666666,
             "#ed7953"
            ],
            [
             0.7777777777777778,
             "#fb9f3a"
            ],
            [
             0.8888888888888888,
             "#fdca26"
            ],
            [
             1.0,
             "#f0f921"
            ]
           ],
           "diverging": [
            [
             0,
             "#8e0152"
            ],
            [
             0.1,
             "#c51b7d"
            ],
            [
             0.2,
             "#de77ae"
            ],
            [
             0.3,
             "#f1b6da"
            ],
            [
             0.4,
             "#fde0ef"
            ],
            [
             0.5,
             "#f7f7f7"
            ],
            [
             0.6,
             "#e6f5d0"
            ],
            [
             0.7,
             "#b8e186"
            ],
            [
             0.8,
             "#7fbc41"
            ],
            [
             0.9,
             "#4d9221"
            ],
            [
             1,
             "#276419"
            ]
           ]
          },
          "xaxis": {
           "gridcolor": "#283442",
           "linecolor": "#506784",
           "ticks": "",
           "title": {
            "standoff": 15
           },
           "zerolinecolor": "#283442",
           "automargin": true,
           "zerolinewidth": 2
          },
          "yaxis": {
           "gridcolor": "#283442",
           "linecolor": "#506784",
           "ticks": "",
           "title": {
            "standoff": 15
           },
           "zerolinecolor": "#283442",
           "automargin": true,
           "zerolinewidth": 2
          },
          "scene": {
           "xaxis": {
            "backgroundcolor": "rgb(17,17,17)",
            "gridcolor": "#506784",
            "linecolor": "#506784",
            "showbackground": true,
            "ticks": "",
            "zerolinecolor": "#C8D4E3",
            "gridwidth": 2
           },
           "yaxis": {
            "backgroundcolor": "rgb(17,17,17)",
            "gridcolor": "#506784",
            "linecolor": "#506784",
            "showbackground": true,
            "ticks": "",
            "zerolinecolor": "#C8D4E3",
            "gridwidth": 2
           },
           "zaxis": {
            "backgroundcolor": "rgb(17,17,17)",
            "gridcolor": "#506784",
            "linecolor": "#506784",
            "showbackground": true,
            "ticks": "",
            "zerolinecolor": "#C8D4E3",
            "gridwidth": 2
           }
          },
          "shapedefaults": {
           "line": {
            "color": "#f2f5fa"
           }
          },
          "annotationdefaults": {
           "arrowcolor": "#f2f5fa",
           "arrowhead": 0,
           "arrowwidth": 1
          },
          "geo": {
           "bgcolor": "rgb(17,17,17)",
           "landcolor": "rgb(17,17,17)",
           "subunitcolor": "#506784",
           "showland": true,
           "showlakes": true,
           "lakecolor": "rgb(17,17,17)"
          },
          "title": {
           "x": 0.05
          },
          "updatemenudefaults": {
           "bgcolor": "#506784",
           "borderwidth": 0
          },
          "sliderdefaults": {
           "bgcolor": "#C8D4E3",
           "borderwidth": 1,
           "bordercolor": "rgb(17,17,17)",
           "tickwidth": 0
          },
          "mapbox": {
           "style": "dark"
          }
         }
        },
        "scene": {
         "domain": {
          "x": [
           0.0,
           1.0
          ],
          "y": [
           0.0,
           1.0
          ]
         },
         "xaxis": {
          "title": {
           "text": "V00MBMSFMLOAD"
          },
          "showgrid": false
         },
         "yaxis": {
          "title": {
           "text": "V00MBMNFMLOAD"
          },
          "showgrid": false
         },
         "zaxis": {
          "title": {
           "text": "V00MBMPFMLOAD"
          },
          "showgrid": false
         }
        },
        "legend": {
         "tracegroupgap": 0,
         "itemsizing": "constant"
        },
        "margin": {
         "t": 60
        }
       },
       "config": {
        "plotlyServerURL": "https://plot.ly"
       }
      }
     },
     "metadata": {},
     "output_type": "display_data"
    }
   ],
   "execution_count": 1
  },
  {
   "metadata": {
    "ExecuteTime": {
     "end_time": "2025-08-12T16:48:54.389566Z",
     "start_time": "2025-08-12T16:48:54.383922Z"
    }
   },
   "cell_type": "code",
   "source": [
    "from modules.variable_analysis import cronbach_alpha\n",
    "\n",
    "mbm_alpha = cronbach_alpha(v00_moaks_shared_kl_mbm_load)\n",
    "print(f'MBM: {mbm_alpha}')"
   ],
   "id": "d8ff2bfecef93bfe",
   "outputs": [
    {
     "name": "stdout",
     "output_type": "stream",
     "text": [
      "MBM: 0.8510601281130471\n"
     ]
    }
   ],
   "execution_count": 2
  },
  {
   "metadata": {
    "ExecuteTime": {
     "end_time": "2025-08-12T16:48:54.504597Z",
     "start_time": "2025-08-12T16:48:54.500021Z"
    }
   },
   "cell_type": "code",
   "source": [
    "mbms_variance = v00_moaks_shared_kl_mbm_load['V00MBMSFMLOAD'].var()\n",
    "mbmn_variance = v00_moaks_shared_kl_mbm_load['V00MBMNFMLOAD'].var()\n",
    "mbmp_variance = v00_moaks_shared_kl_mbm_load['V00MBMPFMLOAD'].var()\n",
    "\n",
    "print(f'MBMS: {mbms_variance}, MBMN: {mbmn_variance}, MBMP: {mbmp_variance}')"
   ],
   "id": "245ee001b4b6096a",
   "outputs": [
    {
     "name": "stdout",
     "output_type": "stream",
     "text": [
      "MBMS: 0.9685077737743646, MBMN: 0.5590344243461194, MBMP: 2.6098812213651303\n"
     ]
    }
   ],
   "execution_count": 3
  },
  {
   "metadata": {},
   "cell_type": "markdown",
   "source": "### MBM Component Regression Summary",
   "id": "372aa652a00efa91"
  },
  {
   "metadata": {
    "ExecuteTime": {
     "end_time": "2025-08-12T16:48:54.539248Z",
     "start_time": "2025-08-12T16:48:54.512031Z"
    }
   },
   "cell_type": "code",
   "source": [
    "from IPython.display import display\n",
    "from scripts.mbm.mbm_load_relationships import mbm_relationships_df\n",
    "pd.set_option('display.max_colwidth', None)\n",
    "\n",
    "display(mbm_relationships_df)"
   ],
   "id": "fd13325f04347d07",
   "outputs": [
    {
     "data": {
      "text/plain": [
       "           type  \\\n",
       "0        linear   \n",
       "1        linear   \n",
       "2        linear   \n",
       "3        linear   \n",
       "4        linear   \n",
       "5        linear   \n",
       "6     quadratic   \n",
       "7     quadratic   \n",
       "8     quadratic   \n",
       "9     quadratic   \n",
       "10    quadratic   \n",
       "11    quadratic   \n",
       "12    quadratic   \n",
       "13    quadratic   \n",
       "14    quadratic   \n",
       "15    quadratic   \n",
       "16    quadratic   \n",
       "17    quadratic   \n",
       "18        cubic   \n",
       "19        cubic   \n",
       "20        cubic   \n",
       "21        cubic   \n",
       "22        cubic   \n",
       "23        cubic   \n",
       "24        cubic   \n",
       "25        cubic   \n",
       "26        cubic   \n",
       "27        cubic   \n",
       "28        cubic   \n",
       "29        cubic   \n",
       "30  interaction   \n",
       "31  interaction   \n",
       "32  interaction   \n",
       "33  interaction   \n",
       "34  interaction   \n",
       "35  interaction   \n",
       "36  interaction   \n",
       "37  interaction   \n",
       "38  interaction   \n",
       "39  interaction   \n",
       "40  interaction   \n",
       "41  interaction   \n",
       "\n",
       "                                                                                                                                  formula  \\\n",
       "0                                                                                                           V00MBMSFMLOAD ~ V00MBMNFMLOAD   \n",
       "1                                                                                           V00MBMSFMLOAD ~ V00MBMNFMLOAD + V00MBMPFMLOAD   \n",
       "2                                                                                                           V00MBMNFMLOAD ~ V00MBMPFMLOAD   \n",
       "3                                                                                           V00MBMNFMLOAD ~ V00MBMPFMLOAD + V00MBMSFMLOAD   \n",
       "4                                                                                                           V00MBMPFMLOAD ~ V00MBMNFMLOAD   \n",
       "5                                                                                           V00MBMPFMLOAD ~ V00MBMNFMLOAD + V00MBMSFMLOAD   \n",
       "6                                                                                                     V00MBMSFMLOAD ~ I(V00MBMNFMLOAD**2)   \n",
       "7                                                                                     V00MBMSFMLOAD ~ V00MBMNFMLOAD + I(V00MBMNFMLOAD**2)   \n",
       "8                                               V00MBMSFMLOAD ~ V00MBMNFMLOAD + V00MBMPFMLOAD + I(V00MBMNFMLOAD**2) + I(V00MBMPFMLOAD**2)   \n",
       "9                                                                                     V00MBMSFMLOAD ~ V00MBMNFMLOAD + I(V00MBMPFMLOAD**2)   \n",
       "10                                                                                                    V00MBMNFMLOAD ~ I(V00MBMPFMLOAD**2)   \n",
       "11                                                                                    V00MBMNFMLOAD ~ V00MBMPFMLOAD + I(V00MBMPFMLOAD**2)   \n",
       "12                                              V00MBMNFMLOAD ~ V00MBMPFMLOAD + V00MBMSFMLOAD + I(V00MBMPFMLOAD**2) + I(V00MBMSFMLOAD**2)   \n",
       "13                                                                                    V00MBMNFMLOAD ~ V00MBMPFMLOAD + I(V00MBMSFMLOAD**2)   \n",
       "14                                                                                                    V00MBMPFMLOAD ~ I(V00MBMNFMLOAD**2)   \n",
       "15                                                                                    V00MBMPFMLOAD ~ V00MBMNFMLOAD + I(V00MBMNFMLOAD**2)   \n",
       "16                                              V00MBMPFMLOAD ~ V00MBMNFMLOAD + V00MBMSFMLOAD + I(V00MBMNFMLOAD**2) + I(V00MBMSFMLOAD**2)   \n",
       "17                                                                                    V00MBMPFMLOAD ~ V00MBMNFMLOAD + I(V00MBMSFMLOAD**2)   \n",
       "18                                                                                                    V00MBMSFMLOAD ~ I(V00MBMNFMLOAD**3)   \n",
       "19                                                              V00MBMSFMLOAD ~ V00MBMNFMLOAD + I(V00MBMNFMLOAD**2) + I(V00MBMNFMLOAD**3)   \n",
       "20  V00MBMSFMLOAD ~ V00MBMNFMLOAD + V00MBMPFMLOAD + I(V00MBMNFMLOAD**2) + I(V00MBMPFMLOAD**2) + I(V00MBMNFMLOAD**3) + I(V00MBMPFMLOAD**3)   \n",
       "21                                                              V00MBMSFMLOAD ~ V00MBMNFMLOAD + I(V00MBMPFMLOAD**2) + I(V00MBMPFMLOAD**3)   \n",
       "22                                                                                                    V00MBMNFMLOAD ~ I(V00MBMPFMLOAD**3)   \n",
       "23                                                              V00MBMNFMLOAD ~ V00MBMPFMLOAD + I(V00MBMPFMLOAD**2) + I(V00MBMPFMLOAD**3)   \n",
       "24  V00MBMNFMLOAD ~ V00MBMPFMLOAD + V00MBMSFMLOAD + I(V00MBMPFMLOAD**2) + I(V00MBMSFMLOAD**2) + I(V00MBMPFMLOAD**3) + I(V00MBMSFMLOAD**3)   \n",
       "25                                                              V00MBMNFMLOAD ~ V00MBMPFMLOAD + I(V00MBMSFMLOAD**2) + I(V00MBMSFMLOAD**3)   \n",
       "26                                                                                                    V00MBMPFMLOAD ~ I(V00MBMNFMLOAD**3)   \n",
       "27                                                              V00MBMPFMLOAD ~ V00MBMNFMLOAD + I(V00MBMNFMLOAD**2) + I(V00MBMNFMLOAD**3)   \n",
       "28  V00MBMPFMLOAD ~ V00MBMNFMLOAD + V00MBMSFMLOAD + I(V00MBMNFMLOAD**2) + I(V00MBMSFMLOAD**2) + I(V00MBMNFMLOAD**3) + I(V00MBMSFMLOAD**3)   \n",
       "29                                                              V00MBMPFMLOAD ~ V00MBMNFMLOAD + I(V00MBMSFMLOAD**2) + I(V00MBMSFMLOAD**3)   \n",
       "30                                                                                            V00MBMSFMLOAD ~ V00MBMNFMLOAD:V00MBMPFMLOAD   \n",
       "31                                                                                            V00MBMSFMLOAD ~ V00MBMNFMLOAD*V00MBMPFMLOAD   \n",
       "32                                                                                      V00MBMSFMLOAD ~ V00MBMNFMLOAD*I(V00MBMPFMLOAD**2)   \n",
       "33                                                                                      V00MBMSFMLOAD ~ V00MBMNFMLOAD*I(V00MBMPFMLOAD**3)   \n",
       "34                                                                                            V00MBMNFMLOAD ~ V00MBMPFMLOAD:V00MBMSFMLOAD   \n",
       "35                                                                                            V00MBMNFMLOAD ~ V00MBMPFMLOAD*V00MBMSFMLOAD   \n",
       "36                                                                                      V00MBMNFMLOAD ~ V00MBMPFMLOAD*I(V00MBMSFMLOAD**2)   \n",
       "37                                                                                      V00MBMNFMLOAD ~ V00MBMPFMLOAD*I(V00MBMSFMLOAD**3)   \n",
       "38                                                                                            V00MBMPFMLOAD ~ V00MBMNFMLOAD:V00MBMSFMLOAD   \n",
       "39                                                                                            V00MBMPFMLOAD ~ V00MBMNFMLOAD*V00MBMSFMLOAD   \n",
       "40                                                                                      V00MBMPFMLOAD ~ V00MBMNFMLOAD*I(V00MBMSFMLOAD**2)   \n",
       "41                                                                                      V00MBMPFMLOAD ~ V00MBMNFMLOAD*I(V00MBMSFMLOAD**3)   \n",
       "\n",
       "                                                                                                                                                                                                                                                          params  \\\n",
       "0                                                                                                                                                                                             Intercept        0.008801\n",
       "V00MBMNFMLOAD    1.019212\n",
       "dtype: float64   \n",
       "1                                                                                                                                                                   Intercept        0.008439\n",
       "V00MBMNFMLOAD    0.938418\n",
       "V00MBMPFMLOAD    0.030055\n",
       "dtype: float64   \n",
       "2                                                                                                                                                                                             Intercept        0.002681\n",
       "V00MBMPFMLOAD    0.343382\n",
       "dtype: float64   \n",
       "3                                                                                                                                                                   Intercept        0.000600\n",
       "V00MBMPFMLOAD    0.271864\n",
       "V00MBMSFMLOAD    0.194923\n",
       "dtype: float64   \n",
       "4                                                                                                                                                                                             Intercept        0.000783\n",
       "V00MBMNFMLOAD    2.594940\n",
       "dtype: float64   \n",
       "5                                                                                                                                                                   Intercept        0.000030\n",
       "V00MBMNFMLOAD    2.515922\n",
       "V00MBMSFMLOAD    0.057773\n",
       "dtype: float64   \n",
       "6                                                                                                                                                                             Intercept                0.021281\n",
       "I(V00MBMNFMLOAD ** 2)    0.712451\n",
       "dtype: float64   \n",
       "7                                                                                                                                           Intercept                0.008577\n",
       "V00MBMNFMLOAD            1.068128\n",
       "I(V00MBMNFMLOAD ** 2)   -0.040823\n",
       "dtype: float64   \n",
       "8                                                                       Intercept                0.008420\n",
       "V00MBMNFMLOAD            1.192774\n",
       "V00MBMPFMLOAD           -0.114089\n",
       "I(V00MBMNFMLOAD ** 2)   -0.195198\n",
       "I(V00MBMPFMLOAD ** 2)    0.040811\n",
       "dtype: float64   \n",
       "9                                                                                                                                           Intercept                0.008529\n",
       "V00MBMNFMLOAD            0.920466\n",
       "I(V00MBMPFMLOAD ** 2)    0.011428\n",
       "dtype: float64   \n",
       "10                                                                                                                                                                            Intercept                0.006585\n",
       "I(V00MBMPFMLOAD ** 2)    0.089741\n",
       "dtype: float64   \n",
       "11                                                                                                                                          Intercept                0.002677\n",
       "V00MBMPFMLOAD            0.344290\n",
       "I(V00MBMPFMLOAD ** 2)   -0.000263\n",
       "dtype: float64   \n",
       "12                                                                      Intercept                0.000161\n",
       "V00MBMPFMLOAD            0.217264\n",
       "V00MBMSFMLOAD            0.331455\n",
       "I(V00MBMPFMLOAD ** 2)    0.012669\n",
       "I(V00MBMSFMLOAD ** 2)   -0.079277\n",
       "dtype: float64   \n",
       "13                                                                                                                                          Intercept                0.002146\n",
       "V00MBMPFMLOAD            0.318567\n",
       "I(V00MBMSFMLOAD ** 2)    0.049590\n",
       "dtype: float64   \n",
       "14                                                                                                                                                                            Intercept                0.019095\n",
       "I(V00MBMNFMLOAD ** 2)    1.715643\n",
       "dtype: float64   \n",
       "15                                                                                                                                          Intercept               -0.000085\n",
       "V00MBMNFMLOAD            2.917119\n",
       "I(V00MBMNFMLOAD ** 2)   -0.259390\n",
       "dtype: float64   \n",
       "16                                                                      Intercept               -0.000113\n",
       "V00MBMNFMLOAD            2.970646\n",
       "V00MBMSFMLOAD           -0.074812\n",
       "I(V00MBMNFMLOAD ** 2)   -0.352806\n",
       "I(V00MBMSFMLOAD ** 2)    0.067522\n",
       "dtype: float64   \n",
       "17                                                                                                                                          Intercept                0.000363\n",
       "V00MBMNFMLOAD            2.553202\n",
       "I(V00MBMSFMLOAD ** 2)    0.017157\n",
       "dtype: float64   \n",
       "18                                                                                                                                                                            Intercept                0.046636\n",
       "I(V00MBMNFMLOAD ** 3)    0.220685\n",
       "dtype: float64   \n",
       "19                                                                                                        Intercept                0.008643\n",
       "V00MBMNFMLOAD            0.970757\n",
       "I(V00MBMNFMLOAD ** 2)    0.083800\n",
       "I(V00MBMNFMLOAD ** 3)   -0.030679\n",
       "dtype: float64   \n",
       "20  Intercept                0.008395\n",
       "V00MBMNFMLOAD            1.359111\n",
       "V00MBMPFMLOAD           -0.167160\n",
       "I(V00MBMNFMLOAD ** 2)   -0.390976\n",
       "I(V00MBMPFMLOAD ** 2)    0.062312\n",
       "I(V00MBMNFMLOAD ** 3)    0.041226\n",
       "I(V00MBMPFMLOAD ** 3)   -0.001619\n",
       "dtype: float64   \n",
       "21                                                                                                        Intercept                0.008556\n",
       "V00MBMNFMLOAD            0.934388\n",
       "I(V00MBMPFMLOAD ** 2)    0.006997\n",
       "I(V00MBMPFMLOAD ** 3)    0.000792\n",
       "dtype: float64   \n",
       "22                                                                                                                                                                            Intercept                0.014674\n",
       "I(V00MBMPFMLOAD ** 3)    0.015774\n",
       "dtype: float64   \n",
       "23                                                                                                        Intercept                0.002639\n",
       "V00MBMPFMLOAD            0.480715\n",
       "I(V00MBMPFMLOAD ** 2)   -0.067454\n",
       "I(V00MBMPFMLOAD ** 3)    0.007234\n",
       "dtype: float64   \n",
       "24  Intercept                0.000030\n",
       "V00MBMPFMLOAD            0.333152\n",
       "V00MBMSFMLOAD            0.489051\n",
       "I(V00MBMPFMLOAD ** 2)   -0.049980\n",
       "I(V00MBMSFMLOAD ** 2)   -0.247573\n",
       "I(V00MBMPFMLOAD ** 3)    0.007308\n",
       "I(V00MBMSFMLOAD ** 3)    0.033056\n",
       "dtype: float64   \n",
       "25                                                                                                        Intercept                0.001197\n",
       "V00MBMPFMLOAD            0.291520\n",
       "I(V00MBMSFMLOAD ** 2)    0.170695\n",
       "I(V00MBMSFMLOAD ** 3)   -0.037347\n",
       "dtype: float64   \n",
       "26                                                                                                                                                                            Intercept                0.051233\n",
       "I(V00MBMNFMLOAD ** 3)    0.528243\n",
       "dtype: float64   \n",
       "27                                                                                                        Intercept               -0.000003\n",
       "V00MBMNFMLOAD            2.714532\n",
       "I(V00MBMNFMLOAD ** 2)   -0.000391\n",
       "I(V00MBMNFMLOAD ** 3)   -0.065044\n",
       "dtype: float64   \n",
       "28  Intercept               -0.000004\n",
       "V00MBMNFMLOAD            3.063438\n",
       "V00MBMSFMLOAD           -0.226051\n",
       "I(V00MBMNFMLOAD ** 2)   -0.434077\n",
       "I(V00MBMSFMLOAD ** 2)    0.220234\n",
       "I(V00MBMNFMLOAD ** 3)    0.013596\n",
       "I(V00MBMSFMLOAD ** 3)   -0.029436\n",
       "dtype: float64   \n",
       "29                                                                                                        Intercept                0.000109\n",
       "V00MBMNFMLOAD            2.526353\n",
       "I(V00MBMSFMLOAD ** 2)    0.057416\n",
       "I(V00MBMSFMLOAD ** 3)   -0.012045\n",
       "dtype: float64   \n",
       "30                                                                                                                                                                Intercept                      0.023442\n",
       "V00MBMNFMLOAD:V00MBMPFMLOAD    0.289267\n",
       "dtype: float64   \n",
       "31                                                                                Intercept                      0.008480\n",
       "V00MBMNFMLOAD                  0.934219\n",
       "V00MBMPFMLOAD                  0.019966\n",
       "V00MBMNFMLOAD:V00MBMPFMLOAD    0.010431\n",
       "dtype: float64   \n",
       "32                                                Intercept                              0.008495\n",
       "V00MBMNFMLOAD                          0.909446\n",
       "I(V00MBMPFMLOAD ** 2)                  0.015211\n",
       "V00MBMNFMLOAD:I(V00MBMPFMLOAD ** 2)   -0.002026\n",
       "dtype: float64   \n",
       "33                                                Intercept                              0.008521\n",
       "V00MBMNFMLOAD                          0.917198\n",
       "I(V00MBMPFMLOAD ** 3)                  0.005474\n",
       "V00MBMNFMLOAD:I(V00MBMPFMLOAD ** 3)   -0.001520\n",
       "dtype: float64   \n",
       "34                                                                                                                                                                Intercept                      0.006082\n",
       "V00MBMPFMLOAD:V00MBMSFMLOAD    0.244520\n",
       "dtype: float64   \n",
       "35                                                                                Intercept                      0.000536\n",
       "V00MBMPFMLOAD                  0.280554\n",
       "V00MBMSFMLOAD                  0.197956\n",
       "V00MBMPFMLOAD:V00MBMSFMLOAD   -0.008451\n",
       "dtype: float64   \n",
       "36                                                Intercept                              0.001825\n",
       "V00MBMPFMLOAD                          0.323776\n",
       "I(V00MBMSFMLOAD ** 2)                  0.066888\n",
       "V00MBMPFMLOAD:I(V00MBMSFMLOAD ** 2)   -0.008019\n",
       "dtype: float64   \n",
       "37                                                Intercept                              0.002597\n",
       "V00MBMPFMLOAD                          0.336538\n",
       "I(V00MBMSFMLOAD ** 3)                  0.008243\n",
       "V00MBMPFMLOAD:I(V00MBMSFMLOAD ** 3)   -0.000755\n",
       "dtype: float64   \n",
       "38                                                                                                                                                                Intercept                      0.012829\n",
       "V00MBMNFMLOAD:V00MBMSFMLOAD    1.711120\n",
       "dtype: float64   \n",
       "39                                                                Intercept                     -6.111901e-08\n",
       "V00MBMNFMLOAD                  2.526725e+00\n",
       "V00MBMSFMLOAD                  5.924847e-02\n",
       "V00MBMNFMLOAD:V00MBMSFMLOAD   -1.057307e-02\n",
       "dtype: float64   \n",
       "40                                                Intercept                              0.000172\n",
       "V00MBMNFMLOAD                          2.560597\n",
       "I(V00MBMSFMLOAD ** 2)                  0.028508\n",
       "V00MBMNFMLOAD:I(V00MBMSFMLOAD ** 2)   -0.013263\n",
       "dtype: float64   \n",
       "41                                                Intercept                              0.000365\n",
       "V00MBMNFMLOAD                          2.572987\n",
       "I(V00MBMSFMLOAD ** 3)                  0.006924\n",
       "V00MBMNFMLOAD:I(V00MBMSFMLOAD ** 3)   -0.003839\n",
       "dtype: float64   \n",
       "\n",
       "                                                                                                                                                                                                                                                                                           p_values  \\\n",
       "0                                                                                                                                                                                                                                Intercept        0.000007\n",
       "V00MBMNFMLOAD    0.000000\n",
       "dtype: float64   \n",
       "1                                                                                                                                                                                       Intercept         3.155816e-06\n",
       "V00MBMNFMLOAD    6.368234e-167\n",
       "V00MBMPFMLOAD     1.064777e-02\n",
       "dtype: float64   \n",
       "2                                                                                                                                                                                                                                Intercept        0.004213\n",
       "V00MBMPFMLOAD    0.000000\n",
       "dtype: float64   \n",
       "3                                                                                                                                                                                       Intercept         4.678215e-01\n",
       "V00MBMPFMLOAD     0.000000e+00\n",
       "V00MBMSFMLOAD    6.368234e-167\n",
       "dtype: float64   \n",
       "4                                                                                                                                                                                                                                  Intercept        0.76118\n",
       "V00MBMNFMLOAD    0.00000\n",
       "dtype: float64   \n",
       "5                                                                                                                                                                                                      Intercept        0.990471\n",
       "V00MBMNFMLOAD    0.000000\n",
       "V00MBMSFMLOAD    0.010648\n",
       "dtype: float64   \n",
       "6                                                                                                                                                                                                        Intercept                5.907402e-17\n",
       "I(V00MBMNFMLOAD ** 2)    0.000000e+00\n",
       "dtype: float64   \n",
       "7                                                                                                                                                                              Intercept                0.000013\n",
       "V00MBMNFMLOAD            0.000000\n",
       "I(V00MBMNFMLOAD ** 2)    0.011159\n",
       "dtype: float64   \n",
       "8                                                                                      Intercept                2.999392e-06\n",
       "V00MBMNFMLOAD            2.405362e-90\n",
       "V00MBMPFMLOAD            1.419377e-05\n",
       "I(V00MBMNFMLOAD ** 2)    1.035245e-07\n",
       "I(V00MBMPFMLOAD ** 2)    1.552954e-09\n",
       "dtype: float64   \n",
       "9                                                                                                                                                               Intercept                 2.409341e-06\n",
       "V00MBMNFMLOAD            2.301020e-228\n",
       "I(V00MBMPFMLOAD ** 2)     7.219801e-05\n",
       "dtype: float64   \n",
       "10                                                                                                                                                                                                       Intercept                1.676093e-07\n",
       "I(V00MBMPFMLOAD ** 2)    0.000000e+00\n",
       "dtype: float64   \n",
       "11                                                                                                                                                                             Intercept                0.004299\n",
       "V00MBMPFMLOAD            0.000000\n",
       "I(V00MBMPFMLOAD ** 2)    0.878406\n",
       "dtype: float64   \n",
       "12                                                                                Intercept                 8.420262e-01\n",
       "V00MBMPFMLOAD            7.047923e-128\n",
       "V00MBMSFMLOAD            9.182110e-155\n",
       "I(V00MBMPFMLOAD ** 2)     1.245267e-07\n",
       "I(V00MBMSFMLOAD ** 2)     1.385797e-41\n",
       "dtype: float64   \n",
       "13                                                                                                                                                                 Intercept                1.543047e-02\n",
       "V00MBMPFMLOAD            0.000000e+00\n",
       "I(V00MBMSFMLOAD ** 2)    1.092623e-48\n",
       "dtype: float64   \n",
       "14                                                                                                                                                                                                               Intercept                0.000004\n",
       "I(V00MBMNFMLOAD ** 2)    0.000000\n",
       "dtype: float64   \n",
       "15                                                                                                                                                                 Intercept                9.732596e-01\n",
       "V00MBMNFMLOAD            0.000000e+00\n",
       "I(V00MBMNFMLOAD ** 2)    1.761540e-21\n",
       "dtype: float64   \n",
       "16                                                                                     Intercept                9.638861e-01\n",
       "V00MBMNFMLOAD            0.000000e+00\n",
       "V00MBMSFMLOAD            6.727407e-02\n",
       "I(V00MBMNFMLOAD ** 2)    5.310523e-19\n",
       "I(V00MBMSFMLOAD ** 2)    1.979927e-04\n",
       "dtype: float64   \n",
       "17                                                                                                                                                                             Intercept                0.885009\n",
       "V00MBMNFMLOAD            0.000000\n",
       "I(V00MBMSFMLOAD ** 2)    0.077200\n",
       "dtype: float64   \n",
       "18                                                                                                                                                                                                     Intercept                 2.100017e-36\n",
       "I(V00MBMNFMLOAD ** 3)    9.665868e-276\n",
       "dtype: float64   \n",
       "19                                                                                                                           Intercept                1.081694e-05\n",
       "V00MBMNFMLOAD            3.111081e-85\n",
       "I(V00MBMNFMLOAD ** 2)    1.489336e-01\n",
       "I(V00MBMNFMLOAD ** 3)    2.552993e-02\n",
       "dtype: float64   \n",
       "20         Intercept                3.197660e-06\n",
       "V00MBMNFMLOAD            3.753287e-36\n",
       "V00MBMPFMLOAD            3.647378e-02\n",
       "I(V00MBMNFMLOAD ** 2)    5.126782e-04\n",
       "I(V00MBMPFMLOAD ** 2)    8.912373e-02\n",
       "I(V00MBMNFMLOAD ** 3)    6.568553e-02\n",
       "I(V00MBMPFMLOAD ** 3)    6.693261e-01\n",
       "dtype: float64   \n",
       "21                                                                                                                       Intercept                 2.251682e-06\n",
       "V00MBMNFMLOAD            1.163431e-173\n",
       "I(V00MBMPFMLOAD ** 2)     2.526803e-01\n",
       "I(V00MBMPFMLOAD ** 3)     4.116778e-01\n",
       "dtype: float64   \n",
       "22                                                                                                                                                                                                       Intercept                1.995095e-14\n",
       "I(V00MBMPFMLOAD ** 3)    0.000000e+00\n",
       "dtype: float64   \n",
       "23                                                                                                                           Intercept                4.736019e-03\n",
       "V00MBMPFMLOAD            2.257342e-70\n",
       "I(V00MBMPFMLOAD ** 2)    1.509441e-07\n",
       "I(V00MBMPFMLOAD ** 3)    1.304478e-07\n",
       "dtype: float64   \n",
       "24  Intercept                 9.702257e-01\n",
       "V00MBMPFMLOAD             1.018718e-24\n",
       "V00MBMSFMLOAD            1.790371e-110\n",
       "I(V00MBMPFMLOAD ** 2)     1.090167e-03\n",
       "I(V00MBMSFMLOAD ** 2)     1.492689e-36\n",
       "I(V00MBMPFMLOAD ** 3)     5.602997e-06\n",
       "I(V00MBMSFMLOAD ** 3)     8.661154e-20\n",
       "dtype: float64   \n",
       "25                                                                                                                       Intercept                 1.606974e-01\n",
       "V00MBMPFMLOAD             0.000000e+00\n",
       "I(V00MBMSFMLOAD ** 2)    6.417697e-105\n",
       "I(V00MBMSFMLOAD ** 3)     1.720308e-66\n",
       "dtype: float64   \n",
       "26                                                                                                                                                                                                     Intercept                 2.076593e-15\n",
       "I(V00MBMNFMLOAD ** 3)    4.473116e-304\n",
       "dtype: float64   \n",
       "27                                                                                                                       Intercept                 9.991867e-01\n",
       "V00MBMNFMLOAD            3.327392e-215\n",
       "I(V00MBMNFMLOAD ** 2)     9.967636e-01\n",
       "I(V00MBMNFMLOAD ** 3)     5.127584e-03\n",
       "dtype: float64   \n",
       "28  Intercept                 9.987414e-01\n",
       "V00MBMNFMLOAD            4.398536e-140\n",
       "V00MBMSFMLOAD             1.614013e-03\n",
       "I(V00MBMNFMLOAD ** 2)     5.954456e-04\n",
       "I(V00MBMSFMLOAD ** 2)     3.821988e-04\n",
       "I(V00MBMNFMLOAD ** 3)     6.210475e-01\n",
       "I(V00MBMSFMLOAD ** 3)     9.916486e-03\n",
       "dtype: float64   \n",
       "29                                                                                                                                           Intercept                0.965366\n",
       "V00MBMNFMLOAD            0.000000\n",
       "I(V00MBMSFMLOAD ** 2)    0.015945\n",
       "I(V00MBMSFMLOAD ** 3)    0.064190\n",
       "dtype: float64   \n",
       "30                                                                                                                                                                                           Intercept                      2.552684e-18\n",
       "V00MBMNFMLOAD:V00MBMPFMLOAD    0.000000e+00\n",
       "dtype: float64   \n",
       "31                                                                                               Intercept                       2.853453e-06\n",
       "V00MBMNFMLOAD                  2.323281e-162\n",
       "V00MBMPFMLOAD                   2.263149e-01\n",
       "V00MBMNFMLOAD:V00MBMPFMLOAD     3.832570e-01\n",
       "dtype: float64   \n",
       "32                                                               Intercept                               2.657821e-06\n",
       "V00MBMNFMLOAD                          5.004381e-189\n",
       "I(V00MBMPFMLOAD ** 2)                   2.807989e-03\n",
       "V00MBMNFMLOAD:I(V00MBMPFMLOAD ** 2)     3.673983e-01\n",
       "dtype: float64   \n",
       "33                                                               Intercept                               2.410346e-06\n",
       "V00MBMNFMLOAD                          3.678534e-295\n",
       "I(V00MBMPFMLOAD ** 3)                   9.761616e-06\n",
       "V00MBMNFMLOAD:I(V00MBMPFMLOAD ** 3)     1.272010e-03\n",
       "dtype: float64   \n",
       "34                                                                                                                                                                                           Intercept                      7.827828e-07\n",
       "V00MBMPFMLOAD:V00MBMSFMLOAD    0.000000e+00\n",
       "dtype: float64   \n",
       "35                                                                                               Intercept                       5.163608e-01\n",
       "V00MBMPFMLOAD                   0.000000e+00\n",
       "V00MBMSFMLOAD                  1.916890e-165\n",
       "V00MBMPFMLOAD:V00MBMSFMLOAD     2.899405e-02\n",
       "dtype: float64   \n",
       "36                                                                   Intercept                              3.850197e-02\n",
       "V00MBMPFMLOAD                          0.000000e+00\n",
       "I(V00MBMSFMLOAD ** 2)                  6.250314e-57\n",
       "V00MBMPFMLOAD:I(V00MBMSFMLOAD ** 2)    3.359413e-12\n",
       "dtype: float64   \n",
       "37                                                                   Intercept                              4.166763e-03\n",
       "V00MBMPFMLOAD                          0.000000e+00\n",
       "I(V00MBMSFMLOAD ** 3)                  3.379158e-09\n",
       "V00MBMPFMLOAD:I(V00MBMSFMLOAD ** 3)    2.274478e-02\n",
       "dtype: float64   \n",
       "38                                                                                                                                                                                                     Intercept                      0.00022\n",
       "V00MBMNFMLOAD:V00MBMSFMLOAD    0.00000\n",
       "dtype: float64   \n",
       "39                                                                                                                   Intercept                      0.999981\n",
       "V00MBMNFMLOAD                  0.000000\n",
       "V00MBMSFMLOAD                  0.010085\n",
       "V00MBMNFMLOAD:V00MBMSFMLOAD    0.731405\n",
       "dtype: float64   \n",
       "40                                                                                   Intercept                              0.945545\n",
       "V00MBMNFMLOAD                          0.000000\n",
       "I(V00MBMSFMLOAD ** 2)                  0.017872\n",
       "V00MBMNFMLOAD:I(V00MBMSFMLOAD ** 2)    0.110653\n",
       "dtype: float64   \n",
       "41                                                                                   Intercept                              0.884381\n",
       "V00MBMNFMLOAD                          0.000000\n",
       "I(V00MBMSFMLOAD ** 3)                  0.066946\n",
       "V00MBMNFMLOAD:I(V00MBMSFMLOAD ** 3)    0.084538\n",
       "dtype: float64   \n",
       "\n",
       "    r_squared  \n",
       "0    0.802301  \n",
       "1    0.677619  \n",
       "2    0.891056  \n",
       "3    0.897947  \n",
       "4    0.891056  \n",
       "5    0.875317  \n",
       "6    0.666090  \n",
       "7    0.802639  \n",
       "8    0.680909  \n",
       "9    0.678411  \n",
       "10   0.802980  \n",
       "11   0.891057  \n",
       "12   0.902839  \n",
       "13   0.882055  \n",
       "14   0.714543  \n",
       "15   0.893655  \n",
       "16   0.877933  \n",
       "17   0.875204  \n",
       "18   0.284878  \n",
       "19   0.802902  \n",
       "20   0.681197  \n",
       "21   0.678469  \n",
       "22   0.540750  \n",
       "23   0.891863  \n",
       "24   0.905573  \n",
       "25   0.891022  \n",
       "26   0.309287  \n",
       "27   0.893876  \n",
       "28   0.878149  \n",
       "29   0.875318  \n",
       "30   0.441856  \n",
       "31   0.677684  \n",
       "32   0.678480  \n",
       "33   0.679245  \n",
       "34   0.728222  \n",
       "35   0.898077  \n",
       "36   0.883569  \n",
       "37   0.876546  \n",
       "38   0.710247  \n",
       "39   0.875321  \n",
       "40   0.875289  \n",
       "41   0.875224  "
      ],
      "text/html": [
       "<div>\n",
       "<style scoped>\n",
       "    .dataframe tbody tr th:only-of-type {\n",
       "        vertical-align: middle;\n",
       "    }\n",
       "\n",
       "    .dataframe tbody tr th {\n",
       "        vertical-align: top;\n",
       "    }\n",
       "\n",
       "    .dataframe thead th {\n",
       "        text-align: right;\n",
       "    }\n",
       "</style>\n",
       "<table border=\"1\" class=\"dataframe\">\n",
       "  <thead>\n",
       "    <tr style=\"text-align: right;\">\n",
       "      <th></th>\n",
       "      <th>type</th>\n",
       "      <th>formula</th>\n",
       "      <th>params</th>\n",
       "      <th>p_values</th>\n",
       "      <th>r_squared</th>\n",
       "    </tr>\n",
       "  </thead>\n",
       "  <tbody>\n",
       "    <tr>\n",
       "      <th>0</th>\n",
       "      <td>linear</td>\n",
       "      <td>V00MBMSFMLOAD ~ V00MBMNFMLOAD</td>\n",
       "      <td>Intercept        0.008801\n",
       "V00MBMNFMLOAD    1.019212\n",
       "dtype: float64</td>\n",
       "      <td>Intercept        0.000007\n",
       "V00MBMNFMLOAD    0.000000\n",
       "dtype: float64</td>\n",
       "      <td>0.802301</td>\n",
       "    </tr>\n",
       "    <tr>\n",
       "      <th>1</th>\n",
       "      <td>linear</td>\n",
       "      <td>V00MBMSFMLOAD ~ V00MBMNFMLOAD + V00MBMPFMLOAD</td>\n",
       "      <td>Intercept        0.008439\n",
       "V00MBMNFMLOAD    0.938418\n",
       "V00MBMPFMLOAD    0.030055\n",
       "dtype: float64</td>\n",
       "      <td>Intercept         3.155816e-06\n",
       "V00MBMNFMLOAD    6.368234e-167\n",
       "V00MBMPFMLOAD     1.064777e-02\n",
       "dtype: float64</td>\n",
       "      <td>0.677619</td>\n",
       "    </tr>\n",
       "    <tr>\n",
       "      <th>2</th>\n",
       "      <td>linear</td>\n",
       "      <td>V00MBMNFMLOAD ~ V00MBMPFMLOAD</td>\n",
       "      <td>Intercept        0.002681\n",
       "V00MBMPFMLOAD    0.343382\n",
       "dtype: float64</td>\n",
       "      <td>Intercept        0.004213\n",
       "V00MBMPFMLOAD    0.000000\n",
       "dtype: float64</td>\n",
       "      <td>0.891056</td>\n",
       "    </tr>\n",
       "    <tr>\n",
       "      <th>3</th>\n",
       "      <td>linear</td>\n",
       "      <td>V00MBMNFMLOAD ~ V00MBMPFMLOAD + V00MBMSFMLOAD</td>\n",
       "      <td>Intercept        0.000600\n",
       "V00MBMPFMLOAD    0.271864\n",
       "V00MBMSFMLOAD    0.194923\n",
       "dtype: float64</td>\n",
       "      <td>Intercept         4.678215e-01\n",
       "V00MBMPFMLOAD     0.000000e+00\n",
       "V00MBMSFMLOAD    6.368234e-167\n",
       "dtype: float64</td>\n",
       "      <td>0.897947</td>\n",
       "    </tr>\n",
       "    <tr>\n",
       "      <th>4</th>\n",
       "      <td>linear</td>\n",
       "      <td>V00MBMPFMLOAD ~ V00MBMNFMLOAD</td>\n",
       "      <td>Intercept        0.000783\n",
       "V00MBMNFMLOAD    2.594940\n",
       "dtype: float64</td>\n",
       "      <td>Intercept        0.76118\n",
       "V00MBMNFMLOAD    0.00000\n",
       "dtype: float64</td>\n",
       "      <td>0.891056</td>\n",
       "    </tr>\n",
       "    <tr>\n",
       "      <th>5</th>\n",
       "      <td>linear</td>\n",
       "      <td>V00MBMPFMLOAD ~ V00MBMNFMLOAD + V00MBMSFMLOAD</td>\n",
       "      <td>Intercept        0.000030\n",
       "V00MBMNFMLOAD    2.515922\n",
       "V00MBMSFMLOAD    0.057773\n",
       "dtype: float64</td>\n",
       "      <td>Intercept        0.990471\n",
       "V00MBMNFMLOAD    0.000000\n",
       "V00MBMSFMLOAD    0.010648\n",
       "dtype: float64</td>\n",
       "      <td>0.875317</td>\n",
       "    </tr>\n",
       "    <tr>\n",
       "      <th>6</th>\n",
       "      <td>quadratic</td>\n",
       "      <td>V00MBMSFMLOAD ~ I(V00MBMNFMLOAD**2)</td>\n",
       "      <td>Intercept                0.021281\n",
       "I(V00MBMNFMLOAD ** 2)    0.712451\n",
       "dtype: float64</td>\n",
       "      <td>Intercept                5.907402e-17\n",
       "I(V00MBMNFMLOAD ** 2)    0.000000e+00\n",
       "dtype: float64</td>\n",
       "      <td>0.666090</td>\n",
       "    </tr>\n",
       "    <tr>\n",
       "      <th>7</th>\n",
       "      <td>quadratic</td>\n",
       "      <td>V00MBMSFMLOAD ~ V00MBMNFMLOAD + I(V00MBMNFMLOAD**2)</td>\n",
       "      <td>Intercept                0.008577\n",
       "V00MBMNFMLOAD            1.068128\n",
       "I(V00MBMNFMLOAD ** 2)   -0.040823\n",
       "dtype: float64</td>\n",
       "      <td>Intercept                0.000013\n",
       "V00MBMNFMLOAD            0.000000\n",
       "I(V00MBMNFMLOAD ** 2)    0.011159\n",
       "dtype: float64</td>\n",
       "      <td>0.802639</td>\n",
       "    </tr>\n",
       "    <tr>\n",
       "      <th>8</th>\n",
       "      <td>quadratic</td>\n",
       "      <td>V00MBMSFMLOAD ~ V00MBMNFMLOAD + V00MBMPFMLOAD + I(V00MBMNFMLOAD**2) + I(V00MBMPFMLOAD**2)</td>\n",
       "      <td>Intercept                0.008420\n",
       "V00MBMNFMLOAD            1.192774\n",
       "V00MBMPFMLOAD           -0.114089\n",
       "I(V00MBMNFMLOAD ** 2)   -0.195198\n",
       "I(V00MBMPFMLOAD ** 2)    0.040811\n",
       "dtype: float64</td>\n",
       "      <td>Intercept                2.999392e-06\n",
       "V00MBMNFMLOAD            2.405362e-90\n",
       "V00MBMPFMLOAD            1.419377e-05\n",
       "I(V00MBMNFMLOAD ** 2)    1.035245e-07\n",
       "I(V00MBMPFMLOAD ** 2)    1.552954e-09\n",
       "dtype: float64</td>\n",
       "      <td>0.680909</td>\n",
       "    </tr>\n",
       "    <tr>\n",
       "      <th>9</th>\n",
       "      <td>quadratic</td>\n",
       "      <td>V00MBMSFMLOAD ~ V00MBMNFMLOAD + I(V00MBMPFMLOAD**2)</td>\n",
       "      <td>Intercept                0.008529\n",
       "V00MBMNFMLOAD            0.920466\n",
       "I(V00MBMPFMLOAD ** 2)    0.011428\n",
       "dtype: float64</td>\n",
       "      <td>Intercept                 2.409341e-06\n",
       "V00MBMNFMLOAD            2.301020e-228\n",
       "I(V00MBMPFMLOAD ** 2)     7.219801e-05\n",
       "dtype: float64</td>\n",
       "      <td>0.678411</td>\n",
       "    </tr>\n",
       "    <tr>\n",
       "      <th>10</th>\n",
       "      <td>quadratic</td>\n",
       "      <td>V00MBMNFMLOAD ~ I(V00MBMPFMLOAD**2)</td>\n",
       "      <td>Intercept                0.006585\n",
       "I(V00MBMPFMLOAD ** 2)    0.089741\n",
       "dtype: float64</td>\n",
       "      <td>Intercept                1.676093e-07\n",
       "I(V00MBMPFMLOAD ** 2)    0.000000e+00\n",
       "dtype: float64</td>\n",
       "      <td>0.802980</td>\n",
       "    </tr>\n",
       "    <tr>\n",
       "      <th>11</th>\n",
       "      <td>quadratic</td>\n",
       "      <td>V00MBMNFMLOAD ~ V00MBMPFMLOAD + I(V00MBMPFMLOAD**2)</td>\n",
       "      <td>Intercept                0.002677\n",
       "V00MBMPFMLOAD            0.344290\n",
       "I(V00MBMPFMLOAD ** 2)   -0.000263\n",
       "dtype: float64</td>\n",
       "      <td>Intercept                0.004299\n",
       "V00MBMPFMLOAD            0.000000\n",
       "I(V00MBMPFMLOAD ** 2)    0.878406\n",
       "dtype: float64</td>\n",
       "      <td>0.891057</td>\n",
       "    </tr>\n",
       "    <tr>\n",
       "      <th>12</th>\n",
       "      <td>quadratic</td>\n",
       "      <td>V00MBMNFMLOAD ~ V00MBMPFMLOAD + V00MBMSFMLOAD + I(V00MBMPFMLOAD**2) + I(V00MBMSFMLOAD**2)</td>\n",
       "      <td>Intercept                0.000161\n",
       "V00MBMPFMLOAD            0.217264\n",
       "V00MBMSFMLOAD            0.331455\n",
       "I(V00MBMPFMLOAD ** 2)    0.012669\n",
       "I(V00MBMSFMLOAD ** 2)   -0.079277\n",
       "dtype: float64</td>\n",
       "      <td>Intercept                 8.420262e-01\n",
       "V00MBMPFMLOAD            7.047923e-128\n",
       "V00MBMSFMLOAD            9.182110e-155\n",
       "I(V00MBMPFMLOAD ** 2)     1.245267e-07\n",
       "I(V00MBMSFMLOAD ** 2)     1.385797e-41\n",
       "dtype: float64</td>\n",
       "      <td>0.902839</td>\n",
       "    </tr>\n",
       "    <tr>\n",
       "      <th>13</th>\n",
       "      <td>quadratic</td>\n",
       "      <td>V00MBMNFMLOAD ~ V00MBMPFMLOAD + I(V00MBMSFMLOAD**2)</td>\n",
       "      <td>Intercept                0.002146\n",
       "V00MBMPFMLOAD            0.318567\n",
       "I(V00MBMSFMLOAD ** 2)    0.049590\n",
       "dtype: float64</td>\n",
       "      <td>Intercept                1.543047e-02\n",
       "V00MBMPFMLOAD            0.000000e+00\n",
       "I(V00MBMSFMLOAD ** 2)    1.092623e-48\n",
       "dtype: float64</td>\n",
       "      <td>0.882055</td>\n",
       "    </tr>\n",
       "    <tr>\n",
       "      <th>14</th>\n",
       "      <td>quadratic</td>\n",
       "      <td>V00MBMPFMLOAD ~ I(V00MBMNFMLOAD**2)</td>\n",
       "      <td>Intercept                0.019095\n",
       "I(V00MBMNFMLOAD ** 2)    1.715643\n",
       "dtype: float64</td>\n",
       "      <td>Intercept                0.000004\n",
       "I(V00MBMNFMLOAD ** 2)    0.000000\n",
       "dtype: float64</td>\n",
       "      <td>0.714543</td>\n",
       "    </tr>\n",
       "    <tr>\n",
       "      <th>15</th>\n",
       "      <td>quadratic</td>\n",
       "      <td>V00MBMPFMLOAD ~ V00MBMNFMLOAD + I(V00MBMNFMLOAD**2)</td>\n",
       "      <td>Intercept               -0.000085\n",
       "V00MBMNFMLOAD            2.917119\n",
       "I(V00MBMNFMLOAD ** 2)   -0.259390\n",
       "dtype: float64</td>\n",
       "      <td>Intercept                9.732596e-01\n",
       "V00MBMNFMLOAD            0.000000e+00\n",
       "I(V00MBMNFMLOAD ** 2)    1.761540e-21\n",
       "dtype: float64</td>\n",
       "      <td>0.893655</td>\n",
       "    </tr>\n",
       "    <tr>\n",
       "      <th>16</th>\n",
       "      <td>quadratic</td>\n",
       "      <td>V00MBMPFMLOAD ~ V00MBMNFMLOAD + V00MBMSFMLOAD + I(V00MBMNFMLOAD**2) + I(V00MBMSFMLOAD**2)</td>\n",
       "      <td>Intercept               -0.000113\n",
       "V00MBMNFMLOAD            2.970646\n",
       "V00MBMSFMLOAD           -0.074812\n",
       "I(V00MBMNFMLOAD ** 2)   -0.352806\n",
       "I(V00MBMSFMLOAD ** 2)    0.067522\n",
       "dtype: float64</td>\n",
       "      <td>Intercept                9.638861e-01\n",
       "V00MBMNFMLOAD            0.000000e+00\n",
       "V00MBMSFMLOAD            6.727407e-02\n",
       "I(V00MBMNFMLOAD ** 2)    5.310523e-19\n",
       "I(V00MBMSFMLOAD ** 2)    1.979927e-04\n",
       "dtype: float64</td>\n",
       "      <td>0.877933</td>\n",
       "    </tr>\n",
       "    <tr>\n",
       "      <th>17</th>\n",
       "      <td>quadratic</td>\n",
       "      <td>V00MBMPFMLOAD ~ V00MBMNFMLOAD + I(V00MBMSFMLOAD**2)</td>\n",
       "      <td>Intercept                0.000363\n",
       "V00MBMNFMLOAD            2.553202\n",
       "I(V00MBMSFMLOAD ** 2)    0.017157\n",
       "dtype: float64</td>\n",
       "      <td>Intercept                0.885009\n",
       "V00MBMNFMLOAD            0.000000\n",
       "I(V00MBMSFMLOAD ** 2)    0.077200\n",
       "dtype: float64</td>\n",
       "      <td>0.875204</td>\n",
       "    </tr>\n",
       "    <tr>\n",
       "      <th>18</th>\n",
       "      <td>cubic</td>\n",
       "      <td>V00MBMSFMLOAD ~ I(V00MBMNFMLOAD**3)</td>\n",
       "      <td>Intercept                0.046636\n",
       "I(V00MBMNFMLOAD ** 3)    0.220685\n",
       "dtype: float64</td>\n",
       "      <td>Intercept                 2.100017e-36\n",
       "I(V00MBMNFMLOAD ** 3)    9.665868e-276\n",
       "dtype: float64</td>\n",
       "      <td>0.284878</td>\n",
       "    </tr>\n",
       "    <tr>\n",
       "      <th>19</th>\n",
       "      <td>cubic</td>\n",
       "      <td>V00MBMSFMLOAD ~ V00MBMNFMLOAD + I(V00MBMNFMLOAD**2) + I(V00MBMNFMLOAD**3)</td>\n",
       "      <td>Intercept                0.008643\n",
       "V00MBMNFMLOAD            0.970757\n",
       "I(V00MBMNFMLOAD ** 2)    0.083800\n",
       "I(V00MBMNFMLOAD ** 3)   -0.030679\n",
       "dtype: float64</td>\n",
       "      <td>Intercept                1.081694e-05\n",
       "V00MBMNFMLOAD            3.111081e-85\n",
       "I(V00MBMNFMLOAD ** 2)    1.489336e-01\n",
       "I(V00MBMNFMLOAD ** 3)    2.552993e-02\n",
       "dtype: float64</td>\n",
       "      <td>0.802902</td>\n",
       "    </tr>\n",
       "    <tr>\n",
       "      <th>20</th>\n",
       "      <td>cubic</td>\n",
       "      <td>V00MBMSFMLOAD ~ V00MBMNFMLOAD + V00MBMPFMLOAD + I(V00MBMNFMLOAD**2) + I(V00MBMPFMLOAD**2) + I(V00MBMNFMLOAD**3) + I(V00MBMPFMLOAD**3)</td>\n",
       "      <td>Intercept                0.008395\n",
       "V00MBMNFMLOAD            1.359111\n",
       "V00MBMPFMLOAD           -0.167160\n",
       "I(V00MBMNFMLOAD ** 2)   -0.390976\n",
       "I(V00MBMPFMLOAD ** 2)    0.062312\n",
       "I(V00MBMNFMLOAD ** 3)    0.041226\n",
       "I(V00MBMPFMLOAD ** 3)   -0.001619\n",
       "dtype: float64</td>\n",
       "      <td>Intercept                3.197660e-06\n",
       "V00MBMNFMLOAD            3.753287e-36\n",
       "V00MBMPFMLOAD            3.647378e-02\n",
       "I(V00MBMNFMLOAD ** 2)    5.126782e-04\n",
       "I(V00MBMPFMLOAD ** 2)    8.912373e-02\n",
       "I(V00MBMNFMLOAD ** 3)    6.568553e-02\n",
       "I(V00MBMPFMLOAD ** 3)    6.693261e-01\n",
       "dtype: float64</td>\n",
       "      <td>0.681197</td>\n",
       "    </tr>\n",
       "    <tr>\n",
       "      <th>21</th>\n",
       "      <td>cubic</td>\n",
       "      <td>V00MBMSFMLOAD ~ V00MBMNFMLOAD + I(V00MBMPFMLOAD**2) + I(V00MBMPFMLOAD**3)</td>\n",
       "      <td>Intercept                0.008556\n",
       "V00MBMNFMLOAD            0.934388\n",
       "I(V00MBMPFMLOAD ** 2)    0.006997\n",
       "I(V00MBMPFMLOAD ** 3)    0.000792\n",
       "dtype: float64</td>\n",
       "      <td>Intercept                 2.251682e-06\n",
       "V00MBMNFMLOAD            1.163431e-173\n",
       "I(V00MBMPFMLOAD ** 2)     2.526803e-01\n",
       "I(V00MBMPFMLOAD ** 3)     4.116778e-01\n",
       "dtype: float64</td>\n",
       "      <td>0.678469</td>\n",
       "    </tr>\n",
       "    <tr>\n",
       "      <th>22</th>\n",
       "      <td>cubic</td>\n",
       "      <td>V00MBMNFMLOAD ~ I(V00MBMPFMLOAD**3)</td>\n",
       "      <td>Intercept                0.014674\n",
       "I(V00MBMPFMLOAD ** 3)    0.015774\n",
       "dtype: float64</td>\n",
       "      <td>Intercept                1.995095e-14\n",
       "I(V00MBMPFMLOAD ** 3)    0.000000e+00\n",
       "dtype: float64</td>\n",
       "      <td>0.540750</td>\n",
       "    </tr>\n",
       "    <tr>\n",
       "      <th>23</th>\n",
       "      <td>cubic</td>\n",
       "      <td>V00MBMNFMLOAD ~ V00MBMPFMLOAD + I(V00MBMPFMLOAD**2) + I(V00MBMPFMLOAD**3)</td>\n",
       "      <td>Intercept                0.002639\n",
       "V00MBMPFMLOAD            0.480715\n",
       "I(V00MBMPFMLOAD ** 2)   -0.067454\n",
       "I(V00MBMPFMLOAD ** 3)    0.007234\n",
       "dtype: float64</td>\n",
       "      <td>Intercept                4.736019e-03\n",
       "V00MBMPFMLOAD            2.257342e-70\n",
       "I(V00MBMPFMLOAD ** 2)    1.509441e-07\n",
       "I(V00MBMPFMLOAD ** 3)    1.304478e-07\n",
       "dtype: float64</td>\n",
       "      <td>0.891863</td>\n",
       "    </tr>\n",
       "    <tr>\n",
       "      <th>24</th>\n",
       "      <td>cubic</td>\n",
       "      <td>V00MBMNFMLOAD ~ V00MBMPFMLOAD + V00MBMSFMLOAD + I(V00MBMPFMLOAD**2) + I(V00MBMSFMLOAD**2) + I(V00MBMPFMLOAD**3) + I(V00MBMSFMLOAD**3)</td>\n",
       "      <td>Intercept                0.000030\n",
       "V00MBMPFMLOAD            0.333152\n",
       "V00MBMSFMLOAD            0.489051\n",
       "I(V00MBMPFMLOAD ** 2)   -0.049980\n",
       "I(V00MBMSFMLOAD ** 2)   -0.247573\n",
       "I(V00MBMPFMLOAD ** 3)    0.007308\n",
       "I(V00MBMSFMLOAD ** 3)    0.033056\n",
       "dtype: float64</td>\n",
       "      <td>Intercept                 9.702257e-01\n",
       "V00MBMPFMLOAD             1.018718e-24\n",
       "V00MBMSFMLOAD            1.790371e-110\n",
       "I(V00MBMPFMLOAD ** 2)     1.090167e-03\n",
       "I(V00MBMSFMLOAD ** 2)     1.492689e-36\n",
       "I(V00MBMPFMLOAD ** 3)     5.602997e-06\n",
       "I(V00MBMSFMLOAD ** 3)     8.661154e-20\n",
       "dtype: float64</td>\n",
       "      <td>0.905573</td>\n",
       "    </tr>\n",
       "    <tr>\n",
       "      <th>25</th>\n",
       "      <td>cubic</td>\n",
       "      <td>V00MBMNFMLOAD ~ V00MBMPFMLOAD + I(V00MBMSFMLOAD**2) + I(V00MBMSFMLOAD**3)</td>\n",
       "      <td>Intercept                0.001197\n",
       "V00MBMPFMLOAD            0.291520\n",
       "I(V00MBMSFMLOAD ** 2)    0.170695\n",
       "I(V00MBMSFMLOAD ** 3)   -0.037347\n",
       "dtype: float64</td>\n",
       "      <td>Intercept                 1.606974e-01\n",
       "V00MBMPFMLOAD             0.000000e+00\n",
       "I(V00MBMSFMLOAD ** 2)    6.417697e-105\n",
       "I(V00MBMSFMLOAD ** 3)     1.720308e-66\n",
       "dtype: float64</td>\n",
       "      <td>0.891022</td>\n",
       "    </tr>\n",
       "    <tr>\n",
       "      <th>26</th>\n",
       "      <td>cubic</td>\n",
       "      <td>V00MBMPFMLOAD ~ I(V00MBMNFMLOAD**3)</td>\n",
       "      <td>Intercept                0.051233\n",
       "I(V00MBMNFMLOAD ** 3)    0.528243\n",
       "dtype: float64</td>\n",
       "      <td>Intercept                 2.076593e-15\n",
       "I(V00MBMNFMLOAD ** 3)    4.473116e-304\n",
       "dtype: float64</td>\n",
       "      <td>0.309287</td>\n",
       "    </tr>\n",
       "    <tr>\n",
       "      <th>27</th>\n",
       "      <td>cubic</td>\n",
       "      <td>V00MBMPFMLOAD ~ V00MBMNFMLOAD + I(V00MBMNFMLOAD**2) + I(V00MBMNFMLOAD**3)</td>\n",
       "      <td>Intercept               -0.000003\n",
       "V00MBMNFMLOAD            2.714532\n",
       "I(V00MBMNFMLOAD ** 2)   -0.000391\n",
       "I(V00MBMNFMLOAD ** 3)   -0.065044\n",
       "dtype: float64</td>\n",
       "      <td>Intercept                 9.991867e-01\n",
       "V00MBMNFMLOAD            3.327392e-215\n",
       "I(V00MBMNFMLOAD ** 2)     9.967636e-01\n",
       "I(V00MBMNFMLOAD ** 3)     5.127584e-03\n",
       "dtype: float64</td>\n",
       "      <td>0.893876</td>\n",
       "    </tr>\n",
       "    <tr>\n",
       "      <th>28</th>\n",
       "      <td>cubic</td>\n",
       "      <td>V00MBMPFMLOAD ~ V00MBMNFMLOAD + V00MBMSFMLOAD + I(V00MBMNFMLOAD**2) + I(V00MBMSFMLOAD**2) + I(V00MBMNFMLOAD**3) + I(V00MBMSFMLOAD**3)</td>\n",
       "      <td>Intercept               -0.000004\n",
       "V00MBMNFMLOAD            3.063438\n",
       "V00MBMSFMLOAD           -0.226051\n",
       "I(V00MBMNFMLOAD ** 2)   -0.434077\n",
       "I(V00MBMSFMLOAD ** 2)    0.220234\n",
       "I(V00MBMNFMLOAD ** 3)    0.013596\n",
       "I(V00MBMSFMLOAD ** 3)   -0.029436\n",
       "dtype: float64</td>\n",
       "      <td>Intercept                 9.987414e-01\n",
       "V00MBMNFMLOAD            4.398536e-140\n",
       "V00MBMSFMLOAD             1.614013e-03\n",
       "I(V00MBMNFMLOAD ** 2)     5.954456e-04\n",
       "I(V00MBMSFMLOAD ** 2)     3.821988e-04\n",
       "I(V00MBMNFMLOAD ** 3)     6.210475e-01\n",
       "I(V00MBMSFMLOAD ** 3)     9.916486e-03\n",
       "dtype: float64</td>\n",
       "      <td>0.878149</td>\n",
       "    </tr>\n",
       "    <tr>\n",
       "      <th>29</th>\n",
       "      <td>cubic</td>\n",
       "      <td>V00MBMPFMLOAD ~ V00MBMNFMLOAD + I(V00MBMSFMLOAD**2) + I(V00MBMSFMLOAD**3)</td>\n",
       "      <td>Intercept                0.000109\n",
       "V00MBMNFMLOAD            2.526353\n",
       "I(V00MBMSFMLOAD ** 2)    0.057416\n",
       "I(V00MBMSFMLOAD ** 3)   -0.012045\n",
       "dtype: float64</td>\n",
       "      <td>Intercept                0.965366\n",
       "V00MBMNFMLOAD            0.000000\n",
       "I(V00MBMSFMLOAD ** 2)    0.015945\n",
       "I(V00MBMSFMLOAD ** 3)    0.064190\n",
       "dtype: float64</td>\n",
       "      <td>0.875318</td>\n",
       "    </tr>\n",
       "    <tr>\n",
       "      <th>30</th>\n",
       "      <td>interaction</td>\n",
       "      <td>V00MBMSFMLOAD ~ V00MBMNFMLOAD:V00MBMPFMLOAD</td>\n",
       "      <td>Intercept                      0.023442\n",
       "V00MBMNFMLOAD:V00MBMPFMLOAD    0.289267\n",
       "dtype: float64</td>\n",
       "      <td>Intercept                      2.552684e-18\n",
       "V00MBMNFMLOAD:V00MBMPFMLOAD    0.000000e+00\n",
       "dtype: float64</td>\n",
       "      <td>0.441856</td>\n",
       "    </tr>\n",
       "    <tr>\n",
       "      <th>31</th>\n",
       "      <td>interaction</td>\n",
       "      <td>V00MBMSFMLOAD ~ V00MBMNFMLOAD*V00MBMPFMLOAD</td>\n",
       "      <td>Intercept                      0.008480\n",
       "V00MBMNFMLOAD                  0.934219\n",
       "V00MBMPFMLOAD                  0.019966\n",
       "V00MBMNFMLOAD:V00MBMPFMLOAD    0.010431\n",
       "dtype: float64</td>\n",
       "      <td>Intercept                       2.853453e-06\n",
       "V00MBMNFMLOAD                  2.323281e-162\n",
       "V00MBMPFMLOAD                   2.263149e-01\n",
       "V00MBMNFMLOAD:V00MBMPFMLOAD     3.832570e-01\n",
       "dtype: float64</td>\n",
       "      <td>0.677684</td>\n",
       "    </tr>\n",
       "    <tr>\n",
       "      <th>32</th>\n",
       "      <td>interaction</td>\n",
       "      <td>V00MBMSFMLOAD ~ V00MBMNFMLOAD*I(V00MBMPFMLOAD**2)</td>\n",
       "      <td>Intercept                              0.008495\n",
       "V00MBMNFMLOAD                          0.909446\n",
       "I(V00MBMPFMLOAD ** 2)                  0.015211\n",
       "V00MBMNFMLOAD:I(V00MBMPFMLOAD ** 2)   -0.002026\n",
       "dtype: float64</td>\n",
       "      <td>Intercept                               2.657821e-06\n",
       "V00MBMNFMLOAD                          5.004381e-189\n",
       "I(V00MBMPFMLOAD ** 2)                   2.807989e-03\n",
       "V00MBMNFMLOAD:I(V00MBMPFMLOAD ** 2)     3.673983e-01\n",
       "dtype: float64</td>\n",
       "      <td>0.678480</td>\n",
       "    </tr>\n",
       "    <tr>\n",
       "      <th>33</th>\n",
       "      <td>interaction</td>\n",
       "      <td>V00MBMSFMLOAD ~ V00MBMNFMLOAD*I(V00MBMPFMLOAD**3)</td>\n",
       "      <td>Intercept                              0.008521\n",
       "V00MBMNFMLOAD                          0.917198\n",
       "I(V00MBMPFMLOAD ** 3)                  0.005474\n",
       "V00MBMNFMLOAD:I(V00MBMPFMLOAD ** 3)   -0.001520\n",
       "dtype: float64</td>\n",
       "      <td>Intercept                               2.410346e-06\n",
       "V00MBMNFMLOAD                          3.678534e-295\n",
       "I(V00MBMPFMLOAD ** 3)                   9.761616e-06\n",
       "V00MBMNFMLOAD:I(V00MBMPFMLOAD ** 3)     1.272010e-03\n",
       "dtype: float64</td>\n",
       "      <td>0.679245</td>\n",
       "    </tr>\n",
       "    <tr>\n",
       "      <th>34</th>\n",
       "      <td>interaction</td>\n",
       "      <td>V00MBMNFMLOAD ~ V00MBMPFMLOAD:V00MBMSFMLOAD</td>\n",
       "      <td>Intercept                      0.006082\n",
       "V00MBMPFMLOAD:V00MBMSFMLOAD    0.244520\n",
       "dtype: float64</td>\n",
       "      <td>Intercept                      7.827828e-07\n",
       "V00MBMPFMLOAD:V00MBMSFMLOAD    0.000000e+00\n",
       "dtype: float64</td>\n",
       "      <td>0.728222</td>\n",
       "    </tr>\n",
       "    <tr>\n",
       "      <th>35</th>\n",
       "      <td>interaction</td>\n",
       "      <td>V00MBMNFMLOAD ~ V00MBMPFMLOAD*V00MBMSFMLOAD</td>\n",
       "      <td>Intercept                      0.000536\n",
       "V00MBMPFMLOAD                  0.280554\n",
       "V00MBMSFMLOAD                  0.197956\n",
       "V00MBMPFMLOAD:V00MBMSFMLOAD   -0.008451\n",
       "dtype: float64</td>\n",
       "      <td>Intercept                       5.163608e-01\n",
       "V00MBMPFMLOAD                   0.000000e+00\n",
       "V00MBMSFMLOAD                  1.916890e-165\n",
       "V00MBMPFMLOAD:V00MBMSFMLOAD     2.899405e-02\n",
       "dtype: float64</td>\n",
       "      <td>0.898077</td>\n",
       "    </tr>\n",
       "    <tr>\n",
       "      <th>36</th>\n",
       "      <td>interaction</td>\n",
       "      <td>V00MBMNFMLOAD ~ V00MBMPFMLOAD*I(V00MBMSFMLOAD**2)</td>\n",
       "      <td>Intercept                              0.001825\n",
       "V00MBMPFMLOAD                          0.323776\n",
       "I(V00MBMSFMLOAD ** 2)                  0.066888\n",
       "V00MBMPFMLOAD:I(V00MBMSFMLOAD ** 2)   -0.008019\n",
       "dtype: float64</td>\n",
       "      <td>Intercept                              3.850197e-02\n",
       "V00MBMPFMLOAD                          0.000000e+00\n",
       "I(V00MBMSFMLOAD ** 2)                  6.250314e-57\n",
       "V00MBMPFMLOAD:I(V00MBMSFMLOAD ** 2)    3.359413e-12\n",
       "dtype: float64</td>\n",
       "      <td>0.883569</td>\n",
       "    </tr>\n",
       "    <tr>\n",
       "      <th>37</th>\n",
       "      <td>interaction</td>\n",
       "      <td>V00MBMNFMLOAD ~ V00MBMPFMLOAD*I(V00MBMSFMLOAD**3)</td>\n",
       "      <td>Intercept                              0.002597\n",
       "V00MBMPFMLOAD                          0.336538\n",
       "I(V00MBMSFMLOAD ** 3)                  0.008243\n",
       "V00MBMPFMLOAD:I(V00MBMSFMLOAD ** 3)   -0.000755\n",
       "dtype: float64</td>\n",
       "      <td>Intercept                              4.166763e-03\n",
       "V00MBMPFMLOAD                          0.000000e+00\n",
       "I(V00MBMSFMLOAD ** 3)                  3.379158e-09\n",
       "V00MBMPFMLOAD:I(V00MBMSFMLOAD ** 3)    2.274478e-02\n",
       "dtype: float64</td>\n",
       "      <td>0.876546</td>\n",
       "    </tr>\n",
       "    <tr>\n",
       "      <th>38</th>\n",
       "      <td>interaction</td>\n",
       "      <td>V00MBMPFMLOAD ~ V00MBMNFMLOAD:V00MBMSFMLOAD</td>\n",
       "      <td>Intercept                      0.012829\n",
       "V00MBMNFMLOAD:V00MBMSFMLOAD    1.711120\n",
       "dtype: float64</td>\n",
       "      <td>Intercept                      0.00022\n",
       "V00MBMNFMLOAD:V00MBMSFMLOAD    0.00000\n",
       "dtype: float64</td>\n",
       "      <td>0.710247</td>\n",
       "    </tr>\n",
       "    <tr>\n",
       "      <th>39</th>\n",
       "      <td>interaction</td>\n",
       "      <td>V00MBMPFMLOAD ~ V00MBMNFMLOAD*V00MBMSFMLOAD</td>\n",
       "      <td>Intercept                     -6.111901e-08\n",
       "V00MBMNFMLOAD                  2.526725e+00\n",
       "V00MBMSFMLOAD                  5.924847e-02\n",
       "V00MBMNFMLOAD:V00MBMSFMLOAD   -1.057307e-02\n",
       "dtype: float64</td>\n",
       "      <td>Intercept                      0.999981\n",
       "V00MBMNFMLOAD                  0.000000\n",
       "V00MBMSFMLOAD                  0.010085\n",
       "V00MBMNFMLOAD:V00MBMSFMLOAD    0.731405\n",
       "dtype: float64</td>\n",
       "      <td>0.875321</td>\n",
       "    </tr>\n",
       "    <tr>\n",
       "      <th>40</th>\n",
       "      <td>interaction</td>\n",
       "      <td>V00MBMPFMLOAD ~ V00MBMNFMLOAD*I(V00MBMSFMLOAD**2)</td>\n",
       "      <td>Intercept                              0.000172\n",
       "V00MBMNFMLOAD                          2.560597\n",
       "I(V00MBMSFMLOAD ** 2)                  0.028508\n",
       "V00MBMNFMLOAD:I(V00MBMSFMLOAD ** 2)   -0.013263\n",
       "dtype: float64</td>\n",
       "      <td>Intercept                              0.945545\n",
       "V00MBMNFMLOAD                          0.000000\n",
       "I(V00MBMSFMLOAD ** 2)                  0.017872\n",
       "V00MBMNFMLOAD:I(V00MBMSFMLOAD ** 2)    0.110653\n",
       "dtype: float64</td>\n",
       "      <td>0.875289</td>\n",
       "    </tr>\n",
       "    <tr>\n",
       "      <th>41</th>\n",
       "      <td>interaction</td>\n",
       "      <td>V00MBMPFMLOAD ~ V00MBMNFMLOAD*I(V00MBMSFMLOAD**3)</td>\n",
       "      <td>Intercept                              0.000365\n",
       "V00MBMNFMLOAD                          2.572987\n",
       "I(V00MBMSFMLOAD ** 3)                  0.006924\n",
       "V00MBMNFMLOAD:I(V00MBMSFMLOAD ** 3)   -0.003839\n",
       "dtype: float64</td>\n",
       "      <td>Intercept                              0.884381\n",
       "V00MBMNFMLOAD                          0.000000\n",
       "I(V00MBMSFMLOAD ** 3)                  0.066946\n",
       "V00MBMNFMLOAD:I(V00MBMSFMLOAD ** 3)    0.084538\n",
       "dtype: float64</td>\n",
       "      <td>0.875224</td>\n",
       "    </tr>\n",
       "  </tbody>\n",
       "</table>\n",
       "</div>"
      ]
     },
     "metadata": {},
     "output_type": "display_data"
    }
   ],
   "execution_count": 4
  },
  {
   "metadata": {},
   "cell_type": "markdown",
   "source": "### MBM Component Regression",
   "id": "7bad53a586f118dc"
  },
  {
   "metadata": {
    "ExecuteTime": {
     "end_time": "2025-08-12T16:49:30.396527Z",
     "start_time": "2025-08-12T16:49:30.351825Z"
    }
   },
   "cell_type": "code",
   "source": [
    "from modules.plot_moaks_data import plot_moaks_data_regression_surface\n",
    "\n",
    "mbm_surface = plot_moaks_data_regression_surface(moaks_3d_mbm_load_scatter, v00_moaks_shared_kl_mbm_load, mbm_relationships_df, 30)\n",
    "mbm_surface.show()"
   ],
   "id": "9ac36b5934312ebb",
   "outputs": [
    {
     "data": {
      "application/vnd.plotly.v1+json": {
       "data": [
        {
         "hovertemplate": "V00MBMSFMLOAD=%{x}<br>V00MBMNFMLOAD=%{y}<br>V00MBMPFMLOAD=%{z}<br>count=%{marker.size}<extra></extra>",
         "legendgroup": "",
         "marker": {
          "color": "#636efa",
          "opacity": 0.8,
          "size": {
           "dtype": "i2",
           "bdata": "qgkCAMUAAQADAH8AGAA3AFQBAQAIAAMABwAgAAIASAAJAAkAEwAzAAIABwADAAgADQAHAAoAJwABAAIAAQABAAQABgABAAEAAwABABkAAQABAA0ADwABAAEAAgADAAkAGAADAAgAAQABAAUAAQABAAIAAgABAAMAAQABAAIAAQALAAEAAwAGAAsAAgACAAIAAgABAAEAAQABAAEABgABAAIABwAEAAEAAQACAAEAAQABAAEAAQABAAEAAgABAAEAAQACAA=="
          },
          "sizemode": "area",
          "sizeref": 1.54625,
          "symbol": "circle"
         },
         "mode": "markers",
         "name": "",
         "scene": "scene",
         "showlegend": false,
         "x": {
          "dtype": "f8",
          "bdata": "AAAAAAAAAAAAAAAAAAAAAAAAAAAAAPA/AAAAAAAA8D8AAAAAAADwPwAAAAAAAPA/AAAAAAAA8D8AAAAAAADwPwAAAAAAAPA/AAAAAAAA8D8AAAAAAADwPwAAAAAAAPA/AAAAAAAA8D8AAAAAAADwPwAAAAAAAPA/AAAAAAAAAEAAAAAAAAAAQAAAAAAAAABAAAAAAAAAAEAAAAAAAAAAQAAAAAAAAABAAAAAAAAAAEAAAAAAAAAAQAAAAAAAAABAAAAAAAAAAEAAAAAAAAAAQAAAAAAAAABAAAAAAAAAAEAAAAAAAAAAQAAAAAAAAABAAAAAAAAAAEAAAAAAAAAAQAAAAAAAAABAAAAAAAAAAEAAAAAAAAAAQAAAAAAAAABAAAAAAAAAAEAAAAAAAAAAQAAAAAAAAAhAAAAAAAAACEAAAAAAAAAIQAAAAAAAAAhAAAAAAAAACEAAAAAAAAAIQAAAAAAAAAhAAAAAAAAACEAAAAAAAAAIQAAAAAAAAAhAAAAAAAAACEAAAAAAAAAIQAAAAAAAAAhAAAAAAAAACEAAAAAAAAAIQAAAAAAAAAhAAAAAAAAACEAAAAAAAAAIQAAAAAAAAAhAAAAAAAAACEAAAAAAAAAIQAAAAAAAAAhAAAAAAAAACEAAAAAAAAAIQAAAAAAAAAhAAAAAAAAACEAAAAAAAAAQQAAAAAAAABBAAAAAAAAAEEAAAAAAAAAQQAAAAAAAABBAAAAAAAAAEEAAAAAAAAAQQAAAAAAAABBAAAAAAAAAEEAAAAAAAAAQQAAAAAAAABBAAAAAAAAAEEAAAAAAAAAQQAAAAAAAABBAAAAAAAAAFEAAAAAAAAAUQAAAAAAAABRAAAAAAAAAFEAAAAAAAAAUQAAAAAAAABRAAAAAAAAAFEAAAAAAAAAUQAAAAAAAABRAAAAAAAAAFEAAAAAAAAAUQAAAAAAAABRAAAAAAAAAFEAAAAAAAAAUQAAAAAAAABhAAAAAAAAAGEAAAAAAAAAYQAAAAAAAABhAAAAAAAAAGEAAAAAAAAAcQA=="
         },
         "y": {
          "dtype": "f8",
          "bdata": "AAAAAAAAAAAAAAAAAADwPwAAAAAAAAAAAAAAAAAAAAAAAAAAAAAAAAAAAAAAAPA/AAAAAAAA8D8AAAAAAADwPwAAAAAAAPA/AAAAAAAA8D8AAAAAAAAAQAAAAAAAAABAAAAAAAAAAEAAAAAAAAAAQAAAAAAAAAhAAAAAAAAAAAAAAAAAAADwPwAAAAAAAPA/AAAAAAAA8D8AAAAAAADwPwAAAAAAAPA/AAAAAAAAAEAAAAAAAAAAQAAAAAAAAABAAAAAAAAAAEAAAAAAAAAAQAAAAAAAAABAAAAAAAAAAEAAAAAAAAAIQAAAAAAAAAhAAAAAAAAACEAAAAAAAAAIQAAAAAAAAAhAAAAAAAAACEAAAAAAAAAQQAAAAAAAABBAAAAAAAAAEEAAAAAAAAAUQAAAAAAAAAAAAAAAAAAA8D8AAAAAAADwPwAAAAAAAPA/AAAAAAAA8D8AAAAAAAAAQAAAAAAAAABAAAAAAAAAAEAAAAAAAAAAQAAAAAAAAABAAAAAAAAAAEAAAAAAAAAIQAAAAAAAAAhAAAAAAAAACEAAAAAAAAAIQAAAAAAAAAhAAAAAAAAAEEAAAAAAAAAQQAAAAAAAABBAAAAAAAAAEEAAAAAAAAAQQAAAAAAAABBAAAAAAAAAFEAAAAAAAAAUQAAAAAAAABRAAAAAAAAAGEAAAAAAAAAAAAAAAAAAAABAAAAAAAAAAEAAAAAAAAAAQAAAAAAAAABAAAAAAAAACEAAAAAAAAAIQAAAAAAAAAhAAAAAAAAACEAAAAAAAAAQQAAAAAAAABBAAAAAAAAAFEAAAAAAAAAUQAAAAAAAABRAAAAAAAAAAAAAAAAAAAAAQAAAAAAAAABAAAAAAAAAAEAAAAAAAAAAQAAAAAAAAAhAAAAAAAAACEAAAAAAAAAIQAAAAAAAABBAAAAAAAAAEEAAAAAAAAAQQAAAAAAAABBAAAAAAAAAFEAAAAAAAAAYQAAAAAAAAABAAAAAAAAAAEAAAAAAAAAAQAAAAAAAAAhAAAAAAAAAEEAAAAAAAAAAAA=="
         },
         "z": {
          "dtype": "f8",
          "bdata": "AAAAAAAAAAAAAAAAAAAAAAAAAAAAAAAAAAAAAAAA8D8AAAAAAAAIQAAAAAAAAAAAAAAAAAAA8D8AAAAAAAAAQAAAAAAAAAhAAAAAAAAAEEAAAAAAAAAAAAAAAAAAAPA/AAAAAAAAAEAAAAAAAAAIQAAAAAAAAAhAAAAAAAAAAAAAAAAAAAAAAAAAAAAAAPA/AAAAAAAAAEAAAAAAAAAIQAAAAAAAABhAAAAAAAAAAAAAAAAAAADwPwAAAAAAAABAAAAAAAAACEAAAAAAAAAQQAAAAAAAABRAAAAAAAAAGEAAAAAAAAAAAAAAAAAAAABAAAAAAAAACEAAAAAAAAAQQAAAAAAAABRAAAAAAAAAGEAAAAAAAAAAQAAAAAAAABRAAAAAAAAAGEAAAAAAAAAYQAAAAAAAAAAAAAAAAAAAAAAAAAAAAADwPwAAAAAAAABAAAAAAAAACEAAAAAAAADwPwAAAAAAAABAAAAAAAAACEAAAAAAAAAQQAAAAAAAABRAAAAAAAAAGEAAAAAAAAAUQAAAAAAAABhAAAAAAAAAHEAAAAAAAAAgQAAAAAAAACJAAAAAAAAAAEAAAAAAAAAQQAAAAAAAABRAAAAAAAAAGEAAAAAAAAAgQAAAAAAAACJAAAAAAAAAFEAAAAAAAAAgQAAAAAAAACJAAAAAAAAAFEAAAAAAAAAAAAAAAAAAAAAAAAAAAAAAEEAAAAAAAAAUQAAAAAAAABhAAAAAAAAAGEAAAAAAAAAcQAAAAAAAACBAAAAAAAAAIkAAAAAAAAAUQAAAAAAAABhAAAAAAAAACEAAAAAAAAAUQAAAAAAAABxAAAAAAAAAAAAAAAAAAAAIQAAAAAAAABBAAAAAAAAAFEAAAAAAAAAYQAAAAAAAABhAAAAAAAAAIEAAAAAAAAAiQAAAAAAAABBAAAAAAAAAFEAAAAAAAAAYQAAAAAAAABxAAAAAAAAAGEAAAAAAAAAcQAAAAAAAABBAAAAAAAAAFEAAAAAAAAAYQAAAAAAAACJAAAAAAAAAGEAAAAAAAAAAAA=="
         },
         "type": "scatter3d"
        },
        {
         "colorscale": [
          [
           0.0,
           "rgb(255,255,217)"
          ],
          [
           0.125,
           "rgb(237,248,177)"
          ],
          [
           0.25,
           "rgb(199,233,180)"
          ],
          [
           0.375,
           "rgb(127,205,187)"
          ],
          [
           0.5,
           "rgb(65,182,196)"
          ],
          [
           0.625,
           "rgb(29,145,192)"
          ],
          [
           0.75,
           "rgb(34,94,168)"
          ],
          [
           0.875,
           "rgb(37,52,148)"
          ],
          [
           1.0,
           "rgb(8,29,88)"
          ]
         ],
         "opacity": 0.3,
         "showscale": false,
         "x": {
          "dtype": "f8",
          "bdata": "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",
          "shape": "50, 50"
         },
         "y": {
          "dtype": "f8",
          "bdata": "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",
          "shape": "50, 50"
         },
         "z": {
          "dtype": "f8",
          "bdata": "AAAAAAAAAAAAAAAAAAAAAAAAAAAAAAAAAAAAAAAAAAAAAAAAAAAAAAAAAAAAAAAAAAAAAAAAAAAAAAAAAAAAAAAAAAAAAAAAAAAAAAAAAAAAAAAAAAAAAAAAAAAAAAAAAAAAAAAAAAAAAAAAAAAAAAAAAAAAAAAAAAAAAAAAAAAAAAAAAAAAAAAAAAAAAAAAAAAAAAAAAAAAAAAAAAAAAAAAAAAAAAAAAAAAAAAAAAAAAAAAAAAAAAAAAAAAAAAAAAAAAAAAAAAAAAAAAAAAAAAAAAAAAAAAAAAAAAAAAAAAAAAAAAAAAAAAAAAAAAAAAAAAAAAAAAAAAAAAAAAAAAAAAAAAAAAAAAAAAAAAAAAAAAAAAAAAAAAAAAAAAAAAAAAAAAAAAAAAAAAAAAAAAAAAAAAAAAAAAAAAAAAAAAAAAAAAAAAAAAAAAAAAAAAAAAAAAAAAAAAAAAAAAAAAAAAAAAAAAAAAAAAAAAAAAAAAAAAAAAAAAAAAAAAAAAAAAAAAAAAAAAAAAAAAAAAAAOHlFLycgsc/4eUUvJyCxz/h5RS8nILHP+HlFLycgsc/4eUUvJyCxz/h5RS8nILHP+HlFLycgsc/4eUUvJyCxz/h5RS8nILHP+HlFLycgsc/4eUUvJyCxz/h5RS8nILHP+HlFLycgsc/4eUUvJyCxz/h5RS8nILHP+HlFLycgsc/4eUUvJyCxz/h5RS8nILHP+HlFLycgsc/4eUUvJyCxz/h5RS8nILHP+HlFLycgsc/4eUUvJyCxz/h5RS8nILHP+HlFLycgsc/4eUUvJyCxz/h5RS8nILHP+HlFLycgsc/4eUUvJyCxz/h5RS8nILHP+HlFLycgsc/4eUUvJyCxz/h5RS8nILHP+HlFLycgsc/4eUUvJyCxz/h5RS8nILHP+HlFLycgsc/4eUUvJyCxz/h5RS8nILHP+HlFLycgsc/4eUUvJyCxz/h5RS8nILHP+HlFLycgsc/4eUUvJyCxz/h5RS8nILHP+HlFLycgsc/4eUUvJyCxz/h5RS8nILHP+HlFLycgsc/4eUUvJyCxz/h5RS8nILXP+HlFLycgtc/4eUUvJyC1z/h5RS8nILXP+HlFLycgtc/4eUUvJyC1z/h5RS8nILXP+HlFLycgtc/4eUUvJyC1z/h5RS8nILXP+HlFLycgtc/4eUUvJyC1z/h5RS8nILXP+HlFLycgtc/4eUUvJyC1z/h5RS8nILXP+HlFLycgtc/4eUUvJyC1z/h5RS8nILXP+HlFLycgtc/4eUUvJyC1z/h5RS8nILXP+HlFLycgtc/4eUUvJyC1z/h5RS8nILXP+HlFLycgtc/4eUUvJyC1z/h5RS8nILXP+HlFLycgtc/4eUUvJyC1z/h5RS8nILXP+HlFLycgtc/4eUUvJyC1z/h5RS8nILXP+HlFLycgtc/4eUUvJyC1z/h5RS8nILXP+HlFLycgtc/4eUUvJyC1z/h5RS8nILXP+HlFLycgtc/4eUUvJyC1z/h5RS8nILXP+HlFLycgtc/4eUUvJyC1z/h5RS8nILXP+HlFLycgtc/4eUUvJyC1z/h5RS8nILXP+HlFLycgtc/aawPjfWh4T9prA+N9aHhP2msD431oeE/aawPjfWh4T9prA+N9aHhP2msD431oeE/aawPjfWh4T9prA+N9aHhP2msD431oeE/aawPjfWh4T9prA+N9aHhP2msD431oeE/aawPjfWh4T9prA+N9aHhP2msD431oeE/aawPjfWh4T9prA+N9aHhP2msD431oeE/aawPjfWh4T9prA+N9aHhP2msD431oeE/aawPjfWh4T9prA+N9aHhP2msD431oeE/aawPjfWh4T9prA+N9aHhP2msD431oeE/aawPjfWh4T9prA+N9aHhP2msD431oeE/aawPjfWh4T9prA+N9aHhP2msD431oeE/aawPjfWh4T9prA+N9aHhP2msD431oeE/aawPjfWh4T9prA+N9aHhP2msD431oeE/aawPjfWh4T9prA+N9aHhP2msD431oeE/aawPjfWh4T9prA+N9aHhP2msD431oeE/aawPjfWh4T9prA+N9aHhP2msD431oeE/aawPjfWh4T9prA+N9aHhP+HlFLycguc/4eUUvJyC5z/h5RS8nILnP+HlFLycguc/4eUUvJyC5z/h5RS8nILnP+HlFLycguc/4eUUvJyC5z/h5RS8nILnP+HlFLycguc/4eUUvJyC5z/h5RS8nILnP+HlFLycguc/4eUUvJyC5z/h5RS8nILnP+HlFLycguc/4eUUvJyC5z/h5RS8nILnP+HlFLycguc/4eUUvJyC5z/h5RS8nILnP+HlFLycguc/4eUUvJyC5z/h5RS8nILnP+HlFLycguc/4eUUvJyC5z/h5RS8nILnP+HlFLycguc/4eUUvJyC5z/h5RS8nILnP+HlFLycguc/4eUUvJyC5z/h5RS8nILnP+HlFLycguc/4eUUvJyC5z/h5RS8nILnP+HlFLycguc/4eUUvJyC5z/h5RS8nILnP+HlFLycguc/4eUUvJyC5z/h5RS8nILnP+HlFLycguc/4eUUvJyC5z/h5RS8nILnP+HlFLycguc/4eUUvJyC5z/h5RS8nILnP+HlFLycguc/4eUUvJyC5z9ZHxrrQ2PtP1kfGutDY+0/WR8a60Nj7T9ZHxrrQ2PtP1kfGutDY+0/WR8a60Nj7T9ZHxrrQ2PtP1kfGutDY+0/WR8a60Nj7T9ZHxrrQ2PtP1kfGutDY+0/WR8a60Nj7T9ZHxrrQ2PtP1kfGutDY+0/WR8a60Nj7T9ZHxrrQ2PtP1kfGutDY+0/WR8a60Nj7T9ZHxrrQ2PtP1kfGutDY+0/WR8a60Nj7T9ZHxrrQ2PtP1kfGutDY+0/WR8a60Nj7T9ZHxrrQ2PtP1kfGutDY+0/WR8a60Nj7T9ZHxrrQ2PtP1kfGutDY+0/WR8a60Nj7T9ZHxrrQ2PtP1kfGutDY+0/WR8a60Nj7T9ZHxrrQ2PtP1kfGutDY+0/WR8a60Nj7T9ZHxrrQ2PtP1kfGutDY+0/WR8a60Nj7T9ZHxrrQ2PtP1kfGutDY+0/WR8a60Nj7T9ZHxrrQ2PtP1kfGutDY+0/WR8a60Nj7T9ZHxrrQ2PtP1kfGutDY+0/WR8a60Nj7T9ZHxrrQ2PtP1kfGutDY+0/aawPjfWh8T9prA+N9aHxP2msD431ofE/aawPjfWh8T9prA+N9aHxP2msD431ofE/aawPjfWh8T9prA+N9aHxP2msD431ofE/aawPjfWh8T9prA+N9aHxP2msD431ofE/aawPjfWh8T9prA+N9aHxP2msD431ofE/aawPjfWh8T9prA+N9aHxP2msD431ofE/aawPjfWh8T9prA+N9aHxP2msD431ofE/aawPjfWh8T9prA+N9aHxP2msD431ofE/aawPjfWh8T9prA+N9aHxP2msD431ofE/aawPjfWh8T9prA+N9aHxP2msD431ofE/aawPjfWh8T9prA+N9aHxP2msD431ofE/aawPjfWh8T9prA+N9aHxP2msD431ofE/aawPjfWh8T9prA+N9aHxP2msD431ofE/aawPjfWh8T9prA+N9aHxP2msD431ofE/aawPjfWh8T9prA+N9aHxP2msD431ofE/aawPjfWh8T9prA+N9aHxP2msD431ofE/aawPjfWh8T9prA+N9aHxPyVJkiRJkvQ/JUmSJEmS9D8lSZIkSZL0PyVJkiRJkvQ/JUmSJEmS9D8lSZIkSZL0PyVJkiRJkvQ/JUmSJEmS9D8lSZIkSZL0PyVJkiRJkvQ/JUmSJEmS9D8lSZIkSZL0PyVJkiRJkvQ/JUmSJEmS9D8lSZIkSZL0PyVJkiRJkvQ/JUmSJEmS9D8lSZIkSZL0PyVJkiRJkvQ/JUmSJEmS9D8lSZIkSZL0PyVJkiRJkvQ/JUmSJEmS9D8lSZIkSZL0PyVJkiRJkvQ/JUmSJEmS9D8lSZIkSZL0PyVJkiRJkvQ/JUmSJEmS9D8lSZIkSZL0PyVJkiRJkvQ/JUmSJEmS9D8lSZIkSZL0PyVJkiRJkvQ/JUmSJEmS9D8lSZIkSZL0PyVJkiRJkvQ/JUmSJEmS9D8lSZIkSZL0PyVJkiRJkvQ/JUmSJEmS9D8lSZIkSZL0PyVJkiRJkvQ/JUmSJEmS9D8lSZIkSZL0PyVJkiRJkvQ/JUmSJEmS9D8lSZIkSZL0PyVJkiRJkvQ/JUmSJEmS9D/h5RS8nIL3P+HlFLycgvc/4eUUvJyC9z/h5RS8nIL3P+HlFLycgvc/4eUUvJyC9z/h5RS8nIL3P+HlFLycgvc/4eUUvJyC9z/h5RS8nIL3P+HlFLycgvc/4eUUvJyC9z/h5RS8nIL3P+HlFLycgvc/4eUUvJyC9z/h5RS8nIL3P+HlFLycgvc/4eUUvJyC9z/h5RS8nIL3P+HlFLycgvc/4eUUvJyC9z/h5RS8nIL3P+HlFLycgvc/4eUUvJyC9z/h5RS8nIL3P+HlFLycgvc/4eUUvJyC9z/h5RS8nIL3P+HlFLycgvc/4eUUvJyC9z/h5RS8nIL3P+HlFLycgvc/4eUUvJyC9z/h5RS8nIL3P+HlFLycgvc/4eUUvJyC9z/h5RS8nIL3P+HlFLycgvc/4eUUvJyC9z/h5RS8nIL3P+HlFLycgvc/4eUUvJyC9z/h5RS8nIL3P+HlFLycgvc/4eUUvJyC9z/h5RS8nIL3P+HlFLycgvc/4eUUvJyC9z/h5RS8nIL3P+HlFLycgvc/nYKXU/By+j+dgpdT8HL6P52Cl1Pwcvo/nYKXU/By+j+dgpdT8HL6P52Cl1Pwcvo/nYKXU/By+j+dgpdT8HL6P52Cl1Pwcvo/nYKXU/By+j+dgpdT8HL6P52Cl1Pwcvo/nYKXU/By+j+dgpdT8HL6P52Cl1Pwcvo/nYKXU/By+j+dgpdT8HL6P52Cl1Pwcvo/nYKXU/By+j+dgpdT8HL6P52Cl1Pwcvo/nYKXU/By+j+dgpdT8HL6P52Cl1Pwcvo/nYKXU/By+j+dgpdT8HL6P52Cl1Pwcvo/nYKXU/By+j+dgpdT8HL6P52Cl1Pwcvo/nYKXU/By+j+dgpdT8HL6P52Cl1Pwcvo/nYKXU/By+j+dgpdT8HL6P52Cl1Pwcvo/nYKXU/By+j+dgpdT8HL6P52Cl1Pwcvo/nYKXU/By+j+dgpdT8HL6P52Cl1Pwcvo/nYKXU/By+j+dgpdT8HL6P52Cl1Pwcvo/nYKXU/By+j+dgpdT8HL6P52Cl1Pwcvo/nYKXU/By+j+dgpdT8HL6P1kfGutDY/0/WR8a60Nj/T9ZHxrrQ2P9P1kfGutDY/0/WR8a60Nj/T9ZHxrrQ2P9P1kfGutDY/0/WR8a60Nj/T9ZHxrrQ2P9P1kfGutDY/0/WR8a60Nj/T9ZHxrrQ2P9P1kfGutDY/0/WR8a60Nj/T9ZHxrrQ2P9P1kfGutDY/0/WR8a60Nj/T9ZHxrrQ2P9P1kfGutDY/0/WR8a60Nj/T9ZHxrrQ2P9P1kfGutDY/0/WR8a60Nj/T9ZHxrrQ2P9P1kfGutDY/0/WR8a60Nj/T9ZHxrrQ2P9P1kfGutDY/0/WR8a60Nj/T9ZHxrrQ2P9P1kfGutDY/0/WR8a60Nj/T9ZHxrrQ2P9P1kfGutDY/0/WR8a60Nj/T9ZHxrrQ2P9P1kfGutDY/0/WR8a60Nj/T9ZHxrrQ2P9P1kfGutDY/0/WR8a60Nj/T9ZHxrrQ2P9P1kfGutDY/0/WR8a60Nj/T9ZHxrrQ2P9P1kfGutDY/0/WR8a60Nj/T9ZHxrrQ2P9P1kfGutDY/0/WR8a60Nj/T8LXk7ByykAQAteTsHLKQBAC15OwcspAEALXk7ByykAQAteTsHLKQBAC15OwcspAEALXk7ByykAQAteTsHLKQBAC15OwcspAEALXk7ByykAQAteTsHLKQBAC15OwcspAEALXk7ByykAQAteTsHLKQBAC15OwcspAEALXk7ByykAQAteTsHLKQBAC15OwcspAEALXk7ByykAQAteTsHLKQBAC15OwcspAEALXk7ByykAQAteTsHLKQBAC15OwcspAEALXk7ByykAQAteTsHLKQBAC15OwcspAEALXk7ByykAQAteTsHLKQBAC15OwcspAEALXk7ByykAQAteTsHLKQBAC15OwcspAEALXk7ByykAQAteTsHLKQBAC15OwcspAEALXk7ByykAQAteTsHLKQBAC15OwcspAEALXk7ByykAQAteTsHLKQBAC15OwcspAEALXk7ByykAQAteTsHLKQBAC15OwcspAEALXk7ByykAQAteTsHLKQBAC15OwcspAEALXk7ByykAQAteTsHLKQBAaawPjfWhAUBprA+N9aEBQGmsD431oQFAaawPjfWhAUBprA+N9aEBQGmsD431oQFAaawPjfWhAUBprA+N9aEBQGmsD431oQFAaawPjfWhAUBprA+N9aEBQGmsD431oQFAaawPjfWhAUBprA+N9aEBQGmsD431oQFAaawPjfWhAUBprA+N9aEBQGmsD431oQFAaawPjfWhAUBprA+N9aEBQGmsD431oQFAaawPjfWhAUBprA+N9aEBQGmsD431oQFAaawPjfWhAUBprA+N9aEBQGmsD431oQFAaawPjfWhAUBprA+N9aEBQGmsD431oQFAaawPjfWhAUBprA+N9aEBQGmsD431oQFAaawPjfWhAUBprA+N9aEBQGmsD431oQFAaawPjfWhAUBprA+N9aEBQGmsD431oQFAaawPjfWhAUBprA+N9aEBQGmsD431oQFAaawPjfWhAUBprA+N9aEBQGmsD431oQFAaawPjfWhAUBprA+N9aEBQGmsD431oQFAaawPjfWhAUBprA+N9aEBQMf60FgfGgNAx/rQWB8aA0DH+tBYHxoDQMf60FgfGgNAx/rQWB8aA0DH+tBYHxoDQMf60FgfGgNAx/rQWB8aA0DH+tBYHxoDQMf60FgfGgNAx/rQWB8aA0DH+tBYHxoDQMf60FgfGgNAx/rQWB8aA0DH+tBYHxoDQMf60FgfGgNAx/rQWB8aA0DH+tBYHxoDQMf60FgfGgNAx/rQWB8aA0DH+tBYHxoDQMf60FgfGgNAx/rQWB8aA0DH+tBYHxoDQMf60FgfGgNAx/rQWB8aA0DH+tBYHxoDQMf60FgfGgNAx/rQWB8aA0DH+tBYHxoDQMf60FgfGgNAx/rQWB8aA0DH+tBYHxoDQMf60FgfGgNAx/rQWB8aA0DH+tBYHxoDQMf60FgfGgNAx/rQWB8aA0DH+tBYHxoDQMf60FgfGgNAx/rQWB8aA0DH+tBYHxoDQMf60FgfGgNAx/rQWB8aA0DH+tBYHxoDQMf60FgfGgNAx/rQWB8aA0DH+tBYHxoDQMf60FgfGgNAx/rQWB8aA0AlSZIkSZIEQCVJkiRJkgRAJUmSJEmSBEAlSZIkSZIEQCVJkiRJkgRAJUmSJEmSBEAlSZIkSZIEQCVJkiRJkgRAJUmSJEmSBEAlSZIkSZIEQCVJkiRJkgRAJUmSJEmSBEAlSZIkSZIEQCVJkiRJkgRAJUmSJEmSBEAlSZIkSZIEQCVJkiRJkgRAJUmSJEmSBEAlSZIkSZIEQCVJkiRJkgRAJUmSJEmSBEAlSZIkSZIEQCVJkiRJkgRAJUmSJEmSBEAlSZIkSZIEQCVJkiRJkgRAJUmSJEmSBEAlSZIkSZIEQCVJkiRJkgRAJUmSJEmSBEAlSZIkSZIEQCVJkiRJkgRAJUmSJEmSBEAlSZIkSZIEQCVJkiRJkgRAJUmSJEmSBEAlSZIkSZIEQCVJkiRJkgRAJUmSJEmSBEAlSZIkSZIEQCVJkiRJkgRAJUmSJEmSBEAlSZIkSZIEQCVJkiRJkgRAJUmSJEmSBEAlSZIkSZIEQCVJkiRJkgRAJUmSJEmSBEAlSZIkSZIEQCVJkiRJkgRAg5dT8HIKBkCDl1PwcgoGQIOXU/ByCgZAg5dT8HIKBkCDl1PwcgoGQIOXU/ByCgZAg5dT8HIKBkCDl1PwcgoGQIOXU/ByCgZAg5dT8HIKBkCDl1PwcgoGQIOXU/ByCgZAg5dT8HIKBkCDl1PwcgoGQIOXU/ByCgZAg5dT8HIKBkCDl1PwcgoGQIOXU/ByCgZAg5dT8HIKBkCDl1PwcgoGQIOXU/ByCgZAg5dT8HIKBkCDl1PwcgoGQIOXU/ByCgZAg5dT8HIKBkCDl1PwcgoGQIOXU/ByCgZAg5dT8HIKBkCDl1PwcgoGQIOXU/ByCgZAg5dT8HIKBkCDl1PwcgoGQIOXU/ByCgZAg5dT8HIKBkCDl1PwcgoGQIOXU/ByCgZAg5dT8HIKBkCDl1PwcgoGQIOXU/ByCgZAg5dT8HIKBkCDl1PwcgoGQIOXU/ByCgZAg5dT8HIKBkCDl1PwcgoGQIOXU/ByCgZAg5dT8HIKBkCDl1PwcgoGQIOXU/ByCgZAg5dT8HIKBkCDl1PwcgoGQOHlFLycggdA4eUUvJyCB0Dh5RS8nIIHQOHlFLycggdA4eUUvJyCB0Dh5RS8nIIHQOHlFLycggdA4eUUvJyCB0Dh5RS8nIIHQOHlFLycggdA4eUUvJyCB0Dh5RS8nIIHQOHlFLycggdA4eUUvJyCB0Dh5RS8nIIHQOHlFLycggdA4eUUvJyCB0Dh5RS8nIIHQOHlFLycggdA4eUUvJyCB0Dh5RS8nIIHQOHlFLycggdA4eUUvJyCB0Dh5RS8nIIHQOHlFLycggdA4eUUvJyCB0Dh5RS8nIIHQOHlFLycggdA4eUUvJyCB0Dh5RS8nIIHQOHlFLycggdA4eUUvJyCB0Dh5RS8nIIHQOHlFLycggdA4eUUvJyCB0Dh5RS8nIIHQOHlFLycggdA4eUUvJyCB0Dh5RS8nIIHQOHlFLycggdA4eUUvJyCB0Dh5RS8nIIHQOHlFLycggdA4eUUvJyCB0Dh5RS8nIIHQOHlFLycggdA4eUUvJyCB0Dh5RS8nIIHQOHlFLycggdA4eUUvJyCB0A/NNaHxvoIQD801ofG+ghAPzTWh8b6CEA/NNaHxvoIQD801ofG+ghAPzTWh8b6CEA/NNaHxvoIQD801ofG+ghAPzTWh8b6CEA/NNaHxvoIQD801ofG+ghAPzTWh8b6CEA/NNaHxvoIQD801ofG+ghAPzTWh8b6CEA/NNaHxvoIQD801ofG+ghAPzTWh8b6CEA/NNaHxvoIQD801ofG+ghAPzTWh8b6CEA/NNaHxvoIQD801ofG+ghAPzTWh8b6CEA/NNaHxvoIQD801ofG+ghAPzTWh8b6CEA/NNaHxvoIQD801ofG+ghAPzTWh8b6CEA/NNaHxvoIQD801ofG+ghAPzTWh8b6CEA/NNaHxvoIQD801ofG+ghAPzTWh8b6CEA/NNaHxvoIQD801ofG+ghAPzTWh8b6CEA/NNaHxvoIQD801ofG+ghAPzTWh8b6CEA/NNaHxvoIQD801ofG+ghAPzTWh8b6CEA/NNaHxvoIQD801ofG+ghAPzTWh8b6CEA/NNaHxvoIQD801ofG+ghAnYKXU/ByCkCdgpdT8HIKQJ2Cl1PwcgpAnYKXU/ByCkCdgpdT8HIKQJ2Cl1PwcgpAnYKXU/ByCkCdgpdT8HIKQJ2Cl1PwcgpAnYKXU/ByCkCdgpdT8HIKQJ2Cl1PwcgpAnYKXU/ByCkCdgpdT8HIKQJ2Cl1PwcgpAnYKXU/ByCkCdgpdT8HIKQJ2Cl1PwcgpAnYKXU/ByCkCdgpdT8HIKQJ2Cl1PwcgpAnYKXU/ByCkCdgpdT8HIKQJ2Cl1PwcgpAnYKXU/ByCkCdgpdT8HIKQJ2Cl1PwcgpAnYKXU/ByCkCdgpdT8HIKQJ2Cl1PwcgpAnYKXU/ByCkCdgpdT8HIKQJ2Cl1PwcgpAnYKXU/ByCkCdgpdT8HIKQJ2Cl1PwcgpAnYKXU/ByCkCdgpdT8HIKQJ2Cl1PwcgpAnYKXU/ByCkCdgpdT8HIKQJ2Cl1PwcgpAnYKXU/ByCkCdgpdT8HIKQJ2Cl1PwcgpAnYKXU/ByCkCdgpdT8HIKQJ2Cl1PwcgpAnYKXU/ByCkCdgpdT8HIKQPvQWB8a6wtA+9BYHxrrC0D70FgfGusLQPvQWB8a6wtA+9BYHxrrC0D70FgfGusLQPvQWB8a6wtA+9BYHxrrC0D70FgfGusLQPvQWB8a6wtA+9BYHxrrC0D70FgfGusLQPvQWB8a6wtA+9BYHxrrC0D70FgfGusLQPvQWB8a6wtA+9BYHxrrC0D70FgfGusLQPvQWB8a6wtA+9BYHxrrC0D70FgfGusLQPvQWB8a6wtA+9BYHxrrC0D70FgfGusLQPvQWB8a6wtA+9BYHxrrC0D70FgfGusLQPvQWB8a6wtA+9BYHxrrC0D70FgfGusLQPvQWB8a6wtA+9BYHxrrC0D70FgfGusLQPvQWB8a6wtA+9BYHxrrC0D70FgfGusLQPvQWB8a6wtA+9BYHxrrC0D70FgfGusLQPvQWB8a6wtA+9BYHxrrC0D70FgfGusLQPvQWB8a6wtA+9BYHxrrC0D70FgfGusLQPvQWB8a6wtA+9BYHxrrC0D70FgfGusLQPvQWB8a6wtA+9BYHxrrC0BZHxrrQ2MNQFkfGutDYw1AWR8a60NjDUBZHxrrQ2MNQFkfGutDYw1AWR8a60NjDUBZHxrrQ2MNQFkfGutDYw1AWR8a60NjDUBZHxrrQ2MNQFkfGutDYw1AWR8a60NjDUBZHxrrQ2MNQFkfGutDYw1AWR8a60NjDUBZHxrrQ2MNQFkfGutDYw1AWR8a60NjDUBZHxrrQ2MNQFkfGutDYw1AWR8a60NjDUBZHxrrQ2MNQFkfGutDYw1AWR8a60NjDUBZHxrrQ2MNQFkfGutDYw1AWR8a60NjDUBZHxrrQ2MNQFkfGutDYw1AWR8a60NjDUBZHxrrQ2MNQFkfGutDYw1AWR8a60NjDUBZHxrrQ2MNQFkfGutDYw1AWR8a60NjDUBZHxrrQ2MNQFkfGutDYw1AWR8a60NjDUBZHxrrQ2MNQFkfGutDYw1AWR8a60NjDUBZHxrrQ2MNQFkfGutDYw1AWR8a60NjDUBZHxrrQ2MNQFkfGutDYw1AWR8a60NjDUBZHxrrQ2MNQFkfGutDYw1At23btm3bDkC3bdu2bdsOQLdt27Zt2w5At23btm3bDkC3bdu2bdsOQLdt27Zt2w5At23btm3bDkC3bdu2bdsOQLdt27Zt2w5At23btm3bDkC3bdu2bdsOQLdt27Zt2w5At23btm3bDkC3bdu2bdsOQLdt27Zt2w5At23btm3bDkC3bdu2bdsOQLdt27Zt2w5At23btm3bDkC3bdu2bdsOQLdt27Zt2w5At23btm3bDkC3bdu2bdsOQLdt27Zt2w5At23btm3bDkC3bdu2bdsOQLdt27Zt2w5At23btm3bDkC3bdu2bdsOQLdt27Zt2w5At23btm3bDkC3bdu2bdsOQLdt27Zt2w5At23btm3bDkC3bdu2bdsOQLdt27Zt2w5At23btm3bDkC3bdu2bdsOQLdt27Zt2w5At23btm3bDkC3bdu2bdsOQLdt27Zt2w5At23btm3bDkC3bdu2bdsOQLdt27Zt2w5At23btm3bDkC3bdu2bdsOQLdt27Zt2w5At23btm3bDkC3bdu2bdsOQAteTsHLKRBAC15OwcspEEALXk7ByykQQAteTsHLKRBAC15OwcspEEALXk7ByykQQAteTsHLKRBAC15OwcspEEALXk7ByykQQAteTsHLKRBAC15OwcspEEALXk7ByykQQAteTsHLKRBAC15OwcspEEALXk7ByykQQAteTsHLKRBAC15OwcspEEALXk7ByykQQAteTsHLKRBAC15OwcspEEALXk7ByykQQAteTsHLKRBAC15OwcspEEALXk7ByykQQAteTsHLKRBAC15OwcspEEALXk7ByykQQAteTsHLKRBAC15OwcspEEALXk7ByykQQAteTsHLKRBAC15OwcspEEALXk7ByykQQAteTsHLKRBAC15OwcspEEALXk7ByykQQAteTsHLKRBAC15OwcspEEALXk7ByykQQAteTsHLKRBAC15OwcspEEALXk7ByykQQAteTsHLKRBAC15OwcspEEALXk7ByykQQAteTsHLKRBAC15OwcspEEALXk7ByykQQAteTsHLKRBAC15OwcspEEA6BS+n4OUQQDoFL6fg5RBAOgUvp+DlEEA6BS+n4OUQQDoFL6fg5RBAOgUvp+DlEEA6BS+n4OUQQDoFL6fg5RBAOgUvp+DlEEA6BS+n4OUQQDoFL6fg5RBAOgUvp+DlEEA6BS+n4OUQQDoFL6fg5RBAOgUvp+DlEEA6BS+n4OUQQDoFL6fg5RBAOgUvp+DlEEA6BS+n4OUQQDoFL6fg5RBAOgUvp+DlEEA6BS+n4OUQQDoFL6fg5RBAOgUvp+DlEEA6BS+n4OUQQDoFL6fg5RBAOgUvp+DlEEA6BS+n4OUQQDoFL6fg5RBAOgUvp+DlEEA6BS+n4OUQQDoFL6fg5RBAOgUvp+DlEEA6BS+n4OUQQDoFL6fg5RBAOgUvp+DlEEA6BS+n4OUQQDoFL6fg5RBAOgUvp+DlEEA6BS+n4OUQQDoFL6fg5RBAOgUvp+DlEEA6BS+n4OUQQDoFL6fg5RBAOgUvp+DlEEA6BS+n4OUQQDoFL6fg5RBAOgUvp+DlEEA6BS+n4OUQQDoFL6fg5RBAaawPjfWhEUBprA+N9aERQGmsD431oRFAaawPjfWhEUBprA+N9aERQGmsD431oRFAaawPjfWhEUBprA+N9aERQGmsD431oRFAaawPjfWhEUBprA+N9aERQGmsD431oRFAaawPjfWhEUBprA+N9aERQGmsD431oRFAaawPjfWhEUBprA+N9aERQGmsD431oRFAaawPjfWhEUBprA+N9aERQGmsD431oRFAaawPjfWhEUBprA+N9aERQGmsD431oRFAaawPjfWhEUBprA+N9aERQGmsD431oRFAaawPjfWhEUBprA+N9aERQGmsD431oRFAaawPjfWhEUBprA+N9aERQGmsD431oRFAaawPjfWhEUBprA+N9aERQGmsD431oRFAaawPjfWhEUBprA+N9aERQGmsD431oRFAaawPjfWhEUBprA+N9aERQGmsD431oRFAaawPjfWhEUBprA+N9aERQGmsD431oRFAaawPjfWhEUBprA+N9aERQGmsD431oRFAaawPjfWhEUBprA+N9aERQJhT8HIKXhJAmFPwcgpeEkCYU/ByCl4SQJhT8HIKXhJAmFPwcgpeEkCYU/ByCl4SQJhT8HIKXhJAmFPwcgpeEkCYU/ByCl4SQJhT8HIKXhJAmFPwcgpeEkCYU/ByCl4SQJhT8HIKXhJAmFPwcgpeEkCYU/ByCl4SQJhT8HIKXhJAmFPwcgpeEkCYU/ByCl4SQJhT8HIKXhJAmFPwcgpeEkCYU/ByCl4SQJhT8HIKXhJAmFPwcgpeEkCYU/ByCl4SQJhT8HIKXhJAmFPwcgpeEkCYU/ByCl4SQJhT8HIKXhJAmFPwcgpeEkCYU/ByCl4SQJhT8HIKXhJAmFPwcgpeEkCYU/ByCl4SQJhT8HIKXhJAmFPwcgpeEkCYU/ByCl4SQJhT8HIKXhJAmFPwcgpeEkCYU/ByCl4SQJhT8HIKXhJAmFPwcgpeEkCYU/ByCl4SQJhT8HIKXhJAmFPwcgpeEkCYU/ByCl4SQJhT8HIKXhJAmFPwcgpeEkCYU/ByCl4SQJhT8HIKXhJAmFPwcgpeEkDH+tBYHxoTQMf60FgfGhNAx/rQWB8aE0DH+tBYHxoTQMf60FgfGhNAx/rQWB8aE0DH+tBYHxoTQMf60FgfGhNAx/rQWB8aE0DH+tBYHxoTQMf60FgfGhNAx/rQWB8aE0DH+tBYHxoTQMf60FgfGhNAx/rQWB8aE0DH+tBYHxoTQMf60FgfGhNAx/rQWB8aE0DH+tBYHxoTQMf60FgfGhNAx/rQWB8aE0DH+tBYHxoTQMf60FgfGhNAx/rQWB8aE0DH+tBYHxoTQMf60FgfGhNAx/rQWB8aE0DH+tBYHxoTQMf60FgfGhNAx/rQWB8aE0DH+tBYHxoTQMf60FgfGhNAx/rQWB8aE0DH+tBYHxoTQMf60FgfGhNAx/rQWB8aE0DH+tBYHxoTQMf60FgfGhNAx/rQWB8aE0DH+tBYHxoTQMf60FgfGhNAx/rQWB8aE0DH+tBYHxoTQMf60FgfGhNAx/rQWB8aE0DH+tBYHxoTQMf60FgfGhNAx/rQWB8aE0DH+tBYHxoTQMf60FgfGhNA9qGxPjTWE0D2obE+NNYTQPahsT401hNA9qGxPjTWE0D2obE+NNYTQPahsT401hNA9qGxPjTWE0D2obE+NNYTQPahsT401hNA9qGxPjTWE0D2obE+NNYTQPahsT401hNA9qGxPjTWE0D2obE+NNYTQPahsT401hNA9qGxPjTWE0D2obE+NNYTQPahsT401hNA9qGxPjTWE0D2obE+NNYTQPahsT401hNA9qGxPjTWE0D2obE+NNYTQPahsT401hNA9qGxPjTWE0D2obE+NNYTQPahsT401hNA9qGxPjTWE0D2obE+NNYTQPahsT401hNA9qGxPjTWE0D2obE+NNYTQPahsT401hNA9qGxPjTWE0D2obE+NNYTQPahsT401hNA9qGxPjTWE0D2obE+NNYTQPahsT401hNA9qGxPjTWE0D2obE+NNYTQPahsT401hNA9qGxPjTWE0D2obE+NNYTQPahsT401hNA9qGxPjTWE0D2obE+NNYTQPahsT401hNA9qGxPjTWE0D2obE+NNYTQCVJkiRJkhRAJUmSJEmSFEAlSZIkSZIUQCVJkiRJkhRAJUmSJEmSFEAlSZIkSZIUQCVJkiRJkhRAJUmSJEmSFEAlSZIkSZIUQCVJkiRJkhRAJUmSJEmSFEAlSZIkSZIUQCVJkiRJkhRAJUmSJEmSFEAlSZIkSZIUQCVJkiRJkhRAJUmSJEmSFEAlSZIkSZIUQCVJkiRJkhRAJUmSJEmSFEAlSZIkSZIUQCVJkiRJkhRAJUmSJEmSFEAlSZIkSZIUQCVJkiRJkhRAJUmSJEmSFEAlSZIkSZIUQCVJkiRJkhRAJUmSJEmSFEAlSZIkSZIUQCVJkiRJkhRAJUmSJEmSFEAlSZIkSZIUQCVJkiRJkhRAJUmSJEmSFEAlSZIkSZIUQCVJkiRJkhRAJUmSJEmSFEAlSZIkSZIUQCVJkiRJkhRAJUmSJEmSFEAlSZIkSZIUQCVJkiRJkhRAJUmSJEmSFEAlSZIkSZIUQCVJkiRJkhRAJUmSJEmSFEAlSZIkSZIUQCVJkiRJkhRAJUmSJEmSFEBU8HIKXk4VQFTwcgpeThVAVPByCl5OFUBU8HIKXk4VQFTwcgpeThVAVPByCl5OFUBU8HIKXk4VQFTwcgpeThVAVPByCl5OFUBU8HIKXk4VQFTwcgpeThVAVPByCl5OFUBU8HIKXk4VQFTwcgpeThVAVPByCl5OFUBU8HIKXk4VQFTwcgpeThVAVPByCl5OFUBU8HIKXk4VQFTwcgpeThVAVPByCl5OFUBU8HIKXk4VQFTwcgpeThVAVPByCl5OFUBU8HIKXk4VQFTwcgpeThVAVPByCl5OFUBU8HIKXk4VQFTwcgpeThVAVPByCl5OFUBU8HIKXk4VQFTwcgpeThVAVPByCl5OFUBU8HIKXk4VQFTwcgpeThVAVPByCl5OFUBU8HIKXk4VQFTwcgpeThVAVPByCl5OFUBU8HIKXk4VQFTwcgpeThVAVPByCl5OFUBU8HIKXk4VQFTwcgpeThVAVPByCl5OFUBU8HIKXk4VQFTwcgpeThVAVPByCl5OFUBU8HIKXk4VQFTwcgpeThVAg5dT8HIKFkCDl1PwcgoWQIOXU/ByChZAg5dT8HIKFkCDl1PwcgoWQIOXU/ByChZAg5dT8HIKFkCDl1PwcgoWQIOXU/ByChZAg5dT8HIKFkCDl1PwcgoWQIOXU/ByChZAg5dT8HIKFkCDl1PwcgoWQIOXU/ByChZAg5dT8HIKFkCDl1PwcgoWQIOXU/ByChZAg5dT8HIKFkCDl1PwcgoWQIOXU/ByChZAg5dT8HIKFkCDl1PwcgoWQIOXU/ByChZAg5dT8HIKFkCDl1PwcgoWQIOXU/ByChZAg5dT8HIKFkCDl1PwcgoWQIOXU/ByChZAg5dT8HIKFkCDl1PwcgoWQIOXU/ByChZAg5dT8HIKFkCDl1PwcgoWQIOXU/ByChZAg5dT8HIKFkCDl1PwcgoWQIOXU/ByChZAg5dT8HIKFkCDl1PwcgoWQIOXU/ByChZAg5dT8HIKFkCDl1PwcgoWQIOXU/ByChZAg5dT8HIKFkCDl1PwcgoWQIOXU/ByChZAg5dT8HIKFkCDl1PwcgoWQLI+NNaHxhZAsj401ofGFkCyPjTWh8YWQLI+NNaHxhZAsj401ofGFkCyPjTWh8YWQLI+NNaHxhZAsj401ofGFkCyPjTWh8YWQLI+NNaHxhZAsj401ofGFkCyPjTWh8YWQLI+NNaHxhZAsj401ofGFkCyPjTWh8YWQLI+NNaHxhZAsj401ofGFkCyPjTWh8YWQLI+NNaHxhZAsj401ofGFkCyPjTWh8YWQLI+NNaHxhZAsj401ofGFkCyPjTWh8YWQLI+NNaHxhZAsj401ofGFkCyPjTWh8YWQLI+NNaHxhZAsj401ofGFkCyPjTWh8YWQLI+NNaHxhZAsj401ofGFkCyPjTWh8YWQLI+NNaHxhZAsj401ofGFkCyPjTWh8YWQLI+NNaHxhZAsj401ofGFkCyPjTWh8YWQLI+NNaHxhZAsj401ofGFkCyPjTWh8YWQLI+NNaHxhZAsj401ofGFkCyPjTWh8YWQLI+NNaHxhZAsj401ofGFkCyPjTWh8YWQLI+NNaHxhZAsj401ofGFkDh5RS8nIIXQOHlFLycghdA4eUUvJyCF0Dh5RS8nIIXQOHlFLycghdA4eUUvJyCF0Dh5RS8nIIXQOHlFLycghdA4eUUvJyCF0Dh5RS8nIIXQOHlFLycghdA4eUUvJyCF0Dh5RS8nIIXQOHlFLycghdA4eUUvJyCF0Dh5RS8nIIXQOHlFLycghdA4eUUvJyCF0Dh5RS8nIIXQOHlFLycghdA4eUUvJyCF0Dh5RS8nIIXQOHlFLycghdA4eUUvJyCF0Dh5RS8nIIXQOHlFLycghdA4eUUvJyCF0Dh5RS8nIIXQOHlFLycghdA4eUUvJyCF0Dh5RS8nIIXQOHlFLycghdA4eUUvJyCF0Dh5RS8nIIXQOHlFLycghdA4eUUvJyCF0Dh5RS8nIIXQOHlFLycghdA4eUUvJyCF0Dh5RS8nIIXQOHlFLycghdA4eUUvJyCF0Dh5RS8nIIXQOHlFLycghdA4eUUvJyCF0Dh5RS8nIIXQOHlFLycghdA4eUUvJyCF0Dh5RS8nIIXQOHlFLycghdAEI31obE+GEAQjfWhsT4YQBCN9aGxPhhAEI31obE+GEAQjfWhsT4YQBCN9aGxPhhAEI31obE+GEAQjfWhsT4YQBCN9aGxPhhAEI31obE+GEAQjfWhsT4YQBCN9aGxPhhAEI31obE+GEAQjfWhsT4YQBCN9aGxPhhAEI31obE+GEAQjfWhsT4YQBCN9aGxPhhAEI31obE+GEAQjfWhsT4YQBCN9aGxPhhAEI31obE+GEAQjfWhsT4YQBCN9aGxPhhAEI31obE+GEAQjfWhsT4YQBCN9aGxPhhAEI31obE+GEAQjfWhsT4YQBCN9aGxPhhAEI31obE+GEAQjfWhsT4YQBCN9aGxPhhAEI31obE+GEAQjfWhsT4YQBCN9aGxPhhAEI31obE+GEAQjfWhsT4YQBCN9aGxPhhAEI31obE+GEAQjfWhsT4YQBCN9aGxPhhAEI31obE+GEAQjfWhsT4YQBCN9aGxPhhAEI31obE+GEAQjfWhsT4YQBCN9aGxPhhAEI31obE+GEAQjfWhsT4YQD801ofG+hhAPzTWh8b6GEA/NNaHxvoYQD801ofG+hhAPzTWh8b6GEA/NNaHxvoYQD801ofG+hhAPzTWh8b6GEA/NNaHxvoYQD801ofG+hhAPzTWh8b6GEA/NNaHxvoYQD801ofG+hhAPzTWh8b6GEA/NNaHxvoYQD801ofG+hhAPzTWh8b6GEA/NNaHxvoYQD801ofG+hhAPzTWh8b6GEA/NNaHxvoYQD801ofG+hhAPzTWh8b6GEA/NNaHxvoYQD801ofG+hhAPzTWh8b6GEA/NNaHxvoYQD801ofG+hhAPzTWh8b6GEA/NNaHxvoYQD801ofG+hhAPzTWh8b6GEA/NNaHxvoYQD801ofG+hhAPzTWh8b6GEA/NNaHxvoYQD801ofG+hhAPzTWh8b6GEA/NNaHxvoYQD801ofG+hhAPzTWh8b6GEA/NNaHxvoYQD801ofG+hhAPzTWh8b6GEA/NNaHxvoYQD801ofG+hhAPzTWh8b6GEA/NNaHxvoYQD801ofG+hhAPzTWh8b6GEBu27Zt27YZQG7btm3bthlAbtu2bdu2GUBu27Zt27YZQG7btm3bthlAbtu2bdu2GUBu27Zt27YZQG7btm3bthlAbtu2bdu2GUBu27Zt27YZQG7btm3bthlAbtu2bdu2GUBu27Zt27YZQG7btm3bthlAbtu2bdu2GUBu27Zt27YZQG7btm3bthlAbtu2bdu2GUBu27Zt27YZQG7btm3bthlAbtu2bdu2GUBu27Zt27YZQG7btm3bthlAbtu2bdu2GUBu27Zt27YZQG7btm3bthlAbtu2bdu2GUBu27Zt27YZQG7btm3bthlAbtu2bdu2GUBu27Zt27YZQG7btm3bthlAbtu2bdu2GUBu27Zt27YZQG7btm3bthlAbtu2bdu2GUBu27Zt27YZQG7btm3bthlAbtu2bdu2GUBu27Zt27YZQG7btm3bthlAbtu2bdu2GUBu27Zt27YZQG7btm3bthlAbtu2bdu2GUBu27Zt27YZQG7btm3bthlAbtu2bdu2GUBu27Zt27YZQG7btm3bthlAnYKXU/ByGkCdgpdT8HIaQJ2Cl1PwchpAnYKXU/ByGkCdgpdT8HIaQJ2Cl1PwchpAnYKXU/ByGkCdgpdT8HIaQJ2Cl1PwchpAnYKXU/ByGkCdgpdT8HIaQJ2Cl1PwchpAnYKXU/ByGkCdgpdT8HIaQJ2Cl1PwchpAnYKXU/ByGkCdgpdT8HIaQJ2Cl1PwchpAnYKXU/ByGkCdgpdT8HIaQJ2Cl1PwchpAnYKXU/ByGkCdgpdT8HIaQJ2Cl1PwchpAnYKXU/ByGkCdgpdT8HIaQJ2Cl1PwchpAnYKXU/ByGkCdgpdT8HIaQJ2Cl1PwchpAnYKXU/ByGkCdgpdT8HIaQJ2Cl1PwchpAnYKXU/ByGkCdgpdT8HIaQJ2Cl1PwchpAnYKXU/ByGkCdgpdT8HIaQJ2Cl1PwchpAnYKXU/ByGkCdgpdT8HIaQJ2Cl1PwchpAnYKXU/ByGkCdgpdT8HIaQJ2Cl1PwchpAnYKXU/ByGkCdgpdT8HIaQJ2Cl1PwchpAnYKXU/ByGkCdgpdT8HIaQMwpeDkFLxtAzCl4OQUvG0DMKXg5BS8bQMwpeDkFLxtAzCl4OQUvG0DMKXg5BS8bQMwpeDkFLxtAzCl4OQUvG0DMKXg5BS8bQMwpeDkFLxtAzCl4OQUvG0DMKXg5BS8bQMwpeDkFLxtAzCl4OQUvG0DMKXg5BS8bQMwpeDkFLxtAzCl4OQUvG0DMKXg5BS8bQMwpeDkFLxtAzCl4OQUvG0DMKXg5BS8bQMwpeDkFLxtAzCl4OQUvG0DMKXg5BS8bQMwpeDkFLxtAzCl4OQUvG0DMKXg5BS8bQMwpeDkFLxtAzCl4OQUvG0DMKXg5BS8bQMwpeDkFLxtAzCl4OQUvG0DMKXg5BS8bQMwpeDkFLxtAzCl4OQUvG0DMKXg5BS8bQMwpeDkFLxtAzCl4OQUvG0DMKXg5BS8bQMwpeDkFLxtAzCl4OQUvG0DMKXg5BS8bQMwpeDkFLxtAzCl4OQUvG0DMKXg5BS8bQMwpeDkFLxtAzCl4OQUvG0DMKXg5BS8bQMwpeDkFLxtAzCl4OQUvG0D70FgfGusbQPvQWB8a6xtA+9BYHxrrG0D70FgfGusbQPvQWB8a6xtA+9BYHxrrG0D70FgfGusbQPvQWB8a6xtA+9BYHxrrG0D70FgfGusbQPvQWB8a6xtA+9BYHxrrG0D70FgfGusbQPvQWB8a6xtA+9BYHxrrG0D70FgfGusbQPvQWB8a6xtA+9BYHxrrG0D70FgfGusbQPvQWB8a6xtA+9BYHxrrG0D70FgfGusbQPvQWB8a6xtA+9BYHxrrG0D70FgfGusbQPvQWB8a6xtA+9BYHxrrG0D70FgfGusbQPvQWB8a6xtA+9BYHxrrG0D70FgfGusbQPvQWB8a6xtA+9BYHxrrG0D70FgfGusbQPvQWB8a6xtA+9BYHxrrG0D70FgfGusbQPvQWB8a6xtA+9BYHxrrG0D70FgfGusbQPvQWB8a6xtA+9BYHxrrG0D70FgfGusbQPvQWB8a6xtA+9BYHxrrG0D70FgfGusbQPvQWB8a6xtA+9BYHxrrG0D70FgfGusbQPvQWB8a6xtAKng5BS+nHEAqeDkFL6ccQCp4OQUvpxxAKng5BS+nHEAqeDkFL6ccQCp4OQUvpxxAKng5BS+nHEAqeDkFL6ccQCp4OQUvpxxAKng5BS+nHEAqeDkFL6ccQCp4OQUvpxxAKng5BS+nHEAqeDkFL6ccQCp4OQUvpxxAKng5BS+nHEAqeDkFL6ccQCp4OQUvpxxAKng5BS+nHEAqeDkFL6ccQCp4OQUvpxxAKng5BS+nHEAqeDkFL6ccQCp4OQUvpxxAKng5BS+nHEAqeDkFL6ccQCp4OQUvpxxAKng5BS+nHEAqeDkFL6ccQCp4OQUvpxxAKng5BS+nHEAqeDkFL6ccQCp4OQUvpxxAKng5BS+nHEAqeDkFL6ccQCp4OQUvpxxAKng5BS+nHEAqeDkFL6ccQCp4OQUvpxxAKng5BS+nHEAqeDkFL6ccQCp4OQUvpxxAKng5BS+nHEAqeDkFL6ccQCp4OQUvpxxAKng5BS+nHEAqeDkFL6ccQCp4OQUvpxxAKng5BS+nHEAqeDkFL6ccQFkfGutDYx1AWR8a60NjHUBZHxrrQ2MdQFkfGutDYx1AWR8a60NjHUBZHxrrQ2MdQFkfGutDYx1AWR8a60NjHUBZHxrrQ2MdQFkfGutDYx1AWR8a60NjHUBZHxrrQ2MdQFkfGutDYx1AWR8a60NjHUBZHxrrQ2MdQFkfGutDYx1AWR8a60NjHUBZHxrrQ2MdQFkfGutDYx1AWR8a60NjHUBZHxrrQ2MdQFkfGutDYx1AWR8a60NjHUBZHxrrQ2MdQFkfGutDYx1AWR8a60NjHUBZHxrrQ2MdQFkfGutDYx1AWR8a60NjHUBZHxrrQ2MdQFkfGutDYx1AWR8a60NjHUBZHxrrQ2MdQFkfGutDYx1AWR8a60NjHUBZHxrrQ2MdQFkfGutDYx1AWR8a60NjHUBZHxrrQ2MdQFkfGutDYx1AWR8a60NjHUBZHxrrQ2MdQFkfGutDYx1AWR8a60NjHUBZHxrrQ2MdQFkfGutDYx1AWR8a60NjHUBZHxrrQ2MdQFkfGutDYx1AWR8a60NjHUCIxvrQWB8eQIjG+tBYHx5AiMb60FgfHkCIxvrQWB8eQIjG+tBYHx5AiMb60FgfHkCIxvrQWB8eQIjG+tBYHx5AiMb60FgfHkCIxvrQWB8eQIjG+tBYHx5AiMb60FgfHkCIxvrQWB8eQIjG+tBYHx5AiMb60FgfHkCIxvrQWB8eQIjG+tBYHx5AiMb60FgfHkCIxvrQWB8eQIjG+tBYHx5AiMb60FgfHkCIxvrQWB8eQIjG+tBYHx5AiMb60FgfHkCIxvrQWB8eQIjG+tBYHx5AiMb60FgfHkCIxvrQWB8eQIjG+tBYHx5AiMb60FgfHkCIxvrQWB8eQIjG+tBYHx5AiMb60FgfHkCIxvrQWB8eQIjG+tBYHx5AiMb60FgfHkCIxvrQWB8eQIjG+tBYHx5AiMb60FgfHkCIxvrQWB8eQIjG+tBYHx5AiMb60FgfHkCIxvrQWB8eQIjG+tBYHx5AiMb60FgfHkCIxvrQWB8eQIjG+tBYHx5AiMb60FgfHkCIxvrQWB8eQIjG+tBYHx5At23btm3bHkC3bdu2bdseQLdt27Zt2x5At23btm3bHkC3bdu2bdseQLdt27Zt2x5At23btm3bHkC3bdu2bdseQLdt27Zt2x5At23btm3bHkC3bdu2bdseQLdt27Zt2x5At23btm3bHkC3bdu2bdseQLdt27Zt2x5At23btm3bHkC3bdu2bdseQLdt27Zt2x5At23btm3bHkC3bdu2bdseQLdt27Zt2x5At23btm3bHkC3bdu2bdseQLdt27Zt2x5At23btm3bHkC3bdu2bdseQLdt27Zt2x5At23btm3bHkC3bdu2bdseQLdt27Zt2x5At23btm3bHkC3bdu2bdseQLdt27Zt2x5At23btm3bHkC3bdu2bdseQLdt27Zt2x5At23btm3bHkC3bdu2bdseQLdt27Zt2x5At23btm3bHkC3bdu2bdseQLdt27Zt2x5At23btm3bHkC3bdu2bdseQLdt27Zt2x5At23btm3bHkC3bdu2bdseQLdt27Zt2x5At23btm3bHkC3bdu2bdseQOYUvJyClx9A5hS8nIKXH0DmFLycgpcfQOYUvJyClx9A5hS8nIKXH0DmFLycgpcfQOYUvJyClx9A5hS8nIKXH0DmFLycgpcfQOYUvJyClx9A5hS8nIKXH0DmFLycgpcfQOYUvJyClx9A5hS8nIKXH0DmFLycgpcfQOYUvJyClx9A5hS8nIKXH0DmFLycgpcfQOYUvJyClx9A5hS8nIKXH0DmFLycgpcfQOYUvJyClx9A5hS8nIKXH0DmFLycgpcfQOYUvJyClx9A5hS8nIKXH0DmFLycgpcfQOYUvJyClx9A5hS8nIKXH0DmFLycgpcfQOYUvJyClx9A5hS8nIKXH0DmFLycgpcfQOYUvJyClx9A5hS8nIKXH0DmFLycgpcfQOYUvJyClx9A5hS8nIKXH0DmFLycgpcfQOYUvJyClx9A5hS8nIKXH0DmFLycgpcfQOYUvJyClx9A5hS8nIKXH0DmFLycgpcfQOYUvJyClx9A5hS8nIKXH0DmFLycgpcfQOYUvJyClx9A5hS8nIKXH0ALXk7ByykgQAteTsHLKSBAC15OwcspIEALXk7ByykgQAteTsHLKSBAC15OwcspIEALXk7ByykgQAteTsHLKSBAC15OwcspIEALXk7ByykgQAteTsHLKSBAC15OwcspIEALXk7ByykgQAteTsHLKSBAC15OwcspIEALXk7ByykgQAteTsHLKSBAC15OwcspIEALXk7ByykgQAteTsHLKSBAC15OwcspIEALXk7ByykgQAteTsHLKSBAC15OwcspIEALXk7ByykgQAteTsHLKSBAC15OwcspIEALXk7ByykgQAteTsHLKSBAC15OwcspIEALXk7ByykgQAteTsHLKSBAC15OwcspIEALXk7ByykgQAteTsHLKSBAC15OwcspIEALXk7ByykgQAteTsHLKSBAC15OwcspIEALXk7ByykgQAteTsHLKSBAC15OwcspIEALXk7ByykgQAteTsHLKSBAC15OwcspIEALXk7ByykgQAteTsHLKSBAC15OwcspIEALXk7ByykgQAteTsHLKSBAorE+NNaHIECisT401ocgQKKxPjTWhyBAorE+NNaHIECisT401ocgQKKxPjTWhyBAorE+NNaHIECisT401ocgQKKxPjTWhyBAorE+NNaHIECisT401ocgQKKxPjTWhyBAorE+NNaHIECisT401ocgQKKxPjTWhyBAorE+NNaHIECisT401ocgQKKxPjTWhyBAorE+NNaHIECisT401ocgQKKxPjTWhyBAorE+NNaHIECisT401ocgQKKxPjTWhyBAorE+NNaHIECisT401ocgQKKxPjTWhyBAorE+NNaHIECisT401ocgQKKxPjTWhyBAorE+NNaHIECisT401ocgQKKxPjTWhyBAorE+NNaHIECisT401ocgQKKxPjTWhyBAorE+NNaHIECisT401ocgQKKxPjTWhyBAorE+NNaHIECisT401ocgQKKxPjTWhyBAorE+NNaHIECisT401ocgQKKxPjTWhyBAorE+NNaHIECisT401ocgQKKxPjTWhyBAorE+NNaHIECisT401ocgQDoFL6fg5SBAOgUvp+DlIEA6BS+n4OUgQDoFL6fg5SBAOgUvp+DlIEA6BS+n4OUgQDoFL6fg5SBAOgUvp+DlIEA6BS+n4OUgQDoFL6fg5SBAOgUvp+DlIEA6BS+n4OUgQDoFL6fg5SBAOgUvp+DlIEA6BS+n4OUgQDoFL6fg5SBAOgUvp+DlIEA6BS+n4OUgQDoFL6fg5SBAOgUvp+DlIEA6BS+n4OUgQDoFL6fg5SBAOgUvp+DlIEA6BS+n4OUgQDoFL6fg5SBAOgUvp+DlIEA6BS+n4OUgQDoFL6fg5SBAOgUvp+DlIEA6BS+n4OUgQDoFL6fg5SBAOgUvp+DlIEA6BS+n4OUgQDoFL6fg5SBAOgUvp+DlIEA6BS+n4OUgQDoFL6fg5SBAOgUvp+DlIEA6BS+n4OUgQDoFL6fg5SBAOgUvp+DlIEA6BS+n4OUgQDoFL6fg5SBAOgUvp+DlIEA6BS+n4OUgQDoFL6fg5SBAOgUvp+DlIEA6BS+n4OUgQDoFL6fg5SBAOgUvp+DlIEDRWB8a60MhQNFYHxrrQyFA0VgfGutDIUDRWB8a60MhQNFYHxrrQyFA0VgfGutDIUDRWB8a60MhQNFYHxrrQyFA0VgfGutDIUDRWB8a60MhQNFYHxrrQyFA0VgfGutDIUDRWB8a60MhQNFYHxrrQyFA0VgfGutDIUDRWB8a60MhQNFYHxrrQyFA0VgfGutDIUDRWB8a60MhQNFYHxrrQyFA0VgfGutDIUDRWB8a60MhQNFYHxrrQyFA0VgfGutDIUDRWB8a60MhQNFYHxrrQyFA0VgfGutDIUDRWB8a60MhQNFYHxrrQyFA0VgfGutDIUDRWB8a60MhQNFYHxrrQyFA0VgfGutDIUDRWB8a60MhQNFYHxrrQyFA0VgfGutDIUDRWB8a60MhQNFYHxrrQyFA0VgfGutDIUDRWB8a60MhQNFYHxrrQyFA0VgfGutDIUDRWB8a60MhQNFYHxrrQyFA0VgfGutDIUDRWB8a60MhQNFYHxrrQyFA0VgfGutDIUDRWB8a60MhQNFYHxrrQyFAaawPjfWhIUBprA+N9aEhQGmsD431oSFAaawPjfWhIUBprA+N9aEhQGmsD431oSFAaawPjfWhIUBprA+N9aEhQGmsD431oSFAaawPjfWhIUBprA+N9aEhQGmsD431oSFAaawPjfWhIUBprA+N9aEhQGmsD431oSFAaawPjfWhIUBprA+N9aEhQGmsD431oSFAaawPjfWhIUBprA+N9aEhQGmsD431oSFAaawPjfWhIUBprA+N9aEhQGmsD431oSFAaawPjfWhIUBprA+N9aEhQGmsD431oSFAaawPjfWhIUBprA+N9aEhQGmsD431oSFAaawPjfWhIUBprA+N9aEhQGmsD431oSFAaawPjfWhIUBprA+N9aEhQGmsD431oSFAaawPjfWhIUBprA+N9aEhQGmsD431oSFAaawPjfWhIUBprA+N9aEhQGmsD431oSFAaawPjfWhIUBprA+N9aEhQGmsD431oSFAaawPjfWhIUBprA+N9aEhQGmsD431oSFAaawPjfWhIUBprA+N9aEhQAAAAAAAACJAAAAAAAAAIkAAAAAAAAAiQAAAAAAAACJAAAAAAAAAIkAAAAAAAAAiQAAAAAAAACJAAAAAAAAAIkAAAAAAAAAiQAAAAAAAACJAAAAAAAAAIkAAAAAAAAAiQAAAAAAAACJAAAAAAAAAIkAAAAAAAAAiQAAAAAAAACJAAAAAAAAAIkAAAAAAAAAiQAAAAAAAACJAAAAAAAAAIkAAAAAAAAAiQAAAAAAAACJAAAAAAAAAIkAAAAAAAAAiQAAAAAAAACJAAAAAAAAAIkAAAAAAAAAiQAAAAAAAACJAAAAAAAAAIkAAAAAAAAAiQAAAAAAAACJAAAAAAAAAIkAAAAAAAAAiQAAAAAAAACJAAAAAAAAAIkAAAAAAAAAiQAAAAAAAACJAAAAAAAAAIkAAAAAAAAAiQAAAAAAAACJAAAAAAAAAIkAAAAAAAAAiQAAAAAAAACJAAAAAAAAAIkAAAAAAAAAiQAAAAAAAACJAAAAAAAAAIkAAAAAAAAAiQAAAAAAAACJAAAAAAAAAIkA=",
          "shape": "50, 50"
         },
         "type": "surface"
        }
       ],
       "layout": {
        "legend": {
         "itemsizing": "constant",
         "tracegroupgap": 0
        },
        "margin": {
         "t": 60
        },
        "scene": {
         "domain": {
          "x": [
           0.0,
           1.0
          ],
          "y": [
           0.0,
           1.0
          ]
         },
         "xaxis": {
          "showgrid": false,
          "title": {
           "text": "V00MBMSFMLOAD"
          }
         },
         "yaxis": {
          "showgrid": false,
          "title": {
           "text": "V00MBMNFMLOAD"
          }
         },
         "zaxis": {
          "showgrid": false,
          "title": {
           "text": "V00MBMPFMLOAD"
          }
         }
        },
        "template": {
         "data": {
          "barpolar": [
           {
            "marker": {
             "line": {
              "color": "rgb(17,17,17)",
              "width": 0.5
             },
             "pattern": {
              "fillmode": "overlay",
              "size": 10,
              "solidity": 0.2
             }
            },
            "type": "barpolar"
           }
          ],
          "bar": [
           {
            "error_x": {
             "color": "#f2f5fa"
            },
            "error_y": {
             "color": "#f2f5fa"
            },
            "marker": {
             "line": {
              "color": "rgb(17,17,17)",
              "width": 0.5
             },
             "pattern": {
              "fillmode": "overlay",
              "size": 10,
              "solidity": 0.2
             }
            },
            "type": "bar"
           }
          ],
          "carpet": [
           {
            "aaxis": {
             "endlinecolor": "#A2B1C6",
             "gridcolor": "#506784",
             "linecolor": "#506784",
             "minorgridcolor": "#506784",
             "startlinecolor": "#A2B1C6"
            },
            "baxis": {
             "endlinecolor": "#A2B1C6",
             "gridcolor": "#506784",
             "linecolor": "#506784",
             "minorgridcolor": "#506784",
             "startlinecolor": "#A2B1C6"
            },
            "type": "carpet"
           }
          ],
          "choropleth": [
           {
            "colorbar": {
             "outlinewidth": 0,
             "ticks": ""
            },
            "type": "choropleth"
           }
          ],
          "contourcarpet": [
           {
            "colorbar": {
             "outlinewidth": 0,
             "ticks": ""
            },
            "type": "contourcarpet"
           }
          ],
          "contour": [
           {
            "colorbar": {
             "outlinewidth": 0,
             "ticks": ""
            },
            "colorscale": [
             [
              0.0,
              "#0d0887"
             ],
             [
              0.1111111111111111,
              "#46039f"
             ],
             [
              0.2222222222222222,
              "#7201a8"
             ],
             [
              0.3333333333333333,
              "#9c179e"
             ],
             [
              0.4444444444444444,
              "#bd3786"
             ],
             [
              0.5555555555555556,
              "#d8576b"
             ],
             [
              0.6666666666666666,
              "#ed7953"
             ],
             [
              0.7777777777777778,
              "#fb9f3a"
             ],
             [
              0.8888888888888888,
              "#fdca26"
             ],
             [
              1.0,
              "#f0f921"
             ]
            ],
            "type": "contour"
           }
          ],
          "heatmap": [
           {
            "colorbar": {
             "outlinewidth": 0,
             "ticks": ""
            },
            "colorscale": [
             [
              0.0,
              "#0d0887"
             ],
             [
              0.1111111111111111,
              "#46039f"
             ],
             [
              0.2222222222222222,
              "#7201a8"
             ],
             [
              0.3333333333333333,
              "#9c179e"
             ],
             [
              0.4444444444444444,
              "#bd3786"
             ],
             [
              0.5555555555555556,
              "#d8576b"
             ],
             [
              0.6666666666666666,
              "#ed7953"
             ],
             [
              0.7777777777777778,
              "#fb9f3a"
             ],
             [
              0.8888888888888888,
              "#fdca26"
             ],
             [
              1.0,
              "#f0f921"
             ]
            ],
            "type": "heatmap"
           }
          ],
          "histogram2dcontour": [
           {
            "colorbar": {
             "outlinewidth": 0,
             "ticks": ""
            },
            "colorscale": [
             [
              0.0,
              "#0d0887"
             ],
             [
              0.1111111111111111,
              "#46039f"
             ],
             [
              0.2222222222222222,
              "#7201a8"
             ],
             [
              0.3333333333333333,
              "#9c179e"
             ],
             [
              0.4444444444444444,
              "#bd3786"
             ],
             [
              0.5555555555555556,
              "#d8576b"
             ],
             [
              0.6666666666666666,
              "#ed7953"
             ],
             [
              0.7777777777777778,
              "#fb9f3a"
             ],
             [
              0.8888888888888888,
              "#fdca26"
             ],
             [
              1.0,
              "#f0f921"
             ]
            ],
            "type": "histogram2dcontour"
           }
          ],
          "histogram2d": [
           {
            "colorbar": {
             "outlinewidth": 0,
             "ticks": ""
            },
            "colorscale": [
             [
              0.0,
              "#0d0887"
             ],
             [
              0.1111111111111111,
              "#46039f"
             ],
             [
              0.2222222222222222,
              "#7201a8"
             ],
             [
              0.3333333333333333,
              "#9c179e"
             ],
             [
              0.4444444444444444,
              "#bd3786"
             ],
             [
              0.5555555555555556,
              "#d8576b"
             ],
             [
              0.6666666666666666,
              "#ed7953"
             ],
             [
              0.7777777777777778,
              "#fb9f3a"
             ],
             [
              0.8888888888888888,
              "#fdca26"
             ],
             [
              1.0,
              "#f0f921"
             ]
            ],
            "type": "histogram2d"
           }
          ],
          "histogram": [
           {
            "marker": {
             "pattern": {
              "fillmode": "overlay",
              "size": 10,
              "solidity": 0.2
             }
            },
            "type": "histogram"
           }
          ],
          "mesh3d": [
           {
            "colorbar": {
             "outlinewidth": 0,
             "ticks": ""
            },
            "type": "mesh3d"
           }
          ],
          "parcoords": [
           {
            "line": {
             "colorbar": {
              "outlinewidth": 0,
              "ticks": ""
             }
            },
            "type": "parcoords"
           }
          ],
          "pie": [
           {
            "automargin": true,
            "type": "pie"
           }
          ],
          "scatter3d": [
           {
            "line": {
             "colorbar": {
              "outlinewidth": 0,
              "ticks": ""
             }
            },
            "marker": {
             "colorbar": {
              "outlinewidth": 0,
              "ticks": ""
             }
            },
            "type": "scatter3d"
           }
          ],
          "scattercarpet": [
           {
            "marker": {
             "colorbar": {
              "outlinewidth": 0,
              "ticks": ""
             }
            },
            "type": "scattercarpet"
           }
          ],
          "scattergeo": [
           {
            "marker": {
             "colorbar": {
              "outlinewidth": 0,
              "ticks": ""
             }
            },
            "type": "scattergeo"
           }
          ],
          "scattergl": [
           {
            "marker": {
             "line": {
              "color": "#283442"
             }
            },
            "type": "scattergl"
           }
          ],
          "scattermapbox": [
           {
            "marker": {
             "colorbar": {
              "outlinewidth": 0,
              "ticks": ""
             }
            },
            "type": "scattermapbox"
           }
          ],
          "scattermap": [
           {
            "marker": {
             "colorbar": {
              "outlinewidth": 0,
              "ticks": ""
             }
            },
            "type": "scattermap"
           }
          ],
          "scatterpolargl": [
           {
            "marker": {
             "colorbar": {
              "outlinewidth": 0,
              "ticks": ""
             }
            },
            "type": "scatterpolargl"
           }
          ],
          "scatterpolar": [
           {
            "marker": {
             "colorbar": {
              "outlinewidth": 0,
              "ticks": ""
             }
            },
            "type": "scatterpolar"
           }
          ],
          "scatter": [
           {
            "marker": {
             "line": {
              "color": "#283442"
             }
            },
            "type": "scatter"
           }
          ],
          "scatterternary": [
           {
            "marker": {
             "colorbar": {
              "outlinewidth": 0,
              "ticks": ""
             }
            },
            "type": "scatterternary"
           }
          ],
          "surface": [
           {
            "colorbar": {
             "outlinewidth": 0,
             "ticks": ""
            },
            "colorscale": [
             [
              0.0,
              "#0d0887"
             ],
             [
              0.1111111111111111,
              "#46039f"
             ],
             [
              0.2222222222222222,
              "#7201a8"
             ],
             [
              0.3333333333333333,
              "#9c179e"
             ],
             [
              0.4444444444444444,
              "#bd3786"
             ],
             [
              0.5555555555555556,
              "#d8576b"
             ],
             [
              0.6666666666666666,
              "#ed7953"
             ],
             [
              0.7777777777777778,
              "#fb9f3a"
             ],
             [
              0.8888888888888888,
              "#fdca26"
             ],
             [
              1.0,
              "#f0f921"
             ]
            ],
            "type": "surface"
           }
          ],
          "table": [
           {
            "cells": {
             "fill": {
              "color": "#506784"
             },
             "line": {
              "color": "rgb(17,17,17)"
             }
            },
            "header": {
             "fill": {
              "color": "#2a3f5f"
             },
             "line": {
              "color": "rgb(17,17,17)"
             }
            },
            "type": "table"
           }
          ]
         },
         "layout": {
          "annotationdefaults": {
           "arrowcolor": "#f2f5fa",
           "arrowhead": 0,
           "arrowwidth": 1
          },
          "autotypenumbers": "strict",
          "coloraxis": {
           "colorbar": {
            "outlinewidth": 0,
            "ticks": ""
           }
          },
          "colorscale": {
           "diverging": [
            [
             0,
             "#8e0152"
            ],
            [
             0.1,
             "#c51b7d"
            ],
            [
             0.2,
             "#de77ae"
            ],
            [
             0.3,
             "#f1b6da"
            ],
            [
             0.4,
             "#fde0ef"
            ],
            [
             0.5,
             "#f7f7f7"
            ],
            [
             0.6,
             "#e6f5d0"
            ],
            [
             0.7,
             "#b8e186"
            ],
            [
             0.8,
             "#7fbc41"
            ],
            [
             0.9,
             "#4d9221"
            ],
            [
             1,
             "#276419"
            ]
           ],
           "sequential": [
            [
             0.0,
             "#0d0887"
            ],
            [
             0.1111111111111111,
             "#46039f"
            ],
            [
             0.2222222222222222,
             "#7201a8"
            ],
            [
             0.3333333333333333,
             "#9c179e"
            ],
            [
             0.4444444444444444,
             "#bd3786"
            ],
            [
             0.5555555555555556,
             "#d8576b"
            ],
            [
             0.6666666666666666,
             "#ed7953"
            ],
            [
             0.7777777777777778,
             "#fb9f3a"
            ],
            [
             0.8888888888888888,
             "#fdca26"
            ],
            [
             1.0,
             "#f0f921"
            ]
           ],
           "sequentialminus": [
            [
             0.0,
             "#0d0887"
            ],
            [
             0.1111111111111111,
             "#46039f"
            ],
            [
             0.2222222222222222,
             "#7201a8"
            ],
            [
             0.3333333333333333,
             "#9c179e"
            ],
            [
             0.4444444444444444,
             "#bd3786"
            ],
            [
             0.5555555555555556,
             "#d8576b"
            ],
            [
             0.6666666666666666,
             "#ed7953"
            ],
            [
             0.7777777777777778,
             "#fb9f3a"
            ],
            [
             0.8888888888888888,
             "#fdca26"
            ],
            [
             1.0,
             "#f0f921"
            ]
           ]
          },
          "colorway": [
           "#636efa",
           "#EF553B",
           "#00cc96",
           "#ab63fa",
           "#FFA15A",
           "#19d3f3",
           "#FF6692",
           "#B6E880",
           "#FF97FF",
           "#FECB52"
          ],
          "font": {
           "color": "#f2f5fa"
          },
          "geo": {
           "bgcolor": "rgb(17,17,17)",
           "lakecolor": "rgb(17,17,17)",
           "landcolor": "rgb(17,17,17)",
           "showlakes": true,
           "showland": true,
           "subunitcolor": "#506784"
          },
          "hoverlabel": {
           "align": "left"
          },
          "hovermode": "closest",
          "mapbox": {
           "style": "dark"
          },
          "paper_bgcolor": "rgb(17,17,17)",
          "plot_bgcolor": "rgb(17,17,17)",
          "polar": {
           "angularaxis": {
            "gridcolor": "#506784",
            "linecolor": "#506784",
            "ticks": ""
           },
           "bgcolor": "rgb(17,17,17)",
           "radialaxis": {
            "gridcolor": "#506784",
            "linecolor": "#506784",
            "ticks": ""
           }
          },
          "scene": {
           "xaxis": {
            "backgroundcolor": "rgb(17,17,17)",
            "gridcolor": "#506784",
            "gridwidth": 2,
            "linecolor": "#506784",
            "showbackground": true,
            "ticks": "",
            "zerolinecolor": "#C8D4E3"
           },
           "yaxis": {
            "backgroundcolor": "rgb(17,17,17)",
            "gridcolor": "#506784",
            "gridwidth": 2,
            "linecolor": "#506784",
            "showbackground": true,
            "ticks": "",
            "zerolinecolor": "#C8D4E3"
           },
           "zaxis": {
            "backgroundcolor": "rgb(17,17,17)",
            "gridcolor": "#506784",
            "gridwidth": 2,
            "linecolor": "#506784",
            "showbackground": true,
            "ticks": "",
            "zerolinecolor": "#C8D4E3"
           }
          },
          "shapedefaults": {
           "line": {
            "color": "#f2f5fa"
           }
          },
          "sliderdefaults": {
           "bgcolor": "#C8D4E3",
           "bordercolor": "rgb(17,17,17)",
           "borderwidth": 1,
           "tickwidth": 0
          },
          "ternary": {
           "aaxis": {
            "gridcolor": "#506784",
            "linecolor": "#506784",
            "ticks": ""
           },
           "baxis": {
            "gridcolor": "#506784",
            "linecolor": "#506784",
            "ticks": ""
           },
           "bgcolor": "rgb(17,17,17)",
           "caxis": {
            "gridcolor": "#506784",
            "linecolor": "#506784",
            "ticks": ""
           }
          },
          "title": {
           "x": 0.05
          },
          "updatemenudefaults": {
           "bgcolor": "#506784",
           "borderwidth": 0
          },
          "xaxis": {
           "automargin": true,
           "gridcolor": "#283442",
           "linecolor": "#506784",
           "ticks": "",
           "title": {
            "standoff": 15
           },
           "zerolinecolor": "#283442",
           "zerolinewidth": 2
          },
          "yaxis": {
           "automargin": true,
           "gridcolor": "#283442",
           "linecolor": "#506784",
           "ticks": "",
           "title": {
            "standoff": 15
           },
           "zerolinecolor": "#283442",
           "zerolinewidth": 2
          }
         }
        },
        "title": {
         "text": "V00MBMSFMLOAD ~ V00MBMNFMLOAD:V00MBMPFMLOAD",
         "x": 0.5,
         "xanchor": "center"
        }
       },
       "config": {
        "plotlyServerURL": "https://plot.ly"
       }
      }
     },
     "metadata": {},
     "output_type": "display_data"
    }
   ],
   "execution_count": 7
  },
  {
   "metadata": {},
   "cell_type": "markdown",
   "source": "### MBM Regression p-values",
   "id": "96abafa288123541"
  },
  {
   "metadata": {
    "ExecuteTime": {
     "end_time": "2025-08-12T16:48:54.632820Z",
     "start_time": "2025-08-12T16:48:54.624955Z"
    }
   },
   "cell_type": "code",
   "source": [
    "from scripts.mbm.mbm_load_relationships import mbm_p_matrix_df\n",
    "\n",
    "display(mbm_p_matrix_df)"
   ],
   "id": "3a32ec51538cb918",
   "outputs": [
    {
     "data": {
      "text/plain": [
       "                                     V00MBMSFMLOAD  V00MBMNFMLOAD  \\\n",
       "V00MBMSFMLOAD                                  NaN  1.776013e-154   \n",
       "V00MBMNFMLOAD                        5.182555e-173            NaN   \n",
       "V00MBMPFMLOAD                         3.174972e-02   0.000000e+00   \n",
       "I(V00MBMSFMLOAD ** 2)                          NaN   3.346159e-48   \n",
       "I(V00MBMSFMLOAD ** 3)                          NaN   2.314890e-19   \n",
       "V00MBMNFMLOAD:I(V00MBMSFMLOAD ** 2)            NaN            NaN   \n",
       "V00MBMNFMLOAD:I(V00MBMSFMLOAD ** 3)            NaN            NaN   \n",
       "V00MBMNFMLOAD:V00MBMSFMLOAD                    NaN            NaN   \n",
       "V00MBMPFMLOAD:I(V00MBMSFMLOAD ** 2)            NaN   8.095636e-12   \n",
       "V00MBMPFMLOAD:I(V00MBMSFMLOAD ** 3)            NaN   3.095818e-02   \n",
       "V00MBMPFMLOAD:V00MBMSFMLOAD                    NaN   1.937330e-02   \n",
       "I(V00MBMNFMLOAD ** 2)                 8.467832e-04            NaN   \n",
       "I(V00MBMNFMLOAD ** 3)                 3.443028e-02            NaN   \n",
       "V00MBMNFMLOAD:I(V00MBMPFMLOAD ** 2)   4.320604e-01            NaN   \n",
       "V00MBMNFMLOAD:I(V00MBMPFMLOAD ** 3)   2.032452e-03            NaN   \n",
       "V00MBMNFMLOAD:V00MBMPFMLOAD           2.235666e-01            NaN   \n",
       "I(V00MBMPFMLOAD ** 2)                 4.391217e-03   3.311760e-07   \n",
       "I(V00MBMPFMLOAD ** 3)                 4.765090e-01   2.905429e-07   \n",
       "\n",
       "                                     V00MBMPFMLOAD  \n",
       "V00MBMSFMLOAD                         1.493743e-02  \n",
       "V00MBMNFMLOAD                         0.000000e+00  \n",
       "V00MBMPFMLOAD                                  NaN  \n",
       "I(V00MBMSFMLOAD ** 2)                 2.211242e-02  \n",
       "I(V00MBMSFMLOAD ** 3)                 8.350317e-02  \n",
       "V00MBMNFMLOAD:I(V00MBMSFMLOAD ** 2)   1.355496e-01  \n",
       "V00MBMNFMLOAD:I(V00MBMSFMLOAD ** 3)   1.053145e-01  \n",
       "V00MBMNFMLOAD:V00MBMSFMLOAD           4.072596e-01  \n",
       "V00MBMPFMLOAD:I(V00MBMSFMLOAD ** 2)            NaN  \n",
       "V00MBMPFMLOAD:I(V00MBMSFMLOAD ** 3)            NaN  \n",
       "V00MBMPFMLOAD:V00MBMSFMLOAD                    NaN  \n",
       "I(V00MBMNFMLOAD ** 2)                 1.394012e-18  \n",
       "I(V00MBMNFMLOAD ** 3)                 7.613686e-03  \n",
       "V00MBMNFMLOAD:I(V00MBMPFMLOAD ** 2)            NaN  \n",
       "V00MBMNFMLOAD:I(V00MBMPFMLOAD ** 3)            NaN  \n",
       "V00MBMNFMLOAD:V00MBMPFMLOAD                    NaN  \n",
       "I(V00MBMPFMLOAD ** 2)                          NaN  \n",
       "I(V00MBMPFMLOAD ** 3)                          NaN  "
      ],
      "text/html": [
       "<div>\n",
       "<style scoped>\n",
       "    .dataframe tbody tr th:only-of-type {\n",
       "        vertical-align: middle;\n",
       "    }\n",
       "\n",
       "    .dataframe tbody tr th {\n",
       "        vertical-align: top;\n",
       "    }\n",
       "\n",
       "    .dataframe thead th {\n",
       "        text-align: right;\n",
       "    }\n",
       "</style>\n",
       "<table border=\"1\" class=\"dataframe\">\n",
       "  <thead>\n",
       "    <tr style=\"text-align: right;\">\n",
       "      <th></th>\n",
       "      <th>V00MBMSFMLOAD</th>\n",
       "      <th>V00MBMNFMLOAD</th>\n",
       "      <th>V00MBMPFMLOAD</th>\n",
       "    </tr>\n",
       "  </thead>\n",
       "  <tbody>\n",
       "    <tr>\n",
       "      <th>V00MBMSFMLOAD</th>\n",
       "      <td>NaN</td>\n",
       "      <td>1.776013e-154</td>\n",
       "      <td>1.493743e-02</td>\n",
       "    </tr>\n",
       "    <tr>\n",
       "      <th>V00MBMNFMLOAD</th>\n",
       "      <td>5.182555e-173</td>\n",
       "      <td>NaN</td>\n",
       "      <td>0.000000e+00</td>\n",
       "    </tr>\n",
       "    <tr>\n",
       "      <th>V00MBMPFMLOAD</th>\n",
       "      <td>3.174972e-02</td>\n",
       "      <td>0.000000e+00</td>\n",
       "      <td>NaN</td>\n",
       "    </tr>\n",
       "    <tr>\n",
       "      <th>I(V00MBMSFMLOAD ** 2)</th>\n",
       "      <td>NaN</td>\n",
       "      <td>3.346159e-48</td>\n",
       "      <td>2.211242e-02</td>\n",
       "    </tr>\n",
       "    <tr>\n",
       "      <th>I(V00MBMSFMLOAD ** 3)</th>\n",
       "      <td>NaN</td>\n",
       "      <td>2.314890e-19</td>\n",
       "      <td>8.350317e-02</td>\n",
       "    </tr>\n",
       "    <tr>\n",
       "      <th>V00MBMNFMLOAD:I(V00MBMSFMLOAD ** 2)</th>\n",
       "      <td>NaN</td>\n",
       "      <td>NaN</td>\n",
       "      <td>1.355496e-01</td>\n",
       "    </tr>\n",
       "    <tr>\n",
       "      <th>V00MBMNFMLOAD:I(V00MBMSFMLOAD ** 3)</th>\n",
       "      <td>NaN</td>\n",
       "      <td>NaN</td>\n",
       "      <td>1.053145e-01</td>\n",
       "    </tr>\n",
       "    <tr>\n",
       "      <th>V00MBMNFMLOAD:V00MBMSFMLOAD</th>\n",
       "      <td>NaN</td>\n",
       "      <td>NaN</td>\n",
       "      <td>4.072596e-01</td>\n",
       "    </tr>\n",
       "    <tr>\n",
       "      <th>V00MBMPFMLOAD:I(V00MBMSFMLOAD ** 2)</th>\n",
       "      <td>NaN</td>\n",
       "      <td>8.095636e-12</td>\n",
       "      <td>NaN</td>\n",
       "    </tr>\n",
       "    <tr>\n",
       "      <th>V00MBMPFMLOAD:I(V00MBMSFMLOAD ** 3)</th>\n",
       "      <td>NaN</td>\n",
       "      <td>3.095818e-02</td>\n",
       "      <td>NaN</td>\n",
       "    </tr>\n",
       "    <tr>\n",
       "      <th>V00MBMPFMLOAD:V00MBMSFMLOAD</th>\n",
       "      <td>NaN</td>\n",
       "      <td>1.937330e-02</td>\n",
       "      <td>NaN</td>\n",
       "    </tr>\n",
       "    <tr>\n",
       "      <th>I(V00MBMNFMLOAD ** 2)</th>\n",
       "      <td>8.467832e-04</td>\n",
       "      <td>NaN</td>\n",
       "      <td>1.394012e-18</td>\n",
       "    </tr>\n",
       "    <tr>\n",
       "      <th>I(V00MBMNFMLOAD ** 3)</th>\n",
       "      <td>3.443028e-02</td>\n",
       "      <td>NaN</td>\n",
       "      <td>7.613686e-03</td>\n",
       "    </tr>\n",
       "    <tr>\n",
       "      <th>V00MBMNFMLOAD:I(V00MBMPFMLOAD ** 2)</th>\n",
       "      <td>4.320604e-01</td>\n",
       "      <td>NaN</td>\n",
       "      <td>NaN</td>\n",
       "    </tr>\n",
       "    <tr>\n",
       "      <th>V00MBMNFMLOAD:I(V00MBMPFMLOAD ** 3)</th>\n",
       "      <td>2.032452e-03</td>\n",
       "      <td>NaN</td>\n",
       "      <td>NaN</td>\n",
       "    </tr>\n",
       "    <tr>\n",
       "      <th>V00MBMNFMLOAD:V00MBMPFMLOAD</th>\n",
       "      <td>2.235666e-01</td>\n",
       "      <td>NaN</td>\n",
       "      <td>NaN</td>\n",
       "    </tr>\n",
       "    <tr>\n",
       "      <th>I(V00MBMPFMLOAD ** 2)</th>\n",
       "      <td>4.391217e-03</td>\n",
       "      <td>3.311760e-07</td>\n",
       "      <td>NaN</td>\n",
       "    </tr>\n",
       "    <tr>\n",
       "      <th>I(V00MBMPFMLOAD ** 3)</th>\n",
       "      <td>4.765090e-01</td>\n",
       "      <td>2.905429e-07</td>\n",
       "      <td>NaN</td>\n",
       "    </tr>\n",
       "  </tbody>\n",
       "</table>\n",
       "</div>"
      ]
     },
     "metadata": {},
     "output_type": "display_data"
    }
   ],
   "execution_count": 6
  }
 ],
 "metadata": {
  "kernelspec": {
   "display_name": "Python 3 (ipykernel)",
   "language": "python",
   "name": "python3"
  },
  "language_info": {
   "codemirror_mode": {
    "name": "ipython",
    "version": 3
   },
   "file_extension": ".py",
   "mimetype": "text/x-python",
   "name": "python",
   "nbconvert_exporter": "python",
   "pygments_lexer": "ipython3",
   "version": "3.13.5"
  }
 },
 "nbformat": 4,
 "nbformat_minor": 5
}
