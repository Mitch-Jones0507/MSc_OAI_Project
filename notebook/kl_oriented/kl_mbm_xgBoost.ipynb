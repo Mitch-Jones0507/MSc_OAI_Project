{
 "cells": [
  {
   "metadata": {},
   "cell_type": "markdown",
   "source": "# K-L Classification via XGBoostClassifier",
   "id": "dc517b1a8055ca6"
  },
  {
   "metadata": {},
   "cell_type": "markdown",
   "source": "## 12-Month K-L Classification with Baseline MBM Variables",
   "id": "4051633634e3215a"
  },
  {
   "cell_type": "code",
   "id": "initial_id",
   "metadata": {
    "collapsed": true,
    "ExecuteTime": {
     "end_time": "2025-08-20T14:18:35.337018Z",
     "start_time": "2025-08-20T14:11:29.672663Z"
    }
   },
   "source": [
    "import pandas as pd\n",
    "from IPython.display import display, Markdown, JSON\n",
    "from scripts.mbm.kl_oriented.kl_mbm_xgBoost import v00_v01_moaks_kl_metrics, v00_v01_moaks_kl_coefs_df\n",
    "\n",
    "report = v00_v01_moaks_kl_metrics['classification_report']\n",
    "cm = v00_v01_moaks_kl_metrics['confusion_matrix']\n",
    "cm = pd.DataFrame(cm,index=[f\"True {i}\" for i in range(len(cm))],columns=[f\"Pred {i}\" for i in range(len(cm))]\n",
    ")\n",
    "\n",
    "display(v00_v01_moaks_kl_coefs_df.sort_values(by=['GainImportance'], ascending=False).head(10))\n",
    "\n",
    "display(Markdown(\"### XGBoost Classification Report (Baseline MOAKS to 12-Month K-L)\"))\n",
    "display(JSON(report, expanded=True))\n",
    "\n",
    "display(Markdown(\"### XGBoost Confusion Matrix (Baseline MOAKS to 12-Month K-L)\"))\n",
    "display(cm)"
   ],
   "outputs": [
    {
     "name": "stdout",
     "output_type": "stream",
     "text": [
      "Warning: column count mismatch (101 + 255 != 779)\n",
      "\n"
     ]
    },
    {
     "name": "stderr",
     "output_type": "stream",
     "text": [
      "/Users/mitch/NDA/Core_Resources/Dissertation_Project/.venv/lib/python3.10/site-packages/sklearn/metrics/_classification.py:1731: UndefinedMetricWarning: Precision is ill-defined and being set to 0.0 in labels with no predicted samples. Use `zero_division` parameter to control this behavior.\n",
      "  _warn_prf(average, modifier, f\"{metric.capitalize()} is\", result.shape[0])\n",
      "/Users/mitch/NDA/Core_Resources/Dissertation_Project/.venv/lib/python3.10/site-packages/sklearn/metrics/_classification.py:1731: UndefinedMetricWarning: Precision is ill-defined and being set to 0.0 in labels with no predicted samples. Use `zero_division` parameter to control this behavior.\n",
      "  _warn_prf(average, modifier, f\"{metric.capitalize()} is\", result.shape[0])\n",
      "/Users/mitch/NDA/Core_Resources/Dissertation_Project/.venv/lib/python3.10/site-packages/sklearn/metrics/_classification.py:1731: UndefinedMetricWarning: Precision is ill-defined and being set to 0.0 in labels with no predicted samples. Use `zero_division` parameter to control this behavior.\n",
      "  _warn_prf(average, modifier, f\"{metric.capitalize()} is\", result.shape[0])\n",
      "/Users/mitch/NDA/Core_Resources/Dissertation_Project/.venv/lib/python3.10/site-packages/xgboost/sklearn.py:1395: UserWarning: `use_label_encoder` is deprecated in 1.7.0.\n",
      "  warnings.warn(\"`use_label_encoder` is deprecated in 1.7.0.\")\n",
      "/Users/mitch/NDA/Core_Resources/Dissertation_Project/.venv/lib/python3.10/site-packages/xgboost/sklearn.py:1395: UserWarning: `use_label_encoder` is deprecated in 1.7.0.\n",
      "  warnings.warn(\"`use_label_encoder` is deprecated in 1.7.0.\")\n",
      "/Users/mitch/NDA/Core_Resources/Dissertation_Project/.venv/lib/python3.10/site-packages/xgboost/sklearn.py:1395: UserWarning: `use_label_encoder` is deprecated in 1.7.0.\n",
      "  warnings.warn(\"`use_label_encoder` is deprecated in 1.7.0.\")\n",
      "/Users/mitch/NDA/Core_Resources/Dissertation_Project/.venv/lib/python3.10/site-packages/xgboost/sklearn.py:1395: UserWarning: `use_label_encoder` is deprecated in 1.7.0.\n",
      "  warnings.warn(\"`use_label_encoder` is deprecated in 1.7.0.\")\n",
      "/Users/mitch/NDA/Core_Resources/Dissertation_Project/.venv/lib/python3.10/site-packages/xgboost/sklearn.py:1395: UserWarning: `use_label_encoder` is deprecated in 1.7.0.\n",
      "  warnings.warn(\"`use_label_encoder` is deprecated in 1.7.0.\")\n",
      "/Users/mitch/NDA/Core_Resources/Dissertation_Project/.venv/lib/python3.10/site-packages/xgboost/sklearn.py:1395: UserWarning: `use_label_encoder` is deprecated in 1.7.0.\n",
      "  warnings.warn(\"`use_label_encoder` is deprecated in 1.7.0.\")\n",
      "/Users/mitch/NDA/Core_Resources/Dissertation_Project/.venv/lib/python3.10/site-packages/xgboost/sklearn.py:1395: UserWarning: `use_label_encoder` is deprecated in 1.7.0.\n",
      "  warnings.warn(\"`use_label_encoder` is deprecated in 1.7.0.\")\n",
      "/Users/mitch/NDA/Core_Resources/Dissertation_Project/.venv/lib/python3.10/site-packages/xgboost/sklearn.py:1395: UserWarning: `use_label_encoder` is deprecated in 1.7.0.\n",
      "  warnings.warn(\"`use_label_encoder` is deprecated in 1.7.0.\")\n",
      "/Users/mitch/NDA/Core_Resources/Dissertation_Project/.venv/lib/python3.10/site-packages/xgboost/sklearn.py:1395: UserWarning: `use_label_encoder` is deprecated in 1.7.0.\n",
      "  warnings.warn(\"`use_label_encoder` is deprecated in 1.7.0.\")\n",
      "/Users/mitch/NDA/Core_Resources/Dissertation_Project/.venv/lib/python3.10/site-packages/xgboost/sklearn.py:1395: UserWarning: `use_label_encoder` is deprecated in 1.7.0.\n",
      "  warnings.warn(\"`use_label_encoder` is deprecated in 1.7.0.\")\n",
      "/Users/mitch/NDA/Core_Resources/Dissertation_Project/.venv/lib/python3.10/site-packages/xgboost/sklearn.py:1395: UserWarning: `use_label_encoder` is deprecated in 1.7.0.\n",
      "  warnings.warn(\"`use_label_encoder` is deprecated in 1.7.0.\")\n",
      "/Users/mitch/NDA/Core_Resources/Dissertation_Project/.venv/lib/python3.10/site-packages/xgboost/sklearn.py:1395: UserWarning: `use_label_encoder` is deprecated in 1.7.0.\n",
      "  warnings.warn(\"`use_label_encoder` is deprecated in 1.7.0.\")\n",
      "/Users/mitch/NDA/Core_Resources/Dissertation_Project/.venv/lib/python3.10/site-packages/xgboost/sklearn.py:1395: UserWarning: `use_label_encoder` is deprecated in 1.7.0.\n",
      "  warnings.warn(\"`use_label_encoder` is deprecated in 1.7.0.\")\n"
     ]
    },
    {
     "data": {
      "text/plain": [
       "      Feature  GainImportance  PermImportance  PermImportance_std\n",
       "0  V00MBMPTMC        0.121700        0.019965            0.009981\n",
       "1  V00MBMNTMC        0.071778        0.001910            0.002847\n",
       "2  V00MBMSTMC        0.044828        0.012153            0.010063\n",
       "3  V00MBMSFLC        0.042393        0.000694            0.002355\n",
       "4  V00MBMSTLC        0.032995       -0.001042            0.000851\n",
       "5  V00MBMPFMC        0.028600        0.030382            0.015040\n",
       "6  V00MBMSFMC        0.026656        0.019792            0.006866\n",
       "7   V00MBMNSS        0.026588        0.000694            0.006551\n",
       "8  V00MBMPTMP        0.025855        0.000347            0.004646\n",
       "9  V00MBMNTMA        0.024137        0.000694            0.002355"
      ],
      "text/html": [
       "<div>\n",
       "<style scoped>\n",
       "    .dataframe tbody tr th:only-of-type {\n",
       "        vertical-align: middle;\n",
       "    }\n",
       "\n",
       "    .dataframe tbody tr th {\n",
       "        vertical-align: top;\n",
       "    }\n",
       "\n",
       "    .dataframe thead th {\n",
       "        text-align: right;\n",
       "    }\n",
       "</style>\n",
       "<table border=\"1\" class=\"dataframe\">\n",
       "  <thead>\n",
       "    <tr style=\"text-align: right;\">\n",
       "      <th></th>\n",
       "      <th>Feature</th>\n",
       "      <th>GainImportance</th>\n",
       "      <th>PermImportance</th>\n",
       "      <th>PermImportance_std</th>\n",
       "    </tr>\n",
       "  </thead>\n",
       "  <tbody>\n",
       "    <tr>\n",
       "      <th>0</th>\n",
       "      <td>V00MBMPTMC</td>\n",
       "      <td>0.121700</td>\n",
       "      <td>0.019965</td>\n",
       "      <td>0.009981</td>\n",
       "    </tr>\n",
       "    <tr>\n",
       "      <th>1</th>\n",
       "      <td>V00MBMNTMC</td>\n",
       "      <td>0.071778</td>\n",
       "      <td>0.001910</td>\n",
       "      <td>0.002847</td>\n",
       "    </tr>\n",
       "    <tr>\n",
       "      <th>2</th>\n",
       "      <td>V00MBMSTMC</td>\n",
       "      <td>0.044828</td>\n",
       "      <td>0.012153</td>\n",
       "      <td>0.010063</td>\n",
       "    </tr>\n",
       "    <tr>\n",
       "      <th>3</th>\n",
       "      <td>V00MBMSFLC</td>\n",
       "      <td>0.042393</td>\n",
       "      <td>0.000694</td>\n",
       "      <td>0.002355</td>\n",
       "    </tr>\n",
       "    <tr>\n",
       "      <th>4</th>\n",
       "      <td>V00MBMSTLC</td>\n",
       "      <td>0.032995</td>\n",
       "      <td>-0.001042</td>\n",
       "      <td>0.000851</td>\n",
       "    </tr>\n",
       "    <tr>\n",
       "      <th>5</th>\n",
       "      <td>V00MBMPFMC</td>\n",
       "      <td>0.028600</td>\n",
       "      <td>0.030382</td>\n",
       "      <td>0.015040</td>\n",
       "    </tr>\n",
       "    <tr>\n",
       "      <th>6</th>\n",
       "      <td>V00MBMSFMC</td>\n",
       "      <td>0.026656</td>\n",
       "      <td>0.019792</td>\n",
       "      <td>0.006866</td>\n",
       "    </tr>\n",
       "    <tr>\n",
       "      <th>7</th>\n",
       "      <td>V00MBMNSS</td>\n",
       "      <td>0.026588</td>\n",
       "      <td>0.000694</td>\n",
       "      <td>0.006551</td>\n",
       "    </tr>\n",
       "    <tr>\n",
       "      <th>8</th>\n",
       "      <td>V00MBMPTMP</td>\n",
       "      <td>0.025855</td>\n",
       "      <td>0.000347</td>\n",
       "      <td>0.004646</td>\n",
       "    </tr>\n",
       "    <tr>\n",
       "      <th>9</th>\n",
       "      <td>V00MBMNTMA</td>\n",
       "      <td>0.024137</td>\n",
       "      <td>0.000694</td>\n",
       "      <td>0.002355</td>\n",
       "    </tr>\n",
       "  </tbody>\n",
       "</table>\n",
       "</div>"
      ]
     },
     "metadata": {},
     "output_type": "display_data"
    },
    {
     "data": {
      "text/plain": [
       "<IPython.core.display.Markdown object>"
      ],
      "text/markdown": "### XGBoost Classification Report (Baseline MOAKS to 12-Month K-L)"
     },
     "metadata": {},
     "output_type": "display_data"
    },
    {
     "data": {
      "text/plain": [
       "<IPython.core.display.JSON object>"
      ],
      "application/json": {
       "0": {
        "precision": 0.5229007633587787,
        "recall": 0.7486338797814208,
        "f1-score": 0.6157303370786517,
        "support": 183.0
       },
       "1": {
        "precision": 0.5061728395061729,
        "recall": 0.4606741573033708,
        "f1-score": 0.4823529411764706,
        "support": 178.0
       },
       "2": {
        "precision": 0.5416666666666666,
        "recall": 0.33620689655172414,
        "f1-score": 0.4148936170212766,
        "support": 116.0
       },
       "3": {
        "precision": 0.8625,
        "recall": 0.696969696969697,
        "f1-score": 0.770949720670391,
        "support": 99.0
       },
       "accuracy": 0.5677083333333334,
       "macro avg": {
        "precision": 0.6083100673829045,
        "recall": 0.5606211576515532,
        "f1-score": 0.5709816539866974,
        "support": 576.0
       },
       "weighted avg": {
        "precision": 0.5798792334376537,
        "recall": 0.5677083333333334,
        "f1-score": 0.5607450644716003,
        "support": 576.0
       }
      }
     },
     "metadata": {
      "application/json": {
       "expanded": true,
       "root": "root"
      }
     },
     "output_type": "display_data"
    },
    {
     "data": {
      "text/plain": [
       "<IPython.core.display.Markdown object>"
      ],
      "text/markdown": "### XGBoost Confusion Matrix (Baseline MOAKS to 12-Month K-L)"
     },
     "metadata": {},
     "output_type": "display_data"
    },
    {
     "data": {
      "text/plain": [
       "        Pred 0  Pred 1  Pred 2  Pred 3\n",
       "True 0     137      38       8       0\n",
       "True 1      79      82      15       2\n",
       "True 2      41      27      39       9\n",
       "True 3       5      15      10      69"
      ],
      "text/html": [
       "<div>\n",
       "<style scoped>\n",
       "    .dataframe tbody tr th:only-of-type {\n",
       "        vertical-align: middle;\n",
       "    }\n",
       "\n",
       "    .dataframe tbody tr th {\n",
       "        vertical-align: top;\n",
       "    }\n",
       "\n",
       "    .dataframe thead th {\n",
       "        text-align: right;\n",
       "    }\n",
       "</style>\n",
       "<table border=\"1\" class=\"dataframe\">\n",
       "  <thead>\n",
       "    <tr style=\"text-align: right;\">\n",
       "      <th></th>\n",
       "      <th>Pred 0</th>\n",
       "      <th>Pred 1</th>\n",
       "      <th>Pred 2</th>\n",
       "      <th>Pred 3</th>\n",
       "    </tr>\n",
       "  </thead>\n",
       "  <tbody>\n",
       "    <tr>\n",
       "      <th>True 0</th>\n",
       "      <td>137</td>\n",
       "      <td>38</td>\n",
       "      <td>8</td>\n",
       "      <td>0</td>\n",
       "    </tr>\n",
       "    <tr>\n",
       "      <th>True 1</th>\n",
       "      <td>79</td>\n",
       "      <td>82</td>\n",
       "      <td>15</td>\n",
       "      <td>2</td>\n",
       "    </tr>\n",
       "    <tr>\n",
       "      <th>True 2</th>\n",
       "      <td>41</td>\n",
       "      <td>27</td>\n",
       "      <td>39</td>\n",
       "      <td>9</td>\n",
       "    </tr>\n",
       "    <tr>\n",
       "      <th>True 3</th>\n",
       "      <td>5</td>\n",
       "      <td>15</td>\n",
       "      <td>10</td>\n",
       "      <td>69</td>\n",
       "    </tr>\n",
       "  </tbody>\n",
       "</table>\n",
       "</div>"
      ]
     },
     "metadata": {},
     "output_type": "display_data"
    }
   ],
   "execution_count": 1
  },
  {
   "metadata": {},
   "cell_type": "markdown",
   "source": "## 24-Month K-L Classification with Baseline MBM Variables",
   "id": "5869a5d7fa1e098b"
  },
  {
   "metadata": {
    "ExecuteTime": {
     "end_time": "2025-08-20T14:18:35.593929Z",
     "start_time": "2025-08-20T14:18:35.575668Z"
    }
   },
   "cell_type": "code",
   "source": [
    "from scripts.mbm.kl_oriented.kl_mbm_xgBoost import v00_v03_moaks_kl_metrics, v00_v03_moaks_kl_coefs_df\n",
    "\n",
    "report = v00_v03_moaks_kl_metrics['classification_report']\n",
    "cm = v00_v03_moaks_kl_metrics['confusion_matrix']\n",
    "cm = pd.DataFrame(cm,index=[f\"True {i}\" for i in range(len(cm))],columns=[f\"Pred {i}\" for i in range(len(cm))]\n",
    ")\n",
    "\n",
    "display(v00_v03_moaks_kl_coefs_df.sort_values(by=['GainImportance'], ascending=False).head(10))\n",
    "\n",
    "display(Markdown(\"### XGBoost Classification Report (Baseline MOAKS to 24-Month K-L)\"))\n",
    "display(JSON(report, expanded=True))\n",
    "\n",
    "display(Markdown(\"### XGBoost Confusion Matrix (Baseline MOAKS to 24-Month K-L)\"))\n",
    "display(cm)"
   ],
   "id": "bf86ffa018a02ce4",
   "outputs": [
    {
     "data": {
      "text/plain": [
       "      Feature  GainImportance  PermImportance  PermImportance_std\n",
       "0  V00MBMPTMC        0.163168        0.035937            0.006165\n",
       "1  V00MBMNTMC        0.087801        0.002604            0.001400\n",
       "2  V00MBMSFLC        0.040494        0.006250            0.004671\n",
       "3  V00MBMSTMC        0.037077        0.008333            0.005079\n",
       "4  V00MBMSFMC        0.026256        0.022222            0.005903\n",
       "5  V00MBMPFMC        0.025277        0.007812            0.006690\n",
       "6  V00MBMSFLP        0.024081        0.006944            0.003882\n",
       "7  V00MBMPTMP        0.024001        0.006250            0.005103\n",
       "8  V00MBMPFLC        0.023832        0.002083            0.002552\n",
       "9  V00MBMSTMA        0.023048        0.008160            0.005761"
      ],
      "text/html": [
       "<div>\n",
       "<style scoped>\n",
       "    .dataframe tbody tr th:only-of-type {\n",
       "        vertical-align: middle;\n",
       "    }\n",
       "\n",
       "    .dataframe tbody tr th {\n",
       "        vertical-align: top;\n",
       "    }\n",
       "\n",
       "    .dataframe thead th {\n",
       "        text-align: right;\n",
       "    }\n",
       "</style>\n",
       "<table border=\"1\" class=\"dataframe\">\n",
       "  <thead>\n",
       "    <tr style=\"text-align: right;\">\n",
       "      <th></th>\n",
       "      <th>Feature</th>\n",
       "      <th>GainImportance</th>\n",
       "      <th>PermImportance</th>\n",
       "      <th>PermImportance_std</th>\n",
       "    </tr>\n",
       "  </thead>\n",
       "  <tbody>\n",
       "    <tr>\n",
       "      <th>0</th>\n",
       "      <td>V00MBMPTMC</td>\n",
       "      <td>0.163168</td>\n",
       "      <td>0.035937</td>\n",
       "      <td>0.006165</td>\n",
       "    </tr>\n",
       "    <tr>\n",
       "      <th>1</th>\n",
       "      <td>V00MBMNTMC</td>\n",
       "      <td>0.087801</td>\n",
       "      <td>0.002604</td>\n",
       "      <td>0.001400</td>\n",
       "    </tr>\n",
       "    <tr>\n",
       "      <th>2</th>\n",
       "      <td>V00MBMSFLC</td>\n",
       "      <td>0.040494</td>\n",
       "      <td>0.006250</td>\n",
       "      <td>0.004671</td>\n",
       "    </tr>\n",
       "    <tr>\n",
       "      <th>3</th>\n",
       "      <td>V00MBMSTMC</td>\n",
       "      <td>0.037077</td>\n",
       "      <td>0.008333</td>\n",
       "      <td>0.005079</td>\n",
       "    </tr>\n",
       "    <tr>\n",
       "      <th>4</th>\n",
       "      <td>V00MBMSFMC</td>\n",
       "      <td>0.026256</td>\n",
       "      <td>0.022222</td>\n",
       "      <td>0.005903</td>\n",
       "    </tr>\n",
       "    <tr>\n",
       "      <th>5</th>\n",
       "      <td>V00MBMPFMC</td>\n",
       "      <td>0.025277</td>\n",
       "      <td>0.007812</td>\n",
       "      <td>0.006690</td>\n",
       "    </tr>\n",
       "    <tr>\n",
       "      <th>6</th>\n",
       "      <td>V00MBMSFLP</td>\n",
       "      <td>0.024081</td>\n",
       "      <td>0.006944</td>\n",
       "      <td>0.003882</td>\n",
       "    </tr>\n",
       "    <tr>\n",
       "      <th>7</th>\n",
       "      <td>V00MBMPTMP</td>\n",
       "      <td>0.024001</td>\n",
       "      <td>0.006250</td>\n",
       "      <td>0.005103</td>\n",
       "    </tr>\n",
       "    <tr>\n",
       "      <th>8</th>\n",
       "      <td>V00MBMPFLC</td>\n",
       "      <td>0.023832</td>\n",
       "      <td>0.002083</td>\n",
       "      <td>0.002552</td>\n",
       "    </tr>\n",
       "    <tr>\n",
       "      <th>9</th>\n",
       "      <td>V00MBMSTMA</td>\n",
       "      <td>0.023048</td>\n",
       "      <td>0.008160</td>\n",
       "      <td>0.005761</td>\n",
       "    </tr>\n",
       "  </tbody>\n",
       "</table>\n",
       "</div>"
      ]
     },
     "metadata": {},
     "output_type": "display_data"
    },
    {
     "data": {
      "text/plain": [
       "<IPython.core.display.Markdown object>"
      ],
      "text/markdown": "### XGBoost Classification Report (Baseline MOAKS to 24-Month K-L)"
     },
     "metadata": {},
     "output_type": "display_data"
    },
    {
     "data": {
      "text/plain": [
       "<IPython.core.display.JSON object>"
      ],
      "application/json": {
       "0": {
        "precision": 0.503968253968254,
        "recall": 0.7383720930232558,
        "f1-score": 0.5990566037735849,
        "support": 172.0
       },
       "1": {
        "precision": 0.4263565891472868,
        "recall": 0.34810126582278483,
        "f1-score": 0.3832752613240418,
        "support": 158.0
       },
       "2": {
        "precision": 0.4666666666666667,
        "recall": 0.3712121212121212,
        "f1-score": 0.41350210970464135,
        "support": 132.0
       },
       "3": {
        "precision": 0.8222222222222222,
        "recall": 0.6491228070175439,
        "f1-score": 0.7254901960784313,
        "support": 114.0
       },
       "accuracy": 0.5295138888888888,
       "macro avg": {
        "precision": 0.5548034330011073,
        "recall": 0.5267020717689264,
        "f1-score": 0.5303310427201748,
        "support": 576.0
       },
       "weighted avg": {
        "precision": 0.5371184272589311,
        "recall": 0.5295138888888888,
        "f1-score": 0.5223669930073074,
        "support": 576.0
       }
      }
     },
     "metadata": {
      "application/json": {
       "expanded": true,
       "root": "root"
      }
     },
     "output_type": "display_data"
    },
    {
     "data": {
      "text/plain": [
       "<IPython.core.display.Markdown object>"
      ],
      "text/markdown": "### XGBoost Confusion Matrix (Baseline MOAKS to 24-Month K-L)"
     },
     "metadata": {},
     "output_type": "display_data"
    },
    {
     "data": {
      "text/plain": [
       "        Pred 0  Pred 1  Pred 2  Pred 3\n",
       "True 0     127      31      14       0\n",
       "True 1      72      55      23       8\n",
       "True 2      41      34      49       8\n",
       "True 3      12       9      19      74"
      ],
      "text/html": [
       "<div>\n",
       "<style scoped>\n",
       "    .dataframe tbody tr th:only-of-type {\n",
       "        vertical-align: middle;\n",
       "    }\n",
       "\n",
       "    .dataframe tbody tr th {\n",
       "        vertical-align: top;\n",
       "    }\n",
       "\n",
       "    .dataframe thead th {\n",
       "        text-align: right;\n",
       "    }\n",
       "</style>\n",
       "<table border=\"1\" class=\"dataframe\">\n",
       "  <thead>\n",
       "    <tr style=\"text-align: right;\">\n",
       "      <th></th>\n",
       "      <th>Pred 0</th>\n",
       "      <th>Pred 1</th>\n",
       "      <th>Pred 2</th>\n",
       "      <th>Pred 3</th>\n",
       "    </tr>\n",
       "  </thead>\n",
       "  <tbody>\n",
       "    <tr>\n",
       "      <th>True 0</th>\n",
       "      <td>127</td>\n",
       "      <td>31</td>\n",
       "      <td>14</td>\n",
       "      <td>0</td>\n",
       "    </tr>\n",
       "    <tr>\n",
       "      <th>True 1</th>\n",
       "      <td>72</td>\n",
       "      <td>55</td>\n",
       "      <td>23</td>\n",
       "      <td>8</td>\n",
       "    </tr>\n",
       "    <tr>\n",
       "      <th>True 2</th>\n",
       "      <td>41</td>\n",
       "      <td>34</td>\n",
       "      <td>49</td>\n",
       "      <td>8</td>\n",
       "    </tr>\n",
       "    <tr>\n",
       "      <th>True 3</th>\n",
       "      <td>12</td>\n",
       "      <td>9</td>\n",
       "      <td>19</td>\n",
       "      <td>74</td>\n",
       "    </tr>\n",
       "  </tbody>\n",
       "</table>\n",
       "</div>"
      ]
     },
     "metadata": {},
     "output_type": "display_data"
    }
   ],
   "execution_count": 2
  },
  {
   "metadata": {},
   "cell_type": "markdown",
   "source": "## 24-Month K-L Classification with 12-Month MBM Variables",
   "id": "a7beb5f834813327"
  },
  {
   "metadata": {
    "ExecuteTime": {
     "end_time": "2025-08-20T14:18:35.756352Z",
     "start_time": "2025-08-20T14:18:35.739555Z"
    }
   },
   "cell_type": "code",
   "source": [
    "from scripts.mbm.kl_oriented.kl_mbm_xgBoost import v01_v03_moaks_kl_metrics, v01_v03_moaks_kl_coefs_df\n",
    "\n",
    "report = v01_v03_moaks_kl_metrics['classification_report']\n",
    "cm = v01_v03_moaks_kl_metrics['confusion_matrix']\n",
    "cm = pd.DataFrame(cm,index=[f\"True {i}\" for i in range(len(cm))],columns=[f\"Pred {i}\" for i in range(len(cm))]\n",
    ")\n",
    "\n",
    "display(v01_v03_moaks_kl_coefs_df.sort_values(by=['GainImportance'], ascending=False).head(10))\n",
    "\n",
    "display(Markdown(\"### XGBoost Classification Report (12-Month MOAKS to 24-Month K-L)\"))\n",
    "display(JSON(report, expanded=True))\n",
    "\n",
    "display(Markdown(\"### XGBoost Confusion Matrix (12-Month MOAKS to 24-Month K-L)\"))\n",
    "display(cm)"
   ],
   "id": "2089f9efaa4c9b57",
   "outputs": [
    {
     "data": {
      "text/plain": [
       "      Feature  GainImportance  PermImportance  PermImportance_std\n",
       "0  V01MBMPTMC        0.161261        0.026042            0.010003\n",
       "1  V01MBMNTMC        0.147456        0.001042            0.004267\n",
       "2  V01MBMNFLP        0.030383       -0.000174            0.001215\n",
       "3  V01MBMNTMA        0.029147        0.002604            0.005823\n",
       "4  V01MBMSFLC        0.029016        0.002604            0.003744\n",
       "5  V01MBMPFMC        0.028989        0.000174            0.003917\n",
       "6  V01MBMSTMC        0.026639        0.013021            0.006508\n",
       "7  V01MBMSFLP        0.024755        0.001042            0.005663\n",
       "8  V01MBMNTLC        0.024439       -0.001215            0.001745\n",
       "9  V01MBMPFMP        0.022237        0.004861            0.005079"
      ],
      "text/html": [
       "<div>\n",
       "<style scoped>\n",
       "    .dataframe tbody tr th:only-of-type {\n",
       "        vertical-align: middle;\n",
       "    }\n",
       "\n",
       "    .dataframe tbody tr th {\n",
       "        vertical-align: top;\n",
       "    }\n",
       "\n",
       "    .dataframe thead th {\n",
       "        text-align: right;\n",
       "    }\n",
       "</style>\n",
       "<table border=\"1\" class=\"dataframe\">\n",
       "  <thead>\n",
       "    <tr style=\"text-align: right;\">\n",
       "      <th></th>\n",
       "      <th>Feature</th>\n",
       "      <th>GainImportance</th>\n",
       "      <th>PermImportance</th>\n",
       "      <th>PermImportance_std</th>\n",
       "    </tr>\n",
       "  </thead>\n",
       "  <tbody>\n",
       "    <tr>\n",
       "      <th>0</th>\n",
       "      <td>V01MBMPTMC</td>\n",
       "      <td>0.161261</td>\n",
       "      <td>0.026042</td>\n",
       "      <td>0.010003</td>\n",
       "    </tr>\n",
       "    <tr>\n",
       "      <th>1</th>\n",
       "      <td>V01MBMNTMC</td>\n",
       "      <td>0.147456</td>\n",
       "      <td>0.001042</td>\n",
       "      <td>0.004267</td>\n",
       "    </tr>\n",
       "    <tr>\n",
       "      <th>2</th>\n",
       "      <td>V01MBMNFLP</td>\n",
       "      <td>0.030383</td>\n",
       "      <td>-0.000174</td>\n",
       "      <td>0.001215</td>\n",
       "    </tr>\n",
       "    <tr>\n",
       "      <th>3</th>\n",
       "      <td>V01MBMNTMA</td>\n",
       "      <td>0.029147</td>\n",
       "      <td>0.002604</td>\n",
       "      <td>0.005823</td>\n",
       "    </tr>\n",
       "    <tr>\n",
       "      <th>4</th>\n",
       "      <td>V01MBMSFLC</td>\n",
       "      <td>0.029016</td>\n",
       "      <td>0.002604</td>\n",
       "      <td>0.003744</td>\n",
       "    </tr>\n",
       "    <tr>\n",
       "      <th>5</th>\n",
       "      <td>V01MBMPFMC</td>\n",
       "      <td>0.028989</td>\n",
       "      <td>0.000174</td>\n",
       "      <td>0.003917</td>\n",
       "    </tr>\n",
       "    <tr>\n",
       "      <th>6</th>\n",
       "      <td>V01MBMSTMC</td>\n",
       "      <td>0.026639</td>\n",
       "      <td>0.013021</td>\n",
       "      <td>0.006508</td>\n",
       "    </tr>\n",
       "    <tr>\n",
       "      <th>7</th>\n",
       "      <td>V01MBMSFLP</td>\n",
       "      <td>0.024755</td>\n",
       "      <td>0.001042</td>\n",
       "      <td>0.005663</td>\n",
       "    </tr>\n",
       "    <tr>\n",
       "      <th>8</th>\n",
       "      <td>V01MBMNTLC</td>\n",
       "      <td>0.024439</td>\n",
       "      <td>-0.001215</td>\n",
       "      <td>0.001745</td>\n",
       "    </tr>\n",
       "    <tr>\n",
       "      <th>9</th>\n",
       "      <td>V01MBMPFMP</td>\n",
       "      <td>0.022237</td>\n",
       "      <td>0.004861</td>\n",
       "      <td>0.005079</td>\n",
       "    </tr>\n",
       "  </tbody>\n",
       "</table>\n",
       "</div>"
      ]
     },
     "metadata": {},
     "output_type": "display_data"
    },
    {
     "data": {
      "text/plain": [
       "<IPython.core.display.Markdown object>"
      ],
      "text/markdown": "### XGBoost Classification Report (12-Month MOAKS to 24-Month K-L)"
     },
     "metadata": {},
     "output_type": "display_data"
    },
    {
     "data": {
      "text/plain": [
       "<IPython.core.display.JSON object>"
      ],
      "application/json": {
       "0": {
        "precision": 0.5097276264591439,
        "recall": 0.7616279069767442,
        "f1-score": 0.6107226107226107,
        "support": 172.0
       },
       "1": {
        "precision": 0.46601941747572817,
        "recall": 0.3037974683544304,
        "f1-score": 0.367816091954023,
        "support": 158.0
       },
       "2": {
        "precision": 0.5526315789473685,
        "recall": 0.4772727272727273,
        "f1-score": 0.5121951219512195,
        "support": 132.0
       },
       "3": {
        "precision": 0.7843137254901961,
        "recall": 0.7017543859649122,
        "f1-score": 0.7407407407407407,
        "support": 114.0
       },
       "accuracy": 0.5590277777777778,
       "macro avg": {
        "precision": 0.5781730870931091,
        "recall": 0.5611131221422035,
        "f1-score": 0.5578686413421485,
        "support": 576.0
       },
       "weighted avg": {
        "precision": 0.5619155431233902,
        "recall": 0.5590277777777778,
        "f1-score": 0.5472455418663718,
        "support": 576.0
       }
      }
     },
     "metadata": {
      "application/json": {
       "expanded": true,
       "root": "root"
      }
     },
     "output_type": "display_data"
    },
    {
     "data": {
      "text/plain": [
       "<IPython.core.display.Markdown object>"
      ],
      "text/markdown": "### XGBoost Confusion Matrix (12-Month MOAKS to 24-Month K-L)"
     },
     "metadata": {},
     "output_type": "display_data"
    },
    {
     "data": {
      "text/plain": [
       "        Pred 0  Pred 1  Pred 2  Pred 3\n",
       "True 0     131      22      17       2\n",
       "True 1      81      48      23       6\n",
       "True 2      32      23      63      14\n",
       "True 3      13      10      11      80"
      ],
      "text/html": [
       "<div>\n",
       "<style scoped>\n",
       "    .dataframe tbody tr th:only-of-type {\n",
       "        vertical-align: middle;\n",
       "    }\n",
       "\n",
       "    .dataframe tbody tr th {\n",
       "        vertical-align: top;\n",
       "    }\n",
       "\n",
       "    .dataframe thead th {\n",
       "        text-align: right;\n",
       "    }\n",
       "</style>\n",
       "<table border=\"1\" class=\"dataframe\">\n",
       "  <thead>\n",
       "    <tr style=\"text-align: right;\">\n",
       "      <th></th>\n",
       "      <th>Pred 0</th>\n",
       "      <th>Pred 1</th>\n",
       "      <th>Pred 2</th>\n",
       "      <th>Pred 3</th>\n",
       "    </tr>\n",
       "  </thead>\n",
       "  <tbody>\n",
       "    <tr>\n",
       "      <th>True 0</th>\n",
       "      <td>131</td>\n",
       "      <td>22</td>\n",
       "      <td>17</td>\n",
       "      <td>2</td>\n",
       "    </tr>\n",
       "    <tr>\n",
       "      <th>True 1</th>\n",
       "      <td>81</td>\n",
       "      <td>48</td>\n",
       "      <td>23</td>\n",
       "      <td>6</td>\n",
       "    </tr>\n",
       "    <tr>\n",
       "      <th>True 2</th>\n",
       "      <td>32</td>\n",
       "      <td>23</td>\n",
       "      <td>63</td>\n",
       "      <td>14</td>\n",
       "    </tr>\n",
       "    <tr>\n",
       "      <th>True 3</th>\n",
       "      <td>13</td>\n",
       "      <td>10</td>\n",
       "      <td>11</td>\n",
       "      <td>80</td>\n",
       "    </tr>\n",
       "  </tbody>\n",
       "</table>\n",
       "</div>"
      ]
     },
     "metadata": {},
     "output_type": "display_data"
    }
   ],
   "execution_count": 3
  },
  {
   "metadata": {},
   "cell_type": "markdown",
   "source": "## 12-Month K-L Classification with Baseline Lasso MBM Variables\n",
   "id": "ee8f488ea91bc2a3"
  },
  {
   "metadata": {
    "ExecuteTime": {
     "end_time": "2025-08-20T14:18:35.869362Z",
     "start_time": "2025-08-20T14:18:35.845709Z"
    }
   },
   "cell_type": "code",
   "source": [
    "from scripts.mbm.kl_oriented.kl_mbm_xgBoost import v00_v01_moaks_kl_lasso_metrics, v00_v01_moaks_kl_lasso_coefs_df, v00_v01_moaks_shared_kl_drop_mbm_lasso_df\n",
    "\n",
    "lasso_columns = v00_v01_moaks_shared_kl_drop_mbm_lasso_df.columns.tolist()\n",
    "report = v00_v01_moaks_kl_lasso_metrics['classification_report']\n",
    "cm = v00_v01_moaks_kl_lasso_metrics['confusion_matrix']\n",
    "cm = pd.DataFrame(cm,index=[f\"True {i}\" for i in range(len(cm))],columns=[f\"Pred {i}\" for i in range(len(cm))]\n",
    ")\n",
    "\n",
    "display(Markdown(\"### Selected Features from L1 Regularisation\"))\n",
    "display(pd.DataFrame(lasso_columns, columns=[\"Lasso Features\"]).T)\n",
    "\n",
    "display(Markdown(\"### XGBoost Feature Importance (Baseline MBM to 12-Month K-L)\"))\n",
    "display(v00_v01_moaks_kl_lasso_coefs_df.sort_values(by=['GainImportance'], ascending=False).head(10))\n",
    "\n",
    "display(Markdown(\"### XGBoost Classification Report (Basline MBM to 12-Month K-L)\"))\n",
    "display(JSON(report, expanded=True))\n",
    "\n",
    "display(Markdown(\"### XGBoost Confusion Matrix (Baseline MBM to 12-Month K-L)\"))\n",
    "display(cm)"
   ],
   "id": "d81bf9b465dfc8c7",
   "outputs": [
    {
     "data": {
      "text/plain": [
       "<IPython.core.display.Markdown object>"
      ],
      "text/markdown": "### Selected Features from L1 Regularisation"
     },
     "metadata": {},
     "output_type": "display_data"
    },
    {
     "data": {
      "text/plain": [
       "                        0           1           2          3           4   \\\n",
       "Lasso Features  V00MBMSFMA  V00MBMSFMC  V00MBMSFLC  V00MBMSSS  V00MBMSTMA   \n",
       "\n",
       "                        5           6           7          8          9   ...  \\\n",
       "Lasso Features  V00MBMSTMC  V00MBMSTLC  V00MBMSTLP  V00MBMSPM  V00MBMSPL  ...   \n",
       "\n",
       "                        21          22          23          24         25  \\\n",
       "Lasso Features  V00MBMNFMC  V00MBMNFLC  V00MBMNFMP  V00MBMNFLP  V00MBMNSS   \n",
       "\n",
       "                        26          27          28          29         30  \n",
       "Lasso Features  V00MBMNTMA  V00MBMNTMC  V00MBMNTMP  V00MBMNTLP  V00MBMNPL  \n",
       "\n",
       "[1 rows x 31 columns]"
      ],
      "text/html": [
       "<div>\n",
       "<style scoped>\n",
       "    .dataframe tbody tr th:only-of-type {\n",
       "        vertical-align: middle;\n",
       "    }\n",
       "\n",
       "    .dataframe tbody tr th {\n",
       "        vertical-align: top;\n",
       "    }\n",
       "\n",
       "    .dataframe thead th {\n",
       "        text-align: right;\n",
       "    }\n",
       "</style>\n",
       "<table border=\"1\" class=\"dataframe\">\n",
       "  <thead>\n",
       "    <tr style=\"text-align: right;\">\n",
       "      <th></th>\n",
       "      <th>0</th>\n",
       "      <th>1</th>\n",
       "      <th>2</th>\n",
       "      <th>3</th>\n",
       "      <th>4</th>\n",
       "      <th>5</th>\n",
       "      <th>6</th>\n",
       "      <th>7</th>\n",
       "      <th>8</th>\n",
       "      <th>9</th>\n",
       "      <th>...</th>\n",
       "      <th>21</th>\n",
       "      <th>22</th>\n",
       "      <th>23</th>\n",
       "      <th>24</th>\n",
       "      <th>25</th>\n",
       "      <th>26</th>\n",
       "      <th>27</th>\n",
       "      <th>28</th>\n",
       "      <th>29</th>\n",
       "      <th>30</th>\n",
       "    </tr>\n",
       "  </thead>\n",
       "  <tbody>\n",
       "    <tr>\n",
       "      <th>Lasso Features</th>\n",
       "      <td>V00MBMSFMA</td>\n",
       "      <td>V00MBMSFMC</td>\n",
       "      <td>V00MBMSFLC</td>\n",
       "      <td>V00MBMSSS</td>\n",
       "      <td>V00MBMSTMA</td>\n",
       "      <td>V00MBMSTMC</td>\n",
       "      <td>V00MBMSTLC</td>\n",
       "      <td>V00MBMSTLP</td>\n",
       "      <td>V00MBMSPM</td>\n",
       "      <td>V00MBMSPL</td>\n",
       "      <td>...</td>\n",
       "      <td>V00MBMNFMC</td>\n",
       "      <td>V00MBMNFLC</td>\n",
       "      <td>V00MBMNFMP</td>\n",
       "      <td>V00MBMNFLP</td>\n",
       "      <td>V00MBMNSS</td>\n",
       "      <td>V00MBMNTMA</td>\n",
       "      <td>V00MBMNTMC</td>\n",
       "      <td>V00MBMNTMP</td>\n",
       "      <td>V00MBMNTLP</td>\n",
       "      <td>V00MBMNPL</td>\n",
       "    </tr>\n",
       "  </tbody>\n",
       "</table>\n",
       "<p>1 rows × 31 columns</p>\n",
       "</div>"
      ]
     },
     "metadata": {},
     "output_type": "display_data"
    },
    {
     "data": {
      "text/plain": [
       "<IPython.core.display.Markdown object>"
      ],
      "text/markdown": "### XGBoost Feature Importance (Baseline MBM to 12-Month K-L)"
     },
     "metadata": {},
     "output_type": "display_data"
    },
    {
     "data": {
      "text/plain": [
       "      Feature  GainImportance  PermImportance  PermImportance_std\n",
       "0  V00MBMPTMC        0.127217        0.023438            0.006780\n",
       "1  V00MBMNTMC        0.101827        0.004340            0.004610\n",
       "2  V00MBMSTMC        0.077672        0.020313            0.006544\n",
       "3  V00MBMSTLC        0.040636        0.005729            0.002461\n",
       "4  V00MBMSFLC        0.040523       -0.001042            0.003027\n",
       "5  V00MBMSFMC        0.034331        0.025694            0.003707\n",
       "6  V00MBMNFMP        0.032800        0.011979            0.006789\n",
       "7  V00MBMPFMC        0.032175        0.034201            0.013471\n",
       "8   V00MBMNSS        0.031151        0.007986            0.006365\n",
       "9  V00MBMPTMP        0.029763        0.005556            0.004167"
      ],
      "text/html": [
       "<div>\n",
       "<style scoped>\n",
       "    .dataframe tbody tr th:only-of-type {\n",
       "        vertical-align: middle;\n",
       "    }\n",
       "\n",
       "    .dataframe tbody tr th {\n",
       "        vertical-align: top;\n",
       "    }\n",
       "\n",
       "    .dataframe thead th {\n",
       "        text-align: right;\n",
       "    }\n",
       "</style>\n",
       "<table border=\"1\" class=\"dataframe\">\n",
       "  <thead>\n",
       "    <tr style=\"text-align: right;\">\n",
       "      <th></th>\n",
       "      <th>Feature</th>\n",
       "      <th>GainImportance</th>\n",
       "      <th>PermImportance</th>\n",
       "      <th>PermImportance_std</th>\n",
       "    </tr>\n",
       "  </thead>\n",
       "  <tbody>\n",
       "    <tr>\n",
       "      <th>0</th>\n",
       "      <td>V00MBMPTMC</td>\n",
       "      <td>0.127217</td>\n",
       "      <td>0.023438</td>\n",
       "      <td>0.006780</td>\n",
       "    </tr>\n",
       "    <tr>\n",
       "      <th>1</th>\n",
       "      <td>V00MBMNTMC</td>\n",
       "      <td>0.101827</td>\n",
       "      <td>0.004340</td>\n",
       "      <td>0.004610</td>\n",
       "    </tr>\n",
       "    <tr>\n",
       "      <th>2</th>\n",
       "      <td>V00MBMSTMC</td>\n",
       "      <td>0.077672</td>\n",
       "      <td>0.020313</td>\n",
       "      <td>0.006544</td>\n",
       "    </tr>\n",
       "    <tr>\n",
       "      <th>3</th>\n",
       "      <td>V00MBMSTLC</td>\n",
       "      <td>0.040636</td>\n",
       "      <td>0.005729</td>\n",
       "      <td>0.002461</td>\n",
       "    </tr>\n",
       "    <tr>\n",
       "      <th>4</th>\n",
       "      <td>V00MBMSFLC</td>\n",
       "      <td>0.040523</td>\n",
       "      <td>-0.001042</td>\n",
       "      <td>0.003027</td>\n",
       "    </tr>\n",
       "    <tr>\n",
       "      <th>5</th>\n",
       "      <td>V00MBMSFMC</td>\n",
       "      <td>0.034331</td>\n",
       "      <td>0.025694</td>\n",
       "      <td>0.003707</td>\n",
       "    </tr>\n",
       "    <tr>\n",
       "      <th>6</th>\n",
       "      <td>V00MBMNFMP</td>\n",
       "      <td>0.032800</td>\n",
       "      <td>0.011979</td>\n",
       "      <td>0.006789</td>\n",
       "    </tr>\n",
       "    <tr>\n",
       "      <th>7</th>\n",
       "      <td>V00MBMPFMC</td>\n",
       "      <td>0.032175</td>\n",
       "      <td>0.034201</td>\n",
       "      <td>0.013471</td>\n",
       "    </tr>\n",
       "    <tr>\n",
       "      <th>8</th>\n",
       "      <td>V00MBMNSS</td>\n",
       "      <td>0.031151</td>\n",
       "      <td>0.007986</td>\n",
       "      <td>0.006365</td>\n",
       "    </tr>\n",
       "    <tr>\n",
       "      <th>9</th>\n",
       "      <td>V00MBMPTMP</td>\n",
       "      <td>0.029763</td>\n",
       "      <td>0.005556</td>\n",
       "      <td>0.004167</td>\n",
       "    </tr>\n",
       "  </tbody>\n",
       "</table>\n",
       "</div>"
      ]
     },
     "metadata": {},
     "output_type": "display_data"
    },
    {
     "data": {
      "text/plain": [
       "<IPython.core.display.Markdown object>"
      ],
      "text/markdown": "### XGBoost Classification Report (Basline MBM to 12-Month K-L)"
     },
     "metadata": {},
     "output_type": "display_data"
    },
    {
     "data": {
      "text/plain": [
       "<IPython.core.display.JSON object>"
      ],
      "application/json": {
       "0": {
        "precision": 0.5085910652920962,
        "recall": 0.8087431693989071,
        "f1-score": 0.6244725738396625,
        "support": 183.0
       },
       "1": {
        "precision": 0.5441176470588235,
        "recall": 0.4157303370786517,
        "f1-score": 0.4713375796178344,
        "support": 178.0
       },
       "2": {
        "precision": 0.6111111111111112,
        "recall": 0.3793103448275862,
        "f1-score": 0.46808510638297873,
        "support": 116.0
       },
       "3": {
        "precision": 0.9090909090909091,
        "recall": 0.7070707070707071,
        "f1-score": 0.7954545454545454,
        "support": 99.0
       },
       "accuracy": 0.5833333333333334,
       "macro avg": {
        "precision": 0.643227683138235,
        "recall": 0.577713639593963,
        "f1-score": 0.5898374513237552,
        "support": 576.0
       },
       "weighted avg": {
        "precision": 0.6090520746767588,
        "recall": 0.5833333333333334,
        "f1-score": 0.5750424349393373,
        "support": 576.0
       }
      }
     },
     "metadata": {
      "application/json": {
       "expanded": true,
       "root": "root"
      }
     },
     "output_type": "display_data"
    },
    {
     "data": {
      "text/plain": [
       "<IPython.core.display.Markdown object>"
      ],
      "text/markdown": "### XGBoost Confusion Matrix (Baseline MBM to 12-Month K-L)"
     },
     "metadata": {},
     "output_type": "display_data"
    },
    {
     "data": {
      "text/plain": [
       "        Pred 0  Pred 1  Pred 2  Pred 3\n",
       "True 0     148      26       8       1\n",
       "True 1      90      74      13       1\n",
       "True 2      45      22      44       5\n",
       "True 3       8      14       7      70"
      ],
      "text/html": [
       "<div>\n",
       "<style scoped>\n",
       "    .dataframe tbody tr th:only-of-type {\n",
       "        vertical-align: middle;\n",
       "    }\n",
       "\n",
       "    .dataframe tbody tr th {\n",
       "        vertical-align: top;\n",
       "    }\n",
       "\n",
       "    .dataframe thead th {\n",
       "        text-align: right;\n",
       "    }\n",
       "</style>\n",
       "<table border=\"1\" class=\"dataframe\">\n",
       "  <thead>\n",
       "    <tr style=\"text-align: right;\">\n",
       "      <th></th>\n",
       "      <th>Pred 0</th>\n",
       "      <th>Pred 1</th>\n",
       "      <th>Pred 2</th>\n",
       "      <th>Pred 3</th>\n",
       "    </tr>\n",
       "  </thead>\n",
       "  <tbody>\n",
       "    <tr>\n",
       "      <th>True 0</th>\n",
       "      <td>148</td>\n",
       "      <td>26</td>\n",
       "      <td>8</td>\n",
       "      <td>1</td>\n",
       "    </tr>\n",
       "    <tr>\n",
       "      <th>True 1</th>\n",
       "      <td>90</td>\n",
       "      <td>74</td>\n",
       "      <td>13</td>\n",
       "      <td>1</td>\n",
       "    </tr>\n",
       "    <tr>\n",
       "      <th>True 2</th>\n",
       "      <td>45</td>\n",
       "      <td>22</td>\n",
       "      <td>44</td>\n",
       "      <td>5</td>\n",
       "    </tr>\n",
       "    <tr>\n",
       "      <th>True 3</th>\n",
       "      <td>8</td>\n",
       "      <td>14</td>\n",
       "      <td>7</td>\n",
       "      <td>70</td>\n",
       "    </tr>\n",
       "  </tbody>\n",
       "</table>\n",
       "</div>"
      ]
     },
     "metadata": {},
     "output_type": "display_data"
    }
   ],
   "execution_count": 4
  },
  {
   "metadata": {},
   "cell_type": "markdown",
   "source": "## 24-Month K-L Classification with Baseline Lasso MBM Variables",
   "id": "b2d9d7d32369f8d6"
  },
  {
   "metadata": {
    "ExecuteTime": {
     "end_time": "2025-08-20T14:18:36.002409Z",
     "start_time": "2025-08-20T14:18:35.964949Z"
    }
   },
   "cell_type": "code",
   "source": [
    "from scripts.mbm.kl_oriented.kl_mbm_xgBoost import v00_v03_moaks_kl_lasso_metrics, v00_v03_moaks_kl_lasso_coefs_df, v00_v03_moaks_shared_kl_drop_mbm_lasso_df\n",
    "\n",
    "lasso_columns = v00_v03_moaks_shared_kl_drop_mbm_lasso_df.columns.tolist()\n",
    "report = v00_v03_moaks_kl_lasso_metrics['classification_report']\n",
    "cm = v00_v03_moaks_kl_lasso_metrics['confusion_matrix']\n",
    "cm = pd.DataFrame(cm,index=[f\"True {i}\" for i in range(len(cm))],columns=[f\"Pred {i}\" for i in range(len(cm))]\n",
    ")\n",
    "\n",
    "display(Markdown(\"### Selected Features from L1 Regularisation\"))\n",
    "display(pd.DataFrame(lasso_columns, columns=[\"Lasso Features\"]).T)\n",
    "\n",
    "display(Markdown(\"### XGBoost Feature Importance (Baseline MBM to 24-Month K-L)\"))\n",
    "display(v00_v03_moaks_kl_lasso_coefs_df.sort_values(by=['GainImportance'], ascending=False).head(10))\n",
    "\n",
    "display(Markdown(\"### XGBoost Classification Report (Baseline MBM to 24-Month K-L)\"))\n",
    "display(JSON(report, expanded=True))\n",
    "\n",
    "display(Markdown(\"### XGBoost Confusion Matrix (Baseline MBM to 24-Month K-L)\"))\n",
    "display(cm)"
   ],
   "id": "197de6b524ac4e68",
   "outputs": [
    {
     "data": {
      "text/plain": [
       "<IPython.core.display.Markdown object>"
      ],
      "text/markdown": "### Selected Features from L1 Regularisation"
     },
     "metadata": {},
     "output_type": "display_data"
    },
    {
     "data": {
      "text/plain": [
       "                        0           1           2          3           4   \\\n",
       "Lasso Features  V00MBMSFMA  V00MBMSFMC  V00MBMSFLC  V00MBMSSS  V00MBMSTMA   \n",
       "\n",
       "                        5           6           7          8           9   \\\n",
       "Lasso Features  V00MBMSTMC  V00MBMSTLC  V00MBMSTLP  V00MBMSPL  V00MBMPFLA   \n",
       "\n",
       "                ...          19          20         21          22  \\\n",
       "Lasso Features  ...  V00MBMNFLC  V00MBMNFMP  V00MBMNSS  V00MBMNTMA   \n",
       "\n",
       "                        23          24          25          26         27  \\\n",
       "Lasso Features  V00MBMNTMC  V00MBMNTLC  V00MBMNTMP  V00MBMNTLP  V00MBMNPM   \n",
       "\n",
       "                       28  \n",
       "Lasso Features  V00MBMNPL  \n",
       "\n",
       "[1 rows x 29 columns]"
      ],
      "text/html": [
       "<div>\n",
       "<style scoped>\n",
       "    .dataframe tbody tr th:only-of-type {\n",
       "        vertical-align: middle;\n",
       "    }\n",
       "\n",
       "    .dataframe tbody tr th {\n",
       "        vertical-align: top;\n",
       "    }\n",
       "\n",
       "    .dataframe thead th {\n",
       "        text-align: right;\n",
       "    }\n",
       "</style>\n",
       "<table border=\"1\" class=\"dataframe\">\n",
       "  <thead>\n",
       "    <tr style=\"text-align: right;\">\n",
       "      <th></th>\n",
       "      <th>0</th>\n",
       "      <th>1</th>\n",
       "      <th>2</th>\n",
       "      <th>3</th>\n",
       "      <th>4</th>\n",
       "      <th>5</th>\n",
       "      <th>6</th>\n",
       "      <th>7</th>\n",
       "      <th>8</th>\n",
       "      <th>9</th>\n",
       "      <th>...</th>\n",
       "      <th>19</th>\n",
       "      <th>20</th>\n",
       "      <th>21</th>\n",
       "      <th>22</th>\n",
       "      <th>23</th>\n",
       "      <th>24</th>\n",
       "      <th>25</th>\n",
       "      <th>26</th>\n",
       "      <th>27</th>\n",
       "      <th>28</th>\n",
       "    </tr>\n",
       "  </thead>\n",
       "  <tbody>\n",
       "    <tr>\n",
       "      <th>Lasso Features</th>\n",
       "      <td>V00MBMSFMA</td>\n",
       "      <td>V00MBMSFMC</td>\n",
       "      <td>V00MBMSFLC</td>\n",
       "      <td>V00MBMSSS</td>\n",
       "      <td>V00MBMSTMA</td>\n",
       "      <td>V00MBMSTMC</td>\n",
       "      <td>V00MBMSTLC</td>\n",
       "      <td>V00MBMSTLP</td>\n",
       "      <td>V00MBMSPL</td>\n",
       "      <td>V00MBMPFLA</td>\n",
       "      <td>...</td>\n",
       "      <td>V00MBMNFLC</td>\n",
       "      <td>V00MBMNFMP</td>\n",
       "      <td>V00MBMNSS</td>\n",
       "      <td>V00MBMNTMA</td>\n",
       "      <td>V00MBMNTMC</td>\n",
       "      <td>V00MBMNTLC</td>\n",
       "      <td>V00MBMNTMP</td>\n",
       "      <td>V00MBMNTLP</td>\n",
       "      <td>V00MBMNPM</td>\n",
       "      <td>V00MBMNPL</td>\n",
       "    </tr>\n",
       "  </tbody>\n",
       "</table>\n",
       "<p>1 rows × 29 columns</p>\n",
       "</div>"
      ]
     },
     "metadata": {},
     "output_type": "display_data"
    },
    {
     "data": {
      "text/plain": [
       "<IPython.core.display.Markdown object>"
      ],
      "text/markdown": "### XGBoost Feature Importance (Baseline MBM to 24-Month K-L)"
     },
     "metadata": {},
     "output_type": "display_data"
    },
    {
     "data": {
      "text/plain": [
       "      Feature  GainImportance  PermImportance  PermImportance_std\n",
       "0  V00MBMPTMC        0.160809        0.036806            0.005588\n",
       "1  V00MBMNTMC        0.128698       -0.003125            0.001042\n",
       "2  V00MBMSTMC        0.060457        0.006771            0.004284\n",
       "3  V00MBMNFLC        0.057292        0.001215            0.001356\n",
       "4  V00MBMSFLC        0.039022        0.009375            0.003575\n",
       "5  V00MBMNFMP        0.034453        0.006597            0.005588\n",
       "6  V00MBMSFMC        0.033060        0.020660            0.006086\n",
       "7  V00MBMPTMP        0.032665        0.010590            0.004751\n",
       "8  V00MBMPFMC        0.031570        0.015625            0.005705\n",
       "9  V00MBMPFLP        0.028540        0.011806            0.005695"
      ],
      "text/html": [
       "<div>\n",
       "<style scoped>\n",
       "    .dataframe tbody tr th:only-of-type {\n",
       "        vertical-align: middle;\n",
       "    }\n",
       "\n",
       "    .dataframe tbody tr th {\n",
       "        vertical-align: top;\n",
       "    }\n",
       "\n",
       "    .dataframe thead th {\n",
       "        text-align: right;\n",
       "    }\n",
       "</style>\n",
       "<table border=\"1\" class=\"dataframe\">\n",
       "  <thead>\n",
       "    <tr style=\"text-align: right;\">\n",
       "      <th></th>\n",
       "      <th>Feature</th>\n",
       "      <th>GainImportance</th>\n",
       "      <th>PermImportance</th>\n",
       "      <th>PermImportance_std</th>\n",
       "    </tr>\n",
       "  </thead>\n",
       "  <tbody>\n",
       "    <tr>\n",
       "      <th>0</th>\n",
       "      <td>V00MBMPTMC</td>\n",
       "      <td>0.160809</td>\n",
       "      <td>0.036806</td>\n",
       "      <td>0.005588</td>\n",
       "    </tr>\n",
       "    <tr>\n",
       "      <th>1</th>\n",
       "      <td>V00MBMNTMC</td>\n",
       "      <td>0.128698</td>\n",
       "      <td>-0.003125</td>\n",
       "      <td>0.001042</td>\n",
       "    </tr>\n",
       "    <tr>\n",
       "      <th>2</th>\n",
       "      <td>V00MBMSTMC</td>\n",
       "      <td>0.060457</td>\n",
       "      <td>0.006771</td>\n",
       "      <td>0.004284</td>\n",
       "    </tr>\n",
       "    <tr>\n",
       "      <th>3</th>\n",
       "      <td>V00MBMNFLC</td>\n",
       "      <td>0.057292</td>\n",
       "      <td>0.001215</td>\n",
       "      <td>0.001356</td>\n",
       "    </tr>\n",
       "    <tr>\n",
       "      <th>4</th>\n",
       "      <td>V00MBMSFLC</td>\n",
       "      <td>0.039022</td>\n",
       "      <td>0.009375</td>\n",
       "      <td>0.003575</td>\n",
       "    </tr>\n",
       "    <tr>\n",
       "      <th>5</th>\n",
       "      <td>V00MBMNFMP</td>\n",
       "      <td>0.034453</td>\n",
       "      <td>0.006597</td>\n",
       "      <td>0.005588</td>\n",
       "    </tr>\n",
       "    <tr>\n",
       "      <th>6</th>\n",
       "      <td>V00MBMSFMC</td>\n",
       "      <td>0.033060</td>\n",
       "      <td>0.020660</td>\n",
       "      <td>0.006086</td>\n",
       "    </tr>\n",
       "    <tr>\n",
       "      <th>7</th>\n",
       "      <td>V00MBMPTMP</td>\n",
       "      <td>0.032665</td>\n",
       "      <td>0.010590</td>\n",
       "      <td>0.004751</td>\n",
       "    </tr>\n",
       "    <tr>\n",
       "      <th>8</th>\n",
       "      <td>V00MBMPFMC</td>\n",
       "      <td>0.031570</td>\n",
       "      <td>0.015625</td>\n",
       "      <td>0.005705</td>\n",
       "    </tr>\n",
       "    <tr>\n",
       "      <th>9</th>\n",
       "      <td>V00MBMPFLP</td>\n",
       "      <td>0.028540</td>\n",
       "      <td>0.011806</td>\n",
       "      <td>0.005695</td>\n",
       "    </tr>\n",
       "  </tbody>\n",
       "</table>\n",
       "</div>"
      ]
     },
     "metadata": {},
     "output_type": "display_data"
    },
    {
     "data": {
      "text/plain": [
       "<IPython.core.display.Markdown object>"
      ],
      "text/markdown": "### XGBoost Classification Report (Baseline MBM to 24-Month K-L)"
     },
     "metadata": {},
     "output_type": "display_data"
    },
    {
     "data": {
      "text/plain": [
       "<IPython.core.display.JSON object>"
      ],
      "application/json": {
       "0": {
        "precision": 0.4734982332155477,
        "recall": 0.7790697674418605,
        "f1-score": 0.589010989010989,
        "support": 172.0
       },
       "1": {
        "precision": 0.42,
        "recall": 0.26582278481012656,
        "f1-score": 0.32558139534883723,
        "support": 158.0
       },
       "2": {
        "precision": 0.48,
        "recall": 0.36363636363636365,
        "f1-score": 0.41379310344827586,
        "support": 132.0
       },
       "3": {
        "precision": 0.7741935483870968,
        "recall": 0.631578947368421,
        "f1-score": 0.6956521739130435,
        "support": 114.0
       },
       "accuracy": 0.5138888888888888,
       "macro avg": {
        "precision": 0.5369229454006611,
        "recall": 0.5100269658141929,
        "f1-score": 0.5060094154302863,
        "support": 576.0
       },
       "weighted avg": {
        "precision": 0.5198259733145889,
        "recall": 0.5138888888888888,
        "f1-score": 0.4977027570421281,
        "support": 576.0
       }
      }
     },
     "metadata": {
      "application/json": {
       "expanded": true,
       "root": "root"
      }
     },
     "output_type": "display_data"
    },
    {
     "data": {
      "text/plain": [
       "<IPython.core.display.Markdown object>"
      ],
      "text/markdown": "### XGBoost Confusion Matrix (Baseline MBM to 24-Month K-L)"
     },
     "metadata": {},
     "output_type": "display_data"
    },
    {
     "data": {
      "text/plain": [
       "        Pred 0  Pred 1  Pred 2  Pred 3\n",
       "True 0     134      23      12       3\n",
       "True 1      85      42      23       8\n",
       "True 2      48      26      48      10\n",
       "True 3      16       9      17      72"
      ],
      "text/html": [
       "<div>\n",
       "<style scoped>\n",
       "    .dataframe tbody tr th:only-of-type {\n",
       "        vertical-align: middle;\n",
       "    }\n",
       "\n",
       "    .dataframe tbody tr th {\n",
       "        vertical-align: top;\n",
       "    }\n",
       "\n",
       "    .dataframe thead th {\n",
       "        text-align: right;\n",
       "    }\n",
       "</style>\n",
       "<table border=\"1\" class=\"dataframe\">\n",
       "  <thead>\n",
       "    <tr style=\"text-align: right;\">\n",
       "      <th></th>\n",
       "      <th>Pred 0</th>\n",
       "      <th>Pred 1</th>\n",
       "      <th>Pred 2</th>\n",
       "      <th>Pred 3</th>\n",
       "    </tr>\n",
       "  </thead>\n",
       "  <tbody>\n",
       "    <tr>\n",
       "      <th>True 0</th>\n",
       "      <td>134</td>\n",
       "      <td>23</td>\n",
       "      <td>12</td>\n",
       "      <td>3</td>\n",
       "    </tr>\n",
       "    <tr>\n",
       "      <th>True 1</th>\n",
       "      <td>85</td>\n",
       "      <td>42</td>\n",
       "      <td>23</td>\n",
       "      <td>8</td>\n",
       "    </tr>\n",
       "    <tr>\n",
       "      <th>True 2</th>\n",
       "      <td>48</td>\n",
       "      <td>26</td>\n",
       "      <td>48</td>\n",
       "      <td>10</td>\n",
       "    </tr>\n",
       "    <tr>\n",
       "      <th>True 3</th>\n",
       "      <td>16</td>\n",
       "      <td>9</td>\n",
       "      <td>17</td>\n",
       "      <td>72</td>\n",
       "    </tr>\n",
       "  </tbody>\n",
       "</table>\n",
       "</div>"
      ]
     },
     "metadata": {},
     "output_type": "display_data"
    }
   ],
   "execution_count": 5
  },
  {
   "metadata": {},
   "cell_type": "markdown",
   "source": "## 24-Month K-L Classification with 12-Month Lasso MBM Variables",
   "id": "8e12063c8234a105"
  },
  {
   "metadata": {
    "ExecuteTime": {
     "end_time": "2025-08-20T14:18:36.148999Z",
     "start_time": "2025-08-20T14:18:36.128200Z"
    }
   },
   "cell_type": "code",
   "source": [
    "from scripts.mbm.kl_oriented.kl_mbm_xgBoost import v01_v03_moaks_kl_lasso_metrics, v01_v03_moaks_kl_lasso_coefs_df, v01_v03_moaks_shared_kl_drop_mbm_lasso_df\n",
    "\n",
    "lasso_columns = v01_v03_moaks_shared_kl_drop_mbm_lasso_df.columns.tolist()\n",
    "report = v01_v03_moaks_kl_lasso_metrics['classification_report']\n",
    "cm = v01_v03_moaks_kl_lasso_metrics['confusion_matrix']\n",
    "cm = pd.DataFrame(cm,index=[f\"True {i}\" for i in range(len(cm))],columns=[f\"Pred {i}\" for i in range(len(cm))]\n",
    ")\n",
    "\n",
    "display(Markdown(\"### Selected Features from L1 Regularisation\"))\n",
    "display(pd.DataFrame(lasso_columns, columns=[\"Lasso Features\"]).T)\n",
    "\n",
    "display(Markdown(\"### XGBoost Feature Importance (12-Month MBM to 24-Month K-L)\"))\n",
    "display(v01_v03_moaks_kl_lasso_coefs_df.sort_values(by=['GainImportance'], ascending=False).head(10))\n",
    "\n",
    "display(Markdown(\"### XGBoost Classification Report (12-Month MBM to 24-Month K-L)\"))\n",
    "display(JSON(report, expanded=True))\n",
    "\n",
    "display(Markdown(\"### XGBoost Confusion Matrix (12-Month MBM to 24-Month K-L)\"))\n",
    "display(cm)"
   ],
   "id": "fee5d3061d0ab609",
   "outputs": [
    {
     "data": {
      "text/plain": [
       "<IPython.core.display.Markdown object>"
      ],
      "text/markdown": "### Selected Features from L1 Regularisation"
     },
     "metadata": {},
     "output_type": "display_data"
    },
    {
     "data": {
      "text/plain": [
       "                        0           1          2           3           4   \\\n",
       "Lasso Features  V01MBMSFMC  V01MBMSFLC  V01MBMSSS  V01MBMSTMA  V01MBMSTLA   \n",
       "\n",
       "                        5           6          7           8           9   \\\n",
       "Lasso Features  V01MBMSTMC  V01MBMSTLC  V01MBMSPL  V01MBMPFMC  V01MBMPFMP   \n",
       "\n",
       "                ...          20          21          22         23  \\\n",
       "Lasso Features  ...  V01MBMNFLC  V01MBMNFMP  V01MBMNFLP  V01MBMNSS   \n",
       "\n",
       "                        24          25          26          27         28  \\\n",
       "Lasso Features  V01MBMNTMA  V01MBMNTMC  V01MBMNTLC  V01MBMNTMP  V01MBMNPM   \n",
       "\n",
       "                       29  \n",
       "Lasso Features  V01MBMNPL  \n",
       "\n",
       "[1 rows x 30 columns]"
      ],
      "text/html": [
       "<div>\n",
       "<style scoped>\n",
       "    .dataframe tbody tr th:only-of-type {\n",
       "        vertical-align: middle;\n",
       "    }\n",
       "\n",
       "    .dataframe tbody tr th {\n",
       "        vertical-align: top;\n",
       "    }\n",
       "\n",
       "    .dataframe thead th {\n",
       "        text-align: right;\n",
       "    }\n",
       "</style>\n",
       "<table border=\"1\" class=\"dataframe\">\n",
       "  <thead>\n",
       "    <tr style=\"text-align: right;\">\n",
       "      <th></th>\n",
       "      <th>0</th>\n",
       "      <th>1</th>\n",
       "      <th>2</th>\n",
       "      <th>3</th>\n",
       "      <th>4</th>\n",
       "      <th>5</th>\n",
       "      <th>6</th>\n",
       "      <th>7</th>\n",
       "      <th>8</th>\n",
       "      <th>9</th>\n",
       "      <th>...</th>\n",
       "      <th>20</th>\n",
       "      <th>21</th>\n",
       "      <th>22</th>\n",
       "      <th>23</th>\n",
       "      <th>24</th>\n",
       "      <th>25</th>\n",
       "      <th>26</th>\n",
       "      <th>27</th>\n",
       "      <th>28</th>\n",
       "      <th>29</th>\n",
       "    </tr>\n",
       "  </thead>\n",
       "  <tbody>\n",
       "    <tr>\n",
       "      <th>Lasso Features</th>\n",
       "      <td>V01MBMSFMC</td>\n",
       "      <td>V01MBMSFLC</td>\n",
       "      <td>V01MBMSSS</td>\n",
       "      <td>V01MBMSTMA</td>\n",
       "      <td>V01MBMSTLA</td>\n",
       "      <td>V01MBMSTMC</td>\n",
       "      <td>V01MBMSTLC</td>\n",
       "      <td>V01MBMSPL</td>\n",
       "      <td>V01MBMPFMC</td>\n",
       "      <td>V01MBMPFMP</td>\n",
       "      <td>...</td>\n",
       "      <td>V01MBMNFLC</td>\n",
       "      <td>V01MBMNFMP</td>\n",
       "      <td>V01MBMNFLP</td>\n",
       "      <td>V01MBMNSS</td>\n",
       "      <td>V01MBMNTMA</td>\n",
       "      <td>V01MBMNTMC</td>\n",
       "      <td>V01MBMNTLC</td>\n",
       "      <td>V01MBMNTMP</td>\n",
       "      <td>V01MBMNPM</td>\n",
       "      <td>V01MBMNPL</td>\n",
       "    </tr>\n",
       "  </tbody>\n",
       "</table>\n",
       "<p>1 rows × 30 columns</p>\n",
       "</div>"
      ]
     },
     "metadata": {},
     "output_type": "display_data"
    },
    {
     "data": {
      "text/plain": [
       "<IPython.core.display.Markdown object>"
      ],
      "text/markdown": "### XGBoost Feature Importance (12-Month MBM to 24-Month K-L)"
     },
     "metadata": {},
     "output_type": "display_data"
    },
    {
     "data": {
      "text/plain": [
       "      Feature  GainImportance  PermImportance  PermImportance_std\n",
       "0  V01MBMNTMC        0.451940       -0.002257            0.002336\n",
       "1  V01MBMPTMC        0.083516        0.022222            0.011744\n",
       "2  V01MBMNFLP        0.039620       -0.000347            0.001042\n",
       "3  V01MBMNTMA        0.027455        0.000174            0.004999\n",
       "4  V01MBMPFMC        0.025248        0.007813            0.004199\n",
       "5  V01MBMSTMC        0.024003        0.015625            0.009728\n",
       "6  V01MBMSFLC        0.021126        0.006597            0.003276\n",
       "7  V01MBMPFLP        0.020878        0.005556            0.004646\n",
       "8   V01MBMPSS        0.018808        0.036285            0.008270\n",
       "9  V01MBMPFMP        0.018499        0.010938            0.005035"
      ],
      "text/html": [
       "<div>\n",
       "<style scoped>\n",
       "    .dataframe tbody tr th:only-of-type {\n",
       "        vertical-align: middle;\n",
       "    }\n",
       "\n",
       "    .dataframe tbody tr th {\n",
       "        vertical-align: top;\n",
       "    }\n",
       "\n",
       "    .dataframe thead th {\n",
       "        text-align: right;\n",
       "    }\n",
       "</style>\n",
       "<table border=\"1\" class=\"dataframe\">\n",
       "  <thead>\n",
       "    <tr style=\"text-align: right;\">\n",
       "      <th></th>\n",
       "      <th>Feature</th>\n",
       "      <th>GainImportance</th>\n",
       "      <th>PermImportance</th>\n",
       "      <th>PermImportance_std</th>\n",
       "    </tr>\n",
       "  </thead>\n",
       "  <tbody>\n",
       "    <tr>\n",
       "      <th>0</th>\n",
       "      <td>V01MBMNTMC</td>\n",
       "      <td>0.451940</td>\n",
       "      <td>-0.002257</td>\n",
       "      <td>0.002336</td>\n",
       "    </tr>\n",
       "    <tr>\n",
       "      <th>1</th>\n",
       "      <td>V01MBMPTMC</td>\n",
       "      <td>0.083516</td>\n",
       "      <td>0.022222</td>\n",
       "      <td>0.011744</td>\n",
       "    </tr>\n",
       "    <tr>\n",
       "      <th>2</th>\n",
       "      <td>V01MBMNFLP</td>\n",
       "      <td>0.039620</td>\n",
       "      <td>-0.000347</td>\n",
       "      <td>0.001042</td>\n",
       "    </tr>\n",
       "    <tr>\n",
       "      <th>3</th>\n",
       "      <td>V01MBMNTMA</td>\n",
       "      <td>0.027455</td>\n",
       "      <td>0.000174</td>\n",
       "      <td>0.004999</td>\n",
       "    </tr>\n",
       "    <tr>\n",
       "      <th>4</th>\n",
       "      <td>V01MBMPFMC</td>\n",
       "      <td>0.025248</td>\n",
       "      <td>0.007813</td>\n",
       "      <td>0.004199</td>\n",
       "    </tr>\n",
       "    <tr>\n",
       "      <th>5</th>\n",
       "      <td>V01MBMSTMC</td>\n",
       "      <td>0.024003</td>\n",
       "      <td>0.015625</td>\n",
       "      <td>0.009728</td>\n",
       "    </tr>\n",
       "    <tr>\n",
       "      <th>6</th>\n",
       "      <td>V01MBMSFLC</td>\n",
       "      <td>0.021126</td>\n",
       "      <td>0.006597</td>\n",
       "      <td>0.003276</td>\n",
       "    </tr>\n",
       "    <tr>\n",
       "      <th>7</th>\n",
       "      <td>V01MBMPFLP</td>\n",
       "      <td>0.020878</td>\n",
       "      <td>0.005556</td>\n",
       "      <td>0.004646</td>\n",
       "    </tr>\n",
       "    <tr>\n",
       "      <th>8</th>\n",
       "      <td>V01MBMPSS</td>\n",
       "      <td>0.018808</td>\n",
       "      <td>0.036285</td>\n",
       "      <td>0.008270</td>\n",
       "    </tr>\n",
       "    <tr>\n",
       "      <th>9</th>\n",
       "      <td>V01MBMPFMP</td>\n",
       "      <td>0.018499</td>\n",
       "      <td>0.010938</td>\n",
       "      <td>0.005035</td>\n",
       "    </tr>\n",
       "  </tbody>\n",
       "</table>\n",
       "</div>"
      ]
     },
     "metadata": {},
     "output_type": "display_data"
    },
    {
     "data": {
      "text/plain": [
       "<IPython.core.display.Markdown object>"
      ],
      "text/markdown": "### XGBoost Classification Report (12-Month MBM to 24-Month K-L)"
     },
     "metadata": {},
     "output_type": "display_data"
    },
    {
     "data": {
      "text/plain": [
       "<IPython.core.display.JSON object>"
      ],
      "application/json": {
       "0": {
        "precision": 0.516,
        "recall": 0.75,
        "f1-score": 0.6113744075829384,
        "support": 172.0
       },
       "1": {
        "precision": 0.4596774193548387,
        "recall": 0.36075949367088606,
        "f1-score": 0.40425531914893614,
        "support": 158.0
       },
       "2": {
        "precision": 0.5714285714285714,
        "recall": 0.45454545454545453,
        "f1-score": 0.5063291139240507,
        "support": 132.0
       },
       "3": {
        "precision": 0.8144329896907216,
        "recall": 0.6929824561403509,
        "f1-score": 0.7488151658767772,
        "support": 114.0
       },
       "accuracy": 0.5642361111111112,
       "macro avg": {
        "precision": 0.5903847451185329,
        "recall": 0.5645718510891728,
        "f1-score": 0.5676935016331757,
        "support": 576.0
       },
       "weighted avg": {
        "precision": 0.5723176467211428,
        "recall": 0.5642361111111112,
        "f1-score": 0.5576894279127163,
        "support": 576.0
       }
      }
     },
     "metadata": {
      "application/json": {
       "expanded": true,
       "root": "root"
      }
     },
     "output_type": "display_data"
    },
    {
     "data": {
      "text/plain": [
       "<IPython.core.display.Markdown object>"
      ],
      "text/markdown": "### XGBoost Confusion Matrix (12-Month MBM to 24-Month K-L)"
     },
     "metadata": {},
     "output_type": "display_data"
    },
    {
     "data": {
      "text/plain": [
       "        Pred 0  Pred 1  Pred 2  Pred 3\n",
       "True 0     129      24      18       1\n",
       "True 1      77      57      19       5\n",
       "True 2      33      27      60      12\n",
       "True 3      11      16       8      79"
      ],
      "text/html": [
       "<div>\n",
       "<style scoped>\n",
       "    .dataframe tbody tr th:only-of-type {\n",
       "        vertical-align: middle;\n",
       "    }\n",
       "\n",
       "    .dataframe tbody tr th {\n",
       "        vertical-align: top;\n",
       "    }\n",
       "\n",
       "    .dataframe thead th {\n",
       "        text-align: right;\n",
       "    }\n",
       "</style>\n",
       "<table border=\"1\" class=\"dataframe\">\n",
       "  <thead>\n",
       "    <tr style=\"text-align: right;\">\n",
       "      <th></th>\n",
       "      <th>Pred 0</th>\n",
       "      <th>Pred 1</th>\n",
       "      <th>Pred 2</th>\n",
       "      <th>Pred 3</th>\n",
       "    </tr>\n",
       "  </thead>\n",
       "  <tbody>\n",
       "    <tr>\n",
       "      <th>True 0</th>\n",
       "      <td>129</td>\n",
       "      <td>24</td>\n",
       "      <td>18</td>\n",
       "      <td>1</td>\n",
       "    </tr>\n",
       "    <tr>\n",
       "      <th>True 1</th>\n",
       "      <td>77</td>\n",
       "      <td>57</td>\n",
       "      <td>19</td>\n",
       "      <td>5</td>\n",
       "    </tr>\n",
       "    <tr>\n",
       "      <th>True 2</th>\n",
       "      <td>33</td>\n",
       "      <td>27</td>\n",
       "      <td>60</td>\n",
       "      <td>12</td>\n",
       "    </tr>\n",
       "    <tr>\n",
       "      <th>True 3</th>\n",
       "      <td>11</td>\n",
       "      <td>16</td>\n",
       "      <td>8</td>\n",
       "      <td>79</td>\n",
       "    </tr>\n",
       "  </tbody>\n",
       "</table>\n",
       "</div>"
      ]
     },
     "metadata": {},
     "output_type": "display_data"
    }
   ],
   "execution_count": 6
  }
 ],
 "metadata": {
  "kernelspec": {
   "display_name": "Python 3",
   "language": "python",
   "name": "python3"
  },
  "language_info": {
   "codemirror_mode": {
    "name": "ipython",
    "version": 2
   },
   "file_extension": ".py",
   "mimetype": "text/x-python",
   "name": "python",
   "nbconvert_exporter": "python",
   "pygments_lexer": "ipython2",
   "version": "2.7.6"
  }
 },
 "nbformat": 4,
 "nbformat_minor": 5
}
