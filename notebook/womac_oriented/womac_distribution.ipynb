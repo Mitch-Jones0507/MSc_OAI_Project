{
 "cells": [
  {
   "metadata": {},
   "cell_type": "markdown",
   "source": "# WOMAC Distribution",
   "id": "7a77fe7acee2a71a"
  },
  {
   "metadata": {},
   "cell_type": "markdown",
   "source": "WOMAC data is constructed as a three-dimensional vector of the continuous sub-scores, (WOMADL, WOMKP, WOMSTF), denoting disability, pain, and stiffness scores respectively. Each sub-score is scored on the left and right knee independently (e.g. WOMADLL, WOMKPR...etc.) and take on different ranges: WOMADL (0-68), WOMKP (0-20), WOMSTF (0-8).",
   "id": "b332ad4501daefdd"
  },
  {
   "metadata": {},
   "cell_type": "markdown",
   "source": "## 12-Month WOMAC Distribution on Drop Dataset",
   "id": "a9db3f42bf767332"
  },
  {
   "metadata": {
    "ExecuteTime": {
     "end_time": "2025-08-19T22:08:21.551015Z",
     "start_time": "2025-08-19T22:08:21.479570Z"
    }
   },
   "cell_type": "code",
   "source": [
    "import plotly.express as px\n",
    "from scripts.womac.womac_distribution import v01_womac_drop_vectors_left, v01_womac_drop_vectors_right\n",
    "\n",
    "display(v01_womac_drop_vectors_left)\n",
    "v01_womac_drop_vectors_left_chart = px.bar(v01_womac_drop_vectors_left,x='Vector',y='Count',log_y=True,title='12-Month WOMAC Drop Vectors (Left Knee)')\n",
    "display(v01_womac_drop_vectors_left_chart)\n",
    "\n",
    "display(v01_womac_drop_vectors_right)\n",
    "v01_womac_drop_vectors_right_chart = px.bar(v01_womac_drop_vectors_right,x='Vector',y='Count',log_y=True,title='12-Month WOMAC Drop Vectors (Right Knee)')\n",
    "display(v01_womac_drop_vectors_right_chart)\n"
   ],
   "id": "33ab0ab483d2e43e",
   "outputs": [
    {
     "data": {
      "text/plain": [
       "     V01WOMADLL  V01WOMKPL  V01WOMSTFL  Count     Vector\n",
       "0             0          0           0    959    (0,0,0)\n",
       "18            1          0           0    103    (1,0,0)\n",
       "1             0          0           1     48    (0,0,1)\n",
       "31            2          0           0     41    (2,0,0)\n",
       "44            3          0           0     25    (3,0,0)\n",
       "..          ...        ...         ...    ...        ...\n",
       "275          18          7           1      1   (18,7,1)\n",
       "276          18          7           2      1   (18,7,2)\n",
       "277          18          9           2      1   (18,9,2)\n",
       "278          18         10           1      1  (18,10,1)\n",
       "478          60         16           6      1  (60,16,6)\n",
       "\n",
       "[479 rows x 5 columns]"
      ],
      "text/html": [
       "<div>\n",
       "<style scoped>\n",
       "    .dataframe tbody tr th:only-of-type {\n",
       "        vertical-align: middle;\n",
       "    }\n",
       "\n",
       "    .dataframe tbody tr th {\n",
       "        vertical-align: top;\n",
       "    }\n",
       "\n",
       "    .dataframe thead th {\n",
       "        text-align: right;\n",
       "    }\n",
       "</style>\n",
       "<table border=\"1\" class=\"dataframe\">\n",
       "  <thead>\n",
       "    <tr style=\"text-align: right;\">\n",
       "      <th></th>\n",
       "      <th>V01WOMADLL</th>\n",
       "      <th>V01WOMKPL</th>\n",
       "      <th>V01WOMSTFL</th>\n",
       "      <th>Count</th>\n",
       "      <th>Vector</th>\n",
       "    </tr>\n",
       "  </thead>\n",
       "  <tbody>\n",
       "    <tr>\n",
       "      <th>0</th>\n",
       "      <td>0</td>\n",
       "      <td>0</td>\n",
       "      <td>0</td>\n",
       "      <td>959</td>\n",
       "      <td>(0,0,0)</td>\n",
       "    </tr>\n",
       "    <tr>\n",
       "      <th>18</th>\n",
       "      <td>1</td>\n",
       "      <td>0</td>\n",
       "      <td>0</td>\n",
       "      <td>103</td>\n",
       "      <td>(1,0,0)</td>\n",
       "    </tr>\n",
       "    <tr>\n",
       "      <th>1</th>\n",
       "      <td>0</td>\n",
       "      <td>0</td>\n",
       "      <td>1</td>\n",
       "      <td>48</td>\n",
       "      <td>(0,0,1)</td>\n",
       "    </tr>\n",
       "    <tr>\n",
       "      <th>31</th>\n",
       "      <td>2</td>\n",
       "      <td>0</td>\n",
       "      <td>0</td>\n",
       "      <td>41</td>\n",
       "      <td>(2,0,0)</td>\n",
       "    </tr>\n",
       "    <tr>\n",
       "      <th>44</th>\n",
       "      <td>3</td>\n",
       "      <td>0</td>\n",
       "      <td>0</td>\n",
       "      <td>25</td>\n",
       "      <td>(3,0,0)</td>\n",
       "    </tr>\n",
       "    <tr>\n",
       "      <th>...</th>\n",
       "      <td>...</td>\n",
       "      <td>...</td>\n",
       "      <td>...</td>\n",
       "      <td>...</td>\n",
       "      <td>...</td>\n",
       "    </tr>\n",
       "    <tr>\n",
       "      <th>275</th>\n",
       "      <td>18</td>\n",
       "      <td>7</td>\n",
       "      <td>1</td>\n",
       "      <td>1</td>\n",
       "      <td>(18,7,1)</td>\n",
       "    </tr>\n",
       "    <tr>\n",
       "      <th>276</th>\n",
       "      <td>18</td>\n",
       "      <td>7</td>\n",
       "      <td>2</td>\n",
       "      <td>1</td>\n",
       "      <td>(18,7,2)</td>\n",
       "    </tr>\n",
       "    <tr>\n",
       "      <th>277</th>\n",
       "      <td>18</td>\n",
       "      <td>9</td>\n",
       "      <td>2</td>\n",
       "      <td>1</td>\n",
       "      <td>(18,9,2)</td>\n",
       "    </tr>\n",
       "    <tr>\n",
       "      <th>278</th>\n",
       "      <td>18</td>\n",
       "      <td>10</td>\n",
       "      <td>1</td>\n",
       "      <td>1</td>\n",
       "      <td>(18,10,1)</td>\n",
       "    </tr>\n",
       "    <tr>\n",
       "      <th>478</th>\n",
       "      <td>60</td>\n",
       "      <td>16</td>\n",
       "      <td>6</td>\n",
       "      <td>1</td>\n",
       "      <td>(60,16,6)</td>\n",
       "    </tr>\n",
       "  </tbody>\n",
       "</table>\n",
       "<p>479 rows × 5 columns</p>\n",
       "</div>"
      ]
     },
     "metadata": {},
     "output_type": "display_data"
    },
    {
     "data": {
      "application/vnd.plotly.v1+json": {
       "data": [
        {
         "hovertemplate": "Vector=%{x}<br>Count=%{y}<extra></extra>",
         "legendgroup": "",
         "marker": {
          "color": "#636efa",
          "pattern": {
           "shape": ""
          }
         },
         "name": "",
         "orientation": "v",
         "showlegend": false,
         "textposition": "auto",
         "x": [
          "(0,0,0)",
          "(1,0,0)",
          "(0,0,1)",
          "(2,0,0)",
          "(3,0,0)",
          "(4,0,0)",
          "(0,1,0)",
          "(1,0,1)",
          "(4,0,1)",
          "(3,0,1)",
          "(5,0,0)",
          "(8,1,1)",
          "(1,1,0)",
          "(2,0,1)",
          "(9,0,1)",
          "(7,0,1)",
          "(5,0,1)",
          "(7,1,1)",
          "(0,2,0)",
          "(6,1,0)",
          "(4,1,1)",
          "(3,1,0)",
          "(5,1,0)",
          "(6,0,0)",
          "(3,2,1)",
          "(9,0,0)",
          "(6,0,1)",
          "(11,0,0)",
          "(9,2,1)",
          "(9,1,1)",
          "(2,1,0)",
          "(3,1,1)",
          "(2,1,1)",
          "(7,0,0)",
          "(6,1,2)",
          "(10,1,1)",
          "(10,1,3)",
          "(10,2,1)",
          "(16,4,1)",
          "(7,1,0)",
          "(8,0,1)",
          "(6,3,3)",
          "(6,2,0)",
          "(4,1,2)",
          "(5,2,1)",
          "(14,1,1)",
          "(13,2,2)",
          "(14,2,1)",
          "(9,2,0)",
          "(24,5,3)",
          "(9,2,2)",
          "(11,0,1)",
          "(10,0,0)",
          "(32,10,3)",
          "(21,5,1)",
          "(12,1,1)",
          "(10,1,0)",
          "(11,1,1)",
          "(14,4,1)",
          "(11,5,3)",
          "(6,1,1)",
          "(13,1,1)",
          "(10,0,1)",
          "(8,0,0)",
          "(12,2,1)",
          "(15,1,0)",
          "(15,3,1)",
          "(12,0,1)",
          "(8,1,0)",
          "(35,9,3)",
          "(12,4,2)",
          "(4,3,0)",
          "(0,0,2)",
          "(0,0,3)",
          "(21,3,2)",
          "(18,5,1)",
          "(4,1,0)",
          "(1,1,1)",
          "(2,2,0)",
          "(15,2,3)",
          "(9,4,1)",
          "(25,6,1)",
          "(9,3,1)",
          "(20,7,2)",
          "(15,4,1)",
          "(5,0,2)",
          "(28,5,2)",
          "(9,0,3)",
          "(15,4,3)",
          "(30,4,3)",
          "(35,8,4)",
          "(8,2,1)",
          "(20,5,2)",
          "(26,5,3)",
          "(1,1,2)",
          "(10,3,1)",
          "(10,2,0)",
          "(10,3,0)",
          "(0,1,1)",
          "(13,2,1)",
          "(23,3,1)",
          "(13,4,2)",
          "(23,1,0)",
          "(11,3,2)",
          "(11,2,3)",
          "(11,2,1)",
          "(14,3,2)",
          "(24,7,1)",
          "(24,7,2)",
          "(10,6,1)",
          "(21,8,4)",
          "(14,4,2)",
          "(26,6,1)",
          "(2,5,0)",
          "(17,0,3)",
          "(17,3,1)",
          "(18,1,2)",
          "(37,10,3)",
          "(19,6,3)",
          "(6,1,3)",
          "(18,6,2)",
          "(19,1,1)",
          "(19,2,3)",
          "(18,5,2)",
          "(7,0,2)",
          "(17,5,1)",
          "(6,2,1)",
          "(29,5,3)",
          "(5,3,2)",
          "(27,5,2)",
          "(16,2,1)",
          "(39,6,4)",
          "(18,4,1)",
          "(5,1,3)",
          "(13,1,2)",
          "(12,5,1)",
          "(31,6,3)",
          "(12,5,2)",
          "(31,10,4)",
          "(18,5,3)",
          "(24,2,0)",
          "(17,4,1)",
          "(23,8,3)",
          "(17,9,4)",
          "(18,3,2)",
          "(31,7,3)",
          "(22,8,3)",
          "(17,8,2)",
          "(14,2,0)",
          "(23,3,2)",
          "(13,5,1)",
          "(13,3,0)",
          "(23,2,2)",
          "(31,7,5)",
          "(14,3,1)",
          "(20,0,3)",
          "(31,0,3)",
          "(16,6,3)",
          "(16,2,2)",
          "(29,8,5)",
          "(29,12,5)",
          "(16,0,0)",
          "(16,3,2)",
          "(15,6,0)",
          "(30,4,2)",
          "(16,4,0)",
          "(20,5,3)",
          "(26,4,3)",
          "(19,5,2)",
          "(16,4,2)",
          "(29,6,5)",
          "(29,6,4)",
          "(25,9,5)",
          "(14,7,3)",
          "(25,7,3)",
          "(15,4,0)",
          "(30,6,2)",
          "(29,3,1)",
          "(19,4,3)",
          "(19,3,1)",
          "(15,2,1)",
          "(26,11,3)",
          "(21,4,2)",
          "(21,4,3)",
          "(15,0,1)",
          "(25,0,2)",
          "(12,4,1)",
          "(24,8,3)",
          "(15,4,2)",
          "(11,3,1)",
          "(12,3,2)",
          "(7,6,1)",
          "(4,3,1)",
          "(5,1,1)",
          "(38,9,3)",
          "(5,6,0)",
          "(37,10,4)",
          "(6,3,0)",
          "(7,5,0)",
          "(35,11,4)",
          "(9,2,3)",
          "(35,9,4)",
          "(8,0,3)",
          "(8,2,2)",
          "(8,3,0)",
          "(8,5,3)",
          "(9,0,2)",
          "(9,1,0)",
          "(4,2,0)",
          "(4,1,3)",
          "(4,0,3)",
          "(3,4,1)",
          "(0,1,2)",
          "(0,2,1)",
          "(0,3,0)",
          "(51,13,7)",
          "(0,4,1)",
          "(0,4,3)",
          "(0,5,0)",
          "(50,13,4)",
          "(45,14,5)",
          "(44,12,4)",
          "(1,4,0)",
          "(2,1,2)",
          "(2,1,3)",
          "(3,0,2)",
          "(3,1,3)",
          "(9,1,2)",
          "(5,2,0)",
          "(9,3,0)",
          "(10,3,2)",
          "(9,3,3)",
          "(11,4,1)",
          "(23,5,2)",
          "(11,3,0)",
          "(33,9,2)",
          "(11,2,0)",
          "(12,0,5)",
          "(12,2,0)",
          "(33,11,5)",
          "(12,2,3)",
          "(11,4,2)",
          "(32,6,3)",
          "(34,9,4)",
          "(24,5,1)",
          "(42,15,5)",
          "(55,14,5)",
          "(32,11,3)",
          "(32,13,4)",
          "(25,11,2)",
          "(44,9,6)",
          "(26,5,2)",
          "(44,7,6)",
          "(42,6,3)",
          "(24,5,2)",
          "(41,14,4)",
          "(26,6,2)",
          "(32,5,5)",
          "(33,4,1)",
          "(26,6,3)",
          "(23,8,1)",
          "(26,7,3)",
          "(26,8,2)",
          "(41,11,5)",
          "(44,11,4)",
          "(32,3,3)",
          "(25,7,1)",
          "(44,11,5)",
          "(24,4,2)",
          "(52,15,5)",
          "(24,5,4)",
          "(53,13,4)",
          "(24,6,2)",
          "(32,6,6)",
          "(23,11,3)",
          "(32,8,3)",
          "(24,8,2)",
          "(54,11,6)",
          "(47,14,4)",
          "(25,3,2)",
          "(31,9,4)",
          "(45,13,4)",
          "(40,11,4)",
          "(31,9,3)",
          "(25,4,1)",
          "(25,4,2)",
          "(25,5,2)",
          "(32,9,4)",
          "(31,7,4)",
          "(26,9,4)",
          "(40,10,5)",
          "(28,10,5)",
          "(36,12,5)",
          "(36,12,4)",
          "(36,11,6)",
          "(36,11,4)",
          "(36,10,3)",
          "(36,9,3)",
          "(35,11,5)",
          "(29,7,3)",
          "(30,13,3)",
          "(29,9,3)",
          "(35,11,3)",
          "(34,6,3)",
          "(34,8,1)",
          "(29,10,0)",
          "(30,9,1)",
          "(30,7,3)",
          "(30,3,3)",
          "(35,5,5)",
          "(35,4,3)",
          "(34,10,3)",
          "(37,9,1)",
          "(28,9,2)",
          "(33,11,4)",
          "(27,9,3)",
          "(39,13,5)",
          "(27,4,4)",
          "(39,9,4)",
          "(27,5,3)",
          "(27,6,1)",
          "(27,6,3)",
          "(27,6,4)",
          "(27,8,1)",
          "(27,8,4)",
          "(39,8,5)",
          "(33,10,3)",
          "(31,7,2)",
          "(38,10,3)",
          "(28,5,3)",
          "(28,6,2)",
          "(32,5,3)",
          "(28,7,2)",
          "(37,13,5)",
          "(37,12,2)",
          "(33,9,3)",
          "(23,7,3)",
          "(16,2,0)",
          "(23,4,2)",
          "(8,3,1)",
          "(10,0,2)",
          "(9,10,1)",
          "(9,5,3)",
          "(9,5,0)",
          "(8,9,5)",
          "(8,4,3)",
          "(8,2,0)",
          "(10,4,2)",
          "(7,7,3)",
          "(7,7,1)",
          "(7,6,2)",
          "(7,5,2)",
          "(7,4,1)",
          "(7,3,1)",
          "(10,4,0)",
          "(10,4,3)",
          "(13,4,3)",
          "(12,2,2)",
          "(13,2,3)",
          "(13,0,0)",
          "(12,7,2)",
          "(12,4,3)",
          "(12,3,1)",
          "(12,3,0)",
          "(12,1,0)",
          "(10,5,0)",
          "(12,0,2)",
          "(12,0,0)",
          "(11,6,2)",
          "(11,6,0)",
          "(11,5,2)",
          "(11,2,2)",
          "(7,3,0)",
          "(7,2,3)",
          "(7,2,2)",
          "(1,2,0)",
          "(2,2,2)",
          "(2,2,1)",
          "(1,7,2)",
          "(1,6,1)",
          "(1,2,3)",
          "(1,2,1)",
          "(1,0,3)",
          "(7,2,1)",
          "(1,0,2)",
          "(0,4,0)",
          "(0,3,3)",
          "(0,3,2)",
          "(0,3,1)",
          "(0,2,2)",
          "(2,3,0)",
          "(2,3,1)",
          "(2,6,0)",
          "(3,0,3)",
          "(3,0,5)",
          "(3,3,0)",
          "(3,3,1)",
          "(3,4,3)",
          "(4,2,1)",
          "(4,4,3)",
          "(5,0,3)",
          "(5,1,2)",
          "(5,3,0)",
          "(5,5,1)",
          "(6,0,3)",
          "(6,2,3)",
          "(6,3,1)",
          "(13,3,3)",
          "(14,1,5)",
          "(23,3,3)",
          "(20,5,4)",
          "(20,8,3)",
          "(20,8,2)",
          "(20,8,1)",
          "(20,7,3)",
          "(20,7,1)",
          "(20,6,3)",
          "(20,4,2)",
          "(21,2,0)",
          "(20,3,3)",
          "(20,2,3)",
          "(19,9,3)",
          "(19,9,2)",
          "(19,9,1)",
          "(19,4,2)",
          "(21,1,2)",
          "(21,3,1)",
          "(14,2,2)",
          "(22,2,3)",
          "(23,3,0)",
          "(22,9,3)",
          "(22,7,2)",
          "(22,6,5)",
          "(22,6,3)",
          "(22,4,2)",
          "(22,1,1)",
          "(21,5,2)",
          "(22,0,6)",
          "(21,9,3)",
          "(21,9,2)",
          "(21,7,0)",
          "(21,6,4)",
          "(21,6,3)",
          "(19,3,0)",
          "(19,2,1)",
          "(19,1,0)",
          "(15,5,1)",
          "(16,3,1)",
          "(16,3,0)",
          "(16,1,1)",
          "(16,1,0)",
          "(15,6,3)",
          "(15,5,3)",
          "(15,3,2)",
          "(19,0,3)",
          "(15,2,0)",
          "(15,1,2)",
          "(15,0,0)",
          "(14,5,1)",
          "(14,4,0)",
          "(14,2,3)",
          "(16,3,3)",
          "(16,5,2)",
          "(16,6,1)",
          "(16,6,4)",
          "(16,7,0)",
          "(16,7,3)",
          "(17,2,3)",
          "(18,0,2)",
          "(18,2,5)",
          "(18,3,3)",
          "(18,4,5)",
          "(18,6,1)",
          "(18,6,5)",
          "(18,7,1)",
          "(18,7,2)",
          "(18,9,2)",
          "(18,10,1)",
          "(60,16,6)"
         ],
         "xaxis": "x",
         "y": {
          "dtype": "i2",
          "bdata": "vwNnADAAKQAZABYAFQAUABAAEAAPAA0ADAAMAAoACgAKAAoACQAJAAkACAAIAAgABwAHAAcABwAHAAYABgAGAAYABgAGAAYABgAGAAYABQAFAAUABQAFAAUABQAFAAUABQAFAAUABQAFAAUABQAEAAQABAAEAAQABAAEAAQABAAEAAQABAAEAAQABAAEAAQABAAEAAQABAAEAAQAAwADAAMAAwADAAMAAwADAAMAAwADAAMAAwADAAMAAwADAAMAAwADAAMAAwADAAMAAwADAAMAAwADAAMAAwADAAMAAwADAAMAAwADAAMAAwADAAMAAwADAAMAAwADAAMAAwADAAMAAwADAAMAAwADAAIAAgACAAIAAgACAAIAAgACAAIAAgACAAIAAgACAAIAAgACAAIAAgACAAIAAgACAAIAAgACAAIAAgACAAIAAgACAAIAAgACAAIAAgACAAIAAgACAAIAAgACAAIAAgACAAIAAgACAAIAAgACAAIAAgACAAIAAgACAAIAAgACAAIAAgACAAIAAgACAAIAAgACAAIAAgACAAIAAgACAAIAAgACAAIAAgACAAIAAgACAAIAAgACAAIAAgACAAIAAgACAAIAAgACAAIAAgACAAIAAgACAAIAAgACAAIAAgABAAEAAQABAAEAAQABAAEAAQABAAEAAQABAAEAAQABAAEAAQABAAEAAQABAAEAAQABAAEAAQABAAEAAQABAAEAAQABAAEAAQABAAEAAQABAAEAAQABAAEAAQABAAEAAQABAAEAAQABAAEAAQABAAEAAQABAAEAAQABAAEAAQABAAEAAQABAAEAAQABAAEAAQABAAEAAQABAAEAAQABAAEAAQABAAEAAQABAAEAAQABAAEAAQABAAEAAQABAAEAAQABAAEAAQABAAEAAQABAAEAAQABAAEAAQABAAEAAQABAAEAAQABAAEAAQABAAEAAQABAAEAAQABAAEAAQABAAEAAQABAAEAAQABAAEAAQABAAEAAQABAAEAAQABAAEAAQABAAEAAQABAAEAAQABAAEAAQABAAEAAQABAAEAAQABAAEAAQABAAEAAQABAAEAAQABAAEAAQABAAEAAQABAAEAAQABAAEAAQABAAEAAQABAAEAAQABAAEAAQABAAEAAQABAAEAAQABAAEAAQABAAEAAQABAAEAAQABAAEAAQABAAEAAQABAAEAAQABAAEAAQABAAEAAQABAAEAAQABAAEAAQABAAEAAQABAAEAAQABAAEAAQABAA=="
         },
         "yaxis": "y",
         "type": "bar"
        }
       ],
       "layout": {
        "template": {
         "data": {
          "histogram2dcontour": [
           {
            "type": "histogram2dcontour",
            "colorbar": {
             "outlinewidth": 0,
             "ticks": ""
            },
            "colorscale": [
             [
              0.0,
              "#0d0887"
             ],
             [
              0.1111111111111111,
              "#46039f"
             ],
             [
              0.2222222222222222,
              "#7201a8"
             ],
             [
              0.3333333333333333,
              "#9c179e"
             ],
             [
              0.4444444444444444,
              "#bd3786"
             ],
             [
              0.5555555555555556,
              "#d8576b"
             ],
             [
              0.6666666666666666,
              "#ed7953"
             ],
             [
              0.7777777777777778,
              "#fb9f3a"
             ],
             [
              0.8888888888888888,
              "#fdca26"
             ],
             [
              1.0,
              "#f0f921"
             ]
            ]
           }
          ],
          "choropleth": [
           {
            "type": "choropleth",
            "colorbar": {
             "outlinewidth": 0,
             "ticks": ""
            }
           }
          ],
          "histogram2d": [
           {
            "type": "histogram2d",
            "colorbar": {
             "outlinewidth": 0,
             "ticks": ""
            },
            "colorscale": [
             [
              0.0,
              "#0d0887"
             ],
             [
              0.1111111111111111,
              "#46039f"
             ],
             [
              0.2222222222222222,
              "#7201a8"
             ],
             [
              0.3333333333333333,
              "#9c179e"
             ],
             [
              0.4444444444444444,
              "#bd3786"
             ],
             [
              0.5555555555555556,
              "#d8576b"
             ],
             [
              0.6666666666666666,
              "#ed7953"
             ],
             [
              0.7777777777777778,
              "#fb9f3a"
             ],
             [
              0.8888888888888888,
              "#fdca26"
             ],
             [
              1.0,
              "#f0f921"
             ]
            ]
           }
          ],
          "heatmap": [
           {
            "type": "heatmap",
            "colorbar": {
             "outlinewidth": 0,
             "ticks": ""
            },
            "colorscale": [
             [
              0.0,
              "#0d0887"
             ],
             [
              0.1111111111111111,
              "#46039f"
             ],
             [
              0.2222222222222222,
              "#7201a8"
             ],
             [
              0.3333333333333333,
              "#9c179e"
             ],
             [
              0.4444444444444444,
              "#bd3786"
             ],
             [
              0.5555555555555556,
              "#d8576b"
             ],
             [
              0.6666666666666666,
              "#ed7953"
             ],
             [
              0.7777777777777778,
              "#fb9f3a"
             ],
             [
              0.8888888888888888,
              "#fdca26"
             ],
             [
              1.0,
              "#f0f921"
             ]
            ]
           }
          ],
          "contourcarpet": [
           {
            "type": "contourcarpet",
            "colorbar": {
             "outlinewidth": 0,
             "ticks": ""
            }
           }
          ],
          "contour": [
           {
            "type": "contour",
            "colorbar": {
             "outlinewidth": 0,
             "ticks": ""
            },
            "colorscale": [
             [
              0.0,
              "#0d0887"
             ],
             [
              0.1111111111111111,
              "#46039f"
             ],
             [
              0.2222222222222222,
              "#7201a8"
             ],
             [
              0.3333333333333333,
              "#9c179e"
             ],
             [
              0.4444444444444444,
              "#bd3786"
             ],
             [
              0.5555555555555556,
              "#d8576b"
             ],
             [
              0.6666666666666666,
              "#ed7953"
             ],
             [
              0.7777777777777778,
              "#fb9f3a"
             ],
             [
              0.8888888888888888,
              "#fdca26"
             ],
             [
              1.0,
              "#f0f921"
             ]
            ]
           }
          ],
          "surface": [
           {
            "type": "surface",
            "colorbar": {
             "outlinewidth": 0,
             "ticks": ""
            },
            "colorscale": [
             [
              0.0,
              "#0d0887"
             ],
             [
              0.1111111111111111,
              "#46039f"
             ],
             [
              0.2222222222222222,
              "#7201a8"
             ],
             [
              0.3333333333333333,
              "#9c179e"
             ],
             [
              0.4444444444444444,
              "#bd3786"
             ],
             [
              0.5555555555555556,
              "#d8576b"
             ],
             [
              0.6666666666666666,
              "#ed7953"
             ],
             [
              0.7777777777777778,
              "#fb9f3a"
             ],
             [
              0.8888888888888888,
              "#fdca26"
             ],
             [
              1.0,
              "#f0f921"
             ]
            ]
           }
          ],
          "mesh3d": [
           {
            "type": "mesh3d",
            "colorbar": {
             "outlinewidth": 0,
             "ticks": ""
            }
           }
          ],
          "scatter": [
           {
            "fillpattern": {
             "fillmode": "overlay",
             "size": 10,
             "solidity": 0.2
            },
            "type": "scatter"
           }
          ],
          "parcoords": [
           {
            "type": "parcoords",
            "line": {
             "colorbar": {
              "outlinewidth": 0,
              "ticks": ""
             }
            }
           }
          ],
          "scatterpolargl": [
           {
            "type": "scatterpolargl",
            "marker": {
             "colorbar": {
              "outlinewidth": 0,
              "ticks": ""
             }
            }
           }
          ],
          "bar": [
           {
            "error_x": {
             "color": "#2a3f5f"
            },
            "error_y": {
             "color": "#2a3f5f"
            },
            "marker": {
             "line": {
              "color": "#E5ECF6",
              "width": 0.5
             },
             "pattern": {
              "fillmode": "overlay",
              "size": 10,
              "solidity": 0.2
             }
            },
            "type": "bar"
           }
          ],
          "scattergeo": [
           {
            "type": "scattergeo",
            "marker": {
             "colorbar": {
              "outlinewidth": 0,
              "ticks": ""
             }
            }
           }
          ],
          "scatterpolar": [
           {
            "type": "scatterpolar",
            "marker": {
             "colorbar": {
              "outlinewidth": 0,
              "ticks": ""
             }
            }
           }
          ],
          "histogram": [
           {
            "marker": {
             "pattern": {
              "fillmode": "overlay",
              "size": 10,
              "solidity": 0.2
             }
            },
            "type": "histogram"
           }
          ],
          "scattergl": [
           {
            "type": "scattergl",
            "marker": {
             "colorbar": {
              "outlinewidth": 0,
              "ticks": ""
             }
            }
           }
          ],
          "scatter3d": [
           {
            "type": "scatter3d",
            "line": {
             "colorbar": {
              "outlinewidth": 0,
              "ticks": ""
             }
            },
            "marker": {
             "colorbar": {
              "outlinewidth": 0,
              "ticks": ""
             }
            }
           }
          ],
          "scattermap": [
           {
            "type": "scattermap",
            "marker": {
             "colorbar": {
              "outlinewidth": 0,
              "ticks": ""
             }
            }
           }
          ],
          "scattermapbox": [
           {
            "type": "scattermapbox",
            "marker": {
             "colorbar": {
              "outlinewidth": 0,
              "ticks": ""
             }
            }
           }
          ],
          "scatterternary": [
           {
            "type": "scatterternary",
            "marker": {
             "colorbar": {
              "outlinewidth": 0,
              "ticks": ""
             }
            }
           }
          ],
          "scattercarpet": [
           {
            "type": "scattercarpet",
            "marker": {
             "colorbar": {
              "outlinewidth": 0,
              "ticks": ""
             }
            }
           }
          ],
          "carpet": [
           {
            "aaxis": {
             "endlinecolor": "#2a3f5f",
             "gridcolor": "white",
             "linecolor": "white",
             "minorgridcolor": "white",
             "startlinecolor": "#2a3f5f"
            },
            "baxis": {
             "endlinecolor": "#2a3f5f",
             "gridcolor": "white",
             "linecolor": "white",
             "minorgridcolor": "white",
             "startlinecolor": "#2a3f5f"
            },
            "type": "carpet"
           }
          ],
          "table": [
           {
            "cells": {
             "fill": {
              "color": "#EBF0F8"
             },
             "line": {
              "color": "white"
             }
            },
            "header": {
             "fill": {
              "color": "#C8D4E3"
             },
             "line": {
              "color": "white"
             }
            },
            "type": "table"
           }
          ],
          "barpolar": [
           {
            "marker": {
             "line": {
              "color": "#E5ECF6",
              "width": 0.5
             },
             "pattern": {
              "fillmode": "overlay",
              "size": 10,
              "solidity": 0.2
             }
            },
            "type": "barpolar"
           }
          ],
          "pie": [
           {
            "automargin": true,
            "type": "pie"
           }
          ]
         },
         "layout": {
          "autotypenumbers": "strict",
          "colorway": [
           "#636efa",
           "#EF553B",
           "#00cc96",
           "#ab63fa",
           "#FFA15A",
           "#19d3f3",
           "#FF6692",
           "#B6E880",
           "#FF97FF",
           "#FECB52"
          ],
          "font": {
           "color": "#2a3f5f"
          },
          "hovermode": "closest",
          "hoverlabel": {
           "align": "left"
          },
          "paper_bgcolor": "white",
          "plot_bgcolor": "#E5ECF6",
          "polar": {
           "bgcolor": "#E5ECF6",
           "angularaxis": {
            "gridcolor": "white",
            "linecolor": "white",
            "ticks": ""
           },
           "radialaxis": {
            "gridcolor": "white",
            "linecolor": "white",
            "ticks": ""
           }
          },
          "ternary": {
           "bgcolor": "#E5ECF6",
           "aaxis": {
            "gridcolor": "white",
            "linecolor": "white",
            "ticks": ""
           },
           "baxis": {
            "gridcolor": "white",
            "linecolor": "white",
            "ticks": ""
           },
           "caxis": {
            "gridcolor": "white",
            "linecolor": "white",
            "ticks": ""
           }
          },
          "coloraxis": {
           "colorbar": {
            "outlinewidth": 0,
            "ticks": ""
           }
          },
          "colorscale": {
           "sequential": [
            [
             0.0,
             "#0d0887"
            ],
            [
             0.1111111111111111,
             "#46039f"
            ],
            [
             0.2222222222222222,
             "#7201a8"
            ],
            [
             0.3333333333333333,
             "#9c179e"
            ],
            [
             0.4444444444444444,
             "#bd3786"
            ],
            [
             0.5555555555555556,
             "#d8576b"
            ],
            [
             0.6666666666666666,
             "#ed7953"
            ],
            [
             0.7777777777777778,
             "#fb9f3a"
            ],
            [
             0.8888888888888888,
             "#fdca26"
            ],
            [
             1.0,
             "#f0f921"
            ]
           ],
           "sequentialminus": [
            [
             0.0,
             "#0d0887"
            ],
            [
             0.1111111111111111,
             "#46039f"
            ],
            [
             0.2222222222222222,
             "#7201a8"
            ],
            [
             0.3333333333333333,
             "#9c179e"
            ],
            [
             0.4444444444444444,
             "#bd3786"
            ],
            [
             0.5555555555555556,
             "#d8576b"
            ],
            [
             0.6666666666666666,
             "#ed7953"
            ],
            [
             0.7777777777777778,
             "#fb9f3a"
            ],
            [
             0.8888888888888888,
             "#fdca26"
            ],
            [
             1.0,
             "#f0f921"
            ]
           ],
           "diverging": [
            [
             0,
             "#8e0152"
            ],
            [
             0.1,
             "#c51b7d"
            ],
            [
             0.2,
             "#de77ae"
            ],
            [
             0.3,
             "#f1b6da"
            ],
            [
             0.4,
             "#fde0ef"
            ],
            [
             0.5,
             "#f7f7f7"
            ],
            [
             0.6,
             "#e6f5d0"
            ],
            [
             0.7,
             "#b8e186"
            ],
            [
             0.8,
             "#7fbc41"
            ],
            [
             0.9,
             "#4d9221"
            ],
            [
             1,
             "#276419"
            ]
           ]
          },
          "xaxis": {
           "gridcolor": "white",
           "linecolor": "white",
           "ticks": "",
           "title": {
            "standoff": 15
           },
           "zerolinecolor": "white",
           "automargin": true,
           "zerolinewidth": 2
          },
          "yaxis": {
           "gridcolor": "white",
           "linecolor": "white",
           "ticks": "",
           "title": {
            "standoff": 15
           },
           "zerolinecolor": "white",
           "automargin": true,
           "zerolinewidth": 2
          },
          "scene": {
           "xaxis": {
            "backgroundcolor": "#E5ECF6",
            "gridcolor": "white",
            "linecolor": "white",
            "showbackground": true,
            "ticks": "",
            "zerolinecolor": "white",
            "gridwidth": 2
           },
           "yaxis": {
            "backgroundcolor": "#E5ECF6",
            "gridcolor": "white",
            "linecolor": "white",
            "showbackground": true,
            "ticks": "",
            "zerolinecolor": "white",
            "gridwidth": 2
           },
           "zaxis": {
            "backgroundcolor": "#E5ECF6",
            "gridcolor": "white",
            "linecolor": "white",
            "showbackground": true,
            "ticks": "",
            "zerolinecolor": "white",
            "gridwidth": 2
           }
          },
          "shapedefaults": {
           "line": {
            "color": "#2a3f5f"
           }
          },
          "annotationdefaults": {
           "arrowcolor": "#2a3f5f",
           "arrowhead": 0,
           "arrowwidth": 1
          },
          "geo": {
           "bgcolor": "white",
           "landcolor": "#E5ECF6",
           "subunitcolor": "white",
           "showland": true,
           "showlakes": true,
           "lakecolor": "white"
          },
          "title": {
           "x": 0.05
          },
          "mapbox": {
           "style": "light"
          }
         }
        },
        "xaxis": {
         "anchor": "y",
         "domain": [
          0.0,
          1.0
         ],
         "title": {
          "text": "Vector"
         }
        },
        "yaxis": {
         "anchor": "x",
         "domain": [
          0.0,
          1.0
         ],
         "title": {
          "text": "Count"
         },
         "type": "log"
        },
        "legend": {
         "tracegroupgap": 0
        },
        "title": {
         "text": "12-Month WOMAC Drop Vectors (Left Knee)"
        },
        "barmode": "relative"
       },
       "config": {
        "plotlyServerURL": "https://plot.ly"
       }
      }
     },
     "metadata": {},
     "output_type": "display_data"
    },
    {
     "data": {
      "text/plain": [
       "     V01WOMADLR  V01WOMKPR  V01WOMSTFR  Count     Vector\n",
       "0             0          0           0    869    (0,0,0)\n",
       "1             0          0           1     75    (0,0,1)\n",
       "33            2          0           0     51    (2,0,0)\n",
       "20            1          0           0     49    (1,0,0)\n",
       "4             0          1           0     48    (0,1,0)\n",
       "..          ...        ...         ...    ...        ...\n",
       "285          16          7           3      1   (16,7,3)\n",
       "43            2          2           2      1    (2,2,2)\n",
       "44            2          2           3      1    (2,2,3)\n",
       "282          16          5           3      1   (16,5,3)\n",
       "510          58         14           6      1  (58,14,6)\n",
       "\n",
       "[511 rows x 5 columns]"
      ],
      "text/html": [
       "<div>\n",
       "<style scoped>\n",
       "    .dataframe tbody tr th:only-of-type {\n",
       "        vertical-align: middle;\n",
       "    }\n",
       "\n",
       "    .dataframe tbody tr th {\n",
       "        vertical-align: top;\n",
       "    }\n",
       "\n",
       "    .dataframe thead th {\n",
       "        text-align: right;\n",
       "    }\n",
       "</style>\n",
       "<table border=\"1\" class=\"dataframe\">\n",
       "  <thead>\n",
       "    <tr style=\"text-align: right;\">\n",
       "      <th></th>\n",
       "      <th>V01WOMADLR</th>\n",
       "      <th>V01WOMKPR</th>\n",
       "      <th>V01WOMSTFR</th>\n",
       "      <th>Count</th>\n",
       "      <th>Vector</th>\n",
       "    </tr>\n",
       "  </thead>\n",
       "  <tbody>\n",
       "    <tr>\n",
       "      <th>0</th>\n",
       "      <td>0</td>\n",
       "      <td>0</td>\n",
       "      <td>0</td>\n",
       "      <td>869</td>\n",
       "      <td>(0,0,0)</td>\n",
       "    </tr>\n",
       "    <tr>\n",
       "      <th>1</th>\n",
       "      <td>0</td>\n",
       "      <td>0</td>\n",
       "      <td>1</td>\n",
       "      <td>75</td>\n",
       "      <td>(0,0,1)</td>\n",
       "    </tr>\n",
       "    <tr>\n",
       "      <th>33</th>\n",
       "      <td>2</td>\n",
       "      <td>0</td>\n",
       "      <td>0</td>\n",
       "      <td>51</td>\n",
       "      <td>(2,0,0)</td>\n",
       "    </tr>\n",
       "    <tr>\n",
       "      <th>20</th>\n",
       "      <td>1</td>\n",
       "      <td>0</td>\n",
       "      <td>0</td>\n",
       "      <td>49</td>\n",
       "      <td>(1,0,0)</td>\n",
       "    </tr>\n",
       "    <tr>\n",
       "      <th>4</th>\n",
       "      <td>0</td>\n",
       "      <td>1</td>\n",
       "      <td>0</td>\n",
       "      <td>48</td>\n",
       "      <td>(0,1,0)</td>\n",
       "    </tr>\n",
       "    <tr>\n",
       "      <th>...</th>\n",
       "      <td>...</td>\n",
       "      <td>...</td>\n",
       "      <td>...</td>\n",
       "      <td>...</td>\n",
       "      <td>...</td>\n",
       "    </tr>\n",
       "    <tr>\n",
       "      <th>285</th>\n",
       "      <td>16</td>\n",
       "      <td>7</td>\n",
       "      <td>3</td>\n",
       "      <td>1</td>\n",
       "      <td>(16,7,3)</td>\n",
       "    </tr>\n",
       "    <tr>\n",
       "      <th>43</th>\n",
       "      <td>2</td>\n",
       "      <td>2</td>\n",
       "      <td>2</td>\n",
       "      <td>1</td>\n",
       "      <td>(2,2,2)</td>\n",
       "    </tr>\n",
       "    <tr>\n",
       "      <th>44</th>\n",
       "      <td>2</td>\n",
       "      <td>2</td>\n",
       "      <td>3</td>\n",
       "      <td>1</td>\n",
       "      <td>(2,2,3)</td>\n",
       "    </tr>\n",
       "    <tr>\n",
       "      <th>282</th>\n",
       "      <td>16</td>\n",
       "      <td>5</td>\n",
       "      <td>3</td>\n",
       "      <td>1</td>\n",
       "      <td>(16,5,3)</td>\n",
       "    </tr>\n",
       "    <tr>\n",
       "      <th>510</th>\n",
       "      <td>58</td>\n",
       "      <td>14</td>\n",
       "      <td>6</td>\n",
       "      <td>1</td>\n",
       "      <td>(58,14,6)</td>\n",
       "    </tr>\n",
       "  </tbody>\n",
       "</table>\n",
       "<p>511 rows × 5 columns</p>\n",
       "</div>"
      ]
     },
     "metadata": {},
     "output_type": "display_data"
    },
    {
     "data": {
      "application/vnd.plotly.v1+json": {
       "data": [
        {
         "hovertemplate": "Vector=%{x}<br>Count=%{y}<extra></extra>",
         "legendgroup": "",
         "marker": {
          "color": "#636efa",
          "pattern": {
           "shape": ""
          }
         },
         "name": "",
         "orientation": "v",
         "showlegend": false,
         "textposition": "auto",
         "x": [
          "(0,0,0)",
          "(0,0,1)",
          "(2,0,0)",
          "(1,0,0)",
          "(0,1,0)",
          "(1,0,1)",
          "(3,0,0)",
          "(4,0,0)",
          "(2,0,1)",
          "(7,0,1)",
          "(1,1,0)",
          "(3,0,1)",
          "(5,0,0)",
          "(0,2,0)",
          "(5,0,1)",
          "(7,2,0)",
          "(1,1,1)",
          "(7,1,1)",
          "(5,1,1)",
          "(7,0,0)",
          "(3,1,1)",
          "(6,0,1)",
          "(3,0,2)",
          "(2,1,0)",
          "(6,0,0)",
          "(0,1,1)",
          "(8,0,1)",
          "(11,2,1)",
          "(6,1,0)",
          "(3,1,0)",
          "(10,1,1)",
          "(7,0,2)",
          "(13,3,1)",
          "(7,1,0)",
          "(12,1,1)",
          "(13,2,1)",
          "(0,1,3)",
          "(0,0,2)",
          "(5,2,1)",
          "(4,1,0)",
          "(9,1,0)",
          "(18,3,2)",
          "(2,2,0)",
          "(3,0,3)",
          "(12,2,2)",
          "(4,3,1)",
          "(0,2,1)",
          "(4,0,2)",
          "(23,7,3)",
          "(6,1,1)",
          "(9,0,3)",
          "(6,2,1)",
          "(8,1,1)",
          "(4,1,1)",
          "(4,2,0)",
          "(10,4,1)",
          "(12,6,2)",
          "(13,4,3)",
          "(3,6,1)",
          "(11,4,1)",
          "(4,0,1)",
          "(10,3,1)",
          "(11,3,1)",
          "(11,0,1)",
          "(7,1,3)",
          "(2,3,0)",
          "(19,3,3)",
          "(2,0,2)",
          "(14,3,3)",
          "(2,2,1)",
          "(7,3,1)",
          "(25,6,3)",
          "(9,2,0)",
          "(25,4,3)",
          "(0,8,1)",
          "(15,1,0)",
          "(6,0,2)",
          "(21,4,1)",
          "(10,4,0)",
          "(7,2,1)",
          "(10,5,1)",
          "(10,3,3)",
          "(8,2,3)",
          "(7,6,0)",
          "(8,4,2)",
          "(10,3,0)",
          "(9,1,1)",
          "(9,2,1)",
          "(9,3,1)",
          "(10,0,0)",
          "(24,7,1)",
          "(13,3,2)",
          "(11,1,0)",
          "(20,7,3)",
          "(16,7,2)",
          "(17,5,0)",
          "(18,5,1)",
          "(18,5,2)",
          "(27,8,1)",
          "(27,6,3)",
          "(21,6,2)",
          "(11,2,0)",
          "(22,5,3)",
          "(23,2,0)",
          "(23,3,2)",
          "(26,8,1)",
          "(23,4,3)",
          "(23,9,3)",
          "(16,6,3)",
          "(16,5,1)",
          "(16,2,1)",
          "(29,3,3)",
          "(36,9,5)",
          "(15,7,3)",
          "(15,4,2)",
          "(15,4,1)",
          "(14,7,2)",
          "(14,5,0)",
          "(14,1,2)",
          "(24,4,3)",
          "(13,3,0)",
          "(11,5,0)",
          "(11,2,3)",
          "(37,9,3)",
          "(11,2,2)",
          "(14,0,1)",
          "(14,8,2)",
          "(5,1,0)",
          "(6,4,2)",
          "(0,2,2)",
          "(0,3,1)",
          "(6,1,2)",
          "(0,0,3)",
          "(2,1,1)",
          "(0,3,0)",
          "(0,5,1)",
          "(3,2,0)",
          "(6,2,0)",
          "(7,0,3)",
          "(6,2,5)",
          "(5,4,3)",
          "(2,3,1)",
          "(4,2,1)",
          "(1,4,0)",
          "(30,6,3)",
          "(12,6,0)",
          "(15,3,1)",
          "(31,5,4)",
          "(13,1,0)",
          "(13,0,3)",
          "(13,0,1)",
          "(16,0,0)",
          "(31,10,3)",
          "(27,7,3)",
          "(12,5,1)",
          "(16,2,3)",
          "(12,4,1)",
          "(16,3,1)",
          "(15,2,3)",
          "(15,1,3)",
          "(30,5,3)",
          "(28,5,4)",
          "(4,2,3)",
          "(14,8,3)",
          "(30,10,4)",
          "(3,3,2)",
          "(14,5,1)",
          "(14,4,2)",
          "(4,2,2)",
          "(14,3,2)",
          "(14,3,1)",
          "(1,2,0)",
          "(14,2,1)",
          "(29,6,3)",
          "(29,7,2)",
          "(7,1,2)",
          "(24,8,2)",
          "(16,7,4)",
          "(23,1,2)",
          "(23,4,0)",
          "(20,6,1)",
          "(23,3,3)",
          "(23,3,1)",
          "(20,7,4)",
          "(20,10,2)",
          "(21,2,2)",
          "(21,5,3)",
          "(17,3,1)",
          "(21,5,4)",
          "(21,6,1)",
          "(1,2,1)",
          "(21,7,3)",
          "(21,8,2)",
          "(22,6,3)",
          "(22,3,5)",
          "(20,5,2)",
          "(20,5,1)",
          "(20,4,2)",
          "(20,3,2)",
          "(17,5,2)",
          "(12,2,3)",
          "(2,1,2)",
          "(18,3,3)",
          "(2,0,3)",
          "(18,6,2)",
          "(18,7,3)",
          "(0,7,0)",
          "(23,9,2)",
          "(19,2,2)",
          "(23,9,1)",
          "(19,4,2)",
          "(19,4,3)",
          "(23,8,1)",
          "(1,0,2)",
          "(12,3,0)",
          "(14,2,2)",
          "(46,8,5)",
          "(47,11,7)",
          "(47,10,3)",
          "(5,3,1)",
          "(45,13,3)",
          "(33,10,2)",
          "(5,0,2)",
          "(10,2,3)",
          "(11,1,2)",
          "(8,2,1)",
          "(43,10,2)",
          "(39,12,4)",
          "(9,0,0)",
          "(9,3,0)",
          "(9,2,4)",
          "(9,2,2)",
          "(6,2,2)",
          "(11,0,0)",
          "(40,0,5)",
          "(10,3,2)",
          "(10,3,4)",
          "(8,0,0)",
          "(5,3,0)",
          "(38,13,6)",
          "(10,1,3)",
          "(10,0,1)",
          "(9,4,2)",
          "(32,13,4)",
          "(4,3,3)",
          "(7,4,2)",
          "(11,7,4)",
          "(12,1,2)",
          "(11,7,2)",
          "(12,2,0)",
          "(32,9,4)",
          "(12,2,1)",
          "(10,2,0)",
          "(7,4,3)",
          "(32,12,3)",
          "(12,1,0)",
          "(23,8,4)",
          "(39,12,5)",
          "(23,8,3)",
          "(23,9,4)",
          "(24,8,1)",
          "(37,9,5)",
          "(37,10,5)",
          "(24,2,2)",
          "(39,9,2)",
          "(24,3,1)",
          "(24,4,2)",
          "(24,6,5)",
          "(0,5,2)",
          "(31,12,5)",
          "(41,14,4)",
          "(40,7,7)",
          "(23,2,2)",
          "(22,6,2)",
          "(56,14,6)",
          "(53,16,6)",
          "(22,6,4)",
          "(22,7,3)",
          "(22,8,1)",
          "(22,8,3)",
          "(49,11,5)",
          "(47,13,4)",
          "(22,9,2)",
          "(1,1,3)",
          "(44,14,5)",
          "(43,14,4)",
          "(40,9,3)",
          "(1,1,2)",
          "(43,11,0)",
          "(42,8,5)",
          "(36,11,1)",
          "(23,4,1)",
          "(40,12,3)",
          "(40,10,5)",
          "(1,0,3)",
          "(23,5,2)",
          "(23,5,3)",
          "(23,6,2)",
          "(23,7,2)",
          "(36,13,4)",
          "(25,12,3)",
          "(25,2,3)",
          "(33,5,2)",
          "(28,8,2)",
          "(28,8,3)",
          "(34,11,5)",
          "(28,10,4)",
          "(34,8,2)",
          "(29,3,2)",
          "(0,2,3)",
          "(29,5,1)",
          "(34,7,4)",
          "(29,6,2)",
          "(33,14,5)",
          "(33,9,3)",
          "(33,7,3)",
          "(29,10,1)",
          "(35,11,3)",
          "(29,12,3)",
          "(30,4,3)",
          "(30,5,2)",
          "(30,6,4)",
          "(30,8,4)",
          "(32,10,5)",
          "(31,3,4)",
          "(32,6,3)",
          "(32,3,5)",
          "(31,13,5)",
          "(31,6,3)",
          "(31,6,5)",
          "(31,9,3)",
          "(35,4,3)",
          "(28,4,5)",
          "(0,5,0)",
          "(26,10,2)",
          "(25,5,3)",
          "(25,5,6)",
          "(0,4,1)",
          "(25,7,1)",
          "(25,8,3)",
          "(25,9,3)",
          "(31,11,3)",
          "(26,3,4)",
          "(26,6,2)",
          "(0,3,2)",
          "(26,8,3)",
          "(26,9,2)",
          "(26,9,3)",
          "(36,10,5)",
          "(28,3,5)",
          "(27,3,3)",
          "(27,4,4)",
          "(27,4,5)",
          "(27,5,0)",
          "(27,6,2)",
          "(36,7,3)",
          "(27,6,4)",
          "(36,7,2)",
          "(27,10,0)",
          "(36,4,3)",
          "(27,11,5)",
          "(28,3,2)",
          "(35,12,2)",
          "(22,5,5)",
          "(19,3,2)",
          "(22,4,3)",
          "(11,0,3)",
          "(4,3,2)",
          "(12,0,3)",
          "(12,0,2)",
          "(12,0,1)",
          "(11,5,3)",
          "(4,3,5)",
          "(11,4,2)",
          "(4,4,2)",
          "(11,4,0)",
          "(11,3,3)",
          "(4,5,0)",
          "(11,2,4)",
          "(4,7,0)",
          "(5,1,2)",
          "(11,1,1)",
          "(12,3,2)",
          "(12,5,3)",
          "(4,3,0)",
          "(4,0,3)",
          "(14,2,0)",
          "(3,4,1)",
          "(14,1,1)",
          "(14,1,0)",
          "(3,5,0)",
          "(13,5,3)",
          "(13,4,2)",
          "(12,7,5)",
          "(13,3,3)",
          "(4,1,3)",
          "(13,2,2)",
          "(13,2,0)",
          "(13,1,1)",
          "(12,9,4)",
          "(5,2,0)",
          "(5,2,3)",
          "(22,4,1)",
          "(10,6,1)",
          "(9,0,2)",
          "(9,0,1)",
          "(8,3,2)",
          "(8,3,0)",
          "(6,5,0)",
          "(8,2,0)",
          "(6,5,2)",
          "(8,1,0)",
          "(8,0,2)",
          "(6,5,3)",
          "(6,6,0)",
          "(7,5,3)",
          "(7,4,4)",
          "(7,3,2)",
          "(6,7,0)",
          "(6,3,4)",
          "(6,3,2)",
          "(6,3,1)",
          "(10,0,2)",
          "(10,5,2)",
          "(10,4,2)",
          "(5,3,2)",
          "(5,4,0)",
          "(5,5,0)",
          "(5,7,0)",
          "(9,7,1)",
          "(9,1,2)",
          "(9,6,2)",
          "(9,5,0)",
          "(9,4,1)",
          "(9,4,0)",
          "(9,3,2)",
          "(9,1,3)",
          "(3,4,0)",
          "(3,3,3)",
          "(14,6,2)",
          "(14,7,1)",
          "(19,7,1)",
          "(19,6,3)",
          "(19,6,1)",
          "(19,5,3)",
          "(19,5,1)",
          "(1,5,0)",
          "(19,1,1)",
          "(18,9,1)",
          "(18,8,4)",
          "(18,8,3)",
          "(18,7,0)",
          "(18,6,5)",
          "(18,6,3)",
          "(18,6,1)",
          "(18,5,3)",
          "(19,9,3)",
          "(20,0,3)",
          "(20,1,1)",
          "(21,3,1)",
          "(22,3,3)",
          "(22,3,0)",
          "(21,10,5)",
          "(21,8,3)",
          "(21,8,1)",
          "(21,5,0)",
          "(21,2,1)",
          "(20,2,0)",
          "(20,8,1)",
          "(1,4,1)",
          "(20,7,1)",
          "(20,6,2)",
          "(20,5,4)",
          "(20,4,3)",
          "(18,4,5)",
          "(18,2,3)",
          "(18,0,3)",
          "(3,2,1)",
          "(16,3,2)",
          "(16,2,2)",
          "(2,3,2)",
          "(16,0,1)",
          "(3,1,2)",
          "(15,6,1)",
          "(15,3,2)",
          "(16,3,4)",
          "(15,2,1)",
          "(15,2,0)",
          "(15,1,1)",
          "(3,2,3)",
          "(15,0,1)",
          "(3,3,0)",
          "(16,3,3)",
          "(16,4,1)",
          "(17,8,3)",
          "(17,2,0)",
          "(17,6,0)",
          "(2,1,4)",
          "(17,4,3)",
          "(17,4,1)",
          "(17,3,3)",
          "(17,2,1)",
          "(17,1,3)",
          "(16,4,4)",
          "(17,0,2)",
          "(16,10,3)",
          "(16,7,3)",
          "(2,2,2)",
          "(2,2,3)",
          "(16,5,3)",
          "(58,14,6)"
         ],
         "xaxis": "x",
         "y": {
          "dtype": "i2",
          "bdata": "ZQNLADMAMQAwAB0AGwAVABQAEwARAA0ADAAMAAoACgAJAAkACQAJAAgACAAIAAgACAAIAAcABwAHAAcABwAHAAcABwAGAAYABgAGAAYABgAGAAYABQAFAAUABQAFAAUABQAFAAUABQAFAAUABQAEAAQABAAEAAQABAAEAAQABAAEAAQABAAEAAQABAAEAAQABAAEAAQABAAEAAQAAwADAAMAAwADAAMAAwADAAMAAwADAAMAAwADAAMAAwADAAMAAwADAAMAAwADAAMAAwADAAMAAwADAAMAAwADAAMAAwADAAMAAwADAAMAAwADAAMAAwADAAMAAwADAAMAAwADAAMAAwADAAMAAwADAAMAAwADAAMAAwADAAMAAwADAAMAAgACAAIAAgACAAIAAgACAAIAAgACAAIAAgACAAIAAgACAAIAAgACAAIAAgACAAIAAgACAAIAAgACAAIAAgACAAIAAgACAAIAAgACAAIAAgACAAIAAgACAAIAAgACAAIAAgACAAIAAgACAAIAAgACAAIAAgACAAIAAgACAAIAAgACAAIAAgACAAIAAgACAAIAAgACAAIAAgACAAIAAgACAAIAAgACAAIAAgACAAIAAgACAAIAAgACAAIAAgACAAIAAgACAAIAAgACAAIAAgACAAIAAgACAAIAAgACAAIAAgABAAEAAQABAAEAAQABAAEAAQABAAEAAQABAAEAAQABAAEAAQABAAEAAQABAAEAAQABAAEAAQABAAEAAQABAAEAAQABAAEAAQABAAEAAQABAAEAAQABAAEAAQABAAEAAQABAAEAAQABAAEAAQABAAEAAQABAAEAAQABAAEAAQABAAEAAQABAAEAAQABAAEAAQABAAEAAQABAAEAAQABAAEAAQABAAEAAQABAAEAAQABAAEAAQABAAEAAQABAAEAAQABAAEAAQABAAEAAQABAAEAAQABAAEAAQABAAEAAQABAAEAAQABAAEAAQABAAEAAQABAAEAAQABAAEAAQABAAEAAQABAAEAAQABAAEAAQABAAEAAQABAAEAAQABAAEAAQABAAEAAQABAAEAAQABAAEAAQABAAEAAQABAAEAAQABAAEAAQABAAEAAQABAAEAAQABAAEAAQABAAEAAQABAAEAAQABAAEAAQABAAEAAQABAAEAAQABAAEAAQABAAEAAQABAAEAAQABAAEAAQABAAEAAQABAAEAAQABAAEAAQABAAEAAQABAAEAAQABAAEAAQABAAEAAQABAAEAAQABAAEAAQABAAEAAQABAAEAAQABAAEAAQABAAEAAQABAAEAAQABAAEAAQABAAEAAQABAAEAAQABAAEAAQABAAEAAQA="
         },
         "yaxis": "y",
         "type": "bar"
        }
       ],
       "layout": {
        "template": {
         "data": {
          "histogram2dcontour": [
           {
            "type": "histogram2dcontour",
            "colorbar": {
             "outlinewidth": 0,
             "ticks": ""
            },
            "colorscale": [
             [
              0.0,
              "#0d0887"
             ],
             [
              0.1111111111111111,
              "#46039f"
             ],
             [
              0.2222222222222222,
              "#7201a8"
             ],
             [
              0.3333333333333333,
              "#9c179e"
             ],
             [
              0.4444444444444444,
              "#bd3786"
             ],
             [
              0.5555555555555556,
              "#d8576b"
             ],
             [
              0.6666666666666666,
              "#ed7953"
             ],
             [
              0.7777777777777778,
              "#fb9f3a"
             ],
             [
              0.8888888888888888,
              "#fdca26"
             ],
             [
              1.0,
              "#f0f921"
             ]
            ]
           }
          ],
          "choropleth": [
           {
            "type": "choropleth",
            "colorbar": {
             "outlinewidth": 0,
             "ticks": ""
            }
           }
          ],
          "histogram2d": [
           {
            "type": "histogram2d",
            "colorbar": {
             "outlinewidth": 0,
             "ticks": ""
            },
            "colorscale": [
             [
              0.0,
              "#0d0887"
             ],
             [
              0.1111111111111111,
              "#46039f"
             ],
             [
              0.2222222222222222,
              "#7201a8"
             ],
             [
              0.3333333333333333,
              "#9c179e"
             ],
             [
              0.4444444444444444,
              "#bd3786"
             ],
             [
              0.5555555555555556,
              "#d8576b"
             ],
             [
              0.6666666666666666,
              "#ed7953"
             ],
             [
              0.7777777777777778,
              "#fb9f3a"
             ],
             [
              0.8888888888888888,
              "#fdca26"
             ],
             [
              1.0,
              "#f0f921"
             ]
            ]
           }
          ],
          "heatmap": [
           {
            "type": "heatmap",
            "colorbar": {
             "outlinewidth": 0,
             "ticks": ""
            },
            "colorscale": [
             [
              0.0,
              "#0d0887"
             ],
             [
              0.1111111111111111,
              "#46039f"
             ],
             [
              0.2222222222222222,
              "#7201a8"
             ],
             [
              0.3333333333333333,
              "#9c179e"
             ],
             [
              0.4444444444444444,
              "#bd3786"
             ],
             [
              0.5555555555555556,
              "#d8576b"
             ],
             [
              0.6666666666666666,
              "#ed7953"
             ],
             [
              0.7777777777777778,
              "#fb9f3a"
             ],
             [
              0.8888888888888888,
              "#fdca26"
             ],
             [
              1.0,
              "#f0f921"
             ]
            ]
           }
          ],
          "contourcarpet": [
           {
            "type": "contourcarpet",
            "colorbar": {
             "outlinewidth": 0,
             "ticks": ""
            }
           }
          ],
          "contour": [
           {
            "type": "contour",
            "colorbar": {
             "outlinewidth": 0,
             "ticks": ""
            },
            "colorscale": [
             [
              0.0,
              "#0d0887"
             ],
             [
              0.1111111111111111,
              "#46039f"
             ],
             [
              0.2222222222222222,
              "#7201a8"
             ],
             [
              0.3333333333333333,
              "#9c179e"
             ],
             [
              0.4444444444444444,
              "#bd3786"
             ],
             [
              0.5555555555555556,
              "#d8576b"
             ],
             [
              0.6666666666666666,
              "#ed7953"
             ],
             [
              0.7777777777777778,
              "#fb9f3a"
             ],
             [
              0.8888888888888888,
              "#fdca26"
             ],
             [
              1.0,
              "#f0f921"
             ]
            ]
           }
          ],
          "surface": [
           {
            "type": "surface",
            "colorbar": {
             "outlinewidth": 0,
             "ticks": ""
            },
            "colorscale": [
             [
              0.0,
              "#0d0887"
             ],
             [
              0.1111111111111111,
              "#46039f"
             ],
             [
              0.2222222222222222,
              "#7201a8"
             ],
             [
              0.3333333333333333,
              "#9c179e"
             ],
             [
              0.4444444444444444,
              "#bd3786"
             ],
             [
              0.5555555555555556,
              "#d8576b"
             ],
             [
              0.6666666666666666,
              "#ed7953"
             ],
             [
              0.7777777777777778,
              "#fb9f3a"
             ],
             [
              0.8888888888888888,
              "#fdca26"
             ],
             [
              1.0,
              "#f0f921"
             ]
            ]
           }
          ],
          "mesh3d": [
           {
            "type": "mesh3d",
            "colorbar": {
             "outlinewidth": 0,
             "ticks": ""
            }
           }
          ],
          "scatter": [
           {
            "fillpattern": {
             "fillmode": "overlay",
             "size": 10,
             "solidity": 0.2
            },
            "type": "scatter"
           }
          ],
          "parcoords": [
           {
            "type": "parcoords",
            "line": {
             "colorbar": {
              "outlinewidth": 0,
              "ticks": ""
             }
            }
           }
          ],
          "scatterpolargl": [
           {
            "type": "scatterpolargl",
            "marker": {
             "colorbar": {
              "outlinewidth": 0,
              "ticks": ""
             }
            }
           }
          ],
          "bar": [
           {
            "error_x": {
             "color": "#2a3f5f"
            },
            "error_y": {
             "color": "#2a3f5f"
            },
            "marker": {
             "line": {
              "color": "#E5ECF6",
              "width": 0.5
             },
             "pattern": {
              "fillmode": "overlay",
              "size": 10,
              "solidity": 0.2
             }
            },
            "type": "bar"
           }
          ],
          "scattergeo": [
           {
            "type": "scattergeo",
            "marker": {
             "colorbar": {
              "outlinewidth": 0,
              "ticks": ""
             }
            }
           }
          ],
          "scatterpolar": [
           {
            "type": "scatterpolar",
            "marker": {
             "colorbar": {
              "outlinewidth": 0,
              "ticks": ""
             }
            }
           }
          ],
          "histogram": [
           {
            "marker": {
             "pattern": {
              "fillmode": "overlay",
              "size": 10,
              "solidity": 0.2
             }
            },
            "type": "histogram"
           }
          ],
          "scattergl": [
           {
            "type": "scattergl",
            "marker": {
             "colorbar": {
              "outlinewidth": 0,
              "ticks": ""
             }
            }
           }
          ],
          "scatter3d": [
           {
            "type": "scatter3d",
            "line": {
             "colorbar": {
              "outlinewidth": 0,
              "ticks": ""
             }
            },
            "marker": {
             "colorbar": {
              "outlinewidth": 0,
              "ticks": ""
             }
            }
           }
          ],
          "scattermap": [
           {
            "type": "scattermap",
            "marker": {
             "colorbar": {
              "outlinewidth": 0,
              "ticks": ""
             }
            }
           }
          ],
          "scattermapbox": [
           {
            "type": "scattermapbox",
            "marker": {
             "colorbar": {
              "outlinewidth": 0,
              "ticks": ""
             }
            }
           }
          ],
          "scatterternary": [
           {
            "type": "scatterternary",
            "marker": {
             "colorbar": {
              "outlinewidth": 0,
              "ticks": ""
             }
            }
           }
          ],
          "scattercarpet": [
           {
            "type": "scattercarpet",
            "marker": {
             "colorbar": {
              "outlinewidth": 0,
              "ticks": ""
             }
            }
           }
          ],
          "carpet": [
           {
            "aaxis": {
             "endlinecolor": "#2a3f5f",
             "gridcolor": "white",
             "linecolor": "white",
             "minorgridcolor": "white",
             "startlinecolor": "#2a3f5f"
            },
            "baxis": {
             "endlinecolor": "#2a3f5f",
             "gridcolor": "white",
             "linecolor": "white",
             "minorgridcolor": "white",
             "startlinecolor": "#2a3f5f"
            },
            "type": "carpet"
           }
          ],
          "table": [
           {
            "cells": {
             "fill": {
              "color": "#EBF0F8"
             },
             "line": {
              "color": "white"
             }
            },
            "header": {
             "fill": {
              "color": "#C8D4E3"
             },
             "line": {
              "color": "white"
             }
            },
            "type": "table"
           }
          ],
          "barpolar": [
           {
            "marker": {
             "line": {
              "color": "#E5ECF6",
              "width": 0.5
             },
             "pattern": {
              "fillmode": "overlay",
              "size": 10,
              "solidity": 0.2
             }
            },
            "type": "barpolar"
           }
          ],
          "pie": [
           {
            "automargin": true,
            "type": "pie"
           }
          ]
         },
         "layout": {
          "autotypenumbers": "strict",
          "colorway": [
           "#636efa",
           "#EF553B",
           "#00cc96",
           "#ab63fa",
           "#FFA15A",
           "#19d3f3",
           "#FF6692",
           "#B6E880",
           "#FF97FF",
           "#FECB52"
          ],
          "font": {
           "color": "#2a3f5f"
          },
          "hovermode": "closest",
          "hoverlabel": {
           "align": "left"
          },
          "paper_bgcolor": "white",
          "plot_bgcolor": "#E5ECF6",
          "polar": {
           "bgcolor": "#E5ECF6",
           "angularaxis": {
            "gridcolor": "white",
            "linecolor": "white",
            "ticks": ""
           },
           "radialaxis": {
            "gridcolor": "white",
            "linecolor": "white",
            "ticks": ""
           }
          },
          "ternary": {
           "bgcolor": "#E5ECF6",
           "aaxis": {
            "gridcolor": "white",
            "linecolor": "white",
            "ticks": ""
           },
           "baxis": {
            "gridcolor": "white",
            "linecolor": "white",
            "ticks": ""
           },
           "caxis": {
            "gridcolor": "white",
            "linecolor": "white",
            "ticks": ""
           }
          },
          "coloraxis": {
           "colorbar": {
            "outlinewidth": 0,
            "ticks": ""
           }
          },
          "colorscale": {
           "sequential": [
            [
             0.0,
             "#0d0887"
            ],
            [
             0.1111111111111111,
             "#46039f"
            ],
            [
             0.2222222222222222,
             "#7201a8"
            ],
            [
             0.3333333333333333,
             "#9c179e"
            ],
            [
             0.4444444444444444,
             "#bd3786"
            ],
            [
             0.5555555555555556,
             "#d8576b"
            ],
            [
             0.6666666666666666,
             "#ed7953"
            ],
            [
             0.7777777777777778,
             "#fb9f3a"
            ],
            [
             0.8888888888888888,
             "#fdca26"
            ],
            [
             1.0,
             "#f0f921"
            ]
           ],
           "sequentialminus": [
            [
             0.0,
             "#0d0887"
            ],
            [
             0.1111111111111111,
             "#46039f"
            ],
            [
             0.2222222222222222,
             "#7201a8"
            ],
            [
             0.3333333333333333,
             "#9c179e"
            ],
            [
             0.4444444444444444,
             "#bd3786"
            ],
            [
             0.5555555555555556,
             "#d8576b"
            ],
            [
             0.6666666666666666,
             "#ed7953"
            ],
            [
             0.7777777777777778,
             "#fb9f3a"
            ],
            [
             0.8888888888888888,
             "#fdca26"
            ],
            [
             1.0,
             "#f0f921"
            ]
           ],
           "diverging": [
            [
             0,
             "#8e0152"
            ],
            [
             0.1,
             "#c51b7d"
            ],
            [
             0.2,
             "#de77ae"
            ],
            [
             0.3,
             "#f1b6da"
            ],
            [
             0.4,
             "#fde0ef"
            ],
            [
             0.5,
             "#f7f7f7"
            ],
            [
             0.6,
             "#e6f5d0"
            ],
            [
             0.7,
             "#b8e186"
            ],
            [
             0.8,
             "#7fbc41"
            ],
            [
             0.9,
             "#4d9221"
            ],
            [
             1,
             "#276419"
            ]
           ]
          },
          "xaxis": {
           "gridcolor": "white",
           "linecolor": "white",
           "ticks": "",
           "title": {
            "standoff": 15
           },
           "zerolinecolor": "white",
           "automargin": true,
           "zerolinewidth": 2
          },
          "yaxis": {
           "gridcolor": "white",
           "linecolor": "white",
           "ticks": "",
           "title": {
            "standoff": 15
           },
           "zerolinecolor": "white",
           "automargin": true,
           "zerolinewidth": 2
          },
          "scene": {
           "xaxis": {
            "backgroundcolor": "#E5ECF6",
            "gridcolor": "white",
            "linecolor": "white",
            "showbackground": true,
            "ticks": "",
            "zerolinecolor": "white",
            "gridwidth": 2
           },
           "yaxis": {
            "backgroundcolor": "#E5ECF6",
            "gridcolor": "white",
            "linecolor": "white",
            "showbackground": true,
            "ticks": "",
            "zerolinecolor": "white",
            "gridwidth": 2
           },
           "zaxis": {
            "backgroundcolor": "#E5ECF6",
            "gridcolor": "white",
            "linecolor": "white",
            "showbackground": true,
            "ticks": "",
            "zerolinecolor": "white",
            "gridwidth": 2
           }
          },
          "shapedefaults": {
           "line": {
            "color": "#2a3f5f"
           }
          },
          "annotationdefaults": {
           "arrowcolor": "#2a3f5f",
           "arrowhead": 0,
           "arrowwidth": 1
          },
          "geo": {
           "bgcolor": "white",
           "landcolor": "#E5ECF6",
           "subunitcolor": "white",
           "showland": true,
           "showlakes": true,
           "lakecolor": "white"
          },
          "title": {
           "x": 0.05
          },
          "mapbox": {
           "style": "light"
          }
         }
        },
        "xaxis": {
         "anchor": "y",
         "domain": [
          0.0,
          1.0
         ],
         "title": {
          "text": "Vector"
         }
        },
        "yaxis": {
         "anchor": "x",
         "domain": [
          0.0,
          1.0
         ],
         "title": {
          "text": "Count"
         },
         "type": "log"
        },
        "legend": {
         "tracegroupgap": 0
        },
        "title": {
         "text": "12-Month WOMAC Drop Vectors (Right Knee)"
        },
        "barmode": "relative"
       },
       "config": {
        "plotlyServerURL": "https://plot.ly"
       }
      }
     },
     "metadata": {},
     "output_type": "display_data"
    }
   ],
   "execution_count": 3
  },
  {
   "metadata": {},
   "cell_type": "markdown",
   "source": "## 24-Month WOMAC Distribution on Drop Dataset",
   "id": "fcc2f3589e285395"
  },
  {
   "metadata": {
    "ExecuteTime": {
     "end_time": "2025-08-19T22:08:21.675937Z",
     "start_time": "2025-08-19T22:08:21.626698Z"
    }
   },
   "cell_type": "code",
   "source": [
    "from scripts.womac.womac_distribution import v03_womac_drop_vectors_left, v03_womac_drop_vectors_right\n",
    "\n",
    "display(v03_womac_drop_vectors_left)\n",
    "v03_womac_drop_vectors_left_chart = px.bar(v03_womac_drop_vectors_left,x='Vector',y='Count',log_y=True,title='24-Month WOMAC Drop Vectors (Left Knee)')\n",
    "display(v03_womac_drop_vectors_left_chart)\n",
    "\n",
    "display(v03_womac_drop_vectors_right)\n",
    "v03_womac_drop_vectors_right_chart = px.bar(v03_womac_drop_vectors_right,x='Vector',y='Count',log_y=True, title='24-Month WOMAC Drop Vectors (Right Knee)')\n",
    "display(v03_womac_drop_vectors_right_chart)"
   ],
   "id": "b6d4e594264f5af9",
   "outputs": [
    {
     "data": {
      "text/plain": [
       "     V03WOMADLL  V03WOMKPL  V03WOMSTFR  Count     Vector\n",
       "0             0          0           0    801    (0,0,0)\n",
       "1             0          0           1    157    (0,0,1)\n",
       "23            1          0           0     54    (1,0,0)\n",
       "2             0          0           2     43    (0,0,2)\n",
       "38            2          0           0     42    (2,0,0)\n",
       "..          ...        ...         ...    ...        ...\n",
       "127           8          0           0      1    (8,0,0)\n",
       "129           8          0           3      1    (8,0,3)\n",
       "320          19          1           1      1   (19,1,1)\n",
       "319          19          1           0      1   (19,1,0)\n",
       "523          55         15           7      1  (55,15,7)\n",
       "\n",
       "[524 rows x 5 columns]"
      ],
      "text/html": [
       "<div>\n",
       "<style scoped>\n",
       "    .dataframe tbody tr th:only-of-type {\n",
       "        vertical-align: middle;\n",
       "    }\n",
       "\n",
       "    .dataframe tbody tr th {\n",
       "        vertical-align: top;\n",
       "    }\n",
       "\n",
       "    .dataframe thead th {\n",
       "        text-align: right;\n",
       "    }\n",
       "</style>\n",
       "<table border=\"1\" class=\"dataframe\">\n",
       "  <thead>\n",
       "    <tr style=\"text-align: right;\">\n",
       "      <th></th>\n",
       "      <th>V03WOMADLL</th>\n",
       "      <th>V03WOMKPL</th>\n",
       "      <th>V03WOMSTFR</th>\n",
       "      <th>Count</th>\n",
       "      <th>Vector</th>\n",
       "    </tr>\n",
       "  </thead>\n",
       "  <tbody>\n",
       "    <tr>\n",
       "      <th>0</th>\n",
       "      <td>0</td>\n",
       "      <td>0</td>\n",
       "      <td>0</td>\n",
       "      <td>801</td>\n",
       "      <td>(0,0,0)</td>\n",
       "    </tr>\n",
       "    <tr>\n",
       "      <th>1</th>\n",
       "      <td>0</td>\n",
       "      <td>0</td>\n",
       "      <td>1</td>\n",
       "      <td>157</td>\n",
       "      <td>(0,0,1)</td>\n",
       "    </tr>\n",
       "    <tr>\n",
       "      <th>23</th>\n",
       "      <td>1</td>\n",
       "      <td>0</td>\n",
       "      <td>0</td>\n",
       "      <td>54</td>\n",
       "      <td>(1,0,0)</td>\n",
       "    </tr>\n",
       "    <tr>\n",
       "      <th>2</th>\n",
       "      <td>0</td>\n",
       "      <td>0</td>\n",
       "      <td>2</td>\n",
       "      <td>43</td>\n",
       "      <td>(0,0,2)</td>\n",
       "    </tr>\n",
       "    <tr>\n",
       "      <th>38</th>\n",
       "      <td>2</td>\n",
       "      <td>0</td>\n",
       "      <td>0</td>\n",
       "      <td>42</td>\n",
       "      <td>(2,0,0)</td>\n",
       "    </tr>\n",
       "    <tr>\n",
       "      <th>...</th>\n",
       "      <td>...</td>\n",
       "      <td>...</td>\n",
       "      <td>...</td>\n",
       "      <td>...</td>\n",
       "      <td>...</td>\n",
       "    </tr>\n",
       "    <tr>\n",
       "      <th>127</th>\n",
       "      <td>8</td>\n",
       "      <td>0</td>\n",
       "      <td>0</td>\n",
       "      <td>1</td>\n",
       "      <td>(8,0,0)</td>\n",
       "    </tr>\n",
       "    <tr>\n",
       "      <th>129</th>\n",
       "      <td>8</td>\n",
       "      <td>0</td>\n",
       "      <td>3</td>\n",
       "      <td>1</td>\n",
       "      <td>(8,0,3)</td>\n",
       "    </tr>\n",
       "    <tr>\n",
       "      <th>320</th>\n",
       "      <td>19</td>\n",
       "      <td>1</td>\n",
       "      <td>1</td>\n",
       "      <td>1</td>\n",
       "      <td>(19,1,1)</td>\n",
       "    </tr>\n",
       "    <tr>\n",
       "      <th>319</th>\n",
       "      <td>19</td>\n",
       "      <td>1</td>\n",
       "      <td>0</td>\n",
       "      <td>1</td>\n",
       "      <td>(19,1,0)</td>\n",
       "    </tr>\n",
       "    <tr>\n",
       "      <th>523</th>\n",
       "      <td>55</td>\n",
       "      <td>15</td>\n",
       "      <td>7</td>\n",
       "      <td>1</td>\n",
       "      <td>(55,15,7)</td>\n",
       "    </tr>\n",
       "  </tbody>\n",
       "</table>\n",
       "<p>524 rows × 5 columns</p>\n",
       "</div>"
      ]
     },
     "metadata": {},
     "output_type": "display_data"
    },
    {
     "data": {
      "application/vnd.plotly.v1+json": {
       "data": [
        {
         "hovertemplate": "Vector=%{x}<br>Count=%{y}<extra></extra>",
         "legendgroup": "",
         "marker": {
          "color": "#636efa",
          "pattern": {
           "shape": ""
          }
         },
         "name": "",
         "orientation": "v",
         "showlegend": false,
         "textposition": "auto",
         "x": [
          "(0,0,0)",
          "(0,0,1)",
          "(1,0,0)",
          "(0,0,2)",
          "(2,0,0)",
          "(0,0,3)",
          "(3,0,0)",
          "(2,0,1)",
          "(4,0,0)",
          "(0,1,0)",
          "(4,0,1)",
          "(5,0,0)",
          "(3,0,1)",
          "(1,0,1)",
          "(2,0,2)",
          "(3,1,0)",
          "(4,1,0)",
          "(4,2,0)",
          "(6,0,3)",
          "(6,2,0)",
          "(7,1,0)",
          "(0,1,1)",
          "(22,5,1)",
          "(14,3,1)",
          "(5,1,0)",
          "(7,0,0)",
          "(1,1,0)",
          "(5,2,0)",
          "(7,0,3)",
          "(15,2,0)",
          "(0,2,0)",
          "(6,1,0)",
          "(6,0,1)",
          "(4,1,1)",
          "(0,0,4)",
          "(6,3,0)",
          "(10,3,0)",
          "(5,1,1)",
          "(0,3,0)",
          "(4,0,3)",
          "(16,4,1)",
          "(9,1,1)",
          "(6,0,2)",
          "(2,1,0)",
          "(2,1,1)",
          "(9,0,0)",
          "(11,1,0)",
          "(3,2,0)",
          "(14,1,1)",
          "(15,2,2)",
          "(10,1,3)",
          "(13,4,0)",
          "(22,4,2)",
          "(5,0,1)",
          "(19,8,0)",
          "(12,2,0)",
          "(21,6,1)",
          "(6,2,2)",
          "(8,1,0)",
          "(8,1,1)",
          "(8,3,0)",
          "(9,0,1)",
          "(9,3,0)",
          "(15,4,0)",
          "(10,1,1)",
          "(10,2,1)",
          "(10,3,1)",
          "(11,2,0)",
          "(12,0,0)",
          "(23,6,1)",
          "(12,2,1)",
          "(3,0,2)",
          "(2,0,3)",
          "(0,2,1)",
          "(26,9,2)",
          "(1,2,3)",
          "(1,0,2)",
          "(6,1,1)",
          "(18,4,2)",
          "(21,4,1)",
          "(10,8,0)",
          "(10,6,0)",
          "(19,4,1)",
          "(10,2,2)",
          "(19,2,1)",
          "(18,7,4)",
          "(0,5,0)",
          "(8,2,3)",
          "(6,2,1)",
          "(10,1,0)",
          "(15,3,1)",
          "(18,3,0)",
          "(36,9,2)",
          "(18,2,1)",
          "(18,1,4)",
          "(33,11,5)",
          "(17,4,1)",
          "(9,0,3)",
          "(34,11,1)",
          "(16,6,1)",
          "(15,7,0)",
          "(16,2,3)",
          "(6,4,3)",
          "(36,5,5)",
          "(24,6,2)",
          "(0,0,5)",
          "(5,1,3)",
          "(11,4,0)",
          "(5,1,2)",
          "(3,5,0)",
          "(22,10,1)",
          "(23,3,0)",
          "(26,7,3)",
          "(11,2,3)",
          "(13,2,0)",
          "(24,7,4)",
          "(5,4,0)",
          "(11,4,1)",
          "(5,2,1)",
          "(21,8,2)",
          "(27,7,1)",
          "(13,4,3)",
          "(24,4,0)",
          "(21,7,0)",
          "(6,0,0)",
          "(3,0,3)",
          "(13,1,1)",
          "(15,4,1)",
          "(13,0,1)",
          "(15,4,3)",
          "(12,4,0)",
          "(15,9,0)",
          "(13,2,2)",
          "(16,0,4)",
          "(15,6,3)",
          "(44,12,3)",
          "(15,2,1)",
          "(37,8,1)",
          "(13,3,0)",
          "(13,6,1)",
          "(13,7,0)",
          "(46,11,4)",
          "(43,9,7)",
          "(16,1,1)",
          "(14,3,5)",
          "(14,4,1)",
          "(14,4,2)",
          "(15,0,0)",
          "(15,1,0)",
          "(42,10,3)",
          "(41,13,0)",
          "(39,10,5)",
          "(13,3,1)",
          "(38,10,3)",
          "(13,5,0)",
          "(37,12,3)",
          "(42,12,1)",
          "(24,5,2)",
          "(16,2,0)",
          "(22,3,3)",
          "(29,6,3)",
          "(20,8,1)",
          "(21,4,3)",
          "(29,5,2)",
          "(29,0,3)",
          "(27,10,1)",
          "(27,9,0)",
          "(21,6,3)",
          "(27,8,2)",
          "(26,4,2)",
          "(20,5,3)",
          "(22,7,3)",
          "(22,9,1)",
          "(24,12,1)",
          "(24,12,0)",
          "(23,4,2)",
          "(23,5,3)",
          "(24,6,0)",
          "(23,6,3)",
          "(23,7,1)",
          "(20,6,5)",
          "(29,7,3)",
          "(16,3,1)",
          "(18,7,3)",
          "(35,6,4)",
          "(17,2,1)",
          "(32,8,3)",
          "(18,1,6)",
          "(18,2,2)",
          "(18,2,3)",
          "(24,4,4)",
          "(18,4,1)",
          "(18,5,1)",
          "(29,8,4)",
          "(20,4,0)",
          "(29,8,1)",
          "(19,2,0)",
          "(19,3,0)",
          "(19,5,3)",
          "(19,5,5)",
          "(19,6,1)",
          "(19,7,1)",
          "(20,2,0)",
          "(20,3,2)",
          "(32,7,1)",
          "(15,3,4)",
          "(12,1,2)",
          "(9,3,1)",
          "(8,4,0)",
          "(1,3,1)",
          "(9,1,0)",
          "(9,1,2)",
          "(9,1,3)",
          "(1,2,0)",
          "(9,2,1)",
          "(9,4,1)",
          "(8,3,1)",
          "(9,6,2)",
          "(9,9,0)",
          "(10,0,0)",
          "(1,1,2)",
          "(10,2,0)",
          "(10,3,2)",
          "(0,5,4)",
          "(8,3,2)",
          "(2,2,0)",
          "(0,4,2)",
          "(3,6,0)",
          "(5,3,1)",
          "(5,0,2)",
          "(4,4,2)",
          "(12,1,1)",
          "(4,3,0)",
          "(6,6,5)",
          "(7,0,1)",
          "(3,4,0)",
          "(2,4,2)",
          "(7,1,2)",
          "(7,1,5)",
          "(7,2,0)",
          "(3,3,0)",
          "(3,1,3)",
          "(3,1,1)",
          "(8,0,1)",
          "(10,4,2)",
          "(5,0,4)",
          "(11,8,0)",
          "(11,1,4)",
          "(0,1,3)",
          "(11,0,1)",
          "(12,0,4)",
          "(12,0,2)",
          "(0,2,3)",
          "(0,1,5)",
          "(11,2,2)",
          "(25,9,4)",
          "(25,8,3)",
          "(25,8,0)",
          "(37,10,3)",
          "(25,7,1)",
          "(44,16,4)",
          "(25,6,1)",
          "(25,4,2)",
          "(25,3,0)",
          "(26,4,0)",
          "(26,6,3)",
          "(26,4,3)",
          "(26,5,3)",
          "(45,11,1)",
          "(3,2,4)",
          "(44,15,5)",
          "(26,11,2)",
          "(27,5,0)",
          "(27,5,4)",
          "(0,1,4)",
          "(43,13,1)",
          "(43,12,5)",
          "(2,4,0)",
          "(27,9,3)",
          "(27,9,5)",
          "(3,3,1)",
          "(24,8,0)",
          "(24,9,3)",
          "(48,13,2)",
          "(23,2,0)",
          "(5,0,3)",
          "(55,14,5)",
          "(23,3,2)",
          "(23,3,3)",
          "(23,4,0)",
          "(52,14,3)",
          "(23,5,0)",
          "(4,5,0)",
          "(4,4,3)",
          "(23,6,2)",
          "(51,10,4)",
          "(23,6,4)",
          "(49,14,4)",
          "(23,9,2)",
          "(28,2,0)",
          "(23,10,0)",
          "(23,10,5)",
          "(24,3,0)",
          "(24,3,3)",
          "(4,2,4)",
          "(24,4,2)",
          "(4,2,1)",
          "(48,11,4)",
          "(48,10,7)",
          "(24,5,0)",
          "(4,1,5)",
          "(24,5,4)",
          "(4,1,3)",
          "(4,0,4)",
          "(2,3,0)",
          "(28,6,3)",
          "(28,4,0)",
          "(28,5,3)",
          "(32,7,2)",
          "(41,11,3)",
          "(1,1,3)",
          "(32,11,0)",
          "(32,12,0)",
          "(41,6,1)",
          "(32,14,1)",
          "(33,3,3)",
          "(40,14,2)",
          "(33,5,1)",
          "(33,7,3)",
          "(33,10,3)",
          "(33,11,0)",
          "(0,3,3)",
          "(38,17,0)",
          "(38,13,3)",
          "(1,1,1)",
          "(1,0,4)",
          "(35,8,3)",
          "(35,8,4)",
          "(38,11,1)",
          "(35,10,1)",
          "(35,11,3)",
          "(1,0,3)",
          "(0,4,1)",
          "(38,9,4)",
          "(36,10,0)",
          "(36,11,3)",
          "(37,6,0)",
          "(0,3,2)",
          "(42,5,0)",
          "(32,6,0)",
          "(29,11,3)",
          "(0,5,2)",
          "(28,7,3)",
          "(28,8,1)",
          "(28,10,0)",
          "(28,10,1)",
          "(2,2,1)",
          "(29,4,4)",
          "(43,11,3)",
          "(1,3,4)",
          "(43,11,1)",
          "(29,7,4)",
          "(1,2,2)",
          "(1,2,1)",
          "(30,5,3)",
          "(32,0,2)",
          "(30,8,0)",
          "(30,8,3)",
          "(22,10,3)",
          "(30,9,2)",
          "(30,9,4)",
          "(30,10,6)",
          "(31,5,0)",
          "(31,8,1)",
          "(0,3,1)",
          "(31,8,2)",
          "(31,8,4)",
          "(31,10,1)",
          "(42,6,3)",
          "(30,9,0)",
          "(5,8,3)",
          "(5,2,2)",
          "(15,3,0)",
          "(15,5,4)",
          "(15,5,0)",
          "(9,7,1)",
          "(15,4,2)",
          "(10,0,1)",
          "(10,0,3)",
          "(15,2,4)",
          "(15,7,1)",
          "(10,1,2)",
          "(10,2,5)",
          "(15,1,3)",
          "(15,1,1)",
          "(15,0,2)",
          "(15,0,1)",
          "(9,6,1)",
          "(16,0,1)",
          "(14,5,3)",
          "(16,6,0)",
          "(9,0,2)",
          "(17,4,0)",
          "(16,13,1)",
          "(16,9,7)",
          "(16,9,3)",
          "(16,7,4)",
          "(16,5,1)",
          "(16,0,2)",
          "(16,4,2)",
          "(16,3,3)",
          "(9,2,0)",
          "(16,3,0)",
          "(9,2,2)",
          "(9,3,3)",
          "(14,7,1)",
          "(14,5,0)",
          "(17,5,0)",
          "(12,7,2)",
          "(11,3,1)",
          "(11,3,2)",
          "(13,2,3)",
          "(11,7,0)",
          "(13,2,1)",
          "(12,9,0)",
          "(12,4,3)",
          "(13,4,2)",
          "(12,4,2)",
          "(12,4,1)",
          "(12,1,0)",
          "(12,3,3)",
          "(12,3,1)",
          "(12,3,0)",
          "(13,4,1)",
          "(11,2,1)",
          "(10,5,1)",
          "(14,2,0)",
          "(11,0,0)",
          "(14,3,3)",
          "(11,0,2)",
          "(14,3,0)",
          "(14,2,2)",
          "(14,2,1)",
          "(11,0,3)",
          "(13,4,4)",
          "(14,1,0)",
          "(14,0,3)",
          "(13,8,0)",
          "(11,1,1)",
          "(11,1,3)",
          "(13,5,1)",
          "(17,4,2)",
          "(17,5,1)",
          "(22,9,0)",
          "(7,0,4)",
          "(21,4,4)",
          "(21,4,0)",
          "(20,9,1)",
          "(7,0,2)",
          "(20,7,1)",
          "(20,7,0)",
          "(20,6,0)",
          "(21,5,1)",
          "(7,0,5)",
          "(20,5,1)",
          "(20,4,3)",
          "(7,1,1)",
          "(20,2,2)",
          "(19,9,2)",
          "(21,4,5)",
          "(21,5,2)",
          "(7,2,1)",
          "(5,3,4)",
          "(22,6,1)",
          "(22,6,0)",
          "(5,3,2)",
          "(22,5,0)",
          "(5,3,3)",
          "(22,3,4)",
          "(22,2,3)",
          "(6,1,5)",
          "(22,1,2)",
          "(21,10,3)",
          "(21,7,3)",
          "(21,7,1)",
          "(6,0,4)",
          "(6,1,2)",
          "(19,7,3)",
          "(7,3,2)",
          "(17,9,0)",
          "(8,2,1)",
          "(18,7,1)",
          "(18,7,0)",
          "(18,6,0)",
          "(18,5,3)",
          "(8,2,0)",
          "(18,5,0)",
          "(8,2,4)",
          "(8,1,2)",
          "(18,3,1)",
          "(18,2,4)",
          "(8,4,1)",
          "(8,5,1)",
          "(8,5,3)",
          "(18,1,3)",
          "(8,1,3)",
          "(18,8,0)",
          "(19,6,0)",
          "(19,4,2)",
          "(7,4,0)",
          "(7,4,3)",
          "(19,5,1)",
          "(19,5,0)",
          "(19,4,5)",
          "(19,4,3)",
          "(7,6,1)",
          "(19,0,3)",
          "(19,4,0)",
          "(19,3,1)",
          "(8,0,0)",
          "(8,0,3)",
          "(19,1,1)",
          "(19,1,0)",
          "(55,15,7)"
         ],
         "xaxis": "x",
         "y": {
          "dtype": "i2",
          "bdata": "IQOdADYAKwAqACEAHAATABIAEQAQAA4ADQAMAAsACwAKAAkACQAJAAkACAAIAAgACAAIAAgABwAHAAcABwAHAAYABgAGAAYABgAGAAYABgAGAAYABQAFAAUABQAFAAUABQAFAAUABQAFAAQABAAEAAQABAAEAAQABAAEAAQABAAEAAQABAAEAAQABAAEAAQABAAEAAQABAAEAAMAAwADAAMAAwADAAMAAwADAAMAAwADAAMAAwADAAMAAwADAAMAAwADAAMAAwADAAMAAwADAAMAAwADAAMAAwADAAMAAwADAAMAAwADAAMAAwADAAMAAwADAAMAAwADAAMAAwACAAIAAgACAAIAAgACAAIAAgACAAIAAgACAAIAAgACAAIAAgACAAIAAgACAAIAAgACAAIAAgACAAIAAgACAAIAAgACAAIAAgACAAIAAgACAAIAAgACAAIAAgACAAIAAgACAAIAAgACAAIAAgACAAIAAgACAAIAAgACAAIAAgACAAIAAgACAAIAAgACAAIAAgACAAIAAgACAAIAAgACAAIAAgACAAIAAgACAAIAAgACAAIAAgACAAIAAgACAAIAAgACAAIAAgACAAIAAgACAAIAAgACAAIAAgACAAIAAgACAAIAAgACAAIAAgACAAIAAgACAAIAAgACAAIAAgACAAIAAQABAAEAAQABAAEAAQABAAEAAQABAAEAAQABAAEAAQABAAEAAQABAAEAAQABAAEAAQABAAEAAQABAAEAAQABAAEAAQABAAEAAQABAAEAAQABAAEAAQABAAEAAQABAAEAAQABAAEAAQABAAEAAQABAAEAAQABAAEAAQABAAEAAQABAAEAAQABAAEAAQABAAEAAQABAAEAAQABAAEAAQABAAEAAQABAAEAAQABAAEAAQABAAEAAQABAAEAAQABAAEAAQABAAEAAQABAAEAAQABAAEAAQABAAEAAQABAAEAAQABAAEAAQABAAEAAQABAAEAAQABAAEAAQABAAEAAQABAAEAAQABAAEAAQABAAEAAQABAAEAAQABAAEAAQABAAEAAQABAAEAAQABAAEAAQABAAEAAQABAAEAAQABAAEAAQABAAEAAQABAAEAAQABAAEAAQABAAEAAQABAAEAAQABAAEAAQABAAEAAQABAAEAAQABAAEAAQABAAEAAQABAAEAAQABAAEAAQABAAEAAQABAAEAAQABAAEAAQABAAEAAQABAAEAAQABAAEAAQABAAEAAQABAAEAAQABAAEAAQABAAEAAQABAAEAAQABAAEAAQABAAEAAQABAAEAAQABAAEAAQABAAEAAQABAAEAAQABAAEAAQABAAEAAQABAAEAAQABAAEAAQABAAEAAQABAAEAAQABAAEAAQABAA=="
         },
         "yaxis": "y",
         "type": "bar"
        }
       ],
       "layout": {
        "template": {
         "data": {
          "histogram2dcontour": [
           {
            "type": "histogram2dcontour",
            "colorbar": {
             "outlinewidth": 0,
             "ticks": ""
            },
            "colorscale": [
             [
              0.0,
              "#0d0887"
             ],
             [
              0.1111111111111111,
              "#46039f"
             ],
             [
              0.2222222222222222,
              "#7201a8"
             ],
             [
              0.3333333333333333,
              "#9c179e"
             ],
             [
              0.4444444444444444,
              "#bd3786"
             ],
             [
              0.5555555555555556,
              "#d8576b"
             ],
             [
              0.6666666666666666,
              "#ed7953"
             ],
             [
              0.7777777777777778,
              "#fb9f3a"
             ],
             [
              0.8888888888888888,
              "#fdca26"
             ],
             [
              1.0,
              "#f0f921"
             ]
            ]
           }
          ],
          "choropleth": [
           {
            "type": "choropleth",
            "colorbar": {
             "outlinewidth": 0,
             "ticks": ""
            }
           }
          ],
          "histogram2d": [
           {
            "type": "histogram2d",
            "colorbar": {
             "outlinewidth": 0,
             "ticks": ""
            },
            "colorscale": [
             [
              0.0,
              "#0d0887"
             ],
             [
              0.1111111111111111,
              "#46039f"
             ],
             [
              0.2222222222222222,
              "#7201a8"
             ],
             [
              0.3333333333333333,
              "#9c179e"
             ],
             [
              0.4444444444444444,
              "#bd3786"
             ],
             [
              0.5555555555555556,
              "#d8576b"
             ],
             [
              0.6666666666666666,
              "#ed7953"
             ],
             [
              0.7777777777777778,
              "#fb9f3a"
             ],
             [
              0.8888888888888888,
              "#fdca26"
             ],
             [
              1.0,
              "#f0f921"
             ]
            ]
           }
          ],
          "heatmap": [
           {
            "type": "heatmap",
            "colorbar": {
             "outlinewidth": 0,
             "ticks": ""
            },
            "colorscale": [
             [
              0.0,
              "#0d0887"
             ],
             [
              0.1111111111111111,
              "#46039f"
             ],
             [
              0.2222222222222222,
              "#7201a8"
             ],
             [
              0.3333333333333333,
              "#9c179e"
             ],
             [
              0.4444444444444444,
              "#bd3786"
             ],
             [
              0.5555555555555556,
              "#d8576b"
             ],
             [
              0.6666666666666666,
              "#ed7953"
             ],
             [
              0.7777777777777778,
              "#fb9f3a"
             ],
             [
              0.8888888888888888,
              "#fdca26"
             ],
             [
              1.0,
              "#f0f921"
             ]
            ]
           }
          ],
          "contourcarpet": [
           {
            "type": "contourcarpet",
            "colorbar": {
             "outlinewidth": 0,
             "ticks": ""
            }
           }
          ],
          "contour": [
           {
            "type": "contour",
            "colorbar": {
             "outlinewidth": 0,
             "ticks": ""
            },
            "colorscale": [
             [
              0.0,
              "#0d0887"
             ],
             [
              0.1111111111111111,
              "#46039f"
             ],
             [
              0.2222222222222222,
              "#7201a8"
             ],
             [
              0.3333333333333333,
              "#9c179e"
             ],
             [
              0.4444444444444444,
              "#bd3786"
             ],
             [
              0.5555555555555556,
              "#d8576b"
             ],
             [
              0.6666666666666666,
              "#ed7953"
             ],
             [
              0.7777777777777778,
              "#fb9f3a"
             ],
             [
              0.8888888888888888,
              "#fdca26"
             ],
             [
              1.0,
              "#f0f921"
             ]
            ]
           }
          ],
          "surface": [
           {
            "type": "surface",
            "colorbar": {
             "outlinewidth": 0,
             "ticks": ""
            },
            "colorscale": [
             [
              0.0,
              "#0d0887"
             ],
             [
              0.1111111111111111,
              "#46039f"
             ],
             [
              0.2222222222222222,
              "#7201a8"
             ],
             [
              0.3333333333333333,
              "#9c179e"
             ],
             [
              0.4444444444444444,
              "#bd3786"
             ],
             [
              0.5555555555555556,
              "#d8576b"
             ],
             [
              0.6666666666666666,
              "#ed7953"
             ],
             [
              0.7777777777777778,
              "#fb9f3a"
             ],
             [
              0.8888888888888888,
              "#fdca26"
             ],
             [
              1.0,
              "#f0f921"
             ]
            ]
           }
          ],
          "mesh3d": [
           {
            "type": "mesh3d",
            "colorbar": {
             "outlinewidth": 0,
             "ticks": ""
            }
           }
          ],
          "scatter": [
           {
            "fillpattern": {
             "fillmode": "overlay",
             "size": 10,
             "solidity": 0.2
            },
            "type": "scatter"
           }
          ],
          "parcoords": [
           {
            "type": "parcoords",
            "line": {
             "colorbar": {
              "outlinewidth": 0,
              "ticks": ""
             }
            }
           }
          ],
          "scatterpolargl": [
           {
            "type": "scatterpolargl",
            "marker": {
             "colorbar": {
              "outlinewidth": 0,
              "ticks": ""
             }
            }
           }
          ],
          "bar": [
           {
            "error_x": {
             "color": "#2a3f5f"
            },
            "error_y": {
             "color": "#2a3f5f"
            },
            "marker": {
             "line": {
              "color": "#E5ECF6",
              "width": 0.5
             },
             "pattern": {
              "fillmode": "overlay",
              "size": 10,
              "solidity": 0.2
             }
            },
            "type": "bar"
           }
          ],
          "scattergeo": [
           {
            "type": "scattergeo",
            "marker": {
             "colorbar": {
              "outlinewidth": 0,
              "ticks": ""
             }
            }
           }
          ],
          "scatterpolar": [
           {
            "type": "scatterpolar",
            "marker": {
             "colorbar": {
              "outlinewidth": 0,
              "ticks": ""
             }
            }
           }
          ],
          "histogram": [
           {
            "marker": {
             "pattern": {
              "fillmode": "overlay",
              "size": 10,
              "solidity": 0.2
             }
            },
            "type": "histogram"
           }
          ],
          "scattergl": [
           {
            "type": "scattergl",
            "marker": {
             "colorbar": {
              "outlinewidth": 0,
              "ticks": ""
             }
            }
           }
          ],
          "scatter3d": [
           {
            "type": "scatter3d",
            "line": {
             "colorbar": {
              "outlinewidth": 0,
              "ticks": ""
             }
            },
            "marker": {
             "colorbar": {
              "outlinewidth": 0,
              "ticks": ""
             }
            }
           }
          ],
          "scattermap": [
           {
            "type": "scattermap",
            "marker": {
             "colorbar": {
              "outlinewidth": 0,
              "ticks": ""
             }
            }
           }
          ],
          "scattermapbox": [
           {
            "type": "scattermapbox",
            "marker": {
             "colorbar": {
              "outlinewidth": 0,
              "ticks": ""
             }
            }
           }
          ],
          "scatterternary": [
           {
            "type": "scatterternary",
            "marker": {
             "colorbar": {
              "outlinewidth": 0,
              "ticks": ""
             }
            }
           }
          ],
          "scattercarpet": [
           {
            "type": "scattercarpet",
            "marker": {
             "colorbar": {
              "outlinewidth": 0,
              "ticks": ""
             }
            }
           }
          ],
          "carpet": [
           {
            "aaxis": {
             "endlinecolor": "#2a3f5f",
             "gridcolor": "white",
             "linecolor": "white",
             "minorgridcolor": "white",
             "startlinecolor": "#2a3f5f"
            },
            "baxis": {
             "endlinecolor": "#2a3f5f",
             "gridcolor": "white",
             "linecolor": "white",
             "minorgridcolor": "white",
             "startlinecolor": "#2a3f5f"
            },
            "type": "carpet"
           }
          ],
          "table": [
           {
            "cells": {
             "fill": {
              "color": "#EBF0F8"
             },
             "line": {
              "color": "white"
             }
            },
            "header": {
             "fill": {
              "color": "#C8D4E3"
             },
             "line": {
              "color": "white"
             }
            },
            "type": "table"
           }
          ],
          "barpolar": [
           {
            "marker": {
             "line": {
              "color": "#E5ECF6",
              "width": 0.5
             },
             "pattern": {
              "fillmode": "overlay",
              "size": 10,
              "solidity": 0.2
             }
            },
            "type": "barpolar"
           }
          ],
          "pie": [
           {
            "automargin": true,
            "type": "pie"
           }
          ]
         },
         "layout": {
          "autotypenumbers": "strict",
          "colorway": [
           "#636efa",
           "#EF553B",
           "#00cc96",
           "#ab63fa",
           "#FFA15A",
           "#19d3f3",
           "#FF6692",
           "#B6E880",
           "#FF97FF",
           "#FECB52"
          ],
          "font": {
           "color": "#2a3f5f"
          },
          "hovermode": "closest",
          "hoverlabel": {
           "align": "left"
          },
          "paper_bgcolor": "white",
          "plot_bgcolor": "#E5ECF6",
          "polar": {
           "bgcolor": "#E5ECF6",
           "angularaxis": {
            "gridcolor": "white",
            "linecolor": "white",
            "ticks": ""
           },
           "radialaxis": {
            "gridcolor": "white",
            "linecolor": "white",
            "ticks": ""
           }
          },
          "ternary": {
           "bgcolor": "#E5ECF6",
           "aaxis": {
            "gridcolor": "white",
            "linecolor": "white",
            "ticks": ""
           },
           "baxis": {
            "gridcolor": "white",
            "linecolor": "white",
            "ticks": ""
           },
           "caxis": {
            "gridcolor": "white",
            "linecolor": "white",
            "ticks": ""
           }
          },
          "coloraxis": {
           "colorbar": {
            "outlinewidth": 0,
            "ticks": ""
           }
          },
          "colorscale": {
           "sequential": [
            [
             0.0,
             "#0d0887"
            ],
            [
             0.1111111111111111,
             "#46039f"
            ],
            [
             0.2222222222222222,
             "#7201a8"
            ],
            [
             0.3333333333333333,
             "#9c179e"
            ],
            [
             0.4444444444444444,
             "#bd3786"
            ],
            [
             0.5555555555555556,
             "#d8576b"
            ],
            [
             0.6666666666666666,
             "#ed7953"
            ],
            [
             0.7777777777777778,
             "#fb9f3a"
            ],
            [
             0.8888888888888888,
             "#fdca26"
            ],
            [
             1.0,
             "#f0f921"
            ]
           ],
           "sequentialminus": [
            [
             0.0,
             "#0d0887"
            ],
            [
             0.1111111111111111,
             "#46039f"
            ],
            [
             0.2222222222222222,
             "#7201a8"
            ],
            [
             0.3333333333333333,
             "#9c179e"
            ],
            [
             0.4444444444444444,
             "#bd3786"
            ],
            [
             0.5555555555555556,
             "#d8576b"
            ],
            [
             0.6666666666666666,
             "#ed7953"
            ],
            [
             0.7777777777777778,
             "#fb9f3a"
            ],
            [
             0.8888888888888888,
             "#fdca26"
            ],
            [
             1.0,
             "#f0f921"
            ]
           ],
           "diverging": [
            [
             0,
             "#8e0152"
            ],
            [
             0.1,
             "#c51b7d"
            ],
            [
             0.2,
             "#de77ae"
            ],
            [
             0.3,
             "#f1b6da"
            ],
            [
             0.4,
             "#fde0ef"
            ],
            [
             0.5,
             "#f7f7f7"
            ],
            [
             0.6,
             "#e6f5d0"
            ],
            [
             0.7,
             "#b8e186"
            ],
            [
             0.8,
             "#7fbc41"
            ],
            [
             0.9,
             "#4d9221"
            ],
            [
             1,
             "#276419"
            ]
           ]
          },
          "xaxis": {
           "gridcolor": "white",
           "linecolor": "white",
           "ticks": "",
           "title": {
            "standoff": 15
           },
           "zerolinecolor": "white",
           "automargin": true,
           "zerolinewidth": 2
          },
          "yaxis": {
           "gridcolor": "white",
           "linecolor": "white",
           "ticks": "",
           "title": {
            "standoff": 15
           },
           "zerolinecolor": "white",
           "automargin": true,
           "zerolinewidth": 2
          },
          "scene": {
           "xaxis": {
            "backgroundcolor": "#E5ECF6",
            "gridcolor": "white",
            "linecolor": "white",
            "showbackground": true,
            "ticks": "",
            "zerolinecolor": "white",
            "gridwidth": 2
           },
           "yaxis": {
            "backgroundcolor": "#E5ECF6",
            "gridcolor": "white",
            "linecolor": "white",
            "showbackground": true,
            "ticks": "",
            "zerolinecolor": "white",
            "gridwidth": 2
           },
           "zaxis": {
            "backgroundcolor": "#E5ECF6",
            "gridcolor": "white",
            "linecolor": "white",
            "showbackground": true,
            "ticks": "",
            "zerolinecolor": "white",
            "gridwidth": 2
           }
          },
          "shapedefaults": {
           "line": {
            "color": "#2a3f5f"
           }
          },
          "annotationdefaults": {
           "arrowcolor": "#2a3f5f",
           "arrowhead": 0,
           "arrowwidth": 1
          },
          "geo": {
           "bgcolor": "white",
           "landcolor": "#E5ECF6",
           "subunitcolor": "white",
           "showland": true,
           "showlakes": true,
           "lakecolor": "white"
          },
          "title": {
           "x": 0.05
          },
          "mapbox": {
           "style": "light"
          }
         }
        },
        "xaxis": {
         "anchor": "y",
         "domain": [
          0.0,
          1.0
         ],
         "title": {
          "text": "Vector"
         }
        },
        "yaxis": {
         "anchor": "x",
         "domain": [
          0.0,
          1.0
         ],
         "title": {
          "text": "Count"
         },
         "type": "log"
        },
        "legend": {
         "tracegroupgap": 0
        },
        "title": {
         "text": "24-Month WOMAC Drop Vectors (Left Knee)"
        },
        "barmode": "relative"
       },
       "config": {
        "plotlyServerURL": "https://plot.ly"
       }
      }
     },
     "metadata": {},
     "output_type": "display_data"
    },
    {
     "data": {
      "text/plain": [
       "     V03WOMADLR  V03WOMKPR  V03WOMSTFR  Count     Vector\n",
       "0             0          0           0    855    (0,0,0)\n",
       "1             0          0           1     69    (0,0,1)\n",
       "19            1          0           0     48    (1,0,0)\n",
       "4             0          1           0     40    (0,1,0)\n",
       "30            2          0           0     37    (2,0,0)\n",
       "..          ...        ...         ...    ...        ...\n",
       "86            5          5           0      1    (5,5,0)\n",
       "295          18          5           1      1   (18,5,1)\n",
       "296          18          6           3      1   (18,6,3)\n",
       "297          18          6           4      1   (18,6,4)\n",
       "494          62         18           7      1  (62,18,7)\n",
       "\n",
       "[495 rows x 5 columns]"
      ],
      "text/html": [
       "<div>\n",
       "<style scoped>\n",
       "    .dataframe tbody tr th:only-of-type {\n",
       "        vertical-align: middle;\n",
       "    }\n",
       "\n",
       "    .dataframe tbody tr th {\n",
       "        vertical-align: top;\n",
       "    }\n",
       "\n",
       "    .dataframe thead th {\n",
       "        text-align: right;\n",
       "    }\n",
       "</style>\n",
       "<table border=\"1\" class=\"dataframe\">\n",
       "  <thead>\n",
       "    <tr style=\"text-align: right;\">\n",
       "      <th></th>\n",
       "      <th>V03WOMADLR</th>\n",
       "      <th>V03WOMKPR</th>\n",
       "      <th>V03WOMSTFR</th>\n",
       "      <th>Count</th>\n",
       "      <th>Vector</th>\n",
       "    </tr>\n",
       "  </thead>\n",
       "  <tbody>\n",
       "    <tr>\n",
       "      <th>0</th>\n",
       "      <td>0</td>\n",
       "      <td>0</td>\n",
       "      <td>0</td>\n",
       "      <td>855</td>\n",
       "      <td>(0,0,0)</td>\n",
       "    </tr>\n",
       "    <tr>\n",
       "      <th>1</th>\n",
       "      <td>0</td>\n",
       "      <td>0</td>\n",
       "      <td>1</td>\n",
       "      <td>69</td>\n",
       "      <td>(0,0,1)</td>\n",
       "    </tr>\n",
       "    <tr>\n",
       "      <th>19</th>\n",
       "      <td>1</td>\n",
       "      <td>0</td>\n",
       "      <td>0</td>\n",
       "      <td>48</td>\n",
       "      <td>(1,0,0)</td>\n",
       "    </tr>\n",
       "    <tr>\n",
       "      <th>4</th>\n",
       "      <td>0</td>\n",
       "      <td>1</td>\n",
       "      <td>0</td>\n",
       "      <td>40</td>\n",
       "      <td>(0,1,0)</td>\n",
       "    </tr>\n",
       "    <tr>\n",
       "      <th>30</th>\n",
       "      <td>2</td>\n",
       "      <td>0</td>\n",
       "      <td>0</td>\n",
       "      <td>37</td>\n",
       "      <td>(2,0,0)</td>\n",
       "    </tr>\n",
       "    <tr>\n",
       "      <th>...</th>\n",
       "      <td>...</td>\n",
       "      <td>...</td>\n",
       "      <td>...</td>\n",
       "      <td>...</td>\n",
       "      <td>...</td>\n",
       "    </tr>\n",
       "    <tr>\n",
       "      <th>86</th>\n",
       "      <td>5</td>\n",
       "      <td>5</td>\n",
       "      <td>0</td>\n",
       "      <td>1</td>\n",
       "      <td>(5,5,0)</td>\n",
       "    </tr>\n",
       "    <tr>\n",
       "      <th>295</th>\n",
       "      <td>18</td>\n",
       "      <td>5</td>\n",
       "      <td>1</td>\n",
       "      <td>1</td>\n",
       "      <td>(18,5,1)</td>\n",
       "    </tr>\n",
       "    <tr>\n",
       "      <th>296</th>\n",
       "      <td>18</td>\n",
       "      <td>6</td>\n",
       "      <td>3</td>\n",
       "      <td>1</td>\n",
       "      <td>(18,6,3)</td>\n",
       "    </tr>\n",
       "    <tr>\n",
       "      <th>297</th>\n",
       "      <td>18</td>\n",
       "      <td>6</td>\n",
       "      <td>4</td>\n",
       "      <td>1</td>\n",
       "      <td>(18,6,4)</td>\n",
       "    </tr>\n",
       "    <tr>\n",
       "      <th>494</th>\n",
       "      <td>62</td>\n",
       "      <td>18</td>\n",
       "      <td>7</td>\n",
       "      <td>1</td>\n",
       "      <td>(62,18,7)</td>\n",
       "    </tr>\n",
       "  </tbody>\n",
       "</table>\n",
       "<p>495 rows × 5 columns</p>\n",
       "</div>"
      ]
     },
     "metadata": {},
     "output_type": "display_data"
    },
    {
     "data": {
      "application/vnd.plotly.v1+json": {
       "data": [
        {
         "hovertemplate": "Vector=%{x}<br>Count=%{y}<extra></extra>",
         "legendgroup": "",
         "marker": {
          "color": "#636efa",
          "pattern": {
           "shape": ""
          }
         },
         "name": "",
         "orientation": "v",
         "showlegend": false,
         "textposition": "auto",
         "x": [
          "(0,0,0)",
          "(0,0,1)",
          "(1,0,0)",
          "(0,1,0)",
          "(2,0,0)",
          "(3,0,0)",
          "(2,0,1)",
          "(3,0,1)",
          "(0,2,0)",
          "(2,1,0)",
          "(6,1,1)",
          "(4,0,0)",
          "(3,1,0)",
          "(4,0,1)",
          "(6,0,0)",
          "(4,1,1)",
          "(3,2,0)",
          "(3,1,1)",
          "(0,3,1)",
          "(5,0,0)",
          "(6,1,0)",
          "(4,1,0)",
          "(1,2,0)",
          "(6,0,1)",
          "(1,0,1)",
          "(6,2,0)",
          "(8,1,0)",
          "(5,1,0)",
          "(2,1,1)",
          "(1,1,0)",
          "(7,0,0)",
          "(10,3,1)",
          "(9,0,1)",
          "(0,0,2)",
          "(5,0,1)",
          "(5,0,2)",
          "(10,2,2)",
          "(12,2,1)",
          "(9,3,1)",
          "(0,3,0)",
          "(0,2,1)",
          "(8,2,1)",
          "(7,1,0)",
          "(8,0,1)",
          "(3,0,2)",
          "(21,4,2)",
          "(24,6,2)",
          "(5,2,1)",
          "(4,2,0)",
          "(14,2,2)",
          "(4,1,2)",
          "(7,1,1)",
          "(6,0,3)",
          "(9,1,0)",
          "(9,1,1)",
          "(36,10,5)",
          "(9,2,0)",
          "(13,2,1)",
          "(2,3,1)",
          "(12,3,1)",
          "(18,4,1)",
          "(11,2,1)",
          "(20,5,1)",
          "(7,3,1)",
          "(3,2,1)",
          "(25,5,3)",
          "(7,0,2)",
          "(6,0,2)",
          "(15,3,1)",
          "(24,9,3)",
          "(23,4,3)",
          "(10,1,0)",
          "(10,2,0)",
          "(12,0,2)",
          "(20,5,3)",
          "(18,3,1)",
          "(13,2,0)",
          "(17,6,1)",
          "(13,3,0)",
          "(16,5,2)",
          "(13,4,1)",
          "(14,1,1)",
          "(14,3,1)",
          "(9,2,1)",
          "(15,2,3)",
          "(0,2,2)",
          "(0,1,1)",
          "(4,4,0)",
          "(3,4,0)",
          "(2,0,2)",
          "(5,1,1)",
          "(2,2,1)",
          "(0,4,0)",
          "(22,7,0)",
          "(13,3,1)",
          "(2,2,0)",
          "(30,7,4)",
          "(12,5,1)",
          "(32,4,5)",
          "(11,3,0)",
          "(11,3,1)",
          "(19,5,2)",
          "(0,4,1)",
          "(33,7,4)",
          "(10,3,3)",
          "(10,3,2)",
          "(10,2,3)",
          "(10,1,1)",
          "(3,4,1)",
          "(9,3,0)",
          "(19,5,3)",
          "(19,5,1)",
          "(4,0,2)",
          "(16,2,2)",
          "(18,5,0)",
          "(17,5,3)",
          "(17,4,0)",
          "(17,1,1)",
          "(27,4,3)",
          "(27,5,3)",
          "(16,6,1)",
          "(16,3,2)",
          "(16,3,1)",
          "(27,9,4)",
          "(19,4,3)",
          "(16,1,1)",
          "(16,0,2)",
          "(15,11,3)",
          "(15,5,1)",
          "(15,4,1)",
          "(15,3,2)",
          "(1,1,1)",
          "(14,6,3)",
          "(14,6,2)",
          "(9,1,2)",
          "(32,8,5)",
          "(18,3,3)",
          "(5,3,0)",
          "(23,4,1)",
          "(8,1,1)",
          "(6,3,1)",
          "(4,1,3)",
          "(21,9,3)",
          "(22,4,3)",
          "(5,2,0)",
          "(7,3,2)",
          "(27,3,3)",
          "(22,8,3)",
          "(15,0,1)",
          "(42,11,3)",
          "(14,5,5)",
          "(0,5,2)",
          "(14,5,3)",
          "(14,4,1)",
          "(28,7,3)",
          "(14,3,2)",
          "(1,2,1)",
          "(14,3,0)",
          "(14,2,3)",
          "(1,3,0)",
          "(28,7,4)",
          "(14,1,4)",
          "(1,4,1)",
          "(7,0,3)",
          "(4,3,3)",
          "(13,6,2)",
          "(41,11,4)",
          "(29,5,3)",
          "(13,5,3)",
          "(13,5,0)",
          "(7,2,0)",
          "(1,4,2)",
          "(29,8,4)",
          "(13,3,2)",
          "(7,2,1)",
          "(37,10,4)",
          "(13,2,3)",
          "(25,6,3)",
          "(15,2,0)",
          "(15,2,1)",
          "(25,7,3)",
          "(22,8,1)",
          "(16,8,0)",
          "(18,7,3)",
          "(22,8,5)",
          "(1,0,2)",
          "(16,5,0)",
          "(19,2,1)",
          "(16,4,1)",
          "(16,4,0)",
          "(16,3,3)",
          "(6,1,2)",
          "(0,9,1)",
          "(17,9,1)",
          "(6,2,1)",
          "(1,1,2)",
          "(6,3,0)",
          "(26,7,3)",
          "(6,3,2)",
          "(15,9,4)",
          "(15,9,3)",
          "(22,7,3)",
          "(15,7,0)",
          "(15,6,3)",
          "(45,9,5)",
          "(28,4,4)",
          "(13,1,1)",
          "(6,4,2)",
          "(21,9,2)",
          "(6,4,1)",
          "(23,5,1)",
          "(10,4,0)",
          "(20,9,2)",
          "(23,5,5)",
          "(10,0,3)",
          "(38,5,4)",
          "(21,1,2)",
          "(8,2,0)",
          "(38,8,4)",
          "(38,9,4)",
          "(33,7,3)",
          "(23,8,3)",
          "(30,6,4)",
          "(10,4,3)",
          "(20,6,2)",
          "(10,7,2)",
          "(21,5,3)",
          "(10,0,1)",
          "(35,13,6)",
          "(9,5,0)",
          "(21,3,1)",
          "(9,4,0)",
          "(21,4,1)",
          "(8,3,1)",
          "(0,3,3)",
          "(3,7,0)",
          "(0,0,3)",
          "(37,13,5)",
          "(8,3,4)",
          "(36,11,3)",
          "(9,0,2)",
          "(37,5,3)",
          "(9,0,0)",
          "(21,5,0)",
          "(8,0,0)",
          "(40,10,3)",
          "(31,8,3)",
          "(21,7,1)",
          "(24,8,3)",
          "(2,5,1)",
          "(12,3,3)",
          "(12,1,2)",
          "(12,4,2)",
          "(3,2,2)",
          "(7,4,2)",
          "(7,4,3)",
          "(32,7,2)",
          "(39,14,7)",
          "(0,5,1)",
          "(13,0,1)",
          "(33,5,2)",
          "(0,2,3)",
          "(32,9,5)",
          "(20,4,3)",
          "(11,4,2)",
          "(25,4,2)",
          "(13,0,2)",
          "(7,7,0)",
          "(24,5,3)",
          "(23,1,3)",
          "(26,4,2)",
          "(26,5,1)",
          "(23,5,3)",
          "(26,4,1)",
          "(0,1,2)",
          "(24,11,4)",
          "(25,7,1)",
          "(26,4,0)",
          "(26,0,3)",
          "(24,7,3)",
          "(25,9,4)",
          "(23,5,4)",
          "(24,4,3)",
          "(24,6,4)",
          "(22,10,3)",
          "(24,6,3)",
          "(23,6,2)",
          "(23,7,1)",
          "(23,7,2)",
          "(25,7,2)",
          "(24,6,0)",
          "(22,10,4)",
          "(23,3,3)",
          "(5,4,1)",
          "(26,5,3)",
          "(38,12,4)",
          "(34,3,2)",
          "(34,5,3)",
          "(34,7,3)",
          "(34,9,3)",
          "(35,8,1)",
          "(35,10,6)",
          "(36,4,3)",
          "(36,8,4)",
          "(36,9,4)",
          "(36,10,3)",
          "(36,12,3)",
          "(37,9,3)",
          "(37,11,3)",
          "(39,4,2)",
          "(33,11,4)",
          "(39,9,4)",
          "(39,10,5)",
          "(40,5,3)",
          "(41,7,3)",
          "(43,11,4)",
          "(43,14,5)",
          "(45,13,4)",
          "(46,16,3)",
          "(49,11,7)",
          "(51,12,5)",
          "(53,13,5)",
          "(55,17,7)",
          "(57,13,0)",
          "(34,0,1)",
          "(33,9,3)",
          "(26,8,3)",
          "(29,2,3)",
          "(26,8,4)",
          "(26,9,2)",
          "(27,5,4)",
          "(27,6,2)",
          "(27,6,3)",
          "(27,7,3)",
          "(27,7,4)",
          "(27,8,4)",
          "(28,4,3)",
          "(28,6,1)",
          "(28,6,4)",
          "(28,9,3)",
          "(29,0,1)",
          "(22,7,2)",
          "(33,8,2)",
          "(29,7,3)",
          "(30,7,3)",
          "(30,9,5)",
          "(31,2,3)",
          "(31,4,4)",
          "(31,6,5)",
          "(31,10,4)",
          "(32,7,4)",
          "(32,9,4)",
          "(32,11,3)",
          "(33,2,1)",
          "(33,6,1)",
          "(33,6,3)",
          "(29,5,4)",
          "(18,2,2)",
          "(22,5,4)",
          "(3,3,1)",
          "(11,0,3)",
          "(11,0,2)",
          "(11,0,1)",
          "(10,9,0)",
          "(10,7,1)",
          "(10,3,5)",
          "(3,3,2)",
          "(12,7,1)",
          "(10,2,1)",
          "(10,1,3)",
          "(10,1,2)",
          "(10,0,2)",
          "(10,0,0)",
          "(9,4,3)",
          "(11,1,0)",
          "(11,1,1)",
          "(11,1,4)",
          "(3,3,0)",
          "(11,3,3)",
          "(11,5,1)",
          "(11,5,5)",
          "(11,6,1)",
          "(11,6,5)",
          "(11,7,1)",
          "(11,8,3)",
          "(12,0,1)",
          "(12,1,1)",
          "(12,2,0)",
          "(3,0,3)",
          "(12,2,3)",
          "(12,2,4)",
          "(9,4,2)",
          "(3,6,0)",
          "(3,6,1)",
          "(7,3,4)",
          "(5,5,1)",
          "(5,7,3)",
          "(5,3,2)",
          "(5,1,2)",
          "(5,0,3)",
          "(6,1,3)",
          "(4,5,0)",
          "(6,4,0)",
          "(6,7,1)",
          "(4,4,1)",
          "(7,0,1)",
          "(4,3,1)",
          "(7,1,3)",
          "(4,3,0)",
          "(7,4,1)",
          "(9,1,3)",
          "(7,5,2)",
          "(7,9,1)",
          "(7,9,2)",
          "(4,2,3)",
          "(4,2,1)",
          "(8,1,2)",
          "(8,3,0)",
          "(8,3,3)",
          "(8,4,3)",
          "(8,5,1)",
          "(8,5,3)",
          "(4,0,4)",
          "(9,0,3)",
          "(4,0,3)",
          "(12,6,1)",
          "(13,0,3)",
          "(22,5,2)",
          "(19,7,3)",
          "(20,4,2)",
          "(20,4,0)",
          "(20,3,3)",
          "(20,1,2)",
          "(19,10,4)",
          "(19,8,1)",
          "(19,7,2)",
          "(13,3,4)",
          "(19,7,1)",
          "(19,6,3)",
          "(19,6,2)",
          "(19,4,1)",
          "(19,3,5)",
          "(19,3,1)",
          "(20,5,2)",
          "(20,6,3)",
          "(20,10,1)",
          "(20,10,4)",
          "(21,2,3)",
          "(21,3,0)",
          "(21,3,4)",
          "(21,4,3)",
          "(21,5,1)",
          "(21,6,1)",
          "(21,6,3)",
          "(21,7,2)",
          "(21,7,5)",
          "(21,8,3)",
          "(21,10,3)",
          "(22,4,2)",
          "(22,4,4)",
          "(19,3,0)",
          "(19,0,2)",
          "(18,7,2)",
          "(16,4,3)",
          "(13,4,3)",
          "(13,5,1)",
          "(13,6,0)",
          "(13,6,1)",
          "(13,8,0)",
          "(14,1,0)",
          "(14,2,0)",
          "(14,4,0)",
          "(15,1,1)",
          "(15,1,2)",
          "(15,4,3)",
          "(15,7,1)",
          "(16,1,2)",
          "(16,1,3)",
          "(16,5,3)",
          "(18,7,1)",
          "(16,6,2)",
          "(16,6,3)",
          "(16,7,0)",
          "(16,10,3)",
          "(17,0,2)",
          "(17,3,1)",
          "(17,7,2)",
          "(18,0,1)",
          "(18,0,2)",
          "(18,1,2)",
          "(5,5,0)",
          "(18,5,1)",
          "(18,6,3)",
          "(18,6,4)",
          "(62,18,7)"
         ],
         "xaxis": "x",
         "y": {
          "dtype": "i2",
          "bdata": "VwNFADAAKAAlABoAFgASABEAEQAQAA8ADwAOAA4ADQALAAsACwAKAAoACQAJAAkACQAIAAgACAAIAAgABwAHAAcABwAHAAcABgAGAAYABgAGAAYABgAGAAYABQAFAAUABQAFAAUABQAFAAUABQAFAAUABQAFAAUABQAFAAUABQAFAAQABAAEAAQABAAEAAQABAAEAAQABAAEAAQABAAEAAQABAAEAAQABAAEAAQABAAEAAQABAAEAAQAAwADAAMAAwADAAMAAwADAAMAAwADAAMAAwADAAMAAwADAAMAAwADAAMAAwADAAMAAwADAAMAAwADAAMAAwADAAMAAwADAAMAAwADAAMAAwADAAMAAwADAAMAAwADAAMAAwADAAMAAwADAAIAAgACAAIAAgACAAIAAgACAAIAAgACAAIAAgACAAIAAgACAAIAAgACAAIAAgACAAIAAgACAAIAAgACAAIAAgACAAIAAgACAAIAAgACAAIAAgACAAIAAgACAAIAAgACAAIAAgACAAIAAgACAAIAAgACAAIAAgACAAIAAgACAAIAAgACAAIAAgACAAIAAgACAAIAAgACAAIAAgACAAIAAgACAAIAAgACAAIAAgACAAIAAgACAAIAAgACAAIAAgACAAIAAgACAAIAAgACAAIAAgACAAIAAgACAAIAAgACAAIAAgACAAIAAgACAAIAAgACAAIAAgACAAEAAQABAAEAAQABAAEAAQABAAEAAQABAAEAAQABAAEAAQABAAEAAQABAAEAAQABAAEAAQABAAEAAQABAAEAAQABAAEAAQABAAEAAQABAAEAAQABAAEAAQABAAEAAQABAAEAAQABAAEAAQABAAEAAQABAAEAAQABAAEAAQABAAEAAQABAAEAAQABAAEAAQABAAEAAQABAAEAAQABAAEAAQABAAEAAQABAAEAAQABAAEAAQABAAEAAQABAAEAAQABAAEAAQABAAEAAQABAAEAAQABAAEAAQABAAEAAQABAAEAAQABAAEAAQABAAEAAQABAAEAAQABAAEAAQABAAEAAQABAAEAAQABAAEAAQABAAEAAQABAAEAAQABAAEAAQABAAEAAQABAAEAAQABAAEAAQABAAEAAQABAAEAAQABAAEAAQABAAEAAQABAAEAAQABAAEAAQABAAEAAQABAAEAAQABAAEAAQABAAEAAQABAAEAAQABAAEAAQABAAEAAQABAAEAAQABAAEAAQABAAEAAQABAAEAAQABAAEAAQABAAEAAQABAAEAAQABAAEAAQABAAEAAQABAAEAAQABAAEAAQABAAEA"
         },
         "yaxis": "y",
         "type": "bar"
        }
       ],
       "layout": {
        "template": {
         "data": {
          "histogram2dcontour": [
           {
            "type": "histogram2dcontour",
            "colorbar": {
             "outlinewidth": 0,
             "ticks": ""
            },
            "colorscale": [
             [
              0.0,
              "#0d0887"
             ],
             [
              0.1111111111111111,
              "#46039f"
             ],
             [
              0.2222222222222222,
              "#7201a8"
             ],
             [
              0.3333333333333333,
              "#9c179e"
             ],
             [
              0.4444444444444444,
              "#bd3786"
             ],
             [
              0.5555555555555556,
              "#d8576b"
             ],
             [
              0.6666666666666666,
              "#ed7953"
             ],
             [
              0.7777777777777778,
              "#fb9f3a"
             ],
             [
              0.8888888888888888,
              "#fdca26"
             ],
             [
              1.0,
              "#f0f921"
             ]
            ]
           }
          ],
          "choropleth": [
           {
            "type": "choropleth",
            "colorbar": {
             "outlinewidth": 0,
             "ticks": ""
            }
           }
          ],
          "histogram2d": [
           {
            "type": "histogram2d",
            "colorbar": {
             "outlinewidth": 0,
             "ticks": ""
            },
            "colorscale": [
             [
              0.0,
              "#0d0887"
             ],
             [
              0.1111111111111111,
              "#46039f"
             ],
             [
              0.2222222222222222,
              "#7201a8"
             ],
             [
              0.3333333333333333,
              "#9c179e"
             ],
             [
              0.4444444444444444,
              "#bd3786"
             ],
             [
              0.5555555555555556,
              "#d8576b"
             ],
             [
              0.6666666666666666,
              "#ed7953"
             ],
             [
              0.7777777777777778,
              "#fb9f3a"
             ],
             [
              0.8888888888888888,
              "#fdca26"
             ],
             [
              1.0,
              "#f0f921"
             ]
            ]
           }
          ],
          "heatmap": [
           {
            "type": "heatmap",
            "colorbar": {
             "outlinewidth": 0,
             "ticks": ""
            },
            "colorscale": [
             [
              0.0,
              "#0d0887"
             ],
             [
              0.1111111111111111,
              "#46039f"
             ],
             [
              0.2222222222222222,
              "#7201a8"
             ],
             [
              0.3333333333333333,
              "#9c179e"
             ],
             [
              0.4444444444444444,
              "#bd3786"
             ],
             [
              0.5555555555555556,
              "#d8576b"
             ],
             [
              0.6666666666666666,
              "#ed7953"
             ],
             [
              0.7777777777777778,
              "#fb9f3a"
             ],
             [
              0.8888888888888888,
              "#fdca26"
             ],
             [
              1.0,
              "#f0f921"
             ]
            ]
           }
          ],
          "contourcarpet": [
           {
            "type": "contourcarpet",
            "colorbar": {
             "outlinewidth": 0,
             "ticks": ""
            }
           }
          ],
          "contour": [
           {
            "type": "contour",
            "colorbar": {
             "outlinewidth": 0,
             "ticks": ""
            },
            "colorscale": [
             [
              0.0,
              "#0d0887"
             ],
             [
              0.1111111111111111,
              "#46039f"
             ],
             [
              0.2222222222222222,
              "#7201a8"
             ],
             [
              0.3333333333333333,
              "#9c179e"
             ],
             [
              0.4444444444444444,
              "#bd3786"
             ],
             [
              0.5555555555555556,
              "#d8576b"
             ],
             [
              0.6666666666666666,
              "#ed7953"
             ],
             [
              0.7777777777777778,
              "#fb9f3a"
             ],
             [
              0.8888888888888888,
              "#fdca26"
             ],
             [
              1.0,
              "#f0f921"
             ]
            ]
           }
          ],
          "surface": [
           {
            "type": "surface",
            "colorbar": {
             "outlinewidth": 0,
             "ticks": ""
            },
            "colorscale": [
             [
              0.0,
              "#0d0887"
             ],
             [
              0.1111111111111111,
              "#46039f"
             ],
             [
              0.2222222222222222,
              "#7201a8"
             ],
             [
              0.3333333333333333,
              "#9c179e"
             ],
             [
              0.4444444444444444,
              "#bd3786"
             ],
             [
              0.5555555555555556,
              "#d8576b"
             ],
             [
              0.6666666666666666,
              "#ed7953"
             ],
             [
              0.7777777777777778,
              "#fb9f3a"
             ],
             [
              0.8888888888888888,
              "#fdca26"
             ],
             [
              1.0,
              "#f0f921"
             ]
            ]
           }
          ],
          "mesh3d": [
           {
            "type": "mesh3d",
            "colorbar": {
             "outlinewidth": 0,
             "ticks": ""
            }
           }
          ],
          "scatter": [
           {
            "fillpattern": {
             "fillmode": "overlay",
             "size": 10,
             "solidity": 0.2
            },
            "type": "scatter"
           }
          ],
          "parcoords": [
           {
            "type": "parcoords",
            "line": {
             "colorbar": {
              "outlinewidth": 0,
              "ticks": ""
             }
            }
           }
          ],
          "scatterpolargl": [
           {
            "type": "scatterpolargl",
            "marker": {
             "colorbar": {
              "outlinewidth": 0,
              "ticks": ""
             }
            }
           }
          ],
          "bar": [
           {
            "error_x": {
             "color": "#2a3f5f"
            },
            "error_y": {
             "color": "#2a3f5f"
            },
            "marker": {
             "line": {
              "color": "#E5ECF6",
              "width": 0.5
             },
             "pattern": {
              "fillmode": "overlay",
              "size": 10,
              "solidity": 0.2
             }
            },
            "type": "bar"
           }
          ],
          "scattergeo": [
           {
            "type": "scattergeo",
            "marker": {
             "colorbar": {
              "outlinewidth": 0,
              "ticks": ""
             }
            }
           }
          ],
          "scatterpolar": [
           {
            "type": "scatterpolar",
            "marker": {
             "colorbar": {
              "outlinewidth": 0,
              "ticks": ""
             }
            }
           }
          ],
          "histogram": [
           {
            "marker": {
             "pattern": {
              "fillmode": "overlay",
              "size": 10,
              "solidity": 0.2
             }
            },
            "type": "histogram"
           }
          ],
          "scattergl": [
           {
            "type": "scattergl",
            "marker": {
             "colorbar": {
              "outlinewidth": 0,
              "ticks": ""
             }
            }
           }
          ],
          "scatter3d": [
           {
            "type": "scatter3d",
            "line": {
             "colorbar": {
              "outlinewidth": 0,
              "ticks": ""
             }
            },
            "marker": {
             "colorbar": {
              "outlinewidth": 0,
              "ticks": ""
             }
            }
           }
          ],
          "scattermap": [
           {
            "type": "scattermap",
            "marker": {
             "colorbar": {
              "outlinewidth": 0,
              "ticks": ""
             }
            }
           }
          ],
          "scattermapbox": [
           {
            "type": "scattermapbox",
            "marker": {
             "colorbar": {
              "outlinewidth": 0,
              "ticks": ""
             }
            }
           }
          ],
          "scatterternary": [
           {
            "type": "scatterternary",
            "marker": {
             "colorbar": {
              "outlinewidth": 0,
              "ticks": ""
             }
            }
           }
          ],
          "scattercarpet": [
           {
            "type": "scattercarpet",
            "marker": {
             "colorbar": {
              "outlinewidth": 0,
              "ticks": ""
             }
            }
           }
          ],
          "carpet": [
           {
            "aaxis": {
             "endlinecolor": "#2a3f5f",
             "gridcolor": "white",
             "linecolor": "white",
             "minorgridcolor": "white",
             "startlinecolor": "#2a3f5f"
            },
            "baxis": {
             "endlinecolor": "#2a3f5f",
             "gridcolor": "white",
             "linecolor": "white",
             "minorgridcolor": "white",
             "startlinecolor": "#2a3f5f"
            },
            "type": "carpet"
           }
          ],
          "table": [
           {
            "cells": {
             "fill": {
              "color": "#EBF0F8"
             },
             "line": {
              "color": "white"
             }
            },
            "header": {
             "fill": {
              "color": "#C8D4E3"
             },
             "line": {
              "color": "white"
             }
            },
            "type": "table"
           }
          ],
          "barpolar": [
           {
            "marker": {
             "line": {
              "color": "#E5ECF6",
              "width": 0.5
             },
             "pattern": {
              "fillmode": "overlay",
              "size": 10,
              "solidity": 0.2
             }
            },
            "type": "barpolar"
           }
          ],
          "pie": [
           {
            "automargin": true,
            "type": "pie"
           }
          ]
         },
         "layout": {
          "autotypenumbers": "strict",
          "colorway": [
           "#636efa",
           "#EF553B",
           "#00cc96",
           "#ab63fa",
           "#FFA15A",
           "#19d3f3",
           "#FF6692",
           "#B6E880",
           "#FF97FF",
           "#FECB52"
          ],
          "font": {
           "color": "#2a3f5f"
          },
          "hovermode": "closest",
          "hoverlabel": {
           "align": "left"
          },
          "paper_bgcolor": "white",
          "plot_bgcolor": "#E5ECF6",
          "polar": {
           "bgcolor": "#E5ECF6",
           "angularaxis": {
            "gridcolor": "white",
            "linecolor": "white",
            "ticks": ""
           },
           "radialaxis": {
            "gridcolor": "white",
            "linecolor": "white",
            "ticks": ""
           }
          },
          "ternary": {
           "bgcolor": "#E5ECF6",
           "aaxis": {
            "gridcolor": "white",
            "linecolor": "white",
            "ticks": ""
           },
           "baxis": {
            "gridcolor": "white",
            "linecolor": "white",
            "ticks": ""
           },
           "caxis": {
            "gridcolor": "white",
            "linecolor": "white",
            "ticks": ""
           }
          },
          "coloraxis": {
           "colorbar": {
            "outlinewidth": 0,
            "ticks": ""
           }
          },
          "colorscale": {
           "sequential": [
            [
             0.0,
             "#0d0887"
            ],
            [
             0.1111111111111111,
             "#46039f"
            ],
            [
             0.2222222222222222,
             "#7201a8"
            ],
            [
             0.3333333333333333,
             "#9c179e"
            ],
            [
             0.4444444444444444,
             "#bd3786"
            ],
            [
             0.5555555555555556,
             "#d8576b"
            ],
            [
             0.6666666666666666,
             "#ed7953"
            ],
            [
             0.7777777777777778,
             "#fb9f3a"
            ],
            [
             0.8888888888888888,
             "#fdca26"
            ],
            [
             1.0,
             "#f0f921"
            ]
           ],
           "sequentialminus": [
            [
             0.0,
             "#0d0887"
            ],
            [
             0.1111111111111111,
             "#46039f"
            ],
            [
             0.2222222222222222,
             "#7201a8"
            ],
            [
             0.3333333333333333,
             "#9c179e"
            ],
            [
             0.4444444444444444,
             "#bd3786"
            ],
            [
             0.5555555555555556,
             "#d8576b"
            ],
            [
             0.6666666666666666,
             "#ed7953"
            ],
            [
             0.7777777777777778,
             "#fb9f3a"
            ],
            [
             0.8888888888888888,
             "#fdca26"
            ],
            [
             1.0,
             "#f0f921"
            ]
           ],
           "diverging": [
            [
             0,
             "#8e0152"
            ],
            [
             0.1,
             "#c51b7d"
            ],
            [
             0.2,
             "#de77ae"
            ],
            [
             0.3,
             "#f1b6da"
            ],
            [
             0.4,
             "#fde0ef"
            ],
            [
             0.5,
             "#f7f7f7"
            ],
            [
             0.6,
             "#e6f5d0"
            ],
            [
             0.7,
             "#b8e186"
            ],
            [
             0.8,
             "#7fbc41"
            ],
            [
             0.9,
             "#4d9221"
            ],
            [
             1,
             "#276419"
            ]
           ]
          },
          "xaxis": {
           "gridcolor": "white",
           "linecolor": "white",
           "ticks": "",
           "title": {
            "standoff": 15
           },
           "zerolinecolor": "white",
           "automargin": true,
           "zerolinewidth": 2
          },
          "yaxis": {
           "gridcolor": "white",
           "linecolor": "white",
           "ticks": "",
           "title": {
            "standoff": 15
           },
           "zerolinecolor": "white",
           "automargin": true,
           "zerolinewidth": 2
          },
          "scene": {
           "xaxis": {
            "backgroundcolor": "#E5ECF6",
            "gridcolor": "white",
            "linecolor": "white",
            "showbackground": true,
            "ticks": "",
            "zerolinecolor": "white",
            "gridwidth": 2
           },
           "yaxis": {
            "backgroundcolor": "#E5ECF6",
            "gridcolor": "white",
            "linecolor": "white",
            "showbackground": true,
            "ticks": "",
            "zerolinecolor": "white",
            "gridwidth": 2
           },
           "zaxis": {
            "backgroundcolor": "#E5ECF6",
            "gridcolor": "white",
            "linecolor": "white",
            "showbackground": true,
            "ticks": "",
            "zerolinecolor": "white",
            "gridwidth": 2
           }
          },
          "shapedefaults": {
           "line": {
            "color": "#2a3f5f"
           }
          },
          "annotationdefaults": {
           "arrowcolor": "#2a3f5f",
           "arrowhead": 0,
           "arrowwidth": 1
          },
          "geo": {
           "bgcolor": "white",
           "landcolor": "#E5ECF6",
           "subunitcolor": "white",
           "showland": true,
           "showlakes": true,
           "lakecolor": "white"
          },
          "title": {
           "x": 0.05
          },
          "mapbox": {
           "style": "light"
          }
         }
        },
        "xaxis": {
         "anchor": "y",
         "domain": [
          0.0,
          1.0
         ],
         "title": {
          "text": "Vector"
         }
        },
        "yaxis": {
         "anchor": "x",
         "domain": [
          0.0,
          1.0
         ],
         "title": {
          "text": "Count"
         },
         "type": "log"
        },
        "legend": {
         "tracegroupgap": 0
        },
        "title": {
         "text": "24-Month WOMAC Drop Vectors (Right Knee)"
        },
        "barmode": "relative"
       },
       "config": {
        "plotlyServerURL": "https://plot.ly"
       }
      }
     },
     "metadata": {},
     "output_type": "display_data"
    }
   ],
   "execution_count": 4
  },
  {
   "metadata": {},
   "cell_type": "markdown",
   "source": "## 12-24-Month Change WOMAC Distribution on Drop Dataset",
   "id": "126e872e8a7ae628"
  },
  {
   "metadata": {
    "ExecuteTime": {
     "end_time": "2025-08-19T22:08:21.769127Z",
     "start_time": "2025-08-19T22:08:21.710324Z"
    }
   },
   "cell_type": "code",
   "source": [
    "from scripts.womac.womac_distribution import womac_drop_vectors_left_change, womac_drop_vectors_right_change\n",
    "\n",
    "display(womac_drop_vectors_left_change)\n",
    "womac_drop_vectors_left_change_chart = px.bar(womac_drop_vectors_left_change,x='Vector',y='Count',log_y=True)\n",
    "display(womac_drop_vectors_left_change_chart)\n",
    "\n",
    "display(womac_drop_vectors_right_change)\n",
    "womac_drop_vectors_right_change_chart = px.bar(womac_drop_vectors_right_change,x='Vector',y='Count',log_y=True)\n",
    "display(womac_drop_vectors_right_change_chart)"
   ],
   "id": "94080f3941590bad",
   "outputs": [
    {
     "data": {
      "text/plain": [
       "     ΔWOMADLL  ΔWOMKPL  ΔWOMSTFL  Count     Vector\n",
       "354        38       11         5    519  (38,11,5)\n",
       "353        38       11         4     45  (38,11,4)\n",
       "355        38       11         6     41  (38,11,6)\n",
       "385        39       11         5     36  (39,11,5)\n",
       "318        37       11         5     33  (37,11,5)\n",
       "..        ...      ...       ...    ...        ...\n",
       "430        41        9         6      1   (41,9,6)\n",
       "429        41        9         5      1   (41,9,5)\n",
       "427        41        6         5      1   (41,6,5)\n",
       "426        41        6         2      1   (41,6,2)\n",
       "487        43       12         4      1  (43,12,4)\n",
       "\n",
       "[705 rows x 5 columns]"
      ],
      "text/html": [
       "<div>\n",
       "<style scoped>\n",
       "    .dataframe tbody tr th:only-of-type {\n",
       "        vertical-align: middle;\n",
       "    }\n",
       "\n",
       "    .dataframe tbody tr th {\n",
       "        vertical-align: top;\n",
       "    }\n",
       "\n",
       "    .dataframe thead th {\n",
       "        text-align: right;\n",
       "    }\n",
       "</style>\n",
       "<table border=\"1\" class=\"dataframe\">\n",
       "  <thead>\n",
       "    <tr style=\"text-align: right;\">\n",
       "      <th></th>\n",
       "      <th>ΔWOMADLL</th>\n",
       "      <th>ΔWOMKPL</th>\n",
       "      <th>ΔWOMSTFL</th>\n",
       "      <th>Count</th>\n",
       "      <th>Vector</th>\n",
       "    </tr>\n",
       "  </thead>\n",
       "  <tbody>\n",
       "    <tr>\n",
       "      <th>354</th>\n",
       "      <td>38</td>\n",
       "      <td>11</td>\n",
       "      <td>5</td>\n",
       "      <td>519</td>\n",
       "      <td>(38,11,5)</td>\n",
       "    </tr>\n",
       "    <tr>\n",
       "      <th>353</th>\n",
       "      <td>38</td>\n",
       "      <td>11</td>\n",
       "      <td>4</td>\n",
       "      <td>45</td>\n",
       "      <td>(38,11,4)</td>\n",
       "    </tr>\n",
       "    <tr>\n",
       "      <th>355</th>\n",
       "      <td>38</td>\n",
       "      <td>11</td>\n",
       "      <td>6</td>\n",
       "      <td>41</td>\n",
       "      <td>(38,11,6)</td>\n",
       "    </tr>\n",
       "    <tr>\n",
       "      <th>385</th>\n",
       "      <td>39</td>\n",
       "      <td>11</td>\n",
       "      <td>5</td>\n",
       "      <td>36</td>\n",
       "      <td>(39,11,5)</td>\n",
       "    </tr>\n",
       "    <tr>\n",
       "      <th>318</th>\n",
       "      <td>37</td>\n",
       "      <td>11</td>\n",
       "      <td>5</td>\n",
       "      <td>33</td>\n",
       "      <td>(37,11,5)</td>\n",
       "    </tr>\n",
       "    <tr>\n",
       "      <th>...</th>\n",
       "      <td>...</td>\n",
       "      <td>...</td>\n",
       "      <td>...</td>\n",
       "      <td>...</td>\n",
       "      <td>...</td>\n",
       "    </tr>\n",
       "    <tr>\n",
       "      <th>430</th>\n",
       "      <td>41</td>\n",
       "      <td>9</td>\n",
       "      <td>6</td>\n",
       "      <td>1</td>\n",
       "      <td>(41,9,6)</td>\n",
       "    </tr>\n",
       "    <tr>\n",
       "      <th>429</th>\n",
       "      <td>41</td>\n",
       "      <td>9</td>\n",
       "      <td>5</td>\n",
       "      <td>1</td>\n",
       "      <td>(41,9,5)</td>\n",
       "    </tr>\n",
       "    <tr>\n",
       "      <th>427</th>\n",
       "      <td>41</td>\n",
       "      <td>6</td>\n",
       "      <td>5</td>\n",
       "      <td>1</td>\n",
       "      <td>(41,6,5)</td>\n",
       "    </tr>\n",
       "    <tr>\n",
       "      <th>426</th>\n",
       "      <td>41</td>\n",
       "      <td>6</td>\n",
       "      <td>2</td>\n",
       "      <td>1</td>\n",
       "      <td>(41,6,2)</td>\n",
       "    </tr>\n",
       "    <tr>\n",
       "      <th>487</th>\n",
       "      <td>43</td>\n",
       "      <td>12</td>\n",
       "      <td>4</td>\n",
       "      <td>1</td>\n",
       "      <td>(43,12,4)</td>\n",
       "    </tr>\n",
       "  </tbody>\n",
       "</table>\n",
       "<p>705 rows × 5 columns</p>\n",
       "</div>"
      ]
     },
     "metadata": {},
     "output_type": "display_data"
    },
    {
     "data": {
      "application/vnd.plotly.v1+json": {
       "data": [
        {
         "hovertemplate": "Vector=%{x}<br>Count=%{y}<extra></extra>",
         "legendgroup": "",
         "marker": {
          "color": "#636efa",
          "pattern": {
           "shape": ""
          }
         },
         "name": "",
         "orientation": "v",
         "showlegend": false,
         "textposition": "auto",
         "x": [
          "(38,11,5)",
          "(38,11,4)",
          "(38,11,6)",
          "(39,11,5)",
          "(37,11,5)",
          "(41,11,5)",
          "(38,10,5)",
          "(36,11,5)",
          "(38,11,3)",
          "(40,12,5)",
          "(37,10,5)",
          "(37,11,4)",
          "(38,12,5)",
          "(39,12,5)",
          "(37,10,4)",
          "(40,11,5)",
          "(35,11,5)",
          "(37,12,5)",
          "(38,11,7)",
          "(38,10,6)",
          "(36,10,5)",
          "(42,12,5)",
          "(40,12,6)",
          "(42,11,5)",
          "(36,12,5)",
          "(38,10,4)",
          "(36,11,6)",
          "(36,11,4)",
          "(34,11,3)",
          "(41,12,5)",
          "(39,11,6)",
          "(33,10,3)",
          "(42,10,5)",
          "(40,13,5)",
          "(36,9,5)",
          "(33,11,5)",
          "(42,12,6)",
          "(45,13,5)",
          "(39,13,5)",
          "(40,10,5)",
          "(39,11,7)",
          "(46,11,6)",
          "(43,12,6)",
          "(33,11,4)",
          "(33,8,3)",
          "(40,11,6)",
          "(37,13,5)",
          "(37,12,4)",
          "(33,10,5)",
          "(35,10,4)",
          "(37,11,3)",
          "(58,15,7)",
          "(34,11,5)",
          "(39,11,4)",
          "(40,11,4)",
          "(47,13,6)",
          "(30,9,3)",
          "(42,11,6)",
          "(43,11,5)",
          "(35,10,3)",
          "(35,10,6)",
          "(36,10,6)",
          "(37,10,6)",
          "(37,11,6)",
          "(34,9,5)",
          "(38,9,5)",
          "(43,13,5)",
          "(36,11,3)",
          "(35,10,5)",
          "(34,11,4)",
          "(61,21,7)",
          "(32,9,5)",
          "(38,12,6)",
          "(47,15,6)",
          "(34,9,4)",
          "(41,11,6)",
          "(34,12,5)",
          "(41,12,7)",
          "(42,15,5)",
          "(36,10,4)",
          "(31,10,3)",
          "(37,9,6)",
          "(40,14,4)",
          "(39,9,6)",
          "(38,8,4)",
          "(32,10,5)",
          "(36,9,3)",
          "(39,13,4)",
          "(38,12,7)",
          "(35,11,4)",
          "(31,11,5)",
          "(33,10,4)",
          "(29,7,3)",
          "(35,12,5)",
          "(26,6,3)",
          "(46,11,7)",
          "(46,13,5)",
          "(46,13,6)",
          "(20,7,3)",
          "(44,12,7)",
          "(49,19,9)",
          "(52,19,5)",
          "(53,15,6)",
          "(45,14,5)",
          "(54,14,6)",
          "(34,10,4)",
          "(33,7,4)",
          "(33,7,2)",
          "(20,5,3)",
          "(58,19,5)",
          "(38,11,2)",
          "(32,9,4)",
          "(38,12,3)",
          "(38,12,4)",
          "(43,14,4)",
          "(21,4,4)",
          "(21,6,3)",
          "(38,13,6)",
          "(38,14,5)",
          "(39,9,5)",
          "(31,9,2)",
          "(21,12,2)",
          "(31,8,3)",
          "(62,21,6)",
          "(35,14,4)",
          "(35,11,7)",
          "(45,15,8)",
          "(36,9,4)",
          "(49,13,8)",
          "(55,16,5)",
          "(37,9,4)",
          "(34,10,3)",
          "(54,13,6)",
          "(34,10,6)",
          "(53,16,7)",
          "(34,12,4)",
          "(15,4,1)",
          "(36,11,7)",
          "(36,12,4)",
          "(36,13,5)",
          "(53,14,5)",
          "(37,12,6)",
          "(37,10,3)",
          "(11,2,5)",
          "(33,12,3)",
          "(52,12,4)",
          "(51,16,7)",
          "(45,13,6)",
          "(37,11,7)",
          "(18,7,4)",
          "(37,12,3)",
          "(51,15,9)",
          "(47,16,9)",
          "(42,9,5)",
          "(41,10,5)",
          "(44,14,5)",
          "(42,11,2)",
          "(26,14,4)",
          "(28,11,5)",
          "(40,14,7)",
          "(29,5,2)",
          "(41,12,4)",
          "(42,10,6)",
          "(44,10,5)",
          "(44,13,6)",
          "(27,12,3)",
          "(42,12,4)",
          "(29,6,3)",
          "(42,13,7)",
          "(28,10,5)",
          "(42,13,6)",
          "(45,11,6)",
          "(43,11,7)",
          "(40,10,6)",
          "(45,11,5)",
          "(26,8,3)",
          "(42,10,4)",
          "(41,13,5)",
          "(28,8,3)",
          "(28,8,5)",
          "(45,12,5)",
          "(43,16,7)",
          "(43,17,7)",
          "(42,10,3)",
          "(37,9,5)",
          "(52,12,6)",
          "(42,13,5)",
          "(52,18,9)",
          "(53,14,7)",
          "(36,12,6)",
          "(44,11,5)",
          "(37,7,7)",
          "(40,10,4)",
          "(42,14,3)",
          "(55,18,6)",
          "(43,12,5)",
          "(65,21,8)",
          "(35,15,5)",
          "(59,22,6)",
          "(58,20,8)",
          "(43,11,6)",
          "(57,17,7)",
          "(36,6,4)",
          "(36,7,3)",
          "(36,9,2)",
          "(43,14,5)",
          "(43,15,5)",
          "(55,16,7)",
          "(43,11,4)",
          "(55,14,5)",
          "(42,15,7)",
          "(54,21,11)",
          "(36,10,7)",
          "(54,17,6)",
          "(52,11,6)",
          "(54,15,7)",
          "(54,14,7)",
          "(54,16,8)",
          "(50,16,8)",
          "(41,16,5)",
          "(47,17,8)",
          "(41,10,6)",
          "(41,8,3)",
          "(40,14,5)",
          "(38,13,4)",
          "(47,14,5)",
          "(38,13,5)",
          "(44,13,7)",
          "(38,14,6)",
          "(47,11,8)",
          "(39,6,4)",
          "(39,9,4)",
          "(44,14,6)",
          "(40,12,3)",
          "(40,11,7)",
          "(39,10,5)",
          "(47,10,7)",
          "(45,11,7)",
          "(39,12,3)",
          "(46,11,5)",
          "(39,12,6)",
          "(40,11,3)",
          "(38,11,9)",
          "(48,11,6)",
          "(51,15,7)",
          "(48,12,5)",
          "(51,15,6)",
          "(41,14,5)",
          "(51,13,6)",
          "(45,14,4)",
          "(44,12,5)",
          "(50,15,7)",
          "(50,12,7)",
          "(50,12,5)",
          "(37,14,6)",
          "(41,12,6)",
          "(38,8,5)",
          "(38,9,4)",
          "(49,13,6)",
          "(38,10,2)",
          "(44,13,3)",
          "(49,10,3)",
          "(38,10,7)",
          "(35,12,4)",
          "(48,21,5)",
          "(48,15,7)",
          "(48,14,5)",
          "(43,13,6)",
          "(0,4,1)",
          "(84,22,10)",
          "(16,3,1)",
          "(30,6,6)",
          "(30,7,3)",
          "(30,8,6)",
          "(30,10,6)",
          "(30,12,5)",
          "(30,13,5)",
          "(31,9,4)",
          "(16,9,3)",
          "(16,5,0)",
          "(31,10,5)",
          "(31,17,6)",
          "(33,9,4)",
          "(14,3,4)",
          "(32,10,2)",
          "(32,10,4)",
          "(32,10,6)",
          "(13,16,4)",
          "(32,12,4)",
          "(32,13,5)",
          "(33,7,1)",
          "(11,8,3)",
          "(33,7,5)",
          "(29,14,7)",
          "(19,8,3)",
          "(29,10,5)",
          "(29,10,4)",
          "(24,9,4)",
          "(24,9,3)",
          "(25,9,2)",
          "(26,9,3)",
          "(23,8,5)",
          "(23,8,3)",
          "(23,7,5)",
          "(26,10,4)",
          "(27,6,3)",
          "(27,9,5)",
          "(27,10,4)",
          "(28,7,3)",
          "(28,9,2)",
          "(20,10,1)",
          "(28,10,3)",
          "(28,15,3)",
          "(29,6,2)",
          "(29,7,5)",
          "(29,8,3)",
          "(29,8,5)",
          "(29,9,3)",
          "(11,5,1)",
          "(30,11,3)",
          "(3,1,0)",
          "(35,8,5)",
          "(33,11,6)",
          "(34,12,7)",
          "(33,13,6)",
          "(34,9,1)",
          "(34,12,2)",
          "(33,12,2)",
          "(35,9,5)",
          "(34,11,6)",
          "(34,5,2)",
          "(34,6,2)",
          "(7,6,3)",
          "(6,4,3)",
          "(33,12,4)",
          "(20,11,4)",
          "(47,18,5)",
          "(47,17,7)",
          "(48,11,5)",
          "(47,17,6)",
          "(21,6,4)",
          "(21,3,3)",
          "(65,16,9)",
          "(47,16,7)",
          "(21,7,0)",
          "(21,7,5)",
          "(47,12,6)",
          "(47,12,4)",
          "(21,11,4)",
          "(47,11,7)",
          "(20,11,1)",
          "(64,17,7)",
          "(64,18,9)",
          "(48,12,6)",
          "(19,8,4)",
          "(49,13,7)",
          "(63,12,6)",
          "(20,1,4)",
          "(49,13,4)",
          "(49,12,5)",
          "(49,11,5)",
          "(20,6,3)",
          "(20,8,5)",
          "(48,18,6)",
          "(48,16,5)",
          "(63,15,6)",
          "(48,15,9)",
          "(20,9,1)",
          "(48,14,9)",
          "(63,16,5)",
          "(48,14,6)",
          "(47,11,2)",
          "(20,9,6)",
          "(47,11,6)",
          "(57,18,5)",
          "(3,0,2)",
          "(69,24,9)",
          "(71,21,9)",
          "(45,13,7)",
          "(23,9,4)",
          "(24,5,5)",
          "(24,6,3)",
          "(24,6,4)",
          "(24,7,2)",
          "(24,9,0)",
          "(45,10,7)",
          "(45,10,5)",
          "(44,15,8)",
          "(74,22,10)",
          "(44,15,7)",
          "(44,15,5)",
          "(75,21,7)",
          "(83,19,9)",
          "(24,10,1)",
          "(24,14,5)",
          "(44,13,5)",
          "(71,18,9)",
          "(46,9,4)",
          "(21,15,3)",
          "(46,10,5)",
          "(49,14,6)",
          "(67,14,6)",
          "(47,4,7)",
          "(46,16,7)",
          "(46,15,9)",
          "(46,14,5)",
          "(46,14,4)",
          "(46,13,8)",
          "(68,22,9)",
          "(22,4,0)",
          "(22,4,5)",
          "(46,13,4)",
          "(46,12,6)",
          "(46,11,8)",
          "(22,10,3)",
          "(23,5,3)",
          "(23,6,5)",
          "(69,21,9)",
          "(46,10,7)",
          "(47,10,4)",
          "(50,11,7)",
          "(49,14,7)",
          "(12,5,1)",
          "(12,10,6)",
          "(13,3,1)",
          "(58,17,5)",
          "(54,12,6)",
          "(54,11,7)",
          "(58,19,8)",
          "(53,21,5)",
          "(53,17,8)",
          "(53,17,5)",
          "(7,1,5)",
          "(53,16,6)",
          "(53,15,7)",
          "(59,16,6)",
          "(14,5,1)",
          "(53,15,5)",
          "(15,8,3)",
          "(59,20,7)",
          "(53,13,7)",
          "(53,12,5)",
          "(58,16,7)",
          "(8,3,2)",
          "(62,20,10)",
          "(54,16,5)",
          "(9,1,2)",
          "(56,19,7)",
          "(58,13,5)",
          "(56,18,9)",
          "(56,16,6)",
          "(56,15,7)",
          "(56,11,6)",
          "(55,19,7)",
          "(9,7,3)",
          "(10,1,0)",
          "(11,0,3)",
          "(55,15,5)",
          "(55,14,8)",
          "(55,14,7)",
          "(11,3,3)",
          "(54,19,7)",
          "(54,18,5)",
          "(58,15,4)",
          "(12,0,1)",
          "(52,21,7)",
          "(16,4,0)",
          "(52,15,7)",
          "(52,13,7)",
          "(50,17,7)",
          "(50,17,6)",
          "(19,7,1)",
          "(50,16,5)",
          "(19,7,2)",
          "(50,14,7)",
          "(5,0,2)",
          "(50,14,6)",
          "(50,14,3)",
          "(50,13,7)",
          "(50,13,6)",
          "(50,13,5)",
          "(19,7,3)",
          "(62,14,8)",
          "(50,12,6)",
          "(19,8,2)",
          "(57,17,8)",
          "(49,20,7)",
          "(62,17,9)",
          "(50,20,6)",
          "(51,12,3)",
          "(51,12,6)",
          "(17,9,1)",
          "(16,6,3)",
          "(60,17,8)",
          "(17,2,2)",
          "(51,21,5)",
          "(51,17,4)",
          "(17,3,3)",
          "(51,16,5)",
          "(17,7,4)",
          "(17,14,3)",
          "(51,12,8)",
          "(60,18,9)",
          "(61,10,7)",
          "(51,15,5)",
          "(51,14,5)",
          "(25,1,1)",
          "(61,18,8)",
          "(18,6,5)",
          "(61,19,8)",
          "(44,13,4)",
          "(35,12,3)",
          "(44,12,9)",
          "(30,9,2)",
          "(32,7,5)",
          "(32,8,4)",
          "(32,8,5)",
          "(32,9,6)",
          "(32,10,3)",
          "(1,0,1)",
          "(32,11,3)",
          "(32,11,4)",
          "(32,11,7)",
          "(38,10,3)",
          "(38,9,6)",
          "(33,6,4)",
          "(38,8,9)",
          "(33,8,4)",
          "(38,8,3)",
          "(38,7,6)",
          "(38,7,5)",
          "(38,7,3)",
          "(38,7,1)",
          "(38,6,5)",
          "(37,17,6)",
          "(32,7,3)",
          "(32,4,7)",
          "(31,12,5)",
          "(39,8,6)",
          "(30,11,4)",
          "(31,5,4)",
          "(31,6,2)",
          "(39,11,3)",
          "(31,7,3)",
          "(39,10,4)",
          "(31,8,5)",
          "(31,9,5)",
          "(39,9,3)",
          "(39,8,4)",
          "(31,11,4)",
          "(31,9,7)",
          "(39,5,5)",
          "(39,4,4)",
          "(38,16,6)",
          "(38,15,9)",
          "(38,14,7)",
          "(31,10,4)",
          "(38,13,7)",
          "(31,11,0)",
          "(37,15,4)",
          "(33,8,5)",
          "(33,8,6)",
          "(35,8,3)",
          "(34,9,3)",
          "(34,10,2)",
          "(34,10,5)",
          "(34,11,1)",
          "(36,11,2)",
          "(34,13,4)",
          "(36,10,3)",
          "(36,10,2)",
          "(36,9,8)",
          "(35,9,3)",
          "(36,12,3)",
          "(35,9,4)",
          "(36,8,3)",
          "(36,8,2)",
          "(35,9,6)",
          "(36,4,4)",
          "(36,4,3)",
          "(35,11,3)",
          "(35,11,6)",
          "(35,13,4)",
          "(36,11,8)",
          "(34,8,5)",
          "(37,13,4)",
          "(33,12,5)",
          "(37,13,3)",
          "(37,13,2)",
          "(37,12,7)",
          "(33,9,6)",
          "(33,9,8)",
          "(33,10,2)",
          "(33,10,6)",
          "(33,11,3)",
          "(33,11,7)",
          "(33,12,6)",
          "(34,8,4)",
          "(33,13,3)",
          "(33,16,5)",
          "(33,17,6)",
          "(37,8,7)",
          "(37,8,5)",
          "(37,8,3)",
          "(37,5,5)",
          "(36,14,5)",
          "(34,7,2)",
          "(39,12,4)",
          "(39,13,6)",
          "(25,4,4)",
          "(39,14,3)",
          "(43,10,5)",
          "(43,9,6)",
          "(43,9,5)",
          "(42,16,5)",
          "(27,2,1)",
          "(42,15,6)",
          "(42,15,3)",
          "(42,14,6)",
          "(42,14,5)",
          "(27,7,4)",
          "(27,8,4)",
          "(27,9,4)",
          "(27,9,6)",
          "(27,10,3)",
          "(42,11,7)",
          "(27,11,3)",
          "(28,5,4)",
          "(42,11,3)",
          "(28,7,2)",
          "(28,7,4)",
          "(28,8,1)",
          "(26,11,6)",
          "(26,10,5)",
          "(26,10,3)",
          "(43,15,6)",
          "(44,12,6)",
          "(25,6,7)",
          "(44,11,7)",
          "(44,11,6)",
          "(25,8,1)",
          "(44,11,4)",
          "(44,8,8)",
          "(25,10,3)",
          "(25,11,2)",
          "(26,6,5)",
          "(43,11,8)",
          "(43,14,6)",
          "(26,7,4)",
          "(26,8,5)",
          "(43,13,8)",
          "(26,8,6)",
          "(43,12,7)",
          "(26,9,4)",
          "(26,10,2)",
          "(35,13,3)",
          "(28,8,4)",
          "(42,9,7)",
          "(42,9,6)",
          "(30,6,3)",
          "(40,13,6)",
          "(40,13,4)",
          "(40,12,8)",
          "(40,12,7)",
          "(29,11,3)",
          "(29,12,4)",
          "(40,11,8)",
          "(29,17,5)",
          "(30,2,2)",
          "(30,7,2)",
          "(29,9,4)",
          "(40,10,8)",
          "(30,7,4)",
          "(30,8,3)",
          "(40,9,4)",
          "(40,8,5)",
          "(40,8,4)",
          "(39,16,7)",
          "(39,15,5)",
          "(39,14,7)",
          "(40,14,3)",
          "(40,14,6)",
          "(42,9,3)",
          "(28,11,4)",
          "(41,16,6)",
          "(28,9,3)",
          "(41,15,6)",
          "(41,15,5)",
          "(28,9,4)",
          "(41,13,7)",
          "(41,13,6)",
          "(28,10,1)",
          "(41,12,8)",
          "(29,5,4)",
          "(41,5,5)",
          "(41,12,3)",
          "(41,11,9)",
          "(41,11,4)",
          "(41,10,7)",
          "(29,8,1)",
          "(41,9,6)",
          "(41,9,5)",
          "(41,6,5)",
          "(41,6,2)",
          "(43,12,4)"
         ],
         "xaxis": "x",
         "y": {
          "dtype": "i2",
          "bdata": "BwItACkAJAAhABwAGQAWABMAEQARABAAEAAPAA8ADgANAA0ADAALAAsACwAKAAoACQAJAAkACQAJAAgACAAHAAcABwAHAAcABwAGAAYABgAGAAYABgAGAAYABgAGAAYABgAGAAYABgAGAAYABQAFAAUABQAFAAUABQAFAAUABQAFAAUABQAFAAUABQAFAAUABQAFAAUABAAEAAQABAAEAAQABAAEAAQABAAEAAQABAAEAAQABAAEAAQABAAEAAQABAAEAAQABAAEAAQABAAEAAMAAwADAAMAAwADAAMAAwADAAMAAwADAAMAAwADAAMAAwADAAMAAwADAAMAAwADAAMAAwADAAMAAwADAAMAAwADAAMAAwADAAMAAwADAAMAAwADAAMAAwADAAMAAwADAAMAAwADAAMAAwADAAMAAwADAAMAAwADAAMAAwADAAMAAwADAAMAAwADAAMAAwADAAMAAwADAAMAAwACAAIAAgACAAIAAgACAAIAAgACAAIAAgACAAIAAgACAAIAAgACAAIAAgACAAIAAgACAAIAAgACAAIAAgACAAIAAgACAAIAAgACAAIAAgACAAIAAgACAAIAAgACAAIAAgACAAIAAgACAAIAAgACAAIAAgACAAIAAgACAAIAAgACAAIAAgACAAIAAgACAAIAAgACAAIAAgACAAIAAgACAAIAAgACAAIAAgACAAIAAgACAAIAAgACAAIAAgACAAIAAgACAAIAAgACAAIAAgACAAIAAgACAAIAAgACAAIAAgACAAIAAgACAAIAAgACAAIAAgACAAIAAgACAAIAAgACAAIAAgACAAIAAgACAAIAAgACAAIAAgACAAIAAgACAAIAAgACAAIAAgACAAIAAgACAAIAAgACAAEAAQABAAEAAQABAAEAAQABAAEAAQABAAEAAQABAAEAAQABAAEAAQABAAEAAQABAAEAAQABAAEAAQABAAEAAQABAAEAAQABAAEAAQABAAEAAQABAAEAAQABAAEAAQABAAEAAQABAAEAAQABAAEAAQABAAEAAQABAAEAAQABAAEAAQABAAEAAQABAAEAAQABAAEAAQABAAEAAQABAAEAAQABAAEAAQABAAEAAQABAAEAAQABAAEAAQABAAEAAQABAAEAAQABAAEAAQABAAEAAQABAAEAAQABAAEAAQABAAEAAQABAAEAAQABAAEAAQABAAEAAQABAAEAAQABAAEAAQABAAEAAQABAAEAAQABAAEAAQABAAEAAQABAAEAAQABAAEAAQABAAEAAQABAAEAAQABAAEAAQABAAEAAQABAAEAAQABAAEAAQABAAEAAQABAAEAAQABAAEAAQABAAEAAQABAAEAAQABAAEAAQABAAEAAQABAAEAAQABAAEAAQABAAEAAQABAAEAAQABAAEAAQABAAEAAQABAAEAAQABAAEAAQABAAEAAQABAAEAAQABAAEAAQABAAEAAQABAAEAAQABAAEAAQABAAEAAQABAAEAAQABAAEAAQABAAEAAQABAAEAAQABAAEAAQABAAEAAQABAAEAAQABAAEAAQABAAEAAQABAAEAAQABAAEAAQABAAEAAQABAAEAAQABAAEAAQABAAEAAQABAAEAAQABAAEAAQABAAEAAQABAAEAAQABAAEAAQABAAEAAQABAAEAAQABAAEAAQABAAEAAQABAAEAAQABAAEAAQABAAEAAQABAAEAAQABAAEAAQABAAEAAQABAAEAAQABAAEAAQABAAEAAQABAAEAAQABAAEAAQABAAEAAQABAAEAAQABAAEAAQABAAEAAQABAAEAAQABAAEAAQABAAEAAQABAAEAAQABAAEAAQABAAEAAQABAAEAAQABAAEA"
         },
         "yaxis": "y",
         "type": "bar"
        }
       ],
       "layout": {
        "template": {
         "data": {
          "histogram2dcontour": [
           {
            "type": "histogram2dcontour",
            "colorbar": {
             "outlinewidth": 0,
             "ticks": ""
            },
            "colorscale": [
             [
              0.0,
              "#0d0887"
             ],
             [
              0.1111111111111111,
              "#46039f"
             ],
             [
              0.2222222222222222,
              "#7201a8"
             ],
             [
              0.3333333333333333,
              "#9c179e"
             ],
             [
              0.4444444444444444,
              "#bd3786"
             ],
             [
              0.5555555555555556,
              "#d8576b"
             ],
             [
              0.6666666666666666,
              "#ed7953"
             ],
             [
              0.7777777777777778,
              "#fb9f3a"
             ],
             [
              0.8888888888888888,
              "#fdca26"
             ],
             [
              1.0,
              "#f0f921"
             ]
            ]
           }
          ],
          "choropleth": [
           {
            "type": "choropleth",
            "colorbar": {
             "outlinewidth": 0,
             "ticks": ""
            }
           }
          ],
          "histogram2d": [
           {
            "type": "histogram2d",
            "colorbar": {
             "outlinewidth": 0,
             "ticks": ""
            },
            "colorscale": [
             [
              0.0,
              "#0d0887"
             ],
             [
              0.1111111111111111,
              "#46039f"
             ],
             [
              0.2222222222222222,
              "#7201a8"
             ],
             [
              0.3333333333333333,
              "#9c179e"
             ],
             [
              0.4444444444444444,
              "#bd3786"
             ],
             [
              0.5555555555555556,
              "#d8576b"
             ],
             [
              0.6666666666666666,
              "#ed7953"
             ],
             [
              0.7777777777777778,
              "#fb9f3a"
             ],
             [
              0.8888888888888888,
              "#fdca26"
             ],
             [
              1.0,
              "#f0f921"
             ]
            ]
           }
          ],
          "heatmap": [
           {
            "type": "heatmap",
            "colorbar": {
             "outlinewidth": 0,
             "ticks": ""
            },
            "colorscale": [
             [
              0.0,
              "#0d0887"
             ],
             [
              0.1111111111111111,
              "#46039f"
             ],
             [
              0.2222222222222222,
              "#7201a8"
             ],
             [
              0.3333333333333333,
              "#9c179e"
             ],
             [
              0.4444444444444444,
              "#bd3786"
             ],
             [
              0.5555555555555556,
              "#d8576b"
             ],
             [
              0.6666666666666666,
              "#ed7953"
             ],
             [
              0.7777777777777778,
              "#fb9f3a"
             ],
             [
              0.8888888888888888,
              "#fdca26"
             ],
             [
              1.0,
              "#f0f921"
             ]
            ]
           }
          ],
          "contourcarpet": [
           {
            "type": "contourcarpet",
            "colorbar": {
             "outlinewidth": 0,
             "ticks": ""
            }
           }
          ],
          "contour": [
           {
            "type": "contour",
            "colorbar": {
             "outlinewidth": 0,
             "ticks": ""
            },
            "colorscale": [
             [
              0.0,
              "#0d0887"
             ],
             [
              0.1111111111111111,
              "#46039f"
             ],
             [
              0.2222222222222222,
              "#7201a8"
             ],
             [
              0.3333333333333333,
              "#9c179e"
             ],
             [
              0.4444444444444444,
              "#bd3786"
             ],
             [
              0.5555555555555556,
              "#d8576b"
             ],
             [
              0.6666666666666666,
              "#ed7953"
             ],
             [
              0.7777777777777778,
              "#fb9f3a"
             ],
             [
              0.8888888888888888,
              "#fdca26"
             ],
             [
              1.0,
              "#f0f921"
             ]
            ]
           }
          ],
          "surface": [
           {
            "type": "surface",
            "colorbar": {
             "outlinewidth": 0,
             "ticks": ""
            },
            "colorscale": [
             [
              0.0,
              "#0d0887"
             ],
             [
              0.1111111111111111,
              "#46039f"
             ],
             [
              0.2222222222222222,
              "#7201a8"
             ],
             [
              0.3333333333333333,
              "#9c179e"
             ],
             [
              0.4444444444444444,
              "#bd3786"
             ],
             [
              0.5555555555555556,
              "#d8576b"
             ],
             [
              0.6666666666666666,
              "#ed7953"
             ],
             [
              0.7777777777777778,
              "#fb9f3a"
             ],
             [
              0.8888888888888888,
              "#fdca26"
             ],
             [
              1.0,
              "#f0f921"
             ]
            ]
           }
          ],
          "mesh3d": [
           {
            "type": "mesh3d",
            "colorbar": {
             "outlinewidth": 0,
             "ticks": ""
            }
           }
          ],
          "scatter": [
           {
            "fillpattern": {
             "fillmode": "overlay",
             "size": 10,
             "solidity": 0.2
            },
            "type": "scatter"
           }
          ],
          "parcoords": [
           {
            "type": "parcoords",
            "line": {
             "colorbar": {
              "outlinewidth": 0,
              "ticks": ""
             }
            }
           }
          ],
          "scatterpolargl": [
           {
            "type": "scatterpolargl",
            "marker": {
             "colorbar": {
              "outlinewidth": 0,
              "ticks": ""
             }
            }
           }
          ],
          "bar": [
           {
            "error_x": {
             "color": "#2a3f5f"
            },
            "error_y": {
             "color": "#2a3f5f"
            },
            "marker": {
             "line": {
              "color": "#E5ECF6",
              "width": 0.5
             },
             "pattern": {
              "fillmode": "overlay",
              "size": 10,
              "solidity": 0.2
             }
            },
            "type": "bar"
           }
          ],
          "scattergeo": [
           {
            "type": "scattergeo",
            "marker": {
             "colorbar": {
              "outlinewidth": 0,
              "ticks": ""
             }
            }
           }
          ],
          "scatterpolar": [
           {
            "type": "scatterpolar",
            "marker": {
             "colorbar": {
              "outlinewidth": 0,
              "ticks": ""
             }
            }
           }
          ],
          "histogram": [
           {
            "marker": {
             "pattern": {
              "fillmode": "overlay",
              "size": 10,
              "solidity": 0.2
             }
            },
            "type": "histogram"
           }
          ],
          "scattergl": [
           {
            "type": "scattergl",
            "marker": {
             "colorbar": {
              "outlinewidth": 0,
              "ticks": ""
             }
            }
           }
          ],
          "scatter3d": [
           {
            "type": "scatter3d",
            "line": {
             "colorbar": {
              "outlinewidth": 0,
              "ticks": ""
             }
            },
            "marker": {
             "colorbar": {
              "outlinewidth": 0,
              "ticks": ""
             }
            }
           }
          ],
          "scattermap": [
           {
            "type": "scattermap",
            "marker": {
             "colorbar": {
              "outlinewidth": 0,
              "ticks": ""
             }
            }
           }
          ],
          "scattermapbox": [
           {
            "type": "scattermapbox",
            "marker": {
             "colorbar": {
              "outlinewidth": 0,
              "ticks": ""
             }
            }
           }
          ],
          "scatterternary": [
           {
            "type": "scatterternary",
            "marker": {
             "colorbar": {
              "outlinewidth": 0,
              "ticks": ""
             }
            }
           }
          ],
          "scattercarpet": [
           {
            "type": "scattercarpet",
            "marker": {
             "colorbar": {
              "outlinewidth": 0,
              "ticks": ""
             }
            }
           }
          ],
          "carpet": [
           {
            "aaxis": {
             "endlinecolor": "#2a3f5f",
             "gridcolor": "white",
             "linecolor": "white",
             "minorgridcolor": "white",
             "startlinecolor": "#2a3f5f"
            },
            "baxis": {
             "endlinecolor": "#2a3f5f",
             "gridcolor": "white",
             "linecolor": "white",
             "minorgridcolor": "white",
             "startlinecolor": "#2a3f5f"
            },
            "type": "carpet"
           }
          ],
          "table": [
           {
            "cells": {
             "fill": {
              "color": "#EBF0F8"
             },
             "line": {
              "color": "white"
             }
            },
            "header": {
             "fill": {
              "color": "#C8D4E3"
             },
             "line": {
              "color": "white"
             }
            },
            "type": "table"
           }
          ],
          "barpolar": [
           {
            "marker": {
             "line": {
              "color": "#E5ECF6",
              "width": 0.5
             },
             "pattern": {
              "fillmode": "overlay",
              "size": 10,
              "solidity": 0.2
             }
            },
            "type": "barpolar"
           }
          ],
          "pie": [
           {
            "automargin": true,
            "type": "pie"
           }
          ]
         },
         "layout": {
          "autotypenumbers": "strict",
          "colorway": [
           "#636efa",
           "#EF553B",
           "#00cc96",
           "#ab63fa",
           "#FFA15A",
           "#19d3f3",
           "#FF6692",
           "#B6E880",
           "#FF97FF",
           "#FECB52"
          ],
          "font": {
           "color": "#2a3f5f"
          },
          "hovermode": "closest",
          "hoverlabel": {
           "align": "left"
          },
          "paper_bgcolor": "white",
          "plot_bgcolor": "#E5ECF6",
          "polar": {
           "bgcolor": "#E5ECF6",
           "angularaxis": {
            "gridcolor": "white",
            "linecolor": "white",
            "ticks": ""
           },
           "radialaxis": {
            "gridcolor": "white",
            "linecolor": "white",
            "ticks": ""
           }
          },
          "ternary": {
           "bgcolor": "#E5ECF6",
           "aaxis": {
            "gridcolor": "white",
            "linecolor": "white",
            "ticks": ""
           },
           "baxis": {
            "gridcolor": "white",
            "linecolor": "white",
            "ticks": ""
           },
           "caxis": {
            "gridcolor": "white",
            "linecolor": "white",
            "ticks": ""
           }
          },
          "coloraxis": {
           "colorbar": {
            "outlinewidth": 0,
            "ticks": ""
           }
          },
          "colorscale": {
           "sequential": [
            [
             0.0,
             "#0d0887"
            ],
            [
             0.1111111111111111,
             "#46039f"
            ],
            [
             0.2222222222222222,
             "#7201a8"
            ],
            [
             0.3333333333333333,
             "#9c179e"
            ],
            [
             0.4444444444444444,
             "#bd3786"
            ],
            [
             0.5555555555555556,
             "#d8576b"
            ],
            [
             0.6666666666666666,
             "#ed7953"
            ],
            [
             0.7777777777777778,
             "#fb9f3a"
            ],
            [
             0.8888888888888888,
             "#fdca26"
            ],
            [
             1.0,
             "#f0f921"
            ]
           ],
           "sequentialminus": [
            [
             0.0,
             "#0d0887"
            ],
            [
             0.1111111111111111,
             "#46039f"
            ],
            [
             0.2222222222222222,
             "#7201a8"
            ],
            [
             0.3333333333333333,
             "#9c179e"
            ],
            [
             0.4444444444444444,
             "#bd3786"
            ],
            [
             0.5555555555555556,
             "#d8576b"
            ],
            [
             0.6666666666666666,
             "#ed7953"
            ],
            [
             0.7777777777777778,
             "#fb9f3a"
            ],
            [
             0.8888888888888888,
             "#fdca26"
            ],
            [
             1.0,
             "#f0f921"
            ]
           ],
           "diverging": [
            [
             0,
             "#8e0152"
            ],
            [
             0.1,
             "#c51b7d"
            ],
            [
             0.2,
             "#de77ae"
            ],
            [
             0.3,
             "#f1b6da"
            ],
            [
             0.4,
             "#fde0ef"
            ],
            [
             0.5,
             "#f7f7f7"
            ],
            [
             0.6,
             "#e6f5d0"
            ],
            [
             0.7,
             "#b8e186"
            ],
            [
             0.8,
             "#7fbc41"
            ],
            [
             0.9,
             "#4d9221"
            ],
            [
             1,
             "#276419"
            ]
           ]
          },
          "xaxis": {
           "gridcolor": "white",
           "linecolor": "white",
           "ticks": "",
           "title": {
            "standoff": 15
           },
           "zerolinecolor": "white",
           "automargin": true,
           "zerolinewidth": 2
          },
          "yaxis": {
           "gridcolor": "white",
           "linecolor": "white",
           "ticks": "",
           "title": {
            "standoff": 15
           },
           "zerolinecolor": "white",
           "automargin": true,
           "zerolinewidth": 2
          },
          "scene": {
           "xaxis": {
            "backgroundcolor": "#E5ECF6",
            "gridcolor": "white",
            "linecolor": "white",
            "showbackground": true,
            "ticks": "",
            "zerolinecolor": "white",
            "gridwidth": 2
           },
           "yaxis": {
            "backgroundcolor": "#E5ECF6",
            "gridcolor": "white",
            "linecolor": "white",
            "showbackground": true,
            "ticks": "",
            "zerolinecolor": "white",
            "gridwidth": 2
           },
           "zaxis": {
            "backgroundcolor": "#E5ECF6",
            "gridcolor": "white",
            "linecolor": "white",
            "showbackground": true,
            "ticks": "",
            "zerolinecolor": "white",
            "gridwidth": 2
           }
          },
          "shapedefaults": {
           "line": {
            "color": "#2a3f5f"
           }
          },
          "annotationdefaults": {
           "arrowcolor": "#2a3f5f",
           "arrowhead": 0,
           "arrowwidth": 1
          },
          "geo": {
           "bgcolor": "white",
           "landcolor": "#E5ECF6",
           "subunitcolor": "white",
           "showland": true,
           "showlakes": true,
           "lakecolor": "white"
          },
          "title": {
           "x": 0.05
          },
          "mapbox": {
           "style": "light"
          }
         }
        },
        "xaxis": {
         "anchor": "y",
         "domain": [
          0.0,
          1.0
         ],
         "title": {
          "text": "Vector"
         }
        },
        "yaxis": {
         "anchor": "x",
         "domain": [
          0.0,
          1.0
         ],
         "title": {
          "text": "Count"
         },
         "type": "log"
        },
        "legend": {
         "tracegroupgap": 0
        },
        "margin": {
         "t": 60
        },
        "barmode": "relative"
       },
       "config": {
        "plotlyServerURL": "https://plot.ly"
       }
      }
     },
     "metadata": {},
     "output_type": "display_data"
    },
    {
     "data": {
      "text/plain": [
       "     ΔWOMADLR  ΔWOMKPR  ΔWOMSTFR  Count     Vector\n",
       "372        47       13         5    402  (47,13,5)\n",
       "371        47       13         4     47  (47,13,4)\n",
       "373        47       13         6     38  (47,13,6)\n",
       "367        47       12         5     36  (47,12,5)\n",
       "410        48       13         5     31  (48,13,5)\n",
       "..        ...      ...       ...    ...        ...\n",
       "464        50       12         5      1  (50,12,5)\n",
       "148        39        5         4      1   (39,5,4)\n",
       "149        39        9         4      1   (39,9,4)\n",
       "461        50        4         3      1   (50,4,3)\n",
       "0           0        0         0      1    (0,0,0)\n",
       "\n",
       "[767 rows x 5 columns]"
      ],
      "text/html": [
       "<div>\n",
       "<style scoped>\n",
       "    .dataframe tbody tr th:only-of-type {\n",
       "        vertical-align: middle;\n",
       "    }\n",
       "\n",
       "    .dataframe tbody tr th {\n",
       "        vertical-align: top;\n",
       "    }\n",
       "\n",
       "    .dataframe thead th {\n",
       "        text-align: right;\n",
       "    }\n",
       "</style>\n",
       "<table border=\"1\" class=\"dataframe\">\n",
       "  <thead>\n",
       "    <tr style=\"text-align: right;\">\n",
       "      <th></th>\n",
       "      <th>ΔWOMADLR</th>\n",
       "      <th>ΔWOMKPR</th>\n",
       "      <th>ΔWOMSTFR</th>\n",
       "      <th>Count</th>\n",
       "      <th>Vector</th>\n",
       "    </tr>\n",
       "  </thead>\n",
       "  <tbody>\n",
       "    <tr>\n",
       "      <th>372</th>\n",
       "      <td>47</td>\n",
       "      <td>13</td>\n",
       "      <td>5</td>\n",
       "      <td>402</td>\n",
       "      <td>(47,13,5)</td>\n",
       "    </tr>\n",
       "    <tr>\n",
       "      <th>371</th>\n",
       "      <td>47</td>\n",
       "      <td>13</td>\n",
       "      <td>4</td>\n",
       "      <td>47</td>\n",
       "      <td>(47,13,4)</td>\n",
       "    </tr>\n",
       "    <tr>\n",
       "      <th>373</th>\n",
       "      <td>47</td>\n",
       "      <td>13</td>\n",
       "      <td>6</td>\n",
       "      <td>38</td>\n",
       "      <td>(47,13,6)</td>\n",
       "    </tr>\n",
       "    <tr>\n",
       "      <th>367</th>\n",
       "      <td>47</td>\n",
       "      <td>12</td>\n",
       "      <td>5</td>\n",
       "      <td>36</td>\n",
       "      <td>(47,12,5)</td>\n",
       "    </tr>\n",
       "    <tr>\n",
       "      <th>410</th>\n",
       "      <td>48</td>\n",
       "      <td>13</td>\n",
       "      <td>5</td>\n",
       "      <td>31</td>\n",
       "      <td>(48,13,5)</td>\n",
       "    </tr>\n",
       "    <tr>\n",
       "      <th>...</th>\n",
       "      <td>...</td>\n",
       "      <td>...</td>\n",
       "      <td>...</td>\n",
       "      <td>...</td>\n",
       "      <td>...</td>\n",
       "    </tr>\n",
       "    <tr>\n",
       "      <th>464</th>\n",
       "      <td>50</td>\n",
       "      <td>12</td>\n",
       "      <td>5</td>\n",
       "      <td>1</td>\n",
       "      <td>(50,12,5)</td>\n",
       "    </tr>\n",
       "    <tr>\n",
       "      <th>148</th>\n",
       "      <td>39</td>\n",
       "      <td>5</td>\n",
       "      <td>4</td>\n",
       "      <td>1</td>\n",
       "      <td>(39,5,4)</td>\n",
       "    </tr>\n",
       "    <tr>\n",
       "      <th>149</th>\n",
       "      <td>39</td>\n",
       "      <td>9</td>\n",
       "      <td>4</td>\n",
       "      <td>1</td>\n",
       "      <td>(39,9,4)</td>\n",
       "    </tr>\n",
       "    <tr>\n",
       "      <th>461</th>\n",
       "      <td>50</td>\n",
       "      <td>4</td>\n",
       "      <td>3</td>\n",
       "      <td>1</td>\n",
       "      <td>(50,4,3)</td>\n",
       "    </tr>\n",
       "    <tr>\n",
       "      <th>0</th>\n",
       "      <td>0</td>\n",
       "      <td>0</td>\n",
       "      <td>0</td>\n",
       "      <td>1</td>\n",
       "      <td>(0,0,0)</td>\n",
       "    </tr>\n",
       "  </tbody>\n",
       "</table>\n",
       "<p>767 rows × 5 columns</p>\n",
       "</div>"
      ]
     },
     "metadata": {},
     "output_type": "display_data"
    },
    {
     "data": {
      "application/vnd.plotly.v1+json": {
       "data": [
        {
         "hovertemplate": "Vector=%{x}<br>Count=%{y}<extra></extra>",
         "legendgroup": "",
         "marker": {
          "color": "#636efa",
          "pattern": {
           "shape": ""
          }
         },
         "name": "",
         "orientation": "v",
         "showlegend": false,
         "textposition": "auto",
         "x": [
          "(47,13,5)",
          "(47,13,4)",
          "(47,13,6)",
          "(47,12,5)",
          "(48,13,5)",
          "(46,13,5)",
          "(47,13,3)",
          "(47,13,7)",
          "(49,13,5)",
          "(48,14,5)",
          "(45,13,5)",
          "(49,14,5)",
          "(51,14,5)",
          "(47,14,5)",
          "(49,13,6)",
          "(46,13,4)",
          "(46,12,5)",
          "(46,11,5)",
          "(46,13,6)",
          "(47,11,5)",
          "(46,14,5)",
          "(45,12,5)",
          "(47,12,4)",
          "(46,13,3)",
          "(47,14,6)",
          "(54,14,6)",
          "(50,15,5)",
          "(44,14,5)",
          "(47,15,5)",
          "(50,14,6)",
          "(46,12,4)",
          "(47,14,4)",
          "(44,12,5)",
          "(44,13,3)",
          "(51,13,5)",
          "(51,15,5)",
          "(48,13,6)",
          "(47,15,6)",
          "(50,13,6)",
          "(50,13,5)",
          "(44,12,3)",
          "(50,13,7)",
          "(45,13,3)",
          "(45,13,4)",
          "(45,13,6)",
          "(46,11,4)",
          "(47,11,4)",
          "(47,15,7)",
          "(50,14,4)",
          "(47,16,5)",
          "(51,13,6)",
          "(43,12,5)",
          "(54,15,6)",
          "(48,13,4)",
          "(48,15,5)",
          "(48,12,5)",
          "(49,12,4)",
          "(49,12,5)",
          "(49,14,6)",
          "(49,13,4)",
          "(54,14,7)",
          "(49,13,7)",
          "(54,13,6)",
          "(49,14,7)",
          "(49,15,6)",
          "(50,13,4)",
          "(52,13,6)",
          "(48,14,6)",
          "(52,13,7)",
          "(45,11,4)",
          "(47,16,6)",
          "(56,15,6)",
          "(56,16,7)",
          "(43,12,4)",
          "(45,14,5)",
          "(42,10,5)",
          "(46,12,6)",
          "(44,12,4)",
          "(43,9,3)",
          "(48,14,4)",
          "(50,17,6)",
          "(50,14,5)",
          "(45,6,4)",
          "(51,13,3)",
          "(51,13,4)",
          "(44,13,4)",
          "(43,13,3)",
          "(45,14,4)",
          "(51,15,7)",
          "(43,13,5)",
          "(49,16,5)",
          "(46,14,6)",
          "(46,14,8)",
          "(48,12,6)",
          "(43,11,5)",
          "(49,15,5)",
          "(47,10,5)",
          "(42,16,4)",
          "(42,13,3)",
          "(42,12,3)",
          "(47,14,3)",
          "(42,10,2)",
          "(52,14,7)",
          "(47,14,7)",
          "(49,12,3)",
          "(42,7,3)",
          "(47,15,4)",
          "(52,15,5)",
          "(63,18,6)",
          "(54,13,5)",
          "(55,15,5)",
          "(59,18,5)",
          "(53,13,3)",
          "(52,18,5)",
          "(36,8,4)",
          "(63,13,6)",
          "(54,15,5)",
          "(66,18,7)",
          "(64,13,7)",
          "(58,15,6)",
          "(42,10,3)",
          "(57,15,10)",
          "(57,15,9)",
          "(57,15,7)",
          "(42,8,1)",
          "(42,7,4)",
          "(57,15,5)",
          "(52,14,5)",
          "(57,13,7)",
          "(41,13,3)",
          "(47,18,8)",
          "(48,11,6)",
          "(68,19,5)",
          "(48,12,7)",
          "(55,13,4)",
          "(55,12,8)",
          "(48,13,7)",
          "(45,11,5)",
          "(40,12,6)",
          "(33,11,3)",
          "(42,11,5)",
          "(59,15,5)",
          "(46,12,3)",
          "(45,14,6)",
          "(63,16,7)",
          "(64,19,5)",
          "(43,14,3)",
          "(61,17,9)",
          "(61,16,7)",
          "(43,13,4)",
          "(60,20,7)",
          "(46,8,5)",
          "(45,16,5)",
          "(46,15,5)",
          "(42,13,6)",
          "(46,16,6)",
          "(43,11,4)",
          "(46,17,6)",
          "(47,11,3)",
          "(29,7,4)",
          "(33,13,3)",
          "(47,11,6)",
          "(42,14,5)",
          "(47,12,3)",
          "(59,17,6)",
          "(45,12,4)",
          "(50,14,7)",
          "(52,12,5)",
          "(51,8,6)",
          "(38,13,1)",
          "(36,14,5)",
          "(51,14,7)",
          "(39,11,4)",
          "(35,7,7)",
          "(51,14,6)",
          "(53,16,4)",
          "(36,14,3)",
          "(49,15,7)",
          "(51,14,4)",
          "(53,16,7)",
          "(53,14,7)",
          "(52,13,5)",
          "(38,11,1)",
          "(40,11,2)",
          "(40,10,0)",
          "(34,5,3)",
          "(53,13,4)",
          "(40,11,3)",
          "(51,12,6)",
          "(38,11,5)",
          "(46,13,7)",
          "(62,25,8)",
          "(62,15,5)",
          "(61,21,7)",
          "(61,18,9)",
          "(51,14,3)",
          "(61,13,7)",
          "(51,11,4)",
          "(46,13,2)",
          "(60,15,6)",
          "(60,13,5)",
          "(46,14,4)",
          "(60,19,5)",
          "(46,15,6)",
          "(52,17,5)",
          "(61,16,5)",
          "(64,17,8)",
          "(52,17,4)",
          "(63,15,5)",
          "(45,12,6)",
          "(86,18,8)",
          "(52,15,9)",
          "(84,19,7)",
          "(68,21,11)",
          "(68,20,6)",
          "(52,16,5)",
          "(67,17,8)",
          "(66,19,6)",
          "(45,15,4)",
          "(45,15,6)",
          "(51,17,6)",
          "(45,17,5)",
          "(46,6,4)",
          "(65,13,8)",
          "(46,10,3)",
          "(46,10,4)",
          "(46,11,3)",
          "(64,22,6)",
          "(64,18,5)",
          "(64,18,4)",
          "(51,17,5)",
          "(51,16,7)",
          "(51,16,5)",
          "(52,16,6)",
          "(46,17,4)",
          "(54,14,4)",
          "(59,19,5)",
          "(55,11,8)",
          "(57,14,5)",
          "(49,17,5)",
          "(56,14,6)",
          "(47,16,7)",
          "(47,17,4)",
          "(49,16,6)",
          "(48,10,3)",
          "(55,17,6)",
          "(53,16,6)",
          "(48,13,3)",
          "(49,15,3)",
          "(54,12,5)",
          "(57,14,7)",
          "(48,13,8)",
          "(55,11,5)",
          "(54,20,5)",
          "(54,18,8)",
          "(54,17,5)",
          "(48,16,5)",
          "(48,16,8)",
          "(48,17,5)",
          "(54,17,4)",
          "(54,16,5)",
          "(54,15,7)",
          "(49,18,6)",
          "(47,14,8)",
          "(53,13,5)",
          "(58,15,7)",
          "(50,16,4)",
          "(50,15,6)",
          "(59,17,7)",
          "(53,13,6)",
          "(53,13,7)",
          "(59,16,6)",
          "(53,14,5)",
          "(58,21,8)",
          "(47,12,6)",
          "(58,18,7)",
          "(58,16,6)",
          "(58,15,5)",
          "(49,18,7)",
          "(58,11,7)",
          "(47,13,8)",
          "(57,20,8)",
          "(57,17,7)",
          "(57,16,6)",
          "(53,14,6)",
          "(53,15,5)",
          "(53,16,3)",
          "(50,12,4)",
          "(50,11,7)",
          "(57,15,6)",
          "(57,14,6)",
          "(90,25,9)",
          "(45,12,3)",
          "(43,16,1)",
          "(24,11,3)",
          "(33,6,5)",
          "(43,10,4)",
          "(37,6,4)",
          "(41,9,3)",
          "(41,8,3)",
          "(41,7,6)",
          "(33,10,5)",
          "(40,19,7)",
          "(40,14,5)",
          "(33,12,4)",
          "(38,10,4)",
          "(30,8,4)",
          "(40,14,2)",
          "(39,11,2)",
          "(43,14,4)",
          "(43,14,5)",
          "(32,22,3)",
          "(32,13,3)",
          "(37,11,5)",
          "(42,11,4)",
          "(38,7,4)",
          "(41,12,5)",
          "(38,12,4)",
          "(41,17,5)",
          "(37,15,4)",
          "(42,9,6)",
          "(28,6,4)",
          "(37,14,6)",
          "(37,13,6)",
          "(42,12,4)",
          "(42,12,5)",
          "(42,12,6)",
          "(32,9,4)",
          "(37,14,5)",
          "(41,12,3)",
          "(28,7,2)",
          "(40,13,7)",
          "(41,13,5)",
          "(34,8,6)",
          "(40,11,4)",
          "(40,12,4)",
          "(36,10,5)",
          "(34,11,3)",
          "(44,10,3)",
          "(44,17,5)",
          "(44,14,6)",
          "(35,10,4)",
          "(35,10,5)",
          "(36,12,3)",
          "(45,9,6)",
          "(40,11,5)",
          "(34,10,3)",
          "(30,11,7)",
          "(31,7,4)",
          "(15,0,1)",
          "(13,2,2)",
          "(44,13,5)",
          "(36,7,0)",
          "(30,9,3)",
          "(19,6,3)",
          "(20,2,0)",
          "(31,11,1)",
          "(31,13,1)",
          "(44,11,4)",
          "(44,10,5)",
          "(45,11,6)",
          "(56,15,4)",
          "(30,15,3)",
          "(58,12,4)",
          "(56,13,7)",
          "(56,14,9)",
          "(32,9,5)",
          "(56,14,7)",
          "(56,16,6)",
          "(56,15,7)",
          "(56,16,4)",
          "(31,13,3)",
          "(31,13,6)",
          "(31,12,1)",
          "(32,2,1)",
          "(32,4,3)",
          "(57,16,5)",
          "(31,8,11)",
          "(32,6,4)",
          "(32,8,4)",
          "(57,16,7)",
          "(31,8,3)",
          "(57,12,7)",
          "(57,11,6)",
          "(32,9,3)",
          "(57,18,7)",
          "(56,16,5)",
          "(57,19,5)",
          "(57,14,9)",
          "(55,14,5)",
          "(56,13,5)",
          "(56,12,8)",
          "(54,14,5)",
          "(33,14,6)",
          "(54,13,8)",
          "(54,13,7)",
          "(34,5,4)",
          "(54,13,3)",
          "(34,9,5)",
          "(54,12,4)",
          "(54,10,4)",
          "(54,8,6)",
          "(53,19,8)",
          "(53,18,5)",
          "(34,10,4)",
          "(53,16,5)",
          "(34,10,7)",
          "(53,15,7)",
          "(34,11,4)",
          "(34,14,6)",
          "(35,5,1)",
          "(35,10,3)",
          "(53,14,3)",
          "(35,12,3)",
          "(35,13,5)",
          "(33,12,6)",
          "(54,15,1)",
          "(33,11,6)",
          "(55,13,5)",
          "(56,12,5)",
          "(56,11,4)",
          "(55,18,4)",
          "(55,17,7)",
          "(32,10,3)",
          "(55,16,4)",
          "(32,10,5)",
          "(55,14,9)",
          "(58,13,6)",
          "(55,13,6)",
          "(32,11,4)",
          "(33,11,1)",
          "(32,12,4)",
          "(55,10,6)",
          "(33,4,3)",
          "(54,19,6)",
          "(54,18,5)",
          "(54,17,7)",
          "(33,7,3)",
          "(33,7,4)",
          "(54,16,6)",
          "(33,10,3)",
          "(58,12,5)",
          "(59,13,8)",
          "(58,15,4)",
          "(23,6,3)",
          "(66,19,2)",
          "(66,18,8)",
          "(21,2,2)",
          "(66,16,5)",
          "(65,20,7)",
          "(65,17,7)",
          "(21,6,1)",
          "(21,6,3)",
          "(64,19,9)",
          "(22,7,1)",
          "(22,7,5)",
          "(23,8,5)",
          "(30,13,6)",
          "(64,17,7)",
          "(64,17,4)",
          "(24,6,4)",
          "(64,13,6)",
          "(63,20,7)",
          "(63,17,8)",
          "(25,6,3)",
          "(63,15,8)",
          "(25,10,5)",
          "(63,14,6)",
          "(63,14,5)",
          "(20,5,3)",
          "(67,13,7)",
          "(68,14,7)",
          "(68,17,9)",
          "(89,28,7)",
          "(82,19,9)",
          "(82,13,7)",
          "(77,13,7)",
          "(76,17,8)",
          "(75,23,10)",
          "(75,18,9)",
          "(74,21,7)",
          "(74,19,7)",
          "(74,18,4)",
          "(74,16,9)",
          "(73,18,8)",
          "(73,15,8)",
          "(72,25,9)",
          "(71,13,6)",
          "(70,19,6)",
          "(70,14,5)",
          "(69,18,5)",
          "(69,15,6)",
          "(69,15,5)",
          "(68,24,10)",
          "(17,6,3)",
          "(18,9,2)",
          "(25,11,1)",
          "(63,12,6)",
          "(26,4,4)",
          "(28,7,3)",
          "(60,10,2)",
          "(28,9,1)",
          "(59,18,7)",
          "(29,7,0)",
          "(29,13,4)",
          "(30,6,1)",
          "(30,7,4)",
          "(59,15,7)",
          "(59,15,6)",
          "(59,14,9)",
          "(53,12,6)",
          "(59,13,7)",
          "(59,13,6)",
          "(58,19,7)",
          "(30,9,5)",
          "(58,18,6)",
          "(58,18,4)",
          "(58,17,11)",
          "(58,17,7)",
          "(58,17,6)",
          "(58,16,9)",
          "(30,10,1)",
          "(30,12,5)",
          "(60,12,4)",
          "(60,14,7)",
          "(62,16,6)",
          "(60,15,7)",
          "(62,16,5)",
          "(26,10,3)",
          "(62,12,4)",
          "(26,10,4)",
          "(61,19,7)",
          "(27,4,3)",
          "(61,18,5)",
          "(27,7,2)",
          "(61,17,6)",
          "(27,9,4)",
          "(27,12,3)",
          "(61,15,7)",
          "(61,15,6)",
          "(61,15,5)",
          "(61,14,7)",
          "(61,14,6)",
          "(28,2,1)",
          "(61,13,5)",
          "(61,12,5)",
          "(61,10,6)",
          "(28,5,5)",
          "(60,18,6)",
          "(60,16,7)",
          "(35,16,3)",
          "(52,13,4)",
          "(53,12,4)",
          "(47,17,5)",
          "(41,13,4)",
          "(47,16,4)",
          "(41,14,5)",
          "(41,15,5)",
          "(41,16,6)",
          "(0,2,0)",
          "(41,18,6)",
          "(42,9,5)",
          "(42,11,2)",
          "(47,14,0)",
          "(42,12,2)",
          "(42,12,7)",
          "(42,13,1)",
          "(47,12,9)",
          "(42,13,2)",
          "(42,13,4)",
          "(42,13,5)",
          "(42,14,4)",
          "(42,14,6)",
          "(42,16,5)",
          "(43,6,6)",
          "(43,8,3)",
          "(47,10,6)",
          "(41,12,6)",
          "(47,17,6)",
          "(47,10,3)",
          "(47,17,7)",
          "(40,13,5)",
          "(48,17,4)",
          "(48,17,3)",
          "(48,16,7)",
          "(48,16,6)",
          "(40,14,4)",
          "(48,14,7)",
          "(41,7,2)",
          "(41,7,5)",
          "(41,9,5)",
          "(41,11,2)",
          "(48,12,8)",
          "(41,11,3)",
          "(41,11,4)",
          "(41,11,5)",
          "(48,12,4)",
          "(48,12,3)",
          "(41,12,2)",
          "(48,10,5)",
          "(48,9,7)",
          "(48,8,6)",
          "(41,12,4)",
          "(47,17,8)",
          "(43,8,4)",
          "(47,9,5)",
          "(48,17,7)",
          "(44,12,6)",
          "(46,11,1)",
          "(46,10,5)",
          "(44,14,3)",
          "(44,14,4)",
          "(46,9,6)",
          "(46,9,4)",
          "(46,9,2)",
          "(46,7,6)",
          "(44,15,6)",
          "(45,19,5)",
          "(45,17,6)",
          "(44,15,7)",
          "(44,16,4)",
          "(44,16,6)",
          "(45,15,5)",
          "(45,15,3)",
          "(45,14,7)",
          "(45,5,5)",
          "(45,10,4)",
          "(45,13,7)",
          "(45,10,5)",
          "(45,10,7)",
          "(45,11,3)",
          "(44,13,1)",
          "(46,11,6)",
          "(47,9,4)",
          "(44,12,2)",
          "(47,8,4)",
          "(47,7,3)",
          "(43,11,3)",
          "(43,12,1)",
          "(46,16,5)",
          "(46,16,3)",
          "(46,15,9)",
          "(46,15,7)",
          "(43,12,2)",
          "(43,12,3)",
          "(46,15,4)",
          "(46,15,3)",
          "(46,15,2)",
          "(43,12,6)",
          "(46,14,7)",
          "(43,13,2)",
          "(43,13,6)",
          "(43,13,7)",
          "(46,13,8)",
          "(43,15,5)",
          "(44,10,2)",
          "(46,12,7)",
          "(44,10,4)",
          "(48,17,6)",
          "(49,6,4)",
          "(53,11,6)",
          "(52,9,5)",
          "(51,23,5)",
          "(51,18,6)",
          "(51,18,5)",
          "(51,17,8)",
          "(36,14,2)",
          "(36,15,1)",
          "(51,17,4)",
          "(36,15,2)",
          "(51,16,6)",
          "(37,5,3)",
          "(51,16,4)",
          "(51,16,2)",
          "(51,15,6)",
          "(37,7,2)",
          "(51,14,9)",
          "(37,7,3)",
          "(37,8,2)",
          "(37,9,2)",
          "(37,9,3)",
          "(37,9,5)",
          "(37,13,3)",
          "(37,13,7)",
          "(37,14,2)",
          "(52,6,4)",
          "(52,10,4)",
          "(51,11,6)",
          "(52,10,7)",
          "(36,9,3)",
          "(36,9,4)",
          "(52,17,3)",
          "(52,16,8)",
          "(36,10,4)",
          "(36,10,6)",
          "(52,15,7)",
          "(52,15,6)",
          "(36,11,4)",
          "(52,15,4)",
          "(52,14,8)",
          "(36,11,5)",
          "(52,14,6)",
          "(52,14,2)",
          "(36,12,4)",
          "(36,12,5)",
          "(36,13,3)",
          "(45,13,2)",
          "(52,12,9)",
          "(52,12,8)",
          "(52,12,6)",
          "(36,13,4)",
          "(52,12,4)",
          "(51,12,5)",
          "(51,10,6)",
          "(49,7,7)",
          "(49,17,6)",
          "(49,16,7)",
          "(39,11,5)",
          "(39,12,4)",
          "(49,16,4)",
          "(49,16,3)",
          "(39,14,3)",
          "(39,16,5)",
          "(40,6,3)",
          "(49,15,4)",
          "(40,7,2)",
          "(40,7,5)",
          "(40,9,3)",
          "(40,9,5)",
          "(49,14,4)",
          "(49,13,8)",
          "(40,11,6)",
          "(49,13,2)",
          "(49,12,7)",
          "(40,12,5)",
          "(40,13,2)",
          "(40,13,4)",
          "(49,10,3)",
          "(49,9,3)",
          "(49,17,3)",
          "(39,10,5)",
          "(51,10,5)",
          "(39,10,3)",
          "(51,9,5)",
          "(50,18,6)",
          "(50,17,7)",
          "(50,17,5)",
          "(50,17,3)",
          "(50,16,5)",
          "(38,8,5)",
          "(50,15,3)",
          "(38,10,5)",
          "(38,12,5)",
          "(38,12,6)",
          "(50,14,3)",
          "(50,14,1)",
          "(50,13,9)",
          "(38,13,3)",
          "(38,13,5)",
          "(38,14,3)",
          "(38,16,5)",
          "(50,12,8)",
          "(50,12,5)",
          "(39,5,4)",
          "(39,9,4)",
          "(50,4,3)",
          "(0,0,0)"
         ],
         "xaxis": "x",
         "y": {
          "dtype": "i2",
          "bdata": "kgEvACYAJAAfABgAFQAUABMAEAAQABAADwAPAA8ADgANAAwADAALAAsACgAKAAoACgAJAAkACQAJAAgACAAIAAgACAAIAAgACAAHAAcABwAHAAcABwAHAAcABwAHAAcABgAGAAYABgAGAAYABgAGAAUABQAFAAUABQAFAAUABQAFAAUABQAFAAUABQAFAAUABQAFAAUABQAFAAUABQAEAAQABAAEAAQABAAEAAQABAAEAAQABAAEAAQABAAEAAQABAAEAAQABAAEAAQABAAEAAQABAAEAAQABAAEAAQABAAEAAQABAAEAAQABAADAAMAAwADAAMAAwADAAMAAwADAAMAAwADAAMAAwADAAMAAwADAAMAAwADAAMAAwADAAMAAwADAAMAAwADAAMAAwADAAMAAwADAAMAAwADAAMAAwADAAMAAwADAAMAAwADAAMAAwADAAMAAwADAAMAAwADAAMAAwADAAMAAwADAAMAAwADAAMAAwADAAMAAwACAAIAAgACAAIAAgACAAIAAgACAAIAAgACAAIAAgACAAIAAgACAAIAAgACAAIAAgACAAIAAgACAAIAAgACAAIAAgACAAIAAgACAAIAAgACAAIAAgACAAIAAgACAAIAAgACAAIAAgACAAIAAgACAAIAAgACAAIAAgACAAIAAgACAAIAAgACAAIAAgACAAIAAgACAAIAAgACAAIAAgACAAIAAgACAAIAAgACAAIAAgACAAIAAgACAAIAAgACAAIAAgACAAIAAgACAAIAAgACAAIAAgACAAIAAgACAAIAAgACAAIAAgACAAIAAgACAAIAAgACAAIAAgACAAIAAgACAAIAAgACAAIAAgACAAIAAgACAAIAAgACAAIAAgACAAIAAgACAAIAAgACAAIAAgACAAIAAgACAAIAAgACAAIAAgACAAIAAgACAAIAAgACAAIAAgACAAIAAgABAAEAAQABAAEAAQABAAEAAQABAAEAAQABAAEAAQABAAEAAQABAAEAAQABAAEAAQABAAEAAQABAAEAAQABAAEAAQABAAEAAQABAAEAAQABAAEAAQABAAEAAQABAAEAAQABAAEAAQABAAEAAQABAAEAAQABAAEAAQABAAEAAQABAAEAAQABAAEAAQABAAEAAQABAAEAAQABAAEAAQABAAEAAQABAAEAAQABAAEAAQABAAEAAQABAAEAAQABAAEAAQABAAEAAQABAAEAAQABAAEAAQABAAEAAQABAAEAAQABAAEAAQABAAEAAQABAAEAAQABAAEAAQABAAEAAQABAAEAAQABAAEAAQABAAEAAQABAAEAAQABAAEAAQABAAEAAQABAAEAAQABAAEAAQABAAEAAQABAAEAAQABAAEAAQABAAEAAQABAAEAAQABAAEAAQABAAEAAQABAAEAAQABAAEAAQABAAEAAQABAAEAAQABAAEAAQABAAEAAQABAAEAAQABAAEAAQABAAEAAQABAAEAAQABAAEAAQABAAEAAQABAAEAAQABAAEAAQABAAEAAQABAAEAAQABAAEAAQABAAEAAQABAAEAAQABAAEAAQABAAEAAQABAAEAAQABAAEAAQABAAEAAQABAAEAAQABAAEAAQABAAEAAQABAAEAAQABAAEAAQABAAEAAQABAAEAAQABAAEAAQABAAEAAQABAAEAAQABAAEAAQABAAEAAQABAAEAAQABAAEAAQABAAEAAQABAAEAAQABAAEAAQABAAEAAQABAAEAAQABAAEAAQABAAEAAQABAAEAAQABAAEAAQABAAEAAQABAAEAAQABAAEAAQABAAEAAQABAAEAAQABAAEAAQABAAEAAQABAAEAAQABAAEAAQABAAEAAQABAAEAAQABAAEAAQABAAEAAQABAAEAAQABAAEAAQABAAEAAQABAAEAAQABAAEAAQABAAEAAQABAAEAAQABAAEAAQABAAEAAQABAAEAAQABAAEAAQABAAEAAQABAAEAAQABAAEAAQABAAEAAQABAAEAAQABAAEAAQABAAEAAQABAA=="
         },
         "yaxis": "y",
         "type": "bar"
        }
       ],
       "layout": {
        "template": {
         "data": {
          "histogram2dcontour": [
           {
            "type": "histogram2dcontour",
            "colorbar": {
             "outlinewidth": 0,
             "ticks": ""
            },
            "colorscale": [
             [
              0.0,
              "#0d0887"
             ],
             [
              0.1111111111111111,
              "#46039f"
             ],
             [
              0.2222222222222222,
              "#7201a8"
             ],
             [
              0.3333333333333333,
              "#9c179e"
             ],
             [
              0.4444444444444444,
              "#bd3786"
             ],
             [
              0.5555555555555556,
              "#d8576b"
             ],
             [
              0.6666666666666666,
              "#ed7953"
             ],
             [
              0.7777777777777778,
              "#fb9f3a"
             ],
             [
              0.8888888888888888,
              "#fdca26"
             ],
             [
              1.0,
              "#f0f921"
             ]
            ]
           }
          ],
          "choropleth": [
           {
            "type": "choropleth",
            "colorbar": {
             "outlinewidth": 0,
             "ticks": ""
            }
           }
          ],
          "histogram2d": [
           {
            "type": "histogram2d",
            "colorbar": {
             "outlinewidth": 0,
             "ticks": ""
            },
            "colorscale": [
             [
              0.0,
              "#0d0887"
             ],
             [
              0.1111111111111111,
              "#46039f"
             ],
             [
              0.2222222222222222,
              "#7201a8"
             ],
             [
              0.3333333333333333,
              "#9c179e"
             ],
             [
              0.4444444444444444,
              "#bd3786"
             ],
             [
              0.5555555555555556,
              "#d8576b"
             ],
             [
              0.6666666666666666,
              "#ed7953"
             ],
             [
              0.7777777777777778,
              "#fb9f3a"
             ],
             [
              0.8888888888888888,
              "#fdca26"
             ],
             [
              1.0,
              "#f0f921"
             ]
            ]
           }
          ],
          "heatmap": [
           {
            "type": "heatmap",
            "colorbar": {
             "outlinewidth": 0,
             "ticks": ""
            },
            "colorscale": [
             [
              0.0,
              "#0d0887"
             ],
             [
              0.1111111111111111,
              "#46039f"
             ],
             [
              0.2222222222222222,
              "#7201a8"
             ],
             [
              0.3333333333333333,
              "#9c179e"
             ],
             [
              0.4444444444444444,
              "#bd3786"
             ],
             [
              0.5555555555555556,
              "#d8576b"
             ],
             [
              0.6666666666666666,
              "#ed7953"
             ],
             [
              0.7777777777777778,
              "#fb9f3a"
             ],
             [
              0.8888888888888888,
              "#fdca26"
             ],
             [
              1.0,
              "#f0f921"
             ]
            ]
           }
          ],
          "contourcarpet": [
           {
            "type": "contourcarpet",
            "colorbar": {
             "outlinewidth": 0,
             "ticks": ""
            }
           }
          ],
          "contour": [
           {
            "type": "contour",
            "colorbar": {
             "outlinewidth": 0,
             "ticks": ""
            },
            "colorscale": [
             [
              0.0,
              "#0d0887"
             ],
             [
              0.1111111111111111,
              "#46039f"
             ],
             [
              0.2222222222222222,
              "#7201a8"
             ],
             [
              0.3333333333333333,
              "#9c179e"
             ],
             [
              0.4444444444444444,
              "#bd3786"
             ],
             [
              0.5555555555555556,
              "#d8576b"
             ],
             [
              0.6666666666666666,
              "#ed7953"
             ],
             [
              0.7777777777777778,
              "#fb9f3a"
             ],
             [
              0.8888888888888888,
              "#fdca26"
             ],
             [
              1.0,
              "#f0f921"
             ]
            ]
           }
          ],
          "surface": [
           {
            "type": "surface",
            "colorbar": {
             "outlinewidth": 0,
             "ticks": ""
            },
            "colorscale": [
             [
              0.0,
              "#0d0887"
             ],
             [
              0.1111111111111111,
              "#46039f"
             ],
             [
              0.2222222222222222,
              "#7201a8"
             ],
             [
              0.3333333333333333,
              "#9c179e"
             ],
             [
              0.4444444444444444,
              "#bd3786"
             ],
             [
              0.5555555555555556,
              "#d8576b"
             ],
             [
              0.6666666666666666,
              "#ed7953"
             ],
             [
              0.7777777777777778,
              "#fb9f3a"
             ],
             [
              0.8888888888888888,
              "#fdca26"
             ],
             [
              1.0,
              "#f0f921"
             ]
            ]
           }
          ],
          "mesh3d": [
           {
            "type": "mesh3d",
            "colorbar": {
             "outlinewidth": 0,
             "ticks": ""
            }
           }
          ],
          "scatter": [
           {
            "fillpattern": {
             "fillmode": "overlay",
             "size": 10,
             "solidity": 0.2
            },
            "type": "scatter"
           }
          ],
          "parcoords": [
           {
            "type": "parcoords",
            "line": {
             "colorbar": {
              "outlinewidth": 0,
              "ticks": ""
             }
            }
           }
          ],
          "scatterpolargl": [
           {
            "type": "scatterpolargl",
            "marker": {
             "colorbar": {
              "outlinewidth": 0,
              "ticks": ""
             }
            }
           }
          ],
          "bar": [
           {
            "error_x": {
             "color": "#2a3f5f"
            },
            "error_y": {
             "color": "#2a3f5f"
            },
            "marker": {
             "line": {
              "color": "#E5ECF6",
              "width": 0.5
             },
             "pattern": {
              "fillmode": "overlay",
              "size": 10,
              "solidity": 0.2
             }
            },
            "type": "bar"
           }
          ],
          "scattergeo": [
           {
            "type": "scattergeo",
            "marker": {
             "colorbar": {
              "outlinewidth": 0,
              "ticks": ""
             }
            }
           }
          ],
          "scatterpolar": [
           {
            "type": "scatterpolar",
            "marker": {
             "colorbar": {
              "outlinewidth": 0,
              "ticks": ""
             }
            }
           }
          ],
          "histogram": [
           {
            "marker": {
             "pattern": {
              "fillmode": "overlay",
              "size": 10,
              "solidity": 0.2
             }
            },
            "type": "histogram"
           }
          ],
          "scattergl": [
           {
            "type": "scattergl",
            "marker": {
             "colorbar": {
              "outlinewidth": 0,
              "ticks": ""
             }
            }
           }
          ],
          "scatter3d": [
           {
            "type": "scatter3d",
            "line": {
             "colorbar": {
              "outlinewidth": 0,
              "ticks": ""
             }
            },
            "marker": {
             "colorbar": {
              "outlinewidth": 0,
              "ticks": ""
             }
            }
           }
          ],
          "scattermap": [
           {
            "type": "scattermap",
            "marker": {
             "colorbar": {
              "outlinewidth": 0,
              "ticks": ""
             }
            }
           }
          ],
          "scattermapbox": [
           {
            "type": "scattermapbox",
            "marker": {
             "colorbar": {
              "outlinewidth": 0,
              "ticks": ""
             }
            }
           }
          ],
          "scatterternary": [
           {
            "type": "scatterternary",
            "marker": {
             "colorbar": {
              "outlinewidth": 0,
              "ticks": ""
             }
            }
           }
          ],
          "scattercarpet": [
           {
            "type": "scattercarpet",
            "marker": {
             "colorbar": {
              "outlinewidth": 0,
              "ticks": ""
             }
            }
           }
          ],
          "carpet": [
           {
            "aaxis": {
             "endlinecolor": "#2a3f5f",
             "gridcolor": "white",
             "linecolor": "white",
             "minorgridcolor": "white",
             "startlinecolor": "#2a3f5f"
            },
            "baxis": {
             "endlinecolor": "#2a3f5f",
             "gridcolor": "white",
             "linecolor": "white",
             "minorgridcolor": "white",
             "startlinecolor": "#2a3f5f"
            },
            "type": "carpet"
           }
          ],
          "table": [
           {
            "cells": {
             "fill": {
              "color": "#EBF0F8"
             },
             "line": {
              "color": "white"
             }
            },
            "header": {
             "fill": {
              "color": "#C8D4E3"
             },
             "line": {
              "color": "white"
             }
            },
            "type": "table"
           }
          ],
          "barpolar": [
           {
            "marker": {
             "line": {
              "color": "#E5ECF6",
              "width": 0.5
             },
             "pattern": {
              "fillmode": "overlay",
              "size": 10,
              "solidity": 0.2
             }
            },
            "type": "barpolar"
           }
          ],
          "pie": [
           {
            "automargin": true,
            "type": "pie"
           }
          ]
         },
         "layout": {
          "autotypenumbers": "strict",
          "colorway": [
           "#636efa",
           "#EF553B",
           "#00cc96",
           "#ab63fa",
           "#FFA15A",
           "#19d3f3",
           "#FF6692",
           "#B6E880",
           "#FF97FF",
           "#FECB52"
          ],
          "font": {
           "color": "#2a3f5f"
          },
          "hovermode": "closest",
          "hoverlabel": {
           "align": "left"
          },
          "paper_bgcolor": "white",
          "plot_bgcolor": "#E5ECF6",
          "polar": {
           "bgcolor": "#E5ECF6",
           "angularaxis": {
            "gridcolor": "white",
            "linecolor": "white",
            "ticks": ""
           },
           "radialaxis": {
            "gridcolor": "white",
            "linecolor": "white",
            "ticks": ""
           }
          },
          "ternary": {
           "bgcolor": "#E5ECF6",
           "aaxis": {
            "gridcolor": "white",
            "linecolor": "white",
            "ticks": ""
           },
           "baxis": {
            "gridcolor": "white",
            "linecolor": "white",
            "ticks": ""
           },
           "caxis": {
            "gridcolor": "white",
            "linecolor": "white",
            "ticks": ""
           }
          },
          "coloraxis": {
           "colorbar": {
            "outlinewidth": 0,
            "ticks": ""
           }
          },
          "colorscale": {
           "sequential": [
            [
             0.0,
             "#0d0887"
            ],
            [
             0.1111111111111111,
             "#46039f"
            ],
            [
             0.2222222222222222,
             "#7201a8"
            ],
            [
             0.3333333333333333,
             "#9c179e"
            ],
            [
             0.4444444444444444,
             "#bd3786"
            ],
            [
             0.5555555555555556,
             "#d8576b"
            ],
            [
             0.6666666666666666,
             "#ed7953"
            ],
            [
             0.7777777777777778,
             "#fb9f3a"
            ],
            [
             0.8888888888888888,
             "#fdca26"
            ],
            [
             1.0,
             "#f0f921"
            ]
           ],
           "sequentialminus": [
            [
             0.0,
             "#0d0887"
            ],
            [
             0.1111111111111111,
             "#46039f"
            ],
            [
             0.2222222222222222,
             "#7201a8"
            ],
            [
             0.3333333333333333,
             "#9c179e"
            ],
            [
             0.4444444444444444,
             "#bd3786"
            ],
            [
             0.5555555555555556,
             "#d8576b"
            ],
            [
             0.6666666666666666,
             "#ed7953"
            ],
            [
             0.7777777777777778,
             "#fb9f3a"
            ],
            [
             0.8888888888888888,
             "#fdca26"
            ],
            [
             1.0,
             "#f0f921"
            ]
           ],
           "diverging": [
            [
             0,
             "#8e0152"
            ],
            [
             0.1,
             "#c51b7d"
            ],
            [
             0.2,
             "#de77ae"
            ],
            [
             0.3,
             "#f1b6da"
            ],
            [
             0.4,
             "#fde0ef"
            ],
            [
             0.5,
             "#f7f7f7"
            ],
            [
             0.6,
             "#e6f5d0"
            ],
            [
             0.7,
             "#b8e186"
            ],
            [
             0.8,
             "#7fbc41"
            ],
            [
             0.9,
             "#4d9221"
            ],
            [
             1,
             "#276419"
            ]
           ]
          },
          "xaxis": {
           "gridcolor": "white",
           "linecolor": "white",
           "ticks": "",
           "title": {
            "standoff": 15
           },
           "zerolinecolor": "white",
           "automargin": true,
           "zerolinewidth": 2
          },
          "yaxis": {
           "gridcolor": "white",
           "linecolor": "white",
           "ticks": "",
           "title": {
            "standoff": 15
           },
           "zerolinecolor": "white",
           "automargin": true,
           "zerolinewidth": 2
          },
          "scene": {
           "xaxis": {
            "backgroundcolor": "#E5ECF6",
            "gridcolor": "white",
            "linecolor": "white",
            "showbackground": true,
            "ticks": "",
            "zerolinecolor": "white",
            "gridwidth": 2
           },
           "yaxis": {
            "backgroundcolor": "#E5ECF6",
            "gridcolor": "white",
            "linecolor": "white",
            "showbackground": true,
            "ticks": "",
            "zerolinecolor": "white",
            "gridwidth": 2
           },
           "zaxis": {
            "backgroundcolor": "#E5ECF6",
            "gridcolor": "white",
            "linecolor": "white",
            "showbackground": true,
            "ticks": "",
            "zerolinecolor": "white",
            "gridwidth": 2
           }
          },
          "shapedefaults": {
           "line": {
            "color": "#2a3f5f"
           }
          },
          "annotationdefaults": {
           "arrowcolor": "#2a3f5f",
           "arrowhead": 0,
           "arrowwidth": 1
          },
          "geo": {
           "bgcolor": "white",
           "landcolor": "#E5ECF6",
           "subunitcolor": "white",
           "showland": true,
           "showlakes": true,
           "lakecolor": "white"
          },
          "title": {
           "x": 0.05
          },
          "mapbox": {
           "style": "light"
          }
         }
        },
        "xaxis": {
         "anchor": "y",
         "domain": [
          0.0,
          1.0
         ],
         "title": {
          "text": "Vector"
         }
        },
        "yaxis": {
         "anchor": "x",
         "domain": [
          0.0,
          1.0
         ],
         "title": {
          "text": "Count"
         },
         "type": "log"
        },
        "legend": {
         "tracegroupgap": 0
        },
        "margin": {
         "t": 60
        },
        "barmode": "relative"
       },
       "config": {
        "plotlyServerURL": "https://plot.ly"
       }
      }
     },
     "metadata": {},
     "output_type": "display_data"
    }
   ],
   "execution_count": 5
  },
  {
   "metadata": {},
   "cell_type": "markdown",
   "source": "## 12-Month WOMAC Distribution on Median Dataset",
   "id": "d033349abc0adfc4"
  },
  {
   "metadata": {
    "ExecuteTime": {
     "end_time": "2025-08-19T22:08:21.891814Z",
     "start_time": "2025-08-19T22:08:21.844359Z"
    }
   },
   "cell_type": "code",
   "source": [
    "from scripts.womac.womac_distribution import v01_womac_median_vectors_left, v01_womac_median_vectors_right\n",
    "\n",
    "display(v01_womac_median_vectors_left)\n",
    "v01_womac_median_vectors_left_chart = px.bar(v01_womac_median_vectors_left,x='Vector',y='Count',log_y=True,title='12-Month WOMAC Median Vectors (Left Knee)')\n",
    "display(v01_womac_median_vectors_left_chart)\n",
    "\n",
    "display(v01_womac_median_vectors_right)\n",
    "v01_womac_median_vectors_right_chart = px.bar(v01_womac_median_vectors_right,x='Vector',y='Count',log_y=True,title='12-Month WOMAC Median Vectors (Right Knee)')\n",
    "display(v01_womac_median_vectors_right_chart)"
   ],
   "id": "b4eedab963ccac8",
   "outputs": [
    {
     "data": {
      "text/plain": [
       "     V01WOMADLL  V01WOMKPL  V01WOMSTFL  Count     Vector\n",
       "0             0          0           0   1275    (0,0,0)\n",
       "18            1          0           0    142    (1,0,0)\n",
       "1             0          0           1     62    (0,0,1)\n",
       "34            2          0           0     53    (2,0,0)\n",
       "61            4          0           0     40    (4,0,0)\n",
       "..          ...        ...         ...    ...        ...\n",
       "300          19          0           3      1   (19,0,3)\n",
       "299          18         10           1      1  (18,10,1)\n",
       "298          18          9           2      1   (18,9,2)\n",
       "296          18          7           1      1   (18,7,1)\n",
       "537          60         16           6      1  (60,16,6)\n",
       "\n",
       "[538 rows x 5 columns]"
      ],
      "text/html": [
       "<div>\n",
       "<style scoped>\n",
       "    .dataframe tbody tr th:only-of-type {\n",
       "        vertical-align: middle;\n",
       "    }\n",
       "\n",
       "    .dataframe tbody tr th {\n",
       "        vertical-align: top;\n",
       "    }\n",
       "\n",
       "    .dataframe thead th {\n",
       "        text-align: right;\n",
       "    }\n",
       "</style>\n",
       "<table border=\"1\" class=\"dataframe\">\n",
       "  <thead>\n",
       "    <tr style=\"text-align: right;\">\n",
       "      <th></th>\n",
       "      <th>V01WOMADLL</th>\n",
       "      <th>V01WOMKPL</th>\n",
       "      <th>V01WOMSTFL</th>\n",
       "      <th>Count</th>\n",
       "      <th>Vector</th>\n",
       "    </tr>\n",
       "  </thead>\n",
       "  <tbody>\n",
       "    <tr>\n",
       "      <th>0</th>\n",
       "      <td>0</td>\n",
       "      <td>0</td>\n",
       "      <td>0</td>\n",
       "      <td>1275</td>\n",
       "      <td>(0,0,0)</td>\n",
       "    </tr>\n",
       "    <tr>\n",
       "      <th>18</th>\n",
       "      <td>1</td>\n",
       "      <td>0</td>\n",
       "      <td>0</td>\n",
       "      <td>142</td>\n",
       "      <td>(1,0,0)</td>\n",
       "    </tr>\n",
       "    <tr>\n",
       "      <th>1</th>\n",
       "      <td>0</td>\n",
       "      <td>0</td>\n",
       "      <td>1</td>\n",
       "      <td>62</td>\n",
       "      <td>(0,0,1)</td>\n",
       "    </tr>\n",
       "    <tr>\n",
       "      <th>34</th>\n",
       "      <td>2</td>\n",
       "      <td>0</td>\n",
       "      <td>0</td>\n",
       "      <td>53</td>\n",
       "      <td>(2,0,0)</td>\n",
       "    </tr>\n",
       "    <tr>\n",
       "      <th>61</th>\n",
       "      <td>4</td>\n",
       "      <td>0</td>\n",
       "      <td>0</td>\n",
       "      <td>40</td>\n",
       "      <td>(4,0,0)</td>\n",
       "    </tr>\n",
       "    <tr>\n",
       "      <th>...</th>\n",
       "      <td>...</td>\n",
       "      <td>...</td>\n",
       "      <td>...</td>\n",
       "      <td>...</td>\n",
       "      <td>...</td>\n",
       "    </tr>\n",
       "    <tr>\n",
       "      <th>300</th>\n",
       "      <td>19</td>\n",
       "      <td>0</td>\n",
       "      <td>3</td>\n",
       "      <td>1</td>\n",
       "      <td>(19,0,3)</td>\n",
       "    </tr>\n",
       "    <tr>\n",
       "      <th>299</th>\n",
       "      <td>18</td>\n",
       "      <td>10</td>\n",
       "      <td>1</td>\n",
       "      <td>1</td>\n",
       "      <td>(18,10,1)</td>\n",
       "    </tr>\n",
       "    <tr>\n",
       "      <th>298</th>\n",
       "      <td>18</td>\n",
       "      <td>9</td>\n",
       "      <td>2</td>\n",
       "      <td>1</td>\n",
       "      <td>(18,9,2)</td>\n",
       "    </tr>\n",
       "    <tr>\n",
       "      <th>296</th>\n",
       "      <td>18</td>\n",
       "      <td>7</td>\n",
       "      <td>1</td>\n",
       "      <td>1</td>\n",
       "      <td>(18,7,1)</td>\n",
       "    </tr>\n",
       "    <tr>\n",
       "      <th>537</th>\n",
       "      <td>60</td>\n",
       "      <td>16</td>\n",
       "      <td>6</td>\n",
       "      <td>1</td>\n",
       "      <td>(60,16,6)</td>\n",
       "    </tr>\n",
       "  </tbody>\n",
       "</table>\n",
       "<p>538 rows × 5 columns</p>\n",
       "</div>"
      ]
     },
     "metadata": {},
     "output_type": "display_data"
    },
    {
     "data": {
      "application/vnd.plotly.v1+json": {
       "data": [
        {
         "hovertemplate": "Vector=%{x}<br>Count=%{y}<extra></extra>",
         "legendgroup": "",
         "marker": {
          "color": "#636efa",
          "pattern": {
           "shape": ""
          }
         },
         "name": "",
         "orientation": "v",
         "showlegend": false,
         "textposition": "auto",
         "x": [
          "(0,0,0)",
          "(1,0,0)",
          "(0,0,1)",
          "(2,0,0)",
          "(4,0,0)",
          "(3,0,0)",
          "(0,1,0)",
          "(1,0,1)",
          "(3,0,1)",
          "(5,0,0)",
          "(4,0,1)",
          "(8,1,1)",
          "(5,0,1)",
          "(7,1,1)",
          "(2,0,1)",
          "(3,1,0)",
          "(7,0,0)",
          "(4,1,1)",
          "(9,0,1)",
          "(1,1,0)",
          "(5,1,0)",
          "(6,0,0)",
          "(6,1,0)",
          "(7,0,1)",
          "(11,0,0)",
          "(9,1,1)",
          "(0,2,0)",
          "(2,1,0)",
          "(9,2,1)",
          "(3,2,1)",
          "(6,1,2)",
          "(10,2,1)",
          "(10,1,1)",
          "(5,2,1)",
          "(2,1,1)",
          "(3,1,1)",
          "(6,0,1)",
          "(9,0,0)",
          "(14,2,1)",
          "(14,1,1)",
          "(1,0,3)",
          "(16,4,1)",
          "(10,1,3)",
          "(0,0,2)",
          "(4,1,2)",
          "(7,1,0)",
          "(12,4,2)",
          "(8,1,0)",
          "(8,0,1)",
          "(9,2,0)",
          "(6,3,3)",
          "(9,2,2)",
          "(26,7,3)",
          "(10,0,0)",
          "(27,5,2)",
          "(4,1,0)",
          "(14,4,1)",
          "(15,1,0)",
          "(13,2,2)",
          "(11,5,3)",
          "(32,10,3)",
          "(13,1,1)",
          "(26,5,3)",
          "(14,4,2)",
          "(24,5,3)",
          "(6,1,1)",
          "(6,2,0)",
          "(10,0,1)",
          "(15,3,1)",
          "(8,0,0)",
          "(12,2,1)",
          "(9,0,3)",
          "(4,3,0)",
          "(11,2,1)",
          "(10,3,1)",
          "(0,0,3)",
          "(20,5,2)",
          "(1,1,1)",
          "(35,9,3)",
          "(12,0,1)",
          "(11,0,1)",
          "(21,5,1)",
          "(21,3,2)",
          "(18,5,1)",
          "(15,2,3)",
          "(16,4,2)",
          "(25,9,5)",
          "(15,4,3)",
          "(37,10,3)",
          "(35,8,4)",
          "(9,1,0)",
          "(9,1,2)",
          "(13,4,2)",
          "(13,2,1)",
          "(11,3,2)",
          "(9,3,1)",
          "(12,2,3)",
          "(18,6,2)",
          "(23,3,1)",
          "(19,5,2)",
          "(10,1,0)",
          "(12,1,1)",
          "(35,11,4)",
          "(28,5,2)",
          "(11,1,1)",
          "(18,3,2)",
          "(25,6,1)",
          "(5,2,0)",
          "(0,2,1)",
          "(2,2,0)",
          "(6,1,3)",
          "(0,1,1)",
          "(5,1,3)",
          "(7,0,2)",
          "(11,4,1)",
          "(31,10,4)",
          "(16,7,3)",
          "(11,3,0)",
          "(11,2,3)",
          "(17,0,3)",
          "(17,3,1)",
          "(17,5,1)",
          "(17,8,2)",
          "(21,4,2)",
          "(4,0,3)",
          "(10,6,1)",
          "(33,9,2)",
          "(18,1,2)",
          "(1,1,2)",
          "(10,3,2)",
          "(10,3,0)",
          "(18,4,1)",
          "(10,2,0)",
          "(1,2,0)",
          "(16,4,0)",
          "(21,4,3)",
          "(16,0,0)",
          "(14,3,2)",
          "(15,2,1)",
          "(45,14,5)",
          "(15,4,1)",
          "(20,5,3)",
          "(13,3,0)",
          "(33,11,5)",
          "(2,3,0)",
          "(21,8,4)",
          "(2,5,0)",
          "(24,4,2)",
          "(12,4,1)",
          "(12,3,2)",
          "(34,9,4)",
          "(16,2,1)",
          "(3,0,2)",
          "(23,1,0)",
          "(12,0,5)",
          "(16,3,2)",
          "(52,15,5)",
          "(4,3,1)",
          "(14,7,3)",
          "(6,2,1)",
          "(24,7,1)",
          "(29,3,1)",
          "(24,7,2)",
          "(19,1,1)",
          "(19,2,3)",
          "(20,7,2)",
          "(8,2,3)",
          "(19,3,1)",
          "(8,2,1)",
          "(29,5,3)",
          "(20,0,3)",
          "(26,6,1)",
          "(19,4,3)",
          "(0,4,3)",
          "(19,6,3)",
          "(39,6,4)",
          "(18,7,2)",
          "(30,4,3)",
          "(9,3,3)",
          "(9,4,1)",
          "(5,0,2)",
          "(29,6,4)",
          "(9,2,3)",
          "(18,5,3)",
          "(5,3,2)",
          "(18,5,2)",
          "(21,8,3)",
          "(15,6,0)",
          "(29,10,0)",
          "(15,0,1)",
          "(20,0,0)",
          "(22,0,5)",
          "(20,5,1)",
          "(1,4,0)",
          "(15,4,0)",
          "(20,2,1)",
          "(27,8,4)",
          "(29,6,5)",
          "(1,6,1)",
          "(15,4,2)",
          "(1,7,2)",
          "(20,3,3)",
          "(27,11,4)",
          "(29,8,5)",
          "(15,3,2)",
          "(21,7,2)",
          "(28,8,3)",
          "(19,9,2)",
          "(21,6,4)",
          "(31,6,3)",
          "(50,13,4)",
          "(31,7,3)",
          "(31,7,5)",
          "(31,0,3)",
          "(0,5,0)",
          "(28,9,2)",
          "(17,4,1)",
          "(51,13,7)",
          "(30,6,2)",
          "(16,6,3)",
          "(16,5,2)",
          "(30,4,2)",
          "(16,3,1)",
          "(29,12,5)",
          "(32,3,3)",
          "(16,2,2)",
          "(21,5,2)",
          "(19,9,1)",
          "(32,6,3)",
          "(16,0,2)",
          "(17,9,4)",
          "(0,4,1)",
          "(1,14,5)",
          "(23,5,2)",
          "(7,7,1)",
          "(4,1,3)",
          "(35,11,3)",
          "(37,10,4)",
          "(35,9,4)",
          "(7,6,1)",
          "(11,2,0)",
          "(23,8,3)",
          "(3,4,1)",
          "(11,3,1)",
          "(7,5,0)",
          "(26,8,3)",
          "(11,4,2)",
          "(23,3,2)",
          "(6,3,0)",
          "(4,2,0)",
          "(0,3,0)",
          "(8,0,3)",
          "(8,5,3)",
          "(8,2,2)",
          "(6,0,3)",
          "(8,2,0)",
          "(9,0,2)",
          "(5,6,0)",
          "(26,4,3)",
          "(24,2,0)",
          "(25,0,2)",
          "(9,3,0)",
          "(5,1,1)",
          "(36,11,4)",
          "(0,1,2)",
          "(36,10,3)",
          "(8,3,0)",
          "(3,1,3)",
          "(11,6,2)",
          "(2,1,3)",
          "(2,2,2)",
          "(44,12,4)",
          "(38,9,3)",
          "(13,5,1)",
          "(7,2,3)",
          "(14,2,0)",
          "(7,2,2)",
          "(23,3,0)",
          "(14,2,2)",
          "(14,2,3)",
          "(14,3,1)",
          "(14,4,0)",
          "(7,2,1)",
          "(2,1,2)",
          "(13,1,2)",
          "(2,3,1)",
          "(7,3,1)",
          "(25,7,3)",
          "(23,2,2)",
          "(12,0,2)",
          "(12,1,0)",
          "(12,2,0)",
          "(22,9,3)",
          "(44,11,5)",
          "(12,3,1)",
          "(22,8,3)",
          "(12,5,1)",
          "(12,5,2)",
          "(26,9,4)",
          "(26,11,3)",
          "(25,5,2)",
          "(24,8,3)",
          "(29,4,3)",
          "(25,9,3)",
          "(28,6,2)",
          "(25,11,2)",
          "(26,3,0)",
          "(27,8,1)",
          "(27,9,3)",
          "(27,6,3)",
          "(27,6,1)",
          "(54,11,6)",
          "(27,4,4)",
          "(53,13,4)",
          "(28,5,3)",
          "(26,8,2)",
          "(27,6,4)",
          "(55,14,5)",
          "(26,6,3)",
          "(28,7,2)",
          "(26,6,2)",
          "(26,5,2)",
          "(28,10,5)",
          "(29,4,2)",
          "(27,5,3)",
          "(32,9,1)",
          "(29,7,3)",
          "(40,13,1)",
          "(25,7,1)",
          "(44,11,4)",
          "(44,9,6)",
          "(35,4,3)",
          "(35,5,5)",
          "(44,7,6)",
          "(42,15,5)",
          "(42,11,4)",
          "(42,6,3)",
          "(41,14,4)",
          "(35,11,5)",
          "(36,8,3)",
          "(41,11,5)",
          "(41,4,1)",
          "(36,9,3)",
          "(34,7,2)",
          "(40,11,4)",
          "(36,11,3)",
          "(40,11,3)",
          "(40,10,5)",
          "(39,13,5)",
          "(39,9,4)",
          "(36,11,6)",
          "(36,12,4)",
          "(36,12,5)",
          "(37,9,1)",
          "(39,8,5)",
          "(37,12,2)",
          "(37,12,4)",
          "(37,13,5)",
          "(34,8,1)",
          "(34,6,3)",
          "(29,9,3)",
          "(32,5,3)",
          "(29,10,4)",
          "(30,3,3)",
          "(30,7,3)",
          "(30,9,1)",
          "(30,9,3)",
          "(30,13,3)",
          "(31,7,2)",
          "(31,7,4)",
          "(31,9,3)",
          "(31,9,4)",
          "(31,10,3)",
          "(49,15,4)",
          "(47,14,4)",
          "(31,12,4)",
          "(32,5,5)",
          "(34,6,1)",
          "(32,6,6)",
          "(32,7,2)",
          "(32,8,3)",
          "(38,10,3)",
          "(32,9,4)",
          "(32,11,3)",
          "(32,12,4)",
          "(32,13,4)",
          "(45,13,4)",
          "(33,4,1)",
          "(33,9,3)",
          "(33,10,3)",
          "(33,11,4)",
          "(34,4,1)",
          "(34,10,3)",
          "(16,6,1)",
          "(25,4,2)",
          "(25,4,1)",
          "(11,5,2)",
          "(11,2,2)",
          "(11,0,3)",
          "(10,5,0)",
          "(10,4,3)",
          "(10,4,2)",
          "(10,4,0)",
          "(10,0,2)",
          "(9,10,1)",
          "(9,5,3)",
          "(9,5,0)",
          "(8,9,5)",
          "(8,4,3)",
          "(8,3,1)",
          "(8,0,2)",
          "(11,6,0)",
          "(12,0,0)",
          "(12,2,2)",
          "(13,4,3)",
          "(15,2,4)",
          "(15,2,0)",
          "(15,1,2)",
          "(15,0,0)",
          "(14,5,1)",
          "(14,1,5)",
          "(13,3,3)",
          "(12,3,0)",
          "(13,2,3)",
          "(13,0,0)",
          "(12,10,0)",
          "(12,9,2)",
          "(12,7,2)",
          "(12,4,3)",
          "(7,7,3)",
          "(7,6,2)",
          "(7,5,2)",
          "(1,2,3)",
          "(3,0,5)",
          "(3,0,3)",
          "(2,6,0)",
          "(2,2,1)",
          "(1,10,3)",
          "(1,7,3)",
          "(1,2,1)",
          "(3,3,0)",
          "(1,0,2)",
          "(0,4,0)",
          "(0,3,3)",
          "(0,3,2)",
          "(0,3,1)",
          "(0,2,2)",
          "(3,2,0)",
          "(3,3,1)",
          "(7,4,1)",
          "(5,5,1)",
          "(7,3,3)",
          "(7,3,0)",
          "(6,3,2)",
          "(6,3,1)",
          "(6,2,3)",
          "(6,0,2)",
          "(5,3,0)",
          "(3,4,3)",
          "(5,1,2)",
          "(5,0,3)",
          "(4,6,3)",
          "(4,4,3)",
          "(4,2,1)",
          "(4,0,2)",
          "(15,5,1)",
          "(15,5,3)",
          "(15,6,3)",
          "(21,6,3)",
          "(22,2,3)",
          "(22,1,1)",
          "(22,0,6)",
          "(21,9,3)",
          "(21,9,2)",
          "(21,7,0)",
          "(21,4,1)",
          "(22,4,1)",
          "(21,3,1)",
          "(21,2,0)",
          "(21,1,2)",
          "(20,8,3)",
          "(20,8,2)",
          "(20,8,1)",
          "(22,3,1)",
          "(22,4,2)",
          "(20,7,1)",
          "(24,5,1)",
          "(25,3,2)",
          "(24,9,2)",
          "(24,8,2)",
          "(24,6,2)",
          "(24,5,4)",
          "(24,5,2)",
          "(23,11,3)",
          "(22,6,3)",
          "(23,8,1)",
          "(23,7,3)",
          "(23,4,2)",
          "(23,3,3)",
          "(22,7,2)",
          "(22,6,5)",
          "(20,7,3)",
          "(20,6,3)",
          "(15,6,4)",
          "(16,6,4)",
          "(18,3,3)",
          "(18,2,5)",
          "(18,0,2)",
          "(17,4,3)",
          "(17,2,3)",
          "(16,7,0)",
          "(16,3,3)",
          "(18,4,5)",
          "(16,3,0)",
          "(16,2,0)",
          "(16,1,1)",
          "(16,1,0)",
          "(16,0,1)",
          "(15,10,3)",
          "(18,4,4)",
          "(18,6,1)",
          "(20,5,4)",
          "(19,4,2)",
          "(20,4,2)",
          "(20,4,1)",
          "(20,3,5)",
          "(20,2,3)",
          "(19,9,3)",
          "(19,5,3)",
          "(19,3,0)",
          "(18,6,5)",
          "(19,2,1)",
          "(19,1,0)",
          "(19,0,3)",
          "(18,10,1)",
          "(18,9,2)",
          "(18,7,1)",
          "(60,16,6)"
         ],
         "xaxis": "x",
         "y": {
          "dtype": "i2",
          "bdata": "+wSOAD4ANQAoACMAHwAZABgAFQATAA8ADgAOAA4ADQANAAwADAAMAAsACwALAAsACgAKAAoACQAJAAkACQAIAAgACAAIAAgACAAIAAgABwAHAAcABwAHAAcABwAHAAYABgAGAAYABgAGAAYABgAGAAYABgAGAAYABgAFAAUABQAFAAUABQAFAAUABQAFAAUABQAFAAUABQAFAAUABQAFAAUABQAFAAQABAAEAAQABAAEAAQABAAEAAQABAAEAAQABAAEAAQABAAEAAQABAAEAAQABAAEAAQABAAEAAQABAAEAAMAAwADAAMAAwADAAMAAwADAAMAAwADAAMAAwADAAMAAwADAAMAAwADAAMAAwADAAMAAwADAAMAAwADAAMAAwADAAMAAwADAAMAAwADAAMAAwADAAMAAwADAAMAAwADAAMAAwADAAMAAwADAAMAAwADAAMAAwADAAMAAwADAAMAAwADAAMAAwADAAMAAwADAAMAAgACAAIAAgACAAIAAgACAAIAAgACAAIAAgACAAIAAgACAAIAAgACAAIAAgACAAIAAgACAAIAAgACAAIAAgACAAIAAgACAAIAAgACAAIAAgACAAIAAgACAAIAAgACAAIAAgACAAIAAgACAAIAAgACAAIAAgACAAIAAgACAAIAAgACAAIAAgACAAIAAgACAAIAAgACAAIAAgACAAIAAgACAAIAAgACAAIAAgACAAIAAgACAAIAAgACAAIAAgACAAIAAgACAAIAAgACAAIAAgACAAIAAgACAAIAAgACAAIAAgACAAIAAgACAAEAAQABAAEAAQABAAEAAQABAAEAAQABAAEAAQABAAEAAQABAAEAAQABAAEAAQABAAEAAQABAAEAAQABAAEAAQABAAEAAQABAAEAAQABAAEAAQABAAEAAQABAAEAAQABAAEAAQABAAEAAQABAAEAAQABAAEAAQABAAEAAQABAAEAAQABAAEAAQABAAEAAQABAAEAAQABAAEAAQABAAEAAQABAAEAAQABAAEAAQABAAEAAQABAAEAAQABAAEAAQABAAEAAQABAAEAAQABAAEAAQABAAEAAQABAAEAAQABAAEAAQABAAEAAQABAAEAAQABAAEAAQABAAEAAQABAAEAAQABAAEAAQABAAEAAQABAAEAAQABAAEAAQABAAEAAQABAAEAAQABAAEAAQABAAEAAQABAAEAAQABAAEAAQABAAEAAQABAAEAAQABAAEAAQABAAEAAQABAAEAAQABAAEAAQABAAEAAQABAAEAAQABAAEAAQABAAEAAQABAAEAAQABAAEAAQABAAEAAQABAAEAAQABAAEAAQABAAEAAQABAAEAAQABAAEAAQABAAEAAQABAAEAAQABAAEAAQABAAEAAQABAAEAAQABAAEAAQABAAEAAQABAAEAAQA="
         },
         "yaxis": "y",
         "type": "bar"
        }
       ],
       "layout": {
        "template": {
         "data": {
          "histogram2dcontour": [
           {
            "type": "histogram2dcontour",
            "colorbar": {
             "outlinewidth": 0,
             "ticks": ""
            },
            "colorscale": [
             [
              0.0,
              "#0d0887"
             ],
             [
              0.1111111111111111,
              "#46039f"
             ],
             [
              0.2222222222222222,
              "#7201a8"
             ],
             [
              0.3333333333333333,
              "#9c179e"
             ],
             [
              0.4444444444444444,
              "#bd3786"
             ],
             [
              0.5555555555555556,
              "#d8576b"
             ],
             [
              0.6666666666666666,
              "#ed7953"
             ],
             [
              0.7777777777777778,
              "#fb9f3a"
             ],
             [
              0.8888888888888888,
              "#fdca26"
             ],
             [
              1.0,
              "#f0f921"
             ]
            ]
           }
          ],
          "choropleth": [
           {
            "type": "choropleth",
            "colorbar": {
             "outlinewidth": 0,
             "ticks": ""
            }
           }
          ],
          "histogram2d": [
           {
            "type": "histogram2d",
            "colorbar": {
             "outlinewidth": 0,
             "ticks": ""
            },
            "colorscale": [
             [
              0.0,
              "#0d0887"
             ],
             [
              0.1111111111111111,
              "#46039f"
             ],
             [
              0.2222222222222222,
              "#7201a8"
             ],
             [
              0.3333333333333333,
              "#9c179e"
             ],
             [
              0.4444444444444444,
              "#bd3786"
             ],
             [
              0.5555555555555556,
              "#d8576b"
             ],
             [
              0.6666666666666666,
              "#ed7953"
             ],
             [
              0.7777777777777778,
              "#fb9f3a"
             ],
             [
              0.8888888888888888,
              "#fdca26"
             ],
             [
              1.0,
              "#f0f921"
             ]
            ]
           }
          ],
          "heatmap": [
           {
            "type": "heatmap",
            "colorbar": {
             "outlinewidth": 0,
             "ticks": ""
            },
            "colorscale": [
             [
              0.0,
              "#0d0887"
             ],
             [
              0.1111111111111111,
              "#46039f"
             ],
             [
              0.2222222222222222,
              "#7201a8"
             ],
             [
              0.3333333333333333,
              "#9c179e"
             ],
             [
              0.4444444444444444,
              "#bd3786"
             ],
             [
              0.5555555555555556,
              "#d8576b"
             ],
             [
              0.6666666666666666,
              "#ed7953"
             ],
             [
              0.7777777777777778,
              "#fb9f3a"
             ],
             [
              0.8888888888888888,
              "#fdca26"
             ],
             [
              1.0,
              "#f0f921"
             ]
            ]
           }
          ],
          "contourcarpet": [
           {
            "type": "contourcarpet",
            "colorbar": {
             "outlinewidth": 0,
             "ticks": ""
            }
           }
          ],
          "contour": [
           {
            "type": "contour",
            "colorbar": {
             "outlinewidth": 0,
             "ticks": ""
            },
            "colorscale": [
             [
              0.0,
              "#0d0887"
             ],
             [
              0.1111111111111111,
              "#46039f"
             ],
             [
              0.2222222222222222,
              "#7201a8"
             ],
             [
              0.3333333333333333,
              "#9c179e"
             ],
             [
              0.4444444444444444,
              "#bd3786"
             ],
             [
              0.5555555555555556,
              "#d8576b"
             ],
             [
              0.6666666666666666,
              "#ed7953"
             ],
             [
              0.7777777777777778,
              "#fb9f3a"
             ],
             [
              0.8888888888888888,
              "#fdca26"
             ],
             [
              1.0,
              "#f0f921"
             ]
            ]
           }
          ],
          "surface": [
           {
            "type": "surface",
            "colorbar": {
             "outlinewidth": 0,
             "ticks": ""
            },
            "colorscale": [
             [
              0.0,
              "#0d0887"
             ],
             [
              0.1111111111111111,
              "#46039f"
             ],
             [
              0.2222222222222222,
              "#7201a8"
             ],
             [
              0.3333333333333333,
              "#9c179e"
             ],
             [
              0.4444444444444444,
              "#bd3786"
             ],
             [
              0.5555555555555556,
              "#d8576b"
             ],
             [
              0.6666666666666666,
              "#ed7953"
             ],
             [
              0.7777777777777778,
              "#fb9f3a"
             ],
             [
              0.8888888888888888,
              "#fdca26"
             ],
             [
              1.0,
              "#f0f921"
             ]
            ]
           }
          ],
          "mesh3d": [
           {
            "type": "mesh3d",
            "colorbar": {
             "outlinewidth": 0,
             "ticks": ""
            }
           }
          ],
          "scatter": [
           {
            "fillpattern": {
             "fillmode": "overlay",
             "size": 10,
             "solidity": 0.2
            },
            "type": "scatter"
           }
          ],
          "parcoords": [
           {
            "type": "parcoords",
            "line": {
             "colorbar": {
              "outlinewidth": 0,
              "ticks": ""
             }
            }
           }
          ],
          "scatterpolargl": [
           {
            "type": "scatterpolargl",
            "marker": {
             "colorbar": {
              "outlinewidth": 0,
              "ticks": ""
             }
            }
           }
          ],
          "bar": [
           {
            "error_x": {
             "color": "#2a3f5f"
            },
            "error_y": {
             "color": "#2a3f5f"
            },
            "marker": {
             "line": {
              "color": "#E5ECF6",
              "width": 0.5
             },
             "pattern": {
              "fillmode": "overlay",
              "size": 10,
              "solidity": 0.2
             }
            },
            "type": "bar"
           }
          ],
          "scattergeo": [
           {
            "type": "scattergeo",
            "marker": {
             "colorbar": {
              "outlinewidth": 0,
              "ticks": ""
             }
            }
           }
          ],
          "scatterpolar": [
           {
            "type": "scatterpolar",
            "marker": {
             "colorbar": {
              "outlinewidth": 0,
              "ticks": ""
             }
            }
           }
          ],
          "histogram": [
           {
            "marker": {
             "pattern": {
              "fillmode": "overlay",
              "size": 10,
              "solidity": 0.2
             }
            },
            "type": "histogram"
           }
          ],
          "scattergl": [
           {
            "type": "scattergl",
            "marker": {
             "colorbar": {
              "outlinewidth": 0,
              "ticks": ""
             }
            }
           }
          ],
          "scatter3d": [
           {
            "type": "scatter3d",
            "line": {
             "colorbar": {
              "outlinewidth": 0,
              "ticks": ""
             }
            },
            "marker": {
             "colorbar": {
              "outlinewidth": 0,
              "ticks": ""
             }
            }
           }
          ],
          "scattermap": [
           {
            "type": "scattermap",
            "marker": {
             "colorbar": {
              "outlinewidth": 0,
              "ticks": ""
             }
            }
           }
          ],
          "scattermapbox": [
           {
            "type": "scattermapbox",
            "marker": {
             "colorbar": {
              "outlinewidth": 0,
              "ticks": ""
             }
            }
           }
          ],
          "scatterternary": [
           {
            "type": "scatterternary",
            "marker": {
             "colorbar": {
              "outlinewidth": 0,
              "ticks": ""
             }
            }
           }
          ],
          "scattercarpet": [
           {
            "type": "scattercarpet",
            "marker": {
             "colorbar": {
              "outlinewidth": 0,
              "ticks": ""
             }
            }
           }
          ],
          "carpet": [
           {
            "aaxis": {
             "endlinecolor": "#2a3f5f",
             "gridcolor": "white",
             "linecolor": "white",
             "minorgridcolor": "white",
             "startlinecolor": "#2a3f5f"
            },
            "baxis": {
             "endlinecolor": "#2a3f5f",
             "gridcolor": "white",
             "linecolor": "white",
             "minorgridcolor": "white",
             "startlinecolor": "#2a3f5f"
            },
            "type": "carpet"
           }
          ],
          "table": [
           {
            "cells": {
             "fill": {
              "color": "#EBF0F8"
             },
             "line": {
              "color": "white"
             }
            },
            "header": {
             "fill": {
              "color": "#C8D4E3"
             },
             "line": {
              "color": "white"
             }
            },
            "type": "table"
           }
          ],
          "barpolar": [
           {
            "marker": {
             "line": {
              "color": "#E5ECF6",
              "width": 0.5
             },
             "pattern": {
              "fillmode": "overlay",
              "size": 10,
              "solidity": 0.2
             }
            },
            "type": "barpolar"
           }
          ],
          "pie": [
           {
            "automargin": true,
            "type": "pie"
           }
          ]
         },
         "layout": {
          "autotypenumbers": "strict",
          "colorway": [
           "#636efa",
           "#EF553B",
           "#00cc96",
           "#ab63fa",
           "#FFA15A",
           "#19d3f3",
           "#FF6692",
           "#B6E880",
           "#FF97FF",
           "#FECB52"
          ],
          "font": {
           "color": "#2a3f5f"
          },
          "hovermode": "closest",
          "hoverlabel": {
           "align": "left"
          },
          "paper_bgcolor": "white",
          "plot_bgcolor": "#E5ECF6",
          "polar": {
           "bgcolor": "#E5ECF6",
           "angularaxis": {
            "gridcolor": "white",
            "linecolor": "white",
            "ticks": ""
           },
           "radialaxis": {
            "gridcolor": "white",
            "linecolor": "white",
            "ticks": ""
           }
          },
          "ternary": {
           "bgcolor": "#E5ECF6",
           "aaxis": {
            "gridcolor": "white",
            "linecolor": "white",
            "ticks": ""
           },
           "baxis": {
            "gridcolor": "white",
            "linecolor": "white",
            "ticks": ""
           },
           "caxis": {
            "gridcolor": "white",
            "linecolor": "white",
            "ticks": ""
           }
          },
          "coloraxis": {
           "colorbar": {
            "outlinewidth": 0,
            "ticks": ""
           }
          },
          "colorscale": {
           "sequential": [
            [
             0.0,
             "#0d0887"
            ],
            [
             0.1111111111111111,
             "#46039f"
            ],
            [
             0.2222222222222222,
             "#7201a8"
            ],
            [
             0.3333333333333333,
             "#9c179e"
            ],
            [
             0.4444444444444444,
             "#bd3786"
            ],
            [
             0.5555555555555556,
             "#d8576b"
            ],
            [
             0.6666666666666666,
             "#ed7953"
            ],
            [
             0.7777777777777778,
             "#fb9f3a"
            ],
            [
             0.8888888888888888,
             "#fdca26"
            ],
            [
             1.0,
             "#f0f921"
            ]
           ],
           "sequentialminus": [
            [
             0.0,
             "#0d0887"
            ],
            [
             0.1111111111111111,
             "#46039f"
            ],
            [
             0.2222222222222222,
             "#7201a8"
            ],
            [
             0.3333333333333333,
             "#9c179e"
            ],
            [
             0.4444444444444444,
             "#bd3786"
            ],
            [
             0.5555555555555556,
             "#d8576b"
            ],
            [
             0.6666666666666666,
             "#ed7953"
            ],
            [
             0.7777777777777778,
             "#fb9f3a"
            ],
            [
             0.8888888888888888,
             "#fdca26"
            ],
            [
             1.0,
             "#f0f921"
            ]
           ],
           "diverging": [
            [
             0,
             "#8e0152"
            ],
            [
             0.1,
             "#c51b7d"
            ],
            [
             0.2,
             "#de77ae"
            ],
            [
             0.3,
             "#f1b6da"
            ],
            [
             0.4,
             "#fde0ef"
            ],
            [
             0.5,
             "#f7f7f7"
            ],
            [
             0.6,
             "#e6f5d0"
            ],
            [
             0.7,
             "#b8e186"
            ],
            [
             0.8,
             "#7fbc41"
            ],
            [
             0.9,
             "#4d9221"
            ],
            [
             1,
             "#276419"
            ]
           ]
          },
          "xaxis": {
           "gridcolor": "white",
           "linecolor": "white",
           "ticks": "",
           "title": {
            "standoff": 15
           },
           "zerolinecolor": "white",
           "automargin": true,
           "zerolinewidth": 2
          },
          "yaxis": {
           "gridcolor": "white",
           "linecolor": "white",
           "ticks": "",
           "title": {
            "standoff": 15
           },
           "zerolinecolor": "white",
           "automargin": true,
           "zerolinewidth": 2
          },
          "scene": {
           "xaxis": {
            "backgroundcolor": "#E5ECF6",
            "gridcolor": "white",
            "linecolor": "white",
            "showbackground": true,
            "ticks": "",
            "zerolinecolor": "white",
            "gridwidth": 2
           },
           "yaxis": {
            "backgroundcolor": "#E5ECF6",
            "gridcolor": "white",
            "linecolor": "white",
            "showbackground": true,
            "ticks": "",
            "zerolinecolor": "white",
            "gridwidth": 2
           },
           "zaxis": {
            "backgroundcolor": "#E5ECF6",
            "gridcolor": "white",
            "linecolor": "white",
            "showbackground": true,
            "ticks": "",
            "zerolinecolor": "white",
            "gridwidth": 2
           }
          },
          "shapedefaults": {
           "line": {
            "color": "#2a3f5f"
           }
          },
          "annotationdefaults": {
           "arrowcolor": "#2a3f5f",
           "arrowhead": 0,
           "arrowwidth": 1
          },
          "geo": {
           "bgcolor": "white",
           "landcolor": "#E5ECF6",
           "subunitcolor": "white",
           "showland": true,
           "showlakes": true,
           "lakecolor": "white"
          },
          "title": {
           "x": 0.05
          },
          "mapbox": {
           "style": "light"
          }
         }
        },
        "xaxis": {
         "anchor": "y",
         "domain": [
          0.0,
          1.0
         ],
         "title": {
          "text": "Vector"
         }
        },
        "yaxis": {
         "anchor": "x",
         "domain": [
          0.0,
          1.0
         ],
         "title": {
          "text": "Count"
         },
         "type": "log"
        },
        "legend": {
         "tracegroupgap": 0
        },
        "title": {
         "text": "12-Month WOMAC Median Vectors (Left Knee)"
        },
        "barmode": "relative"
       },
       "config": {
        "plotlyServerURL": "https://plot.ly"
       }
      }
     },
     "metadata": {},
     "output_type": "display_data"
    },
    {
     "data": {
      "text/plain": [
       "     V01WOMADLR  V01WOMKPR  V01WOMSTFR  Count    Vector\n",
       "0             0          0           0   1146   (0,0,0)\n",
       "1             0          0           1    101   (0,0,1)\n",
       "21            1          0           0     70   (1,0,0)\n",
       "4             0          1           0     66   (0,1,0)\n",
       "37            2          0           0     66   (2,0,0)\n",
       "..          ...        ...         ...    ...       ...\n",
       "401          22          4           3      1  (22,4,3)\n",
       "240          13          0           4      1  (13,0,4)\n",
       "403          22          5           5      1  (22,5,5)\n",
       "404          22          6           2      1  (22,6,2)\n",
       "376          20          9           1      1  (20,9,1)\n",
       "\n",
       "[567 rows x 5 columns]"
      ],
      "text/html": [
       "<div>\n",
       "<style scoped>\n",
       "    .dataframe tbody tr th:only-of-type {\n",
       "        vertical-align: middle;\n",
       "    }\n",
       "\n",
       "    .dataframe tbody tr th {\n",
       "        vertical-align: top;\n",
       "    }\n",
       "\n",
       "    .dataframe thead th {\n",
       "        text-align: right;\n",
       "    }\n",
       "</style>\n",
       "<table border=\"1\" class=\"dataframe\">\n",
       "  <thead>\n",
       "    <tr style=\"text-align: right;\">\n",
       "      <th></th>\n",
       "      <th>V01WOMADLR</th>\n",
       "      <th>V01WOMKPR</th>\n",
       "      <th>V01WOMSTFR</th>\n",
       "      <th>Count</th>\n",
       "      <th>Vector</th>\n",
       "    </tr>\n",
       "  </thead>\n",
       "  <tbody>\n",
       "    <tr>\n",
       "      <th>0</th>\n",
       "      <td>0</td>\n",
       "      <td>0</td>\n",
       "      <td>0</td>\n",
       "      <td>1146</td>\n",
       "      <td>(0,0,0)</td>\n",
       "    </tr>\n",
       "    <tr>\n",
       "      <th>1</th>\n",
       "      <td>0</td>\n",
       "      <td>0</td>\n",
       "      <td>1</td>\n",
       "      <td>101</td>\n",
       "      <td>(0,0,1)</td>\n",
       "    </tr>\n",
       "    <tr>\n",
       "      <th>21</th>\n",
       "      <td>1</td>\n",
       "      <td>0</td>\n",
       "      <td>0</td>\n",
       "      <td>70</td>\n",
       "      <td>(1,0,0)</td>\n",
       "    </tr>\n",
       "    <tr>\n",
       "      <th>4</th>\n",
       "      <td>0</td>\n",
       "      <td>1</td>\n",
       "      <td>0</td>\n",
       "      <td>66</td>\n",
       "      <td>(0,1,0)</td>\n",
       "    </tr>\n",
       "    <tr>\n",
       "      <th>37</th>\n",
       "      <td>2</td>\n",
       "      <td>0</td>\n",
       "      <td>0</td>\n",
       "      <td>66</td>\n",
       "      <td>(2,0,0)</td>\n",
       "    </tr>\n",
       "    <tr>\n",
       "      <th>...</th>\n",
       "      <td>...</td>\n",
       "      <td>...</td>\n",
       "      <td>...</td>\n",
       "      <td>...</td>\n",
       "      <td>...</td>\n",
       "    </tr>\n",
       "    <tr>\n",
       "      <th>401</th>\n",
       "      <td>22</td>\n",
       "      <td>4</td>\n",
       "      <td>3</td>\n",
       "      <td>1</td>\n",
       "      <td>(22,4,3)</td>\n",
       "    </tr>\n",
       "    <tr>\n",
       "      <th>240</th>\n",
       "      <td>13</td>\n",
       "      <td>0</td>\n",
       "      <td>4</td>\n",
       "      <td>1</td>\n",
       "      <td>(13,0,4)</td>\n",
       "    </tr>\n",
       "    <tr>\n",
       "      <th>403</th>\n",
       "      <td>22</td>\n",
       "      <td>5</td>\n",
       "      <td>5</td>\n",
       "      <td>1</td>\n",
       "      <td>(22,5,5)</td>\n",
       "    </tr>\n",
       "    <tr>\n",
       "      <th>404</th>\n",
       "      <td>22</td>\n",
       "      <td>6</td>\n",
       "      <td>2</td>\n",
       "      <td>1</td>\n",
       "      <td>(22,6,2)</td>\n",
       "    </tr>\n",
       "    <tr>\n",
       "      <th>376</th>\n",
       "      <td>20</td>\n",
       "      <td>9</td>\n",
       "      <td>1</td>\n",
       "      <td>1</td>\n",
       "      <td>(20,9,1)</td>\n",
       "    </tr>\n",
       "  </tbody>\n",
       "</table>\n",
       "<p>567 rows × 5 columns</p>\n",
       "</div>"
      ]
     },
     "metadata": {},
     "output_type": "display_data"
    },
    {
     "data": {
      "application/vnd.plotly.v1+json": {
       "data": [
        {
         "hovertemplate": "Vector=%{x}<br>Count=%{y}<extra></extra>",
         "legendgroup": "",
         "marker": {
          "color": "#636efa",
          "pattern": {
           "shape": ""
          }
         },
         "name": "",
         "orientation": "v",
         "showlegend": false,
         "textposition": "auto",
         "x": [
          "(0,0,0)",
          "(0,0,1)",
          "(1,0,0)",
          "(0,1,0)",
          "(2,0,0)",
          "(3,0,0)",
          "(1,0,1)",
          "(2,0,1)",
          "(4,0,0)",
          "(7,0,1)",
          "(1,1,0)",
          "(3,0,1)",
          "(5,0,0)",
          "(7,0,0)",
          "(5,0,1)",
          "(7,2,0)",
          "(0,2,0)",
          "(0,0,2)",
          "(5,1,1)",
          "(1,1,1)",
          "(3,0,2)",
          "(0,1,1)",
          "(4,1,1)",
          "(6,2,1)",
          "(7,1,1)",
          "(6,0,0)",
          "(3,1,1)",
          "(4,1,0)",
          "(4,2,0)",
          "(3,1,0)",
          "(6,0,1)",
          "(6,1,0)",
          "(11,2,1)",
          "(8,0,1)",
          "(7,0,2)",
          "(2,2,1)",
          "(7,1,0)",
          "(4,0,1)",
          "(13,3,1)",
          "(2,1,0)",
          "(6,1,1)",
          "(10,1,1)",
          "(4,0,2)",
          "(12,1,1)",
          "(9,1,0)",
          "(0,1,3)",
          "(1,5,0)",
          "(7,3,1)",
          "(9,0,3)",
          "(12,2,2)",
          "(13,2,1)",
          "(8,1,1)",
          "(5,2,1)",
          "(15,1,0)",
          "(21,4,1)",
          "(9,2,0)",
          "(7,1,2)",
          "(18,3,2)",
          "(11,0,1)",
          "(10,3,1)",
          "(2,2,0)",
          "(23,7,3)",
          "(3,0,3)",
          "(0,2,1)",
          "(7,2,1)",
          "(0,3,0)",
          "(14,3,3)",
          "(25,4,3)",
          "(4,3,3)",
          "(25,6,3)",
          "(15,4,1)",
          "(1,4,0)",
          "(6,2,0)",
          "(9,3,1)",
          "(0,8,1)",
          "(4,3,1)",
          "(14,8,3)",
          "(2,3,0)",
          "(16,6,3)",
          "(22,5,3)",
          "(3,6,1)",
          "(11,4,1)",
          "(13,4,3)",
          "(8,2,3)",
          "(12,6,2)",
          "(16,2,1)",
          "(12,2,3)",
          "(15,4,2)",
          "(6,0,2)",
          "(6,2,5)",
          "(24,4,3)",
          "(5,1,0)",
          "(14,8,2)",
          "(24,7,1)",
          "(7,0,3)",
          "(26,8,1)",
          "(27,6,3)",
          "(7,1,3)",
          "(14,3,1)",
          "(14,2,2)",
          "(14,2,1)",
          "(8,4,2)",
          "(7,6,0)",
          "(13,3,0)",
          "(2,0,2)",
          "(11,3,1)",
          "(4,3,2)",
          "(20,4,2)",
          "(22,8,3)",
          "(4,2,1)",
          "(10,4,1)",
          "(19,8,3)",
          "(10,4,0)",
          "(37,9,3)",
          "(5,4,3)",
          "(19,4,2)",
          "(19,3,3)",
          "(11,1,0)",
          "(0,0,3)",
          "(18,5,1)",
          "(23,3,2)",
          "(5,0,2)",
          "(11,1,2)",
          "(20,10,2)",
          "(23,3,3)",
          "(23,4,3)",
          "(10,3,3)",
          "(2,1,1)",
          "(11,2,2)",
          "(3,2,0)",
          "(10,2,0)",
          "(10,5,1)",
          "(12,3,0)",
          "(10,3,4)",
          "(12,5,1)",
          "(30,6,3)",
          "(10,6,1)",
          "(31,5,4)",
          "(11,0,0)",
          "(12,2,1)",
          "(12,1,2)",
          "(31,10,3)",
          "(33,10,2)",
          "(11,5,0)",
          "(11,2,0)",
          "(11,2,3)",
          "(36,9,5)",
          "(13,1,0)",
          "(21,8,2)",
          "(29,7,2)",
          "(23,2,0)",
          "(17,5,0)",
          "(17,5,2)",
          "(10,3,0)",
          "(18,5,2)",
          "(19,4,3)",
          "(19,6,3)",
          "(20,3,2)",
          "(16,7,2)",
          "(20,4,3)",
          "(22,6,3)",
          "(20,5,1)",
          "(20,7,3)",
          "(21,2,2)",
          "(21,6,2)",
          "(16,7,4)",
          "(16,5,1)",
          "(29,6,3)",
          "(14,4,2)",
          "(29,3,3)",
          "(13,3,2)",
          "(14,0,1)",
          "(14,1,2)",
          "(28,5,4)",
          "(27,8,1)",
          "(21,7,3)",
          "(15,7,3)",
          "(14,5,1)",
          "(14,7,2)",
          "(15,2,3)",
          "(23,9,3)",
          "(23,9,2)",
          "(23,9,1)",
          "(14,5,0)",
          "(58,14,6)",
          "(0,2,2)",
          "(1,2,0)",
          "(0,3,1)",
          "(9,2,2)",
          "(9,0,0)",
          "(9,3,0)",
          "(0,5,1)",
          "(3,3,2)",
          "(6,4,2)",
          "(9,2,1)",
          "(5,3,0)",
          "(6,3,1)",
          "(9,1,1)",
          "(4,2,2)",
          "(10,0,0)",
          "(2,3,1)",
          "(6,1,2)",
          "(20,7,4)",
          "(20,8,1)",
          "(10,3,2)",
          "(20,7,1)",
          "(10,2,3)",
          "(21,3,1)",
          "(3,3,3)",
          "(21,3,0)",
          "(20,6,1)",
          "(21,3,3)",
          "(21,5,3)",
          "(21,5,4)",
          "(21,6,1)",
          "(21,6,3)",
          "(22,2,2)",
          "(20,6,2)",
          "(19,5,3)",
          "(20,5,2)",
          "(18,4,1)",
          "(16,0,0)",
          "(16,2,3)",
          "(16,3,1)",
          "(16,4,1)",
          "(5,3,1)",
          "(17,3,1)",
          "(5,1,2)",
          "(18,3,3)",
          "(18,6,2)",
          "(20,2,0)",
          "(18,7,3)",
          "(18,8,3)",
          "(18,8,4)",
          "(19,0,3)",
          "(19,2,2)",
          "(3,1,2)",
          "(19,6,1)",
          "(4,2,3)",
          "(22,3,5)",
          "(2,1,2)",
          "(22,7,5)",
          "(32,13,4)",
          "(29,5,1)",
          "(30,5,3)",
          "(30,10,4)",
          "(31,9,3)",
          "(32,6,3)",
          "(32,8,4)",
          "(32,9,4)",
          "(32,12,3)",
          "(33,5,2)",
          "(23,1,2)",
          "(38,13,6)",
          "(39,12,4)",
          "(40,0,5)",
          "(43,10,2)",
          "(45,13,3)",
          "(46,8,5)",
          "(47,10,3)",
          "(47,11,7)",
          "(0,7,0)",
          "(28,4,5)",
          "(27,11,5)",
          "(1,0,2)",
          "(23,3,1)",
          "(23,4,0)",
          "(23,6,2)",
          "(2,0,3)",
          "(23,8,1)",
          "(1,4,1)",
          "(1,2,1)",
          "(24,8,1)",
          "(24,8,2)",
          "(25,5,6)",
          "(25,9,3)",
          "(26,3,4)",
          "(26,6,2)",
          "(1,1,2)",
          "(26,8,3)",
          "(1,0,3)",
          "(27,7,3)",
          "(6,2,2)",
          "(15,3,2)",
          "(15,3,1)",
          "(13,0,1)",
          "(7,4,2)",
          "(7,4,3)",
          "(14,0,2)",
          "(14,0,0)",
          "(13,3,3)",
          "(8,0,0)",
          "(13,2,2)",
          "(13,2,0)",
          "(8,2,1)",
          "(13,0,3)",
          "(12,4,1)",
          "(14,4,1)",
          "(12,2,0)",
          "(12,1,0)",
          "(12,0,3)",
          "(11,7,4)",
          "(11,7,2)",
          "(9,2,4)",
          "(9,4,2)",
          "(10,0,1)",
          "(10,0,2)",
          "(10,1,3)",
          "(14,3,2)",
          "(12,6,0)",
          "(15,1,3)",
          "(17,1,3)",
          "(27,10,0)",
          "(28,3,2)",
          "(28,3,5)",
          "(11,6,3)",
          "(11,5,3)",
          "(28,8,2)",
          "(28,8,3)",
          "(28,10,4)",
          "(29,3,2)",
          "(0,5,2)",
          "(9,1,2)",
          "(29,6,2)",
          "(11,4,2)",
          "(0,5,0)",
          "(29,9,3)",
          "(29,10,1)",
          "(29,12,3)",
          "(30,4,3)",
          "(30,5,2)",
          "(9,1,3)",
          "(0,4,1)",
          "(30,6,4)",
          "(30,8,4)",
          "(11,4,0)",
          "(31,3,4)",
          "(0,3,2)",
          "(31,6,3)",
          "(31,6,5)",
          "(11,3,3)",
          "(16,2,2)",
          "(15,2,0)",
          "(1,3,0)",
          "(25,12,3)",
          "(16,3,4)",
          "(12,3,2)",
          "(8,3,2)",
          "(24,11,3)",
          "(25,2,3)",
          "(25,4,1)",
          "(8,6,3)",
          "(25,5,3)",
          "(9,0,1)",
          "(1,1,3)",
          "(25,7,1)",
          "(25,8,3)",
          "(16,3,3)",
          "(9,0,2)",
          "(12,0,0)",
          "(16,3,2)",
          "(12,0,2)",
          "(26,9,2)",
          "(26,9,3)",
          "(26,10,2)",
          "(27,3,3)",
          "(27,4,2)",
          "(27,4,4)",
          "(27,4,5)",
          "(27,5,0)",
          "(27,6,2)",
          "(12,0,1)",
          "(27,6,4)",
          "(11,2,4)",
          "(31,11,3)",
          "(31,12,5)",
          "(42,8,5)",
          "(37,10,5)",
          "(9,5,0)",
          "(39,9,2)",
          "(9,6,2)",
          "(39,12,5)",
          "(10,5,2)",
          "(40,7,7)",
          "(40,9,3)",
          "(40,10,5)",
          "(40,12,3)",
          "(40,13,5)",
          "(41,10,1)",
          "(41,14,4)",
          "(42,11,5)",
          "(37,9,5)",
          "(9,7,1)",
          "(43,11,0)",
          "(43,14,4)",
          "(44,14,5)",
          "(10,4,2)",
          "(15,2,1)",
          "(5,7,0)",
          "(15,6,1)",
          "(47,13,4)",
          "(48,13,5)",
          "(49,11,5)",
          "(53,16,6)",
          "(56,14,6)",
          "(37,10,2)",
          "(0,1,2)",
          "(31,13,5)",
          "(0,2,3)",
          "(32,3,5)",
          "(5,5,0)",
          "(32,8,2)",
          "(9,3,2)",
          "(9,4,0)",
          "(32,10,5)",
          "(11,1,1)",
          "(9,4,1)",
          "(33,4,4)",
          "(11,0,3)",
          "(33,7,3)",
          "(33,8,3)",
          "(33,9,3)",
          "(33,14,5)",
          "(36,13,4)",
          "(34,6,3)",
          "(34,7,4)",
          "(34,8,2)",
          "(34,11,5)",
          "(35,4,3)",
          "(35,11,3)",
          "(35,12,2)",
          "(36,4,3)",
          "(36,7,2)",
          "(36,7,3)",
          "(16,0,1)",
          "(36,10,5)",
          "(36,11,1)",
          "(24,6,5)",
          "(24,4,2)",
          "(17,2,0)",
          "(24,3,1)",
          "(6,7,0)",
          "(19,1,1)",
          "(17,0,1)",
          "(19,3,2)",
          "(4,4,2)",
          "(4,3,5)",
          "(4,3,0)",
          "(19,5,1)",
          "(19,5,2)",
          "(7,3,2)",
          "(16,10,3)",
          "(15,0,1)",
          "(19,7,1)",
          "(14,2,0)",
          "(19,9,3)",
          "(20,0,3)",
          "(20,1,1)",
          "(7,4,4)",
          "(4,1,3)",
          "(4,1,2)",
          "(4,0,3)",
          "(3,5,0)",
          "(14,1,1)",
          "(20,5,3)",
          "(20,5,4)",
          "(14,1,0)",
          "(16,7,3)",
          "(7,5,0)",
          "(3,4,1)",
          "(18,9,1)",
          "(17,0,2)",
          "(6,6,0)",
          "(18,2,3)",
          "(17,2,1)",
          "(6,3,4)",
          "(17,3,3)",
          "(17,4,1)",
          "(17,4,3)",
          "(5,2,3)",
          "(5,2,0)",
          "(17,6,0)",
          "(17,6,1)",
          "(17,6,4)",
          "(17,8,3)",
          "(18,0,3)",
          "(18,0,4)",
          "(6,5,0)",
          "(6,5,3)",
          "(14,7,1)",
          "(14,6,2)",
          "(18,4,3)",
          "(18,4,4)",
          "(18,4,5)",
          "(4,7,0)",
          "(4,5,0)",
          "(18,5,3)",
          "(18,6,1)",
          "(6,5,2)",
          "(18,6,3)",
          "(18,6,5)",
          "(18,7,0)",
          "(6,3,3)",
          "(13,11,4)",
          "(20,8,2)",
          "(23,5,2)",
          "(22,8,1)",
          "(16,4,0)",
          "(22,9,2)",
          "(13,0,0)",
          "(23,1,5)",
          "(2,2,3)",
          "(23,2,2)",
          "(12,9,4)",
          "(2,2,2)",
          "(2,1,4)",
          "(12,7,5)",
          "(23,4,1)",
          "(8,2,2)",
          "(23,5,3)",
          "(22,7,3)",
          "(23,6,1)",
          "(6,3,2)",
          "(23,7,2)",
          "(12,5,3)",
          "(8,3,0)",
          "(23,8,3)",
          "(23,8,4)",
          "(1,11,4)",
          "(12,4,2)",
          "(1,3,1)",
          "(23,9,4)",
          "(24,2,2)",
          "(24,3,0)",
          "(15,1,1)",
          "(22,6,4)",
          "(13,5,3)",
          "(5,4,0)",
          "(3,4,0)",
          "(21,2,1)",
          "(7,5,3)",
          "(13,4,2)",
          "(5,3,2)",
          "(16,5,4)",
          "(21,3,4)",
          "(8,0,2)",
          "(21,5,0)",
          "(8,1,0)",
          "(16,5,3)",
          "(8,2,0)",
          "(3,3,0)",
          "(3,2,3)",
          "(2,3,2)",
          "(21,8,1)",
          "(3,2,1)",
          "(21,8,3)",
          "(21,10,5)",
          "(13,1,1)",
          "(22,3,0)",
          "(22,3,3)",
          "(16,4,4)",
          "(22,4,1)",
          "(22,4,3)",
          "(13,0,4)",
          "(22,5,5)",
          "(22,6,2)",
          "(20,9,1)"
         ],
         "xaxis": "x",
         "y": {
          "dtype": "i2",
          "bdata": "egRlAEYAQgBCACcAJgAbABsAGQAWABMAEgAQAA8ADwAOAAwADAAMAAsACwAKAAoACgAKAAoACQAJAAkACQAJAAkACQAJAAgACAAIAAgACAAIAAgABwAHAAcABwAHAAcABgAGAAYABgAGAAYABgAGAAYABgAGAAYABgAGAAYABgAFAAUABQAFAAUABQAFAAUABQAFAAUABQAFAAUABQAFAAUABQAFAAUABQAFAAUABAAEAAQABAAEAAQABAAEAAQABAAEAAQABAAEAAQABAAEAAQABAAEAAQABAAEAAQABAAEAAQABAAEAAQABAAEAAQABAAEAAQABAAEAAQABAAEAAQABAAEAAQAAwADAAMAAwADAAMAAwADAAMAAwADAAMAAwADAAMAAwADAAMAAwADAAMAAwADAAMAAwADAAMAAwADAAMAAwADAAMAAwADAAMAAwADAAMAAwADAAMAAwADAAMAAwADAAMAAwADAAMAAwADAAMAAwADAAMAAwADAAMAAwADAAMAAwADAAMAAwADAAMAAwACAAIAAgACAAIAAgACAAIAAgACAAIAAgACAAIAAgACAAIAAgACAAIAAgACAAIAAgACAAIAAgACAAIAAgACAAIAAgACAAIAAgACAAIAAgACAAIAAgACAAIAAgACAAIAAgACAAIAAgACAAIAAgACAAIAAgACAAIAAgACAAIAAgACAAIAAgACAAIAAgACAAIAAgACAAIAAgACAAIAAgACAAIAAgACAAIAAgACAAIAAgACAAIAAgACAAIAAgACAAIAAgACAAIAAgACAAIAAgACAAIAAgACAAIAAgACAAEAAQABAAEAAQABAAEAAQABAAEAAQABAAEAAQABAAEAAQABAAEAAQABAAEAAQABAAEAAQABAAEAAQABAAEAAQABAAEAAQABAAEAAQABAAEAAQABAAEAAQABAAEAAQABAAEAAQABAAEAAQABAAEAAQABAAEAAQABAAEAAQABAAEAAQABAAEAAQABAAEAAQABAAEAAQABAAEAAQABAAEAAQABAAEAAQABAAEAAQABAAEAAQABAAEAAQABAAEAAQABAAEAAQABAAEAAQABAAEAAQABAAEAAQABAAEAAQABAAEAAQABAAEAAQABAAEAAQABAAEAAQABAAEAAQABAAEAAQABAAEAAQABAAEAAQABAAEAAQABAAEAAQABAAEAAQABAAEAAQABAAEAAQABAAEAAQABAAEAAQABAAEAAQABAAEAAQABAAEAAQABAAEAAQABAAEAAQABAAEAAQABAAEAAQABAAEAAQABAAEAAQABAAEAAQABAAEAAQABAAEAAQABAAEAAQABAAEAAQABAAEAAQABAAEAAQABAAEAAQABAAEAAQABAAEAAQABAAEAAQABAAEAAQABAAEAAQABAAEAAQABAAEAAQABAAEAAQABAAEAAQABAAEAAQABAAEAAQABAAEAAQABAAEAAQABAAEAAQABAAEAAQABAAEAAQABAAEA"
         },
         "yaxis": "y",
         "type": "bar"
        }
       ],
       "layout": {
        "template": {
         "data": {
          "histogram2dcontour": [
           {
            "type": "histogram2dcontour",
            "colorbar": {
             "outlinewidth": 0,
             "ticks": ""
            },
            "colorscale": [
             [
              0.0,
              "#0d0887"
             ],
             [
              0.1111111111111111,
              "#46039f"
             ],
             [
              0.2222222222222222,
              "#7201a8"
             ],
             [
              0.3333333333333333,
              "#9c179e"
             ],
             [
              0.4444444444444444,
              "#bd3786"
             ],
             [
              0.5555555555555556,
              "#d8576b"
             ],
             [
              0.6666666666666666,
              "#ed7953"
             ],
             [
              0.7777777777777778,
              "#fb9f3a"
             ],
             [
              0.8888888888888888,
              "#fdca26"
             ],
             [
              1.0,
              "#f0f921"
             ]
            ]
           }
          ],
          "choropleth": [
           {
            "type": "choropleth",
            "colorbar": {
             "outlinewidth": 0,
             "ticks": ""
            }
           }
          ],
          "histogram2d": [
           {
            "type": "histogram2d",
            "colorbar": {
             "outlinewidth": 0,
             "ticks": ""
            },
            "colorscale": [
             [
              0.0,
              "#0d0887"
             ],
             [
              0.1111111111111111,
              "#46039f"
             ],
             [
              0.2222222222222222,
              "#7201a8"
             ],
             [
              0.3333333333333333,
              "#9c179e"
             ],
             [
              0.4444444444444444,
              "#bd3786"
             ],
             [
              0.5555555555555556,
              "#d8576b"
             ],
             [
              0.6666666666666666,
              "#ed7953"
             ],
             [
              0.7777777777777778,
              "#fb9f3a"
             ],
             [
              0.8888888888888888,
              "#fdca26"
             ],
             [
              1.0,
              "#f0f921"
             ]
            ]
           }
          ],
          "heatmap": [
           {
            "type": "heatmap",
            "colorbar": {
             "outlinewidth": 0,
             "ticks": ""
            },
            "colorscale": [
             [
              0.0,
              "#0d0887"
             ],
             [
              0.1111111111111111,
              "#46039f"
             ],
             [
              0.2222222222222222,
              "#7201a8"
             ],
             [
              0.3333333333333333,
              "#9c179e"
             ],
             [
              0.4444444444444444,
              "#bd3786"
             ],
             [
              0.5555555555555556,
              "#d8576b"
             ],
             [
              0.6666666666666666,
              "#ed7953"
             ],
             [
              0.7777777777777778,
              "#fb9f3a"
             ],
             [
              0.8888888888888888,
              "#fdca26"
             ],
             [
              1.0,
              "#f0f921"
             ]
            ]
           }
          ],
          "contourcarpet": [
           {
            "type": "contourcarpet",
            "colorbar": {
             "outlinewidth": 0,
             "ticks": ""
            }
           }
          ],
          "contour": [
           {
            "type": "contour",
            "colorbar": {
             "outlinewidth": 0,
             "ticks": ""
            },
            "colorscale": [
             [
              0.0,
              "#0d0887"
             ],
             [
              0.1111111111111111,
              "#46039f"
             ],
             [
              0.2222222222222222,
              "#7201a8"
             ],
             [
              0.3333333333333333,
              "#9c179e"
             ],
             [
              0.4444444444444444,
              "#bd3786"
             ],
             [
              0.5555555555555556,
              "#d8576b"
             ],
             [
              0.6666666666666666,
              "#ed7953"
             ],
             [
              0.7777777777777778,
              "#fb9f3a"
             ],
             [
              0.8888888888888888,
              "#fdca26"
             ],
             [
              1.0,
              "#f0f921"
             ]
            ]
           }
          ],
          "surface": [
           {
            "type": "surface",
            "colorbar": {
             "outlinewidth": 0,
             "ticks": ""
            },
            "colorscale": [
             [
              0.0,
              "#0d0887"
             ],
             [
              0.1111111111111111,
              "#46039f"
             ],
             [
              0.2222222222222222,
              "#7201a8"
             ],
             [
              0.3333333333333333,
              "#9c179e"
             ],
             [
              0.4444444444444444,
              "#bd3786"
             ],
             [
              0.5555555555555556,
              "#d8576b"
             ],
             [
              0.6666666666666666,
              "#ed7953"
             ],
             [
              0.7777777777777778,
              "#fb9f3a"
             ],
             [
              0.8888888888888888,
              "#fdca26"
             ],
             [
              1.0,
              "#f0f921"
             ]
            ]
           }
          ],
          "mesh3d": [
           {
            "type": "mesh3d",
            "colorbar": {
             "outlinewidth": 0,
             "ticks": ""
            }
           }
          ],
          "scatter": [
           {
            "fillpattern": {
             "fillmode": "overlay",
             "size": 10,
             "solidity": 0.2
            },
            "type": "scatter"
           }
          ],
          "parcoords": [
           {
            "type": "parcoords",
            "line": {
             "colorbar": {
              "outlinewidth": 0,
              "ticks": ""
             }
            }
           }
          ],
          "scatterpolargl": [
           {
            "type": "scatterpolargl",
            "marker": {
             "colorbar": {
              "outlinewidth": 0,
              "ticks": ""
             }
            }
           }
          ],
          "bar": [
           {
            "error_x": {
             "color": "#2a3f5f"
            },
            "error_y": {
             "color": "#2a3f5f"
            },
            "marker": {
             "line": {
              "color": "#E5ECF6",
              "width": 0.5
             },
             "pattern": {
              "fillmode": "overlay",
              "size": 10,
              "solidity": 0.2
             }
            },
            "type": "bar"
           }
          ],
          "scattergeo": [
           {
            "type": "scattergeo",
            "marker": {
             "colorbar": {
              "outlinewidth": 0,
              "ticks": ""
             }
            }
           }
          ],
          "scatterpolar": [
           {
            "type": "scatterpolar",
            "marker": {
             "colorbar": {
              "outlinewidth": 0,
              "ticks": ""
             }
            }
           }
          ],
          "histogram": [
           {
            "marker": {
             "pattern": {
              "fillmode": "overlay",
              "size": 10,
              "solidity": 0.2
             }
            },
            "type": "histogram"
           }
          ],
          "scattergl": [
           {
            "type": "scattergl",
            "marker": {
             "colorbar": {
              "outlinewidth": 0,
              "ticks": ""
             }
            }
           }
          ],
          "scatter3d": [
           {
            "type": "scatter3d",
            "line": {
             "colorbar": {
              "outlinewidth": 0,
              "ticks": ""
             }
            },
            "marker": {
             "colorbar": {
              "outlinewidth": 0,
              "ticks": ""
             }
            }
           }
          ],
          "scattermap": [
           {
            "type": "scattermap",
            "marker": {
             "colorbar": {
              "outlinewidth": 0,
              "ticks": ""
             }
            }
           }
          ],
          "scattermapbox": [
           {
            "type": "scattermapbox",
            "marker": {
             "colorbar": {
              "outlinewidth": 0,
              "ticks": ""
             }
            }
           }
          ],
          "scatterternary": [
           {
            "type": "scatterternary",
            "marker": {
             "colorbar": {
              "outlinewidth": 0,
              "ticks": ""
             }
            }
           }
          ],
          "scattercarpet": [
           {
            "type": "scattercarpet",
            "marker": {
             "colorbar": {
              "outlinewidth": 0,
              "ticks": ""
             }
            }
           }
          ],
          "carpet": [
           {
            "aaxis": {
             "endlinecolor": "#2a3f5f",
             "gridcolor": "white",
             "linecolor": "white",
             "minorgridcolor": "white",
             "startlinecolor": "#2a3f5f"
            },
            "baxis": {
             "endlinecolor": "#2a3f5f",
             "gridcolor": "white",
             "linecolor": "white",
             "minorgridcolor": "white",
             "startlinecolor": "#2a3f5f"
            },
            "type": "carpet"
           }
          ],
          "table": [
           {
            "cells": {
             "fill": {
              "color": "#EBF0F8"
             },
             "line": {
              "color": "white"
             }
            },
            "header": {
             "fill": {
              "color": "#C8D4E3"
             },
             "line": {
              "color": "white"
             }
            },
            "type": "table"
           }
          ],
          "barpolar": [
           {
            "marker": {
             "line": {
              "color": "#E5ECF6",
              "width": 0.5
             },
             "pattern": {
              "fillmode": "overlay",
              "size": 10,
              "solidity": 0.2
             }
            },
            "type": "barpolar"
           }
          ],
          "pie": [
           {
            "automargin": true,
            "type": "pie"
           }
          ]
         },
         "layout": {
          "autotypenumbers": "strict",
          "colorway": [
           "#636efa",
           "#EF553B",
           "#00cc96",
           "#ab63fa",
           "#FFA15A",
           "#19d3f3",
           "#FF6692",
           "#B6E880",
           "#FF97FF",
           "#FECB52"
          ],
          "font": {
           "color": "#2a3f5f"
          },
          "hovermode": "closest",
          "hoverlabel": {
           "align": "left"
          },
          "paper_bgcolor": "white",
          "plot_bgcolor": "#E5ECF6",
          "polar": {
           "bgcolor": "#E5ECF6",
           "angularaxis": {
            "gridcolor": "white",
            "linecolor": "white",
            "ticks": ""
           },
           "radialaxis": {
            "gridcolor": "white",
            "linecolor": "white",
            "ticks": ""
           }
          },
          "ternary": {
           "bgcolor": "#E5ECF6",
           "aaxis": {
            "gridcolor": "white",
            "linecolor": "white",
            "ticks": ""
           },
           "baxis": {
            "gridcolor": "white",
            "linecolor": "white",
            "ticks": ""
           },
           "caxis": {
            "gridcolor": "white",
            "linecolor": "white",
            "ticks": ""
           }
          },
          "coloraxis": {
           "colorbar": {
            "outlinewidth": 0,
            "ticks": ""
           }
          },
          "colorscale": {
           "sequential": [
            [
             0.0,
             "#0d0887"
            ],
            [
             0.1111111111111111,
             "#46039f"
            ],
            [
             0.2222222222222222,
             "#7201a8"
            ],
            [
             0.3333333333333333,
             "#9c179e"
            ],
            [
             0.4444444444444444,
             "#bd3786"
            ],
            [
             0.5555555555555556,
             "#d8576b"
            ],
            [
             0.6666666666666666,
             "#ed7953"
            ],
            [
             0.7777777777777778,
             "#fb9f3a"
            ],
            [
             0.8888888888888888,
             "#fdca26"
            ],
            [
             1.0,
             "#f0f921"
            ]
           ],
           "sequentialminus": [
            [
             0.0,
             "#0d0887"
            ],
            [
             0.1111111111111111,
             "#46039f"
            ],
            [
             0.2222222222222222,
             "#7201a8"
            ],
            [
             0.3333333333333333,
             "#9c179e"
            ],
            [
             0.4444444444444444,
             "#bd3786"
            ],
            [
             0.5555555555555556,
             "#d8576b"
            ],
            [
             0.6666666666666666,
             "#ed7953"
            ],
            [
             0.7777777777777778,
             "#fb9f3a"
            ],
            [
             0.8888888888888888,
             "#fdca26"
            ],
            [
             1.0,
             "#f0f921"
            ]
           ],
           "diverging": [
            [
             0,
             "#8e0152"
            ],
            [
             0.1,
             "#c51b7d"
            ],
            [
             0.2,
             "#de77ae"
            ],
            [
             0.3,
             "#f1b6da"
            ],
            [
             0.4,
             "#fde0ef"
            ],
            [
             0.5,
             "#f7f7f7"
            ],
            [
             0.6,
             "#e6f5d0"
            ],
            [
             0.7,
             "#b8e186"
            ],
            [
             0.8,
             "#7fbc41"
            ],
            [
             0.9,
             "#4d9221"
            ],
            [
             1,
             "#276419"
            ]
           ]
          },
          "xaxis": {
           "gridcolor": "white",
           "linecolor": "white",
           "ticks": "",
           "title": {
            "standoff": 15
           },
           "zerolinecolor": "white",
           "automargin": true,
           "zerolinewidth": 2
          },
          "yaxis": {
           "gridcolor": "white",
           "linecolor": "white",
           "ticks": "",
           "title": {
            "standoff": 15
           },
           "zerolinecolor": "white",
           "automargin": true,
           "zerolinewidth": 2
          },
          "scene": {
           "xaxis": {
            "backgroundcolor": "#E5ECF6",
            "gridcolor": "white",
            "linecolor": "white",
            "showbackground": true,
            "ticks": "",
            "zerolinecolor": "white",
            "gridwidth": 2
           },
           "yaxis": {
            "backgroundcolor": "#E5ECF6",
            "gridcolor": "white",
            "linecolor": "white",
            "showbackground": true,
            "ticks": "",
            "zerolinecolor": "white",
            "gridwidth": 2
           },
           "zaxis": {
            "backgroundcolor": "#E5ECF6",
            "gridcolor": "white",
            "linecolor": "white",
            "showbackground": true,
            "ticks": "",
            "zerolinecolor": "white",
            "gridwidth": 2
           }
          },
          "shapedefaults": {
           "line": {
            "color": "#2a3f5f"
           }
          },
          "annotationdefaults": {
           "arrowcolor": "#2a3f5f",
           "arrowhead": 0,
           "arrowwidth": 1
          },
          "geo": {
           "bgcolor": "white",
           "landcolor": "#E5ECF6",
           "subunitcolor": "white",
           "showland": true,
           "showlakes": true,
           "lakecolor": "white"
          },
          "title": {
           "x": 0.05
          },
          "mapbox": {
           "style": "light"
          }
         }
        },
        "xaxis": {
         "anchor": "y",
         "domain": [
          0.0,
          1.0
         ],
         "title": {
          "text": "Vector"
         }
        },
        "yaxis": {
         "anchor": "x",
         "domain": [
          0.0,
          1.0
         ],
         "title": {
          "text": "Count"
         },
         "type": "log"
        },
        "legend": {
         "tracegroupgap": 0
        },
        "title": {
         "text": "12-Month WOMAC Median Vectors (Right Knee)"
        },
        "barmode": "relative"
       },
       "config": {
        "plotlyServerURL": "https://plot.ly"
       }
      }
     },
     "metadata": {},
     "output_type": "display_data"
    }
   ],
   "execution_count": 6
  },
  {
   "metadata": {},
   "cell_type": "markdown",
   "source": "## 24-Month WOMAC Distribution on Median Dataset",
   "id": "86363d19a2225051"
  },
  {
   "metadata": {
    "ExecuteTime": {
     "end_time": "2025-08-19T22:08:22.003264Z",
     "start_time": "2025-08-19T22:08:21.958084Z"
    }
   },
   "cell_type": "code",
   "source": [
    "from scripts.womac.womac_distribution import v03_womac_median_vectors_left, v03_womac_median_vectors_right\n",
    "\n",
    "display(v03_womac_median_vectors_left)\n",
    "v03_womac_median_vectors_left_chart = px.bar(v03_womac_median_vectors_left,x='Vector',y='Count',log_y=True,title='12-Month WOMAC Median Vectors (Left Knee)')\n",
    "display(v03_womac_median_vectors_left_chart)\n",
    "\n",
    "display(v03_womac_median_vectors_right)\n",
    "v03_womac_median_vectors_right_chart = px.bar(v03_womac_median_vectors_right,x='Vector',y='Count',log_y=True,title='12-Month WOMAC Median Vectors (Right Knee)')\n",
    "display(v03_womac_median_vectors_right_chart)"
   ],
   "id": "9c2c085dd6808b1a",
   "outputs": [
    {
     "data": {
      "text/plain": [
       "     V03WOMADLL  V03WOMKPL  V03WOMSTFR  Count     Vector\n",
       "0             0          0           0   1038    (0,0,0)\n",
       "1             0          0           1    202    (0,0,1)\n",
       "24            1          0           0    182    (1,0,0)\n",
       "2             0          0           2     57    (0,0,2)\n",
       "41            2          0           0     49    (2,0,0)\n",
       "..          ...        ...         ...    ...        ...\n",
       "80            4          4           3      1    (4,4,3)\n",
       "329          18          7           1      1   (18,7,1)\n",
       "328          18          7           0      1   (18,7,0)\n",
       "327          18          6           0      1   (18,6,0)\n",
       "564          55         18           7      1  (55,18,7)\n",
       "\n",
       "[565 rows x 5 columns]"
      ],
      "text/html": [
       "<div>\n",
       "<style scoped>\n",
       "    .dataframe tbody tr th:only-of-type {\n",
       "        vertical-align: middle;\n",
       "    }\n",
       "\n",
       "    .dataframe tbody tr th {\n",
       "        vertical-align: top;\n",
       "    }\n",
       "\n",
       "    .dataframe thead th {\n",
       "        text-align: right;\n",
       "    }\n",
       "</style>\n",
       "<table border=\"1\" class=\"dataframe\">\n",
       "  <thead>\n",
       "    <tr style=\"text-align: right;\">\n",
       "      <th></th>\n",
       "      <th>V03WOMADLL</th>\n",
       "      <th>V03WOMKPL</th>\n",
       "      <th>V03WOMSTFR</th>\n",
       "      <th>Count</th>\n",
       "      <th>Vector</th>\n",
       "    </tr>\n",
       "  </thead>\n",
       "  <tbody>\n",
       "    <tr>\n",
       "      <th>0</th>\n",
       "      <td>0</td>\n",
       "      <td>0</td>\n",
       "      <td>0</td>\n",
       "      <td>1038</td>\n",
       "      <td>(0,0,0)</td>\n",
       "    </tr>\n",
       "    <tr>\n",
       "      <th>1</th>\n",
       "      <td>0</td>\n",
       "      <td>0</td>\n",
       "      <td>1</td>\n",
       "      <td>202</td>\n",
       "      <td>(0,0,1)</td>\n",
       "    </tr>\n",
       "    <tr>\n",
       "      <th>24</th>\n",
       "      <td>1</td>\n",
       "      <td>0</td>\n",
       "      <td>0</td>\n",
       "      <td>182</td>\n",
       "      <td>(1,0,0)</td>\n",
       "    </tr>\n",
       "    <tr>\n",
       "      <th>2</th>\n",
       "      <td>0</td>\n",
       "      <td>0</td>\n",
       "      <td>2</td>\n",
       "      <td>57</td>\n",
       "      <td>(0,0,2)</td>\n",
       "    </tr>\n",
       "    <tr>\n",
       "      <th>41</th>\n",
       "      <td>2</td>\n",
       "      <td>0</td>\n",
       "      <td>0</td>\n",
       "      <td>49</td>\n",
       "      <td>(2,0,0)</td>\n",
       "    </tr>\n",
       "    <tr>\n",
       "      <th>...</th>\n",
       "      <td>...</td>\n",
       "      <td>...</td>\n",
       "      <td>...</td>\n",
       "      <td>...</td>\n",
       "      <td>...</td>\n",
       "    </tr>\n",
       "    <tr>\n",
       "      <th>80</th>\n",
       "      <td>4</td>\n",
       "      <td>4</td>\n",
       "      <td>3</td>\n",
       "      <td>1</td>\n",
       "      <td>(4,4,3)</td>\n",
       "    </tr>\n",
       "    <tr>\n",
       "      <th>329</th>\n",
       "      <td>18</td>\n",
       "      <td>7</td>\n",
       "      <td>1</td>\n",
       "      <td>1</td>\n",
       "      <td>(18,7,1)</td>\n",
       "    </tr>\n",
       "    <tr>\n",
       "      <th>328</th>\n",
       "      <td>18</td>\n",
       "      <td>7</td>\n",
       "      <td>0</td>\n",
       "      <td>1</td>\n",
       "      <td>(18,7,0)</td>\n",
       "    </tr>\n",
       "    <tr>\n",
       "      <th>327</th>\n",
       "      <td>18</td>\n",
       "      <td>6</td>\n",
       "      <td>0</td>\n",
       "      <td>1</td>\n",
       "      <td>(18,6,0)</td>\n",
       "    </tr>\n",
       "    <tr>\n",
       "      <th>564</th>\n",
       "      <td>55</td>\n",
       "      <td>18</td>\n",
       "      <td>7</td>\n",
       "      <td>1</td>\n",
       "      <td>(55,18,7)</td>\n",
       "    </tr>\n",
       "  </tbody>\n",
       "</table>\n",
       "<p>565 rows × 5 columns</p>\n",
       "</div>"
      ]
     },
     "metadata": {},
     "output_type": "display_data"
    },
    {
     "data": {
      "application/vnd.plotly.v1+json": {
       "data": [
        {
         "hovertemplate": "Vector=%{x}<br>Count=%{y}<extra></extra>",
         "legendgroup": "",
         "marker": {
          "color": "#636efa",
          "pattern": {
           "shape": ""
          }
         },
         "name": "",
         "orientation": "v",
         "showlegend": false,
         "textposition": "auto",
         "x": [
          "(0,0,0)",
          "(0,0,1)",
          "(1,0,0)",
          "(0,0,2)",
          "(2,0,0)",
          "(0,0,3)",
          "(3,0,0)",
          "(4,0,0)",
          "(2,0,1)",
          "(0,1,0)",
          "(4,0,1)",
          "(1,0,1)",
          "(3,0,1)",
          "(5,0,0)",
          "(2,0,2)",
          "(3,1,0)",
          "(6,0,3)",
          "(7,1,0)",
          "(14,3,1)",
          "(4,1,0)",
          "(4,2,0)",
          "(7,0,0)",
          "(0,1,1)",
          "(6,2,0)",
          "(15,2,0)",
          "(0,0,4)",
          "(5,1,0)",
          "(6,0,1)",
          "(22,5,1)",
          "(1,1,0)",
          "(5,2,0)",
          "(7,0,3)",
          "(5,0,1)",
          "(0,3,0)",
          "(0,2,0)",
          "(16,4,1)",
          "(9,0,0)",
          "(4,1,1)",
          "(6,1,0)",
          "(4,0,3)",
          "(6,3,0)",
          "(1,0,2)",
          "(22,4,2)",
          "(5,1,1)",
          "(10,3,0)",
          "(9,1,1)",
          "(9,3,1)",
          "(10,1,3)",
          "(11,1,0)",
          "(9,0,1)",
          "(2,1,0)",
          "(3,2,0)",
          "(26,9,2)",
          "(6,0,2)",
          "(3,0,2)",
          "(6,0,0)",
          "(12,2,0)",
          "(1,1,2)",
          "(15,6,0)",
          "(10,2,1)",
          "(5,3,1)",
          "(6,1,1)",
          "(5,1,2)",
          "(9,3,0)",
          "(6,2,2)",
          "(15,2,2)",
          "(10,3,1)",
          "(15,4,0)",
          "(15,3,1)",
          "(0,1,3)",
          "(14,1,1)",
          "(13,4,0)",
          "(4,3,0)",
          "(8,1,1)",
          "(12,2,1)",
          "(8,3,0)",
          "(12,0,0)",
          "(13,2,1)",
          "(10,1,1)",
          "(19,8,0)",
          "(2,0,3)",
          "(2,1,1)",
          "(1,2,3)",
          "(3,5,0)",
          "(11,4,1)",
          "(0,4,2)",
          "(13,1,1)",
          "(0,2,1)",
          "(6,2,1)",
          "(11,2,2)",
          "(39,10,5)",
          "(11,2,0)",
          "(9,0,3)",
          "(8,3,2)",
          "(21,6,1)",
          "(12,1,1)",
          "(8,2,3)",
          "(12,1,2)",
          "(26,7,3)",
          "(3,1,1)",
          "(8,1,0)",
          "(3,0,3)",
          "(20,8,1)",
          "(13,2,0)",
          "(11,1,4)",
          "(18,2,1)",
          "(33,11,5)",
          "(10,1,0)",
          "(5,0,2)",
          "(5,0,4)",
          "(34,11,1)",
          "(19,5,3)",
          "(5,2,1)",
          "(23,6,1)",
          "(22,7,3)",
          "(24,6,2)",
          "(5,4,0)",
          "(18,1,4)",
          "(10,6,0)",
          "(23,6,3)",
          "(10,8,0)",
          "(13,0,1)",
          "(21,7,0)",
          "(21,8,2)",
          "(22,10,1)",
          "(11,4,0)",
          "(10,2,2)",
          "(26,4,2)",
          "(22,6,0)",
          "(24,7,4)",
          "(23,3,0)",
          "(11,2,3)",
          "(19,2,1)",
          "(46,11,4)",
          "(13,3,1)",
          "(13,4,3)",
          "(18,4,2)",
          "(18,4,1)",
          "(19,4,1)",
          "(18,3,0)",
          "(36,5,5)",
          "(29,7,3)",
          "(17,4,1)",
          "(16,6,1)",
          "(24,4,0)",
          "(19,5,5)",
          "(19,6,1)",
          "(36,9,2)",
          "(16,2,3)",
          "(20,4,0)",
          "(16,2,0)",
          "(15,9,0)",
          "(27,9,0)",
          "(27,7,1)",
          "(20,5,3)",
          "(15,4,3)",
          "(41,13,0)",
          "(21,4,1)",
          "(21,4,3)",
          "(18,7,4)",
          "(15,1,0)",
          "(15,0,0)",
          "(55,15,7)",
          "(21,6,3)",
          "(13,7,0)",
          "(24,5,2)",
          "(15,7,0)",
          "(4,4,2)",
          "(9,4,1)",
          "(2,4,2)",
          "(6,4,3)",
          "(5,1,3)",
          "(3,3,0)",
          "(1,2,0)",
          "(8,3,1)",
          "(0,0,5)",
          "(9,6,2)",
          "(8,2,0)",
          "(0,5,0)",
          "(9,1,0)",
          "(9,6,1)",
          "(18,5,1)",
          "(29,5,2)",
          "(29,6,3)",
          "(18,5,3)",
          "(18,7,3)",
          "(18,2,3)",
          "(18,2,2)",
          "(18,1,6)",
          "(29,0,3)",
          "(5,3,2)",
          "(29,8,1)",
          "(29,8,4)",
          "(17,2,1)",
          "(19,2,0)",
          "(20,7,1)",
          "(30,10,6)",
          "(15,4,1)",
          "(14,4,2)",
          "(7,1,5)",
          "(7,1,2)",
          "(35,6,4)",
          "(15,2,1)",
          "(15,3,0)",
          "(15,3,4)",
          "(7,0,1)",
          "(5,8,3)",
          "(6,6,5)",
          "(15,6,3)",
          "(32,8,3)",
          "(16,0,4)",
          "(16,1,1)",
          "(32,7,2)",
          "(19,3,0)",
          "(16,3,1)",
          "(4,1,5)",
          "(27,10,1)",
          "(27,8,2)",
          "(24,12,1)",
          "(24,12,0)",
          "(22,3,3)",
          "(24,8,0)",
          "(22,5,0)",
          "(2,2,0)",
          "(24,6,0)",
          "(1,11,3)",
          "(22,9,1)",
          "(1,3,1)",
          "(24,4,4)",
          "(23,4,0)",
          "(23,4,2)",
          "(23,5,3)",
          "(23,7,1)",
          "(3,1,3)",
          "(25,7,1)",
          "(21,5,1)",
          "(20,4,3)",
          "(19,4,5)",
          "(14,3,5)",
          "(19,7,1)",
          "(0,5,4)",
          "(20,2,0)",
          "(20,3,2)",
          "(3,6,0)",
          "(21,4,4)",
          "(20,6,5)",
          "(9,9,0)",
          "(3,4,0)",
          "(25,9,4)",
          "(21,4,0)",
          "(25,8,3)",
          "(14,4,1)",
          "(32,7,1)",
          "(23,9,2)",
          "(8,0,3)",
          "(13,5,0)",
          "(38,17,0)",
          "(13,4,2)",
          "(11,0,1)",
          "(7,4,3)",
          "(43,9,7)",
          "(0,1,5)",
          "(44,16,4)",
          "(13,3,0)",
          "(44,12,3)",
          "(13,2,2)",
          "(8,0,0)",
          "(8,0,1)",
          "(8,1,2)",
          "(9,2,0)",
          "(11,3,2)",
          "(8,4,0)",
          "(11,7,0)",
          "(12,4,1)",
          "(11,8,0)",
          "(12,4,0)",
          "(12,0,2)",
          "(0,2,3)",
          "(12,0,4)",
          "(12,3,1)",
          "(12,3,0)",
          "(12,1,0)",
          "(42,10,3)",
          "(9,1,3)",
          "(9,1,2)",
          "(42,12,1)",
          "(10,0,0)",
          "(37,12,3)",
          "(10,2,0)",
          "(9,2,1)",
          "(10,3,2)",
          "(14,2,0)",
          "(37,8,1)",
          "(10,4,2)",
          "(48,13,2)",
          "(38,10,3)",
          "(13,6,1)",
          "(7,2,0)",
          "(24,4,2)",
          "(24,4,1)",
          "(26,5,3)",
          "(26,5,2)",
          "(43,11,1)",
          "(26,6,3)",
          "(52,14,3)",
          "(1,0,3)",
          "(1,2,1)",
          "(55,14,5)",
          "(26,11,2)",
          "(51,10,4)",
          "(24,3,3)",
          "(27,3,2)",
          "(27,5,0)",
          "(24,3,0)",
          "(23,10,5)",
          "(27,5,3)",
          "(27,5,4)",
          "(0,5,2)",
          "(26,4,3)",
          "(1,1,1)",
          "(1,0,4)",
          "(25,8,0)",
          "(24,9,3)",
          "(24,10,1)",
          "(48,11,4)",
          "(1,1,3)",
          "(25,3,0)",
          "(25,4,2)",
          "(48,10,7)",
          "(47,14,1)",
          "(25,6,1)",
          "(0,1,2)",
          "(45,11,1)",
          "(50,14,7)",
          "(24,5,4)",
          "(44,15,5)",
          "(49,14,4)",
          "(43,13,1)",
          "(25,10,1)",
          "(26,4,0)",
          "(43,12,5)",
          "(24,5,3)",
          "(50,14,5)",
          "(24,5,0)",
          "(43,11,3)",
          "(36,7,1)",
          "(27,9,3)",
          "(37,10,3)",
          "(39,10,1)",
          "(32,0,2)",
          "(32,6,0)",
          "(23,10,0)",
          "(38,13,3)",
          "(32,11,0)",
          "(32,12,0)",
          "(32,14,1)",
          "(38,11,1)",
          "(33,3,0)",
          "(33,3,3)",
          "(38,9,4)",
          "(33,5,1)",
          "(33,7,3)",
          "(33,10,3)",
          "(31,8,4)",
          "(33,11,0)",
          "(0,3,3)",
          "(37,6,3)",
          "(34,10,6)",
          "(0,3,2)",
          "(37,6,0)",
          "(35,8,3)",
          "(35,8,4)",
          "(36,11,3)",
          "(35,10,1)",
          "(35,11,3)",
          "(35,12,2)",
          "(0,3,1)",
          "(36,10,0)",
          "(31,10,1)",
          "(31,8,2)",
          "(27,9,5)",
          "(40,14,2)",
          "(42,6,3)",
          "(28,2,0)",
          "(42,5,0)",
          "(28,4,0)",
          "(28,5,3)",
          "(28,7,3)",
          "(28,8,1)",
          "(28,10,0)",
          "(28,10,1)",
          "(0,1,4)",
          "(41,11,3)",
          "(29,4,4)",
          "(41,6,1)",
          "(29,5,3)",
          "(0,4,1)",
          "(31,8,1)",
          "(40,12,5)",
          "(29,7,4)",
          "(29,8,0)",
          "(40,9,1)",
          "(29,8,5)",
          "(29,10,2)",
          "(29,11,3)",
          "(30,5,3)",
          "(30,8,0)",
          "(30,8,3)",
          "(30,9,0)",
          "(30,9,2)",
          "(30,9,4)",
          "(31,5,0)",
          "(28,6,3)",
          "(9,7,1)",
          "(23,6,4)",
          "(15,1,3)",
          "(15,0,2)",
          "(15,0,1)",
          "(14,7,1)",
          "(14,6,4)",
          "(14,5,3)",
          "(14,5,0)",
          "(14,3,3)",
          "(14,3,2)",
          "(14,3,0)",
          "(14,2,2)",
          "(14,2,1)",
          "(7,2,1)",
          "(14,1,0)",
          "(14,0,3)",
          "(13,8,3)",
          "(15,1,1)",
          "(7,1,1)",
          "(7,3,2)",
          "(7,0,5)",
          "(16,3,3)",
          "(16,3,0)",
          "(6,0,4)",
          "(16,2,1)",
          "(6,1,2)",
          "(16,0,2)",
          "(16,0,1)",
          "(6,1,5)",
          "(15,7,1)",
          "(15,5,4)",
          "(15,5,0)",
          "(15,4,2)",
          "(7,0,2)",
          "(7,0,4)",
          "(15,2,4)",
          "(13,8,0)",
          "(13,5,1)",
          "(16,5,1)",
          "(8,5,3)",
          "(9,0,2)",
          "(11,1,5)",
          "(11,1,3)",
          "(11,1,1)",
          "(11,0,3)",
          "(11,0,2)",
          "(11,0,0)",
          "(10,5,1)",
          "(9,2,2)",
          "(10,2,5)",
          "(9,3,3)",
          "(9,4,0)",
          "(10,1,2)",
          "(10,0,3)",
          "(10,0,1)",
          "(11,2,1)",
          "(8,5,1)",
          "(13,4,4)",
          "(11,3,1)",
          "(7,4,0)",
          "(13,4,1)",
          "(7,6,1)",
          "(13,2,3)",
          "(12,9,0)",
          "(12,7,2)",
          "(12,4,4)",
          "(12,4,3)",
          "(12,4,2)",
          "(12,3,3)",
          "(8,1,3)",
          "(12,1,4)",
          "(8,2,1)",
          "(8,2,4)",
          "(8,4,1)",
          "(16,4,2)",
          "(16,6,0)",
          "(1,2,2)",
          "(21,7,3)",
          "(3,2,4)",
          "(21,5,2)",
          "(21,4,5)",
          "(3,3,1)",
          "(21,0,3)",
          "(20,9,1)",
          "(20,8,4)",
          "(20,7,0)",
          "(20,6,0)",
          "(20,5,1)",
          "(4,0,4)",
          "(20,2,2)",
          "(19,9,2)",
          "(4,1,2)",
          "(19,7,3)",
          "(21,7,1)",
          "(2,4,0)",
          "(19,6,0)",
          "(21,10,3)",
          "(23,6,2)",
          "(1,3,0)",
          "(23,5,0)",
          "(23,3,3)",
          "(23,3,2)",
          "(23,2,0)",
          "(22,10,3)",
          "(1,3,4)",
          "(22,9,0)",
          "(22,6,1)",
          "(2,2,1)",
          "(2,3,0)",
          "(22,3,4)",
          "(22,2,3)",
          "(22,1,2)",
          "(4,1,3)",
          "(4,2,1)",
          "(5,3,4)",
          "(5,0,3)",
          "(18,3,1)",
          "(18,2,4)",
          "(5,2,2)",
          "(18,1,3)",
          "(17,9,0)",
          "(17,5,1)",
          "(17,5,0)",
          "(17,4,2)",
          "(5,3,3)",
          "(17,4,0)",
          "(17,1,3)",
          "(16,13,1)",
          "(16,9,7)",
          "(16,9,3)",
          "(16,7,4)",
          "(18,4,0)",
          "(4,5,0)",
          "(19,5,1)",
          "(18,5,0)",
          "(19,5,0)",
          "(19,4,3)",
          "(19,4,2)",
          "(4,2,4)",
          "(19,4,0)",
          "(19,3,3)",
          "(19,3,1)",
          "(19,1,1)",
          "(19,1,0)",
          "(19,0,3)",
          "(18,8,0)",
          "(4,4,3)",
          "(18,7,1)",
          "(18,7,0)",
          "(18,6,0)",
          "(55,18,7)"
         ],
         "xaxis": "x",
         "y": {
          "dtype": "i2",
          "bdata": "DgTKALYAOQAxACsAIQAYABgAGAAVABUAEgAQAA8ADwANAAwACwALAAsACwAKAAoACgAKAAkACQAJAAkACQAIAAgACAAIAAcABwAHAAcABwAHAAcABwAHAAcABwAHAAcABwAGAAYABgAGAAYABgAGAAYABgAGAAUABQAFAAUABQAFAAUABQAFAAUABQAFAAUABQAFAAUABQAFAAUABQAFAAUABQAFAAUABAAEAAQABAAEAAQABAAEAAQABAAEAAQABAAEAAQABAAEAAQABAAEAAQABAAEAAQABAAEAAQABAAEAAQABAAEAAQABAADAAMAAwADAAMAAwADAAMAAwADAAMAAwADAAMAAwADAAMAAwADAAMAAwADAAMAAwADAAMAAwADAAMAAwADAAMAAwADAAMAAwADAAMAAwADAAMAAwADAAMAAwADAAMAAwADAAMAAwADAAMAAwADAAMAAwADAAMAAwADAAMAAwACAAIAAgACAAIAAgACAAIAAgACAAIAAgACAAIAAgACAAIAAgACAAIAAgACAAIAAgACAAIAAgACAAIAAgACAAIAAgACAAIAAgACAAIAAgACAAIAAgACAAIAAgACAAIAAgACAAIAAgACAAIAAgACAAIAAgACAAIAAgACAAIAAgACAAIAAgACAAIAAgACAAIAAgACAAIAAgACAAIAAgACAAIAAgACAAIAAgACAAIAAgACAAIAAgACAAIAAgACAAIAAgACAAIAAgACAAIAAgACAAIAAgACAAIAAgACAAIAAgACAAIAAgACAAIAAgABAAEAAQABAAEAAQABAAEAAQABAAEAAQABAAEAAQABAAEAAQABAAEAAQABAAEAAQABAAEAAQABAAEAAQABAAEAAQABAAEAAQABAAEAAQABAAEAAQABAAEAAQABAAEAAQABAAEAAQABAAEAAQABAAEAAQABAAEAAQABAAEAAQABAAEAAQABAAEAAQABAAEAAQABAAEAAQABAAEAAQABAAEAAQABAAEAAQABAAEAAQABAAEAAQABAAEAAQABAAEAAQABAAEAAQABAAEAAQABAAEAAQABAAEAAQABAAEAAQABAAEAAQABAAEAAQABAAEAAQABAAEAAQABAAEAAQABAAEAAQABAAEAAQABAAEAAQABAAEAAQABAAEAAQABAAEAAQABAAEAAQABAAEAAQABAAEAAQABAAEAAQABAAEAAQABAAEAAQABAAEAAQABAAEAAQABAAEAAQABAAEAAQABAAEAAQABAAEAAQABAAEAAQABAAEAAQABAAEAAQABAAEAAQABAAEAAQABAAEAAQABAAEAAQABAAEAAQABAAEAAQABAAEAAQABAAEAAQABAAEAAQABAAEAAQABAAEAAQABAAEAAQABAAEAAQABAAEAAQABAAEAAQABAAEAAQABAAEAAQABAAEAAQABAAEAAQABAAEAAQABAAEAAQABAAEAAQABAAEAAQABAAEAAQABAAEAAQABAAEAAQA="
         },
         "yaxis": "y",
         "type": "bar"
        }
       ],
       "layout": {
        "template": {
         "data": {
          "histogram2dcontour": [
           {
            "type": "histogram2dcontour",
            "colorbar": {
             "outlinewidth": 0,
             "ticks": ""
            },
            "colorscale": [
             [
              0.0,
              "#0d0887"
             ],
             [
              0.1111111111111111,
              "#46039f"
             ],
             [
              0.2222222222222222,
              "#7201a8"
             ],
             [
              0.3333333333333333,
              "#9c179e"
             ],
             [
              0.4444444444444444,
              "#bd3786"
             ],
             [
              0.5555555555555556,
              "#d8576b"
             ],
             [
              0.6666666666666666,
              "#ed7953"
             ],
             [
              0.7777777777777778,
              "#fb9f3a"
             ],
             [
              0.8888888888888888,
              "#fdca26"
             ],
             [
              1.0,
              "#f0f921"
             ]
            ]
           }
          ],
          "choropleth": [
           {
            "type": "choropleth",
            "colorbar": {
             "outlinewidth": 0,
             "ticks": ""
            }
           }
          ],
          "histogram2d": [
           {
            "type": "histogram2d",
            "colorbar": {
             "outlinewidth": 0,
             "ticks": ""
            },
            "colorscale": [
             [
              0.0,
              "#0d0887"
             ],
             [
              0.1111111111111111,
              "#46039f"
             ],
             [
              0.2222222222222222,
              "#7201a8"
             ],
             [
              0.3333333333333333,
              "#9c179e"
             ],
             [
              0.4444444444444444,
              "#bd3786"
             ],
             [
              0.5555555555555556,
              "#d8576b"
             ],
             [
              0.6666666666666666,
              "#ed7953"
             ],
             [
              0.7777777777777778,
              "#fb9f3a"
             ],
             [
              0.8888888888888888,
              "#fdca26"
             ],
             [
              1.0,
              "#f0f921"
             ]
            ]
           }
          ],
          "heatmap": [
           {
            "type": "heatmap",
            "colorbar": {
             "outlinewidth": 0,
             "ticks": ""
            },
            "colorscale": [
             [
              0.0,
              "#0d0887"
             ],
             [
              0.1111111111111111,
              "#46039f"
             ],
             [
              0.2222222222222222,
              "#7201a8"
             ],
             [
              0.3333333333333333,
              "#9c179e"
             ],
             [
              0.4444444444444444,
              "#bd3786"
             ],
             [
              0.5555555555555556,
              "#d8576b"
             ],
             [
              0.6666666666666666,
              "#ed7953"
             ],
             [
              0.7777777777777778,
              "#fb9f3a"
             ],
             [
              0.8888888888888888,
              "#fdca26"
             ],
             [
              1.0,
              "#f0f921"
             ]
            ]
           }
          ],
          "contourcarpet": [
           {
            "type": "contourcarpet",
            "colorbar": {
             "outlinewidth": 0,
             "ticks": ""
            }
           }
          ],
          "contour": [
           {
            "type": "contour",
            "colorbar": {
             "outlinewidth": 0,
             "ticks": ""
            },
            "colorscale": [
             [
              0.0,
              "#0d0887"
             ],
             [
              0.1111111111111111,
              "#46039f"
             ],
             [
              0.2222222222222222,
              "#7201a8"
             ],
             [
              0.3333333333333333,
              "#9c179e"
             ],
             [
              0.4444444444444444,
              "#bd3786"
             ],
             [
              0.5555555555555556,
              "#d8576b"
             ],
             [
              0.6666666666666666,
              "#ed7953"
             ],
             [
              0.7777777777777778,
              "#fb9f3a"
             ],
             [
              0.8888888888888888,
              "#fdca26"
             ],
             [
              1.0,
              "#f0f921"
             ]
            ]
           }
          ],
          "surface": [
           {
            "type": "surface",
            "colorbar": {
             "outlinewidth": 0,
             "ticks": ""
            },
            "colorscale": [
             [
              0.0,
              "#0d0887"
             ],
             [
              0.1111111111111111,
              "#46039f"
             ],
             [
              0.2222222222222222,
              "#7201a8"
             ],
             [
              0.3333333333333333,
              "#9c179e"
             ],
             [
              0.4444444444444444,
              "#bd3786"
             ],
             [
              0.5555555555555556,
              "#d8576b"
             ],
             [
              0.6666666666666666,
              "#ed7953"
             ],
             [
              0.7777777777777778,
              "#fb9f3a"
             ],
             [
              0.8888888888888888,
              "#fdca26"
             ],
             [
              1.0,
              "#f0f921"
             ]
            ]
           }
          ],
          "mesh3d": [
           {
            "type": "mesh3d",
            "colorbar": {
             "outlinewidth": 0,
             "ticks": ""
            }
           }
          ],
          "scatter": [
           {
            "fillpattern": {
             "fillmode": "overlay",
             "size": 10,
             "solidity": 0.2
            },
            "type": "scatter"
           }
          ],
          "parcoords": [
           {
            "type": "parcoords",
            "line": {
             "colorbar": {
              "outlinewidth": 0,
              "ticks": ""
             }
            }
           }
          ],
          "scatterpolargl": [
           {
            "type": "scatterpolargl",
            "marker": {
             "colorbar": {
              "outlinewidth": 0,
              "ticks": ""
             }
            }
           }
          ],
          "bar": [
           {
            "error_x": {
             "color": "#2a3f5f"
            },
            "error_y": {
             "color": "#2a3f5f"
            },
            "marker": {
             "line": {
              "color": "#E5ECF6",
              "width": 0.5
             },
             "pattern": {
              "fillmode": "overlay",
              "size": 10,
              "solidity": 0.2
             }
            },
            "type": "bar"
           }
          ],
          "scattergeo": [
           {
            "type": "scattergeo",
            "marker": {
             "colorbar": {
              "outlinewidth": 0,
              "ticks": ""
             }
            }
           }
          ],
          "scatterpolar": [
           {
            "type": "scatterpolar",
            "marker": {
             "colorbar": {
              "outlinewidth": 0,
              "ticks": ""
             }
            }
           }
          ],
          "histogram": [
           {
            "marker": {
             "pattern": {
              "fillmode": "overlay",
              "size": 10,
              "solidity": 0.2
             }
            },
            "type": "histogram"
           }
          ],
          "scattergl": [
           {
            "type": "scattergl",
            "marker": {
             "colorbar": {
              "outlinewidth": 0,
              "ticks": ""
             }
            }
           }
          ],
          "scatter3d": [
           {
            "type": "scatter3d",
            "line": {
             "colorbar": {
              "outlinewidth": 0,
              "ticks": ""
             }
            },
            "marker": {
             "colorbar": {
              "outlinewidth": 0,
              "ticks": ""
             }
            }
           }
          ],
          "scattermap": [
           {
            "type": "scattermap",
            "marker": {
             "colorbar": {
              "outlinewidth": 0,
              "ticks": ""
             }
            }
           }
          ],
          "scattermapbox": [
           {
            "type": "scattermapbox",
            "marker": {
             "colorbar": {
              "outlinewidth": 0,
              "ticks": ""
             }
            }
           }
          ],
          "scatterternary": [
           {
            "type": "scatterternary",
            "marker": {
             "colorbar": {
              "outlinewidth": 0,
              "ticks": ""
             }
            }
           }
          ],
          "scattercarpet": [
           {
            "type": "scattercarpet",
            "marker": {
             "colorbar": {
              "outlinewidth": 0,
              "ticks": ""
             }
            }
           }
          ],
          "carpet": [
           {
            "aaxis": {
             "endlinecolor": "#2a3f5f",
             "gridcolor": "white",
             "linecolor": "white",
             "minorgridcolor": "white",
             "startlinecolor": "#2a3f5f"
            },
            "baxis": {
             "endlinecolor": "#2a3f5f",
             "gridcolor": "white",
             "linecolor": "white",
             "minorgridcolor": "white",
             "startlinecolor": "#2a3f5f"
            },
            "type": "carpet"
           }
          ],
          "table": [
           {
            "cells": {
             "fill": {
              "color": "#EBF0F8"
             },
             "line": {
              "color": "white"
             }
            },
            "header": {
             "fill": {
              "color": "#C8D4E3"
             },
             "line": {
              "color": "white"
             }
            },
            "type": "table"
           }
          ],
          "barpolar": [
           {
            "marker": {
             "line": {
              "color": "#E5ECF6",
              "width": 0.5
             },
             "pattern": {
              "fillmode": "overlay",
              "size": 10,
              "solidity": 0.2
             }
            },
            "type": "barpolar"
           }
          ],
          "pie": [
           {
            "automargin": true,
            "type": "pie"
           }
          ]
         },
         "layout": {
          "autotypenumbers": "strict",
          "colorway": [
           "#636efa",
           "#EF553B",
           "#00cc96",
           "#ab63fa",
           "#FFA15A",
           "#19d3f3",
           "#FF6692",
           "#B6E880",
           "#FF97FF",
           "#FECB52"
          ],
          "font": {
           "color": "#2a3f5f"
          },
          "hovermode": "closest",
          "hoverlabel": {
           "align": "left"
          },
          "paper_bgcolor": "white",
          "plot_bgcolor": "#E5ECF6",
          "polar": {
           "bgcolor": "#E5ECF6",
           "angularaxis": {
            "gridcolor": "white",
            "linecolor": "white",
            "ticks": ""
           },
           "radialaxis": {
            "gridcolor": "white",
            "linecolor": "white",
            "ticks": ""
           }
          },
          "ternary": {
           "bgcolor": "#E5ECF6",
           "aaxis": {
            "gridcolor": "white",
            "linecolor": "white",
            "ticks": ""
           },
           "baxis": {
            "gridcolor": "white",
            "linecolor": "white",
            "ticks": ""
           },
           "caxis": {
            "gridcolor": "white",
            "linecolor": "white",
            "ticks": ""
           }
          },
          "coloraxis": {
           "colorbar": {
            "outlinewidth": 0,
            "ticks": ""
           }
          },
          "colorscale": {
           "sequential": [
            [
             0.0,
             "#0d0887"
            ],
            [
             0.1111111111111111,
             "#46039f"
            ],
            [
             0.2222222222222222,
             "#7201a8"
            ],
            [
             0.3333333333333333,
             "#9c179e"
            ],
            [
             0.4444444444444444,
             "#bd3786"
            ],
            [
             0.5555555555555556,
             "#d8576b"
            ],
            [
             0.6666666666666666,
             "#ed7953"
            ],
            [
             0.7777777777777778,
             "#fb9f3a"
            ],
            [
             0.8888888888888888,
             "#fdca26"
            ],
            [
             1.0,
             "#f0f921"
            ]
           ],
           "sequentialminus": [
            [
             0.0,
             "#0d0887"
            ],
            [
             0.1111111111111111,
             "#46039f"
            ],
            [
             0.2222222222222222,
             "#7201a8"
            ],
            [
             0.3333333333333333,
             "#9c179e"
            ],
            [
             0.4444444444444444,
             "#bd3786"
            ],
            [
             0.5555555555555556,
             "#d8576b"
            ],
            [
             0.6666666666666666,
             "#ed7953"
            ],
            [
             0.7777777777777778,
             "#fb9f3a"
            ],
            [
             0.8888888888888888,
             "#fdca26"
            ],
            [
             1.0,
             "#f0f921"
            ]
           ],
           "diverging": [
            [
             0,
             "#8e0152"
            ],
            [
             0.1,
             "#c51b7d"
            ],
            [
             0.2,
             "#de77ae"
            ],
            [
             0.3,
             "#f1b6da"
            ],
            [
             0.4,
             "#fde0ef"
            ],
            [
             0.5,
             "#f7f7f7"
            ],
            [
             0.6,
             "#e6f5d0"
            ],
            [
             0.7,
             "#b8e186"
            ],
            [
             0.8,
             "#7fbc41"
            ],
            [
             0.9,
             "#4d9221"
            ],
            [
             1,
             "#276419"
            ]
           ]
          },
          "xaxis": {
           "gridcolor": "white",
           "linecolor": "white",
           "ticks": "",
           "title": {
            "standoff": 15
           },
           "zerolinecolor": "white",
           "automargin": true,
           "zerolinewidth": 2
          },
          "yaxis": {
           "gridcolor": "white",
           "linecolor": "white",
           "ticks": "",
           "title": {
            "standoff": 15
           },
           "zerolinecolor": "white",
           "automargin": true,
           "zerolinewidth": 2
          },
          "scene": {
           "xaxis": {
            "backgroundcolor": "#E5ECF6",
            "gridcolor": "white",
            "linecolor": "white",
            "showbackground": true,
            "ticks": "",
            "zerolinecolor": "white",
            "gridwidth": 2
           },
           "yaxis": {
            "backgroundcolor": "#E5ECF6",
            "gridcolor": "white",
            "linecolor": "white",
            "showbackground": true,
            "ticks": "",
            "zerolinecolor": "white",
            "gridwidth": 2
           },
           "zaxis": {
            "backgroundcolor": "#E5ECF6",
            "gridcolor": "white",
            "linecolor": "white",
            "showbackground": true,
            "ticks": "",
            "zerolinecolor": "white",
            "gridwidth": 2
           }
          },
          "shapedefaults": {
           "line": {
            "color": "#2a3f5f"
           }
          },
          "annotationdefaults": {
           "arrowcolor": "#2a3f5f",
           "arrowhead": 0,
           "arrowwidth": 1
          },
          "geo": {
           "bgcolor": "white",
           "landcolor": "#E5ECF6",
           "subunitcolor": "white",
           "showland": true,
           "showlakes": true,
           "lakecolor": "white"
          },
          "title": {
           "x": 0.05
          },
          "mapbox": {
           "style": "light"
          }
         }
        },
        "xaxis": {
         "anchor": "y",
         "domain": [
          0.0,
          1.0
         ],
         "title": {
          "text": "Vector"
         }
        },
        "yaxis": {
         "anchor": "x",
         "domain": [
          0.0,
          1.0
         ],
         "title": {
          "text": "Count"
         },
         "type": "log"
        },
        "legend": {
         "tracegroupgap": 0
        },
        "title": {
         "text": "12-Month WOMAC Median Vectors (Left Knee)"
        },
        "barmode": "relative"
       },
       "config": {
        "plotlyServerURL": "https://plot.ly"
       }
      }
     },
     "metadata": {},
     "output_type": "display_data"
    },
    {
     "data": {
      "text/plain": [
       "     V03WOMADLR  V03WOMKPR  V03WOMSTFR  Count     Vector\n",
       "0             0          0           0   1106    (0,0,0)\n",
       "31            2          0           0    150    (2,0,0)\n",
       "1             0          0           1     86    (0,0,1)\n",
       "19            1          0           0     60    (1,0,0)\n",
       "4             0          1           0     49    (0,1,0)\n",
       "..          ...        ...         ...    ...        ...\n",
       "375          21          7           2      1   (21,7,2)\n",
       "376          21          7           5      1   (21,7,5)\n",
       "377          21          8           3      1   (21,8,3)\n",
       "150           8          4           3      1    (8,4,3)\n",
       "545          62         18           7      1  (62,18,7)\n",
       "\n",
       "[546 rows x 5 columns]"
      ],
      "text/html": [
       "<div>\n",
       "<style scoped>\n",
       "    .dataframe tbody tr th:only-of-type {\n",
       "        vertical-align: middle;\n",
       "    }\n",
       "\n",
       "    .dataframe tbody tr th {\n",
       "        vertical-align: top;\n",
       "    }\n",
       "\n",
       "    .dataframe thead th {\n",
       "        text-align: right;\n",
       "    }\n",
       "</style>\n",
       "<table border=\"1\" class=\"dataframe\">\n",
       "  <thead>\n",
       "    <tr style=\"text-align: right;\">\n",
       "      <th></th>\n",
       "      <th>V03WOMADLR</th>\n",
       "      <th>V03WOMKPR</th>\n",
       "      <th>V03WOMSTFR</th>\n",
       "      <th>Count</th>\n",
       "      <th>Vector</th>\n",
       "    </tr>\n",
       "  </thead>\n",
       "  <tbody>\n",
       "    <tr>\n",
       "      <th>0</th>\n",
       "      <td>0</td>\n",
       "      <td>0</td>\n",
       "      <td>0</td>\n",
       "      <td>1106</td>\n",
       "      <td>(0,0,0)</td>\n",
       "    </tr>\n",
       "    <tr>\n",
       "      <th>31</th>\n",
       "      <td>2</td>\n",
       "      <td>0</td>\n",
       "      <td>0</td>\n",
       "      <td>150</td>\n",
       "      <td>(2,0,0)</td>\n",
       "    </tr>\n",
       "    <tr>\n",
       "      <th>1</th>\n",
       "      <td>0</td>\n",
       "      <td>0</td>\n",
       "      <td>1</td>\n",
       "      <td>86</td>\n",
       "      <td>(0,0,1)</td>\n",
       "    </tr>\n",
       "    <tr>\n",
       "      <th>19</th>\n",
       "      <td>1</td>\n",
       "      <td>0</td>\n",
       "      <td>0</td>\n",
       "      <td>60</td>\n",
       "      <td>(1,0,0)</td>\n",
       "    </tr>\n",
       "    <tr>\n",
       "      <th>4</th>\n",
       "      <td>0</td>\n",
       "      <td>1</td>\n",
       "      <td>0</td>\n",
       "      <td>49</td>\n",
       "      <td>(0,1,0)</td>\n",
       "    </tr>\n",
       "    <tr>\n",
       "      <th>...</th>\n",
       "      <td>...</td>\n",
       "      <td>...</td>\n",
       "      <td>...</td>\n",
       "      <td>...</td>\n",
       "      <td>...</td>\n",
       "    </tr>\n",
       "    <tr>\n",
       "      <th>375</th>\n",
       "      <td>21</td>\n",
       "      <td>7</td>\n",
       "      <td>2</td>\n",
       "      <td>1</td>\n",
       "      <td>(21,7,2)</td>\n",
       "    </tr>\n",
       "    <tr>\n",
       "      <th>376</th>\n",
       "      <td>21</td>\n",
       "      <td>7</td>\n",
       "      <td>5</td>\n",
       "      <td>1</td>\n",
       "      <td>(21,7,5)</td>\n",
       "    </tr>\n",
       "    <tr>\n",
       "      <th>377</th>\n",
       "      <td>21</td>\n",
       "      <td>8</td>\n",
       "      <td>3</td>\n",
       "      <td>1</td>\n",
       "      <td>(21,8,3)</td>\n",
       "    </tr>\n",
       "    <tr>\n",
       "      <th>150</th>\n",
       "      <td>8</td>\n",
       "      <td>4</td>\n",
       "      <td>3</td>\n",
       "      <td>1</td>\n",
       "      <td>(8,4,3)</td>\n",
       "    </tr>\n",
       "    <tr>\n",
       "      <th>545</th>\n",
       "      <td>62</td>\n",
       "      <td>18</td>\n",
       "      <td>7</td>\n",
       "      <td>1</td>\n",
       "      <td>(62,18,7)</td>\n",
       "    </tr>\n",
       "  </tbody>\n",
       "</table>\n",
       "<p>546 rows × 5 columns</p>\n",
       "</div>"
      ]
     },
     "metadata": {},
     "output_type": "display_data"
    },
    {
     "data": {
      "application/vnd.plotly.v1+json": {
       "data": [
        {
         "hovertemplate": "Vector=%{x}<br>Count=%{y}<extra></extra>",
         "legendgroup": "",
         "marker": {
          "color": "#636efa",
          "pattern": {
           "shape": ""
          }
         },
         "name": "",
         "orientation": "v",
         "showlegend": false,
         "textposition": "auto",
         "x": [
          "(0,0,0)",
          "(2,0,0)",
          "(0,0,1)",
          "(1,0,0)",
          "(0,1,0)",
          "(3,0,0)",
          "(2,0,1)",
          "(2,1,0)",
          "(4,0,1)",
          "(6,1,1)",
          "(3,0,1)",
          "(3,1,0)",
          "(0,2,0)",
          "(4,0,0)",
          "(6,0,0)",
          "(4,1,1)",
          "(3,1,1)",
          "(3,2,0)",
          "(1,2,0)",
          "(6,1,0)",
          "(1,0,1)",
          "(9,0,1)",
          "(7,0,0)",
          "(5,0,0)",
          "(4,1,0)",
          "(5,0,2)",
          "(0,3,1)",
          "(6,0,1)",
          "(5,0,1)",
          "(3,0,2)",
          "(0,1,1)",
          "(2,1,1)",
          "(10,3,1)",
          "(0,0,2)",
          "(6,2,0)",
          "(12,3,1)",
          "(8,2,1)",
          "(8,1,0)",
          "(5,1,0)",
          "(12,2,1)",
          "(8,0,1)",
          "(36,10,5)",
          "(18,4,1)",
          "(1,1,0)",
          "(0,3,0)",
          "(21,4,2)",
          "(0,2,2)",
          "(5,2,1)",
          "(3,2,1)",
          "(9,3,1)",
          "(0,2,1)",
          "(14,2,2)",
          "(7,3,1)",
          "(24,6,2)",
          "(7,1,0)",
          "(4,1,2)",
          "(2,2,1)",
          "(9,1,0)",
          "(9,1,1)",
          "(10,1,0)",
          "(30,0,0)",
          "(10,2,2)",
          "(6,0,3)",
          "(23,4,3)",
          "(7,1,1)",
          "(7,0,2)",
          "(13,2,1)",
          "(13,4,1)",
          "(2,3,1)",
          "(14,1,1)",
          "(10,2,0)",
          "(9,2,0)",
          "(12,0,2)",
          "(11,2,1)",
          "(19,4,3)",
          "(22,7,0)",
          "(5,1,1)",
          "(3,4,0)",
          "(1,1,1)",
          "(19,5,2)",
          "(15,3,1)",
          "(4,4,0)",
          "(20,5,1)",
          "(10,1,1)",
          "(20,5,3)",
          "(10,3,3)",
          "(4,2,0)",
          "(9,3,0)",
          "(12,1,2)",
          "(13,3,0)",
          "(13,3,1)",
          "(24,9,3)",
          "(10,2,3)",
          "(11,4,2)",
          "(18,3,1)",
          "(18,3,3)",
          "(25,5,3)",
          "(23,4,1)",
          "(19,5,1)",
          "(13,2,0)",
          "(9,2,1)",
          "(8,1,1)",
          "(13,1,1)",
          "(8,3,4)",
          "(16,5,2)",
          "(17,4,0)",
          "(9,5,0)",
          "(16,6,1)",
          "(0,4,0)",
          "(17,6,1)",
          "(17,5,3)",
          "(14,3,1)",
          "(27,4,3)",
          "(6,0,2)",
          "(18,5,0)",
          "(27,5,3)",
          "(1,4,2)",
          "(15,11,3)",
          "(14,6,2)",
          "(14,6,3)",
          "(6,3,0)",
          "(5,2,0)",
          "(15,2,3)",
          "(2,0,2)",
          "(33,7,4)",
          "(0,4,1)",
          "(15,9,4)",
          "(1,3,0)",
          "(4,1,3)",
          "(6,4,2)",
          "(30,7,4)",
          "(10,0,1)",
          "(10,0,3)",
          "(21,1,2)",
          "(32,4,5)",
          "(12,3,3)",
          "(16,0,2)",
          "(17,1,1)",
          "(16,1,1)",
          "(12,5,1)",
          "(9,4,0)",
          "(20,6,2)",
          "(10,4,0)",
          "(4,0,2)",
          "(10,3,2)",
          "(15,5,1)",
          "(14,2,3)",
          "(15,4,1)",
          "(15,3,2)",
          "(11,3,1)",
          "(11,3,0)",
          "(2,2,0)",
          "(19,5,3)",
          "(3,4,1)",
          "(55,17,7)",
          "(32,9,5)",
          "(32,8,5)",
          "(10,4,3)",
          "(40,10,3)",
          "(32,7,2)",
          "(16,2,2)",
          "(9,1,2)",
          "(16,8,0)",
          "(16,3,2)",
          "(8,0,0)",
          "(0,5,2)",
          "(13,2,3)",
          "(23,5,3)",
          "(7,4,2)",
          "(24,5,3)",
          "(7,3,2)",
          "(7,2,1)",
          "(16,3,1)",
          "(7,2,0)",
          "(6,2,1)",
          "(6,3,1)",
          "(25,4,2)",
          "(16,3,3)",
          "(26,5,3)",
          "(25,7,3)",
          "(0,3,3)",
          "(1,0,2)",
          "(16,4,1)",
          "(28,7,3)",
          "(9,0,0)",
          "(28,7,4)",
          "(13,0,1)",
          "(1,1,2)",
          "(27,9,4)",
          "(21,7,1)",
          "(5,3,0)",
          "(21,9,3)",
          "(13,5,3)",
          "(22,4,3)",
          "(28,4,4)",
          "(0,2,3)",
          "(22,7,3)",
          "(9,0,2)",
          "(16,4,0)",
          "(16,1,2)",
          "(15,2,1)",
          "(17,9,1)",
          "(15,9,3)",
          "(16,5,0)",
          "(16,1,3)",
          "(15,7,0)",
          "(23,5,5)",
          "(18,5,1)",
          "(35,10,6)",
          "(27,7,4)",
          "(28,6,4)",
          "(29,5,3)",
          "(29,6,3)",
          "(29,8,4)",
          "(30,6,4)",
          "(30,7,3)",
          "(31,8,3)",
          "(33,5,2)",
          "(33,7,3)",
          "(34,5,3)",
          "(35,13,6)",
          "(26,7,3)",
          "(36,11,3)",
          "(37,5,3)",
          "(37,10,4)",
          "(37,13,5)",
          "(38,5,4)",
          "(38,8,4)",
          "(38,9,4)",
          "(39,14,7)",
          "(41,11,4)",
          "(42,11,3)",
          "(45,9,5)",
          "(27,3,3)",
          "(25,9,4)",
          "(18,6,3)",
          "(21,5,0)",
          "(18,7,2)",
          "(18,7,3)",
          "(19,2,1)",
          "(19,4,1)",
          "(20,3,3)",
          "(20,4,0)",
          "(20,4,3)",
          "(20,6,3)",
          "(20,9,2)",
          "(21,3,1)",
          "(21,4,1)",
          "(21,5,3)",
          "(25,6,3)",
          "(21,6,1)",
          "(21,6,3)",
          "(21,9,2)",
          "(22,5,2)",
          "(22,8,1)",
          "(22,8,3)",
          "(22,8,5)",
          "(23,5,1)",
          "(15,1,2)",
          "(23,8,3)",
          "(24,8,3)",
          "(15,2,0)",
          "(15,6,3)",
          "(7,0,1)",
          "(2,4,1)",
          "(4,3,3)",
          "(1,2,1)",
          "(1,3,1)",
          "(7,4,3)",
          "(12,4,2)",
          "(6,3,2)",
          "(7,6,1)",
          "(7,7,0)",
          "(10,7,2)",
          "(12,2,0)",
          "(1,4,1)",
          "(2,3,0)",
          "(2,4,4)",
          "(0,5,1)",
          "(4,5,0)",
          "(2,5,1)",
          "(6,1,2)",
          "(11,6,5)",
          "(2,6,2)",
          "(11,5,5)",
          "(3,3,2)",
          "(8,2,0)",
          "(7,0,3)",
          "(2,14,3)",
          "(8,3,1)",
          "(3,2,2)",
          "(0,9,1)",
          "(15,0,1)",
          "(13,0,2)",
          "(13,6,2)",
          "(7,1,3)",
          "(14,5,5)",
          "(14,5,3)",
          "(14,4,1)",
          "(0,0,3)",
          "(4,2,1)",
          "(14,3,2)",
          "(14,3,0)",
          "(6,4,1)",
          "(14,2,0)",
          "(14,1,0)",
          "(6,4,0)",
          "(14,1,4)",
          "(4,0,3)",
          "(10,2,1)",
          "(9,4,2)",
          "(3,7,0)",
          "(0,1,2)",
          "(13,3,2)",
          "(13,3,4)",
          "(11,0,3)",
          "(13,5,1)",
          "(13,6,0)",
          "(13,5,0)",
          "(29,7,3)",
          "(29,5,4)",
          "(4,4,1)",
          "(5,3,2)",
          "(5,1,2)",
          "(5,0,3)",
          "(28,7,5)",
          "(28,9,3)",
          "(28,6,1)",
          "(4,3,1)",
          "(29,0,1)",
          "(4,3,0)",
          "(29,2,3)",
          "(4,2,3)",
          "(30,9,5)",
          "(26,9,2)",
          "(5,4,1)",
          "(28,4,3)",
          "(6,7,1)",
          "(25,7,1)",
          "(25,7,2)",
          "(25,8,3)",
          "(26,0,3)",
          "(26,4,0)",
          "(26,4,1)",
          "(26,4,2)",
          "(26,5,1)",
          "(6,3,3)",
          "(26,6,1)",
          "(26,8,3)",
          "(26,8,4)",
          "(31,4,4)",
          "(6,1,3)",
          "(5,7,3)",
          "(27,5,4)",
          "(27,6,2)",
          "(27,6,3)",
          "(27,7,3)",
          "(5,5,1)",
          "(27,8,4)",
          "(5,5,0)",
          "(31,2,3)",
          "(15,1,1)",
          "(31,6,3)",
          "(36,9,4)",
          "(2,7,0)",
          "(36,12,3)",
          "(37,9,3)",
          "(37,11,3)",
          "(2,3,2)",
          "(38,12,4)",
          "(38,15,6)",
          "(39,4,2)",
          "(39,9,4)",
          "(39,10,2)",
          "(39,10,5)",
          "(40,5,3)",
          "(41,7,3)",
          "(42,6,5)",
          "(43,11,4)",
          "(43,14,5)",
          "(45,13,4)",
          "(46,16,3)",
          "(48,10,7)",
          "(49,11,7)",
          "(50,15,5)",
          "(51,12,5)",
          "(51,14,7)",
          "(53,13,5)",
          "(57,13,0)",
          "(36,10,3)",
          "(36,8,4)",
          "(31,6,5)",
          "(36,6,4)",
          "(4,0,4)",
          "(31,10,4)",
          "(32,0,1)",
          "(32,7,4)",
          "(3,6,1)",
          "(32,9,4)",
          "(3,6,0)",
          "(32,11,3)",
          "(33,2,1)",
          "(33,2,3)",
          "(33,5,1)",
          "(33,6,1)",
          "(3,3,1)",
          "(3,3,0)",
          "(33,8,2)",
          "(33,9,3)",
          "(33,11,4)",
          "(34,0,1)",
          "(34,3,2)",
          "(34,7,3)",
          "(34,9,3)",
          "(35,5,0)",
          "(35,8,1)",
          "(3,0,3)",
          "(36,4,3)",
          "(33,6,3)",
          "(23,6,2)",
          "(25,1,2)",
          "(19,3,0)",
          "(12,0,1)",
          "(11,8,3)",
          "(11,7,1)",
          "(11,6,1)",
          "(18,5,2)",
          "(18,6,4)",
          "(18,7,1)",
          "(11,5,1)",
          "(11,3,3)",
          "(18,8,1)",
          "(18,8,2)",
          "(19,0,2)",
          "(11,1,4)",
          "(19,3,1)",
          "(18,1,2)",
          "(19,3,2)",
          "(19,3,5)",
          "(11,1,1)",
          "(11,1,0)",
          "(11,0,2)",
          "(11,0,1)",
          "(19,6,2)",
          "(19,6,3)",
          "(19,7,1)",
          "(19,7,2)",
          "(19,7,3)",
          "(19,8,0)",
          "(19,8,1)",
          "(18,2,2)",
          "(18,0,2)",
          "(24,11,4)",
          "(16,5,3)",
          "(14,7,1)",
          "(15,4,2)",
          "(15,4,3)",
          "(15,4,4)",
          "(14,4,0)",
          "(15,7,1)",
          "(14,0,0)",
          "(13,8,0)",
          "(13,6,1)",
          "(13,4,3)",
          "(16,4,2)",
          "(16,4,3)",
          "(13,0,3)",
          "(12,7,1)",
          "(18,0,1)",
          "(16,6,2)",
          "(16,6,3)",
          "(16,7,0)",
          "(12,6,1)",
          "(16,10,3)",
          "(17,0,2)",
          "(17,3,1)",
          "(12,2,4)",
          "(17,4,3)",
          "(12,2,3)",
          "(17,6,0)",
          "(17,7,2)",
          "(12,1,1)",
          "(19,10,4)",
          "(20,1,2)",
          "(10,9,0)",
          "(7,9,1)",
          "(22,4,4)",
          "(22,5,4)",
          "(22,5,5)",
          "(22,6,2)",
          "(8,3,0)",
          "(22,7,2)",
          "(8,1,2)",
          "(8,0,2)",
          "(7,9,2)",
          "(22,10,3)",
          "(22,10,4)",
          "(23,1,3)",
          "(23,3,3)",
          "(7,5,2)",
          "(20,4,2)",
          "(23,5,4)",
          "(23,7,1)",
          "(23,7,2)",
          "(7,4,1)",
          "(23,9,2)",
          "(24,4,3)",
          "(7,3,4)",
          "(24,6,0)",
          "(7,2,4)",
          "(24,6,3)",
          "(24,6,4)",
          "(24,7,3)",
          "(7,2,2)",
          "(8,3,3)",
          "(22,4,2)",
          "(21,10,3)",
          "(8,4,1)",
          "(10,7,1)",
          "(10,5,2)",
          "(20,5,2)",
          "(10,3,5)",
          "(10,1,3)",
          "(10,1,2)",
          "(20,9,4)",
          "(20,10,1)",
          "(20,10,4)",
          "(10,0,2)",
          "(21,2,3)",
          "(21,3,0)",
          "(10,0,0)",
          "(21,3,4)",
          "(21,4,0)",
          "(9,4,3)",
          "(21,4,3)",
          "(9,4,1)",
          "(21,5,1)",
          "(9,1,3)",
          "(9,0,3)",
          "(8,5,3)",
          "(8,5,1)",
          "(21,7,2)",
          "(21,7,5)",
          "(21,8,3)",
          "(8,4,3)",
          "(62,18,7)"
         ],
         "xaxis": "x",
         "y": {
          "dtype": "i2",
          "bdata": "UgSWAFYAPAAxACMAGwAZABcAFgAWABQAEwATABEADwAOAAwADAAMAAwACwALAAsACwALAAsACwALAAoACgAKAAkACQAJAAkACQAJAAkACAAIAAgACAAIAAgABwAHAAcABwAHAAcABwAHAAcABwAHAAcABgAGAAYABgAGAAYABgAGAAYABgAGAAYABgAFAAUABQAFAAUABQAFAAUABQAFAAUABQAFAAUABQAFAAUABAAEAAQABAAEAAQABAAEAAQABAAEAAQABAAEAAQABAAEAAQABAAEAAQABAAEAAQABAAEAAQABAAEAAQABAAEAAQABAAEAAQABAAEAAQABAAEAAQAAwADAAMAAwADAAMAAwADAAMAAwADAAMAAwADAAMAAwADAAMAAwADAAMAAwADAAMAAwADAAMAAwADAAMAAwADAAMAAwADAAMAAwADAAMAAwADAAMAAwADAAMAAwADAAMAAwADAAMAAwADAAMAAwADAAMAAwADAAMAAwADAAMAAwADAAMAAwADAAMAAgACAAIAAgACAAIAAgACAAIAAgACAAIAAgACAAIAAgACAAIAAgACAAIAAgACAAIAAgACAAIAAgACAAIAAgACAAIAAgACAAIAAgACAAIAAgACAAIAAgACAAIAAgACAAIAAgACAAIAAgACAAIAAgACAAIAAgACAAIAAgACAAIAAgACAAIAAgACAAIAAgACAAIAAgACAAIAAgACAAIAAgACAAIAAgACAAIAAgACAAIAAgACAAIAAgACAAIAAgACAAIAAgACAAIAAgACAAIAAgACAAIAAgACAAIAAgACAAIAAgACAAIAAgACAAIAAgACAAIAAgABAAEAAQABAAEAAQABAAEAAQABAAEAAQABAAEAAQABAAEAAQABAAEAAQABAAEAAQABAAEAAQABAAEAAQABAAEAAQABAAEAAQABAAEAAQABAAEAAQABAAEAAQABAAEAAQABAAEAAQABAAEAAQABAAEAAQABAAEAAQABAAEAAQABAAEAAQABAAEAAQABAAEAAQABAAEAAQABAAEAAQABAAEAAQABAAEAAQABAAEAAQABAAEAAQABAAEAAQABAAEAAQABAAEAAQABAAEAAQABAAEAAQABAAEAAQABAAEAAQABAAEAAQABAAEAAQABAAEAAQABAAEAAQABAAEAAQABAAEAAQABAAEAAQABAAEAAQABAAEAAQABAAEAAQABAAEAAQABAAEAAQABAAEAAQABAAEAAQABAAEAAQABAAEAAQABAAEAAQABAAEAAQABAAEAAQABAAEAAQABAAEAAQABAAEAAQABAAEAAQABAAEAAQABAAEAAQABAAEAAQABAAEAAQABAAEAAQABAAEAAQABAAEAAQABAAEAAQABAAEAAQABAAEAAQABAAEAAQABAAEAAQABAAEAAQABAAEAAQABAAEAAQABAAEA"
         },
         "yaxis": "y",
         "type": "bar"
        }
       ],
       "layout": {
        "template": {
         "data": {
          "histogram2dcontour": [
           {
            "type": "histogram2dcontour",
            "colorbar": {
             "outlinewidth": 0,
             "ticks": ""
            },
            "colorscale": [
             [
              0.0,
              "#0d0887"
             ],
             [
              0.1111111111111111,
              "#46039f"
             ],
             [
              0.2222222222222222,
              "#7201a8"
             ],
             [
              0.3333333333333333,
              "#9c179e"
             ],
             [
              0.4444444444444444,
              "#bd3786"
             ],
             [
              0.5555555555555556,
              "#d8576b"
             ],
             [
              0.6666666666666666,
              "#ed7953"
             ],
             [
              0.7777777777777778,
              "#fb9f3a"
             ],
             [
              0.8888888888888888,
              "#fdca26"
             ],
             [
              1.0,
              "#f0f921"
             ]
            ]
           }
          ],
          "choropleth": [
           {
            "type": "choropleth",
            "colorbar": {
             "outlinewidth": 0,
             "ticks": ""
            }
           }
          ],
          "histogram2d": [
           {
            "type": "histogram2d",
            "colorbar": {
             "outlinewidth": 0,
             "ticks": ""
            },
            "colorscale": [
             [
              0.0,
              "#0d0887"
             ],
             [
              0.1111111111111111,
              "#46039f"
             ],
             [
              0.2222222222222222,
              "#7201a8"
             ],
             [
              0.3333333333333333,
              "#9c179e"
             ],
             [
              0.4444444444444444,
              "#bd3786"
             ],
             [
              0.5555555555555556,
              "#d8576b"
             ],
             [
              0.6666666666666666,
              "#ed7953"
             ],
             [
              0.7777777777777778,
              "#fb9f3a"
             ],
             [
              0.8888888888888888,
              "#fdca26"
             ],
             [
              1.0,
              "#f0f921"
             ]
            ]
           }
          ],
          "heatmap": [
           {
            "type": "heatmap",
            "colorbar": {
             "outlinewidth": 0,
             "ticks": ""
            },
            "colorscale": [
             [
              0.0,
              "#0d0887"
             ],
             [
              0.1111111111111111,
              "#46039f"
             ],
             [
              0.2222222222222222,
              "#7201a8"
             ],
             [
              0.3333333333333333,
              "#9c179e"
             ],
             [
              0.4444444444444444,
              "#bd3786"
             ],
             [
              0.5555555555555556,
              "#d8576b"
             ],
             [
              0.6666666666666666,
              "#ed7953"
             ],
             [
              0.7777777777777778,
              "#fb9f3a"
             ],
             [
              0.8888888888888888,
              "#fdca26"
             ],
             [
              1.0,
              "#f0f921"
             ]
            ]
           }
          ],
          "contourcarpet": [
           {
            "type": "contourcarpet",
            "colorbar": {
             "outlinewidth": 0,
             "ticks": ""
            }
           }
          ],
          "contour": [
           {
            "type": "contour",
            "colorbar": {
             "outlinewidth": 0,
             "ticks": ""
            },
            "colorscale": [
             [
              0.0,
              "#0d0887"
             ],
             [
              0.1111111111111111,
              "#46039f"
             ],
             [
              0.2222222222222222,
              "#7201a8"
             ],
             [
              0.3333333333333333,
              "#9c179e"
             ],
             [
              0.4444444444444444,
              "#bd3786"
             ],
             [
              0.5555555555555556,
              "#d8576b"
             ],
             [
              0.6666666666666666,
              "#ed7953"
             ],
             [
              0.7777777777777778,
              "#fb9f3a"
             ],
             [
              0.8888888888888888,
              "#fdca26"
             ],
             [
              1.0,
              "#f0f921"
             ]
            ]
           }
          ],
          "surface": [
           {
            "type": "surface",
            "colorbar": {
             "outlinewidth": 0,
             "ticks": ""
            },
            "colorscale": [
             [
              0.0,
              "#0d0887"
             ],
             [
              0.1111111111111111,
              "#46039f"
             ],
             [
              0.2222222222222222,
              "#7201a8"
             ],
             [
              0.3333333333333333,
              "#9c179e"
             ],
             [
              0.4444444444444444,
              "#bd3786"
             ],
             [
              0.5555555555555556,
              "#d8576b"
             ],
             [
              0.6666666666666666,
              "#ed7953"
             ],
             [
              0.7777777777777778,
              "#fb9f3a"
             ],
             [
              0.8888888888888888,
              "#fdca26"
             ],
             [
              1.0,
              "#f0f921"
             ]
            ]
           }
          ],
          "mesh3d": [
           {
            "type": "mesh3d",
            "colorbar": {
             "outlinewidth": 0,
             "ticks": ""
            }
           }
          ],
          "scatter": [
           {
            "fillpattern": {
             "fillmode": "overlay",
             "size": 10,
             "solidity": 0.2
            },
            "type": "scatter"
           }
          ],
          "parcoords": [
           {
            "type": "parcoords",
            "line": {
             "colorbar": {
              "outlinewidth": 0,
              "ticks": ""
             }
            }
           }
          ],
          "scatterpolargl": [
           {
            "type": "scatterpolargl",
            "marker": {
             "colorbar": {
              "outlinewidth": 0,
              "ticks": ""
             }
            }
           }
          ],
          "bar": [
           {
            "error_x": {
             "color": "#2a3f5f"
            },
            "error_y": {
             "color": "#2a3f5f"
            },
            "marker": {
             "line": {
              "color": "#E5ECF6",
              "width": 0.5
             },
             "pattern": {
              "fillmode": "overlay",
              "size": 10,
              "solidity": 0.2
             }
            },
            "type": "bar"
           }
          ],
          "scattergeo": [
           {
            "type": "scattergeo",
            "marker": {
             "colorbar": {
              "outlinewidth": 0,
              "ticks": ""
             }
            }
           }
          ],
          "scatterpolar": [
           {
            "type": "scatterpolar",
            "marker": {
             "colorbar": {
              "outlinewidth": 0,
              "ticks": ""
             }
            }
           }
          ],
          "histogram": [
           {
            "marker": {
             "pattern": {
              "fillmode": "overlay",
              "size": 10,
              "solidity": 0.2
             }
            },
            "type": "histogram"
           }
          ],
          "scattergl": [
           {
            "type": "scattergl",
            "marker": {
             "colorbar": {
              "outlinewidth": 0,
              "ticks": ""
             }
            }
           }
          ],
          "scatter3d": [
           {
            "type": "scatter3d",
            "line": {
             "colorbar": {
              "outlinewidth": 0,
              "ticks": ""
             }
            },
            "marker": {
             "colorbar": {
              "outlinewidth": 0,
              "ticks": ""
             }
            }
           }
          ],
          "scattermap": [
           {
            "type": "scattermap",
            "marker": {
             "colorbar": {
              "outlinewidth": 0,
              "ticks": ""
             }
            }
           }
          ],
          "scattermapbox": [
           {
            "type": "scattermapbox",
            "marker": {
             "colorbar": {
              "outlinewidth": 0,
              "ticks": ""
             }
            }
           }
          ],
          "scatterternary": [
           {
            "type": "scatterternary",
            "marker": {
             "colorbar": {
              "outlinewidth": 0,
              "ticks": ""
             }
            }
           }
          ],
          "scattercarpet": [
           {
            "type": "scattercarpet",
            "marker": {
             "colorbar": {
              "outlinewidth": 0,
              "ticks": ""
             }
            }
           }
          ],
          "carpet": [
           {
            "aaxis": {
             "endlinecolor": "#2a3f5f",
             "gridcolor": "white",
             "linecolor": "white",
             "minorgridcolor": "white",
             "startlinecolor": "#2a3f5f"
            },
            "baxis": {
             "endlinecolor": "#2a3f5f",
             "gridcolor": "white",
             "linecolor": "white",
             "minorgridcolor": "white",
             "startlinecolor": "#2a3f5f"
            },
            "type": "carpet"
           }
          ],
          "table": [
           {
            "cells": {
             "fill": {
              "color": "#EBF0F8"
             },
             "line": {
              "color": "white"
             }
            },
            "header": {
             "fill": {
              "color": "#C8D4E3"
             },
             "line": {
              "color": "white"
             }
            },
            "type": "table"
           }
          ],
          "barpolar": [
           {
            "marker": {
             "line": {
              "color": "#E5ECF6",
              "width": 0.5
             },
             "pattern": {
              "fillmode": "overlay",
              "size": 10,
              "solidity": 0.2
             }
            },
            "type": "barpolar"
           }
          ],
          "pie": [
           {
            "automargin": true,
            "type": "pie"
           }
          ]
         },
         "layout": {
          "autotypenumbers": "strict",
          "colorway": [
           "#636efa",
           "#EF553B",
           "#00cc96",
           "#ab63fa",
           "#FFA15A",
           "#19d3f3",
           "#FF6692",
           "#B6E880",
           "#FF97FF",
           "#FECB52"
          ],
          "font": {
           "color": "#2a3f5f"
          },
          "hovermode": "closest",
          "hoverlabel": {
           "align": "left"
          },
          "paper_bgcolor": "white",
          "plot_bgcolor": "#E5ECF6",
          "polar": {
           "bgcolor": "#E5ECF6",
           "angularaxis": {
            "gridcolor": "white",
            "linecolor": "white",
            "ticks": ""
           },
           "radialaxis": {
            "gridcolor": "white",
            "linecolor": "white",
            "ticks": ""
           }
          },
          "ternary": {
           "bgcolor": "#E5ECF6",
           "aaxis": {
            "gridcolor": "white",
            "linecolor": "white",
            "ticks": ""
           },
           "baxis": {
            "gridcolor": "white",
            "linecolor": "white",
            "ticks": ""
           },
           "caxis": {
            "gridcolor": "white",
            "linecolor": "white",
            "ticks": ""
           }
          },
          "coloraxis": {
           "colorbar": {
            "outlinewidth": 0,
            "ticks": ""
           }
          },
          "colorscale": {
           "sequential": [
            [
             0.0,
             "#0d0887"
            ],
            [
             0.1111111111111111,
             "#46039f"
            ],
            [
             0.2222222222222222,
             "#7201a8"
            ],
            [
             0.3333333333333333,
             "#9c179e"
            ],
            [
             0.4444444444444444,
             "#bd3786"
            ],
            [
             0.5555555555555556,
             "#d8576b"
            ],
            [
             0.6666666666666666,
             "#ed7953"
            ],
            [
             0.7777777777777778,
             "#fb9f3a"
            ],
            [
             0.8888888888888888,
             "#fdca26"
            ],
            [
             1.0,
             "#f0f921"
            ]
           ],
           "sequentialminus": [
            [
             0.0,
             "#0d0887"
            ],
            [
             0.1111111111111111,
             "#46039f"
            ],
            [
             0.2222222222222222,
             "#7201a8"
            ],
            [
             0.3333333333333333,
             "#9c179e"
            ],
            [
             0.4444444444444444,
             "#bd3786"
            ],
            [
             0.5555555555555556,
             "#d8576b"
            ],
            [
             0.6666666666666666,
             "#ed7953"
            ],
            [
             0.7777777777777778,
             "#fb9f3a"
            ],
            [
             0.8888888888888888,
             "#fdca26"
            ],
            [
             1.0,
             "#f0f921"
            ]
           ],
           "diverging": [
            [
             0,
             "#8e0152"
            ],
            [
             0.1,
             "#c51b7d"
            ],
            [
             0.2,
             "#de77ae"
            ],
            [
             0.3,
             "#f1b6da"
            ],
            [
             0.4,
             "#fde0ef"
            ],
            [
             0.5,
             "#f7f7f7"
            ],
            [
             0.6,
             "#e6f5d0"
            ],
            [
             0.7,
             "#b8e186"
            ],
            [
             0.8,
             "#7fbc41"
            ],
            [
             0.9,
             "#4d9221"
            ],
            [
             1,
             "#276419"
            ]
           ]
          },
          "xaxis": {
           "gridcolor": "white",
           "linecolor": "white",
           "ticks": "",
           "title": {
            "standoff": 15
           },
           "zerolinecolor": "white",
           "automargin": true,
           "zerolinewidth": 2
          },
          "yaxis": {
           "gridcolor": "white",
           "linecolor": "white",
           "ticks": "",
           "title": {
            "standoff": 15
           },
           "zerolinecolor": "white",
           "automargin": true,
           "zerolinewidth": 2
          },
          "scene": {
           "xaxis": {
            "backgroundcolor": "#E5ECF6",
            "gridcolor": "white",
            "linecolor": "white",
            "showbackground": true,
            "ticks": "",
            "zerolinecolor": "white",
            "gridwidth": 2
           },
           "yaxis": {
            "backgroundcolor": "#E5ECF6",
            "gridcolor": "white",
            "linecolor": "white",
            "showbackground": true,
            "ticks": "",
            "zerolinecolor": "white",
            "gridwidth": 2
           },
           "zaxis": {
            "backgroundcolor": "#E5ECF6",
            "gridcolor": "white",
            "linecolor": "white",
            "showbackground": true,
            "ticks": "",
            "zerolinecolor": "white",
            "gridwidth": 2
           }
          },
          "shapedefaults": {
           "line": {
            "color": "#2a3f5f"
           }
          },
          "annotationdefaults": {
           "arrowcolor": "#2a3f5f",
           "arrowhead": 0,
           "arrowwidth": 1
          },
          "geo": {
           "bgcolor": "white",
           "landcolor": "#E5ECF6",
           "subunitcolor": "white",
           "showland": true,
           "showlakes": true,
           "lakecolor": "white"
          },
          "title": {
           "x": 0.05
          },
          "mapbox": {
           "style": "light"
          }
         }
        },
        "xaxis": {
         "anchor": "y",
         "domain": [
          0.0,
          1.0
         ],
         "title": {
          "text": "Vector"
         }
        },
        "yaxis": {
         "anchor": "x",
         "domain": [
          0.0,
          1.0
         ],
         "title": {
          "text": "Count"
         },
         "type": "log"
        },
        "legend": {
         "tracegroupgap": 0
        },
        "title": {
         "text": "12-Month WOMAC Median Vectors (Right Knee)"
        },
        "barmode": "relative"
       },
       "config": {
        "plotlyServerURL": "https://plot.ly"
       }
      }
     },
     "metadata": {},
     "output_type": "display_data"
    }
   ],
   "execution_count": 7
  },
  {
   "metadata": {},
   "cell_type": "markdown",
   "source": "## 12-24-Month Change WOMAC Distrbiution on Median Dataset",
   "id": "cc40209364a093e1"
  },
  {
   "metadata": {
    "ExecuteTime": {
     "end_time": "2025-08-19T22:08:22.147242Z",
     "start_time": "2025-08-19T22:08:22.101442Z"
    }
   },
   "cell_type": "code",
   "source": [
    "from scripts.womac.womac_distribution import womac_median_vectors_left_change, womac_median_vectors_right_change\n",
    "\n",
    "display(womac_median_vectors_left_change)\n",
    "womac_median_vectors_left_change_chart = px.bar(womac_median_vectors_left_change,x='Vector',y='Count',log_y=True)\n",
    "display(womac_median_vectors_left_change_chart)\n",
    "\n",
    "display(womac_median_vectors_right_change)\n",
    "womac_median_vectors_right_change_chart = px.bar(womac_median_vectors_right_change,x='Vector',y='Count',log_y=True)\n",
    "display(womac_median_vectors_right_change_chart)"
   ],
   "id": "eee8b08065f36561",
   "outputs": [
    {
     "data": {
      "text/plain": [
       "     ΔWOMADLL  ΔWOMKPL  ΔWOMSTFL  Count      Vector\n",
       "409        38       13         5    662   (38,13,5)\n",
       "408        38       13         4     63   (38,13,4)\n",
       "410        38       13         6     56   (38,13,6)\n",
       "372        37       13         5     49   (37,13,5)\n",
       "441        39       13         5     44   (39,13,5)\n",
       "..        ...      ...       ...    ...         ...\n",
       "332        36       10         3      1   (36,10,3)\n",
       "331        36       10         2      1   (36,10,2)\n",
       "328        36        6         4      1    (36,6,4)\n",
       "327        36        6         3      1    (36,6,3)\n",
       "799        92       31        12      1  (92,31,12)\n",
       "\n",
       "[800 rows x 5 columns]"
      ],
      "text/html": [
       "<div>\n",
       "<style scoped>\n",
       "    .dataframe tbody tr th:only-of-type {\n",
       "        vertical-align: middle;\n",
       "    }\n",
       "\n",
       "    .dataframe tbody tr th {\n",
       "        vertical-align: top;\n",
       "    }\n",
       "\n",
       "    .dataframe thead th {\n",
       "        text-align: right;\n",
       "    }\n",
       "</style>\n",
       "<table border=\"1\" class=\"dataframe\">\n",
       "  <thead>\n",
       "    <tr style=\"text-align: right;\">\n",
       "      <th></th>\n",
       "      <th>ΔWOMADLL</th>\n",
       "      <th>ΔWOMKPL</th>\n",
       "      <th>ΔWOMSTFL</th>\n",
       "      <th>Count</th>\n",
       "      <th>Vector</th>\n",
       "    </tr>\n",
       "  </thead>\n",
       "  <tbody>\n",
       "    <tr>\n",
       "      <th>409</th>\n",
       "      <td>38</td>\n",
       "      <td>13</td>\n",
       "      <td>5</td>\n",
       "      <td>662</td>\n",
       "      <td>(38,13,5)</td>\n",
       "    </tr>\n",
       "    <tr>\n",
       "      <th>408</th>\n",
       "      <td>38</td>\n",
       "      <td>13</td>\n",
       "      <td>4</td>\n",
       "      <td>63</td>\n",
       "      <td>(38,13,4)</td>\n",
       "    </tr>\n",
       "    <tr>\n",
       "      <th>410</th>\n",
       "      <td>38</td>\n",
       "      <td>13</td>\n",
       "      <td>6</td>\n",
       "      <td>56</td>\n",
       "      <td>(38,13,6)</td>\n",
       "    </tr>\n",
       "    <tr>\n",
       "      <th>372</th>\n",
       "      <td>37</td>\n",
       "      <td>13</td>\n",
       "      <td>5</td>\n",
       "      <td>49</td>\n",
       "      <td>(37,13,5)</td>\n",
       "    </tr>\n",
       "    <tr>\n",
       "      <th>441</th>\n",
       "      <td>39</td>\n",
       "      <td>13</td>\n",
       "      <td>5</td>\n",
       "      <td>44</td>\n",
       "      <td>(39,13,5)</td>\n",
       "    </tr>\n",
       "    <tr>\n",
       "      <th>...</th>\n",
       "      <td>...</td>\n",
       "      <td>...</td>\n",
       "      <td>...</td>\n",
       "      <td>...</td>\n",
       "      <td>...</td>\n",
       "    </tr>\n",
       "    <tr>\n",
       "      <th>332</th>\n",
       "      <td>36</td>\n",
       "      <td>10</td>\n",
       "      <td>3</td>\n",
       "      <td>1</td>\n",
       "      <td>(36,10,3)</td>\n",
       "    </tr>\n",
       "    <tr>\n",
       "      <th>331</th>\n",
       "      <td>36</td>\n",
       "      <td>10</td>\n",
       "      <td>2</td>\n",
       "      <td>1</td>\n",
       "      <td>(36,10,2)</td>\n",
       "    </tr>\n",
       "    <tr>\n",
       "      <th>328</th>\n",
       "      <td>36</td>\n",
       "      <td>6</td>\n",
       "      <td>4</td>\n",
       "      <td>1</td>\n",
       "      <td>(36,6,4)</td>\n",
       "    </tr>\n",
       "    <tr>\n",
       "      <th>327</th>\n",
       "      <td>36</td>\n",
       "      <td>6</td>\n",
       "      <td>3</td>\n",
       "      <td>1</td>\n",
       "      <td>(36,6,3)</td>\n",
       "    </tr>\n",
       "    <tr>\n",
       "      <th>799</th>\n",
       "      <td>92</td>\n",
       "      <td>31</td>\n",
       "      <td>12</td>\n",
       "      <td>1</td>\n",
       "      <td>(92,31,12)</td>\n",
       "    </tr>\n",
       "  </tbody>\n",
       "</table>\n",
       "<p>800 rows × 5 columns</p>\n",
       "</div>"
      ]
     },
     "metadata": {},
     "output_type": "display_data"
    },
    {
     "data": {
      "application/vnd.plotly.v1+json": {
       "data": [
        {
         "hovertemplate": "Vector=%{x}<br>Count=%{y}<extra></extra>",
         "legendgroup": "",
         "marker": {
          "color": "#636efa",
          "pattern": {
           "shape": ""
          }
         },
         "name": "",
         "orientation": "v",
         "showlegend": false,
         "textposition": "auto",
         "x": [
          "(38,13,5)",
          "(38,13,4)",
          "(38,13,6)",
          "(37,13,5)",
          "(39,13,5)",
          "(40,14,6)",
          "(41,13,5)",
          "(38,12,5)",
          "(36,13,5)",
          "(38,13,3)",
          "(40,14,5)",
          "(38,14,5)",
          "(37,12,5)",
          "(37,13,4)",
          "(39,14,5)",
          "(40,13,5)",
          "(37,14,5)",
          "(37,12,4)",
          "(35,13,5)",
          "(38,13,7)",
          "(36,12,5)",
          "(39,13,6)",
          "(38,12,6)",
          "(36,13,6)",
          "(36,14,5)",
          "(42,14,5)",
          "(36,13,4)",
          "(34,13,3)",
          "(33,12,3)",
          "(42,13,5)",
          "(41,14,5)",
          "(43,13,5)",
          "(38,12,4)",
          "(33,13,5)",
          "(35,12,4)",
          "(40,13,6)",
          "(42,12,5)",
          "(37,13,3)",
          "(58,17,7)",
          "(38,11,5)",
          "(33,10,3)",
          "(37,12,6)",
          "(40,12,5)",
          "(42,14,6)",
          "(40,15,5)",
          "(35,12,3)",
          "(43,14,6)",
          "(39,13,7)",
          "(34,11,4)",
          "(33,13,4)",
          "(33,12,5)",
          "(36,11,5)",
          "(35,12,5)",
          "(37,15,5)",
          "(34,13,5)",
          "(35,14,5)",
          "(45,15,5)",
          "(34,13,4)",
          "(39,13,4)",
          "(49,21,9)",
          "(53,17,6)",
          "(30,11,3)",
          "(36,12,6)",
          "(20,9,3)",
          "(38,10,4)",
          "(37,13,6)",
          "(35,12,6)",
          "(35,13,4)",
          "(46,13,6)",
          "(44,14,7)",
          "(38,15,5)",
          "(40,13,4)",
          "(42,13,6)",
          "(52,19,1)",
          "(39,15,5)",
          "(34,11,5)",
          "(36,13,3)",
          "(45,13,6)",
          "(37,14,4)",
          "(37,11,6)",
          "(37,12,3)",
          "(42,17,5)",
          "(32,11,5)",
          "(39,11,5)",
          "(61,23,7)",
          "(47,17,6)",
          "(38,14,6)",
          "(47,15,6)",
          "(46,15,5)",
          "(52,21,5)",
          "(44,15,6)",
          "(38,13,2)",
          "(41,14,7)",
          "(36,11,3)",
          "(36,13,7)",
          "(36,11,4)",
          "(45,14,5)",
          "(29,7,2)",
          "(38,15,6)",
          "(31,11,2)",
          "(36,12,4)",
          "(43,15,5)",
          "(43,16,4)",
          "(27,14,3)",
          "(39,14,3)",
          "(34,14,5)",
          "(54,16,6)",
          "(47,18,9)",
          "(32,12,4)",
          "(32,11,4)",
          "(53,16,5)",
          "(39,15,4)",
          "(32,12,5)",
          "(29,16,7)",
          "(52,14,6)",
          "(38,14,7)",
          "(29,9,3)",
          "(31,10,3)",
          "(31,12,3)",
          "(31,12,4)",
          "(39,14,6)",
          "(28,10,5)",
          "(31,12,5)",
          "(28,10,3)",
          "(38,10,5)",
          "(39,14,4)",
          "(31,13,5)",
          "(26,10,3)",
          "(39,11,6)",
          "(18,9,4)",
          "(42,15,7)",
          "(41,15,5)",
          "(58,22,8)",
          "(42,11,5)",
          "(26,8,3)",
          "(49,15,8)",
          "(42,13,2)",
          "(42,15,6)",
          "(62,23,6)",
          "(44,16,6)",
          "(21,8,3)",
          "(13,6,2)",
          "(43,13,7)",
          "(49,15,6)",
          "(35,11,5)",
          "(43,14,5)",
          "(11,4,5)",
          "(35,13,7)",
          "(44,12,5)",
          "(21,6,4)",
          "(51,18,7)",
          "(46,13,7)",
          "(41,13,6)",
          "(45,16,5)",
          "(33,12,4)",
          "(40,14,7)",
          "(46,15,6)",
          "(40,16,7)",
          "(40,16,4)",
          "(37,16,6)",
          "(30,14,2)",
          "(32,9,3)",
          "(47,19,8)",
          "(51,17,6)",
          "(50,17,7)",
          "(37,13,7)",
          "(37,11,4)",
          "(35,13,6)",
          "(34,14,2)",
          "(51,17,9)",
          "(37,14,3)",
          "(35,14,4)",
          "(37,14,6)",
          "(36,9,3)",
          "(49,12,3)",
          "(35,16,4)",
          "(34,14,4)",
          "(33,9,2)",
          "(34,13,6)",
          "(38,11,4)",
          "(33,14,3)",
          "(48,16,5)",
          "(36,15,5)",
          "(36,14,4)",
          "(37,11,5)",
          "(34,7,2)",
          "(30,9,3)",
          "(31,11,4)",
          "(30,14,5)",
          "(34,12,3)",
          "(34,12,4)",
          "(34,12,5)",
          "(34,12,6)",
          "(33,9,4)",
          "(31,19,6)",
          "(33,13,6)",
          "(32,12,6)",
          "(44,14,5)",
          "(38,13,9)",
          "(19,10,3)",
          "(58,21,5)",
          "(45,15,6)",
          "(20,13,4)",
          "(41,14,4)",
          "(21,14,2)",
          "(41,13,4)",
          "(38,14,3)",
          "(23,9,5)",
          "(23,10,3)",
          "(23,10,5)",
          "(45,17,8)",
          "(24,11,3)",
          "(24,11,4)",
          "(55,18,7)",
          "(55,18,5)",
          "(55,16,5)",
          "(54,23,11)",
          "(20,7,3)",
          "(19,9,2)",
          "(54,18,8)",
          "(42,12,4)",
          "(44,13,5)",
          "(84,24,10)",
          "(3,3,0)",
          "(44,15,3)",
          "(6,6,3)",
          "(43,18,7)",
          "(43,16,5)",
          "(11,7,1)",
          "(44,16,5)",
          "(43,13,6)",
          "(65,23,8)",
          "(15,6,1)",
          "(16,5,1)",
          "(16,11,3)",
          "(42,14,4)",
          "(45,13,5)",
          "(42,12,6)",
          "(40,13,7)",
          "(41,12,5)",
          "(35,17,5)",
          "(29,10,5)",
          "(28,13,5)",
          "(54,17,7)",
          "(29,8,2)",
          "(28,11,2)",
          "(39,12,5)",
          "(29,8,3)",
          "(27,12,4)",
          "(28,12,5)",
          "(27,11,5)",
          "(27,8,3)",
          "(26,16,4)",
          "(29,10,3)",
          "(53,18,7)",
          "(26,11,4)",
          "(38,14,4)",
          "(38,15,4)",
          "(52,14,4)",
          "(40,12,6)",
          "(54,15,6)",
          "(38,16,5)",
          "(47,14,6)",
          "(47,12,4)",
          "(42,15,5)",
          "(42,13,7)",
          "(47,12,7)",
          "(44,13,7)",
          "(42,16,3)",
          "(45,12,7)",
          "(44,17,8)",
          "(42,17,7)",
          "(43,13,4)",
          "(36,11,2)",
          "(43,17,5)",
          "(38,17,5)",
          "(48,17,7)",
          "(43,13,8)",
          "(38,16,6)",
          "(47,13,8)",
          "(38,12,7)",
          "(43,14,4)",
          "(44,15,7)",
          "(48,18,5)",
          "(43,19,7)",
          "(43,15,6)",
          "(44,15,4)",
          "(43,15,8)",
          "(39,8,4)",
          "(40,12,8)",
          "(42,12,3)",
          "(45,16,4)",
          "(39,16,7)",
          "(39,17,5)",
          "(41,10,3)",
          "(46,13,5)",
          "(40,16,5)",
          "(39,25,10)",
          "(47,20,5)",
          "(46,14,6)",
          "(46,15,4)",
          "(40,12,4)",
          "(40,14,3)",
          "(37,15,4)",
          "(40,13,3)",
          "(37,14,7)",
          "(48,13,6)",
          "(41,12,6)",
          "(48,14,5)",
          "(36,12,7)",
          "(41,14,3)",
          "(36,13,2)",
          "(39,10,6)",
          "(42,11,6)",
          "(45,13,7)",
          "(47,16,5)",
          "(41,18,5)",
          "(36,14,3)",
          "(41,16,5)",
          "(36,8,4)",
          "(36,14,6)",
          "(45,15,7)",
          "(41,14,6)",
          "(37,9,7)",
          "(37,10,3)",
          "(39,13,3)",
          "(39,11,4)",
          "(38,12,2)",
          "(27,9,4)",
          "(28,12,3)",
          "(28,10,4)",
          "(53,16,7)",
          "(28,9,4)",
          "(28,9,3)",
          "(27,13,3)",
          "(27,11,6)",
          "(48,23,5)",
          "(26,12,4)",
          "(26,11,3)",
          "(54,16,7)",
          "(25,13,2)",
          "(54,19,6)",
          "(25,11,2)",
          "(25,9,4)",
          "(55,16,8)",
          "(28,11,4)",
          "(28,17,3)",
          "(51,15,6)",
          "(52,20,9)",
          "(51,17,5)",
          "(30,13,3)",
          "(30,12,6)",
          "(51,17,7)",
          "(30,10,6)",
          "(30,10,3)",
          "(30,8,6)",
          "(52,13,6)",
          "(29,19,5)",
          "(29,13,3)",
          "(52,15,7)",
          "(29,12,5)",
          "(29,12,4)",
          "(29,11,3)",
          "(29,9,5)",
          "(25,7,3)",
          "(55,20,6)",
          "(25,3,1)",
          "(24,16,5)",
          "(15,13,0)",
          "(14,5,4)",
          "(64,20,9)",
          "(13,18,4)",
          "(13,2,1)",
          "(12,8,3)",
          "(12,7,1)",
          "(12,2,1)",
          "(11,10,3)",
          "(11,5,3)",
          "(11,5,2)",
          "(10,3,0)",
          "(7,8,3)",
          "(75,23,7)",
          "(0,6,1)",
          "(62,22,10)",
          "(16,7,0)",
          "(17,4,2)",
          "(20,12,1)",
          "(24,8,4)",
          "(23,13,3)",
          "(57,19,7)",
          "(21,8,4)",
          "(21,6,3)",
          "(21,5,3)",
          "(20,11,6)",
          "(61,21,8)",
          "(20,11,3)",
          "(59,18,6)",
          "(20,3,4)",
          "(19,10,2)",
          "(59,24,6)",
          "(19,8,4)",
          "(30,15,5)",
          "(34,10,5)",
          "(33,13,3)",
          "(33,9,5)",
          "(34,15,4)",
          "(34,14,7)",
          "(32,13,3)",
          "(32,13,4)",
          "(32,13,5)",
          "(34,11,3)",
          "(32,14,4)",
          "(34,11,1)",
          "(44,14,6)",
          "(34,10,4)",
          "(33,9,1)",
          "(34,8,2)",
          "(35,10,3)",
          "(50,14,7)",
          "(49,16,7)",
          "(33,10,6)",
          "(33,11,4)",
          "(50,14,5)",
          "(33,12,2)",
          "(33,15,6)",
          "(33,12,6)",
          "(33,15,3)",
          "(33,14,4)",
          "(33,14,2)",
          "(32,12,2)",
          "(32,15,5)",
          "(35,10,5)",
          "(49,14,5)",
          "(50,19,7)",
          "(31,11,5)",
          "(35,13,3)",
          "(50,18,8)",
          "(31,14,5)",
          "(74,24,10)",
          "(49,18,8)",
          "(60,17,5)",
          "(60,19,8)",
          "(83,21,9)",
          "(48,16,6)",
          "(84,13,7)",
          "(60,20,9)",
          "(61,12,5)",
          "(59,22,7)",
          "(44,14,9)",
          "(59,18,8)",
          "(45,13,4)",
          "(49,19,8)",
          "(45,14,6)",
          "(45,14,7)",
          "(58,21,8)",
          "(87,13,5)",
          "(49,22,7)",
          "(87,27,12)",
          "(58,19,5)",
          "(48,15,5)",
          "(49,13,5)",
          "(50,13,7)",
          "(58,18,7)",
          "(61,12,7)",
          "(61,20,8)",
          "(48,17,6)",
          "(73,14,7)",
          "(48,16,9)",
          "(49,15,4)",
          "(49,14,9)",
          "(65,18,9)",
          "(66,21,9)",
          "(44,17,4)",
          "(67,16,6)",
          "(68,24,9)",
          "(44,17,5)",
          "(44,17,7)",
          "(49,15,7)",
          "(69,23,9)",
          "(69,26,9)",
          "(64,19,7)",
          "(44,18,5)",
          "(58,17,4)",
          "(45,12,5)",
          "(63,18,5)",
          "(63,17,6)",
          "(63,14,6)",
          "(71,20,9)",
          "(71,23,9)",
          "(62,19,9)",
          "(49,16,6)",
          "(62,16,8)",
          "(48,17,9)",
          "(44,15,5)",
          "(58,17,6)",
          "(47,14,4)",
          "(58,15,5)",
          "(47,13,6)",
          "(50,16,7)",
          "(50,16,6)",
          "(52,23,7)",
          "(47,8,7)",
          "(53,14,5)",
          "(47,6,7)",
          "(53,15,7)",
          "(50,16,3)",
          "(46,20,9)",
          "(48,13,5)",
          "(53,17,5)",
          "(53,17,7)",
          "(50,15,7)",
          "(53,18,6)",
          "(53,19,5)",
          "(47,13,2)",
          "(50,18,5)",
          "(57,20,5)",
          "(47,13,7)",
          "(51,14,8)",
          "(51,14,6)",
          "(51,14,3)",
          "(50,22,6)",
          "(51,18,5)",
          "(51,19,4)",
          "(50,19,6)",
          "(51,23,5)",
          "(47,17,7)",
          "(47,18,3)",
          "(47,18,7)",
          "(47,19,6)",
          "(52,16,5)",
          "(47,19,7)",
          "(52,17,7)",
          "(53,19,8)",
          "(46,18,7)",
          "(46,17,9)",
          "(53,23,5)",
          "(46,13,8)",
          "(56,13,6)",
          "(56,17,6)",
          "(56,17,7)",
          "(56,18,2)",
          "(56,18,6)",
          "(46,12,7)",
          "(51,16,5)",
          "(46,12,5)",
          "(46,11,4)",
          "(56,20,9)",
          "(56,21,7)",
          "(57,16,8)",
          "(48,14,6)",
          "(57,19,8)",
          "(55,21,7)",
          "(50,14,6)",
          "(55,17,5)",
          "(50,15,6)",
          "(54,13,7)",
          "(46,17,7)",
          "(54,14,6)",
          "(46,16,8)",
          "(46,16,5)",
          "(46,16,4)",
          "(54,18,5)",
          "(55,16,7)",
          "(50,15,5)",
          "(50,14,8)",
          "(54,20,5)",
          "(48,14,2)",
          "(54,21,7)",
          "(46,15,8)",
          "(48,20,6)",
          "(-1,9,4)",
          "(44,13,6)",
          "(28,7,4)",
          "(27,12,3)",
          "(27,11,4)",
          "(27,10,4)",
          "(27,4,1)",
          "(26,13,6)",
          "(26,12,5)",
          "(26,12,3)",
          "(26,12,2)",
          "(26,10,6)",
          "(26,10,5)",
          "(26,9,4)",
          "(26,8,5)",
          "(25,12,3)",
          "(25,11,4)",
          "(25,11,1)",
          "(25,10,1)",
          "(25,9,6)",
          "(25,9,3)",
          "(25,8,7)",
          "(25,7,4)",
          "(25,6,4)",
          "(25,5,3)",
          "(25,3,2)",
          "(24,13,2)",
          "(24,12,1)",
          "(27,12,5)",
          "(28,9,1)",
          "(31,10,5)",
          "(28,9,2)",
          "(31,8,2)",
          "(31,7,4)",
          "(30,14,3)",
          "(30,13,4)",
          "(30,12,3)",
          "(30,11,5)",
          "(30,11,2)",
          "(30,9,4)",
          "(30,9,2)",
          "(30,9,1)",
          "(30,8,3)",
          "(30,4,2)",
          "(29,14,4)",
          "(29,13,6)",
          "(29,12,7)",
          "(29,11,4)",
          "(29,10,1)",
          "(29,8,5)",
          "(29,7,4)",
          "(29,4,4)",
          "(28,13,4)",
          "(28,12,4)",
          "(28,12,1)",
          "(28,11,3)",
          "(28,10,1)",
          "(24,11,0)",
          "(24,9,2)",
          "(24,8,3)",
          "(24,7,5)",
          "(16,8,3)",
          "(16,6,0)",
          "(15,10,3)",
          "(15,4,3)",
          "(14,11,4)",
          "(14,8,3)",
          "(14,7,1)",
          "(14,4,2)",
          "(13,5,1)",
          "(12,12,6)",
          "(11,4,3)",
          "(11,2,3)",
          "(10,7,4)",
          "(9,9,3)",
          "(9,3,2)",
          "(9,1,1)",
          "(8,5,2)",
          "(7,3,5)",
          "(5,1,2)",
          "(4,3,2)",
          "(4,2,2)",
          "(3,8,3)",
          "(3,2,2)",
          "(3,1,1)",
          "(1,2,1)",
          "(17,5,3)",
          "(17,9,4)",
          "(17,11,1)",
          "(20,13,1)",
          "(23,11,4)",
          "(23,9,2)",
          "(23,8,5)",
          "(23,7,3)",
          "(22,12,3)",
          "(22,6,5)",
          "(22,6,0)",
          "(21,17,3)",
          "(21,13,4)",
          "(21,9,5)",
          "(21,9,0)",
          "(20,11,1)",
          "(17,16,3)",
          "(20,10,5)",
          "(20,9,2)",
          "(20,8,3)",
          "(19,10,4)",
          "(19,10,0)",
          "(19,9,3)",
          "(19,9,1)",
          "(18,10,4)",
          "(18,8,5)",
          "(18,6,3)",
          "(18,5,2)",
          "(31,9,3)",
          "(31,11,7)",
          "(44,13,4)",
          "(41,11,6)",
          "(41,8,5)",
          "(41,8,2)",
          "(41,7,5)",
          "(40,16,6)",
          "(40,16,3)",
          "(40,15,6)",
          "(40,15,4)",
          "(40,14,8)",
          "(40,14,4)",
          "(40,13,8)",
          "(40,11,4)",
          "(40,10,5)",
          "(40,10,4)",
          "(39,18,7)",
          "(39,16,3)",
          "(39,15,6)",
          "(39,12,4)",
          "(39,11,3)",
          "(39,10,4)",
          "(39,7,5)",
          "(39,6,4)",
          "(38,18,6)",
          "(38,17,9)",
          "(38,16,7)",
          "(38,15,7)",
          "(41,11,5)",
          "(41,11,7)",
          "(31,13,0)",
          "(41,12,7)",
          "(44,10,8)",
          "(43,19,5)",
          "(43,17,6)",
          "(43,16,6)",
          "(43,14,7)",
          "(43,13,9)",
          "(43,12,5)",
          "(43,11,6)",
          "(43,11,5)",
          "(42,18,5)",
          "(42,17,6)",
          "(42,17,3)",
          "(42,16,6)",
          "(42,16,5)",
          "(42,13,4)",
          "(42,13,3)",
          "(42,11,7)",
          "(42,11,3)",
          "(41,18,6)",
          "(41,17,6)",
          "(41,17,5)",
          "(41,15,7)",
          "(41,15,6)",
          "(41,14,8)",
          "(41,13,9)",
          "(38,12,3)",
          "(0,0,3)",
          "(38,11,6)",
          "(38,10,9)",
          "(35,11,4)",
          "(35,11,3)",
          "(34,13,1)",
          "(34,12,2)",
          "(34,9,2)",
          "(33,19,6)",
          "(33,18,5)",
          "(33,15,5)",
          "(33,14,6)",
          "(33,14,5)",
          "(33,13,7)",
          "(33,11,8)",
          "(33,11,6)",
          "(33,10,5)",
          "(33,10,4)",
          "(33,10,2)",
          "(33,8,4)",
          "(32,13,7)",
          "(32,12,3)",
          "(32,11,6)",
          "(32,10,5)",
          "(32,10,4)",
          "(32,9,5)",
          "(32,6,7)",
          "(31,13,4)",
          "(35,11,6)",
          "(35,14,3)",
          "(35,15,3)",
          "(37,13,2)",
          "(38,10,3)",
          "(38,9,6)",
          "(38,9,5)",
          "(38,9,3)",
          "(38,9,1)",
          "(38,8,5)",
          "(38,3,2)",
          "(37,19,6)",
          "(37,17,4)",
          "(37,15,3)",
          "(37,15,2)",
          "(37,10,7)",
          "(35,15,4)",
          "(37,10,5)",
          "(37,7,5)",
          "(36,16,5)",
          "(36,13,8)",
          "(36,12,3)",
          "(36,12,2)",
          "(36,11,8)",
          "(36,10,3)",
          "(36,10,2)",
          "(36,6,4)",
          "(36,6,3)",
          "(92,31,12)"
         ],
         "xaxis": "x",
         "y": {
          "dtype": "i2",
          "bdata": "lgI/ADgAMQAsACoAJAAhAB0AFwAXABcAFgAUABMAEwASABIAEAAQAA8ADQANAA0ADAAMAAwACwALAAsACgAKAAoACgAKAAoACQAJAAgACAAIAAgACAAIAAgACAAIAAcABwAHAAcABwAHAAcABwAHAAcABwAGAAYABgAGAAYABgAGAAYABgAGAAYABgAGAAYABgAGAAYABgAGAAYABgAFAAUABQAFAAUABQAFAAUABQAFAAUABQAFAAUABQAFAAUABQAFAAUABQAFAAUABQAFAAUABQAEAAQABAAEAAQABAAEAAQABAAEAAQABAAEAAQABAAEAAQABAAEAAQABAAEAAQABAAEAAQABAAEAAQABAAEAAQABAAEAAQABAAEAAQABAAEAAQABAAEAAQABAAEAAQABAAEAAQABAAEAAQAAwADAAMAAwADAAMAAwADAAMAAwADAAMAAwADAAMAAwADAAMAAwADAAMAAwADAAMAAwADAAMAAwADAAMAAwADAAMAAwADAAMAAwADAAMAAwADAAMAAwADAAMAAwADAAMAAwADAAMAAwADAAMAAwADAAMAAwADAAMAAwADAAMAAwADAAMAAwADAAMAAwADAAMAAwADAAMAAwADAAMAAwADAAMAAwADAAMAAwADAAMAAwADAAMAAwADAAMAAwADAAMAAwADAAMAAwADAAMAAwACAAIAAgACAAIAAgACAAIAAgACAAIAAgACAAIAAgACAAIAAgACAAIAAgACAAIAAgACAAIAAgACAAIAAgACAAIAAgACAAIAAgACAAIAAgACAAIAAgACAAIAAgACAAIAAgACAAIAAgACAAIAAgACAAIAAgACAAIAAgACAAIAAgACAAIAAgACAAIAAgACAAIAAgACAAIAAgACAAIAAgACAAIAAgACAAIAAgACAAIAAgACAAIAAgACAAIAAgACAAIAAgACAAIAAgACAAIAAgACAAIAAgACAAIAAgACAAIAAgACAAIAAgACAAIAAgACAAIAAgACAAIAAgACAAIAAgACAAIAAgACAAIAAgACAAIAAgACAAIAAgACAAIAAgACAAIAAgACAAIAAgACAAIAAgACAAIAAgACAAIAAgACAAIAAgACAAIAAgACAAIAAgACAAIAAgACAAIAAgACAAIAAgACAAIAAQABAAEAAQABAAEAAQABAAEAAQABAAEAAQABAAEAAQABAAEAAQABAAEAAQABAAEAAQABAAEAAQABAAEAAQABAAEAAQABAAEAAQABAAEAAQABAAEAAQABAAEAAQABAAEAAQABAAEAAQABAAEAAQABAAEAAQABAAEAAQABAAEAAQABAAEAAQABAAEAAQABAAEAAQABAAEAAQABAAEAAQABAAEAAQABAAEAAQABAAEAAQABAAEAAQABAAEAAQABAAEAAQABAAEAAQABAAEAAQABAAEAAQABAAEAAQABAAEAAQABAAEAAQABAAEAAQABAAEAAQABAAEAAQABAAEAAQABAAEAAQABAAEAAQABAAEAAQABAAEAAQABAAEAAQABAAEAAQABAAEAAQABAAEAAQABAAEAAQABAAEAAQABAAEAAQABAAEAAQABAAEAAQABAAEAAQABAAEAAQABAAEAAQABAAEAAQABAAEAAQABAAEAAQABAAEAAQABAAEAAQABAAEAAQABAAEAAQABAAEAAQABAAEAAQABAAEAAQABAAEAAQABAAEAAQABAAEAAQABAAEAAQABAAEAAQABAAEAAQABAAEAAQABAAEAAQABAAEAAQABAAEAAQABAAEAAQABAAEAAQABAAEAAQABAAEAAQABAAEAAQABAAEAAQABAAEAAQABAAEAAQABAAEAAQABAAEAAQABAAEAAQABAAEAAQABAAEAAQABAAEAAQABAAEAAQABAAEAAQABAAEAAQABAAEAAQABAAEAAQABAAEAAQABAAEAAQABAAEAAQABAAEAAQABAAEAAQABAAEAAQABAAEAAQABAAEAAQABAAEAAQABAAEAAQABAAEAAQABAAEAAQABAAEAAQABAAEAAQABAAEAAQABAAEAAQABAAEAAQABAAEAAQABAAEAAQABAAEAAQABAAEAAQABAAEAAQABAAEAAQABAA=="
         },
         "yaxis": "y",
         "type": "bar"
        }
       ],
       "layout": {
        "template": {
         "data": {
          "histogram2dcontour": [
           {
            "type": "histogram2dcontour",
            "colorbar": {
             "outlinewidth": 0,
             "ticks": ""
            },
            "colorscale": [
             [
              0.0,
              "#0d0887"
             ],
             [
              0.1111111111111111,
              "#46039f"
             ],
             [
              0.2222222222222222,
              "#7201a8"
             ],
             [
              0.3333333333333333,
              "#9c179e"
             ],
             [
              0.4444444444444444,
              "#bd3786"
             ],
             [
              0.5555555555555556,
              "#d8576b"
             ],
             [
              0.6666666666666666,
              "#ed7953"
             ],
             [
              0.7777777777777778,
              "#fb9f3a"
             ],
             [
              0.8888888888888888,
              "#fdca26"
             ],
             [
              1.0,
              "#f0f921"
             ]
            ]
           }
          ],
          "choropleth": [
           {
            "type": "choropleth",
            "colorbar": {
             "outlinewidth": 0,
             "ticks": ""
            }
           }
          ],
          "histogram2d": [
           {
            "type": "histogram2d",
            "colorbar": {
             "outlinewidth": 0,
             "ticks": ""
            },
            "colorscale": [
             [
              0.0,
              "#0d0887"
             ],
             [
              0.1111111111111111,
              "#46039f"
             ],
             [
              0.2222222222222222,
              "#7201a8"
             ],
             [
              0.3333333333333333,
              "#9c179e"
             ],
             [
              0.4444444444444444,
              "#bd3786"
             ],
             [
              0.5555555555555556,
              "#d8576b"
             ],
             [
              0.6666666666666666,
              "#ed7953"
             ],
             [
              0.7777777777777778,
              "#fb9f3a"
             ],
             [
              0.8888888888888888,
              "#fdca26"
             ],
             [
              1.0,
              "#f0f921"
             ]
            ]
           }
          ],
          "heatmap": [
           {
            "type": "heatmap",
            "colorbar": {
             "outlinewidth": 0,
             "ticks": ""
            },
            "colorscale": [
             [
              0.0,
              "#0d0887"
             ],
             [
              0.1111111111111111,
              "#46039f"
             ],
             [
              0.2222222222222222,
              "#7201a8"
             ],
             [
              0.3333333333333333,
              "#9c179e"
             ],
             [
              0.4444444444444444,
              "#bd3786"
             ],
             [
              0.5555555555555556,
              "#d8576b"
             ],
             [
              0.6666666666666666,
              "#ed7953"
             ],
             [
              0.7777777777777778,
              "#fb9f3a"
             ],
             [
              0.8888888888888888,
              "#fdca26"
             ],
             [
              1.0,
              "#f0f921"
             ]
            ]
           }
          ],
          "contourcarpet": [
           {
            "type": "contourcarpet",
            "colorbar": {
             "outlinewidth": 0,
             "ticks": ""
            }
           }
          ],
          "contour": [
           {
            "type": "contour",
            "colorbar": {
             "outlinewidth": 0,
             "ticks": ""
            },
            "colorscale": [
             [
              0.0,
              "#0d0887"
             ],
             [
              0.1111111111111111,
              "#46039f"
             ],
             [
              0.2222222222222222,
              "#7201a8"
             ],
             [
              0.3333333333333333,
              "#9c179e"
             ],
             [
              0.4444444444444444,
              "#bd3786"
             ],
             [
              0.5555555555555556,
              "#d8576b"
             ],
             [
              0.6666666666666666,
              "#ed7953"
             ],
             [
              0.7777777777777778,
              "#fb9f3a"
             ],
             [
              0.8888888888888888,
              "#fdca26"
             ],
             [
              1.0,
              "#f0f921"
             ]
            ]
           }
          ],
          "surface": [
           {
            "type": "surface",
            "colorbar": {
             "outlinewidth": 0,
             "ticks": ""
            },
            "colorscale": [
             [
              0.0,
              "#0d0887"
             ],
             [
              0.1111111111111111,
              "#46039f"
             ],
             [
              0.2222222222222222,
              "#7201a8"
             ],
             [
              0.3333333333333333,
              "#9c179e"
             ],
             [
              0.4444444444444444,
              "#bd3786"
             ],
             [
              0.5555555555555556,
              "#d8576b"
             ],
             [
              0.6666666666666666,
              "#ed7953"
             ],
             [
              0.7777777777777778,
              "#fb9f3a"
             ],
             [
              0.8888888888888888,
              "#fdca26"
             ],
             [
              1.0,
              "#f0f921"
             ]
            ]
           }
          ],
          "mesh3d": [
           {
            "type": "mesh3d",
            "colorbar": {
             "outlinewidth": 0,
             "ticks": ""
            }
           }
          ],
          "scatter": [
           {
            "fillpattern": {
             "fillmode": "overlay",
             "size": 10,
             "solidity": 0.2
            },
            "type": "scatter"
           }
          ],
          "parcoords": [
           {
            "type": "parcoords",
            "line": {
             "colorbar": {
              "outlinewidth": 0,
              "ticks": ""
             }
            }
           }
          ],
          "scatterpolargl": [
           {
            "type": "scatterpolargl",
            "marker": {
             "colorbar": {
              "outlinewidth": 0,
              "ticks": ""
             }
            }
           }
          ],
          "bar": [
           {
            "error_x": {
             "color": "#2a3f5f"
            },
            "error_y": {
             "color": "#2a3f5f"
            },
            "marker": {
             "line": {
              "color": "#E5ECF6",
              "width": 0.5
             },
             "pattern": {
              "fillmode": "overlay",
              "size": 10,
              "solidity": 0.2
             }
            },
            "type": "bar"
           }
          ],
          "scattergeo": [
           {
            "type": "scattergeo",
            "marker": {
             "colorbar": {
              "outlinewidth": 0,
              "ticks": ""
             }
            }
           }
          ],
          "scatterpolar": [
           {
            "type": "scatterpolar",
            "marker": {
             "colorbar": {
              "outlinewidth": 0,
              "ticks": ""
             }
            }
           }
          ],
          "histogram": [
           {
            "marker": {
             "pattern": {
              "fillmode": "overlay",
              "size": 10,
              "solidity": 0.2
             }
            },
            "type": "histogram"
           }
          ],
          "scattergl": [
           {
            "type": "scattergl",
            "marker": {
             "colorbar": {
              "outlinewidth": 0,
              "ticks": ""
             }
            }
           }
          ],
          "scatter3d": [
           {
            "type": "scatter3d",
            "line": {
             "colorbar": {
              "outlinewidth": 0,
              "ticks": ""
             }
            },
            "marker": {
             "colorbar": {
              "outlinewidth": 0,
              "ticks": ""
             }
            }
           }
          ],
          "scattermap": [
           {
            "type": "scattermap",
            "marker": {
             "colorbar": {
              "outlinewidth": 0,
              "ticks": ""
             }
            }
           }
          ],
          "scattermapbox": [
           {
            "type": "scattermapbox",
            "marker": {
             "colorbar": {
              "outlinewidth": 0,
              "ticks": ""
             }
            }
           }
          ],
          "scatterternary": [
           {
            "type": "scatterternary",
            "marker": {
             "colorbar": {
              "outlinewidth": 0,
              "ticks": ""
             }
            }
           }
          ],
          "scattercarpet": [
           {
            "type": "scattercarpet",
            "marker": {
             "colorbar": {
              "outlinewidth": 0,
              "ticks": ""
             }
            }
           }
          ],
          "carpet": [
           {
            "aaxis": {
             "endlinecolor": "#2a3f5f",
             "gridcolor": "white",
             "linecolor": "white",
             "minorgridcolor": "white",
             "startlinecolor": "#2a3f5f"
            },
            "baxis": {
             "endlinecolor": "#2a3f5f",
             "gridcolor": "white",
             "linecolor": "white",
             "minorgridcolor": "white",
             "startlinecolor": "#2a3f5f"
            },
            "type": "carpet"
           }
          ],
          "table": [
           {
            "cells": {
             "fill": {
              "color": "#EBF0F8"
             },
             "line": {
              "color": "white"
             }
            },
            "header": {
             "fill": {
              "color": "#C8D4E3"
             },
             "line": {
              "color": "white"
             }
            },
            "type": "table"
           }
          ],
          "barpolar": [
           {
            "marker": {
             "line": {
              "color": "#E5ECF6",
              "width": 0.5
             },
             "pattern": {
              "fillmode": "overlay",
              "size": 10,
              "solidity": 0.2
             }
            },
            "type": "barpolar"
           }
          ],
          "pie": [
           {
            "automargin": true,
            "type": "pie"
           }
          ]
         },
         "layout": {
          "autotypenumbers": "strict",
          "colorway": [
           "#636efa",
           "#EF553B",
           "#00cc96",
           "#ab63fa",
           "#FFA15A",
           "#19d3f3",
           "#FF6692",
           "#B6E880",
           "#FF97FF",
           "#FECB52"
          ],
          "font": {
           "color": "#2a3f5f"
          },
          "hovermode": "closest",
          "hoverlabel": {
           "align": "left"
          },
          "paper_bgcolor": "white",
          "plot_bgcolor": "#E5ECF6",
          "polar": {
           "bgcolor": "#E5ECF6",
           "angularaxis": {
            "gridcolor": "white",
            "linecolor": "white",
            "ticks": ""
           },
           "radialaxis": {
            "gridcolor": "white",
            "linecolor": "white",
            "ticks": ""
           }
          },
          "ternary": {
           "bgcolor": "#E5ECF6",
           "aaxis": {
            "gridcolor": "white",
            "linecolor": "white",
            "ticks": ""
           },
           "baxis": {
            "gridcolor": "white",
            "linecolor": "white",
            "ticks": ""
           },
           "caxis": {
            "gridcolor": "white",
            "linecolor": "white",
            "ticks": ""
           }
          },
          "coloraxis": {
           "colorbar": {
            "outlinewidth": 0,
            "ticks": ""
           }
          },
          "colorscale": {
           "sequential": [
            [
             0.0,
             "#0d0887"
            ],
            [
             0.1111111111111111,
             "#46039f"
            ],
            [
             0.2222222222222222,
             "#7201a8"
            ],
            [
             0.3333333333333333,
             "#9c179e"
            ],
            [
             0.4444444444444444,
             "#bd3786"
            ],
            [
             0.5555555555555556,
             "#d8576b"
            ],
            [
             0.6666666666666666,
             "#ed7953"
            ],
            [
             0.7777777777777778,
             "#fb9f3a"
            ],
            [
             0.8888888888888888,
             "#fdca26"
            ],
            [
             1.0,
             "#f0f921"
            ]
           ],
           "sequentialminus": [
            [
             0.0,
             "#0d0887"
            ],
            [
             0.1111111111111111,
             "#46039f"
            ],
            [
             0.2222222222222222,
             "#7201a8"
            ],
            [
             0.3333333333333333,
             "#9c179e"
            ],
            [
             0.4444444444444444,
             "#bd3786"
            ],
            [
             0.5555555555555556,
             "#d8576b"
            ],
            [
             0.6666666666666666,
             "#ed7953"
            ],
            [
             0.7777777777777778,
             "#fb9f3a"
            ],
            [
             0.8888888888888888,
             "#fdca26"
            ],
            [
             1.0,
             "#f0f921"
            ]
           ],
           "diverging": [
            [
             0,
             "#8e0152"
            ],
            [
             0.1,
             "#c51b7d"
            ],
            [
             0.2,
             "#de77ae"
            ],
            [
             0.3,
             "#f1b6da"
            ],
            [
             0.4,
             "#fde0ef"
            ],
            [
             0.5,
             "#f7f7f7"
            ],
            [
             0.6,
             "#e6f5d0"
            ],
            [
             0.7,
             "#b8e186"
            ],
            [
             0.8,
             "#7fbc41"
            ],
            [
             0.9,
             "#4d9221"
            ],
            [
             1,
             "#276419"
            ]
           ]
          },
          "xaxis": {
           "gridcolor": "white",
           "linecolor": "white",
           "ticks": "",
           "title": {
            "standoff": 15
           },
           "zerolinecolor": "white",
           "automargin": true,
           "zerolinewidth": 2
          },
          "yaxis": {
           "gridcolor": "white",
           "linecolor": "white",
           "ticks": "",
           "title": {
            "standoff": 15
           },
           "zerolinecolor": "white",
           "automargin": true,
           "zerolinewidth": 2
          },
          "scene": {
           "xaxis": {
            "backgroundcolor": "#E5ECF6",
            "gridcolor": "white",
            "linecolor": "white",
            "showbackground": true,
            "ticks": "",
            "zerolinecolor": "white",
            "gridwidth": 2
           },
           "yaxis": {
            "backgroundcolor": "#E5ECF6",
            "gridcolor": "white",
            "linecolor": "white",
            "showbackground": true,
            "ticks": "",
            "zerolinecolor": "white",
            "gridwidth": 2
           },
           "zaxis": {
            "backgroundcolor": "#E5ECF6",
            "gridcolor": "white",
            "linecolor": "white",
            "showbackground": true,
            "ticks": "",
            "zerolinecolor": "white",
            "gridwidth": 2
           }
          },
          "shapedefaults": {
           "line": {
            "color": "#2a3f5f"
           }
          },
          "annotationdefaults": {
           "arrowcolor": "#2a3f5f",
           "arrowhead": 0,
           "arrowwidth": 1
          },
          "geo": {
           "bgcolor": "white",
           "landcolor": "#E5ECF6",
           "subunitcolor": "white",
           "showland": true,
           "showlakes": true,
           "lakecolor": "white"
          },
          "title": {
           "x": 0.05
          },
          "mapbox": {
           "style": "light"
          }
         }
        },
        "xaxis": {
         "anchor": "y",
         "domain": [
          0.0,
          1.0
         ],
         "title": {
          "text": "Vector"
         }
        },
        "yaxis": {
         "anchor": "x",
         "domain": [
          0.0,
          1.0
         ],
         "title": {
          "text": "Count"
         },
         "type": "log"
        },
        "legend": {
         "tracegroupgap": 0
        },
        "margin": {
         "t": 60
        },
        "barmode": "relative"
       },
       "config": {
        "plotlyServerURL": "https://plot.ly"
       }
      }
     },
     "metadata": {},
     "output_type": "display_data"
    },
    {
     "data": {
      "text/plain": [
       "     ΔWOMADLR  ΔWOMKPR  ΔWOMSTFR  Count      Vector\n",
       "417        47       13         5    525   (47,13,5)\n",
       "416        47       13         4     57   (47,13,4)\n",
       "418        47       13         6     52   (47,13,6)\n",
       "411        47       12         5     46   (47,12,5)\n",
       "459        48       13         5     36   (48,13,5)\n",
       "..        ...      ...       ...    ...         ...\n",
       "358        46        9         4      1    (46,9,4)\n",
       "357        46        9         2      1    (46,9,2)\n",
       "355        46        7         6      1    (46,7,6)\n",
       "353        45       19         5      1   (45,19,5)\n",
       "857        97       27        12      1  (97,27,12)\n",
       "\n",
       "[858 rows x 5 columns]"
      ],
      "text/html": [
       "<div>\n",
       "<style scoped>\n",
       "    .dataframe tbody tr th:only-of-type {\n",
       "        vertical-align: middle;\n",
       "    }\n",
       "\n",
       "    .dataframe tbody tr th {\n",
       "        vertical-align: top;\n",
       "    }\n",
       "\n",
       "    .dataframe thead th {\n",
       "        text-align: right;\n",
       "    }\n",
       "</style>\n",
       "<table border=\"1\" class=\"dataframe\">\n",
       "  <thead>\n",
       "    <tr style=\"text-align: right;\">\n",
       "      <th></th>\n",
       "      <th>ΔWOMADLR</th>\n",
       "      <th>ΔWOMKPR</th>\n",
       "      <th>ΔWOMSTFR</th>\n",
       "      <th>Count</th>\n",
       "      <th>Vector</th>\n",
       "    </tr>\n",
       "  </thead>\n",
       "  <tbody>\n",
       "    <tr>\n",
       "      <th>417</th>\n",
       "      <td>47</td>\n",
       "      <td>13</td>\n",
       "      <td>5</td>\n",
       "      <td>525</td>\n",
       "      <td>(47,13,5)</td>\n",
       "    </tr>\n",
       "    <tr>\n",
       "      <th>416</th>\n",
       "      <td>47</td>\n",
       "      <td>13</td>\n",
       "      <td>4</td>\n",
       "      <td>57</td>\n",
       "      <td>(47,13,4)</td>\n",
       "    </tr>\n",
       "    <tr>\n",
       "      <th>418</th>\n",
       "      <td>47</td>\n",
       "      <td>13</td>\n",
       "      <td>6</td>\n",
       "      <td>52</td>\n",
       "      <td>(47,13,6)</td>\n",
       "    </tr>\n",
       "    <tr>\n",
       "      <th>411</th>\n",
       "      <td>47</td>\n",
       "      <td>12</td>\n",
       "      <td>5</td>\n",
       "      <td>46</td>\n",
       "      <td>(47,12,5)</td>\n",
       "    </tr>\n",
       "    <tr>\n",
       "      <th>459</th>\n",
       "      <td>48</td>\n",
       "      <td>13</td>\n",
       "      <td>5</td>\n",
       "      <td>36</td>\n",
       "      <td>(48,13,5)</td>\n",
       "    </tr>\n",
       "    <tr>\n",
       "      <th>...</th>\n",
       "      <td>...</td>\n",
       "      <td>...</td>\n",
       "      <td>...</td>\n",
       "      <td>...</td>\n",
       "      <td>...</td>\n",
       "    </tr>\n",
       "    <tr>\n",
       "      <th>358</th>\n",
       "      <td>46</td>\n",
       "      <td>9</td>\n",
       "      <td>4</td>\n",
       "      <td>1</td>\n",
       "      <td>(46,9,4)</td>\n",
       "    </tr>\n",
       "    <tr>\n",
       "      <th>357</th>\n",
       "      <td>46</td>\n",
       "      <td>9</td>\n",
       "      <td>2</td>\n",
       "      <td>1</td>\n",
       "      <td>(46,9,2)</td>\n",
       "    </tr>\n",
       "    <tr>\n",
       "      <th>355</th>\n",
       "      <td>46</td>\n",
       "      <td>7</td>\n",
       "      <td>6</td>\n",
       "      <td>1</td>\n",
       "      <td>(46,7,6)</td>\n",
       "    </tr>\n",
       "    <tr>\n",
       "      <th>353</th>\n",
       "      <td>45</td>\n",
       "      <td>19</td>\n",
       "      <td>5</td>\n",
       "      <td>1</td>\n",
       "      <td>(45,19,5)</td>\n",
       "    </tr>\n",
       "    <tr>\n",
       "      <th>857</th>\n",
       "      <td>97</td>\n",
       "      <td>27</td>\n",
       "      <td>12</td>\n",
       "      <td>1</td>\n",
       "      <td>(97,27,12)</td>\n",
       "    </tr>\n",
       "  </tbody>\n",
       "</table>\n",
       "<p>858 rows × 5 columns</p>\n",
       "</div>"
      ]
     },
     "metadata": {},
     "output_type": "display_data"
    },
    {
     "data": {
      "application/vnd.plotly.v1+json": {
       "data": [
        {
         "hovertemplate": "Vector=%{x}<br>Count=%{y}<extra></extra>",
         "legendgroup": "",
         "marker": {
          "color": "#636efa",
          "pattern": {
           "shape": ""
          }
         },
         "name": "",
         "orientation": "v",
         "showlegend": false,
         "textposition": "auto",
         "x": [
          "(47,13,5)",
          "(47,13,4)",
          "(47,13,6)",
          "(47,12,5)",
          "(48,13,5)",
          "(46,13,5)",
          "(50,14,6)",
          "(47,13,3)",
          "(49,13,5)",
          "(47,13,7)",
          "(49,13,6)",
          "(48,14,5)",
          "(45,13,5)",
          "(49,14,5)",
          "(46,13,4)",
          "(47,11,5)",
          "(46,12,5)",
          "(47,14,5)",
          "(51,14,5)",
          "(46,11,5)",
          "(46,14,5)",
          "(46,13,3)",
          "(46,13,6)",
          "(47,14,4)",
          "(48,13,6)",
          "(47,12,4)",
          "(50,15,5)",
          "(45,12,5)",
          "(44,13,3)",
          "(47,14,6)",
          "(44,12,3)",
          "(47,15,5)",
          "(47,11,4)",
          "(54,14,6)",
          "(47,15,7)",
          "(51,15,5)",
          "(51,13,5)",
          "(48,14,6)",
          "(44,14,5)",
          "(44,12,5)",
          "(46,11,4)",
          "(46,12,4)",
          "(47,15,6)",
          "(45,13,4)",
          "(51,13,6)",
          "(42,10,5)",
          "(45,13,6)",
          "(50,14,4)",
          "(50,13,5)",
          "(50,13,7)",
          "(45,14,5)",
          "(43,12,5)",
          "(44,12,4)",
          "(45,13,3)",
          "(43,9,3)",
          "(50,13,6)",
          "(42,12,3)",
          "(48,12,6)",
          "(50,14,5)",
          "(56,16,7)",
          "(44,13,4)",
          "(48,13,4)",
          "(54,14,7)",
          "(49,13,7)",
          "(48,12,5)",
          "(42,10,2)",
          "(49,15,6)",
          "(54,13,6)",
          "(45,11,4)",
          "(45,12,4)",
          "(43,13,3)",
          "(51,15,7)",
          "(76,8,4)",
          "(47,16,6)",
          "(47,16,5)",
          "(48,15,5)",
          "(54,15,6)",
          "(49,14,6)",
          "(56,15,6)",
          "(61,17,9)",
          "(66,18,7)",
          "(43,12,4)",
          "(49,16,5)",
          "(49,15,7)",
          "(43,11,4)",
          "(50,13,4)",
          "(52,13,7)",
          "(46,14,8)",
          "(36,8,4)",
          "(45,16,5)",
          "(46,12,6)",
          "(52,15,5)",
          "(36,14,5)",
          "(52,14,7)",
          "(52,13,6)",
          "(42,13,3)",
          "(45,14,4)",
          "(63,18,6)",
          "(47,12,3)",
          "(53,13,4)",
          "(42,7,3)",
          "(42,11,5)",
          "(52,18,5)",
          "(46,14,6)",
          "(52,12,5)",
          "(56,14,6)",
          "(50,17,6)",
          "(49,12,4)",
          "(57,15,7)",
          "(28,7,2)",
          "(54,13,5)",
          "(49,14,7)",
          "(68,19,5)",
          "(43,11,5)",
          "(59,18,5)",
          "(49,13,4)",
          "(49,12,5)",
          "(54,15,5)",
          "(48,12,7)",
          "(48,14,4)",
          "(60,20,7)",
          "(48,11,6)",
          "(57,15,9)",
          "(45,14,6)",
          "(43,13,4)",
          "(57,20,8)",
          "(43,13,5)",
          "(40,12,6)",
          "(38,13,1)",
          "(40,12,4)",
          "(42,16,4)",
          "(40,11,3)",
          "(40,10,0)",
          "(46,12,3)",
          "(57,15,5)",
          "(57,15,10)",
          "(58,15,6)",
          "(45,6,4)",
          "(46,8,5)",
          "(42,13,6)",
          "(42,10,3)",
          "(58,15,5)",
          "(37,15,4)",
          "(44,13,5)",
          "(38,11,5)",
          "(35,10,4)",
          "(42,7,4)",
          "(51,8,6)",
          "(47,18,8)",
          "(51,14,4)",
          "(51,13,4)",
          "(51,13,3)",
          "(33,11,3)",
          "(55,12,8)",
          "(53,16,4)",
          "(48,13,8)",
          "(47,14,7)",
          "(62,15,5)",
          "(54,15,7)",
          "(49,12,3)",
          "(49,12,7)",
          "(67,17,8)",
          "(49,15,5)",
          "(30,5,2)",
          "(47,15,4)",
          "(33,12,4)",
          "(47,14,3)",
          "(47,10,5)",
          "(36,14,3)",
          "(47,12,6)",
          "(46,17,6)",
          "(63,16,7)",
          "(55,15,5)",
          "(63,13,6)",
          "(53,13,3)",
          "(52,14,5)",
          "(52,13,5)",
          "(53,13,7)",
          "(53,16,7)",
          "(53,16,6)",
          "(42,9,6)",
          "(58,18,7)",
          "(43,14,3)",
          "(42,8,1)",
          "(50,14,7)",
          "(50,17,5)",
          "(51,11,4)",
          "(52,17,5)",
          "(51,14,7)",
          "(58,11,7)",
          "(53,15,5)",
          "(53,14,7)",
          "(51,12,6)",
          "(51,16,7)",
          "(42,12,6)",
          "(54,12,5)",
          "(51,14,6)",
          "(42,15,5)",
          "(42,14,5)",
          "(43,14,5)",
          "(46,13,7)",
          "(44,11,4)",
          "(52,15,9)",
          "(46,14,4)",
          "(46,13,2)",
          "(46,15,5)",
          "(46,16,6)",
          "(46,17,4)",
          "(55,17,6)",
          "(46,10,4)",
          "(47,11,3)",
          "(47,11,6)",
          "(47,14,8)",
          "(57,13,7)",
          "(47,16,7)",
          "(47,17,4)",
          "(47,17,6)",
          "(57,14,5)",
          "(45,12,6)",
          "(55,13,4)",
          "(45,12,3)",
          "(45,11,6)",
          "(45,11,5)",
          "(57,14,6)",
          "(48,10,3)",
          "(48,13,7)",
          "(44,16,6)",
          "(54,18,8)",
          "(48,16,6)",
          "(48,17,5)",
          "(49,15,3)",
          "(49,17,5)",
          "(48,16,8)",
          "(52,16,5)",
          "(35,7,7)",
          "(33,4,3)",
          "(41,8,3)",
          "(59,19,5)",
          "(29,7,4)",
          "(40,11,4)",
          "(40,11,2)",
          "(30,8,4)",
          "(30,11,7)",
          "(31,7,4)",
          "(31,13,1)",
          "(39,11,5)",
          "(66,19,6)",
          "(39,11,4)",
          "(32,9,4)",
          "(38,12,4)",
          "(59,17,6)",
          "(38,11,1)",
          "(38,10,4)",
          "(64,22,6)",
          "(64,19,5)",
          "(33,10,5)",
          "(64,18,5)",
          "(33,13,3)",
          "(34,5,3)",
          "(64,13,7)",
          "(61,16,7)",
          "(34,11,3)",
          "(35,10,3)",
          "(36,12,3)",
          "(41,9,3)",
          "(68,20,6)",
          "(41,13,3)",
          "(41,13,5)",
          "(59,15,5)",
          "(13,2,2)",
          "(51,14,3)",
          "(17,9,5)",
          "(64,17,8)",
          "(64,18,4)",
          "(52,13,4)",
          "(55,11,8)",
          "(55,11,5)",
          "(33,10,3)",
          "(48,12,3)",
          "(52,17,4)",
          "(84,19,7)",
          "(54,20,5)",
          "(48,13,3)",
          "(86,18,8)",
          "(82,19,9)",
          "(53,12,6)",
          "(33,6,5)",
          "(19,6,3)",
          "(32,22,3)",
          "(32,13,3)",
          "(65,13,8)",
          "(32,11,4)",
          "(52,6,4)",
          "(48,16,5)",
          "(32,9,3)",
          "(54,17,5)",
          "(47,17,8)",
          "(15,0,1)",
          "(47,17,5)",
          "(35,11,4)",
          "(56,13,5)",
          "(52,16,6)",
          "(55,17,7)",
          "(36,10,5)",
          "(36,9,4)",
          "(36,7,0)",
          "(63,15,5)",
          "(63,15,8)",
          "(35,14,6)",
          "(35,13,3)",
          "(35,12,3)",
          "(47,12,9)",
          "(35,10,5)",
          "(66,18,8)",
          "(90,25,9)",
          "(58,21,8)",
          "(35,5,1)",
          "(47,13,8)",
          "(55,14,5)",
          "(34,14,6)",
          "(52,14,2)",
          "(34,10,7)",
          "(34,10,3)",
          "(34,8,6)",
          "(47,16,4)",
          "(34,6,1)",
          "(54,17,4)",
          "(54,16,6)",
          "(24,11,3)",
          "(50,17,3)",
          "(50,12,4)",
          "(50,12,6)",
          "(54,10,4)",
          "(28,11,2)",
          "(28,10,6)",
          "(54,8,6)",
          "(28,7,3)",
          "(28,6,4)",
          "(27,19,5)",
          "(50,15,6)",
          "(21,6,1)",
          "(50,16,4)",
          "(27,9,4)",
          "(29,7,0)",
          "(27,7,2)",
          "(50,17,7)",
          "(50,18,6)",
          "(50,18,7)",
          "(27,4,3)",
          "(53,16,3)",
          "(53,14,5)",
          "(26,10,4)",
          "(53,14,6)",
          "(73,18,8)",
          "(51,12,5)",
          "(23,6,3)",
          "(50,11,7)",
          "(49,18,7)",
          "(54,16,5)",
          "(51,17,6)",
          "(20,2,0)",
          "(31,15,6)",
          "(53,13,5)",
          "(53,13,6)",
          "(31,12,1)",
          "(31,11,1)",
          "(31,8,3)",
          "(51,17,8)",
          "(68,17,9)",
          "(30,13,2)",
          "(49,13,8)",
          "(49,14,4)",
          "(62,25,8)",
          "(49,18,6)",
          "(30,9,3)",
          "(51,17,5)",
          "(68,21,11)",
          "(30,6,1)",
          "(49,16,3)",
          "(54,14,4)",
          "(51,17,4)",
          "(51,16,5)",
          "(29,9,2)",
          "(49,16,6)",
          "(49,16,7)",
          "(53,14,3)",
          "(46,15,6)",
          "(57,17,7)",
          "(38,8,5)",
          "(45,8,4)",
          "(57,14,9)",
          "(45,10,5)",
          "(57,14,7)",
          "(39,11,2)",
          "(59,17,7)",
          "(39,10,3)",
          "(58,15,7)",
          "(61,13,7)",
          "(59,16,6)",
          "(38,16,5)",
          "(58,16,6)",
          "(61,14,6)",
          "(61,14,7)",
          "(38,12,6)",
          "(61,15,6)",
          "(57,19,5)",
          "(38,7,4)",
          "(41,11,3)",
          "(45,14,7)",
          "(57,12,7)",
          "(45,15,4)",
          "(45,15,6)",
          "(42,14,3)",
          "(45,9,6)",
          "(43,10,4)",
          "(45,17,6)",
          "(57,15,6)",
          "(43,14,4)",
          "(43,15,5)",
          "(43,16,1)",
          "(40,13,7)",
          "(44,10,3)",
          "(44,10,4)",
          "(44,10,5)",
          "(40,11,5)",
          "(40,9,5)",
          "(57,16,7)",
          "(43,13,2)",
          "(57,16,6)",
          "(60,15,6)",
          "(40,14,2)",
          "(40,14,5)",
          "(44,14,3)",
          "(40,19,7)",
          "(40,7,5)",
          "(44,14,6)",
          "(58,13,6)",
          "(60,19,5)",
          "(41,7,6)",
          "(44,17,5)",
          "(45,17,5)",
          "(60,13,5)",
          "(36,14,2)",
          "(42,12,5)",
          "(56,15,7)",
          "(42,13,5)",
          "(46,11,3)",
          "(37,13,6)",
          "(41,12,3)",
          "(61,18,9)",
          "(46,12,7)",
          "(37,8,2)",
          "(37,13,3)",
          "(42,12,4)",
          "(41,13,7)",
          "(62,16,5)",
          "(37,11,5)",
          "(61,17,6)",
          "(61,16,5)",
          "(42,11,4)",
          "(41,12,6)",
          "(42,13,4)",
          "(46,6,4)",
          "(56,14,9)",
          "(37,14,6)",
          "(36,15,2)",
          "(41,12,5)",
          "(37,14,5)",
          "(41,17,5)",
          "(59,14,9)",
          "(61,21,7)",
          "(37,6,4)",
          "(46,10,3)",
          "(42,12,2)",
          "(58,18,4)",
          "(72,17,7)",
          "(58,18,6)",
          "(53,16,5)",
          "(59,15,7)",
          "(59,13,8)",
          "(60,10,2)",
          "(69,17,6)",
          "(94,23,12)",
          "(69,18,5)",
          "(60,12,4)",
          "(53,19,8)",
          "(53,18,5)",
          "(52,16,8)",
          "(58,17,11)",
          "(58,19,7)",
          "(52,17,3)",
          "(70,14,5)",
          "(89,28,7)",
          "(70,19,6)",
          "(59,13,7)",
          "(71,13,6)",
          "(72,25,9)",
          "(58,12,4)",
          "(58,17,7)",
          "(53,13,9)",
          "(76,17,8)",
          "(58,16,9)",
          "(75,23,10)",
          "(75,18,9)",
          "(77,13,7)",
          "(82,13,7)",
          "(59,15,6)",
          "(58,17,3)",
          "(75,10,3)",
          "(58,17,6)",
          "(74,21,7)",
          "(58,12,5)",
          "(74,19,7)",
          "(74,18,4)",
          "(74,16,9)",
          "(59,15,4)",
          "(73,15,8)",
          "(58,15,4)",
          "(53,15,7)",
          "(53,12,4)",
          "(58,14,6)",
          "(59,18,7)",
          "(53,11,6)",
          "(56,13,7)",
          "(68,18,10)",
          "(57,18,10)",
          "(56,16,5)",
          "(61,18,5)",
          "(56,15,4)",
          "(63,20,7)",
          "(64,13,6)",
          "(55,13,7)",
          "(64,15,5)",
          "(56,16,4)",
          "(64,17,4)",
          "(57,11,6)",
          "(56,16,6)",
          "(64,17,7)",
          "(55,13,6)",
          "(56,17,5)",
          "(55,13,5)",
          "(61,15,7)",
          "(55,12,4)",
          "(55,14,6)",
          "(61,19,7)",
          "(63,17,8)",
          "(62,12,4)",
          "(62,18,7)",
          "(56,12,8)",
          "(56,12,5)",
          "(56,11,4)",
          "(62,16,6)",
          "(63,12,6)",
          "(63,13,5)",
          "(55,18,4)",
          "(56,14,7)",
          "(55,16,5)",
          "(55,16,4)",
          "(63,14,5)",
          "(62,15,7)",
          "(55,14,9)",
          "(63,14,6)",
          "(55,11,7)",
          "(55,10,6)",
          "(54,10,6)",
          "(60,15,5)",
          "(60,18,6)",
          "(56,14,5)",
          "(57,16,5)",
          "(60,16,7)",
          "(60,15,7)",
          "(54,14,5)",
          "(68,24,10)",
          "(54,13,8)",
          "(64,19,9)",
          "(54,13,7)",
          "(57,18,7)",
          "(69,15,5)",
          "(54,13,3)",
          "(69,15,6)",
          "(60,14,7)",
          "(54,12,4)",
          "(60,18,7)",
          "(68,14,7)",
          "(57,15,8)",
          "(61,10,6)",
          "(61,15,5)",
          "(61,14,4)",
          "(54,19,6)",
          "(65,14,6)",
          "(65,17,7)",
          "(65,20,7)",
          "(54,18,5)",
          "(61,13,5)",
          "(54,17,7)",
          "(66,16,5)",
          "(61,12,5)",
          "(66,19,2)",
          "(54,15,3)",
          "(67,13,7)",
          "(54,15,1)",
          "(59,13,6)",
          "(0,0,0)",
          "(52,15,7)",
          "(37,9,2)",
          "(39,10,5)",
          "(39,9,4)",
          "(39,5,4)",
          "(38,14,3)",
          "(38,13,5)",
          "(38,13,3)",
          "(38,12,5)",
          "(38,10,5)",
          "(38,6,1)",
          "(37,14,2)",
          "(37,13,7)",
          "(37,9,5)",
          "(37,9,3)",
          "(37,7,3)",
          "(39,14,3)",
          "(37,7,2)",
          "(37,5,3)",
          "(36,16,6)",
          "(36,15,1)",
          "(36,14,1)",
          "(36,13,4)",
          "(36,13,3)",
          "(36,12,5)",
          "(36,12,4)",
          "(36,11,5)",
          "(36,11,4)",
          "(36,10,6)",
          "(36,10,4)",
          "(39,12,4)",
          "(39,16,5)",
          "(36,6,1)",
          "(41,11,2)",
          "(42,11,2)",
          "(42,9,5)",
          "(42,8,5)",
          "(41,18,6)",
          "(41,16,6)",
          "(41,15,5)",
          "(41,14,5)",
          "(41,13,4)",
          "(41,12,4)",
          "(41,12,2)",
          "(41,11,6)",
          "(41,11,5)",
          "(41,11,4)",
          "(41,10,4)",
          "(40,6,3)",
          "(41,9,5)",
          "(41,7,5)",
          "(41,7,2)",
          "(40,14,4)",
          "(40,13,5)",
          "(40,13,4)",
          "(40,13,2)",
          "(40,12,5)",
          "(40,11,6)",
          "(40,9,4)",
          "(40,9,3)",
          "(40,8,4)",
          "(40,7,2)",
          "(36,9,3)",
          "(35,16,3)",
          "(42,12,7)",
          "(25,6,3)",
          "(29,5,3)",
          "(28,13,2)",
          "(28,9,1)",
          "(28,8,2)",
          "(28,6,3)",
          "(28,5,5)",
          "(28,2,1)",
          "(27,12,3)",
          "(26,12,0)",
          "(26,10,3)",
          "(26,4,4)",
          "(25,11,1)",
          "(25,10,5)",
          "(24,6,4)",
          "(30,7,4)",
          "(23,8,5)",
          "(22,9,3)",
          "(22,7,5)",
          "(22,7,1)",
          "(21,6,3)",
          "(21,2,2)",
          "(20,5,3)",
          "(18,9,2)",
          "(17,6,3)",
          "(16,5,2)",
          "(9,0,0)",
          "(8,2,3)",
          "(7,2,0)",
          "(29,13,4)",
          "(30,9,5)",
          "(35,13,5)",
          "(33,7,3)",
          "(35,11,6)",
          "(35,9,4)",
          "(34,18,5)",
          "(34,11,4)",
          "(34,10,4)",
          "(34,9,5)",
          "(34,5,4)",
          "(33,14,6)",
          "(33,12,6)",
          "(33,11,6)",
          "(33,11,1)",
          "(33,8,1)",
          "(33,7,4)",
          "(32,12,4)",
          "(30,10,1)",
          "(32,10,5)",
          "(32,10,3)",
          "(32,9,5)",
          "(32,8,4)",
          "(32,6,4)",
          "(32,4,3)",
          "(32,2,1)",
          "(31,13,6)",
          "(31,13,3)",
          "(31,8,11)",
          "(30,15,3)",
          "(30,13,6)",
          "(30,12,5)",
          "(42,11,3)",
          "(42,13,1)",
          "(52,15,6)",
          "(49,7,7)",
          "(50,11,6)",
          "(50,10,2)",
          "(50,4,3)",
          "(49,19,4)",
          "(49,17,6)",
          "(49,17,3)",
          "(49,16,4)",
          "(49,15,4)",
          "(49,14,9)",
          "(49,13,2)",
          "(49,12,6)",
          "(49,10,3)",
          "(49,9,3)",
          "(49,6,4)",
          "(50,12,7)",
          "(48,17,7)",
          "(48,17,6)",
          "(48,17,4)",
          "(48,17,3)",
          "(48,16,7)",
          "(48,15,7)",
          "(48,14,7)",
          "(48,14,3)",
          "(48,12,8)",
          "(48,12,4)",
          "(48,11,5)",
          "(48,11,4)",
          "(48,10,5)",
          "(50,12,5)",
          "(50,12,8)",
          "(48,9,7)",
          "(51,16,6)",
          "(52,15,4)",
          "(52,14,8)",
          "(52,14,6)",
          "(52,12,9)",
          "(52,12,8)",
          "(52,12,6)",
          "(52,12,4)",
          "(52,10,7)",
          "(52,10,4)",
          "(52,9,5)",
          "(51,23,5)",
          "(51,18,6)",
          "(51,18,5)",
          "(51,16,4)",
          "(50,13,9)",
          "(51,16,2)",
          "(51,15,6)",
          "(51,14,9)",
          "(51,12,4)",
          "(51,11,6)",
          "(51,10,6)",
          "(51,10,5)",
          "(51,9,5)",
          "(50,16,7)",
          "(50,16,5)",
          "(50,15,3)",
          "(50,14,3)",
          "(50,14,1)",
          "(48,10,4)",
          "(48,8,6)",
          "(42,13,2)",
          "(44,10,2)",
          "(45,11,3)",
          "(45,10,7)",
          "(45,10,4)",
          "(45,10,3)",
          "(45,5,5)",
          "(44,16,4)",
          "(44,15,7)",
          "(44,15,6)",
          "(44,14,4)",
          "(44,13,7)",
          "(44,13,1)",
          "(44,12,6)",
          "(44,12,2)",
          "(43,13,7)",
          "(45,13,7)",
          "(43,13,6)",
          "(43,12,6)",
          "(43,12,3)",
          "(43,12,2)",
          "(43,12,1)",
          "(43,11,6)",
          "(43,11,3)",
          "(43,8,4)",
          "(43,8,3)",
          "(43,6,6)",
          "(42,16,5)",
          "(42,14,6)",
          "(42,14,4)",
          "(45,13,2)",
          "(45,15,3)",
          "(48,2,1)",
          "(46,15,9)",
          "(47,17,7)",
          "(0,2,0)",
          "(47,14,0)",
          "(47,13,2)",
          "(47,11,2)",
          "(47,10,6)",
          "(47,10,3)",
          "(47,9,5)",
          "(47,9,4)",
          "(47,8,4)",
          "(47,7,3)",
          "(46,16,5)",
          "(46,16,3)",
          "(46,15,7)",
          "(45,15,5)",
          "(46,15,4)",
          "(46,15,3)",
          "(46,15,2)",
          "(46,14,7)",
          "(46,13,8)",
          "(46,11,6)",
          "(46,11,1)",
          "(46,10,5)",
          "(46,9,6)",
          "(46,9,4)",
          "(46,9,2)",
          "(46,7,6)",
          "(45,19,5)",
          "(97,27,12)"
         ],
         "xaxis": "x",
         "y": {
          "dtype": "i2",
          "bdata": "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"
         },
         "yaxis": "y",
         "type": "bar"
        }
       ],
       "layout": {
        "template": {
         "data": {
          "histogram2dcontour": [
           {
            "type": "histogram2dcontour",
            "colorbar": {
             "outlinewidth": 0,
             "ticks": ""
            },
            "colorscale": [
             [
              0.0,
              "#0d0887"
             ],
             [
              0.1111111111111111,
              "#46039f"
             ],
             [
              0.2222222222222222,
              "#7201a8"
             ],
             [
              0.3333333333333333,
              "#9c179e"
             ],
             [
              0.4444444444444444,
              "#bd3786"
             ],
             [
              0.5555555555555556,
              "#d8576b"
             ],
             [
              0.6666666666666666,
              "#ed7953"
             ],
             [
              0.7777777777777778,
              "#fb9f3a"
             ],
             [
              0.8888888888888888,
              "#fdca26"
             ],
             [
              1.0,
              "#f0f921"
             ]
            ]
           }
          ],
          "choropleth": [
           {
            "type": "choropleth",
            "colorbar": {
             "outlinewidth": 0,
             "ticks": ""
            }
           }
          ],
          "histogram2d": [
           {
            "type": "histogram2d",
            "colorbar": {
             "outlinewidth": 0,
             "ticks": ""
            },
            "colorscale": [
             [
              0.0,
              "#0d0887"
             ],
             [
              0.1111111111111111,
              "#46039f"
             ],
             [
              0.2222222222222222,
              "#7201a8"
             ],
             [
              0.3333333333333333,
              "#9c179e"
             ],
             [
              0.4444444444444444,
              "#bd3786"
             ],
             [
              0.5555555555555556,
              "#d8576b"
             ],
             [
              0.6666666666666666,
              "#ed7953"
             ],
             [
              0.7777777777777778,
              "#fb9f3a"
             ],
             [
              0.8888888888888888,
              "#fdca26"
             ],
             [
              1.0,
              "#f0f921"
             ]
            ]
           }
          ],
          "heatmap": [
           {
            "type": "heatmap",
            "colorbar": {
             "outlinewidth": 0,
             "ticks": ""
            },
            "colorscale": [
             [
              0.0,
              "#0d0887"
             ],
             [
              0.1111111111111111,
              "#46039f"
             ],
             [
              0.2222222222222222,
              "#7201a8"
             ],
             [
              0.3333333333333333,
              "#9c179e"
             ],
             [
              0.4444444444444444,
              "#bd3786"
             ],
             [
              0.5555555555555556,
              "#d8576b"
             ],
             [
              0.6666666666666666,
              "#ed7953"
             ],
             [
              0.7777777777777778,
              "#fb9f3a"
             ],
             [
              0.8888888888888888,
              "#fdca26"
             ],
             [
              1.0,
              "#f0f921"
             ]
            ]
           }
          ],
          "contourcarpet": [
           {
            "type": "contourcarpet",
            "colorbar": {
             "outlinewidth": 0,
             "ticks": ""
            }
           }
          ],
          "contour": [
           {
            "type": "contour",
            "colorbar": {
             "outlinewidth": 0,
             "ticks": ""
            },
            "colorscale": [
             [
              0.0,
              "#0d0887"
             ],
             [
              0.1111111111111111,
              "#46039f"
             ],
             [
              0.2222222222222222,
              "#7201a8"
             ],
             [
              0.3333333333333333,
              "#9c179e"
             ],
             [
              0.4444444444444444,
              "#bd3786"
             ],
             [
              0.5555555555555556,
              "#d8576b"
             ],
             [
              0.6666666666666666,
              "#ed7953"
             ],
             [
              0.7777777777777778,
              "#fb9f3a"
             ],
             [
              0.8888888888888888,
              "#fdca26"
             ],
             [
              1.0,
              "#f0f921"
             ]
            ]
           }
          ],
          "surface": [
           {
            "type": "surface",
            "colorbar": {
             "outlinewidth": 0,
             "ticks": ""
            },
            "colorscale": [
             [
              0.0,
              "#0d0887"
             ],
             [
              0.1111111111111111,
              "#46039f"
             ],
             [
              0.2222222222222222,
              "#7201a8"
             ],
             [
              0.3333333333333333,
              "#9c179e"
             ],
             [
              0.4444444444444444,
              "#bd3786"
             ],
             [
              0.5555555555555556,
              "#d8576b"
             ],
             [
              0.6666666666666666,
              "#ed7953"
             ],
             [
              0.7777777777777778,
              "#fb9f3a"
             ],
             [
              0.8888888888888888,
              "#fdca26"
             ],
             [
              1.0,
              "#f0f921"
             ]
            ]
           }
          ],
          "mesh3d": [
           {
            "type": "mesh3d",
            "colorbar": {
             "outlinewidth": 0,
             "ticks": ""
            }
           }
          ],
          "scatter": [
           {
            "fillpattern": {
             "fillmode": "overlay",
             "size": 10,
             "solidity": 0.2
            },
            "type": "scatter"
           }
          ],
          "parcoords": [
           {
            "type": "parcoords",
            "line": {
             "colorbar": {
              "outlinewidth": 0,
              "ticks": ""
             }
            }
           }
          ],
          "scatterpolargl": [
           {
            "type": "scatterpolargl",
            "marker": {
             "colorbar": {
              "outlinewidth": 0,
              "ticks": ""
             }
            }
           }
          ],
          "bar": [
           {
            "error_x": {
             "color": "#2a3f5f"
            },
            "error_y": {
             "color": "#2a3f5f"
            },
            "marker": {
             "line": {
              "color": "#E5ECF6",
              "width": 0.5
             },
             "pattern": {
              "fillmode": "overlay",
              "size": 10,
              "solidity": 0.2
             }
            },
            "type": "bar"
           }
          ],
          "scattergeo": [
           {
            "type": "scattergeo",
            "marker": {
             "colorbar": {
              "outlinewidth": 0,
              "ticks": ""
             }
            }
           }
          ],
          "scatterpolar": [
           {
            "type": "scatterpolar",
            "marker": {
             "colorbar": {
              "outlinewidth": 0,
              "ticks": ""
             }
            }
           }
          ],
          "histogram": [
           {
            "marker": {
             "pattern": {
              "fillmode": "overlay",
              "size": 10,
              "solidity": 0.2
             }
            },
            "type": "histogram"
           }
          ],
          "scattergl": [
           {
            "type": "scattergl",
            "marker": {
             "colorbar": {
              "outlinewidth": 0,
              "ticks": ""
             }
            }
           }
          ],
          "scatter3d": [
           {
            "type": "scatter3d",
            "line": {
             "colorbar": {
              "outlinewidth": 0,
              "ticks": ""
             }
            },
            "marker": {
             "colorbar": {
              "outlinewidth": 0,
              "ticks": ""
             }
            }
           }
          ],
          "scattermap": [
           {
            "type": "scattermap",
            "marker": {
             "colorbar": {
              "outlinewidth": 0,
              "ticks": ""
             }
            }
           }
          ],
          "scattermapbox": [
           {
            "type": "scattermapbox",
            "marker": {
             "colorbar": {
              "outlinewidth": 0,
              "ticks": ""
             }
            }
           }
          ],
          "scatterternary": [
           {
            "type": "scatterternary",
            "marker": {
             "colorbar": {
              "outlinewidth": 0,
              "ticks": ""
             }
            }
           }
          ],
          "scattercarpet": [
           {
            "type": "scattercarpet",
            "marker": {
             "colorbar": {
              "outlinewidth": 0,
              "ticks": ""
             }
            }
           }
          ],
          "carpet": [
           {
            "aaxis": {
             "endlinecolor": "#2a3f5f",
             "gridcolor": "white",
             "linecolor": "white",
             "minorgridcolor": "white",
             "startlinecolor": "#2a3f5f"
            },
            "baxis": {
             "endlinecolor": "#2a3f5f",
             "gridcolor": "white",
             "linecolor": "white",
             "minorgridcolor": "white",
             "startlinecolor": "#2a3f5f"
            },
            "type": "carpet"
           }
          ],
          "table": [
           {
            "cells": {
             "fill": {
              "color": "#EBF0F8"
             },
             "line": {
              "color": "white"
             }
            },
            "header": {
             "fill": {
              "color": "#C8D4E3"
             },
             "line": {
              "color": "white"
             }
            },
            "type": "table"
           }
          ],
          "barpolar": [
           {
            "marker": {
             "line": {
              "color": "#E5ECF6",
              "width": 0.5
             },
             "pattern": {
              "fillmode": "overlay",
              "size": 10,
              "solidity": 0.2
             }
            },
            "type": "barpolar"
           }
          ],
          "pie": [
           {
            "automargin": true,
            "type": "pie"
           }
          ]
         },
         "layout": {
          "autotypenumbers": "strict",
          "colorway": [
           "#636efa",
           "#EF553B",
           "#00cc96",
           "#ab63fa",
           "#FFA15A",
           "#19d3f3",
           "#FF6692",
           "#B6E880",
           "#FF97FF",
           "#FECB52"
          ],
          "font": {
           "color": "#2a3f5f"
          },
          "hovermode": "closest",
          "hoverlabel": {
           "align": "left"
          },
          "paper_bgcolor": "white",
          "plot_bgcolor": "#E5ECF6",
          "polar": {
           "bgcolor": "#E5ECF6",
           "angularaxis": {
            "gridcolor": "white",
            "linecolor": "white",
            "ticks": ""
           },
           "radialaxis": {
            "gridcolor": "white",
            "linecolor": "white",
            "ticks": ""
           }
          },
          "ternary": {
           "bgcolor": "#E5ECF6",
           "aaxis": {
            "gridcolor": "white",
            "linecolor": "white",
            "ticks": ""
           },
           "baxis": {
            "gridcolor": "white",
            "linecolor": "white",
            "ticks": ""
           },
           "caxis": {
            "gridcolor": "white",
            "linecolor": "white",
            "ticks": ""
           }
          },
          "coloraxis": {
           "colorbar": {
            "outlinewidth": 0,
            "ticks": ""
           }
          },
          "colorscale": {
           "sequential": [
            [
             0.0,
             "#0d0887"
            ],
            [
             0.1111111111111111,
             "#46039f"
            ],
            [
             0.2222222222222222,
             "#7201a8"
            ],
            [
             0.3333333333333333,
             "#9c179e"
            ],
            [
             0.4444444444444444,
             "#bd3786"
            ],
            [
             0.5555555555555556,
             "#d8576b"
            ],
            [
             0.6666666666666666,
             "#ed7953"
            ],
            [
             0.7777777777777778,
             "#fb9f3a"
            ],
            [
             0.8888888888888888,
             "#fdca26"
            ],
            [
             1.0,
             "#f0f921"
            ]
           ],
           "sequentialminus": [
            [
             0.0,
             "#0d0887"
            ],
            [
             0.1111111111111111,
             "#46039f"
            ],
            [
             0.2222222222222222,
             "#7201a8"
            ],
            [
             0.3333333333333333,
             "#9c179e"
            ],
            [
             0.4444444444444444,
             "#bd3786"
            ],
            [
             0.5555555555555556,
             "#d8576b"
            ],
            [
             0.6666666666666666,
             "#ed7953"
            ],
            [
             0.7777777777777778,
             "#fb9f3a"
            ],
            [
             0.8888888888888888,
             "#fdca26"
            ],
            [
             1.0,
             "#f0f921"
            ]
           ],
           "diverging": [
            [
             0,
             "#8e0152"
            ],
            [
             0.1,
             "#c51b7d"
            ],
            [
             0.2,
             "#de77ae"
            ],
            [
             0.3,
             "#f1b6da"
            ],
            [
             0.4,
             "#fde0ef"
            ],
            [
             0.5,
             "#f7f7f7"
            ],
            [
             0.6,
             "#e6f5d0"
            ],
            [
             0.7,
             "#b8e186"
            ],
            [
             0.8,
             "#7fbc41"
            ],
            [
             0.9,
             "#4d9221"
            ],
            [
             1,
             "#276419"
            ]
           ]
          },
          "xaxis": {
           "gridcolor": "white",
           "linecolor": "white",
           "ticks": "",
           "title": {
            "standoff": 15
           },
           "zerolinecolor": "white",
           "automargin": true,
           "zerolinewidth": 2
          },
          "yaxis": {
           "gridcolor": "white",
           "linecolor": "white",
           "ticks": "",
           "title": {
            "standoff": 15
           },
           "zerolinecolor": "white",
           "automargin": true,
           "zerolinewidth": 2
          },
          "scene": {
           "xaxis": {
            "backgroundcolor": "#E5ECF6",
            "gridcolor": "white",
            "linecolor": "white",
            "showbackground": true,
            "ticks": "",
            "zerolinecolor": "white",
            "gridwidth": 2
           },
           "yaxis": {
            "backgroundcolor": "#E5ECF6",
            "gridcolor": "white",
            "linecolor": "white",
            "showbackground": true,
            "ticks": "",
            "zerolinecolor": "white",
            "gridwidth": 2
           },
           "zaxis": {
            "backgroundcolor": "#E5ECF6",
            "gridcolor": "white",
            "linecolor": "white",
            "showbackground": true,
            "ticks": "",
            "zerolinecolor": "white",
            "gridwidth": 2
           }
          },
          "shapedefaults": {
           "line": {
            "color": "#2a3f5f"
           }
          },
          "annotationdefaults": {
           "arrowcolor": "#2a3f5f",
           "arrowhead": 0,
           "arrowwidth": 1
          },
          "geo": {
           "bgcolor": "white",
           "landcolor": "#E5ECF6",
           "subunitcolor": "white",
           "showland": true,
           "showlakes": true,
           "lakecolor": "white"
          },
          "title": {
           "x": 0.05
          },
          "mapbox": {
           "style": "light"
          }
         }
        },
        "xaxis": {
         "anchor": "y",
         "domain": [
          0.0,
          1.0
         ],
         "title": {
          "text": "Vector"
         }
        },
        "yaxis": {
         "anchor": "x",
         "domain": [
          0.0,
          1.0
         ],
         "title": {
          "text": "Count"
         },
         "type": "log"
        },
        "legend": {
         "tracegroupgap": 0
        },
        "margin": {
         "t": 60
        },
        "barmode": "relative"
       },
       "config": {
        "plotlyServerURL": "https://plot.ly"
       }
      }
     },
     "metadata": {},
     "output_type": "display_data"
    }
   ],
   "execution_count": 8
  }
 ],
 "metadata": {
  "kernelspec": {
   "display_name": "Python 3",
   "language": "python",
   "name": "python3"
  },
  "language_info": {
   "codemirror_mode": {
    "name": "ipython",
    "version": 2
   },
   "file_extension": ".py",
   "mimetype": "text/x-python",
   "name": "python",
   "nbconvert_exporter": "python",
   "pygments_lexer": "ipython2",
   "version": "2.7.6"
  }
 },
 "nbformat": 4,
 "nbformat_minor": 5
}
