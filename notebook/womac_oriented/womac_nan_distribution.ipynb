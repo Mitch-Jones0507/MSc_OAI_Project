{
 "cells": [
  {
   "metadata": {},
   "cell_type": "markdown",
   "source": "# WOMAC NaN Distribution",
   "id": "9690d02d7aaf8f06"
  },
  {
   "metadata": {},
   "cell_type": "markdown",
   "source": "Here, the moaks_shared_womac_df (the intersection of ID, or unique patient, between V00_moaks, V01_moaks, V01_womac and V03_womac) is analysed on the total number of rows with and without missing values in at least one MOAKS/WOMAC variable. This dataframe contains 3077 unique patients across four timepoints and two tests.",
   "id": "c8c7cdf19cc8f9d5"
  },
  {
   "cell_type": "code",
   "id": "initial_id",
   "metadata": {
    "collapsed": true,
    "ExecuteTime": {
     "end_time": "2025-08-19T22:08:45.906948Z",
     "start_time": "2025-08-19T22:08:44.661131Z"
    }
   },
   "source": [
    "# -- import the shared moaks-womac dataframe -- #\n",
    "from config import moaks_shared_womac_df\n",
    "\n",
    "# -- calculate the total number of rows -- #\n",
    "num_rows = len(moaks_shared_womac_df)\n",
    "# -- calculate the sum of rows that include at least one NaN value -- #\n",
    "num_nan_rows = moaks_shared_womac_df.isna().any(axis=1).sum()\n",
    "# -- calculate the difference -- #\n",
    "num_non_nan_rows = num_rows - num_nan_rows\n",
    "\n",
    "print(f'Number of unique knees in the shared dataframe: {num_rows}')\n",
    "print(f'Number of unique knees with at least one missing value for a variable: {num_nan_rows} ({num_nan_rows / num_rows * 100:.2f}%)')\n",
    "print(f'Number of unique knees with no missing value for a variable: {num_non_nan_rows} ({num_non_nan_rows / num_rows * 100:.2f}%)')"
   ],
   "outputs": [
    {
     "name": "stdout",
     "output_type": "stream",
     "text": [
      "Warning: column count mismatch (101 + 255 != 779)\n",
      "\n",
      "Number of unique knees in the shared dataframe: 3077\n",
      "Number of unique knees with at least one missing value for a variable: 773 (25.12%)\n",
      "Number of unique knees with no missing value for a variable: 2304 (74.88%)\n"
     ]
    }
   ],
   "execution_count": 1
  },
  {
   "metadata": {},
   "cell_type": "markdown",
   "source": "Since the number of unique knees wih no missing values for at least one MOAKS/WOMAC test is 773, we can either drop the NaN rows as to not complicate analysis, or use a method of imputation.",
   "id": "72f225d1e16959df"
  },
  {
   "metadata": {
    "ExecuteTime": {
     "end_time": "2025-08-19T22:08:45.948087Z",
     "start_time": "2025-08-19T22:08:45.912588Z"
    }
   },
   "cell_type": "code",
   "source": [
    "from missing_imputation import moaks_shared_womac_drop_df, moaks_shared_womac_median_df\n",
    "\n",
    "print(f'Shape of dataframe with dropping NaN values: {moaks_shared_womac_drop_df.shape}')\n",
    "print(f'Shape of dataframe with median imputation of NaN values: {moaks_shared_womac_median_df.shape}')"
   ],
   "id": "22448830864f54de",
   "outputs": [
    {
     "name": "stdout",
     "output_type": "stream",
     "text": [
      "Shape of dataframe with dropping NaN values: (2304, 109)\n",
      "Shape of dataframe with median imputation of NaN values: (3077, 109)\n"
     ]
    }
   ],
   "execution_count": 2
  },
  {
   "metadata": {
    "ExecuteTime": {
     "end_time": "2025-08-19T22:08:46.012259Z",
     "start_time": "2025-08-19T22:08:46.005796Z"
    }
   },
   "cell_type": "code",
   "source": [
    "from IPython.display import display\n",
    "from missing_imputation import moaks_shared_womac_median_table\n",
    "\n",
    "display(moaks_shared_womac_median_table)"
   ],
   "id": "44cc7189da251a15",
   "outputs": [
    {
     "data": {
      "text/plain": [
       "                103        95         90         98          102         105  \\\n",
       "Variable  V03WOMTSR  V01WOMTSR  V01WOMTSL  V03WOMTSL  V03WOMADLR  V03WOMADLL   \n",
       "Median          5.0   4.266667     3.1875      3.125       2.125         2.0   \n",
       "\n",
       "                 97          94          99          100  ...         37   \\\n",
       "Variable  V01WOMADLL  V01WOMADLR  V03WOMSTFL  V03WOMSTFR  ...  V00MBMNTMA   \n",
       "Median           2.0         2.0         1.0         1.0  ...         0.0   \n",
       "\n",
       "                36          35          34          33          32   \\\n",
       "Variable  V00MBMNSS  V00MBMNFLP  V00MBMNFMP  V00MBMNFLC  V00MBMNFMC   \n",
       "Median          0.0         0.0         0.0         0.0         0.0   \n",
       "\n",
       "                 31          30         29          53   \n",
       "Variable  V00MBMNFLA  V00MBMNFMA  V00MBMPPL  V01MBMSTLA  \n",
       "Median           0.0         0.0        0.0         0.0  \n",
       "\n",
       "[2 rows x 106 columns]"
      ],
      "text/html": [
       "<div>\n",
       "<style scoped>\n",
       "    .dataframe tbody tr th:only-of-type {\n",
       "        vertical-align: middle;\n",
       "    }\n",
       "\n",
       "    .dataframe tbody tr th {\n",
       "        vertical-align: top;\n",
       "    }\n",
       "\n",
       "    .dataframe thead th {\n",
       "        text-align: right;\n",
       "    }\n",
       "</style>\n",
       "<table border=\"1\" class=\"dataframe\">\n",
       "  <thead>\n",
       "    <tr style=\"text-align: right;\">\n",
       "      <th></th>\n",
       "      <th>103</th>\n",
       "      <th>95</th>\n",
       "      <th>90</th>\n",
       "      <th>98</th>\n",
       "      <th>102</th>\n",
       "      <th>105</th>\n",
       "      <th>97</th>\n",
       "      <th>94</th>\n",
       "      <th>99</th>\n",
       "      <th>100</th>\n",
       "      <th>...</th>\n",
       "      <th>37</th>\n",
       "      <th>36</th>\n",
       "      <th>35</th>\n",
       "      <th>34</th>\n",
       "      <th>33</th>\n",
       "      <th>32</th>\n",
       "      <th>31</th>\n",
       "      <th>30</th>\n",
       "      <th>29</th>\n",
       "      <th>53</th>\n",
       "    </tr>\n",
       "  </thead>\n",
       "  <tbody>\n",
       "    <tr>\n",
       "      <th>Variable</th>\n",
       "      <td>V03WOMTSR</td>\n",
       "      <td>V01WOMTSR</td>\n",
       "      <td>V01WOMTSL</td>\n",
       "      <td>V03WOMTSL</td>\n",
       "      <td>V03WOMADLR</td>\n",
       "      <td>V03WOMADLL</td>\n",
       "      <td>V01WOMADLL</td>\n",
       "      <td>V01WOMADLR</td>\n",
       "      <td>V03WOMSTFL</td>\n",
       "      <td>V03WOMSTFR</td>\n",
       "      <td>...</td>\n",
       "      <td>V00MBMNTMA</td>\n",
       "      <td>V00MBMNSS</td>\n",
       "      <td>V00MBMNFLP</td>\n",
       "      <td>V00MBMNFMP</td>\n",
       "      <td>V00MBMNFLC</td>\n",
       "      <td>V00MBMNFMC</td>\n",
       "      <td>V00MBMNFLA</td>\n",
       "      <td>V00MBMNFMA</td>\n",
       "      <td>V00MBMPPL</td>\n",
       "      <td>V01MBMSTLA</td>\n",
       "    </tr>\n",
       "    <tr>\n",
       "      <th>Median</th>\n",
       "      <td>5.0</td>\n",
       "      <td>4.266667</td>\n",
       "      <td>3.1875</td>\n",
       "      <td>3.125</td>\n",
       "      <td>2.125</td>\n",
       "      <td>2.0</td>\n",
       "      <td>2.0</td>\n",
       "      <td>2.0</td>\n",
       "      <td>1.0</td>\n",
       "      <td>1.0</td>\n",
       "      <td>...</td>\n",
       "      <td>0.0</td>\n",
       "      <td>0.0</td>\n",
       "      <td>0.0</td>\n",
       "      <td>0.0</td>\n",
       "      <td>0.0</td>\n",
       "      <td>0.0</td>\n",
       "      <td>0.0</td>\n",
       "      <td>0.0</td>\n",
       "      <td>0.0</td>\n",
       "      <td>0.0</td>\n",
       "    </tr>\n",
       "  </tbody>\n",
       "</table>\n",
       "<p>2 rows × 106 columns</p>\n",
       "</div>"
      ]
     },
     "metadata": {},
     "output_type": "display_data"
    }
   ],
   "execution_count": 3
  }
 ],
 "metadata": {
  "kernelspec": {
   "display_name": "Python 3",
   "language": "python",
   "name": "python3"
  },
  "language_info": {
   "codemirror_mode": {
    "name": "ipython",
    "version": 2
   },
   "file_extension": ".py",
   "mimetype": "text/x-python",
   "name": "python",
   "nbconvert_exporter": "python",
   "pygments_lexer": "ipython2",
   "version": "2.7.6"
  }
 },
 "nbformat": 4,
 "nbformat_minor": 5
}
