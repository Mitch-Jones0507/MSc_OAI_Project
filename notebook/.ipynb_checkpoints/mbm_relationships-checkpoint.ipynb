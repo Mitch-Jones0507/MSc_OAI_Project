{
 "cells": [
  {
   "metadata": {},
   "cell_type": "markdown",
   "source": "# MBM Relationships",
   "id": "4f2ec4d8f8a93390"
  },
  {
   "metadata": {},
   "cell_type": "markdown",
   "source": [
    "\n",
    "### V00MBMSFMLOAD vs V00MBMNFMLOAD vs V00MBMPFMLOAD\n",
    "This 3D-plot displays the scatter between each BML-load 'component', where frequency of observation is represented as the size of the data point."
   ],
   "id": "d07855957a9ebdf3"
  },
  {
   "cell_type": "code",
   "id": "f4b82681-c250-4483-85e9-0acac693236d",
   "metadata": {
    "ExecuteTime": {
     "end_time": "2025-08-02T22:17:17.836221Z",
     "start_time": "2025-08-02T22:17:17.812052Z"
    }
   },
   "source": [
    "import pandas as pd\n",
    "from modules.plot_moaks_data import plot_moaks_data\n",
    "from scripts.mbm.mbm_load_relationships import v00_moaks_shared_mbm_load\n",
    "pd.options.mode.chained_assignment = None\n",
    "\n",
    "moaks_3d_scatter = plot_moaks_data(v00_moaks_shared_mbm_load)\n",
    "moaks_3d_scatter.show()\n"
   ],
   "outputs": [
    {
     "data": {
      "application/vnd.plotly.v1+json": {
       "data": [
        {
         "hovertemplate": "V00MBMSFMLOAD=%{x}<br>V00MBMNFMLOAD=%{y}<br>V00MBMPFMLOAD=%{z}<br>count=%{marker.size}<extra></extra>",
         "legendgroup": "",
         "marker": {
          "color": "#636efa",
          "opacity": 0.8,
          "size": {
           "dtype": "i2",
           "bdata": "kwd6AAEAAwALAA4AQwCwAQMABwAmAAIANAASAD8AAgABAAkADgAIAA0AMgACAAEABAAJAAEAAwABAAoADwAOAAEAAQACAAIACgAaAAEABAAIAAEAAQAIAAEAAwACAAEABAABAAEAAgABAAIAAQAGAAUACQABAAMAAgACAAIAAQABAAEAAQABAAEAAwADAAUAAQABAAIAAQABAAEAAQABAAEAAQABAAIAAQABAAEA"
          },
          "sizemode": "area",
          "sizeref": 1.211875,
          "symbol": "circle"
         },
         "mode": "markers",
         "name": "",
         "scene": "scene",
         "showlegend": false,
         "x": {
          "dtype": "f8",
          "bdata": "AAAAAAAAAAAAAAAAAADwPwAAAAAAAPA/AAAAAAAA8D8AAAAAAADwPwAAAAAAAPA/AAAAAAAA8D8AAAAAAADwPwAAAAAAAPA/AAAAAAAA8D8AAAAAAADwPwAAAAAAAPA/AAAAAAAAAEAAAAAAAAAAQAAAAAAAAABAAAAAAAAAAEAAAAAAAAAAQAAAAAAAAABAAAAAAAAAAEAAAAAAAAAAQAAAAAAAAABAAAAAAAAAAEAAAAAAAAAAQAAAAAAAAABAAAAAAAAAAEAAAAAAAAAAQAAAAAAAAABAAAAAAAAAAEAAAAAAAAAAQAAAAAAAAAhAAAAAAAAACEAAAAAAAAAIQAAAAAAAAAhAAAAAAAAACEAAAAAAAAAIQAAAAAAAAAhAAAAAAAAACEAAAAAAAAAIQAAAAAAAAAhAAAAAAAAACEAAAAAAAAAIQAAAAAAAAAhAAAAAAAAACEAAAAAAAAAIQAAAAAAAAAhAAAAAAAAACEAAAAAAAAAIQAAAAAAAAAhAAAAAAAAACEAAAAAAAAAIQAAAAAAAAAhAAAAAAAAACEAAAAAAAAAIQAAAAAAAABBAAAAAAAAAEEAAAAAAAAAQQAAAAAAAABBAAAAAAAAAEEAAAAAAAAAQQAAAAAAAABBAAAAAAAAAEEAAAAAAAAAQQAAAAAAAABBAAAAAAAAAEEAAAAAAAAAQQAAAAAAAABBAAAAAAAAAEEAAAAAAAAAUQAAAAAAAABRAAAAAAAAAFEAAAAAAAAAUQAAAAAAAABRAAAAAAAAAFEAAAAAAAAAUQAAAAAAAABRAAAAAAAAAFEAAAAAAAAAUQAAAAAAAABRAAAAAAAAAFEAAAAAAAAAUQAAAAAAAABRAAAAAAAAAFEAAAAAAAAAYQAAAAAAAABhAAAAAAAAAGEAAAAAAAAAYQAAAAAAAABxA"
         },
         "y": {
          "dtype": "f8",
          "bdata": "AAAAAAAAAAAAAAAAAAAAAAAAAAAAAAAAAAAAAAAAAAAAAAAAAADwPwAAAAAAAPA/AAAAAAAA8D8AAAAAAADwPwAAAAAAAABAAAAAAAAAAEAAAAAAAAAAQAAAAAAAAAhAAAAAAAAAAAAAAAAAAADwPwAAAAAAAPA/AAAAAAAA8D8AAAAAAAAAQAAAAAAAAABAAAAAAAAAAEAAAAAAAAAAQAAAAAAAAABAAAAAAAAAAEAAAAAAAAAIQAAAAAAAAAhAAAAAAAAACEAAAAAAAAAIQAAAAAAAABBAAAAAAAAAEEAAAAAAAAAUQAAAAAAAAAAAAAAAAAAA8D8AAAAAAADwPwAAAAAAAABAAAAAAAAAAEAAAAAAAAAAQAAAAAAAAABAAAAAAAAAAEAAAAAAAAAAQAAAAAAAAAhAAAAAAAAACEAAAAAAAAAIQAAAAAAAAAhAAAAAAAAACEAAAAAAAAAIQAAAAAAAABBAAAAAAAAAEEAAAAAAAAAQQAAAAAAAABBAAAAAAAAAEEAAAAAAAAAUQAAAAAAAABRAAAAAAAAAFEAAAAAAAAAYQAAAAAAAAAAAAAAAAAAA8D8AAAAAAAAAQAAAAAAAAABAAAAAAAAAAEAAAAAAAAAIQAAAAAAAAAhAAAAAAAAACEAAAAAAAAAIQAAAAAAAAAhAAAAAAAAAEEAAAAAAAAAQQAAAAAAAABRAAAAAAAAAFEAAAAAAAAAAAAAAAAAAAABAAAAAAAAAAEAAAAAAAAAAQAAAAAAAAABAAAAAAAAACEAAAAAAAAAIQAAAAAAAAAhAAAAAAAAAEEAAAAAAAAAQQAAAAAAAABBAAAAAAAAAEEAAAAAAAAAUQAAAAAAAABRAAAAAAAAAGEAAAAAAAAAAQAAAAAAAAABAAAAAAAAAAEAAAAAAAAAQQAAAAAAAACRA"
         },
         "z": {
          "dtype": "f8",
          "bdata": "AAAAAAAAAAAAAAAAAAAAAAAAAAAAAPA/AAAAAAAACEAAAAAAAAAAAAAAAAAAAPA/AAAAAAAAAEAAAAAAAAAIQAAAAAAAAPA/AAAAAAAAAEAAAAAAAAAIQAAAAAAAAAhAAAAAAAAAAAAAAAAAAAAAQAAAAAAAAAhAAAAAAAAAGEAAAAAAAADwPwAAAAAAAABAAAAAAAAACEAAAAAAAAAQQAAAAAAAABRAAAAAAAAAGEAAAAAAAAAAQAAAAAAAAAhAAAAAAAAAFEAAAAAAAAAYQAAAAAAAABRAAAAAAAAAGEAAAAAAAAAYQAAAAAAAAAAAAAAAAAAAAEAAAAAAAAAIQAAAAAAAAPA/AAAAAAAAAEAAAAAAAAAIQAAAAAAAABBAAAAAAAAAFEAAAAAAAAAYQAAAAAAAAAhAAAAAAAAAFEAAAAAAAAAYQAAAAAAAABxAAAAAAAAAIEAAAAAAAAAiQAAAAAAAABBAAAAAAAAAFEAAAAAAAAAYQAAAAAAAACBAAAAAAAAAIkAAAAAAAAAUQAAAAAAAACBAAAAAAAAAIkAAAAAAAAAUQAAAAAAAAAAAAAAAAAAAFEAAAAAAAAAQQAAAAAAAABRAAAAAAAAAGEAAAAAAAAAUQAAAAAAAABhAAAAAAAAAHEAAAAAAAAAgQAAAAAAAACJAAAAAAAAAFEAAAAAAAAAYQAAAAAAAAAhAAAAAAAAAHEAAAAAAAAAAAAAAAAAAAAhAAAAAAAAAEEAAAAAAAAAUQAAAAAAAABhAAAAAAAAAGEAAAAAAAAAgQAAAAAAAACJAAAAAAAAAEEAAAAAAAAAUQAAAAAAAABhAAAAAAAAAHEAAAAAAAAAYQAAAAAAAACJAAAAAAAAAHEAAAAAAAAAQQAAAAAAAABRAAAAAAAAAGEAAAAAAAAAYQAAAAAAAABhA"
         },
         "type": "scatter3d"
        }
       ],
       "layout": {
        "template": {
         "data": {
          "histogram2dcontour": [
           {
            "type": "histogram2dcontour",
            "colorbar": {
             "outlinewidth": 0,
             "ticks": ""
            },
            "colorscale": [
             [
              0.0,
              "#0d0887"
             ],
             [
              0.1111111111111111,
              "#46039f"
             ],
             [
              0.2222222222222222,
              "#7201a8"
             ],
             [
              0.3333333333333333,
              "#9c179e"
             ],
             [
              0.4444444444444444,
              "#bd3786"
             ],
             [
              0.5555555555555556,
              "#d8576b"
             ],
             [
              0.6666666666666666,
              "#ed7953"
             ],
             [
              0.7777777777777778,
              "#fb9f3a"
             ],
             [
              0.8888888888888888,
              "#fdca26"
             ],
             [
              1.0,
              "#f0f921"
             ]
            ]
           }
          ],
          "choropleth": [
           {
            "type": "choropleth",
            "colorbar": {
             "outlinewidth": 0,
             "ticks": ""
            }
           }
          ],
          "histogram2d": [
           {
            "type": "histogram2d",
            "colorbar": {
             "outlinewidth": 0,
             "ticks": ""
            },
            "colorscale": [
             [
              0.0,
              "#0d0887"
             ],
             [
              0.1111111111111111,
              "#46039f"
             ],
             [
              0.2222222222222222,
              "#7201a8"
             ],
             [
              0.3333333333333333,
              "#9c179e"
             ],
             [
              0.4444444444444444,
              "#bd3786"
             ],
             [
              0.5555555555555556,
              "#d8576b"
             ],
             [
              0.6666666666666666,
              "#ed7953"
             ],
             [
              0.7777777777777778,
              "#fb9f3a"
             ],
             [
              0.8888888888888888,
              "#fdca26"
             ],
             [
              1.0,
              "#f0f921"
             ]
            ]
           }
          ],
          "heatmap": [
           {
            "type": "heatmap",
            "colorbar": {
             "outlinewidth": 0,
             "ticks": ""
            },
            "colorscale": [
             [
              0.0,
              "#0d0887"
             ],
             [
              0.1111111111111111,
              "#46039f"
             ],
             [
              0.2222222222222222,
              "#7201a8"
             ],
             [
              0.3333333333333333,
              "#9c179e"
             ],
             [
              0.4444444444444444,
              "#bd3786"
             ],
             [
              0.5555555555555556,
              "#d8576b"
             ],
             [
              0.6666666666666666,
              "#ed7953"
             ],
             [
              0.7777777777777778,
              "#fb9f3a"
             ],
             [
              0.8888888888888888,
              "#fdca26"
             ],
             [
              1.0,
              "#f0f921"
             ]
            ]
           }
          ],
          "contourcarpet": [
           {
            "type": "contourcarpet",
            "colorbar": {
             "outlinewidth": 0,
             "ticks": ""
            }
           }
          ],
          "contour": [
           {
            "type": "contour",
            "colorbar": {
             "outlinewidth": 0,
             "ticks": ""
            },
            "colorscale": [
             [
              0.0,
              "#0d0887"
             ],
             [
              0.1111111111111111,
              "#46039f"
             ],
             [
              0.2222222222222222,
              "#7201a8"
             ],
             [
              0.3333333333333333,
              "#9c179e"
             ],
             [
              0.4444444444444444,
              "#bd3786"
             ],
             [
              0.5555555555555556,
              "#d8576b"
             ],
             [
              0.6666666666666666,
              "#ed7953"
             ],
             [
              0.7777777777777778,
              "#fb9f3a"
             ],
             [
              0.8888888888888888,
              "#fdca26"
             ],
             [
              1.0,
              "#f0f921"
             ]
            ]
           }
          ],
          "surface": [
           {
            "type": "surface",
            "colorbar": {
             "outlinewidth": 0,
             "ticks": ""
            },
            "colorscale": [
             [
              0.0,
              "#0d0887"
             ],
             [
              0.1111111111111111,
              "#46039f"
             ],
             [
              0.2222222222222222,
              "#7201a8"
             ],
             [
              0.3333333333333333,
              "#9c179e"
             ],
             [
              0.4444444444444444,
              "#bd3786"
             ],
             [
              0.5555555555555556,
              "#d8576b"
             ],
             [
              0.6666666666666666,
              "#ed7953"
             ],
             [
              0.7777777777777778,
              "#fb9f3a"
             ],
             [
              0.8888888888888888,
              "#fdca26"
             ],
             [
              1.0,
              "#f0f921"
             ]
            ]
           }
          ],
          "mesh3d": [
           {
            "type": "mesh3d",
            "colorbar": {
             "outlinewidth": 0,
             "ticks": ""
            }
           }
          ],
          "scatter": [
           {
            "marker": {
             "line": {
              "color": "#283442"
             }
            },
            "type": "scatter"
           }
          ],
          "parcoords": [
           {
            "type": "parcoords",
            "line": {
             "colorbar": {
              "outlinewidth": 0,
              "ticks": ""
             }
            }
           }
          ],
          "scatterpolargl": [
           {
            "type": "scatterpolargl",
            "marker": {
             "colorbar": {
              "outlinewidth": 0,
              "ticks": ""
             }
            }
           }
          ],
          "bar": [
           {
            "error_x": {
             "color": "#f2f5fa"
            },
            "error_y": {
             "color": "#f2f5fa"
            },
            "marker": {
             "line": {
              "color": "rgb(17,17,17)",
              "width": 0.5
             },
             "pattern": {
              "fillmode": "overlay",
              "size": 10,
              "solidity": 0.2
             }
            },
            "type": "bar"
           }
          ],
          "scattergeo": [
           {
            "type": "scattergeo",
            "marker": {
             "colorbar": {
              "outlinewidth": 0,
              "ticks": ""
             }
            }
           }
          ],
          "scatterpolar": [
           {
            "type": "scatterpolar",
            "marker": {
             "colorbar": {
              "outlinewidth": 0,
              "ticks": ""
             }
            }
           }
          ],
          "histogram": [
           {
            "marker": {
             "pattern": {
              "fillmode": "overlay",
              "size": 10,
              "solidity": 0.2
             }
            },
            "type": "histogram"
           }
          ],
          "scattergl": [
           {
            "marker": {
             "line": {
              "color": "#283442"
             }
            },
            "type": "scattergl"
           }
          ],
          "scatter3d": [
           {
            "type": "scatter3d",
            "line": {
             "colorbar": {
              "outlinewidth": 0,
              "ticks": ""
             }
            },
            "marker": {
             "colorbar": {
              "outlinewidth": 0,
              "ticks": ""
             }
            }
           }
          ],
          "scattermap": [
           {
            "type": "scattermap",
            "marker": {
             "colorbar": {
              "outlinewidth": 0,
              "ticks": ""
             }
            }
           }
          ],
          "scattermapbox": [
           {
            "type": "scattermapbox",
            "marker": {
             "colorbar": {
              "outlinewidth": 0,
              "ticks": ""
             }
            }
           }
          ],
          "scatterternary": [
           {
            "type": "scatterternary",
            "marker": {
             "colorbar": {
              "outlinewidth": 0,
              "ticks": ""
             }
            }
           }
          ],
          "scattercarpet": [
           {
            "type": "scattercarpet",
            "marker": {
             "colorbar": {
              "outlinewidth": 0,
              "ticks": ""
             }
            }
           }
          ],
          "carpet": [
           {
            "aaxis": {
             "endlinecolor": "#A2B1C6",
             "gridcolor": "#506784",
             "linecolor": "#506784",
             "minorgridcolor": "#506784",
             "startlinecolor": "#A2B1C6"
            },
            "baxis": {
             "endlinecolor": "#A2B1C6",
             "gridcolor": "#506784",
             "linecolor": "#506784",
             "minorgridcolor": "#506784",
             "startlinecolor": "#A2B1C6"
            },
            "type": "carpet"
           }
          ],
          "table": [
           {
            "cells": {
             "fill": {
              "color": "#506784"
             },
             "line": {
              "color": "rgb(17,17,17)"
             }
            },
            "header": {
             "fill": {
              "color": "#2a3f5f"
             },
             "line": {
              "color": "rgb(17,17,17)"
             }
            },
            "type": "table"
           }
          ],
          "barpolar": [
           {
            "marker": {
             "line": {
              "color": "rgb(17,17,17)",
              "width": 0.5
             },
             "pattern": {
              "fillmode": "overlay",
              "size": 10,
              "solidity": 0.2
             }
            },
            "type": "barpolar"
           }
          ],
          "pie": [
           {
            "automargin": true,
            "type": "pie"
           }
          ]
         },
         "layout": {
          "autotypenumbers": "strict",
          "colorway": [
           "#636efa",
           "#EF553B",
           "#00cc96",
           "#ab63fa",
           "#FFA15A",
           "#19d3f3",
           "#FF6692",
           "#B6E880",
           "#FF97FF",
           "#FECB52"
          ],
          "font": {
           "color": "#f2f5fa"
          },
          "hovermode": "closest",
          "hoverlabel": {
           "align": "left"
          },
          "paper_bgcolor": "rgb(17,17,17)",
          "plot_bgcolor": "rgb(17,17,17)",
          "polar": {
           "bgcolor": "rgb(17,17,17)",
           "angularaxis": {
            "gridcolor": "#506784",
            "linecolor": "#506784",
            "ticks": ""
           },
           "radialaxis": {
            "gridcolor": "#506784",
            "linecolor": "#506784",
            "ticks": ""
           }
          },
          "ternary": {
           "bgcolor": "rgb(17,17,17)",
           "aaxis": {
            "gridcolor": "#506784",
            "linecolor": "#506784",
            "ticks": ""
           },
           "baxis": {
            "gridcolor": "#506784",
            "linecolor": "#506784",
            "ticks": ""
           },
           "caxis": {
            "gridcolor": "#506784",
            "linecolor": "#506784",
            "ticks": ""
           }
          },
          "coloraxis": {
           "colorbar": {
            "outlinewidth": 0,
            "ticks": ""
           }
          },
          "colorscale": {
           "sequential": [
            [
             0.0,
             "#0d0887"
            ],
            [
             0.1111111111111111,
             "#46039f"
            ],
            [
             0.2222222222222222,
             "#7201a8"
            ],
            [
             0.3333333333333333,
             "#9c179e"
            ],
            [
             0.4444444444444444,
             "#bd3786"
            ],
            [
             0.5555555555555556,
             "#d8576b"
            ],
            [
             0.6666666666666666,
             "#ed7953"
            ],
            [
             0.7777777777777778,
             "#fb9f3a"
            ],
            [
             0.8888888888888888,
             "#fdca26"
            ],
            [
             1.0,
             "#f0f921"
            ]
           ],
           "sequentialminus": [
            [
             0.0,
             "#0d0887"
            ],
            [
             0.1111111111111111,
             "#46039f"
            ],
            [
             0.2222222222222222,
             "#7201a8"
            ],
            [
             0.3333333333333333,
             "#9c179e"
            ],
            [
             0.4444444444444444,
             "#bd3786"
            ],
            [
             0.5555555555555556,
             "#d8576b"
            ],
            [
             0.6666666666666666,
             "#ed7953"
            ],
            [
             0.7777777777777778,
             "#fb9f3a"
            ],
            [
             0.8888888888888888,
             "#fdca26"
            ],
            [
             1.0,
             "#f0f921"
            ]
           ],
           "diverging": [
            [
             0,
             "#8e0152"
            ],
            [
             0.1,
             "#c51b7d"
            ],
            [
             0.2,
             "#de77ae"
            ],
            [
             0.3,
             "#f1b6da"
            ],
            [
             0.4,
             "#fde0ef"
            ],
            [
             0.5,
             "#f7f7f7"
            ],
            [
             0.6,
             "#e6f5d0"
            ],
            [
             0.7,
             "#b8e186"
            ],
            [
             0.8,
             "#7fbc41"
            ],
            [
             0.9,
             "#4d9221"
            ],
            [
             1,
             "#276419"
            ]
           ]
          },
          "xaxis": {
           "gridcolor": "#283442",
           "linecolor": "#506784",
           "ticks": "",
           "title": {
            "standoff": 15
           },
           "zerolinecolor": "#283442",
           "automargin": true,
           "zerolinewidth": 2
          },
          "yaxis": {
           "gridcolor": "#283442",
           "linecolor": "#506784",
           "ticks": "",
           "title": {
            "standoff": 15
           },
           "zerolinecolor": "#283442",
           "automargin": true,
           "zerolinewidth": 2
          },
          "scene": {
           "xaxis": {
            "backgroundcolor": "rgb(17,17,17)",
            "gridcolor": "#506784",
            "linecolor": "#506784",
            "showbackground": true,
            "ticks": "",
            "zerolinecolor": "#C8D4E3",
            "gridwidth": 2
           },
           "yaxis": {
            "backgroundcolor": "rgb(17,17,17)",
            "gridcolor": "#506784",
            "linecolor": "#506784",
            "showbackground": true,
            "ticks": "",
            "zerolinecolor": "#C8D4E3",
            "gridwidth": 2
           },
           "zaxis": {
            "backgroundcolor": "rgb(17,17,17)",
            "gridcolor": "#506784",
            "linecolor": "#506784",
            "showbackground": true,
            "ticks": "",
            "zerolinecolor": "#C8D4E3",
            "gridwidth": 2
           }
          },
          "shapedefaults": {
           "line": {
            "color": "#f2f5fa"
           }
          },
          "annotationdefaults": {
           "arrowcolor": "#f2f5fa",
           "arrowhead": 0,
           "arrowwidth": 1
          },
          "geo": {
           "bgcolor": "rgb(17,17,17)",
           "landcolor": "rgb(17,17,17)",
           "subunitcolor": "#506784",
           "showland": true,
           "showlakes": true,
           "lakecolor": "rgb(17,17,17)"
          },
          "title": {
           "x": 0.05
          },
          "updatemenudefaults": {
           "bgcolor": "#506784",
           "borderwidth": 0
          },
          "sliderdefaults": {
           "bgcolor": "#C8D4E3",
           "borderwidth": 1,
           "bordercolor": "rgb(17,17,17)",
           "tickwidth": 0
          },
          "mapbox": {
           "style": "dark"
          }
         }
        },
        "scene": {
         "domain": {
          "x": [
           0.0,
           1.0
          ],
          "y": [
           0.0,
           1.0
          ]
         },
         "xaxis": {
          "title": {
           "text": "V00MBMSFMLOAD"
          },
          "showgrid": false
         },
         "yaxis": {
          "title": {
           "text": "V00MBMNFMLOAD"
          },
          "showgrid": false
         },
         "zaxis": {
          "title": {
           "text": "V00MBMPFMLOAD"
          },
          "showgrid": false
         }
        },
        "legend": {
         "tracegroupgap": 0,
         "itemsizing": "constant"
        },
        "margin": {
         "t": 60
        }
       },
       "config": {
        "plotlyServerURL": "https://plot.ly"
       }
      }
     },
     "metadata": {},
     "output_type": "display_data"
    }
   ],
   "execution_count": 3
  },
  {
   "metadata": {},
   "cell_type": "markdown",
   "source": "### MBM Component Regression Summary",
   "id": "372aa652a00efa91"
  },
  {
   "metadata": {
    "ExecuteTime": {
     "end_time": "2025-08-02T22:17:21.045957Z",
     "start_time": "2025-08-02T22:17:21.023567Z"
    }
   },
   "cell_type": "code",
   "source": [
    "from IPython.display import display\n",
    "from scripts.mbm.mbm_load_relationships import mbm_relationships_df\n",
    "import pandas as pd\n",
    "pd.set_option('display.max_colwidth', None)\n",
    "\n",
    "display(mbm_relationships_df)"
   ],
   "id": "fd13325f04347d07",
   "outputs": [
    {
     "data": {
      "text/plain": [
       "           type  \\\n",
       "0        linear   \n",
       "1        linear   \n",
       "2        linear   \n",
       "3        linear   \n",
       "4        linear   \n",
       "5        linear   \n",
       "6     quadratic   \n",
       "7     quadratic   \n",
       "8     quadratic   \n",
       "9     quadratic   \n",
       "10    quadratic   \n",
       "11    quadratic   \n",
       "12    quadratic   \n",
       "13    quadratic   \n",
       "14    quadratic   \n",
       "15    quadratic   \n",
       "16    quadratic   \n",
       "17    quadratic   \n",
       "18        cubic   \n",
       "19        cubic   \n",
       "20        cubic   \n",
       "21        cubic   \n",
       "22        cubic   \n",
       "23        cubic   \n",
       "24        cubic   \n",
       "25        cubic   \n",
       "26        cubic   \n",
       "27        cubic   \n",
       "28        cubic   \n",
       "29        cubic   \n",
       "30  interaction   \n",
       "31  interaction   \n",
       "32  interaction   \n",
       "33  interaction   \n",
       "34  interaction   \n",
       "35  interaction   \n",
       "36  interaction   \n",
       "37  interaction   \n",
       "38  interaction   \n",
       "39  interaction   \n",
       "40  interaction   \n",
       "41  interaction   \n",
       "\n",
       "                                                                                                                                  formula  \\\n",
       "0                                                                                                           V00MBMSFMLOAD ~ V00MBMNFMLOAD   \n",
       "1                                                                                           V00MBMSFMLOAD ~ V00MBMNFMLOAD + V00MBMPFMLOAD   \n",
       "2                                                                                                           V00MBMNFMLOAD ~ V00MBMPFMLOAD   \n",
       "3                                                                                           V00MBMNFMLOAD ~ V00MBMPFMLOAD + V00MBMSFMLOAD   \n",
       "4                                                                                                           V00MBMPFMLOAD ~ V00MBMNFMLOAD   \n",
       "5                                                                                           V00MBMPFMLOAD ~ V00MBMNFMLOAD + V00MBMSFMLOAD   \n",
       "6                                                                                                     V00MBMSFMLOAD ~ I(V00MBMNFMLOAD**2)   \n",
       "7                                                                                     V00MBMSFMLOAD ~ V00MBMNFMLOAD + I(V00MBMNFMLOAD**2)   \n",
       "8                                               V00MBMSFMLOAD ~ V00MBMNFMLOAD + V00MBMPFMLOAD + I(V00MBMNFMLOAD**2) + I(V00MBMPFMLOAD**2)   \n",
       "9                                                                                     V00MBMSFMLOAD ~ V00MBMNFMLOAD + I(V00MBMPFMLOAD**2)   \n",
       "10                                                                                                    V00MBMNFMLOAD ~ I(V00MBMPFMLOAD**2)   \n",
       "11                                                                                    V00MBMNFMLOAD ~ V00MBMPFMLOAD + I(V00MBMPFMLOAD**2)   \n",
       "12                                              V00MBMNFMLOAD ~ V00MBMPFMLOAD + V00MBMSFMLOAD + I(V00MBMPFMLOAD**2) + I(V00MBMSFMLOAD**2)   \n",
       "13                                                                                    V00MBMNFMLOAD ~ V00MBMPFMLOAD + I(V00MBMSFMLOAD**2)   \n",
       "14                                                                                                    V00MBMPFMLOAD ~ I(V00MBMNFMLOAD**2)   \n",
       "15                                                                                    V00MBMPFMLOAD ~ V00MBMNFMLOAD + I(V00MBMNFMLOAD**2)   \n",
       "16                                              V00MBMPFMLOAD ~ V00MBMNFMLOAD + V00MBMSFMLOAD + I(V00MBMNFMLOAD**2) + I(V00MBMSFMLOAD**2)   \n",
       "17                                                                                    V00MBMPFMLOAD ~ V00MBMNFMLOAD + I(V00MBMSFMLOAD**2)   \n",
       "18                                                                                                    V00MBMSFMLOAD ~ I(V00MBMNFMLOAD**3)   \n",
       "19                                                              V00MBMSFMLOAD ~ V00MBMNFMLOAD + I(V00MBMNFMLOAD**2) + I(V00MBMNFMLOAD**3)   \n",
       "20  V00MBMSFMLOAD ~ V00MBMNFMLOAD + V00MBMPFMLOAD + I(V00MBMNFMLOAD**2) + I(V00MBMPFMLOAD**2) + I(V00MBMNFMLOAD**3) + I(V00MBMPFMLOAD**3)   \n",
       "21                                                              V00MBMSFMLOAD ~ V00MBMNFMLOAD + I(V00MBMPFMLOAD**2) + I(V00MBMPFMLOAD**3)   \n",
       "22                                                                                                    V00MBMNFMLOAD ~ I(V00MBMPFMLOAD**3)   \n",
       "23                                                              V00MBMNFMLOAD ~ V00MBMPFMLOAD + I(V00MBMPFMLOAD**2) + I(V00MBMPFMLOAD**3)   \n",
       "24  V00MBMNFMLOAD ~ V00MBMPFMLOAD + V00MBMSFMLOAD + I(V00MBMPFMLOAD**2) + I(V00MBMSFMLOAD**2) + I(V00MBMPFMLOAD**3) + I(V00MBMSFMLOAD**3)   \n",
       "25                                                              V00MBMNFMLOAD ~ V00MBMPFMLOAD + I(V00MBMSFMLOAD**2) + I(V00MBMSFMLOAD**3)   \n",
       "26                                                                                                    V00MBMPFMLOAD ~ I(V00MBMNFMLOAD**3)   \n",
       "27                                                              V00MBMPFMLOAD ~ V00MBMNFMLOAD + I(V00MBMNFMLOAD**2) + I(V00MBMNFMLOAD**3)   \n",
       "28  V00MBMPFMLOAD ~ V00MBMNFMLOAD + V00MBMSFMLOAD + I(V00MBMNFMLOAD**2) + I(V00MBMSFMLOAD**2) + I(V00MBMNFMLOAD**3) + I(V00MBMSFMLOAD**3)   \n",
       "29                                                              V00MBMPFMLOAD ~ V00MBMNFMLOAD + I(V00MBMSFMLOAD**2) + I(V00MBMSFMLOAD**3)   \n",
       "30                                                                                            V00MBMSFMLOAD ~ V00MBMNFMLOAD:V00MBMPFMLOAD   \n",
       "31                                                                                            V00MBMSFMLOAD ~ V00MBMNFMLOAD*V00MBMPFMLOAD   \n",
       "32                                                                                      V00MBMSFMLOAD ~ V00MBMNFMLOAD*I(V00MBMPFMLOAD**2)   \n",
       "33                                                                                      V00MBMSFMLOAD ~ V00MBMNFMLOAD*I(V00MBMPFMLOAD**3)   \n",
       "34                                                                                            V00MBMNFMLOAD ~ V00MBMPFMLOAD:V00MBMSFMLOAD   \n",
       "35                                                                                            V00MBMNFMLOAD ~ V00MBMPFMLOAD*V00MBMSFMLOAD   \n",
       "36                                                                                      V00MBMNFMLOAD ~ V00MBMPFMLOAD*I(V00MBMSFMLOAD**2)   \n",
       "37                                                                                      V00MBMNFMLOAD ~ V00MBMPFMLOAD*I(V00MBMSFMLOAD**3)   \n",
       "38                                                                                            V00MBMPFMLOAD ~ V00MBMNFMLOAD:V00MBMSFMLOAD   \n",
       "39                                                                                            V00MBMPFMLOAD ~ V00MBMNFMLOAD*V00MBMSFMLOAD   \n",
       "40                                                                                      V00MBMPFMLOAD ~ V00MBMNFMLOAD*I(V00MBMSFMLOAD**2)   \n",
       "41                                                                                      V00MBMPFMLOAD ~ V00MBMNFMLOAD*I(V00MBMSFMLOAD**3)   \n",
       "\n",
       "                                                                                                                                                                                                                                                          params  \\\n",
       "0                                                                                                                                                                                             Intercept        0.005963\n",
       "V00MBMNFMLOAD    1.020190\n",
       "dtype: float64   \n",
       "1                                                                                                                                                                   Intercept        0.005372\n",
       "V00MBMNFMLOAD    0.542274\n",
       "V00MBMPFMLOAD    0.162266\n",
       "dtype: float64   \n",
       "2                                                                                                                                                                                             Intercept        0.000177\n",
       "V00MBMPFMLOAD    0.342193\n",
       "dtype: float64   \n",
       "3                                                                                                                                                                   Intercept       -0.000125\n",
       "V00MBMPFMLOAD    0.322343\n",
       "V00MBMSFMLOAD    0.049267\n",
       "dtype: float64   \n",
       "4                                                                                                                                                                                             Intercept        0.003205\n",
       "V00MBMNFMLOAD    2.862385\n",
       "dtype: float64   \n",
       "5                                                                                                                                                                   Intercept        0.001269\n",
       "V00MBMNFMLOAD    2.771790\n",
       "V00MBMSFMLOAD    0.126768\n",
       "dtype: float64   \n",
       "6                                                                                                                                                                             Intercept                0.027428\n",
       "I(V00MBMNFMLOAD ** 2)    0.665775\n",
       "dtype: float64   \n",
       "7                                                                                                                                           Intercept                0.005598\n",
       "V00MBMNFMLOAD            1.064789\n",
       "I(V00MBMNFMLOAD ** 2)   -0.035816\n",
       "dtype: float64   \n",
       "8                                                                       Intercept                0.005527\n",
       "V00MBMNFMLOAD            0.839421\n",
       "V00MBMPFMLOAD            0.028928\n",
       "I(V00MBMNFMLOAD ** 2)   -0.092967\n",
       "I(V00MBMPFMLOAD ** 2)    0.020939\n",
       "dtype: float64   \n",
       "9                                                                                                                                           Intercept                0.005915\n",
       "V00MBMNFMLOAD            0.861736\n",
       "I(V00MBMPFMLOAD ** 2)    0.016133\n",
       "dtype: float64   \n",
       "10                                                                                                                                                                            Intercept                0.009457\n",
       "I(V00MBMPFMLOAD ** 2)    0.091331\n",
       "dtype: float64   \n",
       "11                                                                                                                                          Intercept                0.000209\n",
       "V00MBMPFMLOAD            0.339397\n",
       "I(V00MBMPFMLOAD ** 2)    0.000823\n",
       "dtype: float64   \n",
       "12                                                                      Intercept                0.000011\n",
       "V00MBMPFMLOAD            0.346374\n",
       "V00MBMSFMLOAD           -0.013076\n",
       "I(V00MBMPFMLOAD ** 2)   -0.004585\n",
       "I(V00MBMSFMLOAD ** 2)    0.030100\n",
       "dtype: float64   \n",
       "13                                                                                                                                          Intercept                0.000062\n",
       "V00MBMPFMLOAD            0.330436\n",
       "I(V00MBMSFMLOAD ** 2)    0.021839\n",
       "dtype: float64   \n",
       "14                                                                                                                                                                            Intercept                0.052494\n",
       "I(V00MBMNFMLOAD ** 2)    1.865977\n",
       "dtype: float64   \n",
       "15                                                                                                                                          Intercept                0.000082\n",
       "V00MBMNFMLOAD            3.369725\n",
       "I(V00MBMNFMLOAD ** 2)   -0.412239\n",
       "dtype: float64   \n",
       "16                                                                      Intercept               -0.000046\n",
       "V00MBMNFMLOAD            3.394153\n",
       "V00MBMSFMLOAD           -0.025385\n",
       "I(V00MBMNFMLOAD ** 2)   -0.469112\n",
       "I(V00MBMSFMLOAD ** 2)    0.057253\n",
       "dtype: float64   \n",
       "17                                                                                                                                          Intercept                0.002053\n",
       "V00MBMNFMLOAD            2.924017\n",
       "I(V00MBMSFMLOAD ** 2)   -0.019561\n",
       "dtype: float64   \n",
       "18                                                                                                                                                                            Intercept                0.068089\n",
       "I(V00MBMNFMLOAD ** 3)    0.153811\n",
       "dtype: float64   \n",
       "19                                                                                                        Intercept                0.005658\n",
       "V00MBMNFMLOAD            1.034384\n",
       "I(V00MBMNFMLOAD ** 2)    0.000798\n",
       "I(V00MBMNFMLOAD ** 3)   -0.008079\n",
       "dtype: float64   \n",
       "20  Intercept                0.005492\n",
       "V00MBMNFMLOAD            1.613614\n",
       "V00MBMPFMLOAD           -0.264554\n",
       "I(V00MBMNFMLOAD ** 2)   -0.464750\n",
       "I(V00MBMPFMLOAD ** 2)    0.078351\n",
       "I(V00MBMNFMLOAD ** 3)    0.039440\n",
       "I(V00MBMPFMLOAD ** 3)   -0.002933\n",
       "dtype: float64   \n",
       "21                                                                                                        Intercept                0.005656\n",
       "V00MBMNFMLOAD            0.633559\n",
       "I(V00MBMPFMLOAD ** 2)    0.057804\n",
       "I(V00MBMPFMLOAD ** 3)   -0.004989\n",
       "dtype: float64   \n",
       "22                                                                                                                                                                            Intercept                0.030344\n",
       "I(V00MBMPFMLOAD ** 3)    0.016280\n",
       "dtype: float64   \n",
       "23                                                                                                        Intercept                0.000152\n",
       "V00MBMPFMLOAD            0.440534\n",
       "I(V00MBMPFMLOAD ** 2)   -0.048780\n",
       "I(V00MBMPFMLOAD ** 3)    0.005303\n",
       "dtype: float64   \n",
       "24  Intercept               -0.000012\n",
       "V00MBMPFMLOAD            0.484224\n",
       "V00MBMSFMLOAD           -0.016849\n",
       "I(V00MBMPFMLOAD ** 2)   -0.070828\n",
       "I(V00MBMSFMLOAD ** 2)    0.028055\n",
       "I(V00MBMPFMLOAD ** 3)    0.006940\n",
       "I(V00MBMSFMLOAD ** 3)    0.001138\n",
       "dtype: float64   \n",
       "25                                                                                                        Intercept                0.000091\n",
       "V00MBMPFMLOAD            0.331970\n",
       "I(V00MBMSFMLOAD ** 2)    0.015272\n",
       "I(V00MBMSFMLOAD ** 3)    0.001979\n",
       "dtype: float64   \n",
       "26                                                                                                                                                                            Intercept                0.145554\n",
       "I(V00MBMNFMLOAD ** 3)    0.420544\n",
       "dtype: float64   \n",
       "27                                                                                                        Intercept               -0.000025\n",
       "V00MBMNFMLOAD            3.437664\n",
       "I(V00MBMNFMLOAD ** 2)   -0.494196\n",
       "I(V00MBMNFMLOAD ** 3)    0.018162\n",
       "dtype: float64   \n",
       "28  Intercept                0.000005\n",
       "V00MBMNFMLOAD            3.699233\n",
       "V00MBMSFMLOAD           -0.251980\n",
       "I(V00MBMNFMLOAD ** 2)   -0.753357\n",
       "I(V00MBMSFMLOAD ** 2)    0.254326\n",
       "I(V00MBMNFMLOAD ** 3)    0.048599\n",
       "I(V00MBMSFMLOAD ** 3)   -0.035905\n",
       "dtype: float64   \n",
       "29                                                                                                        Intercept                0.001219\n",
       "V00MBMNFMLOAD            2.812594\n",
       "I(V00MBMSFMLOAD ** 2)    0.144784\n",
       "I(V00MBMSFMLOAD ** 3)   -0.049363\n",
       "dtype: float64   \n",
       "30                                                                                                                                                                Intercept                      0.012604\n",
       "V00MBMNFMLOAD:V00MBMPFMLOAD    0.291092\n",
       "dtype: float64   \n",
       "31                                                                                Intercept                      0.005512\n",
       "V00MBMNFMLOAD                  0.480642\n",
       "V00MBMPFMLOAD                  0.161996\n",
       "V00MBMNFMLOAD:V00MBMPFMLOAD    0.019323\n",
       "dtype: float64   \n",
       "32                                                Intercept                              0.005595\n",
       "V00MBMNFMLOAD                          0.712093\n",
       "I(V00MBMPFMLOAD ** 2)                  0.044666\n",
       "V00MBMNFMLOAD:I(V00MBMPFMLOAD ** 2)   -0.010446\n",
       "dtype: float64   \n",
       "33                                                Intercept                              0.005766\n",
       "V00MBMNFMLOAD                          0.878643\n",
       "I(V00MBMPFMLOAD ** 3)                  0.007075\n",
       "V00MBMNFMLOAD:I(V00MBMPFMLOAD ** 3)   -0.002168\n",
       "dtype: float64   \n",
       "34                                                                                                                                                                Intercept                      0.007926\n",
       "V00MBMPFMLOAD:V00MBMSFMLOAD    0.256526\n",
       "dtype: float64   \n",
       "35                                                                                Intercept                      0.000019\n",
       "V00MBMPFMLOAD                  0.313980\n",
       "V00MBMSFMLOAD                  0.038513\n",
       "V00MBMPFMLOAD:V00MBMSFMLOAD    0.010690\n",
       "dtype: float64   \n",
       "36                                                Intercept                              0.000084\n",
       "V00MBMPFMLOAD                          0.330478\n",
       "I(V00MBMSFMLOAD ** 2)                  0.019928\n",
       "V00MBMPFMLOAD:I(V00MBMSFMLOAD ** 2)    0.000506\n",
       "dtype: float64   \n",
       "37                                                Intercept                              0.000133\n",
       "V00MBMPFMLOAD                          0.335786\n",
       "I(V00MBMSFMLOAD ** 3)                  0.007479\n",
       "V00MBMPFMLOAD:I(V00MBMSFMLOAD ** 3)   -0.000320\n",
       "dtype: float64   \n",
       "38                                                                                                                                                                Intercept                      0.034953\n",
       "V00MBMNFMLOAD:V00MBMSFMLOAD    1.932043\n",
       "dtype: float64   \n",
       "39                                                                                Intercept                      0.000106\n",
       "V00MBMNFMLOAD                  2.955055\n",
       "V00MBMSFMLOAD                  0.192796\n",
       "V00MBMNFMLOAD:V00MBMSFMLOAD   -0.216727\n",
       "dtype: float64   \n",
       "40                                                Intercept                              0.000795\n",
       "V00MBMNFMLOAD                          2.907727\n",
       "I(V00MBMSFMLOAD ** 2)                  0.078665\n",
       "V00MBMNFMLOAD:I(V00MBMSFMLOAD ** 2)   -0.065550\n",
       "dtype: float64   \n",
       "41                                                Intercept                              0.001515\n",
       "V00MBMNFMLOAD                          2.911576\n",
       "I(V00MBMSFMLOAD ** 3)                  0.010561\n",
       "V00MBMNFMLOAD:I(V00MBMSFMLOAD ** 3)   -0.010481\n",
       "dtype: float64   \n",
       "\n",
       "                                                                                                                                                                                                                                                                                           p_values  \\\n",
       "0                                                                                                                                                                                                                                Intercept        0.002565\n",
       "V00MBMNFMLOAD    0.000000\n",
       "dtype: float64   \n",
       "1                                                                                                                                                                                          Intercept        2.097427e-03\n",
       "V00MBMNFMLOAD    7.306720e-20\n",
       "V00MBMPFMLOAD    1.321223e-15\n",
       "dtype: float64   \n",
       "2                                                                                                                                                                                                                                Intercept        0.793669\n",
       "V00MBMPFMLOAD    0.000000\n",
       "dtype: float64   \n",
       "3                                                                                                                                                                                          Intercept        8.130456e-01\n",
       "V00MBMPFMLOAD    0.000000e+00\n",
       "V00MBMSFMLOAD    7.306720e-20\n",
       "dtype: float64   \n",
       "4                                                                                                                                                                                                                                  Intercept        0.10216\n",
       "V00MBMNFMLOAD    0.00000\n",
       "dtype: float64   \n",
       "5                                                                                                                                                                                          Intercept        4.114230e-01\n",
       "V00MBMNFMLOAD    0.000000e+00\n",
       "V00MBMSFMLOAD    1.321223e-15\n",
       "dtype: float64   \n",
       "6                                                                                                                                                                                                        Intercept                4.478634e-19\n",
       "I(V00MBMNFMLOAD ** 2)    0.000000e+00\n",
       "dtype: float64   \n",
       "7                                                                                                                                                                              Intercept                0.004651\n",
       "V00MBMNFMLOAD            0.000000\n",
       "I(V00MBMNFMLOAD ** 2)    0.002009\n",
       "dtype: float64   \n",
       "8                                                                                      Intercept                1.519965e-03\n",
       "V00MBMNFMLOAD            4.069568e-12\n",
       "V00MBMPFMLOAD            5.015603e-01\n",
       "I(V00MBMNFMLOAD ** 2)    4.382251e-03\n",
       "I(V00MBMPFMLOAD ** 2)    4.096603e-05\n",
       "dtype: float64   \n",
       "9                                                                                                                                                               Intercept                 7.469853e-04\n",
       "V00MBMNFMLOAD            5.024510e-207\n",
       "I(V00MBMPFMLOAD ** 2)     1.346425e-09\n",
       "dtype: float64   \n",
       "10                                                                                                                                                                                                       Intercept                1.910271e-09\n",
       "I(V00MBMPFMLOAD ** 2)    0.000000e+00\n",
       "dtype: float64   \n",
       "11                                                                                                                                                                             Intercept                0.758338\n",
       "V00MBMPFMLOAD            0.000000\n",
       "I(V00MBMPFMLOAD ** 2)    0.312694\n",
       "dtype: float64   \n",
       "12                                                                                     Intercept                9.833030e-01\n",
       "V00MBMPFMLOAD            0.000000e+00\n",
       "V00MBMSFMLOAD            1.933096e-01\n",
       "I(V00MBMPFMLOAD ** 2)    2.863504e-05\n",
       "I(V00MBMSFMLOAD ** 2)    3.543774e-13\n",
       "dtype: float64   \n",
       "13                                                                                                                                                                 Intercept                9.062378e-01\n",
       "V00MBMPFMLOAD            0.000000e+00\n",
       "I(V00MBMSFMLOAD ** 2)    1.762936e-27\n",
       "dtype: float64   \n",
       "14                                                                                                                                                                                                       Intercept                5.123444e-15\n",
       "I(V00MBMNFMLOAD ** 2)    0.000000e+00\n",
       "dtype: float64   \n",
       "15                                                                                                                                                              Intercept                 9.601710e-01\n",
       "V00MBMNFMLOAD             0.000000e+00\n",
       "I(V00MBMNFMLOAD ** 2)    4.515538e-243\n",
       "dtype: float64   \n",
       "16                                                                                Intercept                 9.714399e-01\n",
       "V00MBMNFMLOAD             0.000000e+00\n",
       "V00MBMSFMLOAD             2.960608e-01\n",
       "I(V00MBMNFMLOAD ** 2)    3.902447e-205\n",
       "I(V00MBMSFMLOAD ** 2)     4.745022e-09\n",
       "dtype: float64   \n",
       "17                                                                                                                                                                             Intercept                0.187006\n",
       "V00MBMNFMLOAD            0.000000\n",
       "I(V00MBMSFMLOAD ** 2)    0.001187\n",
       "dtype: float64   \n",
       "18                                                                                                                                                                                                     Intercept                 1.593681e-43\n",
       "I(V00MBMNFMLOAD ** 3)    2.526791e-186\n",
       "dtype: float64   \n",
       "19                                                                                                                       Intercept                 4.231263e-03\n",
       "V00MBMNFMLOAD            7.340926e-280\n",
       "I(V00MBMNFMLOAD ** 2)     9.766997e-01\n",
       "I(V00MBMNFMLOAD ** 3)     1.387528e-01\n",
       "dtype: float64   \n",
       "20         Intercept                1.581671e-03\n",
       "V00MBMNFMLOAD            2.543819e-13\n",
       "V00MBMPFMLOAD            5.854825e-03\n",
       "I(V00MBMNFMLOAD ** 2)    6.772847e-07\n",
       "I(V00MBMPFMLOAD ** 2)    2.272723e-03\n",
       "I(V00MBMNFMLOAD ** 3)    2.159944e-05\n",
       "I(V00MBMPFMLOAD ** 3)    1.993234e-01\n",
       "dtype: float64   \n",
       "21                                                                                                                           Intercept                1.205925e-03\n",
       "V00MBMNFMLOAD            9.947243e-36\n",
       "I(V00MBMPFMLOAD ** 2)    3.563680e-12\n",
       "I(V00MBMPFMLOAD ** 3)    1.170887e-07\n",
       "dtype: float64   \n",
       "22                                                                                                                                                                                                       Intercept                3.544925e-24\n",
       "I(V00MBMPFMLOAD ** 3)    0.000000e+00\n",
       "dtype: float64   \n",
       "23                                                                                                                       Intercept                 8.208269e-01\n",
       "V00MBMPFMLOAD            1.024299e-226\n",
       "I(V00MBMPFMLOAD ** 2)     1.109206e-15\n",
       "I(V00MBMPFMLOAD ** 3)     2.027947e-16\n",
       "dtype: float64   \n",
       "24  Intercept                 9.817497e-01\n",
       "V00MBMPFMLOAD            7.951142e-225\n",
       "V00MBMSFMLOAD             3.021154e-01\n",
       "I(V00MBMPFMLOAD ** 2)     1.124944e-29\n",
       "I(V00MBMSFMLOAD ** 2)     2.999245e-02\n",
       "I(V00MBMPFMLOAD ** 3)     1.180037e-27\n",
       "I(V00MBMSFMLOAD ** 3)     6.369949e-01\n",
       "dtype: float64   \n",
       "25                                                                                                                                           Intercept                0.861343\n",
       "V00MBMPFMLOAD            0.000000\n",
       "I(V00MBMSFMLOAD ** 2)    0.003837\n",
       "I(V00MBMSFMLOAD ** 3)    0.179276\n",
       "dtype: float64   \n",
       "26                                                                                                                                                                                                     Intercept                 1.043551e-34\n",
       "I(V00MBMNFMLOAD ** 3)    5.630707e-180\n",
       "dtype: float64   \n",
       "27                                                                                                                           Intercept                9.879158e-01\n",
       "V00MBMNFMLOAD            0.000000e+00\n",
       "I(V00MBMNFMLOAD ** 2)    2.430165e-80\n",
       "I(V00MBMNFMLOAD ** 3)    2.970870e-04\n",
       "dtype: float64   \n",
       "28  Intercept                 9.965264e-01\n",
       "V00MBMNFMLOAD             0.000000e+00\n",
       "V00MBMSFMLOAD             2.750624e-10\n",
       "I(V00MBMNFMLOAD ** 2)    1.139501e-129\n",
       "I(V00MBMSFMLOAD ** 2)     2.120397e-15\n",
       "I(V00MBMNFMLOAD ** 3)     7.002749e-27\n",
       "I(V00MBMSFMLOAD ** 3)     6.108158e-09\n",
       "dtype: float64   \n",
       "29                                                                                                                           Intercept                4.235260e-01\n",
       "V00MBMNFMLOAD            0.000000e+00\n",
       "I(V00MBMSFMLOAD ** 2)    2.560703e-21\n",
       "I(V00MBMSFMLOAD ** 3)    2.690823e-31\n",
       "dtype: float64   \n",
       "30                                                                                                                                                                                           Intercept                      5.482464e-09\n",
       "V00MBMNFMLOAD:V00MBMPFMLOAD    0.000000e+00\n",
       "dtype: float64   \n",
       "31                                                                                                   Intercept                      1.593439e-03\n",
       "V00MBMNFMLOAD                  9.713825e-14\n",
       "V00MBMPFMLOAD                  1.399486e-15\n",
       "V00MBMNFMLOAD:V00MBMPFMLOAD    1.573128e-02\n",
       "dtype: float64   \n",
       "32                                                                   Intercept                              1.341816e-03\n",
       "V00MBMNFMLOAD                          4.213138e-84\n",
       "I(V00MBMPFMLOAD ** 2)                  1.076800e-16\n",
       "V00MBMNFMLOAD:I(V00MBMPFMLOAD ** 2)    1.023203e-09\n",
       "dtype: float64   \n",
       "33                                                                   Intercept                              9.796800e-04\n",
       "V00MBMNFMLOAD                          0.000000e+00\n",
       "I(V00MBMPFMLOAD ** 3)                  2.608020e-13\n",
       "V00MBMNFMLOAD:I(V00MBMPFMLOAD ** 3)    1.911805e-10\n",
       "dtype: float64   \n",
       "34                                                                                                                                                                                           Intercept                      8.696513e-08\n",
       "V00MBMPFMLOAD:V00MBMSFMLOAD    0.000000e+00\n",
       "dtype: float64   \n",
       "35                                                                                                   Intercept                      9.709731e-01\n",
       "V00MBMPFMLOAD                  0.000000e+00\n",
       "V00MBMSFMLOAD                  1.000645e-11\n",
       "V00MBMPFMLOAD:V00MBMSFMLOAD    3.942679e-09\n",
       "dtype: float64   \n",
       "36                                                                   Intercept                              8.730637e-01\n",
       "V00MBMPFMLOAD                          0.000000e+00\n",
       "I(V00MBMSFMLOAD ** 2)                  5.655212e-10\n",
       "V00MBMPFMLOAD:I(V00MBMSFMLOAD ** 2)    4.464505e-01\n",
       "dtype: float64   \n",
       "37                                                                   Intercept                              7.990603e-01\n",
       "V00MBMPFMLOAD                          0.000000e+00\n",
       "I(V00MBMSFMLOAD ** 3)                  3.554310e-08\n",
       "V00MBMPFMLOAD:I(V00MBMSFMLOAD ** 3)    2.081951e-01\n",
       "dtype: float64   \n",
       "38                                                                                                                                                                                           Intercept                      1.366396e-10\n",
       "V00MBMNFMLOAD:V00MBMSFMLOAD    0.000000e+00\n",
       "dtype: float64   \n",
       "39                                                                                                   Intercept                      9.430652e-01\n",
       "V00MBMNFMLOAD                  0.000000e+00\n",
       "V00MBMSFMLOAD                  2.878693e-34\n",
       "V00MBMNFMLOAD:V00MBMSFMLOAD    9.199209e-61\n",
       "dtype: float64   \n",
       "40                                                                   Intercept                              5.935185e-01\n",
       "V00MBMNFMLOAD                          0.000000e+00\n",
       "I(V00MBMSFMLOAD ** 2)                  9.548093e-22\n",
       "V00MBMNFMLOAD:I(V00MBMSFMLOAD ** 2)    2.304127e-62\n",
       "dtype: float64   \n",
       "41                                                                   Intercept                              3.161599e-01\n",
       "V00MBMNFMLOAD                          0.000000e+00\n",
       "I(V00MBMSFMLOAD ** 3)                  3.542605e-05\n",
       "V00MBMNFMLOAD:I(V00MBMSFMLOAD ** 3)    6.473047e-31\n",
       "dtype: float64   \n",
       "\n",
       "    r_squared  \n",
       "0    0.881134  \n",
       "1    0.859861  \n",
       "2    0.979488  \n",
       "3    0.984757  \n",
       "4    0.979488  \n",
       "5    0.984661  \n",
       "6    0.709191  \n",
       "7    0.881502  \n",
       "8    0.860667  \n",
       "9    0.858618  \n",
       "10   0.888743  \n",
       "11   0.979495  \n",
       "12   0.985018  \n",
       "13   0.984928  \n",
       "14   0.757713  \n",
       "15   0.985699  \n",
       "16   0.989489  \n",
       "17   0.984392  \n",
       "18   0.240927  \n",
       "19   0.881587  \n",
       "20   0.861484  \n",
       "21   0.859904  \n",
       "22   0.594410  \n",
       "23   0.979941  \n",
       "24   0.985600  \n",
       "25   0.984937  \n",
       "26   0.233684  \n",
       "27   0.985760  \n",
       "28   0.989880  \n",
       "29   0.985065  \n",
       "30   0.788104  \n",
       "31   0.860127  \n",
       "32   0.860324  \n",
       "33   0.859548  \n",
       "34   0.858242  \n",
       "35   0.984928  \n",
       "36   0.984931  \n",
       "37   0.984904  \n",
       "38   0.779580  \n",
       "39   0.985953  \n",
       "40   0.985741  \n",
       "41   0.985276  "
      ],
      "text/html": [
       "<div>\n",
       "<style scoped>\n",
       "    .dataframe tbody tr th:only-of-type {\n",
       "        vertical-align: middle;\n",
       "    }\n",
       "\n",
       "    .dataframe tbody tr th {\n",
       "        vertical-align: top;\n",
       "    }\n",
       "\n",
       "    .dataframe thead th {\n",
       "        text-align: right;\n",
       "    }\n",
       "</style>\n",
       "<table border=\"1\" class=\"dataframe\">\n",
       "  <thead>\n",
       "    <tr style=\"text-align: right;\">\n",
       "      <th></th>\n",
       "      <th>type</th>\n",
       "      <th>formula</th>\n",
       "      <th>params</th>\n",
       "      <th>p_values</th>\n",
       "      <th>r_squared</th>\n",
       "    </tr>\n",
       "  </thead>\n",
       "  <tbody>\n",
       "    <tr>\n",
       "      <th>0</th>\n",
       "      <td>linear</td>\n",
       "      <td>V00MBMSFMLOAD ~ V00MBMNFMLOAD</td>\n",
       "      <td>Intercept        0.005963\n",
       "V00MBMNFMLOAD    1.020190\n",
       "dtype: float64</td>\n",
       "      <td>Intercept        0.002565\n",
       "V00MBMNFMLOAD    0.000000\n",
       "dtype: float64</td>\n",
       "      <td>0.881134</td>\n",
       "    </tr>\n",
       "    <tr>\n",
       "      <th>1</th>\n",
       "      <td>linear</td>\n",
       "      <td>V00MBMSFMLOAD ~ V00MBMNFMLOAD + V00MBMPFMLOAD</td>\n",
       "      <td>Intercept        0.005372\n",
       "V00MBMNFMLOAD    0.542274\n",
       "V00MBMPFMLOAD    0.162266\n",
       "dtype: float64</td>\n",
       "      <td>Intercept        2.097427e-03\n",
       "V00MBMNFMLOAD    7.306720e-20\n",
       "V00MBMPFMLOAD    1.321223e-15\n",
       "dtype: float64</td>\n",
       "      <td>0.859861</td>\n",
       "    </tr>\n",
       "    <tr>\n",
       "      <th>2</th>\n",
       "      <td>linear</td>\n",
       "      <td>V00MBMNFMLOAD ~ V00MBMPFMLOAD</td>\n",
       "      <td>Intercept        0.000177\n",
       "V00MBMPFMLOAD    0.342193\n",
       "dtype: float64</td>\n",
       "      <td>Intercept        0.793669\n",
       "V00MBMPFMLOAD    0.000000\n",
       "dtype: float64</td>\n",
       "      <td>0.979488</td>\n",
       "    </tr>\n",
       "    <tr>\n",
       "      <th>3</th>\n",
       "      <td>linear</td>\n",
       "      <td>V00MBMNFMLOAD ~ V00MBMPFMLOAD + V00MBMSFMLOAD</td>\n",
       "      <td>Intercept       -0.000125\n",
       "V00MBMPFMLOAD    0.322343\n",
       "V00MBMSFMLOAD    0.049267\n",
       "dtype: float64</td>\n",
       "      <td>Intercept        8.130456e-01\n",
       "V00MBMPFMLOAD    0.000000e+00\n",
       "V00MBMSFMLOAD    7.306720e-20\n",
       "dtype: float64</td>\n",
       "      <td>0.984757</td>\n",
       "    </tr>\n",
       "    <tr>\n",
       "      <th>4</th>\n",
       "      <td>linear</td>\n",
       "      <td>V00MBMPFMLOAD ~ V00MBMNFMLOAD</td>\n",
       "      <td>Intercept        0.003205\n",
       "V00MBMNFMLOAD    2.862385\n",
       "dtype: float64</td>\n",
       "      <td>Intercept        0.10216\n",
       "V00MBMNFMLOAD    0.00000\n",
       "dtype: float64</td>\n",
       "      <td>0.979488</td>\n",
       "    </tr>\n",
       "    <tr>\n",
       "      <th>5</th>\n",
       "      <td>linear</td>\n",
       "      <td>V00MBMPFMLOAD ~ V00MBMNFMLOAD + V00MBMSFMLOAD</td>\n",
       "      <td>Intercept        0.001269\n",
       "V00MBMNFMLOAD    2.771790\n",
       "V00MBMSFMLOAD    0.126768\n",
       "dtype: float64</td>\n",
       "      <td>Intercept        4.114230e-01\n",
       "V00MBMNFMLOAD    0.000000e+00\n",
       "V00MBMSFMLOAD    1.321223e-15\n",
       "dtype: float64</td>\n",
       "      <td>0.984661</td>\n",
       "    </tr>\n",
       "    <tr>\n",
       "      <th>6</th>\n",
       "      <td>quadratic</td>\n",
       "      <td>V00MBMSFMLOAD ~ I(V00MBMNFMLOAD**2)</td>\n",
       "      <td>Intercept                0.027428\n",
       "I(V00MBMNFMLOAD ** 2)    0.665775\n",
       "dtype: float64</td>\n",
       "      <td>Intercept                4.478634e-19\n",
       "I(V00MBMNFMLOAD ** 2)    0.000000e+00\n",
       "dtype: float64</td>\n",
       "      <td>0.709191</td>\n",
       "    </tr>\n",
       "    <tr>\n",
       "      <th>7</th>\n",
       "      <td>quadratic</td>\n",
       "      <td>V00MBMSFMLOAD ~ V00MBMNFMLOAD + I(V00MBMNFMLOAD**2)</td>\n",
       "      <td>Intercept                0.005598\n",
       "V00MBMNFMLOAD            1.064789\n",
       "I(V00MBMNFMLOAD ** 2)   -0.035816\n",
       "dtype: float64</td>\n",
       "      <td>Intercept                0.004651\n",
       "V00MBMNFMLOAD            0.000000\n",
       "I(V00MBMNFMLOAD ** 2)    0.002009\n",
       "dtype: float64</td>\n",
       "      <td>0.881502</td>\n",
       "    </tr>\n",
       "    <tr>\n",
       "      <th>8</th>\n",
       "      <td>quadratic</td>\n",
       "      <td>V00MBMSFMLOAD ~ V00MBMNFMLOAD + V00MBMPFMLOAD + I(V00MBMNFMLOAD**2) + I(V00MBMPFMLOAD**2)</td>\n",
       "      <td>Intercept                0.005527\n",
       "V00MBMNFMLOAD            0.839421\n",
       "V00MBMPFMLOAD            0.028928\n",
       "I(V00MBMNFMLOAD ** 2)   -0.092967\n",
       "I(V00MBMPFMLOAD ** 2)    0.020939\n",
       "dtype: float64</td>\n",
       "      <td>Intercept                1.519965e-03\n",
       "V00MBMNFMLOAD            4.069568e-12\n",
       "V00MBMPFMLOAD            5.015603e-01\n",
       "I(V00MBMNFMLOAD ** 2)    4.382251e-03\n",
       "I(V00MBMPFMLOAD ** 2)    4.096603e-05\n",
       "dtype: float64</td>\n",
       "      <td>0.860667</td>\n",
       "    </tr>\n",
       "    <tr>\n",
       "      <th>9</th>\n",
       "      <td>quadratic</td>\n",
       "      <td>V00MBMSFMLOAD ~ V00MBMNFMLOAD + I(V00MBMPFMLOAD**2)</td>\n",
       "      <td>Intercept                0.005915\n",
       "V00MBMNFMLOAD            0.861736\n",
       "I(V00MBMPFMLOAD ** 2)    0.016133\n",
       "dtype: float64</td>\n",
       "      <td>Intercept                 7.469853e-04\n",
       "V00MBMNFMLOAD            5.024510e-207\n",
       "I(V00MBMPFMLOAD ** 2)     1.346425e-09\n",
       "dtype: float64</td>\n",
       "      <td>0.858618</td>\n",
       "    </tr>\n",
       "    <tr>\n",
       "      <th>10</th>\n",
       "      <td>quadratic</td>\n",
       "      <td>V00MBMNFMLOAD ~ I(V00MBMPFMLOAD**2)</td>\n",
       "      <td>Intercept                0.009457\n",
       "I(V00MBMPFMLOAD ** 2)    0.091331\n",
       "dtype: float64</td>\n",
       "      <td>Intercept                1.910271e-09\n",
       "I(V00MBMPFMLOAD ** 2)    0.000000e+00\n",
       "dtype: float64</td>\n",
       "      <td>0.888743</td>\n",
       "    </tr>\n",
       "    <tr>\n",
       "      <th>11</th>\n",
       "      <td>quadratic</td>\n",
       "      <td>V00MBMNFMLOAD ~ V00MBMPFMLOAD + I(V00MBMPFMLOAD**2)</td>\n",
       "      <td>Intercept                0.000209\n",
       "V00MBMPFMLOAD            0.339397\n",
       "I(V00MBMPFMLOAD ** 2)    0.000823\n",
       "dtype: float64</td>\n",
       "      <td>Intercept                0.758338\n",
       "V00MBMPFMLOAD            0.000000\n",
       "I(V00MBMPFMLOAD ** 2)    0.312694\n",
       "dtype: float64</td>\n",
       "      <td>0.979495</td>\n",
       "    </tr>\n",
       "    <tr>\n",
       "      <th>12</th>\n",
       "      <td>quadratic</td>\n",
       "      <td>V00MBMNFMLOAD ~ V00MBMPFMLOAD + V00MBMSFMLOAD + I(V00MBMPFMLOAD**2) + I(V00MBMSFMLOAD**2)</td>\n",
       "      <td>Intercept                0.000011\n",
       "V00MBMPFMLOAD            0.346374\n",
       "V00MBMSFMLOAD           -0.013076\n",
       "I(V00MBMPFMLOAD ** 2)   -0.004585\n",
       "I(V00MBMSFMLOAD ** 2)    0.030100\n",
       "dtype: float64</td>\n",
       "      <td>Intercept                9.833030e-01\n",
       "V00MBMPFMLOAD            0.000000e+00\n",
       "V00MBMSFMLOAD            1.933096e-01\n",
       "I(V00MBMPFMLOAD ** 2)    2.863504e-05\n",
       "I(V00MBMSFMLOAD ** 2)    3.543774e-13\n",
       "dtype: float64</td>\n",
       "      <td>0.985018</td>\n",
       "    </tr>\n",
       "    <tr>\n",
       "      <th>13</th>\n",
       "      <td>quadratic</td>\n",
       "      <td>V00MBMNFMLOAD ~ V00MBMPFMLOAD + I(V00MBMSFMLOAD**2)</td>\n",
       "      <td>Intercept                0.000062\n",
       "V00MBMPFMLOAD            0.330436\n",
       "I(V00MBMSFMLOAD ** 2)    0.021839\n",
       "dtype: float64</td>\n",
       "      <td>Intercept                9.062378e-01\n",
       "V00MBMPFMLOAD            0.000000e+00\n",
       "I(V00MBMSFMLOAD ** 2)    1.762936e-27\n",
       "dtype: float64</td>\n",
       "      <td>0.984928</td>\n",
       "    </tr>\n",
       "    <tr>\n",
       "      <th>14</th>\n",
       "      <td>quadratic</td>\n",
       "      <td>V00MBMPFMLOAD ~ I(V00MBMNFMLOAD**2)</td>\n",
       "      <td>Intercept                0.052494\n",
       "I(V00MBMNFMLOAD ** 2)    1.865977\n",
       "dtype: float64</td>\n",
       "      <td>Intercept                5.123444e-15\n",
       "I(V00MBMNFMLOAD ** 2)    0.000000e+00\n",
       "dtype: float64</td>\n",
       "      <td>0.757713</td>\n",
       "    </tr>\n",
       "    <tr>\n",
       "      <th>15</th>\n",
       "      <td>quadratic</td>\n",
       "      <td>V00MBMPFMLOAD ~ V00MBMNFMLOAD + I(V00MBMNFMLOAD**2)</td>\n",
       "      <td>Intercept                0.000082\n",
       "V00MBMNFMLOAD            3.369725\n",
       "I(V00MBMNFMLOAD ** 2)   -0.412239\n",
       "dtype: float64</td>\n",
       "      <td>Intercept                 9.601710e-01\n",
       "V00MBMNFMLOAD             0.000000e+00\n",
       "I(V00MBMNFMLOAD ** 2)    4.515538e-243\n",
       "dtype: float64</td>\n",
       "      <td>0.985699</td>\n",
       "    </tr>\n",
       "    <tr>\n",
       "      <th>16</th>\n",
       "      <td>quadratic</td>\n",
       "      <td>V00MBMPFMLOAD ~ V00MBMNFMLOAD + V00MBMSFMLOAD + I(V00MBMNFMLOAD**2) + I(V00MBMSFMLOAD**2)</td>\n",
       "      <td>Intercept               -0.000046\n",
       "V00MBMNFMLOAD            3.394153\n",
       "V00MBMSFMLOAD           -0.025385\n",
       "I(V00MBMNFMLOAD ** 2)   -0.469112\n",
       "I(V00MBMSFMLOAD ** 2)    0.057253\n",
       "dtype: float64</td>\n",
       "      <td>Intercept                 9.714399e-01\n",
       "V00MBMNFMLOAD             0.000000e+00\n",
       "V00MBMSFMLOAD             2.960608e-01\n",
       "I(V00MBMNFMLOAD ** 2)    3.902447e-205\n",
       "I(V00MBMSFMLOAD ** 2)     4.745022e-09\n",
       "dtype: float64</td>\n",
       "      <td>0.989489</td>\n",
       "    </tr>\n",
       "    <tr>\n",
       "      <th>17</th>\n",
       "      <td>quadratic</td>\n",
       "      <td>V00MBMPFMLOAD ~ V00MBMNFMLOAD + I(V00MBMSFMLOAD**2)</td>\n",
       "      <td>Intercept                0.002053\n",
       "V00MBMNFMLOAD            2.924017\n",
       "I(V00MBMSFMLOAD ** 2)   -0.019561\n",
       "dtype: float64</td>\n",
       "      <td>Intercept                0.187006\n",
       "V00MBMNFMLOAD            0.000000\n",
       "I(V00MBMSFMLOAD ** 2)    0.001187\n",
       "dtype: float64</td>\n",
       "      <td>0.984392</td>\n",
       "    </tr>\n",
       "    <tr>\n",
       "      <th>18</th>\n",
       "      <td>cubic</td>\n",
       "      <td>V00MBMSFMLOAD ~ I(V00MBMNFMLOAD**3)</td>\n",
       "      <td>Intercept                0.068089\n",
       "I(V00MBMNFMLOAD ** 3)    0.153811\n",
       "dtype: float64</td>\n",
       "      <td>Intercept                 1.593681e-43\n",
       "I(V00MBMNFMLOAD ** 3)    2.526791e-186\n",
       "dtype: float64</td>\n",
       "      <td>0.240927</td>\n",
       "    </tr>\n",
       "    <tr>\n",
       "      <th>19</th>\n",
       "      <td>cubic</td>\n",
       "      <td>V00MBMSFMLOAD ~ V00MBMNFMLOAD + I(V00MBMNFMLOAD**2) + I(V00MBMNFMLOAD**3)</td>\n",
       "      <td>Intercept                0.005658\n",
       "V00MBMNFMLOAD            1.034384\n",
       "I(V00MBMNFMLOAD ** 2)    0.000798\n",
       "I(V00MBMNFMLOAD ** 3)   -0.008079\n",
       "dtype: float64</td>\n",
       "      <td>Intercept                 4.231263e-03\n",
       "V00MBMNFMLOAD            7.340926e-280\n",
       "I(V00MBMNFMLOAD ** 2)     9.766997e-01\n",
       "I(V00MBMNFMLOAD ** 3)     1.387528e-01\n",
       "dtype: float64</td>\n",
       "      <td>0.881587</td>\n",
       "    </tr>\n",
       "    <tr>\n",
       "      <th>20</th>\n",
       "      <td>cubic</td>\n",
       "      <td>V00MBMSFMLOAD ~ V00MBMNFMLOAD + V00MBMPFMLOAD + I(V00MBMNFMLOAD**2) + I(V00MBMPFMLOAD**2) + I(V00MBMNFMLOAD**3) + I(V00MBMPFMLOAD**3)</td>\n",
       "      <td>Intercept                0.005492\n",
       "V00MBMNFMLOAD            1.613614\n",
       "V00MBMPFMLOAD           -0.264554\n",
       "I(V00MBMNFMLOAD ** 2)   -0.464750\n",
       "I(V00MBMPFMLOAD ** 2)    0.078351\n",
       "I(V00MBMNFMLOAD ** 3)    0.039440\n",
       "I(V00MBMPFMLOAD ** 3)   -0.002933\n",
       "dtype: float64</td>\n",
       "      <td>Intercept                1.581671e-03\n",
       "V00MBMNFMLOAD            2.543819e-13\n",
       "V00MBMPFMLOAD            5.854825e-03\n",
       "I(V00MBMNFMLOAD ** 2)    6.772847e-07\n",
       "I(V00MBMPFMLOAD ** 2)    2.272723e-03\n",
       "I(V00MBMNFMLOAD ** 3)    2.159944e-05\n",
       "I(V00MBMPFMLOAD ** 3)    1.993234e-01\n",
       "dtype: float64</td>\n",
       "      <td>0.861484</td>\n",
       "    </tr>\n",
       "    <tr>\n",
       "      <th>21</th>\n",
       "      <td>cubic</td>\n",
       "      <td>V00MBMSFMLOAD ~ V00MBMNFMLOAD + I(V00MBMPFMLOAD**2) + I(V00MBMPFMLOAD**3)</td>\n",
       "      <td>Intercept                0.005656\n",
       "V00MBMNFMLOAD            0.633559\n",
       "I(V00MBMPFMLOAD ** 2)    0.057804\n",
       "I(V00MBMPFMLOAD ** 3)   -0.004989\n",
       "dtype: float64</td>\n",
       "      <td>Intercept                1.205925e-03\n",
       "V00MBMNFMLOAD            9.947243e-36\n",
       "I(V00MBMPFMLOAD ** 2)    3.563680e-12\n",
       "I(V00MBMPFMLOAD ** 3)    1.170887e-07\n",
       "dtype: float64</td>\n",
       "      <td>0.859904</td>\n",
       "    </tr>\n",
       "    <tr>\n",
       "      <th>22</th>\n",
       "      <td>cubic</td>\n",
       "      <td>V00MBMNFMLOAD ~ I(V00MBMPFMLOAD**3)</td>\n",
       "      <td>Intercept                0.030344\n",
       "I(V00MBMPFMLOAD ** 3)    0.016280\n",
       "dtype: float64</td>\n",
       "      <td>Intercept                3.544925e-24\n",
       "I(V00MBMPFMLOAD ** 3)    0.000000e+00\n",
       "dtype: float64</td>\n",
       "      <td>0.594410</td>\n",
       "    </tr>\n",
       "    <tr>\n",
       "      <th>23</th>\n",
       "      <td>cubic</td>\n",
       "      <td>V00MBMNFMLOAD ~ V00MBMPFMLOAD + I(V00MBMPFMLOAD**2) + I(V00MBMPFMLOAD**3)</td>\n",
       "      <td>Intercept                0.000152\n",
       "V00MBMPFMLOAD            0.440534\n",
       "I(V00MBMPFMLOAD ** 2)   -0.048780\n",
       "I(V00MBMPFMLOAD ** 3)    0.005303\n",
       "dtype: float64</td>\n",
       "      <td>Intercept                 8.208269e-01\n",
       "V00MBMPFMLOAD            1.024299e-226\n",
       "I(V00MBMPFMLOAD ** 2)     1.109206e-15\n",
       "I(V00MBMPFMLOAD ** 3)     2.027947e-16\n",
       "dtype: float64</td>\n",
       "      <td>0.979941</td>\n",
       "    </tr>\n",
       "    <tr>\n",
       "      <th>24</th>\n",
       "      <td>cubic</td>\n",
       "      <td>V00MBMNFMLOAD ~ V00MBMPFMLOAD + V00MBMSFMLOAD + I(V00MBMPFMLOAD**2) + I(V00MBMSFMLOAD**2) + I(V00MBMPFMLOAD**3) + I(V00MBMSFMLOAD**3)</td>\n",
       "      <td>Intercept               -0.000012\n",
       "V00MBMPFMLOAD            0.484224\n",
       "V00MBMSFMLOAD           -0.016849\n",
       "I(V00MBMPFMLOAD ** 2)   -0.070828\n",
       "I(V00MBMSFMLOAD ** 2)    0.028055\n",
       "I(V00MBMPFMLOAD ** 3)    0.006940\n",
       "I(V00MBMSFMLOAD ** 3)    0.001138\n",
       "dtype: float64</td>\n",
       "      <td>Intercept                 9.817497e-01\n",
       "V00MBMPFMLOAD            7.951142e-225\n",
       "V00MBMSFMLOAD             3.021154e-01\n",
       "I(V00MBMPFMLOAD ** 2)     1.124944e-29\n",
       "I(V00MBMSFMLOAD ** 2)     2.999245e-02\n",
       "I(V00MBMPFMLOAD ** 3)     1.180037e-27\n",
       "I(V00MBMSFMLOAD ** 3)     6.369949e-01\n",
       "dtype: float64</td>\n",
       "      <td>0.985600</td>\n",
       "    </tr>\n",
       "    <tr>\n",
       "      <th>25</th>\n",
       "      <td>cubic</td>\n",
       "      <td>V00MBMNFMLOAD ~ V00MBMPFMLOAD + I(V00MBMSFMLOAD**2) + I(V00MBMSFMLOAD**3)</td>\n",
       "      <td>Intercept                0.000091\n",
       "V00MBMPFMLOAD            0.331970\n",
       "I(V00MBMSFMLOAD ** 2)    0.015272\n",
       "I(V00MBMSFMLOAD ** 3)    0.001979\n",
       "dtype: float64</td>\n",
       "      <td>Intercept                0.861343\n",
       "V00MBMPFMLOAD            0.000000\n",
       "I(V00MBMSFMLOAD ** 2)    0.003837\n",
       "I(V00MBMSFMLOAD ** 3)    0.179276\n",
       "dtype: float64</td>\n",
       "      <td>0.984937</td>\n",
       "    </tr>\n",
       "    <tr>\n",
       "      <th>26</th>\n",
       "      <td>cubic</td>\n",
       "      <td>V00MBMPFMLOAD ~ I(V00MBMNFMLOAD**3)</td>\n",
       "      <td>Intercept                0.145554\n",
       "I(V00MBMNFMLOAD ** 3)    0.420544\n",
       "dtype: float64</td>\n",
       "      <td>Intercept                 1.043551e-34\n",
       "I(V00MBMNFMLOAD ** 3)    5.630707e-180\n",
       "dtype: float64</td>\n",
       "      <td>0.233684</td>\n",
       "    </tr>\n",
       "    <tr>\n",
       "      <th>27</th>\n",
       "      <td>cubic</td>\n",
       "      <td>V00MBMPFMLOAD ~ V00MBMNFMLOAD + I(V00MBMNFMLOAD**2) + I(V00MBMNFMLOAD**3)</td>\n",
       "      <td>Intercept               -0.000025\n",
       "V00MBMNFMLOAD            3.437664\n",
       "I(V00MBMNFMLOAD ** 2)   -0.494196\n",
       "I(V00MBMNFMLOAD ** 3)    0.018162\n",
       "dtype: float64</td>\n",
       "      <td>Intercept                9.879158e-01\n",
       "V00MBMNFMLOAD            0.000000e+00\n",
       "I(V00MBMNFMLOAD ** 2)    2.430165e-80\n",
       "I(V00MBMNFMLOAD ** 3)    2.970870e-04\n",
       "dtype: float64</td>\n",
       "      <td>0.985760</td>\n",
       "    </tr>\n",
       "    <tr>\n",
       "      <th>28</th>\n",
       "      <td>cubic</td>\n",
       "      <td>V00MBMPFMLOAD ~ V00MBMNFMLOAD + V00MBMSFMLOAD + I(V00MBMNFMLOAD**2) + I(V00MBMSFMLOAD**2) + I(V00MBMNFMLOAD**3) + I(V00MBMSFMLOAD**3)</td>\n",
       "      <td>Intercept                0.000005\n",
       "V00MBMNFMLOAD            3.699233\n",
       "V00MBMSFMLOAD           -0.251980\n",
       "I(V00MBMNFMLOAD ** 2)   -0.753357\n",
       "I(V00MBMSFMLOAD ** 2)    0.254326\n",
       "I(V00MBMNFMLOAD ** 3)    0.048599\n",
       "I(V00MBMSFMLOAD ** 3)   -0.035905\n",
       "dtype: float64</td>\n",
       "      <td>Intercept                 9.965264e-01\n",
       "V00MBMNFMLOAD             0.000000e+00\n",
       "V00MBMSFMLOAD             2.750624e-10\n",
       "I(V00MBMNFMLOAD ** 2)    1.139501e-129\n",
       "I(V00MBMSFMLOAD ** 2)     2.120397e-15\n",
       "I(V00MBMNFMLOAD ** 3)     7.002749e-27\n",
       "I(V00MBMSFMLOAD ** 3)     6.108158e-09\n",
       "dtype: float64</td>\n",
       "      <td>0.989880</td>\n",
       "    </tr>\n",
       "    <tr>\n",
       "      <th>29</th>\n",
       "      <td>cubic</td>\n",
       "      <td>V00MBMPFMLOAD ~ V00MBMNFMLOAD + I(V00MBMSFMLOAD**2) + I(V00MBMSFMLOAD**3)</td>\n",
       "      <td>Intercept                0.001219\n",
       "V00MBMNFMLOAD            2.812594\n",
       "I(V00MBMSFMLOAD ** 2)    0.144784\n",
       "I(V00MBMSFMLOAD ** 3)   -0.049363\n",
       "dtype: float64</td>\n",
       "      <td>Intercept                4.235260e-01\n",
       "V00MBMNFMLOAD            0.000000e+00\n",
       "I(V00MBMSFMLOAD ** 2)    2.560703e-21\n",
       "I(V00MBMSFMLOAD ** 3)    2.690823e-31\n",
       "dtype: float64</td>\n",
       "      <td>0.985065</td>\n",
       "    </tr>\n",
       "    <tr>\n",
       "      <th>30</th>\n",
       "      <td>interaction</td>\n",
       "      <td>V00MBMSFMLOAD ~ V00MBMNFMLOAD:V00MBMPFMLOAD</td>\n",
       "      <td>Intercept                      0.012604\n",
       "V00MBMNFMLOAD:V00MBMPFMLOAD    0.291092\n",
       "dtype: float64</td>\n",
       "      <td>Intercept                      5.482464e-09\n",
       "V00MBMNFMLOAD:V00MBMPFMLOAD    0.000000e+00\n",
       "dtype: float64</td>\n",
       "      <td>0.788104</td>\n",
       "    </tr>\n",
       "    <tr>\n",
       "      <th>31</th>\n",
       "      <td>interaction</td>\n",
       "      <td>V00MBMSFMLOAD ~ V00MBMNFMLOAD*V00MBMPFMLOAD</td>\n",
       "      <td>Intercept                      0.005512\n",
       "V00MBMNFMLOAD                  0.480642\n",
       "V00MBMPFMLOAD                  0.161996\n",
       "V00MBMNFMLOAD:V00MBMPFMLOAD    0.019323\n",
       "dtype: float64</td>\n",
       "      <td>Intercept                      1.593439e-03\n",
       "V00MBMNFMLOAD                  9.713825e-14\n",
       "V00MBMPFMLOAD                  1.399486e-15\n",
       "V00MBMNFMLOAD:V00MBMPFMLOAD    1.573128e-02\n",
       "dtype: float64</td>\n",
       "      <td>0.860127</td>\n",
       "    </tr>\n",
       "    <tr>\n",
       "      <th>32</th>\n",
       "      <td>interaction</td>\n",
       "      <td>V00MBMSFMLOAD ~ V00MBMNFMLOAD*I(V00MBMPFMLOAD**2)</td>\n",
       "      <td>Intercept                              0.005595\n",
       "V00MBMNFMLOAD                          0.712093\n",
       "I(V00MBMPFMLOAD ** 2)                  0.044666\n",
       "V00MBMNFMLOAD:I(V00MBMPFMLOAD ** 2)   -0.010446\n",
       "dtype: float64</td>\n",
       "      <td>Intercept                              1.341816e-03\n",
       "V00MBMNFMLOAD                          4.213138e-84\n",
       "I(V00MBMPFMLOAD ** 2)                  1.076800e-16\n",
       "V00MBMNFMLOAD:I(V00MBMPFMLOAD ** 2)    1.023203e-09\n",
       "dtype: float64</td>\n",
       "      <td>0.860324</td>\n",
       "    </tr>\n",
       "    <tr>\n",
       "      <th>33</th>\n",
       "      <td>interaction</td>\n",
       "      <td>V00MBMSFMLOAD ~ V00MBMNFMLOAD*I(V00MBMPFMLOAD**3)</td>\n",
       "      <td>Intercept                              0.005766\n",
       "V00MBMNFMLOAD                          0.878643\n",
       "I(V00MBMPFMLOAD ** 3)                  0.007075\n",
       "V00MBMNFMLOAD:I(V00MBMPFMLOAD ** 3)   -0.002168\n",
       "dtype: float64</td>\n",
       "      <td>Intercept                              9.796800e-04\n",
       "V00MBMNFMLOAD                          0.000000e+00\n",
       "I(V00MBMPFMLOAD ** 3)                  2.608020e-13\n",
       "V00MBMNFMLOAD:I(V00MBMPFMLOAD ** 3)    1.911805e-10\n",
       "dtype: float64</td>\n",
       "      <td>0.859548</td>\n",
       "    </tr>\n",
       "    <tr>\n",
       "      <th>34</th>\n",
       "      <td>interaction</td>\n",
       "      <td>V00MBMNFMLOAD ~ V00MBMPFMLOAD:V00MBMSFMLOAD</td>\n",
       "      <td>Intercept                      0.007926\n",
       "V00MBMPFMLOAD:V00MBMSFMLOAD    0.256526\n",
       "dtype: float64</td>\n",
       "      <td>Intercept                      8.696513e-08\n",
       "V00MBMPFMLOAD:V00MBMSFMLOAD    0.000000e+00\n",
       "dtype: float64</td>\n",
       "      <td>0.858242</td>\n",
       "    </tr>\n",
       "    <tr>\n",
       "      <th>35</th>\n",
       "      <td>interaction</td>\n",
       "      <td>V00MBMNFMLOAD ~ V00MBMPFMLOAD*V00MBMSFMLOAD</td>\n",
       "      <td>Intercept                      0.000019\n",
       "V00MBMPFMLOAD                  0.313980\n",
       "V00MBMSFMLOAD                  0.038513\n",
       "V00MBMPFMLOAD:V00MBMSFMLOAD    0.010690\n",
       "dtype: float64</td>\n",
       "      <td>Intercept                      9.709731e-01\n",
       "V00MBMPFMLOAD                  0.000000e+00\n",
       "V00MBMSFMLOAD                  1.000645e-11\n",
       "V00MBMPFMLOAD:V00MBMSFMLOAD    3.942679e-09\n",
       "dtype: float64</td>\n",
       "      <td>0.984928</td>\n",
       "    </tr>\n",
       "    <tr>\n",
       "      <th>36</th>\n",
       "      <td>interaction</td>\n",
       "      <td>V00MBMNFMLOAD ~ V00MBMPFMLOAD*I(V00MBMSFMLOAD**2)</td>\n",
       "      <td>Intercept                              0.000084\n",
       "V00MBMPFMLOAD                          0.330478\n",
       "I(V00MBMSFMLOAD ** 2)                  0.019928\n",
       "V00MBMPFMLOAD:I(V00MBMSFMLOAD ** 2)    0.000506\n",
       "dtype: float64</td>\n",
       "      <td>Intercept                              8.730637e-01\n",
       "V00MBMPFMLOAD                          0.000000e+00\n",
       "I(V00MBMSFMLOAD ** 2)                  5.655212e-10\n",
       "V00MBMPFMLOAD:I(V00MBMSFMLOAD ** 2)    4.464505e-01\n",
       "dtype: float64</td>\n",
       "      <td>0.984931</td>\n",
       "    </tr>\n",
       "    <tr>\n",
       "      <th>37</th>\n",
       "      <td>interaction</td>\n",
       "      <td>V00MBMNFMLOAD ~ V00MBMPFMLOAD*I(V00MBMSFMLOAD**3)</td>\n",
       "      <td>Intercept                              0.000133\n",
       "V00MBMPFMLOAD                          0.335786\n",
       "I(V00MBMSFMLOAD ** 3)                  0.007479\n",
       "V00MBMPFMLOAD:I(V00MBMSFMLOAD ** 3)   -0.000320\n",
       "dtype: float64</td>\n",
       "      <td>Intercept                              7.990603e-01\n",
       "V00MBMPFMLOAD                          0.000000e+00\n",
       "I(V00MBMSFMLOAD ** 3)                  3.554310e-08\n",
       "V00MBMPFMLOAD:I(V00MBMSFMLOAD ** 3)    2.081951e-01\n",
       "dtype: float64</td>\n",
       "      <td>0.984904</td>\n",
       "    </tr>\n",
       "    <tr>\n",
       "      <th>38</th>\n",
       "      <td>interaction</td>\n",
       "      <td>V00MBMPFMLOAD ~ V00MBMNFMLOAD:V00MBMSFMLOAD</td>\n",
       "      <td>Intercept                      0.034953\n",
       "V00MBMNFMLOAD:V00MBMSFMLOAD    1.932043\n",
       "dtype: float64</td>\n",
       "      <td>Intercept                      1.366396e-10\n",
       "V00MBMNFMLOAD:V00MBMSFMLOAD    0.000000e+00\n",
       "dtype: float64</td>\n",
       "      <td>0.779580</td>\n",
       "    </tr>\n",
       "    <tr>\n",
       "      <th>39</th>\n",
       "      <td>interaction</td>\n",
       "      <td>V00MBMPFMLOAD ~ V00MBMNFMLOAD*V00MBMSFMLOAD</td>\n",
       "      <td>Intercept                      0.000106\n",
       "V00MBMNFMLOAD                  2.955055\n",
       "V00MBMSFMLOAD                  0.192796\n",
       "V00MBMNFMLOAD:V00MBMSFMLOAD   -0.216727\n",
       "dtype: float64</td>\n",
       "      <td>Intercept                      9.430652e-01\n",
       "V00MBMNFMLOAD                  0.000000e+00\n",
       "V00MBMSFMLOAD                  2.878693e-34\n",
       "V00MBMNFMLOAD:V00MBMSFMLOAD    9.199209e-61\n",
       "dtype: float64</td>\n",
       "      <td>0.985953</td>\n",
       "    </tr>\n",
       "    <tr>\n",
       "      <th>40</th>\n",
       "      <td>interaction</td>\n",
       "      <td>V00MBMPFMLOAD ~ V00MBMNFMLOAD*I(V00MBMSFMLOAD**2)</td>\n",
       "      <td>Intercept                              0.000795\n",
       "V00MBMNFMLOAD                          2.907727\n",
       "I(V00MBMSFMLOAD ** 2)                  0.078665\n",
       "V00MBMNFMLOAD:I(V00MBMSFMLOAD ** 2)   -0.065550\n",
       "dtype: float64</td>\n",
       "      <td>Intercept                              5.935185e-01\n",
       "V00MBMNFMLOAD                          0.000000e+00\n",
       "I(V00MBMSFMLOAD ** 2)                  9.548093e-22\n",
       "V00MBMNFMLOAD:I(V00MBMSFMLOAD ** 2)    2.304127e-62\n",
       "dtype: float64</td>\n",
       "      <td>0.985741</td>\n",
       "    </tr>\n",
       "    <tr>\n",
       "      <th>41</th>\n",
       "      <td>interaction</td>\n",
       "      <td>V00MBMPFMLOAD ~ V00MBMNFMLOAD*I(V00MBMSFMLOAD**3)</td>\n",
       "      <td>Intercept                              0.001515\n",
       "V00MBMNFMLOAD                          2.911576\n",
       "I(V00MBMSFMLOAD ** 3)                  0.010561\n",
       "V00MBMNFMLOAD:I(V00MBMSFMLOAD ** 3)   -0.010481\n",
       "dtype: float64</td>\n",
       "      <td>Intercept                              3.161599e-01\n",
       "V00MBMNFMLOAD                          0.000000e+00\n",
       "I(V00MBMSFMLOAD ** 3)                  3.542605e-05\n",
       "V00MBMNFMLOAD:I(V00MBMSFMLOAD ** 3)    6.473047e-31\n",
       "dtype: float64</td>\n",
       "      <td>0.985276</td>\n",
       "    </tr>\n",
       "  </tbody>\n",
       "</table>\n",
       "</div>"
      ]
     },
     "metadata": {},
     "output_type": "display_data"
    }
   ],
   "execution_count": 5
  },
  {
   "metadata": {},
   "cell_type": "markdown",
   "source": "### MBM Component Regression",
   "id": "7bad53a586f118dc"
  },
  {
   "metadata": {
    "ExecuteTime": {
     "end_time": "2025-08-02T22:17:23.669164Z",
     "start_time": "2025-08-02T22:17:23.651426Z"
    }
   },
   "cell_type": "code",
   "source": [
    "from modules.plot_moaks_data import plot_moaks_data_regression_surface\n",
    "\n",
    "surface = plot_moaks_data_regression_surface(moaks_3d_scatter, v00_moaks_shared_mbm_load, mbm_relationships_df, 15)\n",
    "surface.show()"
   ],
   "id": "9ac36b5934312ebb",
   "outputs": [
    {
     "data": {
      "application/vnd.plotly.v1+json": {
       "data": [
        {
         "hovertemplate": "V00MBMSFMLOAD=%{x}<br>V00MBMNFMLOAD=%{y}<br>V00MBMPFMLOAD=%{z}<br>count=%{marker.size}<extra></extra>",
         "legendgroup": "",
         "marker": {
          "color": "#636efa",
          "opacity": 0.8,
          "size": {
           "dtype": "i2",
           "bdata": "kwd6AAEAAwALAA4AQwCwAQMABwAmAAIANAASAD8AAgABAAkADgAIAA0AMgACAAEABAAJAAEAAwABAAoADwAOAAEAAQACAAIACgAaAAEABAAIAAEAAQAIAAEAAwACAAEABAABAAEAAgABAAIAAQAGAAUACQABAAMAAgACAAIAAQABAAEAAQABAAEAAwADAAUAAQABAAIAAQABAAEAAQABAAEAAQABAAIAAQABAAEA"
          },
          "sizemode": "area",
          "sizeref": 1.211875,
          "symbol": "circle"
         },
         "mode": "markers",
         "name": "",
         "scene": "scene",
         "showlegend": false,
         "x": {
          "dtype": "f8",
          "bdata": "AAAAAAAAAAAAAAAAAADwPwAAAAAAAPA/AAAAAAAA8D8AAAAAAADwPwAAAAAAAPA/AAAAAAAA8D8AAAAAAADwPwAAAAAAAPA/AAAAAAAA8D8AAAAAAADwPwAAAAAAAPA/AAAAAAAAAEAAAAAAAAAAQAAAAAAAAABAAAAAAAAAAEAAAAAAAAAAQAAAAAAAAABAAAAAAAAAAEAAAAAAAAAAQAAAAAAAAABAAAAAAAAAAEAAAAAAAAAAQAAAAAAAAABAAAAAAAAAAEAAAAAAAAAAQAAAAAAAAABAAAAAAAAAAEAAAAAAAAAAQAAAAAAAAAhAAAAAAAAACEAAAAAAAAAIQAAAAAAAAAhAAAAAAAAACEAAAAAAAAAIQAAAAAAAAAhAAAAAAAAACEAAAAAAAAAIQAAAAAAAAAhAAAAAAAAACEAAAAAAAAAIQAAAAAAAAAhAAAAAAAAACEAAAAAAAAAIQAAAAAAAAAhAAAAAAAAACEAAAAAAAAAIQAAAAAAAAAhAAAAAAAAACEAAAAAAAAAIQAAAAAAAAAhAAAAAAAAACEAAAAAAAAAIQAAAAAAAABBAAAAAAAAAEEAAAAAAAAAQQAAAAAAAABBAAAAAAAAAEEAAAAAAAAAQQAAAAAAAABBAAAAAAAAAEEAAAAAAAAAQQAAAAAAAABBAAAAAAAAAEEAAAAAAAAAQQAAAAAAAABBAAAAAAAAAEEAAAAAAAAAUQAAAAAAAABRAAAAAAAAAFEAAAAAAAAAUQAAAAAAAABRAAAAAAAAAFEAAAAAAAAAUQAAAAAAAABRAAAAAAAAAFEAAAAAAAAAUQAAAAAAAABRAAAAAAAAAFEAAAAAAAAAUQAAAAAAAABRAAAAAAAAAFEAAAAAAAAAYQAAAAAAAABhAAAAAAAAAGEAAAAAAAAAYQAAAAAAAABxA"
         },
         "y": {
          "dtype": "f8",
          "bdata": "AAAAAAAAAAAAAAAAAAAAAAAAAAAAAAAAAAAAAAAAAAAAAAAAAADwPwAAAAAAAPA/AAAAAAAA8D8AAAAAAADwPwAAAAAAAABAAAAAAAAAAEAAAAAAAAAAQAAAAAAAAAhAAAAAAAAAAAAAAAAAAADwPwAAAAAAAPA/AAAAAAAA8D8AAAAAAAAAQAAAAAAAAABAAAAAAAAAAEAAAAAAAAAAQAAAAAAAAABAAAAAAAAAAEAAAAAAAAAIQAAAAAAAAAhAAAAAAAAACEAAAAAAAAAIQAAAAAAAABBAAAAAAAAAEEAAAAAAAAAUQAAAAAAAAAAAAAAAAAAA8D8AAAAAAADwPwAAAAAAAABAAAAAAAAAAEAAAAAAAAAAQAAAAAAAAABAAAAAAAAAAEAAAAAAAAAAQAAAAAAAAAhAAAAAAAAACEAAAAAAAAAIQAAAAAAAAAhAAAAAAAAACEAAAAAAAAAIQAAAAAAAABBAAAAAAAAAEEAAAAAAAAAQQAAAAAAAABBAAAAAAAAAEEAAAAAAAAAUQAAAAAAAABRAAAAAAAAAFEAAAAAAAAAYQAAAAAAAAAAAAAAAAAAA8D8AAAAAAAAAQAAAAAAAAABAAAAAAAAAAEAAAAAAAAAIQAAAAAAAAAhAAAAAAAAACEAAAAAAAAAIQAAAAAAAAAhAAAAAAAAAEEAAAAAAAAAQQAAAAAAAABRAAAAAAAAAFEAAAAAAAAAAAAAAAAAAAABAAAAAAAAAAEAAAAAAAAAAQAAAAAAAAABAAAAAAAAACEAAAAAAAAAIQAAAAAAAAAhAAAAAAAAAEEAAAAAAAAAQQAAAAAAAABBAAAAAAAAAEEAAAAAAAAAUQAAAAAAAABRAAAAAAAAAGEAAAAAAAAAAQAAAAAAAAABAAAAAAAAAAEAAAAAAAAAQQAAAAAAAACRA"
         },
         "z": {
          "dtype": "f8",
          "bdata": "AAAAAAAAAAAAAAAAAAAAAAAAAAAAAPA/AAAAAAAACEAAAAAAAAAAAAAAAAAAAPA/AAAAAAAAAEAAAAAAAAAIQAAAAAAAAPA/AAAAAAAAAEAAAAAAAAAIQAAAAAAAAAhAAAAAAAAAAAAAAAAAAAAAQAAAAAAAAAhAAAAAAAAAGEAAAAAAAADwPwAAAAAAAABAAAAAAAAACEAAAAAAAAAQQAAAAAAAABRAAAAAAAAAGEAAAAAAAAAAQAAAAAAAAAhAAAAAAAAAFEAAAAAAAAAYQAAAAAAAABRAAAAAAAAAGEAAAAAAAAAYQAAAAAAAAAAAAAAAAAAAAEAAAAAAAAAIQAAAAAAAAPA/AAAAAAAAAEAAAAAAAAAIQAAAAAAAABBAAAAAAAAAFEAAAAAAAAAYQAAAAAAAAAhAAAAAAAAAFEAAAAAAAAAYQAAAAAAAABxAAAAAAAAAIEAAAAAAAAAiQAAAAAAAABBAAAAAAAAAFEAAAAAAAAAYQAAAAAAAACBAAAAAAAAAIkAAAAAAAAAUQAAAAAAAACBAAAAAAAAAIkAAAAAAAAAUQAAAAAAAAAAAAAAAAAAAFEAAAAAAAAAQQAAAAAAAABRAAAAAAAAAGEAAAAAAAAAUQAAAAAAAABhAAAAAAAAAHEAAAAAAAAAgQAAAAAAAACJAAAAAAAAAFEAAAAAAAAAYQAAAAAAAAAhAAAAAAAAAHEAAAAAAAAAAAAAAAAAAAAhAAAAAAAAAEEAAAAAAAAAUQAAAAAAAABhAAAAAAAAAGEAAAAAAAAAgQAAAAAAAACJAAAAAAAAAEEAAAAAAAAAUQAAAAAAAABhAAAAAAAAAHEAAAAAAAAAYQAAAAAAAACJAAAAAAAAAHEAAAAAAAAAQQAAAAAAAABRAAAAAAAAAGEAAAAAAAAAYQAAAAAAAABhA"
         },
         "type": "scatter3d"
        },
        {
         "opacity": 0.5,
         "x": {
          "dtype": "f8",
          "bdata": "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",
          "shape": "50, 50"
         },
         "y": {
          "dtype": "f8",
          "bdata": "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",
          "shape": "50, 50"
         },
         "z": {
          "dtype": "f8",
          "bdata": "AAAAAAAAAAAAAAAAAAAAAAAAAAAAAAAAAAAAAAAAAAAAAAAAAAAAAAAAAAAAAAAAAAAAAAAAAAAAAAAAAAAAAAAAAAAAAAAAAAAAAAAAAAAAAAAAAAAAAAAAAAAAAAAAAAAAAAAAAAAAAAAAAAAAAAAAAAAAAAAAAAAAAAAAAAAAAAAAAAAAAAAAAAAAAAAAAAAAAAAAAAAAAAAAAAAAAAAAAAAAAAAAAAAAAAAAAAAAAAAAAAAAAAAAAAAAAAAAAAAAAAAAAAAAAAAAAAAAAAAAAAAAAAAAAAAAAAAAAAAAAAAAAAAAAAAAAAAAAAAAAAAAAAAAAAAAAAAAAAAAAAAAAAAAAAAAAAAAAAAAAAAAAAAAAAAAAAAAAAAAAAAAAAAAAAAAAAAAAAAAAAAAAAAAAAAAAAAAAAAAAAAAAAAAAAAAAAAAAAAAAAAAAAAAAAAAAAAAAAAAAAAAAAAAAAAAAAAAAAAAAAAAAAAAAAAAAAAAAAAAAAAAAAAAAAAAAAAAAAAAAAAAAAAAAAAAAJIkSZIkScI/kiRJkiRJwj+SJEmSJEnCP5IkSZIkScI/kiRJkiRJwj+SJEmSJEnCP5IkSZIkScI/kiRJkiRJwj+SJEmSJEnCP5IkSZIkScI/kiRJkiRJwj+SJEmSJEnCP5IkSZIkScI/kiRJkiRJwj+SJEmSJEnCP5IkSZIkScI/kiRJkiRJwj+SJEmSJEnCP5IkSZIkScI/kiRJkiRJwj+SJEmSJEnCP5IkSZIkScI/kiRJkiRJwj+SJEmSJEnCP5IkSZIkScI/kiRJkiRJwj+SJEmSJEnCP5IkSZIkScI/kiRJkiRJwj+SJEmSJEnCP5IkSZIkScI/kiRJkiRJwj+SJEmSJEnCP5IkSZIkScI/kiRJkiRJwj+SJEmSJEnCP5IkSZIkScI/kiRJkiRJwj+SJEmSJEnCP5IkSZIkScI/kiRJkiRJwj+SJEmSJEnCP5IkSZIkScI/kiRJkiRJwj+SJEmSJEnCP5IkSZIkScI/kiRJkiRJwj+SJEmSJEnCP5IkSZIkScI/kiRJkiRJwj+SJEmSJEnSP5IkSZIkSdI/kiRJkiRJ0j+SJEmSJEnSP5IkSZIkSdI/kiRJkiRJ0j+SJEmSJEnSP5IkSZIkSdI/kiRJkiRJ0j+SJEmSJEnSP5IkSZIkSdI/kiRJkiRJ0j+SJEmSJEnSP5IkSZIkSdI/kiRJkiRJ0j+SJEmSJEnSP5IkSZIkSdI/kiRJkiRJ0j+SJEmSJEnSP5IkSZIkSdI/kiRJkiRJ0j+SJEmSJEnSP5IkSZIkSdI/kiRJkiRJ0j+SJEmSJEnSP5IkSZIkSdI/kiRJkiRJ0j+SJEmSJEnSP5IkSZIkSdI/kiRJkiRJ0j+SJEmSJEnSP5IkSZIkSdI/kiRJkiRJ0j+SJEmSJEnSP5IkSZIkSdI/kiRJkiRJ0j+SJEmSJEnSP5IkSZIkSdI/kiRJkiRJ0j+SJEmSJEnSP5IkSZIkSdI/kiRJkiRJ0j+SJEmSJEnSP5IkSZIkSdI/kiRJkiRJ0j+SJEmSJEnSP5IkSZIkSdI/kiRJkiRJ0j+SJEmSJEnSP5IkSZIkSdI/27Zt27Zt2z/btm3btm3bP9u2bdu2bds/27Zt27Zt2z/btm3btm3bP9u2bdu2bds/27Zt27Zt2z/btm3btm3bP9u2bdu2bds/27Zt27Zt2z/btm3btm3bP9u2bdu2bds/27Zt27Zt2z/btm3btm3bP9u2bdu2bds/27Zt27Zt2z/btm3btm3bP9u2bdu2bds/27Zt27Zt2z/btm3btm3bP9u2bdu2bds/27Zt27Zt2z/btm3btm3bP9u2bdu2bds/27Zt27Zt2z/btm3btm3bP9u2bdu2bds/27Zt27Zt2z/btm3btm3bP9u2bdu2bds/27Zt27Zt2z/btm3btm3bP9u2bdu2bds/27Zt27Zt2z/btm3btm3bP9u2bdu2bds/27Zt27Zt2z/btm3btm3bP9u2bdu2bds/27Zt27Zt2z/btm3btm3bP9u2bdu2bds/27Zt27Zt2z/btm3btm3bP9u2bdu2bds/27Zt27Zt2z/btm3btm3bP9u2bdu2bds/27Zt27Zt2z/btm3btm3bP5IkSZIkSeI/kiRJkiRJ4j+SJEmSJEniP5IkSZIkSeI/kiRJkiRJ4j+SJEmSJEniP5IkSZIkSeI/kiRJkiRJ4j+SJEmSJEniP5IkSZIkSeI/kiRJkiRJ4j+SJEmSJEniP5IkSZIkSeI/kiRJkiRJ4j+SJEmSJEniP5IkSZIkSeI/kiRJkiRJ4j+SJEmSJEniP5IkSZIkSeI/kiRJkiRJ4j+SJEmSJEniP5IkSZIkSeI/kiRJkiRJ4j+SJEmSJEniP5IkSZIkSeI/kiRJkiRJ4j+SJEmSJEniP5IkSZIkSeI/kiRJkiRJ4j+SJEmSJEniP5IkSZIkSeI/kiRJkiRJ4j+SJEmSJEniP5IkSZIkSeI/kiRJkiRJ4j+SJEmSJEniP5IkSZIkSeI/kiRJkiRJ4j+SJEmSJEniP5IkSZIkSeI/kiRJkiRJ4j+SJEmSJEniP5IkSZIkSeI/kiRJkiRJ4j+SJEmSJEniP5IkSZIkSeI/kiRJkiRJ4j+SJEmSJEniP5IkSZIkSeI/kiRJkiRJ4j+2bdu2bdvmP7Zt27Zt2+Y/tm3btm3b5j+2bdu2bdvmP7Zt27Zt2+Y/tm3btm3b5j+2bdu2bdvmP7Zt27Zt2+Y/tm3btm3b5j+2bdu2bdvmP7Zt27Zt2+Y/tm3btm3b5j+2bdu2bdvmP7Zt27Zt2+Y/tm3btm3b5j+2bdu2bdvmP7Zt27Zt2+Y/tm3btm3b5j+2bdu2bdvmP7Zt27Zt2+Y/tm3btm3b5j+2bdu2bdvmP7Zt27Zt2+Y/tm3btm3b5j+2bdu2bdvmP7Zt27Zt2+Y/tm3btm3b5j+2bdu2bdvmP7Zt27Zt2+Y/tm3btm3b5j+2bdu2bdvmP7Zt27Zt2+Y/tm3btm3b5j+2bdu2bdvmP7Zt27Zt2+Y/tm3btm3b5j+2bdu2bdvmP7Zt27Zt2+Y/tm3btm3b5j+2bdu2bdvmP7Zt27Zt2+Y/tm3btm3b5j+2bdu2bdvmP7Zt27Zt2+Y/tm3btm3b5j+2bdu2bdvmP7Zt27Zt2+Y/tm3btm3b5j+2bdu2bdvmP7Zt27Zt2+Y/27Zt27Zt6z/btm3btm3rP9u2bdu2bes/27Zt27Zt6z/btm3btm3rP9u2bdu2bes/27Zt27Zt6z/btm3btm3rP9u2bdu2bes/27Zt27Zt6z/btm3btm3rP9u2bdu2bes/27Zt27Zt6z/btm3btm3rP9u2bdu2bes/27Zt27Zt6z/btm3btm3rP9u2bdu2bes/27Zt27Zt6z/btm3btm3rP9u2bdu2bes/27Zt27Zt6z/btm3btm3rP9u2bdu2bes/27Zt27Zt6z/btm3btm3rP9u2bdu2bes/27Zt27Zt6z/btm3btm3rP9u2bdu2bes/27Zt27Zt6z/btm3btm3rP9u2bdu2bes/27Zt27Zt6z/btm3btm3rP9u2bdu2bes/27Zt27Zt6z/btm3btm3rP9u2bdu2bes/27Zt27Zt6z/btm3btm3rP9u2bdu2bes/27Zt27Zt6z/btm3btm3rP9u2bdu2bes/27Zt27Zt6z/btm3btm3rP9u2bdu2bes/27Zt27Zt6z/btm3btm3rPwAAAAAAAPA/AAAAAAAA8D8AAAAAAADwPwAAAAAAAPA/AAAAAAAA8D8AAAAAAADwPwAAAAAAAPA/AAAAAAAA8D8AAAAAAADwPwAAAAAAAPA/AAAAAAAA8D8AAAAAAADwPwAAAAAAAPA/AAAAAAAA8D8AAAAAAADwPwAAAAAAAPA/AAAAAAAA8D8AAAAAAADwPwAAAAAAAPA/AAAAAAAA8D8AAAAAAADwPwAAAAAAAPA/AAAAAAAA8D8AAAAAAADwPwAAAAAAAPA/AAAAAAAA8D8AAAAAAADwPwAAAAAAAPA/AAAAAAAA8D8AAAAAAADwPwAAAAAAAPA/AAAAAAAA8D8AAAAAAADwPwAAAAAAAPA/AAAAAAAA8D8AAAAAAADwPwAAAAAAAPA/AAAAAAAA8D8AAAAAAADwPwAAAAAAAPA/AAAAAAAA8D8AAAAAAADwPwAAAAAAAPA/AAAAAAAA8D8AAAAAAADwPwAAAAAAAPA/AAAAAAAA8D8AAAAAAADwPwAAAAAAAPA/AAAAAAAA8D+SJEmSJEnyP5IkSZIkSfI/kiRJkiRJ8j+SJEmSJEnyP5IkSZIkSfI/kiRJkiRJ8j+SJEmSJEnyP5IkSZIkSfI/kiRJkiRJ8j+SJEmSJEnyP5IkSZIkSfI/kiRJkiRJ8j+SJEmSJEnyP5IkSZIkSfI/kiRJkiRJ8j+SJEmSJEnyP5IkSZIkSfI/kiRJkiRJ8j+SJEmSJEnyP5IkSZIkSfI/kiRJkiRJ8j+SJEmSJEnyP5IkSZIkSfI/kiRJkiRJ8j+SJEmSJEnyP5IkSZIkSfI/kiRJkiRJ8j+SJEmSJEnyP5IkSZIkSfI/kiRJkiRJ8j+SJEmSJEnyP5IkSZIkSfI/kiRJkiRJ8j+SJEmSJEnyP5IkSZIkSfI/kiRJkiRJ8j+SJEmSJEnyP5IkSZIkSfI/kiRJkiRJ8j+SJEmSJEnyP5IkSZIkSfI/kiRJkiRJ8j+SJEmSJEnyP5IkSZIkSfI/kiRJkiRJ8j+SJEmSJEnyP5IkSZIkSfI/kiRJkiRJ8j+SJEmSJEnyP5IkSZIkSfI/JEmSJEmS9D8kSZIkSZL0PyRJkiRJkvQ/JEmSJEmS9D8kSZIkSZL0PyRJkiRJkvQ/JEmSJEmS9D8kSZIkSZL0PyRJkiRJkvQ/JEmSJEmS9D8kSZIkSZL0PyRJkiRJkvQ/JEmSJEmS9D8kSZIkSZL0PyRJkiRJkvQ/JEmSJEmS9D8kSZIkSZL0PyRJkiRJkvQ/JEmSJEmS9D8kSZIkSZL0PyRJkiRJkvQ/JEmSJEmS9D8kSZIkSZL0PyRJkiRJkvQ/JEmSJEmS9D8kSZIkSZL0PyRJkiRJkvQ/JEmSJEmS9D8kSZIkSZL0PyRJkiRJkvQ/JEmSJEmS9D8kSZIkSZL0PyRJkiRJkvQ/JEmSJEmS9D8kSZIkSZL0PyRJkiRJkvQ/JEmSJEmS9D8kSZIkSZL0PyRJkiRJkvQ/JEmSJEmS9D8kSZIkSZL0PyRJkiRJkvQ/JEmSJEmS9D8kSZIkSZL0PyRJkiRJkvQ/JEmSJEmS9D8kSZIkSZL0PyRJkiRJkvQ/JEmSJEmS9D8kSZIkSZL0P7Zt27Zt2/Y/tm3btm3b9j+2bdu2bdv2P7Zt27Zt2/Y/tm3btm3b9j+2bdu2bdv2P7Zt27Zt2/Y/tm3btm3b9j+2bdu2bdv2P7Zt27Zt2/Y/tm3btm3b9j+2bdu2bdv2P7Zt27Zt2/Y/tm3btm3b9j+2bdu2bdv2P7Zt27Zt2/Y/tm3btm3b9j+2bdu2bdv2P7Zt27Zt2/Y/tm3btm3b9j+2bdu2bdv2P7Zt27Zt2/Y/tm3btm3b9j+2bdu2bdv2P7Zt27Zt2/Y/tm3btm3b9j+2bdu2bdv2P7Zt27Zt2/Y/tm3btm3b9j+2bdu2bdv2P7Zt27Zt2/Y/tm3btm3b9j+2bdu2bdv2P7Zt27Zt2/Y/tm3btm3b9j+2bdu2bdv2P7Zt27Zt2/Y/tm3btm3b9j+2bdu2bdv2P7Zt27Zt2/Y/tm3btm3b9j+2bdu2bdv2P7Zt27Zt2/Y/tm3btm3b9j+2bdu2bdv2P7Zt27Zt2/Y/tm3btm3b9j+2bdu2bdv2P7Zt27Zt2/Y/tm3btm3b9j9JkiRJkiT5P0mSJEmSJPk/SZIkSZIk+T9JkiRJkiT5P0mSJEmSJPk/SZIkSZIk+T9JkiRJkiT5P0mSJEmSJPk/SZIkSZIk+T9JkiRJkiT5P0mSJEmSJPk/SZIkSZIk+T9JkiRJkiT5P0mSJEmSJPk/SZIkSZIk+T9JkiRJkiT5P0mSJEmSJPk/SZIkSZIk+T9JkiRJkiT5P0mSJEmSJPk/SZIkSZIk+T9JkiRJkiT5P0mSJEmSJPk/SZIkSZIk+T9JkiRJkiT5P0mSJEmSJPk/SZIkSZIk+T9JkiRJkiT5P0mSJEmSJPk/SZIkSZIk+T9JkiRJkiT5P0mSJEmSJPk/SZIkSZIk+T9JkiRJkiT5P0mSJEmSJPk/SZIkSZIk+T9JkiRJkiT5P0mSJEmSJPk/SZIkSZIk+T9JkiRJkiT5P0mSJEmSJPk/SZIkSZIk+T9JkiRJkiT5P0mSJEmSJPk/SZIkSZIk+T9JkiRJkiT5P0mSJEmSJPk/SZIkSZIk+T9JkiRJkiT5P0mSJEmSJPk/27Zt27Zt+z/btm3btm37P9u2bdu2bfs/27Zt27Zt+z/btm3btm37P9u2bdu2bfs/27Zt27Zt+z/btm3btm37P9u2bdu2bfs/27Zt27Zt+z/btm3btm37P9u2bdu2bfs/27Zt27Zt+z/btm3btm37P9u2bdu2bfs/27Zt27Zt+z/btm3btm37P9u2bdu2bfs/27Zt27Zt+z/btm3btm37P9u2bdu2bfs/27Zt27Zt+z/btm3btm37P9u2bdu2bfs/27Zt27Zt+z/btm3btm37P9u2bdu2bfs/27Zt27Zt+z/btm3btm37P9u2bdu2bfs/27Zt27Zt+z/btm3btm37P9u2bdu2bfs/27Zt27Zt+z/btm3btm37P9u2bdu2bfs/27Zt27Zt+z/btm3btm37P9u2bdu2bfs/27Zt27Zt+z/btm3btm37P9u2bdu2bfs/27Zt27Zt+z/btm3btm37P9u2bdu2bfs/27Zt27Zt+z/btm3btm37P9u2bdu2bfs/27Zt27Zt+z/btm3btm37P23btm3btv0/bdu2bdu2/T9t27Zt27b9P23btm3btv0/bdu2bdu2/T9t27Zt27b9P23btm3btv0/bdu2bdu2/T9t27Zt27b9P23btm3btv0/bdu2bdu2/T9t27Zt27b9P23btm3btv0/bdu2bdu2/T9t27Zt27b9P23btm3btv0/bdu2bdu2/T9t27Zt27b9P23btm3btv0/bdu2bdu2/T9t27Zt27b9P23btm3btv0/bdu2bdu2/T9t27Zt27b9P23btm3btv0/bdu2bdu2/T9t27Zt27b9P23btm3btv0/bdu2bdu2/T9t27Zt27b9P23btm3btv0/bdu2bdu2/T9t27Zt27b9P23btm3btv0/bdu2bdu2/T9t27Zt27b9P23btm3btv0/bdu2bdu2/T9t27Zt27b9P23btm3btv0/bdu2bdu2/T9t27Zt27b9P23btm3btv0/bdu2bdu2/T9t27Zt27b9P23btm3btv0/bdu2bdu2/T9t27Zt27b9P23btm3btv0/bdu2bdu2/T8AAAAAAAAAQAAAAAAAAABAAAAAAAAAAEAAAAAAAAAAQAAAAAAAAABAAAAAAAAAAEAAAAAAAAAAQAAAAAAAAABAAAAAAAAAAEAAAAAAAAAAQAAAAAAAAABAAAAAAAAAAEAAAAAAAAAAQAAAAAAAAABAAAAAAAAAAEAAAAAAAAAAQAAAAAAAAABAAAAAAAAAAEAAAAAAAAAAQAAAAAAAAABAAAAAAAAAAEAAAAAAAAAAQAAAAAAAAABAAAAAAAAAAEAAAAAAAAAAQAAAAAAAAABAAAAAAAAAAEAAAAAAAAAAQAAAAAAAAABAAAAAAAAAAEAAAAAAAAAAQAAAAAAAAABAAAAAAAAAAEAAAAAAAAAAQAAAAAAAAABAAAAAAAAAAEAAAAAAAAAAQAAAAAAAAABAAAAAAAAAAEAAAAAAAAAAQAAAAAAAAABAAAAAAAAAAEAAAAAAAAAAQAAAAAAAAABAAAAAAAAAAEAAAAAAAAAAQAAAAAAAAABAAAAAAAAAAEAAAAAAAAAAQAAAAAAAAABASZIkSZIkAUBJkiRJkiQBQEmSJEmSJAFASZIkSZIkAUBJkiRJkiQBQEmSJEmSJAFASZIkSZIkAUBJkiRJkiQBQEmSJEmSJAFASZIkSZIkAUBJkiRJkiQBQEmSJEmSJAFASZIkSZIkAUBJkiRJkiQBQEmSJEmSJAFASZIkSZIkAUBJkiRJkiQBQEmSJEmSJAFASZIkSZIkAUBJkiRJkiQBQEmSJEmSJAFASZIkSZIkAUBJkiRJkiQBQEmSJEmSJAFASZIkSZIkAUBJkiRJkiQBQEmSJEmSJAFASZIkSZIkAUBJkiRJkiQBQEmSJEmSJAFASZIkSZIkAUBJkiRJkiQBQEmSJEmSJAFASZIkSZIkAUBJkiRJkiQBQEmSJEmSJAFASZIkSZIkAUBJkiRJkiQBQEmSJEmSJAFASZIkSZIkAUBJkiRJkiQBQEmSJEmSJAFASZIkSZIkAUBJkiRJkiQBQEmSJEmSJAFASZIkSZIkAUBJkiRJkiQBQEmSJEmSJAFASZIkSZIkAUBJkiRJkiQBQJIkSZIkSQJAkiRJkiRJAkCSJEmSJEkCQJIkSZIkSQJAkiRJkiRJAkCSJEmSJEkCQJIkSZIkSQJAkiRJkiRJAkCSJEmSJEkCQJIkSZIkSQJAkiRJkiRJAkCSJEmSJEkCQJIkSZIkSQJAkiRJkiRJAkCSJEmSJEkCQJIkSZIkSQJAkiRJkiRJAkCSJEmSJEkCQJIkSZIkSQJAkiRJkiRJAkCSJEmSJEkCQJIkSZIkSQJAkiRJkiRJAkCSJEmSJEkCQJIkSZIkSQJAkiRJkiRJAkCSJEmSJEkCQJIkSZIkSQJAkiRJkiRJAkCSJEmSJEkCQJIkSZIkSQJAkiRJkiRJAkCSJEmSJEkCQJIkSZIkSQJAkiRJkiRJAkCSJEmSJEkCQJIkSZIkSQJAkiRJkiRJAkCSJEmSJEkCQJIkSZIkSQJAkiRJkiRJAkCSJEmSJEkCQJIkSZIkSQJAkiRJkiRJAkCSJEmSJEkCQJIkSZIkSQJAkiRJkiRJAkCSJEmSJEkCQJIkSZIkSQJAkiRJkiRJAkDbtm3btm0DQNu2bdu2bQNA27Zt27ZtA0Dbtm3btm0DQNu2bdu2bQNA27Zt27ZtA0Dbtm3btm0DQNu2bdu2bQNA27Zt27ZtA0Dbtm3btm0DQNu2bdu2bQNA27Zt27ZtA0Dbtm3btm0DQNu2bdu2bQNA27Zt27ZtA0Dbtm3btm0DQNu2bdu2bQNA27Zt27ZtA0Dbtm3btm0DQNu2bdu2bQNA27Zt27ZtA0Dbtm3btm0DQNu2bdu2bQNA27Zt27ZtA0Dbtm3btm0DQNu2bdu2bQNA27Zt27ZtA0Dbtm3btm0DQNu2bdu2bQNA27Zt27ZtA0Dbtm3btm0DQNu2bdu2bQNA27Zt27ZtA0Dbtm3btm0DQNu2bdu2bQNA27Zt27ZtA0Dbtm3btm0DQNu2bdu2bQNA27Zt27ZtA0Dbtm3btm0DQNu2bdu2bQNA27Zt27ZtA0Dbtm3btm0DQNu2bdu2bQNA27Zt27ZtA0Dbtm3btm0DQNu2bdu2bQNA27Zt27ZtA0Dbtm3btm0DQNu2bdu2bQNAJEmSJEmSBEAkSZIkSZIEQCRJkiRJkgRAJEmSJEmSBEAkSZIkSZIEQCRJkiRJkgRAJEmSJEmSBEAkSZIkSZIEQCRJkiRJkgRAJEmSJEmSBEAkSZIkSZIEQCRJkiRJkgRAJEmSJEmSBEAkSZIkSZIEQCRJkiRJkgRAJEmSJEmSBEAkSZIkSZIEQCRJkiRJkgRAJEmSJEmSBEAkSZIkSZIEQCRJkiRJkgRAJEmSJEmSBEAkSZIkSZIEQCRJkiRJkgRAJEmSJEmSBEAkSZIkSZIEQCRJkiRJkgRAJEmSJEmSBEAkSZIkSZIEQCRJkiRJkgRAJEmSJEmSBEAkSZIkSZIEQCRJkiRJkgRAJEmSJEmSBEAkSZIkSZIEQCRJkiRJkgRAJEmSJEmSBEAkSZIkSZIEQCRJkiRJkgRAJEmSJEmSBEAkSZIkSZIEQCRJkiRJkgRAJEmSJEmSBEAkSZIkSZIEQCRJkiRJkgRAJEmSJEmSBEAkSZIkSZIEQCRJkiRJkgRAJEmSJEmSBEAkSZIkSZIEQG3btm3btgVAbdu2bdu2BUBt27Zt27YFQG3btm3btgVAbdu2bdu2BUBt27Zt27YFQG3btm3btgVAbdu2bdu2BUBt27Zt27YFQG3btm3btgVAbdu2bdu2BUBt27Zt27YFQG3btm3btgVAbdu2bdu2BUBt27Zt27YFQG3btm3btgVAbdu2bdu2BUBt27Zt27YFQG3btm3btgVAbdu2bdu2BUBt27Zt27YFQG3btm3btgVAbdu2bdu2BUBt27Zt27YFQG3btm3btgVAbdu2bdu2BUBt27Zt27YFQG3btm3btgVAbdu2bdu2BUBt27Zt27YFQG3btm3btgVAbdu2bdu2BUBt27Zt27YFQG3btm3btgVAbdu2bdu2BUBt27Zt27YFQG3btm3btgVAbdu2bdu2BUBt27Zt27YFQG3btm3btgVAbdu2bdu2BUBt27Zt27YFQG3btm3btgVAbdu2bdu2BUBt27Zt27YFQG3btm3btgVAbdu2bdu2BUBt27Zt27YFQG3btm3btgVAbdu2bdu2BUC2bdu2bdsGQLZt27Zt2wZAtm3btm3bBkC2bdu2bdsGQLZt27Zt2wZAtm3btm3bBkC2bdu2bdsGQLZt27Zt2wZAtm3btm3bBkC2bdu2bdsGQLZt27Zt2wZAtm3btm3bBkC2bdu2bdsGQLZt27Zt2wZAtm3btm3bBkC2bdu2bdsGQLZt27Zt2wZAtm3btm3bBkC2bdu2bdsGQLZt27Zt2wZAtm3btm3bBkC2bdu2bdsGQLZt27Zt2wZAtm3btm3bBkC2bdu2bdsGQLZt27Zt2wZAtm3btm3bBkC2bdu2bdsGQLZt27Zt2wZAtm3btm3bBkC2bdu2bdsGQLZt27Zt2wZAtm3btm3bBkC2bdu2bdsGQLZt27Zt2wZAtm3btm3bBkC2bdu2bdsGQLZt27Zt2wZAtm3btm3bBkC2bdu2bdsGQLZt27Zt2wZAtm3btm3bBkC2bdu2bdsGQLZt27Zt2wZAtm3btm3bBkC2bdu2bdsGQLZt27Zt2wZAtm3btm3bBkC2bdu2bdsGQLZt27Zt2wZAAAAAAAAACEAAAAAAAAAIQAAAAAAAAAhAAAAAAAAACEAAAAAAAAAIQAAAAAAAAAhAAAAAAAAACEAAAAAAAAAIQAAAAAAAAAhAAAAAAAAACEAAAAAAAAAIQAAAAAAAAAhAAAAAAAAACEAAAAAAAAAIQAAAAAAAAAhAAAAAAAAACEAAAAAAAAAIQAAAAAAAAAhAAAAAAAAACEAAAAAAAAAIQAAAAAAAAAhAAAAAAAAACEAAAAAAAAAIQAAAAAAAAAhAAAAAAAAACEAAAAAAAAAIQAAAAAAAAAhAAAAAAAAACEAAAAAAAAAIQAAAAAAAAAhAAAAAAAAACEAAAAAAAAAIQAAAAAAAAAhAAAAAAAAACEAAAAAAAAAIQAAAAAAAAAhAAAAAAAAACEAAAAAAAAAIQAAAAAAAAAhAAAAAAAAACEAAAAAAAAAIQAAAAAAAAAhAAAAAAAAACEAAAAAAAAAIQAAAAAAAAAhAAAAAAAAACEAAAAAAAAAIQAAAAAAAAAhAAAAAAAAACEAAAAAAAAAIQEmSJEmSJAlASZIkSZIkCUBJkiRJkiQJQEmSJEmSJAlASZIkSZIkCUBJkiRJkiQJQEmSJEmSJAlASZIkSZIkCUBJkiRJkiQJQEmSJEmSJAlASZIkSZIkCUBJkiRJkiQJQEmSJEmSJAlASZIkSZIkCUBJkiRJkiQJQEmSJEmSJAlASZIkSZIkCUBJkiRJkiQJQEmSJEmSJAlASZIkSZIkCUBJkiRJkiQJQEmSJEmSJAlASZIkSZIkCUBJkiRJkiQJQEmSJEmSJAlASZIkSZIkCUBJkiRJkiQJQEmSJEmSJAlASZIkSZIkCUBJkiRJkiQJQEmSJEmSJAlASZIkSZIkCUBJkiRJkiQJQEmSJEmSJAlASZIkSZIkCUBJkiRJkiQJQEmSJEmSJAlASZIkSZIkCUBJkiRJkiQJQEmSJEmSJAlASZIkSZIkCUBJkiRJkiQJQEmSJEmSJAlASZIkSZIkCUBJkiRJkiQJQEmSJEmSJAlASZIkSZIkCUBJkiRJkiQJQEmSJEmSJAlASZIkSZIkCUCSJEmSJEkKQJIkSZIkSQpAkiRJkiRJCkCSJEmSJEkKQJIkSZIkSQpAkiRJkiRJCkCSJEmSJEkKQJIkSZIkSQpAkiRJkiRJCkCSJEmSJEkKQJIkSZIkSQpAkiRJkiRJCkCSJEmSJEkKQJIkSZIkSQpAkiRJkiRJCkCSJEmSJEkKQJIkSZIkSQpAkiRJkiRJCkCSJEmSJEkKQJIkSZIkSQpAkiRJkiRJCkCSJEmSJEkKQJIkSZIkSQpAkiRJkiRJCkCSJEmSJEkKQJIkSZIkSQpAkiRJkiRJCkCSJEmSJEkKQJIkSZIkSQpAkiRJkiRJCkCSJEmSJEkKQJIkSZIkSQpAkiRJkiRJCkCSJEmSJEkKQJIkSZIkSQpAkiRJkiRJCkCSJEmSJEkKQJIkSZIkSQpAkiRJkiRJCkCSJEmSJEkKQJIkSZIkSQpAkiRJkiRJCkCSJEmSJEkKQJIkSZIkSQpAkiRJkiRJCkCSJEmSJEkKQJIkSZIkSQpAkiRJkiRJCkCSJEmSJEkKQJIkSZIkSQpA27Zt27ZtC0Dbtm3btm0LQNu2bdu2bQtA27Zt27ZtC0Dbtm3btm0LQNu2bdu2bQtA27Zt27ZtC0Dbtm3btm0LQNu2bdu2bQtA27Zt27ZtC0Dbtm3btm0LQNu2bdu2bQtA27Zt27ZtC0Dbtm3btm0LQNu2bdu2bQtA27Zt27ZtC0Dbtm3btm0LQNu2bdu2bQtA27Zt27ZtC0Dbtm3btm0LQNu2bdu2bQtA27Zt27ZtC0Dbtm3btm0LQNu2bdu2bQtA27Zt27ZtC0Dbtm3btm0LQNu2bdu2bQtA27Zt27ZtC0Dbtm3btm0LQNu2bdu2bQtA27Zt27ZtC0Dbtm3btm0LQNu2bdu2bQtA27Zt27ZtC0Dbtm3btm0LQNu2bdu2bQtA27Zt27ZtC0Dbtm3btm0LQNu2bdu2bQtA27Zt27ZtC0Dbtm3btm0LQNu2bdu2bQtA27Zt27ZtC0Dbtm3btm0LQNu2bdu2bQtA27Zt27ZtC0Dbtm3btm0LQNu2bdu2bQtA27Zt27ZtC0Dbtm3btm0LQCRJkiRJkgxAJEmSJEmSDEAkSZIkSZIMQCRJkiRJkgxAJEmSJEmSDEAkSZIkSZIMQCRJkiRJkgxAJEmSJEmSDEAkSZIkSZIMQCRJkiRJkgxAJEmSJEmSDEAkSZIkSZIMQCRJkiRJkgxAJEmSJEmSDEAkSZIkSZIMQCRJkiRJkgxAJEmSJEmSDEAkSZIkSZIMQCRJkiRJkgxAJEmSJEmSDEAkSZIkSZIMQCRJkiRJkgxAJEmSJEmSDEAkSZIkSZIMQCRJkiRJkgxAJEmSJEmSDEAkSZIkSZIMQCRJkiRJkgxAJEmSJEmSDEAkSZIkSZIMQCRJkiRJkgxAJEmSJEmSDEAkSZIkSZIMQCRJkiRJkgxAJEmSJEmSDEAkSZIkSZIMQCRJkiRJkgxAJEmSJEmSDEAkSZIkSZIMQCRJkiRJkgxAJEmSJEmSDEAkSZIkSZIMQCRJkiRJkgxAJEmSJEmSDEAkSZIkSZIMQCRJkiRJkgxAJEmSJEmSDEAkSZIkSZIMQCRJkiRJkgxAJEmSJEmSDEBt27Zt27YNQG3btm3btg1Abdu2bdu2DUBt27Zt27YNQG3btm3btg1Abdu2bdu2DUBt27Zt27YNQG3btm3btg1Abdu2bdu2DUBt27Zt27YNQG3btm3btg1Abdu2bdu2DUBt27Zt27YNQG3btm3btg1Abdu2bdu2DUBt27Zt27YNQG3btm3btg1Abdu2bdu2DUBt27Zt27YNQG3btm3btg1Abdu2bdu2DUBt27Zt27YNQG3btm3btg1Abdu2bdu2DUBt27Zt27YNQG3btm3btg1Abdu2bdu2DUBt27Zt27YNQG3btm3btg1Abdu2bdu2DUBt27Zt27YNQG3btm3btg1Abdu2bdu2DUBt27Zt27YNQG3btm3btg1Abdu2bdu2DUBt27Zt27YNQG3btm3btg1Abdu2bdu2DUBt27Zt27YNQG3btm3btg1Abdu2bdu2DUBt27Zt27YNQG3btm3btg1Abdu2bdu2DUBt27Zt27YNQG3btm3btg1Abdu2bdu2DUBt27Zt27YNQG3btm3btg1Atm3btm3bDkC2bdu2bdsOQLZt27Zt2w5Atm3btm3bDkC2bdu2bdsOQLZt27Zt2w5Atm3btm3bDkC2bdu2bdsOQLZt27Zt2w5Atm3btm3bDkC2bdu2bdsOQLZt27Zt2w5Atm3btm3bDkC2bdu2bdsOQLZt27Zt2w5Atm3btm3bDkC2bdu2bdsOQLZt27Zt2w5Atm3btm3bDkC2bdu2bdsOQLZt27Zt2w5Atm3btm3bDkC2bdu2bdsOQLZt27Zt2w5Atm3btm3bDkC2bdu2bdsOQLZt27Zt2w5Atm3btm3bDkC2bdu2bdsOQLZt27Zt2w5Atm3btm3bDkC2bdu2bdsOQLZt27Zt2w5Atm3btm3bDkC2bdu2bdsOQLZt27Zt2w5Atm3btm3bDkC2bdu2bdsOQLZt27Zt2w5Atm3btm3bDkC2bdu2bdsOQLZt27Zt2w5Atm3btm3bDkC2bdu2bdsOQLZt27Zt2w5Atm3btm3bDkC2bdu2bdsOQLZt27Zt2w5Atm3btm3bDkC2bdu2bdsOQAAAAAAAABBAAAAAAAAAEEAAAAAAAAAQQAAAAAAAABBAAAAAAAAAEEAAAAAAAAAQQAAAAAAAABBAAAAAAAAAEEAAAAAAAAAQQAAAAAAAABBAAAAAAAAAEEAAAAAAAAAQQAAAAAAAABBAAAAAAAAAEEAAAAAAAAAQQAAAAAAAABBAAAAAAAAAEEAAAAAAAAAQQAAAAAAAABBAAAAAAAAAEEAAAAAAAAAQQAAAAAAAABBAAAAAAAAAEEAAAAAAAAAQQAAAAAAAABBAAAAAAAAAEEAAAAAAAAAQQAAAAAAAABBAAAAAAAAAEEAAAAAAAAAQQAAAAAAAABBAAAAAAAAAEEAAAAAAAAAQQAAAAAAAABBAAAAAAAAAEEAAAAAAAAAQQAAAAAAAABBAAAAAAAAAEEAAAAAAAAAQQAAAAAAAABBAAAAAAAAAEEAAAAAAAAAQQAAAAAAAABBAAAAAAAAAEEAAAAAAAAAQQAAAAAAAABBAAAAAAAAAEEAAAAAAAAAQQAAAAAAAABBAAAAAAAAAEEAkSZIkSZIQQCRJkiRJkhBAJEmSJEmSEEAkSZIkSZIQQCRJkiRJkhBAJEmSJEmSEEAkSZIkSZIQQCRJkiRJkhBAJEmSJEmSEEAkSZIkSZIQQCRJkiRJkhBAJEmSJEmSEEAkSZIkSZIQQCRJkiRJkhBAJEmSJEmSEEAkSZIkSZIQQCRJkiRJkhBAJEmSJEmSEEAkSZIkSZIQQCRJkiRJkhBAJEmSJEmSEEAkSZIkSZIQQCRJkiRJkhBAJEmSJEmSEEAkSZIkSZIQQCRJkiRJkhBAJEmSJEmSEEAkSZIkSZIQQCRJkiRJkhBAJEmSJEmSEEAkSZIkSZIQQCRJkiRJkhBAJEmSJEmSEEAkSZIkSZIQQCRJkiRJkhBAJEmSJEmSEEAkSZIkSZIQQCRJkiRJkhBAJEmSJEmSEEAkSZIkSZIQQCRJkiRJkhBAJEmSJEmSEEAkSZIkSZIQQCRJkiRJkhBAJEmSJEmSEEAkSZIkSZIQQCRJkiRJkhBAJEmSJEmSEEAkSZIkSZIQQCRJkiRJkhBASZIkSZIkEUBJkiRJkiQRQEmSJEmSJBFASZIkSZIkEUBJkiRJkiQRQEmSJEmSJBFASZIkSZIkEUBJkiRJkiQRQEmSJEmSJBFASZIkSZIkEUBJkiRJkiQRQEmSJEmSJBFASZIkSZIkEUBJkiRJkiQRQEmSJEmSJBFASZIkSZIkEUBJkiRJkiQRQEmSJEmSJBFASZIkSZIkEUBJkiRJkiQRQEmSJEmSJBFASZIkSZIkEUBJkiRJkiQRQEmSJEmSJBFASZIkSZIkEUBJkiRJkiQRQEmSJEmSJBFASZIkSZIkEUBJkiRJkiQRQEmSJEmSJBFASZIkSZIkEUBJkiRJkiQRQEmSJEmSJBFASZIkSZIkEUBJkiRJkiQRQEmSJEmSJBFASZIkSZIkEUBJkiRJkiQRQEmSJEmSJBFASZIkSZIkEUBJkiRJkiQRQEmSJEmSJBFASZIkSZIkEUBJkiRJkiQRQEmSJEmSJBFASZIkSZIkEUBJkiRJkiQRQEmSJEmSJBFASZIkSZIkEUBJkiRJkiQRQG3btm3bthFAbdu2bdu2EUBt27Zt27YRQG3btm3bthFAbdu2bdu2EUBt27Zt27YRQG3btm3bthFAbdu2bdu2EUBt27Zt27YRQG3btm3bthFAbdu2bdu2EUBt27Zt27YRQG3btm3bthFAbdu2bdu2EUBt27Zt27YRQG3btm3bthFAbdu2bdu2EUBt27Zt27YRQG3btm3bthFAbdu2bdu2EUBt27Zt27YRQG3btm3bthFAbdu2bdu2EUBt27Zt27YRQG3btm3bthFAbdu2bdu2EUBt27Zt27YRQG3btm3bthFAbdu2bdu2EUBt27Zt27YRQG3btm3bthFAbdu2bdu2EUBt27Zt27YRQG3btm3bthFAbdu2bdu2EUBt27Zt27YRQG3btm3bthFAbdu2bdu2EUBt27Zt27YRQG3btm3bthFAbdu2bdu2EUBt27Zt27YRQG3btm3bthFAbdu2bdu2EUBt27Zt27YRQG3btm3bthFAbdu2bdu2EUBt27Zt27YRQG3btm3bthFAbdu2bdu2EUCSJEmSJEkSQJIkSZIkSRJAkiRJkiRJEkCSJEmSJEkSQJIkSZIkSRJAkiRJkiRJEkCSJEmSJEkSQJIkSZIkSRJAkiRJkiRJEkCSJEmSJEkSQJIkSZIkSRJAkiRJkiRJEkCSJEmSJEkSQJIkSZIkSRJAkiRJkiRJEkCSJEmSJEkSQJIkSZIkSRJAkiRJkiRJEkCSJEmSJEkSQJIkSZIkSRJAkiRJkiRJEkCSJEmSJEkSQJIkSZIkSRJAkiRJkiRJEkCSJEmSJEkSQJIkSZIkSRJAkiRJkiRJEkCSJEmSJEkSQJIkSZIkSRJAkiRJkiRJEkCSJEmSJEkSQJIkSZIkSRJAkiRJkiRJEkCSJEmSJEkSQJIkSZIkSRJAkiRJkiRJEkCSJEmSJEkSQJIkSZIkSRJAkiRJkiRJEkCSJEmSJEkSQJIkSZIkSRJAkiRJkiRJEkCSJEmSJEkSQJIkSZIkSRJAkiRJkiRJEkCSJEmSJEkSQJIkSZIkSRJAkiRJkiRJEkCSJEmSJEkSQJIkSZIkSRJAt23btm3bEkC3bdu2bdsSQLdt27Zt2xJAt23btm3bEkC3bdu2bdsSQLdt27Zt2xJAt23btm3bEkC3bdu2bdsSQLdt27Zt2xJAt23btm3bEkC3bdu2bdsSQLdt27Zt2xJAt23btm3bEkC3bdu2bdsSQLdt27Zt2xJAt23btm3bEkC3bdu2bdsSQLdt27Zt2xJAt23btm3bEkC3bdu2bdsSQLdt27Zt2xJAt23btm3bEkC3bdu2bdsSQLdt27Zt2xJAt23btm3bEkC3bdu2bdsSQLdt27Zt2xJAt23btm3bEkC3bdu2bdsSQLdt27Zt2xJAt23btm3bEkC3bdu2bdsSQLdt27Zt2xJAt23btm3bEkC3bdu2bdsSQLdt27Zt2xJAt23btm3bEkC3bdu2bdsSQLdt27Zt2xJAt23btm3bEkC3bdu2bdsSQLdt27Zt2xJAt23btm3bEkC3bdu2bdsSQLdt27Zt2xJAt23btm3bEkC3bdu2bdsSQLdt27Zt2xJAt23btm3bEkC3bdu2bdsSQNu2bdu2bRNA27Zt27ZtE0Dbtm3btm0TQNu2bdu2bRNA27Zt27ZtE0Dbtm3btm0TQNu2bdu2bRNA27Zt27ZtE0Dbtm3btm0TQNu2bdu2bRNA27Zt27ZtE0Dbtm3btm0TQNu2bdu2bRNA27Zt27ZtE0Dbtm3btm0TQNu2bdu2bRNA27Zt27ZtE0Dbtm3btm0TQNu2bdu2bRNA27Zt27ZtE0Dbtm3btm0TQNu2bdu2bRNA27Zt27ZtE0Dbtm3btm0TQNu2bdu2bRNA27Zt27ZtE0Dbtm3btm0TQNu2bdu2bRNA27Zt27ZtE0Dbtm3btm0TQNu2bdu2bRNA27Zt27ZtE0Dbtm3btm0TQNu2bdu2bRNA27Zt27ZtE0Dbtm3btm0TQNu2bdu2bRNA27Zt27ZtE0Dbtm3btm0TQNu2bdu2bRNA27Zt27ZtE0Dbtm3btm0TQNu2bdu2bRNA27Zt27ZtE0Dbtm3btm0TQNu2bdu2bRNA27Zt27ZtE0Dbtm3btm0TQNu2bdu2bRNA27Zt27ZtE0AAAAAAAAAUQAAAAAAAABRAAAAAAAAAFEAAAAAAAAAUQAAAAAAAABRAAAAAAAAAFEAAAAAAAAAUQAAAAAAAABRAAAAAAAAAFEAAAAAAAAAUQAAAAAAAABRAAAAAAAAAFEAAAAAAAAAUQAAAAAAAABRAAAAAAAAAFEAAAAAAAAAUQAAAAAAAABRAAAAAAAAAFEAAAAAAAAAUQAAAAAAAABRAAAAAAAAAFEAAAAAAAAAUQAAAAAAAABRAAAAAAAAAFEAAAAAAAAAUQAAAAAAAABRAAAAAAAAAFEAAAAAAAAAUQAAAAAAAABRAAAAAAAAAFEAAAAAAAAAUQAAAAAAAABRAAAAAAAAAFEAAAAAAAAAUQAAAAAAAABRAAAAAAAAAFEAAAAAAAAAUQAAAAAAAABRAAAAAAAAAFEAAAAAAAAAUQAAAAAAAABRAAAAAAAAAFEAAAAAAAAAUQAAAAAAAABRAAAAAAAAAFEAAAAAAAAAUQAAAAAAAABRAAAAAAAAAFEAAAAAAAAAUQAAAAAAAABRAJEmSJEmSFEAkSZIkSZIUQCRJkiRJkhRAJEmSJEmSFEAkSZIkSZIUQCRJkiRJkhRAJEmSJEmSFEAkSZIkSZIUQCRJkiRJkhRAJEmSJEmSFEAkSZIkSZIUQCRJkiRJkhRAJEmSJEmSFEAkSZIkSZIUQCRJkiRJkhRAJEmSJEmSFEAkSZIkSZIUQCRJkiRJkhRAJEmSJEmSFEAkSZIkSZIUQCRJkiRJkhRAJEmSJEmSFEAkSZIkSZIUQCRJkiRJkhRAJEmSJEmSFEAkSZIkSZIUQCRJkiRJkhRAJEmSJEmSFEAkSZIkSZIUQCRJkiRJkhRAJEmSJEmSFEAkSZIkSZIUQCRJkiRJkhRAJEmSJEmSFEAkSZIkSZIUQCRJkiRJkhRAJEmSJEmSFEAkSZIkSZIUQCRJkiRJkhRAJEmSJEmSFEAkSZIkSZIUQCRJkiRJkhRAJEmSJEmSFEAkSZIkSZIUQCRJkiRJkhRAJEmSJEmSFEAkSZIkSZIUQCRJkiRJkhRAJEmSJEmSFEAkSZIkSZIUQEmSJEmSJBVASZIkSZIkFUBJkiRJkiQVQEmSJEmSJBVASZIkSZIkFUBJkiRJkiQVQEmSJEmSJBVASZIkSZIkFUBJkiRJkiQVQEmSJEmSJBVASZIkSZIkFUBJkiRJkiQVQEmSJEmSJBVASZIkSZIkFUBJkiRJkiQVQEmSJEmSJBVASZIkSZIkFUBJkiRJkiQVQEmSJEmSJBVASZIkSZIkFUBJkiRJkiQVQEmSJEmSJBVASZIkSZIkFUBJkiRJkiQVQEmSJEmSJBVASZIkSZIkFUBJkiRJkiQVQEmSJEmSJBVASZIkSZIkFUBJkiRJkiQVQEmSJEmSJBVASZIkSZIkFUBJkiRJkiQVQEmSJEmSJBVASZIkSZIkFUBJkiRJkiQVQEmSJEmSJBVASZIkSZIkFUBJkiRJkiQVQEmSJEmSJBVASZIkSZIkFUBJkiRJkiQVQEmSJEmSJBVASZIkSZIkFUBJkiRJkiQVQEmSJEmSJBVASZIkSZIkFUBJkiRJkiQVQEmSJEmSJBVASZIkSZIkFUBt27Zt27YVQG3btm3bthVAbdu2bdu2FUBt27Zt27YVQG3btm3bthVAbdu2bdu2FUBt27Zt27YVQG3btm3bthVAbdu2bdu2FUBt27Zt27YVQG3btm3bthVAbdu2bdu2FUBt27Zt27YVQG3btm3bthVAbdu2bdu2FUBt27Zt27YVQG3btm3bthVAbdu2bdu2FUBt27Zt27YVQG3btm3bthVAbdu2bdu2FUBt27Zt27YVQG3btm3bthVAbdu2bdu2FUBt27Zt27YVQG3btm3bthVAbdu2bdu2FUBt27Zt27YVQG3btm3bthVAbdu2bdu2FUBt27Zt27YVQG3btm3bthVAbdu2bdu2FUBt27Zt27YVQG3btm3bthVAbdu2bdu2FUBt27Zt27YVQG3btm3bthVAbdu2bdu2FUBt27Zt27YVQG3btm3bthVAbdu2bdu2FUBt27Zt27YVQG3btm3bthVAbdu2bdu2FUBt27Zt27YVQG3btm3bthVAbdu2bdu2FUBt27Zt27YVQG3btm3bthVAkiRJkiRJFkCSJEmSJEkWQJIkSZIkSRZAkiRJkiRJFkCSJEmSJEkWQJIkSZIkSRZAkiRJkiRJFkCSJEmSJEkWQJIkSZIkSRZAkiRJkiRJFkCSJEmSJEkWQJIkSZIkSRZAkiRJkiRJFkCSJEmSJEkWQJIkSZIkSRZAkiRJkiRJFkCSJEmSJEkWQJIkSZIkSRZAkiRJkiRJFkCSJEmSJEkWQJIkSZIkSRZAkiRJkiRJFkCSJEmSJEkWQJIkSZIkSRZAkiRJkiRJFkCSJEmSJEkWQJIkSZIkSRZAkiRJkiRJFkCSJEmSJEkWQJIkSZIkSRZAkiRJkiRJFkCSJEmSJEkWQJIkSZIkSRZAkiRJkiRJFkCSJEmSJEkWQJIkSZIkSRZAkiRJkiRJFkCSJEmSJEkWQJIkSZIkSRZAkiRJkiRJFkCSJEmSJEkWQJIkSZIkSRZAkiRJkiRJFkCSJEmSJEkWQJIkSZIkSRZAkiRJkiRJFkCSJEmSJEkWQJIkSZIkSRZAkiRJkiRJFkCSJEmSJEkWQLZt27Zt2xZAtm3btm3bFkC2bdu2bdsWQLZt27Zt2xZAtm3btm3bFkC2bdu2bdsWQLZt27Zt2xZAtm3btm3bFkC2bdu2bdsWQLZt27Zt2xZAtm3btm3bFkC2bdu2bdsWQLZt27Zt2xZAtm3btm3bFkC2bdu2bdsWQLZt27Zt2xZAtm3btm3bFkC2bdu2bdsWQLZt27Zt2xZAtm3btm3bFkC2bdu2bdsWQLZt27Zt2xZAtm3btm3bFkC2bdu2bdsWQLZt27Zt2xZAtm3btm3bFkC2bdu2bdsWQLZt27Zt2xZAtm3btm3bFkC2bdu2bdsWQLZt27Zt2xZAtm3btm3bFkC2bdu2bdsWQLZt27Zt2xZAtm3btm3bFkC2bdu2bdsWQLZt27Zt2xZAtm3btm3bFkC2bdu2bdsWQLZt27Zt2xZAtm3btm3bFkC2bdu2bdsWQLZt27Zt2xZAtm3btm3bFkC2bdu2bdsWQLZt27Zt2xZAtm3btm3bFkC2bdu2bdsWQLZt27Zt2xZAtm3btm3bFkDbtm3btm0XQNu2bdu2bRdA27Zt27ZtF0Dbtm3btm0XQNu2bdu2bRdA27Zt27ZtF0Dbtm3btm0XQNu2bdu2bRdA27Zt27ZtF0Dbtm3btm0XQNu2bdu2bRdA27Zt27ZtF0Dbtm3btm0XQNu2bdu2bRdA27Zt27ZtF0Dbtm3btm0XQNu2bdu2bRdA27Zt27ZtF0Dbtm3btm0XQNu2bdu2bRdA27Zt27ZtF0Dbtm3btm0XQNu2bdu2bRdA27Zt27ZtF0Dbtm3btm0XQNu2bdu2bRdA27Zt27ZtF0Dbtm3btm0XQNu2bdu2bRdA27Zt27ZtF0Dbtm3btm0XQNu2bdu2bRdA27Zt27ZtF0Dbtm3btm0XQNu2bdu2bRdA27Zt27ZtF0Dbtm3btm0XQNu2bdu2bRdA27Zt27ZtF0Dbtm3btm0XQNu2bdu2bRdA27Zt27ZtF0Dbtm3btm0XQNu2bdu2bRdA27Zt27ZtF0Dbtm3btm0XQNu2bdu2bRdA27Zt27ZtF0Dbtm3btm0XQNu2bdu2bRdAAAAAAAAAGEAAAAAAAAAYQAAAAAAAABhAAAAAAAAAGEAAAAAAAAAYQAAAAAAAABhAAAAAAAAAGEAAAAAAAAAYQAAAAAAAABhAAAAAAAAAGEAAAAAAAAAYQAAAAAAAABhAAAAAAAAAGEAAAAAAAAAYQAAAAAAAABhAAAAAAAAAGEAAAAAAAAAYQAAAAAAAABhAAAAAAAAAGEAAAAAAAAAYQAAAAAAAABhAAAAAAAAAGEAAAAAAAAAYQAAAAAAAABhAAAAAAAAAGEAAAAAAAAAYQAAAAAAAABhAAAAAAAAAGEAAAAAAAAAYQAAAAAAAABhAAAAAAAAAGEAAAAAAAAAYQAAAAAAAABhAAAAAAAAAGEAAAAAAAAAYQAAAAAAAABhAAAAAAAAAGEAAAAAAAAAYQAAAAAAAABhAAAAAAAAAGEAAAAAAAAAYQAAAAAAAABhAAAAAAAAAGEAAAAAAAAAYQAAAAAAAABhAAAAAAAAAGEAAAAAAAAAYQAAAAAAAABhAAAAAAAAAGEAAAAAAAAAYQCRJkiRJkhhAJEmSJEmSGEAkSZIkSZIYQCRJkiRJkhhAJEmSJEmSGEAkSZIkSZIYQCRJkiRJkhhAJEmSJEmSGEAkSZIkSZIYQCRJkiRJkhhAJEmSJEmSGEAkSZIkSZIYQCRJkiRJkhhAJEmSJEmSGEAkSZIkSZIYQCRJkiRJkhhAJEmSJEmSGEAkSZIkSZIYQCRJkiRJkhhAJEmSJEmSGEAkSZIkSZIYQCRJkiRJkhhAJEmSJEmSGEAkSZIkSZIYQCRJkiRJkhhAJEmSJEmSGEAkSZIkSZIYQCRJkiRJkhhAJEmSJEmSGEAkSZIkSZIYQCRJkiRJkhhAJEmSJEmSGEAkSZIkSZIYQCRJkiRJkhhAJEmSJEmSGEAkSZIkSZIYQCRJkiRJkhhAJEmSJEmSGEAkSZIkSZIYQCRJkiRJkhhAJEmSJEmSGEAkSZIkSZIYQCRJkiRJkhhAJEmSJEmSGEAkSZIkSZIYQCRJkiRJkhhAJEmSJEmSGEAkSZIkSZIYQCRJkiRJkhhAJEmSJEmSGEBJkiRJkiQZQEmSJEmSJBlASZIkSZIkGUBJkiRJkiQZQEmSJEmSJBlASZIkSZIkGUBJkiRJkiQZQEmSJEmSJBlASZIkSZIkGUBJkiRJkiQZQEmSJEmSJBlASZIkSZIkGUBJkiRJkiQZQEmSJEmSJBlASZIkSZIkGUBJkiRJkiQZQEmSJEmSJBlASZIkSZIkGUBJkiRJkiQZQEmSJEmSJBlASZIkSZIkGUBJkiRJkiQZQEmSJEmSJBlASZIkSZIkGUBJkiRJkiQZQEmSJEmSJBlASZIkSZIkGUBJkiRJkiQZQEmSJEmSJBlASZIkSZIkGUBJkiRJkiQZQEmSJEmSJBlASZIkSZIkGUBJkiRJkiQZQEmSJEmSJBlASZIkSZIkGUBJkiRJkiQZQEmSJEmSJBlASZIkSZIkGUBJkiRJkiQZQEmSJEmSJBlASZIkSZIkGUBJkiRJkiQZQEmSJEmSJBlASZIkSZIkGUBJkiRJkiQZQEmSJEmSJBlASZIkSZIkGUBJkiRJkiQZQEmSJEmSJBlAbdu2bdu2GUBt27Zt27YZQG3btm3bthlAbdu2bdu2GUBt27Zt27YZQG3btm3bthlAbdu2bdu2GUBt27Zt27YZQG3btm3bthlAbdu2bdu2GUBt27Zt27YZQG3btm3bthlAbdu2bdu2GUBt27Zt27YZQG3btm3bthlAbdu2bdu2GUBt27Zt27YZQG3btm3bthlAbdu2bdu2GUBt27Zt27YZQG3btm3bthlAbdu2bdu2GUBt27Zt27YZQG3btm3bthlAbdu2bdu2GUBt27Zt27YZQG3btm3bthlAbdu2bdu2GUBt27Zt27YZQG3btm3bthlAbdu2bdu2GUBt27Zt27YZQG3btm3bthlAbdu2bdu2GUBt27Zt27YZQG3btm3bthlAbdu2bdu2GUBt27Zt27YZQG3btm3bthlAbdu2bdu2GUBt27Zt27YZQG3btm3bthlAbdu2bdu2GUBt27Zt27YZQG3btm3bthlAbdu2bdu2GUBt27Zt27YZQG3btm3bthlAbdu2bdu2GUBt27Zt27YZQJIkSZIkSRpAkiRJkiRJGkCSJEmSJEkaQJIkSZIkSRpAkiRJkiRJGkCSJEmSJEkaQJIkSZIkSRpAkiRJkiRJGkCSJEmSJEkaQJIkSZIkSRpAkiRJkiRJGkCSJEmSJEkaQJIkSZIkSRpAkiRJkiRJGkCSJEmSJEkaQJIkSZIkSRpAkiRJkiRJGkCSJEmSJEkaQJIkSZIkSRpAkiRJkiRJGkCSJEmSJEkaQJIkSZIkSRpAkiRJkiRJGkCSJEmSJEkaQJIkSZIkSRpAkiRJkiRJGkCSJEmSJEkaQJIkSZIkSRpAkiRJkiRJGkCSJEmSJEkaQJIkSZIkSRpAkiRJkiRJGkCSJEmSJEkaQJIkSZIkSRpAkiRJkiRJGkCSJEmSJEkaQJIkSZIkSRpAkiRJkiRJGkCSJEmSJEkaQJIkSZIkSRpAkiRJkiRJGkCSJEmSJEkaQJIkSZIkSRpAkiRJkiRJGkCSJEmSJEkaQJIkSZIkSRpAkiRJkiRJGkCSJEmSJEkaQJIkSZIkSRpAkiRJkiRJGkC2bdu2bdsaQLZt27Zt2xpAtm3btm3bGkC2bdu2bdsaQLZt27Zt2xpAtm3btm3bGkC2bdu2bdsaQLZt27Zt2xpAtm3btm3bGkC2bdu2bdsaQLZt27Zt2xpAtm3btm3bGkC2bdu2bdsaQLZt27Zt2xpAtm3btm3bGkC2bdu2bdsaQLZt27Zt2xpAtm3btm3bGkC2bdu2bdsaQLZt27Zt2xpAtm3btm3bGkC2bdu2bdsaQLZt27Zt2xpAtm3btm3bGkC2bdu2bdsaQLZt27Zt2xpAtm3btm3bGkC2bdu2bdsaQLZt27Zt2xpAtm3btm3bGkC2bdu2bdsaQLZt27Zt2xpAtm3btm3bGkC2bdu2bdsaQLZt27Zt2xpAtm3btm3bGkC2bdu2bdsaQLZt27Zt2xpAtm3btm3bGkC2bdu2bdsaQLZt27Zt2xpAtm3btm3bGkC2bdu2bdsaQLZt27Zt2xpAtm3btm3bGkC2bdu2bdsaQLZt27Zt2xpAtm3btm3bGkC2bdu2bdsaQLZt27Zt2xpA27Zt27ZtG0Dbtm3btm0bQNu2bdu2bRtA27Zt27ZtG0Dbtm3btm0bQNu2bdu2bRtA27Zt27ZtG0Dbtm3btm0bQNu2bdu2bRtA27Zt27ZtG0Dbtm3btm0bQNu2bdu2bRtA27Zt27ZtG0Dbtm3btm0bQNu2bdu2bRtA27Zt27ZtG0Dbtm3btm0bQNu2bdu2bRtA27Zt27ZtG0Dbtm3btm0bQNu2bdu2bRtA27Zt27ZtG0Dbtm3btm0bQNu2bdu2bRtA27Zt27ZtG0Dbtm3btm0bQNu2bdu2bRtA27Zt27ZtG0Dbtm3btm0bQNu2bdu2bRtA27Zt27ZtG0Dbtm3btm0bQNu2bdu2bRtA27Zt27ZtG0Dbtm3btm0bQNu2bdu2bRtA27Zt27ZtG0Dbtm3btm0bQNu2bdu2bRtA27Zt27ZtG0Dbtm3btm0bQNu2bdu2bRtA27Zt27ZtG0Dbtm3btm0bQNu2bdu2bRtA27Zt27ZtG0Dbtm3btm0bQNu2bdu2bRtA27Zt27ZtG0Dbtm3btm0bQAAAAAAAABxAAAAAAAAAHEAAAAAAAAAcQAAAAAAAABxAAAAAAAAAHEAAAAAAAAAcQAAAAAAAABxAAAAAAAAAHEAAAAAAAAAcQAAAAAAAABxAAAAAAAAAHEAAAAAAAAAcQAAAAAAAABxAAAAAAAAAHEAAAAAAAAAcQAAAAAAAABxAAAAAAAAAHEAAAAAAAAAcQAAAAAAAABxAAAAAAAAAHEAAAAAAAAAcQAAAAAAAABxAAAAAAAAAHEAAAAAAAAAcQAAAAAAAABxAAAAAAAAAHEAAAAAAAAAcQAAAAAAAABxAAAAAAAAAHEAAAAAAAAAcQAAAAAAAABxAAAAAAAAAHEAAAAAAAAAcQAAAAAAAABxAAAAAAAAAHEAAAAAAAAAcQAAAAAAAABxAAAAAAAAAHEAAAAAAAAAcQAAAAAAAABxAAAAAAAAAHEAAAAAAAAAcQAAAAAAAABxAAAAAAAAAHEAAAAAAAAAcQAAAAAAAABxAAAAAAAAAHEAAAAAAAAAcQAAAAAAAABxAAAAAAAAAHEA=",
          "shape": "50, 50"
         },
         "type": "surface"
        }
       ],
       "layout": {
        "legend": {
         "itemsizing": "constant",
         "tracegroupgap": 0
        },
        "margin": {
         "t": 60
        },
        "scene": {
         "domain": {
          "x": [
           0.0,
           1.0
          ],
          "y": [
           0.0,
           1.0
          ]
         },
         "xaxis": {
          "showgrid": false,
          "title": {
           "text": "V00MBMSFMLOAD"
          }
         },
         "yaxis": {
          "showgrid": false,
          "title": {
           "text": "V00MBMNFMLOAD"
          }
         },
         "zaxis": {
          "showgrid": false,
          "title": {
           "text": "V00MBMPFMLOAD"
          }
         }
        },
        "template": {
         "data": {
          "barpolar": [
           {
            "marker": {
             "line": {
              "color": "rgb(17,17,17)",
              "width": 0.5
             },
             "pattern": {
              "fillmode": "overlay",
              "size": 10,
              "solidity": 0.2
             }
            },
            "type": "barpolar"
           }
          ],
          "bar": [
           {
            "error_x": {
             "color": "#f2f5fa"
            },
            "error_y": {
             "color": "#f2f5fa"
            },
            "marker": {
             "line": {
              "color": "rgb(17,17,17)",
              "width": 0.5
             },
             "pattern": {
              "fillmode": "overlay",
              "size": 10,
              "solidity": 0.2
             }
            },
            "type": "bar"
           }
          ],
          "carpet": [
           {
            "aaxis": {
             "endlinecolor": "#A2B1C6",
             "gridcolor": "#506784",
             "linecolor": "#506784",
             "minorgridcolor": "#506784",
             "startlinecolor": "#A2B1C6"
            },
            "baxis": {
             "endlinecolor": "#A2B1C6",
             "gridcolor": "#506784",
             "linecolor": "#506784",
             "minorgridcolor": "#506784",
             "startlinecolor": "#A2B1C6"
            },
            "type": "carpet"
           }
          ],
          "choropleth": [
           {
            "colorbar": {
             "outlinewidth": 0,
             "ticks": ""
            },
            "type": "choropleth"
           }
          ],
          "contourcarpet": [
           {
            "colorbar": {
             "outlinewidth": 0,
             "ticks": ""
            },
            "type": "contourcarpet"
           }
          ],
          "contour": [
           {
            "colorbar": {
             "outlinewidth": 0,
             "ticks": ""
            },
            "colorscale": [
             [
              0.0,
              "#0d0887"
             ],
             [
              0.1111111111111111,
              "#46039f"
             ],
             [
              0.2222222222222222,
              "#7201a8"
             ],
             [
              0.3333333333333333,
              "#9c179e"
             ],
             [
              0.4444444444444444,
              "#bd3786"
             ],
             [
              0.5555555555555556,
              "#d8576b"
             ],
             [
              0.6666666666666666,
              "#ed7953"
             ],
             [
              0.7777777777777778,
              "#fb9f3a"
             ],
             [
              0.8888888888888888,
              "#fdca26"
             ],
             [
              1.0,
              "#f0f921"
             ]
            ],
            "type": "contour"
           }
          ],
          "heatmap": [
           {
            "colorbar": {
             "outlinewidth": 0,
             "ticks": ""
            },
            "colorscale": [
             [
              0.0,
              "#0d0887"
             ],
             [
              0.1111111111111111,
              "#46039f"
             ],
             [
              0.2222222222222222,
              "#7201a8"
             ],
             [
              0.3333333333333333,
              "#9c179e"
             ],
             [
              0.4444444444444444,
              "#bd3786"
             ],
             [
              0.5555555555555556,
              "#d8576b"
             ],
             [
              0.6666666666666666,
              "#ed7953"
             ],
             [
              0.7777777777777778,
              "#fb9f3a"
             ],
             [
              0.8888888888888888,
              "#fdca26"
             ],
             [
              1.0,
              "#f0f921"
             ]
            ],
            "type": "heatmap"
           }
          ],
          "histogram2dcontour": [
           {
            "colorbar": {
             "outlinewidth": 0,
             "ticks": ""
            },
            "colorscale": [
             [
              0.0,
              "#0d0887"
             ],
             [
              0.1111111111111111,
              "#46039f"
             ],
             [
              0.2222222222222222,
              "#7201a8"
             ],
             [
              0.3333333333333333,
              "#9c179e"
             ],
             [
              0.4444444444444444,
              "#bd3786"
             ],
             [
              0.5555555555555556,
              "#d8576b"
             ],
             [
              0.6666666666666666,
              "#ed7953"
             ],
             [
              0.7777777777777778,
              "#fb9f3a"
             ],
             [
              0.8888888888888888,
              "#fdca26"
             ],
             [
              1.0,
              "#f0f921"
             ]
            ],
            "type": "histogram2dcontour"
           }
          ],
          "histogram2d": [
           {
            "colorbar": {
             "outlinewidth": 0,
             "ticks": ""
            },
            "colorscale": [
             [
              0.0,
              "#0d0887"
             ],
             [
              0.1111111111111111,
              "#46039f"
             ],
             [
              0.2222222222222222,
              "#7201a8"
             ],
             [
              0.3333333333333333,
              "#9c179e"
             ],
             [
              0.4444444444444444,
              "#bd3786"
             ],
             [
              0.5555555555555556,
              "#d8576b"
             ],
             [
              0.6666666666666666,
              "#ed7953"
             ],
             [
              0.7777777777777778,
              "#fb9f3a"
             ],
             [
              0.8888888888888888,
              "#fdca26"
             ],
             [
              1.0,
              "#f0f921"
             ]
            ],
            "type": "histogram2d"
           }
          ],
          "histogram": [
           {
            "marker": {
             "pattern": {
              "fillmode": "overlay",
              "size": 10,
              "solidity": 0.2
             }
            },
            "type": "histogram"
           }
          ],
          "mesh3d": [
           {
            "colorbar": {
             "outlinewidth": 0,
             "ticks": ""
            },
            "type": "mesh3d"
           }
          ],
          "parcoords": [
           {
            "line": {
             "colorbar": {
              "outlinewidth": 0,
              "ticks": ""
             }
            },
            "type": "parcoords"
           }
          ],
          "pie": [
           {
            "automargin": true,
            "type": "pie"
           }
          ],
          "scatter3d": [
           {
            "line": {
             "colorbar": {
              "outlinewidth": 0,
              "ticks": ""
             }
            },
            "marker": {
             "colorbar": {
              "outlinewidth": 0,
              "ticks": ""
             }
            },
            "type": "scatter3d"
           }
          ],
          "scattercarpet": [
           {
            "marker": {
             "colorbar": {
              "outlinewidth": 0,
              "ticks": ""
             }
            },
            "type": "scattercarpet"
           }
          ],
          "scattergeo": [
           {
            "marker": {
             "colorbar": {
              "outlinewidth": 0,
              "ticks": ""
             }
            },
            "type": "scattergeo"
           }
          ],
          "scattergl": [
           {
            "marker": {
             "line": {
              "color": "#283442"
             }
            },
            "type": "scattergl"
           }
          ],
          "scattermapbox": [
           {
            "marker": {
             "colorbar": {
              "outlinewidth": 0,
              "ticks": ""
             }
            },
            "type": "scattermapbox"
           }
          ],
          "scattermap": [
           {
            "marker": {
             "colorbar": {
              "outlinewidth": 0,
              "ticks": ""
             }
            },
            "type": "scattermap"
           }
          ],
          "scatterpolargl": [
           {
            "marker": {
             "colorbar": {
              "outlinewidth": 0,
              "ticks": ""
             }
            },
            "type": "scatterpolargl"
           }
          ],
          "scatterpolar": [
           {
            "marker": {
             "colorbar": {
              "outlinewidth": 0,
              "ticks": ""
             }
            },
            "type": "scatterpolar"
           }
          ],
          "scatter": [
           {
            "marker": {
             "line": {
              "color": "#283442"
             }
            },
            "type": "scatter"
           }
          ],
          "scatterternary": [
           {
            "marker": {
             "colorbar": {
              "outlinewidth": 0,
              "ticks": ""
             }
            },
            "type": "scatterternary"
           }
          ],
          "surface": [
           {
            "colorbar": {
             "outlinewidth": 0,
             "ticks": ""
            },
            "colorscale": [
             [
              0.0,
              "#0d0887"
             ],
             [
              0.1111111111111111,
              "#46039f"
             ],
             [
              0.2222222222222222,
              "#7201a8"
             ],
             [
              0.3333333333333333,
              "#9c179e"
             ],
             [
              0.4444444444444444,
              "#bd3786"
             ],
             [
              0.5555555555555556,
              "#d8576b"
             ],
             [
              0.6666666666666666,
              "#ed7953"
             ],
             [
              0.7777777777777778,
              "#fb9f3a"
             ],
             [
              0.8888888888888888,
              "#fdca26"
             ],
             [
              1.0,
              "#f0f921"
             ]
            ],
            "type": "surface"
           }
          ],
          "table": [
           {
            "cells": {
             "fill": {
              "color": "#506784"
             },
             "line": {
              "color": "rgb(17,17,17)"
             }
            },
            "header": {
             "fill": {
              "color": "#2a3f5f"
             },
             "line": {
              "color": "rgb(17,17,17)"
             }
            },
            "type": "table"
           }
          ]
         },
         "layout": {
          "annotationdefaults": {
           "arrowcolor": "#f2f5fa",
           "arrowhead": 0,
           "arrowwidth": 1
          },
          "autotypenumbers": "strict",
          "coloraxis": {
           "colorbar": {
            "outlinewidth": 0,
            "ticks": ""
           }
          },
          "colorscale": {
           "diverging": [
            [
             0,
             "#8e0152"
            ],
            [
             0.1,
             "#c51b7d"
            ],
            [
             0.2,
             "#de77ae"
            ],
            [
             0.3,
             "#f1b6da"
            ],
            [
             0.4,
             "#fde0ef"
            ],
            [
             0.5,
             "#f7f7f7"
            ],
            [
             0.6,
             "#e6f5d0"
            ],
            [
             0.7,
             "#b8e186"
            ],
            [
             0.8,
             "#7fbc41"
            ],
            [
             0.9,
             "#4d9221"
            ],
            [
             1,
             "#276419"
            ]
           ],
           "sequential": [
            [
             0.0,
             "#0d0887"
            ],
            [
             0.1111111111111111,
             "#46039f"
            ],
            [
             0.2222222222222222,
             "#7201a8"
            ],
            [
             0.3333333333333333,
             "#9c179e"
            ],
            [
             0.4444444444444444,
             "#bd3786"
            ],
            [
             0.5555555555555556,
             "#d8576b"
            ],
            [
             0.6666666666666666,
             "#ed7953"
            ],
            [
             0.7777777777777778,
             "#fb9f3a"
            ],
            [
             0.8888888888888888,
             "#fdca26"
            ],
            [
             1.0,
             "#f0f921"
            ]
           ],
           "sequentialminus": [
            [
             0.0,
             "#0d0887"
            ],
            [
             0.1111111111111111,
             "#46039f"
            ],
            [
             0.2222222222222222,
             "#7201a8"
            ],
            [
             0.3333333333333333,
             "#9c179e"
            ],
            [
             0.4444444444444444,
             "#bd3786"
            ],
            [
             0.5555555555555556,
             "#d8576b"
            ],
            [
             0.6666666666666666,
             "#ed7953"
            ],
            [
             0.7777777777777778,
             "#fb9f3a"
            ],
            [
             0.8888888888888888,
             "#fdca26"
            ],
            [
             1.0,
             "#f0f921"
            ]
           ]
          },
          "colorway": [
           "#636efa",
           "#EF553B",
           "#00cc96",
           "#ab63fa",
           "#FFA15A",
           "#19d3f3",
           "#FF6692",
           "#B6E880",
           "#FF97FF",
           "#FECB52"
          ],
          "font": {
           "color": "#f2f5fa"
          },
          "geo": {
           "bgcolor": "rgb(17,17,17)",
           "lakecolor": "rgb(17,17,17)",
           "landcolor": "rgb(17,17,17)",
           "showlakes": true,
           "showland": true,
           "subunitcolor": "#506784"
          },
          "hoverlabel": {
           "align": "left"
          },
          "hovermode": "closest",
          "mapbox": {
           "style": "dark"
          },
          "paper_bgcolor": "rgb(17,17,17)",
          "plot_bgcolor": "rgb(17,17,17)",
          "polar": {
           "angularaxis": {
            "gridcolor": "#506784",
            "linecolor": "#506784",
            "ticks": ""
           },
           "bgcolor": "rgb(17,17,17)",
           "radialaxis": {
            "gridcolor": "#506784",
            "linecolor": "#506784",
            "ticks": ""
           }
          },
          "scene": {
           "xaxis": {
            "backgroundcolor": "rgb(17,17,17)",
            "gridcolor": "#506784",
            "gridwidth": 2,
            "linecolor": "#506784",
            "showbackground": true,
            "ticks": "",
            "zerolinecolor": "#C8D4E3"
           },
           "yaxis": {
            "backgroundcolor": "rgb(17,17,17)",
            "gridcolor": "#506784",
            "gridwidth": 2,
            "linecolor": "#506784",
            "showbackground": true,
            "ticks": "",
            "zerolinecolor": "#C8D4E3"
           },
           "zaxis": {
            "backgroundcolor": "rgb(17,17,17)",
            "gridcolor": "#506784",
            "gridwidth": 2,
            "linecolor": "#506784",
            "showbackground": true,
            "ticks": "",
            "zerolinecolor": "#C8D4E3"
           }
          },
          "shapedefaults": {
           "line": {
            "color": "#f2f5fa"
           }
          },
          "sliderdefaults": {
           "bgcolor": "#C8D4E3",
           "bordercolor": "rgb(17,17,17)",
           "borderwidth": 1,
           "tickwidth": 0
          },
          "ternary": {
           "aaxis": {
            "gridcolor": "#506784",
            "linecolor": "#506784",
            "ticks": ""
           },
           "baxis": {
            "gridcolor": "#506784",
            "linecolor": "#506784",
            "ticks": ""
           },
           "bgcolor": "rgb(17,17,17)",
           "caxis": {
            "gridcolor": "#506784",
            "linecolor": "#506784",
            "ticks": ""
           }
          },
          "title": {
           "x": 0.05
          },
          "updatemenudefaults": {
           "bgcolor": "#506784",
           "borderwidth": 0
          },
          "xaxis": {
           "automargin": true,
           "gridcolor": "#283442",
           "linecolor": "#506784",
           "ticks": "",
           "title": {
            "standoff": 15
           },
           "zerolinecolor": "#283442",
           "zerolinewidth": 2
          },
          "yaxis": {
           "automargin": true,
           "gridcolor": "#283442",
           "linecolor": "#506784",
           "ticks": "",
           "title": {
            "standoff": 15
           },
           "zerolinecolor": "#283442",
           "zerolinewidth": 2
          }
         }
        }
       },
       "config": {
        "plotlyServerURL": "https://plot.ly"
       }
      }
     },
     "metadata": {},
     "output_type": "display_data"
    }
   ],
   "execution_count": 6
  },
  {
   "metadata": {
    "ExecuteTime": {
     "end_time": "2025-08-02T21:25:49.353399Z",
     "start_time": "2025-08-02T21:25:49.351586Z"
    }
   },
   "cell_type": "code",
   "source": "",
   "id": "3a32ec51538cb918",
   "outputs": [],
   "execution_count": null
  }
 ],
 "metadata": {
  "kernelspec": {
   "display_name": "Python 3 (ipykernel)",
   "language": "python",
   "name": "python3"
  },
  "language_info": {
   "codemirror_mode": {
    "name": "ipython",
    "version": 3
   },
   "file_extension": ".py",
   "mimetype": "text/x-python",
   "name": "python",
   "nbconvert_exporter": "python",
   "pygments_lexer": "ipython3",
   "version": "3.13.5"
  }
 },
 "nbformat": 4,
 "nbformat_minor": 5
}
